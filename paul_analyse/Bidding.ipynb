{
 "cells": [
  {
   "cell_type": "code",
   "execution_count": 1,
   "metadata": {},
   "outputs": [],
   "source": [
    "import pandas as pd\n",
    "import numpy as np\n",
    "import plotly.express as px"
   ]
  },
  {
   "cell_type": "code",
   "execution_count": 11,
   "metadata": {},
   "outputs": [],
   "source": [
    "df_bbidding = pd.read_csv('bidding_training.csv')\n",
    "df_bbidding[\"day_ahead_price\"] = df_bbidding[\"price_x\"].rename(\"day_ahead_price\")\n",
    "df_bbidding[\"market_price\"] = df_bbidding[\"price_y\"].rename(\"market_price\")\n",
    "# df_day_ahead = pd.read_csv('D:/Users/paulh/Desktop/Domäneprojekt2/Energy_production_price_prediction/basic_files/day_ahead_price.csv')\n",
    "# df_imbalance = pd.read_csv('D:/Users/paulh/Desktop/Domäneprojekt2/Energy_production_price_prediction/basic_files/imbalance_price.csv')"
   ]
  },
  {
   "cell_type": "code",
   "execution_count": 13,
   "metadata": {},
   "outputs": [
    {
     "data": {
      "text/plain": [
       "0        530.112\n",
       "1        529.278\n",
       "2        530.603\n",
       "3        530.965\n",
       "4        530.674\n",
       "          ...   \n",
       "42280     23.648\n",
       "42281     10.865\n",
       "42282     10.505\n",
       "42283      4.486\n",
       "42284      6.580\n",
       "Name: Target_MW, Length: 42285, dtype: float64"
      ]
     },
     "execution_count": 13,
     "metadata": {},
     "output_type": "execute_result"
    }
   ],
   "source": [
    "df_bbidding.Target_MW"
   ]
  },
  {
   "cell_type": "code",
   "execution_count": 12,
   "metadata": {},
   "outputs": [
    {
     "data": {
      "text/plain": [
       "['timestamp_utc',\n",
       " 'Mean_SolarRadiation_dwd',\n",
       " 'SolarDownwardRadiation_RW_dwd_Mean_30min',\n",
       " 'SolarDownwardRadiation_RW_dwd_Mean_1h',\n",
       " 'SolarDownwardRadiation_dwd_Mean_Lag_30min',\n",
       " 'SolarDownwardRadiation_dwd_Mean_Lag_1h',\n",
       " 'SolarDownwardRadiation_dwd_Mean_Lag_24h',\n",
       " 'Panel_Efficiency_dwd_mean',\n",
       " 'Panel_Efficiency_dwd_std',\n",
       " 'Panel_Temperature_dwd_mean',\n",
       " 'Panel_Temperature_dwd_std',\n",
       " 'Std_Temperature_dwd',\n",
       " 'Mean_Temperature_dwd',\n",
       " 'cos_hour',\n",
       " 'cos_day',\n",
       " 'solar_mw_lag_48h',\n",
       " 'capacity_mwp_lag_48h',\n",
       " 'Target_Capacity_MWP%_lag_48h',\n",
       " 'Target_Capacity_MWP%',\n",
       " 'Solar_MWh_credit',\n",
       " 'reference_time',\n",
       " 'valid_time',\n",
       " 'RelativeHumidity_dwd',\n",
       " 'Temperature_dwd',\n",
       " 'WindDirection_dwd',\n",
       " 'WindDirection:100_dwd',\n",
       " 'WindSpeed^3_dwd',\n",
       " 'WindSpeed:100^3_dwd',\n",
       " 'WindSpeed_dwd',\n",
       " 'WindSpeed:100_dwd',\n",
       " 'WindSpeed^3:100_dwd',\n",
       " 'RelativeHumidity_ncep',\n",
       " 'Temperature_ncep',\n",
       " 'WindDirection_ncep',\n",
       " 'WindDirection:100_ncep',\n",
       " 'WindSpeed^3_ncep',\n",
       " 'WindSpeed:100^3_ncep',\n",
       " 'WindSpeed_ncep',\n",
       " 'WindSpeed:100_ncep',\n",
       " 'WindSpeed^3:100_ncep',\n",
       " 'dtm',\n",
       " 'MIP',\n",
       " 'Wind_MW',\n",
       " 'SS_Price',\n",
       " 'boa_MWh',\n",
       " 'DA_Price',\n",
       " 'Wind_MWh_credit',\n",
       " 'Target_MW',\n",
       " '9',\n",
       " '1',\n",
       " '2',\n",
       " '3',\n",
       " '4',\n",
       " '5',\n",
       " '6',\n",
       " '7',\n",
       " '8',\n",
       " 'Temperature',\n",
       " 'Temperature_K',\n",
       " 'RelativeHumidity',\n",
       " 'AirDensity',\n",
       " 'WindSpeed',\n",
       " 'WindSpeed:100',\n",
       " 'WindSpeed_full_avg',\n",
       " 'WindPower_full',\n",
       " 'UsableWindPower_full',\n",
       " 'PowerOutput_full',\n",
       " 'Temperature_avg',\n",
       " 'RelativeHumidity_avg',\n",
       " 'WindSpeed:100_dwd_lag1',\n",
       " 'WindSpeed:100_dwd_lag2',\n",
       " 'WindSpeed:100_dwd_lag3',\n",
       " 'UsableWindPower_opt',\n",
       " 'settlement_date_x',\n",
       " 'settlement_period_x',\n",
       " 'price_x',\n",
       " 'settlement_date_y',\n",
       " 'settlement_period_y',\n",
       " 'imbalance_price',\n",
       " 'settlement_date',\n",
       " 'settlement_period',\n",
       " 'data_provider',\n",
       " 'price_y',\n",
       " 'volume',\n",
       " 'day_ahead_price',\n",
       " 'market_price']"
      ]
     },
     "execution_count": 12,
     "metadata": {},
     "output_type": "execute_result"
    }
   ],
   "source": [
    "df_bbidding.columns.to_list()"
   ]
  },
  {
   "cell_type": "code",
   "execution_count": 14,
   "metadata": {},
   "outputs": [],
   "source": [
    "df_bbidding[\"Revenue_50\"] = df_bbidding[\"day_ahead_price\"] * df_bbidding[\"5\"]+(df_bbidding[\"Target_MW\"]-df_bbidding[\"5\"])*(df_bbidding[\"imbalance_price\"]-0.07*(df_bbidding[\"Target_MW\"]-df_bbidding[\"5\"]))"
   ]
  },
  {
   "cell_type": "code",
   "execution_count": 16,
   "metadata": {},
   "outputs": [
    {
     "data": {
      "text/plain": [
       "25437.310022730526"
      ]
     },
     "execution_count": 16,
     "metadata": {},
     "output_type": "execute_result"
    }
   ],
   "source": [
    "df_bbidding.Revenue_50.mean()"
   ]
  },
  {
   "cell_type": "code",
   "execution_count": null,
   "metadata": {},
   "outputs": [],
   "source": []
  },
  {
   "cell_type": "markdown",
   "metadata": {},
   "source": [
    "50% quantil gibt historisch 25437.310022730526 pro periode"
   ]
  },
  {
   "cell_type": "code",
   "execution_count": 18,
   "metadata": {},
   "outputs": [
    {
     "name": "stdout",
     "output_type": "stream",
     "text": [
      "                   timestamp_utc  Mean_SolarRadiation_dwd  \\\n",
      "0      2021-02-19 23:00:00+00:00                 0.000000   \n",
      "1      2021-02-19 23:30:00+00:00                 0.000000   \n",
      "2      2021-02-21 00:00:00+00:00                 0.000000   \n",
      "3      2021-02-21 00:30:00+00:00                 0.000000   \n",
      "4      2021-02-21 01:00:00+00:00                 0.000000   \n",
      "...                          ...                      ...   \n",
      "42280  2023-08-25 23:30:00+00:00                 0.009818   \n",
      "42281  2023-08-26 00:00:00+00:00                 0.021356   \n",
      "42282  2023-08-26 00:30:00+00:00                 0.012875   \n",
      "42283  2023-08-26 01:00:00+00:00                 0.004395   \n",
      "42284  2023-08-26 01:30:00+00:00                 0.025069   \n",
      "\n",
      "       SolarDownwardRadiation_RW_dwd_Mean_30min  \\\n",
      "0                                      0.000000   \n",
      "1                                      0.000000   \n",
      "2                                      0.000000   \n",
      "3                                      0.000000   \n",
      "4                                      0.000000   \n",
      "...                                         ...   \n",
      "42280                                  0.009818   \n",
      "42281                                  0.021356   \n",
      "42282                                  0.012875   \n",
      "42283                                  0.004395   \n",
      "42284                                  0.025069   \n",
      "\n",
      "       SolarDownwardRadiation_RW_dwd_Mean_1h  \\\n",
      "0                                   0.000000   \n",
      "1                                   0.000000   \n",
      "2                                   0.000000   \n",
      "3                                   0.000000   \n",
      "4                                   0.000000   \n",
      "...                                      ...   \n",
      "42280                               0.004048   \n",
      "42281                               0.015587   \n",
      "42282                               0.017116   \n",
      "42283                               0.008635   \n",
      "42284                               0.014732   \n",
      "\n",
      "       SolarDownwardRadiation_dwd_Mean_Lag_30min  \\\n",
      "0                                       0.000000   \n",
      "1                                       0.000000   \n",
      "2                                       0.000000   \n",
      "3                                       0.000000   \n",
      "4                                       0.000000   \n",
      "...                                          ...   \n",
      "42280                                  -0.001721   \n",
      "42281                                   0.009818   \n",
      "42282                                   0.021356   \n",
      "42283                                   0.012875   \n",
      "42284                                   0.004395   \n",
      "\n",
      "       SolarDownwardRadiation_dwd_Mean_Lag_1h  \\\n",
      "0                                    0.000000   \n",
      "1                                    0.000000   \n",
      "2                                    0.000000   \n",
      "3                                    0.000000   \n",
      "4                                    0.000000   \n",
      "...                                       ...   \n",
      "42280                               -0.003729   \n",
      "42281                               -0.001721   \n",
      "42282                                0.009818   \n",
      "42283                                0.021356   \n",
      "42284                                0.012875   \n",
      "\n",
      "       SolarDownwardRadiation_dwd_Mean_Lag_24h  Panel_Efficiency_dwd_mean  \\\n",
      "0                                     0.000000                   0.191314   \n",
      "1                                     0.000000                   0.191230   \n",
      "2                                     0.000000                   0.190715   \n",
      "3                                     0.000000                   0.190812   \n",
      "4                                     0.000000                   0.190909   \n",
      "...                                        ...                        ...   \n",
      "42280                                 0.004615                   0.187994   \n",
      "42281                                 0.017088                   0.188246   \n",
      "42282                                -0.000814                   0.188469   \n",
      "42283                                -0.018716                   0.188692   \n",
      "42284                                -0.006566                   0.188878   \n",
      "\n",
      "       Panel_Efficiency_dwd_std  Panel_Temperature_dwd_mean  ...  \\\n",
      "0                      0.000215                    9.285992  ...   \n",
      "1                      0.000199                    9.402743  ...   \n",
      "2                      0.000309                   10.118579  ...   \n",
      "3                      0.000289                    9.983511  ...   \n",
      "4                      0.000278                    9.848444  ...   \n",
      "...                         ...                         ...  ...   \n",
      "42280                  0.000419                   13.896639  ...   \n",
      "42281                  0.000398                   13.547243  ...   \n",
      "42282                  0.000386                   13.237374  ...   \n",
      "42283                  0.000381                   12.927505  ...   \n",
      "42284                  0.000374                   12.669561  ...   \n",
      "\n",
      "       settlement_date  settlement_period  data_provider  price_y   volume  \\\n",
      "0           2021-02-19                 47        APXMIDP    26.46   671.75   \n",
      "1           2021-02-19                 48        APXMIDP    29.81   905.45   \n",
      "2           2021-02-21                  1        APXMIDP     7.67   781.05   \n",
      "3           2021-02-21                  2        APXMIDP     9.82   694.45   \n",
      "4           2021-02-21                  3        APXMIDP    10.40   847.35   \n",
      "...                ...                ...            ...      ...      ...   \n",
      "42280       2023-08-26                  2        APXMIDP    83.91  1201.85   \n",
      "42281       2023-08-26                  3        APXMIDP    82.13  1066.95   \n",
      "42282       2023-08-26                  4        APXMIDP    78.76   997.60   \n",
      "42283       2023-08-26                  5        APXMIDP    77.47   913.25   \n",
      "42284       2023-08-26                  6        APXMIDP    77.86   954.00   \n",
      "\n",
      "       day_ahead_price  market_price    Revenue_50  optimized_trade  \\\n",
      "0                32.38         26.46   -976.628705       527.467658   \n",
      "1                32.38         29.81 -17737.088963       314.134036   \n",
      "2                17.34          7.67  -4704.355643       570.244437   \n",
      "3                17.34          9.82  -5854.627575       567.036366   \n",
      "4                14.25         10.40 -11976.742385       511.887733   \n",
      "...                ...           ...           ...              ...   \n",
      "42280            84.41         83.91   2470.283758       155.076735   \n",
      "42281            79.96         82.13   1437.703815       110.507990   \n",
      "42282            79.96         78.76   1473.689261       110.147859   \n",
      "42283            73.84         77.47    540.484310        60.414600   \n",
      "42284            73.84         77.86    677.156592        62.508282   \n",
      "\n",
      "            revenue  \n",
      "0      17165.515488  \n",
      "1      20378.073068  \n",
      "2       9310.659002  \n",
      "3       9298.013457  \n",
      "4       7586.807714  \n",
      "...             ...  \n",
      "42280   3205.270537  \n",
      "42281   1563.774329  \n",
      "42282   1534.988729  \n",
      "42283    550.206597  \n",
      "42284    704.827557  \n",
      "\n",
      "[42285 rows x 89 columns]\n"
     ]
    }
   ],
   "source": [
    "import pandas as pd\n",
    "import numpy as np\n",
    "from scipy.optimize import minimize\n",
    "\n",
    "# Define the revenue function (objective function)\n",
    "def revenue(zb, DAP, Target_MW, imbalance_price):\n",
    "    return zb * DAP + (Target_MW - zb) * (imbalance_price - 0.07 * (Target_MW - zb))\n",
    "\n",
    "# Negative revenue function (for minimization)\n",
    "def negative_revenue(zb, DAP, Target_MW, imbalance_price):\n",
    "    return -revenue(zb, DAP, Target_MW, imbalance_price)\n",
    "\n",
    "# Optimization function to compute the optimal bidding value for each row\n",
    "def optimize_bidding(row):\n",
    "    # Extract the values from the row\n",
    "    DAP = row['day_ahead_price']\n",
    "    Target_MW = row['Target_MW']\n",
    "    imbalance_price = row['imbalance_price']\n",
    "    \n",
    "    # Initial guess for zb (midpoint between 0 and Target_MW)\n",
    "    initial_zb = Target_MW / 2\n",
    "    \n",
    "    # Bounds for zb (as per KKT conditions)\n",
    "    bounds = [(0, 1800)]\n",
    "    \n",
    "    # Perform the optimization\n",
    "    result = minimize(negative_revenue, initial_zb, args=(DAP, Target_MW, imbalance_price), bounds=bounds)\n",
    "    \n",
    "    # Optimal trade value (zb)\n",
    "    return result.x[0]\n",
    "\n",
    "# Apply the optimization to each row and replace column '5' with the optimized trade value\n",
    "df_bbidding['optimized_trade'] = df_bbidding.apply(optimize_bidding, axis=1)\n",
    "\n",
    "# Now calculate the revenue using the optimized trade values\n",
    "df_bbidding['revenue'] = df_bbidding['day_ahead_price'] * df_bbidding['optimized_trade'] + \\\n",
    "                         (df_bbidding['Target_MW'] - df_bbidding['optimized_trade']) * \\\n",
    "                         (df_bbidding['imbalance_price'] - 0.07 * (df_bbidding['Target_MW'] - df_bbidding['optimized_trade']))\n",
    "\n",
    "# Display the updated DataFrame with optimized trades and corresponding revenues\n",
    "print(df_bbidding)\n"
   ]
  },
  {
   "cell_type": "markdown",
   "metadata": {},
   "source": [
    "Mit optimierung 56488.5046925057 pro periode"
   ]
  },
  {
   "cell_type": "code",
   "execution_count": 20,
   "metadata": {},
   "outputs": [
    {
     "data": {
      "text/plain": [
       "56488.5046925057"
      ]
     },
     "execution_count": 20,
     "metadata": {},
     "output_type": "execute_result"
    }
   ],
   "source": [
    "df_bbidding.revenue.mean()"
   ]
  },
  {
   "cell_type": "code",
   "execution_count": null,
   "metadata": {},
   "outputs": [],
   "source": [
    "𝑅𝑒𝑣𝑒𝑛𝑢𝑒=𝑇𝑟𝑎𝑑𝑒×𝐷𝐴𝑃+(𝐴𝑐𝑡𝑢𝑎𝑙− 𝑇𝑟𝑎𝑑𝑒)×(𝑆𝑆𝑃−0.07×(𝐴𝑐𝑡𝑢𝑎𝑙− 𝑇𝑟𝑎𝑑𝑒))"
   ]
  },
  {
   "cell_type": "code",
   "execution_count": null,
   "metadata": {},
   "outputs": [],
   "source": []
  },
  {
   "cell_type": "markdown",
   "metadata": {},
   "source": [
    "Quantile"
   ]
  },
  {
   "cell_type": "code",
   "execution_count": 8,
   "metadata": {},
   "outputs": [],
   "source": [
    "def Value_calculator(Real_value,bid,imbalance,day_ahead):\n",
    "    Revenue = bid*day_ahead +(Real_value-bid)*imbalance\n",
    "    return np.mean(Revenue)"
   ]
  },
  {
   "cell_type": "code",
   "execution_count": 11,
   "metadata": {},
   "outputs": [],
   "source": [
    "quantiles = [\"quantile_0\",\"quantile_1\",\"quantile_2\",\"quantile_3\",\"quantile_4\",\"quantile_5\",\"quantile_6\",\"quantile_7\",\"quantile_8\"]\n",
    "Revenue = []\n",
    "for i in quantiles:\n",
    "    Revenue.append(Value_calculator(result[\"Solar_MWh_credit\"],result[i],result[\"imbalance_price\"],result[\"price\"]))"
   ]
  },
  {
   "cell_type": "code",
   "execution_count": 12,
   "metadata": {},
   "outputs": [
    {
     "data": {
      "text/plain": [
       "[17678.065502705973,\n",
       " 17761.467307058454,\n",
       " 17818.87789210751,\n",
       " 17864.654886340366,\n",
       " 17906.182712271337,\n",
       " 17947.770259132223,\n",
       " 17992.756566419466,\n",
       " 18045.685351896656,\n",
       " 18129.739720575395]"
      ]
     },
     "execution_count": 12,
     "metadata": {},
     "output_type": "execute_result"
    }
   ],
   "source": [
    "Revenue"
   ]
  },
  {
   "cell_type": "markdown",
   "metadata": {},
   "source": [
    "monte carlo: "
   ]
  },
  {
   "cell_type": "code",
   "execution_count": null,
   "metadata": {},
   "outputs": [],
   "source": [
    "import numpy as np\n",
    "\n",
    "# Define revenue calculation function\n",
    "def calculate_revenue(trade, actual, DAP, SSP):\n",
    "    return trade * DAP + (actual - trade) * (SSP - 0.07 * (actual - trade))\n",
    "\n",
    "# Monte Carlo simulation to estimate expected revenue\n",
    "def monte_carlo_simulation(trade_values, actual_distribution, DAP, SSP, num_samples=1000):\n",
    "    expected_revenue = []\n",
    "    \n",
    "    # Sample from the probabilistic distribution (Monte Carlo simulation)\n",
    "    sampled_actuals = actual_distribution(num_samples)\n",
    "    \n",
    "    for trade in trade_values:\n",
    "        # Calculate revenue for each sample and trade value\n",
    "        revenues = [calculate_revenue(trade, actual, DAP, SSP) for actual in sampled_actuals]\n",
    "        # Store the average expected revenue for this trade value\n",
    "        expected_revenue.append(np.mean(revenues))\n",
    "    \n",
    "    return trade_values, expected_revenue\n",
    "\n",
    "# Example usage\n",
    "# Define input values (these would be dynamic in practice)\n",
    "DAP = 50  # Day-Ahead Price\n",
    "SSP = 45  # System Sell Price\n",
    "\n",
    "# Generate probabilistic forecast (e.g., Normal distribution with mean and std dev from your forecast)\n",
    "actual_mean = 100  # Assume mean production is 100 MWh\n",
    "actual_std = 10    # Assume a standard deviation of 10 MWh\n",
    "actual_distribution = lambda n: np.random.normal(actual_mean, actual_std, n)\n",
    "\n",
    "# Define the range of Trade values to evaluate\n",
    "trade_values = np.linspace(80, 120, 50)  # Evaluate Trade between 80 and 120 MWh\n",
    "\n",
    "# Run Monte Carlo simulation\n",
    "trade_values, expected_revenues = monte_carlo_simulation(trade_values, actual_distribution, DAP, SSP)\n",
    "\n",
    "# Find the optimal trade value that maximizes expected revenue\n",
    "optimal_trade = trade_values[np.argmax(expected_revenues)]\n",
    "\n",
    "print(f\"Optimal Trade Value: {optimal_trade} MWh\")\n"
   ]
  },
  {
   "cell_type": "markdown",
   "metadata": {},
   "source": [
    "1. Dynamic Programming Approach\n"
   ]
  },
  {
   "cell_type": "code",
   "execution_count": null,
   "metadata": {},
   "outputs": [],
   "source": [
    "for t in range(T-1, -1, -1):  # Start at last time step, move backwards\n",
    "    for s in state_space:  # For each state in the state space\n",
    "        max_value = -inf\n",
    "        for a in action_space:  # For each possible trade action\n",
    "            next_state = transition_function(s, a)\n",
    "            immediate_reward = revenue(s, a)\n",
    "            future_value = gamma * V[next_state]  # Discounted future value\n",
    "            total_value = immediate_reward + future_value\n",
    "            if total_value > max_value:\n",
    "                max_value = total_value\n",
    "                best_action[s] = a  # Store the best action for state s\n",
    "        V[s] = max_value\n"
   ]
  }
 ],
 "metadata": {
  "kernelspec": {
   "display_name": "HEFTcom24",
   "language": "python",
   "name": "python3"
  },
  "language_info": {
   "codemirror_mode": {
    "name": "ipython",
    "version": 3
   },
   "file_extension": ".py",
   "mimetype": "text/x-python",
   "name": "python",
   "nbconvert_exporter": "python",
   "pygments_lexer": "ipython3",
   "version": "3.11.5"
  }
 },
 "nbformat": 4,
 "nbformat_minor": 2
}
