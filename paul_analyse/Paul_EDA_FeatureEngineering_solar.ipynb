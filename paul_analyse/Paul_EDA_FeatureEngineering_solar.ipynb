{
 "cells": [
  {
   "cell_type": "code",
   "execution_count": 12,
   "metadata": {},
   "outputs": [],
   "source": [
    "import pandas as pd\n",
    "import numpy as np\n",
    "import matplotlib.pyplot as plt\n",
    "import seaborn as sns\n",
    "import pickle\n",
    "import math"
   ]
  },
  {
   "cell_type": "code",
   "execution_count": 2,
   "metadata": {},
   "outputs": [],
   "source": [
    "df_solar = pd.read_csv('HEFTcom24\\data\\solar.csv')"
   ]
  },
  {
   "cell_type": "code",
   "execution_count": 5,
   "metadata": {},
   "outputs": [],
   "source": [
    "df_solar.drop(columns=['Unnamed: 0','boa_MWh','Wind_MW','Wind_MWh_credit'], inplace=True)"
   ]
  },
  {
   "cell_type": "code",
   "execution_count": 6,
   "metadata": {},
   "outputs": [
    {
     "data": {
      "text/plain": [
       "Index(['valid_time', 'reference_time', 'CloudCover_Point0_dwd',\n",
       "       'CloudCover_Point1_dwd', 'CloudCover_Point2_dwd',\n",
       "       'CloudCover_Point3_dwd', 'CloudCover_Point4_dwd',\n",
       "       'CloudCover_Point5_dwd', 'CloudCover_Point6_dwd',\n",
       "       'CloudCover_Point7_dwd',\n",
       "       ...\n",
       "       'Temperature_Point5_ncep_pes10', 'Temperature_Point6_ncep_pes10', 'dtm',\n",
       "       'MIP', 'Solar_MW', 'Solar_capacity_mwp', 'Solar_installedcapacity_mwp',\n",
       "       'SS_Price', 'DA_Price', 'Solar_MWh_credit'],\n",
       "      dtype='object', length=104)"
      ]
     },
     "execution_count": 6,
     "metadata": {},
     "output_type": "execute_result"
    }
   ],
   "source": [
    "df_solar.columns"
   ]
  },
  {
   "cell_type": "code",
   "execution_count": 7,
   "metadata": {},
   "outputs": [
    {
     "name": "stdout",
     "output_type": "stream",
     "text": [
      "Series([], dtype: int64)\n"
     ]
    }
   ],
   "source": [
    "# Display columns with NaN values and their counts\n",
    "na_columns = df_solar.isna().sum()\n",
    "na_columns = na_columns[na_columns > 0]\n",
    "print(na_columns)"
   ]
  },
  {
   "cell_type": "code",
   "execution_count": 9,
   "metadata": {},
   "outputs": [
    {
     "data": {
      "text/plain": [
       "CloudCover_Point18_ncep              -0.148366\n",
       "CloudCover_Point1_ncep               -0.145069\n",
       "CloudCover_Point11_ncep              -0.126816\n",
       "CloudCover_Point6_ncep               -0.122557\n",
       "CloudCover_Point9_ncep               -0.122229\n",
       "                                        ...   \n",
       "SolarDownwardRadiation_Point8_dwd     0.935096\n",
       "SolarDownwardRadiation_Point7_dwd     0.935288\n",
       "SolarDownwardRadiation_Point12_dwd    0.936116\n",
       "Solar_MW                              1.000000\n",
       "Solar_MWh_credit                      1.000000\n",
       "Name: Solar_MWh_credit, Length: 101, dtype: float64"
      ]
     },
     "execution_count": 9,
     "metadata": {},
     "output_type": "execute_result"
    }
   ],
   "source": [
    "#correlation between features and Wind_MWh_credit\n",
    "correlation = df_solar.drop(columns=['dtm','reference_time','valid_time']).corr()['Solar_MWh_credit'].sort_values()\n",
    "correlation"
   ]
  },
  {
   "cell_type": "code",
   "execution_count": 11,
   "metadata": {},
   "outputs": [
    {
     "data": {
      "text/plain": [
       "['valid_time',\n",
       " 'reference_time',\n",
       " 'CloudCover_Point0_dwd',\n",
       " 'CloudCover_Point1_dwd',\n",
       " 'CloudCover_Point2_dwd',\n",
       " 'CloudCover_Point3_dwd',\n",
       " 'CloudCover_Point4_dwd',\n",
       " 'CloudCover_Point5_dwd',\n",
       " 'CloudCover_Point6_dwd',\n",
       " 'CloudCover_Point7_dwd',\n",
       " 'CloudCover_Point8_dwd',\n",
       " 'CloudCover_Point9_dwd',\n",
       " 'CloudCover_Point10_dwd',\n",
       " 'CloudCover_Point11_dwd',\n",
       " 'CloudCover_Point12_dwd',\n",
       " 'CloudCover_Point13_dwd',\n",
       " 'CloudCover_Point14_dwd',\n",
       " 'CloudCover_Point15_dwd',\n",
       " 'CloudCover_Point16_dwd',\n",
       " 'CloudCover_Point17_dwd',\n",
       " 'CloudCover_Point18_dwd',\n",
       " 'CloudCover_Point19_dwd',\n",
       " 'SolarDownwardRadiation_Point0_dwd',\n",
       " 'SolarDownwardRadiation_Point1_dwd',\n",
       " 'SolarDownwardRadiation_Point2_dwd',\n",
       " 'SolarDownwardRadiation_Point3_dwd',\n",
       " 'SolarDownwardRadiation_Point4_dwd',\n",
       " 'SolarDownwardRadiation_Point5_dwd',\n",
       " 'SolarDownwardRadiation_Point6_dwd',\n",
       " 'SolarDownwardRadiation_Point7_dwd',\n",
       " 'SolarDownwardRadiation_Point8_dwd',\n",
       " 'SolarDownwardRadiation_Point9_dwd',\n",
       " 'SolarDownwardRadiation_Point10_dwd',\n",
       " 'SolarDownwardRadiation_Point11_dwd',\n",
       " 'SolarDownwardRadiation_Point12_dwd',\n",
       " 'SolarDownwardRadiation_Point13_dwd',\n",
       " 'SolarDownwardRadiation_Point14_dwd',\n",
       " 'SolarDownwardRadiation_Point15_dwd',\n",
       " 'SolarDownwardRadiation_Point16_dwd',\n",
       " 'SolarDownwardRadiation_Point17_dwd',\n",
       " 'SolarDownwardRadiation_Point18_dwd',\n",
       " 'SolarDownwardRadiation_Point19_dwd',\n",
       " 'Temperature_Point0_dwd_pes10',\n",
       " 'Temperature_Point1_dwd_pes10',\n",
       " 'Temperature_Point2_dwd_pes10',\n",
       " 'Temperature_Point3_dwd_pes10',\n",
       " 'Temperature_Point4_dwd_pes10',\n",
       " 'Temperature_Point5_dwd_pes10',\n",
       " 'Temperature_Point6_dwd_pes10',\n",
       " 'CloudCover_Point0_ncep',\n",
       " 'CloudCover_Point1_ncep',\n",
       " 'CloudCover_Point2_ncep',\n",
       " 'CloudCover_Point3_ncep',\n",
       " 'CloudCover_Point4_ncep',\n",
       " 'CloudCover_Point5_ncep',\n",
       " 'CloudCover_Point6_ncep',\n",
       " 'CloudCover_Point7_ncep',\n",
       " 'CloudCover_Point8_ncep',\n",
       " 'CloudCover_Point9_ncep',\n",
       " 'CloudCover_Point10_ncep',\n",
       " 'CloudCover_Point11_ncep',\n",
       " 'CloudCover_Point12_ncep',\n",
       " 'CloudCover_Point13_ncep',\n",
       " 'CloudCover_Point14_ncep',\n",
       " 'CloudCover_Point15_ncep',\n",
       " 'CloudCover_Point16_ncep',\n",
       " 'CloudCover_Point17_ncep',\n",
       " 'CloudCover_Point18_ncep',\n",
       " 'CloudCover_Point19_ncep',\n",
       " 'SolarDownwardRadiation_Point0_ncep',\n",
       " 'SolarDownwardRadiation_Point1_ncep',\n",
       " 'SolarDownwardRadiation_Point2_ncep',\n",
       " 'SolarDownwardRadiation_Point3_ncep',\n",
       " 'SolarDownwardRadiation_Point4_ncep',\n",
       " 'SolarDownwardRadiation_Point5_ncep',\n",
       " 'SolarDownwardRadiation_Point6_ncep',\n",
       " 'SolarDownwardRadiation_Point7_ncep',\n",
       " 'SolarDownwardRadiation_Point8_ncep',\n",
       " 'SolarDownwardRadiation_Point9_ncep',\n",
       " 'SolarDownwardRadiation_Point10_ncep',\n",
       " 'SolarDownwardRadiation_Point11_ncep',\n",
       " 'SolarDownwardRadiation_Point12_ncep',\n",
       " 'SolarDownwardRadiation_Point13_ncep',\n",
       " 'SolarDownwardRadiation_Point14_ncep',\n",
       " 'SolarDownwardRadiation_Point15_ncep',\n",
       " 'SolarDownwardRadiation_Point16_ncep',\n",
       " 'SolarDownwardRadiation_Point17_ncep',\n",
       " 'SolarDownwardRadiation_Point18_ncep',\n",
       " 'SolarDownwardRadiation_Point19_ncep',\n",
       " 'Temperature_Point0_ncep_pes10',\n",
       " 'Temperature_Point1_ncep_pes10',\n",
       " 'Temperature_Point2_ncep_pes10',\n",
       " 'Temperature_Point3_ncep_pes10',\n",
       " 'Temperature_Point4_ncep_pes10',\n",
       " 'Temperature_Point5_ncep_pes10',\n",
       " 'Temperature_Point6_ncep_pes10',\n",
       " 'dtm',\n",
       " 'MIP',\n",
       " 'Solar_MW',\n",
       " 'Solar_capacity_mwp',\n",
       " 'Solar_installedcapacity_mwp',\n",
       " 'SS_Price',\n",
       " 'DA_Price',\n",
       " 'Solar_MWh_credit']"
      ]
     },
     "execution_count": 11,
     "metadata": {},
     "output_type": "execute_result"
    }
   ],
   "source": [
    "df_solar.columns.to_list()"
   ]
  },
  {
   "cell_type": "code",
   "execution_count": 15,
   "metadata": {},
   "outputs": [],
   "source": [
    "df_solar.valid_time = pd.to_datetime(df_solar.valid_time) \n",
    "df_solar.reference_time = pd.to_datetime(df_solar.reference_time)"
   ]
  },
  {
   "cell_type": "code",
   "execution_count": 16,
   "metadata": {},
   "outputs": [],
   "source": [
    "# Assume your data is in a pandas DataFrame called `df_solar_solar_solar`\n",
    "\n",
    "# 1. Mean Cloud Cover\n",
    "df_solar['Mean_CloudCover_dwd'] = df_solar[[f'CloudCover_Point{i}_dwd' for i in range(20)]].mean(axis=1)\n",
    "df_solar['Mean_CloudCover_ncep'] = df_solar[[f'CloudCover_Point{i}_ncep' for i in range(20)]].mean(axis=1)\n",
    "\n",
    "# 2. Mean Solar Radiation\n",
    "df_solar['Mean_SolarRadiation_dwd'] = df_solar[[f'SolarDownwardRadiation_Point{i}_dwd' for i in range(20)]].mean(axis=1)\n",
    "df_solar['Mean_SolarRadiation_ncep'] = df_solar[[f'SolarDownwardRadiation_Point{i}_ncep' for i in range(20)]].mean(axis=1)\n",
    "\n",
    "# 3. Mean Temperature\n",
    "df_solar['Mean_Temperature_dwd'] = df_solar[[f'Temperature_Point{i}_dwd_pes10' for i in range(7)]].mean(axis=1)\n",
    "df_solar['Mean_Temperature_ncep'] = df_solar[[f'Temperature_Point{i}_ncep_pes10' for i in range(7)]].mean(axis=1)\n",
    "\n",
    "# 4. Standard Deviation of Cloud Cover\n",
    "df_solar['Std_CloudCover_dwd'] = df_solar[[f'CloudCover_Point{i}_dwd' for i in range(20)]].std(axis=1)\n",
    "df_solar['Std_CloudCover_ncep'] = df_solar[[f'CloudCover_Point{i}_ncep' for i in range(20)]].std(axis=1)\n",
    "\n",
    "# 5. Max-Min Cloud Cover Gradient\n",
    "df_solar['CloudCover_Gradient_dwd'] = df_solar[[f'CloudCover_Point{i}_dwd' for i in range(20)]].max(axis=1) - df_solar[[f'CloudCover_Point{i}_dwd' for i in range(20)]].min(axis=1)\n",
    "df_solar['CloudCover_Gradient_ncep'] = df_solar[[f'CloudCover_Point{i}_ncep' for i in range(20)]].max(axis=1) - df_solar[[f'CloudCover_Point{i}_ncep' for i in range(20)]].min(axis=1)\n",
    "\n",
    "# 6. Solar Radiation Change Over Points (e.g., Point 19 - Point 0)\n",
    "df_solar['SolarRadiation_Change_dwd'] = df_solar['SolarDownwardRadiation_Point19_dwd'] - df_solar['SolarDownwardRadiation_Point0_dwd']\n",
    "df_solar['SolarRadiation_Change_ncep'] = df_solar['SolarDownwardRadiation_Point19_ncep'] - df_solar['SolarDownwardRadiation_Point0_ncep']\n",
    "\n",
    "# 7. Cloud Cover x Solar Radiation Interaction\n",
    "df_solar['CloudCover_SolarInteraction_dwd'] = df_solar['Mean_CloudCover_dwd'] * df_solar['Mean_SolarRadiation_dwd']\n",
    "df_solar['CloudCover_SolarInteraction_ncep'] = df_solar['Mean_CloudCover_ncep'] * df_solar['Mean_SolarRadiation_ncep']\n",
    "\n",
    "# 8. Temperature x Solar Radiation Interaction\n",
    "df_solar['Temp_SolarInteraction_dwd'] = df_solar['Mean_Temperature_dwd'] * df_solar['Mean_SolarRadiation_dwd']\n",
    "df_solar['Temp_SolarInteraction_ncep'] = df_solar['Mean_Temperature_ncep'] * df_solar['Mean_SolarRadiation_ncep']\n",
    "\n",
    "# 9. Cloud Cover x Temperature Interaction\n",
    "df_solar['Cloud_TemperatureInteraction_dwd'] = df_solar['Mean_CloudCover_dwd'] * df_solar['Mean_Temperature_dwd']\n",
    "df_solar['Cloud_TemperatureInteraction_ncep'] = df_solar['Mean_CloudCover_ncep'] * df_solar['Mean_Temperature_ncep']\n",
    "\n",
    "# 10. Temporal Features\n",
    "# Extracting hour of the day from 'valid_time'\n",
    "df_solar['hour'] = df_solar['valid_time'].dt.hour\n",
    "\n",
    "# Sine and cosine encoding for hour (for cyclical behavior)\n",
    "df_solar['sin_hour'] = np.sin(2 * np.pi * df_solar['hour'] / 24)\n",
    "df_solar['cos_hour'] = np.cos(2 * np.pi * df_solar['hour'] / 24)\n",
    "\n",
    "# Day of the year (seasonality)\n",
    "df_solar['day_of_year'] = df_solar['valid_time'].dt.dayofyear\n",
    "\n",
    "# Sine and cosine encoding for day of the year (for cyclical seasonality)\n",
    "df_solar['sin_day'] = np.sin(2 * np.pi * df_solar['day_of_year'] / 365)\n",
    "df_solar['cos_day'] = np.cos(2 * np.pi * df_solar['day_of_year'] / 365)\n",
    "\n",
    "# 11. Discrepancy between DWD and NCEP datasets\n",
    "df_solar['CloudCover_Discrepancy'] = df_solar['Mean_CloudCover_dwd'] - df_solar['Mean_CloudCover_ncep']\n",
    "df_solar['SolarRadiation_Discrepancy'] = df_solar['Mean_SolarRadiation_dwd'] - df_solar['Mean_SolarRadiation_ncep']\n",
    "df_solar['Temperature_Discrepancy'] = df_solar['Mean_Temperature_dwd'] - df_solar['Mean_Temperature_ncep']\n",
    "\n",
    "# 12. Time Delta (difference between valid_time and reference_time)\n",
    "df_solar['Time_Delta'] = (df_solar['valid_time'] - df_solar['reference_time']).dt.total_seconds() / 3600  # in hours\n",
    "\n",
    "# Optional: Normalize differences for temporal changes\n",
    "# For example, normalizing cloud cover difference by time delta\n",
    "df_solar['Normalized_CloudCover_dwd'] = (df_solar['CloudCover_Point19_dwd'] - df_solar['CloudCover_Point0_dwd']) / df_solar['Time_Delta']\n",
    "df_solar['Normalized_CloudCover_ncep'] = (df_solar['CloudCover_Point19_ncep'] - df_solar['CloudCover_Point0_ncep']) / df_solar['Time_Delta']\n",
    "\n",
    "# 13. Rolling Mean (if applicable, depending on time series)\n",
    "# Assuming df_solar_solar is ordered by time, create rolling averages\n",
    "df_solar['RollingMean_CloudCover_dwd'] = df_solar['Mean_CloudCover_dwd'].rolling(window=3, min_periods=1).mean()\n",
    "df_solar['RollingMean_SolarRadiation_dwd'] = df_solar['Mean_SolarRadiation_dwd'].rolling(window=3, min_periods=1).mean()\n"
   ]
  },
  {
   "cell_type": "code",
   "execution_count": 31,
   "metadata": {},
   "outputs": [],
   "source": [
    "from sklearn.preprocessing import StandardScaler\n",
    "def handle_missing_values(df):\n",
    "    # For numeric columns\n",
    "    numeric_cols = df.select_dtypes(include=[np.number]).columns\n",
    "    df[numeric_cols] = df[numeric_cols].fillna(df[numeric_cols].mean())\n",
    "    \n",
    "    # For categorical columns\n",
    "    categorical_cols = df.select_dtypes(include=['object', 'category']).columns\n",
    "    df[categorical_cols] = df[categorical_cols].fillna(df[categorical_cols].mode().iloc[0])\n",
    "    return df\n",
    "def scale_features(df, exclude_cols=['valid_time', 'reference_time','dtm']):\n",
    "    df.replace([np.inf, -np.inf], np.nan, inplace=True)\n",
    "    df = handle_missing_values(df)\n",
    "    scaler = StandardScaler()\n",
    "    cols_to_scale = [col for col in df.columns if col not in exclude_cols]\n",
    "    df[cols_to_scale] = scaler.fit_transform(df[cols_to_scale])\n",
    "    return df, scaler"
   ]
  },
  {
   "cell_type": "code",
   "execution_count": 32,
   "metadata": {},
   "outputs": [],
   "source": [
    "df_solar1 = handle_missing_values(df_solar)\n",
    "df_solar1, scaler = scale_features(df_solar1)"
   ]
  },
  {
   "cell_type": "code",
   "execution_count": 25,
   "metadata": {},
   "outputs": [
    {
     "data": {
      "text/html": [
       "<div>\n",
       "<style scoped>\n",
       "    .dataframe tbody tr th:only-of-type {\n",
       "        vertical-align: middle;\n",
       "    }\n",
       "\n",
       "    .dataframe tbody tr th {\n",
       "        vertical-align: top;\n",
       "    }\n",
       "\n",
       "    .dataframe thead th {\n",
       "        text-align: right;\n",
       "    }\n",
       "</style>\n",
       "<table border=\"1\" class=\"dataframe\">\n",
       "  <thead>\n",
       "    <tr style=\"text-align: right;\">\n",
       "      <th></th>\n",
       "      <th>valid_time</th>\n",
       "      <th>reference_time</th>\n",
       "      <th>CloudCover_Point0_dwd</th>\n",
       "      <th>CloudCover_Point1_dwd</th>\n",
       "      <th>CloudCover_Point2_dwd</th>\n",
       "      <th>CloudCover_Point3_dwd</th>\n",
       "      <th>CloudCover_Point4_dwd</th>\n",
       "      <th>CloudCover_Point5_dwd</th>\n",
       "      <th>CloudCover_Point6_dwd</th>\n",
       "      <th>CloudCover_Point7_dwd</th>\n",
       "      <th>...</th>\n",
       "      <th>sin_day</th>\n",
       "      <th>cos_day</th>\n",
       "      <th>CloudCover_Discrepancy</th>\n",
       "      <th>SolarRadiation_Discrepancy</th>\n",
       "      <th>Temperature_Discrepancy</th>\n",
       "      <th>Time_Delta</th>\n",
       "      <th>Normalized_CloudCover_dwd</th>\n",
       "      <th>Normalized_CloudCover_ncep</th>\n",
       "      <th>RollingMean_CloudCover_dwd</th>\n",
       "      <th>RollingMean_SolarRadiation_dwd</th>\n",
       "    </tr>\n",
       "  </thead>\n",
       "  <tbody>\n",
       "    <tr>\n",
       "      <th>0</th>\n",
       "      <td>2020-09-20 00:00:00+00:00</td>\n",
       "      <td>2020-09-20 00:00:00+00:00</td>\n",
       "      <td>-0.982652</td>\n",
       "      <td>-0.285306</td>\n",
       "      <td>-1.274204</td>\n",
       "      <td>-0.254969</td>\n",
       "      <td>-1.204310</td>\n",
       "      <td>-1.236174</td>\n",
       "      <td>-0.577607</td>\n",
       "      <td>-0.968967</td>\n",
       "      <td>...</td>\n",
       "      <td>-1.413758</td>\n",
       "      <td>-0.343050</td>\n",
       "      <td>1.076331</td>\n",
       "      <td>0.363312</td>\n",
       "      <td>-0.356110</td>\n",
       "      <td>-1.714635</td>\n",
       "      <td>NaN</td>\n",
       "      <td>NaN</td>\n",
       "      <td>-1.004507</td>\n",
       "      <td>-0.651924</td>\n",
       "    </tr>\n",
       "    <tr>\n",
       "      <th>1</th>\n",
       "      <td>2020-09-20 00:30:00+00:00</td>\n",
       "      <td>2020-09-20 00:00:00+00:00</td>\n",
       "      <td>-0.952231</td>\n",
       "      <td>-0.314613</td>\n",
       "      <td>-1.055732</td>\n",
       "      <td>-0.252858</td>\n",
       "      <td>-1.163102</td>\n",
       "      <td>-0.959317</td>\n",
       "      <td>-0.575180</td>\n",
       "      <td>-0.934148</td>\n",
       "      <td>...</td>\n",
       "      <td>-1.413758</td>\n",
       "      <td>-0.343050</td>\n",
       "      <td>1.111156</td>\n",
       "      <td>0.363312</td>\n",
       "      <td>-0.325474</td>\n",
       "      <td>-1.679991</td>\n",
       "      <td>1.963820</td>\n",
       "      <td>-0.006918</td>\n",
       "      <td>-0.965610</td>\n",
       "      <td>-0.651924</td>\n",
       "    </tr>\n",
       "    <tr>\n",
       "      <th>2</th>\n",
       "      <td>2020-09-20 01:00:00+00:00</td>\n",
       "      <td>2020-09-20 00:00:00+00:00</td>\n",
       "      <td>-0.921809</td>\n",
       "      <td>-0.343920</td>\n",
       "      <td>-0.837260</td>\n",
       "      <td>-0.250747</td>\n",
       "      <td>-1.121895</td>\n",
       "      <td>-0.682460</td>\n",
       "      <td>-0.572753</td>\n",
       "      <td>-0.899330</td>\n",
       "      <td>...</td>\n",
       "      <td>-1.413758</td>\n",
       "      <td>-0.343050</td>\n",
       "      <td>1.145980</td>\n",
       "      <td>0.363312</td>\n",
       "      <td>-0.294838</td>\n",
       "      <td>-1.645346</td>\n",
       "      <td>1.802157</td>\n",
       "      <td>-0.006918</td>\n",
       "      <td>-0.926712</td>\n",
       "      <td>-0.651924</td>\n",
       "    </tr>\n",
       "    <tr>\n",
       "      <th>3</th>\n",
       "      <td>2020-09-20 01:30:00+00:00</td>\n",
       "      <td>2020-09-20 00:00:00+00:00</td>\n",
       "      <td>-0.792440</td>\n",
       "      <td>-0.278277</td>\n",
       "      <td>-0.678646</td>\n",
       "      <td>-0.252858</td>\n",
       "      <td>-1.113218</td>\n",
       "      <td>-0.017810</td>\n",
       "      <td>-0.420935</td>\n",
       "      <td>-0.889174</td>\n",
       "      <td>...</td>\n",
       "      <td>-1.413758</td>\n",
       "      <td>-0.343050</td>\n",
       "      <td>1.302960</td>\n",
       "      <td>0.363312</td>\n",
       "      <td>-0.250579</td>\n",
       "      <td>-1.610701</td>\n",
       "      <td>0.937752</td>\n",
       "      <td>-0.006918</td>\n",
       "      <td>-0.843696</td>\n",
       "      <td>-0.651924</td>\n",
       "    </tr>\n",
       "    <tr>\n",
       "      <th>4</th>\n",
       "      <td>2020-09-20 02:00:00+00:00</td>\n",
       "      <td>2020-09-20 00:00:00+00:00</td>\n",
       "      <td>-0.663071</td>\n",
       "      <td>-0.212634</td>\n",
       "      <td>-0.520032</td>\n",
       "      <td>-0.254969</td>\n",
       "      <td>-1.104542</td>\n",
       "      <td>0.646841</td>\n",
       "      <td>-0.269117</td>\n",
       "      <td>-0.879019</td>\n",
       "      <td>...</td>\n",
       "      <td>-1.413758</td>\n",
       "      <td>-0.343050</td>\n",
       "      <td>1.459940</td>\n",
       "      <td>0.363312</td>\n",
       "      <td>-0.206321</td>\n",
       "      <td>-1.576057</td>\n",
       "      <td>0.505550</td>\n",
       "      <td>-0.006918</td>\n",
       "      <td>-0.755460</td>\n",
       "      <td>-0.651924</td>\n",
       "    </tr>\n",
       "    <tr>\n",
       "      <th>...</th>\n",
       "      <td>...</td>\n",
       "      <td>...</td>\n",
       "      <td>...</td>\n",
       "      <td>...</td>\n",
       "      <td>...</td>\n",
       "      <td>...</td>\n",
       "      <td>...</td>\n",
       "      <td>...</td>\n",
       "      <td>...</td>\n",
       "      <td>...</td>\n",
       "      <td>...</td>\n",
       "      <td>...</td>\n",
       "      <td>...</td>\n",
       "      <td>...</td>\n",
       "      <td>...</td>\n",
       "      <td>...</td>\n",
       "      <td>...</td>\n",
       "      <td>...</td>\n",
       "      <td>...</td>\n",
       "      <td>...</td>\n",
       "      <td>...</td>\n",
       "    </tr>\n",
       "    <tr>\n",
       "      <th>529625</th>\n",
       "      <td>2024-05-19 21:30:00+00:00</td>\n",
       "      <td>2024-05-19 00:00:00+00:00</td>\n",
       "      <td>-2.323971</td>\n",
       "      <td>-2.319299</td>\n",
       "      <td>-2.333750</td>\n",
       "      <td>-2.226691</td>\n",
       "      <td>-1.859483</td>\n",
       "      <td>-2.242294</td>\n",
       "      <td>-2.333581</td>\n",
       "      <td>-2.321654</td>\n",
       "      <td>...</td>\n",
       "      <td>0.895764</td>\n",
       "      <td>-1.174776</td>\n",
       "      <td>-0.504910</td>\n",
       "      <td>0.363460</td>\n",
       "      <td>1.406248</td>\n",
       "      <td>-0.224912</td>\n",
       "      <td>0.014799</td>\n",
       "      <td>-0.006918</td>\n",
       "      <td>-2.536282</td>\n",
       "      <td>-0.651887</td>\n",
       "    </tr>\n",
       "    <tr>\n",
       "      <th>529626</th>\n",
       "      <td>2024-05-19 22:00:00+00:00</td>\n",
       "      <td>2024-05-19 00:00:00+00:00</td>\n",
       "      <td>-2.323971</td>\n",
       "      <td>-2.274052</td>\n",
       "      <td>-2.333750</td>\n",
       "      <td>-2.155119</td>\n",
       "      <td>-1.974761</td>\n",
       "      <td>-2.242294</td>\n",
       "      <td>-2.333581</td>\n",
       "      <td>-2.321654</td>\n",
       "      <td>...</td>\n",
       "      <td>0.895764</td>\n",
       "      <td>-1.174776</td>\n",
       "      <td>-0.492299</td>\n",
       "      <td>0.363486</td>\n",
       "      <td>1.334205</td>\n",
       "      <td>-0.190267</td>\n",
       "      <td>0.014799</td>\n",
       "      <td>-0.006918</td>\n",
       "      <td>-2.523782</td>\n",
       "      <td>-0.651853</td>\n",
       "    </tr>\n",
       "    <tr>\n",
       "      <th>529627</th>\n",
       "      <td>2024-05-19 22:30:00+00:00</td>\n",
       "      <td>2024-05-19 00:00:00+00:00</td>\n",
       "      <td>-2.321605</td>\n",
       "      <td>-1.881825</td>\n",
       "      <td>-2.291858</td>\n",
       "      <td>-1.908245</td>\n",
       "      <td>-2.087831</td>\n",
       "      <td>-2.242294</td>\n",
       "      <td>-2.333581</td>\n",
       "      <td>-2.321654</td>\n",
       "      <td>...</td>\n",
       "      <td>0.895764</td>\n",
       "      <td>-1.174776</td>\n",
       "      <td>-0.421224</td>\n",
       "      <td>0.363287</td>\n",
       "      <td>1.280684</td>\n",
       "      <td>-0.155622</td>\n",
       "      <td>0.014095</td>\n",
       "      <td>-0.006918</td>\n",
       "      <td>-2.494824</td>\n",
       "      <td>-0.651877</td>\n",
       "    </tr>\n",
       "    <tr>\n",
       "      <th>529628</th>\n",
       "      <td>2024-05-19 23:00:00+00:00</td>\n",
       "      <td>2024-05-19 00:00:00+00:00</td>\n",
       "      <td>-2.319239</td>\n",
       "      <td>-1.489599</td>\n",
       "      <td>-2.249967</td>\n",
       "      <td>-1.661371</td>\n",
       "      <td>-2.200902</td>\n",
       "      <td>-2.242294</td>\n",
       "      <td>-2.333581</td>\n",
       "      <td>-2.321654</td>\n",
       "      <td>...</td>\n",
       "      <td>0.895764</td>\n",
       "      <td>-1.174776</td>\n",
       "      <td>-0.350148</td>\n",
       "      <td>0.363089</td>\n",
       "      <td>1.227163</td>\n",
       "      <td>-0.120978</td>\n",
       "      <td>0.013422</td>\n",
       "      <td>-0.006918</td>\n",
       "      <td>-2.448285</td>\n",
       "      <td>-0.651936</td>\n",
       "    </tr>\n",
       "    <tr>\n",
       "      <th>529629</th>\n",
       "      <td>2024-05-19 23:30:00+00:00</td>\n",
       "      <td>2024-05-19 00:00:00+00:00</td>\n",
       "      <td>-2.207478</td>\n",
       "      <td>-1.231137</td>\n",
       "      <td>-1.788881</td>\n",
       "      <td>-1.366058</td>\n",
       "      <td>-2.219041</td>\n",
       "      <td>-2.242294</td>\n",
       "      <td>-2.177438</td>\n",
       "      <td>-2.321654</td>\n",
       "      <td>...</td>\n",
       "      <td>0.895764</td>\n",
       "      <td>-1.174776</td>\n",
       "      <td>-0.152797</td>\n",
       "      <td>0.363305</td>\n",
       "      <td>1.184481</td>\n",
       "      <td>-0.086333</td>\n",
       "      <td>0.044399</td>\n",
       "      <td>-0.006918</td>\n",
       "      <td>-2.345834</td>\n",
       "      <td>-0.651965</td>\n",
       "    </tr>\n",
       "  </tbody>\n",
       "</table>\n",
       "<p>529630 rows × 136 columns</p>\n",
       "</div>"
      ],
      "text/plain": [
       "                      valid_time            reference_time  \\\n",
       "0      2020-09-20 00:00:00+00:00 2020-09-20 00:00:00+00:00   \n",
       "1      2020-09-20 00:30:00+00:00 2020-09-20 00:00:00+00:00   \n",
       "2      2020-09-20 01:00:00+00:00 2020-09-20 00:00:00+00:00   \n",
       "3      2020-09-20 01:30:00+00:00 2020-09-20 00:00:00+00:00   \n",
       "4      2020-09-20 02:00:00+00:00 2020-09-20 00:00:00+00:00   \n",
       "...                          ...                       ...   \n",
       "529625 2024-05-19 21:30:00+00:00 2024-05-19 00:00:00+00:00   \n",
       "529626 2024-05-19 22:00:00+00:00 2024-05-19 00:00:00+00:00   \n",
       "529627 2024-05-19 22:30:00+00:00 2024-05-19 00:00:00+00:00   \n",
       "529628 2024-05-19 23:00:00+00:00 2024-05-19 00:00:00+00:00   \n",
       "529629 2024-05-19 23:30:00+00:00 2024-05-19 00:00:00+00:00   \n",
       "\n",
       "        CloudCover_Point0_dwd  CloudCover_Point1_dwd  CloudCover_Point2_dwd  \\\n",
       "0                   -0.982652              -0.285306              -1.274204   \n",
       "1                   -0.952231              -0.314613              -1.055732   \n",
       "2                   -0.921809              -0.343920              -0.837260   \n",
       "3                   -0.792440              -0.278277              -0.678646   \n",
       "4                   -0.663071              -0.212634              -0.520032   \n",
       "...                       ...                    ...                    ...   \n",
       "529625              -2.323971              -2.319299              -2.333750   \n",
       "529626              -2.323971              -2.274052              -2.333750   \n",
       "529627              -2.321605              -1.881825              -2.291858   \n",
       "529628              -2.319239              -1.489599              -2.249967   \n",
       "529629              -2.207478              -1.231137              -1.788881   \n",
       "\n",
       "        CloudCover_Point3_dwd  CloudCover_Point4_dwd  CloudCover_Point5_dwd  \\\n",
       "0                   -0.254969              -1.204310              -1.236174   \n",
       "1                   -0.252858              -1.163102              -0.959317   \n",
       "2                   -0.250747              -1.121895              -0.682460   \n",
       "3                   -0.252858              -1.113218              -0.017810   \n",
       "4                   -0.254969              -1.104542               0.646841   \n",
       "...                       ...                    ...                    ...   \n",
       "529625              -2.226691              -1.859483              -2.242294   \n",
       "529626              -2.155119              -1.974761              -2.242294   \n",
       "529627              -1.908245              -2.087831              -2.242294   \n",
       "529628              -1.661371              -2.200902              -2.242294   \n",
       "529629              -1.366058              -2.219041              -2.242294   \n",
       "\n",
       "        CloudCover_Point6_dwd  CloudCover_Point7_dwd  ...   sin_day   cos_day  \\\n",
       "0                   -0.577607              -0.968967  ... -1.413758 -0.343050   \n",
       "1                   -0.575180              -0.934148  ... -1.413758 -0.343050   \n",
       "2                   -0.572753              -0.899330  ... -1.413758 -0.343050   \n",
       "3                   -0.420935              -0.889174  ... -1.413758 -0.343050   \n",
       "4                   -0.269117              -0.879019  ... -1.413758 -0.343050   \n",
       "...                       ...                    ...  ...       ...       ...   \n",
       "529625              -2.333581              -2.321654  ...  0.895764 -1.174776   \n",
       "529626              -2.333581              -2.321654  ...  0.895764 -1.174776   \n",
       "529627              -2.333581              -2.321654  ...  0.895764 -1.174776   \n",
       "529628              -2.333581              -2.321654  ...  0.895764 -1.174776   \n",
       "529629              -2.177438              -2.321654  ...  0.895764 -1.174776   \n",
       "\n",
       "        CloudCover_Discrepancy  SolarRadiation_Discrepancy  \\\n",
       "0                     1.076331                    0.363312   \n",
       "1                     1.111156                    0.363312   \n",
       "2                     1.145980                    0.363312   \n",
       "3                     1.302960                    0.363312   \n",
       "4                     1.459940                    0.363312   \n",
       "...                        ...                         ...   \n",
       "529625               -0.504910                    0.363460   \n",
       "529626               -0.492299                    0.363486   \n",
       "529627               -0.421224                    0.363287   \n",
       "529628               -0.350148                    0.363089   \n",
       "529629               -0.152797                    0.363305   \n",
       "\n",
       "        Temperature_Discrepancy  Time_Delta  Normalized_CloudCover_dwd  \\\n",
       "0                     -0.356110   -1.714635                        NaN   \n",
       "1                     -0.325474   -1.679991                   1.963820   \n",
       "2                     -0.294838   -1.645346                   1.802157   \n",
       "3                     -0.250579   -1.610701                   0.937752   \n",
       "4                     -0.206321   -1.576057                   0.505550   \n",
       "...                         ...         ...                        ...   \n",
       "529625                 1.406248   -0.224912                   0.014799   \n",
       "529626                 1.334205   -0.190267                   0.014799   \n",
       "529627                 1.280684   -0.155622                   0.014095   \n",
       "529628                 1.227163   -0.120978                   0.013422   \n",
       "529629                 1.184481   -0.086333                   0.044399   \n",
       "\n",
       "        Normalized_CloudCover_ncep  RollingMean_CloudCover_dwd  \\\n",
       "0                              NaN                   -1.004507   \n",
       "1                        -0.006918                   -0.965610   \n",
       "2                        -0.006918                   -0.926712   \n",
       "3                        -0.006918                   -0.843696   \n",
       "4                        -0.006918                   -0.755460   \n",
       "...                            ...                         ...   \n",
       "529625                   -0.006918                   -2.536282   \n",
       "529626                   -0.006918                   -2.523782   \n",
       "529627                   -0.006918                   -2.494824   \n",
       "529628                   -0.006918                   -2.448285   \n",
       "529629                   -0.006918                   -2.345834   \n",
       "\n",
       "        RollingMean_SolarRadiation_dwd  \n",
       "0                            -0.651924  \n",
       "1                            -0.651924  \n",
       "2                            -0.651924  \n",
       "3                            -0.651924  \n",
       "4                            -0.651924  \n",
       "...                                ...  \n",
       "529625                       -0.651887  \n",
       "529626                       -0.651853  \n",
       "529627                       -0.651877  \n",
       "529628                       -0.651936  \n",
       "529629                       -0.651965  \n",
       "\n",
       "[529630 rows x 136 columns]"
      ]
     },
     "execution_count": 25,
     "metadata": {},
     "output_type": "execute_result"
    }
   ],
   "source": [
    "df_solar1"
   ]
  },
  {
   "cell_type": "code",
   "execution_count": 33,
   "metadata": {},
   "outputs": [
    {
     "data": {
      "text/plain": [
       "'\\n# Assuming df is your dataframe and \\'target\\' is your target column\\nsummary, selected_features = run_feature_selection(df, \\'target\\')\\nplot_feature_selection_results(summary)\\n\\n# Print final selected features and their coefficients\\nfinal_model = LinearRegression()\\nX_final = df[selected_features]\\nfinal_model.fit(X_final, df[\\'target\\'])\\n\\ncoefficients = pd.DataFrame({\\n    \\'Feature\\': selected_features,\\n    \\'Coefficient\\': final_model.coef_\\n}).sort_values(by=\\'Coefficient\\', key=abs, ascending=False)\\n\\nprint(\"\\nFinal Model Coefficients:\")\\nprint(coefficients)\\n'"
      ]
     },
     "execution_count": 33,
     "metadata": {},
     "output_type": "execute_result"
    }
   ],
   "source": [
    "def forward_feature_selection(X, y, max_features=15):\n",
    "    from sklearn.linear_model import LinearRegression\n",
    "    from sklearn.model_selection import cross_val_score\n",
    "    import numpy as np\n",
    "    import pandas as pd\n",
    "    \n",
    "    # Initialize variables\n",
    "    features_selected = []\n",
    "    features_to_select = list(X.columns)\n",
    "    best_scores = []\n",
    "    correlations = []\n",
    "    \n",
    "    # Model to use\n",
    "    model = LinearRegression()\n",
    "    \n",
    "    for i in range(max_features):\n",
    "        best_score = float('-inf')\n",
    "        best_feature = None\n",
    "        \n",
    "        # Try each feature not yet selected\n",
    "        for feature in features_to_select:\n",
    "            # Combine selected features with current candidate\n",
    "            current_features = features_selected + [feature]\n",
    "            \n",
    "            # Create dataset with current features\n",
    "            X_current = X[current_features]\n",
    "            \n",
    "            # Perform cross-validation\n",
    "            scores = cross_val_score(model, X_current, y, cv=5, scoring='r2')\n",
    "            avg_score = np.mean(scores)\n",
    "            \n",
    "            # Update if this is the best score\n",
    "            if avg_score > best_score:\n",
    "                best_score = avg_score\n",
    "                best_feature = feature\n",
    "        \n",
    "        # Add best feature to selected features\n",
    "        if best_feature:\n",
    "            features_selected.append(best_feature)\n",
    "            features_to_select.remove(best_feature)\n",
    "            best_scores.append(best_score)\n",
    "            \n",
    "            # Fit model and get correlation for print\n",
    "            X_current = X[features_selected]\n",
    "            model.fit(X_current, y)\n",
    "            y_pred = model.predict(X_current)\n",
    "            mse = np.mean((y - y_pred) ** 2)\n",
    "            correlation = np.corrcoef(y, y_pred)[0, 1]\n",
    "            correlations.append(correlation)\n",
    "            \n",
    "            # Print results\n",
    "            print(f\"Step {i+1}:\")\n",
    "            print(f\"Added feature: {best_feature}\")\n",
    "            print(f\"R-squared score: {best_score:.4f}\")\n",
    "            print(f\"MSE: {mse:.4f}\")\n",
    "            print(f\"Correlation: {correlation:.4f}\")\n",
    "            print(f\"Current features: {features_selected}\")\n",
    "            print(\"--------------------\")\n",
    "    \n",
    "    # Create summary dataframe\n",
    "    summary = pd.DataFrame({\n",
    "        'Step': range(1, len(features_selected) + 1),\n",
    "        'Added_Feature': features_selected,\n",
    "        'R_Squared': best_scores,\n",
    "        'Correlation': correlations\n",
    "    })\n",
    "    \n",
    "    return summary, features_selected\n",
    "\n",
    "# Example usage\n",
    "def run_feature_selection(df, target_column, max_features=20):\n",
    "    # Prepare data\n",
    "    y = df[target_column]\n",
    "    X = df.drop(columns=[target_column])\n",
    "    \n",
    "    # Remove any non-numeric columns\n",
    "    X = X.select_dtypes(include=[np.number])\n",
    "    \n",
    "    # Run feature selection\n",
    "    summary, selected_features = forward_feature_selection(X, y, max_features)\n",
    "    \n",
    "    return summary, selected_features\n",
    "\n",
    "# Plot results\n",
    "def plot_feature_selection_results(summary):\n",
    "    import matplotlib.pyplot as plt\n",
    "    \n",
    "    plt.figure(figsize=(12, 6))\n",
    "    plt.plot(summary['Step'], summary['R_Squared'], label='R-Squared')\n",
    "    plt.plot(summary['Step'], summary['Correlation'], label='Correlation')\n",
    "    plt.xlabel('Number of Features')\n",
    "    plt.ylabel('Score')\n",
    "    plt.title('Feature Selection Results')\n",
    "    plt.legend()\n",
    "    plt.grid(True)\n",
    "    plt.show()\n",
    "\n",
    "# Full example of how to use\n",
    "\"\"\"\n",
    "# Assuming df is your dataframe and 'target' is your target column\n",
    "summary, selected_features = run_feature_selection(df, 'target')\n",
    "plot_feature_selection_results(summary)\n",
    "\n",
    "# Print final selected features and their coefficients\n",
    "final_model = LinearRegression()\n",
    "X_final = df[selected_features]\n",
    "final_model.fit(X_final, df['target'])\n",
    "\n",
    "coefficients = pd.DataFrame({\n",
    "    'Feature': selected_features,\n",
    "    'Coefficient': final_model.coef_\n",
    "}).sort_values(by='Coefficient', key=abs, ascending=False)\n",
    "\n",
    "print(\"\\nFinal Model Coefficients:\")\n",
    "print(coefficients)\n",
    "\"\"\""
   ]
  },
  {
   "cell_type": "code",
   "execution_count": 28,
   "metadata": {},
   "outputs": [
    {
     "data": {
      "text/plain": [
       "['valid_time',\n",
       " 'reference_time',\n",
       " 'CloudCover_Point0_dwd',\n",
       " 'CloudCover_Point1_dwd',\n",
       " 'CloudCover_Point2_dwd',\n",
       " 'CloudCover_Point3_dwd',\n",
       " 'CloudCover_Point4_dwd',\n",
       " 'CloudCover_Point5_dwd',\n",
       " 'CloudCover_Point6_dwd',\n",
       " 'CloudCover_Point7_dwd',\n",
       " 'CloudCover_Point8_dwd',\n",
       " 'CloudCover_Point9_dwd',\n",
       " 'CloudCover_Point10_dwd',\n",
       " 'CloudCover_Point11_dwd',\n",
       " 'CloudCover_Point12_dwd',\n",
       " 'CloudCover_Point13_dwd',\n",
       " 'CloudCover_Point14_dwd',\n",
       " 'CloudCover_Point15_dwd',\n",
       " 'CloudCover_Point16_dwd',\n",
       " 'CloudCover_Point17_dwd',\n",
       " 'CloudCover_Point18_dwd',\n",
       " 'CloudCover_Point19_dwd',\n",
       " 'SolarDownwardRadiation_Point0_dwd',\n",
       " 'SolarDownwardRadiation_Point1_dwd',\n",
       " 'SolarDownwardRadiation_Point2_dwd',\n",
       " 'SolarDownwardRadiation_Point3_dwd',\n",
       " 'SolarDownwardRadiation_Point4_dwd',\n",
       " 'SolarDownwardRadiation_Point5_dwd',\n",
       " 'SolarDownwardRadiation_Point6_dwd',\n",
       " 'SolarDownwardRadiation_Point7_dwd',\n",
       " 'SolarDownwardRadiation_Point8_dwd',\n",
       " 'SolarDownwardRadiation_Point9_dwd',\n",
       " 'SolarDownwardRadiation_Point10_dwd',\n",
       " 'SolarDownwardRadiation_Point11_dwd',\n",
       " 'SolarDownwardRadiation_Point12_dwd',\n",
       " 'SolarDownwardRadiation_Point13_dwd',\n",
       " 'SolarDownwardRadiation_Point14_dwd',\n",
       " 'SolarDownwardRadiation_Point15_dwd',\n",
       " 'SolarDownwardRadiation_Point16_dwd',\n",
       " 'SolarDownwardRadiation_Point17_dwd',\n",
       " 'SolarDownwardRadiation_Point18_dwd',\n",
       " 'SolarDownwardRadiation_Point19_dwd',\n",
       " 'Temperature_Point0_dwd_pes10',\n",
       " 'Temperature_Point1_dwd_pes10',\n",
       " 'Temperature_Point2_dwd_pes10',\n",
       " 'Temperature_Point3_dwd_pes10',\n",
       " 'Temperature_Point4_dwd_pes10',\n",
       " 'Temperature_Point5_dwd_pes10',\n",
       " 'Temperature_Point6_dwd_pes10',\n",
       " 'CloudCover_Point0_ncep',\n",
       " 'CloudCover_Point1_ncep',\n",
       " 'CloudCover_Point2_ncep',\n",
       " 'CloudCover_Point3_ncep',\n",
       " 'CloudCover_Point4_ncep',\n",
       " 'CloudCover_Point5_ncep',\n",
       " 'CloudCover_Point6_ncep',\n",
       " 'CloudCover_Point7_ncep',\n",
       " 'CloudCover_Point8_ncep',\n",
       " 'CloudCover_Point9_ncep',\n",
       " 'CloudCover_Point10_ncep',\n",
       " 'CloudCover_Point11_ncep',\n",
       " 'CloudCover_Point12_ncep',\n",
       " 'CloudCover_Point13_ncep',\n",
       " 'CloudCover_Point14_ncep',\n",
       " 'CloudCover_Point15_ncep',\n",
       " 'CloudCover_Point16_ncep',\n",
       " 'CloudCover_Point17_ncep',\n",
       " 'CloudCover_Point18_ncep',\n",
       " 'CloudCover_Point19_ncep',\n",
       " 'SolarDownwardRadiation_Point0_ncep',\n",
       " 'SolarDownwardRadiation_Point1_ncep',\n",
       " 'SolarDownwardRadiation_Point2_ncep',\n",
       " 'SolarDownwardRadiation_Point3_ncep',\n",
       " 'SolarDownwardRadiation_Point4_ncep',\n",
       " 'SolarDownwardRadiation_Point5_ncep',\n",
       " 'SolarDownwardRadiation_Point6_ncep',\n",
       " 'SolarDownwardRadiation_Point7_ncep',\n",
       " 'SolarDownwardRadiation_Point8_ncep',\n",
       " 'SolarDownwardRadiation_Point9_ncep',\n",
       " 'SolarDownwardRadiation_Point10_ncep',\n",
       " 'SolarDownwardRadiation_Point11_ncep',\n",
       " 'SolarDownwardRadiation_Point12_ncep',\n",
       " 'SolarDownwardRadiation_Point13_ncep',\n",
       " 'SolarDownwardRadiation_Point14_ncep',\n",
       " 'SolarDownwardRadiation_Point15_ncep',\n",
       " 'SolarDownwardRadiation_Point16_ncep',\n",
       " 'SolarDownwardRadiation_Point17_ncep',\n",
       " 'SolarDownwardRadiation_Point18_ncep',\n",
       " 'SolarDownwardRadiation_Point19_ncep',\n",
       " 'Temperature_Point0_ncep_pes10',\n",
       " 'Temperature_Point1_ncep_pes10',\n",
       " 'Temperature_Point2_ncep_pes10',\n",
       " 'Temperature_Point3_ncep_pes10',\n",
       " 'Temperature_Point4_ncep_pes10',\n",
       " 'Temperature_Point5_ncep_pes10',\n",
       " 'Temperature_Point6_ncep_pes10',\n",
       " 'dtm',\n",
       " 'MIP',\n",
       " 'Solar_MW',\n",
       " 'Solar_capacity_mwp',\n",
       " 'Solar_installedcapacity_mwp',\n",
       " 'SS_Price',\n",
       " 'DA_Price',\n",
       " 'Solar_MWh_credit',\n",
       " 'Mean_CloudCover_dwd',\n",
       " 'Mean_CloudCover_ncep',\n",
       " 'Mean_SolarRadiation_dwd',\n",
       " 'Mean_SolarRadiation_ncep',\n",
       " 'Mean_Temperature_dwd',\n",
       " 'Mean_Temperature_ncep',\n",
       " 'Std_CloudCover_dwd',\n",
       " 'Std_CloudCover_ncep',\n",
       " 'CloudCover_Gradient_dwd',\n",
       " 'CloudCover_Gradient_ncep',\n",
       " 'SolarRadiation_Change_dwd',\n",
       " 'SolarRadiation_Change_ncep',\n",
       " 'CloudCover_SolarInteraction_dwd',\n",
       " 'CloudCover_SolarInteraction_ncep',\n",
       " 'Temp_SolarInteraction_dwd',\n",
       " 'Temp_SolarInteraction_ncep',\n",
       " 'Cloud_TemperatureInteraction_dwd',\n",
       " 'Cloud_TemperatureInteraction_ncep',\n",
       " 'hour',\n",
       " 'sin_hour',\n",
       " 'cos_hour',\n",
       " 'day_of_year',\n",
       " 'sin_day',\n",
       " 'cos_day',\n",
       " 'CloudCover_Discrepancy',\n",
       " 'SolarRadiation_Discrepancy',\n",
       " 'Temperature_Discrepancy',\n",
       " 'Time_Delta',\n",
       " 'Normalized_CloudCover_dwd',\n",
       " 'Normalized_CloudCover_ncep',\n",
       " 'RollingMean_CloudCover_dwd',\n",
       " 'RollingMean_SolarRadiation_dwd']"
      ]
     },
     "execution_count": 28,
     "metadata": {},
     "output_type": "execute_result"
    }
   ],
   "source": [
    "df_solar1.columns.to_list()"
   ]
  },
  {
   "cell_type": "code",
   "execution_count": 34,
   "metadata": {},
   "outputs": [
    {
     "name": "stdout",
     "output_type": "stream",
     "text": [
      "Step 1:\n",
      "Added feature: Mean_SolarRadiation_dwd\n",
      "R-squared score: 0.8788\n",
      "MSE: 0.1122\n",
      "Correlation: 0.9422\n",
      "Current features: ['Mean_SolarRadiation_dwd']\n",
      "--------------------\n",
      "Step 2:\n",
      "Added feature: SolarDownwardRadiation_Point19_ncep\n",
      "R-squared score: 0.8848\n",
      "MSE: 0.1058\n",
      "Correlation: 0.9456\n",
      "Current features: ['Mean_SolarRadiation_dwd', 'SolarDownwardRadiation_Point19_ncep']\n",
      "--------------------\n",
      "Step 3:\n",
      "Added feature: cos_day\n",
      "R-squared score: 0.8889\n",
      "MSE: 0.1018\n",
      "Correlation: 0.9477\n",
      "Current features: ['Mean_SolarRadiation_dwd', 'SolarDownwardRadiation_Point19_ncep', 'cos_day']\n",
      "--------------------\n",
      "Step 4:\n",
      "Added feature: RollingMean_SolarRadiation_dwd\n",
      "R-squared score: 0.8914\n",
      "MSE: 0.0993\n",
      "Correlation: 0.9491\n",
      "Current features: ['Mean_SolarRadiation_dwd', 'SolarDownwardRadiation_Point19_ncep', 'cos_day', 'RollingMean_SolarRadiation_dwd']\n",
      "--------------------\n",
      "Step 5:\n",
      "Added feature: Solar_installedcapacity_mwp\n",
      "R-squared score: 0.8934\n",
      "MSE: 0.0981\n",
      "Correlation: 0.9497\n",
      "Current features: ['Mean_SolarRadiation_dwd', 'SolarDownwardRadiation_Point19_ncep', 'cos_day', 'RollingMean_SolarRadiation_dwd', 'Solar_installedcapacity_mwp']\n",
      "--------------------\n",
      "Step 6:\n",
      "Added feature: SolarDownwardRadiation_Point15_dwd\n",
      "R-squared score: 0.8945\n",
      "MSE: 0.0971\n",
      "Correlation: 0.9502\n",
      "Current features: ['Mean_SolarRadiation_dwd', 'SolarDownwardRadiation_Point19_ncep', 'cos_day', 'RollingMean_SolarRadiation_dwd', 'Solar_installedcapacity_mwp', 'SolarDownwardRadiation_Point15_dwd']\n",
      "--------------------\n",
      "Step 7:\n",
      "Added feature: cos_hour\n",
      "R-squared score: 0.8950\n",
      "MSE: 0.0966\n",
      "Correlation: 0.9505\n",
      "Current features: ['Mean_SolarRadiation_dwd', 'SolarDownwardRadiation_Point19_ncep', 'cos_day', 'RollingMean_SolarRadiation_dwd', 'Solar_installedcapacity_mwp', 'SolarDownwardRadiation_Point15_dwd', 'cos_hour']\n",
      "--------------------\n",
      "Step 8:\n",
      "Added feature: SolarDownwardRadiation_Point3_ncep\n",
      "R-squared score: 0.8952\n",
      "MSE: 0.0962\n",
      "Correlation: 0.9507\n",
      "Current features: ['Mean_SolarRadiation_dwd', 'SolarDownwardRadiation_Point19_ncep', 'cos_day', 'RollingMean_SolarRadiation_dwd', 'Solar_installedcapacity_mwp', 'SolarDownwardRadiation_Point15_dwd', 'cos_hour', 'SolarDownwardRadiation_Point3_ncep']\n",
      "--------------------\n",
      "Step 9:\n",
      "Added feature: Temperature_Point1_ncep_pes10\n",
      "R-squared score: 0.8953\n",
      "MSE: 0.0961\n",
      "Correlation: 0.9507\n",
      "Current features: ['Mean_SolarRadiation_dwd', 'SolarDownwardRadiation_Point19_ncep', 'cos_day', 'RollingMean_SolarRadiation_dwd', 'Solar_installedcapacity_mwp', 'SolarDownwardRadiation_Point15_dwd', 'cos_hour', 'SolarDownwardRadiation_Point3_ncep', 'Temperature_Point1_ncep_pes10']\n",
      "--------------------\n",
      "Step 10:\n",
      "Added feature: Temperature_Point4_ncep_pes10\n",
      "R-squared score: 0.8957\n",
      "MSE: 0.0957\n",
      "Correlation: 0.9509\n",
      "Current features: ['Mean_SolarRadiation_dwd', 'SolarDownwardRadiation_Point19_ncep', 'cos_day', 'RollingMean_SolarRadiation_dwd', 'Solar_installedcapacity_mwp', 'SolarDownwardRadiation_Point15_dwd', 'cos_hour', 'SolarDownwardRadiation_Point3_ncep', 'Temperature_Point1_ncep_pes10', 'Temperature_Point4_ncep_pes10']\n",
      "--------------------\n",
      "Step 11:\n",
      "Added feature: SolarDownwardRadiation_Point14_ncep\n",
      "R-squared score: 0.8960\n",
      "MSE: 0.0951\n",
      "Correlation: 0.9513\n",
      "Current features: ['Mean_SolarRadiation_dwd', 'SolarDownwardRadiation_Point19_ncep', 'cos_day', 'RollingMean_SolarRadiation_dwd', 'Solar_installedcapacity_mwp', 'SolarDownwardRadiation_Point15_dwd', 'cos_hour', 'SolarDownwardRadiation_Point3_ncep', 'Temperature_Point1_ncep_pes10', 'Temperature_Point4_ncep_pes10', 'SolarDownwardRadiation_Point14_ncep']\n",
      "--------------------\n",
      "Step 12:\n",
      "Added feature: SolarDownwardRadiation_Point10_dwd\n",
      "R-squared score: 0.8962\n",
      "MSE: 0.0949\n",
      "Correlation: 0.9514\n",
      "Current features: ['Mean_SolarRadiation_dwd', 'SolarDownwardRadiation_Point19_ncep', 'cos_day', 'RollingMean_SolarRadiation_dwd', 'Solar_installedcapacity_mwp', 'SolarDownwardRadiation_Point15_dwd', 'cos_hour', 'SolarDownwardRadiation_Point3_ncep', 'Temperature_Point1_ncep_pes10', 'Temperature_Point4_ncep_pes10', 'SolarDownwardRadiation_Point14_ncep', 'SolarDownwardRadiation_Point10_dwd']\n",
      "--------------------\n",
      "Step 13:\n",
      "Added feature: day_of_year\n",
      "R-squared score: 0.8964\n",
      "MSE: 0.0947\n",
      "Correlation: 0.9515\n",
      "Current features: ['Mean_SolarRadiation_dwd', 'SolarDownwardRadiation_Point19_ncep', 'cos_day', 'RollingMean_SolarRadiation_dwd', 'Solar_installedcapacity_mwp', 'SolarDownwardRadiation_Point15_dwd', 'cos_hour', 'SolarDownwardRadiation_Point3_ncep', 'Temperature_Point1_ncep_pes10', 'Temperature_Point4_ncep_pes10', 'SolarDownwardRadiation_Point14_ncep', 'SolarDownwardRadiation_Point10_dwd', 'day_of_year']\n",
      "--------------------\n",
      "Step 14:\n",
      "Added feature: SS_Price\n",
      "R-squared score: 0.8964\n",
      "MSE: 0.0942\n",
      "Correlation: 0.9518\n",
      "Current features: ['Mean_SolarRadiation_dwd', 'SolarDownwardRadiation_Point19_ncep', 'cos_day', 'RollingMean_SolarRadiation_dwd', 'Solar_installedcapacity_mwp', 'SolarDownwardRadiation_Point15_dwd', 'cos_hour', 'SolarDownwardRadiation_Point3_ncep', 'Temperature_Point1_ncep_pes10', 'Temperature_Point4_ncep_pes10', 'SolarDownwardRadiation_Point14_ncep', 'SolarDownwardRadiation_Point10_dwd', 'day_of_year', 'SS_Price']\n",
      "--------------------\n",
      "Step 15:\n",
      "Added feature: CloudCover_Point2_dwd\n",
      "R-squared score: 0.8965\n",
      "MSE: 0.0941\n",
      "Correlation: 0.9518\n",
      "Current features: ['Mean_SolarRadiation_dwd', 'SolarDownwardRadiation_Point19_ncep', 'cos_day', 'RollingMean_SolarRadiation_dwd', 'Solar_installedcapacity_mwp', 'SolarDownwardRadiation_Point15_dwd', 'cos_hour', 'SolarDownwardRadiation_Point3_ncep', 'Temperature_Point1_ncep_pes10', 'Temperature_Point4_ncep_pes10', 'SolarDownwardRadiation_Point14_ncep', 'SolarDownwardRadiation_Point10_dwd', 'day_of_year', 'SS_Price', 'CloudCover_Point2_dwd']\n",
      "--------------------\n",
      "Step 16:\n",
      "Added feature: Cloud_TemperatureInteraction_dwd\n",
      "R-squared score: 0.8968\n",
      "MSE: 0.0939\n",
      "Correlation: 0.9519\n",
      "Current features: ['Mean_SolarRadiation_dwd', 'SolarDownwardRadiation_Point19_ncep', 'cos_day', 'RollingMean_SolarRadiation_dwd', 'Solar_installedcapacity_mwp', 'SolarDownwardRadiation_Point15_dwd', 'cos_hour', 'SolarDownwardRadiation_Point3_ncep', 'Temperature_Point1_ncep_pes10', 'Temperature_Point4_ncep_pes10', 'SolarDownwardRadiation_Point14_ncep', 'SolarDownwardRadiation_Point10_dwd', 'day_of_year', 'SS_Price', 'CloudCover_Point2_dwd', 'Cloud_TemperatureInteraction_dwd']\n",
      "--------------------\n",
      "Step 17:\n",
      "Added feature: RollingMean_CloudCover_dwd\n",
      "R-squared score: 0.8969\n",
      "MSE: 0.0938\n",
      "Correlation: 0.9520\n",
      "Current features: ['Mean_SolarRadiation_dwd', 'SolarDownwardRadiation_Point19_ncep', 'cos_day', 'RollingMean_SolarRadiation_dwd', 'Solar_installedcapacity_mwp', 'SolarDownwardRadiation_Point15_dwd', 'cos_hour', 'SolarDownwardRadiation_Point3_ncep', 'Temperature_Point1_ncep_pes10', 'Temperature_Point4_ncep_pes10', 'SolarDownwardRadiation_Point14_ncep', 'SolarDownwardRadiation_Point10_dwd', 'day_of_year', 'SS_Price', 'CloudCover_Point2_dwd', 'Cloud_TemperatureInteraction_dwd', 'RollingMean_CloudCover_dwd']\n",
      "--------------------\n",
      "Step 18:\n",
      "Added feature: Temperature_Point5_dwd_pes10\n",
      "R-squared score: 0.8971\n",
      "MSE: 0.0937\n",
      "Correlation: 0.9520\n",
      "Current features: ['Mean_SolarRadiation_dwd', 'SolarDownwardRadiation_Point19_ncep', 'cos_day', 'RollingMean_SolarRadiation_dwd', 'Solar_installedcapacity_mwp', 'SolarDownwardRadiation_Point15_dwd', 'cos_hour', 'SolarDownwardRadiation_Point3_ncep', 'Temperature_Point1_ncep_pes10', 'Temperature_Point4_ncep_pes10', 'SolarDownwardRadiation_Point14_ncep', 'SolarDownwardRadiation_Point10_dwd', 'day_of_year', 'SS_Price', 'CloudCover_Point2_dwd', 'Cloud_TemperatureInteraction_dwd', 'RollingMean_CloudCover_dwd', 'Temperature_Point5_dwd_pes10']\n",
      "--------------------\n",
      "Step 19:\n",
      "Added feature: CloudCover_Gradient_dwd\n",
      "R-squared score: 0.8972\n",
      "MSE: 0.0935\n",
      "Correlation: 0.9521\n",
      "Current features: ['Mean_SolarRadiation_dwd', 'SolarDownwardRadiation_Point19_ncep', 'cos_day', 'RollingMean_SolarRadiation_dwd', 'Solar_installedcapacity_mwp', 'SolarDownwardRadiation_Point15_dwd', 'cos_hour', 'SolarDownwardRadiation_Point3_ncep', 'Temperature_Point1_ncep_pes10', 'Temperature_Point4_ncep_pes10', 'SolarDownwardRadiation_Point14_ncep', 'SolarDownwardRadiation_Point10_dwd', 'day_of_year', 'SS_Price', 'CloudCover_Point2_dwd', 'Cloud_TemperatureInteraction_dwd', 'RollingMean_CloudCover_dwd', 'Temperature_Point5_dwd_pes10', 'CloudCover_Gradient_dwd']\n",
      "--------------------\n",
      "Step 20:\n",
      "Added feature: sin_hour\n",
      "R-squared score: 0.8973\n",
      "MSE: 0.0934\n",
      "Correlation: 0.9521\n",
      "Current features: ['Mean_SolarRadiation_dwd', 'SolarDownwardRadiation_Point19_ncep', 'cos_day', 'RollingMean_SolarRadiation_dwd', 'Solar_installedcapacity_mwp', 'SolarDownwardRadiation_Point15_dwd', 'cos_hour', 'SolarDownwardRadiation_Point3_ncep', 'Temperature_Point1_ncep_pes10', 'Temperature_Point4_ncep_pes10', 'SolarDownwardRadiation_Point14_ncep', 'SolarDownwardRadiation_Point10_dwd', 'day_of_year', 'SS_Price', 'CloudCover_Point2_dwd', 'Cloud_TemperatureInteraction_dwd', 'RollingMean_CloudCover_dwd', 'Temperature_Point5_dwd_pes10', 'CloudCover_Gradient_dwd', 'sin_hour']\n",
      "--------------------\n"
     ]
    }
   ],
   "source": [
    "summary, selected_features = run_feature_selection(df_solar1.drop(columns=['Solar_MW','reference_time','valid_time']), 'Solar_MWh_credit')"
   ]
  },
  {
   "cell_type": "code",
   "execution_count": 38,
   "metadata": {},
   "outputs": [
    {
     "name": "stdout",
     "output_type": "stream",
     "text": [
      "                            Feature  Importance\n",
      "101         Mean_SolarRadiation_dwd    0.866448\n",
      "119                        cos_hour    0.018812\n",
      "130  RollingMean_SolarRadiation_dwd    0.016446\n",
      "102        Mean_SolarRadiation_ncep    0.007231\n",
      "122                         cos_day    0.007007\n",
      "..                              ...         ...\n",
      "8             CloudCover_Point8_dwd    0.000138\n",
      "7             CloudCover_Point7_dwd    0.000137\n",
      "63          CloudCover_Point16_ncep    0.000127\n",
      "0             CloudCover_Point0_dwd    0.000124\n",
      "62          CloudCover_Point15_ncep    0.000118\n",
      "\n",
      "[131 rows x 2 columns]\n"
     ]
    },
    {
     "data": {
      "application/vnd.plotly.v1+json": {
       "config": {
        "plotlyServerURL": "https://plot.ly"
       },
       "data": [
        {
         "alignmentgroup": "True",
         "hovertemplate": "Features=%{x}<br>Importance=%{y}<extra></extra>",
         "legendgroup": "",
         "marker": {
          "color": "#636efa",
          "pattern": {
           "shape": ""
          }
         },
         "name": "",
         "offsetgroup": "",
         "orientation": "v",
         "showlegend": false,
         "textposition": "auto",
         "type": "bar",
         "x": [
          "Mean_SolarRadiation_dwd",
          "cos_hour",
          "RollingMean_SolarRadiation_dwd",
          "Mean_SolarRadiation_ncep",
          "cos_day",
          "Solar_capacity_mwp",
          "SS_Price",
          "Solar_installedcapacity_mwp",
          "MIP",
          "day_of_year",
          "sin_day",
          "DA_Price",
          "CloudCover_SolarInteraction_dwd",
          "SolarDownwardRadiation_Point19_ncep",
          "SolarDownwardRadiation_Point3_ncep",
          "Temp_SolarInteraction_ncep",
          "SolarDownwardRadiation_Point2_ncep",
          "Temperature_Point1_ncep_pes10",
          "Temperature_Discrepancy",
          "SolarDownwardRadiation_Point12_ncep",
          "SolarDownwardRadiation_Point8_ncep",
          "hour",
          "SolarDownwardRadiation_Point14_ncep",
          "Cloud_TemperatureInteraction_dwd",
          "CloudCover_Point5_ncep",
          "SolarDownwardRadiation_Point4_ncep",
          "Temperature_Point1_dwd_pes10",
          "Temperature_Point6_dwd_pes10",
          "SolarDownwardRadiation_Point2_dwd",
          "Cloud_TemperatureInteraction_ncep",
          "Temperature_Point5_ncep_pes10",
          "SolarDownwardRadiation_Point4_dwd",
          "sin_hour",
          "SolarDownwardRadiation_Point11_ncep",
          "RollingMean_CloudCover_dwd",
          "SolarDownwardRadiation_Point14_dwd",
          "SolarDownwardRadiation_Point18_dwd",
          "SolarDownwardRadiation_Point3_dwd",
          "CloudCover_Point4_ncep",
          "Temperature_Point5_dwd_pes10",
          "Temperature_Point2_ncep_pes10",
          "SolarDownwardRadiation_Point18_ncep",
          "Temperature_Point3_ncep_pes10",
          "SolarRadiation_Discrepancy",
          "SolarDownwardRadiation_Point12_dwd",
          "Temp_SolarInteraction_dwd",
          "SolarDownwardRadiation_Point19_dwd",
          "SolarDownwardRadiation_Point17_ncep",
          "SolarDownwardRadiation_Point13_dwd",
          "SolarDownwardRadiation_Point11_dwd",
          "SolarDownwardRadiation_Point1_dwd",
          "SolarDownwardRadiation_Point13_ncep",
          "Temperature_Point4_ncep_pes10",
          "SolarDownwardRadiation_Point5_dwd",
          "CloudCover_Discrepancy",
          "SolarRadiation_Change_dwd",
          "CloudCover_Point19_ncep",
          "SolarDownwardRadiation_Point17_dwd",
          "SolarDownwardRadiation_Point7_ncep",
          "SolarDownwardRadiation_Point0_ncep",
          "Std_CloudCover_dwd",
          "Temperature_Point2_dwd_pes10",
          "CloudCover_SolarInteraction_ncep",
          "SolarRadiation_Change_ncep",
          "Temperature_Point4_dwd_pes10",
          "SolarDownwardRadiation_Point10_dwd",
          "SolarDownwardRadiation_Point6_ncep",
          "SolarDownwardRadiation_Point5_ncep",
          "Time_Delta",
          "CloudCover_Point12_ncep",
          "CloudCover_Point18_ncep",
          "CloudCover_Point14_dwd",
          "CloudCover_Point0_ncep",
          "SolarDownwardRadiation_Point1_ncep",
          "Mean_CloudCover_dwd",
          "Temperature_Point6_ncep_pes10",
          "Temperature_Point0_ncep_pes10",
          "SolarDownwardRadiation_Point16_ncep",
          "SolarDownwardRadiation_Point15_dwd",
          "SolarDownwardRadiation_Point10_ncep",
          "CloudCover_Point17_ncep",
          "SolarDownwardRadiation_Point7_dwd",
          "SolarDownwardRadiation_Point16_dwd",
          "SolarDownwardRadiation_Point8_dwd",
          "CloudCover_Gradient_dwd",
          "CloudCover_Gradient_ncep",
          "SolarDownwardRadiation_Point6_dwd",
          "SolarDownwardRadiation_Point9_ncep",
          "Temperature_Point3_dwd_pes10",
          "CloudCover_Point13_dwd",
          "CloudCover_Point1_dwd",
          "Temperature_Point0_dwd_pes10",
          "CloudCover_Point18_dwd",
          "CloudCover_Point3_dwd",
          "Std_CloudCover_ncep",
          "CloudCover_Point3_ncep",
          "CloudCover_Point2_ncep",
          "Mean_Temperature_ncep",
          "SolarDownwardRadiation_Point0_dwd",
          "Normalized_CloudCover_ncep",
          "Mean_CloudCover_ncep",
          "Mean_Temperature_dwd",
          "CloudCover_Point1_ncep",
          "CloudCover_Point17_dwd",
          "CloudCover_Point10_ncep",
          "SolarDownwardRadiation_Point9_dwd",
          "CloudCover_Point13_ncep",
          "CloudCover_Point6_dwd",
          "CloudCover_Point2_dwd",
          "CloudCover_Point10_dwd",
          "CloudCover_Point11_dwd",
          "CloudCover_Point14_ncep",
          "CloudCover_Point19_dwd",
          "CloudCover_Point5_dwd",
          "CloudCover_Point7_ncep",
          "CloudCover_Point11_ncep",
          "CloudCover_Point12_dwd",
          "CloudCover_Point16_dwd",
          "SolarDownwardRadiation_Point15_ncep",
          "CloudCover_Point8_ncep",
          "CloudCover_Point15_dwd",
          "CloudCover_Point4_dwd",
          "CloudCover_Point9_ncep",
          "CloudCover_Point9_dwd",
          "Normalized_CloudCover_dwd",
          "CloudCover_Point6_ncep",
          "CloudCover_Point8_dwd",
          "CloudCover_Point7_dwd",
          "CloudCover_Point16_ncep",
          "CloudCover_Point0_dwd",
          "CloudCover_Point15_ncep"
         ],
         "xaxis": "x",
         "y": [
          0.8664484739609756,
          0.018811660719988417,
          0.01644553715806298,
          0.007231472444266752,
          0.007007353052639769,
          0.0057920662349338235,
          0.005208954032383017,
          0.004065734335416688,
          0.003609889146278303,
          0.0034464018002898786,
          0.00291701013981141,
          0.0025229026629365976,
          0.0023688419163640454,
          0.0023288983489164186,
          0.002274159517228297,
          0.0017671575632713025,
          0.0013858534067144345,
          0.0013729453980169278,
          0.0013624184192263166,
          0.0013249941385178434,
          0.0012701501049223515,
          0.0011097259117935434,
          0.00104265464745901,
          0.0009961716159956674,
          0.0008212480680545606,
          0.0007487775450652002,
          0.0007457517206088972,
          0.000743089835733186,
          0.0007425465608548555,
          0.000676985921075644,
          0.0006661291000694537,
          0.0006627140473724393,
          0.0006519974801266431,
          0.0006483751946052926,
          0.0006025530396281386,
          0.000589872909141017,
          0.0005872394644454549,
          0.0005815928743451983,
          0.0005746157842068894,
          0.0005684154962868231,
          0.0005629067798231392,
          0.0005472121450265303,
          0.0005429396712042664,
          0.0005223781770269683,
          0.000516147345764647,
          0.0005090913149877453,
          0.000503948187568543,
          0.0004887896907835389,
          0.0004685828687129651,
          0.0004619543673000158,
          0.00045445581161402776,
          0.0004490070123640504,
          0.0004457829933240712,
          0.0004303705386437526,
          0.00042786974114912926,
          0.00042216936231636866,
          0.0004169754984951929,
          0.0004114775711292562,
          0.0004043500342830086,
          0.0004020901102793039,
          0.0003989303729658879,
          0.0003670915623704264,
          0.00036367904229822053,
          0.0003633213367774885,
          0.0003506144986738263,
          0.00034475870175748976,
          0.0003430494728043174,
          0.0003400235381455415,
          0.00033667872119696996,
          0.00033241912024748393,
          0.0003318425383048659,
          0.0003302047449872883,
          0.0003301413343762642,
          0.00032035073507464645,
          0.00031942142154400393,
          0.00031933348399971394,
          0.0003067810874073981,
          0.000305734506623711,
          0.00030514783944448986,
          0.00030167668204875663,
          0.0003008178792581324,
          0.0002983233070506676,
          0.00029702761506972204,
          0.00029675138554010493,
          0.000294684495046823,
          0.0002946419009232628,
          0.0002895919211631992,
          0.00028784813835484266,
          0.0002869092491567899,
          0.00028234340885928356,
          0.00027825655740920327,
          0.0002770135972998876,
          0.000271007954458717,
          0.0002679602929863689,
          0.0002646279471521724,
          0.00025442282617672124,
          0.00025217682267188765,
          0.0002479733019400876,
          0.0002471456695076167,
          0.0002463926313755751,
          0.00023829912757669766,
          0.00023099074799424736,
          0.00022878534059007978,
          0.00022774613220381574,
          0.0002259928263109891,
          0.00021877130826138697,
          0.0002148568908411134,
          0.00021332675026865264,
          0.00021243982221801698,
          0.00020635651243196734,
          0.0002046419652396269,
          0.00020454980799337972,
          0.00019893968742637646,
          0.00019570696745118172,
          0.00019368837923746431,
          0.000188366269281999,
          0.00018167893295739234,
          0.00017696062397285262,
          0.00017304160759650723,
          0.00016516598147193817,
          0.00015645477806886047,
          0.0001532628700811026,
          0.00014843841510464164,
          0.00014724865405162758,
          0.0001461839851825601,
          0.00014448618181097533,
          0.0001384427933221977,
          0.00013719269424671403,
          0.00012694460484173273,
          0.00012413980241833883,
          0.0001179509572700125
         ],
         "yaxis": "y"
        }
       ],
       "layout": {
        "barmode": "relative",
        "legend": {
         "tracegroupgap": 0
        },
        "template": {
         "data": {
          "bar": [
           {
            "error_x": {
             "color": "#2a3f5f"
            },
            "error_y": {
             "color": "#2a3f5f"
            },
            "marker": {
             "line": {
              "color": "#E5ECF6",
              "width": 0.5
             },
             "pattern": {
              "fillmode": "overlay",
              "size": 10,
              "solidity": 0.2
             }
            },
            "type": "bar"
           }
          ],
          "barpolar": [
           {
            "marker": {
             "line": {
              "color": "#E5ECF6",
              "width": 0.5
             },
             "pattern": {
              "fillmode": "overlay",
              "size": 10,
              "solidity": 0.2
             }
            },
            "type": "barpolar"
           }
          ],
          "carpet": [
           {
            "aaxis": {
             "endlinecolor": "#2a3f5f",
             "gridcolor": "white",
             "linecolor": "white",
             "minorgridcolor": "white",
             "startlinecolor": "#2a3f5f"
            },
            "baxis": {
             "endlinecolor": "#2a3f5f",
             "gridcolor": "white",
             "linecolor": "white",
             "minorgridcolor": "white",
             "startlinecolor": "#2a3f5f"
            },
            "type": "carpet"
           }
          ],
          "choropleth": [
           {
            "colorbar": {
             "outlinewidth": 0,
             "ticks": ""
            },
            "type": "choropleth"
           }
          ],
          "contour": [
           {
            "colorbar": {
             "outlinewidth": 0,
             "ticks": ""
            },
            "colorscale": [
             [
              0,
              "#0d0887"
             ],
             [
              0.1111111111111111,
              "#46039f"
             ],
             [
              0.2222222222222222,
              "#7201a8"
             ],
             [
              0.3333333333333333,
              "#9c179e"
             ],
             [
              0.4444444444444444,
              "#bd3786"
             ],
             [
              0.5555555555555556,
              "#d8576b"
             ],
             [
              0.6666666666666666,
              "#ed7953"
             ],
             [
              0.7777777777777778,
              "#fb9f3a"
             ],
             [
              0.8888888888888888,
              "#fdca26"
             ],
             [
              1,
              "#f0f921"
             ]
            ],
            "type": "contour"
           }
          ],
          "contourcarpet": [
           {
            "colorbar": {
             "outlinewidth": 0,
             "ticks": ""
            },
            "type": "contourcarpet"
           }
          ],
          "heatmap": [
           {
            "colorbar": {
             "outlinewidth": 0,
             "ticks": ""
            },
            "colorscale": [
             [
              0,
              "#0d0887"
             ],
             [
              0.1111111111111111,
              "#46039f"
             ],
             [
              0.2222222222222222,
              "#7201a8"
             ],
             [
              0.3333333333333333,
              "#9c179e"
             ],
             [
              0.4444444444444444,
              "#bd3786"
             ],
             [
              0.5555555555555556,
              "#d8576b"
             ],
             [
              0.6666666666666666,
              "#ed7953"
             ],
             [
              0.7777777777777778,
              "#fb9f3a"
             ],
             [
              0.8888888888888888,
              "#fdca26"
             ],
             [
              1,
              "#f0f921"
             ]
            ],
            "type": "heatmap"
           }
          ],
          "heatmapgl": [
           {
            "colorbar": {
             "outlinewidth": 0,
             "ticks": ""
            },
            "colorscale": [
             [
              0,
              "#0d0887"
             ],
             [
              0.1111111111111111,
              "#46039f"
             ],
             [
              0.2222222222222222,
              "#7201a8"
             ],
             [
              0.3333333333333333,
              "#9c179e"
             ],
             [
              0.4444444444444444,
              "#bd3786"
             ],
             [
              0.5555555555555556,
              "#d8576b"
             ],
             [
              0.6666666666666666,
              "#ed7953"
             ],
             [
              0.7777777777777778,
              "#fb9f3a"
             ],
             [
              0.8888888888888888,
              "#fdca26"
             ],
             [
              1,
              "#f0f921"
             ]
            ],
            "type": "heatmapgl"
           }
          ],
          "histogram": [
           {
            "marker": {
             "pattern": {
              "fillmode": "overlay",
              "size": 10,
              "solidity": 0.2
             }
            },
            "type": "histogram"
           }
          ],
          "histogram2d": [
           {
            "colorbar": {
             "outlinewidth": 0,
             "ticks": ""
            },
            "colorscale": [
             [
              0,
              "#0d0887"
             ],
             [
              0.1111111111111111,
              "#46039f"
             ],
             [
              0.2222222222222222,
              "#7201a8"
             ],
             [
              0.3333333333333333,
              "#9c179e"
             ],
             [
              0.4444444444444444,
              "#bd3786"
             ],
             [
              0.5555555555555556,
              "#d8576b"
             ],
             [
              0.6666666666666666,
              "#ed7953"
             ],
             [
              0.7777777777777778,
              "#fb9f3a"
             ],
             [
              0.8888888888888888,
              "#fdca26"
             ],
             [
              1,
              "#f0f921"
             ]
            ],
            "type": "histogram2d"
           }
          ],
          "histogram2dcontour": [
           {
            "colorbar": {
             "outlinewidth": 0,
             "ticks": ""
            },
            "colorscale": [
             [
              0,
              "#0d0887"
             ],
             [
              0.1111111111111111,
              "#46039f"
             ],
             [
              0.2222222222222222,
              "#7201a8"
             ],
             [
              0.3333333333333333,
              "#9c179e"
             ],
             [
              0.4444444444444444,
              "#bd3786"
             ],
             [
              0.5555555555555556,
              "#d8576b"
             ],
             [
              0.6666666666666666,
              "#ed7953"
             ],
             [
              0.7777777777777778,
              "#fb9f3a"
             ],
             [
              0.8888888888888888,
              "#fdca26"
             ],
             [
              1,
              "#f0f921"
             ]
            ],
            "type": "histogram2dcontour"
           }
          ],
          "mesh3d": [
           {
            "colorbar": {
             "outlinewidth": 0,
             "ticks": ""
            },
            "type": "mesh3d"
           }
          ],
          "parcoords": [
           {
            "line": {
             "colorbar": {
              "outlinewidth": 0,
              "ticks": ""
             }
            },
            "type": "parcoords"
           }
          ],
          "pie": [
           {
            "automargin": true,
            "type": "pie"
           }
          ],
          "scatter": [
           {
            "fillpattern": {
             "fillmode": "overlay",
             "size": 10,
             "solidity": 0.2
            },
            "type": "scatter"
           }
          ],
          "scatter3d": [
           {
            "line": {
             "colorbar": {
              "outlinewidth": 0,
              "ticks": ""
             }
            },
            "marker": {
             "colorbar": {
              "outlinewidth": 0,
              "ticks": ""
             }
            },
            "type": "scatter3d"
           }
          ],
          "scattercarpet": [
           {
            "marker": {
             "colorbar": {
              "outlinewidth": 0,
              "ticks": ""
             }
            },
            "type": "scattercarpet"
           }
          ],
          "scattergeo": [
           {
            "marker": {
             "colorbar": {
              "outlinewidth": 0,
              "ticks": ""
             }
            },
            "type": "scattergeo"
           }
          ],
          "scattergl": [
           {
            "marker": {
             "colorbar": {
              "outlinewidth": 0,
              "ticks": ""
             }
            },
            "type": "scattergl"
           }
          ],
          "scattermapbox": [
           {
            "marker": {
             "colorbar": {
              "outlinewidth": 0,
              "ticks": ""
             }
            },
            "type": "scattermapbox"
           }
          ],
          "scatterpolar": [
           {
            "marker": {
             "colorbar": {
              "outlinewidth": 0,
              "ticks": ""
             }
            },
            "type": "scatterpolar"
           }
          ],
          "scatterpolargl": [
           {
            "marker": {
             "colorbar": {
              "outlinewidth": 0,
              "ticks": ""
             }
            },
            "type": "scatterpolargl"
           }
          ],
          "scatterternary": [
           {
            "marker": {
             "colorbar": {
              "outlinewidth": 0,
              "ticks": ""
             }
            },
            "type": "scatterternary"
           }
          ],
          "surface": [
           {
            "colorbar": {
             "outlinewidth": 0,
             "ticks": ""
            },
            "colorscale": [
             [
              0,
              "#0d0887"
             ],
             [
              0.1111111111111111,
              "#46039f"
             ],
             [
              0.2222222222222222,
              "#7201a8"
             ],
             [
              0.3333333333333333,
              "#9c179e"
             ],
             [
              0.4444444444444444,
              "#bd3786"
             ],
             [
              0.5555555555555556,
              "#d8576b"
             ],
             [
              0.6666666666666666,
              "#ed7953"
             ],
             [
              0.7777777777777778,
              "#fb9f3a"
             ],
             [
              0.8888888888888888,
              "#fdca26"
             ],
             [
              1,
              "#f0f921"
             ]
            ],
            "type": "surface"
           }
          ],
          "table": [
           {
            "cells": {
             "fill": {
              "color": "#EBF0F8"
             },
             "line": {
              "color": "white"
             }
            },
            "header": {
             "fill": {
              "color": "#C8D4E3"
             },
             "line": {
              "color": "white"
             }
            },
            "type": "table"
           }
          ]
         },
         "layout": {
          "annotationdefaults": {
           "arrowcolor": "#2a3f5f",
           "arrowhead": 0,
           "arrowwidth": 1
          },
          "autotypenumbers": "strict",
          "coloraxis": {
           "colorbar": {
            "outlinewidth": 0,
            "ticks": ""
           }
          },
          "colorscale": {
           "diverging": [
            [
             0,
             "#8e0152"
            ],
            [
             0.1,
             "#c51b7d"
            ],
            [
             0.2,
             "#de77ae"
            ],
            [
             0.3,
             "#f1b6da"
            ],
            [
             0.4,
             "#fde0ef"
            ],
            [
             0.5,
             "#f7f7f7"
            ],
            [
             0.6,
             "#e6f5d0"
            ],
            [
             0.7,
             "#b8e186"
            ],
            [
             0.8,
             "#7fbc41"
            ],
            [
             0.9,
             "#4d9221"
            ],
            [
             1,
             "#276419"
            ]
           ],
           "sequential": [
            [
             0,
             "#0d0887"
            ],
            [
             0.1111111111111111,
             "#46039f"
            ],
            [
             0.2222222222222222,
             "#7201a8"
            ],
            [
             0.3333333333333333,
             "#9c179e"
            ],
            [
             0.4444444444444444,
             "#bd3786"
            ],
            [
             0.5555555555555556,
             "#d8576b"
            ],
            [
             0.6666666666666666,
             "#ed7953"
            ],
            [
             0.7777777777777778,
             "#fb9f3a"
            ],
            [
             0.8888888888888888,
             "#fdca26"
            ],
            [
             1,
             "#f0f921"
            ]
           ],
           "sequentialminus": [
            [
             0,
             "#0d0887"
            ],
            [
             0.1111111111111111,
             "#46039f"
            ],
            [
             0.2222222222222222,
             "#7201a8"
            ],
            [
             0.3333333333333333,
             "#9c179e"
            ],
            [
             0.4444444444444444,
             "#bd3786"
            ],
            [
             0.5555555555555556,
             "#d8576b"
            ],
            [
             0.6666666666666666,
             "#ed7953"
            ],
            [
             0.7777777777777778,
             "#fb9f3a"
            ],
            [
             0.8888888888888888,
             "#fdca26"
            ],
            [
             1,
             "#f0f921"
            ]
           ]
          },
          "colorway": [
           "#636efa",
           "#EF553B",
           "#00cc96",
           "#ab63fa",
           "#FFA15A",
           "#19d3f3",
           "#FF6692",
           "#B6E880",
           "#FF97FF",
           "#FECB52"
          ],
          "font": {
           "color": "#2a3f5f"
          },
          "geo": {
           "bgcolor": "white",
           "lakecolor": "white",
           "landcolor": "#E5ECF6",
           "showlakes": true,
           "showland": true,
           "subunitcolor": "white"
          },
          "hoverlabel": {
           "align": "left"
          },
          "hovermode": "closest",
          "mapbox": {
           "style": "light"
          },
          "paper_bgcolor": "white",
          "plot_bgcolor": "#E5ECF6",
          "polar": {
           "angularaxis": {
            "gridcolor": "white",
            "linecolor": "white",
            "ticks": ""
           },
           "bgcolor": "#E5ECF6",
           "radialaxis": {
            "gridcolor": "white",
            "linecolor": "white",
            "ticks": ""
           }
          },
          "scene": {
           "xaxis": {
            "backgroundcolor": "#E5ECF6",
            "gridcolor": "white",
            "gridwidth": 2,
            "linecolor": "white",
            "showbackground": true,
            "ticks": "",
            "zerolinecolor": "white"
           },
           "yaxis": {
            "backgroundcolor": "#E5ECF6",
            "gridcolor": "white",
            "gridwidth": 2,
            "linecolor": "white",
            "showbackground": true,
            "ticks": "",
            "zerolinecolor": "white"
           },
           "zaxis": {
            "backgroundcolor": "#E5ECF6",
            "gridcolor": "white",
            "gridwidth": 2,
            "linecolor": "white",
            "showbackground": true,
            "ticks": "",
            "zerolinecolor": "white"
           }
          },
          "shapedefaults": {
           "line": {
            "color": "#2a3f5f"
           }
          },
          "ternary": {
           "aaxis": {
            "gridcolor": "white",
            "linecolor": "white",
            "ticks": ""
           },
           "baxis": {
            "gridcolor": "white",
            "linecolor": "white",
            "ticks": ""
           },
           "bgcolor": "#E5ECF6",
           "caxis": {
            "gridcolor": "white",
            "linecolor": "white",
            "ticks": ""
           }
          },
          "title": {
           "x": 0.05
          },
          "xaxis": {
           "automargin": true,
           "gridcolor": "white",
           "linecolor": "white",
           "ticks": "",
           "title": {
            "standoff": 15
           },
           "zerolinecolor": "white",
           "zerolinewidth": 2
          },
          "yaxis": {
           "automargin": true,
           "gridcolor": "white",
           "linecolor": "white",
           "ticks": "",
           "title": {
            "standoff": 15
           },
           "zerolinecolor": "white",
           "zerolinewidth": 2
          }
         }
        },
        "title": {
         "text": "Feature Importance from Decision Tree"
        },
        "xaxis": {
         "anchor": "y",
         "domain": [
          0,
          1
         ],
         "title": {
          "text": "Features"
         }
        },
        "yaxis": {
         "anchor": "x",
         "domain": [
          0,
          1
         ],
         "title": {
          "text": "Importance"
         }
        }
       }
      }
     },
     "metadata": {},
     "output_type": "display_data"
    }
   ],
   "source": [
    "from sklearn.tree import DecisionTreeRegressor\n",
    "import pandas as pd\n",
    "import plotly.express as px\n",
    "\n",
    "# Prepare the data\n",
    "X = df_solar1.drop(columns=['Solar_MW', 'reference_time', 'valid_time', 'dtm','Solar_MWh_credit'])\n",
    "y = df_solar1['Solar_MWh_credit']\n",
    "\n",
    "# Define the selected features\n",
    "selected_features = X.columns.tolist()\n",
    "\n",
    "# Initialize and fit the decision tree regressor\n",
    "tree_model = DecisionTreeRegressor(random_state=42)\n",
    "tree_model.fit(X, y)\n",
    "\n",
    "# Get feature importances\n",
    "feature_importances = tree_model.feature_importances_\n",
    "\n",
    "# Create a DataFrame for better visualization\n",
    "importance_df = pd.DataFrame({\n",
    "    'Feature': selected_features,\n",
    "    'Importance': feature_importances\n",
    "}).sort_values(by='Importance', ascending=False)\n",
    "\n",
    "# Print the most important features\n",
    "print(importance_df)\n",
    "\n",
    "# Plot the feature importances using Plotly\n",
    "fig = px.bar(importance_df, x='Feature', y='Importance', title='Feature Importance from Decision Tree', labels={'Feature': 'Features', 'Importance': 'Importance'})\n",
    "fig.show()"
   ]
  }
 ],
 "metadata": {
  "kernelspec": {
   "display_name": "HEFTcom24",
   "language": "python",
   "name": "python3"
  },
  "language_info": {
   "codemirror_mode": {
    "name": "ipython",
    "version": 3
   },
   "file_extension": ".py",
   "mimetype": "text/x-python",
   "name": "python",
   "nbconvert_exporter": "python",
   "pygments_lexer": "ipython3",
   "version": "3.11.5"
  }
 },
 "nbformat": 4,
 "nbformat_minor": 2
}
