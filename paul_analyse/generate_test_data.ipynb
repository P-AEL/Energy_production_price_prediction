{
 "cells": [
  {
   "cell_type": "code",
   "execution_count": 51,
   "metadata": {},
   "outputs": [],
   "source": [
    "import pandas as pd\n",
    "import numpy as np\n",
    "import plotly.graph_objects as go"
   ]
  },
  {
   "cell_type": "code",
   "execution_count": 52,
   "metadata": {},
   "outputs": [],
   "source": [
    "def resample_and_interpolate(group):\n",
    "    return group.reset_index(level=[1, 2]).resample('30T').asfreq().interpolate()"
   ]
  },
  {
   "cell_type": "code",
   "execution_count": 53,
   "metadata": {},
   "outputs": [],
   "source": [
    "weather_df = pd.read_csv('D:/Users/paulh/Desktop/Domäneprojekt2/Energy_production_price_prediction/weather_data/DWD_ICON-EU.csv')\n",
    "solar_total = pd.read_csv('D:/Users/paulh/Desktop/Domäneprojekt2/Energy_production_price_prediction/basic_files/solar_total_production.csv')\n",
    "solar_total.generation_mw = solar_total.generation_mw * 0.5\n",
    "weather_df.sort_values(by='ref_datetime', inplace=True)\n",
    "weather_df = weather_df.groupby([\"valid_datetime\",\"latitude\",\"longitude\"]).last().reset_index()\n",
    "weather_df.reset_index(inplace=True)"
   ]
  },
  {
   "cell_type": "code",
   "execution_count": 54,
   "metadata": {},
   "outputs": [
    {
     "name": "stderr",
     "output_type": "stream",
     "text": [
      "C:\\Users\\paulh\\AppData\\Local\\Temp\\ipykernel_17076\\2834871732.py:2: FutureWarning: DataFrame.interpolate with object dtype is deprecated and will raise in a future version. Call obj.infer_objects(copy=False) before interpolating instead.\n",
      "  return group.reset_index(level=[1, 2]).resample('30T').asfreq().interpolate()\n",
      "C:\\Users\\paulh\\AppData\\Local\\Temp\\ipykernel_17076\\2834871732.py:2: FutureWarning: DataFrame.interpolate with object dtype is deprecated and will raise in a future version. Call obj.infer_objects(copy=False) before interpolating instead.\n",
      "  return group.reset_index(level=[1, 2]).resample('30T').asfreq().interpolate()\n",
      "C:\\Users\\paulh\\AppData\\Local\\Temp\\ipykernel_17076\\2834871732.py:2: FutureWarning: DataFrame.interpolate with object dtype is deprecated and will raise in a future version. Call obj.infer_objects(copy=False) before interpolating instead.\n",
      "  return group.reset_index(level=[1, 2]).resample('30T').asfreq().interpolate()\n",
      "C:\\Users\\paulh\\AppData\\Local\\Temp\\ipykernel_17076\\2834871732.py:2: FutureWarning: DataFrame.interpolate with object dtype is deprecated and will raise in a future version. Call obj.infer_objects(copy=False) before interpolating instead.\n",
      "  return group.reset_index(level=[1, 2]).resample('30T').asfreq().interpolate()\n",
      "C:\\Users\\paulh\\AppData\\Local\\Temp\\ipykernel_17076\\2834871732.py:2: FutureWarning: DataFrame.interpolate with object dtype is deprecated and will raise in a future version. Call obj.infer_objects(copy=False) before interpolating instead.\n",
      "  return group.reset_index(level=[1, 2]).resample('30T').asfreq().interpolate()\n",
      "C:\\Users\\paulh\\AppData\\Local\\Temp\\ipykernel_17076\\2834871732.py:2: FutureWarning: DataFrame.interpolate with object dtype is deprecated and will raise in a future version. Call obj.infer_objects(copy=False) before interpolating instead.\n",
      "  return group.reset_index(level=[1, 2]).resample('30T').asfreq().interpolate()\n",
      "C:\\Users\\paulh\\AppData\\Local\\Temp\\ipykernel_17076\\2834871732.py:2: FutureWarning: DataFrame.interpolate with object dtype is deprecated and will raise in a future version. Call obj.infer_objects(copy=False) before interpolating instead.\n",
      "  return group.reset_index(level=[1, 2]).resample('30T').asfreq().interpolate()\n",
      "C:\\Users\\paulh\\AppData\\Local\\Temp\\ipykernel_17076\\2834871732.py:2: FutureWarning: DataFrame.interpolate with object dtype is deprecated and will raise in a future version. Call obj.infer_objects(copy=False) before interpolating instead.\n",
      "  return group.reset_index(level=[1, 2]).resample('30T').asfreq().interpolate()\n",
      "C:\\Users\\paulh\\AppData\\Local\\Temp\\ipykernel_17076\\2834871732.py:2: FutureWarning: DataFrame.interpolate with object dtype is deprecated and will raise in a future version. Call obj.infer_objects(copy=False) before interpolating instead.\n",
      "  return group.reset_index(level=[1, 2]).resample('30T').asfreq().interpolate()\n",
      "C:\\Users\\paulh\\AppData\\Local\\Temp\\ipykernel_17076\\2834871732.py:2: FutureWarning: DataFrame.interpolate with object dtype is deprecated and will raise in a future version. Call obj.infer_objects(copy=False) before interpolating instead.\n",
      "  return group.reset_index(level=[1, 2]).resample('30T').asfreq().interpolate()\n",
      "C:\\Users\\paulh\\AppData\\Local\\Temp\\ipykernel_17076\\2834871732.py:2: FutureWarning: DataFrame.interpolate with object dtype is deprecated and will raise in a future version. Call obj.infer_objects(copy=False) before interpolating instead.\n",
      "  return group.reset_index(level=[1, 2]).resample('30T').asfreq().interpolate()\n",
      "C:\\Users\\paulh\\AppData\\Local\\Temp\\ipykernel_17076\\2834871732.py:2: FutureWarning: DataFrame.interpolate with object dtype is deprecated and will raise in a future version. Call obj.infer_objects(copy=False) before interpolating instead.\n",
      "  return group.reset_index(level=[1, 2]).resample('30T').asfreq().interpolate()\n",
      "C:\\Users\\paulh\\AppData\\Local\\Temp\\ipykernel_17076\\2834871732.py:2: FutureWarning: DataFrame.interpolate with object dtype is deprecated and will raise in a future version. Call obj.infer_objects(copy=False) before interpolating instead.\n",
      "  return group.reset_index(level=[1, 2]).resample('30T').asfreq().interpolate()\n",
      "C:\\Users\\paulh\\AppData\\Local\\Temp\\ipykernel_17076\\2834871732.py:2: FutureWarning: DataFrame.interpolate with object dtype is deprecated and will raise in a future version. Call obj.infer_objects(copy=False) before interpolating instead.\n",
      "  return group.reset_index(level=[1, 2]).resample('30T').asfreq().interpolate()\n",
      "C:\\Users\\paulh\\AppData\\Local\\Temp\\ipykernel_17076\\2834871732.py:2: FutureWarning: DataFrame.interpolate with object dtype is deprecated and will raise in a future version. Call obj.infer_objects(copy=False) before interpolating instead.\n",
      "  return group.reset_index(level=[1, 2]).resample('30T').asfreq().interpolate()\n",
      "C:\\Users\\paulh\\AppData\\Local\\Temp\\ipykernel_17076\\2834871732.py:2: FutureWarning: DataFrame.interpolate with object dtype is deprecated and will raise in a future version. Call obj.infer_objects(copy=False) before interpolating instead.\n",
      "  return group.reset_index(level=[1, 2]).resample('30T').asfreq().interpolate()\n",
      "C:\\Users\\paulh\\AppData\\Local\\Temp\\ipykernel_17076\\2834871732.py:2: FutureWarning: DataFrame.interpolate with object dtype is deprecated and will raise in a future version. Call obj.infer_objects(copy=False) before interpolating instead.\n",
      "  return group.reset_index(level=[1, 2]).resample('30T').asfreq().interpolate()\n",
      "C:\\Users\\paulh\\AppData\\Local\\Temp\\ipykernel_17076\\2834871732.py:2: FutureWarning: DataFrame.interpolate with object dtype is deprecated and will raise in a future version. Call obj.infer_objects(copy=False) before interpolating instead.\n",
      "  return group.reset_index(level=[1, 2]).resample('30T').asfreq().interpolate()\n",
      "C:\\Users\\paulh\\AppData\\Local\\Temp\\ipykernel_17076\\2834871732.py:2: FutureWarning: DataFrame.interpolate with object dtype is deprecated and will raise in a future version. Call obj.infer_objects(copy=False) before interpolating instead.\n",
      "  return group.reset_index(level=[1, 2]).resample('30T').asfreq().interpolate()\n",
      "C:\\Users\\paulh\\AppData\\Local\\Temp\\ipykernel_17076\\2834871732.py:2: FutureWarning: DataFrame.interpolate with object dtype is deprecated and will raise in a future version. Call obj.infer_objects(copy=False) before interpolating instead.\n",
      "  return group.reset_index(level=[1, 2]).resample('30T').asfreq().interpolate()\n",
      "C:\\Users\\paulh\\AppData\\Local\\Temp\\ipykernel_17076\\2834871732.py:2: FutureWarning: DataFrame.interpolate with object dtype is deprecated and will raise in a future version. Call obj.infer_objects(copy=False) before interpolating instead.\n",
      "  return group.reset_index(level=[1, 2]).resample('30T').asfreq().interpolate()\n"
     ]
    }
   ],
   "source": [
    "weather_df.valid_datetime = pd.to_datetime(weather_df.valid_datetime)\n",
    "weather_df = weather_df.set_index([\"valid_datetime\",\"latitude\",\"longitude\"])\n",
    "df_resampled = weather_df.groupby(['latitude', 'longitude'], group_keys=False).apply(resample_and_interpolate)\n",
    "df_resampled = df_resampled.reset_index()"
   ]
  },
  {
   "cell_type": "code",
   "execution_count": 55,
   "metadata": {},
   "outputs": [],
   "source": [
    "solar_total.timestamp_utc = pd.to_datetime(solar_total.timestamp_utc)\n",
    "df_resampled.drop(columns=['index','ref_datetime'], inplace=True)\n",
    "df_resampled_merged = pd.merge(df_resampled, solar_total, how='left', left_on='valid_datetime', right_on='timestamp_utc')\n",
    "df_resampled_merged_solar = df_resampled_merged.loc[~(df_resampled_merged.latitude == 53.935) & ~(df_resampled_merged.longitude == 1.8645)]"
   ]
  },
  {
   "cell_type": "code",
   "execution_count": 56,
   "metadata": {},
   "outputs": [],
   "source": [
    "df_resampled_merged_solar1 = df_resampled_merged_solar.groupby(\"valid_datetime\").mean().reset_index()"
   ]
  },
  {
   "cell_type": "code",
   "execution_count": 57,
   "metadata": {},
   "outputs": [],
   "source": [
    "distinct_lat_lon_pairs = df_resampled_merged_solar[['latitude', 'longitude']].drop_duplicates()"
   ]
  },
  {
   "cell_type": "code",
   "execution_count": 58,
   "metadata": {},
   "outputs": [],
   "source": [
    "def set_up_solar_features(df):\n",
    "    df[\"hour\"] = df.valid_datetime.dt.hour\n",
    "    df[\"day_of_year\"] = df.valid_datetime.dt.dayofyear\n",
    "    df[\"cos_day_of_year\"] = np.cos(2 * np.pi * df.day_of_year / 365)\n",
    "    df[\"cos_hour\"] = np.cos(2 * np.pi * df.hour / 24)\n",
    "    df[\"Mean_SolarDownwardRadiation\"] = df.SolarDownwardRadiation\n",
    "    df[\"Mean_Temperature\"] = df.Temperature\n",
    "    df[\"Std_Temperature\"] = df_resampled_merged_solar.groupby(\"valid_datetime\").std().reset_index().Temperature\n",
    "    df[\"SolarDownwardRadiation_RW_Mean_30min\"] = df.Mean_SolarDownwardRadiation.rolling(window=1, min_periods=1).mean()\n",
    "    df[\"SolarDownwardRadiation_RW_Mean_1hour\"] = df.Mean_SolarDownwardRadiation.rolling(window=2, min_periods=1).mean()\n",
    "    df[\"SolarDownwardRadiation_dwd_Mean_Lag_30min\"] = df.Mean_SolarDownwardRadiation.shift(1)\n",
    "    df[\"SolarDownwardRadiation_dwd_Mean_Lag_1h\"] = df.Mean_SolarDownwardRadiation.shift(2)\n",
    "    df[\"SolarDownwardRadiation_dwd_Mean_Lag_24h\"] = df.Mean_SolarDownwardRadiation.shift(48)\n",
    "    for i in range(len(distinct_lat_lon_pairs)):\n",
    "        lat = distinct_lat_lon_pairs.latitude.iloc[i]\n",
    "        lon = distinct_lat_lon_pairs.longitude.iloc[i]\n",
    "        mask = (df_resampled_merged_solar.latitude == lat) & (df_resampled_merged_solar.longitude == lon)\n",
    "        df[f\"Temperature_{i}\"] = pd.Series(df_resampled_merged_solar.Temperature[mask].values)[:len(df)]  # Fill gaps with NaN\n",
    "        df[f\"SolarDownwardRadiation_{i}\"] = pd.Series(df_resampled_merged_solar.SolarDownwardRadiation[mask].values)[:len(df)]  # Fill gaps with NaN\n",
    "    return df\n",
    "df_resampled_merged_solar2 = set_up_solar_features(df_resampled_merged_solar1)"
   ]
  },
  {
   "cell_type": "code",
   "execution_count": 59,
   "metadata": {},
   "outputs": [],
   "source": [
    "def pv_temperature_efficiency(irradiance, ambient_temp, NOCT=45, wind_speed=1, eta_0=0.18, beta=0.004):\n",
    "    # Calculate cell temperature using the simplified NOCT model\n",
    "    Tc = ambient_temp + (NOCT - 20) * (irradiance / 800)\n",
    "    \n",
    "    # Calculate the efficiency loss due to increased cell temperature\n",
    "    efficiency = eta_0 * (1 - beta * (Tc - 25))\n",
    "    \n",
    "    return Tc, efficiency"
   ]
  },
  {
   "cell_type": "code",
   "execution_count": 60,
   "metadata": {},
   "outputs": [],
   "source": [
    "for i in range(20):\n",
    "    temp_col = f'Temperature_{i}'\n",
    "    irradiance_col = f'SolarDownwardRadiation_{i}'\n",
    "    panel_temp_col = f'Panel_Temperature_Point{i}'\n",
    "    panel_eff_col = f'Panel_Efficiency_Point{i}'\n",
    "    df_resampled_merged_solar2[panel_temp_col], df_resampled_merged_solar2[panel_eff_col] = pv_temperature_efficiency(df_resampled_merged_solar2[irradiance_col], df_resampled_merged_solar2[temp_col])"
   ]
  },
  {
   "cell_type": "code",
   "execution_count": 61,
   "metadata": {},
   "outputs": [],
   "source": [
    "df_resampled_merged_solar2[\"Panel_Temperature_dwd_mean\"] = df_resampled_merged_solar2.filter(regex= r\"Panel_Temperature.*\").mean(axis= 1)\n",
    "df_resampled_merged_solar2[\"Panel_Efficiency_dwd_mean\"] = df_resampled_merged_solar2.filter(regex= r\"Panel_Efficiency.*\").mean(axis= 1)\n",
    "df_resampled_merged_solar2[\"Panel_Temperature_dwd_std\"] = df_resampled_merged_solar2.filter(regex= r\"Panel_Temperature.*\").std(axis= 1)\n",
    "df_resampled_merged_solar2[\"Panel_Efficiency_dwd_std\"] = df_resampled_merged_solar2.filter(regex= r\"Panel_Efficiency.*\").std(axis= 1)"
   ]
  },
  {
   "cell_type": "code",
   "execution_count": 62,
   "metadata": {},
   "outputs": [],
   "source": [
    "df_resampled_merged_solar2[\"solar_mw_lag_48h\"] = df_resampled_merged_solar2.generation_mw.shift(periods= 96)\n",
    "df_resampled_merged_solar2[\"capacity_mwp_lag_48h\"] = df_resampled_merged_solar2.capacity_mwp.shift(periods= 96)"
   ]
  },
  {
   "cell_type": "code",
   "execution_count": 63,
   "metadata": {},
   "outputs": [
    {
     "name": "stderr",
     "output_type": "stream",
     "text": [
      "C:\\Users\\paulh\\AppData\\Local\\Temp\\ipykernel_17076\\2348364355.py:16: SettingWithCopyWarning: \n",
      "A value is trying to be set on a copy of a slice from a DataFrame\n",
      "\n",
      "See the caveats in the documentation: https://pandas.pydata.org/pandas-docs/stable/user_guide/indexing.html#returning-a-view-versus-a-copy\n",
      "  df_resampled_merged_solar3.dropna(inplace=True)\n"
     ]
    }
   ],
   "source": [
    "df_resampled_merged_solar3 = df_resampled_merged_solar2[[ \n",
    "    \"Mean_SolarDownwardRadiation\",\n",
    "    \"SolarDownwardRadiation_RW_Mean_30min\",\n",
    "    \"SolarDownwardRadiation_RW_Mean_1hour\",\n",
    "    \"SolarDownwardRadiation_dwd_Mean_Lag_30min\",\n",
    "    \"SolarDownwardRadiation_dwd_Mean_Lag_1h\",\n",
    "    \"SolarDownwardRadiation_dwd_Mean_Lag_24h\",\n",
    "    \"Panel_Efficiency_dwd_mean\",\n",
    "    \"Panel_Efficiency_dwd_std\",\n",
    "    \"Panel_Temperature_dwd_mean\",\n",
    "    \"Panel_Temperature_dwd_std\",\n",
    "    \"Std_Temperature\",\n",
    "    \"Mean_Temperature\",\n",
    "    \"cos_hour\",\n",
    "    \"cos_day_of_year\",\"solar_mw_lag_48h\",\"capacity_mwp_lag_48h\",\"generation_mw\"]]\n",
    "df_resampled_merged_solar3.dropna(inplace=True)"
   ]
  },
  {
   "cell_type": "markdown",
   "metadata": {},
   "source": [
    "solar"
   ]
  },
  {
   "cell_type": "code",
   "execution_count": 64,
   "metadata": {},
   "outputs": [
    {
     "data": {
      "text/html": [
       "<div>\n",
       "<style scoped>\n",
       "    .dataframe tbody tr th:only-of-type {\n",
       "        vertical-align: middle;\n",
       "    }\n",
       "\n",
       "    .dataframe tbody tr th {\n",
       "        vertical-align: top;\n",
       "    }\n",
       "\n",
       "    .dataframe thead th {\n",
       "        text-align: right;\n",
       "    }\n",
       "</style>\n",
       "<table border=\"1\" class=\"dataframe\">\n",
       "  <thead>\n",
       "    <tr style=\"text-align: right;\">\n",
       "      <th></th>\n",
       "      <th>Mean_SolarDownwardRadiation</th>\n",
       "      <th>SolarDownwardRadiation_RW_Mean_30min</th>\n",
       "      <th>SolarDownwardRadiation_RW_Mean_1hour</th>\n",
       "      <th>SolarDownwardRadiation_dwd_Mean_Lag_30min</th>\n",
       "      <th>SolarDownwardRadiation_dwd_Mean_Lag_1h</th>\n",
       "      <th>SolarDownwardRadiation_dwd_Mean_Lag_24h</th>\n",
       "      <th>Panel_Efficiency_dwd_mean</th>\n",
       "      <th>Panel_Efficiency_dwd_std</th>\n",
       "      <th>Panel_Temperature_dwd_mean</th>\n",
       "      <th>Panel_Temperature_dwd_std</th>\n",
       "      <th>Std_Temperature</th>\n",
       "      <th>Mean_Temperature</th>\n",
       "      <th>cos_hour</th>\n",
       "      <th>cos_day_of_year</th>\n",
       "      <th>solar_mw_lag_48h</th>\n",
       "      <th>capacity_mwp_lag_48h</th>\n",
       "      <th>generation_mw</th>\n",
       "    </tr>\n",
       "  </thead>\n",
       "  <tbody>\n",
       "    <tr>\n",
       "      <th>96</th>\n",
       "      <td>0.0</td>\n",
       "      <td>0.0</td>\n",
       "      <td>0.0</td>\n",
       "      <td>0.0</td>\n",
       "      <td>0.0</td>\n",
       "      <td>0.0</td>\n",
       "      <td>0.188081</td>\n",
       "      <td>0.000357</td>\n",
       "      <td>13.776000</td>\n",
       "      <td>0.496404</td>\n",
       "      <td>0.337606</td>\n",
       "      <td>13.58750</td>\n",
       "      <td>1.000000</td>\n",
       "      <td>0.158559</td>\n",
       "      <td>0.0</td>\n",
       "      <td>2779.542388</td>\n",
       "      <td>0.0</td>\n",
       "    </tr>\n",
       "    <tr>\n",
       "      <th>97</th>\n",
       "      <td>0.0</td>\n",
       "      <td>0.0</td>\n",
       "      <td>0.0</td>\n",
       "      <td>0.0</td>\n",
       "      <td>0.0</td>\n",
       "      <td>0.0</td>\n",
       "      <td>0.188098</td>\n",
       "      <td>0.000327</td>\n",
       "      <td>13.753000</td>\n",
       "      <td>0.454666</td>\n",
       "      <td>0.349814</td>\n",
       "      <td>13.48025</td>\n",
       "      <td>1.000000</td>\n",
       "      <td>0.158559</td>\n",
       "      <td>0.0</td>\n",
       "      <td>2779.542384</td>\n",
       "      <td>0.0</td>\n",
       "    </tr>\n",
       "    <tr>\n",
       "      <th>98</th>\n",
       "      <td>0.0</td>\n",
       "      <td>0.0</td>\n",
       "      <td>0.0</td>\n",
       "      <td>0.0</td>\n",
       "      <td>0.0</td>\n",
       "      <td>0.0</td>\n",
       "      <td>0.188098</td>\n",
       "      <td>0.000327</td>\n",
       "      <td>13.753000</td>\n",
       "      <td>0.454666</td>\n",
       "      <td>0.370293</td>\n",
       "      <td>13.37300</td>\n",
       "      <td>0.965926</td>\n",
       "      <td>0.158559</td>\n",
       "      <td>0.0</td>\n",
       "      <td>2779.542383</td>\n",
       "      <td>0.0</td>\n",
       "    </tr>\n",
       "    <tr>\n",
       "      <th>99</th>\n",
       "      <td>0.0</td>\n",
       "      <td>0.0</td>\n",
       "      <td>0.0</td>\n",
       "      <td>0.0</td>\n",
       "      <td>0.0</td>\n",
       "      <td>0.0</td>\n",
       "      <td>0.188134</td>\n",
       "      <td>0.000287</td>\n",
       "      <td>13.702750</td>\n",
       "      <td>0.399291</td>\n",
       "      <td>0.364783</td>\n",
       "      <td>13.32325</td>\n",
       "      <td>0.965926</td>\n",
       "      <td>0.158559</td>\n",
       "      <td>0.0</td>\n",
       "      <td>2779.542370</td>\n",
       "      <td>0.0</td>\n",
       "    </tr>\n",
       "    <tr>\n",
       "      <th>100</th>\n",
       "      <td>0.0</td>\n",
       "      <td>0.0</td>\n",
       "      <td>0.0</td>\n",
       "      <td>0.0</td>\n",
       "      <td>0.0</td>\n",
       "      <td>0.0</td>\n",
       "      <td>0.188134</td>\n",
       "      <td>0.000287</td>\n",
       "      <td>13.702750</td>\n",
       "      <td>0.399291</td>\n",
       "      <td>0.362641</td>\n",
       "      <td>13.27350</td>\n",
       "      <td>0.866025</td>\n",
       "      <td>0.158559</td>\n",
       "      <td>0.0</td>\n",
       "      <td>2779.542348</td>\n",
       "      <td>0.0</td>\n",
       "    </tr>\n",
       "    <tr>\n",
       "      <th>...</th>\n",
       "      <td>...</td>\n",
       "      <td>...</td>\n",
       "      <td>...</td>\n",
       "      <td>...</td>\n",
       "      <td>...</td>\n",
       "      <td>...</td>\n",
       "      <td>...</td>\n",
       "      <td>...</td>\n",
       "      <td>...</td>\n",
       "      <td>...</td>\n",
       "      <td>...</td>\n",
       "      <td>...</td>\n",
       "      <td>...</td>\n",
       "      <td>...</td>\n",
       "      <td>...</td>\n",
       "      <td>...</td>\n",
       "      <td>...</td>\n",
       "    </tr>\n",
       "    <tr>\n",
       "      <th>294</th>\n",
       "      <td>0.0</td>\n",
       "      <td>0.0</td>\n",
       "      <td>0.0</td>\n",
       "      <td>0.0</td>\n",
       "      <td>0.0</td>\n",
       "      <td>0.0</td>\n",
       "      <td>0.187828</td>\n",
       "      <td>0.000389</td>\n",
       "      <td>14.127234</td>\n",
       "      <td>0.540695</td>\n",
       "      <td>0.486118</td>\n",
       "      <td>6.13500</td>\n",
       "      <td>0.707107</td>\n",
       "      <td>0.226116</td>\n",
       "      <td>0.0</td>\n",
       "      <td>2779.283286</td>\n",
       "      <td>0.0</td>\n",
       "    </tr>\n",
       "    <tr>\n",
       "      <th>295</th>\n",
       "      <td>0.0</td>\n",
       "      <td>0.0</td>\n",
       "      <td>0.0</td>\n",
       "      <td>0.0</td>\n",
       "      <td>0.0</td>\n",
       "      <td>0.0</td>\n",
       "      <td>0.188545</td>\n",
       "      <td>0.000359</td>\n",
       "      <td>13.131375</td>\n",
       "      <td>0.498465</td>\n",
       "      <td>0.511412</td>\n",
       "      <td>6.03375</td>\n",
       "      <td>0.707107</td>\n",
       "      <td>0.226116</td>\n",
       "      <td>0.0</td>\n",
       "      <td>2779.283285</td>\n",
       "      <td>0.0</td>\n",
       "    </tr>\n",
       "    <tr>\n",
       "      <th>296</th>\n",
       "      <td>0.0</td>\n",
       "      <td>0.0</td>\n",
       "      <td>0.0</td>\n",
       "      <td>0.0</td>\n",
       "      <td>0.0</td>\n",
       "      <td>0.0</td>\n",
       "      <td>0.189123</td>\n",
       "      <td>0.000311</td>\n",
       "      <td>12.329031</td>\n",
       "      <td>0.432406</td>\n",
       "      <td>0.542216</td>\n",
       "      <td>5.93250</td>\n",
       "      <td>0.500000</td>\n",
       "      <td>0.226116</td>\n",
       "      <td>0.0</td>\n",
       "      <td>2779.283254</td>\n",
       "      <td>0.0</td>\n",
       "    </tr>\n",
       "    <tr>\n",
       "      <th>297</th>\n",
       "      <td>0.0</td>\n",
       "      <td>0.0</td>\n",
       "      <td>0.0</td>\n",
       "      <td>0.0</td>\n",
       "      <td>0.0</td>\n",
       "      <td>0.0</td>\n",
       "      <td>0.189701</td>\n",
       "      <td>0.000367</td>\n",
       "      <td>11.526687</td>\n",
       "      <td>0.509086</td>\n",
       "      <td>0.531572</td>\n",
       "      <td>5.77675</td>\n",
       "      <td>0.500000</td>\n",
       "      <td>0.226116</td>\n",
       "      <td>0.0</td>\n",
       "      <td>2779.283232</td>\n",
       "      <td>0.0</td>\n",
       "    </tr>\n",
       "    <tr>\n",
       "      <th>298</th>\n",
       "      <td>0.0</td>\n",
       "      <td>0.0</td>\n",
       "      <td>0.0</td>\n",
       "      <td>0.0</td>\n",
       "      <td>0.0</td>\n",
       "      <td>0.0</td>\n",
       "      <td>0.189979</td>\n",
       "      <td>0.000330</td>\n",
       "      <td>11.140344</td>\n",
       "      <td>0.458512</td>\n",
       "      <td>0.528194</td>\n",
       "      <td>5.62100</td>\n",
       "      <td>0.258819</td>\n",
       "      <td>0.226116</td>\n",
       "      <td>0.0</td>\n",
       "      <td>2779.283227</td>\n",
       "      <td>0.0</td>\n",
       "    </tr>\n",
       "  </tbody>\n",
       "</table>\n",
       "<p>200 rows × 17 columns</p>\n",
       "</div>"
      ],
      "text/plain": [
       "     Mean_SolarDownwardRadiation  SolarDownwardRadiation_RW_Mean_30min  \\\n",
       "96                           0.0                                   0.0   \n",
       "97                           0.0                                   0.0   \n",
       "98                           0.0                                   0.0   \n",
       "99                           0.0                                   0.0   \n",
       "100                          0.0                                   0.0   \n",
       "..                           ...                                   ...   \n",
       "294                          0.0                                   0.0   \n",
       "295                          0.0                                   0.0   \n",
       "296                          0.0                                   0.0   \n",
       "297                          0.0                                   0.0   \n",
       "298                          0.0                                   0.0   \n",
       "\n",
       "     SolarDownwardRadiation_RW_Mean_1hour  \\\n",
       "96                                    0.0   \n",
       "97                                    0.0   \n",
       "98                                    0.0   \n",
       "99                                    0.0   \n",
       "100                                   0.0   \n",
       "..                                    ...   \n",
       "294                                   0.0   \n",
       "295                                   0.0   \n",
       "296                                   0.0   \n",
       "297                                   0.0   \n",
       "298                                   0.0   \n",
       "\n",
       "     SolarDownwardRadiation_dwd_Mean_Lag_30min  \\\n",
       "96                                         0.0   \n",
       "97                                         0.0   \n",
       "98                                         0.0   \n",
       "99                                         0.0   \n",
       "100                                        0.0   \n",
       "..                                         ...   \n",
       "294                                        0.0   \n",
       "295                                        0.0   \n",
       "296                                        0.0   \n",
       "297                                        0.0   \n",
       "298                                        0.0   \n",
       "\n",
       "     SolarDownwardRadiation_dwd_Mean_Lag_1h  \\\n",
       "96                                      0.0   \n",
       "97                                      0.0   \n",
       "98                                      0.0   \n",
       "99                                      0.0   \n",
       "100                                     0.0   \n",
       "..                                      ...   \n",
       "294                                     0.0   \n",
       "295                                     0.0   \n",
       "296                                     0.0   \n",
       "297                                     0.0   \n",
       "298                                     0.0   \n",
       "\n",
       "     SolarDownwardRadiation_dwd_Mean_Lag_24h  Panel_Efficiency_dwd_mean  \\\n",
       "96                                       0.0                   0.188081   \n",
       "97                                       0.0                   0.188098   \n",
       "98                                       0.0                   0.188098   \n",
       "99                                       0.0                   0.188134   \n",
       "100                                      0.0                   0.188134   \n",
       "..                                       ...                        ...   \n",
       "294                                      0.0                   0.187828   \n",
       "295                                      0.0                   0.188545   \n",
       "296                                      0.0                   0.189123   \n",
       "297                                      0.0                   0.189701   \n",
       "298                                      0.0                   0.189979   \n",
       "\n",
       "     Panel_Efficiency_dwd_std  Panel_Temperature_dwd_mean  \\\n",
       "96                   0.000357                   13.776000   \n",
       "97                   0.000327                   13.753000   \n",
       "98                   0.000327                   13.753000   \n",
       "99                   0.000287                   13.702750   \n",
       "100                  0.000287                   13.702750   \n",
       "..                        ...                         ...   \n",
       "294                  0.000389                   14.127234   \n",
       "295                  0.000359                   13.131375   \n",
       "296                  0.000311                   12.329031   \n",
       "297                  0.000367                   11.526687   \n",
       "298                  0.000330                   11.140344   \n",
       "\n",
       "     Panel_Temperature_dwd_std  Std_Temperature  Mean_Temperature  cos_hour  \\\n",
       "96                    0.496404         0.337606          13.58750  1.000000   \n",
       "97                    0.454666         0.349814          13.48025  1.000000   \n",
       "98                    0.454666         0.370293          13.37300  0.965926   \n",
       "99                    0.399291         0.364783          13.32325  0.965926   \n",
       "100                   0.399291         0.362641          13.27350  0.866025   \n",
       "..                         ...              ...               ...       ...   \n",
       "294                   0.540695         0.486118           6.13500  0.707107   \n",
       "295                   0.498465         0.511412           6.03375  0.707107   \n",
       "296                   0.432406         0.542216           5.93250  0.500000   \n",
       "297                   0.509086         0.531572           5.77675  0.500000   \n",
       "298                   0.458512         0.528194           5.62100  0.258819   \n",
       "\n",
       "     cos_day_of_year  solar_mw_lag_48h  capacity_mwp_lag_48h  generation_mw  \n",
       "96          0.158559               0.0           2779.542388            0.0  \n",
       "97          0.158559               0.0           2779.542384            0.0  \n",
       "98          0.158559               0.0           2779.542383            0.0  \n",
       "99          0.158559               0.0           2779.542370            0.0  \n",
       "100         0.158559               0.0           2779.542348            0.0  \n",
       "..               ...               ...                   ...            ...  \n",
       "294         0.226116               0.0           2779.283286            0.0  \n",
       "295         0.226116               0.0           2779.283285            0.0  \n",
       "296         0.226116               0.0           2779.283254            0.0  \n",
       "297         0.226116               0.0           2779.283232            0.0  \n",
       "298         0.226116               0.0           2779.283227            0.0  \n",
       "\n",
       "[200 rows x 17 columns]"
      ]
     },
     "execution_count": 64,
     "metadata": {},
     "output_type": "execute_result"
    }
   ],
   "source": [
    "df_resampled_merged_solar3"
   ]
  },
  {
   "cell_type": "code",
   "execution_count": 65,
   "metadata": {},
   "outputs": [
    {
     "name": "stderr",
     "output_type": "stream",
     "text": [
      "c:\\Users\\paulh\\anaconda3\\envs\\HEFTcom24\\Lib\\site-packages\\sklearn\\base.py:486: UserWarning: X has feature names, but StandardScaler was fitted without feature names\n",
      "  warnings.warn(\n"
     ]
    }
   ],
   "source": [
    "#load scaler and model\n",
    "import pickle\n",
    "from sklearn.preprocessing import StandardScaler\n",
    "\n",
    "scaler = pickle.load(open('D:/Users/paulh/Desktop/Domäneprojekt2/Energy_production_price_prediction/paul_analyse/scaler.pkl', 'rb'))\n",
    "X = df_resampled_merged_solar3.drop(columns=[\"generation_mw\"])\n",
    "X_scaled = scaler.transform(X)\n",
    "Y = df_resampled_merged_solar3.generation_mw\n",
    "Y = Y"
   ]
  },
  {
   "cell_type": "code",
   "execution_count": 66,
   "metadata": {},
   "outputs": [
    {
     "data": {
      "text/plain": [
       "array([[-0.66504204, -0.66504204, -0.66688947, ...,  0.22672476,\n",
       "        -0.62102199,  6.91047031],\n",
       "       [-0.66504204, -0.66504204, -0.66688947, ...,  0.22672476,\n",
       "        -0.62102199,  6.91047026],\n",
       "       [-0.66504204, -0.66504204, -0.66688947, ...,  0.22672476,\n",
       "        -0.62102199,  6.91047025],\n",
       "       ...,\n",
       "       [-0.66504204, -0.66504204, -0.66688947, ...,  0.32172519,\n",
       "        -0.62102199,  6.90728382],\n",
       "       [-0.66504204, -0.66504204, -0.66688947, ...,  0.32172519,\n",
       "        -0.62102199,  6.90728355],\n",
       "       [-0.66504204, -0.66504204, -0.66688947, ...,  0.32172519,\n",
       "        -0.62102199,  6.90728349]])"
      ]
     },
     "execution_count": 66,
     "metadata": {},
     "output_type": "execute_result"
    }
   ],
   "source": [
    "X_scaled"
   ]
  },
  {
   "cell_type": "code",
   "execution_count": 67,
   "metadata": {},
   "outputs": [],
   "source": [
    "import torch\n",
    "import torch.nn as nn\n",
    "\n",
    "# Define the MLP model\n",
    "class MLP(nn.Module):\n",
    "    def __init__(self, input_dim):\n",
    "        super(MLP, self).__init__()\n",
    "        self.fc1 = nn.Linear(input_dim, 64)\n",
    "        self.fc2 = nn.Linear(64, 256)\n",
    "        self.fc3 = nn.Linear(256, 512)\n",
    "        self.fc4 = nn.Linear(512, 64)\n",
    "        self.fc5 = nn.Linear(64, 9)\n",
    "\n",
    "        self.dropout = nn.Dropout(0.2)\n",
    "        self.swish = nn.SiLU()\n",
    "    \n",
    "    def forward(self, x):\n",
    "        x = torch.relu(self.fc1(x))\n",
    "        x = self.dropout(x)\n",
    "        x = self.swish(self.fc2(x))\n",
    "        x = self.dropout(x)\n",
    "        x = self.swish(self.fc3(x))\n",
    "        x = self.dropout(x)\n",
    "        x = self.swish(self.fc4(x))\n",
    "        x = self.dropout(x)\n",
    "        x = self.fc5(x)\n",
    "        return x"
   ]
  },
  {
   "cell_type": "code",
   "execution_count": 68,
   "metadata": {},
   "outputs": [],
   "source": [
    "# import torch\n",
    "# import torch.nn as nn\n",
    "\n",
    "# # Define the MLP model\n",
    "# class MLP(nn.Module):\n",
    "#     def __init__(self, input_dim):\n",
    "#         super(MLP, self).__init__()\n",
    "#         # Single hidden layer with 416 neurons as suggested by Optuna\n",
    "#         self.fc1 = nn.Linear(input_dim, 416)\n",
    "#         self.fc2 = nn.Linear(416, 9)  # Output layer with 9 neurons for quantiles\n",
    "        \n",
    "#         # Dropout with rate close to Optuna's suggestion\n",
    "#         self.dropout = nn.Dropout(0.13)\n",
    "#         self.swish = nn.SiLU()\n",
    "    \n",
    "#     def forward(self, x):\n",
    "#         x = self.swish(self.fc1(x))\n",
    "#         x = self.dropout(x)\n",
    "#         x = self.fc2(x)\n",
    "#         return x"
   ]
  },
  {
   "cell_type": "code",
   "execution_count": 69,
   "metadata": {},
   "outputs": [
    {
     "name": "stderr",
     "output_type": "stream",
     "text": [
      "C:\\Users\\paulh\\AppData\\Local\\Temp\\ipykernel_17076\\2147376376.py:3: FutureWarning: You are using `torch.load` with `weights_only=False` (the current default value), which uses the default pickle module implicitly. It is possible to construct malicious pickle data which will execute arbitrary code during unpickling (See https://github.com/pytorch/pytorch/blob/main/SECURITY.md#untrusted-models for more details). In a future release, the default value for `weights_only` will be flipped to `True`. This limits the functions that could be executed during unpickling. Arbitrary objects will no longer be allowed to be loaded via this mode unless they are explicitly allowlisted by the user via `torch.serialization.add_safe_globals`. We recommend you start setting `weights_only=True` for any use case where you don't have full control of the loaded file. Please open an issue on GitHub for any issues related to this experimental feature.\n",
      "  model.load_state_dict(torch.load('D:/Users/paulh/Desktop/Domäneprojekt2/Energy_production_price_prediction/paul_analyse/model1.pth'))\n"
     ]
    },
    {
     "data": {
      "text/plain": [
       "<All keys matched successfully>"
      ]
     },
     "execution_count": 69,
     "metadata": {},
     "output_type": "execute_result"
    }
   ],
   "source": [
    "# Load the model from the file\n",
    "model = MLP(X_scaled.shape[1])\n",
    "model.load_state_dict(torch.load('D:/Users/paulh/Desktop/Domäneprojekt2/Energy_production_price_prediction/paul_analyse/model1.pth'))"
   ]
  },
  {
   "cell_type": "code",
   "execution_count": 70,
   "metadata": {},
   "outputs": [
    {
     "data": {
      "text/plain": [
       "array([[ 1.3507291e-04,  7.0029194e-04,  1.4580043e-04, ...,\n",
       "        -6.5190382e-03,  3.0773431e-03,  5.8839083e-02],\n",
       "       [ 1.4207716e-04,  7.2839111e-04,  1.4377758e-04, ...,\n",
       "        -7.1113966e-03,  1.9904524e-03,  5.7971090e-02],\n",
       "       [ 1.6189454e-04,  7.9033477e-04,  1.4871308e-04, ...,\n",
       "        -1.0074947e-02, -4.8439056e-03,  4.8111767e-02],\n",
       "       ...,\n",
       "       [-7.4769065e-02, -7.6540664e-02, -6.9151342e-02, ...,\n",
       "         1.6208301e-01,  4.8733228e-01,  7.9599792e-01],\n",
       "       [-4.4636156e-02, -4.6627808e-02, -4.0681522e-02, ...,\n",
       "         1.6088820e-01,  4.4607103e-01,  7.2444916e-01],\n",
       "       [ 1.3167746e-01,  2.6631936e-01,  3.6006439e-01, ...,\n",
       "         1.0844156e+00,  1.8033147e+00,  2.5755289e+00]], dtype=float32)"
      ]
     },
     "execution_count": 70,
     "metadata": {},
     "output_type": "execute_result"
    }
   ],
   "source": [
    "#make predictions\n",
    "X_tensor = torch.tensor(X_scaled, dtype=torch.float32)\n",
    "model.eval()\n",
    "with torch.no_grad():\n",
    "    predictions = model(X_tensor).numpy()\n",
    "\n",
    "predictions"
   ]
  },
  {
   "cell_type": "code",
   "execution_count": 71,
   "metadata": {},
   "outputs": [
    {
     "data": {
      "image/png": "[encoded data removed]",
      "text/plain": [
       "<Figure size 640x480 with 1 Axes>"
      ]
     },
     "metadata": {},
     "output_type": "display_data"
    }
   ],
   "source": [
    "#compare predictions with actual values\n",
    "import matplotlib.pyplot as plt\n",
    "\n",
    "plt.plot(Y.values, label='Actual')\n",
    "plt.plot(predictions, label='Predicted')\n",
    "plt.legend()\n",
    "plt.show()\n"
   ]
  },
  {
   "cell_type": "code",
   "execution_count": 72,
   "metadata": {},
   "outputs": [
    {
     "data": {
      "text/plain": [
       "array([-2.30790116e-04, -2.68663745e-04, -4.23876569e-04, -4.55671456e-04,\n",
       "       -7.45078083e-04, -7.74920452e-04, -7.82029238e-04, -8.07076227e-04,\n",
       "        1.01933070e-03,  1.06175500e-03, -4.39053727e-03, -2.99228895e-02,\n",
       "        1.16649761e+01,  4.69021950e+01,  1.15823868e+02,  1.47258972e+02,\n",
       "        1.95084244e+02,  2.21616455e+02,  2.53995132e+02,  2.76335663e+02,\n",
       "        2.99839600e+02,  3.34890686e+02,  3.75534241e+02,  3.62910004e+02,\n",
       "        3.35984741e+02,  3.16827698e+02,  3.01591614e+02,  2.85175323e+02,\n",
       "        2.67777863e+02,  2.54401978e+02,  2.37476547e+02,  2.23564087e+02,\n",
       "        1.81188858e+02,  1.54781128e+02,  9.02853775e+01,  8.31405640e+01,\n",
       "        3.93174095e+01,  3.57253914e+01,  2.01145932e-03, -4.66800760e-04,\n",
       "       -5.99575695e-04, -9.41582490e-04, -9.71062575e-04, -8.06340482e-04,\n",
       "       -7.22305384e-04, -5.91987744e-04, -6.05921727e-04, -7.28099607e-04,\n",
       "       -7.05377664e-04, -9.06276982e-04, -8.93651973e-04, -5.21490816e-04,\n",
       "       -5.11212274e-04,  2.36454001e-03,  2.56005349e-03, -2.47488879e-02,\n",
       "       -9.16224271e-02,  1.60240269e+01,  5.29889641e+01,  1.21822372e+02,\n",
       "        1.55191986e+02,  1.99768829e+02,  2.26005157e+02,  2.53196365e+02,\n",
       "        2.76277710e+02,  3.04369629e+02,  3.34804871e+02,  3.68435120e+02,\n",
       "        3.76781769e+02,  3.74274963e+02,  3.68851440e+02,  3.65998260e+02,\n",
       "        3.31556458e+02,  2.92934570e+02,  2.51735138e+02,  2.11018768e+02,\n",
       "        1.82593903e+02,  1.50671967e+02,  1.39025787e+02,  9.10202026e+01,\n",
       "        9.65365067e+01,  7.02730637e+01,  7.80729828e+01,  4.22295799e+01,\n",
       "        3.87025566e+01,  3.96347857e+00,  2.45395494e+00, -2.20196834e-03,\n",
       "        5.57252066e-03,  7.88131030e-04,  1.83290336e-04, -9.28762835e-04,\n",
       "       -1.30508514e-03, -1.41835818e-03, -1.34558231e-03, -1.20202219e-03,\n",
       "       -1.11763319e-03, -3.51824332e-04, -2.02873256e-04,  1.92221371e-03,\n",
       "        1.99622242e-03,  3.46322544e-03,  3.77269043e-03,  9.05703902e-02,\n",
       "        1.14980268e+00,  3.93331871e+01,  1.03598816e+02,  1.80282501e+02,\n",
       "        2.46331818e+02,  3.23286438e+02,  3.92733154e+02,  4.65514465e+02,\n",
       "        5.16822510e+02,  5.63442383e+02,  5.90356201e+02,  6.10213501e+02,\n",
       "        6.00608398e+02,  5.85227051e+02,  5.56377808e+02,  5.22745911e+02,\n",
       "        4.77092712e+02,  4.24711334e+02,  3.54682709e+02,  2.75995941e+02,\n",
       "        2.04045898e+02,  1.38596298e+02,  1.25756195e+02,  7.16427307e+01,\n",
       "        8.02203751e+01,  5.93992462e+01,  7.19639587e+01,  5.05679893e+01,\n",
       "        5.67766418e+01,  3.46635628e+01,  4.07820091e+01,  1.31058512e+01,\n",
       "        8.39579678e+00, -2.93302536e-03, -1.77407980e-01, -2.81271990e-02,\n",
       "       -1.09089576e-02, -3.16188578e-03, -1.70399714e-03, -1.47873489e-03,\n",
       "       -1.64328469e-03, -1.07269594e-03, -1.12480158e-03, -7.50338659e-05,\n",
       "       -2.68991571e-04,  2.48629437e-03,  2.27224221e-03, -2.42858985e-03,\n",
       "       -2.53015924e-02,  1.00513659e+01,  3.60843010e+01,  8.55290680e+01,\n",
       "        1.05967377e+02,  1.34717194e+02,  1.52630569e+02,  1.77883087e+02,\n",
       "        2.02100128e+02,  2.34910950e+02,  2.58114563e+02,  2.82047302e+02,\n",
       "        2.72254456e+02,  2.54509155e+02,  2.32217712e+02,  2.12270782e+02,\n",
       "        2.05223923e+02,  1.96550781e+02,  1.78732849e+02,  1.54202179e+02,\n",
       "        1.27558281e+02,  8.62525177e+01,  6.78809204e+01,  1.86589222e+01,\n",
       "        1.40996752e+01,  1.79033745e-02,  9.48329419e-02, -2.45194882e-04,\n",
       "       -2.66698636e-02,  4.43664892e-03,  9.48938541e-04,  4.42777015e-03,\n",
       "        2.82230601e-03,  4.99017909e-03, -1.05087180e-04,  3.84241645e-03,\n",
       "        3.52959195e-03,  2.14673951e-03,  3.28176306e-03,  3.73551063e-03,\n",
       "        4.68784384e-03,  3.86052160e-03,  2.63427268e-03, -2.15359451e-03,\n",
       "        2.20418000e-03, -5.05778864e-02, -2.43093055e-02,  5.29762208e-01],\n",
       "      dtype=float32)"
      ]
     },
     "execution_count": 72,
     "metadata": {},
     "output_type": "execute_result"
    }
   ],
   "source": [
    "predictions[:,4]"
   ]
  },
  {
   "cell_type": "code",
   "execution_count": 73,
   "metadata": {},
   "outputs": [
    {
     "data": {
      "text/plain": [
       "[10.940215342851808,\n",
       " 15.223014274051454,\n",
       " 17.91705988009778,\n",
       " 19.097372008912764,\n",
       " 19.23729702032702,\n",
       " 18.276157095786846,\n",
       " 16.21329740367349,\n",
       " 12.923111274307507,\n",
       " 7.6393601496701695]"
      ]
     },
     "execution_count": 73,
     "metadata": {},
     "output_type": "execute_result"
    }
   ],
   "source": [
    "#pinball loss on test data\n",
    "def pinball_loss(y_true, y_pred, quantile):\n",
    "    delta = y_true - y_pred\n",
    "    return np.mean(np.maximum(quantile * delta, (quantile - 1) * delta))\n",
    "\n",
    "quantiles = [0.1, 0.2, 0.3, 0.4, 0.5, 0.6, 0.7, 0.8, 0.9]\n",
    "losses = [pinball_loss(Y.values, predictions[:, i], quantiles[i]) for i in range(9)]\n",
    "losses"
   ]
  },
  {
   "cell_type": "code",
   "execution_count": 74,
   "metadata": {},
   "outputs": [
    {
     "data": {
      "text/plain": [
       "[42.31161424842127,\n",
       " 37.27889671424044,\n",
       " 36.50489111228515,\n",
       " 36.89987400846529,\n",
       " 38.47459404065404,\n",
       " 40.74221428534558,\n",
       " 44.13923101184933,\n",
       " 49.611938390333215,\n",
       " 58.71596592944592]"
      ]
     },
     "execution_count": 74,
     "metadata": {},
     "output_type": "execute_result"
    }
   ],
   "source": [
    "import numpy as np\n",
    "\n",
    "# Function to calculate mean absolute error\n",
    "def mean_absolute_error(y_true, y_pred):\n",
    "    return np.mean(np.abs(y_true - y_pred))\n",
    "\n",
    "# Example usage with quantiles (though quantiles are not used in MAE calculation)\n",
    "# Assuming predictions are in shape (n_samples, n_quantiles)\n",
    "quantiles = [0.1, 0.2, 0.3, 0.4, 0.5, 0.6, 0.7, 0.8, 0.9]\n",
    "losses = [mean_absolute_error(Y.values, predictions[:, i]) for i in range(9)]\n",
    "\n",
    "# Print the MAE for each quantile\n",
    "losses\n"
   ]
  },
  {
   "cell_type": "code",
   "execution_count": 75,
   "metadata": {},
   "outputs": [
    {
     "data": {
      "text/plain": [
       "38.47459404065404"
      ]
     },
     "execution_count": 75,
     "metadata": {},
     "output_type": "execute_result"
    }
   ],
   "source": [
    "#average error\n",
    "error = np.mean(np.abs(predictions[:,4] - Y.values))\n",
    "error"
   ]
  }
 ],
 "metadata": {
  "kernelspec": {
   "display_name": "HEFTcom24",
   "language": "python",
   "name": "python3"
  },
  "language_info": {
   "codemirror_mode": {
    "name": "ipython",
    "version": 3
   },
   "file_extension": ".py",
   "mimetype": "text/x-python",
   "name": "python",
   "nbconvert_exporter": "python",
   "pygments_lexer": "ipython3",
   "version": "3.11.5"
  }
 },
 "nbformat": 4,
 "nbformat_minor": 2
}
