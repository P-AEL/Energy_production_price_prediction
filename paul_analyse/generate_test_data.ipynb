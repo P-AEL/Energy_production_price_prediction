{
 "cells": [
  {
   "cell_type": "code",
   "execution_count": 26,
   "metadata": {},
   "outputs": [],
   "source": [
    "import pandas as pd\n",
    "import numpy as np\n",
    "import plotly.graph_objects as go"
   ]
  },
  {
   "cell_type": "code",
   "execution_count": 27,
   "metadata": {},
   "outputs": [],
   "source": [
    "def resample_and_interpolate(group):\n",
    "    return group.reset_index(level=[1, 2]).resample('30T').asfreq().interpolate()"
   ]
  },
  {
   "cell_type": "code",
   "execution_count": 28,
   "metadata": {},
   "outputs": [],
   "source": [
    "weather_df = pd.read_csv('D:/Users/paulh/Desktop/Domäneprojekt2/Energy_production_price_prediction/weather_data/DWD_ICON-EU.csv')\n",
    "solar_total = pd.read_csv('D:/Users/paulh/Desktop/Domäneprojekt2/Energy_production_price_prediction/basic_files/solar_total_production.csv')\n",
    "# solar_total.generation_mw = solar_total.generation_mw * 0.5\n",
    "weather_df.sort_values(by='ref_datetime', inplace=True)\n",
    "weather_df = weather_df.groupby([\"valid_datetime\",\"latitude\",\"longitude\"]).last().reset_index()\n",
    "weather_df.reset_index(inplace=True)"
   ]
  },
  {
   "cell_type": "code",
   "execution_count": 29,
   "metadata": {},
   "outputs": [
    {
     "name": "stderr",
     "output_type": "stream",
     "text": [
      "C:\\Users\\paulh\\AppData\\Local\\Temp\\ipykernel_17076\\2834871732.py:2: FutureWarning: DataFrame.interpolate with object dtype is deprecated and will raise in a future version. Call obj.infer_objects(copy=False) before interpolating instead.\n",
      "  return group.reset_index(level=[1, 2]).resample('30T').asfreq().interpolate()\n",
      "C:\\Users\\paulh\\AppData\\Local\\Temp\\ipykernel_17076\\2834871732.py:2: FutureWarning: DataFrame.interpolate with object dtype is deprecated and will raise in a future version. Call obj.infer_objects(copy=False) before interpolating instead.\n",
      "  return group.reset_index(level=[1, 2]).resample('30T').asfreq().interpolate()\n",
      "C:\\Users\\paulh\\AppData\\Local\\Temp\\ipykernel_17076\\2834871732.py:2: FutureWarning: DataFrame.interpolate with object dtype is deprecated and will raise in a future version. Call obj.infer_objects(copy=False) before interpolating instead.\n",
      "  return group.reset_index(level=[1, 2]).resample('30T').asfreq().interpolate()\n",
      "C:\\Users\\paulh\\AppData\\Local\\Temp\\ipykernel_17076\\2834871732.py:2: FutureWarning: DataFrame.interpolate with object dtype is deprecated and will raise in a future version. Call obj.infer_objects(copy=False) before interpolating instead.\n",
      "  return group.reset_index(level=[1, 2]).resample('30T').asfreq().interpolate()\n",
      "C:\\Users\\paulh\\AppData\\Local\\Temp\\ipykernel_17076\\2834871732.py:2: FutureWarning: DataFrame.interpolate with object dtype is deprecated and will raise in a future version. Call obj.infer_objects(copy=False) before interpolating instead.\n",
      "  return group.reset_index(level=[1, 2]).resample('30T').asfreq().interpolate()\n",
      "C:\\Users\\paulh\\AppData\\Local\\Temp\\ipykernel_17076\\2834871732.py:2: FutureWarning: DataFrame.interpolate with object dtype is deprecated and will raise in a future version. Call obj.infer_objects(copy=False) before interpolating instead.\n",
      "  return group.reset_index(level=[1, 2]).resample('30T').asfreq().interpolate()\n",
      "C:\\Users\\paulh\\AppData\\Local\\Temp\\ipykernel_17076\\2834871732.py:2: FutureWarning: DataFrame.interpolate with object dtype is deprecated and will raise in a future version. Call obj.infer_objects(copy=False) before interpolating instead.\n",
      "  return group.reset_index(level=[1, 2]).resample('30T').asfreq().interpolate()\n",
      "C:\\Users\\paulh\\AppData\\Local\\Temp\\ipykernel_17076\\2834871732.py:2: FutureWarning: DataFrame.interpolate with object dtype is deprecated and will raise in a future version. Call obj.infer_objects(copy=False) before interpolating instead.\n",
      "  return group.reset_index(level=[1, 2]).resample('30T').asfreq().interpolate()\n",
      "C:\\Users\\paulh\\AppData\\Local\\Temp\\ipykernel_17076\\2834871732.py:2: FutureWarning: DataFrame.interpolate with object dtype is deprecated and will raise in a future version. Call obj.infer_objects(copy=False) before interpolating instead.\n",
      "  return group.reset_index(level=[1, 2]).resample('30T').asfreq().interpolate()\n",
      "C:\\Users\\paulh\\AppData\\Local\\Temp\\ipykernel_17076\\2834871732.py:2: FutureWarning: DataFrame.interpolate with object dtype is deprecated and will raise in a future version. Call obj.infer_objects(copy=False) before interpolating instead.\n",
      "  return group.reset_index(level=[1, 2]).resample('30T').asfreq().interpolate()\n",
      "C:\\Users\\paulh\\AppData\\Local\\Temp\\ipykernel_17076\\2834871732.py:2: FutureWarning: DataFrame.interpolate with object dtype is deprecated and will raise in a future version. Call obj.infer_objects(copy=False) before interpolating instead.\n",
      "  return group.reset_index(level=[1, 2]).resample('30T').asfreq().interpolate()\n",
      "C:\\Users\\paulh\\AppData\\Local\\Temp\\ipykernel_17076\\2834871732.py:2: FutureWarning: DataFrame.interpolate with object dtype is deprecated and will raise in a future version. Call obj.infer_objects(copy=False) before interpolating instead.\n",
      "  return group.reset_index(level=[1, 2]).resample('30T').asfreq().interpolate()\n",
      "C:\\Users\\paulh\\AppData\\Local\\Temp\\ipykernel_17076\\2834871732.py:2: FutureWarning: DataFrame.interpolate with object dtype is deprecated and will raise in a future version. Call obj.infer_objects(copy=False) before interpolating instead.\n",
      "  return group.reset_index(level=[1, 2]).resample('30T').asfreq().interpolate()\n",
      "C:\\Users\\paulh\\AppData\\Local\\Temp\\ipykernel_17076\\2834871732.py:2: FutureWarning: DataFrame.interpolate with object dtype is deprecated and will raise in a future version. Call obj.infer_objects(copy=False) before interpolating instead.\n",
      "  return group.reset_index(level=[1, 2]).resample('30T').asfreq().interpolate()\n",
      "C:\\Users\\paulh\\AppData\\Local\\Temp\\ipykernel_17076\\2834871732.py:2: FutureWarning: DataFrame.interpolate with object dtype is deprecated and will raise in a future version. Call obj.infer_objects(copy=False) before interpolating instead.\n",
      "  return group.reset_index(level=[1, 2]).resample('30T').asfreq().interpolate()\n",
      "C:\\Users\\paulh\\AppData\\Local\\Temp\\ipykernel_17076\\2834871732.py:2: FutureWarning: DataFrame.interpolate with object dtype is deprecated and will raise in a future version. Call obj.infer_objects(copy=False) before interpolating instead.\n",
      "  return group.reset_index(level=[1, 2]).resample('30T').asfreq().interpolate()\n",
      "C:\\Users\\paulh\\AppData\\Local\\Temp\\ipykernel_17076\\2834871732.py:2: FutureWarning: DataFrame.interpolate with object dtype is deprecated and will raise in a future version. Call obj.infer_objects(copy=False) before interpolating instead.\n",
      "  return group.reset_index(level=[1, 2]).resample('30T').asfreq().interpolate()\n",
      "C:\\Users\\paulh\\AppData\\Local\\Temp\\ipykernel_17076\\2834871732.py:2: FutureWarning: DataFrame.interpolate with object dtype is deprecated and will raise in a future version. Call obj.infer_objects(copy=False) before interpolating instead.\n",
      "  return group.reset_index(level=[1, 2]).resample('30T').asfreq().interpolate()\n",
      "C:\\Users\\paulh\\AppData\\Local\\Temp\\ipykernel_17076\\2834871732.py:2: FutureWarning: DataFrame.interpolate with object dtype is deprecated and will raise in a future version. Call obj.infer_objects(copy=False) before interpolating instead.\n",
      "  return group.reset_index(level=[1, 2]).resample('30T').asfreq().interpolate()\n",
      "C:\\Users\\paulh\\AppData\\Local\\Temp\\ipykernel_17076\\2834871732.py:2: FutureWarning: DataFrame.interpolate with object dtype is deprecated and will raise in a future version. Call obj.infer_objects(copy=False) before interpolating instead.\n",
      "  return group.reset_index(level=[1, 2]).resample('30T').asfreq().interpolate()\n",
      "C:\\Users\\paulh\\AppData\\Local\\Temp\\ipykernel_17076\\2834871732.py:2: FutureWarning: DataFrame.interpolate with object dtype is deprecated and will raise in a future version. Call obj.infer_objects(copy=False) before interpolating instead.\n",
      "  return group.reset_index(level=[1, 2]).resample('30T').asfreq().interpolate()\n"
     ]
    }
   ],
   "source": [
    "weather_df.valid_datetime = pd.to_datetime(weather_df.valid_datetime)\n",
    "weather_df = weather_df.set_index([\"valid_datetime\",\"latitude\",\"longitude\"])\n",
    "df_resampled = weather_df.groupby(['latitude', 'longitude'], group_keys=False).apply(resample_and_interpolate)\n",
    "df_resampled = df_resampled.reset_index()"
   ]
  },
  {
   "cell_type": "code",
   "execution_count": 30,
   "metadata": {},
   "outputs": [],
   "source": [
    "solar_total.timestamp_utc = pd.to_datetime(solar_total.timestamp_utc)\n",
    "df_resampled.drop(columns=['index','ref_datetime'], inplace=True)\n",
    "df_resampled_merged = pd.merge(df_resampled, solar_total, how='left', left_on='valid_datetime', right_on='timestamp_utc')\n",
    "df_resampled_merged_solar = df_resampled_merged.loc[~(df_resampled_merged.latitude == 53.935) & ~(df_resampled_merged.longitude == 1.8645)]"
   ]
  },
  {
   "cell_type": "code",
   "execution_count": 31,
   "metadata": {},
   "outputs": [],
   "source": [
    "df_resampled_merged_solar1 = df_resampled_merged_solar.groupby(\"valid_datetime\").mean().reset_index()"
   ]
  },
  {
   "cell_type": "code",
   "execution_count": 32,
   "metadata": {},
   "outputs": [],
   "source": [
    "distinct_lat_lon_pairs = df_resampled_merged_solar[['latitude', 'longitude']].drop_duplicates()"
   ]
  },
  {
   "cell_type": "code",
   "execution_count": 33,
   "metadata": {},
   "outputs": [],
   "source": [
    "def set_up_solar_features(df):\n",
    "    df[\"hour\"] = df.valid_datetime.dt.hour\n",
    "    df[\"day_of_year\"] = df.valid_datetime.dt.dayofyear\n",
    "    df[\"cos_day_of_year\"] = np.cos(2 * np.pi * df.day_of_year / 365)\n",
    "    df[\"cos_hour\"] = np.cos(2 * np.pi * df.hour / 24)\n",
    "    df[\"Mean_SolarDownwardRadiation\"] = df.SolarDownwardRadiation\n",
    "    df[\"Mean_Temperature\"] = df.Temperature\n",
    "    df[\"Std_Temperature\"] = df_resampled_merged_solar.groupby(\"valid_datetime\").std().reset_index().Temperature\n",
    "    df[\"SolarDownwardRadiation_RW_Mean_30min\"] = df.Mean_SolarDownwardRadiation.rolling(window=1, min_periods=1).mean()\n",
    "    df[\"SolarDownwardRadiation_RW_Mean_1hour\"] = df.Mean_SolarDownwardRadiation.rolling(window=2, min_periods=1).mean()\n",
    "    df[\"SolarDownwardRadiation_dwd_Mean_Lag_30min\"] = df.Mean_SolarDownwardRadiation.shift(1)\n",
    "    df[\"SolarDownwardRadiation_dwd_Mean_Lag_1h\"] = df.Mean_SolarDownwardRadiation.shift(2)\n",
    "    df[\"SolarDownwardRadiation_dwd_Mean_Lag_24h\"] = df.Mean_SolarDownwardRadiation.shift(48)\n",
    "    for i in range(len(distinct_lat_lon_pairs)):\n",
    "        lat = distinct_lat_lon_pairs.latitude.iloc[i]\n",
    "        lon = distinct_lat_lon_pairs.longitude.iloc[i]\n",
    "        mask = (df_resampled_merged_solar.latitude == lat) & (df_resampled_merged_solar.longitude == lon)\n",
    "        df[f\"Temperature_{i}\"] = pd.Series(df_resampled_merged_solar.Temperature[mask].values)[:len(df)]  # Fill gaps with NaN\n",
    "        df[f\"SolarDownwardRadiation_{i}\"] = pd.Series(df_resampled_merged_solar.SolarDownwardRadiation[mask].values)[:len(df)]  # Fill gaps with NaN\n",
    "    return df\n",
    "df_resampled_merged_solar2 = set_up_solar_features(df_resampled_merged_solar1)"
   ]
  },
  {
   "cell_type": "code",
   "execution_count": 34,
   "metadata": {},
   "outputs": [],
   "source": [
    "def pv_temperature_efficiency(irradiance, ambient_temp, NOCT=45, wind_speed=1, eta_0=0.18, beta=0.004):\n",
    "    # Calculate cell temperature using the simplified NOCT model\n",
    "    Tc = ambient_temp + (NOCT - 20) * (irradiance / 800)\n",
    "    \n",
    "    # Calculate the efficiency loss due to increased cell temperature\n",
    "    efficiency = eta_0 * (1 - beta * (Tc - 25))\n",
    "    \n",
    "    return Tc, efficiency"
   ]
  },
  {
   "cell_type": "code",
   "execution_count": 35,
   "metadata": {},
   "outputs": [],
   "source": [
    "for i in range(20):\n",
    "    temp_col = f'Temperature_{i}'\n",
    "    irradiance_col = f'SolarDownwardRadiation_{i}'\n",
    "    panel_temp_col = f'Panel_Temperature_Point{i}'\n",
    "    panel_eff_col = f'Panel_Efficiency_Point{i}'\n",
    "    df_resampled_merged_solar2[panel_temp_col], df_resampled_merged_solar2[panel_eff_col] = pv_temperature_efficiency(df_resampled_merged_solar2[irradiance_col], df_resampled_merged_solar2[temp_col])"
   ]
  },
  {
   "cell_type": "code",
   "execution_count": 36,
   "metadata": {},
   "outputs": [],
   "source": [
    "df_resampled_merged_solar2[\"Panel_Temperature_dwd_mean\"] = df_resampled_merged_solar2.filter(regex= r\"Panel_Temperature.*\").mean(axis= 1)\n",
    "df_resampled_merged_solar2[\"Panel_Efficiency_dwd_mean\"] = df_resampled_merged_solar2.filter(regex= r\"Panel_Efficiency.*\").mean(axis= 1)\n",
    "df_resampled_merged_solar2[\"Panel_Temperature_dwd_std\"] = df_resampled_merged_solar2.filter(regex= r\"Panel_Temperature.*\").std(axis= 1)\n",
    "df_resampled_merged_solar2[\"Panel_Efficiency_dwd_std\"] = df_resampled_merged_solar2.filter(regex= r\"Panel_Efficiency.*\").std(axis= 1)"
   ]
  },
  {
   "cell_type": "code",
   "execution_count": 37,
   "metadata": {},
   "outputs": [],
   "source": [
    "df_resampled_merged_solar2[\"solar_mw_lag_48h\"] = df_resampled_merged_solar2.generation_mw.shift(periods= 96)\n",
    "df_resampled_merged_solar2[\"capacity_mwp_lag_48h\"] = df_resampled_merged_solar2.capacity_mwp.shift(periods= 96)"
   ]
  },
  {
   "cell_type": "code",
   "execution_count": 38,
   "metadata": {},
   "outputs": [
    {
     "name": "stderr",
     "output_type": "stream",
     "text": [
      "C:\\Users\\paulh\\AppData\\Local\\Temp\\ipykernel_17076\\2348364355.py:16: SettingWithCopyWarning: \n",
      "A value is trying to be set on a copy of a slice from a DataFrame\n",
      "\n",
      "See the caveats in the documentation: https://pandas.pydata.org/pandas-docs/stable/user_guide/indexing.html#returning-a-view-versus-a-copy\n",
      "  df_resampled_merged_solar3.dropna(inplace=True)\n"
     ]
    }
   ],
   "source": [
    "df_resampled_merged_solar3 = df_resampled_merged_solar2[[ \n",
    "    \"Mean_SolarDownwardRadiation\",\n",
    "    \"SolarDownwardRadiation_RW_Mean_30min\",\n",
    "    \"SolarDownwardRadiation_RW_Mean_1hour\",\n",
    "    \"SolarDownwardRadiation_dwd_Mean_Lag_30min\",\n",
    "    \"SolarDownwardRadiation_dwd_Mean_Lag_1h\",\n",
    "    \"SolarDownwardRadiation_dwd_Mean_Lag_24h\",\n",
    "    \"Panel_Efficiency_dwd_mean\",\n",
    "    \"Panel_Efficiency_dwd_std\",\n",
    "    \"Panel_Temperature_dwd_mean\",\n",
    "    \"Panel_Temperature_dwd_std\",\n",
    "    \"Std_Temperature\",\n",
    "    \"Mean_Temperature\",\n",
    "    \"cos_hour\",\n",
    "    \"cos_day_of_year\",\"solar_mw_lag_48h\",\"capacity_mwp_lag_48h\",\"generation_mw\"]]\n",
    "df_resampled_merged_solar3.dropna(inplace=True)"
   ]
  },
  {
   "cell_type": "markdown",
   "metadata": {},
   "source": [
    "solar"
   ]
  },
  {
   "cell_type": "code",
   "execution_count": 39,
   "metadata": {},
   "outputs": [
    {
     "data": {
      "text/html": [
       "<div>\n",
       "<style scoped>\n",
       "    .dataframe tbody tr th:only-of-type {\n",
       "        vertical-align: middle;\n",
       "    }\n",
       "\n",
       "    .dataframe tbody tr th {\n",
       "        vertical-align: top;\n",
       "    }\n",
       "\n",
       "    .dataframe thead th {\n",
       "        text-align: right;\n",
       "    }\n",
       "</style>\n",
       "<table border=\"1\" class=\"dataframe\">\n",
       "  <thead>\n",
       "    <tr style=\"text-align: right;\">\n",
       "      <th></th>\n",
       "      <th>Mean_SolarDownwardRadiation</th>\n",
       "      <th>SolarDownwardRadiation_RW_Mean_30min</th>\n",
       "      <th>SolarDownwardRadiation_RW_Mean_1hour</th>\n",
       "      <th>SolarDownwardRadiation_dwd_Mean_Lag_30min</th>\n",
       "      <th>SolarDownwardRadiation_dwd_Mean_Lag_1h</th>\n",
       "      <th>SolarDownwardRadiation_dwd_Mean_Lag_24h</th>\n",
       "      <th>Panel_Efficiency_dwd_mean</th>\n",
       "      <th>Panel_Efficiency_dwd_std</th>\n",
       "      <th>Panel_Temperature_dwd_mean</th>\n",
       "      <th>Panel_Temperature_dwd_std</th>\n",
       "      <th>Std_Temperature</th>\n",
       "      <th>Mean_Temperature</th>\n",
       "      <th>cos_hour</th>\n",
       "      <th>cos_day_of_year</th>\n",
       "      <th>solar_mw_lag_48h</th>\n",
       "      <th>capacity_mwp_lag_48h</th>\n",
       "      <th>generation_mw</th>\n",
       "    </tr>\n",
       "  </thead>\n",
       "  <tbody>\n",
       "    <tr>\n",
       "      <th>96</th>\n",
       "      <td>0.0</td>\n",
       "      <td>0.0</td>\n",
       "      <td>0.0</td>\n",
       "      <td>0.0</td>\n",
       "      <td>0.0</td>\n",
       "      <td>0.0</td>\n",
       "      <td>0.188081</td>\n",
       "      <td>0.000357</td>\n",
       "      <td>13.776000</td>\n",
       "      <td>0.496404</td>\n",
       "      <td>0.337606</td>\n",
       "      <td>13.58750</td>\n",
       "      <td>1.000000</td>\n",
       "      <td>0.158559</td>\n",
       "      <td>0.0</td>\n",
       "      <td>2779.542388</td>\n",
       "      <td>0.0</td>\n",
       "    </tr>\n",
       "    <tr>\n",
       "      <th>97</th>\n",
       "      <td>0.0</td>\n",
       "      <td>0.0</td>\n",
       "      <td>0.0</td>\n",
       "      <td>0.0</td>\n",
       "      <td>0.0</td>\n",
       "      <td>0.0</td>\n",
       "      <td>0.188098</td>\n",
       "      <td>0.000327</td>\n",
       "      <td>13.753000</td>\n",
       "      <td>0.454666</td>\n",
       "      <td>0.349814</td>\n",
       "      <td>13.48025</td>\n",
       "      <td>1.000000</td>\n",
       "      <td>0.158559</td>\n",
       "      <td>0.0</td>\n",
       "      <td>2779.542384</td>\n",
       "      <td>0.0</td>\n",
       "    </tr>\n",
       "    <tr>\n",
       "      <th>98</th>\n",
       "      <td>0.0</td>\n",
       "      <td>0.0</td>\n",
       "      <td>0.0</td>\n",
       "      <td>0.0</td>\n",
       "      <td>0.0</td>\n",
       "      <td>0.0</td>\n",
       "      <td>0.188098</td>\n",
       "      <td>0.000327</td>\n",
       "      <td>13.753000</td>\n",
       "      <td>0.454666</td>\n",
       "      <td>0.370293</td>\n",
       "      <td>13.37300</td>\n",
       "      <td>0.965926</td>\n",
       "      <td>0.158559</td>\n",
       "      <td>0.0</td>\n",
       "      <td>2779.542383</td>\n",
       "      <td>0.0</td>\n",
       "    </tr>\n",
       "    <tr>\n",
       "      <th>99</th>\n",
       "      <td>0.0</td>\n",
       "      <td>0.0</td>\n",
       "      <td>0.0</td>\n",
       "      <td>0.0</td>\n",
       "      <td>0.0</td>\n",
       "      <td>0.0</td>\n",
       "      <td>0.188134</td>\n",
       "      <td>0.000287</td>\n",
       "      <td>13.702750</td>\n",
       "      <td>0.399291</td>\n",
       "      <td>0.364783</td>\n",
       "      <td>13.32325</td>\n",
       "      <td>0.965926</td>\n",
       "      <td>0.158559</td>\n",
       "      <td>0.0</td>\n",
       "      <td>2779.542370</td>\n",
       "      <td>0.0</td>\n",
       "    </tr>\n",
       "    <tr>\n",
       "      <th>100</th>\n",
       "      <td>0.0</td>\n",
       "      <td>0.0</td>\n",
       "      <td>0.0</td>\n",
       "      <td>0.0</td>\n",
       "      <td>0.0</td>\n",
       "      <td>0.0</td>\n",
       "      <td>0.188134</td>\n",
       "      <td>0.000287</td>\n",
       "      <td>13.702750</td>\n",
       "      <td>0.399291</td>\n",
       "      <td>0.362641</td>\n",
       "      <td>13.27350</td>\n",
       "      <td>0.866025</td>\n",
       "      <td>0.158559</td>\n",
       "      <td>0.0</td>\n",
       "      <td>2779.542348</td>\n",
       "      <td>0.0</td>\n",
       "    </tr>\n",
       "    <tr>\n",
       "      <th>...</th>\n",
       "      <td>...</td>\n",
       "      <td>...</td>\n",
       "      <td>...</td>\n",
       "      <td>...</td>\n",
       "      <td>...</td>\n",
       "      <td>...</td>\n",
       "      <td>...</td>\n",
       "      <td>...</td>\n",
       "      <td>...</td>\n",
       "      <td>...</td>\n",
       "      <td>...</td>\n",
       "      <td>...</td>\n",
       "      <td>...</td>\n",
       "      <td>...</td>\n",
       "      <td>...</td>\n",
       "      <td>...</td>\n",
       "      <td>...</td>\n",
       "    </tr>\n",
       "    <tr>\n",
       "      <th>246</th>\n",
       "      <td>0.0</td>\n",
       "      <td>0.0</td>\n",
       "      <td>0.0</td>\n",
       "      <td>0.0</td>\n",
       "      <td>0.0</td>\n",
       "      <td>0.0</td>\n",
       "      <td>0.190438</td>\n",
       "      <td>0.000232</td>\n",
       "      <td>10.503219</td>\n",
       "      <td>0.322332</td>\n",
       "      <td>0.829993</td>\n",
       "      <td>6.38400</td>\n",
       "      <td>0.707107</td>\n",
       "      <td>0.209315</td>\n",
       "      <td>0.0</td>\n",
       "      <td>2779.348050</td>\n",
       "      <td>0.0</td>\n",
       "    </tr>\n",
       "    <tr>\n",
       "      <th>247</th>\n",
       "      <td>0.0</td>\n",
       "      <td>0.0</td>\n",
       "      <td>0.0</td>\n",
       "      <td>0.0</td>\n",
       "      <td>0.0</td>\n",
       "      <td>0.0</td>\n",
       "      <td>0.191467</td>\n",
       "      <td>0.000267</td>\n",
       "      <td>9.073187</td>\n",
       "      <td>0.370297</td>\n",
       "      <td>0.822697</td>\n",
       "      <td>6.53200</td>\n",
       "      <td>0.707107</td>\n",
       "      <td>0.209315</td>\n",
       "      <td>0.0</td>\n",
       "      <td>2779.348028</td>\n",
       "      <td>0.0</td>\n",
       "    </tr>\n",
       "    <tr>\n",
       "      <th>248</th>\n",
       "      <td>0.0</td>\n",
       "      <td>0.0</td>\n",
       "      <td>0.0</td>\n",
       "      <td>0.0</td>\n",
       "      <td>0.0</td>\n",
       "      <td>0.0</td>\n",
       "      <td>0.192090</td>\n",
       "      <td>0.000295</td>\n",
       "      <td>8.207844</td>\n",
       "      <td>0.409351</td>\n",
       "      <td>0.824959</td>\n",
       "      <td>6.68000</td>\n",
       "      <td>0.500000</td>\n",
       "      <td>0.209315</td>\n",
       "      <td>0.0</td>\n",
       "      <td>2779.348016</td>\n",
       "      <td>0.0</td>\n",
       "    </tr>\n",
       "    <tr>\n",
       "      <th>249</th>\n",
       "      <td>0.0</td>\n",
       "      <td>0.0</td>\n",
       "      <td>0.0</td>\n",
       "      <td>0.0</td>\n",
       "      <td>0.0</td>\n",
       "      <td>0.0</td>\n",
       "      <td>0.192713</td>\n",
       "      <td>0.000339</td>\n",
       "      <td>7.342500</td>\n",
       "      <td>0.470626</td>\n",
       "      <td>0.791196</td>\n",
       "      <td>6.80400</td>\n",
       "      <td>0.500000</td>\n",
       "      <td>0.209315</td>\n",
       "      <td>0.0</td>\n",
       "      <td>2779.348004</td>\n",
       "      <td>0.0</td>\n",
       "    </tr>\n",
       "    <tr>\n",
       "      <th>250</th>\n",
       "      <td>0.0</td>\n",
       "      <td>0.0</td>\n",
       "      <td>0.0</td>\n",
       "      <td>0.0</td>\n",
       "      <td>0.0</td>\n",
       "      <td>0.0</td>\n",
       "      <td>0.193053</td>\n",
       "      <td>0.000367</td>\n",
       "      <td>6.871500</td>\n",
       "      <td>0.509318</td>\n",
       "      <td>0.770841</td>\n",
       "      <td>6.92800</td>\n",
       "      <td>0.258819</td>\n",
       "      <td>0.209315</td>\n",
       "      <td>0.0</td>\n",
       "      <td>2779.348003</td>\n",
       "      <td>0.0</td>\n",
       "    </tr>\n",
       "  </tbody>\n",
       "</table>\n",
       "<p>152 rows × 17 columns</p>\n",
       "</div>"
      ],
      "text/plain": [
       "     Mean_SolarDownwardRadiation  SolarDownwardRadiation_RW_Mean_30min  \\\n",
       "96                           0.0                                   0.0   \n",
       "97                           0.0                                   0.0   \n",
       "98                           0.0                                   0.0   \n",
       "99                           0.0                                   0.0   \n",
       "100                          0.0                                   0.0   \n",
       "..                           ...                                   ...   \n",
       "246                          0.0                                   0.0   \n",
       "247                          0.0                                   0.0   \n",
       "248                          0.0                                   0.0   \n",
       "249                          0.0                                   0.0   \n",
       "250                          0.0                                   0.0   \n",
       "\n",
       "     SolarDownwardRadiation_RW_Mean_1hour  \\\n",
       "96                                    0.0   \n",
       "97                                    0.0   \n",
       "98                                    0.0   \n",
       "99                                    0.0   \n",
       "100                                   0.0   \n",
       "..                                    ...   \n",
       "246                                   0.0   \n",
       "247                                   0.0   \n",
       "248                                   0.0   \n",
       "249                                   0.0   \n",
       "250                                   0.0   \n",
       "\n",
       "     SolarDownwardRadiation_dwd_Mean_Lag_30min  \\\n",
       "96                                         0.0   \n",
       "97                                         0.0   \n",
       "98                                         0.0   \n",
       "99                                         0.0   \n",
       "100                                        0.0   \n",
       "..                                         ...   \n",
       "246                                        0.0   \n",
       "247                                        0.0   \n",
       "248                                        0.0   \n",
       "249                                        0.0   \n",
       "250                                        0.0   \n",
       "\n",
       "     SolarDownwardRadiation_dwd_Mean_Lag_1h  \\\n",
       "96                                      0.0   \n",
       "97                                      0.0   \n",
       "98                                      0.0   \n",
       "99                                      0.0   \n",
       "100                                     0.0   \n",
       "..                                      ...   \n",
       "246                                     0.0   \n",
       "247                                     0.0   \n",
       "248                                     0.0   \n",
       "249                                     0.0   \n",
       "250                                     0.0   \n",
       "\n",
       "     SolarDownwardRadiation_dwd_Mean_Lag_24h  Panel_Efficiency_dwd_mean  \\\n",
       "96                                       0.0                   0.188081   \n",
       "97                                       0.0                   0.188098   \n",
       "98                                       0.0                   0.188098   \n",
       "99                                       0.0                   0.188134   \n",
       "100                                      0.0                   0.188134   \n",
       "..                                       ...                        ...   \n",
       "246                                      0.0                   0.190438   \n",
       "247                                      0.0                   0.191467   \n",
       "248                                      0.0                   0.192090   \n",
       "249                                      0.0                   0.192713   \n",
       "250                                      0.0                   0.193053   \n",
       "\n",
       "     Panel_Efficiency_dwd_std  Panel_Temperature_dwd_mean  \\\n",
       "96                   0.000357                   13.776000   \n",
       "97                   0.000327                   13.753000   \n",
       "98                   0.000327                   13.753000   \n",
       "99                   0.000287                   13.702750   \n",
       "100                  0.000287                   13.702750   \n",
       "..                        ...                         ...   \n",
       "246                  0.000232                   10.503219   \n",
       "247                  0.000267                    9.073187   \n",
       "248                  0.000295                    8.207844   \n",
       "249                  0.000339                    7.342500   \n",
       "250                  0.000367                    6.871500   \n",
       "\n",
       "     Panel_Temperature_dwd_std  Std_Temperature  Mean_Temperature  cos_hour  \\\n",
       "96                    0.496404         0.337606          13.58750  1.000000   \n",
       "97                    0.454666         0.349814          13.48025  1.000000   \n",
       "98                    0.454666         0.370293          13.37300  0.965926   \n",
       "99                    0.399291         0.364783          13.32325  0.965926   \n",
       "100                   0.399291         0.362641          13.27350  0.866025   \n",
       "..                         ...              ...               ...       ...   \n",
       "246                   0.322332         0.829993           6.38400  0.707107   \n",
       "247                   0.370297         0.822697           6.53200  0.707107   \n",
       "248                   0.409351         0.824959           6.68000  0.500000   \n",
       "249                   0.470626         0.791196           6.80400  0.500000   \n",
       "250                   0.509318         0.770841           6.92800  0.258819   \n",
       "\n",
       "     cos_day_of_year  solar_mw_lag_48h  capacity_mwp_lag_48h  generation_mw  \n",
       "96          0.158559               0.0           2779.542388            0.0  \n",
       "97          0.158559               0.0           2779.542384            0.0  \n",
       "98          0.158559               0.0           2779.542383            0.0  \n",
       "99          0.158559               0.0           2779.542370            0.0  \n",
       "100         0.158559               0.0           2779.542348            0.0  \n",
       "..               ...               ...                   ...            ...  \n",
       "246         0.209315               0.0           2779.348050            0.0  \n",
       "247         0.209315               0.0           2779.348028            0.0  \n",
       "248         0.209315               0.0           2779.348016            0.0  \n",
       "249         0.209315               0.0           2779.348004            0.0  \n",
       "250         0.209315               0.0           2779.348003            0.0  \n",
       "\n",
       "[152 rows x 17 columns]"
      ]
     },
     "execution_count": 39,
     "metadata": {},
     "output_type": "execute_result"
    }
   ],
   "source": [
    "df_resampled_merged_solar3"
   ]
  },
  {
   "cell_type": "code",
   "execution_count": 40,
   "metadata": {},
   "outputs": [
    {
     "name": "stderr",
     "output_type": "stream",
     "text": [
      "c:\\Users\\paulh\\anaconda3\\envs\\HEFTcom24\\Lib\\site-packages\\sklearn\\base.py:486: UserWarning: X has feature names, but StandardScaler was fitted without feature names\n",
      "  warnings.warn(\n"
     ]
    }
   ],
   "source": [
    "#load scaler and model\n",
    "import pickle\n",
    "from sklearn.preprocessing import StandardScaler\n",
    "\n",
    "scaler = pickle.load(open('D:/Users/paulh/Desktop/Domäneprojekt2/Energy_production_price_prediction/paul_analyse/scaler.pkl', 'rb'))\n",
    "X = df_resampled_merged_solar3.drop(columns=[\"generation_mw\"])\n",
    "X_scaled = scaler.transform(X)\n",
    "Y = df_resampled_merged_solar3.generation_mw\n",
    "Y = Y*0.5"
   ]
  },
  {
   "cell_type": "code",
   "execution_count": 41,
   "metadata": {},
   "outputs": [
    {
     "data": {
      "text/plain": [
       "array([[-0.66504204, -0.66504204, -0.66688947, ...,  0.22672476,\n",
       "        -0.62102199,  6.91047031],\n",
       "       [-0.66504204, -0.66504204, -0.66688947, ...,  0.22672476,\n",
       "        -0.62102199,  6.91047026],\n",
       "       [-0.66504204, -0.66504204, -0.66688947, ...,  0.22672476,\n",
       "        -0.62102199,  6.91047025],\n",
       "       ...,\n",
       "       [-0.66504204, -0.66504204, -0.66688947, ...,  0.29809888,\n",
       "        -0.62102199,  6.90808018],\n",
       "       [-0.66504204, -0.66504204, -0.66688947, ...,  0.29809888,\n",
       "        -0.62102199,  6.90808003],\n",
       "       [-0.66504204, -0.66504204, -0.66688947, ...,  0.29809888,\n",
       "        -0.62102199,  6.90808002]])"
      ]
     },
     "execution_count": 41,
     "metadata": {},
     "output_type": "execute_result"
    }
   ],
   "source": [
    "X_scaled"
   ]
  },
  {
   "cell_type": "code",
   "execution_count": 42,
   "metadata": {},
   "outputs": [],
   "source": [
    "import torch\n",
    "import torch.nn as nn\n",
    "\n",
    "# Define the MLP model\n",
    "class MLP(nn.Module):\n",
    "    def __init__(self, input_dim):\n",
    "        super(MLP, self).__init__()\n",
    "        self.fc1 = nn.Linear(input_dim, 64)\n",
    "        self.fc2 = nn.Linear(64, 256)\n",
    "        self.fc3 = nn.Linear(256, 512)\n",
    "        self.fc4 = nn.Linear(512, 64)\n",
    "        self.fc5 = nn.Linear(64, 9)\n",
    "\n",
    "        self.dropout = nn.Dropout(0.2)\n",
    "        self.swish = nn.SiLU()\n",
    "    \n",
    "    def forward(self, x):\n",
    "        x = torch.relu(self.fc1(x))\n",
    "        x = self.dropout(x)\n",
    "        x = self.swish(self.fc2(x))\n",
    "        x = self.dropout(x)\n",
    "        x = self.swish(self.fc3(x))\n",
    "        x = self.dropout(x)\n",
    "        x = self.swish(self.fc4(x))\n",
    "        x = self.dropout(x)\n",
    "        x = self.fc5(x)\n",
    "        return x"
   ]
  },
  {
   "cell_type": "code",
   "execution_count": 43,
   "metadata": {},
   "outputs": [],
   "source": [
    "# import torch\n",
    "# import torch.nn as nn\n",
    "\n",
    "# # Define the MLP model\n",
    "# class MLP(nn.Module):\n",
    "#     def __init__(self, input_dim):\n",
    "#         super(MLP, self).__init__()\n",
    "#         # Single hidden layer with 416 neurons as suggested by Optuna\n",
    "#         self.fc1 = nn.Linear(input_dim, 416)\n",
    "#         self.fc2 = nn.Linear(416, 9)  # Output layer with 9 neurons for quantiles\n",
    "        \n",
    "#         # Dropout with rate close to Optuna's suggestion\n",
    "#         self.dropout = nn.Dropout(0.13)\n",
    "#         self.swish = nn.SiLU()\n",
    "    \n",
    "#     def forward(self, x):\n",
    "#         x = self.swish(self.fc1(x))\n",
    "#         x = self.dropout(x)\n",
    "#         x = self.fc2(x)\n",
    "#         return x"
   ]
  },
  {
   "cell_type": "code",
   "execution_count": 44,
   "metadata": {},
   "outputs": [
    {
     "name": "stderr",
     "output_type": "stream",
     "text": [
      "C:\\Users\\paulh\\AppData\\Local\\Temp\\ipykernel_17076\\2147376376.py:3: FutureWarning: You are using `torch.load` with `weights_only=False` (the current default value), which uses the default pickle module implicitly. It is possible to construct malicious pickle data which will execute arbitrary code during unpickling (See https://github.com/pytorch/pytorch/blob/main/SECURITY.md#untrusted-models for more details). In a future release, the default value for `weights_only` will be flipped to `True`. This limits the functions that could be executed during unpickling. Arbitrary objects will no longer be allowed to be loaded via this mode unless they are explicitly allowlisted by the user via `torch.serialization.add_safe_globals`. We recommend you start setting `weights_only=True` for any use case where you don't have full control of the loaded file. Please open an issue on GitHub for any issues related to this experimental feature.\n",
      "  model.load_state_dict(torch.load('D:/Users/paulh/Desktop/Domäneprojekt2/Energy_production_price_prediction/paul_analyse/model1.pth'))\n"
     ]
    },
    {
     "data": {
      "text/plain": [
       "<All keys matched successfully>"
      ]
     },
     "execution_count": 44,
     "metadata": {},
     "output_type": "execute_result"
    }
   ],
   "source": [
    "# Load the model from the file\n",
    "model = MLP(X_scaled.shape[1])\n",
    "model.load_state_dict(torch.load('D:/Users/paulh/Desktop/Domäneprojekt2/Energy_production_price_prediction/paul_analyse/model1.pth'))"
   ]
  },
  {
   "cell_type": "code",
   "execution_count": 45,
   "metadata": {},
   "outputs": [
    {
     "data": {
      "text/plain": [
       "array([[ 1.35072914e-04,  7.00291945e-04,  1.45800426e-04, ...,\n",
       "        -6.51903823e-03,  3.07734311e-03,  5.88390827e-02],\n",
       "       [ 1.42077159e-04,  7.28391111e-04,  1.43777579e-04, ...,\n",
       "        -7.11139664e-03,  1.99045241e-03,  5.79710901e-02],\n",
       "       [ 1.61894539e-04,  7.90334772e-04,  1.48713079e-04, ...,\n",
       "        -1.00749470e-02, -4.84390557e-03,  4.81117666e-02],\n",
       "       ...,\n",
       "       [-2.92302715e-03, -3.07009555e-03, -1.72186142e-03, ...,\n",
       "         5.96154183e-02,  1.57769367e-01,  2.89395928e-01],\n",
       "       [-1.74484868e-03, -1.73754781e-03, -8.97297694e-04, ...,\n",
       "         4.08662781e-02,  1.12862535e-01,  2.22467244e-01],\n",
       "       [-2.10637692e-02, -2.34796256e-02, -1.93728581e-02, ...,\n",
       "         1.44311741e-01,  3.80741715e-01,  6.20612383e-01]], dtype=float32)"
      ]
     },
     "execution_count": 45,
     "metadata": {},
     "output_type": "execute_result"
    }
   ],
   "source": [
    "#make predictions\n",
    "X_tensor = torch.tensor(X_scaled, dtype=torch.float32)\n",
    "model.eval()\n",
    "with torch.no_grad():\n",
    "    predictions = model(X_tensor).numpy()\n",
    "\n",
    "predictions"
   ]
  },
  {
   "cell_type": "code",
   "execution_count": 46,
   "metadata": {},
   "outputs": [
    {
     "data": {
      "image/png": "[encoded data removed]",
      "text/plain": [
       "<Figure size 640x480 with 1 Axes>"
      ]
     },
     "metadata": {},
     "output_type": "display_data"
    }
   ],
   "source": [
    "#compare predictions with actual values\n",
    "import matplotlib.pyplot as plt\n",
    "\n",
    "plt.plot(Y.values, label='Actual')\n",
    "plt.plot(predictions, label='Predicted')\n",
    "plt.legend()\n",
    "plt.show()\n"
   ]
  },
  {
   "cell_type": "code",
   "execution_count": 47,
   "metadata": {},
   "outputs": [
    {
     "data": {
      "text/plain": [
       "array([-2.30790116e-04, -2.68663745e-04, -4.23876569e-04, -4.55671456e-04,\n",
       "       -7.45078083e-04, -7.74920452e-04, -7.82029238e-04, -8.07076227e-04,\n",
       "        1.01933070e-03,  1.06175500e-03, -4.39053727e-03, -2.99228895e-02,\n",
       "        1.16649761e+01,  4.69021950e+01,  1.15823868e+02,  1.47258972e+02,\n",
       "        1.95084244e+02,  2.21616455e+02,  2.53995132e+02,  2.76335663e+02,\n",
       "        2.99839600e+02,  3.34890686e+02,  3.75534241e+02,  3.62910004e+02,\n",
       "        3.35984741e+02,  3.16827698e+02,  3.01591614e+02,  2.85175323e+02,\n",
       "        2.67777863e+02,  2.54401978e+02,  2.37476547e+02,  2.23564087e+02,\n",
       "        1.81188858e+02,  1.54781128e+02,  9.02853775e+01,  8.31405640e+01,\n",
       "        3.93174095e+01,  3.57253914e+01,  2.01145932e-03, -4.66800760e-04,\n",
       "       -5.99575695e-04, -9.41582490e-04, -9.71062575e-04, -8.06340482e-04,\n",
       "       -7.22305384e-04, -5.91987744e-04, -6.05921727e-04, -7.28099607e-04,\n",
       "       -7.05377664e-04, -9.06276982e-04, -8.93651973e-04, -5.21490816e-04,\n",
       "       -5.11212274e-04,  2.36454001e-03,  2.56005349e-03, -2.47488879e-02,\n",
       "       -9.16224271e-02,  1.60240269e+01,  5.29889641e+01,  1.21822372e+02,\n",
       "        1.55191986e+02,  1.99768829e+02,  2.26005157e+02,  2.53196365e+02,\n",
       "        2.76277710e+02,  3.04369629e+02,  3.34804871e+02,  3.68435120e+02,\n",
       "        3.76781769e+02,  3.74274963e+02,  3.68851440e+02,  3.65998260e+02,\n",
       "        3.31556458e+02,  2.92934570e+02,  2.51735138e+02,  2.11018768e+02,\n",
       "        1.82593903e+02,  1.50671967e+02,  1.39025787e+02,  9.10202026e+01,\n",
       "        9.65365067e+01,  7.02730637e+01,  7.80729828e+01,  4.22295799e+01,\n",
       "        3.87025566e+01,  3.96347857e+00,  2.45395494e+00, -2.20196834e-03,\n",
       "        5.57252066e-03,  7.88131030e-04,  1.83290336e-04, -9.28762835e-04,\n",
       "       -1.30508514e-03, -1.41835818e-03, -1.34558231e-03, -1.18636386e-03,\n",
       "       -1.11763319e-03, -3.51824332e-04, -1.90426596e-04,  1.92221371e-03,\n",
       "        1.99622242e-03,  3.46322544e-03,  3.77269043e-03,  9.05703902e-02,\n",
       "        1.14980268e+00,  3.93331871e+01,  1.03598816e+02,  1.80282501e+02,\n",
       "        2.46331818e+02,  3.23286438e+02,  3.92733154e+02,  4.65514465e+02,\n",
       "        5.15969482e+02,  5.62581299e+02,  5.89770020e+02,  6.09521423e+02,\n",
       "        6.00071289e+02,  5.84988403e+02,  5.56034241e+02,  5.22170959e+02,\n",
       "        4.76575806e+02,  4.27450867e+02,  3.61526550e+02,  2.81055573e+02,\n",
       "        2.01670898e+02,  1.21987732e+02,  9.18903732e+01,  4.39583092e+01,\n",
       "        4.91687012e+01,  3.26922264e+01,  5.03048286e+01,  3.17413120e+01,\n",
       "        4.31188240e+01,  2.37193260e+01,  2.92029648e+01,  6.73253584e+00,\n",
       "        9.85497284e+00,  1.30813801e+00,  1.15987480e+00, -1.74523160e-01,\n",
       "       -1.32178336e-01, -4.69376110e-02, -1.91874895e-02, -9.67022032e-03,\n",
       "       -2.72574462e-03, -1.78469811e-04, -1.56059861e-04,  1.51166413e-03,\n",
       "        6.01918902e-04,  3.71137867e-03,  3.07579106e-03, -6.62775571e-03],\n",
       "      dtype=float32)"
      ]
     },
     "execution_count": 47,
     "metadata": {},
     "output_type": "execute_result"
    }
   ],
   "source": [
    "predictions[:,4]"
   ]
  },
  {
   "cell_type": "code",
   "execution_count": 48,
   "metadata": {},
   "outputs": [
    {
     "data": {
      "text/plain": [
       "[11.98530841078812,\n",
       " 16.92250779922946,\n",
       " 19.991123150618467,\n",
       " 21.486673842061474,\n",
       " 21.770321791007923,\n",
       " 20.696171484424788,\n",
       " 18.309346049801714,\n",
       " 14.500755957589874,\n",
       " 8.425980280466849]"
      ]
     },
     "execution_count": 48,
     "metadata": {},
     "output_type": "execute_result"
    }
   ],
   "source": [
    "#pinball loss on test data\n",
    "def pinball_loss(y_true, y_pred, quantile):\n",
    "    delta = y_true - y_pred\n",
    "    return np.mean(np.maximum(quantile * delta, (quantile - 1) * delta))\n",
    "\n",
    "quantiles = [0.1, 0.2, 0.3, 0.4, 0.5, 0.6, 0.7, 0.8, 0.9]\n",
    "losses = [pinball_loss(Y.values, predictions[:, i], quantiles[i]) for i in range(9)]\n",
    "losses"
   ]
  },
  {
   "cell_type": "code",
   "execution_count": 49,
   "metadata": {},
   "outputs": [
    {
     "data": {
      "text/plain": [
       "[47.6637721350704,\n",
       " 42.529985194004766,\n",
       " 41.644145833011514,\n",
       " 42.07735160508789,\n",
       " 43.540643582015846,\n",
       " 45.34152334335286,\n",
       " 48.03362192282146,\n",
       " 52.667840421410396,\n",
       " 60.77670675242241]"
      ]
     },
     "execution_count": 49,
     "metadata": {},
     "output_type": "execute_result"
    }
   ],
   "source": [
    "import numpy as np\n",
    "\n",
    "# Function to calculate mean absolute error\n",
    "def mean_absolute_error(y_true, y_pred):\n",
    "    return np.mean(np.abs(y_true - y_pred))\n",
    "\n",
    "# Example usage with quantiles (though quantiles are not used in MAE calculation)\n",
    "# Assuming predictions are in shape (n_samples, n_quantiles)\n",
    "quantiles = [0.1, 0.2, 0.3, 0.4, 0.5, 0.6, 0.7, 0.8, 0.9]\n",
    "losses = [mean_absolute_error(Y.values, predictions[:, i]) for i in range(9)]\n",
    "\n",
    "# Print the MAE for each quantile\n",
    "losses\n"
   ]
  },
  {
   "cell_type": "code",
   "execution_count": 50,
   "metadata": {},
   "outputs": [
    {
     "data": {
      "text/plain": [
       "43.540643582015846"
      ]
     },
     "execution_count": 50,
     "metadata": {},
     "output_type": "execute_result"
    }
   ],
   "source": [
    "#average error\n",
    "error = np.mean(np.abs(predictions[:,4] - Y.values))\n",
    "error"
   ]
  }
 ],
 "metadata": {
  "kernelspec": {
   "display_name": "HEFTcom24",
   "language": "python",
   "name": "python3"
  },
  "language_info": {
   "codemirror_mode": {
    "name": "ipython",
    "version": 3
   },
   "file_extension": ".py",
   "mimetype": "text/x-python",
   "name": "python",
   "nbconvert_exporter": "python",
   "pygments_lexer": "ipython3",
   "version": "3.11.5"
  }
 },
 "nbformat": 4,
 "nbformat_minor": 2
}
