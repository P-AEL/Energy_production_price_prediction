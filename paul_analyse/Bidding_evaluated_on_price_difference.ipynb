{
 "cells": [
  {
   "cell_type": "code",
   "execution_count": 1,
   "metadata": {},
   "outputs": [],
   "source": [
    "import pandas as pd\n",
    "import numpy as np\n",
    "import plotly.express as px\n",
    "import plotly.graph_objects as go\n",
    "import os\n",
    "import json\n",
    "from sklearn.preprocessing import StandardScaler\n",
    "import torch\n",
    "import torch.nn as nn\n",
    "import torch.optim as optim\n",
    "from torch.utils.data import DataLoader, TensorDataset"
   ]
  },
  {
   "cell_type": "code",
   "execution_count": 2,
   "metadata": {},
   "outputs": [],
   "source": [
    "df_bbidding = pd.read_csv('bidding_training.csv')\n",
    "df_bidding_imbalance_price = pd.read_csv('bidding_training_predictions_imbalance_price.csv')\n",
    "df_bidding_imbalance_price = df_bidding_imbalance_price[[\"timestamp_utc\",\"imbalance_price_predictions\"]]\n",
    "df_bidding_imbalance_price.timestamp_utc = pd.to_datetime(df_bidding_imbalance_price.timestamp_utc)\n",
    "df_bidding_day_ahead_price = pd.read_csv('bidding_training_predictions_day_ahead_price.csv')\n",
    "df_bidding_day_ahead_price = df_bidding_day_ahead_price[[\"timestamp_utc\",\"day_ahead_price_predictions\"]]\n",
    "df_bidding_day_ahead_price.timestamp_utc = pd.to_datetime(df_bidding_day_ahead_price.timestamp_utc)\n",
    "df_bbidding[\"day_ahead_price\"] = df_bbidding[\"price_x\"].rename(\"day_ahead_price\")\n",
    "df_bbidding[\"market_price\"] = df_bbidding[\"price_y\"].rename(\"market_price\")\n",
    "# df_day_ahead = pd.read_csv('D:/Users/paulh/Desktop/Domäneprojekt2/Energy_production_price_prediction/basic_files/day_ahead_price.csv')\n",
    "# df_imbalance = pd.read_csv('D:/Users/paulh/Desktop/Domäneprojekt2/Energy_production_price_prediction/basic_files/imbalance_price.csv')"
   ]
  },
  {
   "cell_type": "code",
   "execution_count": 3,
   "metadata": {},
   "outputs": [],
   "source": [
    "df_bbidding.timestamp_utc = pd.to_datetime(df_bbidding.timestamp_utc)\n",
    "df_bbidding = df_bbidding.merge(df_bidding_imbalance_price, on=\"timestamp_utc\")\n",
    "df_bbidding = df_bbidding.merge(df_bidding_day_ahead_price, on=\"timestamp_utc\")"
   ]
  },
  {
   "cell_type": "code",
   "execution_count": 5,
   "metadata": {},
   "outputs": [],
   "source": [
    "df_bbidding[\"price_difference\"] = df_bbidding[\"day_ahead_price\"] - df_bbidding[\"imbalance_price\"]"
   ]
  },
  {
   "cell_type": "code",
   "execution_count": 6,
   "metadata": {},
   "outputs": [],
   "source": [
    "import pandas as pd\n",
    "import numpy as np\n",
    "from scipy.optimize import minimize\n",
    "\n",
    "# Define the revenue function (objective function)\n",
    "def revenue(zb, Target_MW, price_diff):\n",
    "    return price_diff * zb + -0.07*(Target_MW-zb)**2\n",
    "\n",
    "# Negative revenue function (for minimization)\n",
    "def negative_revenue(zb, Target_MW, price_difference):\n",
    "    return -revenue(zb, Target_MW, price_difference)\n",
    "\n",
    "# Optimization function to compute the optimal bidding value for each row\n",
    "def optimize_bidding(row):\n",
    "    # Extract the values from the row\n",
    "    Target_MW = row['Target_MW']\n",
    "    price_difference = row['price_difference']\n",
    "    \n",
    "    # Initial guess for zb (midpoint between 0 and Target_MW)\n",
    "    initial_zb = Target_MW / 2\n",
    "    \n",
    "    # Bounds for zb (as per KKT conditions)\n",
    "    bounds = [(0, 1800)]\n",
    "    \n",
    "    # Perform the optimization\n",
    "    result = minimize(negative_revenue, initial_zb, args=(Target_MW, price_difference), bounds=bounds)\n",
    "    \n",
    "    # Optimal trade value (zb)\n",
    "    return result.x[0]\n",
    "\n",
    "# Apply the optimization to each row and replace column '5' with the optimized trade value\n",
    "df_bbidding['optimized_trade'] = df_bbidding.apply(optimize_bidding, axis=1)\n",
    "\n",
    "# Now calculate the revenue using the optimized trade values\n",
    "df_bbidding['revenue_optimal'] = df_bbidding['day_ahead_price'] * df_bbidding['optimized_trade'] + \\\n",
    "                         (df_bbidding['Target_MW'] - df_bbidding['optimized_trade']) * \\\n",
    "                         (df_bbidding['imbalance_price'] - 0.07 * (df_bbidding['Target_MW'] - df_bbidding['optimized_trade']))\n",
    "\n"
   ]
  },
  {
   "cell_type": "code",
   "execution_count": 7,
   "metadata": {},
   "outputs": [
    {
     "data": {
      "text/plain": [
       "56847.65672592287"
      ]
     },
     "execution_count": 7,
     "metadata": {},
     "output_type": "execute_result"
    }
   ],
   "source": [
    "df_bbidding.revenue_optimal.mean()"
   ]
  }
 ],
 "metadata": {
  "kernelspec": {
   "display_name": "HEFTcom24",
   "language": "python",
   "name": "python3"
  },
  "language_info": {
   "codemirror_mode": {
    "name": "ipython",
    "version": 3
   },
   "file_extension": ".py",
   "mimetype": "text/x-python",
   "name": "python",
   "nbconvert_exporter": "python",
   "pygments_lexer": "ipython3",
   "version": "3.11.5"
  }
 },
 "nbformat": 4,
 "nbformat_minor": 2
}
