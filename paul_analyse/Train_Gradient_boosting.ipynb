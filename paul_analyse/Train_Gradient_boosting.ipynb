{
 "cells": [
  {
   "cell_type": "code",
   "execution_count": 1,
   "metadata": {},
   "outputs": [],
   "source": [
    "import pandas as pd\n",
    "import numpy as np\n",
    "import matplotlib.pyplot as plt\n",
    "import seaborn as sns\n",
    "import pickle"
   ]
  },
  {
   "cell_type": "markdown",
   "metadata": {},
   "source": [
    "wind"
   ]
  },
  {
   "cell_type": "code",
   "execution_count": 2,
   "metadata": {},
   "outputs": [
    {
     "data": {
      "text/html": [
       "<div>\n",
       "<style scoped>\n",
       "    .dataframe tbody tr th:only-of-type {\n",
       "        vertical-align: middle;\n",
       "    }\n",
       "\n",
       "    .dataframe tbody tr th {\n",
       "        vertical-align: top;\n",
       "    }\n",
       "\n",
       "    .dataframe thead th {\n",
       "        text-align: right;\n",
       "    }\n",
       "</style>\n",
       "<table border=\"1\" class=\"dataframe\">\n",
       "  <thead>\n",
       "    <tr style=\"text-align: right;\">\n",
       "      <th></th>\n",
       "      <th>valid_time</th>\n",
       "      <th>reference_time</th>\n",
       "      <th>RelativeHumidity_dwd</th>\n",
       "      <th>Temperature_dwd</th>\n",
       "      <th>WindDirection_dwd</th>\n",
       "      <th>WindDirection:100_dwd</th>\n",
       "      <th>WindSpeed_dwd</th>\n",
       "      <th>WindSpeed:100_dwd</th>\n",
       "      <th>RelativeHumidity_ncep</th>\n",
       "      <th>Temperature_ncep</th>\n",
       "      <th>...</th>\n",
       "      <th>WindDirection:100_ncep</th>\n",
       "      <th>WindSpeed_ncep</th>\n",
       "      <th>WindSpeed:100_ncep</th>\n",
       "      <th>dtm</th>\n",
       "      <th>MIP</th>\n",
       "      <th>Wind_MW</th>\n",
       "      <th>SS_Price</th>\n",
       "      <th>boa_MWh</th>\n",
       "      <th>DA_Price</th>\n",
       "      <th>Wind_MWh_credit</th>\n",
       "    </tr>\n",
       "  </thead>\n",
       "  <tbody>\n",
       "    <tr>\n",
       "      <th>0</th>\n",
       "      <td>2020-09-20 00:00:00+00:00</td>\n",
       "      <td>2020-09-20 00:00:00+00:00</td>\n",
       "      <td>85.213745</td>\n",
       "      <td>15.416670</td>\n",
       "      <td>61.588080</td>\n",
       "      <td>62.085180</td>\n",
       "      <td>10.043627</td>\n",
       "      <td>11.802604</td>\n",
       "      <td>84.066670</td>\n",
       "      <td>15.450012</td>\n",
       "      <td>...</td>\n",
       "      <td>58.721077</td>\n",
       "      <td>9.116803</td>\n",
       "      <td>11.338992</td>\n",
       "      <td>2020-09-20 00:00:00+00:00</td>\n",
       "      <td>20.06</td>\n",
       "      <td>996.284</td>\n",
       "      <td>2.50000</td>\n",
       "      <td>0.0</td>\n",
       "      <td>32.17</td>\n",
       "      <td>498.142</td>\n",
       "    </tr>\n",
       "    <tr>\n",
       "      <th>1</th>\n",
       "      <td>2020-09-20 00:30:00+00:00</td>\n",
       "      <td>2020-09-20 00:00:00+00:00</td>\n",
       "      <td>85.012250</td>\n",
       "      <td>15.412510</td>\n",
       "      <td>61.203667</td>\n",
       "      <td>61.726974</td>\n",
       "      <td>9.905537</td>\n",
       "      <td>11.648819</td>\n",
       "      <td>84.433334</td>\n",
       "      <td>15.397076</td>\n",
       "      <td>...</td>\n",
       "      <td>58.494644</td>\n",
       "      <td>9.314931</td>\n",
       "      <td>11.516161</td>\n",
       "      <td>2020-09-20 00:30:00+00:00</td>\n",
       "      <td>19.77</td>\n",
       "      <td>957.576</td>\n",
       "      <td>15.00000</td>\n",
       "      <td>0.0</td>\n",
       "      <td>32.17</td>\n",
       "      <td>478.788</td>\n",
       "    </tr>\n",
       "    <tr>\n",
       "      <th>2</th>\n",
       "      <td>2020-09-20 01:00:00+00:00</td>\n",
       "      <td>2020-09-20 00:00:00+00:00</td>\n",
       "      <td>84.810770</td>\n",
       "      <td>15.408349</td>\n",
       "      <td>60.819256</td>\n",
       "      <td>61.368774</td>\n",
       "      <td>9.767447</td>\n",
       "      <td>11.495033</td>\n",
       "      <td>84.800000</td>\n",
       "      <td>15.344140</td>\n",
       "      <td>...</td>\n",
       "      <td>58.268215</td>\n",
       "      <td>9.513059</td>\n",
       "      <td>11.693331</td>\n",
       "      <td>2020-09-20 01:00:00+00:00</td>\n",
       "      <td>28.68</td>\n",
       "      <td>941.044</td>\n",
       "      <td>47.95000</td>\n",
       "      <td>0.0</td>\n",
       "      <td>32.00</td>\n",
       "      <td>470.522</td>\n",
       "    </tr>\n",
       "    <tr>\n",
       "      <th>3</th>\n",
       "      <td>2020-09-20 01:30:00+00:00</td>\n",
       "      <td>2020-09-20 00:00:00+00:00</td>\n",
       "      <td>84.357880</td>\n",
       "      <td>15.451218</td>\n",
       "      <td>60.511030</td>\n",
       "      <td>61.111040</td>\n",
       "      <td>9.631039</td>\n",
       "      <td>11.354128</td>\n",
       "      <td>84.933334</td>\n",
       "      <td>15.305976</td>\n",
       "      <td>...</td>\n",
       "      <td>59.550636</td>\n",
       "      <td>9.587589</td>\n",
       "      <td>11.716687</td>\n",
       "      <td>2020-09-20 01:30:00+00:00</td>\n",
       "      <td>28.97</td>\n",
       "      <td>964.366</td>\n",
       "      <td>29.13000</td>\n",
       "      <td>0.0</td>\n",
       "      <td>32.00</td>\n",
       "      <td>482.183</td>\n",
       "    </tr>\n",
       "    <tr>\n",
       "      <th>4</th>\n",
       "      <td>2020-09-20 02:00:00+00:00</td>\n",
       "      <td>2020-09-20 00:00:00+00:00</td>\n",
       "      <td>83.905000</td>\n",
       "      <td>15.494086</td>\n",
       "      <td>60.202800</td>\n",
       "      <td>60.853306</td>\n",
       "      <td>9.494630</td>\n",
       "      <td>11.213223</td>\n",
       "      <td>85.066666</td>\n",
       "      <td>15.267812</td>\n",
       "      <td>...</td>\n",
       "      <td>60.833060</td>\n",
       "      <td>9.662121</td>\n",
       "      <td>11.740044</td>\n",
       "      <td>2020-09-20 02:00:00+00:00</td>\n",
       "      <td>28.19</td>\n",
       "      <td>918.432</td>\n",
       "      <td>28.95000</td>\n",
       "      <td>0.0</td>\n",
       "      <td>31.99</td>\n",
       "      <td>459.216</td>\n",
       "    </tr>\n",
       "    <tr>\n",
       "      <th>...</th>\n",
       "      <td>...</td>\n",
       "      <td>...</td>\n",
       "      <td>...</td>\n",
       "      <td>...</td>\n",
       "      <td>...</td>\n",
       "      <td>...</td>\n",
       "      <td>...</td>\n",
       "      <td>...</td>\n",
       "      <td>...</td>\n",
       "      <td>...</td>\n",
       "      <td>...</td>\n",
       "      <td>...</td>\n",
       "      <td>...</td>\n",
       "      <td>...</td>\n",
       "      <td>...</td>\n",
       "      <td>...</td>\n",
       "      <td>...</td>\n",
       "      <td>...</td>\n",
       "      <td>...</td>\n",
       "      <td>...</td>\n",
       "      <td>...</td>\n",
       "    </tr>\n",
       "    <tr>\n",
       "      <th>529625</th>\n",
       "      <td>2024-05-19 21:30:00+00:00</td>\n",
       "      <td>2024-05-19 00:00:00+00:00</td>\n",
       "      <td>91.634130</td>\n",
       "      <td>11.190109</td>\n",
       "      <td>21.214108</td>\n",
       "      <td>21.933590</td>\n",
       "      <td>6.882957</td>\n",
       "      <td>8.258531</td>\n",
       "      <td>93.683334</td>\n",
       "      <td>11.047282</td>\n",
       "      <td>...</td>\n",
       "      <td>22.433960</td>\n",
       "      <td>6.752734</td>\n",
       "      <td>9.066019</td>\n",
       "      <td>2024-05-19 21:30:00+00:00</td>\n",
       "      <td>77.40</td>\n",
       "      <td>227.518</td>\n",
       "      <td>56.20000</td>\n",
       "      <td>0.0</td>\n",
       "      <td>76.81</td>\n",
       "      <td>113.759</td>\n",
       "    </tr>\n",
       "    <tr>\n",
       "      <th>529626</th>\n",
       "      <td>2024-05-19 22:00:00+00:00</td>\n",
       "      <td>2024-05-19 00:00:00+00:00</td>\n",
       "      <td>91.232635</td>\n",
       "      <td>11.127069</td>\n",
       "      <td>22.417616</td>\n",
       "      <td>22.716902</td>\n",
       "      <td>7.040593</td>\n",
       "      <td>8.282218</td>\n",
       "      <td>94.700000</td>\n",
       "      <td>10.946550</td>\n",
       "      <td>...</td>\n",
       "      <td>22.568020</td>\n",
       "      <td>6.822509</td>\n",
       "      <td>9.019323</td>\n",
       "      <td>2024-05-19 22:00:00+00:00</td>\n",
       "      <td>80.82</td>\n",
       "      <td>197.090</td>\n",
       "      <td>102.00023</td>\n",
       "      <td>0.0</td>\n",
       "      <td>71.11</td>\n",
       "      <td>98.545</td>\n",
       "    </tr>\n",
       "    <tr>\n",
       "      <th>529627</th>\n",
       "      <td>2024-05-19 22:30:00+00:00</td>\n",
       "      <td>2024-05-19 00:00:00+00:00</td>\n",
       "      <td>90.249340</td>\n",
       "      <td>11.237669</td>\n",
       "      <td>22.327656</td>\n",
       "      <td>22.829685</td>\n",
       "      <td>6.842084</td>\n",
       "      <td>8.272179</td>\n",
       "      <td>95.016660</td>\n",
       "      <td>10.785738</td>\n",
       "      <td>...</td>\n",
       "      <td>21.831242</td>\n",
       "      <td>7.013203</td>\n",
       "      <td>8.877809</td>\n",
       "      <td>2024-05-19 22:30:00+00:00</td>\n",
       "      <td>75.69</td>\n",
       "      <td>171.306</td>\n",
       "      <td>99.00000</td>\n",
       "      <td>0.0</td>\n",
       "      <td>71.11</td>\n",
       "      <td>85.653</td>\n",
       "    </tr>\n",
       "    <tr>\n",
       "      <th>529628</th>\n",
       "      <td>2024-05-19 23:00:00+00:00</td>\n",
       "      <td>2024-05-19 00:00:00+00:00</td>\n",
       "      <td>89.266040</td>\n",
       "      <td>11.348270</td>\n",
       "      <td>22.237694</td>\n",
       "      <td>22.942470</td>\n",
       "      <td>6.643576</td>\n",
       "      <td>8.262139</td>\n",
       "      <td>95.333336</td>\n",
       "      <td>10.624926</td>\n",
       "      <td>...</td>\n",
       "      <td>21.094461</td>\n",
       "      <td>7.203896</td>\n",
       "      <td>8.736294</td>\n",
       "      <td>2024-05-19 23:00:00+00:00</td>\n",
       "      <td>78.98</td>\n",
       "      <td>163.164</td>\n",
       "      <td>106.44988</td>\n",
       "      <td>0.0</td>\n",
       "      <td>66.51</td>\n",
       "      <td>81.582</td>\n",
       "    </tr>\n",
       "    <tr>\n",
       "      <th>529629</th>\n",
       "      <td>2024-05-19 23:30:00+00:00</td>\n",
       "      <td>2024-05-19 00:00:00+00:00</td>\n",
       "      <td>89.301720</td>\n",
       "      <td>11.359882</td>\n",
       "      <td>20.984837</td>\n",
       "      <td>22.255167</td>\n",
       "      <td>6.560893</td>\n",
       "      <td>8.222769</td>\n",
       "      <td>94.833336</td>\n",
       "      <td>10.489921</td>\n",
       "      <td>...</td>\n",
       "      <td>20.771225</td>\n",
       "      <td>7.314300</td>\n",
       "      <td>8.559060</td>\n",
       "      <td>2024-05-19 23:30:00+00:00</td>\n",
       "      <td>78.44</td>\n",
       "      <td>178.092</td>\n",
       "      <td>70.67000</td>\n",
       "      <td>0.0</td>\n",
       "      <td>66.51</td>\n",
       "      <td>89.046</td>\n",
       "    </tr>\n",
       "  </tbody>\n",
       "</table>\n",
       "<p>529630 rows × 21 columns</p>\n",
       "</div>"
      ],
      "text/plain": [
       "                       valid_time             reference_time  \\\n",
       "0       2020-09-20 00:00:00+00:00  2020-09-20 00:00:00+00:00   \n",
       "1       2020-09-20 00:30:00+00:00  2020-09-20 00:00:00+00:00   \n",
       "2       2020-09-20 01:00:00+00:00  2020-09-20 00:00:00+00:00   \n",
       "3       2020-09-20 01:30:00+00:00  2020-09-20 00:00:00+00:00   \n",
       "4       2020-09-20 02:00:00+00:00  2020-09-20 00:00:00+00:00   \n",
       "...                           ...                        ...   \n",
       "529625  2024-05-19 21:30:00+00:00  2024-05-19 00:00:00+00:00   \n",
       "529626  2024-05-19 22:00:00+00:00  2024-05-19 00:00:00+00:00   \n",
       "529627  2024-05-19 22:30:00+00:00  2024-05-19 00:00:00+00:00   \n",
       "529628  2024-05-19 23:00:00+00:00  2024-05-19 00:00:00+00:00   \n",
       "529629  2024-05-19 23:30:00+00:00  2024-05-19 00:00:00+00:00   \n",
       "\n",
       "        RelativeHumidity_dwd  Temperature_dwd  WindDirection_dwd  \\\n",
       "0                  85.213745        15.416670          61.588080   \n",
       "1                  85.012250        15.412510          61.203667   \n",
       "2                  84.810770        15.408349          60.819256   \n",
       "3                  84.357880        15.451218          60.511030   \n",
       "4                  83.905000        15.494086          60.202800   \n",
       "...                      ...              ...                ...   \n",
       "529625             91.634130        11.190109          21.214108   \n",
       "529626             91.232635        11.127069          22.417616   \n",
       "529627             90.249340        11.237669          22.327656   \n",
       "529628             89.266040        11.348270          22.237694   \n",
       "529629             89.301720        11.359882          20.984837   \n",
       "\n",
       "        WindDirection:100_dwd  WindSpeed_dwd  WindSpeed:100_dwd  \\\n",
       "0                   62.085180      10.043627          11.802604   \n",
       "1                   61.726974       9.905537          11.648819   \n",
       "2                   61.368774       9.767447          11.495033   \n",
       "3                   61.111040       9.631039          11.354128   \n",
       "4                   60.853306       9.494630          11.213223   \n",
       "...                       ...            ...                ...   \n",
       "529625              21.933590       6.882957           8.258531   \n",
       "529626              22.716902       7.040593           8.282218   \n",
       "529627              22.829685       6.842084           8.272179   \n",
       "529628              22.942470       6.643576           8.262139   \n",
       "529629              22.255167       6.560893           8.222769   \n",
       "\n",
       "        RelativeHumidity_ncep  Temperature_ncep  ...  WindDirection:100_ncep  \\\n",
       "0                   84.066670         15.450012  ...               58.721077   \n",
       "1                   84.433334         15.397076  ...               58.494644   \n",
       "2                   84.800000         15.344140  ...               58.268215   \n",
       "3                   84.933334         15.305976  ...               59.550636   \n",
       "4                   85.066666         15.267812  ...               60.833060   \n",
       "...                       ...               ...  ...                     ...   \n",
       "529625              93.683334         11.047282  ...               22.433960   \n",
       "529626              94.700000         10.946550  ...               22.568020   \n",
       "529627              95.016660         10.785738  ...               21.831242   \n",
       "529628              95.333336         10.624926  ...               21.094461   \n",
       "529629              94.833336         10.489921  ...               20.771225   \n",
       "\n",
       "        WindSpeed_ncep  WindSpeed:100_ncep                        dtm    MIP  \\\n",
       "0             9.116803           11.338992  2020-09-20 00:00:00+00:00  20.06   \n",
       "1             9.314931           11.516161  2020-09-20 00:30:00+00:00  19.77   \n",
       "2             9.513059           11.693331  2020-09-20 01:00:00+00:00  28.68   \n",
       "3             9.587589           11.716687  2020-09-20 01:30:00+00:00  28.97   \n",
       "4             9.662121           11.740044  2020-09-20 02:00:00+00:00  28.19   \n",
       "...                ...                 ...                        ...    ...   \n",
       "529625        6.752734            9.066019  2024-05-19 21:30:00+00:00  77.40   \n",
       "529626        6.822509            9.019323  2024-05-19 22:00:00+00:00  80.82   \n",
       "529627        7.013203            8.877809  2024-05-19 22:30:00+00:00  75.69   \n",
       "529628        7.203896            8.736294  2024-05-19 23:00:00+00:00  78.98   \n",
       "529629        7.314300            8.559060  2024-05-19 23:30:00+00:00  78.44   \n",
       "\n",
       "        Wind_MW   SS_Price  boa_MWh  DA_Price  Wind_MWh_credit  \n",
       "0       996.284    2.50000      0.0     32.17          498.142  \n",
       "1       957.576   15.00000      0.0     32.17          478.788  \n",
       "2       941.044   47.95000      0.0     32.00          470.522  \n",
       "3       964.366   29.13000      0.0     32.00          482.183  \n",
       "4       918.432   28.95000      0.0     31.99          459.216  \n",
       "...         ...        ...      ...       ...              ...  \n",
       "529625  227.518   56.20000      0.0     76.81          113.759  \n",
       "529626  197.090  102.00023      0.0     71.11           98.545  \n",
       "529627  171.306   99.00000      0.0     71.11           85.653  \n",
       "529628  163.164  106.44988      0.0     66.51           81.582  \n",
       "529629  178.092   70.67000      0.0     66.51           89.046  \n",
       "\n",
       "[529630 rows x 21 columns]"
      ]
     },
     "execution_count": 2,
     "metadata": {},
     "output_type": "execute_result"
    }
   ],
   "source": [
    "df_wind = pd.read_csv('D:/Users/paulh/Desktop/Domäneprojekt2/Energy_production_price_prediction/HEFTcom24/data/wind.csv')\n",
    "df_wind.drop(columns=['Unnamed: 0','Solar_MWh_credit','Solar_MW','Solar_capacity_mwp','Solar_installedcapacity_mwp'], inplace=True)\n",
    "df_wind"
   ]
  },
  {
   "cell_type": "code",
   "execution_count": 3,
   "metadata": {
    "vscode": {
     "languageId": "ruby"
    }
   },
   "outputs": [
    {
     "data": {
      "text/html": [
       "<div>\n",
       "<style scoped>\n",
       "    .dataframe tbody tr th:only-of-type {\n",
       "        vertical-align: middle;\n",
       "    }\n",
       "\n",
       "    .dataframe tbody tr th {\n",
       "        vertical-align: top;\n",
       "    }\n",
       "\n",
       "    .dataframe thead th {\n",
       "        text-align: right;\n",
       "    }\n",
       "</style>\n",
       "<table border=\"1\" class=\"dataframe\">\n",
       "  <thead>\n",
       "    <tr style=\"text-align: right;\">\n",
       "      <th></th>\n",
       "      <th>valid_time</th>\n",
       "      <th>reference_time</th>\n",
       "      <th>RelativeHumidity_dwd</th>\n",
       "      <th>Temperature_dwd</th>\n",
       "      <th>WindDirection_dwd</th>\n",
       "      <th>WindDirection:100_dwd</th>\n",
       "      <th>WindSpeed_dwd</th>\n",
       "      <th>WindSpeed:100_dwd</th>\n",
       "      <th>RelativeHumidity_ncep</th>\n",
       "      <th>Temperature_ncep</th>\n",
       "      <th>...</th>\n",
       "      <th>WindDirection:100_ncep</th>\n",
       "      <th>WindSpeed_ncep</th>\n",
       "      <th>WindSpeed:100_ncep</th>\n",
       "      <th>dtm</th>\n",
       "      <th>MIP</th>\n",
       "      <th>Wind_MW</th>\n",
       "      <th>SS_Price</th>\n",
       "      <th>boa_MWh</th>\n",
       "      <th>DA_Price</th>\n",
       "      <th>Wind_MWh_credit</th>\n",
       "    </tr>\n",
       "  </thead>\n",
       "  <tbody>\n",
       "    <tr>\n",
       "      <th>0</th>\n",
       "      <td>2020-09-20 00:00:00+00:00</td>\n",
       "      <td>2020-09-20 00:00:00+00:00</td>\n",
       "      <td>85.213745</td>\n",
       "      <td>15.416670</td>\n",
       "      <td>61.588080</td>\n",
       "      <td>62.085180</td>\n",
       "      <td>10.043627</td>\n",
       "      <td>11.802604</td>\n",
       "      <td>84.066670</td>\n",
       "      <td>15.450012</td>\n",
       "      <td>...</td>\n",
       "      <td>58.721077</td>\n",
       "      <td>9.116803</td>\n",
       "      <td>11.338992</td>\n",
       "      <td>2020-09-20 00:00:00+00:00</td>\n",
       "      <td>20.06</td>\n",
       "      <td>996.284</td>\n",
       "      <td>2.50000</td>\n",
       "      <td>0.0</td>\n",
       "      <td>32.17</td>\n",
       "      <td>498.142</td>\n",
       "    </tr>\n",
       "    <tr>\n",
       "      <th>1</th>\n",
       "      <td>2020-09-20 00:30:00+00:00</td>\n",
       "      <td>2020-09-20 00:00:00+00:00</td>\n",
       "      <td>85.012250</td>\n",
       "      <td>15.412510</td>\n",
       "      <td>61.203667</td>\n",
       "      <td>61.726974</td>\n",
       "      <td>9.905537</td>\n",
       "      <td>11.648819</td>\n",
       "      <td>84.433334</td>\n",
       "      <td>15.397076</td>\n",
       "      <td>...</td>\n",
       "      <td>58.494644</td>\n",
       "      <td>9.314931</td>\n",
       "      <td>11.516161</td>\n",
       "      <td>2020-09-20 00:30:00+00:00</td>\n",
       "      <td>19.77</td>\n",
       "      <td>957.576</td>\n",
       "      <td>15.00000</td>\n",
       "      <td>0.0</td>\n",
       "      <td>32.17</td>\n",
       "      <td>478.788</td>\n",
       "    </tr>\n",
       "    <tr>\n",
       "      <th>2</th>\n",
       "      <td>2020-09-20 01:00:00+00:00</td>\n",
       "      <td>2020-09-20 00:00:00+00:00</td>\n",
       "      <td>84.810770</td>\n",
       "      <td>15.408349</td>\n",
       "      <td>60.819256</td>\n",
       "      <td>61.368774</td>\n",
       "      <td>9.767447</td>\n",
       "      <td>11.495033</td>\n",
       "      <td>84.800000</td>\n",
       "      <td>15.344140</td>\n",
       "      <td>...</td>\n",
       "      <td>58.268215</td>\n",
       "      <td>9.513059</td>\n",
       "      <td>11.693331</td>\n",
       "      <td>2020-09-20 01:00:00+00:00</td>\n",
       "      <td>28.68</td>\n",
       "      <td>941.044</td>\n",
       "      <td>47.95000</td>\n",
       "      <td>0.0</td>\n",
       "      <td>32.00</td>\n",
       "      <td>470.522</td>\n",
       "    </tr>\n",
       "    <tr>\n",
       "      <th>3</th>\n",
       "      <td>2020-09-20 01:30:00+00:00</td>\n",
       "      <td>2020-09-20 00:00:00+00:00</td>\n",
       "      <td>84.357880</td>\n",
       "      <td>15.451218</td>\n",
       "      <td>60.511030</td>\n",
       "      <td>61.111040</td>\n",
       "      <td>9.631039</td>\n",
       "      <td>11.354128</td>\n",
       "      <td>84.933334</td>\n",
       "      <td>15.305976</td>\n",
       "      <td>...</td>\n",
       "      <td>59.550636</td>\n",
       "      <td>9.587589</td>\n",
       "      <td>11.716687</td>\n",
       "      <td>2020-09-20 01:30:00+00:00</td>\n",
       "      <td>28.97</td>\n",
       "      <td>964.366</td>\n",
       "      <td>29.13000</td>\n",
       "      <td>0.0</td>\n",
       "      <td>32.00</td>\n",
       "      <td>482.183</td>\n",
       "    </tr>\n",
       "    <tr>\n",
       "      <th>4</th>\n",
       "      <td>2020-09-20 02:00:00+00:00</td>\n",
       "      <td>2020-09-20 00:00:00+00:00</td>\n",
       "      <td>83.905000</td>\n",
       "      <td>15.494086</td>\n",
       "      <td>60.202800</td>\n",
       "      <td>60.853306</td>\n",
       "      <td>9.494630</td>\n",
       "      <td>11.213223</td>\n",
       "      <td>85.066666</td>\n",
       "      <td>15.267812</td>\n",
       "      <td>...</td>\n",
       "      <td>60.833060</td>\n",
       "      <td>9.662121</td>\n",
       "      <td>11.740044</td>\n",
       "      <td>2020-09-20 02:00:00+00:00</td>\n",
       "      <td>28.19</td>\n",
       "      <td>918.432</td>\n",
       "      <td>28.95000</td>\n",
       "      <td>0.0</td>\n",
       "      <td>31.99</td>\n",
       "      <td>459.216</td>\n",
       "    </tr>\n",
       "    <tr>\n",
       "      <th>...</th>\n",
       "      <td>...</td>\n",
       "      <td>...</td>\n",
       "      <td>...</td>\n",
       "      <td>...</td>\n",
       "      <td>...</td>\n",
       "      <td>...</td>\n",
       "      <td>...</td>\n",
       "      <td>...</td>\n",
       "      <td>...</td>\n",
       "      <td>...</td>\n",
       "      <td>...</td>\n",
       "      <td>...</td>\n",
       "      <td>...</td>\n",
       "      <td>...</td>\n",
       "      <td>...</td>\n",
       "      <td>...</td>\n",
       "      <td>...</td>\n",
       "      <td>...</td>\n",
       "      <td>...</td>\n",
       "      <td>...</td>\n",
       "      <td>...</td>\n",
       "    </tr>\n",
       "    <tr>\n",
       "      <th>529625</th>\n",
       "      <td>2024-05-19 21:30:00+00:00</td>\n",
       "      <td>2024-05-19 00:00:00+00:00</td>\n",
       "      <td>91.634130</td>\n",
       "      <td>11.190109</td>\n",
       "      <td>21.214108</td>\n",
       "      <td>21.933590</td>\n",
       "      <td>6.882957</td>\n",
       "      <td>8.258531</td>\n",
       "      <td>93.683334</td>\n",
       "      <td>11.047282</td>\n",
       "      <td>...</td>\n",
       "      <td>22.433960</td>\n",
       "      <td>6.752734</td>\n",
       "      <td>9.066019</td>\n",
       "      <td>2024-05-19 21:30:00+00:00</td>\n",
       "      <td>77.40</td>\n",
       "      <td>227.518</td>\n",
       "      <td>56.20000</td>\n",
       "      <td>0.0</td>\n",
       "      <td>76.81</td>\n",
       "      <td>113.759</td>\n",
       "    </tr>\n",
       "    <tr>\n",
       "      <th>529626</th>\n",
       "      <td>2024-05-19 22:00:00+00:00</td>\n",
       "      <td>2024-05-19 00:00:00+00:00</td>\n",
       "      <td>91.232635</td>\n",
       "      <td>11.127069</td>\n",
       "      <td>22.417616</td>\n",
       "      <td>22.716902</td>\n",
       "      <td>7.040593</td>\n",
       "      <td>8.282218</td>\n",
       "      <td>94.700000</td>\n",
       "      <td>10.946550</td>\n",
       "      <td>...</td>\n",
       "      <td>22.568020</td>\n",
       "      <td>6.822509</td>\n",
       "      <td>9.019323</td>\n",
       "      <td>2024-05-19 22:00:00+00:00</td>\n",
       "      <td>80.82</td>\n",
       "      <td>197.090</td>\n",
       "      <td>102.00023</td>\n",
       "      <td>0.0</td>\n",
       "      <td>71.11</td>\n",
       "      <td>98.545</td>\n",
       "    </tr>\n",
       "    <tr>\n",
       "      <th>529627</th>\n",
       "      <td>2024-05-19 22:30:00+00:00</td>\n",
       "      <td>2024-05-19 00:00:00+00:00</td>\n",
       "      <td>90.249340</td>\n",
       "      <td>11.237669</td>\n",
       "      <td>22.327656</td>\n",
       "      <td>22.829685</td>\n",
       "      <td>6.842084</td>\n",
       "      <td>8.272179</td>\n",
       "      <td>95.016660</td>\n",
       "      <td>10.785738</td>\n",
       "      <td>...</td>\n",
       "      <td>21.831242</td>\n",
       "      <td>7.013203</td>\n",
       "      <td>8.877809</td>\n",
       "      <td>2024-05-19 22:30:00+00:00</td>\n",
       "      <td>75.69</td>\n",
       "      <td>171.306</td>\n",
       "      <td>99.00000</td>\n",
       "      <td>0.0</td>\n",
       "      <td>71.11</td>\n",
       "      <td>85.653</td>\n",
       "    </tr>\n",
       "    <tr>\n",
       "      <th>529628</th>\n",
       "      <td>2024-05-19 23:00:00+00:00</td>\n",
       "      <td>2024-05-19 00:00:00+00:00</td>\n",
       "      <td>89.266040</td>\n",
       "      <td>11.348270</td>\n",
       "      <td>22.237694</td>\n",
       "      <td>22.942470</td>\n",
       "      <td>6.643576</td>\n",
       "      <td>8.262139</td>\n",
       "      <td>95.333336</td>\n",
       "      <td>10.624926</td>\n",
       "      <td>...</td>\n",
       "      <td>21.094461</td>\n",
       "      <td>7.203896</td>\n",
       "      <td>8.736294</td>\n",
       "      <td>2024-05-19 23:00:00+00:00</td>\n",
       "      <td>78.98</td>\n",
       "      <td>163.164</td>\n",
       "      <td>106.44988</td>\n",
       "      <td>0.0</td>\n",
       "      <td>66.51</td>\n",
       "      <td>81.582</td>\n",
       "    </tr>\n",
       "    <tr>\n",
       "      <th>529629</th>\n",
       "      <td>2024-05-19 23:30:00+00:00</td>\n",
       "      <td>2024-05-19 00:00:00+00:00</td>\n",
       "      <td>89.301720</td>\n",
       "      <td>11.359882</td>\n",
       "      <td>20.984837</td>\n",
       "      <td>22.255167</td>\n",
       "      <td>6.560893</td>\n",
       "      <td>8.222769</td>\n",
       "      <td>94.833336</td>\n",
       "      <td>10.489921</td>\n",
       "      <td>...</td>\n",
       "      <td>20.771225</td>\n",
       "      <td>7.314300</td>\n",
       "      <td>8.559060</td>\n",
       "      <td>2024-05-19 23:30:00+00:00</td>\n",
       "      <td>78.44</td>\n",
       "      <td>178.092</td>\n",
       "      <td>70.67000</td>\n",
       "      <td>0.0</td>\n",
       "      <td>66.51</td>\n",
       "      <td>89.046</td>\n",
       "    </tr>\n",
       "  </tbody>\n",
       "</table>\n",
       "<p>63621 rows × 21 columns</p>\n",
       "</div>"
      ],
      "text/plain": [
       "                       valid_time             reference_time  \\\n",
       "0       2020-09-20 00:00:00+00:00  2020-09-20 00:00:00+00:00   \n",
       "1       2020-09-20 00:30:00+00:00  2020-09-20 00:00:00+00:00   \n",
       "2       2020-09-20 01:00:00+00:00  2020-09-20 00:00:00+00:00   \n",
       "3       2020-09-20 01:30:00+00:00  2020-09-20 00:00:00+00:00   \n",
       "4       2020-09-20 02:00:00+00:00  2020-09-20 00:00:00+00:00   \n",
       "...                           ...                        ...   \n",
       "529625  2024-05-19 21:30:00+00:00  2024-05-19 00:00:00+00:00   \n",
       "529626  2024-05-19 22:00:00+00:00  2024-05-19 00:00:00+00:00   \n",
       "529627  2024-05-19 22:30:00+00:00  2024-05-19 00:00:00+00:00   \n",
       "529628  2024-05-19 23:00:00+00:00  2024-05-19 00:00:00+00:00   \n",
       "529629  2024-05-19 23:30:00+00:00  2024-05-19 00:00:00+00:00   \n",
       "\n",
       "        RelativeHumidity_dwd  Temperature_dwd  WindDirection_dwd  \\\n",
       "0                  85.213745        15.416670          61.588080   \n",
       "1                  85.012250        15.412510          61.203667   \n",
       "2                  84.810770        15.408349          60.819256   \n",
       "3                  84.357880        15.451218          60.511030   \n",
       "4                  83.905000        15.494086          60.202800   \n",
       "...                      ...              ...                ...   \n",
       "529625             91.634130        11.190109          21.214108   \n",
       "529626             91.232635        11.127069          22.417616   \n",
       "529627             90.249340        11.237669          22.327656   \n",
       "529628             89.266040        11.348270          22.237694   \n",
       "529629             89.301720        11.359882          20.984837   \n",
       "\n",
       "        WindDirection:100_dwd  WindSpeed_dwd  WindSpeed:100_dwd  \\\n",
       "0                   62.085180      10.043627          11.802604   \n",
       "1                   61.726974       9.905537          11.648819   \n",
       "2                   61.368774       9.767447          11.495033   \n",
       "3                   61.111040       9.631039          11.354128   \n",
       "4                   60.853306       9.494630          11.213223   \n",
       "...                       ...            ...                ...   \n",
       "529625              21.933590       6.882957           8.258531   \n",
       "529626              22.716902       7.040593           8.282218   \n",
       "529627              22.829685       6.842084           8.272179   \n",
       "529628              22.942470       6.643576           8.262139   \n",
       "529629              22.255167       6.560893           8.222769   \n",
       "\n",
       "        RelativeHumidity_ncep  Temperature_ncep  ...  WindDirection:100_ncep  \\\n",
       "0                   84.066670         15.450012  ...               58.721077   \n",
       "1                   84.433334         15.397076  ...               58.494644   \n",
       "2                   84.800000         15.344140  ...               58.268215   \n",
       "3                   84.933334         15.305976  ...               59.550636   \n",
       "4                   85.066666         15.267812  ...               60.833060   \n",
       "...                       ...               ...  ...                     ...   \n",
       "529625              93.683334         11.047282  ...               22.433960   \n",
       "529626              94.700000         10.946550  ...               22.568020   \n",
       "529627              95.016660         10.785738  ...               21.831242   \n",
       "529628              95.333336         10.624926  ...               21.094461   \n",
       "529629              94.833336         10.489921  ...               20.771225   \n",
       "\n",
       "        WindSpeed_ncep  WindSpeed:100_ncep                        dtm    MIP  \\\n",
       "0             9.116803           11.338992  2020-09-20 00:00:00+00:00  20.06   \n",
       "1             9.314931           11.516161  2020-09-20 00:30:00+00:00  19.77   \n",
       "2             9.513059           11.693331  2020-09-20 01:00:00+00:00  28.68   \n",
       "3             9.587589           11.716687  2020-09-20 01:30:00+00:00  28.97   \n",
       "4             9.662121           11.740044  2020-09-20 02:00:00+00:00  28.19   \n",
       "...                ...                 ...                        ...    ...   \n",
       "529625        6.752734            9.066019  2024-05-19 21:30:00+00:00  77.40   \n",
       "529626        6.822509            9.019323  2024-05-19 22:00:00+00:00  80.82   \n",
       "529627        7.013203            8.877809  2024-05-19 22:30:00+00:00  75.69   \n",
       "529628        7.203896            8.736294  2024-05-19 23:00:00+00:00  78.98   \n",
       "529629        7.314300            8.559060  2024-05-19 23:30:00+00:00  78.44   \n",
       "\n",
       "        Wind_MW   SS_Price  boa_MWh  DA_Price  Wind_MWh_credit  \n",
       "0       996.284    2.50000      0.0     32.17          498.142  \n",
       "1       957.576   15.00000      0.0     32.17          478.788  \n",
       "2       941.044   47.95000      0.0     32.00          470.522  \n",
       "3       964.366   29.13000      0.0     32.00          482.183  \n",
       "4       918.432   28.95000      0.0     31.99          459.216  \n",
       "...         ...        ...      ...       ...              ...  \n",
       "529625  227.518   56.20000      0.0     76.81          113.759  \n",
       "529626  197.090  102.00023      0.0     71.11           98.545  \n",
       "529627  171.306   99.00000      0.0     71.11           85.653  \n",
       "529628  163.164  106.44988      0.0     66.51           81.582  \n",
       "529629  178.092   70.67000      0.0     66.51           89.046  \n",
       "\n",
       "[63621 rows x 21 columns]"
      ]
     },
     "execution_count": 3,
     "metadata": {},
     "output_type": "execute_result"
    }
   ],
   "source": [
    "# Sort the DataFrame by 'valid_time' and 'reference_time'\n",
    "df_wind_sorted = df_wind.sort_values(by=['valid_time', 'reference_time'], ascending=[True, False])\n",
    "\n",
    "# Drop duplicates, keeping the last entry for each 'valid_time'\n",
    "df_wind_unique = df_wind_sorted.drop_duplicates(subset=['valid_time'], keep='first')\n",
    "\n",
    "# Display the cleaned DataFrame\n",
    "df_wind_unique"
   ]
  },
  {
   "cell_type": "code",
   "execution_count": 4,
   "metadata": {
    "vscode": {
     "languageId": "ruby"
    }
   },
   "outputs": [],
   "source": [
    "def add_time_features(df):\n",
    "    df['valid_time'] = pd.to_datetime(df['valid_time'])\n",
    "    df['reference_time'] = pd.to_datetime(df['reference_time'])\n",
    "\n",
    "    df['hour'] = df['valid_time'].dt.hour\n",
    "    df['day_of_week'] = df['valid_time'].dt.dayofweek\n",
    "    df['month'] = df['valid_time'].dt.month\n",
    "    df['season'] = df['month'] % 12 // 3\n",
    "    # Time deltas\n",
    "    df['forecast_horizon'] = (df['valid_time'] - df['reference_time']).dt.total_seconds() / 3600\n",
    "    return df\n",
    "def add_wind_features(df):\n",
    "    # Wind shear (for both sources)\n",
    "    df['wind_shear_dwd'] = df['WindSpeed:100_dwd'] - df['WindSpeed_dwd']\n",
    "    df['wind_shear_ncep'] = df['WindSpeed:100_ncep'] - df['WindSpeed_ncep']\n",
    "    \n",
    "    # Wind direction difference\n",
    "    df['direction_diff_dwd'] = np.minimum((df['WindDirection:100_dwd'] - df['WindDirection_dwd']) % 360,\n",
    "                                         (df['WindDirection_dwd'] - df['WindDirection:100_dwd']) % 360)\n",
    "    df['direction_diff_ncep'] = np.minimum((df['WindDirection:100_ncep'] - df['WindDirection_ncep']) % 360,\n",
    "                                          (df['WindDirection_ncep'] - df['WindDirection:100_ncep']) % 360)\n",
    "    \n",
    "    # Wind power density (ρv³/2) - assuming standard air density\n",
    "    df['wind_power_density_100_dwd'] = 0.5 * 1.225 * df['WindSpeed:100_dwd']**3\n",
    "    df['wind_power_density_100_ncep'] = 0.5 * 1.225 * df['WindSpeed:100_ncep']**3\n",
    "    return df\n",
    "def calculate_air_density(df):\n",
    "    # Constants\n",
    "    R = 287.058  # Specific gas constant for dry air, J/(kg·K)\n",
    "    \n",
    "    # Convert temperature to Kelvin\n",
    "    temp_k_dwd = df['Temperature_dwd'] + 273.15\n",
    "    temp_k_ncep = df['Temperature_ncep'] + 273.15\n",
    "    \n",
    "    # Simple air density calculation\n",
    "    df['air_density_dwd'] = 100000 / (R * temp_k_dwd)  # assuming standard pressure\n",
    "    df['air_density_ncep'] = 100000 / (R * temp_k_ncep)\n",
    "    return df\n",
    "def add_model_agreement_features(df):\n",
    "    # Difference between models\n",
    "    df['wind_speed_model_diff'] = df['WindSpeed:100_dwd'] - df['WindSpeed:100_ncep']\n",
    "    df['wind_direction_model_diff'] = np.minimum((df['WindDirection:100_dwd'] - df['WindDirection:100_ncep']) % 360,\n",
    "                                                (df['WindDirection:100_ncep'] - df['WindDirection:100_dwd']) % 360)\n",
    "    df['temperature_model_diff'] = df['Temperature_dwd'] - df['Temperature_ncep']\n",
    "    df['humidity_model_diff'] = df['RelativeHumidity_dwd'] - df['RelativeHumidity_ncep']\n",
    "    return df\n",
    "def add_rolling_features(df, window=6):\n",
    "    key_features = [\n",
    "        'WindSpeed:100_dwd',\n",
    "        'WindSpeed:100_ncep',\n",
    "        'WindDirection:100_dwd',\n",
    "        'WindDirection:100_ncep',\n",
    "        'Temperature_dwd',\n",
    "        'Temperature_ncep'\n",
    "    ]\n",
    "    \n",
    "    for col in key_features:\n",
    "        if col in df.columns:\n",
    "            # Add rolling mean only for these key features\n",
    "            df[f'{col}_rolling_mean_{window}h'] = df[col].rolling(window=window).mean()\n",
    "            \n",
    "            # For wind speed, also add standard deviation\n",
    "            if 'WindSpeed' in col:\n",
    "                df[f'{col}_rolling_std_{window}h'] = df[col].rolling(window=window).std()\n",
    "    \n",
    "    return df\n",
    "def handle_missing_values(df):\n",
    "    # For numeric columns\n",
    "    numeric_cols = df.select_dtypes(include=[np.number]).columns\n",
    "\n",
    "    # For categorical columns\n",
    "    categorical_cols = df.select_dtypes(include=['object', 'category']).columns\n",
    "\n",
    "    # Drop rows with NaN values in numeric columns\n",
    "    df = df.dropna(subset=numeric_cols)\n",
    "\n",
    "    # Drop rows with NaN values in categorical columns\n",
    "    df = df.dropna(subset=categorical_cols)\n",
    "\n",
    "    return df\n",
    "from sklearn.preprocessing import StandardScaler\n",
    "\n",
    "def scale_features(df, exclude_cols=['valid_time', 'reference_time']):\n",
    "    scaler = StandardScaler()\n",
    "    cols_to_scale = [col for col in df.columns if col not in exclude_cols]\n",
    "    df[cols_to_scale] = scaler.fit_transform(df[cols_to_scale])\n",
    "    return df, scaler"
   ]
  },
  {
   "cell_type": "code",
   "execution_count": 5,
   "metadata": {
    "vscode": {
     "languageId": "ruby"
    }
   },
   "outputs": [],
   "source": [
    "def process_wind_features(df):\n",
    "    # Make a copy to avoid modifying original data\n",
    "    processed_df = df.copy()\n",
    "    \n",
    "    # Add all new features\n",
    "    processed_df = add_time_features(processed_df)\n",
    "    processed_df = add_wind_features(processed_df)\n",
    "    processed_df = calculate_air_density(processed_df)\n",
    "    processed_df = add_model_agreement_features(processed_df)\n",
    "    processed_df = add_rolling_features(processed_df)\n",
    "    \n",
    "    # Handle missing values\n",
    "    processed_df = handle_missing_values(processed_df)\n",
    "    \n",
    "    # Scale features\n",
    "    # processed_df, scaler = scale_features(processed_df)\n",
    "    \n",
    "    return processed_df"
   ]
  },
  {
   "cell_type": "code",
   "execution_count": 6,
   "metadata": {
    "vscode": {
     "languageId": "ruby"
    }
   },
   "outputs": [],
   "source": [
    "df_wind1 = process_wind_features(df_wind_unique)"
   ]
  },
  {
   "cell_type": "code",
   "execution_count": 7,
   "metadata": {
    "vscode": {
     "languageId": "ruby"
    }
   },
   "outputs": [],
   "source": [
    "#12 best features\n",
    "features = ['wind_power_density_100_dwd','WindSpeed:100_dwd','hour','RelativeHumidity_dwd']"
   ]
  },
  {
   "cell_type": "code",
   "execution_count": 12,
   "metadata": {
    "vscode": {
     "languageId": "ruby"
    }
   },
   "outputs": [
    {
     "name": "stdout",
     "output_type": "stream",
     "text": [
      "Pinball Loss (Quantile 0.1): 27.52244757647892\n",
      "Model for quantile 0.1 saved as \"xgboost_regressor_model_q10.pkl\"\n",
      "Pinball Loss (Quantile 0.2): 54.85006627497686\n",
      "Model for quantile 0.2 saved as \"xgboost_regressor_model_q20.pkl\"\n",
      "Pinball Loss (Quantile 0.3): 82.55637139858473\n",
      "Model for quantile 0.3 saved as \"xgboost_regressor_model_q30.pkl\"\n",
      "Pinball Loss (Quantile 0.4): 110.6266670325704\n",
      "Model for quantile 0.4 saved as \"xgboost_regressor_model_q40.pkl\"\n",
      "Pinball Loss (Quantile 0.5): 139.05754671538514\n",
      "Model for quantile 0.5 saved as \"xgboost_regressor_model_q50.pkl\"\n",
      "Pinball Loss (Quantile 0.6): 167.84468715129202\n",
      "Model for quantile 0.6 saved as \"xgboost_regressor_model_q60.pkl\"\n",
      "Pinball Loss (Quantile 0.7): 196.99452220096387\n",
      "Model for quantile 0.7 saved as \"xgboost_regressor_model_q70.pkl\"\n",
      "Pinball Loss (Quantile 0.8): 226.50489394138478\n",
      "Model for quantile 0.8 saved as \"xgboost_regressor_model_q80.pkl\"\n",
      "Pinball Loss (Quantile 0.9): 256.37778493719594\n",
      "Model for quantile 0.9 saved as \"xgboost_regressor_model_q90.pkl\"\n",
      "Mean Pinball Loss (Quantiles 10% to 90%): 140.25944302542587\n"
     ]
    },
    {
     "data": {
      "application/vnd.plotly.v1+json": {
       "config": {
        "plotlyServerURL": "https://plot.ly"
       },
       "data": [
        {
         "hovertemplate": "Quantile=%{x}<br>Pinball Loss=%{y}<extra></extra>",
         "legendgroup": "",
         "line": {
          "color": "#636efa",
          "dash": "solid"
         },
         "marker": {
          "symbol": "circle"
         },
         "mode": "lines",
         "name": "",
         "orientation": "v",
         "showlegend": false,
         "type": "scatter",
         "x": [
          0.1,
          0.2,
          0.3,
          0.4,
          0.5,
          0.6,
          0.7,
          0.8,
          0.9
         ],
         "xaxis": "x",
         "y": [
          27.52244757647892,
          54.85006627497686,
          82.55637139858473,
          110.6266670325704,
          139.05754671538514,
          167.84468715129202,
          196.99452220096387,
          226.50489394138478,
          256.37778493719594
         ],
         "yaxis": "y"
        }
       ],
       "layout": {
        "legend": {
         "tracegroupgap": 0
        },
        "template": {
         "data": {
          "bar": [
           {
            "error_x": {
             "color": "#2a3f5f"
            },
            "error_y": {
             "color": "#2a3f5f"
            },
            "marker": {
             "line": {
              "color": "#E5ECF6",
              "width": 0.5
             },
             "pattern": {
              "fillmode": "overlay",
              "size": 10,
              "solidity": 0.2
             }
            },
            "type": "bar"
           }
          ],
          "barpolar": [
           {
            "marker": {
             "line": {
              "color": "#E5ECF6",
              "width": 0.5
             },
             "pattern": {
              "fillmode": "overlay",
              "size": 10,
              "solidity": 0.2
             }
            },
            "type": "barpolar"
           }
          ],
          "carpet": [
           {
            "aaxis": {
             "endlinecolor": "#2a3f5f",
             "gridcolor": "white",
             "linecolor": "white",
             "minorgridcolor": "white",
             "startlinecolor": "#2a3f5f"
            },
            "baxis": {
             "endlinecolor": "#2a3f5f",
             "gridcolor": "white",
             "linecolor": "white",
             "minorgridcolor": "white",
             "startlinecolor": "#2a3f5f"
            },
            "type": "carpet"
           }
          ],
          "choropleth": [
           {
            "colorbar": {
             "outlinewidth": 0,
             "ticks": ""
            },
            "type": "choropleth"
           }
          ],
          "contour": [
           {
            "colorbar": {
             "outlinewidth": 0,
             "ticks": ""
            },
            "colorscale": [
             [
              0,
              "#0d0887"
             ],
             [
              0.1111111111111111,
              "#46039f"
             ],
             [
              0.2222222222222222,
              "#7201a8"
             ],
             [
              0.3333333333333333,
              "#9c179e"
             ],
             [
              0.4444444444444444,
              "#bd3786"
             ],
             [
              0.5555555555555556,
              "#d8576b"
             ],
             [
              0.6666666666666666,
              "#ed7953"
             ],
             [
              0.7777777777777778,
              "#fb9f3a"
             ],
             [
              0.8888888888888888,
              "#fdca26"
             ],
             [
              1,
              "#f0f921"
             ]
            ],
            "type": "contour"
           }
          ],
          "contourcarpet": [
           {
            "colorbar": {
             "outlinewidth": 0,
             "ticks": ""
            },
            "type": "contourcarpet"
           }
          ],
          "heatmap": [
           {
            "colorbar": {
             "outlinewidth": 0,
             "ticks": ""
            },
            "colorscale": [
             [
              0,
              "#0d0887"
             ],
             [
              0.1111111111111111,
              "#46039f"
             ],
             [
              0.2222222222222222,
              "#7201a8"
             ],
             [
              0.3333333333333333,
              "#9c179e"
             ],
             [
              0.4444444444444444,
              "#bd3786"
             ],
             [
              0.5555555555555556,
              "#d8576b"
             ],
             [
              0.6666666666666666,
              "#ed7953"
             ],
             [
              0.7777777777777778,
              "#fb9f3a"
             ],
             [
              0.8888888888888888,
              "#fdca26"
             ],
             [
              1,
              "#f0f921"
             ]
            ],
            "type": "heatmap"
           }
          ],
          "heatmapgl": [
           {
            "colorbar": {
             "outlinewidth": 0,
             "ticks": ""
            },
            "colorscale": [
             [
              0,
              "#0d0887"
             ],
             [
              0.1111111111111111,
              "#46039f"
             ],
             [
              0.2222222222222222,
              "#7201a8"
             ],
             [
              0.3333333333333333,
              "#9c179e"
             ],
             [
              0.4444444444444444,
              "#bd3786"
             ],
             [
              0.5555555555555556,
              "#d8576b"
             ],
             [
              0.6666666666666666,
              "#ed7953"
             ],
             [
              0.7777777777777778,
              "#fb9f3a"
             ],
             [
              0.8888888888888888,
              "#fdca26"
             ],
             [
              1,
              "#f0f921"
             ]
            ],
            "type": "heatmapgl"
           }
          ],
          "histogram": [
           {
            "marker": {
             "pattern": {
              "fillmode": "overlay",
              "size": 10,
              "solidity": 0.2
             }
            },
            "type": "histogram"
           }
          ],
          "histogram2d": [
           {
            "colorbar": {
             "outlinewidth": 0,
             "ticks": ""
            },
            "colorscale": [
             [
              0,
              "#0d0887"
             ],
             [
              0.1111111111111111,
              "#46039f"
             ],
             [
              0.2222222222222222,
              "#7201a8"
             ],
             [
              0.3333333333333333,
              "#9c179e"
             ],
             [
              0.4444444444444444,
              "#bd3786"
             ],
             [
              0.5555555555555556,
              "#d8576b"
             ],
             [
              0.6666666666666666,
              "#ed7953"
             ],
             [
              0.7777777777777778,
              "#fb9f3a"
             ],
             [
              0.8888888888888888,
              "#fdca26"
             ],
             [
              1,
              "#f0f921"
             ]
            ],
            "type": "histogram2d"
           }
          ],
          "histogram2dcontour": [
           {
            "colorbar": {
             "outlinewidth": 0,
             "ticks": ""
            },
            "colorscale": [
             [
              0,
              "#0d0887"
             ],
             [
              0.1111111111111111,
              "#46039f"
             ],
             [
              0.2222222222222222,
              "#7201a8"
             ],
             [
              0.3333333333333333,
              "#9c179e"
             ],
             [
              0.4444444444444444,
              "#bd3786"
             ],
             [
              0.5555555555555556,
              "#d8576b"
             ],
             [
              0.6666666666666666,
              "#ed7953"
             ],
             [
              0.7777777777777778,
              "#fb9f3a"
             ],
             [
              0.8888888888888888,
              "#fdca26"
             ],
             [
              1,
              "#f0f921"
             ]
            ],
            "type": "histogram2dcontour"
           }
          ],
          "mesh3d": [
           {
            "colorbar": {
             "outlinewidth": 0,
             "ticks": ""
            },
            "type": "mesh3d"
           }
          ],
          "parcoords": [
           {
            "line": {
             "colorbar": {
              "outlinewidth": 0,
              "ticks": ""
             }
            },
            "type": "parcoords"
           }
          ],
          "pie": [
           {
            "automargin": true,
            "type": "pie"
           }
          ],
          "scatter": [
           {
            "fillpattern": {
             "fillmode": "overlay",
             "size": 10,
             "solidity": 0.2
            },
            "type": "scatter"
           }
          ],
          "scatter3d": [
           {
            "line": {
             "colorbar": {
              "outlinewidth": 0,
              "ticks": ""
             }
            },
            "marker": {
             "colorbar": {
              "outlinewidth": 0,
              "ticks": ""
             }
            },
            "type": "scatter3d"
           }
          ],
          "scattercarpet": [
           {
            "marker": {
             "colorbar": {
              "outlinewidth": 0,
              "ticks": ""
             }
            },
            "type": "scattercarpet"
           }
          ],
          "scattergeo": [
           {
            "marker": {
             "colorbar": {
              "outlinewidth": 0,
              "ticks": ""
             }
            },
            "type": "scattergeo"
           }
          ],
          "scattergl": [
           {
            "marker": {
             "colorbar": {
              "outlinewidth": 0,
              "ticks": ""
             }
            },
            "type": "scattergl"
           }
          ],
          "scattermapbox": [
           {
            "marker": {
             "colorbar": {
              "outlinewidth": 0,
              "ticks": ""
             }
            },
            "type": "scattermapbox"
           }
          ],
          "scatterpolar": [
           {
            "marker": {
             "colorbar": {
              "outlinewidth": 0,
              "ticks": ""
             }
            },
            "type": "scatterpolar"
           }
          ],
          "scatterpolargl": [
           {
            "marker": {
             "colorbar": {
              "outlinewidth": 0,
              "ticks": ""
             }
            },
            "type": "scatterpolargl"
           }
          ],
          "scatterternary": [
           {
            "marker": {
             "colorbar": {
              "outlinewidth": 0,
              "ticks": ""
             }
            },
            "type": "scatterternary"
           }
          ],
          "surface": [
           {
            "colorbar": {
             "outlinewidth": 0,
             "ticks": ""
            },
            "colorscale": [
             [
              0,
              "#0d0887"
             ],
             [
              0.1111111111111111,
              "#46039f"
             ],
             [
              0.2222222222222222,
              "#7201a8"
             ],
             [
              0.3333333333333333,
              "#9c179e"
             ],
             [
              0.4444444444444444,
              "#bd3786"
             ],
             [
              0.5555555555555556,
              "#d8576b"
             ],
             [
              0.6666666666666666,
              "#ed7953"
             ],
             [
              0.7777777777777778,
              "#fb9f3a"
             ],
             [
              0.8888888888888888,
              "#fdca26"
             ],
             [
              1,
              "#f0f921"
             ]
            ],
            "type": "surface"
           }
          ],
          "table": [
           {
            "cells": {
             "fill": {
              "color": "#EBF0F8"
             },
             "line": {
              "color": "white"
             }
            },
            "header": {
             "fill": {
              "color": "#C8D4E3"
             },
             "line": {
              "color": "white"
             }
            },
            "type": "table"
           }
          ]
         },
         "layout": {
          "annotationdefaults": {
           "arrowcolor": "#2a3f5f",
           "arrowhead": 0,
           "arrowwidth": 1
          },
          "autotypenumbers": "strict",
          "coloraxis": {
           "colorbar": {
            "outlinewidth": 0,
            "ticks": ""
           }
          },
          "colorscale": {
           "diverging": [
            [
             0,
             "#8e0152"
            ],
            [
             0.1,
             "#c51b7d"
            ],
            [
             0.2,
             "#de77ae"
            ],
            [
             0.3,
             "#f1b6da"
            ],
            [
             0.4,
             "#fde0ef"
            ],
            [
             0.5,
             "#f7f7f7"
            ],
            [
             0.6,
             "#e6f5d0"
            ],
            [
             0.7,
             "#b8e186"
            ],
            [
             0.8,
             "#7fbc41"
            ],
            [
             0.9,
             "#4d9221"
            ],
            [
             1,
             "#276419"
            ]
           ],
           "sequential": [
            [
             0,
             "#0d0887"
            ],
            [
             0.1111111111111111,
             "#46039f"
            ],
            [
             0.2222222222222222,
             "#7201a8"
            ],
            [
             0.3333333333333333,
             "#9c179e"
            ],
            [
             0.4444444444444444,
             "#bd3786"
            ],
            [
             0.5555555555555556,
             "#d8576b"
            ],
            [
             0.6666666666666666,
             "#ed7953"
            ],
            [
             0.7777777777777778,
             "#fb9f3a"
            ],
            [
             0.8888888888888888,
             "#fdca26"
            ],
            [
             1,
             "#f0f921"
            ]
           ],
           "sequentialminus": [
            [
             0,
             "#0d0887"
            ],
            [
             0.1111111111111111,
             "#46039f"
            ],
            [
             0.2222222222222222,
             "#7201a8"
            ],
            [
             0.3333333333333333,
             "#9c179e"
            ],
            [
             0.4444444444444444,
             "#bd3786"
            ],
            [
             0.5555555555555556,
             "#d8576b"
            ],
            [
             0.6666666666666666,
             "#ed7953"
            ],
            [
             0.7777777777777778,
             "#fb9f3a"
            ],
            [
             0.8888888888888888,
             "#fdca26"
            ],
            [
             1,
             "#f0f921"
            ]
           ]
          },
          "colorway": [
           "#636efa",
           "#EF553B",
           "#00cc96",
           "#ab63fa",
           "#FFA15A",
           "#19d3f3",
           "#FF6692",
           "#B6E880",
           "#FF97FF",
           "#FECB52"
          ],
          "font": {
           "color": "#2a3f5f"
          },
          "geo": {
           "bgcolor": "white",
           "lakecolor": "white",
           "landcolor": "#E5ECF6",
           "showlakes": true,
           "showland": true,
           "subunitcolor": "white"
          },
          "hoverlabel": {
           "align": "left"
          },
          "hovermode": "closest",
          "mapbox": {
           "style": "light"
          },
          "paper_bgcolor": "white",
          "plot_bgcolor": "#E5ECF6",
          "polar": {
           "angularaxis": {
            "gridcolor": "white",
            "linecolor": "white",
            "ticks": ""
           },
           "bgcolor": "#E5ECF6",
           "radialaxis": {
            "gridcolor": "white",
            "linecolor": "white",
            "ticks": ""
           }
          },
          "scene": {
           "xaxis": {
            "backgroundcolor": "#E5ECF6",
            "gridcolor": "white",
            "gridwidth": 2,
            "linecolor": "white",
            "showbackground": true,
            "ticks": "",
            "zerolinecolor": "white"
           },
           "yaxis": {
            "backgroundcolor": "#E5ECF6",
            "gridcolor": "white",
            "gridwidth": 2,
            "linecolor": "white",
            "showbackground": true,
            "ticks": "",
            "zerolinecolor": "white"
           },
           "zaxis": {
            "backgroundcolor": "#E5ECF6",
            "gridcolor": "white",
            "gridwidth": 2,
            "linecolor": "white",
            "showbackground": true,
            "ticks": "",
            "zerolinecolor": "white"
           }
          },
          "shapedefaults": {
           "line": {
            "color": "#2a3f5f"
           }
          },
          "ternary": {
           "aaxis": {
            "gridcolor": "white",
            "linecolor": "white",
            "ticks": ""
           },
           "baxis": {
            "gridcolor": "white",
            "linecolor": "white",
            "ticks": ""
           },
           "bgcolor": "#E5ECF6",
           "caxis": {
            "gridcolor": "white",
            "linecolor": "white",
            "ticks": ""
           }
          },
          "title": {
           "x": 0.05
          },
          "xaxis": {
           "automargin": true,
           "gridcolor": "white",
           "linecolor": "white",
           "ticks": "",
           "title": {
            "standoff": 15
           },
           "zerolinecolor": "white",
           "zerolinewidth": 2
          },
          "yaxis": {
           "automargin": true,
           "gridcolor": "white",
           "linecolor": "white",
           "ticks": "",
           "title": {
            "standoff": 15
           },
           "zerolinecolor": "white",
           "zerolinewidth": 2
          }
         }
        },
        "title": {
         "text": "Pinball Loss for Different Quantiles"
        },
        "xaxis": {
         "anchor": "y",
         "domain": [
          0,
          1
         ],
         "title": {
          "text": "Quantile"
         }
        },
        "yaxis": {
         "anchor": "x",
         "domain": [
          0,
          1
         ],
         "title": {
          "text": "Pinball Loss"
         }
        }
       }
      }
     },
     "metadata": {},
     "output_type": "display_data"
    },
    {
     "data": {
      "application/vnd.plotly.v1+json": {
       "config": {
        "plotlyServerURL": "https://plot.ly"
       },
       "data": [
        {
         "alignmentgroup": "True",
         "hovertemplate": "Features=%{x}<br>Importance=%{y}<extra></extra>",
         "legendgroup": "",
         "marker": {
          "color": "#636efa",
          "pattern": {
           "shape": ""
          }
         },
         "name": "",
         "offsetgroup": "",
         "orientation": "v",
         "showlegend": false,
         "textposition": "auto",
         "type": "bar",
         "x": [
          "wind_power_density_100_dwd",
          "RelativeHumidity_dwd",
          "hour",
          "WindSpeed:100_dwd"
         ],
         "xaxis": "x",
         "y": [
          0.46041759848594666,
          0.28499478101730347,
          0.25458765029907227,
          0
         ],
         "yaxis": "y"
        }
       ],
       "layout": {
        "barmode": "relative",
        "legend": {
         "tracegroupgap": 0
        },
        "template": {
         "data": {
          "bar": [
           {
            "error_x": {
             "color": "#2a3f5f"
            },
            "error_y": {
             "color": "#2a3f5f"
            },
            "marker": {
             "line": {
              "color": "#E5ECF6",
              "width": 0.5
             },
             "pattern": {
              "fillmode": "overlay",
              "size": 10,
              "solidity": 0.2
             }
            },
            "type": "bar"
           }
          ],
          "barpolar": [
           {
            "marker": {
             "line": {
              "color": "#E5ECF6",
              "width": 0.5
             },
             "pattern": {
              "fillmode": "overlay",
              "size": 10,
              "solidity": 0.2
             }
            },
            "type": "barpolar"
           }
          ],
          "carpet": [
           {
            "aaxis": {
             "endlinecolor": "#2a3f5f",
             "gridcolor": "white",
             "linecolor": "white",
             "minorgridcolor": "white",
             "startlinecolor": "#2a3f5f"
            },
            "baxis": {
             "endlinecolor": "#2a3f5f",
             "gridcolor": "white",
             "linecolor": "white",
             "minorgridcolor": "white",
             "startlinecolor": "#2a3f5f"
            },
            "type": "carpet"
           }
          ],
          "choropleth": [
           {
            "colorbar": {
             "outlinewidth": 0,
             "ticks": ""
            },
            "type": "choropleth"
           }
          ],
          "contour": [
           {
            "colorbar": {
             "outlinewidth": 0,
             "ticks": ""
            },
            "colorscale": [
             [
              0,
              "#0d0887"
             ],
             [
              0.1111111111111111,
              "#46039f"
             ],
             [
              0.2222222222222222,
              "#7201a8"
             ],
             [
              0.3333333333333333,
              "#9c179e"
             ],
             [
              0.4444444444444444,
              "#bd3786"
             ],
             [
              0.5555555555555556,
              "#d8576b"
             ],
             [
              0.6666666666666666,
              "#ed7953"
             ],
             [
              0.7777777777777778,
              "#fb9f3a"
             ],
             [
              0.8888888888888888,
              "#fdca26"
             ],
             [
              1,
              "#f0f921"
             ]
            ],
            "type": "contour"
           }
          ],
          "contourcarpet": [
           {
            "colorbar": {
             "outlinewidth": 0,
             "ticks": ""
            },
            "type": "contourcarpet"
           }
          ],
          "heatmap": [
           {
            "colorbar": {
             "outlinewidth": 0,
             "ticks": ""
            },
            "colorscale": [
             [
              0,
              "#0d0887"
             ],
             [
              0.1111111111111111,
              "#46039f"
             ],
             [
              0.2222222222222222,
              "#7201a8"
             ],
             [
              0.3333333333333333,
              "#9c179e"
             ],
             [
              0.4444444444444444,
              "#bd3786"
             ],
             [
              0.5555555555555556,
              "#d8576b"
             ],
             [
              0.6666666666666666,
              "#ed7953"
             ],
             [
              0.7777777777777778,
              "#fb9f3a"
             ],
             [
              0.8888888888888888,
              "#fdca26"
             ],
             [
              1,
              "#f0f921"
             ]
            ],
            "type": "heatmap"
           }
          ],
          "heatmapgl": [
           {
            "colorbar": {
             "outlinewidth": 0,
             "ticks": ""
            },
            "colorscale": [
             [
              0,
              "#0d0887"
             ],
             [
              0.1111111111111111,
              "#46039f"
             ],
             [
              0.2222222222222222,
              "#7201a8"
             ],
             [
              0.3333333333333333,
              "#9c179e"
             ],
             [
              0.4444444444444444,
              "#bd3786"
             ],
             [
              0.5555555555555556,
              "#d8576b"
             ],
             [
              0.6666666666666666,
              "#ed7953"
             ],
             [
              0.7777777777777778,
              "#fb9f3a"
             ],
             [
              0.8888888888888888,
              "#fdca26"
             ],
             [
              1,
              "#f0f921"
             ]
            ],
            "type": "heatmapgl"
           }
          ],
          "histogram": [
           {
            "marker": {
             "pattern": {
              "fillmode": "overlay",
              "size": 10,
              "solidity": 0.2
             }
            },
            "type": "histogram"
           }
          ],
          "histogram2d": [
           {
            "colorbar": {
             "outlinewidth": 0,
             "ticks": ""
            },
            "colorscale": [
             [
              0,
              "#0d0887"
             ],
             [
              0.1111111111111111,
              "#46039f"
             ],
             [
              0.2222222222222222,
              "#7201a8"
             ],
             [
              0.3333333333333333,
              "#9c179e"
             ],
             [
              0.4444444444444444,
              "#bd3786"
             ],
             [
              0.5555555555555556,
              "#d8576b"
             ],
             [
              0.6666666666666666,
              "#ed7953"
             ],
             [
              0.7777777777777778,
              "#fb9f3a"
             ],
             [
              0.8888888888888888,
              "#fdca26"
             ],
             [
              1,
              "#f0f921"
             ]
            ],
            "type": "histogram2d"
           }
          ],
          "histogram2dcontour": [
           {
            "colorbar": {
             "outlinewidth": 0,
             "ticks": ""
            },
            "colorscale": [
             [
              0,
              "#0d0887"
             ],
             [
              0.1111111111111111,
              "#46039f"
             ],
             [
              0.2222222222222222,
              "#7201a8"
             ],
             [
              0.3333333333333333,
              "#9c179e"
             ],
             [
              0.4444444444444444,
              "#bd3786"
             ],
             [
              0.5555555555555556,
              "#d8576b"
             ],
             [
              0.6666666666666666,
              "#ed7953"
             ],
             [
              0.7777777777777778,
              "#fb9f3a"
             ],
             [
              0.8888888888888888,
              "#fdca26"
             ],
             [
              1,
              "#f0f921"
             ]
            ],
            "type": "histogram2dcontour"
           }
          ],
          "mesh3d": [
           {
            "colorbar": {
             "outlinewidth": 0,
             "ticks": ""
            },
            "type": "mesh3d"
           }
          ],
          "parcoords": [
           {
            "line": {
             "colorbar": {
              "outlinewidth": 0,
              "ticks": ""
             }
            },
            "type": "parcoords"
           }
          ],
          "pie": [
           {
            "automargin": true,
            "type": "pie"
           }
          ],
          "scatter": [
           {
            "fillpattern": {
             "fillmode": "overlay",
             "size": 10,
             "solidity": 0.2
            },
            "type": "scatter"
           }
          ],
          "scatter3d": [
           {
            "line": {
             "colorbar": {
              "outlinewidth": 0,
              "ticks": ""
             }
            },
            "marker": {
             "colorbar": {
              "outlinewidth": 0,
              "ticks": ""
             }
            },
            "type": "scatter3d"
           }
          ],
          "scattercarpet": [
           {
            "marker": {
             "colorbar": {
              "outlinewidth": 0,
              "ticks": ""
             }
            },
            "type": "scattercarpet"
           }
          ],
          "scattergeo": [
           {
            "marker": {
             "colorbar": {
              "outlinewidth": 0,
              "ticks": ""
             }
            },
            "type": "scattergeo"
           }
          ],
          "scattergl": [
           {
            "marker": {
             "colorbar": {
              "outlinewidth": 0,
              "ticks": ""
             }
            },
            "type": "scattergl"
           }
          ],
          "scattermapbox": [
           {
            "marker": {
             "colorbar": {
              "outlinewidth": 0,
              "ticks": ""
             }
            },
            "type": "scattermapbox"
           }
          ],
          "scatterpolar": [
           {
            "marker": {
             "colorbar": {
              "outlinewidth": 0,
              "ticks": ""
             }
            },
            "type": "scatterpolar"
           }
          ],
          "scatterpolargl": [
           {
            "marker": {
             "colorbar": {
              "outlinewidth": 0,
              "ticks": ""
             }
            },
            "type": "scatterpolargl"
           }
          ],
          "scatterternary": [
           {
            "marker": {
             "colorbar": {
              "outlinewidth": 0,
              "ticks": ""
             }
            },
            "type": "scatterternary"
           }
          ],
          "surface": [
           {
            "colorbar": {
             "outlinewidth": 0,
             "ticks": ""
            },
            "colorscale": [
             [
              0,
              "#0d0887"
             ],
             [
              0.1111111111111111,
              "#46039f"
             ],
             [
              0.2222222222222222,
              "#7201a8"
             ],
             [
              0.3333333333333333,
              "#9c179e"
             ],
             [
              0.4444444444444444,
              "#bd3786"
             ],
             [
              0.5555555555555556,
              "#d8576b"
             ],
             [
              0.6666666666666666,
              "#ed7953"
             ],
             [
              0.7777777777777778,
              "#fb9f3a"
             ],
             [
              0.8888888888888888,
              "#fdca26"
             ],
             [
              1,
              "#f0f921"
             ]
            ],
            "type": "surface"
           }
          ],
          "table": [
           {
            "cells": {
             "fill": {
              "color": "#EBF0F8"
             },
             "line": {
              "color": "white"
             }
            },
            "header": {
             "fill": {
              "color": "#C8D4E3"
             },
             "line": {
              "color": "white"
             }
            },
            "type": "table"
           }
          ]
         },
         "layout": {
          "annotationdefaults": {
           "arrowcolor": "#2a3f5f",
           "arrowhead": 0,
           "arrowwidth": 1
          },
          "autotypenumbers": "strict",
          "coloraxis": {
           "colorbar": {
            "outlinewidth": 0,
            "ticks": ""
           }
          },
          "colorscale": {
           "diverging": [
            [
             0,
             "#8e0152"
            ],
            [
             0.1,
             "#c51b7d"
            ],
            [
             0.2,
             "#de77ae"
            ],
            [
             0.3,
             "#f1b6da"
            ],
            [
             0.4,
             "#fde0ef"
            ],
            [
             0.5,
             "#f7f7f7"
            ],
            [
             0.6,
             "#e6f5d0"
            ],
            [
             0.7,
             "#b8e186"
            ],
            [
             0.8,
             "#7fbc41"
            ],
            [
             0.9,
             "#4d9221"
            ],
            [
             1,
             "#276419"
            ]
           ],
           "sequential": [
            [
             0,
             "#0d0887"
            ],
            [
             0.1111111111111111,
             "#46039f"
            ],
            [
             0.2222222222222222,
             "#7201a8"
            ],
            [
             0.3333333333333333,
             "#9c179e"
            ],
            [
             0.4444444444444444,
             "#bd3786"
            ],
            [
             0.5555555555555556,
             "#d8576b"
            ],
            [
             0.6666666666666666,
             "#ed7953"
            ],
            [
             0.7777777777777778,
             "#fb9f3a"
            ],
            [
             0.8888888888888888,
             "#fdca26"
            ],
            [
             1,
             "#f0f921"
            ]
           ],
           "sequentialminus": [
            [
             0,
             "#0d0887"
            ],
            [
             0.1111111111111111,
             "#46039f"
            ],
            [
             0.2222222222222222,
             "#7201a8"
            ],
            [
             0.3333333333333333,
             "#9c179e"
            ],
            [
             0.4444444444444444,
             "#bd3786"
            ],
            [
             0.5555555555555556,
             "#d8576b"
            ],
            [
             0.6666666666666666,
             "#ed7953"
            ],
            [
             0.7777777777777778,
             "#fb9f3a"
            ],
            [
             0.8888888888888888,
             "#fdca26"
            ],
            [
             1,
             "#f0f921"
            ]
           ]
          },
          "colorway": [
           "#636efa",
           "#EF553B",
           "#00cc96",
           "#ab63fa",
           "#FFA15A",
           "#19d3f3",
           "#FF6692",
           "#B6E880",
           "#FF97FF",
           "#FECB52"
          ],
          "font": {
           "color": "#2a3f5f"
          },
          "geo": {
           "bgcolor": "white",
           "lakecolor": "white",
           "landcolor": "#E5ECF6",
           "showlakes": true,
           "showland": true,
           "subunitcolor": "white"
          },
          "hoverlabel": {
           "align": "left"
          },
          "hovermode": "closest",
          "mapbox": {
           "style": "light"
          },
          "paper_bgcolor": "white",
          "plot_bgcolor": "#E5ECF6",
          "polar": {
           "angularaxis": {
            "gridcolor": "white",
            "linecolor": "white",
            "ticks": ""
           },
           "bgcolor": "#E5ECF6",
           "radialaxis": {
            "gridcolor": "white",
            "linecolor": "white",
            "ticks": ""
           }
          },
          "scene": {
           "xaxis": {
            "backgroundcolor": "#E5ECF6",
            "gridcolor": "white",
            "gridwidth": 2,
            "linecolor": "white",
            "showbackground": true,
            "ticks": "",
            "zerolinecolor": "white"
           },
           "yaxis": {
            "backgroundcolor": "#E5ECF6",
            "gridcolor": "white",
            "gridwidth": 2,
            "linecolor": "white",
            "showbackground": true,
            "ticks": "",
            "zerolinecolor": "white"
           },
           "zaxis": {
            "backgroundcolor": "#E5ECF6",
            "gridcolor": "white",
            "gridwidth": 2,
            "linecolor": "white",
            "showbackground": true,
            "ticks": "",
            "zerolinecolor": "white"
           }
          },
          "shapedefaults": {
           "line": {
            "color": "#2a3f5f"
           }
          },
          "ternary": {
           "aaxis": {
            "gridcolor": "white",
            "linecolor": "white",
            "ticks": ""
           },
           "baxis": {
            "gridcolor": "white",
            "linecolor": "white",
            "ticks": ""
           },
           "bgcolor": "#E5ECF6",
           "caxis": {
            "gridcolor": "white",
            "linecolor": "white",
            "ticks": ""
           }
          },
          "title": {
           "x": 0.05
          },
          "xaxis": {
           "automargin": true,
           "gridcolor": "white",
           "linecolor": "white",
           "ticks": "",
           "title": {
            "standoff": 15
           },
           "zerolinecolor": "white",
           "zerolinewidth": 2
          },
          "yaxis": {
           "automargin": true,
           "gridcolor": "white",
           "linecolor": "white",
           "ticks": "",
           "title": {
            "standoff": 15
           },
           "zerolinecolor": "white",
           "zerolinewidth": 2
          }
         }
        },
        "title": {
         "text": "Feature Importance from XGBoost Regressor"
        },
        "xaxis": {
         "anchor": "y",
         "domain": [
          0,
          1
         ],
         "title": {
          "text": "Features"
         }
        },
        "yaxis": {
         "anchor": "x",
         "domain": [
          0,
          1
         ],
         "title": {
          "text": "Importance"
         }
        }
       }
      }
     },
     "metadata": {},
     "output_type": "display_data"
    }
   ],
   "source": [
    "import pandas as pd\n",
    "from sklearn.model_selection import train_test_split\n",
    "from sklearn.metrics import mean_pinball_loss\n",
    "import numpy as np\n",
    "from xgboost import XGBRegressor\n",
    "import joblib\n",
    "\n",
    "# Define the selected features and target variable\n",
    "target = 'Wind_MWh_credit'\n",
    "\n",
    "# Prepare the data\n",
    "X = df_wind1[features]\n",
    "y = df_wind1[target]\n",
    "\n",
    "# Split the data into training and testing sets\n",
    "X_train, X_test, y_train, y_test = train_test_split(X, y, test_size=0.2, random_state=42)\n",
    "\n",
    "# Define the list of quantiles\n",
    "quantiles = [q / 100.0 for q in range(10, 100, 10)]\n",
    "\n",
    "# Initialize list to store models and pinball losses\n",
    "models = []\n",
    "pinball_losses = []\n",
    "\n",
    "# Train a separate model for each quantile\n",
    "for quantile in quantiles:\n",
    "    # Define custom pinball loss objective for the current quantile\n",
    "    def custom_pinball_loss(y_true, y_pred):\n",
    "        y_true = y_true.get_label() if hasattr(y_true, 'get_label') else y_true\n",
    "        delta = y_pred - y_true\n",
    "        grad = np.where(delta >= 0, quantile, quantile-1)\n",
    "        hess = np.ones_like(y_true)  # Hessian is 1 for pinball loss\n",
    "        return grad, hess\n",
    "\n",
    "    # Initialize and train the XGBoost Regressor with custom pinball loss\n",
    "    xgbr = XGBRegressor(random_state=42, max_depth=100, learning_rate=0.1, n_estimators=200, objective=custom_pinball_loss)\n",
    "    xgbr.fit(X_train, y_train)\n",
    "    \n",
    "    # Predict the target values for the test set\n",
    "    y_pred = xgbr.predict(X_test)\n",
    "    \n",
    "    # Calculate the pinball loss for the current quantile\n",
    "    loss = mean_pinball_loss(y_test, y_pred, alpha=quantile)\n",
    "    pinball_losses.append(loss)\n",
    "    print(f'Pinball Loss (Quantile {quantile}): {loss}')\n",
    "    \n",
    "    # Save the model\n",
    "    model_filename = f'xgboost_regressor_model_q{int(quantile * 100)}.pkl'\n",
    "    joblib.dump(xgbr, model_filename)\n",
    "    print(f'Model for quantile {quantile} saved as \"{model_filename}\"')\n",
    "    \n",
    "    # Append the trained model to the list\n",
    "    models.append(xgbr)\n",
    "\n",
    "# Calculate the average pinball loss across all quantiles\n",
    "mean_pinball_loss_value = np.mean(pinball_losses)\n",
    "print(f'Mean Pinball Loss (Quantiles 10% to 90%): {mean_pinball_loss_value}')\n",
    "\n",
    "# Plot the pinball losses for each quantile\n",
    "import plotly.express as px\n",
    "pinball_loss_df = pd.DataFrame({\n",
    "    'Quantile': quantiles,\n",
    "    'Pinball Loss': pinball_losses\n",
    "})\n",
    "\n",
    "fig = px.line(pinball_loss_df, x='Quantile', y='Pinball Loss', title='Pinball Loss for Different Quantiles', labels={'Quantile': 'Quantile', 'Pinball Loss': 'Pinball Loss'})\n",
    "fig.show()\n",
    "\n",
    "# Extract and plot feature importances from the last trained model (or you can choose one of the models)\n",
    "feature_importances = models[-1].feature_importances_  # Use the last model or choose one to analyze\n",
    "importance_df = pd.DataFrame({\n",
    "    'Feature': features,\n",
    "    'Importance': feature_importances\n",
    "}).sort_values(by='Importance', ascending=False)\n",
    "\n",
    "# Plot feature importances\n",
    "fig = px.bar(importance_df, x='Feature', y='Importance', title='Feature Importance from XGBoost Regressor', labels={'Feature': 'Features', 'Importance': 'Importance'})\n",
    "fig.show()\n"
   ]
  },
  {
   "cell_type": "code",
   "execution_count": 23,
   "metadata": {
    "vscode": {
     "languageId": "ruby"
    }
   },
   "outputs": [
    {
     "name": "stdout",
     "output_type": "stream",
     "text": [
      "Pinball Loss (Quantile 0.1): 27.695512735829148\n",
      "Pinball Loss (Quantile 0.2): 55.16421778901193\n",
      "Pinball Loss (Quantile 0.3): 82.6329228421947\n",
      "Pinball Loss (Quantile 0.4): 110.1016278953775\n",
      "Pinball Loss (Quantile 0.5): 137.5703329485603\n",
      "Pinball Loss (Quantile 0.6): 165.03903800174308\n",
      "Pinball Loss (Quantile 0.7): 192.5077430549259\n",
      "Pinball Loss (Quantile 0.8): 219.97644810810868\n",
      "Pinball Loss (Quantile 0.9): 247.44515316129142\n",
      "Mean Pinball Loss (Quantiles 10% to 90%): 137.5703329485603\n",
      "                      Feature  Importance\n",
      "0  wind_power_density_100_dwd    0.445915\n",
      "5        RelativeHumidity_dwd    0.155673\n",
      "4                        hour    0.138345\n",
      "2       wind_speed_model_diff    0.131637\n",
      "3   wind_direction_model_diff    0.128429\n",
      "1           WindSpeed:100_dwd    0.000000\n"
     ]
    },
    {
     "data": {
      "application/vnd.plotly.v1+json": {
       "config": {
        "plotlyServerURL": "https://plot.ly"
       },
       "data": [
        {
         "alignmentgroup": "True",
         "hovertemplate": "Features=%{x}<br>Importance=%{y}<extra></extra>",
         "legendgroup": "",
         "marker": {
          "color": "#636efa",
          "pattern": {
           "shape": ""
          }
         },
         "name": "",
         "offsetgroup": "",
         "orientation": "v",
         "showlegend": false,
         "textposition": "auto",
         "type": "bar",
         "x": [
          "wind_power_density_100_dwd",
          "RelativeHumidity_dwd",
          "hour",
          "wind_speed_model_diff",
          "wind_direction_model_diff",
          "WindSpeed:100_dwd"
         ],
         "xaxis": "x",
         "y": [
          0.4459152817726135,
          0.15567302703857422,
          0.13834498822689056,
          0.1316373497247696,
          0.1284293383359909,
          0
         ],
         "yaxis": "y"
        }
       ],
       "layout": {
        "barmode": "relative",
        "legend": {
         "tracegroupgap": 0
        },
        "template": {
         "data": {
          "bar": [
           {
            "error_x": {
             "color": "#2a3f5f"
            },
            "error_y": {
             "color": "#2a3f5f"
            },
            "marker": {
             "line": {
              "color": "#E5ECF6",
              "width": 0.5
             },
             "pattern": {
              "fillmode": "overlay",
              "size": 10,
              "solidity": 0.2
             }
            },
            "type": "bar"
           }
          ],
          "barpolar": [
           {
            "marker": {
             "line": {
              "color": "#E5ECF6",
              "width": 0.5
             },
             "pattern": {
              "fillmode": "overlay",
              "size": 10,
              "solidity": 0.2
             }
            },
            "type": "barpolar"
           }
          ],
          "carpet": [
           {
            "aaxis": {
             "endlinecolor": "#2a3f5f",
             "gridcolor": "white",
             "linecolor": "white",
             "minorgridcolor": "white",
             "startlinecolor": "#2a3f5f"
            },
            "baxis": {
             "endlinecolor": "#2a3f5f",
             "gridcolor": "white",
             "linecolor": "white",
             "minorgridcolor": "white",
             "startlinecolor": "#2a3f5f"
            },
            "type": "carpet"
           }
          ],
          "choropleth": [
           {
            "colorbar": {
             "outlinewidth": 0,
             "ticks": ""
            },
            "type": "choropleth"
           }
          ],
          "contour": [
           {
            "colorbar": {
             "outlinewidth": 0,
             "ticks": ""
            },
            "colorscale": [
             [
              0,
              "#0d0887"
             ],
             [
              0.1111111111111111,
              "#46039f"
             ],
             [
              0.2222222222222222,
              "#7201a8"
             ],
             [
              0.3333333333333333,
              "#9c179e"
             ],
             [
              0.4444444444444444,
              "#bd3786"
             ],
             [
              0.5555555555555556,
              "#d8576b"
             ],
             [
              0.6666666666666666,
              "#ed7953"
             ],
             [
              0.7777777777777778,
              "#fb9f3a"
             ],
             [
              0.8888888888888888,
              "#fdca26"
             ],
             [
              1,
              "#f0f921"
             ]
            ],
            "type": "contour"
           }
          ],
          "contourcarpet": [
           {
            "colorbar": {
             "outlinewidth": 0,
             "ticks": ""
            },
            "type": "contourcarpet"
           }
          ],
          "heatmap": [
           {
            "colorbar": {
             "outlinewidth": 0,
             "ticks": ""
            },
            "colorscale": [
             [
              0,
              "#0d0887"
             ],
             [
              0.1111111111111111,
              "#46039f"
             ],
             [
              0.2222222222222222,
              "#7201a8"
             ],
             [
              0.3333333333333333,
              "#9c179e"
             ],
             [
              0.4444444444444444,
              "#bd3786"
             ],
             [
              0.5555555555555556,
              "#d8576b"
             ],
             [
              0.6666666666666666,
              "#ed7953"
             ],
             [
              0.7777777777777778,
              "#fb9f3a"
             ],
             [
              0.8888888888888888,
              "#fdca26"
             ],
             [
              1,
              "#f0f921"
             ]
            ],
            "type": "heatmap"
           }
          ],
          "heatmapgl": [
           {
            "colorbar": {
             "outlinewidth": 0,
             "ticks": ""
            },
            "colorscale": [
             [
              0,
              "#0d0887"
             ],
             [
              0.1111111111111111,
              "#46039f"
             ],
             [
              0.2222222222222222,
              "#7201a8"
             ],
             [
              0.3333333333333333,
              "#9c179e"
             ],
             [
              0.4444444444444444,
              "#bd3786"
             ],
             [
              0.5555555555555556,
              "#d8576b"
             ],
             [
              0.6666666666666666,
              "#ed7953"
             ],
             [
              0.7777777777777778,
              "#fb9f3a"
             ],
             [
              0.8888888888888888,
              "#fdca26"
             ],
             [
              1,
              "#f0f921"
             ]
            ],
            "type": "heatmapgl"
           }
          ],
          "histogram": [
           {
            "marker": {
             "pattern": {
              "fillmode": "overlay",
              "size": 10,
              "solidity": 0.2
             }
            },
            "type": "histogram"
           }
          ],
          "histogram2d": [
           {
            "colorbar": {
             "outlinewidth": 0,
             "ticks": ""
            },
            "colorscale": [
             [
              0,
              "#0d0887"
             ],
             [
              0.1111111111111111,
              "#46039f"
             ],
             [
              0.2222222222222222,
              "#7201a8"
             ],
             [
              0.3333333333333333,
              "#9c179e"
             ],
             [
              0.4444444444444444,
              "#bd3786"
             ],
             [
              0.5555555555555556,
              "#d8576b"
             ],
             [
              0.6666666666666666,
              "#ed7953"
             ],
             [
              0.7777777777777778,
              "#fb9f3a"
             ],
             [
              0.8888888888888888,
              "#fdca26"
             ],
             [
              1,
              "#f0f921"
             ]
            ],
            "type": "histogram2d"
           }
          ],
          "histogram2dcontour": [
           {
            "colorbar": {
             "outlinewidth": 0,
             "ticks": ""
            },
            "colorscale": [
             [
              0,
              "#0d0887"
             ],
             [
              0.1111111111111111,
              "#46039f"
             ],
             [
              0.2222222222222222,
              "#7201a8"
             ],
             [
              0.3333333333333333,
              "#9c179e"
             ],
             [
              0.4444444444444444,
              "#bd3786"
             ],
             [
              0.5555555555555556,
              "#d8576b"
             ],
             [
              0.6666666666666666,
              "#ed7953"
             ],
             [
              0.7777777777777778,
              "#fb9f3a"
             ],
             [
              0.8888888888888888,
              "#fdca26"
             ],
             [
              1,
              "#f0f921"
             ]
            ],
            "type": "histogram2dcontour"
           }
          ],
          "mesh3d": [
           {
            "colorbar": {
             "outlinewidth": 0,
             "ticks": ""
            },
            "type": "mesh3d"
           }
          ],
          "parcoords": [
           {
            "line": {
             "colorbar": {
              "outlinewidth": 0,
              "ticks": ""
             }
            },
            "type": "parcoords"
           }
          ],
          "pie": [
           {
            "automargin": true,
            "type": "pie"
           }
          ],
          "scatter": [
           {
            "fillpattern": {
             "fillmode": "overlay",
             "size": 10,
             "solidity": 0.2
            },
            "type": "scatter"
           }
          ],
          "scatter3d": [
           {
            "line": {
             "colorbar": {
              "outlinewidth": 0,
              "ticks": ""
             }
            },
            "marker": {
             "colorbar": {
              "outlinewidth": 0,
              "ticks": ""
             }
            },
            "type": "scatter3d"
           }
          ],
          "scattercarpet": [
           {
            "marker": {
             "colorbar": {
              "outlinewidth": 0,
              "ticks": ""
             }
            },
            "type": "scattercarpet"
           }
          ],
          "scattergeo": [
           {
            "marker": {
             "colorbar": {
              "outlinewidth": 0,
              "ticks": ""
             }
            },
            "type": "scattergeo"
           }
          ],
          "scattergl": [
           {
            "marker": {
             "colorbar": {
              "outlinewidth": 0,
              "ticks": ""
             }
            },
            "type": "scattergl"
           }
          ],
          "scattermapbox": [
           {
            "marker": {
             "colorbar": {
              "outlinewidth": 0,
              "ticks": ""
             }
            },
            "type": "scattermapbox"
           }
          ],
          "scatterpolar": [
           {
            "marker": {
             "colorbar": {
              "outlinewidth": 0,
              "ticks": ""
             }
            },
            "type": "scatterpolar"
           }
          ],
          "scatterpolargl": [
           {
            "marker": {
             "colorbar": {
              "outlinewidth": 0,
              "ticks": ""
             }
            },
            "type": "scatterpolargl"
           }
          ],
          "scatterternary": [
           {
            "marker": {
             "colorbar": {
              "outlinewidth": 0,
              "ticks": ""
             }
            },
            "type": "scatterternary"
           }
          ],
          "surface": [
           {
            "colorbar": {
             "outlinewidth": 0,
             "ticks": ""
            },
            "colorscale": [
             [
              0,
              "#0d0887"
             ],
             [
              0.1111111111111111,
              "#46039f"
             ],
             [
              0.2222222222222222,
              "#7201a8"
             ],
             [
              0.3333333333333333,
              "#9c179e"
             ],
             [
              0.4444444444444444,
              "#bd3786"
             ],
             [
              0.5555555555555556,
              "#d8576b"
             ],
             [
              0.6666666666666666,
              "#ed7953"
             ],
             [
              0.7777777777777778,
              "#fb9f3a"
             ],
             [
              0.8888888888888888,
              "#fdca26"
             ],
             [
              1,
              "#f0f921"
             ]
            ],
            "type": "surface"
           }
          ],
          "table": [
           {
            "cells": {
             "fill": {
              "color": "#EBF0F8"
             },
             "line": {
              "color": "white"
             }
            },
            "header": {
             "fill": {
              "color": "#C8D4E3"
             },
             "line": {
              "color": "white"
             }
            },
            "type": "table"
           }
          ]
         },
         "layout": {
          "annotationdefaults": {
           "arrowcolor": "#2a3f5f",
           "arrowhead": 0,
           "arrowwidth": 1
          },
          "autotypenumbers": "strict",
          "coloraxis": {
           "colorbar": {
            "outlinewidth": 0,
            "ticks": ""
           }
          },
          "colorscale": {
           "diverging": [
            [
             0,
             "#8e0152"
            ],
            [
             0.1,
             "#c51b7d"
            ],
            [
             0.2,
             "#de77ae"
            ],
            [
             0.3,
             "#f1b6da"
            ],
            [
             0.4,
             "#fde0ef"
            ],
            [
             0.5,
             "#f7f7f7"
            ],
            [
             0.6,
             "#e6f5d0"
            ],
            [
             0.7,
             "#b8e186"
            ],
            [
             0.8,
             "#7fbc41"
            ],
            [
             0.9,
             "#4d9221"
            ],
            [
             1,
             "#276419"
            ]
           ],
           "sequential": [
            [
             0,
             "#0d0887"
            ],
            [
             0.1111111111111111,
             "#46039f"
            ],
            [
             0.2222222222222222,
             "#7201a8"
            ],
            [
             0.3333333333333333,
             "#9c179e"
            ],
            [
             0.4444444444444444,
             "#bd3786"
            ],
            [
             0.5555555555555556,
             "#d8576b"
            ],
            [
             0.6666666666666666,
             "#ed7953"
            ],
            [
             0.7777777777777778,
             "#fb9f3a"
            ],
            [
             0.8888888888888888,
             "#fdca26"
            ],
            [
             1,
             "#f0f921"
            ]
           ],
           "sequentialminus": [
            [
             0,
             "#0d0887"
            ],
            [
             0.1111111111111111,
             "#46039f"
            ],
            [
             0.2222222222222222,
             "#7201a8"
            ],
            [
             0.3333333333333333,
             "#9c179e"
            ],
            [
             0.4444444444444444,
             "#bd3786"
            ],
            [
             0.5555555555555556,
             "#d8576b"
            ],
            [
             0.6666666666666666,
             "#ed7953"
            ],
            [
             0.7777777777777778,
             "#fb9f3a"
            ],
            [
             0.8888888888888888,
             "#fdca26"
            ],
            [
             1,
             "#f0f921"
            ]
           ]
          },
          "colorway": [
           "#636efa",
           "#EF553B",
           "#00cc96",
           "#ab63fa",
           "#FFA15A",
           "#19d3f3",
           "#FF6692",
           "#B6E880",
           "#FF97FF",
           "#FECB52"
          ],
          "font": {
           "color": "#2a3f5f"
          },
          "geo": {
           "bgcolor": "white",
           "lakecolor": "white",
           "landcolor": "#E5ECF6",
           "showlakes": true,
           "showland": true,
           "subunitcolor": "white"
          },
          "hoverlabel": {
           "align": "left"
          },
          "hovermode": "closest",
          "mapbox": {
           "style": "light"
          },
          "paper_bgcolor": "white",
          "plot_bgcolor": "#E5ECF6",
          "polar": {
           "angularaxis": {
            "gridcolor": "white",
            "linecolor": "white",
            "ticks": ""
           },
           "bgcolor": "#E5ECF6",
           "radialaxis": {
            "gridcolor": "white",
            "linecolor": "white",
            "ticks": ""
           }
          },
          "scene": {
           "xaxis": {
            "backgroundcolor": "#E5ECF6",
            "gridcolor": "white",
            "gridwidth": 2,
            "linecolor": "white",
            "showbackground": true,
            "ticks": "",
            "zerolinecolor": "white"
           },
           "yaxis": {
            "backgroundcolor": "#E5ECF6",
            "gridcolor": "white",
            "gridwidth": 2,
            "linecolor": "white",
            "showbackground": true,
            "ticks": "",
            "zerolinecolor": "white"
           },
           "zaxis": {
            "backgroundcolor": "#E5ECF6",
            "gridcolor": "white",
            "gridwidth": 2,
            "linecolor": "white",
            "showbackground": true,
            "ticks": "",
            "zerolinecolor": "white"
           }
          },
          "shapedefaults": {
           "line": {
            "color": "#2a3f5f"
           }
          },
          "ternary": {
           "aaxis": {
            "gridcolor": "white",
            "linecolor": "white",
            "ticks": ""
           },
           "baxis": {
            "gridcolor": "white",
            "linecolor": "white",
            "ticks": ""
           },
           "bgcolor": "#E5ECF6",
           "caxis": {
            "gridcolor": "white",
            "linecolor": "white",
            "ticks": ""
           }
          },
          "title": {
           "x": 0.05
          },
          "xaxis": {
           "automargin": true,
           "gridcolor": "white",
           "linecolor": "white",
           "ticks": "",
           "title": {
            "standoff": 15
           },
           "zerolinecolor": "white",
           "zerolinewidth": 2
          },
          "yaxis": {
           "automargin": true,
           "gridcolor": "white",
           "linecolor": "white",
           "ticks": "",
           "title": {
            "standoff": 15
           },
           "zerolinecolor": "white",
           "zerolinewidth": 2
          }
         }
        },
        "title": {
         "text": "Feature Importance from XGBoost Regressor"
        },
        "xaxis": {
         "anchor": "y",
         "domain": [
          0,
          1
         ],
         "title": {
          "text": "Features"
         }
        },
        "yaxis": {
         "anchor": "x",
         "domain": [
          0,
          1
         ],
         "title": {
          "text": "Importance"
         }
        }
       }
      }
     },
     "metadata": {},
     "output_type": "display_data"
    },
    {
     "data": {
      "application/vnd.plotly.v1+json": {
       "config": {
        "plotlyServerURL": "https://plot.ly"
       },
       "data": [
        {
         "hovertemplate": "Quantile=%{x}<br>Pinball Loss=%{y}<extra></extra>",
         "legendgroup": "",
         "line": {
          "color": "#636efa",
          "dash": "solid"
         },
         "marker": {
          "symbol": "circle"
         },
         "mode": "lines",
         "name": "",
         "orientation": "v",
         "showlegend": false,
         "type": "scatter",
         "x": [
          0.1,
          0.2,
          0.3,
          0.4,
          0.5,
          0.6,
          0.7,
          0.8,
          0.9
         ],
         "xaxis": "x",
         "y": [
          27.695512735829148,
          55.16421778901193,
          82.6329228421947,
          110.1016278953775,
          137.5703329485603,
          165.03903800174308,
          192.5077430549259,
          219.97644810810868,
          247.44515316129142
         ],
         "yaxis": "y"
        }
       ],
       "layout": {
        "legend": {
         "tracegroupgap": 0
        },
        "template": {
         "data": {
          "bar": [
           {
            "error_x": {
             "color": "#2a3f5f"
            },
            "error_y": {
             "color": "#2a3f5f"
            },
            "marker": {
             "line": {
              "color": "#E5ECF6",
              "width": 0.5
             },
             "pattern": {
              "fillmode": "overlay",
              "size": 10,
              "solidity": 0.2
             }
            },
            "type": "bar"
           }
          ],
          "barpolar": [
           {
            "marker": {
             "line": {
              "color": "#E5ECF6",
              "width": 0.5
             },
             "pattern": {
              "fillmode": "overlay",
              "size": 10,
              "solidity": 0.2
             }
            },
            "type": "barpolar"
           }
          ],
          "carpet": [
           {
            "aaxis": {
             "endlinecolor": "#2a3f5f",
             "gridcolor": "white",
             "linecolor": "white",
             "minorgridcolor": "white",
             "startlinecolor": "#2a3f5f"
            },
            "baxis": {
             "endlinecolor": "#2a3f5f",
             "gridcolor": "white",
             "linecolor": "white",
             "minorgridcolor": "white",
             "startlinecolor": "#2a3f5f"
            },
            "type": "carpet"
           }
          ],
          "choropleth": [
           {
            "colorbar": {
             "outlinewidth": 0,
             "ticks": ""
            },
            "type": "choropleth"
           }
          ],
          "contour": [
           {
            "colorbar": {
             "outlinewidth": 0,
             "ticks": ""
            },
            "colorscale": [
             [
              0,
              "#0d0887"
             ],
             [
              0.1111111111111111,
              "#46039f"
             ],
             [
              0.2222222222222222,
              "#7201a8"
             ],
             [
              0.3333333333333333,
              "#9c179e"
             ],
             [
              0.4444444444444444,
              "#bd3786"
             ],
             [
              0.5555555555555556,
              "#d8576b"
             ],
             [
              0.6666666666666666,
              "#ed7953"
             ],
             [
              0.7777777777777778,
              "#fb9f3a"
             ],
             [
              0.8888888888888888,
              "#fdca26"
             ],
             [
              1,
              "#f0f921"
             ]
            ],
            "type": "contour"
           }
          ],
          "contourcarpet": [
           {
            "colorbar": {
             "outlinewidth": 0,
             "ticks": ""
            },
            "type": "contourcarpet"
           }
          ],
          "heatmap": [
           {
            "colorbar": {
             "outlinewidth": 0,
             "ticks": ""
            },
            "colorscale": [
             [
              0,
              "#0d0887"
             ],
             [
              0.1111111111111111,
              "#46039f"
             ],
             [
              0.2222222222222222,
              "#7201a8"
             ],
             [
              0.3333333333333333,
              "#9c179e"
             ],
             [
              0.4444444444444444,
              "#bd3786"
             ],
             [
              0.5555555555555556,
              "#d8576b"
             ],
             [
              0.6666666666666666,
              "#ed7953"
             ],
             [
              0.7777777777777778,
              "#fb9f3a"
             ],
             [
              0.8888888888888888,
              "#fdca26"
             ],
             [
              1,
              "#f0f921"
             ]
            ],
            "type": "heatmap"
           }
          ],
          "heatmapgl": [
           {
            "colorbar": {
             "outlinewidth": 0,
             "ticks": ""
            },
            "colorscale": [
             [
              0,
              "#0d0887"
             ],
             [
              0.1111111111111111,
              "#46039f"
             ],
             [
              0.2222222222222222,
              "#7201a8"
             ],
             [
              0.3333333333333333,
              "#9c179e"
             ],
             [
              0.4444444444444444,
              "#bd3786"
             ],
             [
              0.5555555555555556,
              "#d8576b"
             ],
             [
              0.6666666666666666,
              "#ed7953"
             ],
             [
              0.7777777777777778,
              "#fb9f3a"
             ],
             [
              0.8888888888888888,
              "#fdca26"
             ],
             [
              1,
              "#f0f921"
             ]
            ],
            "type": "heatmapgl"
           }
          ],
          "histogram": [
           {
            "marker": {
             "pattern": {
              "fillmode": "overlay",
              "size": 10,
              "solidity": 0.2
             }
            },
            "type": "histogram"
           }
          ],
          "histogram2d": [
           {
            "colorbar": {
             "outlinewidth": 0,
             "ticks": ""
            },
            "colorscale": [
             [
              0,
              "#0d0887"
             ],
             [
              0.1111111111111111,
              "#46039f"
             ],
             [
              0.2222222222222222,
              "#7201a8"
             ],
             [
              0.3333333333333333,
              "#9c179e"
             ],
             [
              0.4444444444444444,
              "#bd3786"
             ],
             [
              0.5555555555555556,
              "#d8576b"
             ],
             [
              0.6666666666666666,
              "#ed7953"
             ],
             [
              0.7777777777777778,
              "#fb9f3a"
             ],
             [
              0.8888888888888888,
              "#fdca26"
             ],
             [
              1,
              "#f0f921"
             ]
            ],
            "type": "histogram2d"
           }
          ],
          "histogram2dcontour": [
           {
            "colorbar": {
             "outlinewidth": 0,
             "ticks": ""
            },
            "colorscale": [
             [
              0,
              "#0d0887"
             ],
             [
              0.1111111111111111,
              "#46039f"
             ],
             [
              0.2222222222222222,
              "#7201a8"
             ],
             [
              0.3333333333333333,
              "#9c179e"
             ],
             [
              0.4444444444444444,
              "#bd3786"
             ],
             [
              0.5555555555555556,
              "#d8576b"
             ],
             [
              0.6666666666666666,
              "#ed7953"
             ],
             [
              0.7777777777777778,
              "#fb9f3a"
             ],
             [
              0.8888888888888888,
              "#fdca26"
             ],
             [
              1,
              "#f0f921"
             ]
            ],
            "type": "histogram2dcontour"
           }
          ],
          "mesh3d": [
           {
            "colorbar": {
             "outlinewidth": 0,
             "ticks": ""
            },
            "type": "mesh3d"
           }
          ],
          "parcoords": [
           {
            "line": {
             "colorbar": {
              "outlinewidth": 0,
              "ticks": ""
             }
            },
            "type": "parcoords"
           }
          ],
          "pie": [
           {
            "automargin": true,
            "type": "pie"
           }
          ],
          "scatter": [
           {
            "fillpattern": {
             "fillmode": "overlay",
             "size": 10,
             "solidity": 0.2
            },
            "type": "scatter"
           }
          ],
          "scatter3d": [
           {
            "line": {
             "colorbar": {
              "outlinewidth": 0,
              "ticks": ""
             }
            },
            "marker": {
             "colorbar": {
              "outlinewidth": 0,
              "ticks": ""
             }
            },
            "type": "scatter3d"
           }
          ],
          "scattercarpet": [
           {
            "marker": {
             "colorbar": {
              "outlinewidth": 0,
              "ticks": ""
             }
            },
            "type": "scattercarpet"
           }
          ],
          "scattergeo": [
           {
            "marker": {
             "colorbar": {
              "outlinewidth": 0,
              "ticks": ""
             }
            },
            "type": "scattergeo"
           }
          ],
          "scattergl": [
           {
            "marker": {
             "colorbar": {
              "outlinewidth": 0,
              "ticks": ""
             }
            },
            "type": "scattergl"
           }
          ],
          "scattermapbox": [
           {
            "marker": {
             "colorbar": {
              "outlinewidth": 0,
              "ticks": ""
             }
            },
            "type": "scattermapbox"
           }
          ],
          "scatterpolar": [
           {
            "marker": {
             "colorbar": {
              "outlinewidth": 0,
              "ticks": ""
             }
            },
            "type": "scatterpolar"
           }
          ],
          "scatterpolargl": [
           {
            "marker": {
             "colorbar": {
              "outlinewidth": 0,
              "ticks": ""
             }
            },
            "type": "scatterpolargl"
           }
          ],
          "scatterternary": [
           {
            "marker": {
             "colorbar": {
              "outlinewidth": 0,
              "ticks": ""
             }
            },
            "type": "scatterternary"
           }
          ],
          "surface": [
           {
            "colorbar": {
             "outlinewidth": 0,
             "ticks": ""
            },
            "colorscale": [
             [
              0,
              "#0d0887"
             ],
             [
              0.1111111111111111,
              "#46039f"
             ],
             [
              0.2222222222222222,
              "#7201a8"
             ],
             [
              0.3333333333333333,
              "#9c179e"
             ],
             [
              0.4444444444444444,
              "#bd3786"
             ],
             [
              0.5555555555555556,
              "#d8576b"
             ],
             [
              0.6666666666666666,
              "#ed7953"
             ],
             [
              0.7777777777777778,
              "#fb9f3a"
             ],
             [
              0.8888888888888888,
              "#fdca26"
             ],
             [
              1,
              "#f0f921"
             ]
            ],
            "type": "surface"
           }
          ],
          "table": [
           {
            "cells": {
             "fill": {
              "color": "#EBF0F8"
             },
             "line": {
              "color": "white"
             }
            },
            "header": {
             "fill": {
              "color": "#C8D4E3"
             },
             "line": {
              "color": "white"
             }
            },
            "type": "table"
           }
          ]
         },
         "layout": {
          "annotationdefaults": {
           "arrowcolor": "#2a3f5f",
           "arrowhead": 0,
           "arrowwidth": 1
          },
          "autotypenumbers": "strict",
          "coloraxis": {
           "colorbar": {
            "outlinewidth": 0,
            "ticks": ""
           }
          },
          "colorscale": {
           "diverging": [
            [
             0,
             "#8e0152"
            ],
            [
             0.1,
             "#c51b7d"
            ],
            [
             0.2,
             "#de77ae"
            ],
            [
             0.3,
             "#f1b6da"
            ],
            [
             0.4,
             "#fde0ef"
            ],
            [
             0.5,
             "#f7f7f7"
            ],
            [
             0.6,
             "#e6f5d0"
            ],
            [
             0.7,
             "#b8e186"
            ],
            [
             0.8,
             "#7fbc41"
            ],
            [
             0.9,
             "#4d9221"
            ],
            [
             1,
             "#276419"
            ]
           ],
           "sequential": [
            [
             0,
             "#0d0887"
            ],
            [
             0.1111111111111111,
             "#46039f"
            ],
            [
             0.2222222222222222,
             "#7201a8"
            ],
            [
             0.3333333333333333,
             "#9c179e"
            ],
            [
             0.4444444444444444,
             "#bd3786"
            ],
            [
             0.5555555555555556,
             "#d8576b"
            ],
            [
             0.6666666666666666,
             "#ed7953"
            ],
            [
             0.7777777777777778,
             "#fb9f3a"
            ],
            [
             0.8888888888888888,
             "#fdca26"
            ],
            [
             1,
             "#f0f921"
            ]
           ],
           "sequentialminus": [
            [
             0,
             "#0d0887"
            ],
            [
             0.1111111111111111,
             "#46039f"
            ],
            [
             0.2222222222222222,
             "#7201a8"
            ],
            [
             0.3333333333333333,
             "#9c179e"
            ],
            [
             0.4444444444444444,
             "#bd3786"
            ],
            [
             0.5555555555555556,
             "#d8576b"
            ],
            [
             0.6666666666666666,
             "#ed7953"
            ],
            [
             0.7777777777777778,
             "#fb9f3a"
            ],
            [
             0.8888888888888888,
             "#fdca26"
            ],
            [
             1,
             "#f0f921"
            ]
           ]
          },
          "colorway": [
           "#636efa",
           "#EF553B",
           "#00cc96",
           "#ab63fa",
           "#FFA15A",
           "#19d3f3",
           "#FF6692",
           "#B6E880",
           "#FF97FF",
           "#FECB52"
          ],
          "font": {
           "color": "#2a3f5f"
          },
          "geo": {
           "bgcolor": "white",
           "lakecolor": "white",
           "landcolor": "#E5ECF6",
           "showlakes": true,
           "showland": true,
           "subunitcolor": "white"
          },
          "hoverlabel": {
           "align": "left"
          },
          "hovermode": "closest",
          "mapbox": {
           "style": "light"
          },
          "paper_bgcolor": "white",
          "plot_bgcolor": "#E5ECF6",
          "polar": {
           "angularaxis": {
            "gridcolor": "white",
            "linecolor": "white",
            "ticks": ""
           },
           "bgcolor": "#E5ECF6",
           "radialaxis": {
            "gridcolor": "white",
            "linecolor": "white",
            "ticks": ""
           }
          },
          "scene": {
           "xaxis": {
            "backgroundcolor": "#E5ECF6",
            "gridcolor": "white",
            "gridwidth": 2,
            "linecolor": "white",
            "showbackground": true,
            "ticks": "",
            "zerolinecolor": "white"
           },
           "yaxis": {
            "backgroundcolor": "#E5ECF6",
            "gridcolor": "white",
            "gridwidth": 2,
            "linecolor": "white",
            "showbackground": true,
            "ticks": "",
            "zerolinecolor": "white"
           },
           "zaxis": {
            "backgroundcolor": "#E5ECF6",
            "gridcolor": "white",
            "gridwidth": 2,
            "linecolor": "white",
            "showbackground": true,
            "ticks": "",
            "zerolinecolor": "white"
           }
          },
          "shapedefaults": {
           "line": {
            "color": "#2a3f5f"
           }
          },
          "ternary": {
           "aaxis": {
            "gridcolor": "white",
            "linecolor": "white",
            "ticks": ""
           },
           "baxis": {
            "gridcolor": "white",
            "linecolor": "white",
            "ticks": ""
           },
           "bgcolor": "#E5ECF6",
           "caxis": {
            "gridcolor": "white",
            "linecolor": "white",
            "ticks": ""
           }
          },
          "title": {
           "x": 0.05
          },
          "xaxis": {
           "automargin": true,
           "gridcolor": "white",
           "linecolor": "white",
           "ticks": "",
           "title": {
            "standoff": 15
           },
           "zerolinecolor": "white",
           "zerolinewidth": 2
          },
          "yaxis": {
           "automargin": true,
           "gridcolor": "white",
           "linecolor": "white",
           "ticks": "",
           "title": {
            "standoff": 15
           },
           "zerolinecolor": "white",
           "zerolinewidth": 2
          }
         }
        },
        "title": {
         "text": "Pinball Loss for Different Quantiles"
        },
        "xaxis": {
         "anchor": "y",
         "domain": [
          0,
          1
         ],
         "title": {
          "text": "Quantile"
         }
        },
        "yaxis": {
         "anchor": "x",
         "domain": [
          0,
          1
         ],
         "title": {
          "text": "Pinball Loss"
         }
        }
       }
      }
     },
     "metadata": {},
     "output_type": "display_data"
    },
    {
     "name": "stdout",
     "output_type": "stream",
     "text": [
      "Model saved as 'xgboost_regressor_model.pkl'\n"
     ]
    }
   ],
   "source": [
    "import pandas as pd\n",
    "from sklearn.model_selection import train_test_split\n",
    "from sklearn.metrics import mean_pinball_loss\n",
    "import numpy as np\n",
    "from xgboost import XGBRegressor\n",
    "import joblib\n",
    "\n",
    "# Define the pinball loss function\n",
    "def pinball_loss(y_true, y_pred, quantile=0.5):\n",
    "    delta = y_pred - y_true\n",
    "    loss = np.where(delta >= 0, quantile * delta, (quantile - 1) * delta)\n",
    "    return np.sum(loss)\n",
    "\n",
    "# Define the custom objective function for XGBoost\n",
    "def custom_pinball_loss(y_true, y_pred):\n",
    "    quantiles = [q / 100.0 for q in range(10, 100, 10)]\n",
    "    y_true = y_true.get_label() if hasattr(y_true, 'get_label') else y_true\n",
    "    grad = np.zeros_like(y_true)\n",
    "    hess = np.zeros_like(y_true)\n",
    "    \n",
    "    for quantile in quantiles:\n",
    "        delta = y_pred - y_true\n",
    "        grad += np.where(delta >= 0, quantile, quantile - 1)\n",
    "        hess += np.ones_like(y_true)\n",
    "    \n",
    "    grad /= len(quantiles)\n",
    "    hess /= len(quantiles)\n",
    "    \n",
    "    return grad, hess\n",
    "\n",
    "# Assuming df_wind1 is your DataFrame and 'Wind_MWh_credit' is the target variable\n",
    "# Define the selected features\n",
    "target = 'Wind_MWh_credit'\n",
    "\n",
    "# Prepare the data\n",
    "X = df_wind1[features]\n",
    "y = df_wind1[target]\n",
    "\n",
    "# Split the data into training and testing sets\n",
    "X_train, X_test, y_train, y_test = train_test_split(X, y, test_size=0.2, random_state=42)\n",
    "\n",
    "# Initialize and train the XGBoost Regressor with custom pinball loss\n",
    "xgbr = XGBRegressor(random_state=42, max_depth=100, learning_rate=0.1, n_estimators=200, objective=custom_pinball_loss)\n",
    "xgbr.fit(X_train, y_train)\n",
    "\n",
    "# Predict the target values for the test set\n",
    "y_pred = xgbr.predict(X_test)\n",
    "\n",
    "# Calculate the pinball loss for each quantile from 10% to 90%\n",
    "quantiles = [q / 100.0 for q in range(10, 100, 10)]\n",
    "pinball_losses = []\n",
    "\n",
    "for quantile in quantiles:\n",
    "    loss = mean_pinball_loss(y_test, y_pred, alpha=quantile)\n",
    "    pinball_losses.append(loss)\n",
    "    print(f'Pinball Loss (Quantile {quantile}): {loss}')\n",
    "\n",
    "mean_pinball_loss_value = np.mean(pinball_losses)\n",
    "print(f'Mean Pinball Loss (Quantiles 10% to 90%): {mean_pinball_loss_value}')\n",
    "\n",
    "# Extract feature importances\n",
    "feature_importances = xgbr.feature_importances_\n",
    "\n",
    "# Create a DataFrame for better visualization\n",
    "importance_df = pd.DataFrame({\n",
    "    'Feature': features,\n",
    "    'Importance': feature_importances\n",
    "}).sort_values(by='Importance', ascending=False)\n",
    "\n",
    "# Print the most important features\n",
    "print(importance_df)\n",
    "\n",
    "# Plot the feature importances using Plotly\n",
    "import plotly.express as px\n",
    "fig = px.bar(importance_df, x='Feature', y='Importance', title='Feature Importance from XGBoost Regressor', labels={'Feature': 'Features', 'Importance': 'Importance'})\n",
    "fig.show()\n",
    "\n",
    "# Plot the pinball losses for each quantile\n",
    "pinball_loss_df = pd.DataFrame({\n",
    "    'Quantile': quantiles,\n",
    "    'Pinball Loss': pinball_losses\n",
    "})\n",
    "\n",
    "fig = px.line(pinball_loss_df, x='Quantile', y='Pinball Loss', title='Pinball Loss for Different Quantiles', labels={'Quantile': 'Quantile', 'Pinball Loss': 'Pinball Loss'})\n",
    "fig.show()\n",
    "\n",
    "# Save the trained model\n",
    "joblib.dump(xgbr, 'xgboost_regressor_model.pkl')\n",
    "print(\"Model saved as 'xgboost_regressor_model.pkl'\")"
   ]
  },
  {
   "cell_type": "code",
   "execution_count": 38,
   "metadata": {
    "vscode": {
     "languageId": "ruby"
    }
   },
   "outputs": [
    {
     "data": {
      "text/html": [
       "<div>\n",
       "<style scoped>\n",
       "    .dataframe tbody tr th:only-of-type {\n",
       "        vertical-align: middle;\n",
       "    }\n",
       "\n",
       "    .dataframe tbody tr th {\n",
       "        vertical-align: top;\n",
       "    }\n",
       "\n",
       "    .dataframe thead th {\n",
       "        text-align: right;\n",
       "    }\n",
       "</style>\n",
       "<table border=\"1\" class=\"dataframe\">\n",
       "  <thead>\n",
       "    <tr style=\"text-align: right;\">\n",
       "      <th></th>\n",
       "      <th>valid_time</th>\n",
       "      <th>reference_time</th>\n",
       "      <th>RelativeHumidity_dwd</th>\n",
       "      <th>Temperature_dwd</th>\n",
       "      <th>WindDirection_dwd</th>\n",
       "      <th>WindDirection:100_dwd</th>\n",
       "      <th>WindSpeed_dwd</th>\n",
       "      <th>WindSpeed:100_dwd</th>\n",
       "      <th>RelativeHumidity_ncep</th>\n",
       "      <th>Temperature_ncep</th>\n",
       "      <th>...</th>\n",
       "      <th>temperature_model_diff</th>\n",
       "      <th>humidity_model_diff</th>\n",
       "      <th>WindSpeed:100_dwd_rolling_mean_6h</th>\n",
       "      <th>WindSpeed:100_dwd_rolling_std_6h</th>\n",
       "      <th>WindSpeed:100_ncep_rolling_mean_6h</th>\n",
       "      <th>WindSpeed:100_ncep_rolling_std_6h</th>\n",
       "      <th>WindDirection:100_dwd_rolling_mean_6h</th>\n",
       "      <th>WindDirection:100_ncep_rolling_mean_6h</th>\n",
       "      <th>Temperature_dwd_rolling_mean_6h</th>\n",
       "      <th>Temperature_ncep_rolling_mean_6h</th>\n",
       "    </tr>\n",
       "  </thead>\n",
       "  <tbody>\n",
       "    <tr>\n",
       "      <th>0</th>\n",
       "      <td>2020-09-20 00:00:00+00:00</td>\n",
       "      <td>2020-09-20 00:00:00+00:00</td>\n",
       "      <td>85.213745</td>\n",
       "      <td>15.416670</td>\n",
       "      <td>61.588080</td>\n",
       "      <td>62.085180</td>\n",
       "      <td>10.043627</td>\n",
       "      <td>11.802604</td>\n",
       "      <td>84.066670</td>\n",
       "      <td>15.450012</td>\n",
       "      <td>...</td>\n",
       "      <td>-0.033342</td>\n",
       "      <td>1.147075</td>\n",
       "      <td>9.672669</td>\n",
       "      <td>0.511828</td>\n",
       "      <td>9.678345</td>\n",
       "      <td>0.508722</td>\n",
       "      <td>201.118220</td>\n",
       "      <td>199.149583</td>\n",
       "      <td>10.686490</td>\n",
       "      <td>10.428771</td>\n",
       "    </tr>\n",
       "    <tr>\n",
       "      <th>1</th>\n",
       "      <td>2020-09-20 00:30:00+00:00</td>\n",
       "      <td>2020-09-20 00:00:00+00:00</td>\n",
       "      <td>85.012250</td>\n",
       "      <td>15.412510</td>\n",
       "      <td>61.203667</td>\n",
       "      <td>61.726974</td>\n",
       "      <td>9.905537</td>\n",
       "      <td>11.648819</td>\n",
       "      <td>84.433334</td>\n",
       "      <td>15.397076</td>\n",
       "      <td>...</td>\n",
       "      <td>0.015434</td>\n",
       "      <td>0.578916</td>\n",
       "      <td>9.672669</td>\n",
       "      <td>0.511828</td>\n",
       "      <td>9.678345</td>\n",
       "      <td>0.508722</td>\n",
       "      <td>201.118220</td>\n",
       "      <td>199.149583</td>\n",
       "      <td>10.686490</td>\n",
       "      <td>10.428771</td>\n",
       "    </tr>\n",
       "    <tr>\n",
       "      <th>2</th>\n",
       "      <td>2020-09-20 01:00:00+00:00</td>\n",
       "      <td>2020-09-20 00:00:00+00:00</td>\n",
       "      <td>84.810770</td>\n",
       "      <td>15.408349</td>\n",
       "      <td>60.819256</td>\n",
       "      <td>61.368774</td>\n",
       "      <td>9.767447</td>\n",
       "      <td>11.495033</td>\n",
       "      <td>84.800000</td>\n",
       "      <td>15.344140</td>\n",
       "      <td>...</td>\n",
       "      <td>0.064209</td>\n",
       "      <td>0.010770</td>\n",
       "      <td>9.672669</td>\n",
       "      <td>0.511828</td>\n",
       "      <td>9.678345</td>\n",
       "      <td>0.508722</td>\n",
       "      <td>201.118220</td>\n",
       "      <td>199.149583</td>\n",
       "      <td>10.686490</td>\n",
       "      <td>10.428771</td>\n",
       "    </tr>\n",
       "    <tr>\n",
       "      <th>3</th>\n",
       "      <td>2020-09-20 01:30:00+00:00</td>\n",
       "      <td>2020-09-20 00:00:00+00:00</td>\n",
       "      <td>84.357880</td>\n",
       "      <td>15.451218</td>\n",
       "      <td>60.511030</td>\n",
       "      <td>61.111040</td>\n",
       "      <td>9.631039</td>\n",
       "      <td>11.354128</td>\n",
       "      <td>84.933334</td>\n",
       "      <td>15.305976</td>\n",
       "      <td>...</td>\n",
       "      <td>0.145242</td>\n",
       "      <td>-0.575454</td>\n",
       "      <td>9.672669</td>\n",
       "      <td>0.511828</td>\n",
       "      <td>9.678345</td>\n",
       "      <td>0.508722</td>\n",
       "      <td>201.118220</td>\n",
       "      <td>199.149583</td>\n",
       "      <td>10.686490</td>\n",
       "      <td>10.428771</td>\n",
       "    </tr>\n",
       "    <tr>\n",
       "      <th>4</th>\n",
       "      <td>2020-09-20 02:00:00+00:00</td>\n",
       "      <td>2020-09-20 00:00:00+00:00</td>\n",
       "      <td>83.905000</td>\n",
       "      <td>15.494086</td>\n",
       "      <td>60.202800</td>\n",
       "      <td>60.853306</td>\n",
       "      <td>9.494630</td>\n",
       "      <td>11.213223</td>\n",
       "      <td>85.066666</td>\n",
       "      <td>15.267812</td>\n",
       "      <td>...</td>\n",
       "      <td>0.226274</td>\n",
       "      <td>-1.161666</td>\n",
       "      <td>9.672669</td>\n",
       "      <td>0.511828</td>\n",
       "      <td>9.678345</td>\n",
       "      <td>0.508722</td>\n",
       "      <td>201.118220</td>\n",
       "      <td>199.149583</td>\n",
       "      <td>10.686490</td>\n",
       "      <td>10.428771</td>\n",
       "    </tr>\n",
       "    <tr>\n",
       "      <th>...</th>\n",
       "      <td>...</td>\n",
       "      <td>...</td>\n",
       "      <td>...</td>\n",
       "      <td>...</td>\n",
       "      <td>...</td>\n",
       "      <td>...</td>\n",
       "      <td>...</td>\n",
       "      <td>...</td>\n",
       "      <td>...</td>\n",
       "      <td>...</td>\n",
       "      <td>...</td>\n",
       "      <td>...</td>\n",
       "      <td>...</td>\n",
       "      <td>...</td>\n",
       "      <td>...</td>\n",
       "      <td>...</td>\n",
       "      <td>...</td>\n",
       "      <td>...</td>\n",
       "      <td>...</td>\n",
       "      <td>...</td>\n",
       "      <td>...</td>\n",
       "    </tr>\n",
       "    <tr>\n",
       "      <th>529625</th>\n",
       "      <td>2024-05-19 21:30:00+00:00</td>\n",
       "      <td>2024-05-19 00:00:00+00:00</td>\n",
       "      <td>91.634130</td>\n",
       "      <td>11.190109</td>\n",
       "      <td>21.214108</td>\n",
       "      <td>21.933590</td>\n",
       "      <td>6.882957</td>\n",
       "      <td>8.258531</td>\n",
       "      <td>93.683334</td>\n",
       "      <td>11.047282</td>\n",
       "      <td>...</td>\n",
       "      <td>0.142827</td>\n",
       "      <td>-2.049204</td>\n",
       "      <td>8.194411</td>\n",
       "      <td>0.053791</td>\n",
       "      <td>9.125633</td>\n",
       "      <td>0.033795</td>\n",
       "      <td>20.662916</td>\n",
       "      <td>21.587733</td>\n",
       "      <td>11.467282</td>\n",
       "      <td>11.333712</td>\n",
       "    </tr>\n",
       "    <tr>\n",
       "      <th>529626</th>\n",
       "      <td>2024-05-19 22:00:00+00:00</td>\n",
       "      <td>2024-05-19 00:00:00+00:00</td>\n",
       "      <td>91.232635</td>\n",
       "      <td>11.127069</td>\n",
       "      <td>22.417616</td>\n",
       "      <td>22.716902</td>\n",
       "      <td>7.040593</td>\n",
       "      <td>8.282218</td>\n",
       "      <td>94.700000</td>\n",
       "      <td>10.946550</td>\n",
       "      <td>...</td>\n",
       "      <td>0.180518</td>\n",
       "      <td>-3.467365</td>\n",
       "      <td>8.204595</td>\n",
       "      <td>0.064563</td>\n",
       "      <td>9.102060</td>\n",
       "      <td>0.049888</td>\n",
       "      <td>21.090310</td>\n",
       "      <td>21.901625</td>\n",
       "      <td>11.357540</td>\n",
       "      <td>11.217438</td>\n",
       "    </tr>\n",
       "    <tr>\n",
       "      <th>529627</th>\n",
       "      <td>2024-05-19 22:30:00+00:00</td>\n",
       "      <td>2024-05-19 00:00:00+00:00</td>\n",
       "      <td>90.249340</td>\n",
       "      <td>11.237669</td>\n",
       "      <td>22.327656</td>\n",
       "      <td>22.829685</td>\n",
       "      <td>6.842084</td>\n",
       "      <td>8.272179</td>\n",
       "      <td>95.016660</td>\n",
       "      <td>10.785738</td>\n",
       "      <td>...</td>\n",
       "      <td>0.451931</td>\n",
       "      <td>-4.767320</td>\n",
       "      <td>8.222198</td>\n",
       "      <td>0.066488</td>\n",
       "      <td>9.056732</td>\n",
       "      <td>0.098111</td>\n",
       "      <td>21.545476</td>\n",
       "      <td>22.040793</td>\n",
       "      <td>11.287710</td>\n",
       "      <td>11.096100</td>\n",
       "    </tr>\n",
       "    <tr>\n",
       "      <th>529628</th>\n",
       "      <td>2024-05-19 23:00:00+00:00</td>\n",
       "      <td>2024-05-19 00:00:00+00:00</td>\n",
       "      <td>89.266040</td>\n",
       "      <td>11.348270</td>\n",
       "      <td>22.237694</td>\n",
       "      <td>22.942470</td>\n",
       "      <td>6.643576</td>\n",
       "      <td>8.262139</td>\n",
       "      <td>95.333336</td>\n",
       "      <td>10.624926</td>\n",
       "      <td>...</td>\n",
       "      <td>0.723344</td>\n",
       "      <td>-6.067296</td>\n",
       "      <td>8.247222</td>\n",
       "      <td>0.039491</td>\n",
       "      <td>8.989651</td>\n",
       "      <td>0.153021</td>\n",
       "      <td>22.028415</td>\n",
       "      <td>22.005238</td>\n",
       "      <td>11.257790</td>\n",
       "      <td>10.969698</td>\n",
       "    </tr>\n",
       "    <tr>\n",
       "      <th>529629</th>\n",
       "      <td>2024-05-19 23:30:00+00:00</td>\n",
       "      <td>2024-05-19 00:00:00+00:00</td>\n",
       "      <td>89.301720</td>\n",
       "      <td>11.359882</td>\n",
       "      <td>20.984837</td>\n",
       "      <td>22.255167</td>\n",
       "      <td>6.560893</td>\n",
       "      <td>8.222769</td>\n",
       "      <td>94.833336</td>\n",
       "      <td>10.489921</td>\n",
       "      <td>...</td>\n",
       "      <td>0.869961</td>\n",
       "      <td>-5.531616</td>\n",
       "      <td>8.255446</td>\n",
       "      <td>0.022554</td>\n",
       "      <td>8.895203</td>\n",
       "      <td>0.214682</td>\n",
       "      <td>22.304682</td>\n",
       "      <td>21.833135</td>\n",
       "      <td>11.252691</td>\n",
       "      <td>10.840405</td>\n",
       "    </tr>\n",
       "  </tbody>\n",
       "</table>\n",
       "<p>63621 rows × 46 columns</p>\n",
       "</div>"
      ],
      "text/plain": [
       "                      valid_time            reference_time  \\\n",
       "0      2020-09-20 00:00:00+00:00 2020-09-20 00:00:00+00:00   \n",
       "1      2020-09-20 00:30:00+00:00 2020-09-20 00:00:00+00:00   \n",
       "2      2020-09-20 01:00:00+00:00 2020-09-20 00:00:00+00:00   \n",
       "3      2020-09-20 01:30:00+00:00 2020-09-20 00:00:00+00:00   \n",
       "4      2020-09-20 02:00:00+00:00 2020-09-20 00:00:00+00:00   \n",
       "...                          ...                       ...   \n",
       "529625 2024-05-19 21:30:00+00:00 2024-05-19 00:00:00+00:00   \n",
       "529626 2024-05-19 22:00:00+00:00 2024-05-19 00:00:00+00:00   \n",
       "529627 2024-05-19 22:30:00+00:00 2024-05-19 00:00:00+00:00   \n",
       "529628 2024-05-19 23:00:00+00:00 2024-05-19 00:00:00+00:00   \n",
       "529629 2024-05-19 23:30:00+00:00 2024-05-19 00:00:00+00:00   \n",
       "\n",
       "        RelativeHumidity_dwd  Temperature_dwd  WindDirection_dwd  \\\n",
       "0                  85.213745        15.416670          61.588080   \n",
       "1                  85.012250        15.412510          61.203667   \n",
       "2                  84.810770        15.408349          60.819256   \n",
       "3                  84.357880        15.451218          60.511030   \n",
       "4                  83.905000        15.494086          60.202800   \n",
       "...                      ...              ...                ...   \n",
       "529625             91.634130        11.190109          21.214108   \n",
       "529626             91.232635        11.127069          22.417616   \n",
       "529627             90.249340        11.237669          22.327656   \n",
       "529628             89.266040        11.348270          22.237694   \n",
       "529629             89.301720        11.359882          20.984837   \n",
       "\n",
       "        WindDirection:100_dwd  WindSpeed_dwd  WindSpeed:100_dwd  \\\n",
       "0                   62.085180      10.043627          11.802604   \n",
       "1                   61.726974       9.905537          11.648819   \n",
       "2                   61.368774       9.767447          11.495033   \n",
       "3                   61.111040       9.631039          11.354128   \n",
       "4                   60.853306       9.494630          11.213223   \n",
       "...                       ...            ...                ...   \n",
       "529625              21.933590       6.882957           8.258531   \n",
       "529626              22.716902       7.040593           8.282218   \n",
       "529627              22.829685       6.842084           8.272179   \n",
       "529628              22.942470       6.643576           8.262139   \n",
       "529629              22.255167       6.560893           8.222769   \n",
       "\n",
       "        RelativeHumidity_ncep  Temperature_ncep  ...  temperature_model_diff  \\\n",
       "0                   84.066670         15.450012  ...               -0.033342   \n",
       "1                   84.433334         15.397076  ...                0.015434   \n",
       "2                   84.800000         15.344140  ...                0.064209   \n",
       "3                   84.933334         15.305976  ...                0.145242   \n",
       "4                   85.066666         15.267812  ...                0.226274   \n",
       "...                       ...               ...  ...                     ...   \n",
       "529625              93.683334         11.047282  ...                0.142827   \n",
       "529626              94.700000         10.946550  ...                0.180518   \n",
       "529627              95.016660         10.785738  ...                0.451931   \n",
       "529628              95.333336         10.624926  ...                0.723344   \n",
       "529629              94.833336         10.489921  ...                0.869961   \n",
       "\n",
       "        humidity_model_diff  WindSpeed:100_dwd_rolling_mean_6h  \\\n",
       "0                  1.147075                           9.672669   \n",
       "1                  0.578916                           9.672669   \n",
       "2                  0.010770                           9.672669   \n",
       "3                 -0.575454                           9.672669   \n",
       "4                 -1.161666                           9.672669   \n",
       "...                     ...                                ...   \n",
       "529625            -2.049204                           8.194411   \n",
       "529626            -3.467365                           8.204595   \n",
       "529627            -4.767320                           8.222198   \n",
       "529628            -6.067296                           8.247222   \n",
       "529629            -5.531616                           8.255446   \n",
       "\n",
       "        WindSpeed:100_dwd_rolling_std_6h WindSpeed:100_ncep_rolling_mean_6h  \\\n",
       "0                               0.511828                           9.678345   \n",
       "1                               0.511828                           9.678345   \n",
       "2                               0.511828                           9.678345   \n",
       "3                               0.511828                           9.678345   \n",
       "4                               0.511828                           9.678345   \n",
       "...                                  ...                                ...   \n",
       "529625                          0.053791                           9.125633   \n",
       "529626                          0.064563                           9.102060   \n",
       "529627                          0.066488                           9.056732   \n",
       "529628                          0.039491                           8.989651   \n",
       "529629                          0.022554                           8.895203   \n",
       "\n",
       "        WindSpeed:100_ncep_rolling_std_6h  \\\n",
       "0                                0.508722   \n",
       "1                                0.508722   \n",
       "2                                0.508722   \n",
       "3                                0.508722   \n",
       "4                                0.508722   \n",
       "...                                   ...   \n",
       "529625                           0.033795   \n",
       "529626                           0.049888   \n",
       "529627                           0.098111   \n",
       "529628                           0.153021   \n",
       "529629                           0.214682   \n",
       "\n",
       "        WindDirection:100_dwd_rolling_mean_6h  \\\n",
       "0                                  201.118220   \n",
       "1                                  201.118220   \n",
       "2                                  201.118220   \n",
       "3                                  201.118220   \n",
       "4                                  201.118220   \n",
       "...                                       ...   \n",
       "529625                              20.662916   \n",
       "529626                              21.090310   \n",
       "529627                              21.545476   \n",
       "529628                              22.028415   \n",
       "529629                              22.304682   \n",
       "\n",
       "        WindDirection:100_ncep_rolling_mean_6h  \\\n",
       "0                                   199.149583   \n",
       "1                                   199.149583   \n",
       "2                                   199.149583   \n",
       "3                                   199.149583   \n",
       "4                                   199.149583   \n",
       "...                                        ...   \n",
       "529625                               21.587733   \n",
       "529626                               21.901625   \n",
       "529627                               22.040793   \n",
       "529628                               22.005238   \n",
       "529629                               21.833135   \n",
       "\n",
       "        Temperature_dwd_rolling_mean_6h  Temperature_ncep_rolling_mean_6h  \n",
       "0                             10.686490                         10.428771  \n",
       "1                             10.686490                         10.428771  \n",
       "2                             10.686490                         10.428771  \n",
       "3                             10.686490                         10.428771  \n",
       "4                             10.686490                         10.428771  \n",
       "...                                 ...                               ...  \n",
       "529625                        11.467282                         11.333712  \n",
       "529626                        11.357540                         11.217438  \n",
       "529627                        11.287710                         11.096100  \n",
       "529628                        11.257790                         10.969698  \n",
       "529629                        11.252691                         10.840405  \n",
       "\n",
       "[63621 rows x 46 columns]"
      ]
     },
     "execution_count": 38,
     "metadata": {},
     "output_type": "execute_result"
    }
   ],
   "source": [
    "df_wind1"
   ]
  },
  {
   "cell_type": "code",
   "execution_count": 39,
   "metadata": {
    "vscode": {
     "languageId": "ruby"
    }
   },
   "outputs": [
    {
     "data": {
      "text/plain": [
       "['feature_0', 'feature_1', 'feature_2', 'feature_3', 'feature_4']"
      ]
     },
     "execution_count": 39,
     "metadata": {},
     "output_type": "execute_result"
    }
   ],
   "source": [
    "features"
   ]
  },
  {
   "cell_type": "code",
   "execution_count": null,
   "metadata": {
    "vscode": {
     "languageId": "ruby"
    }
   },
   "outputs": [],
   "source": [
    "X = df_wind1[features]\n"
   ]
  },
  {
   "cell_type": "code",
   "execution_count": 24,
   "metadata": {
    "vscode": {
     "languageId": "ruby"
    }
   },
   "outputs": [
    {
     "data": {
      "text/plain": [
       "{'objective': <function __main__.custom_pinball_loss(y_true, y_pred)>,\n",
       " 'base_score': None,\n",
       " 'booster': None,\n",
       " 'callbacks': None,\n",
       " 'colsample_bylevel': None,\n",
       " 'colsample_bynode': None,\n",
       " 'colsample_bytree': None,\n",
       " 'device': None,\n",
       " 'early_stopping_rounds': None,\n",
       " 'enable_categorical': False,\n",
       " 'eval_metric': None,\n",
       " 'feature_types': None,\n",
       " 'gamma': None,\n",
       " 'grow_policy': None,\n",
       " 'importance_type': None,\n",
       " 'interaction_constraints': None,\n",
       " 'learning_rate': 0.1,\n",
       " 'max_bin': None,\n",
       " 'max_cat_threshold': None,\n",
       " 'max_cat_to_onehot': None,\n",
       " 'max_delta_step': None,\n",
       " 'max_depth': 100,\n",
       " 'max_leaves': None,\n",
       " 'min_child_weight': None,\n",
       " 'missing': nan,\n",
       " 'monotone_constraints': None,\n",
       " 'multi_strategy': None,\n",
       " 'n_estimators': 200,\n",
       " 'n_jobs': None,\n",
       " 'num_parallel_tree': None,\n",
       " 'random_state': 42,\n",
       " 'reg_alpha': None,\n",
       " 'reg_lambda': None,\n",
       " 'sampling_method': None,\n",
       " 'scale_pos_weight': None,\n",
       " 'subsample': None,\n",
       " 'tree_method': None,\n",
       " 'validate_parameters': None,\n",
       " 'verbosity': None}"
      ]
     },
     "execution_count": 24,
     "metadata": {},
     "output_type": "execute_result"
    }
   ],
   "source": [
    "xgbr.get_params()"
   ]
  },
  {
   "cell_type": "markdown",
   "metadata": {},
   "source": [
    "solar"
   ]
  },
  {
   "cell_type": "code",
   "execution_count": 13,
   "metadata": {
    "vscode": {
     "languageId": "ruby"
    }
   },
   "outputs": [
    {
     "data": {
      "text/html": [
       "<div>\n",
       "<style scoped>\n",
       "    .dataframe tbody tr th:only-of-type {\n",
       "        vertical-align: middle;\n",
       "    }\n",
       "\n",
       "    .dataframe tbody tr th {\n",
       "        vertical-align: top;\n",
       "    }\n",
       "\n",
       "    .dataframe thead th {\n",
       "        text-align: right;\n",
       "    }\n",
       "</style>\n",
       "<table border=\"1\" class=\"dataframe\">\n",
       "  <thead>\n",
       "    <tr style=\"text-align: right;\">\n",
       "      <th></th>\n",
       "      <th>valid_time</th>\n",
       "      <th>reference_time</th>\n",
       "      <th>CloudCover_Point0_dwd</th>\n",
       "      <th>CloudCover_Point1_dwd</th>\n",
       "      <th>CloudCover_Point2_dwd</th>\n",
       "      <th>CloudCover_Point3_dwd</th>\n",
       "      <th>CloudCover_Point4_dwd</th>\n",
       "      <th>CloudCover_Point5_dwd</th>\n",
       "      <th>CloudCover_Point6_dwd</th>\n",
       "      <th>CloudCover_Point7_dwd</th>\n",
       "      <th>...</th>\n",
       "      <th>Temperature_Point5_ncep_pes10</th>\n",
       "      <th>Temperature_Point6_ncep_pes10</th>\n",
       "      <th>dtm</th>\n",
       "      <th>MIP</th>\n",
       "      <th>Solar_MW</th>\n",
       "      <th>Solar_capacity_mwp</th>\n",
       "      <th>Solar_installedcapacity_mwp</th>\n",
       "      <th>SS_Price</th>\n",
       "      <th>DA_Price</th>\n",
       "      <th>Solar_MWh_credit</th>\n",
       "    </tr>\n",
       "  </thead>\n",
       "  <tbody>\n",
       "    <tr>\n",
       "      <th>0</th>\n",
       "      <td>2020-09-20 00:00:00+00:00</td>\n",
       "      <td>2020-09-20 00:00:00+00:00</td>\n",
       "      <td>0.426270</td>\n",
       "      <td>0.647109</td>\n",
       "      <td>0.335176</td>\n",
       "      <td>0.652109</td>\n",
       "      <td>0.333633</td>\n",
       "      <td>0.324512</td>\n",
       "      <td>0.551094</td>\n",
       "      <td>0.427949</td>\n",
       "      <td>...</td>\n",
       "      <td>15.550018</td>\n",
       "      <td>13.950012</td>\n",
       "      <td>2020-09-20 00:00:00+00:00</td>\n",
       "      <td>20.06</td>\n",
       "      <td>0.0</td>\n",
       "      <td>2130.537493</td>\n",
       "      <td>2228.208777</td>\n",
       "      <td>2.50</td>\n",
       "      <td>32.17</td>\n",
       "      <td>0.0</td>\n",
       "    </tr>\n",
       "    <tr>\n",
       "      <th>1</th>\n",
       "      <td>2020-09-20 00:30:00+00:00</td>\n",
       "      <td>2020-09-20 00:00:00+00:00</td>\n",
       "      <td>0.435937</td>\n",
       "      <td>0.637988</td>\n",
       "      <td>0.404287</td>\n",
       "      <td>0.652783</td>\n",
       "      <td>0.346943</td>\n",
       "      <td>0.413809</td>\n",
       "      <td>0.551855</td>\n",
       "      <td>0.438965</td>\n",
       "      <td>...</td>\n",
       "      <td>15.497086</td>\n",
       "      <td>13.962082</td>\n",
       "      <td>2020-09-20 00:30:00+00:00</td>\n",
       "      <td>19.77</td>\n",
       "      <td>0.0</td>\n",
       "      <td>2130.537493</td>\n",
       "      <td>2228.208777</td>\n",
       "      <td>15.00</td>\n",
       "      <td>32.17</td>\n",
       "      <td>0.0</td>\n",
       "    </tr>\n",
       "    <tr>\n",
       "      <th>2</th>\n",
       "      <td>2020-09-20 01:00:00+00:00</td>\n",
       "      <td>2020-09-20 00:00:00+00:00</td>\n",
       "      <td>0.445605</td>\n",
       "      <td>0.628867</td>\n",
       "      <td>0.473398</td>\n",
       "      <td>0.653457</td>\n",
       "      <td>0.360254</td>\n",
       "      <td>0.503105</td>\n",
       "      <td>0.552617</td>\n",
       "      <td>0.449980</td>\n",
       "      <td>...</td>\n",
       "      <td>15.444153</td>\n",
       "      <td>13.974152</td>\n",
       "      <td>2020-09-20 01:00:00+00:00</td>\n",
       "      <td>28.68</td>\n",
       "      <td>0.0</td>\n",
       "      <td>2130.537493</td>\n",
       "      <td>2228.208777</td>\n",
       "      <td>47.95</td>\n",
       "      <td>32.00</td>\n",
       "      <td>0.0</td>\n",
       "    </tr>\n",
       "    <tr>\n",
       "      <th>3</th>\n",
       "      <td>2020-09-20 01:30:00+00:00</td>\n",
       "      <td>2020-09-20 00:00:00+00:00</td>\n",
       "      <td>0.486719</td>\n",
       "      <td>0.649297</td>\n",
       "      <td>0.523574</td>\n",
       "      <td>0.652783</td>\n",
       "      <td>0.363057</td>\n",
       "      <td>0.717480</td>\n",
       "      <td>0.600264</td>\n",
       "      <td>0.453193</td>\n",
       "      <td>...</td>\n",
       "      <td>15.339874</td>\n",
       "      <td>14.039871</td>\n",
       "      <td>2020-09-20 01:30:00+00:00</td>\n",
       "      <td>28.97</td>\n",
       "      <td>0.0</td>\n",
       "      <td>2130.537493</td>\n",
       "      <td>2228.208777</td>\n",
       "      <td>29.13</td>\n",
       "      <td>32.00</td>\n",
       "      <td>0.0</td>\n",
       "    </tr>\n",
       "    <tr>\n",
       "      <th>4</th>\n",
       "      <td>2020-09-20 02:00:00+00:00</td>\n",
       "      <td>2020-09-20 00:00:00+00:00</td>\n",
       "      <td>0.527832</td>\n",
       "      <td>0.669727</td>\n",
       "      <td>0.573750</td>\n",
       "      <td>0.652109</td>\n",
       "      <td>0.365859</td>\n",
       "      <td>0.931855</td>\n",
       "      <td>0.647910</td>\n",
       "      <td>0.456406</td>\n",
       "      <td>...</td>\n",
       "      <td>15.235596</td>\n",
       "      <td>14.105591</td>\n",
       "      <td>2020-09-20 02:00:00+00:00</td>\n",
       "      <td>28.19</td>\n",
       "      <td>0.0</td>\n",
       "      <td>2130.537493</td>\n",
       "      <td>2228.208777</td>\n",
       "      <td>28.95</td>\n",
       "      <td>31.99</td>\n",
       "      <td>0.0</td>\n",
       "    </tr>\n",
       "  </tbody>\n",
       "</table>\n",
       "<p>5 rows × 104 columns</p>\n",
       "</div>"
      ],
      "text/plain": [
       "                  valid_time             reference_time  \\\n",
       "0  2020-09-20 00:00:00+00:00  2020-09-20 00:00:00+00:00   \n",
       "1  2020-09-20 00:30:00+00:00  2020-09-20 00:00:00+00:00   \n",
       "2  2020-09-20 01:00:00+00:00  2020-09-20 00:00:00+00:00   \n",
       "3  2020-09-20 01:30:00+00:00  2020-09-20 00:00:00+00:00   \n",
       "4  2020-09-20 02:00:00+00:00  2020-09-20 00:00:00+00:00   \n",
       "\n",
       "   CloudCover_Point0_dwd  CloudCover_Point1_dwd  CloudCover_Point2_dwd  \\\n",
       "0               0.426270               0.647109               0.335176   \n",
       "1               0.435937               0.637988               0.404287   \n",
       "2               0.445605               0.628867               0.473398   \n",
       "3               0.486719               0.649297               0.523574   \n",
       "4               0.527832               0.669727               0.573750   \n",
       "\n",
       "   CloudCover_Point3_dwd  CloudCover_Point4_dwd  CloudCover_Point5_dwd  \\\n",
       "0               0.652109               0.333633               0.324512   \n",
       "1               0.652783               0.346943               0.413809   \n",
       "2               0.653457               0.360254               0.503105   \n",
       "3               0.652783               0.363057               0.717480   \n",
       "4               0.652109               0.365859               0.931855   \n",
       "\n",
       "   CloudCover_Point6_dwd  CloudCover_Point7_dwd  ...  \\\n",
       "0               0.551094               0.427949  ...   \n",
       "1               0.551855               0.438965  ...   \n",
       "2               0.552617               0.449980  ...   \n",
       "3               0.600264               0.453193  ...   \n",
       "4               0.647910               0.456406  ...   \n",
       "\n",
       "   Temperature_Point5_ncep_pes10  Temperature_Point6_ncep_pes10  \\\n",
       "0                      15.550018                      13.950012   \n",
       "1                      15.497086                      13.962082   \n",
       "2                      15.444153                      13.974152   \n",
       "3                      15.339874                      14.039871   \n",
       "4                      15.235596                      14.105591   \n",
       "\n",
       "                         dtm    MIP  Solar_MW  Solar_capacity_mwp  \\\n",
       "0  2020-09-20 00:00:00+00:00  20.06       0.0         2130.537493   \n",
       "1  2020-09-20 00:30:00+00:00  19.77       0.0         2130.537493   \n",
       "2  2020-09-20 01:00:00+00:00  28.68       0.0         2130.537493   \n",
       "3  2020-09-20 01:30:00+00:00  28.97       0.0         2130.537493   \n",
       "4  2020-09-20 02:00:00+00:00  28.19       0.0         2130.537493   \n",
       "\n",
       "   Solar_installedcapacity_mwp  SS_Price  DA_Price  Solar_MWh_credit  \n",
       "0                  2228.208777      2.50     32.17               0.0  \n",
       "1                  2228.208777     15.00     32.17               0.0  \n",
       "2                  2228.208777     47.95     32.00               0.0  \n",
       "3                  2228.208777     29.13     32.00               0.0  \n",
       "4                  2228.208777     28.95     31.99               0.0  \n",
       "\n",
       "[5 rows x 104 columns]"
      ]
     },
     "execution_count": 13,
     "metadata": {},
     "output_type": "execute_result"
    }
   ],
   "source": [
    "df_solar = pd.read_csv('D:/Users/paulh/Desktop/Domäneprojekt2/Energy_production_price_prediction/HEFTcom24/data/solar.csv')\n",
    "df_solar.drop(columns=['Unnamed: 0','boa_MWh','Wind_MW','Wind_MWh_credit'], inplace=True)\n",
    "df_solar.head()"
   ]
  },
  {
   "cell_type": "code",
   "execution_count": 14,
   "metadata": {
    "vscode": {
     "languageId": "ruby"
    }
   },
   "outputs": [
    {
     "data": {
      "text/html": [
       "<div>\n",
       "<style scoped>\n",
       "    .dataframe tbody tr th:only-of-type {\n",
       "        vertical-align: middle;\n",
       "    }\n",
       "\n",
       "    .dataframe tbody tr th {\n",
       "        vertical-align: top;\n",
       "    }\n",
       "\n",
       "    .dataframe thead th {\n",
       "        text-align: right;\n",
       "    }\n",
       "</style>\n",
       "<table border=\"1\" class=\"dataframe\">\n",
       "  <thead>\n",
       "    <tr style=\"text-align: right;\">\n",
       "      <th></th>\n",
       "      <th>valid_time</th>\n",
       "      <th>reference_time</th>\n",
       "      <th>CloudCover_Point0_dwd</th>\n",
       "      <th>CloudCover_Point1_dwd</th>\n",
       "      <th>CloudCover_Point2_dwd</th>\n",
       "      <th>CloudCover_Point3_dwd</th>\n",
       "      <th>CloudCover_Point4_dwd</th>\n",
       "      <th>CloudCover_Point5_dwd</th>\n",
       "      <th>CloudCover_Point6_dwd</th>\n",
       "      <th>CloudCover_Point7_dwd</th>\n",
       "      <th>...</th>\n",
       "      <th>Temperature_Point5_ncep_pes10</th>\n",
       "      <th>Temperature_Point6_ncep_pes10</th>\n",
       "      <th>dtm</th>\n",
       "      <th>MIP</th>\n",
       "      <th>Solar_MW</th>\n",
       "      <th>Solar_capacity_mwp</th>\n",
       "      <th>Solar_installedcapacity_mwp</th>\n",
       "      <th>SS_Price</th>\n",
       "      <th>DA_Price</th>\n",
       "      <th>Solar_MWh_credit</th>\n",
       "    </tr>\n",
       "  </thead>\n",
       "  <tbody>\n",
       "    <tr>\n",
       "      <th>0</th>\n",
       "      <td>2020-09-20 00:00:00+00:00</td>\n",
       "      <td>2020-09-20 00:00:00+00:00</td>\n",
       "      <td>0.426270</td>\n",
       "      <td>0.647109</td>\n",
       "      <td>0.335176</td>\n",
       "      <td>0.652109</td>\n",
       "      <td>0.333633</td>\n",
       "      <td>0.324512</td>\n",
       "      <td>0.551094</td>\n",
       "      <td>0.427949</td>\n",
       "      <td>...</td>\n",
       "      <td>15.550018</td>\n",
       "      <td>13.950012</td>\n",
       "      <td>2020-09-20 00:00:00+00:00</td>\n",
       "      <td>20.06</td>\n",
       "      <td>0.0</td>\n",
       "      <td>2130.537493</td>\n",
       "      <td>2228.208777</td>\n",
       "      <td>2.50000</td>\n",
       "      <td>32.17</td>\n",
       "      <td>0.0</td>\n",
       "    </tr>\n",
       "    <tr>\n",
       "      <th>1</th>\n",
       "      <td>2020-09-20 00:30:00+00:00</td>\n",
       "      <td>2020-09-20 00:00:00+00:00</td>\n",
       "      <td>0.435937</td>\n",
       "      <td>0.637988</td>\n",
       "      <td>0.404287</td>\n",
       "      <td>0.652783</td>\n",
       "      <td>0.346943</td>\n",
       "      <td>0.413809</td>\n",
       "      <td>0.551855</td>\n",
       "      <td>0.438965</td>\n",
       "      <td>...</td>\n",
       "      <td>15.497086</td>\n",
       "      <td>13.962082</td>\n",
       "      <td>2020-09-20 00:30:00+00:00</td>\n",
       "      <td>19.77</td>\n",
       "      <td>0.0</td>\n",
       "      <td>2130.537493</td>\n",
       "      <td>2228.208777</td>\n",
       "      <td>15.00000</td>\n",
       "      <td>32.17</td>\n",
       "      <td>0.0</td>\n",
       "    </tr>\n",
       "    <tr>\n",
       "      <th>2</th>\n",
       "      <td>2020-09-20 01:00:00+00:00</td>\n",
       "      <td>2020-09-20 00:00:00+00:00</td>\n",
       "      <td>0.445605</td>\n",
       "      <td>0.628867</td>\n",
       "      <td>0.473398</td>\n",
       "      <td>0.653457</td>\n",
       "      <td>0.360254</td>\n",
       "      <td>0.503105</td>\n",
       "      <td>0.552617</td>\n",
       "      <td>0.449980</td>\n",
       "      <td>...</td>\n",
       "      <td>15.444153</td>\n",
       "      <td>13.974152</td>\n",
       "      <td>2020-09-20 01:00:00+00:00</td>\n",
       "      <td>28.68</td>\n",
       "      <td>0.0</td>\n",
       "      <td>2130.537493</td>\n",
       "      <td>2228.208777</td>\n",
       "      <td>47.95000</td>\n",
       "      <td>32.00</td>\n",
       "      <td>0.0</td>\n",
       "    </tr>\n",
       "    <tr>\n",
       "      <th>3</th>\n",
       "      <td>2020-09-20 01:30:00+00:00</td>\n",
       "      <td>2020-09-20 00:00:00+00:00</td>\n",
       "      <td>0.486719</td>\n",
       "      <td>0.649297</td>\n",
       "      <td>0.523574</td>\n",
       "      <td>0.652783</td>\n",
       "      <td>0.363057</td>\n",
       "      <td>0.717480</td>\n",
       "      <td>0.600264</td>\n",
       "      <td>0.453193</td>\n",
       "      <td>...</td>\n",
       "      <td>15.339874</td>\n",
       "      <td>14.039871</td>\n",
       "      <td>2020-09-20 01:30:00+00:00</td>\n",
       "      <td>28.97</td>\n",
       "      <td>0.0</td>\n",
       "      <td>2130.537493</td>\n",
       "      <td>2228.208777</td>\n",
       "      <td>29.13000</td>\n",
       "      <td>32.00</td>\n",
       "      <td>0.0</td>\n",
       "    </tr>\n",
       "    <tr>\n",
       "      <th>4</th>\n",
       "      <td>2020-09-20 02:00:00+00:00</td>\n",
       "      <td>2020-09-20 00:00:00+00:00</td>\n",
       "      <td>0.527832</td>\n",
       "      <td>0.669727</td>\n",
       "      <td>0.573750</td>\n",
       "      <td>0.652109</td>\n",
       "      <td>0.365859</td>\n",
       "      <td>0.931855</td>\n",
       "      <td>0.647910</td>\n",
       "      <td>0.456406</td>\n",
       "      <td>...</td>\n",
       "      <td>15.235596</td>\n",
       "      <td>14.105591</td>\n",
       "      <td>2020-09-20 02:00:00+00:00</td>\n",
       "      <td>28.19</td>\n",
       "      <td>0.0</td>\n",
       "      <td>2130.537493</td>\n",
       "      <td>2228.208777</td>\n",
       "      <td>28.95000</td>\n",
       "      <td>31.99</td>\n",
       "      <td>0.0</td>\n",
       "    </tr>\n",
       "    <tr>\n",
       "      <th>...</th>\n",
       "      <td>...</td>\n",
       "      <td>...</td>\n",
       "      <td>...</td>\n",
       "      <td>...</td>\n",
       "      <td>...</td>\n",
       "      <td>...</td>\n",
       "      <td>...</td>\n",
       "      <td>...</td>\n",
       "      <td>...</td>\n",
       "      <td>...</td>\n",
       "      <td>...</td>\n",
       "      <td>...</td>\n",
       "      <td>...</td>\n",
       "      <td>...</td>\n",
       "      <td>...</td>\n",
       "      <td>...</td>\n",
       "      <td>...</td>\n",
       "      <td>...</td>\n",
       "      <td>...</td>\n",
       "      <td>...</td>\n",
       "      <td>...</td>\n",
       "    </tr>\n",
       "    <tr>\n",
       "      <th>529625</th>\n",
       "      <td>2024-05-19 21:30:00+00:00</td>\n",
       "      <td>2024-05-19 00:00:00+00:00</td>\n",
       "      <td>0.000000</td>\n",
       "      <td>0.014082</td>\n",
       "      <td>0.000000</td>\n",
       "      <td>0.022842</td>\n",
       "      <td>0.122002</td>\n",
       "      <td>0.000000</td>\n",
       "      <td>0.000000</td>\n",
       "      <td>0.000000</td>\n",
       "      <td>...</td>\n",
       "      <td>9.708389</td>\n",
       "      <td>9.258392</td>\n",
       "      <td>2024-05-19 21:30:00+00:00</td>\n",
       "      <td>77.40</td>\n",
       "      <td>0.0</td>\n",
       "      <td>2573.542092</td>\n",
       "      <td>2741.831037</td>\n",
       "      <td>56.20000</td>\n",
       "      <td>76.81</td>\n",
       "      <td>0.0</td>\n",
       "    </tr>\n",
       "    <tr>\n",
       "      <th>529626</th>\n",
       "      <td>2024-05-19 22:00:00+00:00</td>\n",
       "      <td>2024-05-19 00:00:00+00:00</td>\n",
       "      <td>0.000000</td>\n",
       "      <td>0.028164</td>\n",
       "      <td>0.000000</td>\n",
       "      <td>0.045684</td>\n",
       "      <td>0.084766</td>\n",
       "      <td>0.000000</td>\n",
       "      <td>0.000000</td>\n",
       "      <td>0.000000</td>\n",
       "      <td>...</td>\n",
       "      <td>9.502106</td>\n",
       "      <td>9.102112</td>\n",
       "      <td>2024-05-19 22:00:00+00:00</td>\n",
       "      <td>80.82</td>\n",
       "      <td>0.0</td>\n",
       "      <td>2573.542092</td>\n",
       "      <td>2741.831037</td>\n",
       "      <td>102.00023</td>\n",
       "      <td>71.11</td>\n",
       "      <td>0.0</td>\n",
       "    </tr>\n",
       "    <tr>\n",
       "      <th>529627</th>\n",
       "      <td>2024-05-19 22:30:00+00:00</td>\n",
       "      <td>2024-05-19 00:00:00+00:00</td>\n",
       "      <td>0.000752</td>\n",
       "      <td>0.150234</td>\n",
       "      <td>0.013252</td>\n",
       "      <td>0.124473</td>\n",
       "      <td>0.048242</td>\n",
       "      <td>0.000000</td>\n",
       "      <td>0.000000</td>\n",
       "      <td>0.000000</td>\n",
       "      <td>...</td>\n",
       "      <td>9.330185</td>\n",
       "      <td>8.980179</td>\n",
       "      <td>2024-05-19 22:30:00+00:00</td>\n",
       "      <td>75.69</td>\n",
       "      <td>0.0</td>\n",
       "      <td>2573.542092</td>\n",
       "      <td>2741.831037</td>\n",
       "      <td>99.00000</td>\n",
       "      <td>71.11</td>\n",
       "      <td>0.0</td>\n",
       "    </tr>\n",
       "    <tr>\n",
       "      <th>529628</th>\n",
       "      <td>2024-05-19 23:00:00+00:00</td>\n",
       "      <td>2024-05-19 00:00:00+00:00</td>\n",
       "      <td>0.001504</td>\n",
       "      <td>0.272305</td>\n",
       "      <td>0.026504</td>\n",
       "      <td>0.203262</td>\n",
       "      <td>0.011719</td>\n",
       "      <td>0.000000</td>\n",
       "      <td>0.000000</td>\n",
       "      <td>0.000000</td>\n",
       "      <td>...</td>\n",
       "      <td>9.158264</td>\n",
       "      <td>8.858246</td>\n",
       "      <td>2024-05-19 23:00:00+00:00</td>\n",
       "      <td>78.98</td>\n",
       "      <td>0.0</td>\n",
       "      <td>2573.542092</td>\n",
       "      <td>2741.831037</td>\n",
       "      <td>106.44988</td>\n",
       "      <td>66.51</td>\n",
       "      <td>0.0</td>\n",
       "    </tr>\n",
       "    <tr>\n",
       "      <th>529629</th>\n",
       "      <td>2024-05-19 23:30:00+00:00</td>\n",
       "      <td>2024-05-19 00:00:00+00:00</td>\n",
       "      <td>0.037021</td>\n",
       "      <td>0.352744</td>\n",
       "      <td>0.172363</td>\n",
       "      <td>0.297510</td>\n",
       "      <td>0.005859</td>\n",
       "      <td>0.000000</td>\n",
       "      <td>0.049004</td>\n",
       "      <td>0.000000</td>\n",
       "      <td>...</td>\n",
       "      <td>8.951035</td>\n",
       "      <td>8.851028</td>\n",
       "      <td>2024-05-19 23:30:00+00:00</td>\n",
       "      <td>78.44</td>\n",
       "      <td>0.0</td>\n",
       "      <td>2573.482016</td>\n",
       "      <td>2741.831037</td>\n",
       "      <td>70.67000</td>\n",
       "      <td>66.51</td>\n",
       "      <td>0.0</td>\n",
       "    </tr>\n",
       "  </tbody>\n",
       "</table>\n",
       "<p>63621 rows × 104 columns</p>\n",
       "</div>"
      ],
      "text/plain": [
       "                       valid_time             reference_time  \\\n",
       "0       2020-09-20 00:00:00+00:00  2020-09-20 00:00:00+00:00   \n",
       "1       2020-09-20 00:30:00+00:00  2020-09-20 00:00:00+00:00   \n",
       "2       2020-09-20 01:00:00+00:00  2020-09-20 00:00:00+00:00   \n",
       "3       2020-09-20 01:30:00+00:00  2020-09-20 00:00:00+00:00   \n",
       "4       2020-09-20 02:00:00+00:00  2020-09-20 00:00:00+00:00   \n",
       "...                           ...                        ...   \n",
       "529625  2024-05-19 21:30:00+00:00  2024-05-19 00:00:00+00:00   \n",
       "529626  2024-05-19 22:00:00+00:00  2024-05-19 00:00:00+00:00   \n",
       "529627  2024-05-19 22:30:00+00:00  2024-05-19 00:00:00+00:00   \n",
       "529628  2024-05-19 23:00:00+00:00  2024-05-19 00:00:00+00:00   \n",
       "529629  2024-05-19 23:30:00+00:00  2024-05-19 00:00:00+00:00   \n",
       "\n",
       "        CloudCover_Point0_dwd  CloudCover_Point1_dwd  CloudCover_Point2_dwd  \\\n",
       "0                    0.426270               0.647109               0.335176   \n",
       "1                    0.435937               0.637988               0.404287   \n",
       "2                    0.445605               0.628867               0.473398   \n",
       "3                    0.486719               0.649297               0.523574   \n",
       "4                    0.527832               0.669727               0.573750   \n",
       "...                       ...                    ...                    ...   \n",
       "529625               0.000000               0.014082               0.000000   \n",
       "529626               0.000000               0.028164               0.000000   \n",
       "529627               0.000752               0.150234               0.013252   \n",
       "529628               0.001504               0.272305               0.026504   \n",
       "529629               0.037021               0.352744               0.172363   \n",
       "\n",
       "        CloudCover_Point3_dwd  CloudCover_Point4_dwd  CloudCover_Point5_dwd  \\\n",
       "0                    0.652109               0.333633               0.324512   \n",
       "1                    0.652783               0.346943               0.413809   \n",
       "2                    0.653457               0.360254               0.503105   \n",
       "3                    0.652783               0.363057               0.717480   \n",
       "4                    0.652109               0.365859               0.931855   \n",
       "...                       ...                    ...                    ...   \n",
       "529625               0.022842               0.122002               0.000000   \n",
       "529626               0.045684               0.084766               0.000000   \n",
       "529627               0.124473               0.048242               0.000000   \n",
       "529628               0.203262               0.011719               0.000000   \n",
       "529629               0.297510               0.005859               0.000000   \n",
       "\n",
       "        CloudCover_Point6_dwd  CloudCover_Point7_dwd  ...  \\\n",
       "0                    0.551094               0.427949  ...   \n",
       "1                    0.551855               0.438965  ...   \n",
       "2                    0.552617               0.449980  ...   \n",
       "3                    0.600264               0.453193  ...   \n",
       "4                    0.647910               0.456406  ...   \n",
       "...                       ...                    ...  ...   \n",
       "529625               0.000000               0.000000  ...   \n",
       "529626               0.000000               0.000000  ...   \n",
       "529627               0.000000               0.000000  ...   \n",
       "529628               0.000000               0.000000  ...   \n",
       "529629               0.049004               0.000000  ...   \n",
       "\n",
       "        Temperature_Point5_ncep_pes10  Temperature_Point6_ncep_pes10  \\\n",
       "0                           15.550018                      13.950012   \n",
       "1                           15.497086                      13.962082   \n",
       "2                           15.444153                      13.974152   \n",
       "3                           15.339874                      14.039871   \n",
       "4                           15.235596                      14.105591   \n",
       "...                               ...                            ...   \n",
       "529625                       9.708389                       9.258392   \n",
       "529626                       9.502106                       9.102112   \n",
       "529627                       9.330185                       8.980179   \n",
       "529628                       9.158264                       8.858246   \n",
       "529629                       8.951035                       8.851028   \n",
       "\n",
       "                              dtm    MIP  Solar_MW  Solar_capacity_mwp  \\\n",
       "0       2020-09-20 00:00:00+00:00  20.06       0.0         2130.537493   \n",
       "1       2020-09-20 00:30:00+00:00  19.77       0.0         2130.537493   \n",
       "2       2020-09-20 01:00:00+00:00  28.68       0.0         2130.537493   \n",
       "3       2020-09-20 01:30:00+00:00  28.97       0.0         2130.537493   \n",
       "4       2020-09-20 02:00:00+00:00  28.19       0.0         2130.537493   \n",
       "...                           ...    ...       ...                 ...   \n",
       "529625  2024-05-19 21:30:00+00:00  77.40       0.0         2573.542092   \n",
       "529626  2024-05-19 22:00:00+00:00  80.82       0.0         2573.542092   \n",
       "529627  2024-05-19 22:30:00+00:00  75.69       0.0         2573.542092   \n",
       "529628  2024-05-19 23:00:00+00:00  78.98       0.0         2573.542092   \n",
       "529629  2024-05-19 23:30:00+00:00  78.44       0.0         2573.482016   \n",
       "\n",
       "        Solar_installedcapacity_mwp   SS_Price  DA_Price  Solar_MWh_credit  \n",
       "0                       2228.208777    2.50000     32.17               0.0  \n",
       "1                       2228.208777   15.00000     32.17               0.0  \n",
       "2                       2228.208777   47.95000     32.00               0.0  \n",
       "3                       2228.208777   29.13000     32.00               0.0  \n",
       "4                       2228.208777   28.95000     31.99               0.0  \n",
       "...                             ...        ...       ...               ...  \n",
       "529625                  2741.831037   56.20000     76.81               0.0  \n",
       "529626                  2741.831037  102.00023     71.11               0.0  \n",
       "529627                  2741.831037   99.00000     71.11               0.0  \n",
       "529628                  2741.831037  106.44988     66.51               0.0  \n",
       "529629                  2741.831037   70.67000     66.51               0.0  \n",
       "\n",
       "[63621 rows x 104 columns]"
      ]
     },
     "execution_count": 14,
     "metadata": {},
     "output_type": "execute_result"
    }
   ],
   "source": [
    "# Sort the DataFrame by 'valid_time' and 'reference_time'\n",
    "df_solar_sorted = df_solar.sort_values(by=['valid_time', 'reference_time'], ascending=[True, False])\n",
    "\n",
    "# Drop duplicates, keeping the last entry for each 'valid_time'\n",
    "df_solar_unique = df_solar_sorted.drop_duplicates(subset=['valid_time'], keep='first')\n",
    "\n",
    "# Display the cleaned DataFrame\n",
    "df_solar_unique"
   ]
  },
  {
   "cell_type": "code",
   "execution_count": 15,
   "metadata": {
    "vscode": {
     "languageId": "ruby"
    }
   },
   "outputs": [
    {
     "name": "stderr",
     "output_type": "stream",
     "text": [
      "C:\\Users\\paulh\\AppData\\Local\\Temp\\ipykernel_22732\\927169903.py:2: SettingWithCopyWarning:\n",
      "\n",
      "\n",
      "A value is trying to be set on a copy of a slice from a DataFrame.\n",
      "Try using .loc[row_indexer,col_indexer] = value instead\n",
      "\n",
      "See the caveats in the documentation: https://pandas.pydata.org/pandas-docs/stable/user_guide/indexing.html#returning-a-view-versus-a-copy\n",
      "\n",
      "C:\\Users\\paulh\\AppData\\Local\\Temp\\ipykernel_22732\\927169903.py:3: SettingWithCopyWarning:\n",
      "\n",
      "\n",
      "A value is trying to be set on a copy of a slice from a DataFrame.\n",
      "Try using .loc[row_indexer,col_indexer] = value instead\n",
      "\n",
      "See the caveats in the documentation: https://pandas.pydata.org/pandas-docs/stable/user_guide/indexing.html#returning-a-view-versus-a-copy\n",
      "\n",
      "C:\\Users\\paulh\\AppData\\Local\\Temp\\ipykernel_22732\\927169903.py:5: SettingWithCopyWarning:\n",
      "\n",
      "\n",
      "A value is trying to be set on a copy of a slice from a DataFrame.\n",
      "Try using .loc[row_indexer,col_indexer] = value instead\n",
      "\n",
      "See the caveats in the documentation: https://pandas.pydata.org/pandas-docs/stable/user_guide/indexing.html#returning-a-view-versus-a-copy\n",
      "\n",
      "C:\\Users\\paulh\\AppData\\Local\\Temp\\ipykernel_22732\\927169903.py:6: SettingWithCopyWarning:\n",
      "\n",
      "\n",
      "A value is trying to be set on a copy of a slice from a DataFrame.\n",
      "Try using .loc[row_indexer,col_indexer] = value instead\n",
      "\n",
      "See the caveats in the documentation: https://pandas.pydata.org/pandas-docs/stable/user_guide/indexing.html#returning-a-view-versus-a-copy\n",
      "\n",
      "C:\\Users\\paulh\\AppData\\Local\\Temp\\ipykernel_22732\\927169903.py:9: SettingWithCopyWarning:\n",
      "\n",
      "\n",
      "A value is trying to be set on a copy of a slice from a DataFrame.\n",
      "Try using .loc[row_indexer,col_indexer] = value instead\n",
      "\n",
      "See the caveats in the documentation: https://pandas.pydata.org/pandas-docs/stable/user_guide/indexing.html#returning-a-view-versus-a-copy\n",
      "\n",
      "C:\\Users\\paulh\\AppData\\Local\\Temp\\ipykernel_22732\\927169903.py:10: SettingWithCopyWarning:\n",
      "\n",
      "\n",
      "A value is trying to be set on a copy of a slice from a DataFrame.\n",
      "Try using .loc[row_indexer,col_indexer] = value instead\n",
      "\n",
      "See the caveats in the documentation: https://pandas.pydata.org/pandas-docs/stable/user_guide/indexing.html#returning-a-view-versus-a-copy\n",
      "\n",
      "C:\\Users\\paulh\\AppData\\Local\\Temp\\ipykernel_22732\\927169903.py:13: SettingWithCopyWarning:\n",
      "\n",
      "\n",
      "A value is trying to be set on a copy of a slice from a DataFrame.\n",
      "Try using .loc[row_indexer,col_indexer] = value instead\n",
      "\n",
      "See the caveats in the documentation: https://pandas.pydata.org/pandas-docs/stable/user_guide/indexing.html#returning-a-view-versus-a-copy\n",
      "\n",
      "C:\\Users\\paulh\\AppData\\Local\\Temp\\ipykernel_22732\\927169903.py:14: SettingWithCopyWarning:\n",
      "\n",
      "\n",
      "A value is trying to be set on a copy of a slice from a DataFrame.\n",
      "Try using .loc[row_indexer,col_indexer] = value instead\n",
      "\n",
      "See the caveats in the documentation: https://pandas.pydata.org/pandas-docs/stable/user_guide/indexing.html#returning-a-view-versus-a-copy\n",
      "\n",
      "C:\\Users\\paulh\\AppData\\Local\\Temp\\ipykernel_22732\\927169903.py:17: SettingWithCopyWarning:\n",
      "\n",
      "\n",
      "A value is trying to be set on a copy of a slice from a DataFrame.\n",
      "Try using .loc[row_indexer,col_indexer] = value instead\n",
      "\n",
      "See the caveats in the documentation: https://pandas.pydata.org/pandas-docs/stable/user_guide/indexing.html#returning-a-view-versus-a-copy\n",
      "\n",
      "C:\\Users\\paulh\\AppData\\Local\\Temp\\ipykernel_22732\\927169903.py:18: SettingWithCopyWarning:\n",
      "\n",
      "\n",
      "A value is trying to be set on a copy of a slice from a DataFrame.\n",
      "Try using .loc[row_indexer,col_indexer] = value instead\n",
      "\n",
      "See the caveats in the documentation: https://pandas.pydata.org/pandas-docs/stable/user_guide/indexing.html#returning-a-view-versus-a-copy\n",
      "\n",
      "C:\\Users\\paulh\\AppData\\Local\\Temp\\ipykernel_22732\\927169903.py:21: SettingWithCopyWarning:\n",
      "\n",
      "\n",
      "A value is trying to be set on a copy of a slice from a DataFrame.\n",
      "Try using .loc[row_indexer,col_indexer] = value instead\n",
      "\n",
      "See the caveats in the documentation: https://pandas.pydata.org/pandas-docs/stable/user_guide/indexing.html#returning-a-view-versus-a-copy\n",
      "\n",
      "C:\\Users\\paulh\\AppData\\Local\\Temp\\ipykernel_22732\\927169903.py:22: SettingWithCopyWarning:\n",
      "\n",
      "\n",
      "A value is trying to be set on a copy of a slice from a DataFrame.\n",
      "Try using .loc[row_indexer,col_indexer] = value instead\n",
      "\n",
      "See the caveats in the documentation: https://pandas.pydata.org/pandas-docs/stable/user_guide/indexing.html#returning-a-view-versus-a-copy\n",
      "\n",
      "C:\\Users\\paulh\\AppData\\Local\\Temp\\ipykernel_22732\\927169903.py:25: SettingWithCopyWarning:\n",
      "\n",
      "\n",
      "A value is trying to be set on a copy of a slice from a DataFrame.\n",
      "Try using .loc[row_indexer,col_indexer] = value instead\n",
      "\n",
      "See the caveats in the documentation: https://pandas.pydata.org/pandas-docs/stable/user_guide/indexing.html#returning-a-view-versus-a-copy\n",
      "\n",
      "C:\\Users\\paulh\\AppData\\Local\\Temp\\ipykernel_22732\\927169903.py:26: SettingWithCopyWarning:\n",
      "\n",
      "\n",
      "A value is trying to be set on a copy of a slice from a DataFrame.\n",
      "Try using .loc[row_indexer,col_indexer] = value instead\n",
      "\n",
      "See the caveats in the documentation: https://pandas.pydata.org/pandas-docs/stable/user_guide/indexing.html#returning-a-view-versus-a-copy\n",
      "\n",
      "C:\\Users\\paulh\\AppData\\Local\\Temp\\ipykernel_22732\\927169903.py:29: SettingWithCopyWarning:\n",
      "\n",
      "\n",
      "A value is trying to be set on a copy of a slice from a DataFrame.\n",
      "Try using .loc[row_indexer,col_indexer] = value instead\n",
      "\n",
      "See the caveats in the documentation: https://pandas.pydata.org/pandas-docs/stable/user_guide/indexing.html#returning-a-view-versus-a-copy\n",
      "\n",
      "C:\\Users\\paulh\\AppData\\Local\\Temp\\ipykernel_22732\\927169903.py:30: SettingWithCopyWarning:\n",
      "\n",
      "\n",
      "A value is trying to be set on a copy of a slice from a DataFrame.\n",
      "Try using .loc[row_indexer,col_indexer] = value instead\n",
      "\n",
      "See the caveats in the documentation: https://pandas.pydata.org/pandas-docs/stable/user_guide/indexing.html#returning-a-view-versus-a-copy\n",
      "\n",
      "C:\\Users\\paulh\\AppData\\Local\\Temp\\ipykernel_22732\\927169903.py:33: SettingWithCopyWarning:\n",
      "\n",
      "\n",
      "A value is trying to be set on a copy of a slice from a DataFrame.\n",
      "Try using .loc[row_indexer,col_indexer] = value instead\n",
      "\n",
      "See the caveats in the documentation: https://pandas.pydata.org/pandas-docs/stable/user_guide/indexing.html#returning-a-view-versus-a-copy\n",
      "\n",
      "C:\\Users\\paulh\\AppData\\Local\\Temp\\ipykernel_22732\\927169903.py:34: SettingWithCopyWarning:\n",
      "\n",
      "\n",
      "A value is trying to be set on a copy of a slice from a DataFrame.\n",
      "Try using .loc[row_indexer,col_indexer] = value instead\n",
      "\n",
      "See the caveats in the documentation: https://pandas.pydata.org/pandas-docs/stable/user_guide/indexing.html#returning-a-view-versus-a-copy\n",
      "\n",
      "C:\\Users\\paulh\\AppData\\Local\\Temp\\ipykernel_22732\\927169903.py:37: SettingWithCopyWarning:\n",
      "\n",
      "\n",
      "A value is trying to be set on a copy of a slice from a DataFrame.\n",
      "Try using .loc[row_indexer,col_indexer] = value instead\n",
      "\n",
      "See the caveats in the documentation: https://pandas.pydata.org/pandas-docs/stable/user_guide/indexing.html#returning-a-view-versus-a-copy\n",
      "\n",
      "C:\\Users\\paulh\\AppData\\Local\\Temp\\ipykernel_22732\\927169903.py:38: SettingWithCopyWarning:\n",
      "\n",
      "\n",
      "A value is trying to be set on a copy of a slice from a DataFrame.\n",
      "Try using .loc[row_indexer,col_indexer] = value instead\n",
      "\n",
      "See the caveats in the documentation: https://pandas.pydata.org/pandas-docs/stable/user_guide/indexing.html#returning-a-view-versus-a-copy\n",
      "\n",
      "C:\\Users\\paulh\\AppData\\Local\\Temp\\ipykernel_22732\\927169903.py:42: SettingWithCopyWarning:\n",
      "\n",
      "\n",
      "A value is trying to be set on a copy of a slice from a DataFrame.\n",
      "Try using .loc[row_indexer,col_indexer] = value instead\n",
      "\n",
      "See the caveats in the documentation: https://pandas.pydata.org/pandas-docs/stable/user_guide/indexing.html#returning-a-view-versus-a-copy\n",
      "\n",
      "C:\\Users\\paulh\\AppData\\Local\\Temp\\ipykernel_22732\\927169903.py:45: SettingWithCopyWarning:\n",
      "\n",
      "\n",
      "A value is trying to be set on a copy of a slice from a DataFrame.\n",
      "Try using .loc[row_indexer,col_indexer] = value instead\n",
      "\n",
      "See the caveats in the documentation: https://pandas.pydata.org/pandas-docs/stable/user_guide/indexing.html#returning-a-view-versus-a-copy\n",
      "\n",
      "C:\\Users\\paulh\\AppData\\Local\\Temp\\ipykernel_22732\\927169903.py:46: SettingWithCopyWarning:\n",
      "\n",
      "\n",
      "A value is trying to be set on a copy of a slice from a DataFrame.\n",
      "Try using .loc[row_indexer,col_indexer] = value instead\n",
      "\n",
      "See the caveats in the documentation: https://pandas.pydata.org/pandas-docs/stable/user_guide/indexing.html#returning-a-view-versus-a-copy\n",
      "\n",
      "C:\\Users\\paulh\\AppData\\Local\\Temp\\ipykernel_22732\\927169903.py:49: SettingWithCopyWarning:\n",
      "\n",
      "\n",
      "A value is trying to be set on a copy of a slice from a DataFrame.\n",
      "Try using .loc[row_indexer,col_indexer] = value instead\n",
      "\n",
      "See the caveats in the documentation: https://pandas.pydata.org/pandas-docs/stable/user_guide/indexing.html#returning-a-view-versus-a-copy\n",
      "\n",
      "C:\\Users\\paulh\\AppData\\Local\\Temp\\ipykernel_22732\\927169903.py:52: SettingWithCopyWarning:\n",
      "\n",
      "\n",
      "A value is trying to be set on a copy of a slice from a DataFrame.\n",
      "Try using .loc[row_indexer,col_indexer] = value instead\n",
      "\n",
      "See the caveats in the documentation: https://pandas.pydata.org/pandas-docs/stable/user_guide/indexing.html#returning-a-view-versus-a-copy\n",
      "\n",
      "C:\\Users\\paulh\\AppData\\Local\\Temp\\ipykernel_22732\\927169903.py:53: SettingWithCopyWarning:\n",
      "\n",
      "\n",
      "A value is trying to be set on a copy of a slice from a DataFrame.\n",
      "Try using .loc[row_indexer,col_indexer] = value instead\n",
      "\n",
      "See the caveats in the documentation: https://pandas.pydata.org/pandas-docs/stable/user_guide/indexing.html#returning-a-view-versus-a-copy\n",
      "\n",
      "C:\\Users\\paulh\\AppData\\Local\\Temp\\ipykernel_22732\\927169903.py:56: SettingWithCopyWarning:\n",
      "\n",
      "\n",
      "A value is trying to be set on a copy of a slice from a DataFrame.\n",
      "Try using .loc[row_indexer,col_indexer] = value instead\n",
      "\n",
      "See the caveats in the documentation: https://pandas.pydata.org/pandas-docs/stable/user_guide/indexing.html#returning-a-view-versus-a-copy\n",
      "\n",
      "C:\\Users\\paulh\\AppData\\Local\\Temp\\ipykernel_22732\\927169903.py:57: SettingWithCopyWarning:\n",
      "\n",
      "\n",
      "A value is trying to be set on a copy of a slice from a DataFrame.\n",
      "Try using .loc[row_indexer,col_indexer] = value instead\n",
      "\n",
      "See the caveats in the documentation: https://pandas.pydata.org/pandas-docs/stable/user_guide/indexing.html#returning-a-view-versus-a-copy\n",
      "\n",
      "C:\\Users\\paulh\\AppData\\Local\\Temp\\ipykernel_22732\\927169903.py:58: SettingWithCopyWarning:\n",
      "\n",
      "\n",
      "A value is trying to be set on a copy of a slice from a DataFrame.\n",
      "Try using .loc[row_indexer,col_indexer] = value instead\n",
      "\n",
      "See the caveats in the documentation: https://pandas.pydata.org/pandas-docs/stable/user_guide/indexing.html#returning-a-view-versus-a-copy\n",
      "\n",
      "C:\\Users\\paulh\\AppData\\Local\\Temp\\ipykernel_22732\\927169903.py:61: SettingWithCopyWarning:\n",
      "\n",
      "\n",
      "A value is trying to be set on a copy of a slice from a DataFrame.\n",
      "Try using .loc[row_indexer,col_indexer] = value instead\n",
      "\n",
      "See the caveats in the documentation: https://pandas.pydata.org/pandas-docs/stable/user_guide/indexing.html#returning-a-view-versus-a-copy\n",
      "\n",
      "C:\\Users\\paulh\\AppData\\Local\\Temp\\ipykernel_22732\\927169903.py:65: SettingWithCopyWarning:\n",
      "\n",
      "\n",
      "A value is trying to be set on a copy of a slice from a DataFrame.\n",
      "Try using .loc[row_indexer,col_indexer] = value instead\n",
      "\n",
      "See the caveats in the documentation: https://pandas.pydata.org/pandas-docs/stable/user_guide/indexing.html#returning-a-view-versus-a-copy\n",
      "\n",
      "C:\\Users\\paulh\\AppData\\Local\\Temp\\ipykernel_22732\\927169903.py:66: SettingWithCopyWarning:\n",
      "\n",
      "\n",
      "A value is trying to be set on a copy of a slice from a DataFrame.\n",
      "Try using .loc[row_indexer,col_indexer] = value instead\n",
      "\n",
      "See the caveats in the documentation: https://pandas.pydata.org/pandas-docs/stable/user_guide/indexing.html#returning-a-view-versus-a-copy\n",
      "\n",
      "C:\\Users\\paulh\\AppData\\Local\\Temp\\ipykernel_22732\\927169903.py:70: SettingWithCopyWarning:\n",
      "\n",
      "\n",
      "A value is trying to be set on a copy of a slice from a DataFrame.\n",
      "Try using .loc[row_indexer,col_indexer] = value instead\n",
      "\n",
      "See the caveats in the documentation: https://pandas.pydata.org/pandas-docs/stable/user_guide/indexing.html#returning-a-view-versus-a-copy\n",
      "\n",
      "C:\\Users\\paulh\\AppData\\Local\\Temp\\ipykernel_22732\\927169903.py:71: SettingWithCopyWarning:\n",
      "\n",
      "\n",
      "A value is trying to be set on a copy of a slice from a DataFrame.\n",
      "Try using .loc[row_indexer,col_indexer] = value instead\n",
      "\n",
      "See the caveats in the documentation: https://pandas.pydata.org/pandas-docs/stable/user_guide/indexing.html#returning-a-view-versus-a-copy\n",
      "\n"
     ]
    }
   ],
   "source": [
    "# Assume your data is in a pandas DataFrame called `df_solar_solar_solar`\n",
    "df_solar_unique.valid_time = pd.to_datetime(df_solar_unique.valid_time)\n",
    "df_solar_unique.reference_time = pd.to_datetime(df_solar_unique.reference_time)\n",
    "# 1. Mean Cloud Cover\n",
    "df_solar_unique['Mean_CloudCover_dwd'] = df_solar_unique[[f'CloudCover_Point{i}_dwd' for i in range(20)]].mean(axis=1)\n",
    "df_solar_unique['Mean_CloudCover_ncep'] = df_solar_unique[[f'CloudCover_Point{i}_ncep' for i in range(20)]].mean(axis=1)\n",
    "\n",
    "# 2. Mean Solar Radiation\n",
    "df_solar_unique['Mean_SolarRadiation_dwd'] = df_solar_unique[[f'SolarDownwardRadiation_Point{i}_dwd' for i in range(20)]].mean(axis=1)\n",
    "df_solar_unique['Mean_SolarRadiation_ncep'] = df_solar_unique[[f'SolarDownwardRadiation_Point{i}_ncep' for i in range(20)]].mean(axis=1)\n",
    "\n",
    "# 3. Mean Temperature\n",
    "df_solar_unique['Mean_Temperature_dwd'] = df_solar_unique[[f'Temperature_Point{i}_dwd_pes10' for i in range(7)]].mean(axis=1)\n",
    "df_solar_unique['Mean_Temperature_ncep'] = df_solar_unique[[f'Temperature_Point{i}_ncep_pes10' for i in range(7)]].mean(axis=1)\n",
    "\n",
    "# 4. Standard Deviation of Cloud Cover\n",
    "df_solar_unique['Std_CloudCover_dwd'] = df_solar_unique[[f'CloudCover_Point{i}_dwd' for i in range(20)]].std(axis=1)\n",
    "df_solar_unique['Std_CloudCover_ncep'] = df_solar_unique[[f'CloudCover_Point{i}_ncep' for i in range(20)]].std(axis=1)\n",
    "\n",
    "# 5. Max-Min Cloud Cover Gradient\n",
    "df_solar_unique['CloudCover_Gradient_dwd'] = df_solar_unique[[f'CloudCover_Point{i}_dwd' for i in range(20)]].max(axis=1) - df_solar_unique[[f'CloudCover_Point{i}_dwd' for i in range(20)]].min(axis=1)\n",
    "df_solar_unique['CloudCover_Gradient_ncep'] = df_solar_unique[[f'CloudCover_Point{i}_ncep' for i in range(20)]].max(axis=1) - df_solar_unique[[f'CloudCover_Point{i}_ncep' for i in range(20)]].min(axis=1)\n",
    "\n",
    "# 6. Solar Radiation Change Over Points (e.g., Point 19 - Point 0)\n",
    "df_solar_unique['SolarRadiation_Change_dwd'] = df_solar_unique['SolarDownwardRadiation_Point19_dwd'] - df_solar_unique['SolarDownwardRadiation_Point0_dwd']\n",
    "df_solar_unique['SolarRadiation_Change_ncep'] = df_solar_unique['SolarDownwardRadiation_Point19_ncep'] - df_solar_unique['SolarDownwardRadiation_Point0_ncep']\n",
    "\n",
    "# 7. Cloud Cover x Solar Radiation Interaction\n",
    "df_solar_unique['CloudCover_SolarInteraction_dwd'] = df_solar_unique['Mean_CloudCover_dwd'] * df_solar_unique['Mean_SolarRadiation_dwd']\n",
    "df_solar_unique['CloudCover_SolarInteraction_ncep'] = df_solar_unique['Mean_CloudCover_ncep'] * df_solar_unique['Mean_SolarRadiation_ncep']\n",
    "\n",
    "# 8. Temperature x Solar Radiation Interaction\n",
    "df_solar_unique['Temp_SolarInteraction_dwd'] = df_solar_unique['Mean_Temperature_dwd'] * df_solar_unique['Mean_SolarRadiation_dwd']\n",
    "df_solar_unique['Temp_SolarInteraction_ncep'] = df_solar_unique['Mean_Temperature_ncep'] * df_solar_unique['Mean_SolarRadiation_ncep']\n",
    "\n",
    "# 9. Cloud Cover x Temperature Interaction\n",
    "df_solar_unique['Cloud_TemperatureInteraction_dwd'] = df_solar_unique['Mean_CloudCover_dwd'] * df_solar_unique['Mean_Temperature_dwd']\n",
    "df_solar_unique['Cloud_TemperatureInteraction_ncep'] = df_solar_unique['Mean_CloudCover_ncep'] * df_solar_unique['Mean_Temperature_ncep']\n",
    "\n",
    "# 10. Temporal Features\n",
    "# Extracting hour of the day from 'valid_time'\n",
    "df_solar_unique['hour'] = df_solar_unique['valid_time'].dt.hour\n",
    "\n",
    "# Sine and cosine encoding for hour (for cyclical behavior)\n",
    "df_solar_unique['sin_hour'] = np.sin(2 * np.pi * df_solar_unique['hour'] / 24)\n",
    "df_solar_unique['cos_hour'] = np.cos(2 * np.pi * df_solar_unique['hour'] / 24)\n",
    "\n",
    "# Day of the year (seasonality)\n",
    "df_solar_unique['day_of_year'] = df_solar_unique['valid_time'].dt.dayofyear\n",
    "\n",
    "# Sine and cosine encoding for day of the year (for cyclical seasonality)\n",
    "df_solar_unique['sin_day'] = np.sin(2 * np.pi * df_solar_unique['day_of_year'] / 365)\n",
    "df_solar_unique['cos_day'] = np.cos(2 * np.pi * df_solar_unique['day_of_year'] / 365)\n",
    "\n",
    "# 11. Discrepancy between DWD and NCEP datasets\n",
    "df_solar_unique['CloudCover_Discrepancy'] = df_solar_unique['Mean_CloudCover_dwd'] - df_solar_unique['Mean_CloudCover_ncep']\n",
    "df_solar_unique['SolarRadiation_Discrepancy'] = df_solar_unique['Mean_SolarRadiation_dwd'] - df_solar_unique['Mean_SolarRadiation_ncep']\n",
    "df_solar_unique['Temperature_Discrepancy'] = df_solar_unique['Mean_Temperature_dwd'] - df_solar_unique['Mean_Temperature_ncep']\n",
    "\n",
    "# 12. Time Delta (difference between valid_time and reference_time)\n",
    "df_solar_unique['Time_Delta'] = (df_solar_unique['valid_time'] - df_solar_unique['reference_time']).dt.total_seconds() / 3600  # in hours\n",
    "\n",
    "# Optional: Normalize differences for temporal changes\n",
    "# For example, normalizing cloud cover difference by time delta\n",
    "df_solar_unique['Normalized_CloudCover_dwd'] = (df_solar_unique['CloudCover_Point19_dwd'] - df_solar_unique['CloudCover_Point0_dwd']) / df_solar_unique['Time_Delta']\n",
    "df_solar_unique['Normalized_CloudCover_ncep'] = (df_solar_unique['CloudCover_Point19_ncep'] - df_solar_unique['CloudCover_Point0_ncep']) / df_solar_unique['Time_Delta']\n",
    "\n",
    "# 13. Rolling Mean (if applicable, depending on time series)\n",
    "# Assuming df_solar_solar is ordered by time, create rolling averages\n",
    "df_solar_unique['RollingMean_CloudCover_dwd'] = df_solar_unique['Mean_CloudCover_dwd'].rolling(window=3, min_periods=1).mean()\n",
    "df_solar_unique['RollingMean_SolarRadiation_dwd'] = df_solar_unique['Mean_SolarRadiation_dwd'].rolling(window=3, min_periods=1).mean()\n"
   ]
  },
  {
   "cell_type": "code",
   "execution_count": 16,
   "metadata": {
    "vscode": {
     "languageId": "ruby"
    }
   },
   "outputs": [],
   "source": [
    "df_solar_unique1 = handle_missing_values(df_solar_unique)"
   ]
  },
  {
   "cell_type": "code",
   "execution_count": 18,
   "metadata": {
    "vscode": {
     "languageId": "ruby"
    }
   },
   "outputs": [],
   "source": [
    "feature_solar = ['Mean_SolarRadiation_dwd','cos_day','Solar_installedcapacity_mwp','cos_hour','Mean_Temperature_dwd','Mean_CloudCover_dwd']"
   ]
  },
  {
   "cell_type": "code",
   "execution_count": 19,
   "metadata": {
    "vscode": {
     "languageId": "ruby"
    }
   },
   "outputs": [
    {
     "name": "stdout",
     "output_type": "stream",
     "text": [
      "Pinball Loss (Quantile 0.1): 11.087111149422844\n",
      "Model for quantile 0.1 saved as \"xgboost_regressor_model_solar_q10.pkl\"\n",
      "Pinball Loss (Quantile 0.2): 22.159153405391102\n",
      "Model for quantile 0.2 saved as \"xgboost_regressor_model_solar_q20.pkl\"\n",
      "Pinball Loss (Quantile 0.3): 33.40812321986793\n",
      "Model for quantile 0.3 saved as \"xgboost_regressor_model_solar_q30.pkl\"\n",
      "Pinball Loss (Quantile 0.4): 44.83489606137409\n",
      "Model for quantile 0.4 saved as \"xgboost_regressor_model_solar_q40.pkl\"\n",
      "Pinball Loss (Quantile 0.5): 56.448377639768296\n",
      "Model for quantile 0.5 saved as \"xgboost_regressor_model_solar_q50.pkl\"\n",
      "Pinball Loss (Quantile 0.6): 68.24491382449524\n",
      "Model for quantile 0.6 saved as \"xgboost_regressor_model_solar_q60.pkl\"\n",
      "Pinball Loss (Quantile 0.7): 80.22883441842959\n",
      "Model for quantile 0.7 saved as \"xgboost_regressor_model_solar_q70.pkl\"\n",
      "Pinball Loss (Quantile 0.8): 92.40116389931266\n",
      "Model for quantile 0.8 saved as \"xgboost_regressor_model_solar_q80.pkl\"\n",
      "Pinball Loss (Quantile 0.9): 104.77037917542951\n",
      "Model for quantile 0.9 saved as \"xgboost_regressor_model_solar_q90.pkl\"\n",
      "Mean Pinball Loss (Quantiles 10% to 90%): 57.064772532610135\n"
     ]
    },
    {
     "data": {
      "application/vnd.plotly.v1+json": {
       "config": {
        "plotlyServerURL": "https://plot.ly"
       },
       "data": [
        {
         "hovertemplate": "Quantile=%{x}<br>Pinball Loss=%{y}<extra></extra>",
         "legendgroup": "",
         "line": {
          "color": "#636efa",
          "dash": "solid"
         },
         "marker": {
          "symbol": "circle"
         },
         "mode": "lines",
         "name": "",
         "orientation": "v",
         "showlegend": false,
         "type": "scatter",
         "x": [
          0.1,
          0.2,
          0.3,
          0.4,
          0.5,
          0.6,
          0.7,
          0.8,
          0.9
         ],
         "xaxis": "x",
         "y": [
          11.087111149422844,
          22.159153405391102,
          33.40812321986793,
          44.83489606137409,
          56.448377639768296,
          68.24491382449524,
          80.22883441842959,
          92.40116389931266,
          104.77037917542951
         ],
         "yaxis": "y"
        }
       ],
       "layout": {
        "legend": {
         "tracegroupgap": 0
        },
        "template": {
         "data": {
          "bar": [
           {
            "error_x": {
             "color": "#2a3f5f"
            },
            "error_y": {
             "color": "#2a3f5f"
            },
            "marker": {
             "line": {
              "color": "#E5ECF6",
              "width": 0.5
             },
             "pattern": {
              "fillmode": "overlay",
              "size": 10,
              "solidity": 0.2
             }
            },
            "type": "bar"
           }
          ],
          "barpolar": [
           {
            "marker": {
             "line": {
              "color": "#E5ECF6",
              "width": 0.5
             },
             "pattern": {
              "fillmode": "overlay",
              "size": 10,
              "solidity": 0.2
             }
            },
            "type": "barpolar"
           }
          ],
          "carpet": [
           {
            "aaxis": {
             "endlinecolor": "#2a3f5f",
             "gridcolor": "white",
             "linecolor": "white",
             "minorgridcolor": "white",
             "startlinecolor": "#2a3f5f"
            },
            "baxis": {
             "endlinecolor": "#2a3f5f",
             "gridcolor": "white",
             "linecolor": "white",
             "minorgridcolor": "white",
             "startlinecolor": "#2a3f5f"
            },
            "type": "carpet"
           }
          ],
          "choropleth": [
           {
            "colorbar": {
             "outlinewidth": 0,
             "ticks": ""
            },
            "type": "choropleth"
           }
          ],
          "contour": [
           {
            "colorbar": {
             "outlinewidth": 0,
             "ticks": ""
            },
            "colorscale": [
             [
              0,
              "#0d0887"
             ],
             [
              0.1111111111111111,
              "#46039f"
             ],
             [
              0.2222222222222222,
              "#7201a8"
             ],
             [
              0.3333333333333333,
              "#9c179e"
             ],
             [
              0.4444444444444444,
              "#bd3786"
             ],
             [
              0.5555555555555556,
              "#d8576b"
             ],
             [
              0.6666666666666666,
              "#ed7953"
             ],
             [
              0.7777777777777778,
              "#fb9f3a"
             ],
             [
              0.8888888888888888,
              "#fdca26"
             ],
             [
              1,
              "#f0f921"
             ]
            ],
            "type": "contour"
           }
          ],
          "contourcarpet": [
           {
            "colorbar": {
             "outlinewidth": 0,
             "ticks": ""
            },
            "type": "contourcarpet"
           }
          ],
          "heatmap": [
           {
            "colorbar": {
             "outlinewidth": 0,
             "ticks": ""
            },
            "colorscale": [
             [
              0,
              "#0d0887"
             ],
             [
              0.1111111111111111,
              "#46039f"
             ],
             [
              0.2222222222222222,
              "#7201a8"
             ],
             [
              0.3333333333333333,
              "#9c179e"
             ],
             [
              0.4444444444444444,
              "#bd3786"
             ],
             [
              0.5555555555555556,
              "#d8576b"
             ],
             [
              0.6666666666666666,
              "#ed7953"
             ],
             [
              0.7777777777777778,
              "#fb9f3a"
             ],
             [
              0.8888888888888888,
              "#fdca26"
             ],
             [
              1,
              "#f0f921"
             ]
            ],
            "type": "heatmap"
           }
          ],
          "heatmapgl": [
           {
            "colorbar": {
             "outlinewidth": 0,
             "ticks": ""
            },
            "colorscale": [
             [
              0,
              "#0d0887"
             ],
             [
              0.1111111111111111,
              "#46039f"
             ],
             [
              0.2222222222222222,
              "#7201a8"
             ],
             [
              0.3333333333333333,
              "#9c179e"
             ],
             [
              0.4444444444444444,
              "#bd3786"
             ],
             [
              0.5555555555555556,
              "#d8576b"
             ],
             [
              0.6666666666666666,
              "#ed7953"
             ],
             [
              0.7777777777777778,
              "#fb9f3a"
             ],
             [
              0.8888888888888888,
              "#fdca26"
             ],
             [
              1,
              "#f0f921"
             ]
            ],
            "type": "heatmapgl"
           }
          ],
          "histogram": [
           {
            "marker": {
             "pattern": {
              "fillmode": "overlay",
              "size": 10,
              "solidity": 0.2
             }
            },
            "type": "histogram"
           }
          ],
          "histogram2d": [
           {
            "colorbar": {
             "outlinewidth": 0,
             "ticks": ""
            },
            "colorscale": [
             [
              0,
              "#0d0887"
             ],
             [
              0.1111111111111111,
              "#46039f"
             ],
             [
              0.2222222222222222,
              "#7201a8"
             ],
             [
              0.3333333333333333,
              "#9c179e"
             ],
             [
              0.4444444444444444,
              "#bd3786"
             ],
             [
              0.5555555555555556,
              "#d8576b"
             ],
             [
              0.6666666666666666,
              "#ed7953"
             ],
             [
              0.7777777777777778,
              "#fb9f3a"
             ],
             [
              0.8888888888888888,
              "#fdca26"
             ],
             [
              1,
              "#f0f921"
             ]
            ],
            "type": "histogram2d"
           }
          ],
          "histogram2dcontour": [
           {
            "colorbar": {
             "outlinewidth": 0,
             "ticks": ""
            },
            "colorscale": [
             [
              0,
              "#0d0887"
             ],
             [
              0.1111111111111111,
              "#46039f"
             ],
             [
              0.2222222222222222,
              "#7201a8"
             ],
             [
              0.3333333333333333,
              "#9c179e"
             ],
             [
              0.4444444444444444,
              "#bd3786"
             ],
             [
              0.5555555555555556,
              "#d8576b"
             ],
             [
              0.6666666666666666,
              "#ed7953"
             ],
             [
              0.7777777777777778,
              "#fb9f3a"
             ],
             [
              0.8888888888888888,
              "#fdca26"
             ],
             [
              1,
              "#f0f921"
             ]
            ],
            "type": "histogram2dcontour"
           }
          ],
          "mesh3d": [
           {
            "colorbar": {
             "outlinewidth": 0,
             "ticks": ""
            },
            "type": "mesh3d"
           }
          ],
          "parcoords": [
           {
            "line": {
             "colorbar": {
              "outlinewidth": 0,
              "ticks": ""
             }
            },
            "type": "parcoords"
           }
          ],
          "pie": [
           {
            "automargin": true,
            "type": "pie"
           }
          ],
          "scatter": [
           {
            "fillpattern": {
             "fillmode": "overlay",
             "size": 10,
             "solidity": 0.2
            },
            "type": "scatter"
           }
          ],
          "scatter3d": [
           {
            "line": {
             "colorbar": {
              "outlinewidth": 0,
              "ticks": ""
             }
            },
            "marker": {
             "colorbar": {
              "outlinewidth": 0,
              "ticks": ""
             }
            },
            "type": "scatter3d"
           }
          ],
          "scattercarpet": [
           {
            "marker": {
             "colorbar": {
              "outlinewidth": 0,
              "ticks": ""
             }
            },
            "type": "scattercarpet"
           }
          ],
          "scattergeo": [
           {
            "marker": {
             "colorbar": {
              "outlinewidth": 0,
              "ticks": ""
             }
            },
            "type": "scattergeo"
           }
          ],
          "scattergl": [
           {
            "marker": {
             "colorbar": {
              "outlinewidth": 0,
              "ticks": ""
             }
            },
            "type": "scattergl"
           }
          ],
          "scattermapbox": [
           {
            "marker": {
             "colorbar": {
              "outlinewidth": 0,
              "ticks": ""
             }
            },
            "type": "scattermapbox"
           }
          ],
          "scatterpolar": [
           {
            "marker": {
             "colorbar": {
              "outlinewidth": 0,
              "ticks": ""
             }
            },
            "type": "scatterpolar"
           }
          ],
          "scatterpolargl": [
           {
            "marker": {
             "colorbar": {
              "outlinewidth": 0,
              "ticks": ""
             }
            },
            "type": "scatterpolargl"
           }
          ],
          "scatterternary": [
           {
            "marker": {
             "colorbar": {
              "outlinewidth": 0,
              "ticks": ""
             }
            },
            "type": "scatterternary"
           }
          ],
          "surface": [
           {
            "colorbar": {
             "outlinewidth": 0,
             "ticks": ""
            },
            "colorscale": [
             [
              0,
              "#0d0887"
             ],
             [
              0.1111111111111111,
              "#46039f"
             ],
             [
              0.2222222222222222,
              "#7201a8"
             ],
             [
              0.3333333333333333,
              "#9c179e"
             ],
             [
              0.4444444444444444,
              "#bd3786"
             ],
             [
              0.5555555555555556,
              "#d8576b"
             ],
             [
              0.6666666666666666,
              "#ed7953"
             ],
             [
              0.7777777777777778,
              "#fb9f3a"
             ],
             [
              0.8888888888888888,
              "#fdca26"
             ],
             [
              1,
              "#f0f921"
             ]
            ],
            "type": "surface"
           }
          ],
          "table": [
           {
            "cells": {
             "fill": {
              "color": "#EBF0F8"
             },
             "line": {
              "color": "white"
             }
            },
            "header": {
             "fill": {
              "color": "#C8D4E3"
             },
             "line": {
              "color": "white"
             }
            },
            "type": "table"
           }
          ]
         },
         "layout": {
          "annotationdefaults": {
           "arrowcolor": "#2a3f5f",
           "arrowhead": 0,
           "arrowwidth": 1
          },
          "autotypenumbers": "strict",
          "coloraxis": {
           "colorbar": {
            "outlinewidth": 0,
            "ticks": ""
           }
          },
          "colorscale": {
           "diverging": [
            [
             0,
             "#8e0152"
            ],
            [
             0.1,
             "#c51b7d"
            ],
            [
             0.2,
             "#de77ae"
            ],
            [
             0.3,
             "#f1b6da"
            ],
            [
             0.4,
             "#fde0ef"
            ],
            [
             0.5,
             "#f7f7f7"
            ],
            [
             0.6,
             "#e6f5d0"
            ],
            [
             0.7,
             "#b8e186"
            ],
            [
             0.8,
             "#7fbc41"
            ],
            [
             0.9,
             "#4d9221"
            ],
            [
             1,
             "#276419"
            ]
           ],
           "sequential": [
            [
             0,
             "#0d0887"
            ],
            [
             0.1111111111111111,
             "#46039f"
            ],
            [
             0.2222222222222222,
             "#7201a8"
            ],
            [
             0.3333333333333333,
             "#9c179e"
            ],
            [
             0.4444444444444444,
             "#bd3786"
            ],
            [
             0.5555555555555556,
             "#d8576b"
            ],
            [
             0.6666666666666666,
             "#ed7953"
            ],
            [
             0.7777777777777778,
             "#fb9f3a"
            ],
            [
             0.8888888888888888,
             "#fdca26"
            ],
            [
             1,
             "#f0f921"
            ]
           ],
           "sequentialminus": [
            [
             0,
             "#0d0887"
            ],
            [
             0.1111111111111111,
             "#46039f"
            ],
            [
             0.2222222222222222,
             "#7201a8"
            ],
            [
             0.3333333333333333,
             "#9c179e"
            ],
            [
             0.4444444444444444,
             "#bd3786"
            ],
            [
             0.5555555555555556,
             "#d8576b"
            ],
            [
             0.6666666666666666,
             "#ed7953"
            ],
            [
             0.7777777777777778,
             "#fb9f3a"
            ],
            [
             0.8888888888888888,
             "#fdca26"
            ],
            [
             1,
             "#f0f921"
            ]
           ]
          },
          "colorway": [
           "#636efa",
           "#EF553B",
           "#00cc96",
           "#ab63fa",
           "#FFA15A",
           "#19d3f3",
           "#FF6692",
           "#B6E880",
           "#FF97FF",
           "#FECB52"
          ],
          "font": {
           "color": "#2a3f5f"
          },
          "geo": {
           "bgcolor": "white",
           "lakecolor": "white",
           "landcolor": "#E5ECF6",
           "showlakes": true,
           "showland": true,
           "subunitcolor": "white"
          },
          "hoverlabel": {
           "align": "left"
          },
          "hovermode": "closest",
          "mapbox": {
           "style": "light"
          },
          "paper_bgcolor": "white",
          "plot_bgcolor": "#E5ECF6",
          "polar": {
           "angularaxis": {
            "gridcolor": "white",
            "linecolor": "white",
            "ticks": ""
           },
           "bgcolor": "#E5ECF6",
           "radialaxis": {
            "gridcolor": "white",
            "linecolor": "white",
            "ticks": ""
           }
          },
          "scene": {
           "xaxis": {
            "backgroundcolor": "#E5ECF6",
            "gridcolor": "white",
            "gridwidth": 2,
            "linecolor": "white",
            "showbackground": true,
            "ticks": "",
            "zerolinecolor": "white"
           },
           "yaxis": {
            "backgroundcolor": "#E5ECF6",
            "gridcolor": "white",
            "gridwidth": 2,
            "linecolor": "white",
            "showbackground": true,
            "ticks": "",
            "zerolinecolor": "white"
           },
           "zaxis": {
            "backgroundcolor": "#E5ECF6",
            "gridcolor": "white",
            "gridwidth": 2,
            "linecolor": "white",
            "showbackground": true,
            "ticks": "",
            "zerolinecolor": "white"
           }
          },
          "shapedefaults": {
           "line": {
            "color": "#2a3f5f"
           }
          },
          "ternary": {
           "aaxis": {
            "gridcolor": "white",
            "linecolor": "white",
            "ticks": ""
           },
           "baxis": {
            "gridcolor": "white",
            "linecolor": "white",
            "ticks": ""
           },
           "bgcolor": "#E5ECF6",
           "caxis": {
            "gridcolor": "white",
            "linecolor": "white",
            "ticks": ""
           }
          },
          "title": {
           "x": 0.05
          },
          "xaxis": {
           "automargin": true,
           "gridcolor": "white",
           "linecolor": "white",
           "ticks": "",
           "title": {
            "standoff": 15
           },
           "zerolinecolor": "white",
           "zerolinewidth": 2
          },
          "yaxis": {
           "automargin": true,
           "gridcolor": "white",
           "linecolor": "white",
           "ticks": "",
           "title": {
            "standoff": 15
           },
           "zerolinecolor": "white",
           "zerolinewidth": 2
          }
         }
        },
        "title": {
         "text": "Pinball Loss for Different Quantiles"
        },
        "xaxis": {
         "anchor": "y",
         "domain": [
          0,
          1
         ],
         "title": {
          "text": "Quantile"
         }
        },
        "yaxis": {
         "anchor": "x",
         "domain": [
          0,
          1
         ],
         "title": {
          "text": "Pinball Loss"
         }
        }
       }
      }
     },
     "metadata": {},
     "output_type": "display_data"
    },
    {
     "data": {
      "application/vnd.plotly.v1+json": {
       "config": {
        "plotlyServerURL": "https://plot.ly"
       },
       "data": [
        {
         "alignmentgroup": "True",
         "hovertemplate": "Features=%{x}<br>Importance=%{y}<extra></extra>",
         "legendgroup": "",
         "marker": {
          "color": "#636efa",
          "pattern": {
           "shape": ""
          }
         },
         "name": "",
         "offsetgroup": "",
         "orientation": "v",
         "showlegend": false,
         "textposition": "auto",
         "type": "bar",
         "x": [
          "Mean_SolarRadiation_dwd",
          "cos_hour",
          "Mean_CloudCover_dwd",
          "Mean_Temperature_dwd",
          "cos_day",
          "Solar_installedcapacity_mwp"
         ],
         "xaxis": "x",
         "y": [
          0.7102412581443787,
          0.11557818204164505,
          0.04558105766773224,
          0.04488831385970116,
          0.04312063008546829,
          0.04059058800339699
         ],
         "yaxis": "y"
        }
       ],
       "layout": {
        "barmode": "relative",
        "legend": {
         "tracegroupgap": 0
        },
        "template": {
         "data": {
          "bar": [
           {
            "error_x": {
             "color": "#2a3f5f"
            },
            "error_y": {
             "color": "#2a3f5f"
            },
            "marker": {
             "line": {
              "color": "#E5ECF6",
              "width": 0.5
             },
             "pattern": {
              "fillmode": "overlay",
              "size": 10,
              "solidity": 0.2
             }
            },
            "type": "bar"
           }
          ],
          "barpolar": [
           {
            "marker": {
             "line": {
              "color": "#E5ECF6",
              "width": 0.5
             },
             "pattern": {
              "fillmode": "overlay",
              "size": 10,
              "solidity": 0.2
             }
            },
            "type": "barpolar"
           }
          ],
          "carpet": [
           {
            "aaxis": {
             "endlinecolor": "#2a3f5f",
             "gridcolor": "white",
             "linecolor": "white",
             "minorgridcolor": "white",
             "startlinecolor": "#2a3f5f"
            },
            "baxis": {
             "endlinecolor": "#2a3f5f",
             "gridcolor": "white",
             "linecolor": "white",
             "minorgridcolor": "white",
             "startlinecolor": "#2a3f5f"
            },
            "type": "carpet"
           }
          ],
          "choropleth": [
           {
            "colorbar": {
             "outlinewidth": 0,
             "ticks": ""
            },
            "type": "choropleth"
           }
          ],
          "contour": [
           {
            "colorbar": {
             "outlinewidth": 0,
             "ticks": ""
            },
            "colorscale": [
             [
              0,
              "#0d0887"
             ],
             [
              0.1111111111111111,
              "#46039f"
             ],
             [
              0.2222222222222222,
              "#7201a8"
             ],
             [
              0.3333333333333333,
              "#9c179e"
             ],
             [
              0.4444444444444444,
              "#bd3786"
             ],
             [
              0.5555555555555556,
              "#d8576b"
             ],
             [
              0.6666666666666666,
              "#ed7953"
             ],
             [
              0.7777777777777778,
              "#fb9f3a"
             ],
             [
              0.8888888888888888,
              "#fdca26"
             ],
             [
              1,
              "#f0f921"
             ]
            ],
            "type": "contour"
           }
          ],
          "contourcarpet": [
           {
            "colorbar": {
             "outlinewidth": 0,
             "ticks": ""
            },
            "type": "contourcarpet"
           }
          ],
          "heatmap": [
           {
            "colorbar": {
             "outlinewidth": 0,
             "ticks": ""
            },
            "colorscale": [
             [
              0,
              "#0d0887"
             ],
             [
              0.1111111111111111,
              "#46039f"
             ],
             [
              0.2222222222222222,
              "#7201a8"
             ],
             [
              0.3333333333333333,
              "#9c179e"
             ],
             [
              0.4444444444444444,
              "#bd3786"
             ],
             [
              0.5555555555555556,
              "#d8576b"
             ],
             [
              0.6666666666666666,
              "#ed7953"
             ],
             [
              0.7777777777777778,
              "#fb9f3a"
             ],
             [
              0.8888888888888888,
              "#fdca26"
             ],
             [
              1,
              "#f0f921"
             ]
            ],
            "type": "heatmap"
           }
          ],
          "heatmapgl": [
           {
            "colorbar": {
             "outlinewidth": 0,
             "ticks": ""
            },
            "colorscale": [
             [
              0,
              "#0d0887"
             ],
             [
              0.1111111111111111,
              "#46039f"
             ],
             [
              0.2222222222222222,
              "#7201a8"
             ],
             [
              0.3333333333333333,
              "#9c179e"
             ],
             [
              0.4444444444444444,
              "#bd3786"
             ],
             [
              0.5555555555555556,
              "#d8576b"
             ],
             [
              0.6666666666666666,
              "#ed7953"
             ],
             [
              0.7777777777777778,
              "#fb9f3a"
             ],
             [
              0.8888888888888888,
              "#fdca26"
             ],
             [
              1,
              "#f0f921"
             ]
            ],
            "type": "heatmapgl"
           }
          ],
          "histogram": [
           {
            "marker": {
             "pattern": {
              "fillmode": "overlay",
              "size": 10,
              "solidity": 0.2
             }
            },
            "type": "histogram"
           }
          ],
          "histogram2d": [
           {
            "colorbar": {
             "outlinewidth": 0,
             "ticks": ""
            },
            "colorscale": [
             [
              0,
              "#0d0887"
             ],
             [
              0.1111111111111111,
              "#46039f"
             ],
             [
              0.2222222222222222,
              "#7201a8"
             ],
             [
              0.3333333333333333,
              "#9c179e"
             ],
             [
              0.4444444444444444,
              "#bd3786"
             ],
             [
              0.5555555555555556,
              "#d8576b"
             ],
             [
              0.6666666666666666,
              "#ed7953"
             ],
             [
              0.7777777777777778,
              "#fb9f3a"
             ],
             [
              0.8888888888888888,
              "#fdca26"
             ],
             [
              1,
              "#f0f921"
             ]
            ],
            "type": "histogram2d"
           }
          ],
          "histogram2dcontour": [
           {
            "colorbar": {
             "outlinewidth": 0,
             "ticks": ""
            },
            "colorscale": [
             [
              0,
              "#0d0887"
             ],
             [
              0.1111111111111111,
              "#46039f"
             ],
             [
              0.2222222222222222,
              "#7201a8"
             ],
             [
              0.3333333333333333,
              "#9c179e"
             ],
             [
              0.4444444444444444,
              "#bd3786"
             ],
             [
              0.5555555555555556,
              "#d8576b"
             ],
             [
              0.6666666666666666,
              "#ed7953"
             ],
             [
              0.7777777777777778,
              "#fb9f3a"
             ],
             [
              0.8888888888888888,
              "#fdca26"
             ],
             [
              1,
              "#f0f921"
             ]
            ],
            "type": "histogram2dcontour"
           }
          ],
          "mesh3d": [
           {
            "colorbar": {
             "outlinewidth": 0,
             "ticks": ""
            },
            "type": "mesh3d"
           }
          ],
          "parcoords": [
           {
            "line": {
             "colorbar": {
              "outlinewidth": 0,
              "ticks": ""
             }
            },
            "type": "parcoords"
           }
          ],
          "pie": [
           {
            "automargin": true,
            "type": "pie"
           }
          ],
          "scatter": [
           {
            "fillpattern": {
             "fillmode": "overlay",
             "size": 10,
             "solidity": 0.2
            },
            "type": "scatter"
           }
          ],
          "scatter3d": [
           {
            "line": {
             "colorbar": {
              "outlinewidth": 0,
              "ticks": ""
             }
            },
            "marker": {
             "colorbar": {
              "outlinewidth": 0,
              "ticks": ""
             }
            },
            "type": "scatter3d"
           }
          ],
          "scattercarpet": [
           {
            "marker": {
             "colorbar": {
              "outlinewidth": 0,
              "ticks": ""
             }
            },
            "type": "scattercarpet"
           }
          ],
          "scattergeo": [
           {
            "marker": {
             "colorbar": {
              "outlinewidth": 0,
              "ticks": ""
             }
            },
            "type": "scattergeo"
           }
          ],
          "scattergl": [
           {
            "marker": {
             "colorbar": {
              "outlinewidth": 0,
              "ticks": ""
             }
            },
            "type": "scattergl"
           }
          ],
          "scattermapbox": [
           {
            "marker": {
             "colorbar": {
              "outlinewidth": 0,
              "ticks": ""
             }
            },
            "type": "scattermapbox"
           }
          ],
          "scatterpolar": [
           {
            "marker": {
             "colorbar": {
              "outlinewidth": 0,
              "ticks": ""
             }
            },
            "type": "scatterpolar"
           }
          ],
          "scatterpolargl": [
           {
            "marker": {
             "colorbar": {
              "outlinewidth": 0,
              "ticks": ""
             }
            },
            "type": "scatterpolargl"
           }
          ],
          "scatterternary": [
           {
            "marker": {
             "colorbar": {
              "outlinewidth": 0,
              "ticks": ""
             }
            },
            "type": "scatterternary"
           }
          ],
          "surface": [
           {
            "colorbar": {
             "outlinewidth": 0,
             "ticks": ""
            },
            "colorscale": [
             [
              0,
              "#0d0887"
             ],
             [
              0.1111111111111111,
              "#46039f"
             ],
             [
              0.2222222222222222,
              "#7201a8"
             ],
             [
              0.3333333333333333,
              "#9c179e"
             ],
             [
              0.4444444444444444,
              "#bd3786"
             ],
             [
              0.5555555555555556,
              "#d8576b"
             ],
             [
              0.6666666666666666,
              "#ed7953"
             ],
             [
              0.7777777777777778,
              "#fb9f3a"
             ],
             [
              0.8888888888888888,
              "#fdca26"
             ],
             [
              1,
              "#f0f921"
             ]
            ],
            "type": "surface"
           }
          ],
          "table": [
           {
            "cells": {
             "fill": {
              "color": "#EBF0F8"
             },
             "line": {
              "color": "white"
             }
            },
            "header": {
             "fill": {
              "color": "#C8D4E3"
             },
             "line": {
              "color": "white"
             }
            },
            "type": "table"
           }
          ]
         },
         "layout": {
          "annotationdefaults": {
           "arrowcolor": "#2a3f5f",
           "arrowhead": 0,
           "arrowwidth": 1
          },
          "autotypenumbers": "strict",
          "coloraxis": {
           "colorbar": {
            "outlinewidth": 0,
            "ticks": ""
           }
          },
          "colorscale": {
           "diverging": [
            [
             0,
             "#8e0152"
            ],
            [
             0.1,
             "#c51b7d"
            ],
            [
             0.2,
             "#de77ae"
            ],
            [
             0.3,
             "#f1b6da"
            ],
            [
             0.4,
             "#fde0ef"
            ],
            [
             0.5,
             "#f7f7f7"
            ],
            [
             0.6,
             "#e6f5d0"
            ],
            [
             0.7,
             "#b8e186"
            ],
            [
             0.8,
             "#7fbc41"
            ],
            [
             0.9,
             "#4d9221"
            ],
            [
             1,
             "#276419"
            ]
           ],
           "sequential": [
            [
             0,
             "#0d0887"
            ],
            [
             0.1111111111111111,
             "#46039f"
            ],
            [
             0.2222222222222222,
             "#7201a8"
            ],
            [
             0.3333333333333333,
             "#9c179e"
            ],
            [
             0.4444444444444444,
             "#bd3786"
            ],
            [
             0.5555555555555556,
             "#d8576b"
            ],
            [
             0.6666666666666666,
             "#ed7953"
            ],
            [
             0.7777777777777778,
             "#fb9f3a"
            ],
            [
             0.8888888888888888,
             "#fdca26"
            ],
            [
             1,
             "#f0f921"
            ]
           ],
           "sequentialminus": [
            [
             0,
             "#0d0887"
            ],
            [
             0.1111111111111111,
             "#46039f"
            ],
            [
             0.2222222222222222,
             "#7201a8"
            ],
            [
             0.3333333333333333,
             "#9c179e"
            ],
            [
             0.4444444444444444,
             "#bd3786"
            ],
            [
             0.5555555555555556,
             "#d8576b"
            ],
            [
             0.6666666666666666,
             "#ed7953"
            ],
            [
             0.7777777777777778,
             "#fb9f3a"
            ],
            [
             0.8888888888888888,
             "#fdca26"
            ],
            [
             1,
             "#f0f921"
            ]
           ]
          },
          "colorway": [
           "#636efa",
           "#EF553B",
           "#00cc96",
           "#ab63fa",
           "#FFA15A",
           "#19d3f3",
           "#FF6692",
           "#B6E880",
           "#FF97FF",
           "#FECB52"
          ],
          "font": {
           "color": "#2a3f5f"
          },
          "geo": {
           "bgcolor": "white",
           "lakecolor": "white",
           "landcolor": "#E5ECF6",
           "showlakes": true,
           "showland": true,
           "subunitcolor": "white"
          },
          "hoverlabel": {
           "align": "left"
          },
          "hovermode": "closest",
          "mapbox": {
           "style": "light"
          },
          "paper_bgcolor": "white",
          "plot_bgcolor": "#E5ECF6",
          "polar": {
           "angularaxis": {
            "gridcolor": "white",
            "linecolor": "white",
            "ticks": ""
           },
           "bgcolor": "#E5ECF6",
           "radialaxis": {
            "gridcolor": "white",
            "linecolor": "white",
            "ticks": ""
           }
          },
          "scene": {
           "xaxis": {
            "backgroundcolor": "#E5ECF6",
            "gridcolor": "white",
            "gridwidth": 2,
            "linecolor": "white",
            "showbackground": true,
            "ticks": "",
            "zerolinecolor": "white"
           },
           "yaxis": {
            "backgroundcolor": "#E5ECF6",
            "gridcolor": "white",
            "gridwidth": 2,
            "linecolor": "white",
            "showbackground": true,
            "ticks": "",
            "zerolinecolor": "white"
           },
           "zaxis": {
            "backgroundcolor": "#E5ECF6",
            "gridcolor": "white",
            "gridwidth": 2,
            "linecolor": "white",
            "showbackground": true,
            "ticks": "",
            "zerolinecolor": "white"
           }
          },
          "shapedefaults": {
           "line": {
            "color": "#2a3f5f"
           }
          },
          "ternary": {
           "aaxis": {
            "gridcolor": "white",
            "linecolor": "white",
            "ticks": ""
           },
           "baxis": {
            "gridcolor": "white",
            "linecolor": "white",
            "ticks": ""
           },
           "bgcolor": "#E5ECF6",
           "caxis": {
            "gridcolor": "white",
            "linecolor": "white",
            "ticks": ""
           }
          },
          "title": {
           "x": 0.05
          },
          "xaxis": {
           "automargin": true,
           "gridcolor": "white",
           "linecolor": "white",
           "ticks": "",
           "title": {
            "standoff": 15
           },
           "zerolinecolor": "white",
           "zerolinewidth": 2
          },
          "yaxis": {
           "automargin": true,
           "gridcolor": "white",
           "linecolor": "white",
           "ticks": "",
           "title": {
            "standoff": 15
           },
           "zerolinecolor": "white",
           "zerolinewidth": 2
          }
         }
        },
        "title": {
         "text": "Feature Importance from XGBoost Regressor"
        },
        "xaxis": {
         "anchor": "y",
         "domain": [
          0,
          1
         ],
         "title": {
          "text": "Features"
         }
        },
        "yaxis": {
         "anchor": "x",
         "domain": [
          0,
          1
         ],
         "title": {
          "text": "Importance"
         }
        }
       }
      }
     },
     "metadata": {},
     "output_type": "display_data"
    }
   ],
   "source": [
    "import pandas as pd\n",
    "from sklearn.model_selection import train_test_split\n",
    "from sklearn.metrics import mean_pinball_loss\n",
    "import numpy as np\n",
    "from xgboost import XGBRegressor\n",
    "import joblib\n",
    "\n",
    "# Define the selected features and target variable\n",
    "target = 'Solar_MWh_credit'\n",
    "\n",
    "# Prepare the data\n",
    "X = df_solar_unique1[feature_solar]\n",
    "y = df_solar_unique1[target]\n",
    "\n",
    "# Split the data into training and testing sets\n",
    "X_train, X_test, y_train, y_test = train_test_split(X, y, test_size=0.2, random_state=42)\n",
    "\n",
    "# Define the list of quantiles\n",
    "quantiles = [q / 100.0 for q in range(10, 100, 10)]\n",
    "\n",
    "# Initialize list to store models and pinball losses\n",
    "models = []\n",
    "pinball_losses = []\n",
    "\n",
    "# Train a separate model for each quantile\n",
    "for quantile in quantiles:\n",
    "    # Define custom pinball loss objective for the current quantile\n",
    "    def custom_pinball_loss(y_true, y_pred):\n",
    "        y_true = y_true.get_label() if hasattr(y_true, 'get_label') else y_true\n",
    "        delta = y_pred - y_true\n",
    "        grad = np.where(delta >= 0, quantile, quantile-1)\n",
    "        hess = np.ones_like(y_true)  # Hessian is 1 for pinball loss\n",
    "        return grad, hess\n",
    "\n",
    "    # Initialize and train the XGBoost Regressor with custom pinball loss\n",
    "    xgbr = XGBRegressor(random_state=42, max_depth=100, learning_rate=0.1, n_estimators=200, objective=custom_pinball_loss)\n",
    "    xgbr.fit(X_train, y_train)\n",
    "    \n",
    "    # Predict the target values for the test set\n",
    "    y_pred = xgbr.predict(X_test)\n",
    "    \n",
    "    # Calculate the pinball loss for the current quantile\n",
    "    loss = mean_pinball_loss(y_test, y_pred, alpha=quantile)\n",
    "    pinball_losses.append(loss)\n",
    "    print(f'Pinball Loss (Quantile {quantile}): {loss}')\n",
    "    \n",
    "    # Save the model\n",
    "    model_filename = f'xgboost_regressor_model_solar_q{int(quantile * 100)}.pkl'\n",
    "    joblib.dump(xgbr, model_filename)\n",
    "    print(f'Model for quantile {quantile} saved as \"{model_filename}\"')\n",
    "    \n",
    "    # Append the trained model to the list\n",
    "    models.append(xgbr)\n",
    "\n",
    "# Calculate the average pinball loss across all quantiles\n",
    "mean_pinball_loss_value = np.mean(pinball_losses)\n",
    "print(f'Mean Pinball Loss (Quantiles 10% to 90%): {mean_pinball_loss_value}')\n",
    "\n",
    "# Plot the pinball losses for each quantile\n",
    "import plotly.express as px\n",
    "pinball_loss_df = pd.DataFrame({\n",
    "    'Quantile': quantiles,\n",
    "    'Pinball Loss': pinball_losses\n",
    "})\n",
    "\n",
    "fig = px.line(pinball_loss_df, x='Quantile', y='Pinball Loss', title='Pinball Loss for Different Quantiles', labels={'Quantile': 'Quantile', 'Pinball Loss': 'Pinball Loss'})\n",
    "fig.show()\n",
    "\n",
    "# Extract and plot feature importances from the last trained model (or you can choose one of the models)\n",
    "feature_importances = models[-1].feature_importances_  # Use the last model or choose one to analyze\n",
    "importance_df = pd.DataFrame({\n",
    "    'Feature': feature_solar,\n",
    "    'Importance': feature_importances\n",
    "}).sort_values(by='Importance', ascending=False)\n",
    "\n",
    "# Plot feature importances\n",
    "fig = px.bar(importance_df, x='Feature', y='Importance', title='Feature Importance from XGBoost Regressor', labels={'Feature': 'Features', 'Importance': 'Importance'})\n",
    "fig.show()\n"
   ]
  }
 ],
 "metadata": {
  "kernelspec": {
   "display_name": "HEFTcom24",
   "language": "python",
   "name": "python3"
  },
  "language_info": {
   "codemirror_mode": {
    "name": "ipython",
    "version": 3
   },
   "file_extension": ".py",
   "mimetype": "text/x-python",
   "name": "python",
   "nbconvert_exporter": "python",
   "pygments_lexer": "ipython3",
   "version": "3.11.5"
  }
 },
 "nbformat": 4,
 "nbformat_minor": 2
}
