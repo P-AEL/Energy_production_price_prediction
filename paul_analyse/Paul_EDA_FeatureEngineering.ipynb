{
 "cells": [
  {
   "cell_type": "code",
   "execution_count": 1,
   "metadata": {},
   "outputs": [],
   "source": [
    "import pandas as pd\n",
    "import numpy as np\n",
    "import matplotlib.pyplot as plt\n",
    "import seaborn as sns\n",
    "import pickle"
   ]
  },
  {
   "cell_type": "code",
   "execution_count": 2,
   "metadata": {},
   "outputs": [],
   "source": [
    "df_wind = pd.read_csv('HEFTcom24\\data\\wind.csv')\n",
    "# df_solar = pd.read_csv('HEFTcom24\\data\\solar.csv')\n",
    "# df_demand = pd.read_csv('HEFTcom24\\data\\demand.csv')"
   ]
  },
  {
   "cell_type": "markdown",
   "metadata": {},
   "source": [
    "Wind"
   ]
  },
  {
   "cell_type": "code",
   "execution_count": 3,
   "metadata": {},
   "outputs": [
    {
     "data": {
      "text/html": [
       "<div>\n",
       "<style scoped>\n",
       "    .dataframe tbody tr th:only-of-type {\n",
       "        vertical-align: middle;\n",
       "    }\n",
       "\n",
       "    .dataframe tbody tr th {\n",
       "        vertical-align: top;\n",
       "    }\n",
       "\n",
       "    .dataframe thead th {\n",
       "        text-align: right;\n",
       "    }\n",
       "</style>\n",
       "<table border=\"1\" class=\"dataframe\">\n",
       "  <thead>\n",
       "    <tr style=\"text-align: right;\">\n",
       "      <th></th>\n",
       "      <th>valid_time</th>\n",
       "      <th>reference_time</th>\n",
       "      <th>RelativeHumidity_dwd</th>\n",
       "      <th>Temperature_dwd</th>\n",
       "      <th>WindDirection_dwd</th>\n",
       "      <th>WindDirection:100_dwd</th>\n",
       "      <th>WindSpeed_dwd</th>\n",
       "      <th>WindSpeed:100_dwd</th>\n",
       "      <th>RelativeHumidity_ncep</th>\n",
       "      <th>Temperature_ncep</th>\n",
       "      <th>...</th>\n",
       "      <th>WindDirection:100_ncep</th>\n",
       "      <th>WindSpeed_ncep</th>\n",
       "      <th>WindSpeed:100_ncep</th>\n",
       "      <th>dtm</th>\n",
       "      <th>MIP</th>\n",
       "      <th>Wind_MW</th>\n",
       "      <th>SS_Price</th>\n",
       "      <th>boa_MWh</th>\n",
       "      <th>DA_Price</th>\n",
       "      <th>Wind_MWh_credit</th>\n",
       "    </tr>\n",
       "  </thead>\n",
       "  <tbody>\n",
       "    <tr>\n",
       "      <th>0</th>\n",
       "      <td>2020-09-20 00:00:00+00:00</td>\n",
       "      <td>2020-09-20 00:00:00+00:00</td>\n",
       "      <td>85.213745</td>\n",
       "      <td>15.416670</td>\n",
       "      <td>61.588080</td>\n",
       "      <td>62.085180</td>\n",
       "      <td>10.043627</td>\n",
       "      <td>11.802604</td>\n",
       "      <td>84.066670</td>\n",
       "      <td>15.450012</td>\n",
       "      <td>...</td>\n",
       "      <td>58.721077</td>\n",
       "      <td>9.116803</td>\n",
       "      <td>11.338992</td>\n",
       "      <td>2020-09-20 00:00:00+00:00</td>\n",
       "      <td>20.06</td>\n",
       "      <td>996.284</td>\n",
       "      <td>2.50000</td>\n",
       "      <td>0.0</td>\n",
       "      <td>32.17</td>\n",
       "      <td>498.142</td>\n",
       "    </tr>\n",
       "    <tr>\n",
       "      <th>1</th>\n",
       "      <td>2020-09-20 00:30:00+00:00</td>\n",
       "      <td>2020-09-20 00:00:00+00:00</td>\n",
       "      <td>85.012250</td>\n",
       "      <td>15.412510</td>\n",
       "      <td>61.203667</td>\n",
       "      <td>61.726974</td>\n",
       "      <td>9.905537</td>\n",
       "      <td>11.648819</td>\n",
       "      <td>84.433334</td>\n",
       "      <td>15.397076</td>\n",
       "      <td>...</td>\n",
       "      <td>58.494644</td>\n",
       "      <td>9.314931</td>\n",
       "      <td>11.516161</td>\n",
       "      <td>2020-09-20 00:30:00+00:00</td>\n",
       "      <td>19.77</td>\n",
       "      <td>957.576</td>\n",
       "      <td>15.00000</td>\n",
       "      <td>0.0</td>\n",
       "      <td>32.17</td>\n",
       "      <td>478.788</td>\n",
       "    </tr>\n",
       "    <tr>\n",
       "      <th>2</th>\n",
       "      <td>2020-09-20 01:00:00+00:00</td>\n",
       "      <td>2020-09-20 00:00:00+00:00</td>\n",
       "      <td>84.810770</td>\n",
       "      <td>15.408349</td>\n",
       "      <td>60.819256</td>\n",
       "      <td>61.368774</td>\n",
       "      <td>9.767447</td>\n",
       "      <td>11.495033</td>\n",
       "      <td>84.800000</td>\n",
       "      <td>15.344140</td>\n",
       "      <td>...</td>\n",
       "      <td>58.268215</td>\n",
       "      <td>9.513059</td>\n",
       "      <td>11.693331</td>\n",
       "      <td>2020-09-20 01:00:00+00:00</td>\n",
       "      <td>28.68</td>\n",
       "      <td>941.044</td>\n",
       "      <td>47.95000</td>\n",
       "      <td>0.0</td>\n",
       "      <td>32.00</td>\n",
       "      <td>470.522</td>\n",
       "    </tr>\n",
       "    <tr>\n",
       "      <th>3</th>\n",
       "      <td>2020-09-20 01:30:00+00:00</td>\n",
       "      <td>2020-09-20 00:00:00+00:00</td>\n",
       "      <td>84.357880</td>\n",
       "      <td>15.451218</td>\n",
       "      <td>60.511030</td>\n",
       "      <td>61.111040</td>\n",
       "      <td>9.631039</td>\n",
       "      <td>11.354128</td>\n",
       "      <td>84.933334</td>\n",
       "      <td>15.305976</td>\n",
       "      <td>...</td>\n",
       "      <td>59.550636</td>\n",
       "      <td>9.587589</td>\n",
       "      <td>11.716687</td>\n",
       "      <td>2020-09-20 01:30:00+00:00</td>\n",
       "      <td>28.97</td>\n",
       "      <td>964.366</td>\n",
       "      <td>29.13000</td>\n",
       "      <td>0.0</td>\n",
       "      <td>32.00</td>\n",
       "      <td>482.183</td>\n",
       "    </tr>\n",
       "    <tr>\n",
       "      <th>4</th>\n",
       "      <td>2020-09-20 02:00:00+00:00</td>\n",
       "      <td>2020-09-20 00:00:00+00:00</td>\n",
       "      <td>83.905000</td>\n",
       "      <td>15.494086</td>\n",
       "      <td>60.202800</td>\n",
       "      <td>60.853306</td>\n",
       "      <td>9.494630</td>\n",
       "      <td>11.213223</td>\n",
       "      <td>85.066666</td>\n",
       "      <td>15.267812</td>\n",
       "      <td>...</td>\n",
       "      <td>60.833060</td>\n",
       "      <td>9.662121</td>\n",
       "      <td>11.740044</td>\n",
       "      <td>2020-09-20 02:00:00+00:00</td>\n",
       "      <td>28.19</td>\n",
       "      <td>918.432</td>\n",
       "      <td>28.95000</td>\n",
       "      <td>0.0</td>\n",
       "      <td>31.99</td>\n",
       "      <td>459.216</td>\n",
       "    </tr>\n",
       "    <tr>\n",
       "      <th>...</th>\n",
       "      <td>...</td>\n",
       "      <td>...</td>\n",
       "      <td>...</td>\n",
       "      <td>...</td>\n",
       "      <td>...</td>\n",
       "      <td>...</td>\n",
       "      <td>...</td>\n",
       "      <td>...</td>\n",
       "      <td>...</td>\n",
       "      <td>...</td>\n",
       "      <td>...</td>\n",
       "      <td>...</td>\n",
       "      <td>...</td>\n",
       "      <td>...</td>\n",
       "      <td>...</td>\n",
       "      <td>...</td>\n",
       "      <td>...</td>\n",
       "      <td>...</td>\n",
       "      <td>...</td>\n",
       "      <td>...</td>\n",
       "      <td>...</td>\n",
       "    </tr>\n",
       "    <tr>\n",
       "      <th>529625</th>\n",
       "      <td>2024-05-19 21:30:00+00:00</td>\n",
       "      <td>2024-05-19 00:00:00+00:00</td>\n",
       "      <td>91.634130</td>\n",
       "      <td>11.190109</td>\n",
       "      <td>21.214108</td>\n",
       "      <td>21.933590</td>\n",
       "      <td>6.882957</td>\n",
       "      <td>8.258531</td>\n",
       "      <td>93.683334</td>\n",
       "      <td>11.047282</td>\n",
       "      <td>...</td>\n",
       "      <td>22.433960</td>\n",
       "      <td>6.752734</td>\n",
       "      <td>9.066019</td>\n",
       "      <td>2024-05-19 21:30:00+00:00</td>\n",
       "      <td>77.40</td>\n",
       "      <td>227.518</td>\n",
       "      <td>56.20000</td>\n",
       "      <td>0.0</td>\n",
       "      <td>76.81</td>\n",
       "      <td>113.759</td>\n",
       "    </tr>\n",
       "    <tr>\n",
       "      <th>529626</th>\n",
       "      <td>2024-05-19 22:00:00+00:00</td>\n",
       "      <td>2024-05-19 00:00:00+00:00</td>\n",
       "      <td>91.232635</td>\n",
       "      <td>11.127069</td>\n",
       "      <td>22.417616</td>\n",
       "      <td>22.716902</td>\n",
       "      <td>7.040593</td>\n",
       "      <td>8.282218</td>\n",
       "      <td>94.700000</td>\n",
       "      <td>10.946550</td>\n",
       "      <td>...</td>\n",
       "      <td>22.568020</td>\n",
       "      <td>6.822509</td>\n",
       "      <td>9.019323</td>\n",
       "      <td>2024-05-19 22:00:00+00:00</td>\n",
       "      <td>80.82</td>\n",
       "      <td>197.090</td>\n",
       "      <td>102.00023</td>\n",
       "      <td>0.0</td>\n",
       "      <td>71.11</td>\n",
       "      <td>98.545</td>\n",
       "    </tr>\n",
       "    <tr>\n",
       "      <th>529627</th>\n",
       "      <td>2024-05-19 22:30:00+00:00</td>\n",
       "      <td>2024-05-19 00:00:00+00:00</td>\n",
       "      <td>90.249340</td>\n",
       "      <td>11.237669</td>\n",
       "      <td>22.327656</td>\n",
       "      <td>22.829685</td>\n",
       "      <td>6.842084</td>\n",
       "      <td>8.272179</td>\n",
       "      <td>95.016660</td>\n",
       "      <td>10.785738</td>\n",
       "      <td>...</td>\n",
       "      <td>21.831242</td>\n",
       "      <td>7.013203</td>\n",
       "      <td>8.877809</td>\n",
       "      <td>2024-05-19 22:30:00+00:00</td>\n",
       "      <td>75.69</td>\n",
       "      <td>171.306</td>\n",
       "      <td>99.00000</td>\n",
       "      <td>0.0</td>\n",
       "      <td>71.11</td>\n",
       "      <td>85.653</td>\n",
       "    </tr>\n",
       "    <tr>\n",
       "      <th>529628</th>\n",
       "      <td>2024-05-19 23:00:00+00:00</td>\n",
       "      <td>2024-05-19 00:00:00+00:00</td>\n",
       "      <td>89.266040</td>\n",
       "      <td>11.348270</td>\n",
       "      <td>22.237694</td>\n",
       "      <td>22.942470</td>\n",
       "      <td>6.643576</td>\n",
       "      <td>8.262139</td>\n",
       "      <td>95.333336</td>\n",
       "      <td>10.624926</td>\n",
       "      <td>...</td>\n",
       "      <td>21.094461</td>\n",
       "      <td>7.203896</td>\n",
       "      <td>8.736294</td>\n",
       "      <td>2024-05-19 23:00:00+00:00</td>\n",
       "      <td>78.98</td>\n",
       "      <td>163.164</td>\n",
       "      <td>106.44988</td>\n",
       "      <td>0.0</td>\n",
       "      <td>66.51</td>\n",
       "      <td>81.582</td>\n",
       "    </tr>\n",
       "    <tr>\n",
       "      <th>529629</th>\n",
       "      <td>2024-05-19 23:30:00+00:00</td>\n",
       "      <td>2024-05-19 00:00:00+00:00</td>\n",
       "      <td>89.301720</td>\n",
       "      <td>11.359882</td>\n",
       "      <td>20.984837</td>\n",
       "      <td>22.255167</td>\n",
       "      <td>6.560893</td>\n",
       "      <td>8.222769</td>\n",
       "      <td>94.833336</td>\n",
       "      <td>10.489921</td>\n",
       "      <td>...</td>\n",
       "      <td>20.771225</td>\n",
       "      <td>7.314300</td>\n",
       "      <td>8.559060</td>\n",
       "      <td>2024-05-19 23:30:00+00:00</td>\n",
       "      <td>78.44</td>\n",
       "      <td>178.092</td>\n",
       "      <td>70.67000</td>\n",
       "      <td>0.0</td>\n",
       "      <td>66.51</td>\n",
       "      <td>89.046</td>\n",
       "    </tr>\n",
       "  </tbody>\n",
       "</table>\n",
       "<p>529630 rows × 21 columns</p>\n",
       "</div>"
      ],
      "text/plain": [
       "                       valid_time             reference_time  \\\n",
       "0       2020-09-20 00:00:00+00:00  2020-09-20 00:00:00+00:00   \n",
       "1       2020-09-20 00:30:00+00:00  2020-09-20 00:00:00+00:00   \n",
       "2       2020-09-20 01:00:00+00:00  2020-09-20 00:00:00+00:00   \n",
       "3       2020-09-20 01:30:00+00:00  2020-09-20 00:00:00+00:00   \n",
       "4       2020-09-20 02:00:00+00:00  2020-09-20 00:00:00+00:00   \n",
       "...                           ...                        ...   \n",
       "529625  2024-05-19 21:30:00+00:00  2024-05-19 00:00:00+00:00   \n",
       "529626  2024-05-19 22:00:00+00:00  2024-05-19 00:00:00+00:00   \n",
       "529627  2024-05-19 22:30:00+00:00  2024-05-19 00:00:00+00:00   \n",
       "529628  2024-05-19 23:00:00+00:00  2024-05-19 00:00:00+00:00   \n",
       "529629  2024-05-19 23:30:00+00:00  2024-05-19 00:00:00+00:00   \n",
       "\n",
       "        RelativeHumidity_dwd  Temperature_dwd  WindDirection_dwd  \\\n",
       "0                  85.213745        15.416670          61.588080   \n",
       "1                  85.012250        15.412510          61.203667   \n",
       "2                  84.810770        15.408349          60.819256   \n",
       "3                  84.357880        15.451218          60.511030   \n",
       "4                  83.905000        15.494086          60.202800   \n",
       "...                      ...              ...                ...   \n",
       "529625             91.634130        11.190109          21.214108   \n",
       "529626             91.232635        11.127069          22.417616   \n",
       "529627             90.249340        11.237669          22.327656   \n",
       "529628             89.266040        11.348270          22.237694   \n",
       "529629             89.301720        11.359882          20.984837   \n",
       "\n",
       "        WindDirection:100_dwd  WindSpeed_dwd  WindSpeed:100_dwd  \\\n",
       "0                   62.085180      10.043627          11.802604   \n",
       "1                   61.726974       9.905537          11.648819   \n",
       "2                   61.368774       9.767447          11.495033   \n",
       "3                   61.111040       9.631039          11.354128   \n",
       "4                   60.853306       9.494630          11.213223   \n",
       "...                       ...            ...                ...   \n",
       "529625              21.933590       6.882957           8.258531   \n",
       "529626              22.716902       7.040593           8.282218   \n",
       "529627              22.829685       6.842084           8.272179   \n",
       "529628              22.942470       6.643576           8.262139   \n",
       "529629              22.255167       6.560893           8.222769   \n",
       "\n",
       "        RelativeHumidity_ncep  Temperature_ncep  ...  WindDirection:100_ncep  \\\n",
       "0                   84.066670         15.450012  ...               58.721077   \n",
       "1                   84.433334         15.397076  ...               58.494644   \n",
       "2                   84.800000         15.344140  ...               58.268215   \n",
       "3                   84.933334         15.305976  ...               59.550636   \n",
       "4                   85.066666         15.267812  ...               60.833060   \n",
       "...                       ...               ...  ...                     ...   \n",
       "529625              93.683334         11.047282  ...               22.433960   \n",
       "529626              94.700000         10.946550  ...               22.568020   \n",
       "529627              95.016660         10.785738  ...               21.831242   \n",
       "529628              95.333336         10.624926  ...               21.094461   \n",
       "529629              94.833336         10.489921  ...               20.771225   \n",
       "\n",
       "        WindSpeed_ncep  WindSpeed:100_ncep                        dtm    MIP  \\\n",
       "0             9.116803           11.338992  2020-09-20 00:00:00+00:00  20.06   \n",
       "1             9.314931           11.516161  2020-09-20 00:30:00+00:00  19.77   \n",
       "2             9.513059           11.693331  2020-09-20 01:00:00+00:00  28.68   \n",
       "3             9.587589           11.716687  2020-09-20 01:30:00+00:00  28.97   \n",
       "4             9.662121           11.740044  2020-09-20 02:00:00+00:00  28.19   \n",
       "...                ...                 ...                        ...    ...   \n",
       "529625        6.752734            9.066019  2024-05-19 21:30:00+00:00  77.40   \n",
       "529626        6.822509            9.019323  2024-05-19 22:00:00+00:00  80.82   \n",
       "529627        7.013203            8.877809  2024-05-19 22:30:00+00:00  75.69   \n",
       "529628        7.203896            8.736294  2024-05-19 23:00:00+00:00  78.98   \n",
       "529629        7.314300            8.559060  2024-05-19 23:30:00+00:00  78.44   \n",
       "\n",
       "        Wind_MW   SS_Price  boa_MWh  DA_Price  Wind_MWh_credit  \n",
       "0       996.284    2.50000      0.0     32.17          498.142  \n",
       "1       957.576   15.00000      0.0     32.17          478.788  \n",
       "2       941.044   47.95000      0.0     32.00          470.522  \n",
       "3       964.366   29.13000      0.0     32.00          482.183  \n",
       "4       918.432   28.95000      0.0     31.99          459.216  \n",
       "...         ...        ...      ...       ...              ...  \n",
       "529625  227.518   56.20000      0.0     76.81          113.759  \n",
       "529626  197.090  102.00023      0.0     71.11           98.545  \n",
       "529627  171.306   99.00000      0.0     71.11           85.653  \n",
       "529628  163.164  106.44988      0.0     66.51           81.582  \n",
       "529629  178.092   70.67000      0.0     66.51           89.046  \n",
       "\n",
       "[529630 rows x 21 columns]"
      ]
     },
     "execution_count": 3,
     "metadata": {},
     "output_type": "execute_result"
    }
   ],
   "source": [
    "df_wind.drop(columns=['Unnamed: 0','Solar_MWh_credit','Solar_MW','Solar_capacity_mwp','Solar_installedcapacity_mwp'], inplace=True)\n",
    "df_wind"
   ]
  },
  {
   "cell_type": "code",
   "execution_count": 28,
   "metadata": {},
   "outputs": [
    {
     "data": {
      "text/plain": [
       "Index(['valid_time', 'reference_time', 'RelativeHumidity_dwd',\n",
       "       'Temperature_dwd', 'WindDirection_dwd', 'WindDirection:100_dwd',\n",
       "       'WindSpeed_dwd', 'WindSpeed:100_dwd', 'RelativeHumidity_ncep',\n",
       "       'Temperature_ncep', 'WindDirection_ncep', 'WindDirection:100_ncep',\n",
       "       'WindSpeed_ncep', 'WindSpeed:100_ncep', 'dtm', 'MIP', 'Wind_MW',\n",
       "       'SS_Price', 'boa_MWh', 'DA_Price', 'Wind_MWh_credit'],\n",
       "      dtype='object')"
      ]
     },
     "execution_count": 28,
     "metadata": {},
     "output_type": "execute_result"
    }
   ],
   "source": [
    "df_wind.columns"
   ]
  },
  {
   "cell_type": "code",
   "execution_count": 8,
   "metadata": {},
   "outputs": [],
   "source": [
    "def add_time_features(df):\n",
    "    df['valid_time'] = pd.to_datetime(df['valid_time'])\n",
    "    df['reference_time'] = pd.to_datetime(df['reference_time'])\n",
    "\n",
    "    df['hour'] = df['valid_time'].dt.hour\n",
    "    df['day_of_week'] = df['valid_time'].dt.dayofweek\n",
    "    df['month'] = df['valid_time'].dt.month\n",
    "    df['season'] = df['month'] % 12 // 3\n",
    "    # Time deltas\n",
    "    df['forecast_horizon'] = (df['valid_time'] - df['reference_time']).dt.total_seconds() / 3600\n",
    "    return df\n",
    "def add_wind_features(df):\n",
    "    # Wind shear (for both sources)\n",
    "    df['wind_shear_dwd'] = df['WindSpeed:100_dwd'] - df['WindSpeed_dwd']\n",
    "    df['wind_shear_ncep'] = df['WindSpeed:100_ncep'] - df['WindSpeed_ncep']\n",
    "    \n",
    "    # Wind direction difference\n",
    "    df['direction_diff_dwd'] = np.minimum((df['WindDirection:100_dwd'] - df['WindDirection_dwd']) % 360,\n",
    "                                         (df['WindDirection_dwd'] - df['WindDirection:100_dwd']) % 360)\n",
    "    df['direction_diff_ncep'] = np.minimum((df['WindDirection:100_ncep'] - df['WindDirection_ncep']) % 360,\n",
    "                                          (df['WindDirection_ncep'] - df['WindDirection:100_ncep']) % 360)\n",
    "    \n",
    "    # Wind power density (ρv³/2) - assuming standard air density\n",
    "    df['wind_power_density_100_dwd'] = 0.5 * 1.225 * df['WindSpeed:100_dwd']**3\n",
    "    df['wind_power_density_100_ncep'] = 0.5 * 1.225 * df['WindSpeed:100_ncep']**3\n",
    "    return df\n",
    "def calculate_air_density(df):\n",
    "    # Constants\n",
    "    R = 287.058  # Specific gas constant for dry air, J/(kg·K)\n",
    "    \n",
    "    # Convert temperature to Kelvin\n",
    "    temp_k_dwd = df['Temperature_dwd'] + 273.15\n",
    "    temp_k_ncep = df['Temperature_ncep'] + 273.15\n",
    "    \n",
    "    # Simple air density calculation\n",
    "    df['air_density_dwd'] = 100000 / (R * temp_k_dwd)  # assuming standard pressure\n",
    "    df['air_density_ncep'] = 100000 / (R * temp_k_ncep)\n",
    "    return df\n",
    "def add_model_agreement_features(df):\n",
    "    # Difference between models\n",
    "    df['wind_speed_model_diff'] = df['WindSpeed:100_dwd'] - df['WindSpeed:100_ncep']\n",
    "    df['wind_direction_model_diff'] = np.minimum((df['WindDirection:100_dwd'] - df['WindDirection:100_ncep']) % 360,\n",
    "                                                (df['WindDirection:100_ncep'] - df['WindDirection:100_dwd']) % 360)\n",
    "    df['temperature_model_diff'] = df['Temperature_dwd'] - df['Temperature_ncep']\n",
    "    df['humidity_model_diff'] = df['RelativeHumidity_dwd'] - df['RelativeHumidity_ncep']\n",
    "    return df\n",
    "def add_rolling_features(df, window=6):\n",
    "    key_features = [\n",
    "        'WindSpeed:100_dwd',\n",
    "        'WindSpeed:100_ncep',\n",
    "        'WindDirection:100_dwd',\n",
    "        'WindDirection:100_ncep',\n",
    "        'Temperature_dwd',\n",
    "        'Temperature_ncep'\n",
    "    ]\n",
    "    \n",
    "    for col in key_features:\n",
    "        if col in df.columns:\n",
    "            # Add rolling mean only for these key features\n",
    "            df[f'{col}_rolling_mean_{window}h'] = df[col].rolling(window=window).mean()\n",
    "            \n",
    "            # For wind speed, also add standard deviation\n",
    "            if 'WindSpeed' in col:\n",
    "                df[f'{col}_rolling_std_{window}h'] = df[col].rolling(window=window).std()\n",
    "    \n",
    "    return df\n",
    "def handle_missing_values(df):\n",
    "    # For numeric columns\n",
    "    numeric_cols = df.select_dtypes(include=[np.number]).columns\n",
    "    df[numeric_cols] = df[numeric_cols].fillna(df[numeric_cols].mean())\n",
    "    \n",
    "    # For categorical columns\n",
    "    categorical_cols = df.select_dtypes(include=['object', 'category']).columns\n",
    "    df[categorical_cols] = df[categorical_cols].fillna(df[categorical_cols].mode().iloc[0])\n",
    "    return df\n",
    "from sklearn.preprocessing import StandardScaler\n",
    "\n",
    "def scale_features(df, exclude_cols=['valid_time', 'reference_time']):\n",
    "    scaler = StandardScaler()\n",
    "    cols_to_scale = [col for col in df.columns if col not in exclude_cols]\n",
    "    df[cols_to_scale] = scaler.fit_transform(df[cols_to_scale])\n",
    "    return df, scaler"
   ]
  },
  {
   "cell_type": "code",
   "execution_count": 9,
   "metadata": {},
   "outputs": [],
   "source": [
    "def process_wind_features(df):\n",
    "    # Make a copy to avoid modifying original data\n",
    "    processed_df = df.copy()\n",
    "    \n",
    "    # Add all new features\n",
    "    processed_df = add_time_features(processed_df)\n",
    "    processed_df = add_wind_features(processed_df)\n",
    "    processed_df = calculate_air_density(processed_df)\n",
    "    processed_df = add_model_agreement_features(processed_df)\n",
    "    processed_df = add_rolling_features(processed_df)\n",
    "    \n",
    "    # Handle missing values\n",
    "    processed_df = handle_missing_values(processed_df)\n",
    "    \n",
    "    # Scale features\n",
    "    # processed_df, scaler = scale_features(processed_df)\n",
    "    \n",
    "    return processed_df"
   ]
  },
  {
   "cell_type": "code",
   "execution_count": 10,
   "metadata": {},
   "outputs": [],
   "source": [
    "df_wind1 = process_wind_features(df_wind)"
   ]
  },
  {
   "cell_type": "code",
   "execution_count": 15,
   "metadata": {},
   "outputs": [],
   "source": [
    "df_wind2,_ = scale_features(df_wind1.drop(columns=['dtm','reference_time','valid_time']))"
   ]
  },
  {
   "cell_type": "code",
   "execution_count": 16,
   "metadata": {},
   "outputs": [
    {
     "data": {
      "text/html": [
       "<div>\n",
       "<style scoped>\n",
       "    .dataframe tbody tr th:only-of-type {\n",
       "        vertical-align: middle;\n",
       "    }\n",
       "\n",
       "    .dataframe tbody tr th {\n",
       "        vertical-align: top;\n",
       "    }\n",
       "\n",
       "    .dataframe thead th {\n",
       "        text-align: right;\n",
       "    }\n",
       "</style>\n",
       "<table border=\"1\" class=\"dataframe\">\n",
       "  <thead>\n",
       "    <tr style=\"text-align: right;\">\n",
       "      <th></th>\n",
       "      <th>RelativeHumidity_dwd</th>\n",
       "      <th>Temperature_dwd</th>\n",
       "      <th>WindDirection_dwd</th>\n",
       "      <th>WindDirection:100_dwd</th>\n",
       "      <th>WindSpeed_dwd</th>\n",
       "      <th>WindSpeed:100_dwd</th>\n",
       "      <th>RelativeHumidity_ncep</th>\n",
       "      <th>Temperature_ncep</th>\n",
       "      <th>WindDirection_ncep</th>\n",
       "      <th>WindDirection:100_ncep</th>\n",
       "      <th>...</th>\n",
       "      <th>temperature_model_diff</th>\n",
       "      <th>humidity_model_diff</th>\n",
       "      <th>WindSpeed:100_dwd_rolling_mean_6h</th>\n",
       "      <th>WindSpeed:100_dwd_rolling_std_6h</th>\n",
       "      <th>WindSpeed:100_ncep_rolling_mean_6h</th>\n",
       "      <th>WindSpeed:100_ncep_rolling_std_6h</th>\n",
       "      <th>WindDirection:100_dwd_rolling_mean_6h</th>\n",
       "      <th>WindDirection:100_ncep_rolling_mean_6h</th>\n",
       "      <th>Temperature_dwd_rolling_mean_6h</th>\n",
       "      <th>Temperature_ncep_rolling_mean_6h</th>\n",
       "    </tr>\n",
       "  </thead>\n",
       "  <tbody>\n",
       "    <tr>\n",
       "      <th>0</th>\n",
       "      <td>0.314564</td>\n",
       "      <td>1.195437</td>\n",
       "      <td>-1.545796</td>\n",
       "      <td>-1.559559</td>\n",
       "      <td>0.609730</td>\n",
       "      <td>0.453389</td>\n",
       "      <td>0.254291</td>\n",
       "      <td>1.317087</td>\n",
       "      <td>-1.610707</td>\n",
       "      <td>-1.601947</td>\n",
       "      <td>...</td>\n",
       "      <td>-0.451911</td>\n",
       "      <td>0.041755</td>\n",
       "      <td>0.000000</td>\n",
       "      <td>0.000000</td>\n",
       "      <td>0.000000</td>\n",
       "      <td>0.000000</td>\n",
       "      <td>3.246239e-16</td>\n",
       "      <td>-3.263579e-16</td>\n",
       "      <td>0.000000</td>\n",
       "      <td>4.589976e-16</td>\n",
       "    </tr>\n",
       "    <tr>\n",
       "      <th>1</th>\n",
       "      <td>0.289829</td>\n",
       "      <td>1.194383</td>\n",
       "      <td>-1.550076</td>\n",
       "      <td>-1.563548</td>\n",
       "      <td>0.574185</td>\n",
       "      <td>0.421477</td>\n",
       "      <td>0.294276</td>\n",
       "      <td>1.303427</td>\n",
       "      <td>-1.610536</td>\n",
       "      <td>-1.604489</td>\n",
       "      <td>...</td>\n",
       "      <td>-0.394587</td>\n",
       "      <td>-0.061102</td>\n",
       "      <td>0.000000</td>\n",
       "      <td>0.000000</td>\n",
       "      <td>0.000000</td>\n",
       "      <td>0.000000</td>\n",
       "      <td>3.246239e-16</td>\n",
       "      <td>-3.263579e-16</td>\n",
       "      <td>0.000000</td>\n",
       "      <td>4.589976e-16</td>\n",
       "    </tr>\n",
       "    <tr>\n",
       "      <th>2</th>\n",
       "      <td>0.265097</td>\n",
       "      <td>1.193329</td>\n",
       "      <td>-1.554355</td>\n",
       "      <td>-1.567537</td>\n",
       "      <td>0.538640</td>\n",
       "      <td>0.389566</td>\n",
       "      <td>0.334260</td>\n",
       "      <td>1.289766</td>\n",
       "      <td>-1.610366</td>\n",
       "      <td>-1.607030</td>\n",
       "      <td>...</td>\n",
       "      <td>-0.337264</td>\n",
       "      <td>-0.163956</td>\n",
       "      <td>0.000000</td>\n",
       "      <td>0.000000</td>\n",
       "      <td>0.000000</td>\n",
       "      <td>0.000000</td>\n",
       "      <td>3.246239e-16</td>\n",
       "      <td>-3.263579e-16</td>\n",
       "      <td>0.000000</td>\n",
       "      <td>4.589976e-16</td>\n",
       "    </tr>\n",
       "    <tr>\n",
       "      <th>3</th>\n",
       "      <td>0.209502</td>\n",
       "      <td>1.204188</td>\n",
       "      <td>-1.557786</td>\n",
       "      <td>-1.570407</td>\n",
       "      <td>0.503528</td>\n",
       "      <td>0.360328</td>\n",
       "      <td>0.348800</td>\n",
       "      <td>1.279917</td>\n",
       "      <td>-1.594113</td>\n",
       "      <td>-1.592635</td>\n",
       "      <td>...</td>\n",
       "      <td>-0.242029</td>\n",
       "      <td>-0.270083</td>\n",
       "      <td>0.000000</td>\n",
       "      <td>0.000000</td>\n",
       "      <td>0.000000</td>\n",
       "      <td>0.000000</td>\n",
       "      <td>3.246239e-16</td>\n",
       "      <td>-3.263579e-16</td>\n",
       "      <td>0.000000</td>\n",
       "      <td>4.589976e-16</td>\n",
       "    </tr>\n",
       "    <tr>\n",
       "      <th>4</th>\n",
       "      <td>0.153909</td>\n",
       "      <td>1.215047</td>\n",
       "      <td>-1.561218</td>\n",
       "      <td>-1.573276</td>\n",
       "      <td>0.468416</td>\n",
       "      <td>0.331089</td>\n",
       "      <td>0.363340</td>\n",
       "      <td>1.270068</td>\n",
       "      <td>-1.577861</td>\n",
       "      <td>-1.578239</td>\n",
       "      <td>...</td>\n",
       "      <td>-0.146796</td>\n",
       "      <td>-0.376208</td>\n",
       "      <td>0.000000</td>\n",
       "      <td>0.000000</td>\n",
       "      <td>0.000000</td>\n",
       "      <td>0.000000</td>\n",
       "      <td>3.246239e-16</td>\n",
       "      <td>-3.263579e-16</td>\n",
       "      <td>0.000000</td>\n",
       "      <td>4.589976e-16</td>\n",
       "    </tr>\n",
       "    <tr>\n",
       "      <th>...</th>\n",
       "      <td>...</td>\n",
       "      <td>...</td>\n",
       "      <td>...</td>\n",
       "      <td>...</td>\n",
       "      <td>...</td>\n",
       "      <td>...</td>\n",
       "      <td>...</td>\n",
       "      <td>...</td>\n",
       "      <td>...</td>\n",
       "      <td>...</td>\n",
       "      <td>...</td>\n",
       "      <td>...</td>\n",
       "      <td>...</td>\n",
       "      <td>...</td>\n",
       "      <td>...</td>\n",
       "      <td>...</td>\n",
       "      <td>...</td>\n",
       "      <td>...</td>\n",
       "      <td>...</td>\n",
       "      <td>...</td>\n",
       "      <td>...</td>\n",
       "    </tr>\n",
       "    <tr>\n",
       "      <th>529625</th>\n",
       "      <td>1.102699</td>\n",
       "      <td>0.124793</td>\n",
       "      <td>-1.995250</td>\n",
       "      <td>-2.006658</td>\n",
       "      <td>-0.203842</td>\n",
       "      <td>-0.282022</td>\n",
       "      <td>1.302983</td>\n",
       "      <td>0.180901</td>\n",
       "      <td>-2.042286</td>\n",
       "      <td>-2.009281</td>\n",
       "      <td>...</td>\n",
       "      <td>-0.244868</td>\n",
       "      <td>-0.536883</td>\n",
       "      <td>-0.299462</td>\n",
       "      <td>-0.775187</td>\n",
       "      <td>-0.142077</td>\n",
       "      <td>-0.801893</td>\n",
       "      <td>-2.072801e+00</td>\n",
       "      <td>-2.065088e+00</td>\n",
       "      <td>0.195221</td>\n",
       "      <td>2.551497e-01</td>\n",
       "    </tr>\n",
       "    <tr>\n",
       "      <th>529626</th>\n",
       "      <td>1.053413</td>\n",
       "      <td>0.108824</td>\n",
       "      <td>-1.981852</td>\n",
       "      <td>-1.997936</td>\n",
       "      <td>-0.163265</td>\n",
       "      <td>-0.277106</td>\n",
       "      <td>1.413850</td>\n",
       "      <td>0.154906</td>\n",
       "      <td>-2.035637</td>\n",
       "      <td>-2.007776</td>\n",
       "      <td>...</td>\n",
       "      <td>-0.200571</td>\n",
       "      <td>-0.793619</td>\n",
       "      <td>-0.297320</td>\n",
       "      <td>-0.758968</td>\n",
       "      <td>-0.147079</td>\n",
       "      <td>-0.777704</td>\n",
       "      <td>-2.067920e+00</td>\n",
       "      <td>-2.061484e+00</td>\n",
       "      <td>0.167392</td>\n",
       "      <td>2.251053e-01</td>\n",
       "    </tr>\n",
       "    <tr>\n",
       "      <th>529627</th>\n",
       "      <td>0.932709</td>\n",
       "      <td>0.136840</td>\n",
       "      <td>-1.982853</td>\n",
       "      <td>-1.996680</td>\n",
       "      <td>-0.214362</td>\n",
       "      <td>-0.279190</td>\n",
       "      <td>1.448382</td>\n",
       "      <td>0.113406</td>\n",
       "      <td>-2.032469</td>\n",
       "      <td>-2.016047</td>\n",
       "      <td>...</td>\n",
       "      <td>0.118409</td>\n",
       "      <td>-1.028956</td>\n",
       "      <td>-0.293616</td>\n",
       "      <td>-0.756070</td>\n",
       "      <td>-0.156696</td>\n",
       "      <td>-0.705222</td>\n",
       "      <td>-2.062721e+00</td>\n",
       "      <td>-2.059885e+00</td>\n",
       "      <td>0.149684</td>\n",
       "      <td>1.937524e-01</td>\n",
       "    </tr>\n",
       "    <tr>\n",
       "      <th>529628</th>\n",
       "      <td>0.812004</td>\n",
       "      <td>0.164857</td>\n",
       "      <td>-1.983855</td>\n",
       "      <td>-1.995424</td>\n",
       "      <td>-0.265460</td>\n",
       "      <td>-0.281273</td>\n",
       "      <td>1.482915</td>\n",
       "      <td>0.071906</td>\n",
       "      <td>-2.029301</td>\n",
       "      <td>-2.024317</td>\n",
       "      <td>...</td>\n",
       "      <td>0.437389</td>\n",
       "      <td>-1.264297</td>\n",
       "      <td>-0.288350</td>\n",
       "      <td>-0.796717</td>\n",
       "      <td>-0.170928</td>\n",
       "      <td>-0.622687</td>\n",
       "      <td>-2.057205e+00</td>\n",
       "      <td>-2.060294e+00</td>\n",
       "      <td>0.142097</td>\n",
       "      <td>1.610910e-01</td>\n",
       "    </tr>\n",
       "    <tr>\n",
       "      <th>529629</th>\n",
       "      <td>0.816384</td>\n",
       "      <td>0.167798</td>\n",
       "      <td>-1.997802</td>\n",
       "      <td>-2.003078</td>\n",
       "      <td>-0.286743</td>\n",
       "      <td>-0.289442</td>\n",
       "      <td>1.428391</td>\n",
       "      <td>0.037066</td>\n",
       "      <td>-2.024353</td>\n",
       "      <td>-2.027946</td>\n",
       "      <td>...</td>\n",
       "      <td>0.609701</td>\n",
       "      <td>-1.167321</td>\n",
       "      <td>-0.286620</td>\n",
       "      <td>-0.822218</td>\n",
       "      <td>-0.190966</td>\n",
       "      <td>-0.530007</td>\n",
       "      <td>-2.054050e+00</td>\n",
       "      <td>-2.062270e+00</td>\n",
       "      <td>0.140804</td>\n",
       "      <td>1.276828e-01</td>\n",
       "    </tr>\n",
       "  </tbody>\n",
       "</table>\n",
       "<p>529630 rows × 43 columns</p>\n",
       "</div>"
      ],
      "text/plain": [
       "        RelativeHumidity_dwd  Temperature_dwd  WindDirection_dwd  \\\n",
       "0                   0.314564         1.195437          -1.545796   \n",
       "1                   0.289829         1.194383          -1.550076   \n",
       "2                   0.265097         1.193329          -1.554355   \n",
       "3                   0.209502         1.204188          -1.557786   \n",
       "4                   0.153909         1.215047          -1.561218   \n",
       "...                      ...              ...                ...   \n",
       "529625              1.102699         0.124793          -1.995250   \n",
       "529626              1.053413         0.108824          -1.981852   \n",
       "529627              0.932709         0.136840          -1.982853   \n",
       "529628              0.812004         0.164857          -1.983855   \n",
       "529629              0.816384         0.167798          -1.997802   \n",
       "\n",
       "        WindDirection:100_dwd  WindSpeed_dwd  WindSpeed:100_dwd  \\\n",
       "0                   -1.559559       0.609730           0.453389   \n",
       "1                   -1.563548       0.574185           0.421477   \n",
       "2                   -1.567537       0.538640           0.389566   \n",
       "3                   -1.570407       0.503528           0.360328   \n",
       "4                   -1.573276       0.468416           0.331089   \n",
       "...                       ...            ...                ...   \n",
       "529625              -2.006658      -0.203842          -0.282022   \n",
       "529626              -1.997936      -0.163265          -0.277106   \n",
       "529627              -1.996680      -0.214362          -0.279190   \n",
       "529628              -1.995424      -0.265460          -0.281273   \n",
       "529629              -2.003078      -0.286743          -0.289442   \n",
       "\n",
       "        RelativeHumidity_ncep  Temperature_ncep  WindDirection_ncep  \\\n",
       "0                    0.254291          1.317087           -1.610707   \n",
       "1                    0.294276          1.303427           -1.610536   \n",
       "2                    0.334260          1.289766           -1.610366   \n",
       "3                    0.348800          1.279917           -1.594113   \n",
       "4                    0.363340          1.270068           -1.577861   \n",
       "...                       ...               ...                 ...   \n",
       "529625               1.302983          0.180901           -2.042286   \n",
       "529626               1.413850          0.154906           -2.035637   \n",
       "529627               1.448382          0.113406           -2.032469   \n",
       "529628               1.482915          0.071906           -2.029301   \n",
       "529629               1.428391          0.037066           -2.024353   \n",
       "\n",
       "        WindDirection:100_ncep  ...  temperature_model_diff  \\\n",
       "0                    -1.601947  ...               -0.451911   \n",
       "1                    -1.604489  ...               -0.394587   \n",
       "2                    -1.607030  ...               -0.337264   \n",
       "3                    -1.592635  ...               -0.242029   \n",
       "4                    -1.578239  ...               -0.146796   \n",
       "...                        ...  ...                     ...   \n",
       "529625               -2.009281  ...               -0.244868   \n",
       "529626               -2.007776  ...               -0.200571   \n",
       "529627               -2.016047  ...                0.118409   \n",
       "529628               -2.024317  ...                0.437389   \n",
       "529629               -2.027946  ...                0.609701   \n",
       "\n",
       "        humidity_model_diff  WindSpeed:100_dwd_rolling_mean_6h  \\\n",
       "0                  0.041755                           0.000000   \n",
       "1                 -0.061102                           0.000000   \n",
       "2                 -0.163956                           0.000000   \n",
       "3                 -0.270083                           0.000000   \n",
       "4                 -0.376208                           0.000000   \n",
       "...                     ...                                ...   \n",
       "529625            -0.536883                          -0.299462   \n",
       "529626            -0.793619                          -0.297320   \n",
       "529627            -1.028956                          -0.293616   \n",
       "529628            -1.264297                          -0.288350   \n",
       "529629            -1.167321                          -0.286620   \n",
       "\n",
       "        WindSpeed:100_dwd_rolling_std_6h  WindSpeed:100_ncep_rolling_mean_6h  \\\n",
       "0                               0.000000                            0.000000   \n",
       "1                               0.000000                            0.000000   \n",
       "2                               0.000000                            0.000000   \n",
       "3                               0.000000                            0.000000   \n",
       "4                               0.000000                            0.000000   \n",
       "...                                  ...                                 ...   \n",
       "529625                         -0.775187                           -0.142077   \n",
       "529626                         -0.758968                           -0.147079   \n",
       "529627                         -0.756070                           -0.156696   \n",
       "529628                         -0.796717                           -0.170928   \n",
       "529629                         -0.822218                           -0.190966   \n",
       "\n",
       "        WindSpeed:100_ncep_rolling_std_6h  \\\n",
       "0                                0.000000   \n",
       "1                                0.000000   \n",
       "2                                0.000000   \n",
       "3                                0.000000   \n",
       "4                                0.000000   \n",
       "...                                   ...   \n",
       "529625                          -0.801893   \n",
       "529626                          -0.777704   \n",
       "529627                          -0.705222   \n",
       "529628                          -0.622687   \n",
       "529629                          -0.530007   \n",
       "\n",
       "        WindDirection:100_dwd_rolling_mean_6h  \\\n",
       "0                                3.246239e-16   \n",
       "1                                3.246239e-16   \n",
       "2                                3.246239e-16   \n",
       "3                                3.246239e-16   \n",
       "4                                3.246239e-16   \n",
       "...                                       ...   \n",
       "529625                          -2.072801e+00   \n",
       "529626                          -2.067920e+00   \n",
       "529627                          -2.062721e+00   \n",
       "529628                          -2.057205e+00   \n",
       "529629                          -2.054050e+00   \n",
       "\n",
       "        WindDirection:100_ncep_rolling_mean_6h  \\\n",
       "0                                -3.263579e-16   \n",
       "1                                -3.263579e-16   \n",
       "2                                -3.263579e-16   \n",
       "3                                -3.263579e-16   \n",
       "4                                -3.263579e-16   \n",
       "...                                        ...   \n",
       "529625                           -2.065088e+00   \n",
       "529626                           -2.061484e+00   \n",
       "529627                           -2.059885e+00   \n",
       "529628                           -2.060294e+00   \n",
       "529629                           -2.062270e+00   \n",
       "\n",
       "        Temperature_dwd_rolling_mean_6h  Temperature_ncep_rolling_mean_6h  \n",
       "0                              0.000000                      4.589976e-16  \n",
       "1                              0.000000                      4.589976e-16  \n",
       "2                              0.000000                      4.589976e-16  \n",
       "3                              0.000000                      4.589976e-16  \n",
       "4                              0.000000                      4.589976e-16  \n",
       "...                                 ...                               ...  \n",
       "529625                         0.195221                      2.551497e-01  \n",
       "529626                         0.167392                      2.251053e-01  \n",
       "529627                         0.149684                      1.937524e-01  \n",
       "529628                         0.142097                      1.610910e-01  \n",
       "529629                         0.140804                      1.276828e-01  \n",
       "\n",
       "[529630 rows x 43 columns]"
      ]
     },
     "execution_count": 16,
     "metadata": {},
     "output_type": "execute_result"
    }
   ],
   "source": [
    "df_wind2"
   ]
  },
  {
   "cell_type": "code",
   "execution_count": 22,
   "metadata": {},
   "outputs": [
    {
     "data": {
      "text/plain": [
       "'\\n# Assuming df is your dataframe and \\'target\\' is your target column\\nsummary, selected_features = run_feature_selection(df, \\'target\\')\\nplot_feature_selection_results(summary)\\n\\n# Print final selected features and their coefficients\\nfinal_model = LinearRegression()\\nX_final = df[selected_features]\\nfinal_model.fit(X_final, df[\\'target\\'])\\n\\ncoefficients = pd.DataFrame({\\n    \\'Feature\\': selected_features,\\n    \\'Coefficient\\': final_model.coef_\\n}).sort_values(by=\\'Coefficient\\', key=abs, ascending=False)\\n\\nprint(\"\\nFinal Model Coefficients:\")\\nprint(coefficients)\\n'"
      ]
     },
     "execution_count": 22,
     "metadata": {},
     "output_type": "execute_result"
    }
   ],
   "source": [
    "def forward_feature_selection(X, y, max_features=15):\n",
    "    from sklearn.linear_model import LinearRegression\n",
    "    from sklearn.model_selection import cross_val_score\n",
    "    import numpy as np\n",
    "    import pandas as pd\n",
    "    \n",
    "    # Initialize variables\n",
    "    features_selected = []\n",
    "    features_to_select = list(X.columns)\n",
    "    best_scores = []\n",
    "    correlations = []\n",
    "    \n",
    "    # Model to use\n",
    "    model = LinearRegression()\n",
    "    \n",
    "    for i in range(max_features):\n",
    "        best_score = float('-inf')\n",
    "        best_feature = None\n",
    "        \n",
    "        # Try each feature not yet selected\n",
    "        for feature in features_to_select:\n",
    "            # Combine selected features with current candidate\n",
    "            current_features = features_selected + [feature]\n",
    "            \n",
    "            # Create dataset with current features\n",
    "            X_current = X[current_features]\n",
    "            \n",
    "            # Perform cross-validation\n",
    "            scores = cross_val_score(model, X_current, y, cv=5, scoring='r2')\n",
    "            avg_score = np.mean(scores)\n",
    "            \n",
    "            # Update if this is the best score\n",
    "            if avg_score > best_score:\n",
    "                best_score = avg_score\n",
    "                best_feature = feature\n",
    "        \n",
    "        # Add best feature to selected features\n",
    "        if best_feature:\n",
    "            features_selected.append(best_feature)\n",
    "            features_to_select.remove(best_feature)\n",
    "            best_scores.append(best_score)\n",
    "            \n",
    "            # Fit model and get correlation for print\n",
    "            X_current = X[features_selected]\n",
    "            model.fit(X_current, y)\n",
    "            y_pred = model.predict(X_current)\n",
    "            mse = np.mean((y - y_pred) ** 2)\n",
    "            correlation = np.corrcoef(y, y_pred)[0, 1]\n",
    "            correlations.append(correlation)\n",
    "            \n",
    "            # Print results\n",
    "            print(f\"Step {i+1}:\")\n",
    "            print(f\"Added feature: {best_feature}\")\n",
    "            print(f\"R-squared score: {best_score:.4f}\")\n",
    "            print(f\"MSE: {mse:.4f}\")\n",
    "            print(f\"Correlation: {correlation:.4f}\")\n",
    "            print(f\"Current features: {features_selected}\")\n",
    "            print(\"--------------------\")\n",
    "    \n",
    "    # Create summary dataframe\n",
    "    summary = pd.DataFrame({\n",
    "        'Step': range(1, len(features_selected) + 1),\n",
    "        'Added_Feature': features_selected,\n",
    "        'R_Squared': best_scores,\n",
    "        'Correlation': correlations\n",
    "    })\n",
    "    \n",
    "    return summary, features_selected\n",
    "\n",
    "# Example usage\n",
    "def run_feature_selection(df, target_column, max_features=20):\n",
    "    # Prepare data\n",
    "    y = df[target_column]\n",
    "    X = df.drop(columns=[target_column])\n",
    "    \n",
    "    # Remove any non-numeric columns\n",
    "    X = X.select_dtypes(include=[np.number])\n",
    "    \n",
    "    # Run feature selection\n",
    "    summary, selected_features = forward_feature_selection(X, y, max_features)\n",
    "    \n",
    "    return summary, selected_features\n",
    "\n",
    "# Plot results\n",
    "def plot_feature_selection_results(summary):\n",
    "    import matplotlib.pyplot as plt\n",
    "    \n",
    "    plt.figure(figsize=(12, 6))\n",
    "    plt.plot(summary['Step'], summary['R_Squared'], label='R-Squared')\n",
    "    plt.plot(summary['Step'], summary['Correlation'], label='Correlation')\n",
    "    plt.xlabel('Number of Features')\n",
    "    plt.ylabel('Score')\n",
    "    plt.title('Feature Selection Results')\n",
    "    plt.legend()\n",
    "    plt.grid(True)\n",
    "    plt.show()\n",
    "\n",
    "# Full example of how to use\n",
    "\"\"\"\n",
    "# Assuming df is your dataframe and 'target' is your target column\n",
    "summary, selected_features = run_feature_selection(df, 'target')\n",
    "plot_feature_selection_results(summary)\n",
    "\n",
    "# Print final selected features and their coefficients\n",
    "final_model = LinearRegression()\n",
    "X_final = df[selected_features]\n",
    "final_model.fit(X_final, df['target'])\n",
    "\n",
    "coefficients = pd.DataFrame({\n",
    "    'Feature': selected_features,\n",
    "    'Coefficient': final_model.coef_\n",
    "}).sort_values(by='Coefficient', key=abs, ascending=False)\n",
    "\n",
    "print(\"\\nFinal Model Coefficients:\")\n",
    "print(coefficients)\n",
    "\"\"\""
   ]
  },
  {
   "cell_type": "code",
   "execution_count": 32,
   "metadata": {},
   "outputs": [
    {
     "data": {
      "text/plain": [
       "\"\\n# Assuming df is your dataframe and 'target' is your target column\\nsummary, selected_features, final_model, importances = run_decision_tree_selection(df, 'target')\\n\\n# To get predictions from the final model:\\nX_final = df[selected_features]\\npredictions = final_model.predict(X_final)\\n\""
      ]
     },
     "execution_count": 32,
     "metadata": {},
     "output_type": "execute_result"
    }
   ],
   "source": [
    "from sklearn.tree import DecisionTreeRegressor\n",
    "from sklearn.model_selection import cross_val_score\n",
    "import numpy as np\n",
    "import pandas as pd\n",
    "import matplotlib.pyplot as plt\n",
    "from sklearn.metrics import mean_squared_error, r2_score\n",
    "import warnings\n",
    "warnings.filterwarnings('ignore')\n",
    "\n",
    "def decision_tree_feature_selection(X, y, max_features=15):\n",
    "    # Initialize variables\n",
    "    features_selected = []\n",
    "    features_to_select = list(X.columns)\n",
    "    best_scores = []\n",
    "    feature_importances = []\n",
    "    tree_depths = []\n",
    "    mse_scores = []\n",
    "    \n",
    "    # Initialize model\n",
    "    model = DecisionTreeRegressor(random_state=42, max_depth=12)\n",
    "    \n",
    "    for i in range(max_features):\n",
    "        best_score = float('-inf')\n",
    "        best_feature = None\n",
    "        best_importance = None\n",
    "        best_depth = None\n",
    "        best_mse = float('inf')\n",
    "        \n",
    "        # Try each feature not yet selected\n",
    "        for feature in features_to_select:\n",
    "            current_features = features_selected + [feature]\n",
    "            X_current = X[current_features]\n",
    "            \n",
    "            # Perform cross-validation\n",
    "            scores = cross_val_score(model, X_current, y, cv=5, scoring='r2')\n",
    "            avg_score = np.mean(scores)\n",
    "            \n",
    "            if avg_score > best_score:\n",
    "                best_score = avg_score\n",
    "                best_feature = feature\n",
    "                \n",
    "                # Fit model to get additional metrics\n",
    "                model.fit(X_current, y)\n",
    "                y_pred = model.predict(X_current)\n",
    "                best_mse = mean_squared_error(y, y_pred)\n",
    "                best_depth = model.get_depth()\n",
    "                \n",
    "                # Get feature importance for the best feature\n",
    "                importances = dict(zip(current_features, model.feature_importances_))\n",
    "                best_importance = importances[feature]\n",
    "        \n",
    "        # Add best feature\n",
    "        if best_feature:\n",
    "            features_selected.append(best_feature)\n",
    "            features_to_select.remove(best_feature)\n",
    "            best_scores.append(best_score)\n",
    "            feature_importances.append(best_importance)\n",
    "            tree_depths.append(best_depth)\n",
    "            mse_scores.append(best_mse)\n",
    "            \n",
    "            # Print results\n",
    "            print(f\"Step {i+1}:\")\n",
    "            print(f\"Added feature: {best_feature}\")\n",
    "            print(f\"R-squared score: {best_score:.4f}\")\n",
    "            print(f\"Feature importance: {best_importance:.4f}\")\n",
    "            print(f\"Tree depth: {best_depth}\")\n",
    "            print(f\"MSE: {best_mse:.4f}\")\n",
    "            print(f\"Current features: {features_selected}\")\n",
    "            print(\"--------------------\")\n",
    "    \n",
    "    # Create summary dataframe\n",
    "    summary = pd.DataFrame({\n",
    "        'Step': range(1, len(features_selected) + 1),\n",
    "        'Added_Feature': features_selected,\n",
    "        'R_Squared': best_scores,\n",
    "        'Feature_Importance': feature_importances,\n",
    "        'Tree_Depth': tree_depths,\n",
    "        'MSE': mse_scores\n",
    "    })\n",
    "    \n",
    "    return summary, features_selected\n",
    "\n",
    "def plot_decision_tree_results(summary):\n",
    "    fig, axs = plt.subplots(2, 2, figsize=(15, 10))\n",
    "    fig.suptitle('Decision Tree Feature Selection Results')\n",
    "    \n",
    "    # R-squared plot\n",
    "    axs[0, 0].plot(summary['Step'], summary['R_Squared'])\n",
    "    axs[0, 0].set_xlabel('Number of Features')\n",
    "    axs[0, 0].set_ylabel('R-squared Score')\n",
    "    axs[0, 0].set_title('R-squared vs Number of Features')\n",
    "    axs[0, 0].grid(True)\n",
    "    \n",
    "    # Feature Importance plot\n",
    "    axs[0, 1].bar(range(len(summary)), summary['Feature_Importance'])\n",
    "    axs[0, 1].set_xlabel('Feature Index')\n",
    "    axs[0, 1].set_ylabel('Feature Importance')\n",
    "    axs[0, 1].set_title('Feature Importance of Added Features')\n",
    "    \n",
    "    # Tree Depth plot\n",
    "    axs[1, 0].plot(summary['Step'], summary['Tree_Depth'])\n",
    "    axs[1, 0].set_xlabel('Number of Features')\n",
    "    axs[1, 0].set_ylabel('Tree Depth')\n",
    "    axs[1, 0].set_title('Tree Depth vs Number of Features')\n",
    "    axs[1, 0].grid(True)\n",
    "    \n",
    "    # MSE plot\n",
    "    axs[1, 1].plot(summary['Step'], summary['MSE'])\n",
    "    axs[1, 1].set_xlabel('Number of Features')\n",
    "    axs[1, 1].set_ylabel('Mean Squared Error')\n",
    "    axs[1, 1].set_title('MSE vs Number of Features')\n",
    "    axs[1, 1].grid(True)\n",
    "    \n",
    "    plt.tight_layout()\n",
    "    plt.show()\n",
    "\n",
    "def analyze_final_model(X, y, selected_features):\n",
    "    model = DecisionTreeRegressor(random_state=42, max_depth=25)\n",
    "    X_final = X[selected_features]\n",
    "    model.fit(X_final, y)\n",
    "    \n",
    "    # Get feature importances\n",
    "    importances = pd.DataFrame({\n",
    "        'Feature': selected_features,\n",
    "        'Importance': model.feature_importances_\n",
    "    }).sort_values('Importance', ascending=False)\n",
    "    \n",
    "    print(\"\\nFinal Model Analysis:\")\n",
    "    print(f\"Tree Depth: {model.get_depth()}\")\n",
    "    print(f\"Number of Leaves: {model.get_n_leaves()}\")\n",
    "    print(\"\\nFeature Importances:\")\n",
    "    print(importances)\n",
    "    \n",
    "    return model, importances\n",
    "\n",
    "def run_decision_tree_selection(df, target_column, max_features=15):\n",
    "    # Prepare data\n",
    "    y = df[target_column]\n",
    "    X = df.drop(columns=[target_column])\n",
    "    \n",
    "    # Remove any non-numeric columns\n",
    "    X = X.select_dtypes(include=[np.number])\n",
    "    \n",
    "    # Run feature selection\n",
    "    summary, selected_features = decision_tree_feature_selection(X, y, max_features)\n",
    "    \n",
    "    # Plot results\n",
    "    plot_decision_tree_results(summary)\n",
    "    \n",
    "    # Analyze final model\n",
    "    final_model, importances = analyze_final_model(X, y, selected_features)\n",
    "    \n",
    "    return summary, selected_features, final_model, importances\n",
    "\n",
    "# Example usage\n",
    "\"\"\"\n",
    "# Assuming df is your dataframe and 'target' is your target column\n",
    "summary, selected_features, final_model, importances = run_decision_tree_selection(df, 'target')\n",
    "\n",
    "# To get predictions from the final model:\n",
    "X_final = df[selected_features]\n",
    "predictions = final_model.predict(X_final)\n",
    "\"\"\""
   ]
  },
  {
   "cell_type": "code",
   "execution_count": null,
   "metadata": {},
   "outputs": [],
   "source": [
    "df_wind2.drop(columns=['Wind_MW'])"
   ]
  },
  {
   "cell_type": "code",
   "execution_count": null,
   "metadata": {},
   "outputs": [],
   "source": [
    "summary, selected_features = run_feature_selection(df_wind2.drop(columns=['Wind_MW']), 'Wind_MWh_credit')"
   ]
  },
  {
   "cell_type": "code",
   "execution_count": 33,
   "metadata": {},
   "outputs": [
    {
     "name": "stdout",
     "output_type": "stream",
     "text": [
      "Step 1:\n",
      "Added feature: wind_power_density_100_dwd\n",
      "R-squared score: 0.7380\n",
      "Feature importance: 1.0000\n",
      "Tree depth: 12\n",
      "MSE: 0.2275\n",
      "Current features: ['wind_power_density_100_dwd']\n",
      "--------------------\n",
      "Step 2:\n",
      "Added feature: wind_power_density_100_ncep\n",
      "R-squared score: 0.7623\n",
      "Feature importance: 0.1791\n",
      "Tree depth: 12\n",
      "MSE: 0.1839\n",
      "Current features: ['wind_power_density_100_dwd', 'wind_power_density_100_ncep']\n",
      "--------------------\n",
      "Step 3:\n",
      "Added feature: WindSpeed:100_dwd_rolling_std_6h\n",
      "R-squared score: 0.7717\n",
      "Feature importance: 0.0096\n",
      "Tree depth: 12\n",
      "MSE: 0.1811\n",
      "Current features: ['wind_power_density_100_dwd', 'wind_power_density_100_ncep', 'WindSpeed:100_dwd_rolling_std_6h']\n",
      "--------------------\n",
      "Step 4:\n",
      "Added feature: boa_MWh\n",
      "R-squared score: 0.7734\n",
      "Feature importance: 0.0011\n",
      "Tree depth: 12\n",
      "MSE: 0.1814\n",
      "Current features: ['wind_power_density_100_dwd', 'wind_power_density_100_ncep', 'WindSpeed:100_dwd_rolling_std_6h', 'boa_MWh']\n",
      "--------------------\n",
      "Step 5:\n",
      "Added feature: WindSpeed:100_ncep\n",
      "R-squared score: 0.7734\n",
      "Feature importance: 0.0877\n",
      "Tree depth: 12\n",
      "MSE: 0.1814\n",
      "Current features: ['wind_power_density_100_dwd', 'wind_power_density_100_ncep', 'WindSpeed:100_dwd_rolling_std_6h', 'boa_MWh', 'WindSpeed:100_ncep']\n",
      "--------------------\n",
      "Step 6:\n",
      "Added feature: WindSpeed:100_dwd\n",
      "R-squared score: 0.7734\n",
      "Feature importance: 0.0320\n",
      "Tree depth: 12\n",
      "MSE: 0.1814\n",
      "Current features: ['wind_power_density_100_dwd', 'wind_power_density_100_ncep', 'WindSpeed:100_dwd_rolling_std_6h', 'boa_MWh', 'WindSpeed:100_ncep', 'WindSpeed:100_dwd']\n",
      "--------------------\n",
      "Step 7:\n",
      "Added feature: wind_speed_model_diff\n",
      "R-squared score: 0.7733\n",
      "Feature importance: 0.0021\n",
      "Tree depth: 12\n",
      "MSE: 0.1811\n",
      "Current features: ['wind_power_density_100_dwd', 'wind_power_density_100_ncep', 'WindSpeed:100_dwd_rolling_std_6h', 'boa_MWh', 'WindSpeed:100_ncep', 'WindSpeed:100_dwd', 'wind_speed_model_diff']\n",
      "--------------------\n",
      "Step 8:\n",
      "Added feature: WindSpeed:100_ncep_rolling_mean_6h\n",
      "R-squared score: 0.7719\n",
      "Feature importance: 0.0047\n",
      "Tree depth: 12\n",
      "MSE: 0.1792\n",
      "Current features: ['wind_power_density_100_dwd', 'wind_power_density_100_ncep', 'WindSpeed:100_dwd_rolling_std_6h', 'boa_MWh', 'WindSpeed:100_ncep', 'WindSpeed:100_dwd', 'wind_speed_model_diff', 'WindSpeed:100_ncep_rolling_mean_6h']\n",
      "--------------------\n",
      "Step 9:\n",
      "Added feature: WindSpeed:100_ncep_rolling_std_6h\n",
      "R-squared score: 0.7713\n",
      "Feature importance: 0.0034\n",
      "Tree depth: 12\n",
      "MSE: 0.1783\n",
      "Current features: ['wind_power_density_100_dwd', 'wind_power_density_100_ncep', 'WindSpeed:100_dwd_rolling_std_6h', 'boa_MWh', 'WindSpeed:100_ncep', 'WindSpeed:100_dwd', 'wind_speed_model_diff', 'WindSpeed:100_ncep_rolling_mean_6h', 'WindSpeed:100_ncep_rolling_std_6h']\n",
      "--------------------\n",
      "Step 10:\n",
      "Added feature: WindSpeed:100_dwd_rolling_mean_6h\n",
      "R-squared score: 0.7704\n",
      "Feature importance: 0.0028\n",
      "Tree depth: 12\n",
      "MSE: 0.1778\n",
      "Current features: ['wind_power_density_100_dwd', 'wind_power_density_100_ncep', 'WindSpeed:100_dwd_rolling_std_6h', 'boa_MWh', 'WindSpeed:100_ncep', 'WindSpeed:100_dwd', 'wind_speed_model_diff', 'WindSpeed:100_ncep_rolling_mean_6h', 'WindSpeed:100_ncep_rolling_std_6h', 'WindSpeed:100_dwd_rolling_mean_6h']\n",
      "--------------------\n",
      "Step 11:\n",
      "Added feature: wind_direction_model_diff\n",
      "R-squared score: 0.7695\n",
      "Feature importance: 0.0027\n",
      "Tree depth: 12\n",
      "MSE: 0.1764\n",
      "Current features: ['wind_power_density_100_dwd', 'wind_power_density_100_ncep', 'WindSpeed:100_dwd_rolling_std_6h', 'boa_MWh', 'WindSpeed:100_ncep', 'WindSpeed:100_dwd', 'wind_speed_model_diff', 'WindSpeed:100_ncep_rolling_mean_6h', 'WindSpeed:100_ncep_rolling_std_6h', 'WindSpeed:100_dwd_rolling_mean_6h', 'wind_direction_model_diff']\n",
      "--------------------\n",
      "Step 12:\n",
      "Added feature: forecast_horizon\n",
      "R-squared score: 0.7687\n",
      "Feature importance: 0.0023\n",
      "Tree depth: 12\n",
      "MSE: 0.1751\n",
      "Current features: ['wind_power_density_100_dwd', 'wind_power_density_100_ncep', 'WindSpeed:100_dwd_rolling_std_6h', 'boa_MWh', 'WindSpeed:100_ncep', 'WindSpeed:100_dwd', 'wind_speed_model_diff', 'WindSpeed:100_ncep_rolling_mean_6h', 'WindSpeed:100_ncep_rolling_std_6h', 'WindSpeed:100_dwd_rolling_mean_6h', 'wind_direction_model_diff', 'forecast_horizon']\n",
      "--------------------\n",
      "Step 13:\n",
      "Added feature: hour\n",
      "R-squared score: 0.7664\n",
      "Feature importance: 0.0024\n",
      "Tree depth: 12\n",
      "MSE: 0.1741\n",
      "Current features: ['wind_power_density_100_dwd', 'wind_power_density_100_ncep', 'WindSpeed:100_dwd_rolling_std_6h', 'boa_MWh', 'WindSpeed:100_ncep', 'WindSpeed:100_dwd', 'wind_speed_model_diff', 'WindSpeed:100_ncep_rolling_mean_6h', 'WindSpeed:100_ncep_rolling_std_6h', 'WindSpeed:100_dwd_rolling_mean_6h', 'wind_direction_model_diff', 'forecast_horizon', 'hour']\n",
      "--------------------\n",
      "Step 14:\n",
      "Added feature: humidity_model_diff\n",
      "R-squared score: 0.7623\n",
      "Feature importance: 0.0031\n",
      "Tree depth: 12\n",
      "MSE: 0.1722\n",
      "Current features: ['wind_power_density_100_dwd', 'wind_power_density_100_ncep', 'WindSpeed:100_dwd_rolling_std_6h', 'boa_MWh', 'WindSpeed:100_ncep', 'WindSpeed:100_dwd', 'wind_speed_model_diff', 'WindSpeed:100_ncep_rolling_mean_6h', 'WindSpeed:100_ncep_rolling_std_6h', 'WindSpeed:100_dwd_rolling_mean_6h', 'wind_direction_model_diff', 'forecast_horizon', 'hour', 'humidity_model_diff']\n",
      "--------------------\n",
      "Step 15:\n",
      "Added feature: WindSpeed_ncep\n",
      "R-squared score: 0.7586\n",
      "Feature importance: 0.0069\n",
      "Tree depth: 12\n",
      "MSE: 0.1675\n",
      "Current features: ['wind_power_density_100_dwd', 'wind_power_density_100_ncep', 'WindSpeed:100_dwd_rolling_std_6h', 'boa_MWh', 'WindSpeed:100_ncep', 'WindSpeed:100_dwd', 'wind_speed_model_diff', 'WindSpeed:100_ncep_rolling_mean_6h', 'WindSpeed:100_ncep_rolling_std_6h', 'WindSpeed:100_dwd_rolling_mean_6h', 'wind_direction_model_diff', 'forecast_horizon', 'hour', 'humidity_model_diff', 'WindSpeed_ncep']\n",
      "--------------------\n"
     ]
    },
    {
     "data": {
      "image/png": "[encoded data removed]",
      "text/plain": [
       "<Figure size 1500x1000 with 4 Axes>"
      ]
     },
     "metadata": {},
     "output_type": "display_data"
    },
    {
     "name": "stdout",
     "output_type": "stream",
     "text": [
      "\n",
      "Final Model Analysis:\n",
      "Tree Depth: 25\n",
      "Number of Leaves: 232909\n",
      "\n",
      "Feature Importances:\n",
      "                               Feature  Importance\n",
      "0           wind_power_density_100_dwd    0.668746\n",
      "4                   WindSpeed:100_ncep    0.144959\n",
      "5                    WindSpeed:100_dwd    0.028611\n",
      "14                      WindSpeed_ncep    0.019912\n",
      "13                 humidity_model_diff    0.017922\n",
      "2     WindSpeed:100_dwd_rolling_std_6h    0.017096\n",
      "7   WindSpeed:100_ncep_rolling_mean_6h    0.014668\n",
      "12                                hour    0.014496\n",
      "10           wind_direction_model_diff    0.014159\n",
      "8    WindSpeed:100_ncep_rolling_std_6h    0.014014\n",
      "11                    forecast_horizon    0.013509\n",
      "9    WindSpeed:100_dwd_rolling_mean_6h    0.013349\n",
      "6                wind_speed_model_diff    0.009222\n",
      "1          wind_power_density_100_ncep    0.008579\n",
      "3                              boa_MWh    0.000758\n"
     ]
    }
   ],
   "source": [
    "summary1, selected_features1, final_model, importances = run_decision_tree_selection(df_wind2.drop(columns=['Wind_MW']), 'Wind_MWh_credit')"
   ]
  },
  {
   "cell_type": "code",
   "execution_count": 18,
   "metadata": {},
   "outputs": [
    {
     "data": {
      "text/plain": [
       "Index(['valid_time', 'reference_time', 'RelativeHumidity_dwd',\n",
       "       'Temperature_dwd', 'WindDirection_dwd', 'WindDirection:100_dwd',\n",
       "       'WindSpeed_dwd', 'WindSpeed:100_dwd', 'RelativeHumidity_ncep',\n",
       "       'Temperature_ncep', 'WindDirection_ncep', 'WindDirection:100_ncep',\n",
       "       'WindSpeed_ncep', 'WindSpeed:100_ncep', 'dtm', 'MIP', 'Wind_MW',\n",
       "       'SS_Price', 'boa_MWh', 'DA_Price', 'Wind_MWh_credit'],\n",
       "      dtype='object')"
      ]
     },
     "execution_count": 18,
     "metadata": {},
     "output_type": "execute_result"
    }
   ],
   "source": [
    "df_wind.columns"
   ]
  },
  {
   "cell_type": "code",
   "execution_count": 4,
   "metadata": {},
   "outputs": [
    {
     "name": "stdout",
     "output_type": "stream",
     "text": [
      "Series([], dtype: int64)\n"
     ]
    }
   ],
   "source": [
    "# Display columns with NaN values and their counts\n",
    "na_columns = df_wind.isna().sum()\n",
    "na_columns = na_columns[na_columns > 0]\n",
    "print(na_columns)"
   ]
  },
  {
   "cell_type": "code",
   "execution_count": 12,
   "metadata": {},
   "outputs": [
    {
     "data": {
      "text/plain": [
       "wind_direction_model_diff                -0.267201\n",
       "direction_diff_dwd                       -0.175400\n",
       "humidity_model_diff                      -0.165358\n",
       "MIP                                      -0.150851\n",
       "Temperature_ncep_rolling_mean_6h         -0.143564\n",
       "Temperature_ncep                         -0.142823\n",
       "DA_Price                                 -0.131504\n",
       "Temperature_dwd_rolling_mean_6h          -0.127831\n",
       "Temperature_dwd                          -0.125962\n",
       "direction_diff_ncep                      -0.120320\n",
       "SS_Price                                 -0.106251\n",
       "boa_MWh                                  -0.074960\n",
       "season                                   -0.067980\n",
       "RelativeHumidity_dwd                     -0.050708\n",
       "forecast_horizon                          0.000189\n",
       "day_of_week                               0.000363\n",
       "hour                                      0.014357\n",
       "wind_speed_model_diff                     0.028372\n",
       "RelativeHumidity_ncep                     0.054560\n",
       "month                                     0.057127\n",
       "temperature_model_diff                    0.066031\n",
       "WindSpeed:100_ncep_rolling_std_6h         0.090345\n",
       "WindSpeed:100_dwd_rolling_std_6h          0.102086\n",
       "WindDirection:100_dwd_rolling_mean_6h     0.108429\n",
       "WindDirection:100_dwd                     0.114422\n",
       "WindDirection_dwd                         0.116812\n",
       "air_density_dwd                           0.124763\n",
       "WindDirection:100_ncep_rolling_mean_6h    0.135814\n",
       "air_density_ncep                          0.141741\n",
       "WindDirection:100_ncep                    0.141837\n",
       "WindDirection_ncep                        0.144168\n",
       "wind_shear_dwd                            0.588398\n",
       "wind_power_density_100_ncep               0.605442\n",
       "wind_power_density_100_dwd                0.617277\n",
       "wind_shear_ncep                           0.658531\n",
       "WindSpeed:100_dwd_rolling_mean_6h         0.805374\n",
       "WindSpeed:100_ncep_rolling_mean_6h        0.806279\n",
       "WindSpeed_ncep                            0.811262\n",
       "WindSpeed_dwd                             0.813973\n",
       "WindSpeed:100_ncep                        0.821797\n",
       "WindSpeed:100_dwd                         0.826135\n",
       "Wind_MW                                   0.995052\n",
       "Wind_MWh_credit                           1.000000\n",
       "Name: Wind_MWh_credit, dtype: float64"
      ]
     },
     "execution_count": 12,
     "metadata": {},
     "output_type": "execute_result"
    }
   ],
   "source": [
    "#correlation between features and Wind_MWh_credit\n",
    "correlation = df_wind1.drop(columns=['dtm','reference_time','valid_time']).corr()['Wind_MWh_credit'].sort_values()\n",
    "correlation"
   ]
  },
  {
   "cell_type": "code",
   "execution_count": 12,
   "metadata": {},
   "outputs": [
    {
     "data": {
      "application/vnd.plotly.v1+json": {
       "config": {
        "plotlyServerURL": "https://plot.ly"
       },
       "data": [
        {
         "alignmentgroup": "True",
         "hovertemplate": "Features=%{x}<br>Relative Variance=%{y}<extra></extra>",
         "legendgroup": "",
         "marker": {
          "color": "#636efa",
          "pattern": {
           "shape": ""
          }
         },
         "name": "",
         "offsetgroup": "",
         "orientation": "v",
         "showlegend": false,
         "textposition": "auto",
         "type": "bar",
         "x": [
          "RelativeHumidity_dwd",
          "Temperature_dwd",
          "WindDirection_dwd",
          "WindDirection:100_dwd",
          "WindSpeed_dwd",
          "WindSpeed:100_dwd",
          "RelativeHumidity_ncep",
          "Temperature_ncep",
          "WindDirection_ncep",
          "WindDirection:100_ncep",
          "WindSpeed_ncep",
          "WindSpeed:100_ncep",
          "MIP",
          "Wind_MW",
          "SS_Price",
          "boa_MWh",
          "DA_Price",
          "Wind_MWh_credit"
         ],
         "xaxis": "x",
         "y": [
          0.802920434145097,
          1.456812401187931,
          40.256726980939874,
          39.89737873008304,
          1.9665106867555917,
          2.4147838612351173,
          1.0288367787269324,
          1.4513139640158075,
          39.636825653788144,
          39.39865068666619,
          1.801318203096107,
          2.33298861862662,
          70.83224741103793,
          324.49695617785807,
          129.1165238163595,
          -314.4156526227021,
          76.60453492050254,
          162.23639167833534
         ],
         "yaxis": "y"
        }
       ],
       "layout": {
        "barmode": "relative",
        "legend": {
         "tracegroupgap": 0
        },
        "template": {
         "data": {
          "bar": [
           {
            "error_x": {
             "color": "#2a3f5f"
            },
            "error_y": {
             "color": "#2a3f5f"
            },
            "marker": {
             "line": {
              "color": "#E5ECF6",
              "width": 0.5
             },
             "pattern": {
              "fillmode": "overlay",
              "size": 10,
              "solidity": 0.2
             }
            },
            "type": "bar"
           }
          ],
          "barpolar": [
           {
            "marker": {
             "line": {
              "color": "#E5ECF6",
              "width": 0.5
             },
             "pattern": {
              "fillmode": "overlay",
              "size": 10,
              "solidity": 0.2
             }
            },
            "type": "barpolar"
           }
          ],
          "carpet": [
           {
            "aaxis": {
             "endlinecolor": "#2a3f5f",
             "gridcolor": "white",
             "linecolor": "white",
             "minorgridcolor": "white",
             "startlinecolor": "#2a3f5f"
            },
            "baxis": {
             "endlinecolor": "#2a3f5f",
             "gridcolor": "white",
             "linecolor": "white",
             "minorgridcolor": "white",
             "startlinecolor": "#2a3f5f"
            },
            "type": "carpet"
           }
          ],
          "choropleth": [
           {
            "colorbar": {
             "outlinewidth": 0,
             "ticks": ""
            },
            "type": "choropleth"
           }
          ],
          "contour": [
           {
            "colorbar": {
             "outlinewidth": 0,
             "ticks": ""
            },
            "colorscale": [
             [
              0,
              "#0d0887"
             ],
             [
              0.1111111111111111,
              "#46039f"
             ],
             [
              0.2222222222222222,
              "#7201a8"
             ],
             [
              0.3333333333333333,
              "#9c179e"
             ],
             [
              0.4444444444444444,
              "#bd3786"
             ],
             [
              0.5555555555555556,
              "#d8576b"
             ],
             [
              0.6666666666666666,
              "#ed7953"
             ],
             [
              0.7777777777777778,
              "#fb9f3a"
             ],
             [
              0.8888888888888888,
              "#fdca26"
             ],
             [
              1,
              "#f0f921"
             ]
            ],
            "type": "contour"
           }
          ],
          "contourcarpet": [
           {
            "colorbar": {
             "outlinewidth": 0,
             "ticks": ""
            },
            "type": "contourcarpet"
           }
          ],
          "heatmap": [
           {
            "colorbar": {
             "outlinewidth": 0,
             "ticks": ""
            },
            "colorscale": [
             [
              0,
              "#0d0887"
             ],
             [
              0.1111111111111111,
              "#46039f"
             ],
             [
              0.2222222222222222,
              "#7201a8"
             ],
             [
              0.3333333333333333,
              "#9c179e"
             ],
             [
              0.4444444444444444,
              "#bd3786"
             ],
             [
              0.5555555555555556,
              "#d8576b"
             ],
             [
              0.6666666666666666,
              "#ed7953"
             ],
             [
              0.7777777777777778,
              "#fb9f3a"
             ],
             [
              0.8888888888888888,
              "#fdca26"
             ],
             [
              1,
              "#f0f921"
             ]
            ],
            "type": "heatmap"
           }
          ],
          "heatmapgl": [
           {
            "colorbar": {
             "outlinewidth": 0,
             "ticks": ""
            },
            "colorscale": [
             [
              0,
              "#0d0887"
             ],
             [
              0.1111111111111111,
              "#46039f"
             ],
             [
              0.2222222222222222,
              "#7201a8"
             ],
             [
              0.3333333333333333,
              "#9c179e"
             ],
             [
              0.4444444444444444,
              "#bd3786"
             ],
             [
              0.5555555555555556,
              "#d8576b"
             ],
             [
              0.6666666666666666,
              "#ed7953"
             ],
             [
              0.7777777777777778,
              "#fb9f3a"
             ],
             [
              0.8888888888888888,
              "#fdca26"
             ],
             [
              1,
              "#f0f921"
             ]
            ],
            "type": "heatmapgl"
           }
          ],
          "histogram": [
           {
            "marker": {
             "pattern": {
              "fillmode": "overlay",
              "size": 10,
              "solidity": 0.2
             }
            },
            "type": "histogram"
           }
          ],
          "histogram2d": [
           {
            "colorbar": {
             "outlinewidth": 0,
             "ticks": ""
            },
            "colorscale": [
             [
              0,
              "#0d0887"
             ],
             [
              0.1111111111111111,
              "#46039f"
             ],
             [
              0.2222222222222222,
              "#7201a8"
             ],
             [
              0.3333333333333333,
              "#9c179e"
             ],
             [
              0.4444444444444444,
              "#bd3786"
             ],
             [
              0.5555555555555556,
              "#d8576b"
             ],
             [
              0.6666666666666666,
              "#ed7953"
             ],
             [
              0.7777777777777778,
              "#fb9f3a"
             ],
             [
              0.8888888888888888,
              "#fdca26"
             ],
             [
              1,
              "#f0f921"
             ]
            ],
            "type": "histogram2d"
           }
          ],
          "histogram2dcontour": [
           {
            "colorbar": {
             "outlinewidth": 0,
             "ticks": ""
            },
            "colorscale": [
             [
              0,
              "#0d0887"
             ],
             [
              0.1111111111111111,
              "#46039f"
             ],
             [
              0.2222222222222222,
              "#7201a8"
             ],
             [
              0.3333333333333333,
              "#9c179e"
             ],
             [
              0.4444444444444444,
              "#bd3786"
             ],
             [
              0.5555555555555556,
              "#d8576b"
             ],
             [
              0.6666666666666666,
              "#ed7953"
             ],
             [
              0.7777777777777778,
              "#fb9f3a"
             ],
             [
              0.8888888888888888,
              "#fdca26"
             ],
             [
              1,
              "#f0f921"
             ]
            ],
            "type": "histogram2dcontour"
           }
          ],
          "mesh3d": [
           {
            "colorbar": {
             "outlinewidth": 0,
             "ticks": ""
            },
            "type": "mesh3d"
           }
          ],
          "parcoords": [
           {
            "line": {
             "colorbar": {
              "outlinewidth": 0,
              "ticks": ""
             }
            },
            "type": "parcoords"
           }
          ],
          "pie": [
           {
            "automargin": true,
            "type": "pie"
           }
          ],
          "scatter": [
           {
            "fillpattern": {
             "fillmode": "overlay",
             "size": 10,
             "solidity": 0.2
            },
            "type": "scatter"
           }
          ],
          "scatter3d": [
           {
            "line": {
             "colorbar": {
              "outlinewidth": 0,
              "ticks": ""
             }
            },
            "marker": {
             "colorbar": {
              "outlinewidth": 0,
              "ticks": ""
             }
            },
            "type": "scatter3d"
           }
          ],
          "scattercarpet": [
           {
            "marker": {
             "colorbar": {
              "outlinewidth": 0,
              "ticks": ""
             }
            },
            "type": "scattercarpet"
           }
          ],
          "scattergeo": [
           {
            "marker": {
             "colorbar": {
              "outlinewidth": 0,
              "ticks": ""
             }
            },
            "type": "scattergeo"
           }
          ],
          "scattergl": [
           {
            "marker": {
             "colorbar": {
              "outlinewidth": 0,
              "ticks": ""
             }
            },
            "type": "scattergl"
           }
          ],
          "scattermapbox": [
           {
            "marker": {
             "colorbar": {
              "outlinewidth": 0,
              "ticks": ""
             }
            },
            "type": "scattermapbox"
           }
          ],
          "scatterpolar": [
           {
            "marker": {
             "colorbar": {
              "outlinewidth": 0,
              "ticks": ""
             }
            },
            "type": "scatterpolar"
           }
          ],
          "scatterpolargl": [
           {
            "marker": {
             "colorbar": {
              "outlinewidth": 0,
              "ticks": ""
             }
            },
            "type": "scatterpolargl"
           }
          ],
          "scatterternary": [
           {
            "marker": {
             "colorbar": {
              "outlinewidth": 0,
              "ticks": ""
             }
            },
            "type": "scatterternary"
           }
          ],
          "surface": [
           {
            "colorbar": {
             "outlinewidth": 0,
             "ticks": ""
            },
            "colorscale": [
             [
              0,
              "#0d0887"
             ],
             [
              0.1111111111111111,
              "#46039f"
             ],
             [
              0.2222222222222222,
              "#7201a8"
             ],
             [
              0.3333333333333333,
              "#9c179e"
             ],
             [
              0.4444444444444444,
              "#bd3786"
             ],
             [
              0.5555555555555556,
              "#d8576b"
             ],
             [
              0.6666666666666666,
              "#ed7953"
             ],
             [
              0.7777777777777778,
              "#fb9f3a"
             ],
             [
              0.8888888888888888,
              "#fdca26"
             ],
             [
              1,
              "#f0f921"
             ]
            ],
            "type": "surface"
           }
          ],
          "table": [
           {
            "cells": {
             "fill": {
              "color": "#EBF0F8"
             },
             "line": {
              "color": "white"
             }
            },
            "header": {
             "fill": {
              "color": "#C8D4E3"
             },
             "line": {
              "color": "white"
             }
            },
            "type": "table"
           }
          ]
         },
         "layout": {
          "annotationdefaults": {
           "arrowcolor": "#2a3f5f",
           "arrowhead": 0,
           "arrowwidth": 1
          },
          "autotypenumbers": "strict",
          "coloraxis": {
           "colorbar": {
            "outlinewidth": 0,
            "ticks": ""
           }
          },
          "colorscale": {
           "diverging": [
            [
             0,
             "#8e0152"
            ],
            [
             0.1,
             "#c51b7d"
            ],
            [
             0.2,
             "#de77ae"
            ],
            [
             0.3,
             "#f1b6da"
            ],
            [
             0.4,
             "#fde0ef"
            ],
            [
             0.5,
             "#f7f7f7"
            ],
            [
             0.6,
             "#e6f5d0"
            ],
            [
             0.7,
             "#b8e186"
            ],
            [
             0.8,
             "#7fbc41"
            ],
            [
             0.9,
             "#4d9221"
            ],
            [
             1,
             "#276419"
            ]
           ],
           "sequential": [
            [
             0,
             "#0d0887"
            ],
            [
             0.1111111111111111,
             "#46039f"
            ],
            [
             0.2222222222222222,
             "#7201a8"
            ],
            [
             0.3333333333333333,
             "#9c179e"
            ],
            [
             0.4444444444444444,
             "#bd3786"
            ],
            [
             0.5555555555555556,
             "#d8576b"
            ],
            [
             0.6666666666666666,
             "#ed7953"
            ],
            [
             0.7777777777777778,
             "#fb9f3a"
            ],
            [
             0.8888888888888888,
             "#fdca26"
            ],
            [
             1,
             "#f0f921"
            ]
           ],
           "sequentialminus": [
            [
             0,
             "#0d0887"
            ],
            [
             0.1111111111111111,
             "#46039f"
            ],
            [
             0.2222222222222222,
             "#7201a8"
            ],
            [
             0.3333333333333333,
             "#9c179e"
            ],
            [
             0.4444444444444444,
             "#bd3786"
            ],
            [
             0.5555555555555556,
             "#d8576b"
            ],
            [
             0.6666666666666666,
             "#ed7953"
            ],
            [
             0.7777777777777778,
             "#fb9f3a"
            ],
            [
             0.8888888888888888,
             "#fdca26"
            ],
            [
             1,
             "#f0f921"
            ]
           ]
          },
          "colorway": [
           "#636efa",
           "#EF553B",
           "#00cc96",
           "#ab63fa",
           "#FFA15A",
           "#19d3f3",
           "#FF6692",
           "#B6E880",
           "#FF97FF",
           "#FECB52"
          ],
          "font": {
           "color": "#2a3f5f"
          },
          "geo": {
           "bgcolor": "white",
           "lakecolor": "white",
           "landcolor": "#E5ECF6",
           "showlakes": true,
           "showland": true,
           "subunitcolor": "white"
          },
          "hoverlabel": {
           "align": "left"
          },
          "hovermode": "closest",
          "mapbox": {
           "style": "light"
          },
          "paper_bgcolor": "white",
          "plot_bgcolor": "#E5ECF6",
          "polar": {
           "angularaxis": {
            "gridcolor": "white",
            "linecolor": "white",
            "ticks": ""
           },
           "bgcolor": "#E5ECF6",
           "radialaxis": {
            "gridcolor": "white",
            "linecolor": "white",
            "ticks": ""
           }
          },
          "scene": {
           "xaxis": {
            "backgroundcolor": "#E5ECF6",
            "gridcolor": "white",
            "gridwidth": 2,
            "linecolor": "white",
            "showbackground": true,
            "ticks": "",
            "zerolinecolor": "white"
           },
           "yaxis": {
            "backgroundcolor": "#E5ECF6",
            "gridcolor": "white",
            "gridwidth": 2,
            "linecolor": "white",
            "showbackground": true,
            "ticks": "",
            "zerolinecolor": "white"
           },
           "zaxis": {
            "backgroundcolor": "#E5ECF6",
            "gridcolor": "white",
            "gridwidth": 2,
            "linecolor": "white",
            "showbackground": true,
            "ticks": "",
            "zerolinecolor": "white"
           }
          },
          "shapedefaults": {
           "line": {
            "color": "#2a3f5f"
           }
          },
          "ternary": {
           "aaxis": {
            "gridcolor": "white",
            "linecolor": "white",
            "ticks": ""
           },
           "baxis": {
            "gridcolor": "white",
            "linecolor": "white",
            "ticks": ""
           },
           "bgcolor": "#E5ECF6",
           "caxis": {
            "gridcolor": "white",
            "linecolor": "white",
            "ticks": ""
           }
          },
          "title": {
           "x": 0.05
          },
          "xaxis": {
           "automargin": true,
           "gridcolor": "white",
           "linecolor": "white",
           "ticks": "",
           "title": {
            "standoff": 15
           },
           "zerolinecolor": "white",
           "zerolinewidth": 2
          },
          "yaxis": {
           "automargin": true,
           "gridcolor": "white",
           "linecolor": "white",
           "ticks": "",
           "title": {
            "standoff": 15
           },
           "zerolinecolor": "white",
           "zerolinewidth": 2
          }
         }
        },
        "title": {
         "text": "Relative Variance of Each Feature"
        },
        "xaxis": {
         "anchor": "y",
         "domain": [
          0,
          1
         ],
         "title": {
          "text": "Features"
         }
        },
        "yaxis": {
         "anchor": "x",
         "domain": [
          0,
          1
         ],
         "title": {
          "text": "Relative Variance"
         }
        }
       }
      }
     },
     "metadata": {},
     "output_type": "display_data"
    }
   ],
   "source": [
    "import plotly.express as px\n",
    "\n",
    "# Calculate the relative variance\n",
    "variance = df_wind.drop(columns=['dtm','reference_time','valid_time']).var()\n",
    "\n",
    "# Calculate the relative variance\n",
    "relative_variance = df_wind.drop(columns=['dtm','reference_time','valid_time']).var() / df_wind.drop(columns=['dtm','reference_time','valid_time']).mean()\n",
    "\n",
    "# Convert the relative variance to a DataFrame for plotting\n",
    "relative_variance_df = relative_variance.reset_index()\n",
    "relative_variance_df.columns = ['Feature', 'Relative Variance']\n",
    "\n",
    "# Plot the relative variance using Plotly\n",
    "fig = px.bar(relative_variance_df, x='Feature', y='Relative Variance', title='Relative Variance of Each Feature', labels={'Feature': 'Features', 'Relative Variance': 'Relative Variance'})\n",
    "fig.show()\n"
   ]
  },
  {
   "cell_type": "code",
   "execution_count": 11,
   "metadata": {},
   "outputs": [
    {
     "data": {
      "text/plain": [
       "RelativeHumidity_dwd        0.802920\n",
       "Temperature_dwd             1.456812\n",
       "WindDirection_dwd          40.256727\n",
       "WindDirection:100_dwd      39.897379\n",
       "WindSpeed_dwd               1.966511\n",
       "WindSpeed:100_dwd           2.414784\n",
       "RelativeHumidity_ncep       1.028837\n",
       "Temperature_ncep            1.451314\n",
       "WindDirection_ncep         39.636826\n",
       "WindDirection:100_ncep     39.398651\n",
       "WindSpeed_ncep              1.801318\n",
       "WindSpeed:100_ncep          2.332989\n",
       "MIP                        70.832247\n",
       "Wind_MW                   324.496956\n",
       "SS_Price                  129.116524\n",
       "boa_MWh                  -314.415653\n",
       "DA_Price                   76.604535\n",
       "Wind_MWh_credit           162.236392\n",
       "dtype: float64"
      ]
     },
     "execution_count": 11,
     "metadata": {},
     "output_type": "execute_result"
    }
   ],
   "source": [
    "df_wind.drop(columns=['dtm','reference_time','valid_time']).var() / df_wind.drop(columns=['dtm','reference_time','valid_time']).mean()"
   ]
  },
  {
   "cell_type": "code",
   "execution_count": 8,
   "metadata": {},
   "outputs": [
    {
     "data": {
      "text/plain": [
       "RelativeHumidity_dwd          66.362349\n",
       "Temperature_dwd               15.584204\n",
       "WindDirection_dwd           8069.283588\n",
       "WindDirection:100_dwd       8064.889913\n",
       "WindSpeed_dwd                 15.092709\n",
       "WindSpeed:100_dwd             23.224530\n",
       "RelativeHumidity_ncep         84.091752\n",
       "Temperature_ncep              15.015713\n",
       "WindDirection_ncep          7899.548149\n",
       "WindDirection:100_ncep      7936.057195\n",
       "WindSpeed_ncep                14.259837\n",
       "WindSpeed:100_ncep            22.852297\n",
       "MIP                         8531.408475\n",
       "Wind_MW                   182791.084349\n",
       "SS_Price                   15691.665884\n",
       "boa_MWh                      453.650419\n",
       "DA_Price                    9500.697283\n",
       "Wind_MWh_credit            45928.447521\n",
       "dtype: float64"
      ]
     },
     "execution_count": 8,
     "metadata": {},
     "output_type": "execute_result"
    }
   ],
   "source": [
    "df_wind.drop(columns=['dtm','reference_time','valid_time']).var()"
   ]
  },
  {
   "cell_type": "code",
   "execution_count": 13,
   "metadata": {},
   "outputs": [
    {
     "name": "stdout",
     "output_type": "stream",
     "text": [
      "Mean Squared Error: 14962.277636657054\n",
      "RelativeHumidity_dwd     2.466885\n",
      "Temperature_dwd          2.180043\n",
      "WindDirection_dwd       -0.063357\n",
      "WindSpeed_dwd           46.634465\n",
      "dtype: float64\n"
     ]
    }
   ],
   "source": [
    "from sklearn.linear_model import LinearRegression\n",
    "from sklearn.model_selection import train_test_split\n",
    "from sklearn.metrics import mean_squared_error\n",
    "\n",
    "# Define the features and target\n",
    "features = [\n",
    "    'RelativeHumidity_dwd', 'Temperature_dwd', 'WindDirection_dwd', 'WindSpeed_dwd',\n",
    "    # 'RelativeHumidity_ncep', 'Temperature_ncep', 'WindDirection_ncep', 'WindSpeed_ncep'\n",
    "]\n",
    "target = 'Wind_MWh_credit'\n",
    "\n",
    "# Split the data into training and testing sets\n",
    "X = df_wind[features]\n",
    "y = df_wind[target]\n",
    "X_train, X_test, y_train, y_test = train_test_split(X, y, test_size=0.2, random_state=42)\n",
    "\n",
    "# Initialize and train the linear regression model\n",
    "model = LinearRegression()\n",
    "model.fit(X_train, y_train)\n",
    "\n",
    "# Predict and calculate the mean squared error\n",
    "y_pred = model.predict(X_test)\n",
    "mse = mean_squared_error(y_test, y_pred)\n",
    "print(f'Mean Squared Error: {mse}')\n",
    "\n",
    "# Extract the coefficients\n",
    "coefficients = pd.Series(model.coef_, index=features)\n",
    "print(coefficients)"
   ]
  },
  {
   "cell_type": "code",
   "execution_count": 14,
   "metadata": {},
   "outputs": [
    {
     "name": "stdout",
     "output_type": "stream",
     "text": [
      "Mean Squared Error: 14633.900759631573\n",
      "RelativeHumidity_dwd     -0.250755\n",
      "Temperature_dwd           0.739294\n",
      "WindDirection:100_dwd    -0.041824\n",
      "WindSpeed:100_dwd        36.951738\n",
      "dtype: float64\n"
     ]
    }
   ],
   "source": [
    "from sklearn.linear_model import LinearRegression\n",
    "from sklearn.model_selection import train_test_split\n",
    "from sklearn.metrics import mean_squared_error\n",
    "\n",
    "# Define the features and target\n",
    "features = [\n",
    "    'RelativeHumidity_dwd', 'Temperature_dwd', 'WindDirection:100_dwd', 'WindSpeed:100_dwd',\n",
    "    # 'RelativeHumidity_ncep', 'Temperature_ncep', 'WindDirection_ncep', 'WindSpeed_ncep'\n",
    "]\n",
    "target = 'Wind_MWh_credit'\n",
    "\n",
    "# Split the data into training and testing sets\n",
    "X = df_wind[features]\n",
    "y = df_wind[target]\n",
    "X_train, X_test, y_train, y_test = train_test_split(X, y, test_size=0.2, random_state=42)\n",
    "\n",
    "# Initialize and train the linear regression model\n",
    "model = LinearRegression()\n",
    "model.fit(X_train, y_train)\n",
    "\n",
    "# Predict and calculate the mean squared error\n",
    "y_pred = model.predict(X_test)\n",
    "mse = mean_squared_error(y_test, y_pred)\n",
    "print(f'Mean Squared Error: {mse}')\n",
    "\n",
    "# Extract the coefficients\n",
    "coefficients = pd.Series(model.coef_, index=features)\n",
    "print(coefficients)"
   ]
  },
  {
   "cell_type": "code",
   "execution_count": 15,
   "metadata": {},
   "outputs": [
    {
     "name": "stdout",
     "output_type": "stream",
     "text": [
      "Mean Squared Error: 15471.114965766348\n",
      "RelativeHumidity_ncep     1.398799\n",
      "Temperature_ncep          1.877318\n",
      "WindDirection_ncep        0.012409\n",
      "WindSpeed_ncep           46.496240\n",
      "dtype: float64\n"
     ]
    }
   ],
   "source": [
    "from sklearn.linear_model import LinearRegression\n",
    "from sklearn.model_selection import train_test_split\n",
    "from sklearn.metrics import mean_squared_error\n",
    "\n",
    "# Define the features and target\n",
    "features = [\n",
    "    # 'RelativeHumidity_dwd', 'Temperature_dwd', 'WindDirection:100_dwd', 'WindSpeed:100_dwd',\n",
    "    'RelativeHumidity_ncep', 'Temperature_ncep', 'WindDirection_ncep', 'WindSpeed_ncep'\n",
    "]\n",
    "target = 'Wind_MWh_credit'\n",
    "\n",
    "# Split the data into training and testing sets\n",
    "X = df_wind[features]\n",
    "y = df_wind[target]\n",
    "X_train, X_test, y_train, y_test = train_test_split(X, y, test_size=0.2, random_state=42)\n",
    "\n",
    "# Initialize and train the linear regression model\n",
    "model = LinearRegression()\n",
    "model.fit(X_train, y_train)\n",
    "\n",
    "# Predict and calculate the mean squared error\n",
    "y_pred = model.predict(X_test)\n",
    "mse = mean_squared_error(y_test, y_pred)\n",
    "print(f'Mean Squared Error: {mse}')\n",
    "\n",
    "# Extract the coefficients\n",
    "coefficients = pd.Series(model.coef_, index=features)\n",
    "print(coefficients)"
   ]
  },
  {
   "cell_type": "code",
   "execution_count": 22,
   "metadata": {},
   "outputs": [
    {
     "name": "stdout",
     "output_type": "stream",
     "text": [
      "Mean Squared Error: 14937.881912504792\n",
      "RelativeHumidity_ncep     -0.449161\n",
      "Temperature_ncep           0.411196\n",
      "WindDirection:100_ncep     0.011090\n",
      "WindSpeed:100_ncep        36.959610\n",
      "dtype: float64\n"
     ]
    }
   ],
   "source": [
    "from sklearn.linear_model import LinearRegression\n",
    "from sklearn.model_selection import train_test_split\n",
    "from sklearn.metrics import mean_squared_error\n",
    "\n",
    "# Define the features and target\n",
    "features = [\n",
    "    # 'RelativeHumidity_dwd', 'Temperature_dwd', 'WindDirection:100_dwd', 'WindSpeed:100_dwd',\n",
    "    'RelativeHumidity_ncep', 'Temperature_ncep', 'WindDirection:100_ncep', 'WindSpeed:100_ncep'\n",
    "]\n",
    "target = 'Wind_MWh_credit'\n",
    "\n",
    "# Split the data into training and testing sets\n",
    "X = df_wind[features]\n",
    "y = df_wind[target]\n",
    "X_train, X_test, y_train, y_test = train_test_split(X, y, test_size=0.2, random_state=42)\n",
    "\n",
    "# Initialize and train the linear regression model\n",
    "model = LinearRegression()\n",
    "model.fit(X_train, y_train)\n",
    "\n",
    "# Predict and calculate the mean squared error\n",
    "y_pred = model.predict(X_test)\n",
    "mse = mean_squared_error(y_test, y_pred)\n",
    "print(f'Mean Squared Error: {mse}')\n",
    "\n",
    "# Extract the coefficients\n",
    "coefficients = pd.Series(model.coef_, index=features)\n",
    "print(coefficients)"
   ]
  },
  {
   "cell_type": "code",
   "execution_count": 17,
   "metadata": {},
   "outputs": [
    {
     "name": "stdout",
     "output_type": "stream",
     "text": [
      "Mean Squared Error: 14938.516400663282\n",
      "RelativeHumidity_ncep     -0.425817\n",
      "Temperature_ncep           0.319345\n",
      "WindDirection:100_ncep     0.011597\n",
      "WindSpeed:100_ncep        36.896945\n",
      "dtype: float64\n"
     ]
    }
   ],
   "source": [
    "from sklearn.linear_model import Lasso\n",
    "from sklearn.model_selection import train_test_split\n",
    "from sklearn.metrics import mean_squared_error\n",
    "import pandas as pd\n",
    "\n",
    "# Define the features and target\n",
    "features = [\n",
    "    # 'RelativeHumidity_dwd', 'Temperature_dwd', 'WindDirection:100_dwd', 'WindSpeed:100_dwd',\n",
    "    'RelativeHumidity_ncep', 'Temperature_ncep', 'WindDirection:100_ncep', 'WindSpeed:100_ncep'\n",
    "]\n",
    "target = 'Wind_MWh_credit'\n",
    "\n",
    "# Split the data into training and testing sets\n",
    "X = df_wind[features]\n",
    "y = df_wind[target]\n",
    "X_train, X_test, y_train, y_test = train_test_split(X, y, test_size=0.2, random_state=42)\n",
    "\n",
    "# Initialize and train the Lasso regression model\n",
    "model = Lasso(alpha=1.0)  # You can adjust the alpha parameter as needed\n",
    "model.fit(X_train, y_train)\n",
    "\n",
    "# Predict and calculate the mean squared error\n",
    "y_pred = model.predict(X_test)\n",
    "mse = mean_squared_error(y_test, y_pred)\n",
    "print(f'Mean Squared Error: {mse}')\n",
    "\n",
    "# Extract the coefficients\n",
    "coefficients = pd.Series(model.coef_, index=features)\n",
    "print(coefficients)"
   ]
  },
  {
   "cell_type": "code",
   "execution_count": 19,
   "metadata": {},
   "outputs": [
    {
     "name": "stdout",
     "output_type": "stream",
     "text": [
      "Mean Squared Error: 15471.75247257699\n",
      "RelativeHumidity_ncep     1.394322\n",
      "Temperature_ncep          1.792181\n",
      "WindDirection_ncep        0.012854\n",
      "WindSpeed_ncep           46.403795\n",
      "dtype: float64\n"
     ]
    }
   ],
   "source": [
    "from sklearn.linear_model import Lasso\n",
    "from sklearn.model_selection import train_test_split\n",
    "from sklearn.metrics import mean_squared_error\n",
    "import pandas as pd\n",
    "\n",
    "# Define the features and target\n",
    "features = [\n",
    "    # 'RelativeHumidity_dwd', 'Temperature_dwd', 'WindDirection:100_dwd', 'WindSpeed:100_dwd',\n",
    "    'RelativeHumidity_ncep', 'Temperature_ncep', 'WindDirection_ncep', 'WindSpeed_ncep'\n",
    "]\n",
    "target = 'Wind_MWh_credit'\n",
    "\n",
    "# Split the data into training and testing sets\n",
    "X = df_wind[features]\n",
    "y = df_wind[target]\n",
    "X_train, X_test, y_train, y_test = train_test_split(X, y, test_size=0.2, random_state=42)\n",
    "\n",
    "# Initialize and train the Lasso regression model\n",
    "model = Lasso(alpha=1.0)  # You can adjust the alpha parameter as needed\n",
    "model.fit(X_train, y_train)\n",
    "\n",
    "# Predict and calculate the mean squared error\n",
    "y_pred = model.predict(X_test)\n",
    "mse = mean_squared_error(y_test, y_pred)\n",
    "print(f'Mean Squared Error: {mse}')\n",
    "\n",
    "# Extract the coefficients\n",
    "coefficients = pd.Series(model.coef_, index=features)\n",
    "print(coefficients)"
   ]
  },
  {
   "cell_type": "code",
   "execution_count": 20,
   "metadata": {},
   "outputs": [
    {
     "name": "stdout",
     "output_type": "stream",
     "text": [
      "Mean Squared Error: 14634.577809894843\n",
      "RelativeHumidity_dwd     -0.225548\n",
      "Temperature_dwd           0.650510\n",
      "WindDirection:100_dwd    -0.041187\n",
      "WindSpeed:100_dwd        36.896966\n",
      "dtype: float64\n"
     ]
    }
   ],
   "source": [
    "from sklearn.linear_model import Lasso\n",
    "from sklearn.model_selection import train_test_split\n",
    "from sklearn.metrics import mean_squared_error\n",
    "import pandas as pd\n",
    "\n",
    "# Define the features and target\n",
    "features = [\n",
    "    'RelativeHumidity_dwd', 'Temperature_dwd', 'WindDirection:100_dwd', 'WindSpeed:100_dwd',\n",
    "    # 'RelativeHumidity_ncep', 'Temperature_ncep', 'WindDirection:100_ncep', 'WindSpeed:100_ncep'\n",
    "]\n",
    "target = 'Wind_MWh_credit'\n",
    "\n",
    "# Split the data into training and testing sets\n",
    "X = df_wind[features]\n",
    "y = df_wind[target]\n",
    "X_train, X_test, y_train, y_test = train_test_split(X, y, test_size=0.2, random_state=42)\n",
    "\n",
    "# Initialize and train the Lasso regression model\n",
    "model = Lasso(alpha=1.0)  # You can adjust the alpha parameter as needed\n",
    "model.fit(X_train, y_train)\n",
    "\n",
    "# Predict and calculate the mean squared error\n",
    "y_pred = model.predict(X_test)\n",
    "mse = mean_squared_error(y_test, y_pred)\n",
    "print(f'Mean Squared Error: {mse}')\n",
    "\n",
    "# Extract the coefficients\n",
    "coefficients = pd.Series(model.coef_, index=features)\n",
    "print(coefficients)"
   ]
  },
  {
   "cell_type": "code",
   "execution_count": 23,
   "metadata": {},
   "outputs": [
    {
     "name": "stdout",
     "output_type": "stream",
     "text": [
      "Mean Squared Error: 14937.881912504792\n",
      "                        Coefficient        P-value\n",
      "const                    -48.688569  8.985573e-166\n",
      "RelativeHumidity_ncep     -0.449161  2.305193e-100\n",
      "Temperature_ncep           0.411196   3.896858e-16\n",
      "WindDirection:100_ncep     0.011090   2.181581e-07\n",
      "WindSpeed:100_ncep        36.959610   0.000000e+00\n"
     ]
    }
   ],
   "source": [
    "import pandas as pd\n",
    "from sklearn.model_selection import train_test_split\n",
    "from sklearn.metrics import mean_squared_error\n",
    "import statsmodels.api as sm\n",
    "\n",
    "# Define the features and target\n",
    "features = [\n",
    "    # 'RelativeHumidity_dwd', 'Temperature_dwd', 'WindDirection:100_dwd', 'WindSpeed:100_dwd',\n",
    "    'RelativeHumidity_ncep', 'Temperature_ncep', 'WindDirection:100_ncep', 'WindSpeed:100_ncep'\n",
    "]\n",
    "target = 'Wind_MWh_credit'\n",
    "\n",
    "# Split the data into training and testing sets\n",
    "X = df_wind[features]\n",
    "y = df_wind[target]\n",
    "X_train, X_test, y_train, y_test = train_test_split(X, y, test_size=0.2, random_state=42)\n",
    "\n",
    "# Add a constant to the model (intercept)\n",
    "X_train = sm.add_constant(X_train)\n",
    "X_test = sm.add_constant(X_test)\n",
    "\n",
    "# Initialize and train the linear regression model using statsmodels\n",
    "model = sm.OLS(y_train, X_train).fit()\n",
    "\n",
    "# Predict and calculate the mean squared error\n",
    "y_pred = model.predict(X_test)\n",
    "mse = mean_squared_error(y_test, y_pred)\n",
    "print(f'Mean Squared Error: {mse}')\n",
    "\n",
    "# Extract the coefficients and p-values\n",
    "coefficients = model.params\n",
    "p_values = model.pvalues\n",
    "\n",
    "# Combine coefficients and p-values into a DataFrame\n",
    "results = pd.DataFrame({'Coefficient': coefficients, 'P-value': p_values})\n",
    "print(results)"
   ]
  },
  {
   "cell_type": "code",
   "execution_count": 24,
   "metadata": {},
   "outputs": [
    {
     "name": "stdout",
     "output_type": "stream",
     "text": [
      "Mean Squared Error: 11530.927524755072\n"
     ]
    },
    {
     "data": {
      "application/vnd.plotly.v1+json": {
       "config": {
        "plotlyServerURL": "https://plot.ly"
       },
       "data": [
        {
         "alignmentgroup": "True",
         "hovertemplate": "Features=%{x}<br>Importance=%{y}<extra></extra>",
         "legendgroup": "",
         "marker": {
          "color": "#636efa",
          "pattern": {
           "shape": ""
          }
         },
         "name": "",
         "offsetgroup": "",
         "orientation": "v",
         "showlegend": false,
         "textposition": "auto",
         "type": "bar",
         "x": [
          "RelativeHumidity_ncep",
          "Temperature_ncep",
          "WindDirection:100_ncep",
          "WindSpeed:100_ncep"
         ],
         "xaxis": "x",
         "y": [
          0.058549167659084356,
          0.07597263393258868,
          0.06575843431385386,
          0.7997197640944731
         ],
         "yaxis": "y"
        }
       ],
       "layout": {
        "barmode": "relative",
        "legend": {
         "tracegroupgap": 0
        },
        "template": {
         "data": {
          "bar": [
           {
            "error_x": {
             "color": "#2a3f5f"
            },
            "error_y": {
             "color": "#2a3f5f"
            },
            "marker": {
             "line": {
              "color": "#E5ECF6",
              "width": 0.5
             },
             "pattern": {
              "fillmode": "overlay",
              "size": 10,
              "solidity": 0.2
             }
            },
            "type": "bar"
           }
          ],
          "barpolar": [
           {
            "marker": {
             "line": {
              "color": "#E5ECF6",
              "width": 0.5
             },
             "pattern": {
              "fillmode": "overlay",
              "size": 10,
              "solidity": 0.2
             }
            },
            "type": "barpolar"
           }
          ],
          "carpet": [
           {
            "aaxis": {
             "endlinecolor": "#2a3f5f",
             "gridcolor": "white",
             "linecolor": "white",
             "minorgridcolor": "white",
             "startlinecolor": "#2a3f5f"
            },
            "baxis": {
             "endlinecolor": "#2a3f5f",
             "gridcolor": "white",
             "linecolor": "white",
             "minorgridcolor": "white",
             "startlinecolor": "#2a3f5f"
            },
            "type": "carpet"
           }
          ],
          "choropleth": [
           {
            "colorbar": {
             "outlinewidth": 0,
             "ticks": ""
            },
            "type": "choropleth"
           }
          ],
          "contour": [
           {
            "colorbar": {
             "outlinewidth": 0,
             "ticks": ""
            },
            "colorscale": [
             [
              0,
              "#0d0887"
             ],
             [
              0.1111111111111111,
              "#46039f"
             ],
             [
              0.2222222222222222,
              "#7201a8"
             ],
             [
              0.3333333333333333,
              "#9c179e"
             ],
             [
              0.4444444444444444,
              "#bd3786"
             ],
             [
              0.5555555555555556,
              "#d8576b"
             ],
             [
              0.6666666666666666,
              "#ed7953"
             ],
             [
              0.7777777777777778,
              "#fb9f3a"
             ],
             [
              0.8888888888888888,
              "#fdca26"
             ],
             [
              1,
              "#f0f921"
             ]
            ],
            "type": "contour"
           }
          ],
          "contourcarpet": [
           {
            "colorbar": {
             "outlinewidth": 0,
             "ticks": ""
            },
            "type": "contourcarpet"
           }
          ],
          "heatmap": [
           {
            "colorbar": {
             "outlinewidth": 0,
             "ticks": ""
            },
            "colorscale": [
             [
              0,
              "#0d0887"
             ],
             [
              0.1111111111111111,
              "#46039f"
             ],
             [
              0.2222222222222222,
              "#7201a8"
             ],
             [
              0.3333333333333333,
              "#9c179e"
             ],
             [
              0.4444444444444444,
              "#bd3786"
             ],
             [
              0.5555555555555556,
              "#d8576b"
             ],
             [
              0.6666666666666666,
              "#ed7953"
             ],
             [
              0.7777777777777778,
              "#fb9f3a"
             ],
             [
              0.8888888888888888,
              "#fdca26"
             ],
             [
              1,
              "#f0f921"
             ]
            ],
            "type": "heatmap"
           }
          ],
          "heatmapgl": [
           {
            "colorbar": {
             "outlinewidth": 0,
             "ticks": ""
            },
            "colorscale": [
             [
              0,
              "#0d0887"
             ],
             [
              0.1111111111111111,
              "#46039f"
             ],
             [
              0.2222222222222222,
              "#7201a8"
             ],
             [
              0.3333333333333333,
              "#9c179e"
             ],
             [
              0.4444444444444444,
              "#bd3786"
             ],
             [
              0.5555555555555556,
              "#d8576b"
             ],
             [
              0.6666666666666666,
              "#ed7953"
             ],
             [
              0.7777777777777778,
              "#fb9f3a"
             ],
             [
              0.8888888888888888,
              "#fdca26"
             ],
             [
              1,
              "#f0f921"
             ]
            ],
            "type": "heatmapgl"
           }
          ],
          "histogram": [
           {
            "marker": {
             "pattern": {
              "fillmode": "overlay",
              "size": 10,
              "solidity": 0.2
             }
            },
            "type": "histogram"
           }
          ],
          "histogram2d": [
           {
            "colorbar": {
             "outlinewidth": 0,
             "ticks": ""
            },
            "colorscale": [
             [
              0,
              "#0d0887"
             ],
             [
              0.1111111111111111,
              "#46039f"
             ],
             [
              0.2222222222222222,
              "#7201a8"
             ],
             [
              0.3333333333333333,
              "#9c179e"
             ],
             [
              0.4444444444444444,
              "#bd3786"
             ],
             [
              0.5555555555555556,
              "#d8576b"
             ],
             [
              0.6666666666666666,
              "#ed7953"
             ],
             [
              0.7777777777777778,
              "#fb9f3a"
             ],
             [
              0.8888888888888888,
              "#fdca26"
             ],
             [
              1,
              "#f0f921"
             ]
            ],
            "type": "histogram2d"
           }
          ],
          "histogram2dcontour": [
           {
            "colorbar": {
             "outlinewidth": 0,
             "ticks": ""
            },
            "colorscale": [
             [
              0,
              "#0d0887"
             ],
             [
              0.1111111111111111,
              "#46039f"
             ],
             [
              0.2222222222222222,
              "#7201a8"
             ],
             [
              0.3333333333333333,
              "#9c179e"
             ],
             [
              0.4444444444444444,
              "#bd3786"
             ],
             [
              0.5555555555555556,
              "#d8576b"
             ],
             [
              0.6666666666666666,
              "#ed7953"
             ],
             [
              0.7777777777777778,
              "#fb9f3a"
             ],
             [
              0.8888888888888888,
              "#fdca26"
             ],
             [
              1,
              "#f0f921"
             ]
            ],
            "type": "histogram2dcontour"
           }
          ],
          "mesh3d": [
           {
            "colorbar": {
             "outlinewidth": 0,
             "ticks": ""
            },
            "type": "mesh3d"
           }
          ],
          "parcoords": [
           {
            "line": {
             "colorbar": {
              "outlinewidth": 0,
              "ticks": ""
             }
            },
            "type": "parcoords"
           }
          ],
          "pie": [
           {
            "automargin": true,
            "type": "pie"
           }
          ],
          "scatter": [
           {
            "fillpattern": {
             "fillmode": "overlay",
             "size": 10,
             "solidity": 0.2
            },
            "type": "scatter"
           }
          ],
          "scatter3d": [
           {
            "line": {
             "colorbar": {
              "outlinewidth": 0,
              "ticks": ""
             }
            },
            "marker": {
             "colorbar": {
              "outlinewidth": 0,
              "ticks": ""
             }
            },
            "type": "scatter3d"
           }
          ],
          "scattercarpet": [
           {
            "marker": {
             "colorbar": {
              "outlinewidth": 0,
              "ticks": ""
             }
            },
            "type": "scattercarpet"
           }
          ],
          "scattergeo": [
           {
            "marker": {
             "colorbar": {
              "outlinewidth": 0,
              "ticks": ""
             }
            },
            "type": "scattergeo"
           }
          ],
          "scattergl": [
           {
            "marker": {
             "colorbar": {
              "outlinewidth": 0,
              "ticks": ""
             }
            },
            "type": "scattergl"
           }
          ],
          "scattermapbox": [
           {
            "marker": {
             "colorbar": {
              "outlinewidth": 0,
              "ticks": ""
             }
            },
            "type": "scattermapbox"
           }
          ],
          "scatterpolar": [
           {
            "marker": {
             "colorbar": {
              "outlinewidth": 0,
              "ticks": ""
             }
            },
            "type": "scatterpolar"
           }
          ],
          "scatterpolargl": [
           {
            "marker": {
             "colorbar": {
              "outlinewidth": 0,
              "ticks": ""
             }
            },
            "type": "scatterpolargl"
           }
          ],
          "scatterternary": [
           {
            "marker": {
             "colorbar": {
              "outlinewidth": 0,
              "ticks": ""
             }
            },
            "type": "scatterternary"
           }
          ],
          "surface": [
           {
            "colorbar": {
             "outlinewidth": 0,
             "ticks": ""
            },
            "colorscale": [
             [
              0,
              "#0d0887"
             ],
             [
              0.1111111111111111,
              "#46039f"
             ],
             [
              0.2222222222222222,
              "#7201a8"
             ],
             [
              0.3333333333333333,
              "#9c179e"
             ],
             [
              0.4444444444444444,
              "#bd3786"
             ],
             [
              0.5555555555555556,
              "#d8576b"
             ],
             [
              0.6666666666666666,
              "#ed7953"
             ],
             [
              0.7777777777777778,
              "#fb9f3a"
             ],
             [
              0.8888888888888888,
              "#fdca26"
             ],
             [
              1,
              "#f0f921"
             ]
            ],
            "type": "surface"
           }
          ],
          "table": [
           {
            "cells": {
             "fill": {
              "color": "#EBF0F8"
             },
             "line": {
              "color": "white"
             }
            },
            "header": {
             "fill": {
              "color": "#C8D4E3"
             },
             "line": {
              "color": "white"
             }
            },
            "type": "table"
           }
          ]
         },
         "layout": {
          "annotationdefaults": {
           "arrowcolor": "#2a3f5f",
           "arrowhead": 0,
           "arrowwidth": 1
          },
          "autotypenumbers": "strict",
          "coloraxis": {
           "colorbar": {
            "outlinewidth": 0,
            "ticks": ""
           }
          },
          "colorscale": {
           "diverging": [
            [
             0,
             "#8e0152"
            ],
            [
             0.1,
             "#c51b7d"
            ],
            [
             0.2,
             "#de77ae"
            ],
            [
             0.3,
             "#f1b6da"
            ],
            [
             0.4,
             "#fde0ef"
            ],
            [
             0.5,
             "#f7f7f7"
            ],
            [
             0.6,
             "#e6f5d0"
            ],
            [
             0.7,
             "#b8e186"
            ],
            [
             0.8,
             "#7fbc41"
            ],
            [
             0.9,
             "#4d9221"
            ],
            [
             1,
             "#276419"
            ]
           ],
           "sequential": [
            [
             0,
             "#0d0887"
            ],
            [
             0.1111111111111111,
             "#46039f"
            ],
            [
             0.2222222222222222,
             "#7201a8"
            ],
            [
             0.3333333333333333,
             "#9c179e"
            ],
            [
             0.4444444444444444,
             "#bd3786"
            ],
            [
             0.5555555555555556,
             "#d8576b"
            ],
            [
             0.6666666666666666,
             "#ed7953"
            ],
            [
             0.7777777777777778,
             "#fb9f3a"
            ],
            [
             0.8888888888888888,
             "#fdca26"
            ],
            [
             1,
             "#f0f921"
            ]
           ],
           "sequentialminus": [
            [
             0,
             "#0d0887"
            ],
            [
             0.1111111111111111,
             "#46039f"
            ],
            [
             0.2222222222222222,
             "#7201a8"
            ],
            [
             0.3333333333333333,
             "#9c179e"
            ],
            [
             0.4444444444444444,
             "#bd3786"
            ],
            [
             0.5555555555555556,
             "#d8576b"
            ],
            [
             0.6666666666666666,
             "#ed7953"
            ],
            [
             0.7777777777777778,
             "#fb9f3a"
            ],
            [
             0.8888888888888888,
             "#fdca26"
            ],
            [
             1,
             "#f0f921"
            ]
           ]
          },
          "colorway": [
           "#636efa",
           "#EF553B",
           "#00cc96",
           "#ab63fa",
           "#FFA15A",
           "#19d3f3",
           "#FF6692",
           "#B6E880",
           "#FF97FF",
           "#FECB52"
          ],
          "font": {
           "color": "#2a3f5f"
          },
          "geo": {
           "bgcolor": "white",
           "lakecolor": "white",
           "landcolor": "#E5ECF6",
           "showlakes": true,
           "showland": true,
           "subunitcolor": "white"
          },
          "hoverlabel": {
           "align": "left"
          },
          "hovermode": "closest",
          "mapbox": {
           "style": "light"
          },
          "paper_bgcolor": "white",
          "plot_bgcolor": "#E5ECF6",
          "polar": {
           "angularaxis": {
            "gridcolor": "white",
            "linecolor": "white",
            "ticks": ""
           },
           "bgcolor": "#E5ECF6",
           "radialaxis": {
            "gridcolor": "white",
            "linecolor": "white",
            "ticks": ""
           }
          },
          "scene": {
           "xaxis": {
            "backgroundcolor": "#E5ECF6",
            "gridcolor": "white",
            "gridwidth": 2,
            "linecolor": "white",
            "showbackground": true,
            "ticks": "",
            "zerolinecolor": "white"
           },
           "yaxis": {
            "backgroundcolor": "#E5ECF6",
            "gridcolor": "white",
            "gridwidth": 2,
            "linecolor": "white",
            "showbackground": true,
            "ticks": "",
            "zerolinecolor": "white"
           },
           "zaxis": {
            "backgroundcolor": "#E5ECF6",
            "gridcolor": "white",
            "gridwidth": 2,
            "linecolor": "white",
            "showbackground": true,
            "ticks": "",
            "zerolinecolor": "white"
           }
          },
          "shapedefaults": {
           "line": {
            "color": "#2a3f5f"
           }
          },
          "ternary": {
           "aaxis": {
            "gridcolor": "white",
            "linecolor": "white",
            "ticks": ""
           },
           "baxis": {
            "gridcolor": "white",
            "linecolor": "white",
            "ticks": ""
           },
           "bgcolor": "#E5ECF6",
           "caxis": {
            "gridcolor": "white",
            "linecolor": "white",
            "ticks": ""
           }
          },
          "title": {
           "x": 0.05
          },
          "xaxis": {
           "automargin": true,
           "gridcolor": "white",
           "linecolor": "white",
           "ticks": "",
           "title": {
            "standoff": 15
           },
           "zerolinecolor": "white",
           "zerolinewidth": 2
          },
          "yaxis": {
           "automargin": true,
           "gridcolor": "white",
           "linecolor": "white",
           "ticks": "",
           "title": {
            "standoff": 15
           },
           "zerolinecolor": "white",
           "zerolinewidth": 2
          }
         }
        },
        "title": {
         "text": "Feature Importance from Decision Tree"
        },
        "xaxis": {
         "anchor": "y",
         "domain": [
          0,
          1
         ],
         "title": {
          "text": "Features"
         }
        },
        "yaxis": {
         "anchor": "x",
         "domain": [
          0,
          1
         ],
         "title": {
          "text": "Importance"
         }
        }
       }
      }
     },
     "metadata": {},
     "output_type": "display_data"
    }
   ],
   "source": [
    "import pandas as pd\n",
    "from sklearn.model_selection import train_test_split\n",
    "from sklearn.metrics import mean_squared_error\n",
    "from sklearn.tree import DecisionTreeRegressor\n",
    "import plotly.express as px\n",
    "\n",
    "# Define the features and target\n",
    "features = [\n",
    "    # 'RelativeHumidity_dwd', 'Temperature_dwd', 'WindDirection:100_dwd', 'WindSpeed:100_dwd',\n",
    "    'RelativeHumidity_ncep', 'Temperature_ncep', 'WindDirection:100_ncep', 'WindSpeed:100_ncep'\n",
    "]\n",
    "target = 'Wind_MWh_credit'\n",
    "\n",
    "# Split the data into training and testing sets\n",
    "X = df_wind[features]\n",
    "y = df_wind[target]\n",
    "X_train, X_test, y_train, y_test = train_test_split(X, y, test_size=0.2, random_state=42)\n",
    "\n",
    "# Initialize and train the decision tree model\n",
    "tree_model = DecisionTreeRegressor(random_state=42)\n",
    "tree_model.fit(X_train, y_train)\n",
    "\n",
    "# Predict and calculate the mean squared error\n",
    "y_pred = tree_model.predict(X_test)\n",
    "mse = mean_squared_error(y_test, y_pred)\n",
    "print(f'Mean Squared Error: {mse}')\n",
    "\n",
    "# Extract feature importances\n",
    "feature_importances = tree_model.feature_importances_\n",
    "\n",
    "# Convert feature importances to a DataFrame for plotting\n",
    "feature_importances_df = pd.DataFrame({'Feature': features, 'Importance': feature_importances})\n",
    "\n",
    "# Plot the feature importances using Plotly\n",
    "fig = px.bar(feature_importances_df, x='Feature', y='Importance', title='Feature Importance from Decision Tree', labels={'Feature': 'Features', 'Importance': 'Importance'})\n",
    "fig.show()"
   ]
  },
  {
   "cell_type": "code",
   "execution_count": 25,
   "metadata": {},
   "outputs": [
    {
     "name": "stdout",
     "output_type": "stream",
     "text": [
      "Mean Squared Error: 11648.81176231685\n"
     ]
    },
    {
     "data": {
      "application/vnd.plotly.v1+json": {
       "config": {
        "plotlyServerURL": "https://plot.ly"
       },
       "data": [
        {
         "alignmentgroup": "True",
         "hovertemplate": "Features=%{x}<br>Importance=%{y}<extra></extra>",
         "legendgroup": "",
         "marker": {
          "color": "#636efa",
          "pattern": {
           "shape": ""
          }
         },
         "name": "",
         "offsetgroup": "",
         "orientation": "v",
         "showlegend": false,
         "textposition": "auto",
         "type": "bar",
         "x": [
          "RelativeHumidity_ncep",
          "Temperature_ncep",
          "WindDirection_ncep",
          "WindSpeed_ncep"
         ],
         "xaxis": "x",
         "y": [
          0.0654359171943277,
          0.08566729479500039,
          0.07674288186639393,
          0.772153906144278
         ],
         "yaxis": "y"
        }
       ],
       "layout": {
        "barmode": "relative",
        "legend": {
         "tracegroupgap": 0
        },
        "template": {
         "data": {
          "bar": [
           {
            "error_x": {
             "color": "#2a3f5f"
            },
            "error_y": {
             "color": "#2a3f5f"
            },
            "marker": {
             "line": {
              "color": "#E5ECF6",
              "width": 0.5
             },
             "pattern": {
              "fillmode": "overlay",
              "size": 10,
              "solidity": 0.2
             }
            },
            "type": "bar"
           }
          ],
          "barpolar": [
           {
            "marker": {
             "line": {
              "color": "#E5ECF6",
              "width": 0.5
             },
             "pattern": {
              "fillmode": "overlay",
              "size": 10,
              "solidity": 0.2
             }
            },
            "type": "barpolar"
           }
          ],
          "carpet": [
           {
            "aaxis": {
             "endlinecolor": "#2a3f5f",
             "gridcolor": "white",
             "linecolor": "white",
             "minorgridcolor": "white",
             "startlinecolor": "#2a3f5f"
            },
            "baxis": {
             "endlinecolor": "#2a3f5f",
             "gridcolor": "white",
             "linecolor": "white",
             "minorgridcolor": "white",
             "startlinecolor": "#2a3f5f"
            },
            "type": "carpet"
           }
          ],
          "choropleth": [
           {
            "colorbar": {
             "outlinewidth": 0,
             "ticks": ""
            },
            "type": "choropleth"
           }
          ],
          "contour": [
           {
            "colorbar": {
             "outlinewidth": 0,
             "ticks": ""
            },
            "colorscale": [
             [
              0,
              "#0d0887"
             ],
             [
              0.1111111111111111,
              "#46039f"
             ],
             [
              0.2222222222222222,
              "#7201a8"
             ],
             [
              0.3333333333333333,
              "#9c179e"
             ],
             [
              0.4444444444444444,
              "#bd3786"
             ],
             [
              0.5555555555555556,
              "#d8576b"
             ],
             [
              0.6666666666666666,
              "#ed7953"
             ],
             [
              0.7777777777777778,
              "#fb9f3a"
             ],
             [
              0.8888888888888888,
              "#fdca26"
             ],
             [
              1,
              "#f0f921"
             ]
            ],
            "type": "contour"
           }
          ],
          "contourcarpet": [
           {
            "colorbar": {
             "outlinewidth": 0,
             "ticks": ""
            },
            "type": "contourcarpet"
           }
          ],
          "heatmap": [
           {
            "colorbar": {
             "outlinewidth": 0,
             "ticks": ""
            },
            "colorscale": [
             [
              0,
              "#0d0887"
             ],
             [
              0.1111111111111111,
              "#46039f"
             ],
             [
              0.2222222222222222,
              "#7201a8"
             ],
             [
              0.3333333333333333,
              "#9c179e"
             ],
             [
              0.4444444444444444,
              "#bd3786"
             ],
             [
              0.5555555555555556,
              "#d8576b"
             ],
             [
              0.6666666666666666,
              "#ed7953"
             ],
             [
              0.7777777777777778,
              "#fb9f3a"
             ],
             [
              0.8888888888888888,
              "#fdca26"
             ],
             [
              1,
              "#f0f921"
             ]
            ],
            "type": "heatmap"
           }
          ],
          "heatmapgl": [
           {
            "colorbar": {
             "outlinewidth": 0,
             "ticks": ""
            },
            "colorscale": [
             [
              0,
              "#0d0887"
             ],
             [
              0.1111111111111111,
              "#46039f"
             ],
             [
              0.2222222222222222,
              "#7201a8"
             ],
             [
              0.3333333333333333,
              "#9c179e"
             ],
             [
              0.4444444444444444,
              "#bd3786"
             ],
             [
              0.5555555555555556,
              "#d8576b"
             ],
             [
              0.6666666666666666,
              "#ed7953"
             ],
             [
              0.7777777777777778,
              "#fb9f3a"
             ],
             [
              0.8888888888888888,
              "#fdca26"
             ],
             [
              1,
              "#f0f921"
             ]
            ],
            "type": "heatmapgl"
           }
          ],
          "histogram": [
           {
            "marker": {
             "pattern": {
              "fillmode": "overlay",
              "size": 10,
              "solidity": 0.2
             }
            },
            "type": "histogram"
           }
          ],
          "histogram2d": [
           {
            "colorbar": {
             "outlinewidth": 0,
             "ticks": ""
            },
            "colorscale": [
             [
              0,
              "#0d0887"
             ],
             [
              0.1111111111111111,
              "#46039f"
             ],
             [
              0.2222222222222222,
              "#7201a8"
             ],
             [
              0.3333333333333333,
              "#9c179e"
             ],
             [
              0.4444444444444444,
              "#bd3786"
             ],
             [
              0.5555555555555556,
              "#d8576b"
             ],
             [
              0.6666666666666666,
              "#ed7953"
             ],
             [
              0.7777777777777778,
              "#fb9f3a"
             ],
             [
              0.8888888888888888,
              "#fdca26"
             ],
             [
              1,
              "#f0f921"
             ]
            ],
            "type": "histogram2d"
           }
          ],
          "histogram2dcontour": [
           {
            "colorbar": {
             "outlinewidth": 0,
             "ticks": ""
            },
            "colorscale": [
             [
              0,
              "#0d0887"
             ],
             [
              0.1111111111111111,
              "#46039f"
             ],
             [
              0.2222222222222222,
              "#7201a8"
             ],
             [
              0.3333333333333333,
              "#9c179e"
             ],
             [
              0.4444444444444444,
              "#bd3786"
             ],
             [
              0.5555555555555556,
              "#d8576b"
             ],
             [
              0.6666666666666666,
              "#ed7953"
             ],
             [
              0.7777777777777778,
              "#fb9f3a"
             ],
             [
              0.8888888888888888,
              "#fdca26"
             ],
             [
              1,
              "#f0f921"
             ]
            ],
            "type": "histogram2dcontour"
           }
          ],
          "mesh3d": [
           {
            "colorbar": {
             "outlinewidth": 0,
             "ticks": ""
            },
            "type": "mesh3d"
           }
          ],
          "parcoords": [
           {
            "line": {
             "colorbar": {
              "outlinewidth": 0,
              "ticks": ""
             }
            },
            "type": "parcoords"
           }
          ],
          "pie": [
           {
            "automargin": true,
            "type": "pie"
           }
          ],
          "scatter": [
           {
            "fillpattern": {
             "fillmode": "overlay",
             "size": 10,
             "solidity": 0.2
            },
            "type": "scatter"
           }
          ],
          "scatter3d": [
           {
            "line": {
             "colorbar": {
              "outlinewidth": 0,
              "ticks": ""
             }
            },
            "marker": {
             "colorbar": {
              "outlinewidth": 0,
              "ticks": ""
             }
            },
            "type": "scatter3d"
           }
          ],
          "scattercarpet": [
           {
            "marker": {
             "colorbar": {
              "outlinewidth": 0,
              "ticks": ""
             }
            },
            "type": "scattercarpet"
           }
          ],
          "scattergeo": [
           {
            "marker": {
             "colorbar": {
              "outlinewidth": 0,
              "ticks": ""
             }
            },
            "type": "scattergeo"
           }
          ],
          "scattergl": [
           {
            "marker": {
             "colorbar": {
              "outlinewidth": 0,
              "ticks": ""
             }
            },
            "type": "scattergl"
           }
          ],
          "scattermapbox": [
           {
            "marker": {
             "colorbar": {
              "outlinewidth": 0,
              "ticks": ""
             }
            },
            "type": "scattermapbox"
           }
          ],
          "scatterpolar": [
           {
            "marker": {
             "colorbar": {
              "outlinewidth": 0,
              "ticks": ""
             }
            },
            "type": "scatterpolar"
           }
          ],
          "scatterpolargl": [
           {
            "marker": {
             "colorbar": {
              "outlinewidth": 0,
              "ticks": ""
             }
            },
            "type": "scatterpolargl"
           }
          ],
          "scatterternary": [
           {
            "marker": {
             "colorbar": {
              "outlinewidth": 0,
              "ticks": ""
             }
            },
            "type": "scatterternary"
           }
          ],
          "surface": [
           {
            "colorbar": {
             "outlinewidth": 0,
             "ticks": ""
            },
            "colorscale": [
             [
              0,
              "#0d0887"
             ],
             [
              0.1111111111111111,
              "#46039f"
             ],
             [
              0.2222222222222222,
              "#7201a8"
             ],
             [
              0.3333333333333333,
              "#9c179e"
             ],
             [
              0.4444444444444444,
              "#bd3786"
             ],
             [
              0.5555555555555556,
              "#d8576b"
             ],
             [
              0.6666666666666666,
              "#ed7953"
             ],
             [
              0.7777777777777778,
              "#fb9f3a"
             ],
             [
              0.8888888888888888,
              "#fdca26"
             ],
             [
              1,
              "#f0f921"
             ]
            ],
            "type": "surface"
           }
          ],
          "table": [
           {
            "cells": {
             "fill": {
              "color": "#EBF0F8"
             },
             "line": {
              "color": "white"
             }
            },
            "header": {
             "fill": {
              "color": "#C8D4E3"
             },
             "line": {
              "color": "white"
             }
            },
            "type": "table"
           }
          ]
         },
         "layout": {
          "annotationdefaults": {
           "arrowcolor": "#2a3f5f",
           "arrowhead": 0,
           "arrowwidth": 1
          },
          "autotypenumbers": "strict",
          "coloraxis": {
           "colorbar": {
            "outlinewidth": 0,
            "ticks": ""
           }
          },
          "colorscale": {
           "diverging": [
            [
             0,
             "#8e0152"
            ],
            [
             0.1,
             "#c51b7d"
            ],
            [
             0.2,
             "#de77ae"
            ],
            [
             0.3,
             "#f1b6da"
            ],
            [
             0.4,
             "#fde0ef"
            ],
            [
             0.5,
             "#f7f7f7"
            ],
            [
             0.6,
             "#e6f5d0"
            ],
            [
             0.7,
             "#b8e186"
            ],
            [
             0.8,
             "#7fbc41"
            ],
            [
             0.9,
             "#4d9221"
            ],
            [
             1,
             "#276419"
            ]
           ],
           "sequential": [
            [
             0,
             "#0d0887"
            ],
            [
             0.1111111111111111,
             "#46039f"
            ],
            [
             0.2222222222222222,
             "#7201a8"
            ],
            [
             0.3333333333333333,
             "#9c179e"
            ],
            [
             0.4444444444444444,
             "#bd3786"
            ],
            [
             0.5555555555555556,
             "#d8576b"
            ],
            [
             0.6666666666666666,
             "#ed7953"
            ],
            [
             0.7777777777777778,
             "#fb9f3a"
            ],
            [
             0.8888888888888888,
             "#fdca26"
            ],
            [
             1,
             "#f0f921"
            ]
           ],
           "sequentialminus": [
            [
             0,
             "#0d0887"
            ],
            [
             0.1111111111111111,
             "#46039f"
            ],
            [
             0.2222222222222222,
             "#7201a8"
            ],
            [
             0.3333333333333333,
             "#9c179e"
            ],
            [
             0.4444444444444444,
             "#bd3786"
            ],
            [
             0.5555555555555556,
             "#d8576b"
            ],
            [
             0.6666666666666666,
             "#ed7953"
            ],
            [
             0.7777777777777778,
             "#fb9f3a"
            ],
            [
             0.8888888888888888,
             "#fdca26"
            ],
            [
             1,
             "#f0f921"
            ]
           ]
          },
          "colorway": [
           "#636efa",
           "#EF553B",
           "#00cc96",
           "#ab63fa",
           "#FFA15A",
           "#19d3f3",
           "#FF6692",
           "#B6E880",
           "#FF97FF",
           "#FECB52"
          ],
          "font": {
           "color": "#2a3f5f"
          },
          "geo": {
           "bgcolor": "white",
           "lakecolor": "white",
           "landcolor": "#E5ECF6",
           "showlakes": true,
           "showland": true,
           "subunitcolor": "white"
          },
          "hoverlabel": {
           "align": "left"
          },
          "hovermode": "closest",
          "mapbox": {
           "style": "light"
          },
          "paper_bgcolor": "white",
          "plot_bgcolor": "#E5ECF6",
          "polar": {
           "angularaxis": {
            "gridcolor": "white",
            "linecolor": "white",
            "ticks": ""
           },
           "bgcolor": "#E5ECF6",
           "radialaxis": {
            "gridcolor": "white",
            "linecolor": "white",
            "ticks": ""
           }
          },
          "scene": {
           "xaxis": {
            "backgroundcolor": "#E5ECF6",
            "gridcolor": "white",
            "gridwidth": 2,
            "linecolor": "white",
            "showbackground": true,
            "ticks": "",
            "zerolinecolor": "white"
           },
           "yaxis": {
            "backgroundcolor": "#E5ECF6",
            "gridcolor": "white",
            "gridwidth": 2,
            "linecolor": "white",
            "showbackground": true,
            "ticks": "",
            "zerolinecolor": "white"
           },
           "zaxis": {
            "backgroundcolor": "#E5ECF6",
            "gridcolor": "white",
            "gridwidth": 2,
            "linecolor": "white",
            "showbackground": true,
            "ticks": "",
            "zerolinecolor": "white"
           }
          },
          "shapedefaults": {
           "line": {
            "color": "#2a3f5f"
           }
          },
          "ternary": {
           "aaxis": {
            "gridcolor": "white",
            "linecolor": "white",
            "ticks": ""
           },
           "baxis": {
            "gridcolor": "white",
            "linecolor": "white",
            "ticks": ""
           },
           "bgcolor": "#E5ECF6",
           "caxis": {
            "gridcolor": "white",
            "linecolor": "white",
            "ticks": ""
           }
          },
          "title": {
           "x": 0.05
          },
          "xaxis": {
           "automargin": true,
           "gridcolor": "white",
           "linecolor": "white",
           "ticks": "",
           "title": {
            "standoff": 15
           },
           "zerolinecolor": "white",
           "zerolinewidth": 2
          },
          "yaxis": {
           "automargin": true,
           "gridcolor": "white",
           "linecolor": "white",
           "ticks": "",
           "title": {
            "standoff": 15
           },
           "zerolinecolor": "white",
           "zerolinewidth": 2
          }
         }
        },
        "title": {
         "text": "Feature Importance from Decision Tree"
        },
        "xaxis": {
         "anchor": "y",
         "domain": [
          0,
          1
         ],
         "title": {
          "text": "Features"
         }
        },
        "yaxis": {
         "anchor": "x",
         "domain": [
          0,
          1
         ],
         "title": {
          "text": "Importance"
         }
        }
       }
      }
     },
     "metadata": {},
     "output_type": "display_data"
    }
   ],
   "source": [
    "import pandas as pd\n",
    "from sklearn.model_selection import train_test_split\n",
    "from sklearn.metrics import mean_squared_error\n",
    "from sklearn.tree import DecisionTreeRegressor\n",
    "import plotly.express as px\n",
    "\n",
    "# Define the features and target\n",
    "features = [\n",
    "    # 'RelativeHumidity_dwd', 'Temperature_dwd', 'WindDirection:100_dwd', 'WindSpeed:100_dwd',\n",
    "    'RelativeHumidity_ncep', 'Temperature_ncep', 'WindDirection_ncep', 'WindSpeed_ncep'\n",
    "]\n",
    "target = 'Wind_MWh_credit'\n",
    "\n",
    "# Split the data into training and testing sets\n",
    "X = df_wind[features]\n",
    "y = df_wind[target]\n",
    "X_train, X_test, y_train, y_test = train_test_split(X, y, test_size=0.2, random_state=42)\n",
    "\n",
    "# Initialize and train the decision tree model\n",
    "tree_model = DecisionTreeRegressor(random_state=42)\n",
    "tree_model.fit(X_train, y_train)\n",
    "\n",
    "# Predict and calculate the mean squared error\n",
    "y_pred = tree_model.predict(X_test)\n",
    "mse = mean_squared_error(y_test, y_pred)\n",
    "print(f'Mean Squared Error: {mse}')\n",
    "\n",
    "# Extract feature importances\n",
    "feature_importances = tree_model.feature_importances_\n",
    "\n",
    "# Convert feature importances to a DataFrame for plotting\n",
    "feature_importances_df = pd.DataFrame({'Feature': features, 'Importance': feature_importances})\n",
    "\n",
    "# Plot the feature importances using Plotly\n",
    "fig = px.bar(feature_importances_df, x='Feature', y='Importance', title='Feature Importance from Decision Tree', labels={'Feature': 'Features', 'Importance': 'Importance'})\n",
    "fig.show()"
   ]
  },
  {
   "cell_type": "code",
   "execution_count": 26,
   "metadata": {},
   "outputs": [
    {
     "name": "stdout",
     "output_type": "stream",
     "text": [
      "Mean Squared Error: 11527.697226893139\n"
     ]
    },
    {
     "data": {
      "application/vnd.plotly.v1+json": {
       "config": {
        "plotlyServerURL": "https://plot.ly"
       },
       "data": [
        {
         "alignmentgroup": "True",
         "hovertemplate": "Features=%{x}<br>Importance=%{y}<extra></extra>",
         "legendgroup": "",
         "marker": {
          "color": "#636efa",
          "pattern": {
           "shape": ""
          }
         },
         "name": "",
         "offsetgroup": "",
         "orientation": "v",
         "showlegend": false,
         "textposition": "auto",
         "type": "bar",
         "x": [
          "RelativeHumidity_dwd",
          "Temperature_dwd",
          "WindDirection:100_dwd",
          "WindSpeed:100_dwd"
         ],
         "xaxis": "x",
         "y": [
          0.06358761025914142,
          0.07054109804329768,
          0.06473055833649796,
          0.801140733361063
         ],
         "yaxis": "y"
        }
       ],
       "layout": {
        "barmode": "relative",
        "legend": {
         "tracegroupgap": 0
        },
        "template": {
         "data": {
          "bar": [
           {
            "error_x": {
             "color": "#2a3f5f"
            },
            "error_y": {
             "color": "#2a3f5f"
            },
            "marker": {
             "line": {
              "color": "#E5ECF6",
              "width": 0.5
             },
             "pattern": {
              "fillmode": "overlay",
              "size": 10,
              "solidity": 0.2
             }
            },
            "type": "bar"
           }
          ],
          "barpolar": [
           {
            "marker": {
             "line": {
              "color": "#E5ECF6",
              "width": 0.5
             },
             "pattern": {
              "fillmode": "overlay",
              "size": 10,
              "solidity": 0.2
             }
            },
            "type": "barpolar"
           }
          ],
          "carpet": [
           {
            "aaxis": {
             "endlinecolor": "#2a3f5f",
             "gridcolor": "white",
             "linecolor": "white",
             "minorgridcolor": "white",
             "startlinecolor": "#2a3f5f"
            },
            "baxis": {
             "endlinecolor": "#2a3f5f",
             "gridcolor": "white",
             "linecolor": "white",
             "minorgridcolor": "white",
             "startlinecolor": "#2a3f5f"
            },
            "type": "carpet"
           }
          ],
          "choropleth": [
           {
            "colorbar": {
             "outlinewidth": 0,
             "ticks": ""
            },
            "type": "choropleth"
           }
          ],
          "contour": [
           {
            "colorbar": {
             "outlinewidth": 0,
             "ticks": ""
            },
            "colorscale": [
             [
              0,
              "#0d0887"
             ],
             [
              0.1111111111111111,
              "#46039f"
             ],
             [
              0.2222222222222222,
              "#7201a8"
             ],
             [
              0.3333333333333333,
              "#9c179e"
             ],
             [
              0.4444444444444444,
              "#bd3786"
             ],
             [
              0.5555555555555556,
              "#d8576b"
             ],
             [
              0.6666666666666666,
              "#ed7953"
             ],
             [
              0.7777777777777778,
              "#fb9f3a"
             ],
             [
              0.8888888888888888,
              "#fdca26"
             ],
             [
              1,
              "#f0f921"
             ]
            ],
            "type": "contour"
           }
          ],
          "contourcarpet": [
           {
            "colorbar": {
             "outlinewidth": 0,
             "ticks": ""
            },
            "type": "contourcarpet"
           }
          ],
          "heatmap": [
           {
            "colorbar": {
             "outlinewidth": 0,
             "ticks": ""
            },
            "colorscale": [
             [
              0,
              "#0d0887"
             ],
             [
              0.1111111111111111,
              "#46039f"
             ],
             [
              0.2222222222222222,
              "#7201a8"
             ],
             [
              0.3333333333333333,
              "#9c179e"
             ],
             [
              0.4444444444444444,
              "#bd3786"
             ],
             [
              0.5555555555555556,
              "#d8576b"
             ],
             [
              0.6666666666666666,
              "#ed7953"
             ],
             [
              0.7777777777777778,
              "#fb9f3a"
             ],
             [
              0.8888888888888888,
              "#fdca26"
             ],
             [
              1,
              "#f0f921"
             ]
            ],
            "type": "heatmap"
           }
          ],
          "heatmapgl": [
           {
            "colorbar": {
             "outlinewidth": 0,
             "ticks": ""
            },
            "colorscale": [
             [
              0,
              "#0d0887"
             ],
             [
              0.1111111111111111,
              "#46039f"
             ],
             [
              0.2222222222222222,
              "#7201a8"
             ],
             [
              0.3333333333333333,
              "#9c179e"
             ],
             [
              0.4444444444444444,
              "#bd3786"
             ],
             [
              0.5555555555555556,
              "#d8576b"
             ],
             [
              0.6666666666666666,
              "#ed7953"
             ],
             [
              0.7777777777777778,
              "#fb9f3a"
             ],
             [
              0.8888888888888888,
              "#fdca26"
             ],
             [
              1,
              "#f0f921"
             ]
            ],
            "type": "heatmapgl"
           }
          ],
          "histogram": [
           {
            "marker": {
             "pattern": {
              "fillmode": "overlay",
              "size": 10,
              "solidity": 0.2
             }
            },
            "type": "histogram"
           }
          ],
          "histogram2d": [
           {
            "colorbar": {
             "outlinewidth": 0,
             "ticks": ""
            },
            "colorscale": [
             [
              0,
              "#0d0887"
             ],
             [
              0.1111111111111111,
              "#46039f"
             ],
             [
              0.2222222222222222,
              "#7201a8"
             ],
             [
              0.3333333333333333,
              "#9c179e"
             ],
             [
              0.4444444444444444,
              "#bd3786"
             ],
             [
              0.5555555555555556,
              "#d8576b"
             ],
             [
              0.6666666666666666,
              "#ed7953"
             ],
             [
              0.7777777777777778,
              "#fb9f3a"
             ],
             [
              0.8888888888888888,
              "#fdca26"
             ],
             [
              1,
              "#f0f921"
             ]
            ],
            "type": "histogram2d"
           }
          ],
          "histogram2dcontour": [
           {
            "colorbar": {
             "outlinewidth": 0,
             "ticks": ""
            },
            "colorscale": [
             [
              0,
              "#0d0887"
             ],
             [
              0.1111111111111111,
              "#46039f"
             ],
             [
              0.2222222222222222,
              "#7201a8"
             ],
             [
              0.3333333333333333,
              "#9c179e"
             ],
             [
              0.4444444444444444,
              "#bd3786"
             ],
             [
              0.5555555555555556,
              "#d8576b"
             ],
             [
              0.6666666666666666,
              "#ed7953"
             ],
             [
              0.7777777777777778,
              "#fb9f3a"
             ],
             [
              0.8888888888888888,
              "#fdca26"
             ],
             [
              1,
              "#f0f921"
             ]
            ],
            "type": "histogram2dcontour"
           }
          ],
          "mesh3d": [
           {
            "colorbar": {
             "outlinewidth": 0,
             "ticks": ""
            },
            "type": "mesh3d"
           }
          ],
          "parcoords": [
           {
            "line": {
             "colorbar": {
              "outlinewidth": 0,
              "ticks": ""
             }
            },
            "type": "parcoords"
           }
          ],
          "pie": [
           {
            "automargin": true,
            "type": "pie"
           }
          ],
          "scatter": [
           {
            "fillpattern": {
             "fillmode": "overlay",
             "size": 10,
             "solidity": 0.2
            },
            "type": "scatter"
           }
          ],
          "scatter3d": [
           {
            "line": {
             "colorbar": {
              "outlinewidth": 0,
              "ticks": ""
             }
            },
            "marker": {
             "colorbar": {
              "outlinewidth": 0,
              "ticks": ""
             }
            },
            "type": "scatter3d"
           }
          ],
          "scattercarpet": [
           {
            "marker": {
             "colorbar": {
              "outlinewidth": 0,
              "ticks": ""
             }
            },
            "type": "scattercarpet"
           }
          ],
          "scattergeo": [
           {
            "marker": {
             "colorbar": {
              "outlinewidth": 0,
              "ticks": ""
             }
            },
            "type": "scattergeo"
           }
          ],
          "scattergl": [
           {
            "marker": {
             "colorbar": {
              "outlinewidth": 0,
              "ticks": ""
             }
            },
            "type": "scattergl"
           }
          ],
          "scattermapbox": [
           {
            "marker": {
             "colorbar": {
              "outlinewidth": 0,
              "ticks": ""
             }
            },
            "type": "scattermapbox"
           }
          ],
          "scatterpolar": [
           {
            "marker": {
             "colorbar": {
              "outlinewidth": 0,
              "ticks": ""
             }
            },
            "type": "scatterpolar"
           }
          ],
          "scatterpolargl": [
           {
            "marker": {
             "colorbar": {
              "outlinewidth": 0,
              "ticks": ""
             }
            },
            "type": "scatterpolargl"
           }
          ],
          "scatterternary": [
           {
            "marker": {
             "colorbar": {
              "outlinewidth": 0,
              "ticks": ""
             }
            },
            "type": "scatterternary"
           }
          ],
          "surface": [
           {
            "colorbar": {
             "outlinewidth": 0,
             "ticks": ""
            },
            "colorscale": [
             [
              0,
              "#0d0887"
             ],
             [
              0.1111111111111111,
              "#46039f"
             ],
             [
              0.2222222222222222,
              "#7201a8"
             ],
             [
              0.3333333333333333,
              "#9c179e"
             ],
             [
              0.4444444444444444,
              "#bd3786"
             ],
             [
              0.5555555555555556,
              "#d8576b"
             ],
             [
              0.6666666666666666,
              "#ed7953"
             ],
             [
              0.7777777777777778,
              "#fb9f3a"
             ],
             [
              0.8888888888888888,
              "#fdca26"
             ],
             [
              1,
              "#f0f921"
             ]
            ],
            "type": "surface"
           }
          ],
          "table": [
           {
            "cells": {
             "fill": {
              "color": "#EBF0F8"
             },
             "line": {
              "color": "white"
             }
            },
            "header": {
             "fill": {
              "color": "#C8D4E3"
             },
             "line": {
              "color": "white"
             }
            },
            "type": "table"
           }
          ]
         },
         "layout": {
          "annotationdefaults": {
           "arrowcolor": "#2a3f5f",
           "arrowhead": 0,
           "arrowwidth": 1
          },
          "autotypenumbers": "strict",
          "coloraxis": {
           "colorbar": {
            "outlinewidth": 0,
            "ticks": ""
           }
          },
          "colorscale": {
           "diverging": [
            [
             0,
             "#8e0152"
            ],
            [
             0.1,
             "#c51b7d"
            ],
            [
             0.2,
             "#de77ae"
            ],
            [
             0.3,
             "#f1b6da"
            ],
            [
             0.4,
             "#fde0ef"
            ],
            [
             0.5,
             "#f7f7f7"
            ],
            [
             0.6,
             "#e6f5d0"
            ],
            [
             0.7,
             "#b8e186"
            ],
            [
             0.8,
             "#7fbc41"
            ],
            [
             0.9,
             "#4d9221"
            ],
            [
             1,
             "#276419"
            ]
           ],
           "sequential": [
            [
             0,
             "#0d0887"
            ],
            [
             0.1111111111111111,
             "#46039f"
            ],
            [
             0.2222222222222222,
             "#7201a8"
            ],
            [
             0.3333333333333333,
             "#9c179e"
            ],
            [
             0.4444444444444444,
             "#bd3786"
            ],
            [
             0.5555555555555556,
             "#d8576b"
            ],
            [
             0.6666666666666666,
             "#ed7953"
            ],
            [
             0.7777777777777778,
             "#fb9f3a"
            ],
            [
             0.8888888888888888,
             "#fdca26"
            ],
            [
             1,
             "#f0f921"
            ]
           ],
           "sequentialminus": [
            [
             0,
             "#0d0887"
            ],
            [
             0.1111111111111111,
             "#46039f"
            ],
            [
             0.2222222222222222,
             "#7201a8"
            ],
            [
             0.3333333333333333,
             "#9c179e"
            ],
            [
             0.4444444444444444,
             "#bd3786"
            ],
            [
             0.5555555555555556,
             "#d8576b"
            ],
            [
             0.6666666666666666,
             "#ed7953"
            ],
            [
             0.7777777777777778,
             "#fb9f3a"
            ],
            [
             0.8888888888888888,
             "#fdca26"
            ],
            [
             1,
             "#f0f921"
            ]
           ]
          },
          "colorway": [
           "#636efa",
           "#EF553B",
           "#00cc96",
           "#ab63fa",
           "#FFA15A",
           "#19d3f3",
           "#FF6692",
           "#B6E880",
           "#FF97FF",
           "#FECB52"
          ],
          "font": {
           "color": "#2a3f5f"
          },
          "geo": {
           "bgcolor": "white",
           "lakecolor": "white",
           "landcolor": "#E5ECF6",
           "showlakes": true,
           "showland": true,
           "subunitcolor": "white"
          },
          "hoverlabel": {
           "align": "left"
          },
          "hovermode": "closest",
          "mapbox": {
           "style": "light"
          },
          "paper_bgcolor": "white",
          "plot_bgcolor": "#E5ECF6",
          "polar": {
           "angularaxis": {
            "gridcolor": "white",
            "linecolor": "white",
            "ticks": ""
           },
           "bgcolor": "#E5ECF6",
           "radialaxis": {
            "gridcolor": "white",
            "linecolor": "white",
            "ticks": ""
           }
          },
          "scene": {
           "xaxis": {
            "backgroundcolor": "#E5ECF6",
            "gridcolor": "white",
            "gridwidth": 2,
            "linecolor": "white",
            "showbackground": true,
            "ticks": "",
            "zerolinecolor": "white"
           },
           "yaxis": {
            "backgroundcolor": "#E5ECF6",
            "gridcolor": "white",
            "gridwidth": 2,
            "linecolor": "white",
            "showbackground": true,
            "ticks": "",
            "zerolinecolor": "white"
           },
           "zaxis": {
            "backgroundcolor": "#E5ECF6",
            "gridcolor": "white",
            "gridwidth": 2,
            "linecolor": "white",
            "showbackground": true,
            "ticks": "",
            "zerolinecolor": "white"
           }
          },
          "shapedefaults": {
           "line": {
            "color": "#2a3f5f"
           }
          },
          "ternary": {
           "aaxis": {
            "gridcolor": "white",
            "linecolor": "white",
            "ticks": ""
           },
           "baxis": {
            "gridcolor": "white",
            "linecolor": "white",
            "ticks": ""
           },
           "bgcolor": "#E5ECF6",
           "caxis": {
            "gridcolor": "white",
            "linecolor": "white",
            "ticks": ""
           }
          },
          "title": {
           "x": 0.05
          },
          "xaxis": {
           "automargin": true,
           "gridcolor": "white",
           "linecolor": "white",
           "ticks": "",
           "title": {
            "standoff": 15
           },
           "zerolinecolor": "white",
           "zerolinewidth": 2
          },
          "yaxis": {
           "automargin": true,
           "gridcolor": "white",
           "linecolor": "white",
           "ticks": "",
           "title": {
            "standoff": 15
           },
           "zerolinecolor": "white",
           "zerolinewidth": 2
          }
         }
        },
        "title": {
         "text": "Feature Importance from Decision Tree"
        },
        "xaxis": {
         "anchor": "y",
         "domain": [
          0,
          1
         ],
         "title": {
          "text": "Features"
         }
        },
        "yaxis": {
         "anchor": "x",
         "domain": [
          0,
          1
         ],
         "title": {
          "text": "Importance"
         }
        }
       }
      }
     },
     "metadata": {},
     "output_type": "display_data"
    }
   ],
   "source": [
    "import pandas as pd\n",
    "from sklearn.model_selection import train_test_split\n",
    "from sklearn.metrics import mean_squared_error\n",
    "from sklearn.tree import DecisionTreeRegressor\n",
    "import plotly.express as px\n",
    "\n",
    "# Define the features and target\n",
    "features = [\n",
    "    'RelativeHumidity_dwd', 'Temperature_dwd', 'WindDirection:100_dwd', 'WindSpeed:100_dwd',\n",
    "    # 'RelativeHumidity_ncep', 'Temperature_ncep', 'WindDirection:100_ncep', 'WindSpeed:100_ncep'\n",
    "]\n",
    "target = 'Wind_MWh_credit'\n",
    "\n",
    "# Split the data into training and testing sets\n",
    "X = df_wind[features]\n",
    "y = df_wind[target]\n",
    "X_train, X_test, y_train, y_test = train_test_split(X, y, test_size=0.2, random_state=42)\n",
    "\n",
    "# Initialize and train the decision tree model\n",
    "tree_model = DecisionTreeRegressor(random_state=42)\n",
    "tree_model.fit(X_train, y_train)\n",
    "\n",
    "# Predict and calculate the mean squared error\n",
    "y_pred = tree_model.predict(X_test)\n",
    "mse = mean_squared_error(y_test, y_pred)\n",
    "print(f'Mean Squared Error: {mse}')\n",
    "\n",
    "# Extract feature importances\n",
    "feature_importances = tree_model.feature_importances_\n",
    "\n",
    "# Convert feature importances to a DataFrame for plotting\n",
    "feature_importances_df = pd.DataFrame({'Feature': features, 'Importance': feature_importances})\n",
    "\n",
    "# Plot the feature importances using Plotly\n",
    "fig = px.bar(feature_importances_df, x='Feature', y='Importance', title='Feature Importance from Decision Tree', labels={'Feature': 'Features', 'Importance': 'Importance'})\n",
    "fig.show()"
   ]
  },
  {
   "cell_type": "code",
   "execution_count": 27,
   "metadata": {},
   "outputs": [
    {
     "name": "stdout",
     "output_type": "stream",
     "text": [
      "Mean Squared Error: 12188.675621854181\n"
     ]
    },
    {
     "data": {
      "application/vnd.plotly.v1+json": {
       "config": {
        "plotlyServerURL": "https://plot.ly"
       },
       "data": [
        {
         "alignmentgroup": "True",
         "hovertemplate": "Features=%{x}<br>Importance=%{y}<extra></extra>",
         "legendgroup": "",
         "marker": {
          "color": "#636efa",
          "pattern": {
           "shape": ""
          }
         },
         "name": "",
         "offsetgroup": "",
         "orientation": "v",
         "showlegend": false,
         "textposition": "auto",
         "type": "bar",
         "x": [
          "RelativeHumidity_dwd",
          "Temperature_dwd",
          "WindDirection_dwd",
          "WindSpeed_dwd"
         ],
         "xaxis": "x",
         "y": [
          0.07014072060421477,
          0.08996968753132005,
          0.08680292397042705,
          0.753086667894038
         ],
         "yaxis": "y"
        }
       ],
       "layout": {
        "barmode": "relative",
        "legend": {
         "tracegroupgap": 0
        },
        "template": {
         "data": {
          "bar": [
           {
            "error_x": {
             "color": "#2a3f5f"
            },
            "error_y": {
             "color": "#2a3f5f"
            },
            "marker": {
             "line": {
              "color": "#E5ECF6",
              "width": 0.5
             },
             "pattern": {
              "fillmode": "overlay",
              "size": 10,
              "solidity": 0.2
             }
            },
            "type": "bar"
           }
          ],
          "barpolar": [
           {
            "marker": {
             "line": {
              "color": "#E5ECF6",
              "width": 0.5
             },
             "pattern": {
              "fillmode": "overlay",
              "size": 10,
              "solidity": 0.2
             }
            },
            "type": "barpolar"
           }
          ],
          "carpet": [
           {
            "aaxis": {
             "endlinecolor": "#2a3f5f",
             "gridcolor": "white",
             "linecolor": "white",
             "minorgridcolor": "white",
             "startlinecolor": "#2a3f5f"
            },
            "baxis": {
             "endlinecolor": "#2a3f5f",
             "gridcolor": "white",
             "linecolor": "white",
             "minorgridcolor": "white",
             "startlinecolor": "#2a3f5f"
            },
            "type": "carpet"
           }
          ],
          "choropleth": [
           {
            "colorbar": {
             "outlinewidth": 0,
             "ticks": ""
            },
            "type": "choropleth"
           }
          ],
          "contour": [
           {
            "colorbar": {
             "outlinewidth": 0,
             "ticks": ""
            },
            "colorscale": [
             [
              0,
              "#0d0887"
             ],
             [
              0.1111111111111111,
              "#46039f"
             ],
             [
              0.2222222222222222,
              "#7201a8"
             ],
             [
              0.3333333333333333,
              "#9c179e"
             ],
             [
              0.4444444444444444,
              "#bd3786"
             ],
             [
              0.5555555555555556,
              "#d8576b"
             ],
             [
              0.6666666666666666,
              "#ed7953"
             ],
             [
              0.7777777777777778,
              "#fb9f3a"
             ],
             [
              0.8888888888888888,
              "#fdca26"
             ],
             [
              1,
              "#f0f921"
             ]
            ],
            "type": "contour"
           }
          ],
          "contourcarpet": [
           {
            "colorbar": {
             "outlinewidth": 0,
             "ticks": ""
            },
            "type": "contourcarpet"
           }
          ],
          "heatmap": [
           {
            "colorbar": {
             "outlinewidth": 0,
             "ticks": ""
            },
            "colorscale": [
             [
              0,
              "#0d0887"
             ],
             [
              0.1111111111111111,
              "#46039f"
             ],
             [
              0.2222222222222222,
              "#7201a8"
             ],
             [
              0.3333333333333333,
              "#9c179e"
             ],
             [
              0.4444444444444444,
              "#bd3786"
             ],
             [
              0.5555555555555556,
              "#d8576b"
             ],
             [
              0.6666666666666666,
              "#ed7953"
             ],
             [
              0.7777777777777778,
              "#fb9f3a"
             ],
             [
              0.8888888888888888,
              "#fdca26"
             ],
             [
              1,
              "#f0f921"
             ]
            ],
            "type": "heatmap"
           }
          ],
          "heatmapgl": [
           {
            "colorbar": {
             "outlinewidth": 0,
             "ticks": ""
            },
            "colorscale": [
             [
              0,
              "#0d0887"
             ],
             [
              0.1111111111111111,
              "#46039f"
             ],
             [
              0.2222222222222222,
              "#7201a8"
             ],
             [
              0.3333333333333333,
              "#9c179e"
             ],
             [
              0.4444444444444444,
              "#bd3786"
             ],
             [
              0.5555555555555556,
              "#d8576b"
             ],
             [
              0.6666666666666666,
              "#ed7953"
             ],
             [
              0.7777777777777778,
              "#fb9f3a"
             ],
             [
              0.8888888888888888,
              "#fdca26"
             ],
             [
              1,
              "#f0f921"
             ]
            ],
            "type": "heatmapgl"
           }
          ],
          "histogram": [
           {
            "marker": {
             "pattern": {
              "fillmode": "overlay",
              "size": 10,
              "solidity": 0.2
             }
            },
            "type": "histogram"
           }
          ],
          "histogram2d": [
           {
            "colorbar": {
             "outlinewidth": 0,
             "ticks": ""
            },
            "colorscale": [
             [
              0,
              "#0d0887"
             ],
             [
              0.1111111111111111,
              "#46039f"
             ],
             [
              0.2222222222222222,
              "#7201a8"
             ],
             [
              0.3333333333333333,
              "#9c179e"
             ],
             [
              0.4444444444444444,
              "#bd3786"
             ],
             [
              0.5555555555555556,
              "#d8576b"
             ],
             [
              0.6666666666666666,
              "#ed7953"
             ],
             [
              0.7777777777777778,
              "#fb9f3a"
             ],
             [
              0.8888888888888888,
              "#fdca26"
             ],
             [
              1,
              "#f0f921"
             ]
            ],
            "type": "histogram2d"
           }
          ],
          "histogram2dcontour": [
           {
            "colorbar": {
             "outlinewidth": 0,
             "ticks": ""
            },
            "colorscale": [
             [
              0,
              "#0d0887"
             ],
             [
              0.1111111111111111,
              "#46039f"
             ],
             [
              0.2222222222222222,
              "#7201a8"
             ],
             [
              0.3333333333333333,
              "#9c179e"
             ],
             [
              0.4444444444444444,
              "#bd3786"
             ],
             [
              0.5555555555555556,
              "#d8576b"
             ],
             [
              0.6666666666666666,
              "#ed7953"
             ],
             [
              0.7777777777777778,
              "#fb9f3a"
             ],
             [
              0.8888888888888888,
              "#fdca26"
             ],
             [
              1,
              "#f0f921"
             ]
            ],
            "type": "histogram2dcontour"
           }
          ],
          "mesh3d": [
           {
            "colorbar": {
             "outlinewidth": 0,
             "ticks": ""
            },
            "type": "mesh3d"
           }
          ],
          "parcoords": [
           {
            "line": {
             "colorbar": {
              "outlinewidth": 0,
              "ticks": ""
             }
            },
            "type": "parcoords"
           }
          ],
          "pie": [
           {
            "automargin": true,
            "type": "pie"
           }
          ],
          "scatter": [
           {
            "fillpattern": {
             "fillmode": "overlay",
             "size": 10,
             "solidity": 0.2
            },
            "type": "scatter"
           }
          ],
          "scatter3d": [
           {
            "line": {
             "colorbar": {
              "outlinewidth": 0,
              "ticks": ""
             }
            },
            "marker": {
             "colorbar": {
              "outlinewidth": 0,
              "ticks": ""
             }
            },
            "type": "scatter3d"
           }
          ],
          "scattercarpet": [
           {
            "marker": {
             "colorbar": {
              "outlinewidth": 0,
              "ticks": ""
             }
            },
            "type": "scattercarpet"
           }
          ],
          "scattergeo": [
           {
            "marker": {
             "colorbar": {
              "outlinewidth": 0,
              "ticks": ""
             }
            },
            "type": "scattergeo"
           }
          ],
          "scattergl": [
           {
            "marker": {
             "colorbar": {
              "outlinewidth": 0,
              "ticks": ""
             }
            },
            "type": "scattergl"
           }
          ],
          "scattermapbox": [
           {
            "marker": {
             "colorbar": {
              "outlinewidth": 0,
              "ticks": ""
             }
            },
            "type": "scattermapbox"
           }
          ],
          "scatterpolar": [
           {
            "marker": {
             "colorbar": {
              "outlinewidth": 0,
              "ticks": ""
             }
            },
            "type": "scatterpolar"
           }
          ],
          "scatterpolargl": [
           {
            "marker": {
             "colorbar": {
              "outlinewidth": 0,
              "ticks": ""
             }
            },
            "type": "scatterpolargl"
           }
          ],
          "scatterternary": [
           {
            "marker": {
             "colorbar": {
              "outlinewidth": 0,
              "ticks": ""
             }
            },
            "type": "scatterternary"
           }
          ],
          "surface": [
           {
            "colorbar": {
             "outlinewidth": 0,
             "ticks": ""
            },
            "colorscale": [
             [
              0,
              "#0d0887"
             ],
             [
              0.1111111111111111,
              "#46039f"
             ],
             [
              0.2222222222222222,
              "#7201a8"
             ],
             [
              0.3333333333333333,
              "#9c179e"
             ],
             [
              0.4444444444444444,
              "#bd3786"
             ],
             [
              0.5555555555555556,
              "#d8576b"
             ],
             [
              0.6666666666666666,
              "#ed7953"
             ],
             [
              0.7777777777777778,
              "#fb9f3a"
             ],
             [
              0.8888888888888888,
              "#fdca26"
             ],
             [
              1,
              "#f0f921"
             ]
            ],
            "type": "surface"
           }
          ],
          "table": [
           {
            "cells": {
             "fill": {
              "color": "#EBF0F8"
             },
             "line": {
              "color": "white"
             }
            },
            "header": {
             "fill": {
              "color": "#C8D4E3"
             },
             "line": {
              "color": "white"
             }
            },
            "type": "table"
           }
          ]
         },
         "layout": {
          "annotationdefaults": {
           "arrowcolor": "#2a3f5f",
           "arrowhead": 0,
           "arrowwidth": 1
          },
          "autotypenumbers": "strict",
          "coloraxis": {
           "colorbar": {
            "outlinewidth": 0,
            "ticks": ""
           }
          },
          "colorscale": {
           "diverging": [
            [
             0,
             "#8e0152"
            ],
            [
             0.1,
             "#c51b7d"
            ],
            [
             0.2,
             "#de77ae"
            ],
            [
             0.3,
             "#f1b6da"
            ],
            [
             0.4,
             "#fde0ef"
            ],
            [
             0.5,
             "#f7f7f7"
            ],
            [
             0.6,
             "#e6f5d0"
            ],
            [
             0.7,
             "#b8e186"
            ],
            [
             0.8,
             "#7fbc41"
            ],
            [
             0.9,
             "#4d9221"
            ],
            [
             1,
             "#276419"
            ]
           ],
           "sequential": [
            [
             0,
             "#0d0887"
            ],
            [
             0.1111111111111111,
             "#46039f"
            ],
            [
             0.2222222222222222,
             "#7201a8"
            ],
            [
             0.3333333333333333,
             "#9c179e"
            ],
            [
             0.4444444444444444,
             "#bd3786"
            ],
            [
             0.5555555555555556,
             "#d8576b"
            ],
            [
             0.6666666666666666,
             "#ed7953"
            ],
            [
             0.7777777777777778,
             "#fb9f3a"
            ],
            [
             0.8888888888888888,
             "#fdca26"
            ],
            [
             1,
             "#f0f921"
            ]
           ],
           "sequentialminus": [
            [
             0,
             "#0d0887"
            ],
            [
             0.1111111111111111,
             "#46039f"
            ],
            [
             0.2222222222222222,
             "#7201a8"
            ],
            [
             0.3333333333333333,
             "#9c179e"
            ],
            [
             0.4444444444444444,
             "#bd3786"
            ],
            [
             0.5555555555555556,
             "#d8576b"
            ],
            [
             0.6666666666666666,
             "#ed7953"
            ],
            [
             0.7777777777777778,
             "#fb9f3a"
            ],
            [
             0.8888888888888888,
             "#fdca26"
            ],
            [
             1,
             "#f0f921"
            ]
           ]
          },
          "colorway": [
           "#636efa",
           "#EF553B",
           "#00cc96",
           "#ab63fa",
           "#FFA15A",
           "#19d3f3",
           "#FF6692",
           "#B6E880",
           "#FF97FF",
           "#FECB52"
          ],
          "font": {
           "color": "#2a3f5f"
          },
          "geo": {
           "bgcolor": "white",
           "lakecolor": "white",
           "landcolor": "#E5ECF6",
           "showlakes": true,
           "showland": true,
           "subunitcolor": "white"
          },
          "hoverlabel": {
           "align": "left"
          },
          "hovermode": "closest",
          "mapbox": {
           "style": "light"
          },
          "paper_bgcolor": "white",
          "plot_bgcolor": "#E5ECF6",
          "polar": {
           "angularaxis": {
            "gridcolor": "white",
            "linecolor": "white",
            "ticks": ""
           },
           "bgcolor": "#E5ECF6",
           "radialaxis": {
            "gridcolor": "white",
            "linecolor": "white",
            "ticks": ""
           }
          },
          "scene": {
           "xaxis": {
            "backgroundcolor": "#E5ECF6",
            "gridcolor": "white",
            "gridwidth": 2,
            "linecolor": "white",
            "showbackground": true,
            "ticks": "",
            "zerolinecolor": "white"
           },
           "yaxis": {
            "backgroundcolor": "#E5ECF6",
            "gridcolor": "white",
            "gridwidth": 2,
            "linecolor": "white",
            "showbackground": true,
            "ticks": "",
            "zerolinecolor": "white"
           },
           "zaxis": {
            "backgroundcolor": "#E5ECF6",
            "gridcolor": "white",
            "gridwidth": 2,
            "linecolor": "white",
            "showbackground": true,
            "ticks": "",
            "zerolinecolor": "white"
           }
          },
          "shapedefaults": {
           "line": {
            "color": "#2a3f5f"
           }
          },
          "ternary": {
           "aaxis": {
            "gridcolor": "white",
            "linecolor": "white",
            "ticks": ""
           },
           "baxis": {
            "gridcolor": "white",
            "linecolor": "white",
            "ticks": ""
           },
           "bgcolor": "#E5ECF6",
           "caxis": {
            "gridcolor": "white",
            "linecolor": "white",
            "ticks": ""
           }
          },
          "title": {
           "x": 0.05
          },
          "xaxis": {
           "automargin": true,
           "gridcolor": "white",
           "linecolor": "white",
           "ticks": "",
           "title": {
            "standoff": 15
           },
           "zerolinecolor": "white",
           "zerolinewidth": 2
          },
          "yaxis": {
           "automargin": true,
           "gridcolor": "white",
           "linecolor": "white",
           "ticks": "",
           "title": {
            "standoff": 15
           },
           "zerolinecolor": "white",
           "zerolinewidth": 2
          }
         }
        },
        "title": {
         "text": "Feature Importance from Decision Tree"
        },
        "xaxis": {
         "anchor": "y",
         "domain": [
          0,
          1
         ],
         "title": {
          "text": "Features"
         }
        },
        "yaxis": {
         "anchor": "x",
         "domain": [
          0,
          1
         ],
         "title": {
          "text": "Importance"
         }
        }
       }
      }
     },
     "metadata": {},
     "output_type": "display_data"
    }
   ],
   "source": [
    "import pandas as pd\n",
    "from sklearn.model_selection import train_test_split\n",
    "from sklearn.metrics import mean_squared_error\n",
    "from sklearn.tree import DecisionTreeRegressor\n",
    "import plotly.express as px\n",
    "\n",
    "# Define the features and target\n",
    "features = [\n",
    "    'RelativeHumidity_dwd', 'Temperature_dwd', 'WindDirection_dwd', 'WindSpeed_dwd',\n",
    "    # 'RelativeHumidity_ncep', 'Temperature_ncep', 'WindDirection:100_ncep', 'WindSpeed:100_ncep'\n",
    "]\n",
    "target = 'Wind_MWh_credit'\n",
    "\n",
    "# Split the data into training and testing sets\n",
    "X = df_wind[features]\n",
    "y = df_wind[target]\n",
    "X_train, X_test, y_train, y_test = train_test_split(X, y, test_size=0.2, random_state=42)\n",
    "\n",
    "# Initialize and train the decision tree model\n",
    "tree_model = DecisionTreeRegressor(random_state=42)\n",
    "tree_model.fit(X_train, y_train)\n",
    "\n",
    "# Predict and calculate the mean squared error\n",
    "y_pred = tree_model.predict(X_test)\n",
    "mse = mean_squared_error(y_test, y_pred)\n",
    "print(f'Mean Squared Error: {mse}')\n",
    "\n",
    "# Extract feature importances\n",
    "feature_importances = tree_model.feature_importances_\n",
    "\n",
    "# Convert feature importances to a DataFrame for plotting\n",
    "feature_importances_df = pd.DataFrame({'Feature': features, 'Importance': feature_importances})\n",
    "\n",
    "# Plot the feature importances using Plotly\n",
    "fig = px.bar(feature_importances_df, x='Feature', y='Importance', title='Feature Importance from Decision Tree', labels={'Feature': 'Features', 'Importance': 'Importance'})\n",
    "fig.show()"
   ]
  }
 ],
 "metadata": {
  "kernelspec": {
   "display_name": "HEFTcom24",
   "language": "python",
   "name": "python3"
  },
  "language_info": {
   "codemirror_mode": {
    "name": "ipython",
    "version": 3
   },
   "file_extension": ".py",
   "mimetype": "text/x-python",
   "name": "python",
   "nbconvert_exporter": "python",
   "pygments_lexer": "ipython3",
   "version": "3.11.5"
  }
 },
 "nbformat": 4,
 "nbformat_minor": 2
}
