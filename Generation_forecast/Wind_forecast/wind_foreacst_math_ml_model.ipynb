{
 "cells": [
  {
   "cell_type": "code",
   "execution_count": 98,
   "metadata": {},
   "outputs": [],
   "source": [
    "import pandas as pd\n",
    "import numpy as np\n",
    "import os\n",
    "import sys\n",
    "from scipy.interpolate import CubicSpline\n",
    "import warnings\n",
    "\n",
    "pd.options.mode.chained_assignment = None  # default='warn'\n",
    "warnings.filterwarnings(\"ignore\", category=DeprecationWarning) "
   ]
  },
  {
   "cell_type": "code",
   "execution_count": 136,
   "metadata": {},
   "outputs": [],
   "source": [
    "# Read the CSV file\n",
    "df_wind = pd.read_csv(os.path.join(os.getcwd(), '..', 'data', 'wind2.csv'))\n",
    "\n",
    "df_wind = df_wind.drop(columns=['SS_Price', 'boa_MWh', 'DA_Price', 'Wind_MWh_credit', 'dtm', 'MIP'])\n",
    "df_wind['reference_time'] = pd.to_datetime(df_wind['reference_time'])\n",
    "df_wind['valid_time'] = pd.to_datetime(df_wind['valid_time'])\n",
    "df_latest = df_wind.groupby('valid_time').tail(1)"
   ]
  },
  {
   "cell_type": "code",
   "execution_count": 137,
   "metadata": {},
   "outputs": [],
   "source": [
    "# drop everything after Jan 20, 2024\n",
    "df_latest = df_latest[df_latest['valid_time'] < '2024-01-21']"
   ]
  },
  {
   "cell_type": "code",
   "execution_count": 138,
   "metadata": {},
   "outputs": [],
   "source": [
    "# df_latest['WindSpeed:100_avg'] = (df_latest['WindSpeed:100_dwd'] + df_latest['WindSpeed:100_ncep']) / 2\n",
    "df_latest['WindSpeed^3:100_avg'] = (df_latest['WindSpeed^3:100_dwd'] + df_latest['WindSpeed^3:100_ncep']) / 2\n",
    "df_latest['Temperature_avg'] = (df_latest['Temperature_dwd'] + df_latest['Temperature_ncep']) / 2\n",
    "df_latest['RelativeHumidity_avg'] = (df_latest['RelativeHumidity_dwd'] + df_latest['RelativeHumidity_ncep']) / 2\n",
    "df_latest['WindDirection:100_avg'] = (df_latest['WindDirection:100_dwd'] + df_latest['WindDirection:100_ncep']) / 2\n",
    "\n",
    "df_latest = df_latest.drop(columns=['WindSpeed_dwd', 'WindSpeed_ncep', 'Temperature_dwd', 'Temperature_ncep', 'RelativeHumidity_dwd', 'RelativeHumidity_ncep', 'WindSpeed^3_dwd', 'WindSpeed^3_ncep', 'WindDirection_dwd', 'WindDirection_ncep', 'WindSpeed:100_dwd', 'WindSpeed:100_ncep', 'WindSpeed:100^3_dwd', 'WindSpeed:100^3_ncep'])"
   ]
  },
  {
   "cell_type": "code",
   "execution_count": 139,
   "metadata": {},
   "outputs": [
    {
     "data": {
      "text/plain": [
       "Index(['reference_time', 'valid_time', 'WindDirection:100_dwd',\n",
       "       'WindSpeed:100_dwd', 'WindDirection:100_ncep', 'WindSpeed:100_ncep',\n",
       "       'Wind_MW', 'WindSpeed:100_avg', 'Temperature_avg',\n",
       "       'RelativeHumidity_avg', 'WindDirection:100_avg'],\n",
       "      dtype='object')"
      ]
     },
     "execution_count": 139,
     "metadata": {},
     "output_type": "execute_result"
    }
   ],
   "source": [
    "# remove ^3 from the column names\n",
    "df_latest.columns = [col.replace('^3', '') for col in df_latest.columns]"
   ]
  },
  {
   "cell_type": "markdown",
   "metadata": {},
   "source": [
    "# i. Calculate Power Forecast based on Physics"
   ]
  },
  {
   "cell_type": "markdown",
   "metadata": {},
   "source": [
    "## 1. Calculate Air Density"
   ]
  },
  {
   "cell_type": "code",
   "execution_count": 140,
   "metadata": {},
   "outputs": [],
   "source": [
    "# Constants\n",
    "R_d = 287.05  # Specific gas constant for dry air (J/(kg·K))\n",
    "R_v = 461.5   # Specific gas constant for water vapor (J/(kg·K))\n",
    "p = 101325    # Standard atmospheric pressure in Pa\n",
    "\n",
    "# Assuming df_latest is your original DataFrame and contains 'Temperature_dwd', 'RelativeHumidity_dwd', 'WindSpeed_dwd'\n",
    "# Convert temperature from Celsius to Kelvin\n",
    "df_latest['Temperature_K'] = df_latest['Temperature_avg'] + 273.15\n",
    "\n",
    "# Calculate saturation vapor pressure (using temperature in Celsius), Tetens formula\n",
    "e_s = 0.61078 * np.exp((17.27 * df_latest['Temperature_avg']) / (df_latest['Temperature_avg'] + 237.3))\n",
    "\n",
    "# in pa\n",
    "e_s = 1000 * e_s\n",
    "\n",
    "# Calculate actual vapor pressure\n",
    "e = df_latest['RelativeHumidity_avg'] / 100 * e_s\n",
    "\n",
    "# Calculate air density (ρ) in kg/m³\n",
    "df_latest['AirDensity'] = (p - e) / (R_d * df_latest['Temperature_K']) + (e / (R_v * df_latest['Temperature_K']))"
   ]
  },
  {
   "cell_type": "markdown",
   "metadata": {},
   "source": [
    "## 2. Calculate Power based on Density and Wind Speed"
   ]
  },
  {
   "cell_type": "code",
   "execution_count": 142,
   "metadata": {},
   "outputs": [],
   "source": [
    "# Turbine stats\n",
    "rotor_diameter = 154  # in meters\n",
    "approximated_total_efficiency = 0.31  # 31% efficiency\n",
    "minimum_wind_speed = 3  # in m/s\n",
    "maximum_wind_speed_for_power_curve = 12.5  # in m/s\n",
    "maximum_wind_speed_for_operation = 25  # in m/s\n",
    "rotor_area = np.pi * (rotor_diameter / 2) ** 2  # in m²\n",
    "# turbine requires 3m/s to start rotating\n",
    "const_internal_friction_coefficient = 0.5 * 1.240 * np.pi * 77**2 * 3**3 * approximated_total_efficiency * 174 / 1000000\n",
    "maximum_power_per_turbine = 7 # in MW\n",
    "\n",
    "# Calculate power output based on wind speed at 100m\n",
    "df_latest['WindPower:100'] = 0.5 * df_latest['AirDensity'] * rotor_area * df_latest['WindSpeed:100_avg'] ** 3 * 174 / 1000000\n",
    "df_latest['UsableWindPower:100'] = np.minimum(df_latest['WindPower:100'], maximum_power_per_turbine * 174 / approximated_total_efficiency)\n",
    "df_latest['PowerOutput:100'] = np.where((df_latest['WindSpeed:100_avg'] >= minimum_wind_speed) & (df_latest['WindSpeed:100_avg'] <= maximum_wind_speed_for_operation), df_latest['UsableWindPower:100'] * approximated_total_efficiency - const_internal_friction_coefficient, 0)"
   ]
  },
  {
   "cell_type": "code",
   "execution_count": 143,
   "metadata": {},
   "outputs": [
    {
     "name": "stdout",
     "output_type": "stream",
     "text": [
      "1201.1810949493763\n",
      "16.818905050623663\n",
      "1192.744\n"
     ]
    }
   ],
   "source": [
    "print(max(df_latest['PowerOutput:100']))\n",
    "print(const_internal_friction_coefficient)\n",
    "print(max(df_latest['Wind_MW']))"
   ]
  },
  {
   "cell_type": "code",
   "execution_count": 144,
   "metadata": {},
   "outputs": [
    {
     "name": "stdout",
     "output_type": "stream",
     "text": [
      "Mean Absolute error:100: 101.04136737561544\n"
     ]
    },
    {
     "data": {
      "text/html": [
       "<div>\n",
       "<style scoped>\n",
       "    .dataframe tbody tr th:only-of-type {\n",
       "        vertical-align: middle;\n",
       "    }\n",
       "\n",
       "    .dataframe tbody tr th {\n",
       "        vertical-align: top;\n",
       "    }\n",
       "\n",
       "    .dataframe thead th {\n",
       "        text-align: right;\n",
       "    }\n",
       "</style>\n",
       "<table border=\"1\" class=\"dataframe\">\n",
       "  <thead>\n",
       "    <tr style=\"text-align: right;\">\n",
       "      <th></th>\n",
       "      <th>quantile</th>\n",
       "      <th>quantile_range</th>\n",
       "      <th>mean_absolute_error:100</th>\n",
       "      <th>mean_error:100</th>\n",
       "    </tr>\n",
       "  </thead>\n",
       "  <tbody>\n",
       "    <tr>\n",
       "      <th>0</th>\n",
       "      <td>0.1</td>\n",
       "      <td>0.0 - 18.8</td>\n",
       "      <td>39.517385</td>\n",
       "      <td>-37.074092</td>\n",
       "    </tr>\n",
       "    <tr>\n",
       "      <th>1</th>\n",
       "      <td>0.2</td>\n",
       "      <td>18.8 - 91.8</td>\n",
       "      <td>39.392657</td>\n",
       "      <td>-9.300244</td>\n",
       "    </tr>\n",
       "    <tr>\n",
       "      <th>2</th>\n",
       "      <td>0.3</td>\n",
       "      <td>91.8 - 198.0</td>\n",
       "      <td>70.498968</td>\n",
       "      <td>1.106430</td>\n",
       "    </tr>\n",
       "    <tr>\n",
       "      <th>3</th>\n",
       "      <td>0.4</td>\n",
       "      <td>198.0 - 339.9</td>\n",
       "      <td>96.019216</td>\n",
       "      <td>21.026575</td>\n",
       "    </tr>\n",
       "    <tr>\n",
       "      <th>4</th>\n",
       "      <td>0.5</td>\n",
       "      <td>339.9 - 518.1</td>\n",
       "      <td>135.888005</td>\n",
       "      <td>40.565237</td>\n",
       "    </tr>\n",
       "    <tr>\n",
       "      <th>5</th>\n",
       "      <td>0.6</td>\n",
       "      <td>518.1 - 748.9</td>\n",
       "      <td>174.402589</td>\n",
       "      <td>69.991685</td>\n",
       "    </tr>\n",
       "    <tr>\n",
       "      <th>6</th>\n",
       "      <td>0.7</td>\n",
       "      <td>748.9 - 994.1</td>\n",
       "      <td>201.631115</td>\n",
       "      <td>59.189240</td>\n",
       "    </tr>\n",
       "    <tr>\n",
       "      <th>7</th>\n",
       "      <td>0.8</td>\n",
       "      <td>994.1 - 1108.8</td>\n",
       "      <td>141.210712</td>\n",
       "      <td>-26.478310</td>\n",
       "    </tr>\n",
       "    <tr>\n",
       "      <th>8</th>\n",
       "      <td>0.9</td>\n",
       "      <td>1108.8 - 1154.5</td>\n",
       "      <td>79.268065</td>\n",
       "      <td>-39.587863</td>\n",
       "    </tr>\n",
       "    <tr>\n",
       "      <th>9</th>\n",
       "      <td>1.0</td>\n",
       "      <td>1154.5 - 1192.7</td>\n",
       "      <td>32.622062</td>\n",
       "      <td>-21.511389</td>\n",
       "    </tr>\n",
       "  </tbody>\n",
       "</table>\n",
       "</div>"
      ],
      "text/plain": [
       "   quantile   quantile_range  mean_absolute_error:100  mean_error:100\n",
       "0       0.1       0.0 - 18.8                39.517385      -37.074092\n",
       "1       0.2      18.8 - 91.8                39.392657       -9.300244\n",
       "2       0.3     91.8 - 198.0                70.498968        1.106430\n",
       "3       0.4    198.0 - 339.9                96.019216       21.026575\n",
       "4       0.5    339.9 - 518.1               135.888005       40.565237\n",
       "5       0.6    518.1 - 748.9               174.402589       69.991685\n",
       "6       0.7    748.9 - 994.1               201.631115       59.189240\n",
       "7       0.8   994.1 - 1108.8               141.210712      -26.478310\n",
       "8       0.9  1108.8 - 1154.5                79.268065      -39.587863\n",
       "9       1.0  1154.5 - 1192.7                32.622062      -21.511389"
      ]
     },
     "execution_count": 144,
     "metadata": {},
     "output_type": "execute_result"
    }
   ],
   "source": [
    "# Forecast stats\n",
    "# Absolute error\n",
    "print('Mean Absolute error:100:', np.mean(np.abs(df_latest['Wind_MW'] - df_latest['PowerOutput:100'])))\n",
    "# Initialize a list to collect the stats\n",
    "stats_df = pd.DataFrame({'quantile': [], 'quantile_range': [], 'mean_absolute_error:100': [], 'mean_error:100': []})\n",
    "\n",
    "# Mean absolute error in 10% quantiles\n",
    "for q in np.arange(0.1, 1.1, 0.1):\n",
    "    # Filter the DataFrame for each quantile range\n",
    "    quantile_df = df_latest[(df_latest['Wind_MW'] < df_latest['Wind_MW'].quantile(q)) & (df_latest['Wind_MW'] >= df_latest['Wind_MW'].quantile(q - 0.1))]\n",
    "    \n",
    "    # Calculate the statistics\n",
    "    quantile_stats = {\n",
    "        'quantile': q,\n",
    "        'quantile_range': f'{df_latest[\"Wind_MW\"].quantile(q - 0.1):.1f} - {df_latest[\"Wind_MW\"].quantile(q):.1f}',\n",
    "        'mean_absolute_error:100': np.mean(np.abs(quantile_df['Wind_MW'] - quantile_df['PowerOutput:100'])),\n",
    "        'mean_error:100': np.mean(quantile_df['Wind_MW'] - quantile_df['PowerOutput:100']),\n",
    "    }\n",
    "    \n",
    "    # Append to the list\n",
    "    stats_df.loc[len(stats_df)] = quantile_stats\n",
    "\n",
    "# Display the DataFrame\n",
    "stats_df"
   ]
  },
  {
   "cell_type": "markdown",
   "metadata": {},
   "source": [
    "## 3. Find optimal $\\eta$ to update the approximation of the turbine efficiency"
   ]
  },
  {
   "cell_type": "code",
   "execution_count": 146,
   "metadata": {},
   "outputs": [],
   "source": [
    "errors = {}\n",
    "for efficiency in np.arange(0.28, 0.35, 0.001):\n",
    "    for limiter in np.arange(0.9, 1.01, 0.01):\n",
    "        const_internal_friction_coefficient = 0.5 * 1.240 * np.pi * 77**2 * 3**3 * efficiency * 174 / 1000000\n",
    "        df_latest['WindPower:100_tmp'] = 0.5 * df_latest['AirDensity'] * rotor_area * df_latest['WindSpeed:100_avg'] ** 3 * 174 / 1000000\n",
    "        df_latest['UsableWindPower:100_tmp'] = np.minimum(df_latest['WindPower:100_tmp'], maximum_power_per_turbine * 174 * limiter / efficiency)\n",
    "        df_latest['PowerOutput:100_tmp'] = np.where((df_latest['WindSpeed:100_avg'] >= minimum_wind_speed) & (df_latest['WindSpeed:100_avg'] <= maximum_wind_speed_for_operation), df_latest['UsableWindPower:100_tmp'] * efficiency - const_internal_friction_coefficient, 0)\n",
    "        mean_abs_error = np.mean(np.abs(df_latest['Wind_MW'] - df_latest['PowerOutput:100_tmp']))\n",
    "        mean_error = np.mean(df_latest['Wind_MW'] - df_latest['PowerOutput:100_tmp'])\n",
    "        errors[(efficiency.round(3), limiter.round(2))] = [mean_abs_error, mean_error]"
   ]
  },
  {
   "cell_type": "code",
   "execution_count": 147,
   "metadata": {},
   "outputs": [
    {
     "name": "stdout",
     "output_type": "stream",
     "text": [
      "Minimum mean absolute error: 88.20 with efficiency=(0.348, 0.94)\n",
      "Mean error: -1.87\n"
     ]
    }
   ],
   "source": [
    "# Find the minimum error\n",
    "min_error = min(errors, key=lambda x: errors[x])\n",
    "print(f'Minimum mean absolute error: {errors[min_error][0]:.2f} with efficiency={min_error}')\n",
    "print(f'Mean error: {errors[min_error][1]:.2f}')"
   ]
  },
  {
   "cell_type": "code",
   "execution_count": 156,
   "metadata": {},
   "outputs": [],
   "source": [
    "approximated_total_efficiency = min_error[0]\n",
    "limiter = min_error[1]\n",
    "#limiter = 0.96"
   ]
  },
  {
   "cell_type": "code",
   "execution_count": 158,
   "metadata": {},
   "outputs": [
    {
     "data": {
      "text/html": [
       "<div>\n",
       "<style scoped>\n",
       "    .dataframe tbody tr th:only-of-type {\n",
       "        vertical-align: middle;\n",
       "    }\n",
       "\n",
       "    .dataframe tbody tr th {\n",
       "        vertical-align: top;\n",
       "    }\n",
       "\n",
       "    .dataframe thead th {\n",
       "        text-align: right;\n",
       "    }\n",
       "</style>\n",
       "<table border=\"1\" class=\"dataframe\">\n",
       "  <thead>\n",
       "    <tr style=\"text-align: right;\">\n",
       "      <th></th>\n",
       "      <th>quantile</th>\n",
       "      <th>quantile_range</th>\n",
       "      <th>mean_absolute_error:100</th>\n",
       "      <th>mean_error:100</th>\n",
       "      <th>mean_absolute_error:100_opt</th>\n",
       "      <th>mean_error:100_opt</th>\n",
       "      <th>mean_absolute_error:100_opt_new</th>\n",
       "      <th>mean_error:100_opt_new</th>\n",
       "    </tr>\n",
       "  </thead>\n",
       "  <tbody>\n",
       "    <tr>\n",
       "      <th>0</th>\n",
       "      <td>0.1</td>\n",
       "      <td>0.0 - 18.8</td>\n",
       "      <td>39.517385</td>\n",
       "      <td>-37.074092</td>\n",
       "      <td>41.075542</td>\n",
       "      <td>-38.711994</td>\n",
       "      <td>41.075542</td>\n",
       "      <td>-38.711994</td>\n",
       "    </tr>\n",
       "    <tr>\n",
       "      <th>1</th>\n",
       "      <td>0.2</td>\n",
       "      <td>18.8 - 91.8</td>\n",
       "      <td>39.392657</td>\n",
       "      <td>-9.300244</td>\n",
       "      <td>43.313708</td>\n",
       "      <td>-16.799664</td>\n",
       "      <td>43.313708</td>\n",
       "      <td>-16.799664</td>\n",
       "    </tr>\n",
       "    <tr>\n",
       "      <th>2</th>\n",
       "      <td>0.3</td>\n",
       "      <td>91.8 - 198.0</td>\n",
       "      <td>70.498968</td>\n",
       "      <td>1.106430</td>\n",
       "      <td>73.007629</td>\n",
       "      <td>-14.493744</td>\n",
       "      <td>73.007629</td>\n",
       "      <td>-14.493744</td>\n",
       "    </tr>\n",
       "    <tr>\n",
       "      <th>3</th>\n",
       "      <td>0.4</td>\n",
       "      <td>198.0 - 339.9</td>\n",
       "      <td>96.019216</td>\n",
       "      <td>21.026575</td>\n",
       "      <td>97.693936</td>\n",
       "      <td>-7.723784</td>\n",
       "      <td>97.693936</td>\n",
       "      <td>-7.723784</td>\n",
       "    </tr>\n",
       "    <tr>\n",
       "      <th>4</th>\n",
       "      <td>0.5</td>\n",
       "      <td>339.9 - 518.1</td>\n",
       "      <td>135.888005</td>\n",
       "      <td>40.565237</td>\n",
       "      <td>133.493847</td>\n",
       "      <td>-2.333356</td>\n",
       "      <td>133.493847</td>\n",
       "      <td>-2.333356</td>\n",
       "    </tr>\n",
       "    <tr>\n",
       "      <th>5</th>\n",
       "      <td>0.6</td>\n",
       "      <td>518.1 - 748.9</td>\n",
       "      <td>174.402589</td>\n",
       "      <td>69.991685</td>\n",
       "      <td>164.910003</td>\n",
       "      <td>9.720690</td>\n",
       "      <td>164.910003</td>\n",
       "      <td>9.720690</td>\n",
       "    </tr>\n",
       "    <tr>\n",
       "      <th>6</th>\n",
       "      <td>0.7</td>\n",
       "      <td>748.9 - 994.1</td>\n",
       "      <td>201.631115</td>\n",
       "      <td>59.189240</td>\n",
       "      <td>175.675709</td>\n",
       "      <td>-0.382085</td>\n",
       "      <td>175.675709</td>\n",
       "      <td>-0.382085</td>\n",
       "    </tr>\n",
       "    <tr>\n",
       "      <th>7</th>\n",
       "      <td>0.8</td>\n",
       "      <td>994.1 - 1108.8</td>\n",
       "      <td>141.210712</td>\n",
       "      <td>-26.478310</td>\n",
       "      <td>81.287565</td>\n",
       "      <td>-14.562300</td>\n",
       "      <td>81.287565</td>\n",
       "      <td>-14.562300</td>\n",
       "    </tr>\n",
       "    <tr>\n",
       "      <th>8</th>\n",
       "      <td>0.9</td>\n",
       "      <td>1108.8 - 1154.5</td>\n",
       "      <td>79.268065</td>\n",
       "      <td>-39.587863</td>\n",
       "      <td>22.136928</td>\n",
       "      <td>17.128711</td>\n",
       "      <td>22.136928</td>\n",
       "      <td>17.128711</td>\n",
       "    </tr>\n",
       "    <tr>\n",
       "      <th>9</th>\n",
       "      <td>1.0</td>\n",
       "      <td>1154.5 - 1192.7</td>\n",
       "      <td>32.622062</td>\n",
       "      <td>-21.511389</td>\n",
       "      <td>49.406168</td>\n",
       "      <td>49.406168</td>\n",
       "      <td>49.406168</td>\n",
       "      <td>49.406168</td>\n",
       "    </tr>\n",
       "  </tbody>\n",
       "</table>\n",
       "</div>"
      ],
      "text/plain": [
       "   quantile   quantile_range  mean_absolute_error:100  mean_error:100  \\\n",
       "0       0.1       0.0 - 18.8                39.517385      -37.074092   \n",
       "1       0.2      18.8 - 91.8                39.392657       -9.300244   \n",
       "2       0.3     91.8 - 198.0                70.498968        1.106430   \n",
       "3       0.4    198.0 - 339.9                96.019216       21.026575   \n",
       "4       0.5    339.9 - 518.1               135.888005       40.565237   \n",
       "5       0.6    518.1 - 748.9               174.402589       69.991685   \n",
       "6       0.7    748.9 - 994.1               201.631115       59.189240   \n",
       "7       0.8   994.1 - 1108.8               141.210712      -26.478310   \n",
       "8       0.9  1108.8 - 1154.5                79.268065      -39.587863   \n",
       "9       1.0  1154.5 - 1192.7                32.622062      -21.511389   \n",
       "\n",
       "   mean_absolute_error:100_opt  mean_error:100_opt  \\\n",
       "0                    41.075542          -38.711994   \n",
       "1                    43.313708          -16.799664   \n",
       "2                    73.007629          -14.493744   \n",
       "3                    97.693936           -7.723784   \n",
       "4                   133.493847           -2.333356   \n",
       "5                   164.910003            9.720690   \n",
       "6                   175.675709           -0.382085   \n",
       "7                    81.287565          -14.562300   \n",
       "8                    22.136928           17.128711   \n",
       "9                    49.406168           49.406168   \n",
       "\n",
       "   mean_absolute_error:100_opt_new  mean_error:100_opt_new  \n",
       "0                        41.075542              -38.711994  \n",
       "1                        43.313708              -16.799664  \n",
       "2                        73.007629              -14.493744  \n",
       "3                        97.693936               -7.723784  \n",
       "4                       133.493847               -2.333356  \n",
       "5                       164.910003                9.720690  \n",
       "6                       175.675709               -0.382085  \n",
       "7                        81.287565              -14.562300  \n",
       "8                        22.136928               17.128711  \n",
       "9                        49.406168               49.406168  "
      ]
     },
     "execution_count": 158,
     "metadata": {},
     "output_type": "execute_result"
    }
   ],
   "source": [
    "const_internal_friction_coefficient = 0.5 * 1.240 * np.pi * 77**2 * 3**3 * approximated_total_efficiency * 174 / 1000000\n",
    "df_latest['WindPower_opt'] = 0.5 * df_latest['AirDensity'] * rotor_area * df_latest['WindSpeed:100_avg'] ** 3 * 174 / 1000000\n",
    "df_latest['UsableWindPower_opt'] = np.minimum(df_latest['WindPower_opt'], maximum_power_per_turbine * 174 * limiter / approximated_total_efficiency)\n",
    "df_latest['PowerOutput_opt'] = np.where((df_latest['WindSpeed:100_avg'] >= minimum_wind_speed) & (df_latest['WindSpeed:100_avg'] <= maximum_wind_speed_for_operation), df_latest['UsableWindPower_opt'] * approximated_total_efficiency - const_internal_friction_coefficient, 0)\n",
    "\n",
    "# Update stats_df using optimal values\n",
    "for q in np.arange(0.1, 1.1, 0.1):\n",
    "    quantile_df = df_latest[(df_latest['Wind_MW'] < df_latest['Wind_MW'].quantile(q)) & (df_latest['Wind_MW'] >= df_latest['Wind_MW'].quantile(q - 0.1))]\n",
    "    quantile_row = {\n",
    "        'quantile': q,\n",
    "        'mean_absolute_error:100_opt': np.mean(np.abs(quantile_df['Wind_MW'] - quantile_df['PowerOutput_opt'])),\n",
    "        'mean_error:100_opt': np.mean(quantile_df['Wind_MW'] - quantile_df['PowerOutput_opt'])\n",
    "    }\n",
    "    stats_df.loc[stats_df['quantile'] == q, 'mean_absolute_error:100_opt'] = quantile_row['mean_absolute_error:100_opt']\n",
    "    stats_df.loc[stats_df['quantile'] == q, 'mean_error:100_opt'] = quantile_row['mean_error:100_opt']\n",
    "\n",
    "stats_df"
   ]
  },
  {
   "cell_type": "code",
   "execution_count": 159,
   "metadata": {},
   "outputs": [
    {
     "data": {
      "text/plain": [
       "1197.9142794865577"
      ]
     },
     "execution_count": 159,
     "metadata": {},
     "output_type": "execute_result"
    }
   ],
   "source": [
    "df_latest['PowerOutput_opt'].max()/limiter"
   ]
  },
  {
   "cell_type": "markdown",
   "metadata": {},
   "source": [
    "## 3. Make Forecast more accurate using smoothing of windspeed between datapoints"
   ]
  },
  {
   "cell_type": "code",
   "execution_count": 165,
   "metadata": {},
   "outputs": [],
   "source": [
    "# Iterate over each reference_time\n",
    "df_latest['PowerOutput_smoothed'] = 0.0\n",
    "for reference_time, group in df_latest.groupby('reference_time'):\n",
    "\n",
    "    # Get the valid_times and corresponding wind speeds for this reference_time\n",
    "    valid_times = group['valid_time'].values\n",
    "    wind_speeds = group['WindSpeed:100_avg'].values\n",
    "    actual_generation = group['Wind_MW'].values\n",
    "    \n",
    "    # Convert valid_times to seconds for interpolation\n",
    "    valid_times_in_seconds = (valid_times - valid_times[0]).astype('timedelta64[m]').astype(int) * 60  # seconds\n",
    "    \n",
    "    if len(valid_times) < 2:\n",
    "        wind_power = 0.5 * group['AirDensity'].iloc[0] * rotor_area * avg_cubed_wind * 174 / 1000000\n",
    "        usable_wind_power = min(wind_power, 7 * 174 * limiter / approximated_total_efficiency)\n",
    "        power_output = usable_wind_power * approximated_total_efficiency - const_internal_friction_coefficient if (group['WindSpeed:100_avg'].iloc[0] >= minimum_wind_speed) and (group['WindSpeed:100_avg'].iloc[0] <= maximum_wind_speed_for_operation) else 0\n",
    "\n",
    "        # Update PowerOutput\n",
    "        df_latest.loc[(df_latest['reference_time'] == reference_time) & (df_latest['valid_time'] == valid_times[0]), 'PowerOutput_smoothed'] = power_output\n",
    "        continue\n",
    "    # Perform cubic spline interpolation for 1-minute intervals\n",
    "    wind_speed_spline = CubicSpline(valid_times_in_seconds, wind_speeds)\n",
    "    \n",
    "    # Generate 1-minute intervals for the valid_time range\n",
    "    for i in range(len(valid_times) - 1):\n",
    "        t_start = valid_times_in_seconds[i]\n",
    "        t_end = valid_times_in_seconds[i + 1]\n",
    "        \n",
    "        # Generate time points at 1-minute intervals within this 30-minute window\n",
    "        times_1min = np.arange(t_start, t_end, 60)\n",
    "        \n",
    "        # Interpolate wind speeds at 1-minute intervals\n",
    "        interpolated_wind_speeds = wind_speed_spline(times_1min)\n",
    "        \n",
    "        # Calculate the average wind power using the cubed wind speeds, reduce speeds <3ms to 0\n",
    "        avg_cubed_wind = np.mean(np.where((interpolated_wind_speeds >= 3) & (interpolated_wind_speeds <= 25), interpolated_wind_speeds, 0) ** 3)\n",
    "        avg_cubed_wind = np.mean(interpolated_wind_speeds ** 3)\n",
    "        # get frac with windspeed > 3 and < 25\n",
    "        frac_generation = np.mean(np.where((interpolated_wind_speeds >= 3) & (interpolated_wind_speeds <= 25), 1, 0))\n",
    "        \n",
    "        # Calculate wind power and apply limits for each interval\n",
    "        wind_power = 0.5 * group['AirDensity'].iloc[i] * rotor_area * avg_cubed_wind * 174 / 1000000\n",
    "        usable_wind_power = min(wind_power, 7 * 174 * limiter / approximated_total_efficiency)\n",
    "        \n",
    "        # Calculate final power output based on cut-in, cut-out wind speeds and efficiency\n",
    "        power_output = max(0, usable_wind_power * approximated_total_efficiency - const_internal_friction_coefficient * frac_generation)\n",
    "        \n",
    "        # Update PowerOutput\n",
    "        valid_time = pd.to_datetime(valid_times[i]).tz_localize('UTC')\n",
    "        df_latest.loc[(df_latest['reference_time'] == reference_time) & (df_latest['valid_time'] == valid_time), 'PowerOutput_smoothed'] = power_output"
   ]
  },
  {
   "cell_type": "code",
   "execution_count": 166,
   "metadata": {},
   "outputs": [
    {
     "name": "stdout",
     "output_type": "stream",
     "text": [
      "Mean Absolute error: 127.42484874897818\n"
     ]
    },
    {
     "data": {
      "text/html": [
       "<div>\n",
       "<style scoped>\n",
       "    .dataframe tbody tr th:only-of-type {\n",
       "        vertical-align: middle;\n",
       "    }\n",
       "\n",
       "    .dataframe tbody tr th {\n",
       "        vertical-align: top;\n",
       "    }\n",
       "\n",
       "    .dataframe thead th {\n",
       "        text-align: right;\n",
       "    }\n",
       "</style>\n",
       "<table border=\"1\" class=\"dataframe\">\n",
       "  <thead>\n",
       "    <tr style=\"text-align: right;\">\n",
       "      <th></th>\n",
       "      <th>quantile</th>\n",
       "      <th>quantile_range</th>\n",
       "      <th>mean_absolute_error:100</th>\n",
       "      <th>mean_error:100</th>\n",
       "      <th>mean_absolute_error:100_opt</th>\n",
       "      <th>mean_error:100_opt</th>\n",
       "      <th>mean_absolute_error:100_opt_new</th>\n",
       "      <th>mean_error:100_opt_new</th>\n",
       "      <th>mean_absolute_error:100_new</th>\n",
       "      <th>mean_error:100_new</th>\n",
       "    </tr>\n",
       "  </thead>\n",
       "  <tbody>\n",
       "    <tr>\n",
       "      <th>0</th>\n",
       "      <td>0.1</td>\n",
       "      <td>0.0 - 18.8</td>\n",
       "      <td>39.517385</td>\n",
       "      <td>-37.074092</td>\n",
       "      <td>41.075542</td>\n",
       "      <td>-38.711994</td>\n",
       "      <td>41.075542</td>\n",
       "      <td>-38.711994</td>\n",
       "      <td>41.318240</td>\n",
       "      <td>-39.899149</td>\n",
       "    </tr>\n",
       "    <tr>\n",
       "      <th>1</th>\n",
       "      <td>0.2</td>\n",
       "      <td>18.8 - 91.8</td>\n",
       "      <td>39.392657</td>\n",
       "      <td>-9.300244</td>\n",
       "      <td>43.313708</td>\n",
       "      <td>-16.799664</td>\n",
       "      <td>43.313708</td>\n",
       "      <td>-16.799664</td>\n",
       "      <td>43.318718</td>\n",
       "      <td>-11.176472</td>\n",
       "    </tr>\n",
       "    <tr>\n",
       "      <th>2</th>\n",
       "      <td>0.3</td>\n",
       "      <td>91.8 - 198.0</td>\n",
       "      <td>70.498968</td>\n",
       "      <td>1.106430</td>\n",
       "      <td>73.007629</td>\n",
       "      <td>-14.493744</td>\n",
       "      <td>73.007629</td>\n",
       "      <td>-14.493744</td>\n",
       "      <td>77.977497</td>\n",
       "      <td>-1.949534</td>\n",
       "    </tr>\n",
       "    <tr>\n",
       "      <th>3</th>\n",
       "      <td>0.4</td>\n",
       "      <td>198.0 - 339.9</td>\n",
       "      <td>96.019216</td>\n",
       "      <td>21.026575</td>\n",
       "      <td>97.693936</td>\n",
       "      <td>-7.723784</td>\n",
       "      <td>97.693936</td>\n",
       "      <td>-7.723784</td>\n",
       "      <td>110.475175</td>\n",
       "      <td>16.138134</td>\n",
       "    </tr>\n",
       "    <tr>\n",
       "      <th>4</th>\n",
       "      <td>0.5</td>\n",
       "      <td>339.9 - 518.1</td>\n",
       "      <td>135.888005</td>\n",
       "      <td>40.565237</td>\n",
       "      <td>133.493847</td>\n",
       "      <td>-2.333356</td>\n",
       "      <td>133.493847</td>\n",
       "      <td>-2.333356</td>\n",
       "      <td>156.070749</td>\n",
       "      <td>33.597233</td>\n",
       "    </tr>\n",
       "    <tr>\n",
       "      <th>5</th>\n",
       "      <td>0.6</td>\n",
       "      <td>518.1 - 748.9</td>\n",
       "      <td>174.402589</td>\n",
       "      <td>69.991685</td>\n",
       "      <td>164.910003</td>\n",
       "      <td>9.720690</td>\n",
       "      <td>164.910003</td>\n",
       "      <td>9.720690</td>\n",
       "      <td>200.127730</td>\n",
       "      <td>58.138012</td>\n",
       "    </tr>\n",
       "    <tr>\n",
       "      <th>6</th>\n",
       "      <td>0.7</td>\n",
       "      <td>748.9 - 994.1</td>\n",
       "      <td>201.631115</td>\n",
       "      <td>59.189240</td>\n",
       "      <td>175.675709</td>\n",
       "      <td>-0.382085</td>\n",
       "      <td>175.675709</td>\n",
       "      <td>-0.382085</td>\n",
       "      <td>229.574278</td>\n",
       "      <td>64.244249</td>\n",
       "    </tr>\n",
       "    <tr>\n",
       "      <th>7</th>\n",
       "      <td>0.8</td>\n",
       "      <td>994.1 - 1108.8</td>\n",
       "      <td>141.210712</td>\n",
       "      <td>-26.478310</td>\n",
       "      <td>81.287565</td>\n",
       "      <td>-14.562300</td>\n",
       "      <td>81.287565</td>\n",
       "      <td>-14.562300</td>\n",
       "      <td>163.020507</td>\n",
       "      <td>75.195378</td>\n",
       "    </tr>\n",
       "    <tr>\n",
       "      <th>8</th>\n",
       "      <td>0.9</td>\n",
       "      <td>1108.8 - 1154.5</td>\n",
       "      <td>79.268065</td>\n",
       "      <td>-39.587863</td>\n",
       "      <td>22.136928</td>\n",
       "      <td>17.128711</td>\n",
       "      <td>22.136928</td>\n",
       "      <td>17.128711</td>\n",
       "      <td>113.712251</td>\n",
       "      <td>109.125570</td>\n",
       "    </tr>\n",
       "    <tr>\n",
       "      <th>9</th>\n",
       "      <td>1.0</td>\n",
       "      <td>1154.5 - 1192.7</td>\n",
       "      <td>32.622062</td>\n",
       "      <td>-21.511389</td>\n",
       "      <td>49.406168</td>\n",
       "      <td>49.406168</td>\n",
       "      <td>49.406168</td>\n",
       "      <td>49.406168</td>\n",
       "      <td>138.689875</td>\n",
       "      <td>138.689875</td>\n",
       "    </tr>\n",
       "  </tbody>\n",
       "</table>\n",
       "</div>"
      ],
      "text/plain": [
       "   quantile   quantile_range  mean_absolute_error:100  mean_error:100  \\\n",
       "0       0.1       0.0 - 18.8                39.517385      -37.074092   \n",
       "1       0.2      18.8 - 91.8                39.392657       -9.300244   \n",
       "2       0.3     91.8 - 198.0                70.498968        1.106430   \n",
       "3       0.4    198.0 - 339.9                96.019216       21.026575   \n",
       "4       0.5    339.9 - 518.1               135.888005       40.565237   \n",
       "5       0.6    518.1 - 748.9               174.402589       69.991685   \n",
       "6       0.7    748.9 - 994.1               201.631115       59.189240   \n",
       "7       0.8   994.1 - 1108.8               141.210712      -26.478310   \n",
       "8       0.9  1108.8 - 1154.5                79.268065      -39.587863   \n",
       "9       1.0  1154.5 - 1192.7                32.622062      -21.511389   \n",
       "\n",
       "   mean_absolute_error:100_opt  mean_error:100_opt  \\\n",
       "0                    41.075542          -38.711994   \n",
       "1                    43.313708          -16.799664   \n",
       "2                    73.007629          -14.493744   \n",
       "3                    97.693936           -7.723784   \n",
       "4                   133.493847           -2.333356   \n",
       "5                   164.910003            9.720690   \n",
       "6                   175.675709           -0.382085   \n",
       "7                    81.287565          -14.562300   \n",
       "8                    22.136928           17.128711   \n",
       "9                    49.406168           49.406168   \n",
       "\n",
       "   mean_absolute_error:100_opt_new  mean_error:100_opt_new  \\\n",
       "0                        41.075542              -38.711994   \n",
       "1                        43.313708              -16.799664   \n",
       "2                        73.007629              -14.493744   \n",
       "3                        97.693936               -7.723784   \n",
       "4                       133.493847               -2.333356   \n",
       "5                       164.910003                9.720690   \n",
       "6                       175.675709               -0.382085   \n",
       "7                        81.287565              -14.562300   \n",
       "8                        22.136928               17.128711   \n",
       "9                        49.406168               49.406168   \n",
       "\n",
       "   mean_absolute_error:100_new  mean_error:100_new  \n",
       "0                    41.318240          -39.899149  \n",
       "1                    43.318718          -11.176472  \n",
       "2                    77.977497           -1.949534  \n",
       "3                   110.475175           16.138134  \n",
       "4                   156.070749           33.597233  \n",
       "5                   200.127730           58.138012  \n",
       "6                   229.574278           64.244249  \n",
       "7                   163.020507           75.195378  \n",
       "8                   113.712251          109.125570  \n",
       "9                   138.689875          138.689875  "
      ]
     },
     "execution_count": 166,
     "metadata": {},
     "output_type": "execute_result"
    }
   ],
   "source": [
    "# Absolute error\n",
    "print('Mean Absolute error:', np.mean(np.abs(df_latest['Wind_MW'] - df_latest['PowerOutput_smoothed'])))\n",
    "# Mean absolute error in 10% quantiles\n",
    "for q in np.arange(0.1, 1.1, 0.1):\n",
    "    quantile_df = df_latest[(df_latest['Wind_MW'] < df_latest['Wind_MW'].quantile(q)) & (df_latest['Wind_MW'] >= df_latest['Wind_MW'].quantile(q - 0.1))]\n",
    "    quantile_row = {\n",
    "        'quantile': q,\n",
    "        'mean_absolute_error:100_new': np.mean(np.abs(quantile_df['Wind_MW'] - quantile_df['PowerOutput_smoothed'])),\n",
    "        'mean_error:100_new': np.mean(quantile_df['Wind_MW'] - quantile_df['PowerOutput_smoothed'])\n",
    "    }\n",
    "    stats_df.loc[stats_df['quantile'] == q, 'mean_absolute_error:100_new'] = quantile_row['mean_absolute_error:100_new']\n",
    "    stats_df.loc[stats_df['quantile'] == q, 'mean_error:100_new'] = quantile_row['mean_error:100_new']\n",
    "\n",
    "stats_df\n"
   ]
  },
  {
   "cell_type": "code",
   "execution_count": 167,
   "metadata": {},
   "outputs": [
    {
     "data": {
      "text/plain": [
       "1144.9199999999998"
      ]
     },
     "execution_count": 167,
     "metadata": {},
     "output_type": "execute_result"
    }
   ],
   "source": [
    "df_latest['PowerOutput_smoothed'].max()"
   ]
  },
  {
   "cell_type": "markdown",
   "metadata": {},
   "source": [
    "## => It got worse????"
   ]
  },
  {
   "cell_type": "markdown",
   "metadata": {},
   "source": [
    "# ii. Modeling the residium "
   ]
  },
  {
   "cell_type": "markdown",
   "metadata": {},
   "source": [
    "## 1. XGBoost"
   ]
  },
  {
   "cell_type": "code",
   "execution_count": 169,
   "metadata": {},
   "outputs": [],
   "source": [
    "import xgboost as xgb\n",
    "import pandas as pd\n",
    "import numpy as np\n",
    "from sklearn.model_selection import train_test_split, GridSearchCV\n",
    "from sklearn.metrics import mean_absolute_error, mean_squared_error\n",
    "\n",
    "# Calculate the residuals (difference between actual and forecast)\n",
    "df_latest['residual'] = df_latest['Wind_MW'] - df_latest['PowerOutput_opt']\n",
    "\n",
    "# add three lag features for WindSpeed:100_dwd\n",
    "df_latest['WindSpeed:100_dwd_lag1'] = df_latest['WindSpeed:100_dwd'].shift(1)\n",
    "df_latest['WindSpeed:100_dwd_lag2'] = df_latest['WindSpeed:100_dwd'].shift(2)\n",
    "df_latest['WindSpeed:100_dwd_lag3'] = df_latest['WindSpeed:100_dwd'].shift(3)\n",
    "\n",
    "df_latest = df_latest.dropna()\n",
    "\n",
    "# Define the features (X) and the target (y)\n",
    "X = df_latest[['WindSpeed:100_dwd', 'Temperature_avg', 'RelativeHumidity_avg', 'AirDensity', 'UsableWindPower_opt', 'WindSpeed:100_dwd_lag1', 'WindSpeed:100_dwd_lag2', 'WindSpeed:100_dwd_lag3']]  # Add any other relevant features\n",
    "y = df_latest['residual']\n",
    "\n",
    "# Split the data into training and test sets\n",
    "X_train, X_test, y_train, y_test = train_test_split(X, y, test_size=0.2, random_state=42)\n"
   ]
  },
  {
   "cell_type": "code",
   "execution_count": 73,
   "metadata": {},
   "outputs": [
    {
     "name": "stdout",
     "output_type": "stream",
     "text": [
      "Fitting 3 folds for each of 384 candidates, totalling 1152 fits\n",
      "[CV] END colsample_bytree=0.7, gamma=0.1, learning_rate=0.01, max_depth=5, n_estimators=100, reg_alpha=0, reg_lambda=1, subsample=0.7; total time=   0.3s\n",
      "[CV] END colsample_bytree=0.7, gamma=0.1, learning_rate=0.01, max_depth=5, n_estimators=100, reg_alpha=0, reg_lambda=1, subsample=0.7; total time=   0.3s\n",
      "[CV] END colsample_bytree=0.7, gamma=0.1, learning_rate=0.01, max_depth=5, n_estimators=100, reg_alpha=0, reg_lambda=1, subsample=1.0; total time=   0.3s\n",
      "[CV] END colsample_bytree=0.7, gamma=0.1, learning_rate=0.01, max_depth=5, n_estimators=100, reg_alpha=0, reg_lambda=1, subsample=1.0; total time=   0.3s\n",
      "[CV] END colsample_bytree=0.7, gamma=0.1, learning_rate=0.01, max_depth=5, n_estimators=100, reg_alpha=0, reg_lambda=1, subsample=0.7; total time=   0.3s\n",
      "[CV] END colsample_bytree=0.7, gamma=0.1, learning_rate=0.01, max_depth=5, n_estimators=100, reg_alpha=0, reg_lambda=1, subsample=1.0; total time=   0.3s\n",
      "[CV] END colsample_bytree=0.7, gamma=0.1, learning_rate=0.01, max_depth=5, n_estimators=100, reg_alpha=0, reg_lambda=10, subsample=0.7; total time=   0.3s\n",
      "[CV] END colsample_bytree=0.7, gamma=0.1, learning_rate=0.01, max_depth=5, n_estimators=100, reg_alpha=0, reg_lambda=10, subsample=0.7; total time=   0.4s\n",
      "[CV] END colsample_bytree=0.7, gamma=0.1, learning_rate=0.01, max_depth=5, n_estimators=100, reg_alpha=0, reg_lambda=10, subsample=1.0; total time=   0.3s\n",
      "[CV] END colsample_bytree=0.7, gamma=0.1, learning_rate=0.01, max_depth=5, n_estimators=100, reg_alpha=0, reg_lambda=10, subsample=1.0; total time=   0.3s\n",
      "[CV] END colsample_bytree=0.7, gamma=0.1, learning_rate=0.01, max_depth=5, n_estimators=100, reg_alpha=0, reg_lambda=10, subsample=1.0; total time=   0.3s\n",
      "[CV] END colsample_bytree=0.7, gamma=0.1, learning_rate=0.01, max_depth=5, n_estimators=100, reg_alpha=0, reg_lambda=10, subsample=0.7; total time=   0.4s\n",
      "[CV] END colsample_bytree=0.7, gamma=0.1, learning_rate=0.01, max_depth=5, n_estimators=100, reg_alpha=1, reg_lambda=1, subsample=0.7; total time=   0.3s\n",
      "[CV] END colsample_bytree=0.7, gamma=0.1, learning_rate=0.01, max_depth=5, n_estimators=100, reg_alpha=1, reg_lambda=1, subsample=0.7; total time=   0.4s\n",
      "[CV] END colsample_bytree=0.7, gamma=0.1, learning_rate=0.01, max_depth=5, n_estimators=100, reg_alpha=1, reg_lambda=1, subsample=0.7; total time=   0.3s\n",
      "[CV] END colsample_bytree=0.7, gamma=0.1, learning_rate=0.01, max_depth=5, n_estimators=100, reg_alpha=1, reg_lambda=1, subsample=1.0; total time=   0.3s\n",
      "[CV] END colsample_bytree=0.7, gamma=0.1, learning_rate=0.01, max_depth=5, n_estimators=100, reg_alpha=1, reg_lambda=1, subsample=1.0; total time=   0.3s\n",
      "[CV] END colsample_bytree=0.7, gamma=0.1, learning_rate=0.01, max_depth=5, n_estimators=100, reg_alpha=1, reg_lambda=1, subsample=1.0; total time=   0.3s\n",
      "[CV] END colsample_bytree=0.7, gamma=0.1, learning_rate=0.01, max_depth=5, n_estimators=100, reg_alpha=1, reg_lambda=10, subsample=0.7; total time=   0.3s\n",
      "[CV] END colsample_bytree=0.7, gamma=0.1, learning_rate=0.01, max_depth=5, n_estimators=100, reg_alpha=1, reg_lambda=10, subsample=0.7; total time=   0.3s\n",
      "[CV] END colsample_bytree=0.7, gamma=0.1, learning_rate=0.01, max_depth=5, n_estimators=100, reg_alpha=1, reg_lambda=10, subsample=1.0; total time=   0.3s\n",
      "[CV] END colsample_bytree=0.7, gamma=0.1, learning_rate=0.01, max_depth=5, n_estimators=100, reg_alpha=1, reg_lambda=10, subsample=0.7; total time=   0.3s\n",
      "[CV] END colsample_bytree=0.7, gamma=0.1, learning_rate=0.01, max_depth=5, n_estimators=100, reg_alpha=1, reg_lambda=10, subsample=1.0; total time=   0.3s\n",
      "[CV] END colsample_bytree=0.7, gamma=0.1, learning_rate=0.01, max_depth=5, n_estimators=100, reg_alpha=1, reg_lambda=10, subsample=1.0; total time=   0.3s\n",
      "[CV] END colsample_bytree=0.7, gamma=0.1, learning_rate=0.01, max_depth=5, n_estimators=500, reg_alpha=0, reg_lambda=1, subsample=1.0; total time=   1.1s\n",
      "[CV] END colsample_bytree=0.7, gamma=0.1, learning_rate=0.01, max_depth=5, n_estimators=500, reg_alpha=0, reg_lambda=1, subsample=0.7; total time=   1.2s\n",
      "[CV] END colsample_bytree=0.7, gamma=0.1, learning_rate=0.01, max_depth=5, n_estimators=500, reg_alpha=0, reg_lambda=1, subsample=1.0; total time=   1.2s\n",
      "[CV] END colsample_bytree=0.7, gamma=0.1, learning_rate=0.01, max_depth=5, n_estimators=500, reg_alpha=0, reg_lambda=1, subsample=0.7; total time=   1.3s\n",
      "[CV] END colsample_bytree=0.7, gamma=0.1, learning_rate=0.01, max_depth=5, n_estimators=500, reg_alpha=0, reg_lambda=1, subsample=0.7; total time=   1.3s\n",
      "[CV] END colsample_bytree=0.7, gamma=0.1, learning_rate=0.01, max_depth=5, n_estimators=500, reg_alpha=0, reg_lambda=1, subsample=1.0; total time=   1.2s\n",
      "[CV] END colsample_bytree=0.7, gamma=0.1, learning_rate=0.01, max_depth=5, n_estimators=500, reg_alpha=0, reg_lambda=10, subsample=0.7; total time=   1.2s\n",
      "[CV] END colsample_bytree=0.7, gamma=0.1, learning_rate=0.01, max_depth=5, n_estimators=500, reg_alpha=0, reg_lambda=10, subsample=0.7; total time=   1.4s\n",
      "[CV] END colsample_bytree=0.7, gamma=0.1, learning_rate=0.01, max_depth=5, n_estimators=500, reg_alpha=0, reg_lambda=10, subsample=1.0; total time=   1.1s\n",
      "[CV] END colsample_bytree=0.7, gamma=0.1, learning_rate=0.01, max_depth=5, n_estimators=500, reg_alpha=0, reg_lambda=10, subsample=1.0; total time=   1.1s\n",
      "[CV] END colsample_bytree=0.7, gamma=0.1, learning_rate=0.01, max_depth=5, n_estimators=500, reg_alpha=0, reg_lambda=10, subsample=1.0; total time=   1.2s\n",
      "[CV] END colsample_bytree=0.7, gamma=0.1, learning_rate=0.01, max_depth=5, n_estimators=500, reg_alpha=0, reg_lambda=10, subsample=0.7; total time=   1.3s\n",
      "[CV] END colsample_bytree=0.7, gamma=0.1, learning_rate=0.01, max_depth=5, n_estimators=500, reg_alpha=1, reg_lambda=1, subsample=1.0; total time=   1.2s\n",
      "[CV] END colsample_bytree=0.7, gamma=0.1, learning_rate=0.01, max_depth=5, n_estimators=500, reg_alpha=1, reg_lambda=1, subsample=0.7; total time=   1.4s\n",
      "[CV] END colsample_bytree=0.7, gamma=0.1, learning_rate=0.01, max_depth=5, n_estimators=500, reg_alpha=1, reg_lambda=1, subsample=0.7; total time=   1.4s\n",
      "[CV] END colsample_bytree=0.7, gamma=0.1, learning_rate=0.01, max_depth=5, n_estimators=500, reg_alpha=1, reg_lambda=1, subsample=0.7; total time=   1.4s\n",
      "[CV] END colsample_bytree=0.7, gamma=0.1, learning_rate=0.01, max_depth=5, n_estimators=500, reg_alpha=1, reg_lambda=1, subsample=1.0; total time=   1.3s\n",
      "[CV] END colsample_bytree=0.7, gamma=0.1, learning_rate=0.01, max_depth=5, n_estimators=500, reg_alpha=1, reg_lambda=1, subsample=1.0; total time=   1.2s\n",
      "[CV] END colsample_bytree=0.7, gamma=0.1, learning_rate=0.01, max_depth=5, n_estimators=500, reg_alpha=1, reg_lambda=10, subsample=0.7; total time=   1.4s\n",
      "[CV] END colsample_bytree=0.7, gamma=0.1, learning_rate=0.01, max_depth=5, n_estimators=500, reg_alpha=1, reg_lambda=10, subsample=1.0; total time=   1.2s\n",
      "[CV] END colsample_bytree=0.7, gamma=0.1, learning_rate=0.01, max_depth=5, n_estimators=500, reg_alpha=1, reg_lambda=10, subsample=0.7; total time=   1.4s\n",
      "[CV] END colsample_bytree=0.7, gamma=0.1, learning_rate=0.01, max_depth=5, n_estimators=500, reg_alpha=1, reg_lambda=10, subsample=1.0; total time=   1.3s\n",
      "[CV] END colsample_bytree=0.7, gamma=0.1, learning_rate=0.01, max_depth=5, n_estimators=500, reg_alpha=1, reg_lambda=10, subsample=1.0; total time=   1.2s\n",
      "[CV] END colsample_bytree=0.7, gamma=0.1, learning_rate=0.01, max_depth=5, n_estimators=500, reg_alpha=1, reg_lambda=10, subsample=0.7; total time=   1.4s\n",
      "[CV] END colsample_bytree=0.7, gamma=0.1, learning_rate=0.01, max_depth=5, n_estimators=1000, reg_alpha=0, reg_lambda=1, subsample=0.7; total time=   2.5s\n",
      "[CV] END colsample_bytree=0.7, gamma=0.1, learning_rate=0.01, max_depth=5, n_estimators=1000, reg_alpha=0, reg_lambda=1, subsample=1.0; total time=   2.2s\n",
      "[CV] END colsample_bytree=0.7, gamma=0.1, learning_rate=0.01, max_depth=5, n_estimators=1000, reg_alpha=0, reg_lambda=1, subsample=0.7; total time=   2.6s\n",
      "[CV] END colsample_bytree=0.7, gamma=0.1, learning_rate=0.01, max_depth=5, n_estimators=1000, reg_alpha=0, reg_lambda=1, subsample=0.7; total time=   2.5s\n",
      "[CV] END colsample_bytree=0.7, gamma=0.1, learning_rate=0.01, max_depth=5, n_estimators=1000, reg_alpha=0, reg_lambda=1, subsample=1.0; total time=   2.4s\n",
      "[CV] END colsample_bytree=0.7, gamma=0.1, learning_rate=0.01, max_depth=5, n_estimators=1000, reg_alpha=0, reg_lambda=1, subsample=1.0; total time=   2.3s\n",
      "[CV] END colsample_bytree=0.7, gamma=0.1, learning_rate=0.01, max_depth=5, n_estimators=1000, reg_alpha=0, reg_lambda=10, subsample=0.7; total time=   2.6s\n",
      "[CV] END colsample_bytree=0.7, gamma=0.1, learning_rate=0.01, max_depth=5, n_estimators=1000, reg_alpha=0, reg_lambda=10, subsample=0.7; total time=   2.7s\n",
      "[CV] END colsample_bytree=0.7, gamma=0.1, learning_rate=0.01, max_depth=5, n_estimators=1000, reg_alpha=0, reg_lambda=10, subsample=1.0; total time=   2.0s\n",
      "[CV] END colsample_bytree=0.7, gamma=0.1, learning_rate=0.01, max_depth=5, n_estimators=1000, reg_alpha=0, reg_lambda=10, subsample=1.0; total time=   2.2s\n",
      "[CV] END colsample_bytree=0.7, gamma=0.1, learning_rate=0.01, max_depth=5, n_estimators=1000, reg_alpha=0, reg_lambda=10, subsample=1.0; total time=   2.2s\n",
      "[CV] END colsample_bytree=0.7, gamma=0.1, learning_rate=0.01, max_depth=5, n_estimators=1000, reg_alpha=0, reg_lambda=10, subsample=0.7; total time=   2.5s\n",
      "[CV] END colsample_bytree=0.7, gamma=0.1, learning_rate=0.01, max_depth=5, n_estimators=1000, reg_alpha=1, reg_lambda=1, subsample=0.7; total time=   2.4s\n",
      "[CV] END colsample_bytree=0.7, gamma=0.1, learning_rate=0.01, max_depth=5, n_estimators=1000, reg_alpha=1, reg_lambda=1, subsample=1.0; total time=   2.0s\n",
      "[CV] END colsample_bytree=0.7, gamma=0.1, learning_rate=0.01, max_depth=5, n_estimators=1000, reg_alpha=1, reg_lambda=1, subsample=0.7; total time=   2.4s\n",
      "[CV] END colsample_bytree=0.7, gamma=0.1, learning_rate=0.01, max_depth=5, n_estimators=1000, reg_alpha=1, reg_lambda=1, subsample=0.7; total time=   2.6s\n",
      "[CV] END colsample_bytree=0.7, gamma=0.1, learning_rate=0.01, max_depth=5, n_estimators=1000, reg_alpha=1, reg_lambda=1, subsample=1.0; total time=   2.1s\n",
      "[CV] END colsample_bytree=0.7, gamma=0.1, learning_rate=0.01, max_depth=5, n_estimators=1000, reg_alpha=1, reg_lambda=1, subsample=1.0; total time=   2.1s\n",
      "[CV] END colsample_bytree=0.7, gamma=0.1, learning_rate=0.01, max_depth=5, n_estimators=1000, reg_alpha=1, reg_lambda=10, subsample=0.7; total time=   2.3s\n",
      "[CV] END colsample_bytree=0.7, gamma=0.1, learning_rate=0.01, max_depth=7, n_estimators=100, reg_alpha=0, reg_lambda=1, subsample=0.7; total time=   0.5s\n",
      "[CV] END colsample_bytree=0.7, gamma=0.1, learning_rate=0.01, max_depth=5, n_estimators=1000, reg_alpha=1, reg_lambda=10, subsample=1.0; total time=   2.1s\n",
      "[CV] END colsample_bytree=0.7, gamma=0.1, learning_rate=0.01, max_depth=5, n_estimators=1000, reg_alpha=1, reg_lambda=10, subsample=1.0; total time=   2.2s\n",
      "[CV] END colsample_bytree=0.7, gamma=0.1, learning_rate=0.01, max_depth=7, n_estimators=100, reg_alpha=0, reg_lambda=1, subsample=0.7; total time=   0.5s\n",
      "[CV] END colsample_bytree=0.7, gamma=0.1, learning_rate=0.01, max_depth=5, n_estimators=1000, reg_alpha=1, reg_lambda=10, subsample=0.7; total time=   2.4s\n",
      "[CV] END colsample_bytree=0.7, gamma=0.1, learning_rate=0.01, max_depth=5, n_estimators=1000, reg_alpha=1, reg_lambda=10, subsample=1.0; total time=   2.0s\n",
      "[CV] END colsample_bytree=0.7, gamma=0.1, learning_rate=0.01, max_depth=5, n_estimators=1000, reg_alpha=1, reg_lambda=10, subsample=0.7; total time=   2.5s\n",
      "[CV] END colsample_bytree=0.7, gamma=0.1, learning_rate=0.01, max_depth=7, n_estimators=100, reg_alpha=0, reg_lambda=1, subsample=0.7; total time=   0.5s\n",
      "[CV] END colsample_bytree=0.7, gamma=0.1, learning_rate=0.01, max_depth=7, n_estimators=100, reg_alpha=0, reg_lambda=1, subsample=1.0; total time=   0.5s\n",
      "[CV] END colsample_bytree=0.7, gamma=0.1, learning_rate=0.01, max_depth=7, n_estimators=100, reg_alpha=0, reg_lambda=1, subsample=1.0; total time=   0.6s\n",
      "[CV] END colsample_bytree=0.7, gamma=0.1, learning_rate=0.01, max_depth=7, n_estimators=100, reg_alpha=0, reg_lambda=1, subsample=1.0; total time=   0.5s\n",
      "[CV] END colsample_bytree=0.7, gamma=0.1, learning_rate=0.01, max_depth=7, n_estimators=100, reg_alpha=0, reg_lambda=10, subsample=0.7; total time=   0.5s\n",
      "[CV] END colsample_bytree=0.7, gamma=0.1, learning_rate=0.01, max_depth=7, n_estimators=100, reg_alpha=0, reg_lambda=10, subsample=0.7; total time=   0.6s\n",
      "[CV] END colsample_bytree=0.7, gamma=0.1, learning_rate=0.01, max_depth=7, n_estimators=100, reg_alpha=0, reg_lambda=10, subsample=0.7; total time=   0.5s\n",
      "[CV] END colsample_bytree=0.7, gamma=0.1, learning_rate=0.01, max_depth=7, n_estimators=100, reg_alpha=0, reg_lambda=10, subsample=1.0; total time=   0.5s\n",
      "[CV] END colsample_bytree=0.7, gamma=0.1, learning_rate=0.01, max_depth=7, n_estimators=100, reg_alpha=0, reg_lambda=10, subsample=1.0; total time=   0.5s\n",
      "[CV] END colsample_bytree=0.7, gamma=0.1, learning_rate=0.01, max_depth=7, n_estimators=100, reg_alpha=0, reg_lambda=10, subsample=1.0; total time=   0.7s\n",
      "[CV] END colsample_bytree=0.7, gamma=0.1, learning_rate=0.01, max_depth=7, n_estimators=100, reg_alpha=1, reg_lambda=1, subsample=0.7; total time=   0.6s\n",
      "[CV] END colsample_bytree=0.7, gamma=0.1, learning_rate=0.01, max_depth=7, n_estimators=100, reg_alpha=1, reg_lambda=1, subsample=0.7; total time=   0.7s\n",
      "[CV] END colsample_bytree=0.7, gamma=0.1, learning_rate=0.01, max_depth=7, n_estimators=100, reg_alpha=1, reg_lambda=1, subsample=1.0; total time=   0.6s\n",
      "[CV] END colsample_bytree=0.7, gamma=0.1, learning_rate=0.01, max_depth=7, n_estimators=100, reg_alpha=1, reg_lambda=1, subsample=0.7; total time=   0.7s\n",
      "[CV] END colsample_bytree=0.7, gamma=0.1, learning_rate=0.01, max_depth=7, n_estimators=100, reg_alpha=1, reg_lambda=1, subsample=1.0; total time=   0.6s\n",
      "[CV] END colsample_bytree=0.7, gamma=0.1, learning_rate=0.01, max_depth=7, n_estimators=100, reg_alpha=1, reg_lambda=1, subsample=1.0; total time=   0.7s\n",
      "[CV] END colsample_bytree=0.7, gamma=0.1, learning_rate=0.01, max_depth=7, n_estimators=100, reg_alpha=1, reg_lambda=10, subsample=0.7; total time=   0.6s\n",
      "[CV] END colsample_bytree=0.7, gamma=0.1, learning_rate=0.01, max_depth=7, n_estimators=100, reg_alpha=1, reg_lambda=10, subsample=1.0; total time=   0.6s\n",
      "[CV] END colsample_bytree=0.7, gamma=0.1, learning_rate=0.01, max_depth=7, n_estimators=100, reg_alpha=1, reg_lambda=10, subsample=0.7; total time=   0.6s\n",
      "[CV] END colsample_bytree=0.7, gamma=0.1, learning_rate=0.01, max_depth=7, n_estimators=100, reg_alpha=1, reg_lambda=10, subsample=0.7; total time=   0.7s\n",
      "[CV] END colsample_bytree=0.7, gamma=0.1, learning_rate=0.01, max_depth=7, n_estimators=100, reg_alpha=1, reg_lambda=10, subsample=1.0; total time=   0.6s\n",
      "[CV] END colsample_bytree=0.7, gamma=0.1, learning_rate=0.01, max_depth=7, n_estimators=100, reg_alpha=1, reg_lambda=10, subsample=1.0; total time=   0.6s\n",
      "[CV] END colsample_bytree=0.7, gamma=0.1, learning_rate=0.01, max_depth=7, n_estimators=500, reg_alpha=0, reg_lambda=1, subsample=0.7; total time=   2.6s\n",
      "[CV] END colsample_bytree=0.7, gamma=0.1, learning_rate=0.01, max_depth=7, n_estimators=500, reg_alpha=0, reg_lambda=1, subsample=0.7; total time=   2.5s\n",
      "[CV] END colsample_bytree=0.7, gamma=0.1, learning_rate=0.01, max_depth=7, n_estimators=500, reg_alpha=0, reg_lambda=1, subsample=1.0; total time=   2.4s\n",
      "[CV] END colsample_bytree=0.7, gamma=0.1, learning_rate=0.01, max_depth=7, n_estimators=500, reg_alpha=0, reg_lambda=1, subsample=0.7; total time=   2.7s\n",
      "[CV] END colsample_bytree=0.7, gamma=0.1, learning_rate=0.01, max_depth=7, n_estimators=500, reg_alpha=0, reg_lambda=1, subsample=1.0; total time=   2.4s\n",
      "[CV] END colsample_bytree=0.7, gamma=0.1, learning_rate=0.01, max_depth=7, n_estimators=500, reg_alpha=0, reg_lambda=1, subsample=1.0; total time=   2.5s\n",
      "[CV] END colsample_bytree=0.7, gamma=0.1, learning_rate=0.01, max_depth=7, n_estimators=500, reg_alpha=0, reg_lambda=10, subsample=0.7; total time=   2.6s\n",
      "[CV] END colsample_bytree=0.7, gamma=0.1, learning_rate=0.01, max_depth=7, n_estimators=500, reg_alpha=0, reg_lambda=10, subsample=0.7; total time=   2.6s\n",
      "[CV] END colsample_bytree=0.7, gamma=0.1, learning_rate=0.01, max_depth=7, n_estimators=500, reg_alpha=0, reg_lambda=10, subsample=0.7; total time=   2.4s\n",
      "[CV] END colsample_bytree=0.7, gamma=0.1, learning_rate=0.01, max_depth=7, n_estimators=500, reg_alpha=0, reg_lambda=10, subsample=1.0; total time=   2.3s\n",
      "[CV] END colsample_bytree=0.7, gamma=0.1, learning_rate=0.01, max_depth=7, n_estimators=500, reg_alpha=0, reg_lambda=10, subsample=1.0; total time=   2.3s\n",
      "[CV] END colsample_bytree=0.7, gamma=0.1, learning_rate=0.01, max_depth=7, n_estimators=500, reg_alpha=0, reg_lambda=10, subsample=1.0; total time=   2.5s\n",
      "[CV] END colsample_bytree=0.7, gamma=0.1, learning_rate=0.01, max_depth=7, n_estimators=500, reg_alpha=1, reg_lambda=1, subsample=0.7; total time=   2.4s\n",
      "[CV] END colsample_bytree=0.7, gamma=0.1, learning_rate=0.01, max_depth=7, n_estimators=500, reg_alpha=1, reg_lambda=1, subsample=0.7; total time=   2.4s\n",
      "[CV] END colsample_bytree=0.7, gamma=0.1, learning_rate=0.01, max_depth=7, n_estimators=500, reg_alpha=1, reg_lambda=1, subsample=1.0; total time=   2.4s\n",
      "[CV] END colsample_bytree=0.7, gamma=0.1, learning_rate=0.01, max_depth=7, n_estimators=500, reg_alpha=1, reg_lambda=1, subsample=0.7; total time=   2.5s\n",
      "[CV] END colsample_bytree=0.7, gamma=0.1, learning_rate=0.01, max_depth=7, n_estimators=500, reg_alpha=1, reg_lambda=1, subsample=1.0; total time=   2.5s\n",
      "[CV] END colsample_bytree=0.7, gamma=0.1, learning_rate=0.01, max_depth=7, n_estimators=500, reg_alpha=1, reg_lambda=1, subsample=1.0; total time=   2.6s\n",
      "[CV] END colsample_bytree=0.7, gamma=0.1, learning_rate=0.01, max_depth=7, n_estimators=500, reg_alpha=1, reg_lambda=10, subsample=1.0; total time=   2.4s\n",
      "[CV] END colsample_bytree=0.7, gamma=0.1, learning_rate=0.01, max_depth=7, n_estimators=500, reg_alpha=1, reg_lambda=10, subsample=0.7; total time=   2.7s\n",
      "[CV] END colsample_bytree=0.7, gamma=0.1, learning_rate=0.01, max_depth=7, n_estimators=500, reg_alpha=1, reg_lambda=10, subsample=0.7; total time=   2.7s\n",
      "[CV] END colsample_bytree=0.7, gamma=0.1, learning_rate=0.01, max_depth=7, n_estimators=500, reg_alpha=1, reg_lambda=10, subsample=1.0; total time=   2.4s\n",
      "[CV] END colsample_bytree=0.7, gamma=0.1, learning_rate=0.01, max_depth=7, n_estimators=500, reg_alpha=1, reg_lambda=10, subsample=0.7; total time=   2.8s\n",
      "[CV] END colsample_bytree=0.7, gamma=0.1, learning_rate=0.01, max_depth=7, n_estimators=500, reg_alpha=1, reg_lambda=10, subsample=1.0; total time=   2.5s\n",
      "[CV] END colsample_bytree=0.7, gamma=0.1, learning_rate=0.01, max_depth=7, n_estimators=1000, reg_alpha=0, reg_lambda=1, subsample=1.0; total time=   5.5s\n",
      "[CV] END colsample_bytree=0.7, gamma=0.1, learning_rate=0.01, max_depth=7, n_estimators=1000, reg_alpha=0, reg_lambda=1, subsample=1.0; total time=   5.5s\n",
      "[CV] END colsample_bytree=0.7, gamma=0.1, learning_rate=0.01, max_depth=7, n_estimators=1000, reg_alpha=0, reg_lambda=1, subsample=1.0; total time=   5.7s\n",
      "[CV] END colsample_bytree=0.7, gamma=0.1, learning_rate=0.01, max_depth=7, n_estimators=1000, reg_alpha=0, reg_lambda=1, subsample=0.7; total time=   6.0s\n",
      "[CV] END colsample_bytree=0.7, gamma=0.1, learning_rate=0.01, max_depth=7, n_estimators=1000, reg_alpha=0, reg_lambda=1, subsample=0.7; total time=   6.0s\n",
      "[CV] END colsample_bytree=0.7, gamma=0.1, learning_rate=0.01, max_depth=7, n_estimators=1000, reg_alpha=0, reg_lambda=1, subsample=0.7; total time=   6.0s\n",
      "[CV] END colsample_bytree=0.7, gamma=0.1, learning_rate=0.01, max_depth=7, n_estimators=1000, reg_alpha=0, reg_lambda=10, subsample=0.7; total time=   5.9s\n",
      "[CV] END colsample_bytree=0.7, gamma=0.1, learning_rate=0.01, max_depth=7, n_estimators=1000, reg_alpha=0, reg_lambda=10, subsample=0.7; total time=   6.0s\n",
      "[CV] END colsample_bytree=0.7, gamma=0.1, learning_rate=0.01, max_depth=7, n_estimators=1000, reg_alpha=0, reg_lambda=10, subsample=1.0; total time=   4.5s\n",
      "[CV] END colsample_bytree=0.7, gamma=0.1, learning_rate=0.01, max_depth=7, n_estimators=1000, reg_alpha=0, reg_lambda=10, subsample=1.0; total time=   4.6s\n",
      "[CV] END colsample_bytree=0.7, gamma=0.1, learning_rate=0.01, max_depth=7, n_estimators=1000, reg_alpha=0, reg_lambda=10, subsample=1.0; total time=   4.7s\n",
      "[CV] END colsample_bytree=0.7, gamma=0.1, learning_rate=0.01, max_depth=7, n_estimators=1000, reg_alpha=0, reg_lambda=10, subsample=0.7; total time=   5.0s\n",
      "[CV] END colsample_bytree=0.7, gamma=0.1, learning_rate=0.01, max_depth=7, n_estimators=1000, reg_alpha=1, reg_lambda=1, subsample=0.7; total time=   5.1s\n",
      "[CV] END colsample_bytree=0.7, gamma=0.1, learning_rate=0.01, max_depth=7, n_estimators=1000, reg_alpha=1, reg_lambda=1, subsample=0.7; total time=   5.1s\n",
      "[CV] END colsample_bytree=0.7, gamma=0.1, learning_rate=0.01, max_depth=7, n_estimators=1000, reg_alpha=1, reg_lambda=1, subsample=1.0; total time=   4.7s\n",
      "[CV] END colsample_bytree=0.7, gamma=0.1, learning_rate=0.01, max_depth=7, n_estimators=1000, reg_alpha=1, reg_lambda=1, subsample=0.7; total time=   5.5s\n",
      "[CV] END colsample_bytree=0.7, gamma=0.1, learning_rate=0.01, max_depth=7, n_estimators=1000, reg_alpha=1, reg_lambda=1, subsample=1.0; total time=   5.5s\n",
      "[CV] END colsample_bytree=0.7, gamma=0.1, learning_rate=0.01, max_depth=7, n_estimators=1000, reg_alpha=1, reg_lambda=1, subsample=1.0; total time=   5.7s\n",
      "[CV] END colsample_bytree=0.7, gamma=0.1, learning_rate=0.1, max_depth=5, n_estimators=100, reg_alpha=0, reg_lambda=1, subsample=0.7; total time=   0.3s\n",
      "[CV] END colsample_bytree=0.7, gamma=0.1, learning_rate=0.01, max_depth=7, n_estimators=1000, reg_alpha=1, reg_lambda=10, subsample=0.7; total time=   5.9s\n",
      "[CV] END colsample_bytree=0.7, gamma=0.1, learning_rate=0.1, max_depth=5, n_estimators=100, reg_alpha=0, reg_lambda=1, subsample=0.7; total time=   0.3s\n",
      "[CV] END colsample_bytree=0.7, gamma=0.1, learning_rate=0.01, max_depth=7, n_estimators=1000, reg_alpha=1, reg_lambda=10, subsample=1.0; total time=   5.5s\n",
      "[CV] END colsample_bytree=0.7, gamma=0.1, learning_rate=0.1, max_depth=5, n_estimators=100, reg_alpha=0, reg_lambda=1, subsample=0.7; total time=   0.3s\n",
      "[CV] END colsample_bytree=0.7, gamma=0.1, learning_rate=0.1, max_depth=5, n_estimators=100, reg_alpha=0, reg_lambda=1, subsample=1.0; total time=   0.3s\n",
      "[CV] END colsample_bytree=0.7, gamma=0.1, learning_rate=0.01, max_depth=7, n_estimators=1000, reg_alpha=1, reg_lambda=10, subsample=0.7; total time=   6.0s\n",
      "[CV] END colsample_bytree=0.7, gamma=0.1, learning_rate=0.1, max_depth=5, n_estimators=100, reg_alpha=0, reg_lambda=1, subsample=1.0; total time=   0.3s\n",
      "[CV] END colsample_bytree=0.7, gamma=0.1, learning_rate=0.01, max_depth=7, n_estimators=1000, reg_alpha=1, reg_lambda=10, subsample=1.0; total time=   5.7s\n",
      "[CV] END colsample_bytree=0.7, gamma=0.1, learning_rate=0.01, max_depth=7, n_estimators=1000, reg_alpha=1, reg_lambda=10, subsample=0.7; total time=   5.8s\n",
      "[CV] END colsample_bytree=0.7, gamma=0.1, learning_rate=0.1, max_depth=5, n_estimators=100, reg_alpha=0, reg_lambda=1, subsample=1.0; total time=   0.3s\n",
      "[CV] END colsample_bytree=0.7, gamma=0.1, learning_rate=0.1, max_depth=5, n_estimators=100, reg_alpha=0, reg_lambda=10, subsample=0.7; total time=   0.3s\n",
      "[CV] END colsample_bytree=0.7, gamma=0.1, learning_rate=0.01, max_depth=7, n_estimators=1000, reg_alpha=1, reg_lambda=10, subsample=1.0; total time=   5.4s\n",
      "[CV] END colsample_bytree=0.7, gamma=0.1, learning_rate=0.1, max_depth=5, n_estimators=100, reg_alpha=0, reg_lambda=10, subsample=0.7; total time=   0.3s\n",
      "[CV] END colsample_bytree=0.7, gamma=0.1, learning_rate=0.1, max_depth=5, n_estimators=100, reg_alpha=0, reg_lambda=10, subsample=1.0; total time=   0.3s\n",
      "[CV] END colsample_bytree=0.7, gamma=0.1, learning_rate=0.1, max_depth=5, n_estimators=100, reg_alpha=0, reg_lambda=10, subsample=0.7; total time=   0.3s\n",
      "[CV] END colsample_bytree=0.7, gamma=0.1, learning_rate=0.1, max_depth=5, n_estimators=100, reg_alpha=0, reg_lambda=10, subsample=1.0; total time=   0.3s\n",
      "[CV] END colsample_bytree=0.7, gamma=0.1, learning_rate=0.1, max_depth=5, n_estimators=100, reg_alpha=0, reg_lambda=10, subsample=1.0; total time=   0.4s\n",
      "[CV] END colsample_bytree=0.7, gamma=0.1, learning_rate=0.1, max_depth=5, n_estimators=100, reg_alpha=1, reg_lambda=1, subsample=0.7; total time=   0.5s\n",
      "[CV] END colsample_bytree=0.7, gamma=0.1, learning_rate=0.1, max_depth=5, n_estimators=100, reg_alpha=1, reg_lambda=1, subsample=1.0; total time=   0.5s\n",
      "[CV] END colsample_bytree=0.7, gamma=0.1, learning_rate=0.1, max_depth=5, n_estimators=100, reg_alpha=1, reg_lambda=1, subsample=0.7; total time=   0.5s\n",
      "[CV] END colsample_bytree=0.7, gamma=0.1, learning_rate=0.1, max_depth=5, n_estimators=100, reg_alpha=1, reg_lambda=1, subsample=0.7; total time=   0.6s\n",
      "[CV] END colsample_bytree=0.7, gamma=0.1, learning_rate=0.1, max_depth=5, n_estimators=100, reg_alpha=1, reg_lambda=1, subsample=1.0; total time=   0.5s\n",
      "[CV] END colsample_bytree=0.7, gamma=0.1, learning_rate=0.1, max_depth=5, n_estimators=100, reg_alpha=1, reg_lambda=1, subsample=1.0; total time=   0.5s\n",
      "[CV] END colsample_bytree=0.7, gamma=0.1, learning_rate=0.1, max_depth=5, n_estimators=100, reg_alpha=1, reg_lambda=10, subsample=0.7; total time=   0.3s\n",
      "[CV] END colsample_bytree=0.7, gamma=0.1, learning_rate=0.1, max_depth=5, n_estimators=100, reg_alpha=1, reg_lambda=10, subsample=0.7; total time=   0.3s\n",
      "[CV] END colsample_bytree=0.7, gamma=0.1, learning_rate=0.1, max_depth=5, n_estimators=100, reg_alpha=1, reg_lambda=10, subsample=0.7; total time=   0.3s\n",
      "[CV] END colsample_bytree=0.7, gamma=0.1, learning_rate=0.1, max_depth=5, n_estimators=100, reg_alpha=1, reg_lambda=10, subsample=1.0; total time=   0.3s\n",
      "[CV] END colsample_bytree=0.7, gamma=0.1, learning_rate=0.1, max_depth=5, n_estimators=100, reg_alpha=1, reg_lambda=10, subsample=1.0; total time=   0.3s\n",
      "[CV] END colsample_bytree=0.7, gamma=0.1, learning_rate=0.1, max_depth=5, n_estimators=100, reg_alpha=1, reg_lambda=10, subsample=1.0; total time=   0.3s\n",
      "[CV] END colsample_bytree=0.7, gamma=0.1, learning_rate=0.1, max_depth=5, n_estimators=500, reg_alpha=0, reg_lambda=1, subsample=0.7; total time=   1.3s\n",
      "[CV] END colsample_bytree=0.7, gamma=0.1, learning_rate=0.1, max_depth=5, n_estimators=500, reg_alpha=0, reg_lambda=1, subsample=1.0; total time=   1.2s\n",
      "[CV] END colsample_bytree=0.7, gamma=0.1, learning_rate=0.1, max_depth=5, n_estimators=500, reg_alpha=0, reg_lambda=1, subsample=1.0; total time=   1.2s\n",
      "[CV] END colsample_bytree=0.7, gamma=0.1, learning_rate=0.1, max_depth=5, n_estimators=500, reg_alpha=0, reg_lambda=1, subsample=1.0; total time=   1.2s\n",
      "[CV] END colsample_bytree=0.7, gamma=0.1, learning_rate=0.1, max_depth=5, n_estimators=500, reg_alpha=0, reg_lambda=1, subsample=0.7; total time=   1.4s\n",
      "[CV] END colsample_bytree=0.7, gamma=0.1, learning_rate=0.1, max_depth=5, n_estimators=500, reg_alpha=0, reg_lambda=1, subsample=0.7; total time=   1.5s\n",
      "[CV] END colsample_bytree=0.7, gamma=0.1, learning_rate=0.1, max_depth=5, n_estimators=500, reg_alpha=0, reg_lambda=10, subsample=0.7; total time=   1.3s\n",
      "[CV] END colsample_bytree=0.7, gamma=0.1, learning_rate=0.1, max_depth=5, n_estimators=500, reg_alpha=0, reg_lambda=10, subsample=0.7; total time=   1.4s\n",
      "[CV] END colsample_bytree=0.7, gamma=0.1, learning_rate=0.1, max_depth=5, n_estimators=500, reg_alpha=0, reg_lambda=10, subsample=1.0; total time=   1.0s\n",
      "[CV] END colsample_bytree=0.7, gamma=0.1, learning_rate=0.1, max_depth=5, n_estimators=500, reg_alpha=0, reg_lambda=10, subsample=1.0; total time=   1.1s\n",
      "[CV] END colsample_bytree=0.7, gamma=0.1, learning_rate=0.1, max_depth=5, n_estimators=500, reg_alpha=0, reg_lambda=10, subsample=1.0; total time=   1.2s\n",
      "[CV] END colsample_bytree=0.7, gamma=0.1, learning_rate=0.1, max_depth=5, n_estimators=500, reg_alpha=0, reg_lambda=10, subsample=0.7; total time=   1.3s\n",
      "[CV] END colsample_bytree=0.7, gamma=0.1, learning_rate=0.1, max_depth=5, n_estimators=500, reg_alpha=1, reg_lambda=1, subsample=1.0; total time=   1.1s\n",
      "[CV] END colsample_bytree=0.7, gamma=0.1, learning_rate=0.1, max_depth=5, n_estimators=500, reg_alpha=1, reg_lambda=1, subsample=0.7; total time=   1.3s\n",
      "[CV] END colsample_bytree=0.7, gamma=0.1, learning_rate=0.1, max_depth=5, n_estimators=500, reg_alpha=1, reg_lambda=1, subsample=0.7; total time=   1.3s\n",
      "[CV] END colsample_bytree=0.7, gamma=0.1, learning_rate=0.1, max_depth=5, n_estimators=500, reg_alpha=1, reg_lambda=1, subsample=0.7; total time=   1.4s\n",
      "[CV] END colsample_bytree=0.7, gamma=0.1, learning_rate=0.1, max_depth=5, n_estimators=500, reg_alpha=1, reg_lambda=1, subsample=1.0; total time=   1.0s\n",
      "[CV] END colsample_bytree=0.7, gamma=0.1, learning_rate=0.1, max_depth=5, n_estimators=500, reg_alpha=1, reg_lambda=1, subsample=1.0; total time=   1.1s\n",
      "[CV] END colsample_bytree=0.7, gamma=0.1, learning_rate=0.1, max_depth=5, n_estimators=500, reg_alpha=1, reg_lambda=10, subsample=1.0; total time=   1.1s\n",
      "[CV] END colsample_bytree=0.7, gamma=0.1, learning_rate=0.1, max_depth=5, n_estimators=500, reg_alpha=1, reg_lambda=10, subsample=0.7; total time=   1.3s\n",
      "[CV] END colsample_bytree=0.7, gamma=0.1, learning_rate=0.1, max_depth=5, n_estimators=500, reg_alpha=1, reg_lambda=10, subsample=0.7; total time=   1.3s\n",
      "[CV] END colsample_bytree=0.7, gamma=0.1, learning_rate=0.1, max_depth=5, n_estimators=500, reg_alpha=1, reg_lambda=10, subsample=0.7; total time=   1.2s\n",
      "[CV] END colsample_bytree=0.7, gamma=0.1, learning_rate=0.1, max_depth=5, n_estimators=500, reg_alpha=1, reg_lambda=10, subsample=1.0; total time=   1.1s\n",
      "[CV] END colsample_bytree=0.7, gamma=0.1, learning_rate=0.1, max_depth=5, n_estimators=500, reg_alpha=1, reg_lambda=10, subsample=1.0; total time=   1.1s\n",
      "[CV] END colsample_bytree=0.7, gamma=0.1, learning_rate=0.1, max_depth=5, n_estimators=1000, reg_alpha=0, reg_lambda=1, subsample=1.0; total time=   2.0s\n",
      "[CV] END colsample_bytree=0.7, gamma=0.1, learning_rate=0.1, max_depth=5, n_estimators=1000, reg_alpha=0, reg_lambda=1, subsample=1.0; total time=   2.1s\n",
      "[CV] END colsample_bytree=0.7, gamma=0.1, learning_rate=0.1, max_depth=5, n_estimators=1000, reg_alpha=0, reg_lambda=1, subsample=0.7; total time=   2.5s\n",
      "[CV] END colsample_bytree=0.7, gamma=0.1, learning_rate=0.1, max_depth=5, n_estimators=1000, reg_alpha=0, reg_lambda=1, subsample=1.0; total time=   2.1s\n",
      "[CV] END colsample_bytree=0.7, gamma=0.1, learning_rate=0.1, max_depth=5, n_estimators=1000, reg_alpha=0, reg_lambda=1, subsample=0.7; total time=   2.6s\n",
      "[CV] END colsample_bytree=0.7, gamma=0.1, learning_rate=0.1, max_depth=5, n_estimators=1000, reg_alpha=0, reg_lambda=1, subsample=0.7; total time=   2.6s\n",
      "[CV] END colsample_bytree=0.7, gamma=0.1, learning_rate=0.1, max_depth=5, n_estimators=1000, reg_alpha=0, reg_lambda=10, subsample=0.7; total time=   2.6s\n",
      "[CV] END colsample_bytree=0.7, gamma=0.1, learning_rate=0.1, max_depth=5, n_estimators=1000, reg_alpha=0, reg_lambda=10, subsample=0.7; total time=   2.5s\n",
      "[CV] END colsample_bytree=0.7, gamma=0.1, learning_rate=0.1, max_depth=5, n_estimators=1000, reg_alpha=0, reg_lambda=10, subsample=1.0; total time=   2.1s\n",
      "[CV] END colsample_bytree=0.7, gamma=0.1, learning_rate=0.1, max_depth=5, n_estimators=1000, reg_alpha=0, reg_lambda=10, subsample=1.0; total time=   2.1s\n",
      "[CV] END colsample_bytree=0.7, gamma=0.1, learning_rate=0.1, max_depth=5, n_estimators=1000, reg_alpha=0, reg_lambda=10, subsample=1.0; total time=   2.2s\n",
      "[CV] END colsample_bytree=0.7, gamma=0.1, learning_rate=0.1, max_depth=5, n_estimators=1000, reg_alpha=0, reg_lambda=10, subsample=0.7; total time=   2.4s\n",
      "[CV] END colsample_bytree=0.7, gamma=0.1, learning_rate=0.1, max_depth=5, n_estimators=1000, reg_alpha=1, reg_lambda=1, subsample=0.7; total time=   2.5s\n",
      "[CV] END colsample_bytree=0.7, gamma=0.1, learning_rate=0.1, max_depth=5, n_estimators=1000, reg_alpha=1, reg_lambda=1, subsample=1.0; total time=   2.2s\n",
      "[CV] END colsample_bytree=0.7, gamma=0.1, learning_rate=0.1, max_depth=5, n_estimators=1000, reg_alpha=1, reg_lambda=1, subsample=0.7; total time=   2.5s\n",
      "[CV] END colsample_bytree=0.7, gamma=0.1, learning_rate=0.1, max_depth=5, n_estimators=1000, reg_alpha=1, reg_lambda=1, subsample=0.7; total time=   2.6s\n",
      "[CV] END colsample_bytree=0.7, gamma=0.1, learning_rate=0.1, max_depth=5, n_estimators=1000, reg_alpha=1, reg_lambda=1, subsample=1.0; total time=   1.9s\n",
      "[CV] END colsample_bytree=0.7, gamma=0.1, learning_rate=0.1, max_depth=5, n_estimators=1000, reg_alpha=1, reg_lambda=1, subsample=1.0; total time=   2.1s\n",
      "[CV] END colsample_bytree=0.7, gamma=0.1, learning_rate=0.1, max_depth=7, n_estimators=100, reg_alpha=0, reg_lambda=1, subsample=0.7; total time=   0.5s\n",
      "[CV] END colsample_bytree=0.7, gamma=0.1, learning_rate=0.1, max_depth=5, n_estimators=1000, reg_alpha=1, reg_lambda=10, subsample=0.7; total time=   2.5s\n",
      "[CV] END colsample_bytree=0.7, gamma=0.1, learning_rate=0.1, max_depth=5, n_estimators=1000, reg_alpha=1, reg_lambda=10, subsample=0.7; total time=   2.5s\n",
      "[CV] END colsample_bytree=0.7, gamma=0.1, learning_rate=0.1, max_depth=7, n_estimators=100, reg_alpha=0, reg_lambda=1, subsample=0.7; total time=   0.5s\n",
      "[CV] END colsample_bytree=0.7, gamma=0.1, learning_rate=0.1, max_depth=5, n_estimators=1000, reg_alpha=1, reg_lambda=10, subsample=1.0; total time=   2.1s\n",
      "[CV] END colsample_bytree=0.7, gamma=0.1, learning_rate=0.1, max_depth=5, n_estimators=1000, reg_alpha=1, reg_lambda=10, subsample=1.0; total time=   2.2s\n",
      "[CV] END colsample_bytree=0.7, gamma=0.1, learning_rate=0.1, max_depth=5, n_estimators=1000, reg_alpha=1, reg_lambda=10, subsample=0.7; total time=   2.5s\n",
      "[CV] END colsample_bytree=0.7, gamma=0.1, learning_rate=0.1, max_depth=7, n_estimators=100, reg_alpha=0, reg_lambda=1, subsample=1.0; total time=   0.4s\n",
      "[CV] END colsample_bytree=0.7, gamma=0.1, learning_rate=0.1, max_depth=7, n_estimators=100, reg_alpha=0, reg_lambda=1, subsample=1.0; total time=   0.4s\n",
      "[CV] END colsample_bytree=0.7, gamma=0.1, learning_rate=0.1, max_depth=7, n_estimators=100, reg_alpha=0, reg_lambda=1, subsample=0.7; total time=   0.5s\n",
      "[CV] END colsample_bytree=0.7, gamma=0.1, learning_rate=0.1, max_depth=7, n_estimators=100, reg_alpha=0, reg_lambda=1, subsample=1.0; total time=   0.5s\n",
      "[CV] END colsample_bytree=0.7, gamma=0.1, learning_rate=0.1, max_depth=5, n_estimators=1000, reg_alpha=1, reg_lambda=10, subsample=1.0; total time=   2.2s\n",
      "[CV] END colsample_bytree=0.7, gamma=0.1, learning_rate=0.1, max_depth=7, n_estimators=100, reg_alpha=0, reg_lambda=10, subsample=0.7; total time=   0.4s\n",
      "[CV] END colsample_bytree=0.7, gamma=0.1, learning_rate=0.1, max_depth=7, n_estimators=100, reg_alpha=0, reg_lambda=10, subsample=0.7; total time=   0.5s\n",
      "[CV] END colsample_bytree=0.7, gamma=0.1, learning_rate=0.1, max_depth=7, n_estimators=100, reg_alpha=0, reg_lambda=10, subsample=0.7; total time=   0.5s\n",
      "[CV] END colsample_bytree=0.7, gamma=0.1, learning_rate=0.1, max_depth=7, n_estimators=100, reg_alpha=0, reg_lambda=10, subsample=1.0; total time=   0.5s\n",
      "[CV] END colsample_bytree=0.7, gamma=0.1, learning_rate=0.1, max_depth=7, n_estimators=100, reg_alpha=0, reg_lambda=10, subsample=1.0; total time=   0.5s\n",
      "[CV] END colsample_bytree=0.7, gamma=0.1, learning_rate=0.1, max_depth=7, n_estimators=100, reg_alpha=0, reg_lambda=10, subsample=1.0; total time=   0.5s\n",
      "[CV] END colsample_bytree=0.7, gamma=0.1, learning_rate=0.1, max_depth=7, n_estimators=100, reg_alpha=1, reg_lambda=1, subsample=0.7; total time=   0.5s\n",
      "[CV] END colsample_bytree=0.7, gamma=0.1, learning_rate=0.1, max_depth=7, n_estimators=100, reg_alpha=1, reg_lambda=1, subsample=0.7; total time=   0.5s\n",
      "[CV] END colsample_bytree=0.7, gamma=0.1, learning_rate=0.1, max_depth=7, n_estimators=100, reg_alpha=1, reg_lambda=1, subsample=1.0; total time=   0.4s\n",
      "[CV] END colsample_bytree=0.7, gamma=0.1, learning_rate=0.1, max_depth=7, n_estimators=100, reg_alpha=1, reg_lambda=1, subsample=0.7; total time=   0.5s\n",
      "[CV] END colsample_bytree=0.7, gamma=0.1, learning_rate=0.1, max_depth=7, n_estimators=100, reg_alpha=1, reg_lambda=1, subsample=1.0; total time=   0.4s\n",
      "[CV] END colsample_bytree=0.7, gamma=0.1, learning_rate=0.1, max_depth=7, n_estimators=100, reg_alpha=1, reg_lambda=1, subsample=1.0; total time=   0.5s\n",
      "[CV] END colsample_bytree=0.7, gamma=0.1, learning_rate=0.1, max_depth=7, n_estimators=100, reg_alpha=1, reg_lambda=10, subsample=0.7; total time=   0.5s\n",
      "[CV] END colsample_bytree=0.7, gamma=0.1, learning_rate=0.1, max_depth=7, n_estimators=100, reg_alpha=1, reg_lambda=10, subsample=0.7; total time=   0.5s\n",
      "[CV] END colsample_bytree=0.7, gamma=0.1, learning_rate=0.1, max_depth=7, n_estimators=100, reg_alpha=1, reg_lambda=10, subsample=0.7; total time=   0.5s\n",
      "[CV] END colsample_bytree=0.7, gamma=0.1, learning_rate=0.1, max_depth=7, n_estimators=100, reg_alpha=1, reg_lambda=10, subsample=1.0; total time=   0.5s\n",
      "[CV] END colsample_bytree=0.7, gamma=0.1, learning_rate=0.1, max_depth=7, n_estimators=100, reg_alpha=1, reg_lambda=10, subsample=1.0; total time=   0.5s\n",
      "[CV] END colsample_bytree=0.7, gamma=0.1, learning_rate=0.1, max_depth=7, n_estimators=100, reg_alpha=1, reg_lambda=10, subsample=1.0; total time=   0.4s\n",
      "[CV] END colsample_bytree=0.7, gamma=0.1, learning_rate=0.1, max_depth=7, n_estimators=500, reg_alpha=0, reg_lambda=1, subsample=1.0; total time=   2.1s\n",
      "[CV] END colsample_bytree=0.7, gamma=0.1, learning_rate=0.1, max_depth=7, n_estimators=500, reg_alpha=0, reg_lambda=1, subsample=1.0; total time=   2.2s\n",
      "[CV] END colsample_bytree=0.7, gamma=0.1, learning_rate=0.1, max_depth=7, n_estimators=500, reg_alpha=0, reg_lambda=1, subsample=0.7; total time=   2.5s\n",
      "[CV] END colsample_bytree=0.7, gamma=0.1, learning_rate=0.1, max_depth=7, n_estimators=500, reg_alpha=0, reg_lambda=1, subsample=0.7; total time=   2.5s\n",
      "[CV] END colsample_bytree=0.7, gamma=0.1, learning_rate=0.1, max_depth=7, n_estimators=500, reg_alpha=0, reg_lambda=1, subsample=0.7; total time=   2.5s\n",
      "[CV] END colsample_bytree=0.7, gamma=0.1, learning_rate=0.1, max_depth=7, n_estimators=500, reg_alpha=0, reg_lambda=1, subsample=1.0; total time=   2.3s\n",
      "[CV] END colsample_bytree=0.7, gamma=0.1, learning_rate=0.1, max_depth=7, n_estimators=500, reg_alpha=0, reg_lambda=10, subsample=0.7; total time=   2.4s\n",
      "[CV] END colsample_bytree=0.7, gamma=0.1, learning_rate=0.1, max_depth=7, n_estimators=500, reg_alpha=0, reg_lambda=10, subsample=0.7; total time=   2.5s\n",
      "[CV] END colsample_bytree=0.7, gamma=0.1, learning_rate=0.1, max_depth=7, n_estimators=500, reg_alpha=0, reg_lambda=10, subsample=1.0; total time=   2.3s\n",
      "[CV] END colsample_bytree=0.7, gamma=0.1, learning_rate=0.1, max_depth=7, n_estimators=500, reg_alpha=0, reg_lambda=10, subsample=0.7; total time=   2.5s\n",
      "[CV] END colsample_bytree=0.7, gamma=0.1, learning_rate=0.1, max_depth=7, n_estimators=500, reg_alpha=0, reg_lambda=10, subsample=1.0; total time=   2.3s\n",
      "[CV] END colsample_bytree=0.7, gamma=0.1, learning_rate=0.1, max_depth=7, n_estimators=500, reg_alpha=0, reg_lambda=10, subsample=1.0; total time=   2.3s\n",
      "[CV] END colsample_bytree=0.7, gamma=0.1, learning_rate=0.1, max_depth=7, n_estimators=500, reg_alpha=1, reg_lambda=1, subsample=0.7; total time=   2.5s\n",
      "[CV] END colsample_bytree=0.7, gamma=0.1, learning_rate=0.1, max_depth=7, n_estimators=500, reg_alpha=1, reg_lambda=1, subsample=0.7; total time=   2.6s\n",
      "[CV] END colsample_bytree=0.7, gamma=0.1, learning_rate=0.1, max_depth=7, n_estimators=500, reg_alpha=1, reg_lambda=1, subsample=1.0; total time=   2.4s\n",
      "[CV] END colsample_bytree=0.7, gamma=0.1, learning_rate=0.1, max_depth=7, n_estimators=500, reg_alpha=1, reg_lambda=1, subsample=0.7; total time=   2.4s\n",
      "[CV] END colsample_bytree=0.7, gamma=0.1, learning_rate=0.1, max_depth=7, n_estimators=500, reg_alpha=1, reg_lambda=1, subsample=1.0; total time=   2.2s\n",
      "[CV] END colsample_bytree=0.7, gamma=0.1, learning_rate=0.1, max_depth=7, n_estimators=500, reg_alpha=1, reg_lambda=1, subsample=1.0; total time=   2.2s\n",
      "[CV] END colsample_bytree=0.7, gamma=0.1, learning_rate=0.1, max_depth=7, n_estimators=500, reg_alpha=1, reg_lambda=10, subsample=0.7; total time=   2.5s\n",
      "[CV] END colsample_bytree=0.7, gamma=0.1, learning_rate=0.1, max_depth=7, n_estimators=500, reg_alpha=1, reg_lambda=10, subsample=0.7; total time=   2.7s\n",
      "[CV] END colsample_bytree=0.7, gamma=0.1, learning_rate=0.1, max_depth=7, n_estimators=500, reg_alpha=1, reg_lambda=10, subsample=1.0; total time=   2.4s\n",
      "[CV] END colsample_bytree=0.7, gamma=0.1, learning_rate=0.1, max_depth=7, n_estimators=500, reg_alpha=1, reg_lambda=10, subsample=1.0; total time=   2.5s\n",
      "[CV] END colsample_bytree=0.7, gamma=0.1, learning_rate=0.1, max_depth=7, n_estimators=500, reg_alpha=1, reg_lambda=10, subsample=0.7; total time=   2.6s\n",
      "[CV] END colsample_bytree=0.7, gamma=0.1, learning_rate=0.1, max_depth=7, n_estimators=500, reg_alpha=1, reg_lambda=10, subsample=1.0; total time=   2.4s\n",
      "[CV] END colsample_bytree=0.7, gamma=0.1, learning_rate=0.1, max_depth=7, n_estimators=1000, reg_alpha=0, reg_lambda=1, subsample=0.7; total time=   5.3s\n",
      "[CV] END colsample_bytree=0.7, gamma=0.1, learning_rate=0.1, max_depth=7, n_estimators=1000, reg_alpha=0, reg_lambda=1, subsample=0.7; total time=   5.4s\n",
      "[CV] END colsample_bytree=0.7, gamma=0.1, learning_rate=0.1, max_depth=7, n_estimators=1000, reg_alpha=0, reg_lambda=1, subsample=1.0; total time=   4.7s\n",
      "[CV] END colsample_bytree=0.7, gamma=0.1, learning_rate=0.1, max_depth=7, n_estimators=1000, reg_alpha=0, reg_lambda=1, subsample=1.0; total time=   4.8s\n",
      "[CV] END colsample_bytree=0.7, gamma=0.1, learning_rate=0.1, max_depth=7, n_estimators=1000, reg_alpha=0, reg_lambda=1, subsample=1.0; total time=   5.0s\n",
      "[CV] END colsample_bytree=0.7, gamma=0.1, learning_rate=0.1, max_depth=7, n_estimators=1000, reg_alpha=0, reg_lambda=1, subsample=0.7; total time=   5.5s\n",
      "[CV] END colsample_bytree=0.7, gamma=0.1, learning_rate=0.1, max_depth=7, n_estimators=1000, reg_alpha=0, reg_lambda=10, subsample=0.7; total time=   5.2s\n",
      "[CV] END colsample_bytree=0.7, gamma=0.1, learning_rate=0.1, max_depth=7, n_estimators=1000, reg_alpha=0, reg_lambda=10, subsample=0.7; total time=   5.5s\n",
      "[CV] END colsample_bytree=0.7, gamma=0.1, learning_rate=0.1, max_depth=7, n_estimators=1000, reg_alpha=0, reg_lambda=10, subsample=1.0; total time=   4.4s\n",
      "[CV] END colsample_bytree=0.7, gamma=0.1, learning_rate=0.1, max_depth=7, n_estimators=1000, reg_alpha=0, reg_lambda=10, subsample=1.0; total time=   4.5s\n",
      "[CV] END colsample_bytree=0.7, gamma=0.1, learning_rate=0.1, max_depth=7, n_estimators=1000, reg_alpha=0, reg_lambda=10, subsample=1.0; total time=   4.7s\n",
      "[CV] END colsample_bytree=0.7, gamma=0.1, learning_rate=0.1, max_depth=7, n_estimators=1000, reg_alpha=0, reg_lambda=10, subsample=0.7; total time=   5.1s\n",
      "[CV] END colsample_bytree=0.7, gamma=0.1, learning_rate=0.1, max_depth=7, n_estimators=1000, reg_alpha=1, reg_lambda=1, subsample=1.0; total time=   4.5s\n",
      "[CV] END colsample_bytree=0.7, gamma=0.1, learning_rate=0.1, max_depth=7, n_estimators=1000, reg_alpha=1, reg_lambda=1, subsample=0.7; total time=   5.1s\n",
      "[CV] END colsample_bytree=0.7, gamma=0.1, learning_rate=0.1, max_depth=7, n_estimators=1000, reg_alpha=1, reg_lambda=1, subsample=0.7; total time=   5.2s\n",
      "[CV] END colsample_bytree=0.7, gamma=0.1, learning_rate=0.1, max_depth=7, n_estimators=1000, reg_alpha=1, reg_lambda=1, subsample=0.7; total time=   5.2s\n",
      "[CV] END colsample_bytree=0.7, gamma=0.1, learning_rate=0.1, max_depth=7, n_estimators=1000, reg_alpha=1, reg_lambda=1, subsample=1.0; total time=   4.4s\n",
      "[CV] END colsample_bytree=0.7, gamma=0.1, learning_rate=0.1, max_depth=7, n_estimators=1000, reg_alpha=1, reg_lambda=1, subsample=1.0; total time=   4.6s\n",
      "[CV] END colsample_bytree=0.7, gamma=0.3, learning_rate=0.01, max_depth=5, n_estimators=100, reg_alpha=0, reg_lambda=1, subsample=0.7; total time=   0.3s\n",
      "[CV] END colsample_bytree=0.7, gamma=0.3, learning_rate=0.01, max_depth=5, n_estimators=100, reg_alpha=0, reg_lambda=1, subsample=0.7; total time=   0.3s\n",
      "[CV] END colsample_bytree=0.7, gamma=0.3, learning_rate=0.01, max_depth=5, n_estimators=100, reg_alpha=0, reg_lambda=1, subsample=0.7; total time=   0.3s\n",
      "[CV] END colsample_bytree=0.7, gamma=0.3, learning_rate=0.01, max_depth=5, n_estimators=100, reg_alpha=0, reg_lambda=1, subsample=1.0; total time=   0.3s\n",
      "[CV] END colsample_bytree=0.7, gamma=0.1, learning_rate=0.1, max_depth=7, n_estimators=1000, reg_alpha=1, reg_lambda=10, subsample=0.7; total time=   4.8s\n",
      "[CV] END colsample_bytree=0.7, gamma=0.1, learning_rate=0.1, max_depth=7, n_estimators=1000, reg_alpha=1, reg_lambda=10, subsample=1.0; total time=   4.3s\n",
      "[CV] END colsample_bytree=0.7, gamma=0.3, learning_rate=0.01, max_depth=5, n_estimators=100, reg_alpha=0, reg_lambda=1, subsample=1.0; total time=   0.3s\n",
      "[CV] END colsample_bytree=0.7, gamma=0.3, learning_rate=0.01, max_depth=5, n_estimators=100, reg_alpha=0, reg_lambda=1, subsample=1.0; total time=   0.3s\n",
      "[CV] END colsample_bytree=0.7, gamma=0.1, learning_rate=0.1, max_depth=7, n_estimators=1000, reg_alpha=1, reg_lambda=10, subsample=0.7; total time=   5.0s\n",
      "[CV] END colsample_bytree=0.7, gamma=0.1, learning_rate=0.1, max_depth=7, n_estimators=1000, reg_alpha=1, reg_lambda=10, subsample=1.0; total time=   4.4s\n",
      "[CV] END colsample_bytree=0.7, gamma=0.1, learning_rate=0.1, max_depth=7, n_estimators=1000, reg_alpha=1, reg_lambda=10, subsample=0.7; total time=   4.7s\n",
      "[CV] END colsample_bytree=0.7, gamma=0.3, learning_rate=0.01, max_depth=5, n_estimators=100, reg_alpha=0, reg_lambda=10, subsample=0.7; total time=   0.3s\n",
      "[CV] END colsample_bytree=0.7, gamma=0.3, learning_rate=0.01, max_depth=5, n_estimators=100, reg_alpha=0, reg_lambda=10, subsample=0.7; total time=   0.3s\n",
      "[CV] END colsample_bytree=0.7, gamma=0.3, learning_rate=0.01, max_depth=5, n_estimators=100, reg_alpha=0, reg_lambda=10, subsample=1.0; total time=   0.3s\n",
      "[CV] END colsample_bytree=0.7, gamma=0.3, learning_rate=0.01, max_depth=5, n_estimators=100, reg_alpha=0, reg_lambda=10, subsample=0.7; total time=   0.3s\n",
      "[CV] END colsample_bytree=0.7, gamma=0.3, learning_rate=0.01, max_depth=5, n_estimators=100, reg_alpha=0, reg_lambda=10, subsample=1.0; total time=   0.3s\n",
      "[CV] END colsample_bytree=0.7, gamma=0.3, learning_rate=0.01, max_depth=5, n_estimators=100, reg_alpha=0, reg_lambda=10, subsample=1.0; total time=   0.3s\n",
      "[CV] END colsample_bytree=0.7, gamma=0.1, learning_rate=0.1, max_depth=7, n_estimators=1000, reg_alpha=1, reg_lambda=10, subsample=1.0; total time=   4.6s\n",
      "[CV] END colsample_bytree=0.7, gamma=0.3, learning_rate=0.01, max_depth=5, n_estimators=100, reg_alpha=1, reg_lambda=1, subsample=0.7; total time=   0.3s\n",
      "[CV] END colsample_bytree=0.7, gamma=0.3, learning_rate=0.01, max_depth=5, n_estimators=100, reg_alpha=1, reg_lambda=1, subsample=0.7; total time=   0.3s\n",
      "[CV] END colsample_bytree=0.7, gamma=0.3, learning_rate=0.01, max_depth=5, n_estimators=100, reg_alpha=1, reg_lambda=1, subsample=0.7; total time=   0.3s\n",
      "[CV] END colsample_bytree=0.7, gamma=0.3, learning_rate=0.01, max_depth=5, n_estimators=100, reg_alpha=1, reg_lambda=1, subsample=1.0; total time=   0.3s\n",
      "[CV] END colsample_bytree=0.7, gamma=0.3, learning_rate=0.01, max_depth=5, n_estimators=100, reg_alpha=1, reg_lambda=1, subsample=1.0; total time=   0.3s\n",
      "[CV] END colsample_bytree=0.7, gamma=0.3, learning_rate=0.01, max_depth=5, n_estimators=100, reg_alpha=1, reg_lambda=1, subsample=1.0; total time=   0.3s\n",
      "[CV] END colsample_bytree=0.7, gamma=0.3, learning_rate=0.01, max_depth=5, n_estimators=100, reg_alpha=1, reg_lambda=10, subsample=0.7; total time=   0.3s\n",
      "[CV] END colsample_bytree=0.7, gamma=0.3, learning_rate=0.01, max_depth=5, n_estimators=100, reg_alpha=1, reg_lambda=10, subsample=1.0; total time=   0.3s\n",
      "[CV] END colsample_bytree=0.7, gamma=0.3, learning_rate=0.01, max_depth=5, n_estimators=100, reg_alpha=1, reg_lambda=10, subsample=0.7; total time=   0.3s\n",
      "[CV] END colsample_bytree=0.7, gamma=0.3, learning_rate=0.01, max_depth=5, n_estimators=100, reg_alpha=1, reg_lambda=10, subsample=0.7; total time=   0.3s\n",
      "[CV] END colsample_bytree=0.7, gamma=0.3, learning_rate=0.01, max_depth=5, n_estimators=100, reg_alpha=1, reg_lambda=10, subsample=1.0; total time=   0.3s\n",
      "[CV] END colsample_bytree=0.7, gamma=0.3, learning_rate=0.01, max_depth=5, n_estimators=100, reg_alpha=1, reg_lambda=10, subsample=1.0; total time=   0.3s\n",
      "[CV] END colsample_bytree=0.7, gamma=0.3, learning_rate=0.01, max_depth=5, n_estimators=500, reg_alpha=0, reg_lambda=1, subsample=0.7; total time=   1.4s\n",
      "[CV] END colsample_bytree=0.7, gamma=0.3, learning_rate=0.01, max_depth=5, n_estimators=500, reg_alpha=0, reg_lambda=1, subsample=0.7; total time=   1.3s\n",
      "[CV] END colsample_bytree=0.7, gamma=0.3, learning_rate=0.01, max_depth=5, n_estimators=500, reg_alpha=0, reg_lambda=1, subsample=0.7; total time=   1.4s\n",
      "[CV] END colsample_bytree=0.7, gamma=0.3, learning_rate=0.01, max_depth=5, n_estimators=500, reg_alpha=0, reg_lambda=1, subsample=1.0; total time=   1.2s\n",
      "[CV] END colsample_bytree=0.7, gamma=0.3, learning_rate=0.01, max_depth=5, n_estimators=500, reg_alpha=0, reg_lambda=1, subsample=1.0; total time=   1.3s\n",
      "[CV] END colsample_bytree=0.7, gamma=0.3, learning_rate=0.01, max_depth=5, n_estimators=500, reg_alpha=0, reg_lambda=1, subsample=1.0; total time=   1.3s\n",
      "[CV] END colsample_bytree=0.7, gamma=0.3, learning_rate=0.01, max_depth=5, n_estimators=500, reg_alpha=0, reg_lambda=10, subsample=0.7; total time=   1.3s\n",
      "[CV] END colsample_bytree=0.7, gamma=0.3, learning_rate=0.01, max_depth=5, n_estimators=500, reg_alpha=0, reg_lambda=10, subsample=0.7; total time=   1.4s\n",
      "[CV] END colsample_bytree=0.7, gamma=0.3, learning_rate=0.01, max_depth=5, n_estimators=500, reg_alpha=0, reg_lambda=10, subsample=1.0; total time=   1.1s\n",
      "[CV] END colsample_bytree=0.7, gamma=0.3, learning_rate=0.01, max_depth=5, n_estimators=500, reg_alpha=0, reg_lambda=10, subsample=1.0; total time=   1.1s\n",
      "[CV] END colsample_bytree=0.7, gamma=0.3, learning_rate=0.01, max_depth=5, n_estimators=500, reg_alpha=0, reg_lambda=10, subsample=1.0; total time=   1.2s\n",
      "[CV] END colsample_bytree=0.7, gamma=0.3, learning_rate=0.01, max_depth=5, n_estimators=500, reg_alpha=0, reg_lambda=10, subsample=0.7; total time=   1.3s\n",
      "[CV] END colsample_bytree=0.7, gamma=0.3, learning_rate=0.01, max_depth=5, n_estimators=500, reg_alpha=1, reg_lambda=1, subsample=1.0; total time=   1.2s\n",
      "[CV] END colsample_bytree=0.7, gamma=0.3, learning_rate=0.01, max_depth=5, n_estimators=500, reg_alpha=1, reg_lambda=1, subsample=0.7; total time=   1.3s\n",
      "[CV] END colsample_bytree=0.7, gamma=0.3, learning_rate=0.01, max_depth=5, n_estimators=500, reg_alpha=1, reg_lambda=1, subsample=0.7; total time=   1.3s\n",
      "[CV] END colsample_bytree=0.7, gamma=0.3, learning_rate=0.01, max_depth=5, n_estimators=500, reg_alpha=1, reg_lambda=1, subsample=0.7; total time=   1.3s\n",
      "[CV] END colsample_bytree=0.7, gamma=0.3, learning_rate=0.01, max_depth=5, n_estimators=500, reg_alpha=1, reg_lambda=1, subsample=1.0; total time=   1.1s\n",
      "[CV] END colsample_bytree=0.7, gamma=0.3, learning_rate=0.01, max_depth=5, n_estimators=500, reg_alpha=1, reg_lambda=1, subsample=1.0; total time=   1.2s\n",
      "[CV] END colsample_bytree=0.7, gamma=0.3, learning_rate=0.01, max_depth=5, n_estimators=500, reg_alpha=1, reg_lambda=10, subsample=0.7; total time=   1.3s\n",
      "[CV] END colsample_bytree=0.7, gamma=0.3, learning_rate=0.01, max_depth=5, n_estimators=500, reg_alpha=1, reg_lambda=10, subsample=0.7; total time=   1.3s\n",
      "[CV] END colsample_bytree=0.7, gamma=0.3, learning_rate=0.01, max_depth=5, n_estimators=500, reg_alpha=1, reg_lambda=10, subsample=1.0; total time=   1.2s\n",
      "[CV] END colsample_bytree=0.7, gamma=0.3, learning_rate=0.01, max_depth=5, n_estimators=500, reg_alpha=1, reg_lambda=10, subsample=1.0; total time=   1.2s\n",
      "[CV] END colsample_bytree=0.7, gamma=0.3, learning_rate=0.01, max_depth=5, n_estimators=500, reg_alpha=1, reg_lambda=10, subsample=0.7; total time=   1.3s\n",
      "[CV] END colsample_bytree=0.7, gamma=0.3, learning_rate=0.01, max_depth=5, n_estimators=500, reg_alpha=1, reg_lambda=10, subsample=1.0; total time=   1.2s\n",
      "[CV] END colsample_bytree=0.7, gamma=0.3, learning_rate=0.01, max_depth=5, n_estimators=1000, reg_alpha=0, reg_lambda=1, subsample=1.0; total time=   2.1s\n",
      "[CV] END colsample_bytree=0.7, gamma=0.3, learning_rate=0.01, max_depth=5, n_estimators=1000, reg_alpha=0, reg_lambda=1, subsample=0.7; total time=   2.6s\n",
      "[CV] END colsample_bytree=0.7, gamma=0.3, learning_rate=0.01, max_depth=5, n_estimators=1000, reg_alpha=0, reg_lambda=1, subsample=0.7; total time=   2.6s\n",
      "[CV] END colsample_bytree=0.7, gamma=0.3, learning_rate=0.01, max_depth=5, n_estimators=1000, reg_alpha=0, reg_lambda=1, subsample=1.0; total time=   2.3s\n",
      "[CV] END colsample_bytree=0.7, gamma=0.3, learning_rate=0.01, max_depth=5, n_estimators=1000, reg_alpha=0, reg_lambda=1, subsample=1.0; total time=   2.3s\n",
      "[CV] END colsample_bytree=0.7, gamma=0.3, learning_rate=0.01, max_depth=5, n_estimators=1000, reg_alpha=0, reg_lambda=1, subsample=0.7; total time=   2.7s\n",
      "[CV] END colsample_bytree=0.7, gamma=0.3, learning_rate=0.01, max_depth=5, n_estimators=1000, reg_alpha=0, reg_lambda=10, subsample=0.7; total time=   2.7s\n",
      "[CV] END colsample_bytree=0.7, gamma=0.3, learning_rate=0.01, max_depth=5, n_estimators=1000, reg_alpha=0, reg_lambda=10, subsample=0.7; total time=   2.7s\n",
      "[CV] END colsample_bytree=0.7, gamma=0.3, learning_rate=0.01, max_depth=5, n_estimators=1000, reg_alpha=0, reg_lambda=10, subsample=1.0; total time=   2.2s\n",
      "[CV] END colsample_bytree=0.7, gamma=0.3, learning_rate=0.01, max_depth=5, n_estimators=1000, reg_alpha=0, reg_lambda=10, subsample=1.0; total time=   2.3s\n",
      "[CV] END colsample_bytree=0.7, gamma=0.3, learning_rate=0.01, max_depth=5, n_estimators=1000, reg_alpha=0, reg_lambda=10, subsample=1.0; total time=   2.3s\n",
      "[CV] END colsample_bytree=0.7, gamma=0.3, learning_rate=0.01, max_depth=5, n_estimators=1000, reg_alpha=0, reg_lambda=10, subsample=0.7; total time=   2.7s\n",
      "[CV] END colsample_bytree=0.7, gamma=0.3, learning_rate=0.01, max_depth=5, n_estimators=1000, reg_alpha=1, reg_lambda=1, subsample=1.0; total time=   2.2s\n",
      "[CV] END colsample_bytree=0.7, gamma=0.3, learning_rate=0.01, max_depth=5, n_estimators=1000, reg_alpha=1, reg_lambda=1, subsample=0.7; total time=   2.6s\n",
      "[CV] END colsample_bytree=0.7, gamma=0.3, learning_rate=0.01, max_depth=5, n_estimators=1000, reg_alpha=1, reg_lambda=1, subsample=0.7; total time=   2.7s\n",
      "[CV] END colsample_bytree=0.7, gamma=0.3, learning_rate=0.01, max_depth=5, n_estimators=1000, reg_alpha=1, reg_lambda=1, subsample=0.7; total time=   2.5s\n",
      "[CV] END colsample_bytree=0.7, gamma=0.3, learning_rate=0.01, max_depth=5, n_estimators=1000, reg_alpha=1, reg_lambda=1, subsample=1.0; total time=   2.3s\n",
      "[CV] END colsample_bytree=0.7, gamma=0.3, learning_rate=0.01, max_depth=5, n_estimators=1000, reg_alpha=1, reg_lambda=1, subsample=1.0; total time=   2.3s\n",
      "[CV] END colsample_bytree=0.7, gamma=0.3, learning_rate=0.01, max_depth=5, n_estimators=1000, reg_alpha=1, reg_lambda=10, subsample=0.7; total time=   2.5s\n",
      "[CV] END colsample_bytree=0.7, gamma=0.3, learning_rate=0.01, max_depth=5, n_estimators=1000, reg_alpha=1, reg_lambda=10, subsample=1.0; total time=   2.3s\n",
      "[CV] END colsample_bytree=0.7, gamma=0.3, learning_rate=0.01, max_depth=7, n_estimators=100, reg_alpha=0, reg_lambda=1, subsample=0.7; total time=   0.5s\n",
      "[CV] END colsample_bytree=0.7, gamma=0.3, learning_rate=0.01, max_depth=5, n_estimators=1000, reg_alpha=1, reg_lambda=10, subsample=0.7; total time=   2.5s\n",
      "[CV] END colsample_bytree=0.7, gamma=0.3, learning_rate=0.01, max_depth=7, n_estimators=100, reg_alpha=0, reg_lambda=1, subsample=0.7; total time=   0.6s\n",
      "[CV] END colsample_bytree=0.7, gamma=0.3, learning_rate=0.01, max_depth=5, n_estimators=1000, reg_alpha=1, reg_lambda=10, subsample=1.0; total time=   2.2s\n",
      "[CV] END colsample_bytree=0.7, gamma=0.3, learning_rate=0.01, max_depth=5, n_estimators=1000, reg_alpha=1, reg_lambda=10, subsample=1.0; total time=   2.3s\n",
      "[CV] END colsample_bytree=0.7, gamma=0.3, learning_rate=0.01, max_depth=5, n_estimators=1000, reg_alpha=1, reg_lambda=10, subsample=0.7; total time=   2.6s\n",
      "[CV] END colsample_bytree=0.7, gamma=0.3, learning_rate=0.01, max_depth=7, n_estimators=100, reg_alpha=0, reg_lambda=1, subsample=0.7; total time=   0.5s\n",
      "[CV] END colsample_bytree=0.7, gamma=0.3, learning_rate=0.01, max_depth=7, n_estimators=100, reg_alpha=0, reg_lambda=1, subsample=1.0; total time=   0.5s\n",
      "[CV] END colsample_bytree=0.7, gamma=0.3, learning_rate=0.01, max_depth=7, n_estimators=100, reg_alpha=0, reg_lambda=1, subsample=1.0; total time=   0.5s\n",
      "[CV] END colsample_bytree=0.7, gamma=0.3, learning_rate=0.01, max_depth=7, n_estimators=100, reg_alpha=0, reg_lambda=1, subsample=1.0; total time=   0.5s\n",
      "[CV] END colsample_bytree=0.7, gamma=0.3, learning_rate=0.01, max_depth=7, n_estimators=100, reg_alpha=0, reg_lambda=10, subsample=0.7; total time=   0.5s\n",
      "[CV] END colsample_bytree=0.7, gamma=0.3, learning_rate=0.01, max_depth=7, n_estimators=100, reg_alpha=0, reg_lambda=10, subsample=1.0; total time=   0.5s\n",
      "[CV] END colsample_bytree=0.7, gamma=0.3, learning_rate=0.01, max_depth=7, n_estimators=100, reg_alpha=0, reg_lambda=10, subsample=0.7; total time=   0.7s\n",
      "[CV] END colsample_bytree=0.7, gamma=0.3, learning_rate=0.01, max_depth=7, n_estimators=100, reg_alpha=0, reg_lambda=10, subsample=1.0; total time=   0.5s\n",
      "[CV] END colsample_bytree=0.7, gamma=0.3, learning_rate=0.01, max_depth=7, n_estimators=100, reg_alpha=0, reg_lambda=10, subsample=0.7; total time=   0.6s\n",
      "[CV] END colsample_bytree=0.7, gamma=0.3, learning_rate=0.01, max_depth=7, n_estimators=100, reg_alpha=0, reg_lambda=10, subsample=1.0; total time=   0.5s\n",
      "[CV] END colsample_bytree=0.7, gamma=0.3, learning_rate=0.01, max_depth=7, n_estimators=100, reg_alpha=1, reg_lambda=1, subsample=0.7; total time=   0.5s\n",
      "[CV] END colsample_bytree=0.7, gamma=0.3, learning_rate=0.01, max_depth=7, n_estimators=100, reg_alpha=1, reg_lambda=1, subsample=0.7; total time=   0.6s\n",
      "[CV] END colsample_bytree=0.7, gamma=0.3, learning_rate=0.01, max_depth=7, n_estimators=100, reg_alpha=1, reg_lambda=1, subsample=0.7; total time=   0.5s\n",
      "[CV] END colsample_bytree=0.7, gamma=0.3, learning_rate=0.01, max_depth=7, n_estimators=100, reg_alpha=1, reg_lambda=1, subsample=1.0; total time=   0.5s\n",
      "[CV] END colsample_bytree=0.7, gamma=0.3, learning_rate=0.01, max_depth=7, n_estimators=100, reg_alpha=1, reg_lambda=10, subsample=0.7; total time=   0.5s\n",
      "[CV] END colsample_bytree=0.7, gamma=0.3, learning_rate=0.01, max_depth=7, n_estimators=100, reg_alpha=1, reg_lambda=1, subsample=1.0; total time=   0.6s\n",
      "[CV] END colsample_bytree=0.7, gamma=0.3, learning_rate=0.01, max_depth=7, n_estimators=100, reg_alpha=1, reg_lambda=1, subsample=1.0; total time=   0.6s\n",
      "[CV] END colsample_bytree=0.7, gamma=0.3, learning_rate=0.01, max_depth=7, n_estimators=100, reg_alpha=1, reg_lambda=10, subsample=0.7; total time=   0.6s\n",
      "[CV] END colsample_bytree=0.7, gamma=0.3, learning_rate=0.01, max_depth=7, n_estimators=100, reg_alpha=1, reg_lambda=10, subsample=1.0; total time=   0.5s\n",
      "[CV] END colsample_bytree=0.7, gamma=0.3, learning_rate=0.01, max_depth=7, n_estimators=100, reg_alpha=1, reg_lambda=10, subsample=1.0; total time=   0.5s\n",
      "[CV] END colsample_bytree=0.7, gamma=0.3, learning_rate=0.01, max_depth=7, n_estimators=100, reg_alpha=1, reg_lambda=10, subsample=0.7; total time=   0.6s\n",
      "[CV] END colsample_bytree=0.7, gamma=0.3, learning_rate=0.01, max_depth=7, n_estimators=100, reg_alpha=1, reg_lambda=10, subsample=1.0; total time=   0.6s\n",
      "[CV] END colsample_bytree=0.7, gamma=0.3, learning_rate=0.01, max_depth=7, n_estimators=500, reg_alpha=0, reg_lambda=1, subsample=0.7; total time=   2.6s\n",
      "[CV] END colsample_bytree=0.7, gamma=0.3, learning_rate=0.01, max_depth=7, n_estimators=500, reg_alpha=0, reg_lambda=1, subsample=0.7; total time=   2.6s\n",
      "[CV] END colsample_bytree=0.7, gamma=0.3, learning_rate=0.01, max_depth=7, n_estimators=500, reg_alpha=0, reg_lambda=1, subsample=0.7; total time=   2.6s\n",
      "[CV] END colsample_bytree=0.7, gamma=0.3, learning_rate=0.01, max_depth=7, n_estimators=500, reg_alpha=0, reg_lambda=10, subsample=0.7; total time=   2.3s\n",
      "[CV] END colsample_bytree=0.7, gamma=0.3, learning_rate=0.01, max_depth=7, n_estimators=500, reg_alpha=0, reg_lambda=1, subsample=1.0; total time=   2.4s\n",
      "[CV] END colsample_bytree=0.7, gamma=0.3, learning_rate=0.01, max_depth=7, n_estimators=500, reg_alpha=0, reg_lambda=1, subsample=1.0; total time=   2.4s\n",
      "[CV] END colsample_bytree=0.7, gamma=0.3, learning_rate=0.01, max_depth=7, n_estimators=500, reg_alpha=0, reg_lambda=1, subsample=1.0; total time=   2.5s\n",
      "[CV] END colsample_bytree=0.7, gamma=0.3, learning_rate=0.01, max_depth=7, n_estimators=500, reg_alpha=0, reg_lambda=10, subsample=0.7; total time=   2.3s\n",
      "[CV] END colsample_bytree=0.7, gamma=0.3, learning_rate=0.01, max_depth=7, n_estimators=500, reg_alpha=0, reg_lambda=10, subsample=1.0; total time=   2.3s\n",
      "[CV] END colsample_bytree=0.7, gamma=0.3, learning_rate=0.01, max_depth=7, n_estimators=500, reg_alpha=0, reg_lambda=10, subsample=0.7; total time=   2.4s\n",
      "[CV] END colsample_bytree=0.7, gamma=0.3, learning_rate=0.01, max_depth=7, n_estimators=500, reg_alpha=0, reg_lambda=10, subsample=1.0; total time=   2.3s\n",
      "[CV] END colsample_bytree=0.7, gamma=0.3, learning_rate=0.01, max_depth=7, n_estimators=500, reg_alpha=0, reg_lambda=10, subsample=1.0; total time=   2.4s\n",
      "[CV] END colsample_bytree=0.7, gamma=0.3, learning_rate=0.01, max_depth=7, n_estimators=500, reg_alpha=1, reg_lambda=1, subsample=0.7; total time=   2.4s\n",
      "[CV] END colsample_bytree=0.7, gamma=0.3, learning_rate=0.01, max_depth=7, n_estimators=500, reg_alpha=1, reg_lambda=1, subsample=1.0; total time=   2.2s\n",
      "[CV] END colsample_bytree=0.7, gamma=0.3, learning_rate=0.01, max_depth=7, n_estimators=500, reg_alpha=1, reg_lambda=1, subsample=0.7; total time=   2.4s\n",
      "[CV] END colsample_bytree=0.7, gamma=0.3, learning_rate=0.01, max_depth=7, n_estimators=500, reg_alpha=1, reg_lambda=1, subsample=0.7; total time=   2.5s\n",
      "[CV] END colsample_bytree=0.7, gamma=0.3, learning_rate=0.01, max_depth=7, n_estimators=500, reg_alpha=1, reg_lambda=1, subsample=1.0; total time=   2.5s\n",
      "[CV] END colsample_bytree=0.7, gamma=0.3, learning_rate=0.01, max_depth=7, n_estimators=500, reg_alpha=1, reg_lambda=1, subsample=1.0; total time=   2.5s\n",
      "[CV] END colsample_bytree=0.7, gamma=0.3, learning_rate=0.01, max_depth=7, n_estimators=500, reg_alpha=1, reg_lambda=10, subsample=1.0; total time=   2.3s\n",
      "[CV] END colsample_bytree=0.7, gamma=0.3, learning_rate=0.01, max_depth=7, n_estimators=500, reg_alpha=1, reg_lambda=10, subsample=0.7; total time=   2.5s\n",
      "[CV] END colsample_bytree=0.7, gamma=0.3, learning_rate=0.01, max_depth=7, n_estimators=500, reg_alpha=1, reg_lambda=10, subsample=1.0; total time=   2.4s\n",
      "[CV] END colsample_bytree=0.7, gamma=0.3, learning_rate=0.01, max_depth=7, n_estimators=500, reg_alpha=1, reg_lambda=10, subsample=0.7; total time=   2.5s\n",
      "[CV] END colsample_bytree=0.7, gamma=0.3, learning_rate=0.01, max_depth=7, n_estimators=500, reg_alpha=1, reg_lambda=10, subsample=1.0; total time=   2.5s\n",
      "[CV] END colsample_bytree=0.7, gamma=0.3, learning_rate=0.01, max_depth=7, n_estimators=500, reg_alpha=1, reg_lambda=10, subsample=0.7; total time=   2.7s\n",
      "[CV] END colsample_bytree=0.7, gamma=0.3, learning_rate=0.01, max_depth=7, n_estimators=1000, reg_alpha=0, reg_lambda=1, subsample=1.0; total time=   4.5s\n",
      "[CV] END colsample_bytree=0.7, gamma=0.3, learning_rate=0.01, max_depth=7, n_estimators=1000, reg_alpha=0, reg_lambda=1, subsample=1.0; total time=   4.5s\n",
      "[CV] END colsample_bytree=0.7, gamma=0.3, learning_rate=0.01, max_depth=7, n_estimators=1000, reg_alpha=0, reg_lambda=1, subsample=1.0; total time=   4.7s\n",
      "[CV] END colsample_bytree=0.7, gamma=0.3, learning_rate=0.01, max_depth=7, n_estimators=1000, reg_alpha=0, reg_lambda=1, subsample=0.7; total time=   5.0s\n",
      "[CV] END colsample_bytree=0.7, gamma=0.3, learning_rate=0.01, max_depth=7, n_estimators=1000, reg_alpha=0, reg_lambda=1, subsample=0.7; total time=   5.0s\n",
      "[CV] END colsample_bytree=0.7, gamma=0.3, learning_rate=0.01, max_depth=7, n_estimators=1000, reg_alpha=0, reg_lambda=10, subsample=0.7; total time=   4.8s\n",
      "[CV] END colsample_bytree=0.7, gamma=0.3, learning_rate=0.01, max_depth=7, n_estimators=1000, reg_alpha=0, reg_lambda=1, subsample=0.7; total time=   5.1s\n",
      "[CV] END colsample_bytree=0.7, gamma=0.3, learning_rate=0.01, max_depth=7, n_estimators=1000, reg_alpha=0, reg_lambda=10, subsample=0.7; total time=   4.8s\n",
      "[CV] END colsample_bytree=0.7, gamma=0.3, learning_rate=0.01, max_depth=7, n_estimators=1000, reg_alpha=0, reg_lambda=10, subsample=1.0; total time=   4.5s\n",
      "[CV] END colsample_bytree=0.7, gamma=0.3, learning_rate=0.01, max_depth=7, n_estimators=1000, reg_alpha=0, reg_lambda=10, subsample=0.7; total time=   4.6s\n",
      "[CV] END colsample_bytree=0.7, gamma=0.3, learning_rate=0.01, max_depth=7, n_estimators=1000, reg_alpha=0, reg_lambda=10, subsample=1.0; total time=   4.4s\n",
      "[CV] END colsample_bytree=0.7, gamma=0.3, learning_rate=0.01, max_depth=7, n_estimators=1000, reg_alpha=0, reg_lambda=10, subsample=1.0; total time=   4.6s\n",
      "[CV] END colsample_bytree=0.7, gamma=0.3, learning_rate=0.01, max_depth=7, n_estimators=1000, reg_alpha=1, reg_lambda=1, subsample=1.0; total time=   4.5s\n",
      "[CV] END colsample_bytree=0.7, gamma=0.3, learning_rate=0.01, max_depth=7, n_estimators=1000, reg_alpha=1, reg_lambda=1, subsample=0.7; total time=   4.8s\n",
      "[CV] END colsample_bytree=0.7, gamma=0.3, learning_rate=0.01, max_depth=7, n_estimators=1000, reg_alpha=1, reg_lambda=1, subsample=0.7; total time=   4.8s\n",
      "[CV] END colsample_bytree=0.7, gamma=0.3, learning_rate=0.01, max_depth=7, n_estimators=1000, reg_alpha=1, reg_lambda=1, subsample=0.7; total time=   5.3s\n",
      "[CV] END colsample_bytree=0.7, gamma=0.3, learning_rate=0.01, max_depth=7, n_estimators=1000, reg_alpha=1, reg_lambda=1, subsample=1.0; total time=   4.6s\n",
      "[CV] END colsample_bytree=0.7, gamma=0.3, learning_rate=0.01, max_depth=7, n_estimators=1000, reg_alpha=1, reg_lambda=1, subsample=1.0; total time=   4.6s\n",
      "[CV] END colsample_bytree=0.7, gamma=0.3, learning_rate=0.01, max_depth=7, n_estimators=1000, reg_alpha=1, reg_lambda=10, subsample=1.0; total time=   4.4s\n",
      "[CV] END colsample_bytree=0.7, gamma=0.3, learning_rate=0.1, max_depth=5, n_estimators=100, reg_alpha=0, reg_lambda=1, subsample=0.7; total time=   0.3s\n",
      "[CV] END colsample_bytree=0.7, gamma=0.3, learning_rate=0.1, max_depth=5, n_estimators=100, reg_alpha=0, reg_lambda=1, subsample=0.7; total time=   0.3s\n",
      "[CV] END colsample_bytree=0.7, gamma=0.3, learning_rate=0.01, max_depth=7, n_estimators=1000, reg_alpha=1, reg_lambda=10, subsample=0.7; total time=   4.9s\n",
      "[CV] END colsample_bytree=0.7, gamma=0.3, learning_rate=0.01, max_depth=7, n_estimators=1000, reg_alpha=1, reg_lambda=10, subsample=0.7; total time=   5.0s\n",
      "[CV] END colsample_bytree=0.7, gamma=0.3, learning_rate=0.01, max_depth=7, n_estimators=1000, reg_alpha=1, reg_lambda=10, subsample=1.0; total time=   4.4s\n",
      "[CV] END colsample_bytree=0.7, gamma=0.3, learning_rate=0.1, max_depth=5, n_estimators=100, reg_alpha=0, reg_lambda=1, subsample=1.0; total time=   0.2s\n",
      "[CV] END colsample_bytree=0.7, gamma=0.3, learning_rate=0.1, max_depth=5, n_estimators=100, reg_alpha=0, reg_lambda=1, subsample=0.7; total time=   0.3s\n",
      "[CV] END colsample_bytree=0.7, gamma=0.3, learning_rate=0.1, max_depth=5, n_estimators=100, reg_alpha=0, reg_lambda=1, subsample=1.0; total time=   0.3s\n",
      "[CV] END colsample_bytree=0.7, gamma=0.3, learning_rate=0.1, max_depth=5, n_estimators=100, reg_alpha=0, reg_lambda=1, subsample=1.0; total time=   0.3s\n",
      "[CV] END colsample_bytree=0.7, gamma=0.3, learning_rate=0.01, max_depth=7, n_estimators=1000, reg_alpha=1, reg_lambda=10, subsample=0.7; total time=   4.9s\n",
      "[CV] END colsample_bytree=0.7, gamma=0.3, learning_rate=0.1, max_depth=5, n_estimators=100, reg_alpha=0, reg_lambda=10, subsample=0.7; total time=   0.3s\n",
      "[CV] END colsample_bytree=0.7, gamma=0.3, learning_rate=0.1, max_depth=5, n_estimators=100, reg_alpha=0, reg_lambda=10, subsample=0.7; total time=   0.3s\n",
      "[CV] END colsample_bytree=0.7, gamma=0.3, learning_rate=0.1, max_depth=5, n_estimators=100, reg_alpha=0, reg_lambda=10, subsample=0.7; total time=   0.3s\n",
      "[CV] END colsample_bytree=0.7, gamma=0.3, learning_rate=0.1, max_depth=5, n_estimators=100, reg_alpha=0, reg_lambda=10, subsample=1.0; total time=   0.3s\n",
      "[CV] END colsample_bytree=0.7, gamma=0.3, learning_rate=0.1, max_depth=5, n_estimators=100, reg_alpha=0, reg_lambda=10, subsample=1.0; total time=   0.3s\n",
      "[CV] END colsample_bytree=0.7, gamma=0.3, learning_rate=0.1, max_depth=5, n_estimators=100, reg_alpha=0, reg_lambda=10, subsample=1.0; total time=   0.2s\n",
      "[CV] END colsample_bytree=0.7, gamma=0.3, learning_rate=0.01, max_depth=7, n_estimators=1000, reg_alpha=1, reg_lambda=10, subsample=1.0; total time=   4.5s\n",
      "[CV] END colsample_bytree=0.7, gamma=0.3, learning_rate=0.1, max_depth=5, n_estimators=100, reg_alpha=1, reg_lambda=1, subsample=0.7; total time=   0.3s\n",
      "[CV] END colsample_bytree=0.7, gamma=0.3, learning_rate=0.1, max_depth=5, n_estimators=100, reg_alpha=1, reg_lambda=1, subsample=0.7; total time=   0.3s\n",
      "[CV] END colsample_bytree=0.7, gamma=0.3, learning_rate=0.1, max_depth=5, n_estimators=100, reg_alpha=1, reg_lambda=1, subsample=0.7; total time=   0.3s\n",
      "[CV] END colsample_bytree=0.7, gamma=0.3, learning_rate=0.1, max_depth=5, n_estimators=100, reg_alpha=1, reg_lambda=1, subsample=1.0; total time=   0.2s\n",
      "[CV] END colsample_bytree=0.7, gamma=0.3, learning_rate=0.1, max_depth=5, n_estimators=100, reg_alpha=1, reg_lambda=1, subsample=1.0; total time=   0.3s\n",
      "[CV] END colsample_bytree=0.7, gamma=0.3, learning_rate=0.1, max_depth=5, n_estimators=100, reg_alpha=1, reg_lambda=1, subsample=1.0; total time=   0.3s\n",
      "[CV] END colsample_bytree=0.7, gamma=0.3, learning_rate=0.1, max_depth=5, n_estimators=100, reg_alpha=1, reg_lambda=10, subsample=0.7; total time=   0.3s\n",
      "[CV] END colsample_bytree=0.7, gamma=0.3, learning_rate=0.1, max_depth=5, n_estimators=100, reg_alpha=1, reg_lambda=10, subsample=0.7; total time=   0.3s\n",
      "[CV] END colsample_bytree=0.7, gamma=0.3, learning_rate=0.1, max_depth=5, n_estimators=100, reg_alpha=1, reg_lambda=10, subsample=1.0; total time=   0.2s\n",
      "[CV] END colsample_bytree=0.7, gamma=0.3, learning_rate=0.1, max_depth=5, n_estimators=100, reg_alpha=1, reg_lambda=10, subsample=0.7; total time=   0.3s\n",
      "[CV] END colsample_bytree=0.7, gamma=0.3, learning_rate=0.1, max_depth=5, n_estimators=100, reg_alpha=1, reg_lambda=10, subsample=1.0; total time=   0.3s\n",
      "[CV] END colsample_bytree=0.7, gamma=0.3, learning_rate=0.1, max_depth=5, n_estimators=100, reg_alpha=1, reg_lambda=10, subsample=1.0; total time=   0.2s\n",
      "[CV] END colsample_bytree=0.7, gamma=0.3, learning_rate=0.1, max_depth=5, n_estimators=500, reg_alpha=0, reg_lambda=1, subsample=1.0; total time=   1.1s\n",
      "[CV] END colsample_bytree=0.7, gamma=0.3, learning_rate=0.1, max_depth=5, n_estimators=500, reg_alpha=0, reg_lambda=1, subsample=0.7; total time=   1.2s\n",
      "[CV] END colsample_bytree=0.7, gamma=0.3, learning_rate=0.1, max_depth=5, n_estimators=500, reg_alpha=0, reg_lambda=1, subsample=1.0; total time=   1.1s\n",
      "[CV] END colsample_bytree=0.7, gamma=0.3, learning_rate=0.1, max_depth=5, n_estimators=500, reg_alpha=0, reg_lambda=1, subsample=1.0; total time=   1.1s\n",
      "[CV] END colsample_bytree=0.7, gamma=0.3, learning_rate=0.1, max_depth=5, n_estimators=500, reg_alpha=0, reg_lambda=1, subsample=0.7; total time=   1.3s\n",
      "[CV] END colsample_bytree=0.7, gamma=0.3, learning_rate=0.1, max_depth=5, n_estimators=500, reg_alpha=0, reg_lambda=1, subsample=0.7; total time=   1.2s\n",
      "[CV] END colsample_bytree=0.7, gamma=0.3, learning_rate=0.1, max_depth=5, n_estimators=500, reg_alpha=0, reg_lambda=10, subsample=0.7; total time=   1.2s\n",
      "[CV] END colsample_bytree=0.7, gamma=0.3, learning_rate=0.1, max_depth=5, n_estimators=500, reg_alpha=0, reg_lambda=10, subsample=0.7; total time=   1.2s\n",
      "[CV] END colsample_bytree=0.7, gamma=0.3, learning_rate=0.1, max_depth=5, n_estimators=500, reg_alpha=0, reg_lambda=10, subsample=1.0; total time=   1.0s\n",
      "[CV] END colsample_bytree=0.7, gamma=0.3, learning_rate=0.1, max_depth=5, n_estimators=500, reg_alpha=0, reg_lambda=10, subsample=1.0; total time=   1.0s\n",
      "[CV] END colsample_bytree=0.7, gamma=0.3, learning_rate=0.1, max_depth=5, n_estimators=500, reg_alpha=0, reg_lambda=10, subsample=0.7; total time=   1.2s\n",
      "[CV] END colsample_bytree=0.7, gamma=0.3, learning_rate=0.1, max_depth=5, n_estimators=500, reg_alpha=0, reg_lambda=10, subsample=1.0; total time=   1.1s\n",
      "[CV] END colsample_bytree=0.7, gamma=0.3, learning_rate=0.1, max_depth=5, n_estimators=500, reg_alpha=1, reg_lambda=1, subsample=0.7; total time=   1.2s\n",
      "[CV] END colsample_bytree=0.7, gamma=0.3, learning_rate=0.1, max_depth=5, n_estimators=500, reg_alpha=1, reg_lambda=1, subsample=0.7; total time=   1.3s\n",
      "[CV] END colsample_bytree=0.7, gamma=0.3, learning_rate=0.1, max_depth=5, n_estimators=500, reg_alpha=1, reg_lambda=1, subsample=1.0; total time=   1.1s\n",
      "[CV] END colsample_bytree=0.7, gamma=0.3, learning_rate=0.1, max_depth=5, n_estimators=500, reg_alpha=1, reg_lambda=1, subsample=0.7; total time=   1.2s\n",
      "[CV] END colsample_bytree=0.7, gamma=0.3, learning_rate=0.1, max_depth=5, n_estimators=500, reg_alpha=1, reg_lambda=1, subsample=1.0; total time=   1.1s\n",
      "[CV] END colsample_bytree=0.7, gamma=0.3, learning_rate=0.1, max_depth=5, n_estimators=500, reg_alpha=1, reg_lambda=1, subsample=1.0; total time=   1.1s\n",
      "[CV] END colsample_bytree=0.7, gamma=0.3, learning_rate=0.1, max_depth=5, n_estimators=500, reg_alpha=1, reg_lambda=10, subsample=1.0; total time=   1.1s\n",
      "[CV] END colsample_bytree=0.7, gamma=0.3, learning_rate=0.1, max_depth=5, n_estimators=500, reg_alpha=1, reg_lambda=10, subsample=0.7; total time=   1.2s\n",
      "[CV] END colsample_bytree=0.7, gamma=0.3, learning_rate=0.1, max_depth=5, n_estimators=500, reg_alpha=1, reg_lambda=10, subsample=1.0; total time=   1.0s\n",
      "[CV] END colsample_bytree=0.7, gamma=0.3, learning_rate=0.1, max_depth=5, n_estimators=500, reg_alpha=1, reg_lambda=10, subsample=1.0; total time=   1.1s\n",
      "[CV] END colsample_bytree=0.7, gamma=0.3, learning_rate=0.1, max_depth=5, n_estimators=500, reg_alpha=1, reg_lambda=10, subsample=0.7; total time=   1.3s\n",
      "[CV] END colsample_bytree=0.7, gamma=0.3, learning_rate=0.1, max_depth=5, n_estimators=500, reg_alpha=1, reg_lambda=10, subsample=0.7; total time=   1.2s\n",
      "[CV] END colsample_bytree=0.7, gamma=0.3, learning_rate=0.1, max_depth=5, n_estimators=1000, reg_alpha=0, reg_lambda=1, subsample=1.0; total time=   2.1s\n",
      "[CV] END colsample_bytree=0.7, gamma=0.3, learning_rate=0.1, max_depth=5, n_estimators=1000, reg_alpha=0, reg_lambda=1, subsample=1.0; total time=   2.2s\n",
      "[CV] END colsample_bytree=0.7, gamma=0.3, learning_rate=0.1, max_depth=5, n_estimators=1000, reg_alpha=0, reg_lambda=1, subsample=1.0; total time=   2.3s\n",
      "[CV] END colsample_bytree=0.7, gamma=0.3, learning_rate=0.1, max_depth=5, n_estimators=1000, reg_alpha=0, reg_lambda=1, subsample=0.7; total time=   2.5s\n",
      "[CV] END colsample_bytree=0.7, gamma=0.3, learning_rate=0.1, max_depth=5, n_estimators=1000, reg_alpha=0, reg_lambda=1, subsample=0.7; total time=   2.6s\n",
      "[CV] END colsample_bytree=0.7, gamma=0.3, learning_rate=0.1, max_depth=5, n_estimators=1000, reg_alpha=0, reg_lambda=1, subsample=0.7; total time=   2.7s\n",
      "[CV] END colsample_bytree=0.7, gamma=0.3, learning_rate=0.1, max_depth=5, n_estimators=1000, reg_alpha=0, reg_lambda=10, subsample=0.7; total time=   2.6s\n",
      "[CV] END colsample_bytree=0.7, gamma=0.3, learning_rate=0.1, max_depth=5, n_estimators=1000, reg_alpha=0, reg_lambda=10, subsample=0.7; total time=   2.7s\n",
      "[CV] END colsample_bytree=0.7, gamma=0.3, learning_rate=0.1, max_depth=5, n_estimators=1000, reg_alpha=0, reg_lambda=10, subsample=1.0; total time=   2.1s\n",
      "[CV] END colsample_bytree=0.7, gamma=0.3, learning_rate=0.1, max_depth=5, n_estimators=1000, reg_alpha=0, reg_lambda=10, subsample=1.0; total time=   2.1s\n",
      "[CV] END colsample_bytree=0.7, gamma=0.3, learning_rate=0.1, max_depth=5, n_estimators=1000, reg_alpha=0, reg_lambda=10, subsample=1.0; total time=   2.1s\n",
      "[CV] END colsample_bytree=0.7, gamma=0.3, learning_rate=0.1, max_depth=5, n_estimators=1000, reg_alpha=0, reg_lambda=10, subsample=0.7; total time=   2.5s\n",
      "[CV] END colsample_bytree=0.7, gamma=0.3, learning_rate=0.1, max_depth=5, n_estimators=1000, reg_alpha=1, reg_lambda=1, subsample=0.7; total time=   2.4s\n",
      "[CV] END colsample_bytree=0.7, gamma=0.3, learning_rate=0.1, max_depth=5, n_estimators=1000, reg_alpha=1, reg_lambda=1, subsample=1.0; total time=   2.1s\n",
      "[CV] END colsample_bytree=0.7, gamma=0.3, learning_rate=0.1, max_depth=5, n_estimators=1000, reg_alpha=1, reg_lambda=1, subsample=0.7; total time=   2.4s\n",
      "[CV] END colsample_bytree=0.7, gamma=0.3, learning_rate=0.1, max_depth=5, n_estimators=1000, reg_alpha=1, reg_lambda=1, subsample=0.7; total time=   2.5s\n",
      "[CV] END colsample_bytree=0.7, gamma=0.3, learning_rate=0.1, max_depth=5, n_estimators=1000, reg_alpha=1, reg_lambda=1, subsample=1.0; total time=   2.0s\n",
      "[CV] END colsample_bytree=0.7, gamma=0.3, learning_rate=0.1, max_depth=5, n_estimators=1000, reg_alpha=1, reg_lambda=1, subsample=1.0; total time=   2.1s\n",
      "[CV] END colsample_bytree=0.7, gamma=0.3, learning_rate=0.1, max_depth=7, n_estimators=100, reg_alpha=0, reg_lambda=1, subsample=0.7; total time=   0.6s\n",
      "[CV] END colsample_bytree=0.7, gamma=0.3, learning_rate=0.1, max_depth=7, n_estimators=100, reg_alpha=0, reg_lambda=1, subsample=0.7; total time=   0.5s\n",
      "[CV] END colsample_bytree=0.7, gamma=0.3, learning_rate=0.1, max_depth=5, n_estimators=1000, reg_alpha=1, reg_lambda=10, subsample=0.7; total time=   2.5s\n",
      "[CV] END colsample_bytree=0.7, gamma=0.3, learning_rate=0.1, max_depth=5, n_estimators=1000, reg_alpha=1, reg_lambda=10, subsample=1.0; total time=   2.1s\n",
      "[CV] END colsample_bytree=0.7, gamma=0.3, learning_rate=0.1, max_depth=5, n_estimators=1000, reg_alpha=1, reg_lambda=10, subsample=0.7; total time=   2.5s\n",
      "[CV] END colsample_bytree=0.7, gamma=0.3, learning_rate=0.1, max_depth=5, n_estimators=1000, reg_alpha=1, reg_lambda=10, subsample=0.7; total time=   2.5s\n",
      "[CV] END colsample_bytree=0.7, gamma=0.3, learning_rate=0.1, max_depth=5, n_estimators=1000, reg_alpha=1, reg_lambda=10, subsample=1.0; total time=   2.2s\n",
      "[CV] END colsample_bytree=0.7, gamma=0.3, learning_rate=0.1, max_depth=7, n_estimators=100, reg_alpha=0, reg_lambda=1, subsample=0.7; total time=   0.5s\n",
      "[CV] END colsample_bytree=0.7, gamma=0.3, learning_rate=0.1, max_depth=5, n_estimators=1000, reg_alpha=1, reg_lambda=10, subsample=1.0; total time=   2.2s\n",
      "[CV] END colsample_bytree=0.7, gamma=0.3, learning_rate=0.1, max_depth=7, n_estimators=100, reg_alpha=0, reg_lambda=1, subsample=1.0; total time=   0.5s\n",
      "[CV] END colsample_bytree=0.7, gamma=0.3, learning_rate=0.1, max_depth=7, n_estimators=100, reg_alpha=0, reg_lambda=1, subsample=1.0; total time=   0.4s\n",
      "[CV] END colsample_bytree=0.7, gamma=0.3, learning_rate=0.1, max_depth=7, n_estimators=100, reg_alpha=0, reg_lambda=1, subsample=1.0; total time=   0.5s\n",
      "[CV] END colsample_bytree=0.7, gamma=0.3, learning_rate=0.1, max_depth=7, n_estimators=100, reg_alpha=0, reg_lambda=10, subsample=0.7; total time=   0.4s\n",
      "[CV] END colsample_bytree=0.7, gamma=0.3, learning_rate=0.1, max_depth=7, n_estimators=100, reg_alpha=0, reg_lambda=10, subsample=0.7; total time=   0.5s\n",
      "[CV] END colsample_bytree=0.7, gamma=0.3, learning_rate=0.1, max_depth=7, n_estimators=100, reg_alpha=0, reg_lambda=10, subsample=0.7; total time=   0.5s\n",
      "[CV] END colsample_bytree=0.7, gamma=0.3, learning_rate=0.1, max_depth=7, n_estimators=100, reg_alpha=0, reg_lambda=10, subsample=1.0; total time=   0.4s\n",
      "[CV] END colsample_bytree=0.7, gamma=0.3, learning_rate=0.1, max_depth=7, n_estimators=100, reg_alpha=0, reg_lambda=10, subsample=1.0; total time=   0.5s\n",
      "[CV] END colsample_bytree=0.7, gamma=0.3, learning_rate=0.1, max_depth=7, n_estimators=100, reg_alpha=0, reg_lambda=10, subsample=1.0; total time=   0.5s\n",
      "[CV] END colsample_bytree=0.7, gamma=0.3, learning_rate=0.1, max_depth=7, n_estimators=100, reg_alpha=1, reg_lambda=1, subsample=0.7; total time=   0.5s\n",
      "[CV] END colsample_bytree=0.7, gamma=0.3, learning_rate=0.1, max_depth=7, n_estimators=100, reg_alpha=1, reg_lambda=1, subsample=0.7; total time=   0.5s\n",
      "[CV] END colsample_bytree=0.7, gamma=0.3, learning_rate=0.1, max_depth=7, n_estimators=100, reg_alpha=1, reg_lambda=1, subsample=0.7; total time=   0.6s\n",
      "[CV] END colsample_bytree=0.7, gamma=0.3, learning_rate=0.1, max_depth=7, n_estimators=100, reg_alpha=1, reg_lambda=1, subsample=1.0; total time=   0.5s\n",
      "[CV] END colsample_bytree=0.7, gamma=0.3, learning_rate=0.1, max_depth=7, n_estimators=100, reg_alpha=1, reg_lambda=1, subsample=1.0; total time=   0.5s\n",
      "[CV] END colsample_bytree=0.7, gamma=0.3, learning_rate=0.1, max_depth=7, n_estimators=100, reg_alpha=1, reg_lambda=1, subsample=1.0; total time=   0.5s\n",
      "[CV] END colsample_bytree=0.7, gamma=0.3, learning_rate=0.1, max_depth=7, n_estimators=100, reg_alpha=1, reg_lambda=10, subsample=0.7; total time=   0.6s\n",
      "[CV] END colsample_bytree=0.7, gamma=0.3, learning_rate=0.1, max_depth=7, n_estimators=100, reg_alpha=1, reg_lambda=10, subsample=0.7; total time=   0.5s\n",
      "[CV] END colsample_bytree=0.7, gamma=0.3, learning_rate=0.1, max_depth=7, n_estimators=100, reg_alpha=1, reg_lambda=10, subsample=0.7; total time=   0.5s\n",
      "[CV] END colsample_bytree=0.7, gamma=0.3, learning_rate=0.1, max_depth=7, n_estimators=100, reg_alpha=1, reg_lambda=10, subsample=1.0; total time=   0.5s\n",
      "[CV] END colsample_bytree=0.7, gamma=0.3, learning_rate=0.1, max_depth=7, n_estimators=100, reg_alpha=1, reg_lambda=10, subsample=1.0; total time=   0.6s\n",
      "[CV] END colsample_bytree=0.7, gamma=0.3, learning_rate=0.1, max_depth=7, n_estimators=100, reg_alpha=1, reg_lambda=10, subsample=1.0; total time=   0.5s\n",
      "[CV] END colsample_bytree=0.7, gamma=0.3, learning_rate=0.1, max_depth=7, n_estimators=500, reg_alpha=0, reg_lambda=1, subsample=1.0; total time=   2.3s\n",
      "[CV] END colsample_bytree=0.7, gamma=0.3, learning_rate=0.1, max_depth=7, n_estimators=500, reg_alpha=0, reg_lambda=1, subsample=1.0; total time=   2.3s\n",
      "[CV] END colsample_bytree=0.7, gamma=0.3, learning_rate=0.1, max_depth=7, n_estimators=500, reg_alpha=0, reg_lambda=1, subsample=0.7; total time=   2.6s\n",
      "[CV] END colsample_bytree=0.7, gamma=0.3, learning_rate=0.1, max_depth=7, n_estimators=500, reg_alpha=0, reg_lambda=1, subsample=1.0; total time=   2.4s\n",
      "[CV] END colsample_bytree=0.7, gamma=0.3, learning_rate=0.1, max_depth=7, n_estimators=500, reg_alpha=0, reg_lambda=1, subsample=0.7; total time=   2.6s\n",
      "[CV] END colsample_bytree=0.7, gamma=0.3, learning_rate=0.1, max_depth=7, n_estimators=500, reg_alpha=0, reg_lambda=1, subsample=0.7; total time=   2.5s\n",
      "[CV] END colsample_bytree=0.7, gamma=0.3, learning_rate=0.1, max_depth=7, n_estimators=500, reg_alpha=0, reg_lambda=10, subsample=0.7; total time=   2.5s\n",
      "[CV] END colsample_bytree=0.7, gamma=0.3, learning_rate=0.1, max_depth=7, n_estimators=500, reg_alpha=0, reg_lambda=10, subsample=0.7; total time=   2.5s\n",
      "[CV] END colsample_bytree=0.7, gamma=0.3, learning_rate=0.1, max_depth=7, n_estimators=500, reg_alpha=0, reg_lambda=10, subsample=1.0; total time=   2.4s\n",
      "[CV] END colsample_bytree=0.7, gamma=0.3, learning_rate=0.1, max_depth=7, n_estimators=500, reg_alpha=0, reg_lambda=10, subsample=1.0; total time=   2.4s\n",
      "[CV] END colsample_bytree=0.7, gamma=0.3, learning_rate=0.1, max_depth=7, n_estimators=500, reg_alpha=0, reg_lambda=10, subsample=1.0; total time=   2.5s\n",
      "[CV] END colsample_bytree=0.7, gamma=0.3, learning_rate=0.1, max_depth=7, n_estimators=500, reg_alpha=0, reg_lambda=10, subsample=0.7; total time=   2.6s\n",
      "[CV] END colsample_bytree=0.7, gamma=0.3, learning_rate=0.1, max_depth=7, n_estimators=500, reg_alpha=1, reg_lambda=1, subsample=0.7; total time=   2.8s\n",
      "[CV] END colsample_bytree=0.7, gamma=0.3, learning_rate=0.1, max_depth=7, n_estimators=500, reg_alpha=1, reg_lambda=1, subsample=0.7; total time=   2.6s\n",
      "[CV] END colsample_bytree=0.7, gamma=0.3, learning_rate=0.1, max_depth=7, n_estimators=500, reg_alpha=1, reg_lambda=1, subsample=1.0; total time=   2.5s\n",
      "[CV] END colsample_bytree=0.7, gamma=0.3, learning_rate=0.1, max_depth=7, n_estimators=500, reg_alpha=1, reg_lambda=1, subsample=0.7; total time=   2.8s\n",
      "[CV] END colsample_bytree=0.7, gamma=0.3, learning_rate=0.1, max_depth=7, n_estimators=500, reg_alpha=1, reg_lambda=1, subsample=1.0; total time=   2.2s\n",
      "[CV] END colsample_bytree=0.7, gamma=0.3, learning_rate=0.1, max_depth=7, n_estimators=500, reg_alpha=1, reg_lambda=1, subsample=1.0; total time=   2.2s\n",
      "[CV] END colsample_bytree=0.7, gamma=0.3, learning_rate=0.1, max_depth=7, n_estimators=500, reg_alpha=1, reg_lambda=10, subsample=0.7; total time=   2.4s\n",
      "[CV] END colsample_bytree=0.7, gamma=0.3, learning_rate=0.1, max_depth=7, n_estimators=500, reg_alpha=1, reg_lambda=10, subsample=0.7; total time=   2.5s\n",
      "[CV] END colsample_bytree=0.7, gamma=0.3, learning_rate=0.1, max_depth=7, n_estimators=500, reg_alpha=1, reg_lambda=10, subsample=1.0; total time=   2.1s\n",
      "[CV] END colsample_bytree=0.7, gamma=0.3, learning_rate=0.1, max_depth=7, n_estimators=500, reg_alpha=1, reg_lambda=10, subsample=1.0; total time=   2.2s\n",
      "[CV] END colsample_bytree=0.7, gamma=0.3, learning_rate=0.1, max_depth=7, n_estimators=500, reg_alpha=1, reg_lambda=10, subsample=1.0; total time=   2.3s\n",
      "[CV] END colsample_bytree=0.7, gamma=0.3, learning_rate=0.1, max_depth=7, n_estimators=500, reg_alpha=1, reg_lambda=10, subsample=0.7; total time=   2.6s\n",
      "[CV] END colsample_bytree=0.7, gamma=0.3, learning_rate=0.1, max_depth=7, n_estimators=1000, reg_alpha=0, reg_lambda=1, subsample=1.0; total time=   4.4s\n",
      "[CV] END colsample_bytree=0.7, gamma=0.3, learning_rate=0.1, max_depth=7, n_estimators=1000, reg_alpha=0, reg_lambda=1, subsample=0.7; total time=   5.1s\n",
      "[CV] END colsample_bytree=0.7, gamma=0.3, learning_rate=0.1, max_depth=7, n_estimators=1000, reg_alpha=0, reg_lambda=1, subsample=0.7; total time=   5.1s\n",
      "[CV] END colsample_bytree=0.7, gamma=0.3, learning_rate=0.1, max_depth=7, n_estimators=1000, reg_alpha=0, reg_lambda=1, subsample=1.0; total time=   4.7s\n",
      "[CV] END colsample_bytree=0.7, gamma=0.3, learning_rate=0.1, max_depth=7, n_estimators=1000, reg_alpha=0, reg_lambda=1, subsample=1.0; total time=   4.8s\n",
      "[CV] END colsample_bytree=0.7, gamma=0.3, learning_rate=0.1, max_depth=7, n_estimators=1000, reg_alpha=0, reg_lambda=1, subsample=0.7; total time=   5.3s\n",
      "[CV] END colsample_bytree=0.7, gamma=0.3, learning_rate=0.1, max_depth=7, n_estimators=1000, reg_alpha=0, reg_lambda=10, subsample=0.7; total time=   5.4s\n",
      "[CV] END colsample_bytree=0.7, gamma=0.3, learning_rate=0.1, max_depth=7, n_estimators=1000, reg_alpha=0, reg_lambda=10, subsample=0.7; total time=   5.3s\n",
      "[CV] END colsample_bytree=0.7, gamma=0.3, learning_rate=0.1, max_depth=7, n_estimators=1000, reg_alpha=0, reg_lambda=10, subsample=1.0; total time=   4.9s\n",
      "[CV] END colsample_bytree=0.7, gamma=0.3, learning_rate=0.1, max_depth=7, n_estimators=1000, reg_alpha=0, reg_lambda=10, subsample=1.0; total time=   5.0s\n",
      "[CV] END colsample_bytree=0.7, gamma=0.3, learning_rate=0.1, max_depth=7, n_estimators=1000, reg_alpha=0, reg_lambda=10, subsample=1.0; total time=   5.0s\n",
      "[CV] END colsample_bytree=0.7, gamma=0.3, learning_rate=0.1, max_depth=7, n_estimators=1000, reg_alpha=0, reg_lambda=10, subsample=0.7; total time=   5.5s\n",
      "[CV] END colsample_bytree=0.7, gamma=0.3, learning_rate=0.1, max_depth=7, n_estimators=1000, reg_alpha=1, reg_lambda=1, subsample=0.7; total time=   5.6s\n",
      "[CV] END colsample_bytree=0.7, gamma=0.3, learning_rate=0.1, max_depth=7, n_estimators=1000, reg_alpha=1, reg_lambda=1, subsample=0.7; total time=   5.6s\n",
      "[CV] END colsample_bytree=0.7, gamma=0.3, learning_rate=0.1, max_depth=7, n_estimators=1000, reg_alpha=1, reg_lambda=1, subsample=1.0; total time=   5.1s\n",
      "[CV] END colsample_bytree=0.7, gamma=0.3, learning_rate=0.1, max_depth=7, n_estimators=1000, reg_alpha=1, reg_lambda=1, subsample=0.7; total time=   5.3s\n",
      "[CV] END colsample_bytree=0.7, gamma=0.3, learning_rate=0.1, max_depth=7, n_estimators=1000, reg_alpha=1, reg_lambda=1, subsample=1.0; total time=   4.4s\n",
      "[CV] END colsample_bytree=0.7, gamma=0.3, learning_rate=0.1, max_depth=7, n_estimators=1000, reg_alpha=1, reg_lambda=1, subsample=1.0; total time=   4.7s\n",
      "[CV] END colsample_bytree=1.0, gamma=0.1, learning_rate=0.01, max_depth=5, n_estimators=100, reg_alpha=0, reg_lambda=1, subsample=0.7; total time=   0.6s\n",
      "[CV] END colsample_bytree=1.0, gamma=0.1, learning_rate=0.01, max_depth=5, n_estimators=100, reg_alpha=0, reg_lambda=1, subsample=0.7; total time=   0.4s\n",
      "[CV] END colsample_bytree=0.7, gamma=0.3, learning_rate=0.1, max_depth=7, n_estimators=1000, reg_alpha=1, reg_lambda=10, subsample=0.7; total time=   5.2s\n",
      "[CV] END colsample_bytree=0.7, gamma=0.3, learning_rate=0.1, max_depth=7, n_estimators=1000, reg_alpha=1, reg_lambda=10, subsample=0.7; total time=   5.1s\n",
      "[CV] END colsample_bytree=1.0, gamma=0.1, learning_rate=0.01, max_depth=5, n_estimators=100, reg_alpha=0, reg_lambda=1, subsample=0.7; total time=   0.5s\n",
      "[CV] END colsample_bytree=1.0, gamma=0.1, learning_rate=0.01, max_depth=5, n_estimators=100, reg_alpha=0, reg_lambda=1, subsample=1.0; total time=   0.5s\n",
      "[CV] END colsample_bytree=1.0, gamma=0.1, learning_rate=0.01, max_depth=5, n_estimators=100, reg_alpha=0, reg_lambda=1, subsample=1.0; total time=   0.4s\n",
      "[CV] END colsample_bytree=1.0, gamma=0.1, learning_rate=0.01, max_depth=5, n_estimators=100, reg_alpha=0, reg_lambda=1, subsample=1.0; total time=   0.4s\n",
      "[CV] END colsample_bytree=0.7, gamma=0.3, learning_rate=0.1, max_depth=7, n_estimators=1000, reg_alpha=1, reg_lambda=10, subsample=1.0; total time=   4.8s\n",
      "[CV] END colsample_bytree=0.7, gamma=0.3, learning_rate=0.1, max_depth=7, n_estimators=1000, reg_alpha=1, reg_lambda=10, subsample=1.0; total time=   4.8s\n",
      "[CV] END colsample_bytree=1.0, gamma=0.1, learning_rate=0.01, max_depth=5, n_estimators=100, reg_alpha=0, reg_lambda=10, subsample=0.7; total time=   0.3s\n",
      "[CV] END colsample_bytree=0.7, gamma=0.3, learning_rate=0.1, max_depth=7, n_estimators=1000, reg_alpha=1, reg_lambda=10, subsample=1.0; total time=   4.8s\n",
      "[CV] END colsample_bytree=1.0, gamma=0.1, learning_rate=0.01, max_depth=5, n_estimators=100, reg_alpha=0, reg_lambda=10, subsample=0.7; total time=   0.3s\n",
      "[CV] END colsample_bytree=0.7, gamma=0.3, learning_rate=0.1, max_depth=7, n_estimators=1000, reg_alpha=1, reg_lambda=10, subsample=0.7; total time=   5.5s\n",
      "[CV] END colsample_bytree=1.0, gamma=0.1, learning_rate=0.01, max_depth=5, n_estimators=100, reg_alpha=0, reg_lambda=10, subsample=0.7; total time=   0.4s\n",
      "[CV] END colsample_bytree=1.0, gamma=0.1, learning_rate=0.01, max_depth=5, n_estimators=100, reg_alpha=0, reg_lambda=10, subsample=1.0; total time=   0.4s\n",
      "[CV] END colsample_bytree=1.0, gamma=0.1, learning_rate=0.01, max_depth=5, n_estimators=100, reg_alpha=0, reg_lambda=10, subsample=1.0; total time=   0.4s\n",
      "[CV] END colsample_bytree=1.0, gamma=0.1, learning_rate=0.01, max_depth=5, n_estimators=100, reg_alpha=0, reg_lambda=10, subsample=1.0; total time=   0.4s\n",
      "[CV] END colsample_bytree=1.0, gamma=0.1, learning_rate=0.01, max_depth=5, n_estimators=100, reg_alpha=1, reg_lambda=1, subsample=0.7; total time=   0.4s\n",
      "[CV] END colsample_bytree=1.0, gamma=0.1, learning_rate=0.01, max_depth=5, n_estimators=100, reg_alpha=1, reg_lambda=1, subsample=0.7; total time=   0.4s\n",
      "[CV] END colsample_bytree=1.0, gamma=0.1, learning_rate=0.01, max_depth=5, n_estimators=100, reg_alpha=1, reg_lambda=1, subsample=1.0; total time=   0.3s\n",
      "[CV] END colsample_bytree=1.0, gamma=0.1, learning_rate=0.01, max_depth=5, n_estimators=100, reg_alpha=1, reg_lambda=1, subsample=0.7; total time=   0.5s\n",
      "[CV] END colsample_bytree=1.0, gamma=0.1, learning_rate=0.01, max_depth=5, n_estimators=100, reg_alpha=1, reg_lambda=1, subsample=1.0; total time=   0.3s\n",
      "[CV] END colsample_bytree=1.0, gamma=0.1, learning_rate=0.01, max_depth=5, n_estimators=100, reg_alpha=1, reg_lambda=1, subsample=1.0; total time=   0.3s\n",
      "[CV] END colsample_bytree=1.0, gamma=0.1, learning_rate=0.01, max_depth=5, n_estimators=100, reg_alpha=1, reg_lambda=10, subsample=0.7; total time=   0.3s\n",
      "[CV] END colsample_bytree=1.0, gamma=0.1, learning_rate=0.01, max_depth=5, n_estimators=100, reg_alpha=1, reg_lambda=10, subsample=0.7; total time=   0.3s\n",
      "[CV] END colsample_bytree=1.0, gamma=0.1, learning_rate=0.01, max_depth=5, n_estimators=100, reg_alpha=1, reg_lambda=10, subsample=1.0; total time=   0.3s\n",
      "[CV] END colsample_bytree=1.0, gamma=0.1, learning_rate=0.01, max_depth=5, n_estimators=100, reg_alpha=1, reg_lambda=10, subsample=0.7; total time=   0.3s\n",
      "[CV] END colsample_bytree=1.0, gamma=0.1, learning_rate=0.01, max_depth=5, n_estimators=100, reg_alpha=1, reg_lambda=10, subsample=1.0; total time=   0.3s\n",
      "[CV] END colsample_bytree=1.0, gamma=0.1, learning_rate=0.01, max_depth=5, n_estimators=100, reg_alpha=1, reg_lambda=10, subsample=1.0; total time=   0.3s\n",
      "[CV] END colsample_bytree=1.0, gamma=0.1, learning_rate=0.01, max_depth=5, n_estimators=500, reg_alpha=0, reg_lambda=1, subsample=0.7; total time=   1.4s\n",
      "[CV] END colsample_bytree=1.0, gamma=0.1, learning_rate=0.01, max_depth=5, n_estimators=500, reg_alpha=0, reg_lambda=1, subsample=0.7; total time=   1.4s\n",
      "[CV] END colsample_bytree=1.0, gamma=0.1, learning_rate=0.01, max_depth=5, n_estimators=500, reg_alpha=0, reg_lambda=1, subsample=1.0; total time=   1.3s\n",
      "[CV] END colsample_bytree=1.0, gamma=0.1, learning_rate=0.01, max_depth=5, n_estimators=500, reg_alpha=0, reg_lambda=1, subsample=1.0; total time=   1.3s\n",
      "[CV] END colsample_bytree=1.0, gamma=0.1, learning_rate=0.01, max_depth=5, n_estimators=500, reg_alpha=0, reg_lambda=1, subsample=0.7; total time=   1.4s\n",
      "[CV] END colsample_bytree=1.0, gamma=0.1, learning_rate=0.01, max_depth=5, n_estimators=500, reg_alpha=0, reg_lambda=1, subsample=1.0; total time=   1.3s\n",
      "[CV] END colsample_bytree=1.0, gamma=0.1, learning_rate=0.01, max_depth=5, n_estimators=500, reg_alpha=0, reg_lambda=10, subsample=0.7; total time=   1.3s\n",
      "[CV] END colsample_bytree=1.0, gamma=0.1, learning_rate=0.01, max_depth=5, n_estimators=500, reg_alpha=0, reg_lambda=10, subsample=0.7; total time=   1.4s\n",
      "[CV] END colsample_bytree=1.0, gamma=0.1, learning_rate=0.01, max_depth=5, n_estimators=500, reg_alpha=0, reg_lambda=10, subsample=1.0; total time=   1.3s\n",
      "[CV] END colsample_bytree=1.0, gamma=0.1, learning_rate=0.01, max_depth=5, n_estimators=500, reg_alpha=0, reg_lambda=10, subsample=1.0; total time=   1.3s\n",
      "[CV] END colsample_bytree=1.0, gamma=0.1, learning_rate=0.01, max_depth=5, n_estimators=500, reg_alpha=0, reg_lambda=10, subsample=1.0; total time=   1.3s\n",
      "[CV] END colsample_bytree=1.0, gamma=0.1, learning_rate=0.01, max_depth=5, n_estimators=500, reg_alpha=0, reg_lambda=10, subsample=0.7; total time=   1.4s\n",
      "[CV] END colsample_bytree=1.0, gamma=0.1, learning_rate=0.01, max_depth=5, n_estimators=500, reg_alpha=1, reg_lambda=1, subsample=0.7; total time=   1.4s\n",
      "[CV] END colsample_bytree=1.0, gamma=0.1, learning_rate=0.01, max_depth=5, n_estimators=500, reg_alpha=1, reg_lambda=1, subsample=0.7; total time=   1.4s\n",
      "[CV] END colsample_bytree=1.0, gamma=0.1, learning_rate=0.01, max_depth=5, n_estimators=500, reg_alpha=1, reg_lambda=1, subsample=0.7; total time=   1.4s\n",
      "[CV] END colsample_bytree=1.0, gamma=0.1, learning_rate=0.01, max_depth=5, n_estimators=500, reg_alpha=1, reg_lambda=1, subsample=1.0; total time=   1.2s\n",
      "[CV] END colsample_bytree=1.0, gamma=0.1, learning_rate=0.01, max_depth=5, n_estimators=500, reg_alpha=1, reg_lambda=1, subsample=1.0; total time=   1.3s\n",
      "[CV] END colsample_bytree=1.0, gamma=0.1, learning_rate=0.01, max_depth=5, n_estimators=500, reg_alpha=1, reg_lambda=1, subsample=1.0; total time=   1.3s\n",
      "[CV] END colsample_bytree=1.0, gamma=0.1, learning_rate=0.01, max_depth=5, n_estimators=500, reg_alpha=1, reg_lambda=10, subsample=0.7; total time=   1.4s\n",
      "[CV] END colsample_bytree=1.0, gamma=0.1, learning_rate=0.01, max_depth=5, n_estimators=500, reg_alpha=1, reg_lambda=10, subsample=1.0; total time=   1.2s\n",
      "[CV] END colsample_bytree=1.0, gamma=0.1, learning_rate=0.01, max_depth=5, n_estimators=500, reg_alpha=1, reg_lambda=10, subsample=1.0; total time=   1.3s\n",
      "[CV] END colsample_bytree=1.0, gamma=0.1, learning_rate=0.01, max_depth=5, n_estimators=500, reg_alpha=1, reg_lambda=10, subsample=1.0; total time=   1.3s\n",
      "[CV] END colsample_bytree=1.0, gamma=0.1, learning_rate=0.01, max_depth=5, n_estimators=500, reg_alpha=1, reg_lambda=10, subsample=0.7; total time=   1.4s\n",
      "[CV] END colsample_bytree=1.0, gamma=0.1, learning_rate=0.01, max_depth=5, n_estimators=500, reg_alpha=1, reg_lambda=10, subsample=0.7; total time=   1.4s\n",
      "[CV] END colsample_bytree=1.0, gamma=0.1, learning_rate=0.01, max_depth=5, n_estimators=1000, reg_alpha=0, reg_lambda=1, subsample=1.0; total time=   2.4s\n",
      "[CV] END colsample_bytree=1.0, gamma=0.1, learning_rate=0.01, max_depth=5, n_estimators=1000, reg_alpha=0, reg_lambda=1, subsample=1.0; total time=   2.4s\n",
      "[CV] END colsample_bytree=1.0, gamma=0.1, learning_rate=0.01, max_depth=5, n_estimators=1000, reg_alpha=0, reg_lambda=1, subsample=0.7; total time=   2.7s\n",
      "[CV] END colsample_bytree=1.0, gamma=0.1, learning_rate=0.01, max_depth=5, n_estimators=1000, reg_alpha=0, reg_lambda=1, subsample=1.0; total time=   2.5s\n",
      "[CV] END colsample_bytree=1.0, gamma=0.1, learning_rate=0.01, max_depth=5, n_estimators=1000, reg_alpha=0, reg_lambda=1, subsample=0.7; total time=   2.7s\n",
      "[CV] END colsample_bytree=1.0, gamma=0.1, learning_rate=0.01, max_depth=5, n_estimators=1000, reg_alpha=0, reg_lambda=1, subsample=0.7; total time=   2.7s\n",
      "[CV] END colsample_bytree=1.0, gamma=0.1, learning_rate=0.01, max_depth=5, n_estimators=1000, reg_alpha=0, reg_lambda=10, subsample=0.7; total time=   2.8s\n",
      "[CV] END colsample_bytree=1.0, gamma=0.1, learning_rate=0.01, max_depth=5, n_estimators=1000, reg_alpha=0, reg_lambda=10, subsample=0.7; total time=   2.7s\n",
      "[CV] END colsample_bytree=1.0, gamma=0.1, learning_rate=0.01, max_depth=5, n_estimators=1000, reg_alpha=0, reg_lambda=10, subsample=1.0; total time=   2.4s\n",
      "[CV] END colsample_bytree=1.0, gamma=0.1, learning_rate=0.01, max_depth=5, n_estimators=1000, reg_alpha=0, reg_lambda=10, subsample=1.0; total time=   2.4s\n",
      "[CV] END colsample_bytree=1.0, gamma=0.1, learning_rate=0.01, max_depth=5, n_estimators=1000, reg_alpha=0, reg_lambda=10, subsample=1.0; total time=   2.6s\n",
      "[CV] END colsample_bytree=1.0, gamma=0.1, learning_rate=0.01, max_depth=5, n_estimators=1000, reg_alpha=0, reg_lambda=10, subsample=0.7; total time=   2.8s\n",
      "[CV] END colsample_bytree=1.0, gamma=0.1, learning_rate=0.01, max_depth=5, n_estimators=1000, reg_alpha=1, reg_lambda=1, subsample=1.0; total time=   2.4s\n",
      "[CV] END colsample_bytree=1.0, gamma=0.1, learning_rate=0.01, max_depth=5, n_estimators=1000, reg_alpha=1, reg_lambda=1, subsample=0.7; total time=   2.8s\n",
      "[CV] END colsample_bytree=1.0, gamma=0.1, learning_rate=0.01, max_depth=5, n_estimators=1000, reg_alpha=1, reg_lambda=1, subsample=0.7; total time=   2.9s\n",
      "[CV] END colsample_bytree=1.0, gamma=0.1, learning_rate=0.01, max_depth=5, n_estimators=1000, reg_alpha=1, reg_lambda=1, subsample=0.7; total time=   2.9s\n",
      "[CV] END colsample_bytree=1.0, gamma=0.1, learning_rate=0.01, max_depth=5, n_estimators=1000, reg_alpha=1, reg_lambda=1, subsample=1.0; total time=   2.3s\n",
      "[CV] END colsample_bytree=1.0, gamma=0.1, learning_rate=0.01, max_depth=5, n_estimators=1000, reg_alpha=1, reg_lambda=1, subsample=1.0; total time=   2.4s\n",
      "[CV] END colsample_bytree=1.0, gamma=0.1, learning_rate=0.01, max_depth=7, n_estimators=100, reg_alpha=0, reg_lambda=1, subsample=0.7; total time=   0.6s\n",
      "[CV] END colsample_bytree=1.0, gamma=0.1, learning_rate=0.01, max_depth=5, n_estimators=1000, reg_alpha=1, reg_lambda=10, subsample=0.7; total time=   2.6s\n",
      "[CV] END colsample_bytree=1.0, gamma=0.1, learning_rate=0.01, max_depth=5, n_estimators=1000, reg_alpha=1, reg_lambda=10, subsample=1.0; total time=   2.5s\n",
      "[CV] END colsample_bytree=1.0, gamma=0.1, learning_rate=0.01, max_depth=5, n_estimators=1000, reg_alpha=1, reg_lambda=10, subsample=0.7; total time=   2.6s\n",
      "[CV] END colsample_bytree=1.0, gamma=0.1, learning_rate=0.01, max_depth=5, n_estimators=1000, reg_alpha=1, reg_lambda=10, subsample=0.7; total time=   2.7s\n",
      "[CV] END colsample_bytree=1.0, gamma=0.1, learning_rate=0.01, max_depth=7, n_estimators=100, reg_alpha=0, reg_lambda=1, subsample=0.7; total time=   0.7s\n",
      "[CV] END colsample_bytree=1.0, gamma=0.1, learning_rate=0.01, max_depth=5, n_estimators=1000, reg_alpha=1, reg_lambda=10, subsample=1.0; total time=   2.5s\n",
      "[CV] END colsample_bytree=1.0, gamma=0.1, learning_rate=0.01, max_depth=5, n_estimators=1000, reg_alpha=1, reg_lambda=10, subsample=1.0; total time=   2.5s\n",
      "[CV] END colsample_bytree=1.0, gamma=0.1, learning_rate=0.01, max_depth=7, n_estimators=100, reg_alpha=0, reg_lambda=1, subsample=1.0; total time=   0.7s\n",
      "[CV] END colsample_bytree=1.0, gamma=0.1, learning_rate=0.01, max_depth=7, n_estimators=100, reg_alpha=0, reg_lambda=1, subsample=0.7; total time=   0.7s\n",
      "[CV] END colsample_bytree=1.0, gamma=0.1, learning_rate=0.01, max_depth=7, n_estimators=100, reg_alpha=0, reg_lambda=1, subsample=1.0; total time=   0.7s\n",
      "[CV] END colsample_bytree=1.0, gamma=0.1, learning_rate=0.01, max_depth=7, n_estimators=100, reg_alpha=0, reg_lambda=1, subsample=1.0; total time=   0.7s\n",
      "[CV] END colsample_bytree=1.0, gamma=0.1, learning_rate=0.01, max_depth=7, n_estimators=100, reg_alpha=0, reg_lambda=10, subsample=0.7; total time=   0.7s\n",
      "[CV] END colsample_bytree=1.0, gamma=0.1, learning_rate=0.01, max_depth=7, n_estimators=100, reg_alpha=0, reg_lambda=10, subsample=0.7; total time=   0.7s\n",
      "[CV] END colsample_bytree=1.0, gamma=0.1, learning_rate=0.01, max_depth=7, n_estimators=100, reg_alpha=0, reg_lambda=10, subsample=0.7; total time=   0.6s\n",
      "[CV] END colsample_bytree=1.0, gamma=0.1, learning_rate=0.01, max_depth=7, n_estimators=100, reg_alpha=0, reg_lambda=10, subsample=1.0; total time=   0.6s\n",
      "[CV] END colsample_bytree=1.0, gamma=0.1, learning_rate=0.01, max_depth=7, n_estimators=100, reg_alpha=0, reg_lambda=10, subsample=1.0; total time=   0.7s\n",
      "[CV] END colsample_bytree=1.0, gamma=0.1, learning_rate=0.01, max_depth=7, n_estimators=100, reg_alpha=1, reg_lambda=1, subsample=0.7; total time=   0.6s\n",
      "[CV] END colsample_bytree=1.0, gamma=0.1, learning_rate=0.01, max_depth=7, n_estimators=100, reg_alpha=0, reg_lambda=10, subsample=1.0; total time=   0.7s\n",
      "[CV] END colsample_bytree=1.0, gamma=0.1, learning_rate=0.01, max_depth=7, n_estimators=100, reg_alpha=1, reg_lambda=1, subsample=0.7; total time=   0.7s\n",
      "[CV] END colsample_bytree=1.0, gamma=0.1, learning_rate=0.01, max_depth=7, n_estimators=100, reg_alpha=1, reg_lambda=1, subsample=0.7; total time=   0.7s\n",
      "[CV] END colsample_bytree=1.0, gamma=0.1, learning_rate=0.01, max_depth=7, n_estimators=100, reg_alpha=1, reg_lambda=1, subsample=1.0; total time=   0.7s\n",
      "[CV] END colsample_bytree=1.0, gamma=0.1, learning_rate=0.01, max_depth=7, n_estimators=100, reg_alpha=1, reg_lambda=1, subsample=1.0; total time=   0.7s\n",
      "[CV] END colsample_bytree=1.0, gamma=0.1, learning_rate=0.01, max_depth=7, n_estimators=100, reg_alpha=1, reg_lambda=1, subsample=1.0; total time=   0.6s\n",
      "[CV] END colsample_bytree=1.0, gamma=0.1, learning_rate=0.01, max_depth=7, n_estimators=100, reg_alpha=1, reg_lambda=10, subsample=0.7; total time=   0.7s\n",
      "[CV] END colsample_bytree=1.0, gamma=0.1, learning_rate=0.01, max_depth=7, n_estimators=100, reg_alpha=1, reg_lambda=10, subsample=0.7; total time=   0.7s\n",
      "[CV] END colsample_bytree=1.0, gamma=0.1, learning_rate=0.01, max_depth=7, n_estimators=100, reg_alpha=1, reg_lambda=10, subsample=0.7; total time=   0.6s\n",
      "[CV] END colsample_bytree=1.0, gamma=0.1, learning_rate=0.01, max_depth=7, n_estimators=100, reg_alpha=1, reg_lambda=10, subsample=1.0; total time=   0.6s\n",
      "[CV] END colsample_bytree=1.0, gamma=0.1, learning_rate=0.01, max_depth=7, n_estimators=100, reg_alpha=1, reg_lambda=10, subsample=1.0; total time=   0.7s\n",
      "[CV] END colsample_bytree=1.0, gamma=0.1, learning_rate=0.01, max_depth=7, n_estimators=100, reg_alpha=1, reg_lambda=10, subsample=1.0; total time=   0.7s\n",
      "[CV] END colsample_bytree=1.0, gamma=0.1, learning_rate=0.01, max_depth=7, n_estimators=500, reg_alpha=0, reg_lambda=1, subsample=0.7; total time=   2.8s\n",
      "[CV] END colsample_bytree=1.0, gamma=0.1, learning_rate=0.01, max_depth=7, n_estimators=500, reg_alpha=0, reg_lambda=1, subsample=1.0; total time=   2.6s\n",
      "[CV] END colsample_bytree=1.0, gamma=0.1, learning_rate=0.01, max_depth=7, n_estimators=500, reg_alpha=0, reg_lambda=1, subsample=0.7; total time=   3.0s\n",
      "[CV] END colsample_bytree=1.0, gamma=0.1, learning_rate=0.01, max_depth=7, n_estimators=500, reg_alpha=0, reg_lambda=1, subsample=1.0; total time=   2.7s\n",
      "[CV] END colsample_bytree=1.0, gamma=0.1, learning_rate=0.01, max_depth=7, n_estimators=500, reg_alpha=0, reg_lambda=1, subsample=1.0; total time=   2.7s\n",
      "[CV] END colsample_bytree=1.0, gamma=0.1, learning_rate=0.01, max_depth=7, n_estimators=500, reg_alpha=0, reg_lambda=1, subsample=0.7; total time=   2.9s\n",
      "[CV] END colsample_bytree=1.0, gamma=0.1, learning_rate=0.01, max_depth=7, n_estimators=500, reg_alpha=0, reg_lambda=10, subsample=0.7; total time=   2.8s\n",
      "[CV] END colsample_bytree=1.0, gamma=0.1, learning_rate=0.01, max_depth=7, n_estimators=500, reg_alpha=0, reg_lambda=10, subsample=0.7; total time=   2.9s\n",
      "[CV] END colsample_bytree=1.0, gamma=0.1, learning_rate=0.01, max_depth=7, n_estimators=500, reg_alpha=0, reg_lambda=10, subsample=1.0; total time=   2.7s\n",
      "[CV] END colsample_bytree=1.0, gamma=0.1, learning_rate=0.01, max_depth=7, n_estimators=500, reg_alpha=0, reg_lambda=10, subsample=0.7; total time=   2.9s\n",
      "[CV] END colsample_bytree=1.0, gamma=0.1, learning_rate=0.01, max_depth=7, n_estimators=500, reg_alpha=0, reg_lambda=10, subsample=1.0; total time=   2.6s\n",
      "[CV] END colsample_bytree=1.0, gamma=0.1, learning_rate=0.01, max_depth=7, n_estimators=500, reg_alpha=0, reg_lambda=10, subsample=1.0; total time=   2.7s\n",
      "[CV] END colsample_bytree=1.0, gamma=0.1, learning_rate=0.01, max_depth=7, n_estimators=500, reg_alpha=1, reg_lambda=1, subsample=0.7; total time=   2.8s\n",
      "[CV] END colsample_bytree=1.0, gamma=0.1, learning_rate=0.01, max_depth=7, n_estimators=500, reg_alpha=1, reg_lambda=1, subsample=0.7; total time=   2.8s\n",
      "[CV] END colsample_bytree=1.0, gamma=0.1, learning_rate=0.01, max_depth=7, n_estimators=500, reg_alpha=1, reg_lambda=1, subsample=0.7; total time=   2.8s\n",
      "[CV] END colsample_bytree=1.0, gamma=0.1, learning_rate=0.01, max_depth=7, n_estimators=500, reg_alpha=1, reg_lambda=1, subsample=1.0; total time=   3.0s\n",
      "[CV] END colsample_bytree=1.0, gamma=0.1, learning_rate=0.01, max_depth=7, n_estimators=500, reg_alpha=1, reg_lambda=1, subsample=1.0; total time=   2.8s\n",
      "[CV] END colsample_bytree=1.0, gamma=0.1, learning_rate=0.01, max_depth=7, n_estimators=500, reg_alpha=1, reg_lambda=1, subsample=1.0; total time=   2.8s\n",
      "[CV] END colsample_bytree=1.0, gamma=0.1, learning_rate=0.01, max_depth=7, n_estimators=500, reg_alpha=1, reg_lambda=10, subsample=0.7; total time=   2.9s\n",
      "[CV] END colsample_bytree=1.0, gamma=0.1, learning_rate=0.01, max_depth=7, n_estimators=500, reg_alpha=1, reg_lambda=10, subsample=0.7; total time=   3.0s\n",
      "[CV] END colsample_bytree=1.0, gamma=0.1, learning_rate=0.01, max_depth=7, n_estimators=500, reg_alpha=1, reg_lambda=10, subsample=0.7; total time=   2.8s\n",
      "[CV] END colsample_bytree=1.0, gamma=0.1, learning_rate=0.01, max_depth=7, n_estimators=500, reg_alpha=1, reg_lambda=10, subsample=1.0; total time=   2.7s\n",
      "[CV] END colsample_bytree=1.0, gamma=0.1, learning_rate=0.01, max_depth=7, n_estimators=500, reg_alpha=1, reg_lambda=10, subsample=1.0; total time=   2.7s\n",
      "[CV] END colsample_bytree=1.0, gamma=0.1, learning_rate=0.01, max_depth=7, n_estimators=500, reg_alpha=1, reg_lambda=10, subsample=1.0; total time=   2.6s\n",
      "[CV] END colsample_bytree=1.0, gamma=0.1, learning_rate=0.01, max_depth=7, n_estimators=1000, reg_alpha=0, reg_lambda=1, subsample=1.0; total time=   5.3s\n",
      "[CV] END colsample_bytree=1.0, gamma=0.1, learning_rate=0.01, max_depth=7, n_estimators=1000, reg_alpha=0, reg_lambda=1, subsample=0.7; total time=   5.6s\n",
      "[CV] END colsample_bytree=1.0, gamma=0.1, learning_rate=0.01, max_depth=7, n_estimators=1000, reg_alpha=0, reg_lambda=1, subsample=0.7; total time=   5.5s\n",
      "[CV] END colsample_bytree=1.0, gamma=0.1, learning_rate=0.01, max_depth=7, n_estimators=1000, reg_alpha=0, reg_lambda=1, subsample=1.0; total time=   5.5s\n",
      "[CV] END colsample_bytree=1.0, gamma=0.1, learning_rate=0.01, max_depth=7, n_estimators=1000, reg_alpha=0, reg_lambda=1, subsample=1.0; total time=   5.5s\n",
      "[CV] END colsample_bytree=1.0, gamma=0.1, learning_rate=0.01, max_depth=7, n_estimators=1000, reg_alpha=0, reg_lambda=1, subsample=0.7; total time=   5.9s\n",
      "[CV] END colsample_bytree=1.0, gamma=0.1, learning_rate=0.01, max_depth=7, n_estimators=1000, reg_alpha=0, reg_lambda=10, subsample=0.7; total time=   5.8s\n",
      "[CV] END colsample_bytree=1.0, gamma=0.1, learning_rate=0.01, max_depth=7, n_estimators=1000, reg_alpha=0, reg_lambda=10, subsample=0.7; total time=   5.9s\n",
      "[CV] END colsample_bytree=1.0, gamma=0.1, learning_rate=0.01, max_depth=7, n_estimators=1000, reg_alpha=0, reg_lambda=10, subsample=1.0; total time=   5.3s\n",
      "[CV] END colsample_bytree=1.0, gamma=0.1, learning_rate=0.01, max_depth=7, n_estimators=1000, reg_alpha=0, reg_lambda=10, subsample=1.0; total time=   5.2s\n",
      "[CV] END colsample_bytree=1.0, gamma=0.1, learning_rate=0.01, max_depth=7, n_estimators=1000, reg_alpha=0, reg_lambda=10, subsample=1.0; total time=   5.4s\n",
      "[CV] END colsample_bytree=1.0, gamma=0.1, learning_rate=0.01, max_depth=7, n_estimators=1000, reg_alpha=0, reg_lambda=10, subsample=0.7; total time=   5.8s\n",
      "[CV] END colsample_bytree=1.0, gamma=0.1, learning_rate=0.01, max_depth=7, n_estimators=1000, reg_alpha=1, reg_lambda=1, subsample=0.7; total time=   5.8s\n",
      "[CV] END colsample_bytree=1.0, gamma=0.1, learning_rate=0.01, max_depth=7, n_estimators=1000, reg_alpha=1, reg_lambda=1, subsample=0.7; total time=   5.6s\n",
      "[CV] END colsample_bytree=1.0, gamma=0.1, learning_rate=0.01, max_depth=7, n_estimators=1000, reg_alpha=1, reg_lambda=1, subsample=0.7; total time=   6.1s\n",
      "[CV] END colsample_bytree=1.0, gamma=0.1, learning_rate=0.01, max_depth=7, n_estimators=1000, reg_alpha=1, reg_lambda=1, subsample=1.0; total time=   5.6s\n",
      "[CV] END colsample_bytree=1.0, gamma=0.1, learning_rate=0.01, max_depth=7, n_estimators=1000, reg_alpha=1, reg_lambda=1, subsample=1.0; total time=   5.3s\n",
      "[CV] END colsample_bytree=1.0, gamma=0.1, learning_rate=0.01, max_depth=7, n_estimators=1000, reg_alpha=1, reg_lambda=1, subsample=1.0; total time=   5.6s\n",
      "[CV] END colsample_bytree=1.0, gamma=0.1, learning_rate=0.1, max_depth=5, n_estimators=100, reg_alpha=0, reg_lambda=1, subsample=0.7; total time=   0.3s\n",
      "[CV] END colsample_bytree=1.0, gamma=0.1, learning_rate=0.01, max_depth=7, n_estimators=1000, reg_alpha=1, reg_lambda=10, subsample=0.7; total time=   5.6s\n",
      "[CV] END colsample_bytree=1.0, gamma=0.1, learning_rate=0.1, max_depth=5, n_estimators=100, reg_alpha=0, reg_lambda=1, subsample=0.7; total time=   0.3s\n",
      "[CV] END colsample_bytree=1.0, gamma=0.1, learning_rate=0.1, max_depth=5, n_estimators=100, reg_alpha=0, reg_lambda=1, subsample=0.7; total time=   0.3s\n",
      "[CV] END colsample_bytree=1.0, gamma=0.1, learning_rate=0.1, max_depth=5, n_estimators=100, reg_alpha=0, reg_lambda=1, subsample=1.0; total time=   0.3s\n",
      "[CV] END colsample_bytree=1.0, gamma=0.1, learning_rate=0.01, max_depth=7, n_estimators=1000, reg_alpha=1, reg_lambda=10, subsample=1.0; total time=   5.4s\n",
      "[CV] END colsample_bytree=1.0, gamma=0.1, learning_rate=0.01, max_depth=7, n_estimators=1000, reg_alpha=1, reg_lambda=10, subsample=1.0; total time=   5.3s\n",
      "[CV] END colsample_bytree=1.0, gamma=0.1, learning_rate=0.1, max_depth=5, n_estimators=100, reg_alpha=0, reg_lambda=1, subsample=1.0; total time=   0.3s\n",
      "[CV] END colsample_bytree=1.0, gamma=0.1, learning_rate=0.1, max_depth=5, n_estimators=100, reg_alpha=0, reg_lambda=1, subsample=1.0; total time=   0.3s\n",
      "[CV] END colsample_bytree=1.0, gamma=0.1, learning_rate=0.01, max_depth=7, n_estimators=1000, reg_alpha=1, reg_lambda=10, subsample=0.7; total time=   6.0s\n",
      "[CV] END colsample_bytree=1.0, gamma=0.1, learning_rate=0.1, max_depth=5, n_estimators=100, reg_alpha=0, reg_lambda=10, subsample=0.7; total time=   0.3s\n",
      "[CV] END colsample_bytree=1.0, gamma=0.1, learning_rate=0.01, max_depth=7, n_estimators=1000, reg_alpha=1, reg_lambda=10, subsample=0.7; total time=   5.7s\n",
      "[CV] END colsample_bytree=1.0, gamma=0.1, learning_rate=0.1, max_depth=5, n_estimators=100, reg_alpha=0, reg_lambda=10, subsample=0.7; total time=   0.3s\n",
      "[CV] END colsample_bytree=1.0, gamma=0.1, learning_rate=0.1, max_depth=5, n_estimators=100, reg_alpha=0, reg_lambda=10, subsample=1.0; total time=   0.3s\n",
      "[CV] END colsample_bytree=1.0, gamma=0.1, learning_rate=0.1, max_depth=5, n_estimators=100, reg_alpha=0, reg_lambda=10, subsample=0.7; total time=   0.3s\n",
      "[CV] END colsample_bytree=1.0, gamma=0.1, learning_rate=0.1, max_depth=5, n_estimators=100, reg_alpha=0, reg_lambda=10, subsample=1.0; total time=   0.3s\n",
      "[CV] END colsample_bytree=1.0, gamma=0.1, learning_rate=0.01, max_depth=7, n_estimators=1000, reg_alpha=1, reg_lambda=10, subsample=1.0; total time=   5.5s\n",
      "[CV] END colsample_bytree=1.0, gamma=0.1, learning_rate=0.1, max_depth=5, n_estimators=100, reg_alpha=0, reg_lambda=10, subsample=1.0; total time=   0.3s\n",
      "[CV] END colsample_bytree=1.0, gamma=0.1, learning_rate=0.1, max_depth=5, n_estimators=100, reg_alpha=1, reg_lambda=1, subsample=0.7; total time=   0.3s\n",
      "[CV] END colsample_bytree=1.0, gamma=0.1, learning_rate=0.1, max_depth=5, n_estimators=100, reg_alpha=1, reg_lambda=1, subsample=0.7; total time=   0.3s\n",
      "[CV] END colsample_bytree=1.0, gamma=0.1, learning_rate=0.1, max_depth=5, n_estimators=100, reg_alpha=1, reg_lambda=1, subsample=0.7; total time=   0.3s\n",
      "[CV] END colsample_bytree=1.0, gamma=0.1, learning_rate=0.1, max_depth=5, n_estimators=100, reg_alpha=1, reg_lambda=1, subsample=1.0; total time=   0.3s\n",
      "[CV] END colsample_bytree=1.0, gamma=0.1, learning_rate=0.1, max_depth=5, n_estimators=100, reg_alpha=1, reg_lambda=1, subsample=1.0; total time=   0.3s\n",
      "[CV] END colsample_bytree=1.0, gamma=0.1, learning_rate=0.1, max_depth=5, n_estimators=100, reg_alpha=1, reg_lambda=1, subsample=1.0; total time=   0.3s\n",
      "[CV] END colsample_bytree=1.0, gamma=0.1, learning_rate=0.1, max_depth=5, n_estimators=100, reg_alpha=1, reg_lambda=10, subsample=0.7; total time=   0.3s\n",
      "[CV] END colsample_bytree=1.0, gamma=0.1, learning_rate=0.1, max_depth=5, n_estimators=100, reg_alpha=1, reg_lambda=10, subsample=0.7; total time=   0.3s\n",
      "[CV] END colsample_bytree=1.0, gamma=0.1, learning_rate=0.1, max_depth=5, n_estimators=100, reg_alpha=1, reg_lambda=10, subsample=0.7; total time=   0.3s\n",
      "[CV] END colsample_bytree=1.0, gamma=0.1, learning_rate=0.1, max_depth=5, n_estimators=100, reg_alpha=1, reg_lambda=10, subsample=1.0; total time=   0.3s\n",
      "[CV] END colsample_bytree=1.0, gamma=0.1, learning_rate=0.1, max_depth=5, n_estimators=100, reg_alpha=1, reg_lambda=10, subsample=1.0; total time=   0.3s\n",
      "[CV] END colsample_bytree=1.0, gamma=0.1, learning_rate=0.1, max_depth=5, n_estimators=100, reg_alpha=1, reg_lambda=10, subsample=1.0; total time=   0.3s\n",
      "[CV] END colsample_bytree=1.0, gamma=0.1, learning_rate=0.1, max_depth=5, n_estimators=500, reg_alpha=0, reg_lambda=1, subsample=1.0; total time=   1.2s\n",
      "[CV] END colsample_bytree=1.0, gamma=0.1, learning_rate=0.1, max_depth=5, n_estimators=500, reg_alpha=0, reg_lambda=1, subsample=0.7; total time=   1.4s\n",
      "[CV] END colsample_bytree=1.0, gamma=0.1, learning_rate=0.1, max_depth=5, n_estimators=500, reg_alpha=0, reg_lambda=1, subsample=1.0; total time=   1.2s\n",
      "[CV] END colsample_bytree=1.0, gamma=0.1, learning_rate=0.1, max_depth=5, n_estimators=500, reg_alpha=0, reg_lambda=1, subsample=1.0; total time=   1.2s\n",
      "[CV] END colsample_bytree=1.0, gamma=0.1, learning_rate=0.1, max_depth=5, n_estimators=500, reg_alpha=0, reg_lambda=1, subsample=0.7; total time=   1.4s\n",
      "[CV] END colsample_bytree=1.0, gamma=0.1, learning_rate=0.1, max_depth=5, n_estimators=500, reg_alpha=0, reg_lambda=10, subsample=0.7; total time=   1.3s\n",
      "[CV] END colsample_bytree=1.0, gamma=0.1, learning_rate=0.1, max_depth=5, n_estimators=500, reg_alpha=0, reg_lambda=1, subsample=0.7; total time=   1.4s\n",
      "[CV] END colsample_bytree=1.0, gamma=0.1, learning_rate=0.1, max_depth=5, n_estimators=500, reg_alpha=0, reg_lambda=10, subsample=0.7; total time=   1.5s\n",
      "[CV] END colsample_bytree=1.0, gamma=0.1, learning_rate=0.1, max_depth=5, n_estimators=500, reg_alpha=0, reg_lambda=10, subsample=1.0; total time=   1.2s\n",
      "[CV] END colsample_bytree=1.0, gamma=0.1, learning_rate=0.1, max_depth=5, n_estimators=500, reg_alpha=0, reg_lambda=10, subsample=1.0; total time=   1.3s\n",
      "[CV] END colsample_bytree=1.0, gamma=0.1, learning_rate=0.1, max_depth=5, n_estimators=500, reg_alpha=0, reg_lambda=10, subsample=1.0; total time=   1.3s\n",
      "[CV] END colsample_bytree=1.0, gamma=0.1, learning_rate=0.1, max_depth=5, n_estimators=500, reg_alpha=0, reg_lambda=10, subsample=0.7; total time=   1.4s\n",
      "[CV] END colsample_bytree=1.0, gamma=0.1, learning_rate=0.1, max_depth=5, n_estimators=500, reg_alpha=1, reg_lambda=1, subsample=0.7; total time=   1.3s\n",
      "[CV] END colsample_bytree=1.0, gamma=0.1, learning_rate=0.1, max_depth=5, n_estimators=500, reg_alpha=1, reg_lambda=1, subsample=0.7; total time=   1.5s\n",
      "[CV] END colsample_bytree=1.0, gamma=0.1, learning_rate=0.1, max_depth=5, n_estimators=500, reg_alpha=1, reg_lambda=1, subsample=0.7; total time=   1.4s\n",
      "[CV] END colsample_bytree=1.0, gamma=0.1, learning_rate=0.1, max_depth=5, n_estimators=500, reg_alpha=1, reg_lambda=1, subsample=1.0; total time=   1.3s\n",
      "[CV] END colsample_bytree=1.0, gamma=0.1, learning_rate=0.1, max_depth=5, n_estimators=500, reg_alpha=1, reg_lambda=1, subsample=1.0; total time=   1.2s\n",
      "[CV] END colsample_bytree=1.0, gamma=0.1, learning_rate=0.1, max_depth=5, n_estimators=500, reg_alpha=1, reg_lambda=1, subsample=1.0; total time=   1.2s\n",
      "[CV] END colsample_bytree=1.0, gamma=0.1, learning_rate=0.1, max_depth=5, n_estimators=500, reg_alpha=1, reg_lambda=10, subsample=0.7; total time=   1.3s\n",
      "[CV] END colsample_bytree=1.0, gamma=0.1, learning_rate=0.1, max_depth=5, n_estimators=500, reg_alpha=1, reg_lambda=10, subsample=1.0; total time=   1.2s\n",
      "[CV] END colsample_bytree=1.0, gamma=0.1, learning_rate=0.1, max_depth=5, n_estimators=500, reg_alpha=1, reg_lambda=10, subsample=0.7; total time=   1.4s\n",
      "[CV] END colsample_bytree=1.0, gamma=0.1, learning_rate=0.1, max_depth=5, n_estimators=500, reg_alpha=1, reg_lambda=10, subsample=1.0; total time=   1.2s\n",
      "[CV] END colsample_bytree=1.0, gamma=0.1, learning_rate=0.1, max_depth=5, n_estimators=500, reg_alpha=1, reg_lambda=10, subsample=0.7; total time=   1.4s\n",
      "[CV] END colsample_bytree=1.0, gamma=0.1, learning_rate=0.1, max_depth=5, n_estimators=500, reg_alpha=1, reg_lambda=10, subsample=1.0; total time=   1.3s\n",
      "[CV] END colsample_bytree=1.0, gamma=0.1, learning_rate=0.1, max_depth=5, n_estimators=1000, reg_alpha=0, reg_lambda=1, subsample=1.0; total time=   2.4s\n",
      "[CV] END colsample_bytree=1.0, gamma=0.1, learning_rate=0.1, max_depth=5, n_estimators=1000, reg_alpha=0, reg_lambda=1, subsample=1.0; total time=   2.4s\n",
      "[CV] END colsample_bytree=1.0, gamma=0.1, learning_rate=0.1, max_depth=5, n_estimators=1000, reg_alpha=0, reg_lambda=1, subsample=1.0; total time=   2.4s\n",
      "[CV] END colsample_bytree=1.0, gamma=0.1, learning_rate=0.1, max_depth=5, n_estimators=1000, reg_alpha=0, reg_lambda=1, subsample=0.7; total time=   2.7s\n",
      "[CV] END colsample_bytree=1.0, gamma=0.1, learning_rate=0.1, max_depth=5, n_estimators=1000, reg_alpha=0, reg_lambda=1, subsample=0.7; total time=   2.8s\n",
      "[CV] END colsample_bytree=1.0, gamma=0.1, learning_rate=0.1, max_depth=5, n_estimators=1000, reg_alpha=0, reg_lambda=1, subsample=0.7; total time=   2.8s\n",
      "[CV] END colsample_bytree=1.0, gamma=0.1, learning_rate=0.1, max_depth=5, n_estimators=1000, reg_alpha=0, reg_lambda=10, subsample=0.7; total time=   2.6s\n",
      "[CV] END colsample_bytree=1.0, gamma=0.1, learning_rate=0.1, max_depth=5, n_estimators=1000, reg_alpha=0, reg_lambda=10, subsample=0.7; total time=   2.8s\n",
      "[CV] END colsample_bytree=1.0, gamma=0.1, learning_rate=0.1, max_depth=5, n_estimators=1000, reg_alpha=0, reg_lambda=10, subsample=1.0; total time=   2.4s\n",
      "[CV] END colsample_bytree=1.0, gamma=0.1, learning_rate=0.1, max_depth=5, n_estimators=1000, reg_alpha=0, reg_lambda=10, subsample=1.0; total time=   2.5s\n",
      "[CV] END colsample_bytree=1.0, gamma=0.1, learning_rate=0.1, max_depth=5, n_estimators=1000, reg_alpha=0, reg_lambda=10, subsample=1.0; total time=   2.6s\n",
      "[CV] END colsample_bytree=1.0, gamma=0.1, learning_rate=0.1, max_depth=5, n_estimators=1000, reg_alpha=0, reg_lambda=10, subsample=0.7; total time=   2.8s\n",
      "[CV] END colsample_bytree=1.0, gamma=0.1, learning_rate=0.1, max_depth=5, n_estimators=1000, reg_alpha=1, reg_lambda=1, subsample=0.7; total time=   2.7s\n",
      "[CV] END colsample_bytree=1.0, gamma=0.1, learning_rate=0.1, max_depth=5, n_estimators=1000, reg_alpha=1, reg_lambda=1, subsample=0.7; total time=   2.6s\n",
      "[CV] END colsample_bytree=1.0, gamma=0.1, learning_rate=0.1, max_depth=5, n_estimators=1000, reg_alpha=1, reg_lambda=1, subsample=1.0; total time=   2.3s\n",
      "[CV] END colsample_bytree=1.0, gamma=0.1, learning_rate=0.1, max_depth=5, n_estimators=1000, reg_alpha=1, reg_lambda=1, subsample=0.7; total time=   2.7s\n",
      "[CV] END colsample_bytree=1.0, gamma=0.1, learning_rate=0.1, max_depth=5, n_estimators=1000, reg_alpha=1, reg_lambda=1, subsample=1.0; total time=   2.4s\n",
      "[CV] END colsample_bytree=1.0, gamma=0.1, learning_rate=0.1, max_depth=5, n_estimators=1000, reg_alpha=1, reg_lambda=1, subsample=1.0; total time=   2.5s\n",
      "[CV] END colsample_bytree=1.0, gamma=0.1, learning_rate=0.1, max_depth=5, n_estimators=1000, reg_alpha=1, reg_lambda=10, subsample=1.0; total time=   2.4s\n",
      "[CV] END colsample_bytree=1.0, gamma=0.1, learning_rate=0.1, max_depth=5, n_estimators=1000, reg_alpha=1, reg_lambda=10, subsample=1.0; total time=   2.4s\n",
      "[CV] END colsample_bytree=1.0, gamma=0.1, learning_rate=0.1, max_depth=7, n_estimators=100, reg_alpha=0, reg_lambda=1, subsample=0.7; total time=   0.6s\n",
      "[CV] END colsample_bytree=1.0, gamma=0.1, learning_rate=0.1, max_depth=5, n_estimators=1000, reg_alpha=1, reg_lambda=10, subsample=1.0; total time=   2.4s\n",
      "[CV] END colsample_bytree=1.0, gamma=0.1, learning_rate=0.1, max_depth=5, n_estimators=1000, reg_alpha=1, reg_lambda=10, subsample=0.7; total time=   2.8s\n",
      "[CV] END colsample_bytree=1.0, gamma=0.1, learning_rate=0.1, max_depth=5, n_estimators=1000, reg_alpha=1, reg_lambda=10, subsample=0.7; total time=   2.9s\n",
      "[CV] END colsample_bytree=1.0, gamma=0.1, learning_rate=0.1, max_depth=7, n_estimators=100, reg_alpha=0, reg_lambda=1, subsample=0.7; total time=   0.6s\n",
      "[CV] END colsample_bytree=1.0, gamma=0.1, learning_rate=0.1, max_depth=5, n_estimators=1000, reg_alpha=1, reg_lambda=10, subsample=0.7; total time=   3.0s\n",
      "[CV] END colsample_bytree=1.0, gamma=0.1, learning_rate=0.1, max_depth=7, n_estimators=100, reg_alpha=0, reg_lambda=1, subsample=1.0; total time=   0.5s\n",
      "[CV] END colsample_bytree=1.0, gamma=0.1, learning_rate=0.1, max_depth=7, n_estimators=100, reg_alpha=0, reg_lambda=1, subsample=0.7; total time=   0.6s[CV] END colsample_bytree=1.0, gamma=0.1, learning_rate=0.1, max_depth=7, n_estimators=100, reg_alpha=0, reg_lambda=1, subsample=1.0; total time=   0.6s\n",
      "\n",
      "[CV] END colsample_bytree=1.0, gamma=0.1, learning_rate=0.1, max_depth=7, n_estimators=100, reg_alpha=0, reg_lambda=1, subsample=1.0; total time=   0.7s\n",
      "[CV] END colsample_bytree=1.0, gamma=0.1, learning_rate=0.1, max_depth=7, n_estimators=100, reg_alpha=0, reg_lambda=10, subsample=0.7; total time=   0.7s\n",
      "[CV] END colsample_bytree=1.0, gamma=0.1, learning_rate=0.1, max_depth=7, n_estimators=100, reg_alpha=0, reg_lambda=10, subsample=0.7; total time=   0.7s\n",
      "[CV] END colsample_bytree=1.0, gamma=0.1, learning_rate=0.1, max_depth=7, n_estimators=100, reg_alpha=0, reg_lambda=10, subsample=0.7; total time=   0.6s\n",
      "[CV] END colsample_bytree=1.0, gamma=0.1, learning_rate=0.1, max_depth=7, n_estimators=100, reg_alpha=0, reg_lambda=10, subsample=1.0; total time=   0.5s\n",
      "[CV] END colsample_bytree=1.0, gamma=0.1, learning_rate=0.1, max_depth=7, n_estimators=100, reg_alpha=0, reg_lambda=10, subsample=1.0; total time=   0.5s\n",
      "[CV] END colsample_bytree=1.0, gamma=0.1, learning_rate=0.1, max_depth=7, n_estimators=100, reg_alpha=0, reg_lambda=10, subsample=1.0; total time=   0.6s\n",
      "[CV] END colsample_bytree=1.0, gamma=0.1, learning_rate=0.1, max_depth=7, n_estimators=100, reg_alpha=1, reg_lambda=1, subsample=0.7; total time=   0.6s\n",
      "[CV] END colsample_bytree=1.0, gamma=0.1, learning_rate=0.1, max_depth=7, n_estimators=100, reg_alpha=1, reg_lambda=1, subsample=0.7; total time=   0.5s\n",
      "[CV] END colsample_bytree=1.0, gamma=0.1, learning_rate=0.1, max_depth=7, n_estimators=100, reg_alpha=1, reg_lambda=1, subsample=1.0; total time=   0.5s\n",
      "[CV] END colsample_bytree=1.0, gamma=0.1, learning_rate=0.1, max_depth=7, n_estimators=100, reg_alpha=1, reg_lambda=1, subsample=0.7; total time=   0.6s\n",
      "[CV] END colsample_bytree=1.0, gamma=0.1, learning_rate=0.1, max_depth=7, n_estimators=100, reg_alpha=1, reg_lambda=1, subsample=1.0; total time=   0.6s\n",
      "[CV] END colsample_bytree=1.0, gamma=0.1, learning_rate=0.1, max_depth=7, n_estimators=100, reg_alpha=1, reg_lambda=1, subsample=1.0; total time=   0.5s\n",
      "[CV] END colsample_bytree=1.0, gamma=0.1, learning_rate=0.1, max_depth=7, n_estimators=100, reg_alpha=1, reg_lambda=10, subsample=0.7; total time=   0.6s\n",
      "[CV] END colsample_bytree=1.0, gamma=0.1, learning_rate=0.1, max_depth=7, n_estimators=100, reg_alpha=1, reg_lambda=10, subsample=0.7; total time=   0.6s\n",
      "[CV] END colsample_bytree=1.0, gamma=0.1, learning_rate=0.1, max_depth=7, n_estimators=100, reg_alpha=1, reg_lambda=10, subsample=1.0; total time=   0.6s\n",
      "[CV] END colsample_bytree=1.0, gamma=0.1, learning_rate=0.1, max_depth=7, n_estimators=100, reg_alpha=1, reg_lambda=10, subsample=0.7; total time=   0.6s\n",
      "[CV] END colsample_bytree=1.0, gamma=0.1, learning_rate=0.1, max_depth=7, n_estimators=100, reg_alpha=1, reg_lambda=10, subsample=1.0; total time=   0.6s\n",
      "[CV] END colsample_bytree=1.0, gamma=0.1, learning_rate=0.1, max_depth=7, n_estimators=100, reg_alpha=1, reg_lambda=10, subsample=1.0; total time=   0.5s\n",
      "[CV] END colsample_bytree=1.0, gamma=0.1, learning_rate=0.1, max_depth=7, n_estimators=500, reg_alpha=0, reg_lambda=1, subsample=0.7; total time=   2.8s\n",
      "[CV] END colsample_bytree=1.0, gamma=0.1, learning_rate=0.1, max_depth=7, n_estimators=500, reg_alpha=0, reg_lambda=1, subsample=0.7; total time=   2.9s\n",
      "[CV] END colsample_bytree=1.0, gamma=0.1, learning_rate=0.1, max_depth=7, n_estimators=500, reg_alpha=0, reg_lambda=1, subsample=1.0; total time=   2.6s\n",
      "[CV] END colsample_bytree=1.0, gamma=0.1, learning_rate=0.1, max_depth=7, n_estimators=500, reg_alpha=0, reg_lambda=1, subsample=1.0; total time=   2.5s\n",
      "[CV] END colsample_bytree=1.0, gamma=0.1, learning_rate=0.1, max_depth=7, n_estimators=500, reg_alpha=0, reg_lambda=1, subsample=1.0; total time=   2.6s\n",
      "[CV] END colsample_bytree=1.0, gamma=0.1, learning_rate=0.1, max_depth=7, n_estimators=500, reg_alpha=0, reg_lambda=1, subsample=0.7; total time=   2.9s\n",
      "[CV] END colsample_bytree=1.0, gamma=0.1, learning_rate=0.1, max_depth=7, n_estimators=500, reg_alpha=0, reg_lambda=10, subsample=0.7; total time=   3.0s\n",
      "[CV] END colsample_bytree=1.0, gamma=0.1, learning_rate=0.1, max_depth=7, n_estimators=500, reg_alpha=0, reg_lambda=10, subsample=0.7; total time=   3.0s\n",
      "[CV] END colsample_bytree=1.0, gamma=0.1, learning_rate=0.1, max_depth=7, n_estimators=500, reg_alpha=0, reg_lambda=10, subsample=1.0; total time=   2.6s\n",
      "[CV] END colsample_bytree=1.0, gamma=0.1, learning_rate=0.1, max_depth=7, n_estimators=500, reg_alpha=0, reg_lambda=10, subsample=1.0; total time=   2.5s\n",
      "[CV] END colsample_bytree=1.0, gamma=0.1, learning_rate=0.1, max_depth=7, n_estimators=500, reg_alpha=0, reg_lambda=10, subsample=1.0; total time=   2.7s\n",
      "[CV] END colsample_bytree=1.0, gamma=0.1, learning_rate=0.1, max_depth=7, n_estimators=500, reg_alpha=0, reg_lambda=10, subsample=0.7; total time=   2.8s\n",
      "[CV] END colsample_bytree=1.0, gamma=0.1, learning_rate=0.1, max_depth=7, n_estimators=500, reg_alpha=1, reg_lambda=1, subsample=0.7; total time=   3.0s\n",
      "[CV] END colsample_bytree=1.0, gamma=0.1, learning_rate=0.1, max_depth=7, n_estimators=500, reg_alpha=1, reg_lambda=1, subsample=0.7; total time=   3.0s\n",
      "[CV] END colsample_bytree=1.0, gamma=0.1, learning_rate=0.1, max_depth=7, n_estimators=500, reg_alpha=1, reg_lambda=1, subsample=1.0; total time=   2.7s\n",
      "[CV] END colsample_bytree=1.0, gamma=0.1, learning_rate=0.1, max_depth=7, n_estimators=500, reg_alpha=1, reg_lambda=1, subsample=0.7; total time=   2.9s\n",
      "[CV] END colsample_bytree=1.0, gamma=0.1, learning_rate=0.1, max_depth=7, n_estimators=500, reg_alpha=1, reg_lambda=1, subsample=1.0; total time=   2.6s\n",
      "[CV] END colsample_bytree=1.0, gamma=0.1, learning_rate=0.1, max_depth=7, n_estimators=500, reg_alpha=1, reg_lambda=1, subsample=1.0; total time=   2.6s\n",
      "[CV] END colsample_bytree=1.0, gamma=0.1, learning_rate=0.1, max_depth=7, n_estimators=500, reg_alpha=1, reg_lambda=10, subsample=0.7; total time=   3.0s\n",
      "[CV] END colsample_bytree=1.0, gamma=0.1, learning_rate=0.1, max_depth=7, n_estimators=500, reg_alpha=1, reg_lambda=10, subsample=0.7; total time=   3.2s\n",
      "[CV] END colsample_bytree=1.0, gamma=0.1, learning_rate=0.1, max_depth=7, n_estimators=500, reg_alpha=1, reg_lambda=10, subsample=1.0; total time=   2.7s\n",
      "[CV] END colsample_bytree=1.0, gamma=0.1, learning_rate=0.1, max_depth=7, n_estimators=500, reg_alpha=1, reg_lambda=10, subsample=0.7; total time=   2.8s\n",
      "[CV] END colsample_bytree=1.0, gamma=0.1, learning_rate=0.1, max_depth=7, n_estimators=500, reg_alpha=1, reg_lambda=10, subsample=1.0; total time=   2.7s\n",
      "[CV] END colsample_bytree=1.0, gamma=0.1, learning_rate=0.1, max_depth=7, n_estimators=500, reg_alpha=1, reg_lambda=10, subsample=1.0; total time=   2.7s\n",
      "[CV] END colsample_bytree=1.0, gamma=0.1, learning_rate=0.1, max_depth=7, n_estimators=1000, reg_alpha=0, reg_lambda=1, subsample=0.7; total time=   5.9s\n",
      "[CV] END colsample_bytree=1.0, gamma=0.1, learning_rate=0.1, max_depth=7, n_estimators=1000, reg_alpha=0, reg_lambda=1, subsample=1.0; total time=   5.3s\n",
      "[CV] END colsample_bytree=1.0, gamma=0.1, learning_rate=0.1, max_depth=7, n_estimators=1000, reg_alpha=0, reg_lambda=1, subsample=0.7; total time=   6.1s\n",
      "[CV] END colsample_bytree=1.0, gamma=0.1, learning_rate=0.1, max_depth=7, n_estimators=1000, reg_alpha=0, reg_lambda=1, subsample=1.0; total time=   5.3s\n",
      "[CV] END colsample_bytree=1.0, gamma=0.1, learning_rate=0.1, max_depth=7, n_estimators=1000, reg_alpha=0, reg_lambda=1, subsample=1.0; total time=   5.4s\n",
      "[CV] END colsample_bytree=1.0, gamma=0.1, learning_rate=0.1, max_depth=7, n_estimators=1000, reg_alpha=0, reg_lambda=1, subsample=0.7; total time=   5.9s\n",
      "[CV] END colsample_bytree=1.0, gamma=0.1, learning_rate=0.1, max_depth=7, n_estimators=1000, reg_alpha=0, reg_lambda=10, subsample=0.7; total time=   6.0s\n",
      "[CV] END colsample_bytree=1.0, gamma=0.1, learning_rate=0.1, max_depth=7, n_estimators=1000, reg_alpha=0, reg_lambda=10, subsample=0.7; total time=   6.0s\n",
      "[CV] END colsample_bytree=1.0, gamma=0.1, learning_rate=0.1, max_depth=7, n_estimators=1000, reg_alpha=0, reg_lambda=10, subsample=1.0; total time=   5.3s\n",
      "[CV] END colsample_bytree=1.0, gamma=0.1, learning_rate=0.1, max_depth=7, n_estimators=1000, reg_alpha=0, reg_lambda=10, subsample=1.0; total time=   5.4s\n",
      "[CV] END colsample_bytree=1.0, gamma=0.1, learning_rate=0.1, max_depth=7, n_estimators=1000, reg_alpha=0, reg_lambda=10, subsample=1.0; total time=   5.4s\n",
      "[CV] END colsample_bytree=1.0, gamma=0.1, learning_rate=0.1, max_depth=7, n_estimators=1000, reg_alpha=0, reg_lambda=10, subsample=0.7; total time=   6.2s\n",
      "[CV] END colsample_bytree=1.0, gamma=0.1, learning_rate=0.1, max_depth=7, n_estimators=1000, reg_alpha=1, reg_lambda=1, subsample=1.0; total time=   5.2s\n",
      "[CV] END colsample_bytree=1.0, gamma=0.1, learning_rate=0.1, max_depth=7, n_estimators=1000, reg_alpha=1, reg_lambda=1, subsample=0.7; total time=   6.2s\n",
      "[CV] END colsample_bytree=1.0, gamma=0.1, learning_rate=0.1, max_depth=7, n_estimators=1000, reg_alpha=1, reg_lambda=1, subsample=0.7; total time=   6.0s\n",
      "[CV] END colsample_bytree=1.0, gamma=0.1, learning_rate=0.1, max_depth=7, n_estimators=1000, reg_alpha=1, reg_lambda=1, subsample=0.7; total time=   6.1s\n",
      "[CV] END colsample_bytree=1.0, gamma=0.1, learning_rate=0.1, max_depth=7, n_estimators=1000, reg_alpha=1, reg_lambda=1, subsample=1.0; total time=   5.2s\n",
      "[CV] END colsample_bytree=1.0, gamma=0.1, learning_rate=0.1, max_depth=7, n_estimators=1000, reg_alpha=1, reg_lambda=1, subsample=1.0; total time=   5.3s\n",
      "[CV] END colsample_bytree=1.0, gamma=0.3, learning_rate=0.01, max_depth=5, n_estimators=100, reg_alpha=0, reg_lambda=1, subsample=0.7; total time=   0.3s\n",
      "[CV] END colsample_bytree=1.0, gamma=0.3, learning_rate=0.01, max_depth=5, n_estimators=100, reg_alpha=0, reg_lambda=1, subsample=0.7; total time=   0.4s\n",
      "[CV] END colsample_bytree=1.0, gamma=0.1, learning_rate=0.1, max_depth=7, n_estimators=1000, reg_alpha=1, reg_lambda=10, subsample=0.7; total time=   5.9s\n",
      "[CV] END colsample_bytree=1.0, gamma=0.3, learning_rate=0.01, max_depth=5, n_estimators=100, reg_alpha=0, reg_lambda=1, subsample=1.0; total time=   0.3s\n",
      "[CV] END colsample_bytree=1.0, gamma=0.3, learning_rate=0.01, max_depth=5, n_estimators=100, reg_alpha=0, reg_lambda=1, subsample=0.7; total time=   0.4s\n",
      "[CV] END colsample_bytree=1.0, gamma=0.3, learning_rate=0.01, max_depth=5, n_estimators=100, reg_alpha=0, reg_lambda=1, subsample=1.0; total time=   0.3s\n",
      "[CV] END colsample_bytree=1.0, gamma=0.3, learning_rate=0.01, max_depth=5, n_estimators=100, reg_alpha=0, reg_lambda=1, subsample=1.0; total time=   0.3s\n",
      "[CV] END colsample_bytree=1.0, gamma=0.1, learning_rate=0.1, max_depth=7, n_estimators=1000, reg_alpha=1, reg_lambda=10, subsample=1.0; total time=   5.3s\n",
      "[CV] END colsample_bytree=1.0, gamma=0.3, learning_rate=0.01, max_depth=5, n_estimators=100, reg_alpha=0, reg_lambda=10, subsample=0.7; total time=   0.4s\n",
      "[CV] END colsample_bytree=1.0, gamma=0.1, learning_rate=0.1, max_depth=7, n_estimators=1000, reg_alpha=1, reg_lambda=10, subsample=1.0; total time=   5.5s\n",
      "[CV] END colsample_bytree=1.0, gamma=0.3, learning_rate=0.01, max_depth=5, n_estimators=100, reg_alpha=0, reg_lambda=10, subsample=0.7; total time=   0.3s\n",
      "[CV] END colsample_bytree=1.0, gamma=0.1, learning_rate=0.1, max_depth=7, n_estimators=1000, reg_alpha=1, reg_lambda=10, subsample=0.7; total time=   6.0s\n",
      "[CV] END colsample_bytree=1.0, gamma=0.1, learning_rate=0.1, max_depth=7, n_estimators=1000, reg_alpha=1, reg_lambda=10, subsample=1.0; total time=   5.1s\n",
      "[CV] END colsample_bytree=1.0, gamma=0.3, learning_rate=0.01, max_depth=5, n_estimators=100, reg_alpha=0, reg_lambda=10, subsample=0.7; total time=   0.3s\n",
      "[CV] END colsample_bytree=1.0, gamma=0.3, learning_rate=0.01, max_depth=5, n_estimators=100, reg_alpha=0, reg_lambda=10, subsample=1.0; total time=   0.3s\n",
      "[CV] END colsample_bytree=1.0, gamma=0.3, learning_rate=0.01, max_depth=5, n_estimators=100, reg_alpha=0, reg_lambda=10, subsample=1.0; total time=   0.3s\n",
      "[CV] END colsample_bytree=1.0, gamma=0.1, learning_rate=0.1, max_depth=7, n_estimators=1000, reg_alpha=1, reg_lambda=10, subsample=0.7; total time=   6.0s\n",
      "[CV] END colsample_bytree=1.0, gamma=0.3, learning_rate=0.01, max_depth=5, n_estimators=100, reg_alpha=0, reg_lambda=10, subsample=1.0; total time=   0.3s\n",
      "[CV] END colsample_bytree=1.0, gamma=0.3, learning_rate=0.01, max_depth=5, n_estimators=100, reg_alpha=1, reg_lambda=1, subsample=0.7; total time=   0.3s\n",
      "[CV] END colsample_bytree=1.0, gamma=0.3, learning_rate=0.01, max_depth=5, n_estimators=100, reg_alpha=1, reg_lambda=1, subsample=1.0; total time=   0.3s\n",
      "[CV] END colsample_bytree=1.0, gamma=0.3, learning_rate=0.01, max_depth=5, n_estimators=100, reg_alpha=1, reg_lambda=1, subsample=0.7; total time=   0.3s\n",
      "[CV] END colsample_bytree=1.0, gamma=0.3, learning_rate=0.01, max_depth=5, n_estimators=100, reg_alpha=1, reg_lambda=1, subsample=0.7; total time=   0.3s\n",
      "[CV] END colsample_bytree=1.0, gamma=0.3, learning_rate=0.01, max_depth=5, n_estimators=100, reg_alpha=1, reg_lambda=1, subsample=1.0; total time=   0.3s\n",
      "[CV] END colsample_bytree=1.0, gamma=0.3, learning_rate=0.01, max_depth=5, n_estimators=100, reg_alpha=1, reg_lambda=1, subsample=1.0; total time=   0.4s\n",
      "[CV] END colsample_bytree=1.0, gamma=0.3, learning_rate=0.01, max_depth=5, n_estimators=100, reg_alpha=1, reg_lambda=10, subsample=0.7; total time=   0.3s\n",
      "[CV] END colsample_bytree=1.0, gamma=0.3, learning_rate=0.01, max_depth=5, n_estimators=100, reg_alpha=1, reg_lambda=10, subsample=0.7; total time=   0.4s\n",
      "[CV] END colsample_bytree=1.0, gamma=0.3, learning_rate=0.01, max_depth=5, n_estimators=100, reg_alpha=1, reg_lambda=10, subsample=1.0; total time=   0.3s\n",
      "[CV] END colsample_bytree=1.0, gamma=0.3, learning_rate=0.01, max_depth=5, n_estimators=100, reg_alpha=1, reg_lambda=10, subsample=1.0; total time=   0.3s\n",
      "[CV] END colsample_bytree=1.0, gamma=0.3, learning_rate=0.01, max_depth=5, n_estimators=100, reg_alpha=1, reg_lambda=10, subsample=0.7; total time=   0.4s\n",
      "[CV] END colsample_bytree=1.0, gamma=0.3, learning_rate=0.01, max_depth=5, n_estimators=100, reg_alpha=1, reg_lambda=10, subsample=1.0; total time=   0.3s\n",
      "[CV] END colsample_bytree=1.0, gamma=0.3, learning_rate=0.01, max_depth=5, n_estimators=500, reg_alpha=0, reg_lambda=1, subsample=0.7; total time=   1.4s\n",
      "[CV] END colsample_bytree=1.0, gamma=0.3, learning_rate=0.01, max_depth=5, n_estimators=500, reg_alpha=0, reg_lambda=1, subsample=1.0; total time=   1.3s\n",
      "[CV] END colsample_bytree=1.0, gamma=0.3, learning_rate=0.01, max_depth=5, n_estimators=500, reg_alpha=0, reg_lambda=1, subsample=0.7; total time=   1.4s\n",
      "[CV] END colsample_bytree=1.0, gamma=0.3, learning_rate=0.01, max_depth=5, n_estimators=500, reg_alpha=0, reg_lambda=1, subsample=1.0; total time=   1.3s\n",
      "[CV] END colsample_bytree=1.0, gamma=0.3, learning_rate=0.01, max_depth=5, n_estimators=500, reg_alpha=0, reg_lambda=1, subsample=0.7; total time=   1.5s\n",
      "[CV] END colsample_bytree=1.0, gamma=0.3, learning_rate=0.01, max_depth=5, n_estimators=500, reg_alpha=0, reg_lambda=1, subsample=1.0; total time=   1.3s\n",
      "[CV] END colsample_bytree=1.0, gamma=0.3, learning_rate=0.01, max_depth=5, n_estimators=500, reg_alpha=0, reg_lambda=10, subsample=0.7; total time=   1.3s\n",
      "[CV] END colsample_bytree=1.0, gamma=0.3, learning_rate=0.01, max_depth=5, n_estimators=500, reg_alpha=0, reg_lambda=10, subsample=0.7; total time=   1.4s\n",
      "[CV] END colsample_bytree=1.0, gamma=0.3, learning_rate=0.01, max_depth=5, n_estimators=500, reg_alpha=0, reg_lambda=10, subsample=1.0; total time=   1.1s\n",
      "[CV] END colsample_bytree=1.0, gamma=0.3, learning_rate=0.01, max_depth=5, n_estimators=500, reg_alpha=0, reg_lambda=10, subsample=1.0; total time=   1.1s\n",
      "[CV] END colsample_bytree=1.0, gamma=0.3, learning_rate=0.01, max_depth=5, n_estimators=500, reg_alpha=0, reg_lambda=10, subsample=1.0; total time=   1.2s\n",
      "[CV] END colsample_bytree=1.0, gamma=0.3, learning_rate=0.01, max_depth=5, n_estimators=500, reg_alpha=0, reg_lambda=10, subsample=0.7; total time=   1.4s\n",
      "[CV] END colsample_bytree=1.0, gamma=0.3, learning_rate=0.01, max_depth=5, n_estimators=500, reg_alpha=1, reg_lambda=1, subsample=0.7; total time=   1.4s\n",
      "[CV] END colsample_bytree=1.0, gamma=0.3, learning_rate=0.01, max_depth=5, n_estimators=500, reg_alpha=1, reg_lambda=1, subsample=0.7; total time=   1.4s\n",
      "[CV] END colsample_bytree=1.0, gamma=0.3, learning_rate=0.01, max_depth=5, n_estimators=500, reg_alpha=1, reg_lambda=1, subsample=0.7; total time=   1.5s\n",
      "[CV] END colsample_bytree=1.0, gamma=0.3, learning_rate=0.01, max_depth=5, n_estimators=500, reg_alpha=1, reg_lambda=1, subsample=1.0; total time=   1.4s\n",
      "[CV] END colsample_bytree=1.0, gamma=0.3, learning_rate=0.01, max_depth=5, n_estimators=500, reg_alpha=1, reg_lambda=1, subsample=1.0; total time=   1.2s\n",
      "[CV] END colsample_bytree=1.0, gamma=0.3, learning_rate=0.01, max_depth=5, n_estimators=500, reg_alpha=1, reg_lambda=1, subsample=1.0; total time=   1.2s\n",
      "[CV] END colsample_bytree=1.0, gamma=0.3, learning_rate=0.01, max_depth=5, n_estimators=500, reg_alpha=1, reg_lambda=10, subsample=0.7; total time=   1.4s\n",
      "[CV] END colsample_bytree=1.0, gamma=0.3, learning_rate=0.01, max_depth=5, n_estimators=500, reg_alpha=1, reg_lambda=10, subsample=0.7; total time=   1.4s\n",
      "[CV] END colsample_bytree=1.0, gamma=0.3, learning_rate=0.01, max_depth=5, n_estimators=500, reg_alpha=1, reg_lambda=10, subsample=1.0; total time=   1.2s\n",
      "[CV] END colsample_bytree=1.0, gamma=0.3, learning_rate=0.01, max_depth=5, n_estimators=500, reg_alpha=1, reg_lambda=10, subsample=0.7; total time=   1.3s\n",
      "[CV] END colsample_bytree=1.0, gamma=0.3, learning_rate=0.01, max_depth=5, n_estimators=500, reg_alpha=1, reg_lambda=10, subsample=1.0; total time=   1.3s\n",
      "[CV] END colsample_bytree=1.0, gamma=0.3, learning_rate=0.01, max_depth=5, n_estimators=500, reg_alpha=1, reg_lambda=10, subsample=1.0; total time=   1.3s\n",
      "[CV] END colsample_bytree=1.0, gamma=0.3, learning_rate=0.01, max_depth=5, n_estimators=1000, reg_alpha=0, reg_lambda=1, subsample=0.7; total time=   2.6s\n",
      "[CV] END colsample_bytree=1.0, gamma=0.3, learning_rate=0.01, max_depth=5, n_estimators=1000, reg_alpha=0, reg_lambda=1, subsample=0.7; total time=   2.8s\n",
      "[CV] END colsample_bytree=1.0, gamma=0.3, learning_rate=0.01, max_depth=5, n_estimators=1000, reg_alpha=0, reg_lambda=1, subsample=1.0; total time=   2.4s\n",
      "[CV] END colsample_bytree=1.0, gamma=0.3, learning_rate=0.01, max_depth=5, n_estimators=1000, reg_alpha=0, reg_lambda=1, subsample=0.7; total time=   2.6s\n",
      "[CV] END colsample_bytree=1.0, gamma=0.3, learning_rate=0.01, max_depth=5, n_estimators=1000, reg_alpha=0, reg_lambda=1, subsample=1.0; total time=   2.4s\n",
      "[CV] END colsample_bytree=1.0, gamma=0.3, learning_rate=0.01, max_depth=5, n_estimators=1000, reg_alpha=0, reg_lambda=1, subsample=1.0; total time=   2.6s\n",
      "[CV] END colsample_bytree=1.0, gamma=0.3, learning_rate=0.01, max_depth=5, n_estimators=1000, reg_alpha=0, reg_lambda=10, subsample=0.7; total time=   2.7s\n",
      "[CV] END colsample_bytree=1.0, gamma=0.3, learning_rate=0.01, max_depth=5, n_estimators=1000, reg_alpha=0, reg_lambda=10, subsample=0.7; total time=   3.0s\n",
      "[CV] END colsample_bytree=1.0, gamma=0.3, learning_rate=0.01, max_depth=5, n_estimators=1000, reg_alpha=0, reg_lambda=10, subsample=1.0; total time=   2.3s\n",
      "[CV] END colsample_bytree=1.0, gamma=0.3, learning_rate=0.01, max_depth=5, n_estimators=1000, reg_alpha=0, reg_lambda=10, subsample=1.0; total time=   2.4s\n",
      "[CV] END colsample_bytree=1.0, gamma=0.3, learning_rate=0.01, max_depth=5, n_estimators=1000, reg_alpha=0, reg_lambda=10, subsample=0.7; total time=   2.6s\n",
      "[CV] END colsample_bytree=1.0, gamma=0.3, learning_rate=0.01, max_depth=5, n_estimators=1000, reg_alpha=0, reg_lambda=10, subsample=1.0; total time=   2.3s\n",
      "[CV] END colsample_bytree=1.0, gamma=0.3, learning_rate=0.01, max_depth=5, n_estimators=1000, reg_alpha=1, reg_lambda=1, subsample=0.7; total time=   2.7s\n",
      "[CV] END colsample_bytree=1.0, gamma=0.3, learning_rate=0.01, max_depth=5, n_estimators=1000, reg_alpha=1, reg_lambda=1, subsample=0.7; total time=   2.8s\n",
      "[CV] END colsample_bytree=1.0, gamma=0.3, learning_rate=0.01, max_depth=5, n_estimators=1000, reg_alpha=1, reg_lambda=1, subsample=1.0; total time=   2.6s\n",
      "[CV] END colsample_bytree=1.0, gamma=0.3, learning_rate=0.01, max_depth=5, n_estimators=1000, reg_alpha=1, reg_lambda=1, subsample=0.7; total time=   2.8s\n",
      "[CV] END colsample_bytree=1.0, gamma=0.3, learning_rate=0.01, max_depth=5, n_estimators=1000, reg_alpha=1, reg_lambda=1, subsample=1.0; total time=   2.4s\n",
      "[CV] END colsample_bytree=1.0, gamma=0.3, learning_rate=0.01, max_depth=5, n_estimators=1000, reg_alpha=1, reg_lambda=1, subsample=1.0; total time=   2.6s\n",
      "[CV] END colsample_bytree=1.0, gamma=0.3, learning_rate=0.01, max_depth=5, n_estimators=1000, reg_alpha=1, reg_lambda=10, subsample=0.7; total time=   2.7s\n",
      "[CV] END colsample_bytree=1.0, gamma=0.3, learning_rate=0.01, max_depth=5, n_estimators=1000, reg_alpha=1, reg_lambda=10, subsample=0.7; total time=   2.7s\n",
      "[CV] END colsample_bytree=1.0, gamma=0.3, learning_rate=0.01, max_depth=7, n_estimators=100, reg_alpha=0, reg_lambda=1, subsample=0.7; total time=   0.6s\n",
      "[CV] END colsample_bytree=1.0, gamma=0.3, learning_rate=0.01, max_depth=5, n_estimators=1000, reg_alpha=1, reg_lambda=10, subsample=1.0; total time=   2.4s\n",
      "[CV] END colsample_bytree=1.0, gamma=0.3, learning_rate=0.01, max_depth=7, n_estimators=100, reg_alpha=0, reg_lambda=1, subsample=0.7; total time=   0.6s\n",
      "[CV] END colsample_bytree=1.0, gamma=0.3, learning_rate=0.01, max_depth=5, n_estimators=1000, reg_alpha=1, reg_lambda=10, subsample=0.7; total time=   2.7s\n",
      "[CV] END colsample_bytree=1.0, gamma=0.3, learning_rate=0.01, max_depth=5, n_estimators=1000, reg_alpha=1, reg_lambda=10, subsample=1.0; total time=   2.3s\n",
      "[CV] END colsample_bytree=1.0, gamma=0.3, learning_rate=0.01, max_depth=7, n_estimators=100, reg_alpha=0, reg_lambda=1, subsample=0.7; total time=   0.6s\n",
      "[CV] END colsample_bytree=1.0, gamma=0.3, learning_rate=0.01, max_depth=7, n_estimators=100, reg_alpha=0, reg_lambda=1, subsample=1.0; total time=   0.6s\n",
      "[CV] END colsample_bytree=1.0, gamma=0.3, learning_rate=0.01, max_depth=5, n_estimators=1000, reg_alpha=1, reg_lambda=10, subsample=1.0; total time=   2.5s\n",
      "[CV] END colsample_bytree=1.0, gamma=0.3, learning_rate=0.01, max_depth=7, n_estimators=100, reg_alpha=0, reg_lambda=1, subsample=1.0; total time=   0.7s\n",
      "[CV] END colsample_bytree=1.0, gamma=0.3, learning_rate=0.01, max_depth=7, n_estimators=100, reg_alpha=0, reg_lambda=1, subsample=1.0; total time=   0.6s\n",
      "[CV] END colsample_bytree=1.0, gamma=0.3, learning_rate=0.01, max_depth=7, n_estimators=100, reg_alpha=0, reg_lambda=10, subsample=0.7; total time=   0.6s\n",
      "[CV] END colsample_bytree=1.0, gamma=0.3, learning_rate=0.01, max_depth=7, n_estimators=100, reg_alpha=0, reg_lambda=10, subsample=0.7; total time=   0.7s\n",
      "[CV] END colsample_bytree=1.0, gamma=0.3, learning_rate=0.01, max_depth=7, n_estimators=100, reg_alpha=0, reg_lambda=10, subsample=0.7; total time=   0.9s\n",
      "[CV] END colsample_bytree=1.0, gamma=0.3, learning_rate=0.01, max_depth=7, n_estimators=100, reg_alpha=0, reg_lambda=10, subsample=1.0; total time=   0.9s\n",
      "[CV] END colsample_bytree=1.0, gamma=0.3, learning_rate=0.01, max_depth=7, n_estimators=100, reg_alpha=0, reg_lambda=10, subsample=1.0; total time=   0.9s\n",
      "[CV] END colsample_bytree=1.0, gamma=0.3, learning_rate=0.01, max_depth=7, n_estimators=100, reg_alpha=0, reg_lambda=10, subsample=1.0; total time=   0.9s\n",
      "[CV] END colsample_bytree=1.0, gamma=0.3, learning_rate=0.01, max_depth=7, n_estimators=100, reg_alpha=1, reg_lambda=1, subsample=0.7; total time=   0.9s\n",
      "[CV] END colsample_bytree=1.0, gamma=0.3, learning_rate=0.01, max_depth=7, n_estimators=100, reg_alpha=1, reg_lambda=1, subsample=0.7; total time=   1.0s\n",
      "[CV] END colsample_bytree=1.0, gamma=0.3, learning_rate=0.01, max_depth=7, n_estimators=100, reg_alpha=1, reg_lambda=1, subsample=0.7; total time=   0.9s\n",
      "[CV] END colsample_bytree=1.0, gamma=0.3, learning_rate=0.01, max_depth=7, n_estimators=100, reg_alpha=1, reg_lambda=1, subsample=1.0; total time=   0.7s\n",
      "[CV] END colsample_bytree=1.0, gamma=0.3, learning_rate=0.01, max_depth=7, n_estimators=100, reg_alpha=1, reg_lambda=1, subsample=1.0; total time=   0.7s\n",
      "[CV] END colsample_bytree=1.0, gamma=0.3, learning_rate=0.01, max_depth=7, n_estimators=100, reg_alpha=1, reg_lambda=1, subsample=1.0; total time=   0.7s\n",
      "[CV] END colsample_bytree=1.0, gamma=0.3, learning_rate=0.01, max_depth=7, n_estimators=100, reg_alpha=1, reg_lambda=10, subsample=0.7; total time=   0.7s\n",
      "[CV] END colsample_bytree=1.0, gamma=0.3, learning_rate=0.01, max_depth=7, n_estimators=100, reg_alpha=1, reg_lambda=10, subsample=0.7; total time=   0.7s\n",
      "[CV] END colsample_bytree=1.0, gamma=0.3, learning_rate=0.01, max_depth=7, n_estimators=100, reg_alpha=1, reg_lambda=10, subsample=0.7; total time=   0.7s\n",
      "[CV] END colsample_bytree=1.0, gamma=0.3, learning_rate=0.01, max_depth=7, n_estimators=100, reg_alpha=1, reg_lambda=10, subsample=1.0; total time=   0.6s\n",
      "[CV] END colsample_bytree=1.0, gamma=0.3, learning_rate=0.01, max_depth=7, n_estimators=100, reg_alpha=1, reg_lambda=10, subsample=1.0; total time=   0.5s\n",
      "[CV] END colsample_bytree=1.0, gamma=0.3, learning_rate=0.01, max_depth=7, n_estimators=100, reg_alpha=1, reg_lambda=10, subsample=1.0; total time=   0.6s\n",
      "[CV] END colsample_bytree=1.0, gamma=0.3, learning_rate=0.01, max_depth=7, n_estimators=500, reg_alpha=0, reg_lambda=1, subsample=0.7; total time=   2.8s\n",
      "[CV] END colsample_bytree=1.0, gamma=0.3, learning_rate=0.01, max_depth=7, n_estimators=500, reg_alpha=0, reg_lambda=1, subsample=0.7; total time=   2.8s\n",
      "[CV] END colsample_bytree=1.0, gamma=0.3, learning_rate=0.01, max_depth=7, n_estimators=500, reg_alpha=0, reg_lambda=1, subsample=0.7; total time=   2.9s\n",
      "[CV] END colsample_bytree=1.0, gamma=0.3, learning_rate=0.01, max_depth=7, n_estimators=500, reg_alpha=0, reg_lambda=1, subsample=1.0; total time=   2.8s\n",
      "[CV] END colsample_bytree=1.0, gamma=0.3, learning_rate=0.01, max_depth=7, n_estimators=500, reg_alpha=0, reg_lambda=1, subsample=1.0; total time=   2.7s\n",
      "[CV] END colsample_bytree=1.0, gamma=0.3, learning_rate=0.01, max_depth=7, n_estimators=500, reg_alpha=0, reg_lambda=1, subsample=1.0; total time=   2.7s\n",
      "[CV] END colsample_bytree=1.0, gamma=0.3, learning_rate=0.01, max_depth=7, n_estimators=500, reg_alpha=0, reg_lambda=10, subsample=0.7; total time=   2.8s\n",
      "[CV] END colsample_bytree=1.0, gamma=0.3, learning_rate=0.01, max_depth=7, n_estimators=500, reg_alpha=0, reg_lambda=10, subsample=0.7; total time=   2.9s\n",
      "[CV] END colsample_bytree=1.0, gamma=0.3, learning_rate=0.01, max_depth=7, n_estimators=500, reg_alpha=0, reg_lambda=10, subsample=1.0; total time=   2.7s\n",
      "[CV] END colsample_bytree=1.0, gamma=0.3, learning_rate=0.01, max_depth=7, n_estimators=500, reg_alpha=0, reg_lambda=10, subsample=1.0; total time=   2.7s\n",
      "[CV] END colsample_bytree=1.0, gamma=0.3, learning_rate=0.01, max_depth=7, n_estimators=500, reg_alpha=0, reg_lambda=10, subsample=0.7; total time=   2.8s\n",
      "[CV] END colsample_bytree=1.0, gamma=0.3, learning_rate=0.01, max_depth=7, n_estimators=500, reg_alpha=0, reg_lambda=10, subsample=1.0; total time=   2.8s\n",
      "[CV] END colsample_bytree=1.0, gamma=0.3, learning_rate=0.01, max_depth=7, n_estimators=500, reg_alpha=1, reg_lambda=1, subsample=0.7; total time=   2.9s\n",
      "[CV] END colsample_bytree=1.0, gamma=0.3, learning_rate=0.01, max_depth=7, n_estimators=500, reg_alpha=1, reg_lambda=1, subsample=0.7; total time=   2.8s\n",
      "[CV] END colsample_bytree=1.0, gamma=0.3, learning_rate=0.01, max_depth=7, n_estimators=500, reg_alpha=1, reg_lambda=1, subsample=1.0; total time=   2.7s\n",
      "[CV] END colsample_bytree=1.0, gamma=0.3, learning_rate=0.01, max_depth=7, n_estimators=500, reg_alpha=1, reg_lambda=1, subsample=0.7; total time=   3.0s\n",
      "[CV] END colsample_bytree=1.0, gamma=0.3, learning_rate=0.01, max_depth=7, n_estimators=500, reg_alpha=1, reg_lambda=1, subsample=1.0; total time=   3.0s\n",
      "[CV] END colsample_bytree=1.0, gamma=0.3, learning_rate=0.01, max_depth=7, n_estimators=500, reg_alpha=1, reg_lambda=10, subsample=0.7; total time=   3.0s\n",
      "[CV] END colsample_bytree=1.0, gamma=0.3, learning_rate=0.01, max_depth=7, n_estimators=500, reg_alpha=1, reg_lambda=1, subsample=1.0; total time=   3.0s\n",
      "[CV] END colsample_bytree=1.0, gamma=0.3, learning_rate=0.01, max_depth=7, n_estimators=500, reg_alpha=1, reg_lambda=10, subsample=1.0; total time=   2.9s\n",
      "[CV] END colsample_bytree=1.0, gamma=0.3, learning_rate=0.01, max_depth=7, n_estimators=500, reg_alpha=1, reg_lambda=10, subsample=0.7; total time=   3.1s\n",
      "[CV] END colsample_bytree=1.0, gamma=0.3, learning_rate=0.01, max_depth=7, n_estimators=500, reg_alpha=1, reg_lambda=10, subsample=0.7; total time=   2.9s\n",
      "[CV] END colsample_bytree=1.0, gamma=0.3, learning_rate=0.01, max_depth=7, n_estimators=500, reg_alpha=1, reg_lambda=10, subsample=1.0; total time=   2.9s\n",
      "[CV] END colsample_bytree=1.0, gamma=0.3, learning_rate=0.01, max_depth=7, n_estimators=500, reg_alpha=1, reg_lambda=10, subsample=1.0; total time=   2.9s\n",
      "[CV] END colsample_bytree=1.0, gamma=0.3, learning_rate=0.01, max_depth=7, n_estimators=1000, reg_alpha=0, reg_lambda=1, subsample=1.0; total time=   5.2s\n",
      "[CV] END colsample_bytree=1.0, gamma=0.3, learning_rate=0.01, max_depth=7, n_estimators=1000, reg_alpha=0, reg_lambda=1, subsample=1.0; total time=   5.3s\n",
      "[CV] END colsample_bytree=1.0, gamma=0.3, learning_rate=0.01, max_depth=7, n_estimators=1000, reg_alpha=0, reg_lambda=1, subsample=1.0; total time=   5.4s\n",
      "[CV] END colsample_bytree=1.0, gamma=0.3, learning_rate=0.01, max_depth=7, n_estimators=1000, reg_alpha=0, reg_lambda=1, subsample=0.7; total time=   5.6s\n",
      "[CV] END colsample_bytree=1.0, gamma=0.3, learning_rate=0.01, max_depth=7, n_estimators=1000, reg_alpha=0, reg_lambda=1, subsample=0.7; total time=   5.7s\n",
      "[CV] END colsample_bytree=1.0, gamma=0.3, learning_rate=0.01, max_depth=7, n_estimators=1000, reg_alpha=0, reg_lambda=1, subsample=0.7; total time=   5.8s\n",
      "[CV] END colsample_bytree=1.0, gamma=0.3, learning_rate=0.01, max_depth=7, n_estimators=1000, reg_alpha=0, reg_lambda=10, subsample=0.7; total time=   5.7s\n",
      "[CV] END colsample_bytree=1.0, gamma=0.3, learning_rate=0.01, max_depth=7, n_estimators=1000, reg_alpha=0, reg_lambda=10, subsample=0.7; total time=   5.5s\n",
      "[CV] END colsample_bytree=1.0, gamma=0.3, learning_rate=0.01, max_depth=7, n_estimators=1000, reg_alpha=0, reg_lambda=10, subsample=1.0; total time=   5.2s\n",
      "[CV] END colsample_bytree=1.0, gamma=0.3, learning_rate=0.01, max_depth=7, n_estimators=1000, reg_alpha=0, reg_lambda=10, subsample=1.0; total time=   5.4s\n",
      "[CV] END colsample_bytree=1.0, gamma=0.3, learning_rate=0.01, max_depth=7, n_estimators=1000, reg_alpha=0, reg_lambda=10, subsample=1.0; total time=   5.3s\n",
      "[CV] END colsample_bytree=1.0, gamma=0.3, learning_rate=0.01, max_depth=7, n_estimators=1000, reg_alpha=0, reg_lambda=10, subsample=0.7; total time=   5.8s\n",
      "[CV] END colsample_bytree=1.0, gamma=0.3, learning_rate=0.01, max_depth=7, n_estimators=1000, reg_alpha=1, reg_lambda=1, subsample=0.7; total time=   5.8s\n",
      "[CV] END colsample_bytree=1.0, gamma=0.3, learning_rate=0.01, max_depth=7, n_estimators=1000, reg_alpha=1, reg_lambda=1, subsample=1.0; total time=   5.5s\n",
      "[CV] END colsample_bytree=1.0, gamma=0.3, learning_rate=0.01, max_depth=7, n_estimators=1000, reg_alpha=1, reg_lambda=1, subsample=0.7; total time=   5.6s\n",
      "[CV] END colsample_bytree=1.0, gamma=0.3, learning_rate=0.01, max_depth=7, n_estimators=1000, reg_alpha=1, reg_lambda=1, subsample=0.7; total time=   5.9s\n",
      "[CV] END colsample_bytree=1.0, gamma=0.3, learning_rate=0.01, max_depth=7, n_estimators=1000, reg_alpha=1, reg_lambda=1, subsample=1.0; total time=   5.2s\n",
      "[CV] END colsample_bytree=1.0, gamma=0.3, learning_rate=0.01, max_depth=7, n_estimators=1000, reg_alpha=1, reg_lambda=1, subsample=1.0; total time=   5.2s\n",
      "[CV] END colsample_bytree=1.0, gamma=0.3, learning_rate=0.1, max_depth=5, n_estimators=100, reg_alpha=0, reg_lambda=1, subsample=0.7; total time=   0.3s\n",
      "[CV] END colsample_bytree=1.0, gamma=0.3, learning_rate=0.1, max_depth=5, n_estimators=100, reg_alpha=0, reg_lambda=1, subsample=0.7; total time=   0.3s\n",
      "[CV] END colsample_bytree=1.0, gamma=0.3, learning_rate=0.01, max_depth=7, n_estimators=1000, reg_alpha=1, reg_lambda=10, subsample=0.7; total time=   5.7s\n",
      "[CV] END colsample_bytree=1.0, gamma=0.3, learning_rate=0.1, max_depth=5, n_estimators=100, reg_alpha=0, reg_lambda=1, subsample=0.7; total time=   0.3s\n",
      "[CV] END colsample_bytree=1.0, gamma=0.3, learning_rate=0.1, max_depth=5, n_estimators=100, reg_alpha=0, reg_lambda=1, subsample=1.0; total time=   0.3s\n",
      "[CV] END colsample_bytree=1.0, gamma=0.3, learning_rate=0.01, max_depth=7, n_estimators=1000, reg_alpha=1, reg_lambda=10, subsample=1.0; total time=   5.2s\n",
      "[CV] END colsample_bytree=1.0, gamma=0.3, learning_rate=0.01, max_depth=7, n_estimators=1000, reg_alpha=1, reg_lambda=10, subsample=1.0; total time=   5.2s\n",
      "[CV] END colsample_bytree=1.0, gamma=0.3, learning_rate=0.1, max_depth=5, n_estimators=100, reg_alpha=0, reg_lambda=1, subsample=1.0; total time=   0.2s\n",
      "[CV] END colsample_bytree=1.0, gamma=0.3, learning_rate=0.1, max_depth=5, n_estimators=100, reg_alpha=0, reg_lambda=1, subsample=1.0; total time=   0.3s\n",
      "[CV] END colsample_bytree=1.0, gamma=0.3, learning_rate=0.01, max_depth=7, n_estimators=1000, reg_alpha=1, reg_lambda=10, subsample=0.7; total time=   5.8s\n",
      "[CV] END colsample_bytree=1.0, gamma=0.3, learning_rate=0.1, max_depth=5, n_estimators=100, reg_alpha=0, reg_lambda=10, subsample=0.7; total time=   0.3s\n",
      "[CV] END colsample_bytree=1.0, gamma=0.3, learning_rate=0.01, max_depth=7, n_estimators=1000, reg_alpha=1, reg_lambda=10, subsample=1.0; total time=   5.3s\n",
      "[CV] END colsample_bytree=1.0, gamma=0.3, learning_rate=0.1, max_depth=5, n_estimators=100, reg_alpha=0, reg_lambda=10, subsample=0.7; total time=   0.3s\n",
      "[CV] END colsample_bytree=1.0, gamma=0.3, learning_rate=0.1, max_depth=5, n_estimators=100, reg_alpha=0, reg_lambda=10, subsample=0.7; total time=   0.3s\n",
      "[CV] END colsample_bytree=1.0, gamma=0.3, learning_rate=0.1, max_depth=5, n_estimators=100, reg_alpha=0, reg_lambda=10, subsample=1.0; total time=   0.3s\n",
      "[CV] END colsample_bytree=1.0, gamma=0.3, learning_rate=0.1, max_depth=5, n_estimators=100, reg_alpha=0, reg_lambda=10, subsample=1.0; total time=   0.3s\n",
      "[CV] END colsample_bytree=1.0, gamma=0.3, learning_rate=0.01, max_depth=7, n_estimators=1000, reg_alpha=1, reg_lambda=10, subsample=0.7; total time=   5.8s\n",
      "[CV] END colsample_bytree=1.0, gamma=0.3, learning_rate=0.1, max_depth=5, n_estimators=100, reg_alpha=0, reg_lambda=10, subsample=1.0; total time=   0.3s\n",
      "[CV] END colsample_bytree=1.0, gamma=0.3, learning_rate=0.1, max_depth=5, n_estimators=100, reg_alpha=1, reg_lambda=1, subsample=0.7; total time=   0.3s\n",
      "[CV] END colsample_bytree=1.0, gamma=0.3, learning_rate=0.1, max_depth=5, n_estimators=100, reg_alpha=1, reg_lambda=1, subsample=0.7; total time=   0.3s\n",
      "[CV] END colsample_bytree=1.0, gamma=0.3, learning_rate=0.1, max_depth=5, n_estimators=100, reg_alpha=1, reg_lambda=1, subsample=1.0; total time=   0.3s\n",
      "[CV] END colsample_bytree=1.0, gamma=0.3, learning_rate=0.1, max_depth=5, n_estimators=100, reg_alpha=1, reg_lambda=1, subsample=1.0; total time=   0.3s\n",
      "[CV] END colsample_bytree=1.0, gamma=0.3, learning_rate=0.1, max_depth=5, n_estimators=100, reg_alpha=1, reg_lambda=1, subsample=0.7; total time=   0.3s\n",
      "[CV] END colsample_bytree=1.0, gamma=0.3, learning_rate=0.1, max_depth=5, n_estimators=100, reg_alpha=1, reg_lambda=1, subsample=1.0; total time=   0.3s\n",
      "[CV] END colsample_bytree=1.0, gamma=0.3, learning_rate=0.1, max_depth=5, n_estimators=100, reg_alpha=1, reg_lambda=10, subsample=0.7; total time=   0.3s\n",
      "[CV] END colsample_bytree=1.0, gamma=0.3, learning_rate=0.1, max_depth=5, n_estimators=100, reg_alpha=1, reg_lambda=10, subsample=0.7; total time=   0.3s\n",
      "[CV] END colsample_bytree=1.0, gamma=0.3, learning_rate=0.1, max_depth=5, n_estimators=100, reg_alpha=1, reg_lambda=10, subsample=0.7; total time=   0.3s\n",
      "[CV] END colsample_bytree=1.0, gamma=0.3, learning_rate=0.1, max_depth=5, n_estimators=100, reg_alpha=1, reg_lambda=10, subsample=1.0; total time=   0.3s\n",
      "[CV] END colsample_bytree=1.0, gamma=0.3, learning_rate=0.1, max_depth=5, n_estimators=100, reg_alpha=1, reg_lambda=10, subsample=1.0; total time=   0.3s\n",
      "[CV] END colsample_bytree=1.0, gamma=0.3, learning_rate=0.1, max_depth=5, n_estimators=100, reg_alpha=1, reg_lambda=10, subsample=1.0; total time=   0.3s\n",
      "[CV] END colsample_bytree=1.0, gamma=0.3, learning_rate=0.1, max_depth=5, n_estimators=500, reg_alpha=0, reg_lambda=1, subsample=1.0; total time=   1.1s\n",
      "[CV] END colsample_bytree=1.0, gamma=0.3, learning_rate=0.1, max_depth=5, n_estimators=500, reg_alpha=0, reg_lambda=1, subsample=1.0; total time=   1.2s\n",
      "[CV] END colsample_bytree=1.0, gamma=0.3, learning_rate=0.1, max_depth=5, n_estimators=500, reg_alpha=0, reg_lambda=1, subsample=0.7; total time=   1.4s\n",
      "[CV] END colsample_bytree=1.0, gamma=0.3, learning_rate=0.1, max_depth=5, n_estimators=500, reg_alpha=0, reg_lambda=1, subsample=0.7; total time=   1.3s\n",
      "[CV] END colsample_bytree=1.0, gamma=0.3, learning_rate=0.1, max_depth=5, n_estimators=500, reg_alpha=0, reg_lambda=1, subsample=1.0; total time=   1.3s\n",
      "[CV] END colsample_bytree=1.0, gamma=0.3, learning_rate=0.1, max_depth=5, n_estimators=500, reg_alpha=0, reg_lambda=1, subsample=0.7; total time=   1.4s\n",
      "[CV] END colsample_bytree=1.0, gamma=0.3, learning_rate=0.1, max_depth=5, n_estimators=500, reg_alpha=0, reg_lambda=10, subsample=0.7; total time=   1.4s\n",
      "[CV] END colsample_bytree=1.0, gamma=0.3, learning_rate=0.1, max_depth=5, n_estimators=500, reg_alpha=0, reg_lambda=10, subsample=0.7; total time=   1.4s\n",
      "[CV] END colsample_bytree=1.0, gamma=0.3, learning_rate=0.1, max_depth=5, n_estimators=500, reg_alpha=0, reg_lambda=10, subsample=1.0; total time=   1.2s\n",
      "[CV] END colsample_bytree=1.0, gamma=0.3, learning_rate=0.1, max_depth=5, n_estimators=500, reg_alpha=0, reg_lambda=10, subsample=1.0; total time=   1.2s\n",
      "[CV] END colsample_bytree=1.0, gamma=0.3, learning_rate=0.1, max_depth=5, n_estimators=500, reg_alpha=0, reg_lambda=10, subsample=1.0; total time=   1.3s\n",
      "[CV] END colsample_bytree=1.0, gamma=0.3, learning_rate=0.1, max_depth=5, n_estimators=500, reg_alpha=0, reg_lambda=10, subsample=0.7; total time=   1.4s\n",
      "[CV] END colsample_bytree=1.0, gamma=0.3, learning_rate=0.1, max_depth=5, n_estimators=500, reg_alpha=1, reg_lambda=1, subsample=0.7; total time=   1.4s\n",
      "[CV] END colsample_bytree=1.0, gamma=0.3, learning_rate=0.1, max_depth=5, n_estimators=500, reg_alpha=1, reg_lambda=1, subsample=1.0; total time=   1.2s\n",
      "[CV] END colsample_bytree=1.0, gamma=0.3, learning_rate=0.1, max_depth=5, n_estimators=500, reg_alpha=1, reg_lambda=1, subsample=0.7; total time=   1.4s\n",
      "[CV] END colsample_bytree=1.0, gamma=0.3, learning_rate=0.1, max_depth=5, n_estimators=500, reg_alpha=1, reg_lambda=1, subsample=0.7; total time=   1.6s\n",
      "[CV] END colsample_bytree=1.0, gamma=0.3, learning_rate=0.1, max_depth=5, n_estimators=500, reg_alpha=1, reg_lambda=1, subsample=1.0; total time=   1.1s\n",
      "[CV] END colsample_bytree=1.0, gamma=0.3, learning_rate=0.1, max_depth=5, n_estimators=500, reg_alpha=1, reg_lambda=1, subsample=1.0; total time=   1.1s\n",
      "[CV] END colsample_bytree=1.0, gamma=0.3, learning_rate=0.1, max_depth=5, n_estimators=500, reg_alpha=1, reg_lambda=10, subsample=1.0; total time=   1.2s\n",
      "[CV] END colsample_bytree=1.0, gamma=0.3, learning_rate=0.1, max_depth=5, n_estimators=500, reg_alpha=1, reg_lambda=10, subsample=0.7; total time=   1.4s\n",
      "[CV] END colsample_bytree=1.0, gamma=0.3, learning_rate=0.1, max_depth=5, n_estimators=500, reg_alpha=1, reg_lambda=10, subsample=0.7; total time=   1.4s\n",
      "[CV] END colsample_bytree=1.0, gamma=0.3, learning_rate=0.1, max_depth=5, n_estimators=500, reg_alpha=1, reg_lambda=10, subsample=1.0; total time=   1.1s\n",
      "[CV] END colsample_bytree=1.0, gamma=0.3, learning_rate=0.1, max_depth=5, n_estimators=500, reg_alpha=1, reg_lambda=10, subsample=0.7; total time=   1.3s\n",
      "[CV] END colsample_bytree=1.0, gamma=0.3, learning_rate=0.1, max_depth=5, n_estimators=500, reg_alpha=1, reg_lambda=10, subsample=1.0; total time=   1.1s\n",
      "[CV] END colsample_bytree=1.0, gamma=0.3, learning_rate=0.1, max_depth=5, n_estimators=1000, reg_alpha=0, reg_lambda=1, subsample=0.7; total time=   2.6s\n",
      "[CV] END colsample_bytree=1.0, gamma=0.3, learning_rate=0.1, max_depth=5, n_estimators=1000, reg_alpha=0, reg_lambda=1, subsample=1.0; total time=   2.4s\n",
      "[CV] END colsample_bytree=1.0, gamma=0.3, learning_rate=0.1, max_depth=5, n_estimators=1000, reg_alpha=0, reg_lambda=1, subsample=0.7; total time=   2.8s\n",
      "[CV] END colsample_bytree=1.0, gamma=0.3, learning_rate=0.1, max_depth=5, n_estimators=1000, reg_alpha=0, reg_lambda=1, subsample=1.0; total time=   2.5s\n",
      "[CV] END colsample_bytree=1.0, gamma=0.3, learning_rate=0.1, max_depth=5, n_estimators=1000, reg_alpha=0, reg_lambda=1, subsample=1.0; total time=   2.5s\n",
      "[CV] END colsample_bytree=1.0, gamma=0.3, learning_rate=0.1, max_depth=5, n_estimators=1000, reg_alpha=0, reg_lambda=1, subsample=0.7; total time=   3.0s\n",
      "[CV] END colsample_bytree=1.0, gamma=0.3, learning_rate=0.1, max_depth=5, n_estimators=1000, reg_alpha=0, reg_lambda=10, subsample=0.7; total time=   3.2s\n",
      "[CV] END colsample_bytree=1.0, gamma=0.3, learning_rate=0.1, max_depth=5, n_estimators=1000, reg_alpha=0, reg_lambda=10, subsample=0.7; total time=   3.2s\n",
      "[CV] END colsample_bytree=1.0, gamma=0.3, learning_rate=0.1, max_depth=5, n_estimators=1000, reg_alpha=0, reg_lambda=10, subsample=1.0; total time=   2.7s\n",
      "[CV] END colsample_bytree=1.0, gamma=0.3, learning_rate=0.1, max_depth=5, n_estimators=1000, reg_alpha=0, reg_lambda=10, subsample=1.0; total time=   2.7s\n",
      "[CV] END colsample_bytree=1.0, gamma=0.3, learning_rate=0.1, max_depth=5, n_estimators=1000, reg_alpha=0, reg_lambda=10, subsample=1.0; total time=   2.8s\n",
      "[CV] END colsample_bytree=1.0, gamma=0.3, learning_rate=0.1, max_depth=5, n_estimators=1000, reg_alpha=0, reg_lambda=10, subsample=0.7; total time=   3.2s\n",
      "[CV] END colsample_bytree=1.0, gamma=0.3, learning_rate=0.1, max_depth=5, n_estimators=1000, reg_alpha=1, reg_lambda=1, subsample=0.7; total time=   3.0s\n",
      "[CV] END colsample_bytree=1.0, gamma=0.3, learning_rate=0.1, max_depth=5, n_estimators=1000, reg_alpha=1, reg_lambda=1, subsample=1.0; total time=   2.6s\n",
      "[CV] END colsample_bytree=1.0, gamma=0.3, learning_rate=0.1, max_depth=5, n_estimators=1000, reg_alpha=1, reg_lambda=1, subsample=0.7; total time=   2.7s\n",
      "[CV] END colsample_bytree=1.0, gamma=0.3, learning_rate=0.1, max_depth=5, n_estimators=1000, reg_alpha=1, reg_lambda=1, subsample=0.7; total time=   2.8s\n",
      "[CV] END colsample_bytree=1.0, gamma=0.3, learning_rate=0.1, max_depth=5, n_estimators=1000, reg_alpha=1, reg_lambda=1, subsample=1.0; total time=   2.5s\n",
      "[CV] END colsample_bytree=1.0, gamma=0.3, learning_rate=0.1, max_depth=5, n_estimators=1000, reg_alpha=1, reg_lambda=1, subsample=1.0; total time=   2.6s\n",
      "[CV] END colsample_bytree=1.0, gamma=0.3, learning_rate=0.1, max_depth=5, n_estimators=1000, reg_alpha=1, reg_lambda=10, subsample=0.7; total time=   2.6s\n",
      "[CV] END colsample_bytree=1.0, gamma=0.3, learning_rate=0.1, max_depth=7, n_estimators=100, reg_alpha=0, reg_lambda=1, subsample=0.7; total time=   0.5s\n",
      "[CV] END colsample_bytree=1.0, gamma=0.3, learning_rate=0.1, max_depth=5, n_estimators=1000, reg_alpha=1, reg_lambda=10, subsample=0.7; total time=   2.7s\n",
      "[CV] END colsample_bytree=1.0, gamma=0.3, learning_rate=0.1, max_depth=7, n_estimators=100, reg_alpha=0, reg_lambda=1, subsample=0.7; total time=   0.6s\n",
      "[CV] END colsample_bytree=1.0, gamma=0.3, learning_rate=0.1, max_depth=5, n_estimators=1000, reg_alpha=1, reg_lambda=10, subsample=0.7; total time=   2.8s\n",
      "[CV] END colsample_bytree=1.0, gamma=0.3, learning_rate=0.1, max_depth=5, n_estimators=1000, reg_alpha=1, reg_lambda=10, subsample=1.0; total time=   2.5s\n",
      "[CV] END colsample_bytree=1.0, gamma=0.3, learning_rate=0.1, max_depth=7, n_estimators=100, reg_alpha=0, reg_lambda=1, subsample=0.7; total time=   0.6s\n",
      "[CV] END colsample_bytree=1.0, gamma=0.3, learning_rate=0.1, max_depth=5, n_estimators=1000, reg_alpha=1, reg_lambda=10, subsample=1.0; total time=   2.6s\n",
      "[CV] END colsample_bytree=1.0, gamma=0.3, learning_rate=0.1, max_depth=5, n_estimators=1000, reg_alpha=1, reg_lambda=10, subsample=1.0; total time=   2.6s\n",
      "[CV] END colsample_bytree=1.0, gamma=0.3, learning_rate=0.1, max_depth=7, n_estimators=100, reg_alpha=0, reg_lambda=1, subsample=1.0; total time=   0.5s\n",
      "[CV] END colsample_bytree=1.0, gamma=0.3, learning_rate=0.1, max_depth=7, n_estimators=100, reg_alpha=0, reg_lambda=1, subsample=1.0; total time=   0.6s\n",
      "[CV] END colsample_bytree=1.0, gamma=0.3, learning_rate=0.1, max_depth=7, n_estimators=100, reg_alpha=0, reg_lambda=1, subsample=1.0; total time=   0.5s\n",
      "[CV] END colsample_bytree=1.0, gamma=0.3, learning_rate=0.1, max_depth=7, n_estimators=100, reg_alpha=0, reg_lambda=10, subsample=0.7; total time=   0.7s\n",
      "[CV] END colsample_bytree=1.0, gamma=0.3, learning_rate=0.1, max_depth=7, n_estimators=100, reg_alpha=0, reg_lambda=10, subsample=0.7; total time=   0.6s\n",
      "[CV] END colsample_bytree=1.0, gamma=0.3, learning_rate=0.1, max_depth=7, n_estimators=100, reg_alpha=0, reg_lambda=10, subsample=1.0; total time=   0.5s\n",
      "[CV] END colsample_bytree=1.0, gamma=0.3, learning_rate=0.1, max_depth=7, n_estimators=100, reg_alpha=0, reg_lambda=10, subsample=0.7; total time=   0.6s\n",
      "[CV] END colsample_bytree=1.0, gamma=0.3, learning_rate=0.1, max_depth=7, n_estimators=100, reg_alpha=0, reg_lambda=10, subsample=1.0; total time=   0.5s\n",
      "[CV] END colsample_bytree=1.0, gamma=0.3, learning_rate=0.1, max_depth=7, n_estimators=100, reg_alpha=0, reg_lambda=10, subsample=1.0; total time=   0.5s\n",
      "[CV] END colsample_bytree=1.0, gamma=0.3, learning_rate=0.1, max_depth=7, n_estimators=100, reg_alpha=1, reg_lambda=1, subsample=0.7; total time=   0.6s\n",
      "[CV] END colsample_bytree=1.0, gamma=0.3, learning_rate=0.1, max_depth=7, n_estimators=100, reg_alpha=1, reg_lambda=1, subsample=0.7; total time=   0.6s\n",
      "[CV] END colsample_bytree=1.0, gamma=0.3, learning_rate=0.1, max_depth=7, n_estimators=100, reg_alpha=1, reg_lambda=1, subsample=1.0; total time=   0.6s\n",
      "[CV] END colsample_bytree=1.0, gamma=0.3, learning_rate=0.1, max_depth=7, n_estimators=100, reg_alpha=1, reg_lambda=1, subsample=1.0; total time=   0.6s\n",
      "[CV] END colsample_bytree=1.0, gamma=0.3, learning_rate=0.1, max_depth=7, n_estimators=100, reg_alpha=1, reg_lambda=1, subsample=0.7; total time=   0.7s\n",
      "[CV] END colsample_bytree=1.0, gamma=0.3, learning_rate=0.1, max_depth=7, n_estimators=100, reg_alpha=1, reg_lambda=1, subsample=1.0; total time=   0.6s\n",
      "[CV] END colsample_bytree=1.0, gamma=0.3, learning_rate=0.1, max_depth=7, n_estimators=100, reg_alpha=1, reg_lambda=10, subsample=0.7; total time=   0.6s\n",
      "[CV] END colsample_bytree=1.0, gamma=0.3, learning_rate=0.1, max_depth=7, n_estimators=100, reg_alpha=1, reg_lambda=10, subsample=0.7; total time=   0.7s\n",
      "[CV] END colsample_bytree=1.0, gamma=0.3, learning_rate=0.1, max_depth=7, n_estimators=100, reg_alpha=1, reg_lambda=10, subsample=1.0; total time=   0.5s\n",
      "[CV] END colsample_bytree=1.0, gamma=0.3, learning_rate=0.1, max_depth=7, n_estimators=100, reg_alpha=1, reg_lambda=10, subsample=0.7; total time=   0.7s\n",
      "[CV] END colsample_bytree=1.0, gamma=0.3, learning_rate=0.1, max_depth=7, n_estimators=100, reg_alpha=1, reg_lambda=10, subsample=1.0; total time=   0.5s\n",
      "[CV] END colsample_bytree=1.0, gamma=0.3, learning_rate=0.1, max_depth=7, n_estimators=100, reg_alpha=1, reg_lambda=10, subsample=1.0; total time=   0.5s\n",
      "[CV] END colsample_bytree=1.0, gamma=0.3, learning_rate=0.1, max_depth=7, n_estimators=500, reg_alpha=0, reg_lambda=1, subsample=1.0; total time=   2.7s\n",
      "[CV] END colsample_bytree=1.0, gamma=0.3, learning_rate=0.1, max_depth=7, n_estimators=500, reg_alpha=0, reg_lambda=1, subsample=1.0; total time=   2.5s\n",
      "[CV] END colsample_bytree=1.0, gamma=0.3, learning_rate=0.1, max_depth=7, n_estimators=500, reg_alpha=0, reg_lambda=1, subsample=0.7; total time=   2.9s\n",
      "[CV] END colsample_bytree=1.0, gamma=0.3, learning_rate=0.1, max_depth=7, n_estimators=500, reg_alpha=0, reg_lambda=1, subsample=0.7; total time=   2.9s\n",
      "[CV] END colsample_bytree=1.0, gamma=0.3, learning_rate=0.1, max_depth=7, n_estimators=500, reg_alpha=0, reg_lambda=1, subsample=1.0; total time=   2.6s\n",
      "[CV] END colsample_bytree=1.0, gamma=0.3, learning_rate=0.1, max_depth=7, n_estimators=500, reg_alpha=0, reg_lambda=1, subsample=0.7; total time=   2.9s\n",
      "[CV] END colsample_bytree=1.0, gamma=0.3, learning_rate=0.1, max_depth=7, n_estimators=500, reg_alpha=0, reg_lambda=10, subsample=0.7; total time=   3.1s\n",
      "[CV] END colsample_bytree=1.0, gamma=0.3, learning_rate=0.1, max_depth=7, n_estimators=500, reg_alpha=0, reg_lambda=10, subsample=0.7; total time=   3.1s\n",
      "[CV] END colsample_bytree=1.0, gamma=0.3, learning_rate=0.1, max_depth=7, n_estimators=500, reg_alpha=0, reg_lambda=10, subsample=1.0; total time=   2.6s\n",
      "[CV] END colsample_bytree=1.0, gamma=0.3, learning_rate=0.1, max_depth=7, n_estimators=500, reg_alpha=0, reg_lambda=10, subsample=1.0; total time=   2.6s\n",
      "[CV] END colsample_bytree=1.0, gamma=0.3, learning_rate=0.1, max_depth=7, n_estimators=500, reg_alpha=0, reg_lambda=10, subsample=1.0; total time=   2.7s\n",
      "[CV] END colsample_bytree=1.0, gamma=0.3, learning_rate=0.1, max_depth=7, n_estimators=500, reg_alpha=0, reg_lambda=10, subsample=0.7; total time=   2.9s\n",
      "[CV] END colsample_bytree=1.0, gamma=0.3, learning_rate=0.1, max_depth=7, n_estimators=500, reg_alpha=1, reg_lambda=1, subsample=0.7; total time=   2.8s\n",
      "[CV] END colsample_bytree=1.0, gamma=0.3, learning_rate=0.1, max_depth=7, n_estimators=500, reg_alpha=1, reg_lambda=1, subsample=0.7; total time=   3.0s\n",
      "[CV] END colsample_bytree=1.0, gamma=0.3, learning_rate=0.1, max_depth=7, n_estimators=500, reg_alpha=1, reg_lambda=1, subsample=1.0; total time=   2.6s\n",
      "[CV] END colsample_bytree=1.0, gamma=0.3, learning_rate=0.1, max_depth=7, n_estimators=500, reg_alpha=1, reg_lambda=1, subsample=0.7; total time=   2.8s\n",
      "[CV] END colsample_bytree=1.0, gamma=0.3, learning_rate=0.1, max_depth=7, n_estimators=500, reg_alpha=1, reg_lambda=1, subsample=1.0; total time=   2.6s\n",
      "[CV] END colsample_bytree=1.0, gamma=0.3, learning_rate=0.1, max_depth=7, n_estimators=500, reg_alpha=1, reg_lambda=1, subsample=1.0; total time=   2.6s\n",
      "[CV] END colsample_bytree=1.0, gamma=0.3, learning_rate=0.1, max_depth=7, n_estimators=500, reg_alpha=1, reg_lambda=10, subsample=0.7; total time=   3.1s\n",
      "[CV] END colsample_bytree=1.0, gamma=0.3, learning_rate=0.1, max_depth=7, n_estimators=500, reg_alpha=1, reg_lambda=10, subsample=1.0; total time=   2.7s\n",
      "[CV] END colsample_bytree=1.0, gamma=0.3, learning_rate=0.1, max_depth=7, n_estimators=500, reg_alpha=1, reg_lambda=10, subsample=0.7; total time=   3.2s\n",
      "[CV] END colsample_bytree=1.0, gamma=0.3, learning_rate=0.1, max_depth=7, n_estimators=500, reg_alpha=1, reg_lambda=10, subsample=1.0; total time=   2.8s\n",
      "[CV] END colsample_bytree=1.0, gamma=0.3, learning_rate=0.1, max_depth=7, n_estimators=500, reg_alpha=1, reg_lambda=10, subsample=0.7; total time=   3.7s\n",
      "[CV] END colsample_bytree=1.0, gamma=0.3, learning_rate=0.1, max_depth=7, n_estimators=500, reg_alpha=1, reg_lambda=10, subsample=1.0; total time=   3.3s\n",
      "[CV] END colsample_bytree=1.0, gamma=0.3, learning_rate=0.1, max_depth=7, n_estimators=1000, reg_alpha=0, reg_lambda=1, subsample=1.0; total time=   7.5s\n",
      "[CV] END colsample_bytree=1.0, gamma=0.3, learning_rate=0.1, max_depth=7, n_estimators=1000, reg_alpha=0, reg_lambda=1, subsample=0.7; total time=   8.3s\n",
      "[CV] END colsample_bytree=1.0, gamma=0.3, learning_rate=0.1, max_depth=7, n_estimators=1000, reg_alpha=0, reg_lambda=1, subsample=1.0; total time=   7.7s\n",
      "[CV] END colsample_bytree=1.0, gamma=0.3, learning_rate=0.1, max_depth=7, n_estimators=1000, reg_alpha=0, reg_lambda=1, subsample=1.0; total time=   7.7s\n",
      "[CV] END colsample_bytree=1.0, gamma=0.3, learning_rate=0.1, max_depth=7, n_estimators=1000, reg_alpha=0, reg_lambda=1, subsample=0.7; total time=   8.5s\n",
      "[CV] END colsample_bytree=1.0, gamma=0.3, learning_rate=0.1, max_depth=7, n_estimators=1000, reg_alpha=0, reg_lambda=1, subsample=0.7; total time=   8.5s\n",
      "[CV] END colsample_bytree=1.0, gamma=0.3, learning_rate=0.1, max_depth=7, n_estimators=1000, reg_alpha=0, reg_lambda=10, subsample=0.7; total time=   7.8s\n",
      "[CV] END colsample_bytree=1.0, gamma=0.3, learning_rate=0.1, max_depth=7, n_estimators=1000, reg_alpha=0, reg_lambda=10, subsample=0.7; total time=   8.2s\n",
      "[CV] END colsample_bytree=1.0, gamma=0.3, learning_rate=0.1, max_depth=7, n_estimators=1000, reg_alpha=0, reg_lambda=10, subsample=1.0; total time=   5.9s\n",
      "[CV] END colsample_bytree=1.0, gamma=0.3, learning_rate=0.1, max_depth=7, n_estimators=1000, reg_alpha=0, reg_lambda=10, subsample=1.0; total time=   5.9s\n",
      "[CV] END colsample_bytree=1.0, gamma=0.3, learning_rate=0.1, max_depth=7, n_estimators=1000, reg_alpha=0, reg_lambda=10, subsample=1.0; total time=   6.1s\n",
      "[CV] END colsample_bytree=1.0, gamma=0.3, learning_rate=0.1, max_depth=7, n_estimators=1000, reg_alpha=0, reg_lambda=10, subsample=0.7; total time=   6.8s\n",
      "[CV] END colsample_bytree=1.0, gamma=0.3, learning_rate=0.1, max_depth=7, n_estimators=1000, reg_alpha=1, reg_lambda=1, subsample=0.7; total time=   6.7s\n",
      "[CV] END colsample_bytree=1.0, gamma=0.3, learning_rate=0.1, max_depth=7, n_estimators=1000, reg_alpha=1, reg_lambda=1, subsample=1.0; total time=   6.0s\n",
      "[CV] END colsample_bytree=1.0, gamma=0.3, learning_rate=0.1, max_depth=7, n_estimators=1000, reg_alpha=1, reg_lambda=1, subsample=0.7; total time=   6.5s\n",
      "[CV] END colsample_bytree=1.0, gamma=0.3, learning_rate=0.1, max_depth=7, n_estimators=1000, reg_alpha=1, reg_lambda=1, subsample=0.7; total time=   6.9s\n",
      "[CV] END colsample_bytree=1.0, gamma=0.3, learning_rate=0.1, max_depth=7, n_estimators=1000, reg_alpha=1, reg_lambda=1, subsample=1.0; total time=   5.6s\n",
      "[CV] END colsample_bytree=1.0, gamma=0.3, learning_rate=0.1, max_depth=7, n_estimators=1000, reg_alpha=1, reg_lambda=1, subsample=1.0; total time=   5.6s\n",
      "[CV] END colsample_bytree=1.0, gamma=0.3, learning_rate=0.1, max_depth=7, n_estimators=1000, reg_alpha=1, reg_lambda=10, subsample=0.7; total time=   6.5s\n",
      "[CV] END colsample_bytree=1.0, gamma=0.3, learning_rate=0.1, max_depth=7, n_estimators=1000, reg_alpha=1, reg_lambda=10, subsample=1.0; total time=   5.6s\n",
      "[CV] END colsample_bytree=1.0, gamma=0.3, learning_rate=0.1, max_depth=7, n_estimators=1000, reg_alpha=1, reg_lambda=10, subsample=0.7; total time=   6.5s\n",
      "[CV] END colsample_bytree=1.0, gamma=0.3, learning_rate=0.1, max_depth=7, n_estimators=1000, reg_alpha=1, reg_lambda=10, subsample=1.0; total time=   5.6s\n",
      "[CV] END colsample_bytree=1.0, gamma=0.3, learning_rate=0.1, max_depth=7, n_estimators=1000, reg_alpha=1, reg_lambda=10, subsample=0.7; total time=   6.3s\n",
      "[CV] END colsample_bytree=1.0, gamma=0.3, learning_rate=0.1, max_depth=7, n_estimators=1000, reg_alpha=1, reg_lambda=10, subsample=1.0; total time=   5.8s\n",
      "Best parameters found:  {'colsample_bytree': 1.0, 'gamma': 0.3, 'learning_rate': 0.1, 'max_depth': 7, 'n_estimators': 1000, 'reg_alpha': 1, 'reg_lambda': 10, 'subsample': 0.7}\n"
     ]
    }
   ],
   "source": [
    "# Initialize the XGBoost regressor\n",
    "xg_reg = xgb.XGBRegressor(objective='reg:squarederror', seed=42)\n",
    "\n",
    "# Define a parameter grid for hyperparameter tuning\n",
    "param_grid = {\n",
    "    'learning_rate': [0.01, 0.1],  # Controls the step size in each boosting step\n",
    "    'n_estimators': [100, 500, 1000],  # Number of boosting rounds\n",
    "    'max_depth': [5, 7],  # Maximum depth of the trees\n",
    "    'subsample': [0.7, 1.0],  # Proportion of training data used for fitting the individual trees\n",
    "    'colsample_bytree': [0.7, 1.0],  # Proportion of features used for fitting individual trees\n",
    "    'gamma': [0.1, 0.3],  # Minimum loss reduction required to make a further partition on a leaf node\n",
    "    'reg_lambda': [1, 10],  # L2 regularization term\n",
    "    'reg_alpha': [0, 1],  # L1 regularization term\n",
    "}\n",
    "\n",
    "# Initialize GridSearchCV\n",
    "grid_search = GridSearchCV(estimator=xg_reg, param_grid=param_grid, cv=3, n_jobs=-1, verbose=2, scoring='neg_mean_absolute_error')\n",
    "\n",
    "# Fit the model\n",
    "grid_search.fit(X_train, y_train)\n",
    "\n",
    "# Best model from GridSearchCV\n",
    "best_xgb_model = grid_search.best_estimator_\n",
    "print(\"Best parameters found: \", grid_search.best_params_)\n"
   ]
  },
  {
   "cell_type": "code",
   "execution_count": 74,
   "metadata": {},
   "outputs": [
    {
     "name": "stdout",
     "output_type": "stream",
     "text": [
      "Mean Absolute Error (MAE): 75.430\n",
      "Root Mean Squared Error (RMSE): 127.758\n"
     ]
    }
   ],
   "source": [
    "# Predict the residuals for the test set\n",
    "y_pred = best_xgb_model.predict(X_test)\n",
    "\n",
    "# Calculate evaluation metrics\n",
    "mae = mean_absolute_error(y_test, y_pred)\n",
    "rmse = np.sqrt(mean_squared_error(y_test, y_pred))\n",
    "\n",
    "print(f'Mean Absolute Error (MAE): {mae:.3f}')\n",
    "print(f'Root Mean Squared Error (RMSE): {rmse:.3f}')\n"
   ]
  },
  {
   "cell_type": "code",
   "execution_count": 75,
   "metadata": {},
   "outputs": [
    {
     "name": "stdout",
     "output_type": "stream",
     "text": [
      "Mean Absolute Error (Baseline): 95.688\n",
      "Root Mean Squared Error (Baseline): 160.782\n"
     ]
    }
   ],
   "source": [
    "# compared to always predicting 0\n",
    "y_pred_baseline = np.zeros_like(y_test)\n",
    "mae_baseline = mean_absolute_error(y_test, y_pred_baseline)\n",
    "rmse_baseline = np.sqrt(mean_squared_error(y_test, y_pred_baseline))\n",
    "\n",
    "print(f'Mean Absolute Error (Baseline): {mae_baseline:.3f}')\n",
    "print(f'Root Mean Squared Error (Baseline): {rmse_baseline:.3f}')"
   ]
  },
  {
   "cell_type": "markdown",
   "metadata": {},
   "source": [
    "# Training quantile Models"
   ]
  },
  {
   "cell_type": "code",
   "execution_count": 172,
   "metadata": {},
   "outputs": [],
   "source": [
    "import pandas as pd\n",
    "import numpy as np\n",
    "from sklearn.model_selection import train_test_split, GridSearchCV\n",
    "from sklearn.metrics import make_scorer, mean_absolute_error, mean_squared_error\n",
    "from sklearn.ensemble import HistGradientBoostingRegressor\n",
    "\n",
    "# Calculate the residuals (difference between actual and forecast)\n",
    "df_latest['residual'] = df_latest['Wind_MW'] - df_latest['PowerOutput_opt']\n",
    "\n",
    "# add three lag features for WindSpeed:100_dwd\n",
    "df_latest['WindSpeed:100_dwd_lag1'] = df_latest['WindSpeed:100_dwd'].shift(1)\n",
    "df_latest['WindSpeed:100_dwd_lag2'] = df_latest['WindSpeed:100_dwd'].shift(2)\n",
    "df_latest['WindSpeed:100_dwd_lag3'] = df_latest['WindSpeed:100_dwd'].shift(3)\n",
    "\n",
    "df_latest = df_latest.dropna()\n",
    "\n",
    "# Define the features (X) and the target (y)\n",
    "X = df_latest[['WindSpeed:100_dwd', 'Temperature_avg', 'RelativeHumidity_avg', 'AirDensity', 'UsableWindPower_opt', 'WindSpeed:100_dwd_lag1', 'WindSpeed:100_dwd_lag2', 'WindSpeed:100_dwd_lag3']]\n",
    "y = df_latest['residual']\n",
    "\n",
    "# Split the data into training and test sets\n",
    "X_train, X_test, y_train, y_test = train_test_split(X, y, test_size=0.2, random_state=42)\n"
   ]
  },
  {
   "cell_type": "code",
   "execution_count": 177,
   "metadata": {},
   "outputs": [
    {
     "name": "stdout",
     "output_type": "stream",
     "text": [
      "Training model for 10% quantile...\n",
      "Fitting 3 folds for each of 36 candidates, totalling 108 fits\n"
     ]
    },
    {
     "name": "stdout",
     "output_type": "stream",
     "text": [
      "Best parameters for 10% quantile: {'learning_rate': 0.1, 'max_depth': 7, 'max_iter': 300, 'min_samples_leaf': 5}\n",
      "Training model for 20% quantile...\n",
      "Fitting 3 folds for each of 36 candidates, totalling 108 fits\n",
      "Best parameters for 20% quantile: {'learning_rate': 0.1, 'max_depth': 7, 'max_iter': 300, 'min_samples_leaf': 10}\n",
      "Training model for 30% quantile...\n",
      "Fitting 3 folds for each of 36 candidates, totalling 108 fits\n",
      "Best parameters for 30% quantile: {'learning_rate': 0.1, 'max_depth': 7, 'max_iter': 300, 'min_samples_leaf': 10}\n",
      "Training model for 40% quantile...\n",
      "Fitting 3 folds for each of 36 candidates, totalling 108 fits\n",
      "Best parameters for 40% quantile: {'learning_rate': 0.1, 'max_depth': 7, 'max_iter': 300, 'min_samples_leaf': 5}\n",
      "Training model for 50% quantile...\n",
      "Fitting 3 folds for each of 36 candidates, totalling 108 fits\n",
      "Best parameters for 50% quantile: {'learning_rate': 0.1, 'max_depth': 7, 'max_iter': 300, 'min_samples_leaf': 10}\n",
      "Training model for 60% quantile...\n",
      "Fitting 3 folds for each of 36 candidates, totalling 108 fits\n",
      "Best parameters for 60% quantile: {'learning_rate': 0.1, 'max_depth': 7, 'max_iter': 500, 'min_samples_leaf': 10}\n",
      "Training model for 70% quantile...\n",
      "Fitting 3 folds for each of 36 candidates, totalling 108 fits\n",
      "Best parameters for 70% quantile: {'learning_rate': 0.1, 'max_depth': 7, 'max_iter': 300, 'min_samples_leaf': 10}\n",
      "Training model for 80% quantile...\n",
      "Fitting 3 folds for each of 36 candidates, totalling 108 fits\n",
      "Best parameters for 80% quantile: {'learning_rate': 0.1, 'max_depth': 7, 'max_iter': 300, 'min_samples_leaf': 5}\n",
      "Training model for 90% quantile...\n",
      "Fitting 3 folds for each of 36 candidates, totalling 108 fits\n",
      "Best parameters for 90% quantile: {'learning_rate': 0.1, 'max_depth': 7, 'max_iter': 300, 'min_samples_leaf': 5}\n"
     ]
    }
   ],
   "source": [
    "# Define the quantiles we want to model\n",
    "quantiles = np.arange(0.1, 1.0, 0.1)\n",
    "\n",
    "# Dictionary to hold the best models for each quantile\n",
    "best_models = {}\n",
    "\n",
    "# Loop over each quantile and train a model\n",
    "for quantile in quantiles:\n",
    "    print(f\"Training model for {quantile * 100:.0f}% quantile...\")\n",
    "    \n",
    "    # Initialize the Gradient Boosting Regressor with the quantile loss\n",
    "    gbr = HistGradientBoostingRegressor(loss='quantile', quantile=quantile, random_state=42)\n",
    "    \n",
    "    # Define the parameter grid for hyperparameter tuning\n",
    "    param_grid = {\n",
    "        'learning_rate': [0.01, 0.1],  # Controls the step size in each boosting step\n",
    "        'max_iter': [300, 500],  # Number of boosting rounds\n",
    "        'max_depth': [3, 5, 7],  # Maximum depth of the trees\n",
    "        'min_samples_leaf': [1, 5, 10],  # Minimum number of samples required to be at a leaf node\n",
    "    }\n",
    "\n",
    "    # Custom scoring function for quantile regression (Pinball loss)\n",
    "    def pinball_loss(y_true, y_pred):\n",
    "        delta = y_true - y_pred\n",
    "        return np.mean(np.maximum(quantile * delta, (quantile - 1) * delta))\n",
    "    \n",
    "    pinball_scorer = make_scorer(pinball_loss, greater_is_better=False)\n",
    "    \n",
    "    # Initialize GridSearchCV for hyperparameter tuning\n",
    "    grid_search = GridSearchCV(estimator=gbr, param_grid=param_grid, cv=3, n_jobs=-1, verbose=1, scoring=pinball_scorer)\n",
    "    \n",
    "    # Fit the model to the training data\n",
    "    grid_search.fit(X_train, y_train)\n",
    "    \n",
    "    # Store the best model for this quantiles\n",
    "    best_models[quantile] = grid_search.best_estimator_\n",
    "    \n",
    "    print(f\"Best parameters for {quantile * 100:.0f}% quantile: {grid_search.best_params_}\")\n",
    "\n",
    "# All best models are now stored in the best_models dictionary.\n"
   ]
  },
  {
   "cell_type": "code",
   "execution_count": 178,
   "metadata": {},
   "outputs": [
    {
     "name": "stdout",
     "output_type": "stream",
     "text": [
      "Evaluation for 10% quantile:\n",
      "Mean Error (ME): 117.881\n",
      "Mean Absolute Error (MAE): 136.012\n",
      "Root Mean Squared Error (RMSE): 191.349\n",
      "Pinball Loss: 20.854\n",
      "----------------------------------------\n",
      "Evaluation for 20% quantile:\n",
      "Mean Error (ME): 70.482\n",
      "Mean Absolute Error (MAE): 102.487\n",
      "Root Mean Squared Error (RMSE): 158.741\n",
      "Pinball Loss: 30.099\n",
      "----------------------------------------\n",
      "Evaluation for 30% quantile:\n",
      "Mean Error (ME): 39.829\n",
      "Mean Absolute Error (MAE): 87.369\n",
      "Root Mean Squared Error (RMSE): 143.935\n",
      "Pinball Loss: 35.719\n",
      "----------------------------------------\n",
      "Evaluation for 40% quantile:\n",
      "Mean Error (ME): 14.761\n",
      "Mean Absolute Error (MAE): 80.851\n",
      "Root Mean Squared Error (RMSE): 138.097\n",
      "Pinball Loss: 38.949\n",
      "----------------------------------------\n",
      "Evaluation for 50% quantile:\n",
      "Mean Error (ME): -7.149\n",
      "Mean Absolute Error (MAE): 80.011\n",
      "Root Mean Squared Error (RMSE): 138.591\n",
      "Pinball Loss: 40.006\n",
      "----------------------------------------\n",
      "Evaluation for 60% quantile:\n",
      "Mean Error (ME): -29.037\n",
      "Mean Absolute Error (MAE): 82.259\n",
      "Root Mean Squared Error (RMSE): 141.387\n",
      "Pinball Loss: 38.226\n",
      "----------------------------------------\n",
      "Evaluation for 70% quantile:\n",
      "Mean Error (ME): -54.040\n",
      "Mean Absolute Error (MAE): 89.948\n",
      "Root Mean Squared Error (RMSE): 150.519\n",
      "Pinball Loss: 34.166\n",
      "----------------------------------------\n",
      "Evaluation for 80% quantile:\n",
      "Mean Error (ME): -81.582\n",
      "Mean Absolute Error (MAE): 103.454\n",
      "Root Mean Squared Error (RMSE): 166.404\n",
      "Pinball Loss: 27.252\n",
      "----------------------------------------\n",
      "Evaluation for 90% quantile:\n",
      "Mean Error (ME): -118.693\n",
      "Mean Absolute Error (MAE): 128.877\n",
      "Root Mean Squared Error (RMSE): 195.707\n",
      "Pinball Loss: 16.961\n",
      "----------------------------------------\n"
     ]
    }
   ],
   "source": [
    "# Loop over each quantile to evaluate the models\n",
    "for quantile, model in best_models.items():\n",
    "    # Predict the residuals for the test set\n",
    "    y_pred = model.predict(X_test)\n",
    "    \n",
    "    # Calculate the evaluation metrics\n",
    "    me = np.mean(y_test - y_pred)\n",
    "    mae = mean_absolute_error(y_test, y_pred)\n",
    "    rmse = np.sqrt(mean_squared_error(y_test, y_pred))\n",
    "    pinball = pinball_loss(y_test, y_pred)\n",
    "    \n",
    "    print(f\"Evaluation for {quantile * 100:.0f}% quantile:\")\n",
    "    print(f\"Mean Error (ME): {me:.3f}\")\n",
    "    print(f\"Mean Absolute Error (MAE): {mae:.3f}\")\n",
    "    print(f\"Root Mean Squared Error (RMSE): {rmse:.3f}\")\n",
    "    print(f\"Pinball Loss: {pinball:.3f}\")\n",
    "    print(\"-\" * 40)\n"
   ]
  },
  {
   "cell_type": "code",
   "execution_count": 179,
   "metadata": {},
   "outputs": [],
   "source": [
    "import joblib\n",
    "for quantile, model in best_models.items():\n",
    "    joblib.dump(model, os.path.join(os.getcwd(), 'models', f'gbr_quantile_{quantile:.1f}.pkl'))"
   ]
  },
  {
   "cell_type": "markdown",
   "metadata": {},
   "source": [
    "# XGBoost"
   ]
  },
  {
   "cell_type": "code",
   "execution_count": null,
   "metadata": {},
   "outputs": [],
   "source": [
    "# Calculate the residuals (difference between actual and forecast)\n",
    "df_latest['residual'] = df_latest['Wind_MW'] - df_latest['PowerOutput_opt']\n",
    "\n",
    "# add three lag features for WindSpeed:100_dwd\n",
    "df_latest['WindSpeed:100_dwd_lag1'] = df_latest['WindSpeed:100_dwd'].shift(1)\n",
    "df_latest['WindSpeed:100_dwd_lag2'] = df_latest['WindSpeed:100_dwd'].shift(2)\n",
    "df_latest['WindSpeed:100_dwd_lag3'] = df_latest['WindSpeed:100_dwd'].shift(3)\n",
    "\n",
    "df_latest = df_latest.dropna()\n",
    "\n",
    "# Define the features (X) and the target (y)\n",
    "X = df_latest[['WindSpeed:100_dwd', 'Temperature_avg', 'RelativeHumidity_avg', 'AirDensity', 'UsableWindPower_opt', 'WindSpeed:100_dwd_lag1', 'WindSpeed:100_dwd_lag2', 'WindSpeed:100_dwd_lag3']]\n",
    "y = df_latest['residual']\n",
    "\n",
    "# Split the data into training and test sets\n",
    "X_train, X_test, y_train, y_test = train_test_split(X, y, test_size=0.2, random_state=42)\n",
    "\n",
    "# Define the quantiles we want to model\n",
    "quantiles = np.arange(0.1, 1.0, 0.1)\n",
    "\n",
    "# Dictionary to hold the best models for each quantile\n",
    "best_models = {}\n",
    "\n",
    "# Loop over each quantile and train a model\n",
    "for quantile in quantiles:\n",
    "    print(f\"Training model for {quantile * 100:.0f}% quantile...\")\n",
    "    \n",
    "    # Initialize the XGBoost Regressor with the quantile loss and GPU support\n",
    "    xg_reg = xgb.XGBRegressor(objective='reg:quantile', alpha=quantile, tree_method='gpu_hist', random_state=42, verbosity=1)\n",
    "    \n",
    "    # Define the parameter grid for hyperparameter tuning\n",
    "    param_grid = {\n",
    "        'learning_rate': [0.01, 0.1],\n",
    "        'n_estimators': [300, 500],\n",
    "        'max_depth': [3, 5, 7],\n",
    "        'subsample': [0.7],\n",
    "        'colsample_bytree': [0.7, 1.0]\n",
    "    }\n",
    "\n",
    "    # Custom scoring function for quantile regression (Pinball loss)\n",
    "    def pinball_loss(y_true, y_pred):\n",
    "        delta = y_true - y_pred\n",
    "        return np.mean(np.maximum(quantile * delta, (quantile - 1) * delta))\n",
    "    \n",
    "    pinball_scorer = make_scorer(pinball_loss, greater_is_better=False)\n",
    "    \n",
    "    # Initialize GridSearchCV for hyperparameter tuning\n",
    "    grid_search = GridSearchCV(estimator=xg_reg, param_grid=param_grid, cv=3, n_jobs=-1, verbose=2, scoring=pinball_scorer)\n",
    "    \n",
    "    # Fit the model to the training data\n",
    "    grid_search.fit(X_train, y_train)\n",
    "    \n",
    "    # Store the best model for this quantile\n",
    "    best_models[quantile] = grid_search.best_estimator_\n",
    "    \n",
    "    print(f\"Best parameters for {quantile * 100:.0f}% quantile: {grid_search.best_params_}\")"
   ]
  },
  {
   "cell_type": "code",
   "execution_count": null,
   "metadata": {},
   "outputs": [],
   "source": [
    "# Loop over each quantile to evaluate the models\n",
    "for quantile, model in best_models.items():\n",
    "    # Predict the residuals for the test set\n",
    "    y_pred = model.predict(X_test)\n",
    "    \n",
    "    # Calculate the evaluation metrics\n",
    "    me = np.mean(y_test - y_pred)\n",
    "    mae = mean_absolute_error(y_test, y_pred)\n",
    "    rmse = np.sqrt(mean_squared_error(y_test, y_pred))\n",
    "    pinball = pinball_loss(y_test, y_pred)\n",
    "    \n",
    "    print(f\"Evaluation for {quantile * 100:.0f}% quantile:\")\n",
    "    print(f\"Mean Error (ME): {me:.3f}\")\n",
    "    print(f\"Mean Absolute Error (MAE): {mae:.3f}\")\n",
    "    print(f\"Root Mean Squared Error (RMSE): {rmse:.3f}\")\n",
    "    print(f\"Pinball Loss: {pinball:.3f}\")\n",
    "    print(\"-\" * 40)"
   ]
  },
  {
   "cell_type": "code",
   "execution_count": null,
   "metadata": {},
   "outputs": [],
   "source": [
    "for quantile, model in best_models.items():\n",
    "    joblib.dump(model, os.path.join(os.getcwd(), 'models', f'xgboost_quantile_{quantile:.1f}.pkl'))"
   ]
  },
  {
   "cell_type": "markdown",
   "metadata": {},
   "source": [
    "# Exploring the performance for sample dates"
   ]
  },
  {
   "cell_type": "code",
   "execution_count": 96,
   "metadata": {},
   "outputs": [
    {
     "name": "stdout",
     "output_type": "stream",
     "text": [
      "2024-01-01\n"
     ]
    },
    {
     "name": "stderr",
     "output_type": "stream",
     "text": [
      "/Applications/miniconda3/envs/tf_env/lib/python3.9/site-packages/xgboost/core.py:158: UserWarning:\n",
      "\n",
      "[16:02:45] WARNING: /Users/runner/work/xgboost/xgboost/src/gbm/gbtree.cc:363: \n",
      "  Loading from a raw memory buffer (like pickle in Python, RDS in R) on a CPU-only\n",
      "  machine. Consider using `save_model/load_model` instead. See:\n",
      "\n",
      "    https://xgboost.readthedocs.io/en/latest/tutorials/saving_model.html\n",
      "\n",
      "  for more details about differences between saving model and serializing.  Changing `tree_method` to `hist`.\n",
      "\n",
      "/Applications/miniconda3/envs/tf_env/lib/python3.9/site-packages/xgboost/core.py:158: UserWarning:\n",
      "\n",
      "[16:02:45] WARNING: /Users/runner/work/xgboost/xgboost/src/gbm/gbtree.cc:388: Changing updater from `grow_gpu_hist` to `grow_quantile_histmaker`.\n",
      "\n",
      "/Applications/miniconda3/envs/tf_env/lib/python3.9/site-packages/xgboost/core.py:158: UserWarning:\n",
      "\n",
      "[16:02:45] WARNING: /Users/runner/work/xgboost/xgboost/src/context.cc:196: XGBoost is not compiled with CUDA support.\n",
      "\n",
      "/Applications/miniconda3/envs/tf_env/lib/python3.9/site-packages/xgboost/core.py:158: UserWarning:\n",
      "\n",
      "[16:02:46] WARNING: /Users/runner/work/xgboost/xgboost/src/gbm/gbtree.cc:363: \n",
      "  Loading from a raw memory buffer (like pickle in Python, RDS in R) on a CPU-only\n",
      "  machine. Consider using `save_model/load_model` instead. See:\n",
      "\n",
      "    https://xgboost.readthedocs.io/en/latest/tutorials/saving_model.html\n",
      "\n",
      "  for more details about differences between saving model and serializing.  Changing `tree_method` to `hist`.\n",
      "\n",
      "/Applications/miniconda3/envs/tf_env/lib/python3.9/site-packages/xgboost/core.py:158: UserWarning:\n",
      "\n",
      "[16:02:46] WARNING: /Users/runner/work/xgboost/xgboost/src/gbm/gbtree.cc:388: Changing updater from `grow_gpu_hist` to `grow_quantile_histmaker`.\n",
      "\n",
      "/Applications/miniconda3/envs/tf_env/lib/python3.9/site-packages/xgboost/core.py:158: UserWarning:\n",
      "\n",
      "[16:02:46] WARNING: /Users/runner/work/xgboost/xgboost/src/context.cc:196: XGBoost is not compiled with CUDA support.\n",
      "\n"
     ]
    },
    {
     "data": {
      "application/vnd.plotly.v1+json": {
       "config": {
        "plotlyServerURL": "https://plot.ly"
       },
       "data": [
        {
         "line": {
          "color": "black"
         },
         "mode": "lines+markers",
         "name": "Real Data (Wind_MW)",
         "type": "scatter",
         "x": [
          "2024-01-01T00:00:00+00:00",
          "2024-01-01T00:30:00+00:00",
          "2024-01-01T01:00:00+00:00",
          "2024-01-01T01:30:00+00:00",
          "2024-01-01T02:00:00+00:00",
          "2024-01-01T02:30:00+00:00",
          "2024-01-01T03:00:00+00:00",
          "2024-01-01T03:30:00+00:00",
          "2024-01-01T04:00:00+00:00",
          "2024-01-01T04:30:00+00:00",
          "2024-01-01T05:00:00+00:00",
          "2024-01-01T05:30:00+00:00",
          "2024-01-01T06:00:00+00:00",
          "2024-01-01T06:30:00+00:00",
          "2024-01-01T07:00:00+00:00",
          "2024-01-01T07:30:00+00:00",
          "2024-01-01T08:00:00+00:00",
          "2024-01-01T08:30:00+00:00",
          "2024-01-01T09:00:00+00:00",
          "2024-01-01T09:30:00+00:00",
          "2024-01-01T10:00:00+00:00",
          "2024-01-01T10:30:00+00:00",
          "2024-01-01T11:00:00+00:00",
          "2024-01-01T11:30:00+00:00",
          "2024-01-01T12:00:00+00:00",
          "2024-01-01T12:30:00+00:00",
          "2024-01-01T13:00:00+00:00",
          "2024-01-01T13:30:00+00:00",
          "2024-01-01T14:00:00+00:00",
          "2024-01-01T14:30:00+00:00",
          "2024-01-01T15:00:00+00:00",
          "2024-01-01T15:30:00+00:00",
          "2024-01-01T16:00:00+00:00",
          "2024-01-01T16:30:00+00:00",
          "2024-01-01T17:00:00+00:00",
          "2024-01-01T17:30:00+00:00",
          "2024-01-01T18:00:00+00:00",
          "2024-01-01T18:30:00+00:00",
          "2024-01-01T19:00:00+00:00",
          "2024-01-01T19:30:00+00:00",
          "2024-01-01T20:00:00+00:00",
          "2024-01-01T20:30:00+00:00",
          "2024-01-01T21:00:00+00:00",
          "2024-01-01T21:30:00+00:00",
          "2024-01-01T22:00:00+00:00",
          "2024-01-01T22:30:00+00:00",
          "2024-01-01T23:00:00+00:00",
          "2024-01-01T23:30:00+00:00"
         ],
         "y": [
          1164.2,
          1172.74,
          1175.08,
          1161.218,
          1156.36,
          1120.44,
          1174.68,
          1145.94,
          1107,
          1176.1,
          1164.26,
          1160.7,
          1159.42,
          1164.798,
          1161.7,
          1172.22,
          1175.198,
          1164.96,
          1168.3,
          1167.618,
          1098.538,
          1145.298,
          1175.638,
          1175.538,
          1175.6,
          1171.62,
          1175.14,
          1178.32,
          1177.68,
          1176.04,
          1159.12,
          1118.96,
          1045.918,
          994.738,
          820.438,
          731.098,
          752.438,
          525.278,
          448.838,
          390.578,
          642.538,
          716.158,
          796.618,
          926.358,
          1084.918,
          1080.436,
          1125.896,
          1182.376
         ]
        },
        {
         "line": {
          "dash": "dash"
         },
         "mode": "lines",
         "name": "GBR 10th Percentile",
         "type": "scatter",
         "x": [
          "2024-01-01T00:00:00+00:00",
          "2024-01-01T00:30:00+00:00",
          "2024-01-01T01:00:00+00:00",
          "2024-01-01T01:30:00+00:00",
          "2024-01-01T02:00:00+00:00",
          "2024-01-01T02:30:00+00:00",
          "2024-01-01T03:00:00+00:00",
          "2024-01-01T03:30:00+00:00",
          "2024-01-01T04:00:00+00:00",
          "2024-01-01T04:30:00+00:00",
          "2024-01-01T05:00:00+00:00",
          "2024-01-01T05:30:00+00:00",
          "2024-01-01T06:00:00+00:00",
          "2024-01-01T06:30:00+00:00",
          "2024-01-01T07:00:00+00:00",
          "2024-01-01T07:30:00+00:00",
          "2024-01-01T08:00:00+00:00",
          "2024-01-01T08:30:00+00:00",
          "2024-01-01T09:00:00+00:00",
          "2024-01-01T09:30:00+00:00",
          "2024-01-01T10:00:00+00:00",
          "2024-01-01T10:30:00+00:00",
          "2024-01-01T11:00:00+00:00",
          "2024-01-01T11:30:00+00:00",
          "2024-01-01T12:00:00+00:00",
          "2024-01-01T12:30:00+00:00",
          "2024-01-01T13:00:00+00:00",
          "2024-01-01T13:30:00+00:00",
          "2024-01-01T14:00:00+00:00",
          "2024-01-01T14:30:00+00:00",
          "2024-01-01T15:00:00+00:00",
          "2024-01-01T15:30:00+00:00",
          "2024-01-01T16:00:00+00:00",
          "2024-01-01T16:30:00+00:00",
          "2024-01-01T17:00:00+00:00",
          "2024-01-01T17:30:00+00:00",
          "2024-01-01T18:00:00+00:00",
          "2024-01-01T18:30:00+00:00",
          "2024-01-01T19:00:00+00:00",
          "2024-01-01T19:30:00+00:00",
          "2024-01-01T20:00:00+00:00",
          "2024-01-01T20:30:00+00:00",
          "2024-01-01T21:00:00+00:00",
          "2024-01-01T21:30:00+00:00",
          "2024-01-01T22:00:00+00:00",
          "2024-01-01T22:30:00+00:00",
          "2024-01-01T23:00:00+00:00",
          "2024-01-01T23:30:00+00:00"
         ],
         "y": [
          1160.5018775675128,
          1155.2341601917487,
          1162.1258172739745,
          1150.3738832237204,
          1158.5659118643944,
          1129.320094083895,
          1121.9585659745715,
          1157.217704586902,
          1177.808719814234,
          1166.2028987917504,
          1165.659587762662,
          1161.9349640015073,
          1164.3035199293304,
          1176.988802125744,
          1178.3917106504891,
          1183.6943626987559,
          1163.0962072256552,
          1157.4383157106936,
          1182.2883438279225,
          1177.0139639191118,
          1162.2611665210666,
          1167.2315895511806,
          1178.1284190530791,
          1168.5727074272515,
          1173.322356550267,
          1171.4251715905875,
          1171.193714099102,
          1170.0272818216554,
          1167.3356155663748,
          1167.2153216565146,
          1169.981465927161,
          1108.4602793785953,
          1040.2190622897028,
          851.3943056503458,
          622.3154070061885,
          578.8318755641574,
          511.3993294478269,
          415.39901876861757,
          366.52094775690483,
          360.12619122635135,
          481.0928084167874,
          537.7661505576316,
          677.4177767002227,
          879.3080026173366,
          938.5947250588106,
          1076.3845786595398,
          1143.6834096588975,
          1170.0556664812013
         ]
        },
        {
         "line": {
          "dash": "dash"
         },
         "mode": "lines",
         "name": "GBR 20th Percentile",
         "type": "scatter",
         "x": [
          "2024-01-01T00:00:00+00:00",
          "2024-01-01T00:30:00+00:00",
          "2024-01-01T01:00:00+00:00",
          "2024-01-01T01:30:00+00:00",
          "2024-01-01T02:00:00+00:00",
          "2024-01-01T02:30:00+00:00",
          "2024-01-01T03:00:00+00:00",
          "2024-01-01T03:30:00+00:00",
          "2024-01-01T04:00:00+00:00",
          "2024-01-01T04:30:00+00:00",
          "2024-01-01T05:00:00+00:00",
          "2024-01-01T05:30:00+00:00",
          "2024-01-01T06:00:00+00:00",
          "2024-01-01T06:30:00+00:00",
          "2024-01-01T07:00:00+00:00",
          "2024-01-01T07:30:00+00:00",
          "2024-01-01T08:00:00+00:00",
          "2024-01-01T08:30:00+00:00",
          "2024-01-01T09:00:00+00:00",
          "2024-01-01T09:30:00+00:00",
          "2024-01-01T10:00:00+00:00",
          "2024-01-01T10:30:00+00:00",
          "2024-01-01T11:00:00+00:00",
          "2024-01-01T11:30:00+00:00",
          "2024-01-01T12:00:00+00:00",
          "2024-01-01T12:30:00+00:00",
          "2024-01-01T13:00:00+00:00",
          "2024-01-01T13:30:00+00:00",
          "2024-01-01T14:00:00+00:00",
          "2024-01-01T14:30:00+00:00",
          "2024-01-01T15:00:00+00:00",
          "2024-01-01T15:30:00+00:00",
          "2024-01-01T16:00:00+00:00",
          "2024-01-01T16:30:00+00:00",
          "2024-01-01T17:00:00+00:00",
          "2024-01-01T17:30:00+00:00",
          "2024-01-01T18:00:00+00:00",
          "2024-01-01T18:30:00+00:00",
          "2024-01-01T19:00:00+00:00",
          "2024-01-01T19:30:00+00:00",
          "2024-01-01T20:00:00+00:00",
          "2024-01-01T20:30:00+00:00",
          "2024-01-01T21:00:00+00:00",
          "2024-01-01T21:30:00+00:00",
          "2024-01-01T22:00:00+00:00",
          "2024-01-01T22:30:00+00:00",
          "2024-01-01T23:00:00+00:00",
          "2024-01-01T23:30:00+00:00"
         ],
         "y": [
          1182.9012256623244,
          1182.8639073390202,
          1177.3952155466202,
          1178.208125056024,
          1171.4834364431865,
          1170.4958148433286,
          1188.1521267097687,
          1182.0240885723356,
          1177.57793924734,
          1189.526523142975,
          1165.4089822442434,
          1179.1561552732396,
          1184.4958435755461,
          1182.7430273144714,
          1186.1055947473565,
          1187.5920994892829,
          1211.0816728021641,
          1183.620928570525,
          1168.89384700641,
          1182.2939258100782,
          1177.0569010294582,
          1200.6791223561515,
          1197.356068567138,
          1194.2364858661824,
          1197.9409779777093,
          1200.974610180258,
          1196.723763857072,
          1194.7414885952187,
          1192.7504904471036,
          1186.222572473728,
          1149.7447225296703,
          1118.926001937767,
          1061.9414411756752,
          909.7422399901872,
          716.6690449535948,
          666.383707823725,
          564.0184753097885,
          490.93002877586855,
          401.57823895548347,
          464.92139206034545,
          551.522694103792,
          662.8154592251925,
          814.4991355692844,
          954.5479885888966,
          1073.4743469621114,
          1098.764800226005,
          1183.8577747835652,
          1164.8476106177363
         ]
        },
        {
         "line": {
          "dash": "dash"
         },
         "mode": "lines",
         "name": "GBR 30th Percentile",
         "type": "scatter",
         "x": [
          "2024-01-01T00:00:00+00:00",
          "2024-01-01T00:30:00+00:00",
          "2024-01-01T01:00:00+00:00",
          "2024-01-01T01:30:00+00:00",
          "2024-01-01T02:00:00+00:00",
          "2024-01-01T02:30:00+00:00",
          "2024-01-01T03:00:00+00:00",
          "2024-01-01T03:30:00+00:00",
          "2024-01-01T04:00:00+00:00",
          "2024-01-01T04:30:00+00:00",
          "2024-01-01T05:00:00+00:00",
          "2024-01-01T05:30:00+00:00",
          "2024-01-01T06:00:00+00:00",
          "2024-01-01T06:30:00+00:00",
          "2024-01-01T07:00:00+00:00",
          "2024-01-01T07:30:00+00:00",
          "2024-01-01T08:00:00+00:00",
          "2024-01-01T08:30:00+00:00",
          "2024-01-01T09:00:00+00:00",
          "2024-01-01T09:30:00+00:00",
          "2024-01-01T10:00:00+00:00",
          "2024-01-01T10:30:00+00:00",
          "2024-01-01T11:00:00+00:00",
          "2024-01-01T11:30:00+00:00",
          "2024-01-01T12:00:00+00:00",
          "2024-01-01T12:30:00+00:00",
          "2024-01-01T13:00:00+00:00",
          "2024-01-01T13:30:00+00:00",
          "2024-01-01T14:00:00+00:00",
          "2024-01-01T14:30:00+00:00",
          "2024-01-01T15:00:00+00:00",
          "2024-01-01T15:30:00+00:00",
          "2024-01-01T16:00:00+00:00",
          "2024-01-01T16:30:00+00:00",
          "2024-01-01T17:00:00+00:00",
          "2024-01-01T17:30:00+00:00",
          "2024-01-01T18:00:00+00:00",
          "2024-01-01T18:30:00+00:00",
          "2024-01-01T19:00:00+00:00",
          "2024-01-01T19:30:00+00:00",
          "2024-01-01T20:00:00+00:00",
          "2024-01-01T20:30:00+00:00",
          "2024-01-01T21:00:00+00:00",
          "2024-01-01T21:30:00+00:00",
          "2024-01-01T22:00:00+00:00",
          "2024-01-01T22:30:00+00:00",
          "2024-01-01T23:00:00+00:00",
          "2024-01-01T23:30:00+00:00"
         ],
         "y": [
          1195.7287224517456,
          1189.4307657702104,
          1187.730773873778,
          1188.8783837273436,
          1160.722725203823,
          1181.5061933459474,
          1204.169433658284,
          1197.0252201588876,
          1184.1320678448628,
          1188.0360634308188,
          1166.5156642413185,
          1160.753538307603,
          1179.391134781381,
          1191.5932284239225,
          1197.8886623031021,
          1200.0362943323146,
          1214.0610211964088,
          1175.6354956983143,
          1175.9318823566778,
          1196.9766634030987,
          1198.7150942433884,
          1209.1100836851815,
          1214.8899180400765,
          1216.744566952987,
          1210.9505020527104,
          1220.3430914161806,
          1215.8642677312391,
          1208.167149945758,
          1208.7321915105224,
          1208.801614073683,
          1173.551771252068,
          1134.8448022853227,
          1099.9536930285767,
          997.5219947961494,
          784.8229656580916,
          696.6678039518237,
          605.4709750016776,
          528.0907815106348,
          432.8752557438703,
          494.9017483902661,
          591.6386619954217,
          754.0388785086263,
          875.7172235117841,
          957.0329204405899,
          1081.6512672116364,
          1116.7207400199663,
          1186.6235788528675,
          1153.7714046857284
         ]
        },
        {
         "line": {
          "dash": "dash"
         },
         "mode": "lines",
         "name": "GBR 40th Percentile",
         "type": "scatter",
         "x": [
          "2024-01-01T00:00:00+00:00",
          "2024-01-01T00:30:00+00:00",
          "2024-01-01T01:00:00+00:00",
          "2024-01-01T01:30:00+00:00",
          "2024-01-01T02:00:00+00:00",
          "2024-01-01T02:30:00+00:00",
          "2024-01-01T03:00:00+00:00",
          "2024-01-01T03:30:00+00:00",
          "2024-01-01T04:00:00+00:00",
          "2024-01-01T04:30:00+00:00",
          "2024-01-01T05:00:00+00:00",
          "2024-01-01T05:30:00+00:00",
          "2024-01-01T06:00:00+00:00",
          "2024-01-01T06:30:00+00:00",
          "2024-01-01T07:00:00+00:00",
          "2024-01-01T07:30:00+00:00",
          "2024-01-01T08:00:00+00:00",
          "2024-01-01T08:30:00+00:00",
          "2024-01-01T09:00:00+00:00",
          "2024-01-01T09:30:00+00:00",
          "2024-01-01T10:00:00+00:00",
          "2024-01-01T10:30:00+00:00",
          "2024-01-01T11:00:00+00:00",
          "2024-01-01T11:30:00+00:00",
          "2024-01-01T12:00:00+00:00",
          "2024-01-01T12:30:00+00:00",
          "2024-01-01T13:00:00+00:00",
          "2024-01-01T13:30:00+00:00",
          "2024-01-01T14:00:00+00:00",
          "2024-01-01T14:30:00+00:00",
          "2024-01-01T15:00:00+00:00",
          "2024-01-01T15:30:00+00:00",
          "2024-01-01T16:00:00+00:00",
          "2024-01-01T16:30:00+00:00",
          "2024-01-01T17:00:00+00:00",
          "2024-01-01T17:30:00+00:00",
          "2024-01-01T18:00:00+00:00",
          "2024-01-01T18:30:00+00:00",
          "2024-01-01T19:00:00+00:00",
          "2024-01-01T19:30:00+00:00",
          "2024-01-01T20:00:00+00:00",
          "2024-01-01T20:30:00+00:00",
          "2024-01-01T21:00:00+00:00",
          "2024-01-01T21:30:00+00:00",
          "2024-01-01T22:00:00+00:00",
          "2024-01-01T22:30:00+00:00",
          "2024-01-01T23:00:00+00:00",
          "2024-01-01T23:30:00+00:00"
         ],
         "y": [
          1201.9360260145663,
          1192.641482198888,
          1196.8418752698415,
          1192.1417144798677,
          1194.5632002549944,
          1199.0821458452306,
          1218.899668767635,
          1206.8534324511031,
          1200.4821084737914,
          1198.18826811779,
          1191.6526204563113,
          1186.8531746916915,
          1202.1286451600818,
          1199.70787394908,
          1207.2503001825798,
          1209.6796144706595,
          1217.4856683196906,
          1203.5295506665857,
          1208.4822447306874,
          1220.4939181983104,
          1224.7422816694914,
          1227.0411205777853,
          1225.3464889072286,
          1225.8319727684905,
          1227.1307537205582,
          1227.5713935492372,
          1223.7335448423592,
          1221.1095441457958,
          1219.9687430816696,
          1217.5277920651645,
          1196.387260095897,
          1160.7779605083954,
          1122.2138202418666,
          1019.0428886169803,
          849.5430412679511,
          735.3681195228895,
          637.6660624517482,
          556.6511579237684,
          461.5555885604698,
          549.2131164127431,
          633.7523977529979,
          763.6283470529066,
          900.2881508161597,
          997.6475761386899,
          1088.5204662280205,
          1129.410880277646,
          1194.359091998115,
          1171.700287416805
         ]
        },
        {
         "line": {
          "dash": "dash"
         },
         "mode": "lines",
         "name": "GBR 50th Percentile",
         "type": "scatter",
         "x": [
          "2024-01-01T00:00:00+00:00",
          "2024-01-01T00:30:00+00:00",
          "2024-01-01T01:00:00+00:00",
          "2024-01-01T01:30:00+00:00",
          "2024-01-01T02:00:00+00:00",
          "2024-01-01T02:30:00+00:00",
          "2024-01-01T03:00:00+00:00",
          "2024-01-01T03:30:00+00:00",
          "2024-01-01T04:00:00+00:00",
          "2024-01-01T04:30:00+00:00",
          "2024-01-01T05:00:00+00:00",
          "2024-01-01T05:30:00+00:00",
          "2024-01-01T06:00:00+00:00",
          "2024-01-01T06:30:00+00:00",
          "2024-01-01T07:00:00+00:00",
          "2024-01-01T07:30:00+00:00",
          "2024-01-01T08:00:00+00:00",
          "2024-01-01T08:30:00+00:00",
          "2024-01-01T09:00:00+00:00",
          "2024-01-01T09:30:00+00:00",
          "2024-01-01T10:00:00+00:00",
          "2024-01-01T10:30:00+00:00",
          "2024-01-01T11:00:00+00:00",
          "2024-01-01T11:30:00+00:00",
          "2024-01-01T12:00:00+00:00",
          "2024-01-01T12:30:00+00:00",
          "2024-01-01T13:00:00+00:00",
          "2024-01-01T13:30:00+00:00",
          "2024-01-01T14:00:00+00:00",
          "2024-01-01T14:30:00+00:00",
          "2024-01-01T15:00:00+00:00",
          "2024-01-01T15:30:00+00:00",
          "2024-01-01T16:00:00+00:00",
          "2024-01-01T16:30:00+00:00",
          "2024-01-01T17:00:00+00:00",
          "2024-01-01T17:30:00+00:00",
          "2024-01-01T18:00:00+00:00",
          "2024-01-01T18:30:00+00:00",
          "2024-01-01T19:00:00+00:00",
          "2024-01-01T19:30:00+00:00",
          "2024-01-01T20:00:00+00:00",
          "2024-01-01T20:30:00+00:00",
          "2024-01-01T21:00:00+00:00",
          "2024-01-01T21:30:00+00:00",
          "2024-01-01T22:00:00+00:00",
          "2024-01-01T22:30:00+00:00",
          "2024-01-01T23:00:00+00:00",
          "2024-01-01T23:30:00+00:00"
         ],
         "y": [
          1215.7670758669567,
          1202.2347139436952,
          1213.1731560534124,
          1213.1110266632459,
          1216.7822438827416,
          1216.3449905305695,
          1231.5653797784207,
          1224.6339798747347,
          1214.502592191079,
          1225.2229495586362,
          1225.1701854794062,
          1214.890794472913,
          1225.1067730882771,
          1217.5567298962353,
          1228.1353439632292,
          1228.0060724253544,
          1239.2949711853373,
          1216.9834672128732,
          1228.1504462293233,
          1233.4827020951984,
          1224.2054230723313,
          1228.6434144633813,
          1232.6030970843885,
          1243.3285383279094,
          1236.5290906783148,
          1246.2981513901482,
          1243.7421070195367,
          1243.9623610299109,
          1240.40377692239,
          1223.1404403626855,
          1218.7851265611885,
          1181.3819444826581,
          1145.8721670222637,
          1082.777924672179,
          886.4340502170494,
          787.3483854201997,
          686.722602757955,
          586.3190541783,
          497.0088610642343,
          590.2837312044002,
          682.0919748893061,
          816.7888918507809,
          917.263301181722,
          1017.9653287770161,
          1088.4494128811725,
          1138.406368934463,
          1190.7384683089776,
          1178.9303156662565
         ]
        },
        {
         "line": {
          "dash": "dash"
         },
         "mode": "lines",
         "name": "GBR 60th Percentile",
         "type": "scatter",
         "x": [
          "2024-01-01T00:00:00+00:00",
          "2024-01-01T00:30:00+00:00",
          "2024-01-01T01:00:00+00:00",
          "2024-01-01T01:30:00+00:00",
          "2024-01-01T02:00:00+00:00",
          "2024-01-01T02:30:00+00:00",
          "2024-01-01T03:00:00+00:00",
          "2024-01-01T03:30:00+00:00",
          "2024-01-01T04:00:00+00:00",
          "2024-01-01T04:30:00+00:00",
          "2024-01-01T05:00:00+00:00",
          "2024-01-01T05:30:00+00:00",
          "2024-01-01T06:00:00+00:00",
          "2024-01-01T06:30:00+00:00",
          "2024-01-01T07:00:00+00:00",
          "2024-01-01T07:30:00+00:00",
          "2024-01-01T08:00:00+00:00",
          "2024-01-01T08:30:00+00:00",
          "2024-01-01T09:00:00+00:00",
          "2024-01-01T09:30:00+00:00",
          "2024-01-01T10:00:00+00:00",
          "2024-01-01T10:30:00+00:00",
          "2024-01-01T11:00:00+00:00",
          "2024-01-01T11:30:00+00:00",
          "2024-01-01T12:00:00+00:00",
          "2024-01-01T12:30:00+00:00",
          "2024-01-01T13:00:00+00:00",
          "2024-01-01T13:30:00+00:00",
          "2024-01-01T14:00:00+00:00",
          "2024-01-01T14:30:00+00:00",
          "2024-01-01T15:00:00+00:00",
          "2024-01-01T15:30:00+00:00",
          "2024-01-01T16:00:00+00:00",
          "2024-01-01T16:30:00+00:00",
          "2024-01-01T17:00:00+00:00",
          "2024-01-01T17:30:00+00:00",
          "2024-01-01T18:00:00+00:00",
          "2024-01-01T18:30:00+00:00",
          "2024-01-01T19:00:00+00:00",
          "2024-01-01T19:30:00+00:00",
          "2024-01-01T20:00:00+00:00",
          "2024-01-01T20:30:00+00:00",
          "2024-01-01T21:00:00+00:00",
          "2024-01-01T21:30:00+00:00",
          "2024-01-01T22:00:00+00:00",
          "2024-01-01T22:30:00+00:00",
          "2024-01-01T23:00:00+00:00",
          "2024-01-01T23:30:00+00:00"
         ],
         "y": [
          1229.457924402437,
          1221.3022038628612,
          1230.5103743555023,
          1226.9864481376703,
          1236.753732560879,
          1233.0951616152447,
          1239.394997240658,
          1232.6918182036857,
          1229.2035904440602,
          1236.4599722767155,
          1237.2959337763664,
          1237.1729289811558,
          1237.528826068092,
          1236.556568919144,
          1233.4291320022853,
          1238.0799159458647,
          1248.5143469306838,
          1231.0132089616627,
          1236.208755992367,
          1245.112740489213,
          1243.09126389171,
          1246.682551554649,
          1245.5918191138048,
          1245.1049602897788,
          1248.7294313703965,
          1247.0386894730418,
          1246.4811655775798,
          1248.2512786849097,
          1245.2960367462636,
          1245.6198738474552,
          1235.5937546716311,
          1212.3522414710299,
          1172.2757855549523,
          1104.2210943234018,
          942.2911024458233,
          819.2519369762879,
          732.6563770092729,
          629.7130926123674,
          545.7759342783061,
          618.6494286338593,
          736.0389257840757,
          893.3055221575607,
          972.5459569810671,
          1080.2490903230191,
          1133.6740327417035,
          1164.192267318314,
          1188.0041358116248,
          1162.9350312112997
         ]
        },
        {
         "line": {
          "dash": "dash"
         },
         "mode": "lines",
         "name": "GBR 70th Percentile",
         "type": "scatter",
         "x": [
          "2024-01-01T00:00:00+00:00",
          "2024-01-01T00:30:00+00:00",
          "2024-01-01T01:00:00+00:00",
          "2024-01-01T01:30:00+00:00",
          "2024-01-01T02:00:00+00:00",
          "2024-01-01T02:30:00+00:00",
          "2024-01-01T03:00:00+00:00",
          "2024-01-01T03:30:00+00:00",
          "2024-01-01T04:00:00+00:00",
          "2024-01-01T04:30:00+00:00",
          "2024-01-01T05:00:00+00:00",
          "2024-01-01T05:30:00+00:00",
          "2024-01-01T06:00:00+00:00",
          "2024-01-01T06:30:00+00:00",
          "2024-01-01T07:00:00+00:00",
          "2024-01-01T07:30:00+00:00",
          "2024-01-01T08:00:00+00:00",
          "2024-01-01T08:30:00+00:00",
          "2024-01-01T09:00:00+00:00",
          "2024-01-01T09:30:00+00:00",
          "2024-01-01T10:00:00+00:00",
          "2024-01-01T10:30:00+00:00",
          "2024-01-01T11:00:00+00:00",
          "2024-01-01T11:30:00+00:00",
          "2024-01-01T12:00:00+00:00",
          "2024-01-01T12:30:00+00:00",
          "2024-01-01T13:00:00+00:00",
          "2024-01-01T13:30:00+00:00",
          "2024-01-01T14:00:00+00:00",
          "2024-01-01T14:30:00+00:00",
          "2024-01-01T15:00:00+00:00",
          "2024-01-01T15:30:00+00:00",
          "2024-01-01T16:00:00+00:00",
          "2024-01-01T16:30:00+00:00",
          "2024-01-01T17:00:00+00:00",
          "2024-01-01T17:30:00+00:00",
          "2024-01-01T18:00:00+00:00",
          "2024-01-01T18:30:00+00:00",
          "2024-01-01T19:00:00+00:00",
          "2024-01-01T19:30:00+00:00",
          "2024-01-01T20:00:00+00:00",
          "2024-01-01T20:30:00+00:00",
          "2024-01-01T21:00:00+00:00",
          "2024-01-01T21:30:00+00:00",
          "2024-01-01T22:00:00+00:00",
          "2024-01-01T22:30:00+00:00",
          "2024-01-01T23:00:00+00:00",
          "2024-01-01T23:30:00+00:00"
         ],
         "y": [
          1241.121028312888,
          1240.7064505463998,
          1242.867849450658,
          1234.3875889481074,
          1241.6984630179675,
          1241.4955695321978,
          1246.969588832379,
          1245.5460834912064,
          1242.5279166091543,
          1246.9883689691014,
          1233.1792244808066,
          1231.6753185128912,
          1244.5411542400411,
          1242.0017492186712,
          1243.6334365190078,
          1243.8023172459182,
          1254.319342470244,
          1233.8310977359772,
          1232.6339995402238,
          1241.1554605399529,
          1242.7613560949853,
          1246.1803960196505,
          1244.7045654722303,
          1247.7799218242667,
          1248.2264367990545,
          1248.44732490907,
          1247.7043568971903,
          1247.7301165246558,
          1246.1883649250894,
          1247.016744746325,
          1231.7434136280067,
          1216.3092028285262,
          1197.1270661221934,
          1122.8788422080765,
          976.6696273382269,
          875.9203898427461,
          766.4591752021105,
          661.9066935447095,
          566.47018586789,
          670.3614225969184,
          781.7378987135254,
          922.4454517894605,
          979.8165105310123,
          1061.160116937319,
          1123.225965866428,
          1175.6448050076099,
          1193.2608571544395,
          1198.8005350216317
         ]
        },
        {
         "line": {
          "dash": "dash"
         },
         "mode": "lines",
         "name": "GBR 80th Percentile",
         "type": "scatter",
         "x": [
          "2024-01-01T00:00:00+00:00",
          "2024-01-01T00:30:00+00:00",
          "2024-01-01T01:00:00+00:00",
          "2024-01-01T01:30:00+00:00",
          "2024-01-01T02:00:00+00:00",
          "2024-01-01T02:30:00+00:00",
          "2024-01-01T03:00:00+00:00",
          "2024-01-01T03:30:00+00:00",
          "2024-01-01T04:00:00+00:00",
          "2024-01-01T04:30:00+00:00",
          "2024-01-01T05:00:00+00:00",
          "2024-01-01T05:30:00+00:00",
          "2024-01-01T06:00:00+00:00",
          "2024-01-01T06:30:00+00:00",
          "2024-01-01T07:00:00+00:00",
          "2024-01-01T07:30:00+00:00",
          "2024-01-01T08:00:00+00:00",
          "2024-01-01T08:30:00+00:00",
          "2024-01-01T09:00:00+00:00",
          "2024-01-01T09:30:00+00:00",
          "2024-01-01T10:00:00+00:00",
          "2024-01-01T10:30:00+00:00",
          "2024-01-01T11:00:00+00:00",
          "2024-01-01T11:30:00+00:00",
          "2024-01-01T12:00:00+00:00",
          "2024-01-01T12:30:00+00:00",
          "2024-01-01T13:00:00+00:00",
          "2024-01-01T13:30:00+00:00",
          "2024-01-01T14:00:00+00:00",
          "2024-01-01T14:30:00+00:00",
          "2024-01-01T15:00:00+00:00",
          "2024-01-01T15:30:00+00:00",
          "2024-01-01T16:00:00+00:00",
          "2024-01-01T16:30:00+00:00",
          "2024-01-01T17:00:00+00:00",
          "2024-01-01T17:30:00+00:00",
          "2024-01-01T18:00:00+00:00",
          "2024-01-01T18:30:00+00:00",
          "2024-01-01T19:00:00+00:00",
          "2024-01-01T19:30:00+00:00",
          "2024-01-01T20:00:00+00:00",
          "2024-01-01T20:30:00+00:00",
          "2024-01-01T21:00:00+00:00",
          "2024-01-01T21:30:00+00:00",
          "2024-01-01T22:00:00+00:00",
          "2024-01-01T22:30:00+00:00",
          "2024-01-01T23:00:00+00:00",
          "2024-01-01T23:30:00+00:00"
         ],
         "y": [
          1251.9323494691998,
          1247.195943926757,
          1249.2033365837362,
          1248.3496936386973,
          1251.1764501322914,
          1249.2171184676315,
          1250.88866135223,
          1250.6863189464884,
          1245.0418812980872,
          1251.5585937593053,
          1243.817531569576,
          1246.3531875747035,
          1254.8538787523435,
          1248.45397124722,
          1248.5419708186184,
          1247.9870786878064,
          1256.1296562246787,
          1245.3969900685747,
          1241.713634451285,
          1244.083466546713,
          1244.468243076902,
          1247.543532203206,
          1247.4791946023572,
          1252.0988702725838,
          1254.0809428118775,
          1248.2356011828863,
          1247.285986631059,
          1252.8714254506558,
          1253.6131498003956,
          1248.7427601007842,
          1239.32387538811,
          1223.3237339967293,
          1208.949926879904,
          1159.0199570444076,
          1022.4871246247031,
          905.9609361821736,
          816.1505521959463,
          701.6114023514513,
          640.4186138151827,
          712.9404132421337,
          850.4705109612944,
          950.7867018755155,
          1030.4756275301438,
          1085.6990442164802,
          1148.0705331815398,
          1187.84023093911,
          1200.47239953731,
          1218.5121287011634
         ]
        },
        {
         "line": {
          "dash": "dash"
         },
         "mode": "lines",
         "name": "GBR 90th Percentile",
         "type": "scatter",
         "x": [
          "2024-01-01T00:00:00+00:00",
          "2024-01-01T00:30:00+00:00",
          "2024-01-01T01:00:00+00:00",
          "2024-01-01T01:30:00+00:00",
          "2024-01-01T02:00:00+00:00",
          "2024-01-01T02:30:00+00:00",
          "2024-01-01T03:00:00+00:00",
          "2024-01-01T03:30:00+00:00",
          "2024-01-01T04:00:00+00:00",
          "2024-01-01T04:30:00+00:00",
          "2024-01-01T05:00:00+00:00",
          "2024-01-01T05:30:00+00:00",
          "2024-01-01T06:00:00+00:00",
          "2024-01-01T06:30:00+00:00",
          "2024-01-01T07:00:00+00:00",
          "2024-01-01T07:30:00+00:00",
          "2024-01-01T08:00:00+00:00",
          "2024-01-01T08:30:00+00:00",
          "2024-01-01T09:00:00+00:00",
          "2024-01-01T09:30:00+00:00",
          "2024-01-01T10:00:00+00:00",
          "2024-01-01T10:30:00+00:00",
          "2024-01-01T11:00:00+00:00",
          "2024-01-01T11:30:00+00:00",
          "2024-01-01T12:00:00+00:00",
          "2024-01-01T12:30:00+00:00",
          "2024-01-01T13:00:00+00:00",
          "2024-01-01T13:30:00+00:00",
          "2024-01-01T14:00:00+00:00",
          "2024-01-01T14:30:00+00:00",
          "2024-01-01T15:00:00+00:00",
          "2024-01-01T15:30:00+00:00",
          "2024-01-01T16:00:00+00:00",
          "2024-01-01T16:30:00+00:00",
          "2024-01-01T17:00:00+00:00",
          "2024-01-01T17:30:00+00:00",
          "2024-01-01T18:00:00+00:00",
          "2024-01-01T18:30:00+00:00",
          "2024-01-01T19:00:00+00:00",
          "2024-01-01T19:30:00+00:00",
          "2024-01-01T20:00:00+00:00",
          "2024-01-01T20:30:00+00:00",
          "2024-01-01T21:00:00+00:00",
          "2024-01-01T21:30:00+00:00",
          "2024-01-01T22:00:00+00:00",
          "2024-01-01T22:30:00+00:00",
          "2024-01-01T23:00:00+00:00",
          "2024-01-01T23:30:00+00:00"
         ],
         "y": [
          1263.6531101393618,
          1251.045492908289,
          1253.9345267460556,
          1252.4224241227741,
          1258.1273136457544,
          1252.1162508735606,
          1256.5459024909853,
          1251.875557422755,
          1251.810429601597,
          1251.183090332809,
          1249.7429102620597,
          1251.2523106342758,
          1261.1542123238046,
          1252.4241765249756,
          1254.2215875916916,
          1253.9523167237458,
          1254.657395881601,
          1253.58299020111,
          1251.635187916585,
          1252.9686367867268,
          1252.2131594297282,
          1253.9013973990886,
          1252.6534894215317,
          1253.274810195749,
          1254.0344076292938,
          1252.7172976051374,
          1250.4454885994207,
          1261.9543795537875,
          1251.3943796465157,
          1250.6657146910552,
          1244.931417416479,
          1233.9373315450343,
          1287.7125286391322,
          1224.800087047331,
          1077.2590219338456,
          1037.2673109664502,
          908.6999984359053,
          806.7775905320875,
          753.9917328855666,
          808.3538477678425,
          919.461394549483,
          1080.7787402057668,
          1105.0660838501476,
          1186.0404407565518,
          1311.9730783644416,
          1253.40223011212,
          1228.4317930969592,
          1246.1646622901487
         ]
        }
       ],
       "layout": {
        "hovermode": "x unified",
        "legend": {
         "title": {
          "text": "Models"
         }
        },
        "template": {
         "data": {
          "bar": [
           {
            "error_x": {
             "color": "#2a3f5f"
            },
            "error_y": {
             "color": "#2a3f5f"
            },
            "marker": {
             "line": {
              "color": "#E5ECF6",
              "width": 0.5
             },
             "pattern": {
              "fillmode": "overlay",
              "size": 10,
              "solidity": 0.2
             }
            },
            "type": "bar"
           }
          ],
          "barpolar": [
           {
            "marker": {
             "line": {
              "color": "#E5ECF6",
              "width": 0.5
             },
             "pattern": {
              "fillmode": "overlay",
              "size": 10,
              "solidity": 0.2
             }
            },
            "type": "barpolar"
           }
          ],
          "carpet": [
           {
            "aaxis": {
             "endlinecolor": "#2a3f5f",
             "gridcolor": "white",
             "linecolor": "white",
             "minorgridcolor": "white",
             "startlinecolor": "#2a3f5f"
            },
            "baxis": {
             "endlinecolor": "#2a3f5f",
             "gridcolor": "white",
             "linecolor": "white",
             "minorgridcolor": "white",
             "startlinecolor": "#2a3f5f"
            },
            "type": "carpet"
           }
          ],
          "choropleth": [
           {
            "colorbar": {
             "outlinewidth": 0,
             "ticks": ""
            },
            "type": "choropleth"
           }
          ],
          "contour": [
           {
            "colorbar": {
             "outlinewidth": 0,
             "ticks": ""
            },
            "colorscale": [
             [
              0,
              "#0d0887"
             ],
             [
              0.1111111111111111,
              "#46039f"
             ],
             [
              0.2222222222222222,
              "#7201a8"
             ],
             [
              0.3333333333333333,
              "#9c179e"
             ],
             [
              0.4444444444444444,
              "#bd3786"
             ],
             [
              0.5555555555555556,
              "#d8576b"
             ],
             [
              0.6666666666666666,
              "#ed7953"
             ],
             [
              0.7777777777777778,
              "#fb9f3a"
             ],
             [
              0.8888888888888888,
              "#fdca26"
             ],
             [
              1,
              "#f0f921"
             ]
            ],
            "type": "contour"
           }
          ],
          "contourcarpet": [
           {
            "colorbar": {
             "outlinewidth": 0,
             "ticks": ""
            },
            "type": "contourcarpet"
           }
          ],
          "heatmap": [
           {
            "colorbar": {
             "outlinewidth": 0,
             "ticks": ""
            },
            "colorscale": [
             [
              0,
              "#0d0887"
             ],
             [
              0.1111111111111111,
              "#46039f"
             ],
             [
              0.2222222222222222,
              "#7201a8"
             ],
             [
              0.3333333333333333,
              "#9c179e"
             ],
             [
              0.4444444444444444,
              "#bd3786"
             ],
             [
              0.5555555555555556,
              "#d8576b"
             ],
             [
              0.6666666666666666,
              "#ed7953"
             ],
             [
              0.7777777777777778,
              "#fb9f3a"
             ],
             [
              0.8888888888888888,
              "#fdca26"
             ],
             [
              1,
              "#f0f921"
             ]
            ],
            "type": "heatmap"
           }
          ],
          "heatmapgl": [
           {
            "colorbar": {
             "outlinewidth": 0,
             "ticks": ""
            },
            "colorscale": [
             [
              0,
              "#0d0887"
             ],
             [
              0.1111111111111111,
              "#46039f"
             ],
             [
              0.2222222222222222,
              "#7201a8"
             ],
             [
              0.3333333333333333,
              "#9c179e"
             ],
             [
              0.4444444444444444,
              "#bd3786"
             ],
             [
              0.5555555555555556,
              "#d8576b"
             ],
             [
              0.6666666666666666,
              "#ed7953"
             ],
             [
              0.7777777777777778,
              "#fb9f3a"
             ],
             [
              0.8888888888888888,
              "#fdca26"
             ],
             [
              1,
              "#f0f921"
             ]
            ],
            "type": "heatmapgl"
           }
          ],
          "histogram": [
           {
            "marker": {
             "pattern": {
              "fillmode": "overlay",
              "size": 10,
              "solidity": 0.2
             }
            },
            "type": "histogram"
           }
          ],
          "histogram2d": [
           {
            "colorbar": {
             "outlinewidth": 0,
             "ticks": ""
            },
            "colorscale": [
             [
              0,
              "#0d0887"
             ],
             [
              0.1111111111111111,
              "#46039f"
             ],
             [
              0.2222222222222222,
              "#7201a8"
             ],
             [
              0.3333333333333333,
              "#9c179e"
             ],
             [
              0.4444444444444444,
              "#bd3786"
             ],
             [
              0.5555555555555556,
              "#d8576b"
             ],
             [
              0.6666666666666666,
              "#ed7953"
             ],
             [
              0.7777777777777778,
              "#fb9f3a"
             ],
             [
              0.8888888888888888,
              "#fdca26"
             ],
             [
              1,
              "#f0f921"
             ]
            ],
            "type": "histogram2d"
           }
          ],
          "histogram2dcontour": [
           {
            "colorbar": {
             "outlinewidth": 0,
             "ticks": ""
            },
            "colorscale": [
             [
              0,
              "#0d0887"
             ],
             [
              0.1111111111111111,
              "#46039f"
             ],
             [
              0.2222222222222222,
              "#7201a8"
             ],
             [
              0.3333333333333333,
              "#9c179e"
             ],
             [
              0.4444444444444444,
              "#bd3786"
             ],
             [
              0.5555555555555556,
              "#d8576b"
             ],
             [
              0.6666666666666666,
              "#ed7953"
             ],
             [
              0.7777777777777778,
              "#fb9f3a"
             ],
             [
              0.8888888888888888,
              "#fdca26"
             ],
             [
              1,
              "#f0f921"
             ]
            ],
            "type": "histogram2dcontour"
           }
          ],
          "mesh3d": [
           {
            "colorbar": {
             "outlinewidth": 0,
             "ticks": ""
            },
            "type": "mesh3d"
           }
          ],
          "parcoords": [
           {
            "line": {
             "colorbar": {
              "outlinewidth": 0,
              "ticks": ""
             }
            },
            "type": "parcoords"
           }
          ],
          "pie": [
           {
            "automargin": true,
            "type": "pie"
           }
          ],
          "scatter": [
           {
            "fillpattern": {
             "fillmode": "overlay",
             "size": 10,
             "solidity": 0.2
            },
            "type": "scatter"
           }
          ],
          "scatter3d": [
           {
            "line": {
             "colorbar": {
              "outlinewidth": 0,
              "ticks": ""
             }
            },
            "marker": {
             "colorbar": {
              "outlinewidth": 0,
              "ticks": ""
             }
            },
            "type": "scatter3d"
           }
          ],
          "scattercarpet": [
           {
            "marker": {
             "colorbar": {
              "outlinewidth": 0,
              "ticks": ""
             }
            },
            "type": "scattercarpet"
           }
          ],
          "scattergeo": [
           {
            "marker": {
             "colorbar": {
              "outlinewidth": 0,
              "ticks": ""
             }
            },
            "type": "scattergeo"
           }
          ],
          "scattergl": [
           {
            "marker": {
             "colorbar": {
              "outlinewidth": 0,
              "ticks": ""
             }
            },
            "type": "scattergl"
           }
          ],
          "scattermapbox": [
           {
            "marker": {
             "colorbar": {
              "outlinewidth": 0,
              "ticks": ""
             }
            },
            "type": "scattermapbox"
           }
          ],
          "scatterpolar": [
           {
            "marker": {
             "colorbar": {
              "outlinewidth": 0,
              "ticks": ""
             }
            },
            "type": "scatterpolar"
           }
          ],
          "scatterpolargl": [
           {
            "marker": {
             "colorbar": {
              "outlinewidth": 0,
              "ticks": ""
             }
            },
            "type": "scatterpolargl"
           }
          ],
          "scatterternary": [
           {
            "marker": {
             "colorbar": {
              "outlinewidth": 0,
              "ticks": ""
             }
            },
            "type": "scatterternary"
           }
          ],
          "surface": [
           {
            "colorbar": {
             "outlinewidth": 0,
             "ticks": ""
            },
            "colorscale": [
             [
              0,
              "#0d0887"
             ],
             [
              0.1111111111111111,
              "#46039f"
             ],
             [
              0.2222222222222222,
              "#7201a8"
             ],
             [
              0.3333333333333333,
              "#9c179e"
             ],
             [
              0.4444444444444444,
              "#bd3786"
             ],
             [
              0.5555555555555556,
              "#d8576b"
             ],
             [
              0.6666666666666666,
              "#ed7953"
             ],
             [
              0.7777777777777778,
              "#fb9f3a"
             ],
             [
              0.8888888888888888,
              "#fdca26"
             ],
             [
              1,
              "#f0f921"
             ]
            ],
            "type": "surface"
           }
          ],
          "table": [
           {
            "cells": {
             "fill": {
              "color": "#EBF0F8"
             },
             "line": {
              "color": "white"
             }
            },
            "header": {
             "fill": {
              "color": "#C8D4E3"
             },
             "line": {
              "color": "white"
             }
            },
            "type": "table"
           }
          ]
         },
         "layout": {
          "annotationdefaults": {
           "arrowcolor": "#2a3f5f",
           "arrowhead": 0,
           "arrowwidth": 1
          },
          "autotypenumbers": "strict",
          "coloraxis": {
           "colorbar": {
            "outlinewidth": 0,
            "ticks": ""
           }
          },
          "colorscale": {
           "diverging": [
            [
             0,
             "#8e0152"
            ],
            [
             0.1,
             "#c51b7d"
            ],
            [
             0.2,
             "#de77ae"
            ],
            [
             0.3,
             "#f1b6da"
            ],
            [
             0.4,
             "#fde0ef"
            ],
            [
             0.5,
             "#f7f7f7"
            ],
            [
             0.6,
             "#e6f5d0"
            ],
            [
             0.7,
             "#b8e186"
            ],
            [
             0.8,
             "#7fbc41"
            ],
            [
             0.9,
             "#4d9221"
            ],
            [
             1,
             "#276419"
            ]
           ],
           "sequential": [
            [
             0,
             "#0d0887"
            ],
            [
             0.1111111111111111,
             "#46039f"
            ],
            [
             0.2222222222222222,
             "#7201a8"
            ],
            [
             0.3333333333333333,
             "#9c179e"
            ],
            [
             0.4444444444444444,
             "#bd3786"
            ],
            [
             0.5555555555555556,
             "#d8576b"
            ],
            [
             0.6666666666666666,
             "#ed7953"
            ],
            [
             0.7777777777777778,
             "#fb9f3a"
            ],
            [
             0.8888888888888888,
             "#fdca26"
            ],
            [
             1,
             "#f0f921"
            ]
           ],
           "sequentialminus": [
            [
             0,
             "#0d0887"
            ],
            [
             0.1111111111111111,
             "#46039f"
            ],
            [
             0.2222222222222222,
             "#7201a8"
            ],
            [
             0.3333333333333333,
             "#9c179e"
            ],
            [
             0.4444444444444444,
             "#bd3786"
            ],
            [
             0.5555555555555556,
             "#d8576b"
            ],
            [
             0.6666666666666666,
             "#ed7953"
            ],
            [
             0.7777777777777778,
             "#fb9f3a"
            ],
            [
             0.8888888888888888,
             "#fdca26"
            ],
            [
             1,
             "#f0f921"
            ]
           ]
          },
          "colorway": [
           "#636efa",
           "#EF553B",
           "#00cc96",
           "#ab63fa",
           "#FFA15A",
           "#19d3f3",
           "#FF6692",
           "#B6E880",
           "#FF97FF",
           "#FECB52"
          ],
          "font": {
           "color": "#2a3f5f"
          },
          "geo": {
           "bgcolor": "white",
           "lakecolor": "white",
           "landcolor": "#E5ECF6",
           "showlakes": true,
           "showland": true,
           "subunitcolor": "white"
          },
          "hoverlabel": {
           "align": "left"
          },
          "hovermode": "closest",
          "mapbox": {
           "style": "light"
          },
          "paper_bgcolor": "white",
          "plot_bgcolor": "#E5ECF6",
          "polar": {
           "angularaxis": {
            "gridcolor": "white",
            "linecolor": "white",
            "ticks": ""
           },
           "bgcolor": "#E5ECF6",
           "radialaxis": {
            "gridcolor": "white",
            "linecolor": "white",
            "ticks": ""
           }
          },
          "scene": {
           "xaxis": {
            "backgroundcolor": "#E5ECF6",
            "gridcolor": "white",
            "gridwidth": 2,
            "linecolor": "white",
            "showbackground": true,
            "ticks": "",
            "zerolinecolor": "white"
           },
           "yaxis": {
            "backgroundcolor": "#E5ECF6",
            "gridcolor": "white",
            "gridwidth": 2,
            "linecolor": "white",
            "showbackground": true,
            "ticks": "",
            "zerolinecolor": "white"
           },
           "zaxis": {
            "backgroundcolor": "#E5ECF6",
            "gridcolor": "white",
            "gridwidth": 2,
            "linecolor": "white",
            "showbackground": true,
            "ticks": "",
            "zerolinecolor": "white"
           }
          },
          "shapedefaults": {
           "line": {
            "color": "#2a3f5f"
           }
          },
          "ternary": {
           "aaxis": {
            "gridcolor": "white",
            "linecolor": "white",
            "ticks": ""
           },
           "baxis": {
            "gridcolor": "white",
            "linecolor": "white",
            "ticks": ""
           },
           "bgcolor": "#E5ECF6",
           "caxis": {
            "gridcolor": "white",
            "linecolor": "white",
            "ticks": ""
           }
          },
          "title": {
           "x": 0.05
          },
          "xaxis": {
           "automargin": true,
           "gridcolor": "white",
           "linecolor": "white",
           "ticks": "",
           "title": {
            "standoff": 15
           },
           "zerolinecolor": "white",
           "zerolinewidth": 2
          },
          "yaxis": {
           "automargin": true,
           "gridcolor": "white",
           "linecolor": "white",
           "ticks": "",
           "title": {
            "standoff": 15
           },
           "zerolinecolor": "white",
           "zerolinewidth": 2
          }
         }
        },
        "title": {
         "text": "Quantile Predictions (GradientBoosting and XGBoost) on 2024-01-01"
        },
        "xaxis": {
         "title": {
          "text": "Valid Time"
         }
        },
        "yaxis": {
         "title": {
          "text": "Power Output (MW)"
         }
        }
       }
      }
     },
     "metadata": {},
     "output_type": "display_data"
    },
    {
     "data": {
      "application/vnd.plotly.v1+json": {
       "config": {
        "plotlyServerURL": "https://plot.ly"
       },
       "data": [
        {
         "line": {
          "color": "black"
         },
         "mode": "lines+markers",
         "name": "Real Data (Wind_MW)",
         "type": "scatter",
         "x": [
          "2024-01-01T00:00:00+00:00",
          "2024-01-01T00:30:00+00:00",
          "2024-01-01T01:00:00+00:00",
          "2024-01-01T01:30:00+00:00",
          "2024-01-01T02:00:00+00:00",
          "2024-01-01T02:30:00+00:00",
          "2024-01-01T03:00:00+00:00",
          "2024-01-01T03:30:00+00:00",
          "2024-01-01T04:00:00+00:00",
          "2024-01-01T04:30:00+00:00",
          "2024-01-01T05:00:00+00:00",
          "2024-01-01T05:30:00+00:00",
          "2024-01-01T06:00:00+00:00",
          "2024-01-01T06:30:00+00:00",
          "2024-01-01T07:00:00+00:00",
          "2024-01-01T07:30:00+00:00",
          "2024-01-01T08:00:00+00:00",
          "2024-01-01T08:30:00+00:00",
          "2024-01-01T09:00:00+00:00",
          "2024-01-01T09:30:00+00:00",
          "2024-01-01T10:00:00+00:00",
          "2024-01-01T10:30:00+00:00",
          "2024-01-01T11:00:00+00:00",
          "2024-01-01T11:30:00+00:00",
          "2024-01-01T12:00:00+00:00",
          "2024-01-01T12:30:00+00:00",
          "2024-01-01T13:00:00+00:00",
          "2024-01-01T13:30:00+00:00",
          "2024-01-01T14:00:00+00:00",
          "2024-01-01T14:30:00+00:00",
          "2024-01-01T15:00:00+00:00",
          "2024-01-01T15:30:00+00:00",
          "2024-01-01T16:00:00+00:00",
          "2024-01-01T16:30:00+00:00",
          "2024-01-01T17:00:00+00:00",
          "2024-01-01T17:30:00+00:00",
          "2024-01-01T18:00:00+00:00",
          "2024-01-01T18:30:00+00:00",
          "2024-01-01T19:00:00+00:00",
          "2024-01-01T19:30:00+00:00",
          "2024-01-01T20:00:00+00:00",
          "2024-01-01T20:30:00+00:00",
          "2024-01-01T21:00:00+00:00",
          "2024-01-01T21:30:00+00:00",
          "2024-01-01T22:00:00+00:00",
          "2024-01-01T22:30:00+00:00",
          "2024-01-01T23:00:00+00:00",
          "2024-01-01T23:30:00+00:00"
         ],
         "y": [
          1164.2,
          1172.74,
          1175.08,
          1161.218,
          1156.36,
          1120.44,
          1174.68,
          1145.94,
          1107,
          1176.1,
          1164.26,
          1160.7,
          1159.42,
          1164.798,
          1161.7,
          1172.22,
          1175.198,
          1164.96,
          1168.3,
          1167.618,
          1098.538,
          1145.298,
          1175.638,
          1175.538,
          1175.6,
          1171.62,
          1175.14,
          1178.32,
          1177.68,
          1176.04,
          1159.12,
          1118.96,
          1045.918,
          994.738,
          820.438,
          731.098,
          752.438,
          525.278,
          448.838,
          390.578,
          642.538,
          716.158,
          796.618,
          926.358,
          1084.918,
          1080.436,
          1125.896,
          1182.376
         ]
        },
        {
         "mode": "lines",
         "name": "XGB 10th Percentile",
         "type": "scatter",
         "x": [
          "2024-01-01T00:00:00+00:00",
          "2024-01-01T00:30:00+00:00",
          "2024-01-01T01:00:00+00:00",
          "2024-01-01T01:30:00+00:00",
          "2024-01-01T02:00:00+00:00",
          "2024-01-01T02:30:00+00:00",
          "2024-01-01T03:00:00+00:00",
          "2024-01-01T03:30:00+00:00",
          "2024-01-01T04:00:00+00:00",
          "2024-01-01T04:30:00+00:00",
          "2024-01-01T05:00:00+00:00",
          "2024-01-01T05:30:00+00:00",
          "2024-01-01T06:00:00+00:00",
          "2024-01-01T06:30:00+00:00",
          "2024-01-01T07:00:00+00:00",
          "2024-01-01T07:30:00+00:00",
          "2024-01-01T08:00:00+00:00",
          "2024-01-01T08:30:00+00:00",
          "2024-01-01T09:00:00+00:00",
          "2024-01-01T09:30:00+00:00",
          "2024-01-01T10:00:00+00:00",
          "2024-01-01T10:30:00+00:00",
          "2024-01-01T11:00:00+00:00",
          "2024-01-01T11:30:00+00:00",
          "2024-01-01T12:00:00+00:00",
          "2024-01-01T12:30:00+00:00",
          "2024-01-01T13:00:00+00:00",
          "2024-01-01T13:30:00+00:00",
          "2024-01-01T14:00:00+00:00",
          "2024-01-01T14:30:00+00:00",
          "2024-01-01T15:00:00+00:00",
          "2024-01-01T15:30:00+00:00",
          "2024-01-01T16:00:00+00:00",
          "2024-01-01T16:30:00+00:00",
          "2024-01-01T17:00:00+00:00",
          "2024-01-01T17:30:00+00:00",
          "2024-01-01T18:00:00+00:00",
          "2024-01-01T18:30:00+00:00",
          "2024-01-01T19:00:00+00:00",
          "2024-01-01T19:30:00+00:00",
          "2024-01-01T20:00:00+00:00",
          "2024-01-01T20:30:00+00:00",
          "2024-01-01T21:00:00+00:00",
          "2024-01-01T21:30:00+00:00",
          "2024-01-01T22:00:00+00:00",
          "2024-01-01T22:30:00+00:00",
          "2024-01-01T23:00:00+00:00",
          "2024-01-01T23:30:00+00:00"
         ],
         "y": [
          1096.3881928589658,
          1099.8506657746152,
          1105.0240132477597,
          1099.7478654053525,
          1093.089769091876,
          1104.5659463074521,
          1105.990232196124,
          1109.0148732331113,
          1116.6589324143247,
          1120.7438776161985,
          1115.4835240509824,
          1186.3587482620594,
          1049.0334260132627,
          1123.862186398776,
          1123.9446689751462,
          1127.322368469508,
          1137.370096888812,
          1110.2465159561948,
          1124.0209324028806,
          1106.5488087799863,
          1103.5610673096494,
          1102.352380481036,
          1110.095113482745,
          1172.2058008362171,
          1103.684188571246,
          1101.7805459168271,
          1106.6590878632383,
          1015.4235703614072,
          1084.192712512286,
          1083.3386246826963,
          1077.02122279671,
          1022.3561112549619,
          968.4385010865049,
          741.469163729689,
          570.9743334108557,
          267.7705776389693,
          459.87194619990123,
          365.53414117185866,
          349.9670238917402,
          400.6726705496201,
          539.6730268621874,
          701.9009536127629,
          824.8759170462765,
          823.6601197388486,
          845.8845460083799,
          997.0965516236142,
          1122.6581575539426,
          1203.8832481552479
         ]
        },
        {
         "mode": "lines",
         "name": "XGB 20th Percentile",
         "type": "scatter",
         "x": [
          "2024-01-01T00:00:00+00:00",
          "2024-01-01T00:30:00+00:00",
          "2024-01-01T01:00:00+00:00",
          "2024-01-01T01:30:00+00:00",
          "2024-01-01T02:00:00+00:00",
          "2024-01-01T02:30:00+00:00",
          "2024-01-01T03:00:00+00:00",
          "2024-01-01T03:30:00+00:00",
          "2024-01-01T04:00:00+00:00",
          "2024-01-01T04:30:00+00:00",
          "2024-01-01T05:00:00+00:00",
          "2024-01-01T05:30:00+00:00",
          "2024-01-01T06:00:00+00:00",
          "2024-01-01T06:30:00+00:00",
          "2024-01-01T07:00:00+00:00",
          "2024-01-01T07:30:00+00:00",
          "2024-01-01T08:00:00+00:00",
          "2024-01-01T08:30:00+00:00",
          "2024-01-01T09:00:00+00:00",
          "2024-01-01T09:30:00+00:00",
          "2024-01-01T10:00:00+00:00",
          "2024-01-01T10:30:00+00:00",
          "2024-01-01T11:00:00+00:00",
          "2024-01-01T11:30:00+00:00",
          "2024-01-01T12:00:00+00:00",
          "2024-01-01T12:30:00+00:00",
          "2024-01-01T13:00:00+00:00",
          "2024-01-01T13:30:00+00:00",
          "2024-01-01T14:00:00+00:00",
          "2024-01-01T14:30:00+00:00",
          "2024-01-01T15:00:00+00:00",
          "2024-01-01T15:30:00+00:00",
          "2024-01-01T16:00:00+00:00",
          "2024-01-01T16:30:00+00:00",
          "2024-01-01T17:00:00+00:00",
          "2024-01-01T17:30:00+00:00",
          "2024-01-01T18:00:00+00:00",
          "2024-01-01T18:30:00+00:00",
          "2024-01-01T19:00:00+00:00",
          "2024-01-01T19:30:00+00:00",
          "2024-01-01T20:00:00+00:00",
          "2024-01-01T20:30:00+00:00",
          "2024-01-01T21:00:00+00:00",
          "2024-01-01T21:30:00+00:00",
          "2024-01-01T22:00:00+00:00",
          "2024-01-01T22:30:00+00:00",
          "2024-01-01T23:00:00+00:00",
          "2024-01-01T23:30:00+00:00"
         ],
         "y": [
          1113.5782715943174,
          1120.489394393237,
          1117.2841117050962,
          1108.552005496295,
          1091.7866494324521,
          1099.8920132782773,
          1116.1970030930356,
          1107.931445803912,
          1111.1499688294248,
          1104.0218732025937,
          1081.9370896485166,
          1160.8025663544056,
          1090.0894219544248,
          1113.677934375079,
          1108.4960686829404,
          1119.908734526904,
          1120.858562197955,
          1106.042077746661,
          1108.9881970551328,
          1106.2499024536924,
          1104.8234536316709,
          1130.64214202431,
          1115.750055041583,
          1199.96408266319,
          1124.8379962113218,
          1122.064483847888,
          1109.3493458893613,
          1107.0856530335263,
          1110.7060601380185,
          1119.8902818825559,
          1097.7459103730039,
          1072.0944459107236,
          1019.2833344605283,
          800.389085604689,
          640.1403185182776,
          351.52806207500447,
          556.1396349511219,
          449.94557534544265,
          437.70639995985545,
          478.0060750906357,
          629.0998266363573,
          747.0819533686223,
          871.0616928031125,
          925.9908234742002,
          1028.2541215088681,
          1066.9446236756162,
          1110.2444407608823,
          1182.8756521393177
         ]
        },
        {
         "mode": "lines",
         "name": "XGB 30th Percentile",
         "type": "scatter",
         "x": [
          "2024-01-01T00:00:00+00:00",
          "2024-01-01T00:30:00+00:00",
          "2024-01-01T01:00:00+00:00",
          "2024-01-01T01:30:00+00:00",
          "2024-01-01T02:00:00+00:00",
          "2024-01-01T02:30:00+00:00",
          "2024-01-01T03:00:00+00:00",
          "2024-01-01T03:30:00+00:00",
          "2024-01-01T04:00:00+00:00",
          "2024-01-01T04:30:00+00:00",
          "2024-01-01T05:00:00+00:00",
          "2024-01-01T05:30:00+00:00",
          "2024-01-01T06:00:00+00:00",
          "2024-01-01T06:30:00+00:00",
          "2024-01-01T07:00:00+00:00",
          "2024-01-01T07:30:00+00:00",
          "2024-01-01T08:00:00+00:00",
          "2024-01-01T08:30:00+00:00",
          "2024-01-01T09:00:00+00:00",
          "2024-01-01T09:30:00+00:00",
          "2024-01-01T10:00:00+00:00",
          "2024-01-01T10:30:00+00:00",
          "2024-01-01T11:00:00+00:00",
          "2024-01-01T11:30:00+00:00",
          "2024-01-01T12:00:00+00:00",
          "2024-01-01T12:30:00+00:00",
          "2024-01-01T13:00:00+00:00",
          "2024-01-01T13:30:00+00:00",
          "2024-01-01T14:00:00+00:00",
          "2024-01-01T14:30:00+00:00",
          "2024-01-01T15:00:00+00:00",
          "2024-01-01T15:30:00+00:00",
          "2024-01-01T16:00:00+00:00",
          "2024-01-01T16:30:00+00:00",
          "2024-01-01T17:00:00+00:00",
          "2024-01-01T17:30:00+00:00",
          "2024-01-01T18:00:00+00:00",
          "2024-01-01T18:30:00+00:00",
          "2024-01-01T19:00:00+00:00",
          "2024-01-01T19:30:00+00:00",
          "2024-01-01T20:00:00+00:00",
          "2024-01-01T20:30:00+00:00",
          "2024-01-01T21:00:00+00:00",
          "2024-01-01T21:30:00+00:00",
          "2024-01-01T22:00:00+00:00",
          "2024-01-01T22:30:00+00:00",
          "2024-01-01T23:00:00+00:00",
          "2024-01-01T23:30:00+00:00"
         ],
         "y": [
          1118.3308913376645,
          1122.076953616412,
          1115.4957224991635,
          1109.3552109864072,
          1100.8941323426084,
          1106.7276589539365,
          1130.531371321948,
          1117.0082871582822,
          1122.8252868321256,
          1115.9803263809995,
          1097.4988038208799,
          1178.5543687988636,
          1098.9515683319883,
          1121.2238709595517,
          1123.756559577258,
          1129.0576300289945,
          1147.3296372559385,
          1098.6808392670468,
          1101.7691990998105,
          1146.710239138873,
          1126.2962442603425,
          1153.0171887543515,
          1150.6156556275205,
          1226.4012315918324,
          1143.9210221436338,
          1152.5952107575254,
          1143.5975377228574,
          1138.8858992722348,
          1139.727594104083,
          1144.4021870758847,
          1113.742580142291,
          1085.1869256165342,
          1029.540567126544,
          874.9956377287124,
          717.9323259645666,
          369.0383464988326,
          576.8230227074696,
          473.5284972080449,
          473.6313705866865,
          468.0185186331162,
          652.7253015661669,
          823.1638854364934,
          880.0798507620968,
          950.415597644122,
          930.1206147339658,
          1049.9672562744931,
          1128.5476569798307,
          1185.0110624481556
         ]
        },
        {
         "mode": "lines",
         "name": "XGB 40th Percentile",
         "type": "scatter",
         "x": [
          "2024-01-01T00:00:00+00:00",
          "2024-01-01T00:30:00+00:00",
          "2024-01-01T01:00:00+00:00",
          "2024-01-01T01:30:00+00:00",
          "2024-01-01T02:00:00+00:00",
          "2024-01-01T02:30:00+00:00",
          "2024-01-01T03:00:00+00:00",
          "2024-01-01T03:30:00+00:00",
          "2024-01-01T04:00:00+00:00",
          "2024-01-01T04:30:00+00:00",
          "2024-01-01T05:00:00+00:00",
          "2024-01-01T05:30:00+00:00",
          "2024-01-01T06:00:00+00:00",
          "2024-01-01T06:30:00+00:00",
          "2024-01-01T07:00:00+00:00",
          "2024-01-01T07:30:00+00:00",
          "2024-01-01T08:00:00+00:00",
          "2024-01-01T08:30:00+00:00",
          "2024-01-01T09:00:00+00:00",
          "2024-01-01T09:30:00+00:00",
          "2024-01-01T10:00:00+00:00",
          "2024-01-01T10:30:00+00:00",
          "2024-01-01T11:00:00+00:00",
          "2024-01-01T11:30:00+00:00",
          "2024-01-01T12:00:00+00:00",
          "2024-01-01T12:30:00+00:00",
          "2024-01-01T13:00:00+00:00",
          "2024-01-01T13:30:00+00:00",
          "2024-01-01T14:00:00+00:00",
          "2024-01-01T14:30:00+00:00",
          "2024-01-01T15:00:00+00:00",
          "2024-01-01T15:30:00+00:00",
          "2024-01-01T16:00:00+00:00",
          "2024-01-01T16:30:00+00:00",
          "2024-01-01T17:00:00+00:00",
          "2024-01-01T17:30:00+00:00",
          "2024-01-01T18:00:00+00:00",
          "2024-01-01T18:30:00+00:00",
          "2024-01-01T19:00:00+00:00",
          "2024-01-01T19:30:00+00:00",
          "2024-01-01T20:00:00+00:00",
          "2024-01-01T20:30:00+00:00",
          "2024-01-01T21:00:00+00:00",
          "2024-01-01T21:30:00+00:00",
          "2024-01-01T22:00:00+00:00",
          "2024-01-01T22:30:00+00:00",
          "2024-01-01T23:00:00+00:00",
          "2024-01-01T23:30:00+00:00"
         ],
         "y": [
          1136.4196641114072,
          1129.335184779437,
          1127.8218457367734,
          1126.3888738718347,
          1129.5409030583219,
          1127.0720173981504,
          1153.8767335083799,
          1139.8448950913266,
          1138.1833064225034,
          1135.8942143585996,
          1131.5163576271848,
          1205.9425733734486,
          1146.3715817597226,
          1137.8066756394223,
          1142.4175583985166,
          1151.3145672943906,
          1157.5089490082578,
          1145.6809384491758,
          1140.7236869004087,
          1160.7203194763974,
          1162.6968209412412,
          1162.3762833741025,
          1163.0412499573545,
          1238.389213388097,
          1162.4242684510068,
          1160.0418107178525,
          1158.087312426837,
          1159.731027331622,
          1159.0368325379209,
          1157.0821511414365,
          1132.865337577136,
          1094.6383587982968,
          1045.836709704669,
          908.6285570402358,
          760.2971712404456,
          398.383725374565,
          593.6326407036854,
          517.685153592513,
          490.9979591792158,
          587.0908452932724,
          716.5178449774218,
          894.1269248346867,
          950.2720504691281,
          988.5150239136533,
          1037.3757798340635,
          1059.581971850665,
          1124.6378125813321,
          1195.604852502477
         ]
        },
        {
         "mode": "lines",
         "name": "XGB 50th Percentile",
         "type": "scatter",
         "x": [
          "2024-01-01T00:00:00+00:00",
          "2024-01-01T00:30:00+00:00",
          "2024-01-01T01:00:00+00:00",
          "2024-01-01T01:30:00+00:00",
          "2024-01-01T02:00:00+00:00",
          "2024-01-01T02:30:00+00:00",
          "2024-01-01T03:00:00+00:00",
          "2024-01-01T03:30:00+00:00",
          "2024-01-01T04:00:00+00:00",
          "2024-01-01T04:30:00+00:00",
          "2024-01-01T05:00:00+00:00",
          "2024-01-01T05:30:00+00:00",
          "2024-01-01T06:00:00+00:00",
          "2024-01-01T06:30:00+00:00",
          "2024-01-01T07:00:00+00:00",
          "2024-01-01T07:30:00+00:00",
          "2024-01-01T08:00:00+00:00",
          "2024-01-01T08:30:00+00:00",
          "2024-01-01T09:00:00+00:00",
          "2024-01-01T09:30:00+00:00",
          "2024-01-01T10:00:00+00:00",
          "2024-01-01T10:30:00+00:00",
          "2024-01-01T11:00:00+00:00",
          "2024-01-01T11:30:00+00:00",
          "2024-01-01T12:00:00+00:00",
          "2024-01-01T12:30:00+00:00",
          "2024-01-01T13:00:00+00:00",
          "2024-01-01T13:30:00+00:00",
          "2024-01-01T14:00:00+00:00",
          "2024-01-01T14:30:00+00:00",
          "2024-01-01T15:00:00+00:00",
          "2024-01-01T15:30:00+00:00",
          "2024-01-01T16:00:00+00:00",
          "2024-01-01T16:30:00+00:00",
          "2024-01-01T17:00:00+00:00",
          "2024-01-01T17:30:00+00:00",
          "2024-01-01T18:00:00+00:00",
          "2024-01-01T18:30:00+00:00",
          "2024-01-01T19:00:00+00:00",
          "2024-01-01T19:30:00+00:00",
          "2024-01-01T20:00:00+00:00",
          "2024-01-01T20:30:00+00:00",
          "2024-01-01T21:00:00+00:00",
          "2024-01-01T21:30:00+00:00",
          "2024-01-01T22:00:00+00:00",
          "2024-01-01T22:30:00+00:00",
          "2024-01-01T23:00:00+00:00",
          "2024-01-01T23:30:00+00:00"
         ],
         "y": [
          1150.762651171954,
          1140.8797986176328,
          1133.2759105828122,
          1138.5187203553037,
          1146.2061478760556,
          1141.6894585755185,
          1158.5570962097959,
          1144.9570901062802,
          1151.5977036621885,
          1151.1285950806455,
          1147.3263451721982,
          1229.2329176117298,
          1153.7718674805478,
          1147.1228959229306,
          1155.2194039490537,
          1152.6591317322568,
          1163.7418610718564,
          1154.5464875367002,
          1154.3411080506162,
          1160.6253182556943,
          1159.2184502747373,
          1168.24330684212,
          1171.2002465393857,
          1244.3254011322376,
          1174.0779091980771,
          1176.1221139099912,
          1175.17747279671,
          1176.1073662903623,
          1177.1001641419248,
          1175.7618996765927,
          1154.2991864350156,
          1112.837623324664,
          1073.6685769226865,
          941.3454225797866,
          804.7982736879553,
          459.0277459319686,
          658.4290484032704,
          545.2469020971516,
          538.3394527857831,
          599.4982892935166,
          768.590659918828,
          948.0572570185246,
          968.6232467581906,
          1001.8895280030088,
          1035.163644519122,
          1074.087976184161,
          1125.7790498402433,
          1178.0339334656117
         ]
        },
        {
         "mode": "lines",
         "name": "XGB 60th Percentile",
         "type": "scatter",
         "x": [
          "2024-01-01T00:00:00+00:00",
          "2024-01-01T00:30:00+00:00",
          "2024-01-01T01:00:00+00:00",
          "2024-01-01T01:30:00+00:00",
          "2024-01-01T02:00:00+00:00",
          "2024-01-01T02:30:00+00:00",
          "2024-01-01T03:00:00+00:00",
          "2024-01-01T03:30:00+00:00",
          "2024-01-01T04:00:00+00:00",
          "2024-01-01T04:30:00+00:00",
          "2024-01-01T05:00:00+00:00",
          "2024-01-01T05:30:00+00:00",
          "2024-01-01T06:00:00+00:00",
          "2024-01-01T06:30:00+00:00",
          "2024-01-01T07:00:00+00:00",
          "2024-01-01T07:30:00+00:00",
          "2024-01-01T08:00:00+00:00",
          "2024-01-01T08:30:00+00:00",
          "2024-01-01T09:00:00+00:00",
          "2024-01-01T09:30:00+00:00",
          "2024-01-01T10:00:00+00:00",
          "2024-01-01T10:30:00+00:00",
          "2024-01-01T11:00:00+00:00",
          "2024-01-01T11:30:00+00:00",
          "2024-01-01T12:00:00+00:00",
          "2024-01-01T12:30:00+00:00",
          "2024-01-01T13:00:00+00:00",
          "2024-01-01T13:30:00+00:00",
          "2024-01-01T14:00:00+00:00",
          "2024-01-01T14:30:00+00:00",
          "2024-01-01T15:00:00+00:00",
          "2024-01-01T15:30:00+00:00",
          "2024-01-01T16:00:00+00:00",
          "2024-01-01T16:30:00+00:00",
          "2024-01-01T17:00:00+00:00",
          "2024-01-01T17:30:00+00:00",
          "2024-01-01T18:00:00+00:00",
          "2024-01-01T18:30:00+00:00",
          "2024-01-01T19:00:00+00:00",
          "2024-01-01T19:30:00+00:00",
          "2024-01-01T20:00:00+00:00",
          "2024-01-01T20:30:00+00:00",
          "2024-01-01T21:00:00+00:00",
          "2024-01-01T21:30:00+00:00",
          "2024-01-01T22:00:00+00:00",
          "2024-01-01T22:30:00+00:00",
          "2024-01-01T23:00:00+00:00",
          "2024-01-01T23:30:00+00:00"
         ],
         "y": [
          1158.1192605164365,
          1153.346210208209,
          1159.771196093829,
          1158.6670815613584,
          1156.7581002381162,
          1160.231286731036,
          1169.2104432251767,
          1160.8197686341123,
          1155.9155537751035,
          1158.4844185974912,
          1160.941259112628,
          1221.5480535675404,
          1158.8930184510068,
          1159.6130044129209,
          1162.1967446472959,
          1169.9264351990537,
          1175.3863122132138,
          1163.318860736163,
          1161.9318024781064,
          1176.7134568360166,
          1174.5641877320127,
          1174.034665789874,
          1176.385999408038,
          1250.3811834503529,
          1176.9199654724912,
          1175.9211861756162,
          1179.1439454224424,
          1176.0065552857236,
          1171.758340564044,
          1172.3022744324521,
          1158.800233569415,
          1119.0667197373227,
          1087.0516640808896,
          972.5835207243179,
          829.5021749788489,
          489.44115182720174,
          683.6552866540028,
          585.0437236913899,
          578.0415783350995,
          658.9714605276474,
          817.2873914862108,
          1023.080053649384,
          984.8800064017453,
          1018.8288056519345,
          1044.7121064331845,
          1078.2124344971494,
          1102.3338753846006,
          1183.0499609161732
         ]
        },
        {
         "mode": "lines",
         "name": "XGB 70th Percentile",
         "type": "scatter",
         "x": [
          "2024-01-01T00:00:00+00:00",
          "2024-01-01T00:30:00+00:00",
          "2024-01-01T01:00:00+00:00",
          "2024-01-01T01:30:00+00:00",
          "2024-01-01T02:00:00+00:00",
          "2024-01-01T02:30:00+00:00",
          "2024-01-01T03:00:00+00:00",
          "2024-01-01T03:30:00+00:00",
          "2024-01-01T04:00:00+00:00",
          "2024-01-01T04:30:00+00:00",
          "2024-01-01T05:00:00+00:00",
          "2024-01-01T05:30:00+00:00",
          "2024-01-01T06:00:00+00:00",
          "2024-01-01T06:30:00+00:00",
          "2024-01-01T07:00:00+00:00",
          "2024-01-01T07:30:00+00:00",
          "2024-01-01T08:00:00+00:00",
          "2024-01-01T08:30:00+00:00",
          "2024-01-01T09:00:00+00:00",
          "2024-01-01T09:30:00+00:00",
          "2024-01-01T10:00:00+00:00",
          "2024-01-01T10:30:00+00:00",
          "2024-01-01T11:00:00+00:00",
          "2024-01-01T11:30:00+00:00",
          "2024-01-01T12:00:00+00:00",
          "2024-01-01T12:30:00+00:00",
          "2024-01-01T13:00:00+00:00",
          "2024-01-01T13:30:00+00:00",
          "2024-01-01T14:00:00+00:00",
          "2024-01-01T14:30:00+00:00",
          "2024-01-01T15:00:00+00:00",
          "2024-01-01T15:30:00+00:00",
          "2024-01-01T16:00:00+00:00",
          "2024-01-01T16:30:00+00:00",
          "2024-01-01T17:00:00+00:00",
          "2024-01-01T17:30:00+00:00",
          "2024-01-01T18:00:00+00:00",
          "2024-01-01T18:30:00+00:00",
          "2024-01-01T19:00:00+00:00",
          "2024-01-01T19:30:00+00:00",
          "2024-01-01T20:00:00+00:00",
          "2024-01-01T20:30:00+00:00",
          "2024-01-01T21:00:00+00:00",
          "2024-01-01T21:30:00+00:00",
          "2024-01-01T22:00:00+00:00",
          "2024-01-01T22:30:00+00:00",
          "2024-01-01T23:00:00+00:00",
          "2024-01-01T23:30:00+00:00"
         ],
         "y": [
          1161.9807183411435,
          1167.746968951495,
          1172.8217675354795,
          1172.3030030396299,
          1159.8208939698056,
          1164.2953278687314,
          1179.7785393860654,
          1170.4778000977353,
          1171.3105942871885,
          1174.5739609864072,
          1169.7730118897275,
          1244.121791665685,
          1168.69301387337,
          1166.3641602661924,
          1168.868909564288,
          1172.4222962525205,
          1174.4826752808408,
          1167.5703866150693,
          1167.1359383728818,
          1173.2065789368467,
          1172.2647721436338,
          1177.3820092346982,
          1176.5686051514463,
          1254.8408849884388,
          1177.3700310852842,
          1181.135812487872,
          1180.6570641663388,
          1180.683980670245,
          1180.2129952576474,
          1175.620862689288,
          1162.3839203980283,
          1139.5307891037778,
          1107.7674634125547,
          1000.3328150053237,
          884.4739481264319,
          544.2903072532272,
          735.9790934166981,
          627.0433727392415,
          618.2673092310956,
          704.7210561697373,
          864.3466718817186,
          1066.7783950190128,
          1055.177709191052,
          1038.848054614337,
          1064.6223313477353,
          1102.4928986695127,
          1122.607595887454,
          1196.8656118561146
         ]
        },
        {
         "mode": "lines",
         "name": "XGB 80th Percentile",
         "type": "scatter",
         "x": [
          "2024-01-01T00:00:00+00:00",
          "2024-01-01T00:30:00+00:00",
          "2024-01-01T01:00:00+00:00",
          "2024-01-01T01:30:00+00:00",
          "2024-01-01T02:00:00+00:00",
          "2024-01-01T02:30:00+00:00",
          "2024-01-01T03:00:00+00:00",
          "2024-01-01T03:30:00+00:00",
          "2024-01-01T04:00:00+00:00",
          "2024-01-01T04:30:00+00:00",
          "2024-01-01T05:00:00+00:00",
          "2024-01-01T05:30:00+00:00",
          "2024-01-01T06:00:00+00:00",
          "2024-01-01T06:30:00+00:00",
          "2024-01-01T07:00:00+00:00",
          "2024-01-01T07:30:00+00:00",
          "2024-01-01T08:00:00+00:00",
          "2024-01-01T08:30:00+00:00",
          "2024-01-01T09:00:00+00:00",
          "2024-01-01T09:30:00+00:00",
          "2024-01-01T10:00:00+00:00",
          "2024-01-01T10:30:00+00:00",
          "2024-01-01T11:00:00+00:00",
          "2024-01-01T11:30:00+00:00",
          "2024-01-01T12:00:00+00:00",
          "2024-01-01T12:30:00+00:00",
          "2024-01-01T13:00:00+00:00",
          "2024-01-01T13:30:00+00:00",
          "2024-01-01T14:00:00+00:00",
          "2024-01-01T14:30:00+00:00",
          "2024-01-01T15:00:00+00:00",
          "2024-01-01T15:30:00+00:00",
          "2024-01-01T16:00:00+00:00",
          "2024-01-01T16:30:00+00:00",
          "2024-01-01T17:00:00+00:00",
          "2024-01-01T17:30:00+00:00",
          "2024-01-01T18:00:00+00:00",
          "2024-01-01T18:30:00+00:00",
          "2024-01-01T19:00:00+00:00",
          "2024-01-01T19:30:00+00:00",
          "2024-01-01T20:00:00+00:00",
          "2024-01-01T20:30:00+00:00",
          "2024-01-01T21:00:00+00:00",
          "2024-01-01T21:30:00+00:00",
          "2024-01-01T22:00:00+00:00",
          "2024-01-01T22:30:00+00:00",
          "2024-01-01T23:00:00+00:00",
          "2024-01-01T23:30:00+00:00"
         ],
         "y": [
          1182.610723223956,
          1178.7524773743467,
          1180.423181262286,
          1177.6237084534482,
          1181.7132851746396,
          1182.4909150269345,
          1183.5834977295713,
          1181.0353905823545,
          1175.2949654724912,
          1180.8809792664365,
          1174.798883166583,
          1250.9528997589466,
          1177.101030078204,
          1179.9072739746885,
          1181.7101189759092,
          1181.2581879761533,
          1184.323327746661,
          1172.8612038758115,
          1168.1482026245908,
          1173.8563401367978,
          1173.2457635071592,
          1178.496953692706,
          1175.9387833741025,
          1255.1601255585072,
          1176.0608575012998,
          1177.8013207581357,
          1181.864110675128,
          1181.812108722003,
          1181.9067856934385,
          1176.0766198304013,
          1169.1804139283017,
          1155.9261853363828,
          1124.1596502926664,
          1057.2227733869765,
          944.737478857633,
          589.4840633567428,
          778.5679606041981,
          648.0270916113118,
          682.6943111842206,
          749.2383901541123,
          926.3232343817186,
          1092.145872436005,
          1111.2103420188107,
          1117.191793170245,
          1122.1846666004972,
          1126.3013232019262,
          1150.4745728638486,
          1238.4798238922474
         ]
        },
        {
         "mode": "lines",
         "name": "XGB 90th Percentile",
         "type": "scatter",
         "x": [
          "2024-01-01T00:00:00+00:00",
          "2024-01-01T00:30:00+00:00",
          "2024-01-01T01:00:00+00:00",
          "2024-01-01T01:30:00+00:00",
          "2024-01-01T02:00:00+00:00",
          "2024-01-01T02:30:00+00:00",
          "2024-01-01T03:00:00+00:00",
          "2024-01-01T03:30:00+00:00",
          "2024-01-01T04:00:00+00:00",
          "2024-01-01T04:30:00+00:00",
          "2024-01-01T05:00:00+00:00",
          "2024-01-01T05:30:00+00:00",
          "2024-01-01T06:00:00+00:00",
          "2024-01-01T06:30:00+00:00",
          "2024-01-01T07:00:00+00:00",
          "2024-01-01T07:30:00+00:00",
          "2024-01-01T08:00:00+00:00",
          "2024-01-01T08:30:00+00:00",
          "2024-01-01T09:00:00+00:00",
          "2024-01-01T09:30:00+00:00",
          "2024-01-01T10:00:00+00:00",
          "2024-01-01T10:30:00+00:00",
          "2024-01-01T11:00:00+00:00",
          "2024-01-01T11:30:00+00:00",
          "2024-01-01T12:00:00+00:00",
          "2024-01-01T12:30:00+00:00",
          "2024-01-01T13:00:00+00:00",
          "2024-01-01T13:30:00+00:00",
          "2024-01-01T14:00:00+00:00",
          "2024-01-01T14:30:00+00:00",
          "2024-01-01T15:00:00+00:00",
          "2024-01-01T15:30:00+00:00",
          "2024-01-01T16:00:00+00:00",
          "2024-01-01T16:30:00+00:00",
          "2024-01-01T17:00:00+00:00",
          "2024-01-01T17:30:00+00:00",
          "2024-01-01T18:00:00+00:00",
          "2024-01-01T18:30:00+00:00",
          "2024-01-01T19:00:00+00:00",
          "2024-01-01T19:30:00+00:00",
          "2024-01-01T20:00:00+00:00",
          "2024-01-01T20:30:00+00:00",
          "2024-01-01T21:00:00+00:00",
          "2024-01-01T21:30:00+00:00",
          "2024-01-01T22:00:00+00:00",
          "2024-01-01T22:30:00+00:00",
          "2024-01-01T23:00:00+00:00",
          "2024-01-01T23:30:00+00:00"
         ],
         "y": [
          1209.636171069415,
          1188.2904946472959,
          1189.7606942322568,
          1190.4180771973447,
          1194.0822236206845,
          1193.9180466797666,
          1188.684037890704,
          1188.2482125428037,
          1186.7472474243955,
          1186.5971047547177,
          1188.8113953736142,
          1260.4867208649036,
          1187.0542084839658,
          1183.7149254944638,
          1183.5013596680478,
          1182.851373400958,
          1182.7744614746885,
          1182.8373086121396,
          1181.3113152649717,
          1181.4721123841123,
          1181.124795642169,
          1184.61737224129,
          1182.7092301514463,
          1261.8094595123646,
          1184.3237168457822,
          1184.9075753357724,
          1192.2330338623838,
          1184.4095475342588,
          1185.260266986163,
          1184.3904091980771,
          1188.9697281983213,
          1171.4313027527646,
          1174.3434960511045,
          1091.7747057218764,
          995.0570970827307,
          713.894509523735,
          885.808896883495,
          758.7272411474446,
          793.3858242457441,
          815.2178518240341,
          975.1741865301561,
          1184.9496444086612,
          1167.419381706921,
          1149.2018048432187,
          1143.6059147980527,
          1169.8015420105771,
          1171.7492310669736,
          1253.5435789276478
         ]
        }
       ],
       "layout": {
        "hovermode": "x unified",
        "legend": {
         "title": {
          "text": "Models"
         }
        },
        "template": {
         "data": {
          "bar": [
           {
            "error_x": {
             "color": "#2a3f5f"
            },
            "error_y": {
             "color": "#2a3f5f"
            },
            "marker": {
             "line": {
              "color": "#E5ECF6",
              "width": 0.5
             },
             "pattern": {
              "fillmode": "overlay",
              "size": 10,
              "solidity": 0.2
             }
            },
            "type": "bar"
           }
          ],
          "barpolar": [
           {
            "marker": {
             "line": {
              "color": "#E5ECF6",
              "width": 0.5
             },
             "pattern": {
              "fillmode": "overlay",
              "size": 10,
              "solidity": 0.2
             }
            },
            "type": "barpolar"
           }
          ],
          "carpet": [
           {
            "aaxis": {
             "endlinecolor": "#2a3f5f",
             "gridcolor": "white",
             "linecolor": "white",
             "minorgridcolor": "white",
             "startlinecolor": "#2a3f5f"
            },
            "baxis": {
             "endlinecolor": "#2a3f5f",
             "gridcolor": "white",
             "linecolor": "white",
             "minorgridcolor": "white",
             "startlinecolor": "#2a3f5f"
            },
            "type": "carpet"
           }
          ],
          "choropleth": [
           {
            "colorbar": {
             "outlinewidth": 0,
             "ticks": ""
            },
            "type": "choropleth"
           }
          ],
          "contour": [
           {
            "colorbar": {
             "outlinewidth": 0,
             "ticks": ""
            },
            "colorscale": [
             [
              0,
              "#0d0887"
             ],
             [
              0.1111111111111111,
              "#46039f"
             ],
             [
              0.2222222222222222,
              "#7201a8"
             ],
             [
              0.3333333333333333,
              "#9c179e"
             ],
             [
              0.4444444444444444,
              "#bd3786"
             ],
             [
              0.5555555555555556,
              "#d8576b"
             ],
             [
              0.6666666666666666,
              "#ed7953"
             ],
             [
              0.7777777777777778,
              "#fb9f3a"
             ],
             [
              0.8888888888888888,
              "#fdca26"
             ],
             [
              1,
              "#f0f921"
             ]
            ],
            "type": "contour"
           }
          ],
          "contourcarpet": [
           {
            "colorbar": {
             "outlinewidth": 0,
             "ticks": ""
            },
            "type": "contourcarpet"
           }
          ],
          "heatmap": [
           {
            "colorbar": {
             "outlinewidth": 0,
             "ticks": ""
            },
            "colorscale": [
             [
              0,
              "#0d0887"
             ],
             [
              0.1111111111111111,
              "#46039f"
             ],
             [
              0.2222222222222222,
              "#7201a8"
             ],
             [
              0.3333333333333333,
              "#9c179e"
             ],
             [
              0.4444444444444444,
              "#bd3786"
             ],
             [
              0.5555555555555556,
              "#d8576b"
             ],
             [
              0.6666666666666666,
              "#ed7953"
             ],
             [
              0.7777777777777778,
              "#fb9f3a"
             ],
             [
              0.8888888888888888,
              "#fdca26"
             ],
             [
              1,
              "#f0f921"
             ]
            ],
            "type": "heatmap"
           }
          ],
          "heatmapgl": [
           {
            "colorbar": {
             "outlinewidth": 0,
             "ticks": ""
            },
            "colorscale": [
             [
              0,
              "#0d0887"
             ],
             [
              0.1111111111111111,
              "#46039f"
             ],
             [
              0.2222222222222222,
              "#7201a8"
             ],
             [
              0.3333333333333333,
              "#9c179e"
             ],
             [
              0.4444444444444444,
              "#bd3786"
             ],
             [
              0.5555555555555556,
              "#d8576b"
             ],
             [
              0.6666666666666666,
              "#ed7953"
             ],
             [
              0.7777777777777778,
              "#fb9f3a"
             ],
             [
              0.8888888888888888,
              "#fdca26"
             ],
             [
              1,
              "#f0f921"
             ]
            ],
            "type": "heatmapgl"
           }
          ],
          "histogram": [
           {
            "marker": {
             "pattern": {
              "fillmode": "overlay",
              "size": 10,
              "solidity": 0.2
             }
            },
            "type": "histogram"
           }
          ],
          "histogram2d": [
           {
            "colorbar": {
             "outlinewidth": 0,
             "ticks": ""
            },
            "colorscale": [
             [
              0,
              "#0d0887"
             ],
             [
              0.1111111111111111,
              "#46039f"
             ],
             [
              0.2222222222222222,
              "#7201a8"
             ],
             [
              0.3333333333333333,
              "#9c179e"
             ],
             [
              0.4444444444444444,
              "#bd3786"
             ],
             [
              0.5555555555555556,
              "#d8576b"
             ],
             [
              0.6666666666666666,
              "#ed7953"
             ],
             [
              0.7777777777777778,
              "#fb9f3a"
             ],
             [
              0.8888888888888888,
              "#fdca26"
             ],
             [
              1,
              "#f0f921"
             ]
            ],
            "type": "histogram2d"
           }
          ],
          "histogram2dcontour": [
           {
            "colorbar": {
             "outlinewidth": 0,
             "ticks": ""
            },
            "colorscale": [
             [
              0,
              "#0d0887"
             ],
             [
              0.1111111111111111,
              "#46039f"
             ],
             [
              0.2222222222222222,
              "#7201a8"
             ],
             [
              0.3333333333333333,
              "#9c179e"
             ],
             [
              0.4444444444444444,
              "#bd3786"
             ],
             [
              0.5555555555555556,
              "#d8576b"
             ],
             [
              0.6666666666666666,
              "#ed7953"
             ],
             [
              0.7777777777777778,
              "#fb9f3a"
             ],
             [
              0.8888888888888888,
              "#fdca26"
             ],
             [
              1,
              "#f0f921"
             ]
            ],
            "type": "histogram2dcontour"
           }
          ],
          "mesh3d": [
           {
            "colorbar": {
             "outlinewidth": 0,
             "ticks": ""
            },
            "type": "mesh3d"
           }
          ],
          "parcoords": [
           {
            "line": {
             "colorbar": {
              "outlinewidth": 0,
              "ticks": ""
             }
            },
            "type": "parcoords"
           }
          ],
          "pie": [
           {
            "automargin": true,
            "type": "pie"
           }
          ],
          "scatter": [
           {
            "fillpattern": {
             "fillmode": "overlay",
             "size": 10,
             "solidity": 0.2
            },
            "type": "scatter"
           }
          ],
          "scatter3d": [
           {
            "line": {
             "colorbar": {
              "outlinewidth": 0,
              "ticks": ""
             }
            },
            "marker": {
             "colorbar": {
              "outlinewidth": 0,
              "ticks": ""
             }
            },
            "type": "scatter3d"
           }
          ],
          "scattercarpet": [
           {
            "marker": {
             "colorbar": {
              "outlinewidth": 0,
              "ticks": ""
             }
            },
            "type": "scattercarpet"
           }
          ],
          "scattergeo": [
           {
            "marker": {
             "colorbar": {
              "outlinewidth": 0,
              "ticks": ""
             }
            },
            "type": "scattergeo"
           }
          ],
          "scattergl": [
           {
            "marker": {
             "colorbar": {
              "outlinewidth": 0,
              "ticks": ""
             }
            },
            "type": "scattergl"
           }
          ],
          "scattermapbox": [
           {
            "marker": {
             "colorbar": {
              "outlinewidth": 0,
              "ticks": ""
             }
            },
            "type": "scattermapbox"
           }
          ],
          "scatterpolar": [
           {
            "marker": {
             "colorbar": {
              "outlinewidth": 0,
              "ticks": ""
             }
            },
            "type": "scatterpolar"
           }
          ],
          "scatterpolargl": [
           {
            "marker": {
             "colorbar": {
              "outlinewidth": 0,
              "ticks": ""
             }
            },
            "type": "scatterpolargl"
           }
          ],
          "scatterternary": [
           {
            "marker": {
             "colorbar": {
              "outlinewidth": 0,
              "ticks": ""
             }
            },
            "type": "scatterternary"
           }
          ],
          "surface": [
           {
            "colorbar": {
             "outlinewidth": 0,
             "ticks": ""
            },
            "colorscale": [
             [
              0,
              "#0d0887"
             ],
             [
              0.1111111111111111,
              "#46039f"
             ],
             [
              0.2222222222222222,
              "#7201a8"
             ],
             [
              0.3333333333333333,
              "#9c179e"
             ],
             [
              0.4444444444444444,
              "#bd3786"
             ],
             [
              0.5555555555555556,
              "#d8576b"
             ],
             [
              0.6666666666666666,
              "#ed7953"
             ],
             [
              0.7777777777777778,
              "#fb9f3a"
             ],
             [
              0.8888888888888888,
              "#fdca26"
             ],
             [
              1,
              "#f0f921"
             ]
            ],
            "type": "surface"
           }
          ],
          "table": [
           {
            "cells": {
             "fill": {
              "color": "#EBF0F8"
             },
             "line": {
              "color": "white"
             }
            },
            "header": {
             "fill": {
              "color": "#C8D4E3"
             },
             "line": {
              "color": "white"
             }
            },
            "type": "table"
           }
          ]
         },
         "layout": {
          "annotationdefaults": {
           "arrowcolor": "#2a3f5f",
           "arrowhead": 0,
           "arrowwidth": 1
          },
          "autotypenumbers": "strict",
          "coloraxis": {
           "colorbar": {
            "outlinewidth": 0,
            "ticks": ""
           }
          },
          "colorscale": {
           "diverging": [
            [
             0,
             "#8e0152"
            ],
            [
             0.1,
             "#c51b7d"
            ],
            [
             0.2,
             "#de77ae"
            ],
            [
             0.3,
             "#f1b6da"
            ],
            [
             0.4,
             "#fde0ef"
            ],
            [
             0.5,
             "#f7f7f7"
            ],
            [
             0.6,
             "#e6f5d0"
            ],
            [
             0.7,
             "#b8e186"
            ],
            [
             0.8,
             "#7fbc41"
            ],
            [
             0.9,
             "#4d9221"
            ],
            [
             1,
             "#276419"
            ]
           ],
           "sequential": [
            [
             0,
             "#0d0887"
            ],
            [
             0.1111111111111111,
             "#46039f"
            ],
            [
             0.2222222222222222,
             "#7201a8"
            ],
            [
             0.3333333333333333,
             "#9c179e"
            ],
            [
             0.4444444444444444,
             "#bd3786"
            ],
            [
             0.5555555555555556,
             "#d8576b"
            ],
            [
             0.6666666666666666,
             "#ed7953"
            ],
            [
             0.7777777777777778,
             "#fb9f3a"
            ],
            [
             0.8888888888888888,
             "#fdca26"
            ],
            [
             1,
             "#f0f921"
            ]
           ],
           "sequentialminus": [
            [
             0,
             "#0d0887"
            ],
            [
             0.1111111111111111,
             "#46039f"
            ],
            [
             0.2222222222222222,
             "#7201a8"
            ],
            [
             0.3333333333333333,
             "#9c179e"
            ],
            [
             0.4444444444444444,
             "#bd3786"
            ],
            [
             0.5555555555555556,
             "#d8576b"
            ],
            [
             0.6666666666666666,
             "#ed7953"
            ],
            [
             0.7777777777777778,
             "#fb9f3a"
            ],
            [
             0.8888888888888888,
             "#fdca26"
            ],
            [
             1,
             "#f0f921"
            ]
           ]
          },
          "colorway": [
           "#636efa",
           "#EF553B",
           "#00cc96",
           "#ab63fa",
           "#FFA15A",
           "#19d3f3",
           "#FF6692",
           "#B6E880",
           "#FF97FF",
           "#FECB52"
          ],
          "font": {
           "color": "#2a3f5f"
          },
          "geo": {
           "bgcolor": "white",
           "lakecolor": "white",
           "landcolor": "#E5ECF6",
           "showlakes": true,
           "showland": true,
           "subunitcolor": "white"
          },
          "hoverlabel": {
           "align": "left"
          },
          "hovermode": "closest",
          "mapbox": {
           "style": "light"
          },
          "paper_bgcolor": "white",
          "plot_bgcolor": "#E5ECF6",
          "polar": {
           "angularaxis": {
            "gridcolor": "white",
            "linecolor": "white",
            "ticks": ""
           },
           "bgcolor": "#E5ECF6",
           "radialaxis": {
            "gridcolor": "white",
            "linecolor": "white",
            "ticks": ""
           }
          },
          "scene": {
           "xaxis": {
            "backgroundcolor": "#E5ECF6",
            "gridcolor": "white",
            "gridwidth": 2,
            "linecolor": "white",
            "showbackground": true,
            "ticks": "",
            "zerolinecolor": "white"
           },
           "yaxis": {
            "backgroundcolor": "#E5ECF6",
            "gridcolor": "white",
            "gridwidth": 2,
            "linecolor": "white",
            "showbackground": true,
            "ticks": "",
            "zerolinecolor": "white"
           },
           "zaxis": {
            "backgroundcolor": "#E5ECF6",
            "gridcolor": "white",
            "gridwidth": 2,
            "linecolor": "white",
            "showbackground": true,
            "ticks": "",
            "zerolinecolor": "white"
           }
          },
          "shapedefaults": {
           "line": {
            "color": "#2a3f5f"
           }
          },
          "ternary": {
           "aaxis": {
            "gridcolor": "white",
            "linecolor": "white",
            "ticks": ""
           },
           "baxis": {
            "gridcolor": "white",
            "linecolor": "white",
            "ticks": ""
           },
           "bgcolor": "#E5ECF6",
           "caxis": {
            "gridcolor": "white",
            "linecolor": "white",
            "ticks": ""
           }
          },
          "title": {
           "x": 0.05
          },
          "xaxis": {
           "automargin": true,
           "gridcolor": "white",
           "linecolor": "white",
           "ticks": "",
           "title": {
            "standoff": 15
           },
           "zerolinecolor": "white",
           "zerolinewidth": 2
          },
          "yaxis": {
           "automargin": true,
           "gridcolor": "white",
           "linecolor": "white",
           "ticks": "",
           "title": {
            "standoff": 15
           },
           "zerolinecolor": "white",
           "zerolinewidth": 2
          }
         }
        },
        "title": {
         "text": "Quantile Predictions (GradientBoosting and XGBoost) on 2024-01-01"
        },
        "xaxis": {
         "title": {
          "text": "Valid Time"
         }
        },
        "yaxis": {
         "title": {
          "text": "Power Output (MW)"
         }
        }
       }
      }
     },
     "metadata": {},
     "output_type": "display_data"
    }
   ],
   "source": [
    "import joblib\n",
    "import os\n",
    "import plotly.graph_objs as go\n",
    "import numpy as np\n",
    "\n",
    "# Define the quantiles\n",
    "quantiles = np.arange(0.1, 1.0, 0.1)\n",
    "\n",
    "# Load the models for GBR and XGBoost from the saved files\n",
    "best_models_gbr = {}\n",
    "best_models_xgb = {}\n",
    "\n",
    "# Load GBR models\n",
    "for quantile in quantiles:\n",
    "    model_path_gbr = os.path.join(os.getcwd(), 'models', f'gbr_quantile_{quantile:.1f}.pkl')\n",
    "    best_models_gbr[quantile] = joblib.load(model_path_gbr)\n",
    "\n",
    "# Load XGBoost models\n",
    "for quantile in quantiles:\n",
    "    model_path_xgb = os.path.join(os.getcwd(), 'models', f'xgboost_quantile_{quantile:.1f}.pkl')\n",
    "    best_models_xgb[quantile] = joblib.load(model_path_xgb)\n",
    "\n",
    "# Now, make predictions using the loaded models for your sample data\n",
    "sample_date = pd.to_datetime(np.datetime64('2024-01-01')).tz_localize('UTC')\n",
    "print(sample_date.date())\n",
    "sample_data = df_latest[(df_latest['valid_time'].dt.date == sample_date.date())]\n",
    "\n",
    "# Prepare the feature data for prediction from the sample_data\n",
    "X_sample = sample_data[['WindSpeed:100_avg', 'WindDirection:100_dwd', 'Temperature_avg', 'RelativeHumidity_avg',\n",
    "                        'WindDirection:100_ncep', 'AirDensity', 'MIP', 'UsableWindPower']]\n",
    "\n",
    "# Predict with GradientBoostingRegressor models\n",
    "gbr_predictions = {}\n",
    "for quantile in quantiles:\n",
    "    gbr_predictions[quantile] = best_models_gbr[quantile].predict(X_sample) + sample_data['PowerOutput_opt']\n",
    "\n",
    "# Predict with XGBRegressor models\n",
    "xgb_predictions = {}\n",
    "for quantile in quantiles:\n",
    "    xgb_predictions[quantile] = best_models_xgb[quantile].predict(X_sample) + sample_data['PowerOutput']\n",
    "\n",
    "# Real data (Wind_MW)\n",
    "y_real = sample_data['Wind_MW'].values\n",
    "\n",
    "# Create a plotly figure\n",
    "fig1 = go.Figure()\n",
    "fig2 = go.Figure()\n",
    "\n",
    "# Plot real data (Wind_MW)\n",
    "fig1.add_trace(go.Scatter(x=sample_data['valid_time'], y=y_real, mode='lines+markers', name='Real Data (Wind_MW)', line=dict(color='black')))\n",
    "fig2.add_trace(go.Scatter(x=sample_data['valid_time'], y=y_real, mode='lines+markers', name='Real Data (Wind_MW)', line=dict(color='black')))\n",
    "\n",
    "\n",
    "# Plot GBR quantile predictions\n",
    "for quantile in quantiles:\n",
    "    fig1.add_trace(go.Scatter(x=sample_data['valid_time'], y=gbr_predictions[quantile], mode='lines', name=f'GBR {int(quantile * 100)}th Percentile', line=dict(dash='dash')))\n",
    "\n",
    "# Plot XGB quantile predictions\n",
    "for quantile in quantiles:\n",
    "    fig2.add_trace(go.Scatter(x=sample_data['valid_time'], y=xgb_predictions[quantile], mode='lines', name=f'XGB {int(quantile * 100)}th Percentile'))\n",
    "\n",
    "# Update the layout of the plot\n",
    "fig1.update_layout(\n",
    "    title=f\"Quantile Predictions (GradientBoosting and XGBoost) on {sample_date.date()}\",\n",
    "    xaxis_title=\"Valid Time\",\n",
    "    yaxis_title=\"Power Output (MW)\",\n",
    "    hovermode=\"x unified\",\n",
    "    legend_title=\"Models\"\n",
    ")\n",
    "fig2.update_layout(\n",
    "    title=f\"Quantile Predictions (GradientBoosting and XGBoost) on {sample_date.date()}\",\n",
    "    xaxis_title=\"Valid Time\",\n",
    "    yaxis_title=\"Power Output (MW)\",\n",
    "    hovermode=\"x unified\",\n",
    "    legend_title=\"Models\"\n",
    ")\n",
    "\n",
    "\n",
    "# Show the interactive plot\n",
    "fig1.show()\n",
    "fig2.show()\n"
   ]
  },
  {
   "cell_type": "code",
   "execution_count": 97,
   "metadata": {},
   "outputs": [],
   "source": [
    "# save df_latest to csv\n",
    "df_latest.to_csv(os.path.join(os.getcwd(), '..', 'data', 'wind_training.csv'), index=False)"
   ]
  }
 ],
 "metadata": {
  "kernelspec": {
   "display_name": "tf_env",
   "language": "python",
   "name": "python3"
  },
  "language_info": {
   "codemirror_mode": {
    "name": "ipython",
    "version": 3
   },
   "file_extension": ".py",
   "mimetype": "text/x-python",
   "name": "python",
   "nbconvert_exporter": "python",
   "pygments_lexer": "ipython3",
   "version": "3.9.18"
  }
 },
 "nbformat": 4,
 "nbformat_minor": 2
}
