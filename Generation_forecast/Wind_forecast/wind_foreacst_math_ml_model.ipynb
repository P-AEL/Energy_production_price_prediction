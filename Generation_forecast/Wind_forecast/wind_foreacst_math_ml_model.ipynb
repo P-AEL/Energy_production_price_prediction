{
 "cells": [
  {
   "cell_type": "code",
   "execution_count": 1,
   "metadata": {},
   "outputs": [],
   "source": [
    "import pandas as pd\n",
    "import numpy as np\n",
    "import os\n",
    "import sys\n",
    "from scipy.interpolate import CubicSpline\n",
    "import warnings\n",
    "\n",
    "pd.options.mode.chained_assignment = None  # default='warn'\n",
    "warnings.filterwarnings(\"ignore\", category=DeprecationWarning) "
   ]
  },
  {
   "cell_type": "code",
   "execution_count": 34,
   "metadata": {},
   "outputs": [],
   "source": [
    "# Read the CSV file\n",
    "df_wind = pd.read_csv(os.path.join(os.getcwd(), '..', 'data', 'wind.csv'), index_col=0)\n",
    "\n",
    "df_wind = df_wind.drop(columns=['SS_Price', 'boa_MWh', 'DA_Price', 'Wind_MWh_credit', 'Solar_MWh_credit', 'Solar_MW', 'Solar_capacity_mwp', 'Solar_installedcapacity_mwp', 'dtm'])\n",
    "df_wind['reference_time'] = pd.to_datetime(df_wind['reference_time'])\n",
    "df_wind['valid_time'] = pd.to_datetime(df_wind['valid_time'])\n",
    "df_latest = df_wind.groupby('valid_time').tail(1)"
   ]
  },
  {
   "cell_type": "code",
   "execution_count": 35,
   "metadata": {},
   "outputs": [],
   "source": [
    "df_latest['WindSpeed_avg'] = (df_latest['WindSpeed_dwd'] + df_latest['WindSpeed_ncep']) / 2\n",
    "df_latest['WindSpeed:100_avg'] = (df_latest['WindSpeed:100_dwd'] + df_latest['WindSpeed:100_ncep']) / 2\n",
    "df_latest['WindSpeed_full_avg'] = (df_latest['WindSpeed_avg'] + df_latest['WindSpeed:100_avg']) / 2\n",
    "df_latest['Temperature_avg'] = (df_latest['Temperature_dwd'] + df_latest['Temperature_ncep']) / 2\n",
    "df_latest['RelativeHumidity_avg'] = (df_latest['RelativeHumidity_dwd'] + df_latest['RelativeHumidity_ncep']) / 2\n",
    "\n",
    "df_latest = df_latest.drop(columns=['WindSpeed_dwd', 'WindSpeed_ncep', 'Temperature_dwd', 'Temperature_ncep', 'RelativeHumidity_dwd', 'RelativeHumidity_ncep', 'WindSpeed:100_dwd', 'WindSpeed:100_ncep'])"
   ]
  },
  {
   "cell_type": "markdown",
   "metadata": {},
   "source": [
    "# i. Calculate Power Forecast based on Physics"
   ]
  },
  {
   "cell_type": "markdown",
   "metadata": {},
   "source": [
    "## 1. Calculate Air Density"
   ]
  },
  {
   "cell_type": "code",
   "execution_count": 36,
   "metadata": {},
   "outputs": [],
   "source": [
    "# Constants\n",
    "R_d = 287.05  # Specific gas constant for dry air (J/(kg·K))\n",
    "R_v = 461.5   # Specific gas constant for water vapor (J/(kg·K))\n",
    "p = 101325    # Standard atmospheric pressure in Pa\n",
    "\n",
    "# Assuming df_latest is your original DataFrame and contains 'Temperature_dwd', 'RelativeHumidity_dwd', 'WindSpeed_dwd'\n",
    "# Convert temperature from Celsius to Kelvin\n",
    "df_latest['Temperature_K'] = df_latest['Temperature_avg'] + 273.15\n",
    "\n",
    "# Calculate saturation vapor pressure (using temperature in Celsius), Tetens formula\n",
    "e_s = 0.61078 * np.exp((17.27 * df_latest['Temperature_avg']) / (df_latest['Temperature_avg'] + 237.3))\n",
    "\n",
    "# in pa\n",
    "e_s = 1000 * e_s\n",
    "\n",
    "# Calculate actual vapor pressure\n",
    "e = df_latest['RelativeHumidity_avg'] / 100 * e_s\n",
    "\n",
    "# Calculate air density (ρ) in kg/m³\n",
    "df_latest['AirDensity'] = (p - e) / (R_d * df_latest['Temperature_K']) + (e / (R_v * df_latest['Temperature_K']))"
   ]
  },
  {
   "cell_type": "markdown",
   "metadata": {},
   "source": [
    "## 2. Calculate Power based on Density and Wind Speed"
   ]
  },
  {
   "cell_type": "code",
   "execution_count": 74,
   "metadata": {},
   "outputs": [],
   "source": [
    "# Turbine stats\n",
    "rotor_diameter = 154  # in meters\n",
    "approximated_total_efficiency = 0.31  # 31% efficiency\n",
    "minimum_wind_speed = 3  # in m/s\n",
    "maximum_wind_speed_for_power_curve = 12.5  # in m/s\n",
    "maximum_wind_speed_for_operation = 25  # in m/s\n",
    "rotor_area = np.pi * (rotor_diameter / 2) ** 2  # in m²\n",
    "# turbine requires 3m/s to start rotating\n",
    "const_internal_friction_coefficient = 0.5 * 1.240 * np.pi * 77**2 * 3**3 * approximated_total_efficiency * 174 / 1000000\n",
    "maximum_power_per_turbine = 7 # in MW\n",
    "\n",
    "# Calculating the Generated power\n",
    "df_latest['WindPower'] = 0.5 * df_latest['AirDensity'] * rotor_area * df_latest['WindSpeed_avg'] ** 3 * 174 / 1000000\n",
    "df_latest['UsableWindPower'] = np.minimum(df_latest['WindPower'], maximum_power_per_turbine * 174 / approximated_total_efficiency)\n",
    "# depending on the wind speed, the power output is limited to the maximum power output of the turbine or 0\n",
    "df_latest['PowerOutput'] = np.where((df_latest['WindSpeed_avg'] >= minimum_wind_speed) & (df_latest['WindSpeed_avg'] <= maximum_wind_speed_for_operation), df_latest['UsableWindPower'] * approximated_total_efficiency - const_internal_friction_coefficient, 0)\n",
    "\n",
    "# Same for 100m\n",
    "df_latest['WindPower:100'] = 0.5 * df_latest['AirDensity'] * rotor_area * df_latest['WindSpeed:100_avg'] ** 3 * 174 / 1000000\n",
    "df_latest['UsableWindPower:100'] = np.minimum(df_latest['WindPower:100'], maximum_power_per_turbine * 174 / approximated_total_efficiency)\n",
    "df_latest['PowerOutput:100'] = np.where((df_latest['WindSpeed:100_avg'] >= minimum_wind_speed) & (df_latest['WindSpeed:100_avg'] <= maximum_wind_speed_for_operation), df_latest['UsableWindPower:100'] * approximated_total_efficiency - const_internal_friction_coefficient, 0)\n",
    "\n",
    "# Same for full\n",
    "df_latest['WindPower_full'] = 0.5 * df_latest['AirDensity'] * rotor_area * df_latest['WindSpeed_full_avg'] ** 3 * 174 / 1000000\n",
    "# df_latest['UsableWindPower_full'] = np.minimum(df_latest['WindPower_full'], 0.5 * df_latest['AirDensity'] * rotor_area * maximum_wind_speed_for_power_curve ** 3 * 174 / 1000000) - const_internal_friction_coefficient\n",
    "# df_latest['PowerOutput_full'] = np.where((df_latest['WindSpeed_full_avg'] >= minimum_wind_speed) & (df_latest['WindSpeed_full_avg'] <= maximum_wind_speed_for_operation), df_latest['UsableWindPower_full'] * approximated_total_efficiency, 0)\n",
    "df_latest['UsableWindPower_full'] = np.minimum(df_latest['WindPower_full'], maximum_power_per_turbine * 174 / approximated_total_efficiency)\n",
    "df_latest['PowerOutput_full'] = np.where((df_latest['WindSpeed_full_avg'] >= minimum_wind_speed) & (df_latest['WindSpeed_full_avg'] <= maximum_wind_speed_for_operation), df_latest['UsableWindPower_full'] * approximated_total_efficiency - const_internal_friction_coefficient, 0)\n"
   ]
  },
  {
   "cell_type": "code",
   "execution_count": 76,
   "metadata": {},
   "outputs": [
    {
     "name": "stdout",
     "output_type": "stream",
     "text": [
      "1201.1810949493763\n",
      "16.818905050623663\n",
      "1192.744\n"
     ]
    }
   ],
   "source": [
    "print(max(df_latest['PowerOutput_full']))\n",
    "print(const_internal_friction_coefficient)\n",
    "print(max(df_latest['Wind_MW']))"
   ]
  },
  {
   "cell_type": "code",
   "execution_count": 75,
   "metadata": {},
   "outputs": [
    {
     "name": "stdout",
     "output_type": "stream",
     "text": [
      "Mean Absolute error: 213.76366667539088\n",
      "Mean Absolute error:100: 120.39145629959857\n",
      "Mean Absolute error:full: 151.13509440535313\n"
     ]
    },
    {
     "data": {
      "text/html": [
       "<div>\n",
       "<style scoped>\n",
       "    .dataframe tbody tr th:only-of-type {\n",
       "        vertical-align: middle;\n",
       "    }\n",
       "\n",
       "    .dataframe tbody tr th {\n",
       "        vertical-align: top;\n",
       "    }\n",
       "\n",
       "    .dataframe thead th {\n",
       "        text-align: right;\n",
       "    }\n",
       "</style>\n",
       "<table border=\"1\" class=\"dataframe\">\n",
       "  <thead>\n",
       "    <tr style=\"text-align: right;\">\n",
       "      <th></th>\n",
       "      <th>quantile</th>\n",
       "      <th>quantile_range</th>\n",
       "      <th>mean_absolute_error</th>\n",
       "      <th>mean_error</th>\n",
       "      <th>mean_absolute_error:100</th>\n",
       "      <th>mean_error:100</th>\n",
       "      <th>mean_absolute_error:full</th>\n",
       "      <th>mean_error:full</th>\n",
       "    </tr>\n",
       "  </thead>\n",
       "  <tbody>\n",
       "    <tr>\n",
       "      <th>0</th>\n",
       "      <td>0.1</td>\n",
       "      <td>0.0 - 19.2</td>\n",
       "      <td>27.988181</td>\n",
       "      <td>-23.508646</td>\n",
       "      <td>39.726322</td>\n",
       "      <td>-37.045866</td>\n",
       "      <td>32.481284</td>\n",
       "      <td>-29.020234</td>\n",
       "    </tr>\n",
       "    <tr>\n",
       "      <th>1</th>\n",
       "      <td>0.2</td>\n",
       "      <td>19.2 - 93.8</td>\n",
       "      <td>37.495335</td>\n",
       "      <td>24.749611</td>\n",
       "      <td>39.341684</td>\n",
       "      <td>-6.964937</td>\n",
       "      <td>34.519601</td>\n",
       "      <td>11.380447</td>\n",
       "    </tr>\n",
       "    <tr>\n",
       "      <th>2</th>\n",
       "      <td>0.3</td>\n",
       "      <td>93.8 - 204.2</td>\n",
       "      <td>92.470917</td>\n",
       "      <td>71.936749</td>\n",
       "      <td>72.813571</td>\n",
       "      <td>4.022195</td>\n",
       "      <td>75.904112</td>\n",
       "      <td>42.500355</td>\n",
       "    </tr>\n",
       "    <tr>\n",
       "      <th>3</th>\n",
       "      <td>0.4</td>\n",
       "      <td>204.2 - 346.5</td>\n",
       "      <td>158.807524</td>\n",
       "      <td>135.638781</td>\n",
       "      <td>109.830357</td>\n",
       "      <td>8.644994</td>\n",
       "      <td>122.963899</td>\n",
       "      <td>80.701916</td>\n",
       "    </tr>\n",
       "    <tr>\n",
       "      <th>4</th>\n",
       "      <td>0.5</td>\n",
       "      <td>346.5 - 501.0</td>\n",
       "      <td>261.132218</td>\n",
       "      <td>139.746091</td>\n",
       "      <td>213.193629</td>\n",
       "      <td>-60.238557</td>\n",
       "      <td>226.478370</td>\n",
       "      <td>46.544058</td>\n",
       "    </tr>\n",
       "    <tr>\n",
       "      <th>5</th>\n",
       "      <td>0.6</td>\n",
       "      <td>501.0 - 711.0</td>\n",
       "      <td>330.376442</td>\n",
       "      <td>265.189171</td>\n",
       "      <td>202.307231</td>\n",
       "      <td>14.583515</td>\n",
       "      <td>254.675450</td>\n",
       "      <td>150.501232</td>\n",
       "    </tr>\n",
       "    <tr>\n",
       "      <th>6</th>\n",
       "      <td>0.7</td>\n",
       "      <td>711.0 - 925.1</td>\n",
       "      <td>387.227571</td>\n",
       "      <td>301.143265</td>\n",
       "      <td>241.989183</td>\n",
       "      <td>-19.862312</td>\n",
       "      <td>296.172303</td>\n",
       "      <td>137.051712</td>\n",
       "    </tr>\n",
       "    <tr>\n",
       "      <th>7</th>\n",
       "      <td>0.8</td>\n",
       "      <td>925.1 - 1093.7</td>\n",
       "      <td>385.285736</td>\n",
       "      <td>330.574757</td>\n",
       "      <td>161.686756</td>\n",
       "      <td>-0.327335</td>\n",
       "      <td>252.896683</td>\n",
       "      <td>161.040318</td>\n",
       "    </tr>\n",
       "    <tr>\n",
       "      <th>8</th>\n",
       "      <td>0.9</td>\n",
       "      <td>1093.7 - 1151.4</td>\n",
       "      <td>288.726154</td>\n",
       "      <td>236.482082</td>\n",
       "      <td>88.187369</td>\n",
       "      <td>-38.212327</td>\n",
       "      <td>149.647767</td>\n",
       "      <td>61.855259</td>\n",
       "    </tr>\n",
       "    <tr>\n",
       "      <th>9</th>\n",
       "      <td>1.0</td>\n",
       "      <td>1151.4 - 1192.7</td>\n",
       "      <td>168.176050</td>\n",
       "      <td>136.186438</td>\n",
       "      <td>34.861427</td>\n",
       "      <td>-22.527649</td>\n",
       "      <td>65.652959</td>\n",
       "      <td>18.493682</td>\n",
       "    </tr>\n",
       "  </tbody>\n",
       "</table>\n",
       "</div>"
      ],
      "text/plain": [
       "   quantile   quantile_range  mean_absolute_error  mean_error  \\\n",
       "0       0.1       0.0 - 19.2            27.988181  -23.508646   \n",
       "1       0.2      19.2 - 93.8            37.495335   24.749611   \n",
       "2       0.3     93.8 - 204.2            92.470917   71.936749   \n",
       "3       0.4    204.2 - 346.5           158.807524  135.638781   \n",
       "4       0.5    346.5 - 501.0           261.132218  139.746091   \n",
       "5       0.6    501.0 - 711.0           330.376442  265.189171   \n",
       "6       0.7    711.0 - 925.1           387.227571  301.143265   \n",
       "7       0.8   925.1 - 1093.7           385.285736  330.574757   \n",
       "8       0.9  1093.7 - 1151.4           288.726154  236.482082   \n",
       "9       1.0  1151.4 - 1192.7           168.176050  136.186438   \n",
       "\n",
       "   mean_absolute_error:100  mean_error:100  mean_absolute_error:full  \\\n",
       "0                39.726322      -37.045866                 32.481284   \n",
       "1                39.341684       -6.964937                 34.519601   \n",
       "2                72.813571        4.022195                 75.904112   \n",
       "3               109.830357        8.644994                122.963899   \n",
       "4               213.193629      -60.238557                226.478370   \n",
       "5               202.307231       14.583515                254.675450   \n",
       "6               241.989183      -19.862312                296.172303   \n",
       "7               161.686756       -0.327335                252.896683   \n",
       "8                88.187369      -38.212327                149.647767   \n",
       "9                34.861427      -22.527649                 65.652959   \n",
       "\n",
       "   mean_error:full  \n",
       "0       -29.020234  \n",
       "1        11.380447  \n",
       "2        42.500355  \n",
       "3        80.701916  \n",
       "4        46.544058  \n",
       "5       150.501232  \n",
       "6       137.051712  \n",
       "7       161.040318  \n",
       "8        61.855259  \n",
       "9        18.493682  "
      ]
     },
     "execution_count": 75,
     "metadata": {},
     "output_type": "execute_result"
    }
   ],
   "source": [
    "# Forecast stats\n",
    "# Absolute error\n",
    "print('Mean Absolute error:', np.mean(np.abs(df_latest['Wind_MW'] - df_latest['PowerOutput'])))\n",
    "print('Mean Absolute error:100:', np.mean(np.abs(df_latest['Wind_MW'] - df_latest['PowerOutput:100'])))\n",
    "print('Mean Absolute error:full:', np.mean(np.abs(df_latest['Wind_MW'] - df_latest['PowerOutput_full'])))\n",
    "# Initialize a list to collect the stats\n",
    "stats_df = pd.DataFrame({'quantile': [], 'quantile_range': [], 'mean_absolute_error': [], 'mean_error': [], 'mean_absolute_error:100': [], 'mean_error:100': [], 'mean_absolute_error:full': [], 'mean_error:full': []})\n",
    "\n",
    "# Mean absolute error in 10% quantiles\n",
    "for q in np.arange(0.1, 1.1, 0.1):\n",
    "    # Filter the DataFrame for each quantile range\n",
    "    quantile_df = df_latest[(df_latest['Wind_MW'] < df_latest['Wind_MW'].quantile(q)) & (df_latest['Wind_MW'] >= df_latest['Wind_MW'].quantile(q - 0.1))]\n",
    "    \n",
    "    # Calculate the statistics\n",
    "    quantile_stats = {\n",
    "        'quantile': q,\n",
    "        'quantile_range': f'{df_latest[\"Wind_MW\"].quantile(q - 0.1):.1f} - {df_latest[\"Wind_MW\"].quantile(q):.1f}',\n",
    "        'mean_absolute_error': np.mean(np.abs(quantile_df['Wind_MW'] - quantile_df['PowerOutput'])),\n",
    "        'mean_error': np.mean(quantile_df['Wind_MW'] - quantile_df['PowerOutput']),\n",
    "        'mean_absolute_error:100': np.mean(np.abs(quantile_df['Wind_MW'] - quantile_df['PowerOutput:100'])),\n",
    "        'mean_error:100': np.mean(quantile_df['Wind_MW'] - quantile_df['PowerOutput:100']),\n",
    "        'mean_absolute_error:full': np.mean(np.abs(quantile_df['Wind_MW'] - quantile_df['PowerOutput_full'])),\n",
    "        'mean_error:full': np.mean(quantile_df['Wind_MW'] - quantile_df['PowerOutput_full'])\n",
    "    }\n",
    "    \n",
    "    # Append to the list\n",
    "    stats_df.loc[len(stats_df)] = quantile_stats\n",
    "\n",
    "# Display the DataFrame\n",
    "stats_df"
   ]
  },
  {
   "cell_type": "code",
   "execution_count": 59,
   "metadata": {},
   "outputs": [
    {
     "name": "stdout",
     "output_type": "stream",
     "text": [
      "-1.9159133030361044\n"
     ]
    }
   ],
   "source": [
    "# average difference between WindSpeed_avg and WindSpeed:100_avg\n",
    "print(np.mean(df_latest['WindSpeed_avg'] - df_latest['WindSpeed:100_avg']))"
   ]
  },
  {
   "cell_type": "markdown",
   "metadata": {},
   "source": [
    "## 3. Find optimal $\\eta$ to update the approximation of the turbine efficiency"
   ]
  },
  {
   "cell_type": "code",
   "execution_count": 98,
   "metadata": {},
   "outputs": [],
   "source": [
    "errors = {}\n",
    "for efficiency in np.arange(0.28, 0.35, 0.001):\n",
    "    const_internal_friction_coefficient = 0.5 * 1.240 * np.pi * 77**2 * 3**3 * efficiency * 174 / 1000000\n",
    "    df_latest['WindSpeed_balanced'] = df_latest['WindSpeed:100_avg']\n",
    "    df_latest['WindPower_full'] = 0.5 * df_latest['AirDensity'] * rotor_area * df_latest['WindSpeed_balanced'] ** 3 * 174 / 1000000\n",
    "    df_latest['UsableWindPower_full'] = np.minimum(df_latest['WindPower_full'], maximum_power_per_turbine * 174 / efficiency)\n",
    "    df_latest['PowerOutput_full'] = np.where((df_latest['WindSpeed_balanced'] >= minimum_wind_speed) & (df_latest['WindSpeed_balanced'] <= maximum_wind_speed_for_operation), df_latest['UsableWindPower_full'] * efficiency - const_internal_friction_coefficient, 0)\n",
    "    #df_latest['PowerOutput_full'] = np.minimum(df_latest['PowerOutput_full'], 1170)\n",
    "    mean_abs_error = np.mean(np.abs(df_latest['Wind_MW'] - df_latest['PowerOutput_full']))\n",
    "    mean_error = np.mean(df_latest['Wind_MW'] - df_latest['PowerOutput_full'])\n",
    "    errors[efficiency] = [mean_abs_error, mean_error]"
   ]
  },
  {
   "cell_type": "code",
   "execution_count": 99,
   "metadata": {},
   "outputs": [
    {
     "name": "stdout",
     "output_type": "stream",
     "text": [
      "Minimum mean absolute error: 118.94 with efficiency=0.3340000000000001\n",
      "Mean error: -34.58\n"
     ]
    }
   ],
   "source": [
    "# Find the minimum error\n",
    "min_error = min(errors, key=lambda x: errors[x])\n",
    "print(f'Minimum mean absolute error: {errors[min_error][0]:.2f} with efficiency={min_error}')\n",
    "print(f'Mean error: {errors[min_error][1]:.2f}')"
   ]
  },
  {
   "cell_type": "markdown",
   "metadata": {},
   "source": [
    "## 3. Make Forecast more accurate using smoothing of windspeed between datapoints"
   ]
  },
  {
   "cell_type": "code",
   "execution_count": 7,
   "metadata": {},
   "outputs": [
    {
     "data": {
      "text/plain": [
       "valid_time                datetime64[ns, UTC]\n",
       "reference_time            datetime64[ns, UTC]\n",
       "WindDirection_dwd                     float64\n",
       "WindDirection:100_dwd                 float64\n",
       "WindSpeed:100_dwd                     float64\n",
       "WindDirection_ncep                    float64\n",
       "WindDirection:100_ncep                float64\n",
       "WindSpeed:100_ncep                    float64\n",
       "MIP                                   float64\n",
       "Wind_MW                               float64\n",
       "WindSpeed_avg                         float64\n",
       "Temperature_avg                       float64\n",
       "RelativeHumidity_avg                  float64\n",
       "Temperature_K                         float64\n",
       "AirDensity                            float64\n",
       "WindPower                             float64\n",
       "UsableWindPower                       float64\n",
       "PowerOutput                           float64\n",
       "dtype: object"
      ]
     },
     "execution_count": 7,
     "metadata": {},
     "output_type": "execute_result"
    }
   ],
   "source": [
    "df_latest.dtypes"
   ]
  },
  {
   "cell_type": "code",
   "execution_count": 11,
   "metadata": {},
   "outputs": [],
   "source": [
    "# Iterate over each reference_time\n",
    "for reference_time, group in df_latest.groupby('reference_time'):\n",
    "\n",
    "    # Get the valid_times and corresponding wind speeds for this reference_time\n",
    "    valid_times = group['valid_time'].values\n",
    "    wind_speeds = group['WindSpeed_avg'].values\n",
    "    actual_generation = group['Wind_MW'].values\n",
    "    \n",
    "    # Convert valid_times to seconds for interpolation\n",
    "    valid_times_in_seconds = (valid_times - valid_times[0]).astype('timedelta64[m]').astype(int) * 60  # seconds\n",
    "    \n",
    "    if len(valid_times) < 2:\n",
    "        wind_power = 0.5 * group['AirDensity'].iloc[0] * rotor_area * avg_cubed_wind * 174 / 1000000\n",
    "        usable_wind_power = min(wind_power, 0.5 * group['AirDensity'].iloc[0] * rotor_area * maximum_wind_speed_for_power_curve ** 3 * 174 / 1000000) - const_internal_friction_coefficient\n",
    "        power_output = usable_wind_power * approximated_total_efficiency if (group['WindSpeed_avg'].iloc[0] >= minimum_wind_speed) and (group['WindSpeed_avg'].iloc[0] <= maximum_wind_speed_for_operation) else 0\n",
    "\n",
    "        # Update PowerOutput\n",
    "        df_latest.loc[(df_latest['reference_time'] == reference_time) & (df_latest['valid_time'] == valid_times[0]), 'PowerOutput'] = power_output\n",
    "        continue\n",
    "    # Perform cubic spline interpolation for 1-minute intervals\n",
    "    wind_speed_spline = CubicSpline(valid_times_in_seconds, wind_speeds)\n",
    "    \n",
    "    # Generate 1-minute intervals for the valid_time range\n",
    "    for i in range(len(valid_times) - 1):\n",
    "        t_start = valid_times_in_seconds[i]\n",
    "        t_end = valid_times_in_seconds[i + 1]\n",
    "        \n",
    "        # Generate time points at 1-minute intervals within this 30-minute window\n",
    "        times_1min = np.arange(t_start, t_end, 60)\n",
    "        \n",
    "        # Interpolate wind speeds at 1-minute intervals\n",
    "        interpolated_wind_speeds = wind_speed_spline(times_1min)\n",
    "        \n",
    "        # Calculate the average wind power using the cubed wind speeds\n",
    "        avg_cubed_wind = np.mean(interpolated_wind_speeds ** 3)\n",
    "        \n",
    "        # Calculate wind power and apply limits for each interval\n",
    "        wind_power = 0.5 * group['AirDensity'].iloc[i] * rotor_area * avg_cubed_wind * 174 / 1000000\n",
    "        usable_wind_power = min(wind_power, 0.5 * group['AirDensity'].iloc[i] * rotor_area * maximum_wind_speed_for_power_curve ** 3 * 174 / 1000000) - const_internal_friction_coefficient\n",
    "        \n",
    "        # Calculate final power output based on cut-in, cut-out wind speeds and efficiency\n",
    "        power_output = usable_wind_power * approximated_total_efficiency if (group['WindSpeed_avg'].iloc[i] >= minimum_wind_speed) and (group['WindSpeed_avg'].iloc[i] <= maximum_wind_speed_for_operation) else 0\n",
    "        \n",
    "        # Update PowerOutput\n",
    "        valid_time = pd.to_datetime(valid_times[i]).tz_localize('UTC')\n",
    "        df_latest.loc[(df_latest['reference_time'] == reference_time) & (df_latest['valid_time'] == valid_time), 'PowerOutput'] = power_output"
   ]
  },
  {
   "cell_type": "code",
   "execution_count": 12,
   "metadata": {},
   "outputs": [
    {
     "name": "stdout",
     "output_type": "stream",
     "text": [
      "Mean Absolute error: 152.50188071830652\n"
     ]
    },
    {
     "data": {
      "text/html": [
       "<div>\n",
       "<style scoped>\n",
       "    .dataframe tbody tr th:only-of-type {\n",
       "        vertical-align: middle;\n",
       "    }\n",
       "\n",
       "    .dataframe tbody tr th {\n",
       "        vertical-align: top;\n",
       "    }\n",
       "\n",
       "    .dataframe thead th {\n",
       "        text-align: right;\n",
       "    }\n",
       "</style>\n",
       "<table border=\"1\" class=\"dataframe\">\n",
       "  <thead>\n",
       "    <tr style=\"text-align: right;\">\n",
       "      <th></th>\n",
       "      <th>quantile</th>\n",
       "      <th>mean_absolute_error</th>\n",
       "      <th>mean_error</th>\n",
       "      <th>mean_absolute_error_new</th>\n",
       "      <th>mean_error_new</th>\n",
       "    </tr>\n",
       "  </thead>\n",
       "  <tbody>\n",
       "    <tr>\n",
       "      <th>0</th>\n",
       "      <td>0.1</td>\n",
       "      <td>16.404858</td>\n",
       "      <td>15.116471</td>\n",
       "      <td>16.414064</td>\n",
       "      <td>15.214119</td>\n",
       "    </tr>\n",
       "    <tr>\n",
       "      <th>1</th>\n",
       "      <td>0.2</td>\n",
       "      <td>75.416475</td>\n",
       "      <td>62.435527</td>\n",
       "      <td>75.975492</td>\n",
       "      <td>63.115843</td>\n",
       "    </tr>\n",
       "    <tr>\n",
       "      <th>2</th>\n",
       "      <td>0.3</td>\n",
       "      <td>151.988686</td>\n",
       "      <td>132.412357</td>\n",
       "      <td>150.202767</td>\n",
       "      <td>130.585283</td>\n",
       "    </tr>\n",
       "    <tr>\n",
       "      <th>3</th>\n",
       "      <td>0.4</td>\n",
       "      <td>210.995809</td>\n",
       "      <td>180.039842</td>\n",
       "      <td>211.171806</td>\n",
       "      <td>179.947308</td>\n",
       "    </tr>\n",
       "    <tr>\n",
       "      <th>4</th>\n",
       "      <td>0.5</td>\n",
       "      <td>236.365670</td>\n",
       "      <td>191.634755</td>\n",
       "      <td>233.561167</td>\n",
       "      <td>189.275033</td>\n",
       "    </tr>\n",
       "    <tr>\n",
       "      <th>5</th>\n",
       "      <td>0.6</td>\n",
       "      <td>230.366862</td>\n",
       "      <td>167.321916</td>\n",
       "      <td>229.660376</td>\n",
       "      <td>168.246432</td>\n",
       "    </tr>\n",
       "    <tr>\n",
       "      <th>6</th>\n",
       "      <td>0.7</td>\n",
       "      <td>193.894254</td>\n",
       "      <td>89.085521</td>\n",
       "      <td>194.044068</td>\n",
       "      <td>88.392991</td>\n",
       "    </tr>\n",
       "    <tr>\n",
       "      <th>7</th>\n",
       "      <td>0.8</td>\n",
       "      <td>149.725902</td>\n",
       "      <td>-26.284631</td>\n",
       "      <td>149.780567</td>\n",
       "      <td>-26.388598</td>\n",
       "    </tr>\n",
       "    <tr>\n",
       "      <th>8</th>\n",
       "      <td>0.9</td>\n",
       "      <td>127.409351</td>\n",
       "      <td>-105.401871</td>\n",
       "      <td>129.913928</td>\n",
       "      <td>-105.539917</td>\n",
       "    </tr>\n",
       "  </tbody>\n",
       "</table>\n",
       "</div>"
      ],
      "text/plain": [
       "   quantile  mean_absolute_error  mean_error  mean_absolute_error_new  \\\n",
       "0       0.1            16.404858   15.116471                16.414064   \n",
       "1       0.2            75.416475   62.435527                75.975492   \n",
       "2       0.3           151.988686  132.412357               150.202767   \n",
       "3       0.4           210.995809  180.039842               211.171806   \n",
       "4       0.5           236.365670  191.634755               233.561167   \n",
       "5       0.6           230.366862  167.321916               229.660376   \n",
       "6       0.7           193.894254   89.085521               194.044068   \n",
       "7       0.8           149.725902  -26.284631               149.780567   \n",
       "8       0.9           127.409351 -105.401871               129.913928   \n",
       "\n",
       "   mean_error_new  \n",
       "0       15.214119  \n",
       "1       63.115843  \n",
       "2      130.585283  \n",
       "3      179.947308  \n",
       "4      189.275033  \n",
       "5      168.246432  \n",
       "6       88.392991  \n",
       "7      -26.388598  \n",
       "8     -105.539917  "
      ]
     },
     "execution_count": 12,
     "metadata": {},
     "output_type": "execute_result"
    }
   ],
   "source": [
    "# Absolute error\n",
    "print('Mean Absolute error:', np.mean(np.abs(df_latest['Wind_MW'] - df_latest['PowerOutput'])))\n",
    "# Mean absolute error in 10% quantiles\n",
    "stats_df['mean_absolute_error_new'] = 0.0\n",
    "stats_df['mean_error_new'] = 0.0\n",
    "for q in np.arange(0.1, 1, 0.1):\n",
    "    quantile_df = df_latest[(df_latest['PowerOutput'] < df_latest['Wind_MW'].quantile(q)) & (df_latest['PowerOutput'] >= df_latest['Wind_MW'].quantile(q - 0.1))]\n",
    "    quantile_row = {\n",
    "        'quantile': q,\n",
    "        'mean_absolute_error_new': np.mean(np.abs(quantile_df['Wind_MW'] - quantile_df['PowerOutput'])),\n",
    "        'mean_error_new': np.mean(quantile_df['Wind_MW'] - quantile_df['PowerOutput'])\n",
    "    }\n",
    "    stats_df.loc[stats_df['quantile'] == q, 'mean_absolute_error_new'] = quantile_row['mean_absolute_error_new']\n",
    "    stats_df.loc[stats_df['quantile'] == q, 'mean_error_new'] = quantile_row['mean_error_new']\n",
    "\n",
    "stats_df\n"
   ]
  },
  {
   "cell_type": "markdown",
   "metadata": {},
   "source": [
    "## => Neglegible improvement, but because its already done, we'll keep it"
   ]
  },
  {
   "cell_type": "markdown",
   "metadata": {},
   "source": [
    "# ii. Modeling the residium "
   ]
  },
  {
   "cell_type": "code",
   "execution_count": 13,
   "metadata": {},
   "outputs": [],
   "source": [
    "df_latest['residual'] = df_latest['Wind_MW'] - df_latest['PowerOutput']"
   ]
  },
  {
   "cell_type": "markdown",
   "metadata": {},
   "source": [
    "## 1. XGBoost"
   ]
  },
  {
   "cell_type": "code",
   "execution_count": null,
   "metadata": {},
   "outputs": [],
   "source": [
    "import xgboost as xgb\n",
    "import pandas as pd\n",
    "import numpy as np\n",
    "from sklearn.model_selection import train_test_split, GridSearchCV\n",
    "from sklearn.metrics import mean_absolute_error, mean_squared_error\n",
    "\n",
    "# Calculate the residuals (difference between actual and forecast)\n",
    "df_latest['residual'] = df_latest['Wind_MW'] - df_latest['PowerOutput']\n",
    "\n",
    "# Define the features (X) and the target (y)\n",
    "X = df_latest[['WindSpeed:100_dwd', 'WindDirection:100_dwd', 'Temperature_avg', 'RelativeHumidity_avg', \n",
    "               'WindSpeed:100_ncep', 'WindDirection:100_ncep', 'AirDensity']]  # Add any other relevant features\n",
    "y = df_latest['residual']\n",
    "\n",
    "# Split the data into training and test sets\n",
    "X_train, X_test, y_train, y_test = train_test_split(X, y, test_size=0.2, random_state=42)\n"
   ]
  }
 ],
 "metadata": {
  "kernelspec": {
   "display_name": "tf_env",
   "language": "python",
   "name": "python3"
  },
  "language_info": {
   "codemirror_mode": {
    "name": "ipython",
    "version": 3
   },
   "file_extension": ".py",
   "mimetype": "text/x-python",
   "name": "python",
   "nbconvert_exporter": "python",
   "pygments_lexer": "ipython3",
   "version": "3.9.18"
  }
 },
 "nbformat": 4,
 "nbformat_minor": 2
}
