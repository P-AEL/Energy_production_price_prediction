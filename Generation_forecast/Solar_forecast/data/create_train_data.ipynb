{
 "cells": [
  {
   "cell_type": "code",
   "execution_count": 13,
   "metadata": {},
   "outputs": [],
   "source": [
    "import pandas as pd \n",
    "import numpy as np"
   ]
  },
  {
   "cell_type": "code",
   "execution_count": 14,
   "metadata": {},
   "outputs": [],
   "source": [
    "df = pd.read_csv(\"/Users/florian/Documents/github/DP2/Energy_production_price_prediction/HEFTcom24/data/solar1.csv\")"
   ]
  },
  {
   "cell_type": "code",
   "execution_count": 15,
   "metadata": {},
   "outputs": [],
   "source": [
    "df = df.drop(df.columns[0], axis= 1)\n",
    "df.sort_values(by= \"valid_time\")\n",
    "df = df.groupby(\"valid_time\").tail(1).reset_index(drop= True)\n",
    "df[\"valid_time\"] = pd.to_datetime(df[\"valid_time\"])"
   ]
  },
  {
   "cell_type": "code",
   "execution_count": 16,
   "metadata": {},
   "outputs": [],
   "source": [
    "mask = (df[\"reference_time\"] >= \"2022-11-24\") & (df[\"reference_time\"] <= \"2022-12-07\")\n",
    "\n",
    "dwd_cols = [\n",
    "    'CloudCover_Point0_dwd', 'CloudCover_Point1_dwd', 'CloudCover_Point2_dwd',\n",
    "    'CloudCover_Point3_dwd', 'CloudCover_Point4_dwd', 'CloudCover_Point5_dwd',\n",
    "    'CloudCover_Point6_dwd', 'CloudCover_Point7_dwd', 'CloudCover_Point8_dwd',\n",
    "    'CloudCover_Point9_dwd', 'CloudCover_Point10_dwd', 'CloudCover_Point11_dwd',\n",
    "    'CloudCover_Point12_dwd', 'CloudCover_Point13_dwd', 'CloudCover_Point14_dwd',\n",
    "    'CloudCover_Point15_dwd', 'CloudCover_Point16_dwd', 'CloudCover_Point17_dwd',\n",
    "    'CloudCover_Point18_dwd', 'CloudCover_Point19_dwd', 'SolarDownwardRadiation_Point0_dwd',\n",
    "    'SolarDownwardRadiation_Point1_dwd', 'SolarDownwardRadiation_Point2_dwd',\n",
    "    'SolarDownwardRadiation_Point3_dwd', 'SolarDownwardRadiation_Point4_dwd',\n",
    "    'SolarDownwardRadiation_Point5_dwd', 'SolarDownwardRadiation_Point6_dwd',\n",
    "    'SolarDownwardRadiation_Point7_dwd', 'SolarDownwardRadiation_Point8_dwd',\n",
    "    'SolarDownwardRadiation_Point9_dwd', 'SolarDownwardRadiation_Point10_dwd',\n",
    "    'SolarDownwardRadiation_Point11_dwd', 'SolarDownwardRadiation_Point12_dwd',\n",
    "    'SolarDownwardRadiation_Point13_dwd', 'SolarDownwardRadiation_Point14_dwd',\n",
    "    'SolarDownwardRadiation_Point15_dwd', 'SolarDownwardRadiation_Point16_dwd',\n",
    "    'SolarDownwardRadiation_Point17_dwd', 'SolarDownwardRadiation_Point18_dwd',\n",
    "    'SolarDownwardRadiation_Point19_dwd', 'Temperature_Point0_dwd',\n",
    "       'Temperature_Point1_dwd', 'Temperature_Point2_dwd',\n",
    "       'Temperature_Point3_dwd', 'Temperature_Point4_dwd',\n",
    "       'Temperature_Point5_dwd', 'Temperature_Point6_dwd',\n",
    "       'Temperature_Point7_dwd', 'Temperature_Point8_dwd',\n",
    "       'Temperature_Point9_dwd', 'Temperature_Point10_dwd',\n",
    "       'Temperature_Point11_dwd', 'Temperature_Point12_dwd',\n",
    "       'Temperature_Point13_dwd', 'Temperature_Point14_dwd',\n",
    "       'Temperature_Point15_dwd', 'Temperature_Point16_dwd',\n",
    "       'Temperature_Point17_dwd', 'Temperature_Point18_dwd',\n",
    "       'Temperature_Point19_dwd', 'Temperature_Point0_ncep',\n",
    "       'Temperature_Point1_ncep', 'Temperature_Point2_ncep',\n",
    "       'Temperature_Point3_ncep', 'Temperature_Point4_ncep',\n",
    "       'Temperature_Point5_ncep', 'Temperature_Point6_ncep',\n",
    "       'Temperature_Point7_ncep', 'Temperature_Point8_ncep',\n",
    "       'Temperature_Point9_ncep', 'Temperature_Point10_ncep',\n",
    "       'Temperature_Point11_ncep', 'Temperature_Point12_ncep',\n",
    "       'Temperature_Point13_ncep', 'Temperature_Point14_ncep',\n",
    "       'Temperature_Point15_ncep', 'Temperature_Point16_ncep',\n",
    "       'Temperature_Point17_ncep', 'Temperature_Point18_ncep',\n",
    "       'Temperature_Point19_ncep'\n",
    "]\n",
    "\n",
    "for dwd_col in dwd_cols:\n",
    "    ncep_col = dwd_col.replace(\"dwd\", \"ncep\")\n",
    "    if ncep_col in df.columns:\n",
    "        df.loc[mask, dwd_col] = df.loc[mask, ncep_col]"
   ]
  },
  {
   "cell_type": "markdown",
   "metadata": {},
   "source": [
    "## Features"
   ]
  },
  {
   "cell_type": "code",
   "execution_count": 17,
   "metadata": {},
   "outputs": [],
   "source": [
    "def pv_temperature_efficiency(irradiance, ambient_temp, NOCT=45, wind_speed=1, eta_0=0.18, beta=0.004):\n",
    "    \"\"\"\n",
    "    Calculate the PV cell temperature and efficiency based on solar irradiance and ambient temperature.\n",
    "    \"\"\"\n",
    "    \n",
    "    Tc = ambient_temp + (NOCT - 20) * (irradiance / 800)\n",
    "    \n",
    "    efficiency = eta_0 * (1 - beta * (Tc - 25))\n",
    "    \n",
    "    return Tc, efficiency"
   ]
  },
  {
   "cell_type": "code",
   "execution_count": 18,
   "metadata": {},
   "outputs": [],
   "source": [
    "temperature_columns = [\n",
    "    'Temperature_Point0_dwd',\n",
    "       'Temperature_Point1_dwd', 'Temperature_Point2_dwd',\n",
    "       'Temperature_Point3_dwd', 'Temperature_Point4_dwd',\n",
    "       'Temperature_Point5_dwd', 'Temperature_Point6_dwd',\n",
    "       'Temperature_Point7_dwd', 'Temperature_Point8_dwd',\n",
    "       'Temperature_Point9_dwd', 'Temperature_Point10_dwd',\n",
    "       'Temperature_Point11_dwd', 'Temperature_Point12_dwd',\n",
    "       'Temperature_Point13_dwd', 'Temperature_Point14_dwd',\n",
    "       'Temperature_Point15_dwd', 'Temperature_Point16_dwd',\n",
    "       'Temperature_Point17_dwd', 'Temperature_Point18_dwd',\n",
    "       'Temperature_Point19_dwd', 'Temperature_Point0_ncep',\n",
    "       'Temperature_Point1_ncep', 'Temperature_Point2_ncep',\n",
    "       'Temperature_Point3_ncep', 'Temperature_Point4_ncep',\n",
    "       'Temperature_Point5_ncep', 'Temperature_Point6_ncep',\n",
    "       'Temperature_Point7_ncep', 'Temperature_Point8_ncep',\n",
    "       'Temperature_Point9_ncep', 'Temperature_Point10_ncep',\n",
    "       'Temperature_Point11_ncep', 'Temperature_Point12_ncep',\n",
    "       'Temperature_Point13_ncep', 'Temperature_Point14_ncep',\n",
    "       'Temperature_Point15_ncep', 'Temperature_Point16_ncep',\n",
    "       'Temperature_Point17_ncep', 'Temperature_Point18_ncep',\n",
    "       'Temperature_Point19_ncep',\n",
    "]\n",
    "\n",
    "irradiance_columns = [\n",
    "    'SolarDownwardRadiation_Point0_dwd', 'SolarDownwardRadiation_Point1_dwd',\n",
    "    'SolarDownwardRadiation_Point2_dwd', 'SolarDownwardRadiation_Point3_dwd',\n",
    "    'SolarDownwardRadiation_Point4_dwd', 'SolarDownwardRadiation_Point5_dwd',\n",
    "    'SolarDownwardRadiation_Point6_dwd', 'SolarDownwardRadiation_Point7_dwd',\n",
    "    'SolarDownwardRadiation_Point8_dwd', 'SolarDownwardRadiation_Point9_dwd',\n",
    "    'SolarDownwardRadiation_Point10_dwd', 'SolarDownwardRadiation_Point11_dwd',\n",
    "    'SolarDownwardRadiation_Point12_dwd', 'SolarDownwardRadiation_Point13_dwd',\n",
    "    'SolarDownwardRadiation_Point14_dwd', 'SolarDownwardRadiation_Point15_dwd',\n",
    "    'SolarDownwardRadiation_Point16_dwd', 'SolarDownwardRadiation_Point17_dwd',\n",
    "    'SolarDownwardRadiation_Point18_dwd', 'SolarDownwardRadiation_Point19_dwd',\n",
    "    'SolarDownwardRadiation_Point0_ncep', 'SolarDownwardRadiation_Point1_ncep',\n",
    "    'SolarDownwardRadiation_Point2_ncep', 'SolarDownwardRadiation_Point3_ncep',\n",
    "    'SolarDownwardRadiation_Point4_ncep', 'SolarDownwardRadiation_Point5_ncep',\n",
    "    'SolarDownwardRadiation_Point6_ncep', 'SolarDownwardRadiation_Point7_ncep',\n",
    "    'SolarDownwardRadiation_Point8_ncep', 'SolarDownwardRadiation_Point9_ncep',\n",
    "    'SolarDownwardRadiation_Point10_ncep', 'SolarDownwardRadiation_Point11_ncep',\n",
    "    'SolarDownwardRadiation_Point12_ncep', 'SolarDownwardRadiation_Point13_ncep',\n",
    "    'SolarDownwardRadiation_Point14_ncep', 'SolarDownwardRadiation_Point15_ncep',\n",
    "    'SolarDownwardRadiation_Point16_ncep', 'SolarDownwardRadiation_Point17_ncep',\n",
    "    'SolarDownwardRadiation_Point18_ncep', 'SolarDownwardRadiation_Point19_ncep'\n",
    "]\n",
    "\n",
    "for i in range(20):\n",
    "    for source in ['dwd', 'ncep']:\n",
    "        temp_col = f'Temperature_Point{i}_{source}'\n",
    "        irradiance_col = f'SolarDownwardRadiation_Point{i}_{source}'\n",
    "        panel_temp_col = f'Panel_Temperature_Point{i}_{source}'\n",
    "        panel_eff_col = f'Panel_Efficiency_Point{i}_{source}'\n",
    "        \n",
    "        df[panel_temp_col], df[panel_eff_col] = zip(*df.apply(\n",
    "            lambda row: pv_temperature_efficiency(row[irradiance_col], row[temp_col]), axis=1))"
   ]
  },
  {
   "cell_type": "code",
   "execution_count": 19,
   "metadata": {},
   "outputs": [
    {
     "name": "stderr",
     "output_type": "stream",
     "text": [
      "/var/folders/fm/5lbdpfj928d6sqhy_19cp6ww0000gn/T/ipykernel_8450/212981314.py:19: PerformanceWarning: DataFrame is highly fragmented.  This is usually the result of calling `frame.insert` many times, which has poor performance.  Consider joining all columns at once using pd.concat(axis=1) instead. To get a de-fragmented frame, use `newframe = frame.copy()`\n",
      "  df[\"cos_day\"] = np.cos(2 * np.pi * df[\"valid_time\"].dt.dayofyear / 365)\n",
      "/var/folders/fm/5lbdpfj928d6sqhy_19cp6ww0000gn/T/ipykernel_8450/212981314.py:20: PerformanceWarning: DataFrame is highly fragmented.  This is usually the result of calling `frame.insert` many times, which has poor performance.  Consider joining all columns at once using pd.concat(axis=1) instead. To get a de-fragmented frame, use `newframe = frame.copy()`\n",
      "  df[\"Solar_MWh_Lag_24h\"] = df[\"Solar_MWh_credit\"].shift(periods= 48)\n"
     ]
    }
   ],
   "source": [
    "df[\"SolarDownwardRadiation_Mean\"] = df.filter(like= \"SolarDownwardRadiation\").mean(axis= 1)\n",
    "df[\"SolarDownwardRadiation_ncep_Mean\"] = df.filter(regex= r\"SolarDownwardRadiation.*_ncep\").mean(axis= 1)\n",
    "df[\"SolarDownwardRadiation_dwd_Mean\"] = df.filter(regex= r\"SolarDownwardRadiation.*_dwd\").mean(axis= 1)\n",
    "df[\"SolarDownwardRadiation_RW_Mean_1h\"] = df[\"SolarDownwardRadiation_Mean\"].rolling(window= 2).mean()\n",
    "df[\"SolarDownwardRadiation_RW_dwd_Mean_30min\"] = df[\"SolarDownwardRadiation_dwd_Mean\"].rolling(window= 1).mean()\n",
    "df[\"SolarDownwardRadiation_RW_dwd_Mean_1h\"] = df[\"SolarDownwardRadiation_dwd_Mean\"].rolling(window= 2).mean()\n",
    "df[\"SolarDownwardRadiation_dwd_Mean_Lag_30min\"] = df[\"SolarDownwardRadiation_dwd_Mean\"].shift(periods= 1)\n",
    "df[\"SolarDownwardRadiation_Mean_Lag_1h\"] = df[\"SolarDownwardRadiation_Mean\"].shift(periods= 2)\n",
    "df[\"SolarDownwardRadiation_Mean_Lag_24h\"] = df[\"SolarDownwardRadiation_Mean\"].shift(periods= 48)\n",
    "df[\"Panel_Efficiency_Mean\"] = df.filter(regex= r\"Panel_Efficiency.*\").mean(axis= 1)\n",
    "df[\"Panel_Efficiency_Std\"] = df.filter(regex= r\"Panel_Efficiency.*\").std(axis= 1)\n",
    "df[\"Panel_Temperature_Mean\"] = df.filter(regex= r\"Panel_Temperature.*\").mean(axis= 1)\n",
    "df[\"Panel_Temperature_Std\"] = df.filter(regex= r\"Panel_Temperature.*\").std(axis= 1)\n",
    "df[\"Temperature_dwd_Std\"] = df.filter(regex= r\"Temperature.*_dwd\").std(axis= 1)\n",
    "df[\"Temperature_dwd_Mean\"] = df.filter(regex= r\"Temperature.*_dwd\").mean(axis= 1)\n",
    "df[\"sin_hour\"] = np.sin(2 * np.pi * df[\"valid_time\"].dt.hour / 24)\n",
    "df[\"cos_hour\"] = np.cos(2 * np.pi * df[\"valid_time\"].dt.hour / 24)\n",
    "df[\"sin_day\"] = np.sin(2 * np.pi * df[\"valid_time\"].dt.dayofyear / 365)\n",
    "df[\"cos_day\"] = np.cos(2 * np.pi * df[\"valid_time\"].dt.dayofyear / 365)\n",
    "df[\"Solar_MWh_Lag_24h\"] = df[\"Solar_MWh_credit\"].shift(periods= 48)"
   ]
  },
  {
   "cell_type": "code",
   "execution_count": 20,
   "metadata": {},
   "outputs": [],
   "source": [
    "df = df.sort_values(by= \"valid_time\")"
   ]
  },
  {
   "cell_type": "code",
   "execution_count": 21,
   "metadata": {},
   "outputs": [],
   "source": [
    "features = [\n",
    "    \"SolarDownwardRadiation_Mean\",\n",
    "    #\"SolarDownwardRadiation_ncep_Mean\",\n",
    "    #\"SolarDownwardRadiation_dwd_Mean\",\n",
    "    \"SolarDownwardRadiation_RW_Mean_1h\",\n",
    "    \"SolarDownwardRadiation_RW_dwd_Mean_30min\",\n",
    "    #\"SolarDownwardRadiation_RW_dwd_Mean_1h\",\n",
    "    \"SolarDownwardRadiation_dwd_Mean_Lag_30min\",\n",
    "    \"SolarDownwardRadiation_Mean_Lag_1h\",\n",
    "    \"SolarDownwardRadiation_Mean_Lag_24h\",\n",
    "    \"Panel_Efficiency_Mean\",\n",
    "    \"Panel_Efficiency_Std\",\n",
    "    \"Panel_Temperature_Mean\",\n",
    "    \"Panel_Temperature_Std\",\n",
    "    \"Temperature_dwd_Std\",\n",
    "    \"Temperature_dwd_Mean\",\n",
    "    \"cos_hour\",\n",
    "    \"cos_day\",\n",
    "    \"Solar_MWh_Lag_24h\"\n",
    "    ]\n",
    "\n",
    "df = df[features + [\"Solar_MWh_credit\"]]"
   ]
  },
  {
   "cell_type": "code",
   "execution_count": 22,
   "metadata": {},
   "outputs": [
    {
     "data": {
      "text/plain": [
       "Index(['SolarDownwardRadiation_Mean', 'SolarDownwardRadiation_RW_Mean_1h',\n",
       "       'SolarDownwardRadiation_RW_dwd_Mean_30min',\n",
       "       'SolarDownwardRadiation_dwd_Mean_Lag_30min',\n",
       "       'SolarDownwardRadiation_Mean_Lag_1h',\n",
       "       'SolarDownwardRadiation_Mean_Lag_24h', 'Panel_Efficiency_Mean',\n",
       "       'Panel_Efficiency_Std', 'Panel_Temperature_Mean',\n",
       "       'Panel_Temperature_Std', 'Temperature_dwd_Std', 'Temperature_dwd_Mean',\n",
       "       'cos_hour', 'cos_day', 'Solar_MWh_Lag_24h', 'Solar_MWh_credit'],\n",
       "      dtype='object')"
      ]
     },
     "execution_count": 22,
     "metadata": {},
     "output_type": "execute_result"
    }
   ],
   "source": [
    "df.columns"
   ]
  },
  {
   "cell_type": "code",
   "execution_count": 23,
   "metadata": {},
   "outputs": [],
   "source": [
    "df.to_csv(\"/Users/florian/Documents/github/DP2/Energy_production_price_prediction/Generation_forecast/Solar_forecast/data/train.csv\", index= False)"
   ]
  }
 ],
 "metadata": {
  "kernelspec": {
   "display_name": "dp2venv",
   "language": "python",
   "name": "python3"
  },
  "language_info": {
   "codemirror_mode": {
    "name": "ipython",
    "version": 3
   },
   "file_extension": ".py",
   "mimetype": "text/x-python",
   "name": "python",
   "nbconvert_exporter": "python",
   "pygments_lexer": "ipython3",
   "version": "3.12.2"
  }
 },
 "nbformat": 4,
 "nbformat_minor": 2
}
