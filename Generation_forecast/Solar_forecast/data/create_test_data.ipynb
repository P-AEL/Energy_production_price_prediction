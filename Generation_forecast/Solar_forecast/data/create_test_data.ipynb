{
 "cells": [
  {
   "cell_type": "code",
   "execution_count": 18,
   "metadata": {},
   "outputs": [],
   "source": [
    "import pandas as pd\n",
    "import numpy as np"
   ]
  },
  {
   "cell_type": "code",
   "execution_count": 19,
   "metadata": {},
   "outputs": [],
   "source": [
    "def resample_and_interpolate(group):\n",
    "    return group.reset_index(level=[1, 2]).resample('30T').asfreq().interpolate()"
   ]
  },
  {
   "cell_type": "code",
   "execution_count": 20,
   "metadata": {},
   "outputs": [],
   "source": [
    "weather_df = pd.read_csv(\"/Users/florian/Documents/github/DP2/Energy_production_price_prediction/weather_data/DWD_ICON-EU.csv\")\n",
    "solar_total = pd.read_csv(\"/Users/florian/Documents/github/DP2/Energy_production_price_prediction/basic_files/solar_total_production.csv\")\n",
    "weather_df.sort_values(by='ref_datetime', inplace=True)\n",
    "weather_df = weather_df.groupby([\"valid_datetime\",\"latitude\",\"longitude\"]).last().reset_index()\n",
    "weather_df.reset_index(inplace=True)"
   ]
  },
  {
   "cell_type": "code",
   "execution_count": 21,
   "metadata": {},
   "outputs": [
    {
     "name": "stderr",
     "output_type": "stream",
     "text": [
      "/var/folders/fm/5lbdpfj928d6sqhy_19cp6ww0000gn/T/ipykernel_8446/2834871732.py:2: FutureWarning: 'T' is deprecated and will be removed in a future version, please use 'min' instead.\n",
      "  return group.reset_index(level=[1, 2]).resample('30T').asfreq().interpolate()\n",
      "/var/folders/fm/5lbdpfj928d6sqhy_19cp6ww0000gn/T/ipykernel_8446/2834871732.py:2: FutureWarning: DataFrame.interpolate with object dtype is deprecated and will raise in a future version. Call obj.infer_objects(copy=False) before interpolating instead.\n",
      "  return group.reset_index(level=[1, 2]).resample('30T').asfreq().interpolate()\n",
      "/var/folders/fm/5lbdpfj928d6sqhy_19cp6ww0000gn/T/ipykernel_8446/2834871732.py:2: FutureWarning: 'T' is deprecated and will be removed in a future version, please use 'min' instead.\n",
      "  return group.reset_index(level=[1, 2]).resample('30T').asfreq().interpolate()\n",
      "/var/folders/fm/5lbdpfj928d6sqhy_19cp6ww0000gn/T/ipykernel_8446/2834871732.py:2: FutureWarning: DataFrame.interpolate with object dtype is deprecated and will raise in a future version. Call obj.infer_objects(copy=False) before interpolating instead.\n",
      "  return group.reset_index(level=[1, 2]).resample('30T').asfreq().interpolate()\n",
      "/var/folders/fm/5lbdpfj928d6sqhy_19cp6ww0000gn/T/ipykernel_8446/2834871732.py:2: FutureWarning: 'T' is deprecated and will be removed in a future version, please use 'min' instead.\n",
      "  return group.reset_index(level=[1, 2]).resample('30T').asfreq().interpolate()\n",
      "/var/folders/fm/5lbdpfj928d6sqhy_19cp6ww0000gn/T/ipykernel_8446/2834871732.py:2: FutureWarning: DataFrame.interpolate with object dtype is deprecated and will raise in a future version. Call obj.infer_objects(copy=False) before interpolating instead.\n",
      "  return group.reset_index(level=[1, 2]).resample('30T').asfreq().interpolate()\n",
      "/var/folders/fm/5lbdpfj928d6sqhy_19cp6ww0000gn/T/ipykernel_8446/2834871732.py:2: FutureWarning: 'T' is deprecated and will be removed in a future version, please use 'min' instead.\n",
      "  return group.reset_index(level=[1, 2]).resample('30T').asfreq().interpolate()\n",
      "/var/folders/fm/5lbdpfj928d6sqhy_19cp6ww0000gn/T/ipykernel_8446/2834871732.py:2: FutureWarning: DataFrame.interpolate with object dtype is deprecated and will raise in a future version. Call obj.infer_objects(copy=False) before interpolating instead.\n",
      "  return group.reset_index(level=[1, 2]).resample('30T').asfreq().interpolate()\n",
      "/var/folders/fm/5lbdpfj928d6sqhy_19cp6ww0000gn/T/ipykernel_8446/2834871732.py:2: FutureWarning: 'T' is deprecated and will be removed in a future version, please use 'min' instead.\n",
      "  return group.reset_index(level=[1, 2]).resample('30T').asfreq().interpolate()\n",
      "/var/folders/fm/5lbdpfj928d6sqhy_19cp6ww0000gn/T/ipykernel_8446/2834871732.py:2: FutureWarning: DataFrame.interpolate with object dtype is deprecated and will raise in a future version. Call obj.infer_objects(copy=False) before interpolating instead.\n",
      "  return group.reset_index(level=[1, 2]).resample('30T').asfreq().interpolate()\n",
      "/var/folders/fm/5lbdpfj928d6sqhy_19cp6ww0000gn/T/ipykernel_8446/2834871732.py:2: FutureWarning: 'T' is deprecated and will be removed in a future version, please use 'min' instead.\n",
      "  return group.reset_index(level=[1, 2]).resample('30T').asfreq().interpolate()\n",
      "/var/folders/fm/5lbdpfj928d6sqhy_19cp6ww0000gn/T/ipykernel_8446/2834871732.py:2: FutureWarning: DataFrame.interpolate with object dtype is deprecated and will raise in a future version. Call obj.infer_objects(copy=False) before interpolating instead.\n",
      "  return group.reset_index(level=[1, 2]).resample('30T').asfreq().interpolate()\n",
      "/var/folders/fm/5lbdpfj928d6sqhy_19cp6ww0000gn/T/ipykernel_8446/2834871732.py:2: FutureWarning: 'T' is deprecated and will be removed in a future version, please use 'min' instead.\n",
      "  return group.reset_index(level=[1, 2]).resample('30T').asfreq().interpolate()\n",
      "/var/folders/fm/5lbdpfj928d6sqhy_19cp6ww0000gn/T/ipykernel_8446/2834871732.py:2: FutureWarning: DataFrame.interpolate with object dtype is deprecated and will raise in a future version. Call obj.infer_objects(copy=False) before interpolating instead.\n",
      "  return group.reset_index(level=[1, 2]).resample('30T').asfreq().interpolate()\n",
      "/var/folders/fm/5lbdpfj928d6sqhy_19cp6ww0000gn/T/ipykernel_8446/2834871732.py:2: FutureWarning: 'T' is deprecated and will be removed in a future version, please use 'min' instead.\n",
      "  return group.reset_index(level=[1, 2]).resample('30T').asfreq().interpolate()\n",
      "/var/folders/fm/5lbdpfj928d6sqhy_19cp6ww0000gn/T/ipykernel_8446/2834871732.py:2: FutureWarning: DataFrame.interpolate with object dtype is deprecated and will raise in a future version. Call obj.infer_objects(copy=False) before interpolating instead.\n",
      "  return group.reset_index(level=[1, 2]).resample('30T').asfreq().interpolate()\n",
      "/var/folders/fm/5lbdpfj928d6sqhy_19cp6ww0000gn/T/ipykernel_8446/2834871732.py:2: FutureWarning: 'T' is deprecated and will be removed in a future version, please use 'min' instead.\n",
      "  return group.reset_index(level=[1, 2]).resample('30T').asfreq().interpolate()\n",
      "/var/folders/fm/5lbdpfj928d6sqhy_19cp6ww0000gn/T/ipykernel_8446/2834871732.py:2: FutureWarning: DataFrame.interpolate with object dtype is deprecated and will raise in a future version. Call obj.infer_objects(copy=False) before interpolating instead.\n",
      "  return group.reset_index(level=[1, 2]).resample('30T').asfreq().interpolate()\n",
      "/var/folders/fm/5lbdpfj928d6sqhy_19cp6ww0000gn/T/ipykernel_8446/2834871732.py:2: FutureWarning: 'T' is deprecated and will be removed in a future version, please use 'min' instead.\n",
      "  return group.reset_index(level=[1, 2]).resample('30T').asfreq().interpolate()\n",
      "/var/folders/fm/5lbdpfj928d6sqhy_19cp6ww0000gn/T/ipykernel_8446/2834871732.py:2: FutureWarning: DataFrame.interpolate with object dtype is deprecated and will raise in a future version. Call obj.infer_objects(copy=False) before interpolating instead.\n",
      "  return group.reset_index(level=[1, 2]).resample('30T').asfreq().interpolate()\n",
      "/var/folders/fm/5lbdpfj928d6sqhy_19cp6ww0000gn/T/ipykernel_8446/2834871732.py:2: FutureWarning: 'T' is deprecated and will be removed in a future version, please use 'min' instead.\n",
      "  return group.reset_index(level=[1, 2]).resample('30T').asfreq().interpolate()\n",
      "/var/folders/fm/5lbdpfj928d6sqhy_19cp6ww0000gn/T/ipykernel_8446/2834871732.py:2: FutureWarning: DataFrame.interpolate with object dtype is deprecated and will raise in a future version. Call obj.infer_objects(copy=False) before interpolating instead.\n",
      "  return group.reset_index(level=[1, 2]).resample('30T').asfreq().interpolate()\n",
      "/var/folders/fm/5lbdpfj928d6sqhy_19cp6ww0000gn/T/ipykernel_8446/2834871732.py:2: FutureWarning: 'T' is deprecated and will be removed in a future version, please use 'min' instead.\n",
      "  return group.reset_index(level=[1, 2]).resample('30T').asfreq().interpolate()\n",
      "/var/folders/fm/5lbdpfj928d6sqhy_19cp6ww0000gn/T/ipykernel_8446/2834871732.py:2: FutureWarning: DataFrame.interpolate with object dtype is deprecated and will raise in a future version. Call obj.infer_objects(copy=False) before interpolating instead.\n",
      "  return group.reset_index(level=[1, 2]).resample('30T').asfreq().interpolate()\n",
      "/var/folders/fm/5lbdpfj928d6sqhy_19cp6ww0000gn/T/ipykernel_8446/2834871732.py:2: FutureWarning: 'T' is deprecated and will be removed in a future version, please use 'min' instead.\n",
      "  return group.reset_index(level=[1, 2]).resample('30T').asfreq().interpolate()\n",
      "/var/folders/fm/5lbdpfj928d6sqhy_19cp6ww0000gn/T/ipykernel_8446/2834871732.py:2: FutureWarning: DataFrame.interpolate with object dtype is deprecated and will raise in a future version. Call obj.infer_objects(copy=False) before interpolating instead.\n",
      "  return group.reset_index(level=[1, 2]).resample('30T').asfreq().interpolate()\n",
      "/var/folders/fm/5lbdpfj928d6sqhy_19cp6ww0000gn/T/ipykernel_8446/2834871732.py:2: FutureWarning: 'T' is deprecated and will be removed in a future version, please use 'min' instead.\n",
      "  return group.reset_index(level=[1, 2]).resample('30T').asfreq().interpolate()\n",
      "/var/folders/fm/5lbdpfj928d6sqhy_19cp6ww0000gn/T/ipykernel_8446/2834871732.py:2: FutureWarning: DataFrame.interpolate with object dtype is deprecated and will raise in a future version. Call obj.infer_objects(copy=False) before interpolating instead.\n",
      "  return group.reset_index(level=[1, 2]).resample('30T').asfreq().interpolate()\n",
      "/var/folders/fm/5lbdpfj928d6sqhy_19cp6ww0000gn/T/ipykernel_8446/2834871732.py:2: FutureWarning: 'T' is deprecated and will be removed in a future version, please use 'min' instead.\n",
      "  return group.reset_index(level=[1, 2]).resample('30T').asfreq().interpolate()\n",
      "/var/folders/fm/5lbdpfj928d6sqhy_19cp6ww0000gn/T/ipykernel_8446/2834871732.py:2: FutureWarning: DataFrame.interpolate with object dtype is deprecated and will raise in a future version. Call obj.infer_objects(copy=False) before interpolating instead.\n",
      "  return group.reset_index(level=[1, 2]).resample('30T').asfreq().interpolate()\n",
      "/var/folders/fm/5lbdpfj928d6sqhy_19cp6ww0000gn/T/ipykernel_8446/2834871732.py:2: FutureWarning: 'T' is deprecated and will be removed in a future version, please use 'min' instead.\n",
      "  return group.reset_index(level=[1, 2]).resample('30T').asfreq().interpolate()\n",
      "/var/folders/fm/5lbdpfj928d6sqhy_19cp6ww0000gn/T/ipykernel_8446/2834871732.py:2: FutureWarning: DataFrame.interpolate with object dtype is deprecated and will raise in a future version. Call obj.infer_objects(copy=False) before interpolating instead.\n",
      "  return group.reset_index(level=[1, 2]).resample('30T').asfreq().interpolate()\n",
      "/var/folders/fm/5lbdpfj928d6sqhy_19cp6ww0000gn/T/ipykernel_8446/2834871732.py:2: FutureWarning: 'T' is deprecated and will be removed in a future version, please use 'min' instead.\n",
      "  return group.reset_index(level=[1, 2]).resample('30T').asfreq().interpolate()\n",
      "/var/folders/fm/5lbdpfj928d6sqhy_19cp6ww0000gn/T/ipykernel_8446/2834871732.py:2: FutureWarning: DataFrame.interpolate with object dtype is deprecated and will raise in a future version. Call obj.infer_objects(copy=False) before interpolating instead.\n",
      "  return group.reset_index(level=[1, 2]).resample('30T').asfreq().interpolate()\n",
      "/var/folders/fm/5lbdpfj928d6sqhy_19cp6ww0000gn/T/ipykernel_8446/2834871732.py:2: FutureWarning: 'T' is deprecated and will be removed in a future version, please use 'min' instead.\n",
      "  return group.reset_index(level=[1, 2]).resample('30T').asfreq().interpolate()\n",
      "/var/folders/fm/5lbdpfj928d6sqhy_19cp6ww0000gn/T/ipykernel_8446/2834871732.py:2: FutureWarning: DataFrame.interpolate with object dtype is deprecated and will raise in a future version. Call obj.infer_objects(copy=False) before interpolating instead.\n",
      "  return group.reset_index(level=[1, 2]).resample('30T').asfreq().interpolate()\n",
      "/var/folders/fm/5lbdpfj928d6sqhy_19cp6ww0000gn/T/ipykernel_8446/2834871732.py:2: FutureWarning: 'T' is deprecated and will be removed in a future version, please use 'min' instead.\n",
      "  return group.reset_index(level=[1, 2]).resample('30T').asfreq().interpolate()\n",
      "/var/folders/fm/5lbdpfj928d6sqhy_19cp6ww0000gn/T/ipykernel_8446/2834871732.py:2: FutureWarning: DataFrame.interpolate with object dtype is deprecated and will raise in a future version. Call obj.infer_objects(copy=False) before interpolating instead.\n",
      "  return group.reset_index(level=[1, 2]).resample('30T').asfreq().interpolate()\n",
      "/var/folders/fm/5lbdpfj928d6sqhy_19cp6ww0000gn/T/ipykernel_8446/2834871732.py:2: FutureWarning: 'T' is deprecated and will be removed in a future version, please use 'min' instead.\n",
      "  return group.reset_index(level=[1, 2]).resample('30T').asfreq().interpolate()\n",
      "/var/folders/fm/5lbdpfj928d6sqhy_19cp6ww0000gn/T/ipykernel_8446/2834871732.py:2: FutureWarning: DataFrame.interpolate with object dtype is deprecated and will raise in a future version. Call obj.infer_objects(copy=False) before interpolating instead.\n",
      "  return group.reset_index(level=[1, 2]).resample('30T').asfreq().interpolate()\n",
      "/var/folders/fm/5lbdpfj928d6sqhy_19cp6ww0000gn/T/ipykernel_8446/2834871732.py:2: FutureWarning: 'T' is deprecated and will be removed in a future version, please use 'min' instead.\n",
      "  return group.reset_index(level=[1, 2]).resample('30T').asfreq().interpolate()\n",
      "/var/folders/fm/5lbdpfj928d6sqhy_19cp6ww0000gn/T/ipykernel_8446/2834871732.py:2: FutureWarning: DataFrame.interpolate with object dtype is deprecated and will raise in a future version. Call obj.infer_objects(copy=False) before interpolating instead.\n",
      "  return group.reset_index(level=[1, 2]).resample('30T').asfreq().interpolate()\n"
     ]
    }
   ],
   "source": [
    "weather_df.valid_datetime = pd.to_datetime(weather_df.valid_datetime)\n",
    "weather_df = weather_df.set_index([\"valid_datetime\",\"latitude\",\"longitude\"])\n",
    "df_resampled = weather_df.groupby(['latitude', 'longitude'], group_keys=False).apply(resample_and_interpolate)\n",
    "df_resampled = df_resampled.reset_index()"
   ]
  },
  {
   "cell_type": "code",
   "execution_count": 22,
   "metadata": {},
   "outputs": [],
   "source": [
    "solar_total.timestamp_utc = pd.to_datetime(solar_total.timestamp_utc)\n",
    "df_resampled.drop(columns=['index','ref_datetime'], inplace=True)\n",
    "df_resampled_merged = pd.merge(df_resampled, solar_total, how='left', left_on='valid_datetime', right_on='timestamp_utc')\n",
    "df_resampled_merged_solar = df_resampled_merged.loc[~(df_resampled_merged.latitude == 53.935) & ~(df_resampled_merged.longitude == 1.8645)]"
   ]
  },
  {
   "cell_type": "code",
   "execution_count": 23,
   "metadata": {},
   "outputs": [],
   "source": [
    "df_resampled_merged_solar1 = df_resampled_merged_solar.groupby(\"valid_datetime\").mean().reset_index()"
   ]
  },
  {
   "cell_type": "code",
   "execution_count": 24,
   "metadata": {},
   "outputs": [],
   "source": [
    "distinct_lat_lon_pairs = df_resampled_merged_solar[['latitude', 'longitude']].drop_duplicates()"
   ]
  },
  {
   "cell_type": "code",
   "execution_count": 25,
   "metadata": {},
   "outputs": [
    {
     "data": {
      "text/html": [
       "<div>\n",
       "<style scoped>\n",
       "    .dataframe tbody tr th:only-of-type {\n",
       "        vertical-align: middle;\n",
       "    }\n",
       "\n",
       "    .dataframe tbody tr th {\n",
       "        vertical-align: top;\n",
       "    }\n",
       "\n",
       "    .dataframe thead th {\n",
       "        text-align: right;\n",
       "    }\n",
       "</style>\n",
       "<table border=\"1\" class=\"dataframe\">\n",
       "  <thead>\n",
       "    <tr style=\"text-align: right;\">\n",
       "      <th></th>\n",
       "      <th>valid_datetime</th>\n",
       "      <th>latitude</th>\n",
       "      <th>longitude</th>\n",
       "      <th>Temperature</th>\n",
       "      <th>WindSpeed</th>\n",
       "      <th>WindSpeed:100</th>\n",
       "      <th>WindDirection:100</th>\n",
       "      <th>CloudCover</th>\n",
       "      <th>RelativeHumidity</th>\n",
       "      <th>PressureReducedMSL</th>\n",
       "      <th>SolarDownwardRadiation</th>\n",
       "      <th>TotalPrecipitation</th>\n",
       "      <th>timestamp_utc</th>\n",
       "      <th>generation_mw</th>\n",
       "      <th>installed_capacity_mwp</th>\n",
       "      <th>capacity_mwp</th>\n",
       "    </tr>\n",
       "  </thead>\n",
       "  <tbody>\n",
       "    <tr>\n",
       "      <th>0</th>\n",
       "      <td>2024-10-07 00:00:00+00:00</td>\n",
       "      <td>52.381681</td>\n",
       "      <td>0.650333</td>\n",
       "      <td>14.12700</td>\n",
       "      <td>4.81800</td>\n",
       "      <td>8.3690</td>\n",
       "      <td>226.31250</td>\n",
       "      <td>0.89300</td>\n",
       "      <td>93.61300</td>\n",
       "      <td>99466.75350</td>\n",
       "      <td>0.0</td>\n",
       "      <td>NaN</td>\n",
       "      <td>2024-10-07 00:00:00+00:00</td>\n",
       "      <td>0.0</td>\n",
       "      <td>2956.745251</td>\n",
       "      <td>2779.542388</td>\n",
       "    </tr>\n",
       "    <tr>\n",
       "      <th>1</th>\n",
       "      <td>2024-10-07 00:30:00+00:00</td>\n",
       "      <td>52.381681</td>\n",
       "      <td>0.650333</td>\n",
       "      <td>13.96225</td>\n",
       "      <td>4.93950</td>\n",
       "      <td>8.5185</td>\n",
       "      <td>232.54025</td>\n",
       "      <td>0.89825</td>\n",
       "      <td>92.78875</td>\n",
       "      <td>99514.00425</td>\n",
       "      <td>0.0</td>\n",
       "      <td>NaN</td>\n",
       "      <td>2024-10-07 00:30:00+00:00</td>\n",
       "      <td>0.0</td>\n",
       "      <td>2956.745251</td>\n",
       "      <td>2779.542384</td>\n",
       "    </tr>\n",
       "    <tr>\n",
       "      <th>2</th>\n",
       "      <td>2024-10-07 01:00:00+00:00</td>\n",
       "      <td>52.381681</td>\n",
       "      <td>0.650333</td>\n",
       "      <td>13.79750</td>\n",
       "      <td>5.06100</td>\n",
       "      <td>8.6680</td>\n",
       "      <td>238.76800</td>\n",
       "      <td>0.90350</td>\n",
       "      <td>91.96450</td>\n",
       "      <td>99561.25500</td>\n",
       "      <td>0.0</td>\n",
       "      <td>0.0135</td>\n",
       "      <td>2024-10-07 01:00:00+00:00</td>\n",
       "      <td>0.0</td>\n",
       "      <td>2956.745251</td>\n",
       "      <td>2779.542383</td>\n",
       "    </tr>\n",
       "    <tr>\n",
       "      <th>3</th>\n",
       "      <td>2024-10-07 01:30:00+00:00</td>\n",
       "      <td>52.381681</td>\n",
       "      <td>0.650333</td>\n",
       "      <td>13.53700</td>\n",
       "      <td>5.07225</td>\n",
       "      <td>8.7065</td>\n",
       "      <td>239.91850</td>\n",
       "      <td>0.86175</td>\n",
       "      <td>91.31550</td>\n",
       "      <td>99557.52450</td>\n",
       "      <td>0.0</td>\n",
       "      <td>0.0090</td>\n",
       "      <td>2024-10-07 01:30:00+00:00</td>\n",
       "      <td>0.0</td>\n",
       "      <td>2956.745251</td>\n",
       "      <td>2779.542370</td>\n",
       "    </tr>\n",
       "    <tr>\n",
       "      <th>4</th>\n",
       "      <td>2024-10-07 02:00:00+00:00</td>\n",
       "      <td>52.381681</td>\n",
       "      <td>0.650333</td>\n",
       "      <td>13.27650</td>\n",
       "      <td>5.08350</td>\n",
       "      <td>8.7450</td>\n",
       "      <td>241.06900</td>\n",
       "      <td>0.82000</td>\n",
       "      <td>90.66650</td>\n",
       "      <td>99553.79400</td>\n",
       "      <td>0.0</td>\n",
       "      <td>0.0045</td>\n",
       "      <td>2024-10-07 02:00:00+00:00</td>\n",
       "      <td>0.0</td>\n",
       "      <td>2956.745251</td>\n",
       "      <td>2779.542348</td>\n",
       "    </tr>\n",
       "  </tbody>\n",
       "</table>\n",
       "</div>"
      ],
      "text/plain": [
       "             valid_datetime   latitude  longitude  Temperature  WindSpeed  \\\n",
       "0 2024-10-07 00:00:00+00:00  52.381681   0.650333     14.12700    4.81800   \n",
       "1 2024-10-07 00:30:00+00:00  52.381681   0.650333     13.96225    4.93950   \n",
       "2 2024-10-07 01:00:00+00:00  52.381681   0.650333     13.79750    5.06100   \n",
       "3 2024-10-07 01:30:00+00:00  52.381681   0.650333     13.53700    5.07225   \n",
       "4 2024-10-07 02:00:00+00:00  52.381681   0.650333     13.27650    5.08350   \n",
       "\n",
       "   WindSpeed:100  WindDirection:100  CloudCover  RelativeHumidity  \\\n",
       "0         8.3690          226.31250     0.89300          93.61300   \n",
       "1         8.5185          232.54025     0.89825          92.78875   \n",
       "2         8.6680          238.76800     0.90350          91.96450   \n",
       "3         8.7065          239.91850     0.86175          91.31550   \n",
       "4         8.7450          241.06900     0.82000          90.66650   \n",
       "\n",
       "   PressureReducedMSL  SolarDownwardRadiation  TotalPrecipitation  \\\n",
       "0         99466.75350                     0.0                 NaN   \n",
       "1         99514.00425                     0.0                 NaN   \n",
       "2         99561.25500                     0.0              0.0135   \n",
       "3         99557.52450                     0.0              0.0090   \n",
       "4         99553.79400                     0.0              0.0045   \n",
       "\n",
       "              timestamp_utc  generation_mw  installed_capacity_mwp  \\\n",
       "0 2024-10-07 00:00:00+00:00            0.0             2956.745251   \n",
       "1 2024-10-07 00:30:00+00:00            0.0             2956.745251   \n",
       "2 2024-10-07 01:00:00+00:00            0.0             2956.745251   \n",
       "3 2024-10-07 01:30:00+00:00            0.0             2956.745251   \n",
       "4 2024-10-07 02:00:00+00:00            0.0             2956.745251   \n",
       "\n",
       "   capacity_mwp  \n",
       "0   2779.542388  \n",
       "1   2779.542384  \n",
       "2   2779.542383  \n",
       "3   2779.542370  \n",
       "4   2779.542348  "
      ]
     },
     "execution_count": 25,
     "metadata": {},
     "output_type": "execute_result"
    }
   ],
   "source": [
    "df_resampled_merged_solar1.head()"
   ]
  },
  {
   "cell_type": "code",
   "execution_count": 26,
   "metadata": {},
   "outputs": [],
   "source": [
    "def set_up_solar_features(df):\n",
    "    df[\"cos_day\"] = np.cos(2 * np.pi * df.valid_datetime.dt.dayofyear / 365)\n",
    "    df[\"cos_hour\"] = np.cos(2 * np.pi * df.valid_datetime.dt.hour / 24)\n",
    "    df[\"SolarDownwardRadiation_Mean\"] = df.SolarDownwardRadiation\n",
    "    df[\"Temperature_dwd_Mean\"] = df.Temperature\n",
    "    df[\"Temperature_dwd_Std\"] = df_resampled_merged_solar.groupby(\"valid_datetime\").std().reset_index().Temperature\n",
    "    df[\"SolarDownwardRadiation_RW_dwd_Mean_30min\"] = df.SolarDownwardRadiation_Mean.rolling(window=1, min_periods=1).mean()\n",
    "    df[\"SolarDownwardRadiation_RW_Mean_1h\"] = df.SolarDownwardRadiation_Mean.rolling(window=2, min_periods=1).mean()\n",
    "    df[\"SolarDownwardRadiation_dwd_Mean_Lag_30min\"] = df.SolarDownwardRadiation_Mean.shift(1)\n",
    "    df[\"SolarDownwardRadiation_Mean_Lag_1h\"] = df.SolarDownwardRadiation_Mean.shift(2)\n",
    "    df[\"SolarDownwardRadiation_Mean_Lag_24h\"] = df.SolarDownwardRadiation_Mean.shift(48)\n",
    "    for i in range(len(distinct_lat_lon_pairs)):\n",
    "        lat = distinct_lat_lon_pairs.latitude.iloc[i]\n",
    "        lon = distinct_lat_lon_pairs.longitude.iloc[i]\n",
    "        mask = (df_resampled_merged_solar.latitude == lat) & (df_resampled_merged_solar.longitude == lon)\n",
    "        df[f\"Temperature_{i}\"] = pd.Series(df_resampled_merged_solar.Temperature[mask].values)[:len(df)]  # Fill gaps with NaN\n",
    "        df[f\"SolarDownwardRadiation_{i}\"] = pd.Series(df_resampled_merged_solar.SolarDownwardRadiation[mask].values)[:len(df)]  # Fill gaps with NaN\n",
    "    return df\n",
    "df_resampled_merged_solar2 = set_up_solar_features(df_resampled_merged_solar1)"
   ]
  },
  {
   "cell_type": "code",
   "execution_count": 27,
   "metadata": {},
   "outputs": [],
   "source": [
    "def pv_temperature_efficiency(irradiance, ambient_temp, NOCT=45, wind_speed=1, eta_0=0.18, beta=0.004):\n",
    "    Tc = ambient_temp + (NOCT - 20) * (irradiance / 800)\n",
    "    efficiency = eta_0 * (1 - beta * (Tc - 25))\n",
    "    \n",
    "    return Tc, efficiency"
   ]
  },
  {
   "cell_type": "code",
   "execution_count": 28,
   "metadata": {},
   "outputs": [],
   "source": [
    "for i in range(20):\n",
    "    temp_col = f'Temperature_{i}'\n",
    "    irradiance_col = f'SolarDownwardRadiation_{i}'\n",
    "    panel_temp_col = f'Panel_Temperature_Point{i}'\n",
    "    panel_eff_col = f'Panel_Efficiency_Point{i}'\n",
    "    df_resampled_merged_solar2[panel_temp_col], df_resampled_merged_solar2[panel_eff_col] = pv_temperature_efficiency(df_resampled_merged_solar2[irradiance_col], df_resampled_merged_solar2[temp_col])"
   ]
  },
  {
   "cell_type": "code",
   "execution_count": 29,
   "metadata": {},
   "outputs": [],
   "source": [
    "df_resampled_merged_solar2[\"Panel_Temperature_Mean\"] = df_resampled_merged_solar2.filter(regex= r\"Panel_Temperature.*\").mean(axis= 1)\n",
    "df_resampled_merged_solar2[\"Panel_Efficiency_Mean\"] = df_resampled_merged_solar2.filter(regex= r\"Panel_Efficiency.*\").mean(axis= 1)\n",
    "df_resampled_merged_solar2[\"Panel_Temperature_Std\"] = df_resampled_merged_solar2.filter(regex= r\"Panel_Temperature.*\").std(axis= 1)\n",
    "df_resampled_merged_solar2[\"Panel_Efficiency_Std\"] = df_resampled_merged_solar2.filter(regex= r\"Panel_Efficiency.*\").std(axis= 1)"
   ]
  },
  {
   "cell_type": "code",
   "execution_count": 30,
   "metadata": {},
   "outputs": [],
   "source": [
    "df_resampled_merged_solar2[\"Solar_MWh_Lag_24h\"] = df_resampled_merged_solar2.generation_mw.shift(periods= 48) * 0.5\n",
    "df_resampled_merged_solar2[\"Solar_MWh_credit\"] = df_resampled_merged_solar2.generation_mw * 0.5"
   ]
  },
  {
   "cell_type": "code",
   "execution_count": 31,
   "metadata": {},
   "outputs": [
    {
     "name": "stderr",
     "output_type": "stream",
     "text": [
      "/var/folders/fm/5lbdpfj928d6sqhy_19cp6ww0000gn/T/ipykernel_8446/304964788.py:19: SettingWithCopyWarning: \n",
      "A value is trying to be set on a copy of a slice from a DataFrame\n",
      "\n",
      "See the caveats in the documentation: https://pandas.pydata.org/pandas-docs/stable/user_guide/indexing.html#returning-a-view-versus-a-copy\n",
      "  df_resampled_merged_solar3.dropna(inplace=True)\n"
     ]
    }
   ],
   "source": [
    "df_resampled_merged_solar3 = df_resampled_merged_solar2[[ \n",
    "    \"SolarDownwardRadiation_Mean\",\n",
    "    \"SolarDownwardRadiation_RW_Mean_1h\",\n",
    "    \"SolarDownwardRadiation_RW_dwd_Mean_30min\",\n",
    "    \"SolarDownwardRadiation_dwd_Mean_Lag_30min\",\n",
    "    \"SolarDownwardRadiation_Mean_Lag_1h\",\n",
    "    \"SolarDownwardRadiation_Mean_Lag_24h\",\n",
    "    \"Panel_Efficiency_Mean\",\n",
    "    \"Panel_Efficiency_Std\",\n",
    "    \"Panel_Temperature_Mean\",\n",
    "    \"Panel_Temperature_Std\",\n",
    "    \"Temperature_dwd_Std\",\n",
    "    \"Temperature_dwd_Mean\",\n",
    "    \"cos_hour\",\n",
    "    \"cos_day\",\n",
    "    \"Solar_MWh_Lag_24h\",\n",
    "    \"Solar_MWh_credit\"\n",
    "    ]]\n",
    "df_resampled_merged_solar3.dropna(inplace=True)"
   ]
  },
  {
   "cell_type": "code",
   "execution_count": 32,
   "metadata": {},
   "outputs": [
    {
     "data": {
      "text/plain": [
       "Index(['SolarDownwardRadiation_Mean', 'SolarDownwardRadiation_RW_Mean_1h',\n",
       "       'SolarDownwardRadiation_RW_dwd_Mean_30min',\n",
       "       'SolarDownwardRadiation_dwd_Mean_Lag_30min',\n",
       "       'SolarDownwardRadiation_Mean_Lag_1h',\n",
       "       'SolarDownwardRadiation_Mean_Lag_24h', 'Panel_Efficiency_Mean',\n",
       "       'Panel_Efficiency_Std', 'Panel_Temperature_Mean',\n",
       "       'Panel_Temperature_Std', 'Temperature_dwd_Std', 'Temperature_dwd_Mean',\n",
       "       'cos_hour', 'cos_day', 'Solar_MWh_Lag_24h', 'Solar_MWh_credit'],\n",
       "      dtype='object')"
      ]
     },
     "execution_count": 32,
     "metadata": {},
     "output_type": "execute_result"
    }
   ],
   "source": [
    "df_resampled_merged_solar3.columns"
   ]
  },
  {
   "cell_type": "code",
   "execution_count": 33,
   "metadata": {},
   "outputs": [],
   "source": [
    "df_resampled_merged_solar3.to_csv(\"/Users/florian/Documents/github/DP2/Energy_production_price_prediction/Generation_forecast/Solar_forecast/data/test.csv\", index=False)"
   ]
  }
 ],
 "metadata": {
  "kernelspec": {
   "display_name": "dp2venv",
   "language": "python",
   "name": "python3"
  },
  "language_info": {
   "codemirror_mode": {
    "name": "ipython",
    "version": 3
   },
   "file_extension": ".py",
   "mimetype": "text/x-python",
   "name": "python",
   "nbconvert_exporter": "python",
   "pygments_lexer": "ipython3",
   "version": "3.12.2"
  }
 },
 "nbformat": 4,
 "nbformat_minor": 2
}
