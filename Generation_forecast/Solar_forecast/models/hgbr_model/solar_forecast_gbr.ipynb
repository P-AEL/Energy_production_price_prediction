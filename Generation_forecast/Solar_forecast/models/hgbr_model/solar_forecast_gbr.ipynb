{
 "cells": [
  {
   "cell_type": "code",
   "execution_count": 1,
   "metadata": {},
   "outputs": [
    {
     "name": "stderr",
     "output_type": "stream",
     "text": [
      "/Users/florian/Documents/github/DP2/Energy_production_price_prediction/dp2venv/lib/python3.12/site-packages/tqdm/auto.py:21: TqdmWarning: IProgress not found. Please update jupyter and ipywidgets. See https://ipywidgets.readthedocs.io/en/stable/user_install.html\n",
      "  from .autonotebook import tqdm as notebook_tqdm\n"
     ]
    }
   ],
   "source": [
    "import pandas as pd\n",
    "from sklearn.model_selection import train_test_split\n",
    "from sklearn.ensemble import GradientBoostingRegressor\n",
    "from sklearn.metrics import mean_pinball_loss\n",
    "import optuna"
   ]
  },
  {
   "cell_type": "code",
   "execution_count": 2,
   "metadata": {},
   "outputs": [],
   "source": [
    "df = pd.read_csv(\"/Users/florian/Documents/github/DP2/Energy_production_price_prediction/HEFTcom24/data/features.csv\")"
   ]
  },
  {
   "cell_type": "code",
   "execution_count": 3,
   "metadata": {},
   "outputs": [],
   "source": [
    "df = df.drop(columns=['Unnamed: 0'])   \n",
    "df = df.dropna()"
   ]
  },
  {
   "cell_type": "code",
   "execution_count": 4,
   "metadata": {},
   "outputs": [
    {
     "data": {
      "text/plain": [
       "Index(['valid_time', 'Solar_MWh_credit', 'SolarDownwardRadiation_Mean',\n",
       "       'SolarDownwardRadiation_ncep_Mean', 'SolarDownwardRadiation_dwd_Mean',\n",
       "       'SolarDownwardRadiation_RW_Mean_1h',\n",
       "       'SolarDownwardRadiation_RW_dwd_Mean_30min',\n",
       "       'SolarDownwardRadiation_RW_dwd_Mean_1h',\n",
       "       'SolarDownwardRadiation_dwd_Mean_Lag_30min',\n",
       "       'SolarDownwardRadiation_Mean_Lag_1h',\n",
       "       'SolarDownwardRadiation_Mean_Lag_24h', 'Panel_Efficiency_Mean',\n",
       "       'Panel_Efficiency_Std', 'Panel_Temperature_Mean',\n",
       "       'Panel_Temperature_Std', 'Temperature_dwd_Std', 'Temperature_dwd_Mean',\n",
       "       'cos_hour', 'cos_day'],\n",
       "      dtype='object')"
      ]
     },
     "execution_count": 4,
     "metadata": {},
     "output_type": "execute_result"
    }
   ],
   "source": [
    "df.columns"
   ]
  },
  {
   "cell_type": "code",
   "execution_count": 5,
   "metadata": {},
   "outputs": [],
   "source": [
    "X_train, X_test, y_train, y_test = train_test_split(df.drop(columns=[\"valid_time\", \"Solar_MWh_credit\"]), df[\"Solar_MWh_credit\"], test_size=0.2, random_state=42, shuffle= False)"
   ]
  },
  {
   "cell_type": "code",
   "execution_count": 6,
   "metadata": {},
   "outputs": [
    {
     "data": {
      "text/plain": [
       "50906    541.010965\n",
       "50907    533.581000\n",
       "50908    573.276220\n",
       "50909    538.836155\n",
       "50910    450.362355\n",
       "            ...    \n",
       "63616      0.000000\n",
       "63617      0.000000\n",
       "63618      0.000000\n",
       "63619      0.000000\n",
       "63620      0.000000\n",
       "Name: Solar_MWh_credit, Length: 12715, dtype: float64"
      ]
     },
     "execution_count": 6,
     "metadata": {},
     "output_type": "execute_result"
    }
   ],
   "source": [
    "y_test"
   ]
  },
  {
   "cell_type": "code",
   "execution_count": 7,
   "metadata": {},
   "outputs": [],
   "source": [
    "import logging\n",
    "logging.basicConfig(level=logging.INFO)"
   ]
  },
  {
   "cell_type": "code",
   "execution_count": 8,
   "metadata": {},
   "outputs": [],
   "source": [
    "alphas = [0.1, 0.2, 0.3, 0.4, 0.5, 0.6, 0.7, 0.8, 0.9]\n",
    "\n",
    "def objective(trial, alpha):\n",
    "    \"\"\"\n",
    "    Objective function for the Optuna optimization. Trains a Gradient Boosting Regressor model with the given hyperparameters.\n",
    "\n",
    "    args:   trial: optuna.trial.Trial\n",
    "            alpha: float, the quantile to be used in the loss function\n",
    "    returns: float\n",
    "    \"\"\"\n",
    "    n_estimators = trial.suggest_int(\"n_estimators\", 100, 1000)\n",
    "    max_depth = trial.suggest_int(\"max_depth\", 3, 20)\n",
    "    learning_rate = trial.suggest_float(\"learning_rate\", 0.01, 0.1, log=True)\n",
    "    min_samples_split = trial.suggest_int(\"min_samples_split\", 2, 50)\n",
    "    min_samples_leaf = trial.suggest_int(\"min_samples_leaf\", 1, 20)\n",
    "\n",
    "    model = GradientBoostingRegressor(\n",
    "        loss=\"quantile\",\n",
    "        alpha=alpha,\n",
    "        n_estimators=n_estimators,\n",
    "        max_depth=max_depth,\n",
    "        learning_rate=learning_rate,\n",
    "        min_samples_split=min_samples_split,\n",
    "        min_samples_leaf=min_samples_leaf,\n",
    "        random_state=0\n",
    "    )\n",
    "    \n",
    "    model.fit(X_train, y_train)\n",
    "    \n",
    "    y_pred = model.predict(X_test)\n",
    "    \n",
    "    loss = mean_pinball_loss(y_test, y_pred, alpha=alpha)\n",
    "    \n",
    "    # Log the step, loss and alpha\n",
    "    logging.info(f\"Trial {trial.number} - Alpha: {alpha}, Loss: {loss}, Params: {trial.params}\")\n",
    "\n",
    "    # Report the loss for pruning\n",
    "    trial.report(loss, 0)\n",
    "\n",
    "    # Prune trial if needed\n",
    "    if trial.should_prune():\n",
    "        raise optuna.exceptions.TrialPruned()\n",
    "    \n",
    "    return loss\n",
    "\n"
   ]
  },
  {
   "cell_type": "code",
   "execution_count": 9,
   "metadata": {},
   "outputs": [
    {
     "name": "stderr",
     "output_type": "stream",
     "text": [
      "[I 2024-10-08 12:14:35,116] A new study created in memory with name: alpha_0.1\n",
      "INFO:root:Trial 0 - Alpha: 0.1, Loss: 10.274475614231271, Params: {'n_estimators': 220, 'max_depth': 5, 'learning_rate': 0.09347694659806383, 'min_samples_split': 25, 'min_samples_leaf': 6}\n",
      "[I 2024-10-08 12:14:35,680] Trial 0 finished with value: 10.274475614231271 and parameters: {'n_estimators': 220, 'max_depth': 5, 'learning_rate': 0.09347694659806383, 'min_samples_split': 25, 'min_samples_leaf': 6}. Best is trial 0 with value: 10.274475614231271.\n",
      "INFO:root:Trial 1 - Alpha: 0.1, Loss: 10.274475614231271, Params: {'n_estimators': 109, 'max_depth': 3, 'learning_rate': 0.017649090404394423, 'min_samples_split': 34, 'min_samples_leaf': 19}\n",
      "[I 2024-10-08 12:14:35,952] Trial 1 finished with value: 10.274475614231271 and parameters: {'n_estimators': 109, 'max_depth': 3, 'learning_rate': 0.017649090404394423, 'min_samples_split': 34, 'min_samples_leaf': 19}. Best is trial 0 with value: 10.274475614231271.\n",
      "INFO:root:Trial 2 - Alpha: 0.1, Loss: 10.274475614231271, Params: {'n_estimators': 108, 'max_depth': 13, 'learning_rate': 0.012823129025295725, 'min_samples_split': 30, 'min_samples_leaf': 20}\n",
      "[I 2024-10-08 12:14:36,207] Trial 2 finished with value: 10.274475614231271 and parameters: {'n_estimators': 108, 'max_depth': 13, 'learning_rate': 0.012823129025295725, 'min_samples_split': 30, 'min_samples_leaf': 20}. Best is trial 0 with value: 10.274475614231271.\n",
      "INFO:root:Trial 3 - Alpha: 0.1, Loss: 10.274475614231271, Params: {'n_estimators': 454, 'max_depth': 11, 'learning_rate': 0.061369777336849465, 'min_samples_split': 6, 'min_samples_leaf': 18}\n",
      "[I 2024-10-08 12:14:37,264] Trial 3 finished with value: 10.274475614231271 and parameters: {'n_estimators': 454, 'max_depth': 11, 'learning_rate': 0.061369777336849465, 'min_samples_split': 6, 'min_samples_leaf': 18}. Best is trial 0 with value: 10.274475614231271.\n",
      "INFO:root:Trial 4 - Alpha: 0.1, Loss: 10.274475614231271, Params: {'n_estimators': 176, 'max_depth': 18, 'learning_rate': 0.016548858912390704, 'min_samples_split': 33, 'min_samples_leaf': 17}\n",
      "[I 2024-10-08 12:14:37,672] Trial 4 finished with value: 10.274475614231271 and parameters: {'n_estimators': 176, 'max_depth': 18, 'learning_rate': 0.016548858912390704, 'min_samples_split': 33, 'min_samples_leaf': 17}. Best is trial 0 with value: 10.274475614231271.\n",
      "INFO:root:Trial 5 - Alpha: 0.1, Loss: 10.274475614231271, Params: {'n_estimators': 106, 'max_depth': 5, 'learning_rate': 0.02947747445307672, 'min_samples_split': 42, 'min_samples_leaf': 11}\n",
      "[I 2024-10-08 12:14:37,920] Trial 5 finished with value: 10.274475614231271 and parameters: {'n_estimators': 106, 'max_depth': 5, 'learning_rate': 0.02947747445307672, 'min_samples_split': 42, 'min_samples_leaf': 11}. Best is trial 0 with value: 10.274475614231271.\n",
      "INFO:root:Trial 6 - Alpha: 0.1, Loss: 10.274475614231271, Params: {'n_estimators': 204, 'max_depth': 8, 'learning_rate': 0.015910983905902617, 'min_samples_split': 19, 'min_samples_leaf': 17}\n",
      "[I 2024-10-08 12:14:38,388] Trial 6 finished with value: 10.274475614231271 and parameters: {'n_estimators': 204, 'max_depth': 8, 'learning_rate': 0.015910983905902617, 'min_samples_split': 19, 'min_samples_leaf': 17}. Best is trial 0 with value: 10.274475614231271.\n",
      "INFO:root:Trial 7 - Alpha: 0.1, Loss: 10.274475614231271, Params: {'n_estimators': 336, 'max_depth': 3, 'learning_rate': 0.017638583337917697, 'min_samples_split': 49, 'min_samples_leaf': 17}\n",
      "[I 2024-10-08 12:14:39,182] Trial 7 finished with value: 10.274475614231271 and parameters: {'n_estimators': 336, 'max_depth': 3, 'learning_rate': 0.017638583337917697, 'min_samples_split': 49, 'min_samples_leaf': 17}. Best is trial 0 with value: 10.274475614231271.\n",
      "INFO:root:Trial 8 - Alpha: 0.1, Loss: 10.274475614231271, Params: {'n_estimators': 742, 'max_depth': 15, 'learning_rate': 0.0678710758979044, 'min_samples_split': 4, 'min_samples_leaf': 2}\n",
      "[I 2024-10-08 12:14:40,862] Trial 8 finished with value: 10.274475614231271 and parameters: {'n_estimators': 742, 'max_depth': 15, 'learning_rate': 0.0678710758979044, 'min_samples_split': 4, 'min_samples_leaf': 2}. Best is trial 0 with value: 10.274475614231271.\n",
      "INFO:root:Trial 9 - Alpha: 0.1, Loss: 10.274475614231271, Params: {'n_estimators': 200, 'max_depth': 3, 'learning_rate': 0.011439764619064801, 'min_samples_split': 25, 'min_samples_leaf': 7}\n",
      "[I 2024-10-08 12:14:41,329] Trial 9 finished with value: 10.274475614231271 and parameters: {'n_estimators': 200, 'max_depth': 3, 'learning_rate': 0.011439764619064801, 'min_samples_split': 25, 'min_samples_leaf': 7}. Best is trial 0 with value: 10.274475614231271.\n",
      "INFO:root:Trial 10 - Alpha: 0.1, Loss: 10.274475614231271, Params: {'n_estimators': 883, 'max_depth': 8, 'learning_rate': 0.0991242640629058, 'min_samples_split': 15, 'min_samples_leaf': 2}\n",
      "[I 2024-10-08 12:14:43,410] Trial 10 finished with value: 10.274475614231271 and parameters: {'n_estimators': 883, 'max_depth': 8, 'learning_rate': 0.0991242640629058, 'min_samples_split': 15, 'min_samples_leaf': 2}. Best is trial 0 with value: 10.274475614231271.\n",
      "INFO:root:Trial 11 - Alpha: 0.1, Loss: 10.274475614231271, Params: {'n_estimators': 418, 'max_depth': 7, 'learning_rate': 0.028519286310346146, 'min_samples_split': 37, 'min_samples_leaf': 10}\n",
      "[I 2024-10-08 12:14:44,407] Trial 11 finished with value: 10.274475614231271 and parameters: {'n_estimators': 418, 'max_depth': 7, 'learning_rate': 0.028519286310346146, 'min_samples_split': 37, 'min_samples_leaf': 10}. Best is trial 0 with value: 10.274475614231271.\n",
      "INFO:root:Trial 12 - Alpha: 0.1, Loss: 10.274475614231271, Params: {'n_estimators': 610, 'max_depth': 6, 'learning_rate': 0.04381745148277939, 'min_samples_split': 22, 'min_samples_leaf': 6}\n",
      "[I 2024-10-08 12:14:45,889] Trial 12 finished with value: 10.274475614231271 and parameters: {'n_estimators': 610, 'max_depth': 6, 'learning_rate': 0.04381745148277939, 'min_samples_split': 22, 'min_samples_leaf': 6}. Best is trial 0 with value: 10.274475614231271.\n",
      "INFO:root:Trial 13 - Alpha: 0.1, Loss: 10.274475614231271, Params: {'n_estimators': 306, 'max_depth': 3, 'learning_rate': 0.0225907846774142, 'min_samples_split': 42, 'min_samples_leaf': 11}\n",
      "[I 2024-10-08 12:14:46,599] Trial 13 finished with value: 10.274475614231271 and parameters: {'n_estimators': 306, 'max_depth': 3, 'learning_rate': 0.0225907846774142, 'min_samples_split': 42, 'min_samples_leaf': 11}. Best is trial 0 with value: 10.274475614231271.\n",
      "INFO:root:Trial 14 - Alpha: 0.1, Loss: 10.274475614231271, Params: {'n_estimators': 589, 'max_depth': 10, 'learning_rate': 0.04900713703992836, 'min_samples_split': 15, 'min_samples_leaf': 14}\n",
      "[I 2024-10-08 12:14:47,954] Trial 14 finished with value: 10.274475614231271 and parameters: {'n_estimators': 589, 'max_depth': 10, 'learning_rate': 0.04900713703992836, 'min_samples_split': 15, 'min_samples_leaf': 14}. Best is trial 0 with value: 10.274475614231271.\n",
      "INFO:root:Trial 15 - Alpha: 0.1, Loss: 10.274475614231271, Params: {'n_estimators': 318, 'max_depth': 5, 'learning_rate': 0.09516490687548643, 'min_samples_split': 30, 'min_samples_leaf': 5}\n",
      "[I 2024-10-08 12:14:48,657] Trial 15 finished with value: 10.274475614231271 and parameters: {'n_estimators': 318, 'max_depth': 5, 'learning_rate': 0.09516490687548643, 'min_samples_split': 30, 'min_samples_leaf': 5}. Best is trial 0 with value: 10.274475614231271.\n",
      "INFO:root:Trial 16 - Alpha: 0.1, Loss: 10.274475614231271, Params: {'n_estimators': 255, 'max_depth': 20, 'learning_rate': 0.03615673214874577, 'min_samples_split': 37, 'min_samples_leaf': 14}\n",
      "[I 2024-10-08 12:14:49,261] Trial 16 finished with value: 10.274475614231271 and parameters: {'n_estimators': 255, 'max_depth': 20, 'learning_rate': 0.03615673214874577, 'min_samples_split': 37, 'min_samples_leaf': 14}. Best is trial 0 with value: 10.274475614231271.\n",
      "INFO:root:Trial 17 - Alpha: 0.1, Loss: 10.274475614231271, Params: {'n_estimators': 436, 'max_depth': 9, 'learning_rate': 0.022830363058866272, 'min_samples_split': 12, 'min_samples_leaf': 9}\n",
      "[I 2024-10-08 12:14:50,256] Trial 17 finished with value: 10.274475614231271 and parameters: {'n_estimators': 436, 'max_depth': 9, 'learning_rate': 0.022830363058866272, 'min_samples_split': 12, 'min_samples_leaf': 9}. Best is trial 0 with value: 10.274475614231271.\n",
      "INFO:root:Trial 18 - Alpha: 0.1, Loss: 10.274475614231271, Params: {'n_estimators': 982, 'max_depth': 13, 'learning_rate': 0.010079002879463894, 'min_samples_split': 25, 'min_samples_leaf': 4}\n",
      "[I 2024-10-08 12:14:52,537] Trial 18 finished with value: 10.274475614231271 and parameters: {'n_estimators': 982, 'max_depth': 13, 'learning_rate': 0.010079002879463894, 'min_samples_split': 25, 'min_samples_leaf': 4}. Best is trial 0 with value: 10.274475614231271.\n",
      "[W 2024-10-08 12:14:53,511] Trial 19 failed with parameters: {'n_estimators': 705, 'max_depth': 5, 'learning_rate': 0.07359339826355744, 'min_samples_split': 49, 'min_samples_leaf': 14} because of the following error: KeyboardInterrupt().\n",
      "Traceback (most recent call last):\n",
      "  File \"/Users/florian/Documents/github/DP2/Energy_production_price_prediction/dp2venv/lib/python3.12/site-packages/optuna/study/_optimize.py\", line 197, in _run_trial\n",
      "    value_or_values = func(trial)\n",
      "                      ^^^^^^^^^^^\n",
      "  File \"/var/folders/fm/5lbdpfj928d6sqhy_19cp6ww0000gn/T/ipykernel_11393/3402755176.py\", line 6, in <lambda>\n",
      "    study.optimize(lambda trial: objective(trial, alpha), n_trials=50)\n",
      "                                 ^^^^^^^^^^^^^^^^^^^^^^^\n",
      "  File \"/var/folders/fm/5lbdpfj928d6sqhy_19cp6ww0000gn/T/ipykernel_11393/342696250.py\", line 28, in objective\n",
      "    model.fit(X_train, y_train)\n",
      "  File \"/Users/florian/Documents/github/DP2/Energy_production_price_prediction/dp2venv/lib/python3.12/site-packages/sklearn/base.py\", line 1473, in wrapper\n",
      "    return fit_method(estimator, *args, **kwargs)\n",
      "           ^^^^^^^^^^^^^^^^^^^^^^^^^^^^^^^^^^^^^^\n",
      "  File \"/Users/florian/Documents/github/DP2/Energy_production_price_prediction/dp2venv/lib/python3.12/site-packages/sklearn/ensemble/_gb.py\", line 783, in fit\n",
      "    n_stages = self._fit_stages(\n",
      "               ^^^^^^^^^^^^^^^^^\n",
      "  File \"/Users/florian/Documents/github/DP2/Energy_production_price_prediction/dp2venv/lib/python3.12/site-packages/sklearn/ensemble/_gb.py\", line 879, in _fit_stages\n",
      "    raw_predictions = self._fit_stage(\n",
      "                      ^^^^^^^^^^^^^^^^\n",
      "  File \"/Users/florian/Documents/github/DP2/Energy_production_price_prediction/dp2venv/lib/python3.12/site-packages/sklearn/ensemble/_gb.py\", line 496, in _fit_stage\n",
      "    _update_terminal_regions(\n",
      "  File \"/Users/florian/Documents/github/DP2/Energy_production_price_prediction/dp2venv/lib/python3.12/site-packages/sklearn/ensemble/_gb.py\", line 256, in _update_terminal_regions\n",
      "    update = compute_update(y_, indices, neg_gradient, raw_prediction, k)\n",
      "             ^^^^^^^^^^^^^^^^^^^^^^^^^^^^^^^^^^^^^^^^^^^^^^^^^^^^^^^^^^^^\n",
      "  File \"/Users/florian/Documents/github/DP2/Energy_production_price_prediction/dp2venv/lib/python3.12/site-packages/sklearn/ensemble/_gb.py\", line 244, in compute_update\n",
      "    return loss.fit_intercept_only(\n",
      "           ^^^^^^^^^^^^^^^^^^^^^^^^\n",
      "  File \"/Users/florian/Documents/github/DP2/Energy_production_price_prediction/dp2venv/lib/python3.12/site-packages/sklearn/_loss/loss.py\", line 635, in fit_intercept_only\n",
      "    return _weighted_percentile(\n",
      "           ^^^^^^^^^^^^^^^^^^^^^\n",
      "  File \"/Users/florian/Documents/github/DP2/Energy_production_price_prediction/dp2venv/lib/python3.12/site-packages/sklearn/utils/stats.py\", line 40, in _weighted_percentile\n",
      "    sorted_idx = np.argsort(array, axis=0)\n",
      "                 ^^^^^^^^^^^^^^^^^^^^^^^^^\n",
      "  File \"/Users/florian/Documents/github/DP2/Energy_production_price_prediction/dp2venv/lib/python3.12/site-packages/numpy/_core/fromnumeric.py\", line 1260, in argsort\n",
      "    return _wrapfunc(\n",
      "           ^^^^^^^^^^\n",
      "  File \"/Users/florian/Documents/github/DP2/Energy_production_price_prediction/dp2venv/lib/python3.12/site-packages/numpy/_core/fromnumeric.py\", line 57, in _wrapfunc\n",
      "    return bound(*args, **kwds)\n",
      "           ^^^^^^^^^^^^^^^^^^^^\n",
      "KeyboardInterrupt\n",
      "[W 2024-10-08 12:14:53,522] Trial 19 failed with value None.\n"
     ]
    },
    {
     "ename": "KeyboardInterrupt",
     "evalue": "",
     "output_type": "error",
     "traceback": [
      "\u001b[0;31m---------------------------------------------------------------------------\u001b[0m",
      "\u001b[0;31mKeyboardInterrupt\u001b[0m                         Traceback (most recent call last)",
      "Cell \u001b[0;32mIn[9], line 6\u001b[0m\n\u001b[1;32m      4\u001b[0m \u001b[38;5;28;01mfor\u001b[39;00m alpha \u001b[38;5;129;01min\u001b[39;00m alphas:\n\u001b[1;32m      5\u001b[0m     study \u001b[38;5;241m=\u001b[39m optuna\u001b[38;5;241m.\u001b[39mcreate_study(direction\u001b[38;5;241m=\u001b[39m\u001b[38;5;124m\"\u001b[39m\u001b[38;5;124mminimize\u001b[39m\u001b[38;5;124m\"\u001b[39m, study_name\u001b[38;5;241m=\u001b[39m\u001b[38;5;124mf\u001b[39m\u001b[38;5;124m\"\u001b[39m\u001b[38;5;124malpha_\u001b[39m\u001b[38;5;132;01m{\u001b[39;00malpha\u001b[38;5;132;01m}\u001b[39;00m\u001b[38;5;124m\"\u001b[39m)\n\u001b[0;32m----> 6\u001b[0m     \u001b[43mstudy\u001b[49m\u001b[38;5;241;43m.\u001b[39;49m\u001b[43moptimize\u001b[49m\u001b[43m(\u001b[49m\u001b[38;5;28;43;01mlambda\u001b[39;49;00m\u001b[43m \u001b[49m\u001b[43mtrial\u001b[49m\u001b[43m:\u001b[49m\u001b[43m \u001b[49m\u001b[43mobjective\u001b[49m\u001b[43m(\u001b[49m\u001b[43mtrial\u001b[49m\u001b[43m,\u001b[49m\u001b[43m \u001b[49m\u001b[43malpha\u001b[49m\u001b[43m)\u001b[49m\u001b[43m,\u001b[49m\u001b[43m \u001b[49m\u001b[43mn_trials\u001b[49m\u001b[38;5;241;43m=\u001b[39;49m\u001b[38;5;241;43m50\u001b[39;49m\u001b[43m)\u001b[49m\n\u001b[1;32m      8\u001b[0m     logging\u001b[38;5;241m.\u001b[39minfo(\u001b[38;5;124mf\u001b[39m\u001b[38;5;124m\"\u001b[39m\u001b[38;5;124mBest trial for alpha \u001b[39m\u001b[38;5;132;01m{\u001b[39;00malpha\u001b[38;5;132;01m}\u001b[39;00m\u001b[38;5;124m:\u001b[39m\u001b[38;5;124m\"\u001b[39m)\n\u001b[1;32m      9\u001b[0m     trial \u001b[38;5;241m=\u001b[39m study\u001b[38;5;241m.\u001b[39mbest_trial\n",
      "File \u001b[0;32m~/Documents/github/DP2/Energy_production_price_prediction/dp2venv/lib/python3.12/site-packages/optuna/study/study.py:475\u001b[0m, in \u001b[0;36mStudy.optimize\u001b[0;34m(self, func, n_trials, timeout, n_jobs, catch, callbacks, gc_after_trial, show_progress_bar)\u001b[0m\n\u001b[1;32m    373\u001b[0m \u001b[38;5;28;01mdef\u001b[39;00m \u001b[38;5;21moptimize\u001b[39m(\n\u001b[1;32m    374\u001b[0m     \u001b[38;5;28mself\u001b[39m,\n\u001b[1;32m    375\u001b[0m     func: ObjectiveFuncType,\n\u001b[0;32m   (...)\u001b[0m\n\u001b[1;32m    382\u001b[0m     show_progress_bar: \u001b[38;5;28mbool\u001b[39m \u001b[38;5;241m=\u001b[39m \u001b[38;5;28;01mFalse\u001b[39;00m,\n\u001b[1;32m    383\u001b[0m ) \u001b[38;5;241m-\u001b[39m\u001b[38;5;241m>\u001b[39m \u001b[38;5;28;01mNone\u001b[39;00m:\n\u001b[1;32m    384\u001b[0m \u001b[38;5;250m    \u001b[39m\u001b[38;5;124;03m\"\"\"Optimize an objective function.\u001b[39;00m\n\u001b[1;32m    385\u001b[0m \n\u001b[1;32m    386\u001b[0m \u001b[38;5;124;03m    Optimization is done by choosing a suitable set of hyperparameter values from a given\u001b[39;00m\n\u001b[0;32m   (...)\u001b[0m\n\u001b[1;32m    473\u001b[0m \u001b[38;5;124;03m            If nested invocation of this method occurs.\u001b[39;00m\n\u001b[1;32m    474\u001b[0m \u001b[38;5;124;03m    \"\"\"\u001b[39;00m\n\u001b[0;32m--> 475\u001b[0m     \u001b[43m_optimize\u001b[49m\u001b[43m(\u001b[49m\n\u001b[1;32m    476\u001b[0m \u001b[43m        \u001b[49m\u001b[43mstudy\u001b[49m\u001b[38;5;241;43m=\u001b[39;49m\u001b[38;5;28;43mself\u001b[39;49m\u001b[43m,\u001b[49m\n\u001b[1;32m    477\u001b[0m \u001b[43m        \u001b[49m\u001b[43mfunc\u001b[49m\u001b[38;5;241;43m=\u001b[39;49m\u001b[43mfunc\u001b[49m\u001b[43m,\u001b[49m\n\u001b[1;32m    478\u001b[0m \u001b[43m        \u001b[49m\u001b[43mn_trials\u001b[49m\u001b[38;5;241;43m=\u001b[39;49m\u001b[43mn_trials\u001b[49m\u001b[43m,\u001b[49m\n\u001b[1;32m    479\u001b[0m \u001b[43m        \u001b[49m\u001b[43mtimeout\u001b[49m\u001b[38;5;241;43m=\u001b[39;49m\u001b[43mtimeout\u001b[49m\u001b[43m,\u001b[49m\n\u001b[1;32m    480\u001b[0m \u001b[43m        \u001b[49m\u001b[43mn_jobs\u001b[49m\u001b[38;5;241;43m=\u001b[39;49m\u001b[43mn_jobs\u001b[49m\u001b[43m,\u001b[49m\n\u001b[1;32m    481\u001b[0m \u001b[43m        \u001b[49m\u001b[43mcatch\u001b[49m\u001b[38;5;241;43m=\u001b[39;49m\u001b[38;5;28;43mtuple\u001b[39;49m\u001b[43m(\u001b[49m\u001b[43mcatch\u001b[49m\u001b[43m)\u001b[49m\u001b[43m \u001b[49m\u001b[38;5;28;43;01mif\u001b[39;49;00m\u001b[43m \u001b[49m\u001b[38;5;28;43misinstance\u001b[39;49m\u001b[43m(\u001b[49m\u001b[43mcatch\u001b[49m\u001b[43m,\u001b[49m\u001b[43m \u001b[49m\u001b[43mIterable\u001b[49m\u001b[43m)\u001b[49m\u001b[43m \u001b[49m\u001b[38;5;28;43;01melse\u001b[39;49;00m\u001b[43m \u001b[49m\u001b[43m(\u001b[49m\u001b[43mcatch\u001b[49m\u001b[43m,\u001b[49m\u001b[43m)\u001b[49m\u001b[43m,\u001b[49m\n\u001b[1;32m    482\u001b[0m \u001b[43m        \u001b[49m\u001b[43mcallbacks\u001b[49m\u001b[38;5;241;43m=\u001b[39;49m\u001b[43mcallbacks\u001b[49m\u001b[43m,\u001b[49m\n\u001b[1;32m    483\u001b[0m \u001b[43m        \u001b[49m\u001b[43mgc_after_trial\u001b[49m\u001b[38;5;241;43m=\u001b[39;49m\u001b[43mgc_after_trial\u001b[49m\u001b[43m,\u001b[49m\n\u001b[1;32m    484\u001b[0m \u001b[43m        \u001b[49m\u001b[43mshow_progress_bar\u001b[49m\u001b[38;5;241;43m=\u001b[39;49m\u001b[43mshow_progress_bar\u001b[49m\u001b[43m,\u001b[49m\n\u001b[1;32m    485\u001b[0m \u001b[43m    \u001b[49m\u001b[43m)\u001b[49m\n",
      "File \u001b[0;32m~/Documents/github/DP2/Energy_production_price_prediction/dp2venv/lib/python3.12/site-packages/optuna/study/_optimize.py:63\u001b[0m, in \u001b[0;36m_optimize\u001b[0;34m(study, func, n_trials, timeout, n_jobs, catch, callbacks, gc_after_trial, show_progress_bar)\u001b[0m\n\u001b[1;32m     61\u001b[0m \u001b[38;5;28;01mtry\u001b[39;00m:\n\u001b[1;32m     62\u001b[0m     \u001b[38;5;28;01mif\u001b[39;00m n_jobs \u001b[38;5;241m==\u001b[39m \u001b[38;5;241m1\u001b[39m:\n\u001b[0;32m---> 63\u001b[0m         \u001b[43m_optimize_sequential\u001b[49m\u001b[43m(\u001b[49m\n\u001b[1;32m     64\u001b[0m \u001b[43m            \u001b[49m\u001b[43mstudy\u001b[49m\u001b[43m,\u001b[49m\n\u001b[1;32m     65\u001b[0m \u001b[43m            \u001b[49m\u001b[43mfunc\u001b[49m\u001b[43m,\u001b[49m\n\u001b[1;32m     66\u001b[0m \u001b[43m            \u001b[49m\u001b[43mn_trials\u001b[49m\u001b[43m,\u001b[49m\n\u001b[1;32m     67\u001b[0m \u001b[43m            \u001b[49m\u001b[43mtimeout\u001b[49m\u001b[43m,\u001b[49m\n\u001b[1;32m     68\u001b[0m \u001b[43m            \u001b[49m\u001b[43mcatch\u001b[49m\u001b[43m,\u001b[49m\n\u001b[1;32m     69\u001b[0m \u001b[43m            \u001b[49m\u001b[43mcallbacks\u001b[49m\u001b[43m,\u001b[49m\n\u001b[1;32m     70\u001b[0m \u001b[43m            \u001b[49m\u001b[43mgc_after_trial\u001b[49m\u001b[43m,\u001b[49m\n\u001b[1;32m     71\u001b[0m \u001b[43m            \u001b[49m\u001b[43mreseed_sampler_rng\u001b[49m\u001b[38;5;241;43m=\u001b[39;49m\u001b[38;5;28;43;01mFalse\u001b[39;49;00m\u001b[43m,\u001b[49m\n\u001b[1;32m     72\u001b[0m \u001b[43m            \u001b[49m\u001b[43mtime_start\u001b[49m\u001b[38;5;241;43m=\u001b[39;49m\u001b[38;5;28;43;01mNone\u001b[39;49;00m\u001b[43m,\u001b[49m\n\u001b[1;32m     73\u001b[0m \u001b[43m            \u001b[49m\u001b[43mprogress_bar\u001b[49m\u001b[38;5;241;43m=\u001b[39;49m\u001b[43mprogress_bar\u001b[49m\u001b[43m,\u001b[49m\n\u001b[1;32m     74\u001b[0m \u001b[43m        \u001b[49m\u001b[43m)\u001b[49m\n\u001b[1;32m     75\u001b[0m     \u001b[38;5;28;01melse\u001b[39;00m:\n\u001b[1;32m     76\u001b[0m         \u001b[38;5;28;01mif\u001b[39;00m n_jobs \u001b[38;5;241m==\u001b[39m \u001b[38;5;241m-\u001b[39m\u001b[38;5;241m1\u001b[39m:\n",
      "File \u001b[0;32m~/Documents/github/DP2/Energy_production_price_prediction/dp2venv/lib/python3.12/site-packages/optuna/study/_optimize.py:160\u001b[0m, in \u001b[0;36m_optimize_sequential\u001b[0;34m(study, func, n_trials, timeout, catch, callbacks, gc_after_trial, reseed_sampler_rng, time_start, progress_bar)\u001b[0m\n\u001b[1;32m    157\u001b[0m         \u001b[38;5;28;01mbreak\u001b[39;00m\n\u001b[1;32m    159\u001b[0m \u001b[38;5;28;01mtry\u001b[39;00m:\n\u001b[0;32m--> 160\u001b[0m     frozen_trial \u001b[38;5;241m=\u001b[39m \u001b[43m_run_trial\u001b[49m\u001b[43m(\u001b[49m\u001b[43mstudy\u001b[49m\u001b[43m,\u001b[49m\u001b[43m \u001b[49m\u001b[43mfunc\u001b[49m\u001b[43m,\u001b[49m\u001b[43m \u001b[49m\u001b[43mcatch\u001b[49m\u001b[43m)\u001b[49m\n\u001b[1;32m    161\u001b[0m \u001b[38;5;28;01mfinally\u001b[39;00m:\n\u001b[1;32m    162\u001b[0m     \u001b[38;5;66;03m# The following line mitigates memory problems that can be occurred in some\u001b[39;00m\n\u001b[1;32m    163\u001b[0m     \u001b[38;5;66;03m# environments (e.g., services that use computing containers such as GitHub Actions).\u001b[39;00m\n\u001b[1;32m    164\u001b[0m     \u001b[38;5;66;03m# Please refer to the following PR for further details:\u001b[39;00m\n\u001b[1;32m    165\u001b[0m     \u001b[38;5;66;03m# https://github.com/optuna/optuna/pull/325.\u001b[39;00m\n\u001b[1;32m    166\u001b[0m     \u001b[38;5;28;01mif\u001b[39;00m gc_after_trial:\n",
      "File \u001b[0;32m~/Documents/github/DP2/Energy_production_price_prediction/dp2venv/lib/python3.12/site-packages/optuna/study/_optimize.py:248\u001b[0m, in \u001b[0;36m_run_trial\u001b[0;34m(study, func, catch)\u001b[0m\n\u001b[1;32m    241\u001b[0m         \u001b[38;5;28;01massert\u001b[39;00m \u001b[38;5;28;01mFalse\u001b[39;00m, \u001b[38;5;124m\"\u001b[39m\u001b[38;5;124mShould not reach.\u001b[39m\u001b[38;5;124m\"\u001b[39m\n\u001b[1;32m    243\u001b[0m \u001b[38;5;28;01mif\u001b[39;00m (\n\u001b[1;32m    244\u001b[0m     frozen_trial\u001b[38;5;241m.\u001b[39mstate \u001b[38;5;241m==\u001b[39m TrialState\u001b[38;5;241m.\u001b[39mFAIL\n\u001b[1;32m    245\u001b[0m     \u001b[38;5;129;01mand\u001b[39;00m func_err \u001b[38;5;129;01mis\u001b[39;00m \u001b[38;5;129;01mnot\u001b[39;00m \u001b[38;5;28;01mNone\u001b[39;00m\n\u001b[1;32m    246\u001b[0m     \u001b[38;5;129;01mand\u001b[39;00m \u001b[38;5;129;01mnot\u001b[39;00m \u001b[38;5;28misinstance\u001b[39m(func_err, catch)\n\u001b[1;32m    247\u001b[0m ):\n\u001b[0;32m--> 248\u001b[0m     \u001b[38;5;28;01mraise\u001b[39;00m func_err\n\u001b[1;32m    249\u001b[0m \u001b[38;5;28;01mreturn\u001b[39;00m frozen_trial\n",
      "File \u001b[0;32m~/Documents/github/DP2/Energy_production_price_prediction/dp2venv/lib/python3.12/site-packages/optuna/study/_optimize.py:197\u001b[0m, in \u001b[0;36m_run_trial\u001b[0;34m(study, func, catch)\u001b[0m\n\u001b[1;32m    195\u001b[0m \u001b[38;5;28;01mwith\u001b[39;00m get_heartbeat_thread(trial\u001b[38;5;241m.\u001b[39m_trial_id, study\u001b[38;5;241m.\u001b[39m_storage):\n\u001b[1;32m    196\u001b[0m     \u001b[38;5;28;01mtry\u001b[39;00m:\n\u001b[0;32m--> 197\u001b[0m         value_or_values \u001b[38;5;241m=\u001b[39m \u001b[43mfunc\u001b[49m\u001b[43m(\u001b[49m\u001b[43mtrial\u001b[49m\u001b[43m)\u001b[49m\n\u001b[1;32m    198\u001b[0m     \u001b[38;5;28;01mexcept\u001b[39;00m exceptions\u001b[38;5;241m.\u001b[39mTrialPruned \u001b[38;5;28;01mas\u001b[39;00m e:\n\u001b[1;32m    199\u001b[0m         \u001b[38;5;66;03m# TODO(mamu): Handle multi-objective cases.\u001b[39;00m\n\u001b[1;32m    200\u001b[0m         state \u001b[38;5;241m=\u001b[39m TrialState\u001b[38;5;241m.\u001b[39mPRUNED\n",
      "Cell \u001b[0;32mIn[9], line 6\u001b[0m, in \u001b[0;36m<lambda>\u001b[0;34m(trial)\u001b[0m\n\u001b[1;32m      4\u001b[0m \u001b[38;5;28;01mfor\u001b[39;00m alpha \u001b[38;5;129;01min\u001b[39;00m alphas:\n\u001b[1;32m      5\u001b[0m     study \u001b[38;5;241m=\u001b[39m optuna\u001b[38;5;241m.\u001b[39mcreate_study(direction\u001b[38;5;241m=\u001b[39m\u001b[38;5;124m\"\u001b[39m\u001b[38;5;124mminimize\u001b[39m\u001b[38;5;124m\"\u001b[39m, study_name\u001b[38;5;241m=\u001b[39m\u001b[38;5;124mf\u001b[39m\u001b[38;5;124m\"\u001b[39m\u001b[38;5;124malpha_\u001b[39m\u001b[38;5;132;01m{\u001b[39;00malpha\u001b[38;5;132;01m}\u001b[39;00m\u001b[38;5;124m\"\u001b[39m)\n\u001b[0;32m----> 6\u001b[0m     study\u001b[38;5;241m.\u001b[39moptimize(\u001b[38;5;28;01mlambda\u001b[39;00m trial: \u001b[43mobjective\u001b[49m\u001b[43m(\u001b[49m\u001b[43mtrial\u001b[49m\u001b[43m,\u001b[49m\u001b[43m \u001b[49m\u001b[43malpha\u001b[49m\u001b[43m)\u001b[49m, n_trials\u001b[38;5;241m=\u001b[39m\u001b[38;5;241m50\u001b[39m)\n\u001b[1;32m      8\u001b[0m     logging\u001b[38;5;241m.\u001b[39minfo(\u001b[38;5;124mf\u001b[39m\u001b[38;5;124m\"\u001b[39m\u001b[38;5;124mBest trial for alpha \u001b[39m\u001b[38;5;132;01m{\u001b[39;00malpha\u001b[38;5;132;01m}\u001b[39;00m\u001b[38;5;124m:\u001b[39m\u001b[38;5;124m\"\u001b[39m)\n\u001b[1;32m      9\u001b[0m     trial \u001b[38;5;241m=\u001b[39m study\u001b[38;5;241m.\u001b[39mbest_trial\n",
      "Cell \u001b[0;32mIn[8], line 28\u001b[0m, in \u001b[0;36mobjective\u001b[0;34m(trial, alpha)\u001b[0m\n\u001b[1;32m     15\u001b[0m min_samples_leaf \u001b[38;5;241m=\u001b[39m trial\u001b[38;5;241m.\u001b[39msuggest_int(\u001b[38;5;124m\"\u001b[39m\u001b[38;5;124mmin_samples_leaf\u001b[39m\u001b[38;5;124m\"\u001b[39m, \u001b[38;5;241m1\u001b[39m, \u001b[38;5;241m20\u001b[39m)\n\u001b[1;32m     17\u001b[0m model \u001b[38;5;241m=\u001b[39m GradientBoostingRegressor(\n\u001b[1;32m     18\u001b[0m     loss\u001b[38;5;241m=\u001b[39m\u001b[38;5;124m\"\u001b[39m\u001b[38;5;124mquantile\u001b[39m\u001b[38;5;124m\"\u001b[39m,\n\u001b[1;32m     19\u001b[0m     alpha\u001b[38;5;241m=\u001b[39malpha,\n\u001b[0;32m   (...)\u001b[0m\n\u001b[1;32m     25\u001b[0m     random_state\u001b[38;5;241m=\u001b[39m\u001b[38;5;241m0\u001b[39m\n\u001b[1;32m     26\u001b[0m )\n\u001b[0;32m---> 28\u001b[0m \u001b[43mmodel\u001b[49m\u001b[38;5;241;43m.\u001b[39;49m\u001b[43mfit\u001b[49m\u001b[43m(\u001b[49m\u001b[43mX_train\u001b[49m\u001b[43m,\u001b[49m\u001b[43m \u001b[49m\u001b[43my_train\u001b[49m\u001b[43m)\u001b[49m\n\u001b[1;32m     30\u001b[0m y_pred \u001b[38;5;241m=\u001b[39m model\u001b[38;5;241m.\u001b[39mpredict(X_test)\n\u001b[1;32m     32\u001b[0m loss \u001b[38;5;241m=\u001b[39m mean_pinball_loss(y_test, y_pred, alpha\u001b[38;5;241m=\u001b[39malpha)\n",
      "File \u001b[0;32m~/Documents/github/DP2/Energy_production_price_prediction/dp2venv/lib/python3.12/site-packages/sklearn/base.py:1473\u001b[0m, in \u001b[0;36m_fit_context.<locals>.decorator.<locals>.wrapper\u001b[0;34m(estimator, *args, **kwargs)\u001b[0m\n\u001b[1;32m   1466\u001b[0m     estimator\u001b[38;5;241m.\u001b[39m_validate_params()\n\u001b[1;32m   1468\u001b[0m \u001b[38;5;28;01mwith\u001b[39;00m config_context(\n\u001b[1;32m   1469\u001b[0m     skip_parameter_validation\u001b[38;5;241m=\u001b[39m(\n\u001b[1;32m   1470\u001b[0m         prefer_skip_nested_validation \u001b[38;5;129;01mor\u001b[39;00m global_skip_validation\n\u001b[1;32m   1471\u001b[0m     )\n\u001b[1;32m   1472\u001b[0m ):\n\u001b[0;32m-> 1473\u001b[0m     \u001b[38;5;28;01mreturn\u001b[39;00m \u001b[43mfit_method\u001b[49m\u001b[43m(\u001b[49m\u001b[43mestimator\u001b[49m\u001b[43m,\u001b[49m\u001b[43m \u001b[49m\u001b[38;5;241;43m*\u001b[39;49m\u001b[43margs\u001b[49m\u001b[43m,\u001b[49m\u001b[43m \u001b[49m\u001b[38;5;241;43m*\u001b[39;49m\u001b[38;5;241;43m*\u001b[39;49m\u001b[43mkwargs\u001b[49m\u001b[43m)\u001b[49m\n",
      "File \u001b[0;32m~/Documents/github/DP2/Energy_production_price_prediction/dp2venv/lib/python3.12/site-packages/sklearn/ensemble/_gb.py:783\u001b[0m, in \u001b[0;36mBaseGradientBoosting.fit\u001b[0;34m(self, X, y, sample_weight, monitor)\u001b[0m\n\u001b[1;32m    780\u001b[0m     \u001b[38;5;28mself\u001b[39m\u001b[38;5;241m.\u001b[39m_resize_state()\n\u001b[1;32m    782\u001b[0m \u001b[38;5;66;03m# fit the boosting stages\u001b[39;00m\n\u001b[0;32m--> 783\u001b[0m n_stages \u001b[38;5;241m=\u001b[39m \u001b[38;5;28;43mself\u001b[39;49m\u001b[38;5;241;43m.\u001b[39;49m\u001b[43m_fit_stages\u001b[49m\u001b[43m(\u001b[49m\n\u001b[1;32m    784\u001b[0m \u001b[43m    \u001b[49m\u001b[43mX_train\u001b[49m\u001b[43m,\u001b[49m\n\u001b[1;32m    785\u001b[0m \u001b[43m    \u001b[49m\u001b[43my_train\u001b[49m\u001b[43m,\u001b[49m\n\u001b[1;32m    786\u001b[0m \u001b[43m    \u001b[49m\u001b[43mraw_predictions\u001b[49m\u001b[43m,\u001b[49m\n\u001b[1;32m    787\u001b[0m \u001b[43m    \u001b[49m\u001b[43msample_weight_train\u001b[49m\u001b[43m,\u001b[49m\n\u001b[1;32m    788\u001b[0m \u001b[43m    \u001b[49m\u001b[38;5;28;43mself\u001b[39;49m\u001b[38;5;241;43m.\u001b[39;49m\u001b[43m_rng\u001b[49m\u001b[43m,\u001b[49m\n\u001b[1;32m    789\u001b[0m \u001b[43m    \u001b[49m\u001b[43mX_val\u001b[49m\u001b[43m,\u001b[49m\n\u001b[1;32m    790\u001b[0m \u001b[43m    \u001b[49m\u001b[43my_val\u001b[49m\u001b[43m,\u001b[49m\n\u001b[1;32m    791\u001b[0m \u001b[43m    \u001b[49m\u001b[43msample_weight_val\u001b[49m\u001b[43m,\u001b[49m\n\u001b[1;32m    792\u001b[0m \u001b[43m    \u001b[49m\u001b[43mbegin_at_stage\u001b[49m\u001b[43m,\u001b[49m\n\u001b[1;32m    793\u001b[0m \u001b[43m    \u001b[49m\u001b[43mmonitor\u001b[49m\u001b[43m,\u001b[49m\n\u001b[1;32m    794\u001b[0m \u001b[43m\u001b[49m\u001b[43m)\u001b[49m\n\u001b[1;32m    796\u001b[0m \u001b[38;5;66;03m# change shape of arrays after fit (early-stopping or additional ests)\u001b[39;00m\n\u001b[1;32m    797\u001b[0m \u001b[38;5;28;01mif\u001b[39;00m n_stages \u001b[38;5;241m!=\u001b[39m \u001b[38;5;28mself\u001b[39m\u001b[38;5;241m.\u001b[39mestimators_\u001b[38;5;241m.\u001b[39mshape[\u001b[38;5;241m0\u001b[39m]:\n",
      "File \u001b[0;32m~/Documents/github/DP2/Energy_production_price_prediction/dp2venv/lib/python3.12/site-packages/sklearn/ensemble/_gb.py:879\u001b[0m, in \u001b[0;36mBaseGradientBoosting._fit_stages\u001b[0;34m(self, X, y, raw_predictions, sample_weight, random_state, X_val, y_val, sample_weight_val, begin_at_stage, monitor)\u001b[0m\n\u001b[1;32m    872\u001b[0m         initial_loss \u001b[38;5;241m=\u001b[39m factor \u001b[38;5;241m*\u001b[39m \u001b[38;5;28mself\u001b[39m\u001b[38;5;241m.\u001b[39m_loss(\n\u001b[1;32m    873\u001b[0m             y_true\u001b[38;5;241m=\u001b[39my_oob_masked,\n\u001b[1;32m    874\u001b[0m             raw_prediction\u001b[38;5;241m=\u001b[39mraw_predictions[\u001b[38;5;241m~\u001b[39msample_mask],\n\u001b[1;32m    875\u001b[0m             sample_weight\u001b[38;5;241m=\u001b[39msample_weight_oob_masked,\n\u001b[1;32m    876\u001b[0m         )\n\u001b[1;32m    878\u001b[0m \u001b[38;5;66;03m# fit next stage of trees\u001b[39;00m\n\u001b[0;32m--> 879\u001b[0m raw_predictions \u001b[38;5;241m=\u001b[39m \u001b[38;5;28;43mself\u001b[39;49m\u001b[38;5;241;43m.\u001b[39;49m\u001b[43m_fit_stage\u001b[49m\u001b[43m(\u001b[49m\n\u001b[1;32m    880\u001b[0m \u001b[43m    \u001b[49m\u001b[43mi\u001b[49m\u001b[43m,\u001b[49m\n\u001b[1;32m    881\u001b[0m \u001b[43m    \u001b[49m\u001b[43mX\u001b[49m\u001b[43m,\u001b[49m\n\u001b[1;32m    882\u001b[0m \u001b[43m    \u001b[49m\u001b[43my\u001b[49m\u001b[43m,\u001b[49m\n\u001b[1;32m    883\u001b[0m \u001b[43m    \u001b[49m\u001b[43mraw_predictions\u001b[49m\u001b[43m,\u001b[49m\n\u001b[1;32m    884\u001b[0m \u001b[43m    \u001b[49m\u001b[43msample_weight\u001b[49m\u001b[43m,\u001b[49m\n\u001b[1;32m    885\u001b[0m \u001b[43m    \u001b[49m\u001b[43msample_mask\u001b[49m\u001b[43m,\u001b[49m\n\u001b[1;32m    886\u001b[0m \u001b[43m    \u001b[49m\u001b[43mrandom_state\u001b[49m\u001b[43m,\u001b[49m\n\u001b[1;32m    887\u001b[0m \u001b[43m    \u001b[49m\u001b[43mX_csc\u001b[49m\u001b[38;5;241;43m=\u001b[39;49m\u001b[43mX_csc\u001b[49m\u001b[43m,\u001b[49m\n\u001b[1;32m    888\u001b[0m \u001b[43m    \u001b[49m\u001b[43mX_csr\u001b[49m\u001b[38;5;241;43m=\u001b[39;49m\u001b[43mX_csr\u001b[49m\u001b[43m,\u001b[49m\n\u001b[1;32m    889\u001b[0m \u001b[43m\u001b[49m\u001b[43m)\u001b[49m\n\u001b[1;32m    891\u001b[0m \u001b[38;5;66;03m# track loss\u001b[39;00m\n\u001b[1;32m    892\u001b[0m \u001b[38;5;28;01mif\u001b[39;00m do_oob:\n",
      "File \u001b[0;32m~/Documents/github/DP2/Energy_production_price_prediction/dp2venv/lib/python3.12/site-packages/sklearn/ensemble/_gb.py:496\u001b[0m, in \u001b[0;36mBaseGradientBoosting._fit_stage\u001b[0;34m(self, i, X, y, raw_predictions, sample_weight, sample_mask, random_state, X_csc, X_csr)\u001b[0m\n\u001b[1;32m    494\u001b[0m \u001b[38;5;66;03m# update tree leaves\u001b[39;00m\n\u001b[1;32m    495\u001b[0m X_for_tree_update \u001b[38;5;241m=\u001b[39m X_csr \u001b[38;5;28;01mif\u001b[39;00m X_csr \u001b[38;5;129;01mis\u001b[39;00m \u001b[38;5;129;01mnot\u001b[39;00m \u001b[38;5;28;01mNone\u001b[39;00m \u001b[38;5;28;01melse\u001b[39;00m X\n\u001b[0;32m--> 496\u001b[0m \u001b[43m_update_terminal_regions\u001b[49m\u001b[43m(\u001b[49m\n\u001b[1;32m    497\u001b[0m \u001b[43m    \u001b[49m\u001b[38;5;28;43mself\u001b[39;49m\u001b[38;5;241;43m.\u001b[39;49m\u001b[43m_loss\u001b[49m\u001b[43m,\u001b[49m\n\u001b[1;32m    498\u001b[0m \u001b[43m    \u001b[49m\u001b[43mtree\u001b[49m\u001b[38;5;241;43m.\u001b[39;49m\u001b[43mtree_\u001b[49m\u001b[43m,\u001b[49m\n\u001b[1;32m    499\u001b[0m \u001b[43m    \u001b[49m\u001b[43mX_for_tree_update\u001b[49m\u001b[43m,\u001b[49m\n\u001b[1;32m    500\u001b[0m \u001b[43m    \u001b[49m\u001b[43my\u001b[49m\u001b[43m,\u001b[49m\n\u001b[1;32m    501\u001b[0m \u001b[43m    \u001b[49m\u001b[43mneg_g_view\u001b[49m\u001b[43m[\u001b[49m\u001b[43m:\u001b[49m\u001b[43m,\u001b[49m\u001b[43m \u001b[49m\u001b[43mk\u001b[49m\u001b[43m]\u001b[49m\u001b[43m,\u001b[49m\n\u001b[1;32m    502\u001b[0m \u001b[43m    \u001b[49m\u001b[43mraw_predictions\u001b[49m\u001b[43m,\u001b[49m\n\u001b[1;32m    503\u001b[0m \u001b[43m    \u001b[49m\u001b[43msample_weight\u001b[49m\u001b[43m,\u001b[49m\n\u001b[1;32m    504\u001b[0m \u001b[43m    \u001b[49m\u001b[43msample_mask\u001b[49m\u001b[43m,\u001b[49m\n\u001b[1;32m    505\u001b[0m \u001b[43m    \u001b[49m\u001b[43mlearning_rate\u001b[49m\u001b[38;5;241;43m=\u001b[39;49m\u001b[38;5;28;43mself\u001b[39;49m\u001b[38;5;241;43m.\u001b[39;49m\u001b[43mlearning_rate\u001b[49m\u001b[43m,\u001b[49m\n\u001b[1;32m    506\u001b[0m \u001b[43m    \u001b[49m\u001b[43mk\u001b[49m\u001b[38;5;241;43m=\u001b[39;49m\u001b[43mk\u001b[49m\u001b[43m,\u001b[49m\n\u001b[1;32m    507\u001b[0m \u001b[43m\u001b[49m\u001b[43m)\u001b[49m\n\u001b[1;32m    509\u001b[0m \u001b[38;5;66;03m# add tree to ensemble\u001b[39;00m\n\u001b[1;32m    510\u001b[0m \u001b[38;5;28mself\u001b[39m\u001b[38;5;241m.\u001b[39mestimators_[i, k] \u001b[38;5;241m=\u001b[39m tree\n",
      "File \u001b[0;32m~/Documents/github/DP2/Energy_production_price_prediction/dp2venv/lib/python3.12/site-packages/sklearn/ensemble/_gb.py:256\u001b[0m, in \u001b[0;36m_update_terminal_regions\u001b[0;34m(loss, tree, X, y, neg_gradient, raw_prediction, sample_weight, sample_mask, learning_rate, k)\u001b[0m\n\u001b[1;32m    254\u001b[0m y_ \u001b[38;5;241m=\u001b[39m y\u001b[38;5;241m.\u001b[39mtake(indices, axis\u001b[38;5;241m=\u001b[39m\u001b[38;5;241m0\u001b[39m)\n\u001b[1;32m    255\u001b[0m sw \u001b[38;5;241m=\u001b[39m \u001b[38;5;28;01mNone\u001b[39;00m \u001b[38;5;28;01mif\u001b[39;00m sample_weight \u001b[38;5;129;01mis\u001b[39;00m \u001b[38;5;28;01mNone\u001b[39;00m \u001b[38;5;28;01melse\u001b[39;00m sample_weight[indices]\n\u001b[0;32m--> 256\u001b[0m update \u001b[38;5;241m=\u001b[39m \u001b[43mcompute_update\u001b[49m\u001b[43m(\u001b[49m\u001b[43my_\u001b[49m\u001b[43m,\u001b[49m\u001b[43m \u001b[49m\u001b[43mindices\u001b[49m\u001b[43m,\u001b[49m\u001b[43m \u001b[49m\u001b[43mneg_gradient\u001b[49m\u001b[43m,\u001b[49m\u001b[43m \u001b[49m\u001b[43mraw_prediction\u001b[49m\u001b[43m,\u001b[49m\u001b[43m \u001b[49m\u001b[43mk\u001b[49m\u001b[43m)\u001b[49m\n\u001b[1;32m    258\u001b[0m \u001b[38;5;66;03m# TODO: Multiply here by learning rate instead of everywhere else.\u001b[39;00m\n\u001b[1;32m    259\u001b[0m tree\u001b[38;5;241m.\u001b[39mvalue[leaf, \u001b[38;5;241m0\u001b[39m, \u001b[38;5;241m0\u001b[39m] \u001b[38;5;241m=\u001b[39m update\n",
      "File \u001b[0;32m~/Documents/github/DP2/Energy_production_price_prediction/dp2venv/lib/python3.12/site-packages/sklearn/ensemble/_gb.py:244\u001b[0m, in \u001b[0;36m_update_terminal_regions.<locals>.compute_update\u001b[0;34m(y_, indices, neg_gradient, raw_prediction, k)\u001b[0m\n\u001b[1;32m    243\u001b[0m \u001b[38;5;28;01mdef\u001b[39;00m \u001b[38;5;21mcompute_update\u001b[39m(y_, indices, neg_gradient, raw_prediction, k):\n\u001b[0;32m--> 244\u001b[0m     \u001b[38;5;28;01mreturn\u001b[39;00m \u001b[43mloss\u001b[49m\u001b[38;5;241;43m.\u001b[39;49m\u001b[43mfit_intercept_only\u001b[49m\u001b[43m(\u001b[49m\n\u001b[1;32m    245\u001b[0m \u001b[43m        \u001b[49m\u001b[43my_true\u001b[49m\u001b[38;5;241;43m=\u001b[39;49m\u001b[43my_\u001b[49m\u001b[43m \u001b[49m\u001b[38;5;241;43m-\u001b[39;49m\u001b[43m \u001b[49m\u001b[43mraw_prediction\u001b[49m\u001b[43m[\u001b[49m\u001b[43mindices\u001b[49m\u001b[43m,\u001b[49m\u001b[43m \u001b[49m\u001b[43mk\u001b[49m\u001b[43m]\u001b[49m\u001b[43m,\u001b[49m\n\u001b[1;32m    246\u001b[0m \u001b[43m        \u001b[49m\u001b[43msample_weight\u001b[49m\u001b[38;5;241;43m=\u001b[39;49m\u001b[43msw\u001b[49m\u001b[43m,\u001b[49m\n\u001b[1;32m    247\u001b[0m \u001b[43m    \u001b[49m\u001b[43m)\u001b[49m\n",
      "File \u001b[0;32m~/Documents/github/DP2/Energy_production_price_prediction/dp2venv/lib/python3.12/site-packages/sklearn/_loss/loss.py:635\u001b[0m, in \u001b[0;36mPinballLoss.fit_intercept_only\u001b[0;34m(self, y_true, sample_weight)\u001b[0m\n\u001b[1;32m    633\u001b[0m     \u001b[38;5;28;01mreturn\u001b[39;00m np\u001b[38;5;241m.\u001b[39mpercentile(y_true, \u001b[38;5;241m100\u001b[39m \u001b[38;5;241m*\u001b[39m \u001b[38;5;28mself\u001b[39m\u001b[38;5;241m.\u001b[39mcloss\u001b[38;5;241m.\u001b[39mquantile, axis\u001b[38;5;241m=\u001b[39m\u001b[38;5;241m0\u001b[39m)\n\u001b[1;32m    634\u001b[0m \u001b[38;5;28;01melse\u001b[39;00m:\n\u001b[0;32m--> 635\u001b[0m     \u001b[38;5;28;01mreturn\u001b[39;00m \u001b[43m_weighted_percentile\u001b[49m\u001b[43m(\u001b[49m\n\u001b[1;32m    636\u001b[0m \u001b[43m        \u001b[49m\u001b[43my_true\u001b[49m\u001b[43m,\u001b[49m\u001b[43m \u001b[49m\u001b[43msample_weight\u001b[49m\u001b[43m,\u001b[49m\u001b[43m \u001b[49m\u001b[38;5;241;43m100\u001b[39;49m\u001b[43m \u001b[49m\u001b[38;5;241;43m*\u001b[39;49m\u001b[43m \u001b[49m\u001b[38;5;28;43mself\u001b[39;49m\u001b[38;5;241;43m.\u001b[39;49m\u001b[43mcloss\u001b[49m\u001b[38;5;241;43m.\u001b[39;49m\u001b[43mquantile\u001b[49m\n\u001b[1;32m    637\u001b[0m \u001b[43m    \u001b[49m\u001b[43m)\u001b[49m\n",
      "File \u001b[0;32m~/Documents/github/DP2/Energy_production_price_prediction/dp2venv/lib/python3.12/site-packages/sklearn/utils/stats.py:40\u001b[0m, in \u001b[0;36m_weighted_percentile\u001b[0;34m(array, sample_weight, percentile)\u001b[0m\n\u001b[1;32m     38\u001b[0m \u001b[38;5;28;01mif\u001b[39;00m array\u001b[38;5;241m.\u001b[39mshape \u001b[38;5;241m!=\u001b[39m sample_weight\u001b[38;5;241m.\u001b[39mshape \u001b[38;5;129;01mand\u001b[39;00m array\u001b[38;5;241m.\u001b[39mshape[\u001b[38;5;241m0\u001b[39m] \u001b[38;5;241m==\u001b[39m sample_weight\u001b[38;5;241m.\u001b[39mshape[\u001b[38;5;241m0\u001b[39m]:\n\u001b[1;32m     39\u001b[0m     sample_weight \u001b[38;5;241m=\u001b[39m np\u001b[38;5;241m.\u001b[39mtile(sample_weight, (array\u001b[38;5;241m.\u001b[39mshape[\u001b[38;5;241m1\u001b[39m], \u001b[38;5;241m1\u001b[39m))\u001b[38;5;241m.\u001b[39mT\n\u001b[0;32m---> 40\u001b[0m sorted_idx \u001b[38;5;241m=\u001b[39m \u001b[43mnp\u001b[49m\u001b[38;5;241;43m.\u001b[39;49m\u001b[43margsort\u001b[49m\u001b[43m(\u001b[49m\u001b[43marray\u001b[49m\u001b[43m,\u001b[49m\u001b[43m \u001b[49m\u001b[43maxis\u001b[49m\u001b[38;5;241;43m=\u001b[39;49m\u001b[38;5;241;43m0\u001b[39;49m\u001b[43m)\u001b[49m\n\u001b[1;32m     41\u001b[0m sorted_weights \u001b[38;5;241m=\u001b[39m np\u001b[38;5;241m.\u001b[39mtake_along_axis(sample_weight, sorted_idx, axis\u001b[38;5;241m=\u001b[39m\u001b[38;5;241m0\u001b[39m)\n\u001b[1;32m     43\u001b[0m \u001b[38;5;66;03m# Find index of median prediction for each sample\u001b[39;00m\n",
      "File \u001b[0;32m~/Documents/github/DP2/Energy_production_price_prediction/dp2venv/lib/python3.12/site-packages/numpy/_core/fromnumeric.py:1260\u001b[0m, in \u001b[0;36margsort\u001b[0;34m(a, axis, kind, order, stable)\u001b[0m\n\u001b[1;32m   1144\u001b[0m \u001b[38;5;129m@array_function_dispatch\u001b[39m(_argsort_dispatcher)\n\u001b[1;32m   1145\u001b[0m \u001b[38;5;28;01mdef\u001b[39;00m \u001b[38;5;21margsort\u001b[39m(a, axis\u001b[38;5;241m=\u001b[39m\u001b[38;5;241m-\u001b[39m\u001b[38;5;241m1\u001b[39m, kind\u001b[38;5;241m=\u001b[39m\u001b[38;5;28;01mNone\u001b[39;00m, order\u001b[38;5;241m=\u001b[39m\u001b[38;5;28;01mNone\u001b[39;00m, \u001b[38;5;241m*\u001b[39m, stable\u001b[38;5;241m=\u001b[39m\u001b[38;5;28;01mNone\u001b[39;00m):\n\u001b[1;32m   1146\u001b[0m \u001b[38;5;250m    \u001b[39m\u001b[38;5;124;03m\"\"\"\u001b[39;00m\n\u001b[1;32m   1147\u001b[0m \u001b[38;5;124;03m    Returns the indices that would sort an array.\u001b[39;00m\n\u001b[1;32m   1148\u001b[0m \n\u001b[0;32m   (...)\u001b[0m\n\u001b[1;32m   1258\u001b[0m \n\u001b[1;32m   1259\u001b[0m \u001b[38;5;124;03m    \"\"\"\u001b[39;00m\n\u001b[0;32m-> 1260\u001b[0m     \u001b[38;5;28;01mreturn\u001b[39;00m \u001b[43m_wrapfunc\u001b[49m\u001b[43m(\u001b[49m\n\u001b[1;32m   1261\u001b[0m \u001b[43m        \u001b[49m\u001b[43ma\u001b[49m\u001b[43m,\u001b[49m\u001b[43m \u001b[49m\u001b[38;5;124;43m'\u001b[39;49m\u001b[38;5;124;43margsort\u001b[39;49m\u001b[38;5;124;43m'\u001b[39;49m\u001b[43m,\u001b[49m\u001b[43m \u001b[49m\u001b[43maxis\u001b[49m\u001b[38;5;241;43m=\u001b[39;49m\u001b[43maxis\u001b[49m\u001b[43m,\u001b[49m\u001b[43m \u001b[49m\u001b[43mkind\u001b[49m\u001b[38;5;241;43m=\u001b[39;49m\u001b[43mkind\u001b[49m\u001b[43m,\u001b[49m\u001b[43m \u001b[49m\u001b[43morder\u001b[49m\u001b[38;5;241;43m=\u001b[39;49m\u001b[43morder\u001b[49m\u001b[43m,\u001b[49m\u001b[43m \u001b[49m\u001b[43mstable\u001b[49m\u001b[38;5;241;43m=\u001b[39;49m\u001b[43mstable\u001b[49m\n\u001b[1;32m   1262\u001b[0m \u001b[43m    \u001b[49m\u001b[43m)\u001b[49m\n",
      "File \u001b[0;32m~/Documents/github/DP2/Energy_production_price_prediction/dp2venv/lib/python3.12/site-packages/numpy/_core/fromnumeric.py:57\u001b[0m, in \u001b[0;36m_wrapfunc\u001b[0;34m(obj, method, *args, **kwds)\u001b[0m\n\u001b[1;32m     54\u001b[0m     \u001b[38;5;28;01mreturn\u001b[39;00m _wrapit(obj, method, \u001b[38;5;241m*\u001b[39margs, \u001b[38;5;241m*\u001b[39m\u001b[38;5;241m*\u001b[39mkwds)\n\u001b[1;32m     56\u001b[0m \u001b[38;5;28;01mtry\u001b[39;00m:\n\u001b[0;32m---> 57\u001b[0m     \u001b[38;5;28;01mreturn\u001b[39;00m \u001b[43mbound\u001b[49m\u001b[43m(\u001b[49m\u001b[38;5;241;43m*\u001b[39;49m\u001b[43margs\u001b[49m\u001b[43m,\u001b[49m\u001b[43m \u001b[49m\u001b[38;5;241;43m*\u001b[39;49m\u001b[38;5;241;43m*\u001b[39;49m\u001b[43mkwds\u001b[49m\u001b[43m)\u001b[49m\n\u001b[1;32m     58\u001b[0m \u001b[38;5;28;01mexcept\u001b[39;00m \u001b[38;5;167;01mTypeError\u001b[39;00m:\n\u001b[1;32m     59\u001b[0m     \u001b[38;5;66;03m# A TypeError occurs if the object does have such a method in its\u001b[39;00m\n\u001b[1;32m     60\u001b[0m     \u001b[38;5;66;03m# class, but its signature is not identical to that of NumPy's. This\u001b[39;00m\n\u001b[0;32m   (...)\u001b[0m\n\u001b[1;32m     64\u001b[0m     \u001b[38;5;66;03m# Call _wrapit from within the except clause to ensure a potential\u001b[39;00m\n\u001b[1;32m     65\u001b[0m     \u001b[38;5;66;03m# exception has a traceback chain.\u001b[39;00m\n\u001b[1;32m     66\u001b[0m     \u001b[38;5;28;01mreturn\u001b[39;00m _wrapit(obj, method, \u001b[38;5;241m*\u001b[39margs, \u001b[38;5;241m*\u001b[39m\u001b[38;5;241m*\u001b[39mkwds)\n",
      "\u001b[0;31mKeyboardInterrupt\u001b[0m: "
     ]
    }
   ],
   "source": [
    "best_params = {}\n",
    "all_trials = []\n",
    "\n",
    "for alpha in alphas:\n",
    "    study = optuna.create_study(direction=\"minimize\", study_name=f\"alpha_{alpha}\")\n",
    "    study.optimize(lambda trial: objective(trial, alpha), n_trials=50)\n",
    "\n",
    "    trial = study.best_trial\n",
    "    logging.info(f\"Best trial for alpha {alpha}:\")\n",
    "    logging.info(f\"  Value: {trial.value}\")\n",
    "    logging.info(\"  Params: \")\n",
    "    for key, value in trial.params.items():\n",
    "        logging.info(f\"    {key}: {value}\")\n",
    "\n",
    "    best_params[alpha] = trial.params"
   ]
  }
 ],
 "metadata": {
  "kernelspec": {
   "display_name": "dp2venv",
   "language": "python",
   "name": "python3"
  },
  "language_info": {
   "codemirror_mode": {
    "name": "ipython",
    "version": 3
   },
   "file_extension": ".py",
   "mimetype": "text/x-python",
   "name": "python",
   "nbconvert_exporter": "python",
   "pygments_lexer": "ipython3",
   "version": "3.12.2"
  }
 },
 "nbformat": 4,
 "nbformat_minor": 2
}
