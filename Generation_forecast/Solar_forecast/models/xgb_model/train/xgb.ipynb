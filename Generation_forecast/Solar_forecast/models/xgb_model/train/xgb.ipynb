{
 "cells": [
  {
   "cell_type": "code",
   "execution_count": 3,
   "metadata": {},
   "outputs": [],
   "source": [
    "from sklearn.model_selection import train_test_split\n",
    "from sklearn.metrics import mean_pinball_loss\n",
    "from xgboost import XGBRegressor\n",
    "import numpy as np\n",
    "import pandas as pd\n",
    "import joblib"
   ]
  },
  {
   "cell_type": "code",
   "execution_count": 4,
   "metadata": {},
   "outputs": [],
   "source": [
    "df = pd.read_csv(\"/Users/florian/Documents/github/DP2/Energy_production_price_prediction/HEFTcom24/data/features.csv\")"
   ]
  },
  {
   "cell_type": "code",
   "execution_count": 5,
   "metadata": {},
   "outputs": [],
   "source": [
    "df = df.drop(columns=['Unnamed: 0'])   \n",
    "df = df.dropna()"
   ]
  },
  {
   "cell_type": "code",
   "execution_count": 6,
   "metadata": {},
   "outputs": [],
   "source": [
    "X_train, X_test, y_train, y_test = train_test_split(df.drop(columns=[\"valid_time\", \"Solar_MWh_credit\"]), df[\"Solar_MWh_credit\"], test_size=0.2, random_state=42, shuffle= False)"
   ]
  },
  {
   "cell_type": "code",
   "execution_count": 11,
   "metadata": {},
   "outputs": [],
   "source": [
    "def objective(trial, alpha):\n",
    "    \n",
    "    n_estimators = trial.suggest_int(\"n_estimators\", 100, 1000)\n",
    "    learning_rate = trial.suggest_float(\"learning_rate\", 1e-4, 1e-1, log=True)\n",
    "    max_depth = trial.suggest_int(\"max_depth\", 3, 9)\n",
    "    subsample = trial.suggest_float(\"subsample\", 0.2, 1.0)\n",
    "    colsample_bytree = trial.suggest_float(\"colsample_bytree\", 0.2, 1.0)\n",
    "    reg_alpha = trial.suggest_float(\"reg_alpha\", 1e-4, 1e2)\n",
    "    reg_lambda = trial.suggest_float(\"reg_lambda\", 1e-4, 1e2)\n",
    "\n",
    "\n",
    "\n",
    "    def custom_pinball_loss(y_true, y_pred):\n",
    "        y_true = y_true.get_label() if hasattr(y_true, 'get_label') else y_true\n",
    "        delta = y_pred - y_true\n",
    "        grad = np.where(delta >= 0, alpha, alpha-1)\n",
    "        hess = np.ones_like(y_true)  # Hessian is 1 for pinball loss\n",
    "        return grad, hess\n",
    "\n",
    "    model = XGBRegressor(\n",
    "        n_estimators=n_estimators,\n",
    "        learning_rate=learning_rate,\n",
    "        max_depth=max_depth,\n",
    "        subsample=subsample,\n",
    "        colsample_bytree=colsample_bytree,\n",
    "        reg_alpha=reg_alpha,\n",
    "        reg_lambda=reg_lambda,\n",
    "        random_state=42,\n",
    "        tree_method=\"hist\",\n",
    "        objective=custom_pinball_loss,\n",
    "    )\n",
    "\n",
    "    model.fit(X_train, y_train)\n",
    "\n",
    "    y_pred = model.predict(X_test)\n",
    "\n",
    "    loss = mean_pinball_loss(y_test, y_pred, alpha)\n",
    "    \n",
    "\n",
    "    return loss\n"
   ]
  },
  {
   "cell_type": "code",
   "execution_count": 8,
   "metadata": {},
   "outputs": [
    {
     "ename": "NameError",
     "evalue": "name 'alphas' is not defined",
     "output_type": "error",
     "traceback": [
      "\u001b[0;31m---------------------------------------------------------------------------\u001b[0m",
      "\u001b[0;31mNameError\u001b[0m                                 Traceback (most recent call last)",
      "Cell \u001b[0;32mIn[8], line 1\u001b[0m\n\u001b[0;32m----> 1\u001b[0m \u001b[38;5;28;01mfor\u001b[39;00m alpha \u001b[38;5;129;01min\u001b[39;00m \u001b[43malphas\u001b[49m:\n\u001b[1;32m      4\u001b[0m     \u001b[38;5;28;01mdef\u001b[39;00m \u001b[38;5;21mcustom_pinball_loss\u001b[39m(y_true, y_pred):\n\u001b[1;32m      5\u001b[0m         y_true \u001b[38;5;241m=\u001b[39m y_true\u001b[38;5;241m.\u001b[39mget_label() \u001b[38;5;28;01mif\u001b[39;00m \u001b[38;5;28mhasattr\u001b[39m(y_true, \u001b[38;5;124m'\u001b[39m\u001b[38;5;124mget_label\u001b[39m\u001b[38;5;124m'\u001b[39m) \u001b[38;5;28;01melse\u001b[39;00m y_true\n",
      "\u001b[0;31mNameError\u001b[0m: name 'alphas' is not defined"
     ]
    }
   ],
   "source": [
    "\n",
    "\n",
    "\n",
    "for alpha in alphas:\n",
    "\n",
    "\n",
    "    def custom_pinball_loss(y_true, y_pred):\n",
    "        y_true = y_true.get_label() if hasattr(y_true, 'get_label') else y_true\n",
    "        delta = y_pred - y_true\n",
    "        grad = np.where(delta >= 0, alpha, alpha-1)\n",
    "        hess = np.ones_like(y_true)  # Hessian is 1 for pinball loss\n",
    "        return grad, hess"
   ]
  },
  {
   "cell_type": "code",
   "execution_count": null,
   "metadata": {},
   "outputs": [],
   "source": []
  }
 ],
 "metadata": {
  "kernelspec": {
   "display_name": "dp2venv",
   "language": "python",
   "name": "python3"
  },
  "language_info": {
   "codemirror_mode": {
    "name": "ipython",
    "version": 3
   },
   "file_extension": ".py",
   "mimetype": "text/x-python",
   "name": "python",
   "nbconvert_exporter": "python",
   "pygments_lexer": "ipython3",
   "version": "3.12.2"
  }
 },
 "nbformat": 4,
 "nbformat_minor": 2
}
