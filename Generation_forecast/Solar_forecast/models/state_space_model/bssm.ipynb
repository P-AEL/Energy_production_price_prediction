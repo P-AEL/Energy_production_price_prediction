{
 "cells": [
  {
   "cell_type": "code",
   "execution_count": null,
   "metadata": {},
   "outputs": [],
   "source": [
    "from sklearn.model_selection import train_test_split\n",
    "from sklearn.metrics import mean_pinball_loss\n",
    "from xgboost import XGBRegressor\n",
    "import numpy as np\n",
    "import pandas as pd\n",
    "import joblib"
   ]
  },
  {
   "cell_type": "code",
   "execution_count": null,
   "metadata": {},
   "outputs": [],
   "source": [
    "df = pd.read_csv(\"/Users/florian/Documents/github/DP2/Energy_production_price_prediction/HEFTcom24/data/features.csv\")"
   ]
  },
  {
   "cell_type": "code",
   "execution_count": null,
   "metadata": {},
   "outputs": [],
   "source": [
    "df = df.drop(columns=['Unnamed: 0'])   \n",
    "df = df.dropna()"
   ]
  },
  {
   "cell_type": "code",
   "execution_count": null,
   "metadata": {},
   "outputs": [],
   "source": [
    "X_train, X_test, y_train, y_test = train_test_split(df.drop(columns=[\"valid_time\", \"Solar_MWh_credit\"]), df[\"Solar_MWh_credit\"], test_size=0.2, random_state=42, shuffle= False)"
   ]
  },
  {
   "cell_type": "code",
   "execution_count": null,
   "metadata": {},
   "outputs": [],
   "source": [
    "import numpy as np\n",
    "import pymc3 as pm\n",
    "import theano.tensor as tt\n",
    "from sklearn.model_selection import train_test_split\n",
    "import pandas as pd\n",
    "\n",
    "# Beispiel-Daten laden\n",
    "df = pd.DataFrame({\n",
    "    'valid_time': pd.date_range('2023-01-01', periods=100, freq='H'),\n",
    "    'feature_1': np.random.randn(100),\n",
    "    'feature_2': np.random.randn(100),\n",
    "    'Solar_MWh_credit': np.random.randn(100)\n",
    "})\n",
    "\n",
    "# Train-Test-Split\n",
    "X_train, X_test, y_train, y_test = train_test_split(\n",
    "    df.drop(columns=[\"valid_time\", \"Solar_MWh_credit\"]),\n",
    "    df[\"Solar_MWh_credit\"],\n",
    "    test_size=0.2, \n",
    "    random_state=42, \n",
    "    shuffle=False\n",
    ")\n",
    "\n",
    "# Formate für PyMC3 vorbereiten\n",
    "X_train = X_train.values\n",
    "X_test = X_test.values\n",
    "y_train = y_train.values\n",
    "y_test = y_test.values\n",
    "\n",
    "n_train = len(y_train)\n",
    "n_test = len(y_test)\n",
    "\n",
    "# Bayesianisches State-Space-Modell trainieren\n",
    "with pm.Model() as model:\n",
    "    \n",
    "    # Latenter Zustand x_t (hier nehmen wir an, dass feature_1 der latente Zustand ist)\n",
    "    sigma_w = pm.HalfNormal('sigma_w', 1.0)  # Prozessrauschen\n",
    "    A = pm.Normal('A', 0, 1)  # Übergangsmatrix\n",
    "    \n",
    "    x_0 = pm.Normal('x_0', 0, 1)  # Initialer Zustand\n",
    "    x = [x_0]  # Liste zur Speicherung der Zustände\n",
    "    \n",
    "    # Latente Zustände für Trainingsdaten\n",
    "    for t in range(1, n_train):\n",
    "        x_t = pm.Normal(f'x_{t}', mu=A * x[t-1], sigma=sigma_w)\n",
    "        x.append(x_t)\n",
    "    \n",
    "    # In Theano Tensor konvertieren\n",
    "    x = tt.stack(x)\n",
    "    \n",
    "    # Beobachtungsmodell: Hier Laplace für Quantilregression, aber du kannst auch Normal wählen\n",
    "    sigma_v = pm.HalfNormal('sigma_v', 1.0)  # Beobachtungsrauschen\n",
    "    \n",
    "    # Beobachtungen basierend auf latenten Zuständen und Prädiktoren\n",
    "    mu_y = x + pm.math.dot(X_train, pm.Normal('beta', mu=0, sigma=1, shape=X_train.shape[1]))  # lineares Modell\n",
    "    y_obs = pm.Laplace('y_obs', mu=mu_y, b=sigma_v, observed=y_train)\n",
    "\n",
    "    # Sample posterior\n",
    "    trace = pm.sample(1000, tune=2000, return_inferencedata=True)\n",
    "\n",
    "# Vorhersagen auf dem Test-Set machen\n",
    "with model:\n",
    "    # Samplen des posterior predictives für das Test-Set\n",
    "    x_last_train = np.mean([trace.posterior[f'x_{n_train-1}'].values])  # letzter Zustand aus dem Training\n",
    "    \n",
    "    predictions = []\n",
    "    \n",
    "    for t in range(n_test):\n",
    "        # Vorhersage des nächsten latenten Zustands basierend auf dem letzten Zustand des Trainingsdatensatzes\n",
    "        A_samples = trace.posterior['A'].values\n",
    "        sigma_w_samples = trace.posterior['sigma_w'].values\n",
    "        x_future = A_samples * x_last_train + np.random.normal(0, sigma_w_samples)\n",
    "        x_last_train = np.mean(x_future)  # Update des letzten Zustands\n",
    "        \n",
    "        # Vorhersage der Beobachtung für das Test-Set (Quantilregression)\n",
    "        sigma_v_samples = trace.posterior['sigma_v'].values\n",
    "        y_future = x_last_train + np.dot(X_test[t], trace.posterior['beta'].values) + np.random.laplace(0, sigma_v_samples)\n",
    "        predictions.append(np.mean(y_future))\n",
    "\n",
    "# Ergebnisse anzeigen\n",
    "print(\"Vorhersagen für das Testset:\", predictions)"
   ]
  }
 ],
 "metadata": {
  "kernelspec": {
   "display_name": "dp2venv",
   "language": "python",
   "name": "python3"
  },
  "language_info": {
   "name": "python",
   "version": "3.12.2"
  }
 },
 "nbformat": 4,
 "nbformat_minor": 2
}
