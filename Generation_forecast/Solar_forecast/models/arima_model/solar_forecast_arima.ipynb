{
 "cells": [
  {
   "cell_type": "code",
   "execution_count": 1,
   "metadata": {},
   "outputs": [],
   "source": [
    "import pandas as pd \n",
    "import numpy as np"
   ]
  },
  {
   "cell_type": "code",
   "execution_count": 2,
   "metadata": {},
   "outputs": [],
   "source": [
    "df = pd.read_csv(\"/Users/florian/Documents/github/DP2/Energy_production_price_prediction/HEFTcom24/data/features.csv\")"
   ]
  },
  {
   "cell_type": "markdown",
   "metadata": {},
   "source": [
    "## Prep for ARIMA"
   ]
  },
  {
   "cell_type": "code",
   "execution_count": 3,
   "metadata": {},
   "outputs": [],
   "source": [
    "df = df.dropna()"
   ]
  },
  {
   "cell_type": "code",
   "execution_count": 4,
   "metadata": {},
   "outputs": [],
   "source": [
    "def adf_test(series):\n",
    "    \"\"\"\n",
    "    Perform the Augmented Dickey-Fuller test for stationarity.\n",
    "    \"\"\"\n",
    "    from statsmodels.tsa.stattools import adfuller\n",
    "    result = adfuller(series)\n",
    "    print(f'ADF Statistic: {result[0]}')\n",
    "    print(f'p-value: {result[1]}')\n",
    "    for k, v in result[4].items():\n",
    "        print(\"Critical Values\")\n",
    "        print(f\"    {k}, {v}\")\n",
    "    return result[1] < 0.05"
   ]
  },
  {
   "cell_type": "code",
   "execution_count": 5,
   "metadata": {},
   "outputs": [],
   "source": [
    "df[\"valid_time\"] = pd.to_datetime(df[\"valid_time\"])"
   ]
  },
  {
   "cell_type": "code",
   "execution_count": 6,
   "metadata": {},
   "outputs": [],
   "source": [
    "solar = df.set_index(\"valid_time\")[[\"Solar_MWh_credit\"]]"
   ]
  },
  {
   "cell_type": "code",
   "execution_count": 7,
   "metadata": {},
   "outputs": [
    {
     "data": {
      "text/html": [
       "<div>\n",
       "<style scoped>\n",
       "    .dataframe tbody tr th:only-of-type {\n",
       "        vertical-align: middle;\n",
       "    }\n",
       "\n",
       "    .dataframe tbody tr th {\n",
       "        vertical-align: top;\n",
       "    }\n",
       "\n",
       "    .dataframe thead th {\n",
       "        text-align: right;\n",
       "    }\n",
       "</style>\n",
       "<table border=\"1\" class=\"dataframe\">\n",
       "  <thead>\n",
       "    <tr style=\"text-align: right;\">\n",
       "      <th></th>\n",
       "      <th>Solar_MWh_credit</th>\n",
       "    </tr>\n",
       "    <tr>\n",
       "      <th>valid_time</th>\n",
       "      <th></th>\n",
       "    </tr>\n",
       "  </thead>\n",
       "  <tbody>\n",
       "    <tr>\n",
       "      <th>2020-09-21 00:00:00+00:00</th>\n",
       "      <td>0.0</td>\n",
       "    </tr>\n",
       "    <tr>\n",
       "      <th>2020-09-21 00:30:00+00:00</th>\n",
       "      <td>0.0</td>\n",
       "    </tr>\n",
       "    <tr>\n",
       "      <th>2020-09-21 01:00:00+00:00</th>\n",
       "      <td>0.0</td>\n",
       "    </tr>\n",
       "    <tr>\n",
       "      <th>2020-09-21 01:30:00+00:00</th>\n",
       "      <td>0.0</td>\n",
       "    </tr>\n",
       "    <tr>\n",
       "      <th>2020-09-21 02:00:00+00:00</th>\n",
       "      <td>0.0</td>\n",
       "    </tr>\n",
       "    <tr>\n",
       "      <th>...</th>\n",
       "      <td>...</td>\n",
       "    </tr>\n",
       "    <tr>\n",
       "      <th>2024-05-19 21:30:00+00:00</th>\n",
       "      <td>0.0</td>\n",
       "    </tr>\n",
       "    <tr>\n",
       "      <th>2024-05-19 22:00:00+00:00</th>\n",
       "      <td>0.0</td>\n",
       "    </tr>\n",
       "    <tr>\n",
       "      <th>2024-05-19 22:30:00+00:00</th>\n",
       "      <td>0.0</td>\n",
       "    </tr>\n",
       "    <tr>\n",
       "      <th>2024-05-19 23:00:00+00:00</th>\n",
       "      <td>0.0</td>\n",
       "    </tr>\n",
       "    <tr>\n",
       "      <th>2024-05-19 23:30:00+00:00</th>\n",
       "      <td>0.0</td>\n",
       "    </tr>\n",
       "  </tbody>\n",
       "</table>\n",
       "<p>63573 rows × 1 columns</p>\n",
       "</div>"
      ],
      "text/plain": [
       "                           Solar_MWh_credit\n",
       "valid_time                                 \n",
       "2020-09-21 00:00:00+00:00               0.0\n",
       "2020-09-21 00:30:00+00:00               0.0\n",
       "2020-09-21 01:00:00+00:00               0.0\n",
       "2020-09-21 01:30:00+00:00               0.0\n",
       "2020-09-21 02:00:00+00:00               0.0\n",
       "...                                     ...\n",
       "2024-05-19 21:30:00+00:00               0.0\n",
       "2024-05-19 22:00:00+00:00               0.0\n",
       "2024-05-19 22:30:00+00:00               0.0\n",
       "2024-05-19 23:00:00+00:00               0.0\n",
       "2024-05-19 23:30:00+00:00               0.0\n",
       "\n",
       "[63573 rows x 1 columns]"
      ]
     },
     "execution_count": 7,
     "metadata": {},
     "output_type": "execute_result"
    }
   ],
   "source": [
    "solar"
   ]
  },
  {
   "cell_type": "code",
   "execution_count": 8,
   "metadata": {},
   "outputs": [],
   "source": [
    "# Drop na \n",
    "solar = solar.dropna()"
   ]
  },
  {
   "cell_type": "code",
   "execution_count": 9,
   "metadata": {},
   "outputs": [
    {
     "name": "stdout",
     "output_type": "stream",
     "text": [
      "ADF Statistic: -13.000857124162122\n",
      "p-value: 2.689244214260966e-24\n",
      "Critical Values\n",
      "    1%, -3.4304529641854744\n",
      "Critical Values\n",
      "    5%, -2.8615855082687554\n",
      "Critical Values\n",
      "    10%, -2.5667942225092055\n"
     ]
    },
    {
     "data": {
      "text/plain": [
       "np.True_"
      ]
     },
     "execution_count": 9,
     "metadata": {},
     "output_type": "execute_result"
    }
   ],
   "source": [
    "adf_test(solar)"
   ]
  },
  {
   "cell_type": "code",
   "execution_count": 10,
   "metadata": {},
   "outputs": [],
   "source": [
    "# Differenzierung\n",
    "\n",
    "solar_diff = solar.diff().dropna()"
   ]
  },
  {
   "cell_type": "code",
   "execution_count": 11,
   "metadata": {},
   "outputs": [
    {
     "name": "stdout",
     "output_type": "stream",
     "text": [
      "ADF Statistic: -59.23325997022704\n",
      "p-value: 0.0\n",
      "Critical Values\n",
      "    1%, -3.430452956080028\n",
      "Critical Values\n",
      "    5%, -2.86158550468636\n",
      "Critical Values\n",
      "    10%, -2.566794220602407\n"
     ]
    },
    {
     "data": {
      "text/plain": [
       "True"
      ]
     },
     "execution_count": 11,
     "metadata": {},
     "output_type": "execute_result"
    }
   ],
   "source": [
    "adf_test(solar_diff)"
   ]
  },
  {
   "cell_type": "code",
   "execution_count": 12,
   "metadata": {},
   "outputs": [],
   "source": [
    "# Saisonalität \n",
    "\n",
    "solar_seasonal_diff = solar.diff(48).dropna()"
   ]
  },
  {
   "cell_type": "code",
   "execution_count": 13,
   "metadata": {},
   "outputs": [
    {
     "name": "stdout",
     "output_type": "stream",
     "text": [
      "ADF Statistic: -40.96015604016055\n",
      "p-value: 0.0\n",
      "Critical Values\n",
      "    1%, -3.430453029075018\n",
      "Critical Values\n",
      "    5%, -2.8615855369482377\n",
      "Critical Values\n",
      "    10%, -2.5667942377744084\n"
     ]
    },
    {
     "data": {
      "text/plain": [
       "True"
      ]
     },
     "execution_count": 13,
     "metadata": {},
     "output_type": "execute_result"
    }
   ],
   "source": [
    "adf_test(solar_seasonal_diff)"
   ]
  },
  {
   "cell_type": "code",
   "execution_count": 14,
   "metadata": {},
   "outputs": [
    {
     "data": {
      "image/png": "[encoded data removed]",
      "text/plain": [
       "<Figure size 640x480 with 1 Axes>"
      ]
     },
     "execution_count": 14,
     "metadata": {},
     "output_type": "execute_result"
    },
    {
     "data": {
      "image/png": "[encoded data removed]",
      "text/plain": [
       "<Figure size 640x480 with 1 Axes>"
      ]
     },
     "metadata": {},
     "output_type": "display_data"
    },
    {
     "data": {
      "image/png": "[encoded data removed]",
      "text/plain": [
       "<Figure size 640x480 with 1 Axes>"
      ]
     },
     "metadata": {},
     "output_type": "display_data"
    }
   ],
   "source": [
    "from statsmodels.graphics.tsaplots import plot_acf, plot_pacf\n",
    "\n",
    "plot_acf(solar.diff(48).dropna())\n",
    "plot_pacf(solar.diff(48).dropna())"
   ]
  },
  {
   "cell_type": "markdown",
   "metadata": {},
   "source": [
    "## ARIMA+GARCH model"
   ]
  },
  {
   "cell_type": "code",
   "execution_count": 15,
   "metadata": {},
   "outputs": [],
   "source": [
    "solar.index = pd.date_range(start= solar.index[0], periods= len(solar), freq= \"30min\")"
   ]
  },
  {
   "cell_type": "code",
   "execution_count": 16,
   "metadata": {},
   "outputs": [
    {
     "name": "stdout",
     "output_type": "stream",
     "text": [
      "Iteration:      1,   Func. Count:      6,   Neg. LLF: 401351.5120544298\n",
      "Iteration:      2,   Func. Count:     14,   Neg. LLF: 837685.6264525428\n",
      "Iteration:      3,   Func. Count:     20,   Neg. LLF: 289740.7532334934\n",
      "Iteration:      4,   Func. Count:     27,   Neg. LLF: 267401.35296609905\n",
      "Iteration:      5,   Func. Count:     33,   Neg. LLF: 271810.780665543\n",
      "Iteration:      6,   Func. Count:     39,   Neg. LLF: 262482.45681968034\n",
      "Iteration:      7,   Func. Count:     44,   Neg. LLF: 262502.0944916628\n",
      "Iteration:      8,   Func. Count:     49,   Neg. LLF: 381852.9087224761\n",
      "Iteration:      9,   Func. Count:     57,   Neg. LLF: 363426.584358193\n",
      "Iteration:     10,   Func. Count:     65,   Neg. LLF: 331501.7463178259\n",
      "Iteration:     11,   Func. Count:     74,   Neg. LLF: 307064.8537313991\n",
      "Iteration:     12,   Func. Count:     83,   Neg. LLF: 262582.90617465513\n",
      "Iteration:     13,   Func. Count:     91,   Neg. LLF: 262492.3687484749\n",
      "Iteration:     14,   Func. Count:    106,   Neg. LLF: 1111860.7011397183\n",
      "Iteration:     15,   Func. Count:    114,   Neg. LLF: 262505.7977489715\n",
      "Iteration:     16,   Func. Count:    119,   Neg. LLF: 262505.79686915234\n",
      "Iteration:     17,   Func. Count:    124,   Neg. LLF: 262505.7966576366\n",
      "Iteration:     18,   Func. Count:    128,   Neg. LLF: 262505.7964660175\n",
      "Optimization terminated successfully    (Exit mode 0)\n",
      "            Current function value: 262505.7966576366\n",
      "            Iterations: 20\n",
      "            Function evaluations: 128\n",
      "            Gradient evaluations: 18\n",
      "                               SARIMAX Results                                \n",
      "==============================================================================\n",
      "Dep. Variable:       Solar_MWh_credit   No. Observations:                63573\n",
      "Model:                 ARIMA(1, 1, 1)   Log Likelihood             -297745.676\n",
      "Date:                Mon, 07 Oct 2024   AIC                         595497.352\n",
      "Time:                        20:30:05   BIC                         595524.532\n",
      "Sample:                    09-21-2020   HQIC                        595505.772\n",
      "                         - 05-07-2024                                         \n",
      "Covariance Type:                  opg                                         \n",
      "==============================================================================\n",
      "                 coef    std err          z      P>|z|      [0.025      0.975]\n",
      "------------------------------------------------------------------------------\n",
      "ar.L1          0.8257      0.002    385.375      0.000       0.821       0.830\n",
      "ma.L1         -0.2842      0.003   -107.140      0.000      -0.289      -0.279\n",
      "sigma2       684.9271      1.352    506.696      0.000     682.278     687.576\n",
      "===================================================================================\n",
      "Ljung-Box (L1) (Q):                  58.58   Jarque-Bera (JB):            758880.89\n",
      "Prob(Q):                              0.00   Prob(JB):                         0.00\n",
      "Heteroskedasticity (H):               0.91   Skew:                            -0.52\n",
      "Prob(H) (two-sided):                  0.00   Kurtosis:                        19.89\n",
      "===================================================================================\n",
      "\n",
      "Warnings:\n",
      "[1] Covariance matrix calculated using the outer product of gradients (complex-step).\n",
      "                     Constant Mean - GARCH Model Results                      \n",
      "==============================================================================\n",
      "Dep. Variable:                   None   R-squared:                       0.000\n",
      "Mean Model:             Constant Mean   Adj. R-squared:                  0.000\n",
      "Vol Model:                      GARCH   Log-Likelihood:               -262506.\n",
      "Distribution:                  Normal   AIC:                           525020.\n",
      "Method:            Maximum Likelihood   BIC:                           525056.\n",
      "                                        No. Observations:                63573\n",
      "Date:                Mon, Oct 07 2024   Df Residuals:                    63572\n",
      "Time:                        20:30:05   Df Model:                            1\n",
      "                               Mean Model                               \n",
      "========================================================================\n",
      "                 coef    std err          t      P>|t|  95.0% Conf. Int.\n",
      "------------------------------------------------------------------------\n",
      "mu             0.4574      0.148      3.088  2.016e-03 [  0.167,  0.748]\n",
      "                            Volatility Model                            \n",
      "========================================================================\n",
      "                 coef    std err          t      P>|t|  95.0% Conf. Int.\n",
      "------------------------------------------------------------------------\n",
      "omega         23.6920      9.470      2.502  1.236e-02 [  5.131, 42.253]\n",
      "alpha[1]       0.5115  3.686e-02     13.877  8.681e-44 [  0.439,  0.584]\n",
      "beta[1]        0.4885  2.484e-02     19.666  4.257e-86 [  0.440,  0.537]\n",
      "========================================================================\n",
      "\n",
      "Covariance estimator: robust\n"
     ]
    }
   ],
   "source": [
    "from statsmodels.tsa.arima.model import ARIMA\n",
    "from arch import arch_model\n",
    "\n",
    "\n",
    "model = ARIMA(solar, order=(1,1,1))\n",
    "model_fit = model.fit()\n",
    "residuals = model_fit.resid\n",
    "garch_model = arch_model(residuals, vol= \"GARCH\", p=1, q=1)  \n",
    "garch_fit = garch_model.fit()\n",
    "print(model_fit.summary())\n",
    "print(garch_fit.summary())  "
   ]
  },
  {
   "cell_type": "code",
   "execution_count": 25,
   "metadata": {},
   "outputs": [],
   "source": [
    "import optuna\n",
    "import pandas as pd\n",
    "import numpy as np\n",
    "from statsmodels.tsa.arima.model import ARIMA\n",
    "from arch import arch_model\n",
    "from sklearn.metrics import mean_squared_error\n",
    "\n",
    "# Parameter-Grid\n",
    "param_grid = {\n",
    "    'p': (0, 3),\n",
    "    'd': (0, 48),\n",
    "    'q': (0, 3),\n",
    "    'p_garch': (1, 3),\n",
    "    'q_garch': (1, 3)\n",
    "}\n",
    "\n",
    "def objective(trial):\n",
    "    p = trial.suggest_int('p', param_grid['p'][0], param_grid['p'][1])\n",
    "    d = trial.suggest_int('d', param_grid['d'][0], param_grid['d'][1])\n",
    "    q = trial.suggest_int('q', param_grid['q'][0], param_grid['q'][1])\n",
    "\n",
    "    try:\n",
    "        model = ARIMA(solar, order=(p, d, q))\n",
    "        arima_fit = model.fit(disp=False)\n",
    "        residuals = arima_fit.resid\n",
    "\n",
    "        # GARCH Hyperparameter\n",
    "        p_garch = trial.suggest_int('p_garch', param_grid['p_garch'][0], param_grid['p_garch'][1])\n",
    "        q_garch = trial.suggest_int('q_garch', param_grid['q_garch'][0], param_grid['q_garch'][1])\n",
    "\n",
    "        garch_model = arch_model(residuals, vol='Garch', p=p_garch, q=q_garch)\n",
    "        garch_fit = garch_model.fit(disp='off')\n",
    "\n",
    "        # Bewertung des Modells\n",
    "        aic = arima_fit.aic #+ garch_fit.aic\n",
    "        return aic\n",
    "    except:\n",
    "        return float('inf')"
   ]
  },
  {
   "cell_type": "code",
   "execution_count": 26,
   "metadata": {},
   "outputs": [
    {
     "name": "stderr",
     "output_type": "stream",
     "text": [
      "[I 2024-10-07 20:37:03,764] A new study created in memory with name: no-name-728a1809-cc2d-4d6b-8d5b-1ab61b5dd0ce\n",
      "[I 2024-10-07 20:37:03,767] Trial 0 finished with value: inf and parameters: {'p': 1, 'd': 44, 'q': 2}. Best is trial 0 with value: inf.\n",
      "[I 2024-10-07 20:37:03,769] Trial 1 finished with value: inf and parameters: {'p': 0, 'd': 0, 'q': 2}. Best is trial 0 with value: inf.\n",
      "[I 2024-10-07 20:37:03,771] Trial 2 finished with value: inf and parameters: {'p': 1, 'd': 27, 'q': 1}. Best is trial 0 with value: inf.\n",
      "[I 2024-10-07 20:37:03,773] Trial 3 finished with value: inf and parameters: {'p': 3, 'd': 10, 'q': 1}. Best is trial 0 with value: inf.\n",
      "[I 2024-10-07 20:37:03,774] Trial 4 finished with value: inf and parameters: {'p': 2, 'd': 29, 'q': 1}. Best is trial 0 with value: inf.\n",
      "[I 2024-10-07 20:37:03,775] Trial 5 finished with value: inf and parameters: {'p': 2, 'd': 31, 'q': 0}. Best is trial 0 with value: inf.\n",
      "[I 2024-10-07 20:37:03,777] Trial 6 finished with value: inf and parameters: {'p': 0, 'd': 37, 'q': 0}. Best is trial 0 with value: inf.\n",
      "[I 2024-10-07 20:37:03,778] Trial 7 finished with value: inf and parameters: {'p': 1, 'd': 15, 'q': 0}. Best is trial 0 with value: inf.\n",
      "[I 2024-10-07 20:37:03,779] Trial 8 finished with value: inf and parameters: {'p': 0, 'd': 36, 'q': 2}. Best is trial 0 with value: inf.\n",
      "[I 2024-10-07 20:37:03,780] Trial 9 finished with value: inf and parameters: {'p': 2, 'd': 6, 'q': 1}. Best is trial 0 with value: inf.\n",
      "[I 2024-10-07 20:37:03,787] Trial 10 finished with value: inf and parameters: {'p': 3, 'd': 45, 'q': 3}. Best is trial 0 with value: inf.\n",
      "[I 2024-10-07 20:37:03,793] Trial 11 finished with value: inf and parameters: {'p': 0, 'd': 0, 'q': 3}. Best is trial 0 with value: inf.\n",
      "[I 2024-10-07 20:37:03,799] Trial 12 finished with value: inf and parameters: {'p': 1, 'd': 45, 'q': 2}. Best is trial 0 with value: inf.\n",
      "[I 2024-10-07 20:37:03,804] Trial 13 finished with value: inf and parameters: {'p': 0, 'd': 20, 'q': 2}. Best is trial 0 with value: inf.\n",
      "[I 2024-10-07 20:37:03,810] Trial 14 finished with value: inf and parameters: {'p': 1, 'd': 0, 'q': 3}. Best is trial 0 with value: inf.\n",
      "[I 2024-10-07 20:37:03,816] Trial 15 finished with value: inf and parameters: {'p': 0, 'd': 21, 'q': 2}. Best is trial 0 with value: inf.\n",
      "[I 2024-10-07 20:37:03,821] Trial 16 finished with value: inf and parameters: {'p': 1, 'd': 38, 'q': 2}. Best is trial 0 with value: inf.\n",
      "[I 2024-10-07 20:37:03,826] Trial 17 finished with value: inf and parameters: {'p': 0, 'd': 48, 'q': 3}. Best is trial 0 with value: inf.\n",
      "[I 2024-10-07 20:37:03,832] Trial 18 finished with value: inf and parameters: {'p': 1, 'd': 10, 'q': 2}. Best is trial 0 with value: inf.\n",
      "[I 2024-10-07 20:37:03,837] Trial 19 finished with value: inf and parameters: {'p': 2, 'd': 16, 'q': 1}. Best is trial 0 with value: inf.\n",
      "[I 2024-10-07 20:37:03,842] Trial 20 finished with value: inf and parameters: {'p': 0, 'd': 40, 'q': 3}. Best is trial 0 with value: inf.\n",
      "[I 2024-10-07 20:37:03,848] Trial 21 finished with value: inf and parameters: {'p': 1, 'd': 27, 'q': 1}. Best is trial 0 with value: inf.\n",
      "[I 2024-10-07 20:37:03,853] Trial 22 finished with value: inf and parameters: {'p': 1, 'd': 31, 'q': 2}. Best is trial 0 with value: inf.\n",
      "[I 2024-10-07 20:37:03,858] Trial 23 finished with value: inf and parameters: {'p': 1, 'd': 24, 'q': 1}. Best is trial 0 with value: inf.\n",
      "[I 2024-10-07 20:37:03,864] Trial 24 finished with value: inf and parameters: {'p': 2, 'd': 6, 'q': 2}. Best is trial 0 with value: inf.\n",
      "[I 2024-10-07 20:37:03,869] Trial 25 finished with value: inf and parameters: {'p': 1, 'd': 42, 'q': 1}. Best is trial 0 with value: inf.\n",
      "[I 2024-10-07 20:37:03,875] Trial 26 finished with value: inf and parameters: {'p': 0, 'd': 32, 'q': 2}. Best is trial 0 with value: inf.\n",
      "[I 2024-10-07 20:37:03,880] Trial 27 finished with value: inf and parameters: {'p': 1, 'd': 24, 'q': 1}. Best is trial 0 with value: inf.\n",
      "[I 2024-10-07 20:37:03,886] Trial 28 finished with value: inf and parameters: {'p': 2, 'd': 35, 'q': 0}. Best is trial 0 with value: inf.\n",
      "[I 2024-10-07 20:37:03,891] Trial 29 finished with value: inf and parameters: {'p': 3, 'd': 13, 'q': 2}. Best is trial 0 with value: inf.\n",
      "[I 2024-10-07 20:37:03,897] Trial 30 finished with value: inf and parameters: {'p': 0, 'd': 19, 'q': 1}. Best is trial 0 with value: inf.\n",
      "[I 2024-10-07 20:37:03,902] Trial 31 finished with value: inf and parameters: {'p': 3, 'd': 4, 'q': 1}. Best is trial 0 with value: inf.\n",
      "[I 2024-10-07 20:37:03,908] Trial 32 finished with value: inf and parameters: {'p': 3, 'd': 10, 'q': 1}. Best is trial 0 with value: inf.\n",
      "[I 2024-10-07 20:37:03,913] Trial 33 finished with value: inf and parameters: {'p': 2, 'd': 4, 'q': 0}. Best is trial 0 with value: inf.\n",
      "[I 2024-10-07 20:37:03,919] Trial 34 finished with value: inf and parameters: {'p': 2, 'd': 11, 'q': 0}. Best is trial 0 with value: inf.\n",
      "[I 2024-10-07 20:37:03,924] Trial 35 finished with value: inf and parameters: {'p': 2, 'd': 28, 'q': 1}. Best is trial 0 with value: inf.\n",
      "[I 2024-10-07 20:37:03,930] Trial 36 finished with value: inf and parameters: {'p': 3, 'd': 8, 'q': 2}. Best is trial 0 with value: inf.\n",
      "[I 2024-10-07 20:37:03,935] Trial 37 finished with value: inf and parameters: {'p': 1, 'd': 16, 'q': 0}. Best is trial 0 with value: inf.\n",
      "[I 2024-10-07 20:37:03,941] Trial 38 finished with value: inf and parameters: {'p': 1, 'd': 2, 'q': 1}. Best is trial 0 with value: inf.\n",
      "[I 2024-10-07 20:37:03,947] Trial 39 finished with value: inf and parameters: {'p': 0, 'd': 34, 'q': 2}. Best is trial 0 with value: inf.\n",
      "[I 2024-10-07 20:37:03,952] Trial 40 finished with value: inf and parameters: {'p': 3, 'd': 13, 'q': 1}. Best is trial 0 with value: inf.\n",
      "[I 2024-10-07 20:37:03,958] Trial 41 finished with value: inf and parameters: {'p': 2, 'd': 27, 'q': 1}. Best is trial 0 with value: inf.\n",
      "[I 2024-10-07 20:37:03,964] Trial 42 finished with value: inf and parameters: {'p': 3, 'd': 30, 'q': 1}. Best is trial 0 with value: inf.\n",
      "[I 2024-10-07 20:37:03,970] Trial 43 finished with value: inf and parameters: {'p': 2, 'd': 23, 'q': 2}. Best is trial 0 with value: inf.\n",
      "[I 2024-10-07 20:37:03,976] Trial 44 finished with value: inf and parameters: {'p': 1, 'd': 18, 'q': 1}. Best is trial 0 with value: inf.\n",
      "[I 2024-10-07 20:37:03,983] Trial 45 finished with value: inf and parameters: {'p': 0, 'd': 46, 'q': 2}. Best is trial 0 with value: inf.\n",
      "[I 2024-10-07 20:37:03,988] Trial 46 finished with value: inf and parameters: {'p': 1, 'd': 38, 'q': 3}. Best is trial 0 with value: inf.\n",
      "[I 2024-10-07 20:37:03,994] Trial 47 finished with value: inf and parameters: {'p': 2, 'd': 0, 'q': 0}. Best is trial 0 with value: inf.\n",
      "[I 2024-10-07 20:37:04,004] Trial 48 finished with value: inf and parameters: {'p': 0, 'd': 21, 'q': 2}. Best is trial 0 with value: inf.\n",
      "[I 2024-10-07 20:37:04,010] Trial 49 finished with value: inf and parameters: {'p': 1, 'd': 43, 'q': 1}. Best is trial 0 with value: inf.\n"
     ]
    },
    {
     "name": "stdout",
     "output_type": "stream",
     "text": [
      "Best trial:\n",
      "  Value: inf\n",
      "  Params: \n",
      "    p: 1\n",
      "    d: 44\n",
      "    q: 2\n"
     ]
    }
   ],
   "source": [
    "# Optuna-Studie erstellen und optimieren\n",
    "study = optuna.create_study(direction='minimize')\n",
    "study.optimize(objective, n_trials=50)\n",
    "\n",
    "# Beste Hyperparameter\n",
    "print('Best trial:')\n",
    "trial = study.best_trial\n",
    "print(f'  Value: {trial.value}')\n",
    "print('  Params: ')\n",
    "for key, value in trial.params.items():\n",
    "    print(f'    {key}: {value}')"
   ]
  }
 ],
 "metadata": {
  "kernelspec": {
   "display_name": "dp2venv",
   "language": "python",
   "name": "python3"
  },
  "language_info": {
   "codemirror_mode": {
    "name": "ipython",
    "version": 3
   },
   "file_extension": ".py",
   "mimetype": "text/x-python",
   "name": "python",
   "nbconvert_exporter": "python",
   "pygments_lexer": "ipython3",
   "version": "3.12.2"
  }
 },
 "nbformat": 4,
 "nbformat_minor": 2
}
