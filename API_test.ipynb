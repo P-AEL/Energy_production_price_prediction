{
 "cells": [
  {
   "cell_type": "code",
   "execution_count": 1,
   "metadata": {},
   "outputs": [],
   "source": [
    "import pandas as pd\n",
    "import xarray as xr\n",
    "import numpy as np\n",
    "import statsmodels.formula.api as smf\n",
    "from statsmodels.iolib.smpickle import load_pickle\n",
    "import requests\n",
    "import comp_utils\n",
    "from comp_utils import day_ahead_market_times\n",
    "import matplotlib.pyplot as plt\n",
    "import matplotlib.dates as mdates\n",
    "from matplotlib.ticker import MaxNLocator\n",
    "import seaborn as sns\n",
    "import warnings\n",
    "warnings.simplefilter(action='ignore', category=FutureWarning)\n",
    "import pandas as pd\n",
    "import os\n",
    "from datetime import datetime, timedelta\n",
    "import pickle as pkl"
   ]
  },
  {
   "cell_type": "code",
   "execution_count": 6,
   "metadata": {},
   "outputs": [],
   "source": [
    "with open(\"A-Team_key.txt\") as f:\n",
    "    api_key = f.read()"
   ]
  },
  {
   "cell_type": "code",
   "execution_count": null,
   "metadata": {},
   "outputs": [],
   "source": [
    "with open('proxies.txt', 'r') as file:\n",
    "        proxy = file.read()\n",
    "proxies = {'http': proxy, 'https': proxy}"
   ]
  },
  {
   "cell_type": "code",
   "execution_count": 2,
   "metadata": {},
   "outputs": [],
   "source": [
    "proxies = None"
   ]
  },
  {
   "cell_type": "code",
   "execution_count": 3,
   "metadata": {},
   "outputs": [],
   "source": [
    "rebase_api_client = comp_utils.RebaseAPI(api_key = open(\"A-Team_key.txt\").read(), proxy=proxies)"
   ]
  },
  {
   "cell_type": "code",
   "execution_count": 83,
   "metadata": {},
   "outputs": [],
   "source": [
    "def Update_Weather_Data(models):\n",
    "    csv_path = f'{models}.csv'\n",
    "    # Get the weather data\n",
    "    basic_variables = \"Temperature, WindSpeed, WindSpeed:100, WindDirection:100, CloudCover, RelativeHumidity, PressureReducedMSL, SolarDownwardRadiation, TotalPrecipitation\"\n",
    "    url = \"https://api.rebase.energy/weather/v2/query\"\n",
    "    lats = [52.4872562, 52.8776682, 52.1354277, 52.4880497, 51.9563696, 52.2499177, 52.6416477, 52.2700912, 52.1960768, 52.7082618, 52.4043468, 52.0679429, 52.024023, 52.7681276, 51.8750506, 52.5582373, 52.4478922, 52.5214863, 52.8776682, 52.0780721]\n",
    "    lons = [0.4012455, 0.7906532, -0.2640343, -0.1267052, 0.6588173, 1.3894081, 1.3509559, 0.7082557, 0.1534462, 0.7302284, 1.0762977, 1.1751747, 0.2962684, 0.1699257, 0.9115028, 0.7137489, 0.1204872, 1.5706825, 1.1916542, -0.0113488]\n",
    "    body= {'model': models, 'latitude': lats,\n",
    "        'longitude': lons,\n",
    "          'variables': basic_variables, 'output-format': 'json', 'forecast-horizon': \"latest\"}\n",
    "    try:\n",
    "        if os.path.exists(csv_path):\n",
    "            df = pd.read_csv(csv_path)\n",
    "            print(f\"Loaded existing CSV with {len(df)} rows\")\n",
    "        else:\n",
    "            df = pd.DataFrame(columns=[\"ref_datetime\",\"valid_datetime\",basic_variables,\"latitude\",\"longitude\"])\n",
    "            print(\"Creating new CSV file\")\n",
    "        response = requests.post(url, json=body, headers={'Authorization': f'{api_key}'})\n",
    "        for point in range(len(response.json())):\n",
    "            new_df = pd.DataFrame(response.json()[point])\n",
    "            new_df['latitude'] = lats[point]\n",
    "            new_df['longitude'] = lons[point]\n",
    "            df = pd.concat([df, new_df])\n",
    "        df.drop_duplicates(inplace=True)\n",
    "        df.to_csv(csv_path, index=False)\n",
    "\n",
    "    except requests.exceptions.RequestException as e:\n",
    "        print(e)\n",
    "        return None\n",
    "    return None\n"
   ]
  },
  {
   "cell_type": "code",
   "execution_count": 4,
   "metadata": {},
   "outputs": [
    {
     "name": "stdout",
     "output_type": "stream",
     "text": [
      "{'model': 'DWD_ICON-EU', 'latitude': [52.4872562, 52.8776682, 52.1354277, 52.4880497, 51.9563696, 52.2499177, 52.6416477, 52.2700912, 52.1960768, 52.7082618, 52.4043468, 52.0679429, 52.024023, 52.7681276, 51.8750506, 52.5582373, 52.4478922, 52.5214863, 52.8776682, 52.0780721], 'longitude': [0.4012455, 0.7906532, -0.2640343, -0.1267052, 0.6588173, 1.3894081, 1.3509559, 0.7082557, 0.1534462, 0.7302284, 1.0762977, 1.1751747, 0.2962684, 0.1699257, 0.9115028, 0.7137489, 0.1204872, 1.5706825, 1.1916542, -0.0113488], 'variables': 'SolarDownwardRadiation, CloudCover, Temperature', 'type': 'points', 'output-format': 'json', 'forecast-horizon': 'latest'}\n",
      "https://api.rebase.energy/weather/v2/query\n",
      "IjDBb9M2CjNgPKyyV3mwvFuz2g5V0CkcOQy0-0DbryQ\n",
      "200\n"
     ]
    },
    {
     "data": {
      "text/html": [
       "<div>\n",
       "<style scoped>\n",
       "    .dataframe tbody tr th:only-of-type {\n",
       "        vertical-align: middle;\n",
       "    }\n",
       "\n",
       "    .dataframe tbody tr th {\n",
       "        vertical-align: top;\n",
       "    }\n",
       "\n",
       "    .dataframe thead th {\n",
       "        text-align: right;\n",
       "    }\n",
       "</style>\n",
       "<table border=\"1\" class=\"dataframe\">\n",
       "  <thead>\n",
       "    <tr style=\"text-align: right;\">\n",
       "      <th></th>\n",
       "      <th>valid_datetime</th>\n",
       "      <th>ref_datetime</th>\n",
       "      <th>SolarDownwardRadiation</th>\n",
       "      <th>CloudCover</th>\n",
       "      <th>Temperature</th>\n",
       "      <th>point</th>\n",
       "      <th>latitude</th>\n",
       "      <th>longitude</th>\n",
       "    </tr>\n",
       "  </thead>\n",
       "  <tbody>\n",
       "    <tr>\n",
       "      <th>0</th>\n",
       "      <td>2024-10-02T12:00:00Z</td>\n",
       "      <td>2024-10-02T12:00:00Z</td>\n",
       "      <td>119.61</td>\n",
       "      <td>1.00</td>\n",
       "      <td>13.99</td>\n",
       "      <td>0</td>\n",
       "      <td>52.487256</td>\n",
       "      <td>0.401245</td>\n",
       "    </tr>\n",
       "    <tr>\n",
       "      <th>1</th>\n",
       "      <td>2024-10-02T13:00:00Z</td>\n",
       "      <td>2024-10-02T12:00:00Z</td>\n",
       "      <td>219.60</td>\n",
       "      <td>0.92</td>\n",
       "      <td>14.12</td>\n",
       "      <td>0</td>\n",
       "      <td>52.487256</td>\n",
       "      <td>0.401245</td>\n",
       "    </tr>\n",
       "    <tr>\n",
       "      <th>2</th>\n",
       "      <td>2024-10-02T14:00:00Z</td>\n",
       "      <td>2024-10-02T12:00:00Z</td>\n",
       "      <td>86.32</td>\n",
       "      <td>0.86</td>\n",
       "      <td>13.96</td>\n",
       "      <td>0</td>\n",
       "      <td>52.487256</td>\n",
       "      <td>0.401245</td>\n",
       "    </tr>\n",
       "    <tr>\n",
       "      <th>3</th>\n",
       "      <td>2024-10-02T15:00:00Z</td>\n",
       "      <td>2024-10-02T12:00:00Z</td>\n",
       "      <td>90.85</td>\n",
       "      <td>0.89</td>\n",
       "      <td>13.40</td>\n",
       "      <td>0</td>\n",
       "      <td>52.487256</td>\n",
       "      <td>0.401245</td>\n",
       "    </tr>\n",
       "    <tr>\n",
       "      <th>4</th>\n",
       "      <td>2024-10-02T16:00:00Z</td>\n",
       "      <td>2024-10-02T12:00:00Z</td>\n",
       "      <td>63.36</td>\n",
       "      <td>0.72</td>\n",
       "      <td>13.45</td>\n",
       "      <td>0</td>\n",
       "      <td>52.487256</td>\n",
       "      <td>0.401245</td>\n",
       "    </tr>\n",
       "    <tr>\n",
       "      <th>...</th>\n",
       "      <td>...</td>\n",
       "      <td>...</td>\n",
       "      <td>...</td>\n",
       "      <td>...</td>\n",
       "      <td>...</td>\n",
       "      <td>...</td>\n",
       "      <td>...</td>\n",
       "      <td>...</td>\n",
       "    </tr>\n",
       "    <tr>\n",
       "      <th>88</th>\n",
       "      <td>2024-10-07T00:00:00Z</td>\n",
       "      <td>2024-10-02T12:00:00Z</td>\n",
       "      <td>1.88</td>\n",
       "      <td>0.43</td>\n",
       "      <td>11.57</td>\n",
       "      <td>19</td>\n",
       "      <td>52.078072</td>\n",
       "      <td>-0.011349</td>\n",
       "    </tr>\n",
       "    <tr>\n",
       "      <th>89</th>\n",
       "      <td>2024-10-07T03:00:00Z</td>\n",
       "      <td>2024-10-02T12:00:00Z</td>\n",
       "      <td>0.49</td>\n",
       "      <td>0.34</td>\n",
       "      <td>11.19</td>\n",
       "      <td>19</td>\n",
       "      <td>52.078072</td>\n",
       "      <td>-0.011349</td>\n",
       "    </tr>\n",
       "    <tr>\n",
       "      <th>90</th>\n",
       "      <td>2024-10-07T06:00:00Z</td>\n",
       "      <td>2024-10-02T12:00:00Z</td>\n",
       "      <td>48.66</td>\n",
       "      <td>1.00</td>\n",
       "      <td>11.52</td>\n",
       "      <td>19</td>\n",
       "      <td>52.078072</td>\n",
       "      <td>-0.011349</td>\n",
       "    </tr>\n",
       "    <tr>\n",
       "      <th>91</th>\n",
       "      <td>2024-10-07T09:00:00Z</td>\n",
       "      <td>2024-10-02T12:00:00Z</td>\n",
       "      <td>73.04</td>\n",
       "      <td>1.00</td>\n",
       "      <td>13.45</td>\n",
       "      <td>19</td>\n",
       "      <td>52.078072</td>\n",
       "      <td>-0.011349</td>\n",
       "    </tr>\n",
       "    <tr>\n",
       "      <th>92</th>\n",
       "      <td>2024-10-07T12:00:00Z</td>\n",
       "      <td>2024-10-02T12:00:00Z</td>\n",
       "      <td>NaN</td>\n",
       "      <td>1.00</td>\n",
       "      <td>13.94</td>\n",
       "      <td>19</td>\n",
       "      <td>52.078072</td>\n",
       "      <td>-0.011349</td>\n",
       "    </tr>\n",
       "  </tbody>\n",
       "</table>\n",
       "<p>1860 rows × 8 columns</p>\n",
       "</div>"
      ],
      "text/plain": [
       "          valid_datetime          ref_datetime  SolarDownwardRadiation  \\\n",
       "0   2024-10-02T12:00:00Z  2024-10-02T12:00:00Z                  119.61   \n",
       "1   2024-10-02T13:00:00Z  2024-10-02T12:00:00Z                  219.60   \n",
       "2   2024-10-02T14:00:00Z  2024-10-02T12:00:00Z                   86.32   \n",
       "3   2024-10-02T15:00:00Z  2024-10-02T12:00:00Z                   90.85   \n",
       "4   2024-10-02T16:00:00Z  2024-10-02T12:00:00Z                   63.36   \n",
       "..                   ...                   ...                     ...   \n",
       "88  2024-10-07T00:00:00Z  2024-10-02T12:00:00Z                    1.88   \n",
       "89  2024-10-07T03:00:00Z  2024-10-02T12:00:00Z                    0.49   \n",
       "90  2024-10-07T06:00:00Z  2024-10-02T12:00:00Z                   48.66   \n",
       "91  2024-10-07T09:00:00Z  2024-10-02T12:00:00Z                   73.04   \n",
       "92  2024-10-07T12:00:00Z  2024-10-02T12:00:00Z                     NaN   \n",
       "\n",
       "    CloudCover  Temperature  point   latitude  longitude  \n",
       "0         1.00        13.99      0  52.487256   0.401245  \n",
       "1         0.92        14.12      0  52.487256   0.401245  \n",
       "2         0.86        13.96      0  52.487256   0.401245  \n",
       "3         0.89        13.40      0  52.487256   0.401245  \n",
       "4         0.72        13.45      0  52.487256   0.401245  \n",
       "..         ...          ...    ...        ...        ...  \n",
       "88        0.43        11.57     19  52.078072  -0.011349  \n",
       "89        0.34        11.19     19  52.078072  -0.011349  \n",
       "90        1.00        11.52     19  52.078072  -0.011349  \n",
       "91        1.00        13.45     19  52.078072  -0.011349  \n",
       "92        1.00        13.94     19  52.078072  -0.011349  \n",
       "\n",
       "[1860 rows x 8 columns]"
      ]
     },
     "execution_count": 4,
     "metadata": {},
     "output_type": "execute_result"
    }
   ],
   "source": [
    "rebase_api_client.get_pes10_nwp(model=\"DWD_ICON-EU\")"
   ]
  },
  {
   "cell_type": "code",
   "execution_count": 84,
   "metadata": {},
   "outputs": [
    {
     "name": "stdout",
     "output_type": "stream",
     "text": [
      "Creating new CSV file\n",
      "Updated DWD_ICON-EU weather data\n"
     ]
    }
   ],
   "source": [
    "List_of_models = ['DWD_ICON-EU']\n",
    "for model in List_of_models:\n",
    "    Update_Weather_Data(model)\n",
    "    print(f\"Updated {model} weather data\")"
   ]
  },
  {
   "cell_type": "code",
   "execution_count": 80,
   "metadata": {},
   "outputs": [
    {
     "name": "stdout",
     "output_type": "stream",
     "text": [
      "{'message': \"['SolarDownwardRadiation, Temperature'] is not a valid variable name for DWD_ICON-EU. Possible values are: ['T', 'U', 'V', 'CLCT', 'CLCT', 'CLCL', 'CLCM', 'CLCH', 'ASOB_S', 'ASWDIFD_S', 'ASWDIR_S', 'U_10M', 'V_10M', 'T_2M', 'TOT_PREC', 'RELHUM_2M', 'Temperature', 'WindSpeed', 'WindSpeed:10', 'WindSpeed:100', 'WindDirection', 'WindDirection:10', 'WindDirection:100', 'CloudCover', 'RelativeHumidity', 'SolarDownwardRadiation', 'PressureReducedMSL', 'TotalPrecipitation', 'symbol'].\"}\n"
     ]
    },
    {
     "ename": "KeyError",
     "evalue": "0",
     "output_type": "error",
     "traceback": [
      "\u001b[1;31m---------------------------------------------------------------------------\u001b[0m",
      "\u001b[1;31mKeyError\u001b[0m                                  Traceback (most recent call last)",
      "Cell \u001b[1;32mIn[80], line 14\u001b[0m\n\u001b[0;32m     12\u001b[0m \u001b[38;5;28mprint\u001b[39m(response\u001b[38;5;241m.\u001b[39mjson())\n\u001b[0;32m     13\u001b[0m \u001b[38;5;28;01mfor\u001b[39;00m point \u001b[38;5;129;01min\u001b[39;00m \u001b[38;5;28mrange\u001b[39m(\u001b[38;5;28mlen\u001b[39m(response\u001b[38;5;241m.\u001b[39mjson())):\n\u001b[1;32m---> 14\u001b[0m     new_df \u001b[38;5;241m=\u001b[39m pd\u001b[38;5;241m.\u001b[39mDataFrame(\u001b[43mresponse\u001b[49m\u001b[38;5;241;43m.\u001b[39;49m\u001b[43mjson\u001b[49m\u001b[43m(\u001b[49m\u001b[43m)\u001b[49m\u001b[43m[\u001b[49m\u001b[43mpoint\u001b[49m\u001b[43m]\u001b[49m)\n\u001b[0;32m     15\u001b[0m     new_df[\u001b[38;5;124m'\u001b[39m\u001b[38;5;124mlatitude\u001b[39m\u001b[38;5;124m'\u001b[39m] \u001b[38;5;241m=\u001b[39m lats[point]\n\u001b[0;32m     16\u001b[0m     new_df[\u001b[38;5;124m'\u001b[39m\u001b[38;5;124mlongitude\u001b[39m\u001b[38;5;124m'\u001b[39m] \u001b[38;5;241m=\u001b[39m lons[point]\n",
      "\u001b[1;31mKeyError\u001b[0m: 0"
     ]
    }
   ],
   "source": [
    "url = \"https://api.rebase.energy/weather/v2/query\"\n",
    "# url = \"https://api.rebase.energy/weather/v2/point/historical\"\n",
    "body= {'model': 'DWD_ICON-EU', 'latitude': [52.4872562, 52.8776682],\n",
    "        'longitude': [0.4012455, 0.7906532],\n",
    "          'variables': 'SolarDownwardRadiation, Temperature', 'output-format': 'json', 'forecast-horizon': \"full\",}\n",
    "          # 'start-date': '2024-09-27', 'end-date': '2024-09-29','reference-time-freq': '6H'}\n",
    "\n",
    "response = requests.post(url, json=body, headers={'Authorization': api_key})\n",
    "lats = [52.4872562, 52.8776682, 52.1354277, 52.4880497, 51.9563696, 52.2499177, 52.6416477, 52.2700912, 52.1960768, 52.7082618, 52.4043468, 52.0679429, 52.024023, 52.7681276, 51.8750506, 52.5582373, 52.4478922, 52.5214863, 52.8776682, 52.0780721]\n",
    "lons = [0.4012455, 0.7906532, -0.2640343, -0.1267052, 0.6588173, 1.3894081, 1.3509559, 0.7082557, 0.1534462, 0.7302284, 1.0762977, 1.1751747, 0.2962684, 0.1699257, 0.9115028, 0.7137489, 0.1204872, 1.5706825, 1.1916542, -0.0113488]\n",
    "df = pd.DataFrame()\n",
    "print(response.json())\n",
    "for point in range(len(response.json())):\n",
    "    new_df = pd.DataFrame(response.json()[point])\n",
    "    new_df['latitude'] = lats[point]\n",
    "    new_df['longitude'] = lons[point]\n",
    "    df = pd.concat([df, new_df])\n",
    "   "
   ]
  },
  {
   "cell_type": "markdown",
   "metadata": {},
   "source": [
    "3Tage und 6h"
   ]
  },
  {
   "cell_type": "markdown",
   "metadata": {},
   "source": [
    "full und latest keinen unterschied"
   ]
  },
  {
   "cell_type": "code",
   "execution_count": 63,
   "metadata": {},
   "outputs": [
    {
     "data": {
      "text/html": [
       "<div>\n",
       "<style scoped>\n",
       "    .dataframe tbody tr th:only-of-type {\n",
       "        vertical-align: middle;\n",
       "    }\n",
       "\n",
       "    .dataframe tbody tr th {\n",
       "        vertical-align: top;\n",
       "    }\n",
       "\n",
       "    .dataframe thead th {\n",
       "        text-align: right;\n",
       "    }\n",
       "</style>\n",
       "<table border=\"1\" class=\"dataframe\">\n",
       "  <thead>\n",
       "    <tr style=\"text-align: right;\">\n",
       "      <th></th>\n",
       "      <th>ref_datetime</th>\n",
       "      <th>valid_datetime</th>\n",
       "      <th>SolarDownwardRadiation</th>\n",
       "      <th>CloudCover</th>\n",
       "      <th>Temperature</th>\n",
       "      <th>latitude</th>\n",
       "      <th>longitude</th>\n",
       "    </tr>\n",
       "  </thead>\n",
       "  <tbody>\n",
       "    <tr>\n",
       "      <th>0</th>\n",
       "      <td>2024-10-02T12:00:00Z</td>\n",
       "      <td>2024-10-02T12:00:00Z</td>\n",
       "      <td>119.61</td>\n",
       "      <td>1.00</td>\n",
       "      <td>13.99</td>\n",
       "      <td>52.487256</td>\n",
       "      <td>0.401245</td>\n",
       "    </tr>\n",
       "    <tr>\n",
       "      <th>1</th>\n",
       "      <td>2024-10-02T12:00:00Z</td>\n",
       "      <td>2024-10-02T13:00:00Z</td>\n",
       "      <td>219.60</td>\n",
       "      <td>0.92</td>\n",
       "      <td>14.12</td>\n",
       "      <td>52.487256</td>\n",
       "      <td>0.401245</td>\n",
       "    </tr>\n",
       "    <tr>\n",
       "      <th>2</th>\n",
       "      <td>2024-10-02T12:00:00Z</td>\n",
       "      <td>2024-10-02T14:00:00Z</td>\n",
       "      <td>86.32</td>\n",
       "      <td>0.86</td>\n",
       "      <td>13.96</td>\n",
       "      <td>52.487256</td>\n",
       "      <td>0.401245</td>\n",
       "    </tr>\n",
       "    <tr>\n",
       "      <th>3</th>\n",
       "      <td>2024-10-02T12:00:00Z</td>\n",
       "      <td>2024-10-02T15:00:00Z</td>\n",
       "      <td>90.85</td>\n",
       "      <td>0.89</td>\n",
       "      <td>13.40</td>\n",
       "      <td>52.487256</td>\n",
       "      <td>0.401245</td>\n",
       "    </tr>\n",
       "    <tr>\n",
       "      <th>4</th>\n",
       "      <td>2024-10-02T12:00:00Z</td>\n",
       "      <td>2024-10-02T16:00:00Z</td>\n",
       "      <td>63.36</td>\n",
       "      <td>0.72</td>\n",
       "      <td>13.45</td>\n",
       "      <td>52.487256</td>\n",
       "      <td>0.401245</td>\n",
       "    </tr>\n",
       "    <tr>\n",
       "      <th>...</th>\n",
       "      <td>...</td>\n",
       "      <td>...</td>\n",
       "      <td>...</td>\n",
       "      <td>...</td>\n",
       "      <td>...</td>\n",
       "      <td>...</td>\n",
       "      <td>...</td>\n",
       "    </tr>\n",
       "    <tr>\n",
       "      <th>88</th>\n",
       "      <td>2024-10-02T12:00:00Z</td>\n",
       "      <td>2024-10-07T00:00:00Z</td>\n",
       "      <td>1.88</td>\n",
       "      <td>0.43</td>\n",
       "      <td>11.57</td>\n",
       "      <td>52.078072</td>\n",
       "      <td>-0.011349</td>\n",
       "    </tr>\n",
       "    <tr>\n",
       "      <th>89</th>\n",
       "      <td>2024-10-02T12:00:00Z</td>\n",
       "      <td>2024-10-07T03:00:00Z</td>\n",
       "      <td>0.49</td>\n",
       "      <td>0.34</td>\n",
       "      <td>11.19</td>\n",
       "      <td>52.078072</td>\n",
       "      <td>-0.011349</td>\n",
       "    </tr>\n",
       "    <tr>\n",
       "      <th>90</th>\n",
       "      <td>2024-10-02T12:00:00Z</td>\n",
       "      <td>2024-10-07T06:00:00Z</td>\n",
       "      <td>48.66</td>\n",
       "      <td>1.00</td>\n",
       "      <td>11.52</td>\n",
       "      <td>52.078072</td>\n",
       "      <td>-0.011349</td>\n",
       "    </tr>\n",
       "    <tr>\n",
       "      <th>91</th>\n",
       "      <td>2024-10-02T12:00:00Z</td>\n",
       "      <td>2024-10-07T09:00:00Z</td>\n",
       "      <td>73.04</td>\n",
       "      <td>1.00</td>\n",
       "      <td>13.45</td>\n",
       "      <td>52.078072</td>\n",
       "      <td>-0.011349</td>\n",
       "    </tr>\n",
       "    <tr>\n",
       "      <th>92</th>\n",
       "      <td>2024-10-02T12:00:00Z</td>\n",
       "      <td>2024-10-07T12:00:00Z</td>\n",
       "      <td>NaN</td>\n",
       "      <td>1.00</td>\n",
       "      <td>13.94</td>\n",
       "      <td>52.078072</td>\n",
       "      <td>-0.011349</td>\n",
       "    </tr>\n",
       "  </tbody>\n",
       "</table>\n",
       "<p>1860 rows × 7 columns</p>\n",
       "</div>"
      ],
      "text/plain": [
       "            ref_datetime        valid_datetime  SolarDownwardRadiation  \\\n",
       "0   2024-10-02T12:00:00Z  2024-10-02T12:00:00Z                  119.61   \n",
       "1   2024-10-02T12:00:00Z  2024-10-02T13:00:00Z                  219.60   \n",
       "2   2024-10-02T12:00:00Z  2024-10-02T14:00:00Z                   86.32   \n",
       "3   2024-10-02T12:00:00Z  2024-10-02T15:00:00Z                   90.85   \n",
       "4   2024-10-02T12:00:00Z  2024-10-02T16:00:00Z                   63.36   \n",
       "..                   ...                   ...                     ...   \n",
       "88  2024-10-02T12:00:00Z  2024-10-07T00:00:00Z                    1.88   \n",
       "89  2024-10-02T12:00:00Z  2024-10-07T03:00:00Z                    0.49   \n",
       "90  2024-10-02T12:00:00Z  2024-10-07T06:00:00Z                   48.66   \n",
       "91  2024-10-02T12:00:00Z  2024-10-07T09:00:00Z                   73.04   \n",
       "92  2024-10-02T12:00:00Z  2024-10-07T12:00:00Z                     NaN   \n",
       "\n",
       "    CloudCover  Temperature   latitude  longitude  \n",
       "0         1.00        13.99  52.487256   0.401245  \n",
       "1         0.92        14.12  52.487256   0.401245  \n",
       "2         0.86        13.96  52.487256   0.401245  \n",
       "3         0.89        13.40  52.487256   0.401245  \n",
       "4         0.72        13.45  52.487256   0.401245  \n",
       "..         ...          ...        ...        ...  \n",
       "88        0.43        11.57  52.078072  -0.011349  \n",
       "89        0.34        11.19  52.078072  -0.011349  \n",
       "90        1.00        11.52  52.078072  -0.011349  \n",
       "91        1.00        13.45  52.078072  -0.011349  \n",
       "92        1.00        13.94  52.078072  -0.011349  \n",
       "\n",
       "[1860 rows x 7 columns]"
      ]
     },
     "execution_count": 63,
     "metadata": {},
     "output_type": "execute_result"
    }
   ],
   "source": [
    "df"
   ]
  },
  {
   "cell_type": "code",
   "execution_count": 16,
   "metadata": {},
   "outputs": [
    {
     "data": {
      "text/plain": [
       "0    [2024-10-02T12:00:00Z, 2024-10-02T12:00:00Z, 2...\n",
       "Name: ref_datetime, dtype: object"
      ]
     },
     "execution_count": 16,
     "metadata": {},
     "output_type": "execute_result"
    }
   ],
   "source": [
    "df[0:1][\"ref_datetime\"]"
   ]
  },
  {
   "cell_type": "code",
   "execution_count": null,
   "metadata": {},
   "outputs": [],
   "source": [
    "df = pd.DataFrame()\n",
    "    for point in range(len(data)):\n",
    "      new_df = pd.DataFrame(data[point])\n",
    "      new_df[\"point\"] = point\n",
    "      new_df[\"latitude\"] = lats[point]\n",
    "      new_df[\"longitude\"] = lons[point]\n",
    "      df = pd.concat([df,new_df])"
   ]
  },
  {
   "cell_type": "code",
   "execution_count": null,
   "metadata": {},
   "outputs": [],
   "source": [
    "# everything for \n",
    "rebase_api_client.get_hornsea_dwd()"
   ]
  },
  {
   "cell_type": "code",
   "execution_count": 69,
   "metadata": {},
   "outputs": [],
   "source": [
    "def update_day_ahead_price_csv(min_date, csv_path='day_ahead_price.csv'):\n",
    "    \"\"\"\n",
    "    Fetches day-ahead prices from the Rebase API and appends them to a CSV file.\n",
    "    The CSV file is created if it does not exist.\n",
    "    :param min_date: The earliest date to fetch data for, in the format 'YYYY-MM-DD'\n",
    "    :param csv_path: The path to the CSV file to read/write\n",
    "    :return: None\n",
    "    \"\"\"\n",
    "    try:\n",
    "        min_date = datetime.strptime(min_date, '%Y-%m-%d').date()\n",
    "        today = datetime.today().date()\n",
    "        \n",
    "        # Initialize an empty DataFrame\n",
    "        if os.path.exists(csv_path):\n",
    "            try:\n",
    "                df = pd.read_csv(csv_path)\n",
    "                min_date = df['settlement_date'].max()\n",
    "                # df['timestamp_utc'] = pd.to_datetime(df['timestamp_utc'])\n",
    "                print(f\"Loaded existing CSV with {len(df)} rows\")\n",
    "            except Exception as e:\n",
    "                print(f\"Error reading existing CSV: {e}\")\n",
    "                df = pd.DataFrame(columns=['timestamp_utc', 'settlement_date', 'settlement_period', 'price'])\n",
    "        else:\n",
    "            df = pd.DataFrame(columns=['timestamp_utc', 'settlement_date', 'settlement_period', 'price'])\n",
    "            print(\"Creating new CSV file\")\n",
    "        \n",
    "        # Generate dates to updat\n",
    "        print(f\"min_date: {min_date}, today: {today}\")\n",
    "        dates_to_update = pd.date_range(start=min_date, end=today, freq='D')\n",
    "        try:\n",
    "            for date in dates_to_update:\n",
    "                date_str = date.strftime('%Y-%m-%d')\n",
    "                prices = rebase_api_client.get_day_ahead_price(date_str)\n",
    "                if len(prices):\n",
    "                    print(f\"Fetched {len(prices)} prices for {date_str}\")\n",
    "                    new_df = pd.DataFrame(prices)\n",
    "                    # new_df['timestamp_utc'] = pd.to_datetime(new_df['timestamp_utc'])\n",
    "                    df = pd.concat([df, new_df], ignore_index=True)\n",
    "                else:\n",
    "                    print(f\"No data returned for {date_str}\")\n",
    "            df.drop_duplicates(inplace=True)\n",
    "            df.to_csv(csv_path, index=False)\n",
    "        except Exception as e:\n",
    "            print(f\"Error fetching data for {date_str}: {e}\")\n",
    "    \n",
    "    except Exception as e:\n",
    "        print(f\"An unexpected error occurred: {e}\")\n",
    "        return False"
   ]
  },
  {
   "cell_type": "code",
   "execution_count": 80,
   "metadata": {},
   "outputs": [],
   "source": [
    "def update_market_index_csv(min_date, csv_path='market_index.csv'):\n",
    "    \"\"\"\n",
    "    Fetches market index data from the Rebase API and appends it to a CSV file.\n",
    "    The CSV file is created if it does not exist.\n",
    "    :param min_date: The earliest date to fetch data for, in the format 'YYYY-MM-DD'\n",
    "    :param csv_path: The path to the CSV file to read/write\n",
    "    :return: None\n",
    "    \"\"\"\n",
    "    try:\n",
    "        min_date = datetime.strptime(min_date, '%Y-%m-%d').date()\n",
    "        today = datetime.today().date()\n",
    "        \n",
    "        # Initialize an empty DataFrame\n",
    "        if os.path.exists(csv_path):\n",
    "            try:\n",
    "                df = pd.read_csv(csv_path)\n",
    "                min_date = df['timestamp_utc'].max()\n",
    "                df['timestamp_utc'] = pd.to_datetime(df['timestamp_utc'])\n",
    "                print(f\"Loaded existing CSV with {len(df)} rows\")\n",
    "            except Exception as e:\n",
    "                print(f\"Error reading existing CSV: {e}\")\n",
    "                df = pd.DataFrame(columns=['timestamp_utc', 'index'])\n",
    "        else:\n",
    "            df = pd.DataFrame(columns=['timestamp_utc', 'index'])\n",
    "            print(\"Creating new CSV file\")\n",
    "        \n",
    "        # Generate dates to update\n",
    "        print(f\"min_date: {min_date}, today: {today}\")\n",
    "        dates_to_update = pd.date_range(start=min_date, end=today, freq='D')\n",
    "        try:\n",
    "            for date in dates_to_update:\n",
    "                date_str = date.strftime('%Y-%m-%d')\n",
    "                indices = rebase_api_client.get_market_index(date_str)\n",
    "                if len(indices):\n",
    "                    print(f\"Fetched {len(indices)} indices for {date_str}\")\n",
    "                    new_df = pd.DataFrame(indices)\n",
    "                    new_df['timestamp_utc'] = pd.to_datetime(new_df['timestamp_utc'])\n",
    "                    df = pd.concat([df, new_df], ignore_index=True)\n",
    "                else:\n",
    "                    print(f\"No data returned for {date_str}\")\n",
    "            df.drop_duplicates(subset=['timestamp_utc'], inplace=True)\n",
    "            df.to_csv(csv_path, index=False)\n",
    "        except Exception as e:\n",
    "            print(f\"Error fetching data for {date_str}: {e}\")\n",
    "    \n",
    "    except Exception as e:\n",
    "        print(f\"An unexpected error occurred: {e}\")\n",
    "        return False"
   ]
  },
  {
   "cell_type": "code",
   "execution_count": 82,
   "metadata": {},
   "outputs": [],
   "source": [
    "def update_imbalance_price_csv(min_date, csv_path='imbalance_price.csv'):\n",
    "    \"\"\"\n",
    "    Fetches imbalance prices from the Rebase API and appends them to a CSV file.\n",
    "    The CSV file is created if it does not exist.\n",
    "    :param min_date: The earliest date to fetch data for, in the format 'YYYY-MM-DD'\n",
    "    :param csv_path: The path to the CSV file to read/write\n",
    "    :return: None\n",
    "    \"\"\"\n",
    "    try:\n",
    "        min_date = datetime.strptime(min_date, '%Y-%m-%d').date()\n",
    "        today = datetime.today().date()\n",
    "        \n",
    "        # Initialize an empty DataFrame\n",
    "        if os.path.exists(csv_path):\n",
    "            try:\n",
    "                df = pd.read_csv(csv_path)\n",
    "                min_date = df['timestamp_utc'].max()\n",
    "                df['timestamp_utc'] = pd.to_datetime(df['timestamp_utc'])\n",
    "                print(f\"Loaded existing CSV with {len(df)} rows\")\n",
    "            except Exception as e:\n",
    "                print(f\"Error reading existing CSV: {e}\")\n",
    "                df = pd.DataFrame(columns=['timestamp_utc', 'price'])\n",
    "        else:\n",
    "            df = pd.DataFrame(columns=['timestamp_utc', 'price'])\n",
    "            print(\"Creating new CSV file\")\n",
    "        \n",
    "        # Generate dates to update\n",
    "        print(f\"min_date: {min_date}, today: {today}\")\n",
    "        dates_to_update = pd.date_range(start=min_date, end=today, freq='D')\n",
    "        try:\n",
    "            for date in dates_to_update:\n",
    "                date_str = date.strftime('%Y-%m-%d')\n",
    "                prices = rebase_api_client.get_imbalance_price(date_str)\n",
    "                if len(prices):\n",
    "                    print(f\"Fetched {len(prices)} prices for {date_str}\")\n",
    "                    new_df = pd.DataFrame(prices)\n",
    "                    new_df['timestamp_utc'] = pd.to_datetime(new_df['timestamp_utc'])\n",
    "                    df = pd.concat([df, new_df], ignore_index=True)\n",
    "                else:\n",
    "                    print(f\"No data returned for {date_str}\")\n",
    "            df.drop_duplicates(subset=['timestamp_utc'], inplace=True)\n",
    "            df.to_csv(csv_path, index=False)\n",
    "        except Exception as e:\n",
    "            print(f\"Error fetching data for {date_str}: {e}\")\n",
    "    \n",
    "    except Exception as e:\n",
    "        print(f\"An unexpected error occurred: {e}\")\n",
    "        return False"
   ]
  },
  {
   "cell_type": "code",
   "execution_count": 84,
   "metadata": {},
   "outputs": [],
   "source": [
    "def update_wind_total_prduction_csv(min_date, csv_path='wind_total_production.csv'):\n",
    "    \"\"\"\n",
    "    Fetches total wind production data from the Rebase API and appends it to a CSV file.\n",
    "    The CSV file is created if it does not exist.\n",
    "    :param min_date: The earliest date to fetch data for, in the format 'YYYY-MM-DD'\n",
    "    :param csv_path: The path to the CSV file to read/write\n",
    "    :return: None\n",
    "    \"\"\"\n",
    "    try:\n",
    "        min_date = datetime.strptime(min_date, '%Y-%m-%d').date()\n",
    "        today = datetime.today().date()\n",
    "        \n",
    "        # Initialize an empty DataFrame\n",
    "        if os.path.exists(csv_path):\n",
    "            try:\n",
    "                df = pd.read_csv(csv_path)\n",
    "                min_date = df['timestamp_utc'].max()\n",
    "                df['timestamp_utc'] = pd.to_datetime(df['timestamp_utc'])\n",
    "                print(f\"Loaded existing CSV with {len(df)} rows\")\n",
    "            except Exception as e:\n",
    "                print(f\"Error reading existing CSV: {e}\")\n",
    "                df = pd.DataFrame(columns=['timestamp_utc', 'production'])\n",
    "        else:\n",
    "            df = pd.DataFrame(columns=['timestamp_utc', 'production'])\n",
    "            print(\"Creating new CSV file\")\n",
    "        \n",
    "        # Generate dates to update\n",
    "        print(f\"min_date: {min_date}, today: {today}\")\n",
    "        dates_to_update = pd.date_range(start=min_date, end=today, freq='D')\n",
    "        try:\n",
    "            for date in dates_to_update:\n",
    "                date_str = date.strftime('%Y-%m-%d')\n",
    "                productions = rebase_api_client.get_wind_total_production(date_str)\n",
    "                if len(productions):\n",
    "                    print(f\"Fetched {len(productions)} productions for {date_str}\")\n",
    "                    new_df = pd.DataFrame(productions)\n",
    "                    new_df['timestamp_utc'] = pd.to_datetime(new_df['timestamp_utc'])\n",
    "                    df = pd.concat([df, new_df], ignore_index=True)\n",
    "                else:\n",
    "                    print(f\"No data returned for {date_str}\")\n",
    "            df.drop_duplicates(subset=['timestamp_utc'], inplace=True)\n",
    "            df.to_csv(csv_path, index=False)\n",
    "        except Exception as e:\n",
    "            print(f\"Error fetching data for {date_str}: {e}\")\n",
    "    \n",
    "    except Exception as e:\n",
    "        print(f\"An unexpected error occurred: {e}\")\n",
    "        return False"
   ]
  },
  {
   "cell_type": "code",
   "execution_count": 86,
   "metadata": {},
   "outputs": [],
   "source": [
    "def update_solar_total_prodcution_csv(min_date, csv_path='solar_total_production.csv'):\n",
    "    \"\"\"\n",
    "    Fetches total solar production data from the Rebase API and appends it to a CSV file.\n",
    "    The CSV file is created if it does not exist.\n",
    "    :param min_date: The earliest date to fetch data for, in the format 'YYYY-MM-DD'\n",
    "    :param csv_path: The path to the CSV file to read/write\n",
    "    :return: None\n",
    "    \"\"\"\n",
    "    try:\n",
    "        min_date = datetime.strptime(min_date, '%Y-%m-%d').date()\n",
    "        today = datetime.today().date()\n",
    "        \n",
    "        # Initialize an empty DataFrame\n",
    "        if os.path.exists(csv_path):\n",
    "            try:\n",
    "                df = pd.read_csv(csv_path)\n",
    "                min_date = df['timestamp_utc'].max()\n",
    "                df['timestamp_utc'] = pd.to_datetime(df['timestamp_utc'])\n",
    "                print(f\"Loaded existing CSV with {len(df)} rows\")\n",
    "            except Exception as e:\n",
    "                print(f\"Error reading existing CSV: {e}\")\n",
    "                df = pd.DataFrame(columns=['timestamp_utc', 'production'])\n",
    "        else:\n",
    "            df = pd.DataFrame(columns=['timestamp_utc', 'production'])\n",
    "            print(\"Creating new CSV file\")\n",
    "        \n",
    "        # Generate dates to update\n",
    "        print(f\"min_date: {min_date}, today: {today}\")\n",
    "        dates_to_update = pd.date_range(start=min_date, end=today, freq='D')\n",
    "        try:\n",
    "            for date in dates_to_update:\n",
    "                date_str = date.strftime('%Y-%m-%d')\n",
    "                productions = rebase_api_client.get_solar_total_production(date_str)\n",
    "                if len(productions):\n",
    "                    print(f\"Fetched {len(productions)} productions for {date_str}\")\n",
    "                    new_df = pd.DataFrame(productions)\n",
    "                    new_df['timestamp_utc'] = pd.to_datetime(new_df['timestamp_utc'])\n",
    "                    df = pd.concat([df, new_df], ignore_index=True)\n",
    "                else:\n",
    "                    print(f\"No data returned for {date_str}\")\n",
    "            df.drop_duplicates(subset=['timestamp_utc'], inplace=True)\n",
    "            df.to_csv(csv_path, index=False)\n",
    "        except Exception as e:\n",
    "            print(f\"Error fetching data for {date_str}: {e}\")\n",
    "    \n",
    "    except Exception as e:\n",
    "        print(f\"An unexpected error occurred: {e}\")\n",
    "        return False"
   ]
  },
  {
   "cell_type": "code",
   "execution_count": 94,
   "metadata": {},
   "outputs": [],
   "source": [
    "def update_solar_wind_forecast_csv(min_date, csv_path='solar_wind_forecast.csv'):\n",
    "    \"\"\"\n",
    "    Fetches solar and wind forecast data from the Rebase API and appends it to a CSV file.\n",
    "    The CSV file is created if it does not exist.\n",
    "    :param min_date: The earliest date to fetch data for, in the format 'YYYY-MM-DD'\n",
    "    :param csv_path: The path to the CSV file to read/write\n",
    "    :return: None\n",
    "    \"\"\"\n",
    "    try:\n",
    "        min_date = datetime.strptime(min_date, '%Y-%m-%d').date()\n",
    "        today = datetime.today().date()\n",
    "        \n",
    "        # Initialize an empty DataFrame\n",
    "        if os.path.exists(csv_path):\n",
    "            try:\n",
    "                df = pd.read_csv(csv_path)\n",
    "                min_date = df['timestamp_utc'].max()\n",
    "                df['timestamp_utc'] = pd.to_datetime(df['timestamp_utc'])\n",
    "                print(f\"Loaded existing CSV with {len(df)} rows\")\n",
    "            except Exception as e:\n",
    "                print(f\"Error reading existing CSV: {e}\")\n",
    "                df = pd.DataFrame(columns=['timestamp_utc', 'solar_forecast', 'wind_forecast'])\n",
    "        else:\n",
    "            df = pd.DataFrame(columns=['timestamp_utc', 'solar_forecast', 'wind_forecast'])\n",
    "            print(\"Creating new CSV file\")\n",
    "        \n",
    "        # Generate dates to update\n",
    "        print(f\"min_date: {min_date}, today: {today}\")\n",
    "        dates_to_update = pd.date_range(start=min_date, end=today, freq='D')\n",
    "        try:\n",
    "            for date in dates_to_update:\n",
    "                date_str = date.strftime('%Y-%m-%d')\n",
    "                forecasts = rebase_api_client.get_solar_wind_forecast(date_str)\n",
    "                if len(forecasts):\n",
    "                    print(f\"Fetched {len(forecasts)} forecasts for {date_str}\")\n",
    "                    new_df = pd.DataFrame(forecasts)\n",
    "                    new_df['timestamp_utc'] = pd.to_datetime(new_df['timestamp_utc'])\n",
    "                    df = pd.concat([df, new_df], ignore_index=True)\n",
    "                else:\n",
    "                    print(f\"No data returned for {date_str}\")\n",
    "            df.drop_duplicates(subset=['timestamp_utc'], inplace=True)\n",
    "            df.to_csv(csv_path, index=False)\n",
    "        except Exception as e:\n",
    "            print(f\"Error fetching data for {date_str}: {e}\")\n",
    "    \n",
    "    except Exception as e:\n",
    "        print(f\"An unexpected error occurred: {e}\")\n",
    "        return False"
   ]
  },
  {
   "cell_type": "code",
   "execution_count": 18,
   "metadata": {},
   "outputs": [],
   "source": [
    "def update_margin_forecast(csv_path='margin_forecast.csv'):\n",
    "    \"\"\"\n",
    "    Fetches solar and wind forecast data from the Rebase API and appends it to a CSV file.\n",
    "    The CSV file is created if it does not exist.\n",
    "    :param min_date: The earliest date to fetch data for, in the format 'YYYY-MM-DD'\n",
    "    :param csv_path: The path to the CSV file to read/write\n",
    "    :return: None\n",
    "    \"\"\"\n",
    "    try:\n",
    "        # Initialize an empty DataFrame\n",
    "        if os.path.exists(csv_path):\n",
    "            try:\n",
    "                df = pd.read_csv(csv_path)\n",
    "                print(f\"Loaded existing CSV with {len(df)} rows\")\n",
    "            except Exception as e:\n",
    "                print(f\"Error reading existing CSV: {e}\")\n",
    "                df = pd.DataFrame(columns=['forecast_date', 'publish_time_utc', 'margin'])\n",
    "        else:\n",
    "            df = pd.DataFrame(columns=['forecast_date', 'publish_time_utc', 'margin'])\n",
    "            print(\"Creating new CSV file\")\n",
    "        \n",
    "        # Generate dates to update\n",
    "        try:\n",
    "            forecasts = rebase_api_client.get_margin_forecast()\n",
    "            if len(forecasts):\n",
    "                print(f\"Fetched {len(forecasts)} forecasts\")\n",
    "                new_df = pd.DataFrame(forecasts)\n",
    "                # new_df['timestamp_utc'] = pd.to_datetime(new_df['timestamp_utc'])\n",
    "                df = pd.concat([df, new_df], ignore_index=True)\n",
    "            else:\n",
    "                print(f\"No data returned for\")\n",
    "            df.drop_duplicates(inplace=True)\n",
    "            df.to_csv(csv_path, index=False)\n",
    "        except Exception as e:\n",
    "            print(f\"Error fetching data for : {e}\")\n",
    "    \n",
    "    except Exception as e:\n",
    "        print(f\"An unexpected error occurred: {e}\")\n",
    "        return False"
   ]
  },
  {
   "cell_type": "code",
   "execution_count": 4,
   "metadata": {},
   "outputs": [],
   "source": [
    "def update_day_ahead_demand_forecast(csv_path='day_ahead_demand_forecast.csv'):\n",
    "    \"\"\"\n",
    "    Fetches solar and wind forecast data from the Rebase API and appends it to a CSV file.\n",
    "    The CSV file is created if it does not exist.\n",
    "    :param min_date: The earliest date to fetch data for, in the format 'YYYY-MM-DD'\n",
    "    :param csv_path: The path to the CSV file to read/write\n",
    "    :return: None\n",
    "    \"\"\"\n",
    "    try:\n",
    "        # Initialize an empty DataFrame\n",
    "        if os.path.exists(csv_path):\n",
    "            try:\n",
    "                df = pd.read_csv(csv_path)\n",
    "                print(f\"Loaded existing CSV with {len(df)} rows\")\n",
    "            except Exception as e:\n",
    "                print(f\"Error reading existing CSV: {e}\")\n",
    "                df = pd.DataFrame(columns=['timestamp_utc', 'settlement_date', 'settlement_period', 'boundary',\n",
    "                    'publish_time_utc', 'transmission_system_demand', 'national_demand'])\n",
    "        else:\n",
    "            df = pd.DataFrame(columns=['timestamp_utc', 'settlement_date', 'settlement_period', 'boundary',\n",
    "                'publish_time_utc', 'transmission_system_demand', 'national_demand'])\n",
    "            print(\"Creating new CSV file\")\n",
    "        \n",
    "        # Generate dates to update\n",
    "        try:\n",
    "            forecasts = rebase_api_client.get_day_ahead_demand_forecast()\n",
    "            if len(forecasts):\n",
    "                print(f\"Fetched {len(forecasts)} forecasts\")\n",
    "                new_df = pd.DataFrame(forecasts)\n",
    "                df = pd.concat([df, new_df], ignore_index=True)\n",
    "            else:\n",
    "                print(f\"No data returned for\")\n",
    "            df.drop_duplicates(inplace=True)\n",
    "            df.to_csv(csv_path, index=False)\n",
    "        except Exception as e:\n",
    "            print(f\"Error fetching data for : {e}\")\n",
    "    \n",
    "    except Exception as e:\n",
    "        print(f\"An unexpected error occurred: {e}\")\n",
    "        return False"
   ]
  },
  {
   "cell_type": "code",
   "execution_count": 112,
   "metadata": {},
   "outputs": [
    {
     "name": "stderr",
     "output_type": "stream",
     "text": [
      "c:\\Temp\\EnergyProject\\HEFTcom24\\Lib\\site-packages\\urllib3\\connectionpool.py:1099: InsecureRequestWarning: Unverified HTTPS request is being made to host 'srv01prox.corp.trumpf.com'. Adding certificate verification is strongly advised. See: https://urllib3.readthedocs.io/en/latest/advanced-usage.html#tls-warnings\n",
      "  warnings.warn(\n"
     ]
    },
    {
     "data": {
      "text/plain": [
       "Index(['timestamp_utc', 'settlement_date', 'settlement_period', 'solar_mw',\n",
       "       'wind_offshore_mw', 'wind_onshore_mw'],\n",
       "      dtype='object')"
      ]
     },
     "execution_count": 112,
     "metadata": {},
     "output_type": "execute_result"
    }
   ],
   "source": [
    "rebase_api_client.get_solar_wind_forecast('2024-09-01').columns"
   ]
  },
  {
   "cell_type": "code",
   "execution_count": 20,
   "metadata": {},
   "outputs": [
    {
     "name": "stderr",
     "output_type": "stream",
     "text": [
      "c:\\Temp\\EnergyProject\\HEFTcom24\\Lib\\site-packages\\urllib3\\connectionpool.py:1099: InsecureRequestWarning: Unverified HTTPS request is being made to host 'srv01prox.corp.trumpf.com'. Adding certificate verification is strongly advised. See: https://urllib3.readthedocs.io/en/latest/advanced-usage.html#tls-warnings\n",
      "  warnings.warn(\n"
     ]
    },
    {
     "name": "stdout",
     "output_type": "stream",
     "text": [
      "<Response [200]>\n"
     ]
    }
   ],
   "source": [
    "df1 = pd.DataFrame(rebase_api_client.get_day_ahead_demand_forecast())"
   ]
  },
  {
   "cell_type": "code",
   "execution_count": 21,
   "metadata": {},
   "outputs": [
    {
     "data": {
      "text/plain": [
       "Index(['timestamp_utc', 'settlement_date', 'settlement_period', 'boundary',\n",
       "       'publish_time_utc', 'transmission_system_demand', 'national_demand'],\n",
       "      dtype='object')"
      ]
     },
     "execution_count": 21,
     "metadata": {},
     "output_type": "execute_result"
    }
   ],
   "source": [
    "df1.columns"
   ]
  },
  {
   "cell_type": "code",
   "execution_count": 10,
   "metadata": {},
   "outputs": [],
   "source": [
    "times = day_ahead_market_times()"
   ]
  },
  {
   "cell_type": "code",
   "execution_count": 14,
   "metadata": {},
   "outputs": [
    {
     "data": {
      "text/plain": [
       "DatetimeIndex(['2024-10-02 23:00:00+01:00', '2024-10-02 23:30:00+01:00',\n",
       "               '2024-10-03 00:00:00+01:00', '2024-10-03 00:30:00+01:00',\n",
       "               '2024-10-03 01:00:00+01:00', '2024-10-03 01:30:00+01:00',\n",
       "               '2024-10-03 02:00:00+01:00', '2024-10-03 02:30:00+01:00',\n",
       "               '2024-10-03 03:00:00+01:00', '2024-10-03 03:30:00+01:00',\n",
       "               '2024-10-03 04:00:00+01:00', '2024-10-03 04:30:00+01:00',\n",
       "               '2024-10-03 05:00:00+01:00', '2024-10-03 05:30:00+01:00',\n",
       "               '2024-10-03 06:00:00+01:00', '2024-10-03 06:30:00+01:00',\n",
       "               '2024-10-03 07:00:00+01:00', '2024-10-03 07:30:00+01:00',\n",
       "               '2024-10-03 08:00:00+01:00', '2024-10-03 08:30:00+01:00',\n",
       "               '2024-10-03 09:00:00+01:00', '2024-10-03 09:30:00+01:00',\n",
       "               '2024-10-03 10:00:00+01:00', '2024-10-03 10:30:00+01:00',\n",
       "               '2024-10-03 11:00:00+01:00', '2024-10-03 11:30:00+01:00',\n",
       "               '2024-10-03 12:00:00+01:00', '2024-10-03 12:30:00+01:00',\n",
       "               '2024-10-03 13:00:00+01:00', '2024-10-03 13:30:00+01:00',\n",
       "               '2024-10-03 14:00:00+01:00', '2024-10-03 14:30:00+01:00',\n",
       "               '2024-10-03 15:00:00+01:00', '2024-10-03 15:30:00+01:00',\n",
       "               '2024-10-03 16:00:00+01:00', '2024-10-03 16:30:00+01:00',\n",
       "               '2024-10-03 17:00:00+01:00', '2024-10-03 17:30:00+01:00',\n",
       "               '2024-10-03 18:00:00+01:00', '2024-10-03 18:30:00+01:00',\n",
       "               '2024-10-03 19:00:00+01:00', '2024-10-03 19:30:00+01:00',\n",
       "               '2024-10-03 20:00:00+01:00', '2024-10-03 20:30:00+01:00',\n",
       "               '2024-10-03 21:00:00+01:00', '2024-10-03 21:30:00+01:00',\n",
       "               '2024-10-03 22:00:00+01:00', '2024-10-03 22:30:00+01:00'],\n",
       "              dtype='datetime64[ns, Europe/London]', freq='30min')"
      ]
     },
     "execution_count": 14,
     "metadata": {},
     "output_type": "execute_result"
    }
   ],
   "source": [
    "times"
   ]
  },
  {
   "cell_type": "code",
   "execution_count": null,
   "metadata": {},
   "outputs": [],
   "source": [
    "rebase_api_client.get_hornsea_dwd()"
   ]
  },
  {
   "cell_type": "code",
   "execution_count": 6,
   "metadata": {},
   "outputs": [
    {
     "ename": "ConnectTimeout",
     "evalue": "HTTPSConnectionPool(host='api.rebase.energy', port=443): Max retries exceeded with url: /challenges/data/day_ahead_price?day=2024-09-30 (Caused by ConnectTimeoutError(<urllib3.connection.HTTPSConnection object at 0x000001961D7E5010>, 'Connection to api.rebase.energy timed out. (connect timeout=None)'))",
     "output_type": "error",
     "traceback": [
      "\u001b[1;31m---------------------------------------------------------------------------\u001b[0m",
      "\u001b[1;31mTimeoutError\u001b[0m                              Traceback (most recent call last)",
      "File \u001b[1;32mc:\\Temp\\EnergyProject\\HEFTcom24\\Lib\\site-packages\\urllib3\\connection.py:199\u001b[0m, in \u001b[0;36mHTTPConnection._new_conn\u001b[1;34m(self)\u001b[0m\n\u001b[0;32m    198\u001b[0m \u001b[38;5;28;01mtry\u001b[39;00m:\n\u001b[1;32m--> 199\u001b[0m     sock \u001b[38;5;241m=\u001b[39m \u001b[43mconnection\u001b[49m\u001b[38;5;241;43m.\u001b[39;49m\u001b[43mcreate_connection\u001b[49m\u001b[43m(\u001b[49m\n\u001b[0;32m    200\u001b[0m \u001b[43m        \u001b[49m\u001b[43m(\u001b[49m\u001b[38;5;28;43mself\u001b[39;49m\u001b[38;5;241;43m.\u001b[39;49m\u001b[43m_dns_host\u001b[49m\u001b[43m,\u001b[49m\u001b[43m \u001b[49m\u001b[38;5;28;43mself\u001b[39;49m\u001b[38;5;241;43m.\u001b[39;49m\u001b[43mport\u001b[49m\u001b[43m)\u001b[49m\u001b[43m,\u001b[49m\n\u001b[0;32m    201\u001b[0m \u001b[43m        \u001b[49m\u001b[38;5;28;43mself\u001b[39;49m\u001b[38;5;241;43m.\u001b[39;49m\u001b[43mtimeout\u001b[49m\u001b[43m,\u001b[49m\n\u001b[0;32m    202\u001b[0m \u001b[43m        \u001b[49m\u001b[43msource_address\u001b[49m\u001b[38;5;241;43m=\u001b[39;49m\u001b[38;5;28;43mself\u001b[39;49m\u001b[38;5;241;43m.\u001b[39;49m\u001b[43msource_address\u001b[49m\u001b[43m,\u001b[49m\n\u001b[0;32m    203\u001b[0m \u001b[43m        \u001b[49m\u001b[43msocket_options\u001b[49m\u001b[38;5;241;43m=\u001b[39;49m\u001b[38;5;28;43mself\u001b[39;49m\u001b[38;5;241;43m.\u001b[39;49m\u001b[43msocket_options\u001b[49m\u001b[43m,\u001b[49m\n\u001b[0;32m    204\u001b[0m \u001b[43m    \u001b[49m\u001b[43m)\u001b[49m\n\u001b[0;32m    205\u001b[0m \u001b[38;5;28;01mexcept\u001b[39;00m socket\u001b[38;5;241m.\u001b[39mgaierror \u001b[38;5;28;01mas\u001b[39;00m e:\n",
      "File \u001b[1;32mc:\\Temp\\EnergyProject\\HEFTcom24\\Lib\\site-packages\\urllib3\\util\\connection.py:85\u001b[0m, in \u001b[0;36mcreate_connection\u001b[1;34m(address, timeout, source_address, socket_options)\u001b[0m\n\u001b[0;32m     84\u001b[0m \u001b[38;5;28;01mtry\u001b[39;00m:\n\u001b[1;32m---> 85\u001b[0m     \u001b[38;5;28;01mraise\u001b[39;00m err\n\u001b[0;32m     86\u001b[0m \u001b[38;5;28;01mfinally\u001b[39;00m:\n\u001b[0;32m     87\u001b[0m     \u001b[38;5;66;03m# Break explicitly a reference cycle\u001b[39;00m\n",
      "File \u001b[1;32mc:\\Temp\\EnergyProject\\HEFTcom24\\Lib\\site-packages\\urllib3\\util\\connection.py:73\u001b[0m, in \u001b[0;36mcreate_connection\u001b[1;34m(address, timeout, source_address, socket_options)\u001b[0m\n\u001b[0;32m     72\u001b[0m     sock\u001b[38;5;241m.\u001b[39mbind(source_address)\n\u001b[1;32m---> 73\u001b[0m \u001b[43msock\u001b[49m\u001b[38;5;241;43m.\u001b[39;49m\u001b[43mconnect\u001b[49m\u001b[43m(\u001b[49m\u001b[43msa\u001b[49m\u001b[43m)\u001b[49m\n\u001b[0;32m     74\u001b[0m \u001b[38;5;66;03m# Break explicitly a reference cycle\u001b[39;00m\n",
      "\u001b[1;31mTimeoutError\u001b[0m: [WinError 10060] Ein Verbindungsversuch ist fehlgeschlagen, da die Gegenstelle nach einer bestimmten Zeitspanne nicht richtig reagiert hat, oder die hergestellte Verbindung war fehlerhaft, da der verbundene Host nicht reagiert hat",
      "\nThe above exception was the direct cause of the following exception:\n",
      "\u001b[1;31mConnectTimeoutError\u001b[0m                       Traceback (most recent call last)",
      "File \u001b[1;32mc:\\Temp\\EnergyProject\\HEFTcom24\\Lib\\site-packages\\urllib3\\connectionpool.py:789\u001b[0m, in \u001b[0;36mHTTPConnectionPool.urlopen\u001b[1;34m(self, method, url, body, headers, retries, redirect, assert_same_host, timeout, pool_timeout, release_conn, chunked, body_pos, preload_content, decode_content, **response_kw)\u001b[0m\n\u001b[0;32m    788\u001b[0m \u001b[38;5;66;03m# Make the request on the HTTPConnection object\u001b[39;00m\n\u001b[1;32m--> 789\u001b[0m response \u001b[38;5;241m=\u001b[39m \u001b[38;5;28;43mself\u001b[39;49m\u001b[38;5;241;43m.\u001b[39;49m\u001b[43m_make_request\u001b[49m\u001b[43m(\u001b[49m\n\u001b[0;32m    790\u001b[0m \u001b[43m    \u001b[49m\u001b[43mconn\u001b[49m\u001b[43m,\u001b[49m\n\u001b[0;32m    791\u001b[0m \u001b[43m    \u001b[49m\u001b[43mmethod\u001b[49m\u001b[43m,\u001b[49m\n\u001b[0;32m    792\u001b[0m \u001b[43m    \u001b[49m\u001b[43murl\u001b[49m\u001b[43m,\u001b[49m\n\u001b[0;32m    793\u001b[0m \u001b[43m    \u001b[49m\u001b[43mtimeout\u001b[49m\u001b[38;5;241;43m=\u001b[39;49m\u001b[43mtimeout_obj\u001b[49m\u001b[43m,\u001b[49m\n\u001b[0;32m    794\u001b[0m \u001b[43m    \u001b[49m\u001b[43mbody\u001b[49m\u001b[38;5;241;43m=\u001b[39;49m\u001b[43mbody\u001b[49m\u001b[43m,\u001b[49m\n\u001b[0;32m    795\u001b[0m \u001b[43m    \u001b[49m\u001b[43mheaders\u001b[49m\u001b[38;5;241;43m=\u001b[39;49m\u001b[43mheaders\u001b[49m\u001b[43m,\u001b[49m\n\u001b[0;32m    796\u001b[0m \u001b[43m    \u001b[49m\u001b[43mchunked\u001b[49m\u001b[38;5;241;43m=\u001b[39;49m\u001b[43mchunked\u001b[49m\u001b[43m,\u001b[49m\n\u001b[0;32m    797\u001b[0m \u001b[43m    \u001b[49m\u001b[43mretries\u001b[49m\u001b[38;5;241;43m=\u001b[39;49m\u001b[43mretries\u001b[49m\u001b[43m,\u001b[49m\n\u001b[0;32m    798\u001b[0m \u001b[43m    \u001b[49m\u001b[43mresponse_conn\u001b[49m\u001b[38;5;241;43m=\u001b[39;49m\u001b[43mresponse_conn\u001b[49m\u001b[43m,\u001b[49m\n\u001b[0;32m    799\u001b[0m \u001b[43m    \u001b[49m\u001b[43mpreload_content\u001b[49m\u001b[38;5;241;43m=\u001b[39;49m\u001b[43mpreload_content\u001b[49m\u001b[43m,\u001b[49m\n\u001b[0;32m    800\u001b[0m \u001b[43m    \u001b[49m\u001b[43mdecode_content\u001b[49m\u001b[38;5;241;43m=\u001b[39;49m\u001b[43mdecode_content\u001b[49m\u001b[43m,\u001b[49m\n\u001b[0;32m    801\u001b[0m \u001b[43m    \u001b[49m\u001b[38;5;241;43m*\u001b[39;49m\u001b[38;5;241;43m*\u001b[39;49m\u001b[43mresponse_kw\u001b[49m\u001b[43m,\u001b[49m\n\u001b[0;32m    802\u001b[0m \u001b[43m\u001b[49m\u001b[43m)\u001b[49m\n\u001b[0;32m    804\u001b[0m \u001b[38;5;66;03m# Everything went great!\u001b[39;00m\n",
      "File \u001b[1;32mc:\\Temp\\EnergyProject\\HEFTcom24\\Lib\\site-packages\\urllib3\\connectionpool.py:490\u001b[0m, in \u001b[0;36mHTTPConnectionPool._make_request\u001b[1;34m(self, conn, method, url, body, headers, retries, timeout, chunked, response_conn, preload_content, decode_content, enforce_content_length)\u001b[0m\n\u001b[0;32m    489\u001b[0m         new_e \u001b[38;5;241m=\u001b[39m _wrap_proxy_error(new_e, conn\u001b[38;5;241m.\u001b[39mproxy\u001b[38;5;241m.\u001b[39mscheme)\n\u001b[1;32m--> 490\u001b[0m     \u001b[38;5;28;01mraise\u001b[39;00m new_e\n\u001b[0;32m    492\u001b[0m \u001b[38;5;66;03m# conn.request() calls http.client.*.request, not the method in\u001b[39;00m\n\u001b[0;32m    493\u001b[0m \u001b[38;5;66;03m# urllib3.request. It also calls makefile (recv) on the socket.\u001b[39;00m\n",
      "File \u001b[1;32mc:\\Temp\\EnergyProject\\HEFTcom24\\Lib\\site-packages\\urllib3\\connectionpool.py:466\u001b[0m, in \u001b[0;36mHTTPConnectionPool._make_request\u001b[1;34m(self, conn, method, url, body, headers, retries, timeout, chunked, response_conn, preload_content, decode_content, enforce_content_length)\u001b[0m\n\u001b[0;32m    465\u001b[0m \u001b[38;5;28;01mtry\u001b[39;00m:\n\u001b[1;32m--> 466\u001b[0m     \u001b[38;5;28;43mself\u001b[39;49m\u001b[38;5;241;43m.\u001b[39;49m\u001b[43m_validate_conn\u001b[49m\u001b[43m(\u001b[49m\u001b[43mconn\u001b[49m\u001b[43m)\u001b[49m\n\u001b[0;32m    467\u001b[0m \u001b[38;5;28;01mexcept\u001b[39;00m (SocketTimeout, BaseSSLError) \u001b[38;5;28;01mas\u001b[39;00m e:\n",
      "File \u001b[1;32mc:\\Temp\\EnergyProject\\HEFTcom24\\Lib\\site-packages\\urllib3\\connectionpool.py:1095\u001b[0m, in \u001b[0;36mHTTPSConnectionPool._validate_conn\u001b[1;34m(self, conn)\u001b[0m\n\u001b[0;32m   1094\u001b[0m \u001b[38;5;28;01mif\u001b[39;00m conn\u001b[38;5;241m.\u001b[39mis_closed:\n\u001b[1;32m-> 1095\u001b[0m     \u001b[43mconn\u001b[49m\u001b[38;5;241;43m.\u001b[39;49m\u001b[43mconnect\u001b[49m\u001b[43m(\u001b[49m\u001b[43m)\u001b[49m\n\u001b[0;32m   1097\u001b[0m \u001b[38;5;66;03m# TODO revise this, see https://github.com/urllib3/urllib3/issues/2791\u001b[39;00m\n",
      "File \u001b[1;32mc:\\Temp\\EnergyProject\\HEFTcom24\\Lib\\site-packages\\urllib3\\connection.py:693\u001b[0m, in \u001b[0;36mHTTPSConnection.connect\u001b[1;34m(self)\u001b[0m\n\u001b[0;32m    692\u001b[0m sock: socket\u001b[38;5;241m.\u001b[39msocket \u001b[38;5;241m|\u001b[39m ssl\u001b[38;5;241m.\u001b[39mSSLSocket\n\u001b[1;32m--> 693\u001b[0m \u001b[38;5;28mself\u001b[39m\u001b[38;5;241m.\u001b[39msock \u001b[38;5;241m=\u001b[39m sock \u001b[38;5;241m=\u001b[39m \u001b[38;5;28;43mself\u001b[39;49m\u001b[38;5;241;43m.\u001b[39;49m\u001b[43m_new_conn\u001b[49m\u001b[43m(\u001b[49m\u001b[43m)\u001b[49m\n\u001b[0;32m    694\u001b[0m server_hostname: \u001b[38;5;28mstr\u001b[39m \u001b[38;5;241m=\u001b[39m \u001b[38;5;28mself\u001b[39m\u001b[38;5;241m.\u001b[39mhost\n",
      "File \u001b[1;32mc:\\Temp\\EnergyProject\\HEFTcom24\\Lib\\site-packages\\urllib3\\connection.py:208\u001b[0m, in \u001b[0;36mHTTPConnection._new_conn\u001b[1;34m(self)\u001b[0m\n\u001b[0;32m    207\u001b[0m \u001b[38;5;28;01mexcept\u001b[39;00m SocketTimeout \u001b[38;5;28;01mas\u001b[39;00m e:\n\u001b[1;32m--> 208\u001b[0m     \u001b[38;5;28;01mraise\u001b[39;00m ConnectTimeoutError(\n\u001b[0;32m    209\u001b[0m         \u001b[38;5;28mself\u001b[39m,\n\u001b[0;32m    210\u001b[0m         \u001b[38;5;124mf\u001b[39m\u001b[38;5;124m\"\u001b[39m\u001b[38;5;124mConnection to \u001b[39m\u001b[38;5;132;01m{\u001b[39;00m\u001b[38;5;28mself\u001b[39m\u001b[38;5;241m.\u001b[39mhost\u001b[38;5;132;01m}\u001b[39;00m\u001b[38;5;124m timed out. (connect timeout=\u001b[39m\u001b[38;5;132;01m{\u001b[39;00m\u001b[38;5;28mself\u001b[39m\u001b[38;5;241m.\u001b[39mtimeout\u001b[38;5;132;01m}\u001b[39;00m\u001b[38;5;124m)\u001b[39m\u001b[38;5;124m\"\u001b[39m,\n\u001b[0;32m    211\u001b[0m     ) \u001b[38;5;28;01mfrom\u001b[39;00m \u001b[38;5;21;01me\u001b[39;00m\n\u001b[0;32m    213\u001b[0m \u001b[38;5;28;01mexcept\u001b[39;00m \u001b[38;5;167;01mOSError\u001b[39;00m \u001b[38;5;28;01mas\u001b[39;00m e:\n",
      "\u001b[1;31mConnectTimeoutError\u001b[0m: (<urllib3.connection.HTTPSConnection object at 0x000001961D7E5010>, 'Connection to api.rebase.energy timed out. (connect timeout=None)')",
      "\nThe above exception was the direct cause of the following exception:\n",
      "\u001b[1;31mMaxRetryError\u001b[0m                             Traceback (most recent call last)",
      "File \u001b[1;32mc:\\Temp\\EnergyProject\\HEFTcom24\\Lib\\site-packages\\requests\\adapters.py:667\u001b[0m, in \u001b[0;36mHTTPAdapter.send\u001b[1;34m(self, request, stream, timeout, verify, cert, proxies)\u001b[0m\n\u001b[0;32m    666\u001b[0m \u001b[38;5;28;01mtry\u001b[39;00m:\n\u001b[1;32m--> 667\u001b[0m     resp \u001b[38;5;241m=\u001b[39m \u001b[43mconn\u001b[49m\u001b[38;5;241;43m.\u001b[39;49m\u001b[43murlopen\u001b[49m\u001b[43m(\u001b[49m\n\u001b[0;32m    668\u001b[0m \u001b[43m        \u001b[49m\u001b[43mmethod\u001b[49m\u001b[38;5;241;43m=\u001b[39;49m\u001b[43mrequest\u001b[49m\u001b[38;5;241;43m.\u001b[39;49m\u001b[43mmethod\u001b[49m\u001b[43m,\u001b[49m\n\u001b[0;32m    669\u001b[0m \u001b[43m        \u001b[49m\u001b[43murl\u001b[49m\u001b[38;5;241;43m=\u001b[39;49m\u001b[43murl\u001b[49m\u001b[43m,\u001b[49m\n\u001b[0;32m    670\u001b[0m \u001b[43m        \u001b[49m\u001b[43mbody\u001b[49m\u001b[38;5;241;43m=\u001b[39;49m\u001b[43mrequest\u001b[49m\u001b[38;5;241;43m.\u001b[39;49m\u001b[43mbody\u001b[49m\u001b[43m,\u001b[49m\n\u001b[0;32m    671\u001b[0m \u001b[43m        \u001b[49m\u001b[43mheaders\u001b[49m\u001b[38;5;241;43m=\u001b[39;49m\u001b[43mrequest\u001b[49m\u001b[38;5;241;43m.\u001b[39;49m\u001b[43mheaders\u001b[49m\u001b[43m,\u001b[49m\n\u001b[0;32m    672\u001b[0m \u001b[43m        \u001b[49m\u001b[43mredirect\u001b[49m\u001b[38;5;241;43m=\u001b[39;49m\u001b[38;5;28;43;01mFalse\u001b[39;49;00m\u001b[43m,\u001b[49m\n\u001b[0;32m    673\u001b[0m \u001b[43m        \u001b[49m\u001b[43massert_same_host\u001b[49m\u001b[38;5;241;43m=\u001b[39;49m\u001b[38;5;28;43;01mFalse\u001b[39;49;00m\u001b[43m,\u001b[49m\n\u001b[0;32m    674\u001b[0m \u001b[43m        \u001b[49m\u001b[43mpreload_content\u001b[49m\u001b[38;5;241;43m=\u001b[39;49m\u001b[38;5;28;43;01mFalse\u001b[39;49;00m\u001b[43m,\u001b[49m\n\u001b[0;32m    675\u001b[0m \u001b[43m        \u001b[49m\u001b[43mdecode_content\u001b[49m\u001b[38;5;241;43m=\u001b[39;49m\u001b[38;5;28;43;01mFalse\u001b[39;49;00m\u001b[43m,\u001b[49m\n\u001b[0;32m    676\u001b[0m \u001b[43m        \u001b[49m\u001b[43mretries\u001b[49m\u001b[38;5;241;43m=\u001b[39;49m\u001b[38;5;28;43mself\u001b[39;49m\u001b[38;5;241;43m.\u001b[39;49m\u001b[43mmax_retries\u001b[49m\u001b[43m,\u001b[49m\n\u001b[0;32m    677\u001b[0m \u001b[43m        \u001b[49m\u001b[43mtimeout\u001b[49m\u001b[38;5;241;43m=\u001b[39;49m\u001b[43mtimeout\u001b[49m\u001b[43m,\u001b[49m\n\u001b[0;32m    678\u001b[0m \u001b[43m        \u001b[49m\u001b[43mchunked\u001b[49m\u001b[38;5;241;43m=\u001b[39;49m\u001b[43mchunked\u001b[49m\u001b[43m,\u001b[49m\n\u001b[0;32m    679\u001b[0m \u001b[43m    \u001b[49m\u001b[43m)\u001b[49m\n\u001b[0;32m    681\u001b[0m \u001b[38;5;28;01mexcept\u001b[39;00m (ProtocolError, \u001b[38;5;167;01mOSError\u001b[39;00m) \u001b[38;5;28;01mas\u001b[39;00m err:\n",
      "File \u001b[1;32mc:\\Temp\\EnergyProject\\HEFTcom24\\Lib\\site-packages\\urllib3\\connectionpool.py:843\u001b[0m, in \u001b[0;36mHTTPConnectionPool.urlopen\u001b[1;34m(self, method, url, body, headers, retries, redirect, assert_same_host, timeout, pool_timeout, release_conn, chunked, body_pos, preload_content, decode_content, **response_kw)\u001b[0m\n\u001b[0;32m    841\u001b[0m     new_e \u001b[38;5;241m=\u001b[39m ProtocolError(\u001b[38;5;124m\"\u001b[39m\u001b[38;5;124mConnection aborted.\u001b[39m\u001b[38;5;124m\"\u001b[39m, new_e)\n\u001b[1;32m--> 843\u001b[0m retries \u001b[38;5;241m=\u001b[39m \u001b[43mretries\u001b[49m\u001b[38;5;241;43m.\u001b[39;49m\u001b[43mincrement\u001b[49m\u001b[43m(\u001b[49m\n\u001b[0;32m    844\u001b[0m \u001b[43m    \u001b[49m\u001b[43mmethod\u001b[49m\u001b[43m,\u001b[49m\u001b[43m \u001b[49m\u001b[43murl\u001b[49m\u001b[43m,\u001b[49m\u001b[43m \u001b[49m\u001b[43merror\u001b[49m\u001b[38;5;241;43m=\u001b[39;49m\u001b[43mnew_e\u001b[49m\u001b[43m,\u001b[49m\u001b[43m \u001b[49m\u001b[43m_pool\u001b[49m\u001b[38;5;241;43m=\u001b[39;49m\u001b[38;5;28;43mself\u001b[39;49m\u001b[43m,\u001b[49m\u001b[43m \u001b[49m\u001b[43m_stacktrace\u001b[49m\u001b[38;5;241;43m=\u001b[39;49m\u001b[43msys\u001b[49m\u001b[38;5;241;43m.\u001b[39;49m\u001b[43mexc_info\u001b[49m\u001b[43m(\u001b[49m\u001b[43m)\u001b[49m\u001b[43m[\u001b[49m\u001b[38;5;241;43m2\u001b[39;49m\u001b[43m]\u001b[49m\n\u001b[0;32m    845\u001b[0m \u001b[43m\u001b[49m\u001b[43m)\u001b[49m\n\u001b[0;32m    846\u001b[0m retries\u001b[38;5;241m.\u001b[39msleep()\n",
      "File \u001b[1;32mc:\\Temp\\EnergyProject\\HEFTcom24\\Lib\\site-packages\\urllib3\\util\\retry.py:519\u001b[0m, in \u001b[0;36mRetry.increment\u001b[1;34m(self, method, url, response, error, _pool, _stacktrace)\u001b[0m\n\u001b[0;32m    518\u001b[0m     reason \u001b[38;5;241m=\u001b[39m error \u001b[38;5;129;01mor\u001b[39;00m ResponseError(cause)\n\u001b[1;32m--> 519\u001b[0m     \u001b[38;5;28;01mraise\u001b[39;00m MaxRetryError(_pool, url, reason) \u001b[38;5;28;01mfrom\u001b[39;00m \u001b[38;5;21;01mreason\u001b[39;00m  \u001b[38;5;66;03m# type: ignore[arg-type]\u001b[39;00m\n\u001b[0;32m    521\u001b[0m log\u001b[38;5;241m.\u001b[39mdebug(\u001b[38;5;124m\"\u001b[39m\u001b[38;5;124mIncremented Retry for (url=\u001b[39m\u001b[38;5;124m'\u001b[39m\u001b[38;5;132;01m%s\u001b[39;00m\u001b[38;5;124m'\u001b[39m\u001b[38;5;124m): \u001b[39m\u001b[38;5;132;01m%r\u001b[39;00m\u001b[38;5;124m\"\u001b[39m, url, new_retry)\n",
      "\u001b[1;31mMaxRetryError\u001b[0m: HTTPSConnectionPool(host='api.rebase.energy', port=443): Max retries exceeded with url: /challenges/data/day_ahead_price?day=2024-09-30 (Caused by ConnectTimeoutError(<urllib3.connection.HTTPSConnection object at 0x000001961D7E5010>, 'Connection to api.rebase.energy timed out. (connect timeout=None)'))",
      "\nDuring handling of the above exception, another exception occurred:\n",
      "\u001b[1;31mConnectTimeout\u001b[0m                            Traceback (most recent call last)",
      "Cell \u001b[1;32mIn[6], line 1\u001b[0m\n\u001b[1;32m----> 1\u001b[0m \u001b[43mrebase_api_client\u001b[49m\u001b[38;5;241;43m.\u001b[39;49m\u001b[43mget_day_ahead_price\u001b[49m\u001b[43m(\u001b[49m\u001b[43mday\u001b[49m\u001b[38;5;241;43m=\u001b[39;49m\u001b[38;5;124;43m\"\u001b[39;49m\u001b[38;5;124;43m2024-09-30\u001b[39;49m\u001b[38;5;124;43m\"\u001b[39;49m\u001b[43m)\u001b[49m\n",
      "File \u001b[1;32m\\\\srvditz1\\home$\\hohensteinpa\\Desktop\\Test\\Energy_production_price_prediction\\comp_utils.py:46\u001b[0m, in \u001b[0;36mRebaseAPI.get_day_ahead_price\u001b[1;34m(self, day)\u001b[0m\n\u001b[0;32m     44\u001b[0m url \u001b[38;5;241m=\u001b[39m \u001b[38;5;124mf\u001b[39m\u001b[38;5;124m\"\u001b[39m\u001b[38;5;132;01m{\u001b[39;00m\u001b[38;5;28mself\u001b[39m\u001b[38;5;241m.\u001b[39mbase_url\u001b[38;5;132;01m}\u001b[39;00m\u001b[38;5;124m/challenges/data/day_ahead_price\u001b[39m\u001b[38;5;124m\"\u001b[39m\n\u001b[0;32m     45\u001b[0m params \u001b[38;5;241m=\u001b[39m {\u001b[38;5;124m'\u001b[39m\u001b[38;5;124mday\u001b[39m\u001b[38;5;124m'\u001b[39m: day}\n\u001b[1;32m---> 46\u001b[0m resp \u001b[38;5;241m=\u001b[39m \u001b[38;5;28;43mself\u001b[39;49m\u001b[38;5;241;43m.\u001b[39;49m\u001b[43msession\u001b[49m\u001b[38;5;241;43m.\u001b[39;49m\u001b[43mget\u001b[49m\u001b[43m(\u001b[49m\u001b[43murl\u001b[49m\u001b[43m,\u001b[49m\u001b[43m \u001b[49m\u001b[43mparams\u001b[49m\u001b[38;5;241;43m=\u001b[39;49m\u001b[43mparams\u001b[49m\u001b[43m)\u001b[49m\n\u001b[0;32m     47\u001b[0m data \u001b[38;5;241m=\u001b[39m resp\u001b[38;5;241m.\u001b[39mjson()\n\u001b[0;32m     48\u001b[0m \u001b[38;5;28mprint\u001b[39m(resp\u001b[38;5;241m.\u001b[39mjson())\n",
      "File \u001b[1;32mc:\\Temp\\EnergyProject\\HEFTcom24\\Lib\\site-packages\\requests\\sessions.py:602\u001b[0m, in \u001b[0;36mSession.get\u001b[1;34m(self, url, **kwargs)\u001b[0m\n\u001b[0;32m    594\u001b[0m \u001b[38;5;250m\u001b[39m\u001b[38;5;124mr\u001b[39m\u001b[38;5;124;03m\"\"\"Sends a GET request. Returns :class:`Response` object.\u001b[39;00m\n\u001b[0;32m    595\u001b[0m \n\u001b[0;32m    596\u001b[0m \u001b[38;5;124;03m:param url: URL for the new :class:`Request` object.\u001b[39;00m\n\u001b[0;32m    597\u001b[0m \u001b[38;5;124;03m:param \\*\\*kwargs: Optional arguments that ``request`` takes.\u001b[39;00m\n\u001b[0;32m    598\u001b[0m \u001b[38;5;124;03m:rtype: requests.Response\u001b[39;00m\n\u001b[0;32m    599\u001b[0m \u001b[38;5;124;03m\"\"\"\u001b[39;00m\n\u001b[0;32m    601\u001b[0m kwargs\u001b[38;5;241m.\u001b[39msetdefault(\u001b[38;5;124m\"\u001b[39m\u001b[38;5;124mallow_redirects\u001b[39m\u001b[38;5;124m\"\u001b[39m, \u001b[38;5;28;01mTrue\u001b[39;00m)\n\u001b[1;32m--> 602\u001b[0m \u001b[38;5;28;01mreturn\u001b[39;00m \u001b[38;5;28;43mself\u001b[39;49m\u001b[38;5;241;43m.\u001b[39;49m\u001b[43mrequest\u001b[49m\u001b[43m(\u001b[49m\u001b[38;5;124;43m\"\u001b[39;49m\u001b[38;5;124;43mGET\u001b[39;49m\u001b[38;5;124;43m\"\u001b[39;49m\u001b[43m,\u001b[49m\u001b[43m \u001b[49m\u001b[43murl\u001b[49m\u001b[43m,\u001b[49m\u001b[43m \u001b[49m\u001b[38;5;241;43m*\u001b[39;49m\u001b[38;5;241;43m*\u001b[39;49m\u001b[43mkwargs\u001b[49m\u001b[43m)\u001b[49m\n",
      "File \u001b[1;32mc:\\Temp\\EnergyProject\\HEFTcom24\\Lib\\site-packages\\requests\\sessions.py:589\u001b[0m, in \u001b[0;36mSession.request\u001b[1;34m(self, method, url, params, data, headers, cookies, files, auth, timeout, allow_redirects, proxies, hooks, stream, verify, cert, json)\u001b[0m\n\u001b[0;32m    584\u001b[0m send_kwargs \u001b[38;5;241m=\u001b[39m {\n\u001b[0;32m    585\u001b[0m     \u001b[38;5;124m\"\u001b[39m\u001b[38;5;124mtimeout\u001b[39m\u001b[38;5;124m\"\u001b[39m: timeout,\n\u001b[0;32m    586\u001b[0m     \u001b[38;5;124m\"\u001b[39m\u001b[38;5;124mallow_redirects\u001b[39m\u001b[38;5;124m\"\u001b[39m: allow_redirects,\n\u001b[0;32m    587\u001b[0m }\n\u001b[0;32m    588\u001b[0m send_kwargs\u001b[38;5;241m.\u001b[39mupdate(settings)\n\u001b[1;32m--> 589\u001b[0m resp \u001b[38;5;241m=\u001b[39m \u001b[38;5;28;43mself\u001b[39;49m\u001b[38;5;241;43m.\u001b[39;49m\u001b[43msend\u001b[49m\u001b[43m(\u001b[49m\u001b[43mprep\u001b[49m\u001b[43m,\u001b[49m\u001b[43m \u001b[49m\u001b[38;5;241;43m*\u001b[39;49m\u001b[38;5;241;43m*\u001b[39;49m\u001b[43msend_kwargs\u001b[49m\u001b[43m)\u001b[49m\n\u001b[0;32m    591\u001b[0m \u001b[38;5;28;01mreturn\u001b[39;00m resp\n",
      "File \u001b[1;32mc:\\Temp\\EnergyProject\\HEFTcom24\\Lib\\site-packages\\requests\\sessions.py:703\u001b[0m, in \u001b[0;36mSession.send\u001b[1;34m(self, request, **kwargs)\u001b[0m\n\u001b[0;32m    700\u001b[0m start \u001b[38;5;241m=\u001b[39m preferred_clock()\n\u001b[0;32m    702\u001b[0m \u001b[38;5;66;03m# Send the request\u001b[39;00m\n\u001b[1;32m--> 703\u001b[0m r \u001b[38;5;241m=\u001b[39m \u001b[43madapter\u001b[49m\u001b[38;5;241;43m.\u001b[39;49m\u001b[43msend\u001b[49m\u001b[43m(\u001b[49m\u001b[43mrequest\u001b[49m\u001b[43m,\u001b[49m\u001b[43m \u001b[49m\u001b[38;5;241;43m*\u001b[39;49m\u001b[38;5;241;43m*\u001b[39;49m\u001b[43mkwargs\u001b[49m\u001b[43m)\u001b[49m\n\u001b[0;32m    705\u001b[0m \u001b[38;5;66;03m# Total elapsed time of the request (approximately)\u001b[39;00m\n\u001b[0;32m    706\u001b[0m elapsed \u001b[38;5;241m=\u001b[39m preferred_clock() \u001b[38;5;241m-\u001b[39m start\n",
      "File \u001b[1;32mc:\\Temp\\EnergyProject\\HEFTcom24\\Lib\\site-packages\\requests\\adapters.py:688\u001b[0m, in \u001b[0;36mHTTPAdapter.send\u001b[1;34m(self, request, stream, timeout, verify, cert, proxies)\u001b[0m\n\u001b[0;32m    685\u001b[0m \u001b[38;5;28;01mif\u001b[39;00m \u001b[38;5;28misinstance\u001b[39m(e\u001b[38;5;241m.\u001b[39mreason, ConnectTimeoutError):\n\u001b[0;32m    686\u001b[0m     \u001b[38;5;66;03m# TODO: Remove this in 3.0.0: see #2811\u001b[39;00m\n\u001b[0;32m    687\u001b[0m     \u001b[38;5;28;01mif\u001b[39;00m \u001b[38;5;129;01mnot\u001b[39;00m \u001b[38;5;28misinstance\u001b[39m(e\u001b[38;5;241m.\u001b[39mreason, NewConnectionError):\n\u001b[1;32m--> 688\u001b[0m         \u001b[38;5;28;01mraise\u001b[39;00m ConnectTimeout(e, request\u001b[38;5;241m=\u001b[39mrequest)\n\u001b[0;32m    690\u001b[0m \u001b[38;5;28;01mif\u001b[39;00m \u001b[38;5;28misinstance\u001b[39m(e\u001b[38;5;241m.\u001b[39mreason, ResponseError):\n\u001b[0;32m    691\u001b[0m     \u001b[38;5;28;01mraise\u001b[39;00m RetryError(e, request\u001b[38;5;241m=\u001b[39mrequest)\n",
      "\u001b[1;31mConnectTimeout\u001b[0m: HTTPSConnectionPool(host='api.rebase.energy', port=443): Max retries exceeded with url: /challenges/data/day_ahead_price?day=2024-09-30 (Caused by ConnectTimeoutError(<urllib3.connection.HTTPSConnection object at 0x000001961D7E5010>, 'Connection to api.rebase.energy timed out. (connect timeout=None)'))"
     ]
    }
   ],
   "source": [
    "rebase_api_client.get_day_ahead_price(day=\"2024-09-30\")"
   ]
  },
  {
   "cell_type": "code",
   "execution_count": null,
   "metadata": {},
   "outputs": [],
   "source": [
    "rebase_api_client.get_day_ahead_price(day=\"2024-09-30\")"
   ]
  },
  {
   "cell_type": "code",
   "execution_count": null,
   "metadata": {},
   "outputs": [],
   "source": [
    "latest_dwd_Hornsea1 = comp_utils.weather_df_to_xr(rebase_api_client.get_hornsea_dwd())\n",
    "latest_dwd_solar = comp_utils.weather_df_to_xr(rebase_api_client.get_pes10_nwp(\"DWD_ICON-EU\"))"
   ]
  },
  {
   "cell_type": "code",
   "execution_count": null,
   "metadata": {},
   "outputs": [],
   "source": [
    "test_date = \"2023-05-05\"\n",
    "\n",
    "rebase_api_client.get_variable(day=test_date,variable=\"day_ahead_price\").head()"
   ]
  },
  {
   "cell_type": "code",
   "execution_count": 5,
   "metadata": {},
   "outputs": [
    {
     "ename": "ValueError",
     "evalue": "DataFrame constructor not properly called!",
     "output_type": "error",
     "traceback": [
      "\u001b[1;31m---------------------------------------------------------------------------\u001b[0m",
      "\u001b[1;31mValueError\u001b[0m                                Traceback (most recent call last)",
      "\u001b[1;32m~\\AppData\\Local\\Temp\\ipykernel_20980\\2103634283.py\u001b[0m in \u001b[0;36m?\u001b[1;34m()\u001b[0m\n\u001b[1;32m----> 1\u001b[1;33m \u001b[0mrebase_api_client\u001b[0m\u001b[1;33m.\u001b[0m\u001b[0mget_variable\u001b[0m\u001b[1;33m(\u001b[0m\u001b[0mday\u001b[0m\u001b[1;33m=\u001b[0m\u001b[0mtest_date\u001b[0m\u001b[1;33m,\u001b[0m\u001b[0mvariable\u001b[0m\u001b[1;33m=\u001b[0m\u001b[1;34m\"imbalance_price\"\u001b[0m\u001b[1;33m)\u001b[0m\u001b[1;33m.\u001b[0m\u001b[0mhead\u001b[0m\u001b[1;33m(\u001b[0m\u001b[1;33m)\u001b[0m\u001b[1;33m\u001b[0m\u001b[1;33m\u001b[0m\u001b[0m\n\u001b[0m\u001b[0;32m      2\u001b[0m \u001b[1;31m# rebase_api_client.get_variable(day=test_date,variable=\"wind_total_production\").head()\u001b[0m\u001b[1;33m\u001b[0m\u001b[1;33m\u001b[0m\u001b[0m\n\u001b[0;32m      3\u001b[0m \u001b[1;31m# rebase_api_client.get_variable(day=test_date,variable=\"solar_total_production\").head()\u001b[0m\u001b[1;33m\u001b[0m\u001b[1;33m\u001b[0m\u001b[0m\n",
      "\u001b[1;32md:\\Users\\paulh\\Desktop\\Domäneprojekt2\\Energy_production_price_prediction\\comp_utils.py\u001b[0m in \u001b[0;36m?\u001b[1;34m(self, day, variable)\u001b[0m\n\u001b[0;32m     36\u001b[0m     \u001b[0mparams\u001b[0m \u001b[1;33m=\u001b[0m \u001b[1;33m{\u001b[0m\u001b[1;34m'day'\u001b[0m\u001b[1;33m:\u001b[0m \u001b[0mday\u001b[0m\u001b[1;33m}\u001b[0m\u001b[1;33m\u001b[0m\u001b[1;33m\u001b[0m\u001b[0m\n\u001b[0;32m     37\u001b[0m     \u001b[0mresp\u001b[0m \u001b[1;33m=\u001b[0m \u001b[0mself\u001b[0m\u001b[1;33m.\u001b[0m\u001b[0msession\u001b[0m\u001b[1;33m.\u001b[0m\u001b[0mget\u001b[0m\u001b[1;33m(\u001b[0m\u001b[0murl\u001b[0m\u001b[1;33m,\u001b[0m \u001b[0mparams\u001b[0m\u001b[1;33m=\u001b[0m\u001b[0mparams\u001b[0m\u001b[1;33m)\u001b[0m\u001b[1;33m\u001b[0m\u001b[1;33m\u001b[0m\u001b[0m\n\u001b[0;32m     38\u001b[0m \u001b[1;33m\u001b[0m\u001b[0m\n\u001b[0;32m     39\u001b[0m     \u001b[0mdata\u001b[0m \u001b[1;33m=\u001b[0m \u001b[0mresp\u001b[0m\u001b[1;33m.\u001b[0m\u001b[0mjson\u001b[0m\u001b[1;33m(\u001b[0m\u001b[1;33m)\u001b[0m\u001b[1;33m\u001b[0m\u001b[1;33m\u001b[0m\u001b[0m\n\u001b[1;32m---> 40\u001b[1;33m     \u001b[0mdf\u001b[0m \u001b[1;33m=\u001b[0m \u001b[0mpd\u001b[0m\u001b[1;33m.\u001b[0m\u001b[0mDataFrame\u001b[0m\u001b[1;33m(\u001b[0m\u001b[0mdata\u001b[0m\u001b[1;33m)\u001b[0m\u001b[1;33m\u001b[0m\u001b[1;33m\u001b[0m\u001b[0m\n\u001b[0m\u001b[0;32m     41\u001b[0m     \u001b[1;32mreturn\u001b[0m \u001b[0mdf\u001b[0m\u001b[1;33m\u001b[0m\u001b[1;33m\u001b[0m\u001b[0m\n",
      "\u001b[1;32mc:\\Users\\paulh\\anaconda3\\envs\\HEFTcom24\\Lib\\site-packages\\pandas\\core\\frame.py\u001b[0m in \u001b[0;36m?\u001b[1;34m(self, data, index, columns, dtype, copy)\u001b[0m\n\u001b[0;32m    840\u001b[0m                 )\n\u001b[0;32m    841\u001b[0m         \u001b[1;31m# For data is scalar\u001b[0m\u001b[1;33m\u001b[0m\u001b[1;33m\u001b[0m\u001b[0m\n\u001b[0;32m    842\u001b[0m         \u001b[1;32melse\u001b[0m\u001b[1;33m:\u001b[0m\u001b[1;33m\u001b[0m\u001b[1;33m\u001b[0m\u001b[0m\n\u001b[0;32m    843\u001b[0m             \u001b[1;32mif\u001b[0m \u001b[0mindex\u001b[0m \u001b[1;32mis\u001b[0m \u001b[1;32mNone\u001b[0m \u001b[1;32mor\u001b[0m \u001b[0mcolumns\u001b[0m \u001b[1;32mis\u001b[0m \u001b[1;32mNone\u001b[0m\u001b[1;33m:\u001b[0m\u001b[1;33m\u001b[0m\u001b[1;33m\u001b[0m\u001b[0m\n\u001b[1;32m--> 844\u001b[1;33m                 \u001b[1;32mraise\u001b[0m \u001b[0mValueError\u001b[0m\u001b[1;33m(\u001b[0m\u001b[1;34m\"DataFrame constructor not properly called!\"\u001b[0m\u001b[1;33m)\u001b[0m\u001b[1;33m\u001b[0m\u001b[1;33m\u001b[0m\u001b[0m\n\u001b[0m\u001b[0;32m    845\u001b[0m \u001b[1;33m\u001b[0m\u001b[0m\n\u001b[0;32m    846\u001b[0m             \u001b[0mindex\u001b[0m \u001b[1;33m=\u001b[0m \u001b[0mensure_index\u001b[0m\u001b[1;33m(\u001b[0m\u001b[0mindex\u001b[0m\u001b[1;33m)\u001b[0m\u001b[1;33m\u001b[0m\u001b[1;33m\u001b[0m\u001b[0m\n\u001b[0;32m    847\u001b[0m             \u001b[0mcolumns\u001b[0m \u001b[1;33m=\u001b[0m \u001b[0mensure_index\u001b[0m\u001b[1;33m(\u001b[0m\u001b[0mcolumns\u001b[0m\u001b[1;33m)\u001b[0m\u001b[1;33m\u001b[0m\u001b[1;33m\u001b[0m\u001b[0m\n",
      "\u001b[1;31mValueError\u001b[0m: DataFrame constructor not properly called!"
     ]
    }
   ],
   "source": [
    "rebase_api_client.get_variable(day=test_date,variable=\"imbalance_price\").head()\n",
    "# rebase_api_client.get_variable(day=test_date,variable=\"wind_total_production\").head()\n",
    "# rebase_api_client.get_variable(day=test_date,variable=\"solar_total_production\").head()"
   ]
  },
  {
   "cell_type": "code",
   "execution_count": 4,
   "metadata": {},
   "outputs": [],
   "source": [
    "import requests\n",
    "API_key = open(\"team_key.txt\").read()\n",
    "url = \"https://api.rebase.energy/weather/v2/query\"\n",
    "headers = {\"Authorization\": API_key}\n",
    "params = {\n",
    "    'model': 'DWD_ICON-EU',\n",
    "    'start-date': '2024-09-30',\n",
    "    'end-date': '2024-10-03',\n",
    "    'reference-time-freq': '6H',\n",
    "    'latitude': '60.1, 61.2, 59.33', \n",
    "    'longitude': '17.2, 13.1, 18.05',\n",
    "    'variables': 'Temperature, WindSpeed',\n",
    "    'output-format': 'json'   \n",
    "}\n",
    "response = requests.get(url, headers=headers, params=params)\n"
   ]
  },
  {
   "cell_type": "code",
   "execution_count": 5,
   "metadata": {},
   "outputs": [
    {
     "data": {
      "text/plain": [
       "{'message': 'Unauthorized'}"
      ]
     },
     "execution_count": 5,
     "metadata": {},
     "output_type": "execute_result"
    }
   ],
   "source": [
    "response.json()"
   ]
  },
  {
   "cell_type": "code",
   "execution_count": 29,
   "metadata": {},
   "outputs": [],
   "source": [
    "import requests\n",
    "\n",
    "your_api_key = '' # insert your API key here\n",
    "url = \"https://api.rebase.energy/weather/v2/query\"\n",
    "headers = {\"Authorization\": API_key,\n",
    "           'Content-Type': 'application/json'}\n",
    "params = {\n",
    "    'model': 'DWD_ICON-EU',\n",
    "    'start-date': '2024-09-30',\n",
    "    'end-date': '2024-10-03',\n",
    "    'reference-time-freq': '6H',\n",
    "    'latitude': '60.1, 61.2, 59.33', \n",
    "    'longitude': '17.2, 13.1, 18.05',\n",
    "    'variables': 'Temperature, WindSpeed',\n",
    "    'output-format': 'json'\n",
    "}\n",
    "response = requests.post(url,\n",
    "                         headers=headers,\n",
    "                         json=params,)\n",
    "                        #  content_type='application/json')"
   ]
  },
  {
   "cell_type": "code",
   "execution_count": 31,
   "metadata": {},
   "outputs": [
    {
     "data": {
      "text/plain": [
       "{'message': 'Unauthorized'}"
      ]
     },
     "execution_count": 31,
     "metadata": {},
     "output_type": "execute_result"
    }
   ],
   "source": [
    "response.json()"
   ]
  },
  {
   "cell_type": "code",
   "execution_count": 32,
   "metadata": {},
   "outputs": [
    {
     "name": "stdout",
     "output_type": "stream",
     "text": [
      "Request failed with status code 401: {\"message\":\"Unauthorized\"}\n",
      "\n"
     ]
    }
   ],
   "source": [
    "if response.status_code == 200:\n",
    "    print(\"Request successful.\")\n",
    "    print(response.json())  # Print the JSON response\n",
    "else:\n",
    "    print(f\"Request failed with status code {response.status_code}: {response.text}\")"
   ]
  },
  {
   "cell_type": "code",
   "execution_count": 33,
   "metadata": {},
   "outputs": [
    {
     "data": {
      "text/plain": [
       "{'message': 'Unauthorized'}"
      ]
     },
     "execution_count": 33,
     "metadata": {},
     "output_type": "execute_result"
    }
   ],
   "source": [
    "response.json()"
   ]
  },
  {
   "cell_type": "code",
   "execution_count": 39,
   "metadata": {},
   "outputs": [],
   "source": [
    "import requests\n",
    "\n",
    "your_api_key = '' # insert your API key here\n",
    "url = \"https://api.rebase.energy/weather/v2/point/historical\"\n",
    "headers = {\"Authorization\": your_api_key}\n",
    "params = {\n",
    "    'model': 'DWD_ICON-EU',\n",
    "    'start-date': '2024-09-01',\n",
    "    'end-date': '2024-09-09',\n",
    "    'reference-time-freq': '6H',\n",
    "    'forecast-horizon': 'full',\n",
    "    'latitude': '60.1, 61.2, 59.33', \n",
    "    'longitude': '17.2, 13.1, 18.05',\n",
    "    'variables': 'Temperature, WindSpeed:10'\n",
    "}\n",
    "response = requests.get(url, headers=headers, params=params)"
   ]
  },
  {
   "cell_type": "code",
   "execution_count": 40,
   "metadata": {},
   "outputs": [
    {
     "data": {
      "text/plain": [
       "{'message': 'Unauthorized'}"
      ]
     },
     "execution_count": 40,
     "metadata": {},
     "output_type": "execute_result"
    }
   ],
   "source": [
    "response.json()"
   ]
  },
  {
   "cell_type": "code",
   "execution_count": 51,
   "metadata": {},
   "outputs": [],
   "source": [
    "import requests\n",
    "API_key = open(\"team_key.txt\").read()\n",
    "url = \"https://api.rebase.energy/challenges/data/day_ahead_price\"\n",
    "headers = {\"Authorization\": f\"Bearer {API_key}\"}  # Prefix the API key with 'Bearer '\n",
    "params = {\n",
    "    \"date\": \"2024-10-01\"\n",
    "}\n",
    "response = requests.get(url, headers=headers, params=params)"
   ]
  },
  {
   "cell_type": "code",
   "execution_count": 52,
   "metadata": {},
   "outputs": [
    {
     "data": {
      "text/plain": [
       "'Bearer token is invalid'"
      ]
     },
     "execution_count": 52,
     "metadata": {},
     "output_type": "execute_result"
    }
   ],
   "source": [
    "response.json()"
   ]
  },
  {
   "cell_type": "code",
   "execution_count": 53,
   "metadata": {},
   "outputs": [],
   "source": [
    "import requests\n",
    "API_key = open(\"team_key.txt\").read()\n",
    "url = \"https://api.rebase.energy/challenges/data/market_index\"\n",
    "headers = {\"Authorization\": f\"Bearer {API_key}\"}  # Prefix the API key with 'Bearer '\n",
    "params = {\n",
    "    \"date\": \"2024-10-01\"\n",
    "}\n",
    "response = requests.get(url, headers=headers, params=params)"
   ]
  },
  {
   "cell_type": "code",
   "execution_count": 54,
   "metadata": {},
   "outputs": [
    {
     "data": {
      "text/plain": [
       "'Bearer token is invalid'"
      ]
     },
     "execution_count": 54,
     "metadata": {},
     "output_type": "execute_result"
    }
   ],
   "source": [
    "response.json()"
   ]
  },
  {
   "cell_type": "code",
   "execution_count": 55,
   "metadata": {},
   "outputs": [],
   "source": [
    "import requests\n",
    "API_key = open(\"team_key.txt\").read()\n",
    "url = \"https://api.rebase.energy/challenges/data/imbalance_price\"\n",
    "headers = {\"Authorization\": f\"Bearer {API_key}\"}  # Prefix the API key with 'Bearer '\n",
    "params = {\n",
    "    \"date\": \"2024-10-01\"\n",
    "}\n",
    "response = requests.get(url, headers=headers, params=params)"
   ]
  },
  {
   "cell_type": "code",
   "execution_count": 56,
   "metadata": {},
   "outputs": [
    {
     "data": {
      "text/plain": [
       "'Bearer token is invalid'"
      ]
     },
     "execution_count": 56,
     "metadata": {},
     "output_type": "execute_result"
    }
   ],
   "source": [
    "response.json()"
   ]
  },
  {
   "cell_type": "code",
   "execution_count": null,
   "metadata": {},
   "outputs": [],
   "source": [
    "import requests\n",
    "API_key = open(\"team_key.txt\").read()\n",
    "url = \"https://api.rebase.energy/challenges/data/imbalance_price\"\n",
    "headers = {\"Authorization\": f\"Bearer {API_key}\"}  # Prefix the API key with 'Bearer '\n",
    "params = {\n",
    "    \"date\": \"2024-10-01\"\n",
    "}\n",
    "response = requests.get(url, headers=headers, params=params)"
   ]
  }
 ],
 "metadata": {
  "kernelspec": {
   "display_name": "HEFTcom24",
   "language": "python",
   "name": "python3"
  },
  "language_info": {
   "codemirror_mode": {
    "name": "ipython",
    "version": 3
   },
   "file_extension": ".py",
   "mimetype": "text/x-python",
   "name": "python",
   "nbconvert_exporter": "python",
   "pygments_lexer": "ipython3",
   "version": "3.11.5"
  }
 },
 "nbformat": 4,
 "nbformat_minor": 2
}
