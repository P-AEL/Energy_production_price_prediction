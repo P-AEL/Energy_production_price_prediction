{
 "cells": [
  {
   "cell_type": "code",
   "execution_count": 1,
   "metadata": {},
   "outputs": [],
   "source": [
    "import pandas as pd\n",
    "import xarray as xr\n",
    "import numpy as np\n",
    "import statsmodels.formula.api as smf\n",
    "from statsmodels.iolib.smpickle import load_pickle\n",
    "\n",
    "import comp_utils\n",
    "from comp_utils import day_ahead_market_times\n",
    "import matplotlib.pyplot as plt\n",
    "import matplotlib.dates as mdates\n",
    "from matplotlib.ticker import MaxNLocator\n",
    "import seaborn as sns\n",
    "import warnings\n",
    "warnings.simplefilter(action='ignore', category=FutureWarning)\n",
    "import pandas as pd\n",
    "import os\n",
    "from datetime import datetime, timedelta\n",
    "import pickle as pkl"
   ]
  },
  {
   "cell_type": "code",
   "execution_count": 2,
   "metadata": {},
   "outputs": [],
   "source": [
    "with open('proxies.txt', 'r') as file:\n",
    "        proxy = file.read()\n",
    "proxies = {'http': proxy, 'https': proxy}"
   ]
  },
  {
   "cell_type": "code",
   "execution_count": 3,
   "metadata": {},
   "outputs": [],
   "source": [
    "rebase_api_client = comp_utils.RebaseAPI(api_key = open(\"A-Team_key.txt\").read(), proxy=proxies)"
   ]
  },
  {
   "cell_type": "code",
   "execution_count": 69,
   "metadata": {},
   "outputs": [],
   "source": [
    "def update_day_ahead_price_csv(min_date, csv_path='day_ahead_price.csv'):\n",
    "    \"\"\"\n",
    "    Fetches day-ahead prices from the Rebase API and appends them to a CSV file.\n",
    "    The CSV file is created if it does not exist.\n",
    "    :param min_date: The earliest date to fetch data for, in the format 'YYYY-MM-DD'\n",
    "    :param csv_path: The path to the CSV file to read/write\n",
    "    :return: None\n",
    "    \"\"\"\n",
    "    try:\n",
    "        min_date = datetime.strptime(min_date, '%Y-%m-%d').date()\n",
    "        today = datetime.today().date()\n",
    "        \n",
    "        # Initialize an empty DataFrame\n",
    "        if os.path.exists(csv_path):\n",
    "            try:\n",
    "                df = pd.read_csv(csv_path)\n",
    "                min_date = df['settlement_date'].max()\n",
    "                # df['timestamp_utc'] = pd.to_datetime(df['timestamp_utc'])\n",
    "                print(f\"Loaded existing CSV with {len(df)} rows\")\n",
    "            except Exception as e:\n",
    "                print(f\"Error reading existing CSV: {e}\")\n",
    "                df = pd.DataFrame(columns=['timestamp_utc', 'settlement_date', 'settlement_period', 'price'])\n",
    "        else:\n",
    "            df = pd.DataFrame(columns=['timestamp_utc', 'settlement_date', 'settlement_period', 'price'])\n",
    "            print(\"Creating new CSV file\")\n",
    "        \n",
    "        # Generate dates to updat\n",
    "        print(f\"min_date: {min_date}, today: {today}\")\n",
    "        dates_to_update = pd.date_range(start=min_date, end=today, freq='D')\n",
    "        try:\n",
    "            for date in dates_to_update:\n",
    "                date_str = date.strftime('%Y-%m-%d')\n",
    "                prices = rebase_api_client.get_day_ahead_price(date_str)\n",
    "                if len(prices):\n",
    "                    print(f\"Fetched {len(prices)} prices for {date_str}\")\n",
    "                    new_df = pd.DataFrame(prices)\n",
    "                    # new_df['timestamp_utc'] = pd.to_datetime(new_df['timestamp_utc'])\n",
    "                    df = pd.concat([df, new_df], ignore_index=True)\n",
    "                else:\n",
    "                    print(f\"No data returned for {date_str}\")\n",
    "            df.drop_duplicates(inplace=True)\n",
    "            df.to_csv(csv_path, index=False)\n",
    "        except Exception as e:\n",
    "            print(f\"Error fetching data for {date_str}: {e}\")\n",
    "    \n",
    "    except Exception as e:\n",
    "        print(f\"An unexpected error occurred: {e}\")\n",
    "        return False"
   ]
  },
  {
   "cell_type": "code",
   "execution_count": 80,
   "metadata": {},
   "outputs": [],
   "source": [
    "def update_market_index_csv(min_date, csv_path='market_index.csv'):\n",
    "    \"\"\"\n",
    "    Fetches market index data from the Rebase API and appends it to a CSV file.\n",
    "    The CSV file is created if it does not exist.\n",
    "    :param min_date: The earliest date to fetch data for, in the format 'YYYY-MM-DD'\n",
    "    :param csv_path: The path to the CSV file to read/write\n",
    "    :return: None\n",
    "    \"\"\"\n",
    "    try:\n",
    "        min_date = datetime.strptime(min_date, '%Y-%m-%d').date()\n",
    "        today = datetime.today().date()\n",
    "        \n",
    "        # Initialize an empty DataFrame\n",
    "        if os.path.exists(csv_path):\n",
    "            try:\n",
    "                df = pd.read_csv(csv_path)\n",
    "                min_date = df['timestamp_utc'].max()\n",
    "                df['timestamp_utc'] = pd.to_datetime(df['timestamp_utc'])\n",
    "                print(f\"Loaded existing CSV with {len(df)} rows\")\n",
    "            except Exception as e:\n",
    "                print(f\"Error reading existing CSV: {e}\")\n",
    "                df = pd.DataFrame(columns=['timestamp_utc', 'index'])\n",
    "        else:\n",
    "            df = pd.DataFrame(columns=['timestamp_utc', 'index'])\n",
    "            print(\"Creating new CSV file\")\n",
    "        \n",
    "        # Generate dates to update\n",
    "        print(f\"min_date: {min_date}, today: {today}\")\n",
    "        dates_to_update = pd.date_range(start=min_date, end=today, freq='D')\n",
    "        try:\n",
    "            for date in dates_to_update:\n",
    "                date_str = date.strftime('%Y-%m-%d')\n",
    "                indices = rebase_api_client.get_market_index(date_str)\n",
    "                if len(indices):\n",
    "                    print(f\"Fetched {len(indices)} indices for {date_str}\")\n",
    "                    new_df = pd.DataFrame(indices)\n",
    "                    new_df['timestamp_utc'] = pd.to_datetime(new_df['timestamp_utc'])\n",
    "                    df = pd.concat([df, new_df], ignore_index=True)\n",
    "                else:\n",
    "                    print(f\"No data returned for {date_str}\")\n",
    "            df.drop_duplicates(subset=['timestamp_utc'], inplace=True)\n",
    "            df.to_csv(csv_path, index=False)\n",
    "        except Exception as e:\n",
    "            print(f\"Error fetching data for {date_str}: {e}\")\n",
    "    \n",
    "    except Exception as e:\n",
    "        print(f\"An unexpected error occurred: {e}\")\n",
    "        return False"
   ]
  },
  {
   "cell_type": "code",
   "execution_count": 82,
   "metadata": {},
   "outputs": [],
   "source": [
    "def update_imbalance_price_csv(min_date, csv_path='imbalance_price.csv'):\n",
    "    \"\"\"\n",
    "    Fetches imbalance prices from the Rebase API and appends them to a CSV file.\n",
    "    The CSV file is created if it does not exist.\n",
    "    :param min_date: The earliest date to fetch data for, in the format 'YYYY-MM-DD'\n",
    "    :param csv_path: The path to the CSV file to read/write\n",
    "    :return: None\n",
    "    \"\"\"\n",
    "    try:\n",
    "        min_date = datetime.strptime(min_date, '%Y-%m-%d').date()\n",
    "        today = datetime.today().date()\n",
    "        \n",
    "        # Initialize an empty DataFrame\n",
    "        if os.path.exists(csv_path):\n",
    "            try:\n",
    "                df = pd.read_csv(csv_path)\n",
    "                min_date = df['timestamp_utc'].max()\n",
    "                df['timestamp_utc'] = pd.to_datetime(df['timestamp_utc'])\n",
    "                print(f\"Loaded existing CSV with {len(df)} rows\")\n",
    "            except Exception as e:\n",
    "                print(f\"Error reading existing CSV: {e}\")\n",
    "                df = pd.DataFrame(columns=['timestamp_utc', 'price'])\n",
    "        else:\n",
    "            df = pd.DataFrame(columns=['timestamp_utc', 'price'])\n",
    "            print(\"Creating new CSV file\")\n",
    "        \n",
    "        # Generate dates to update\n",
    "        print(f\"min_date: {min_date}, today: {today}\")\n",
    "        dates_to_update = pd.date_range(start=min_date, end=today, freq='D')\n",
    "        try:\n",
    "            for date in dates_to_update:\n",
    "                date_str = date.strftime('%Y-%m-%d')\n",
    "                prices = rebase_api_client.get_imbalance_price(date_str)\n",
    "                if len(prices):\n",
    "                    print(f\"Fetched {len(prices)} prices for {date_str}\")\n",
    "                    new_df = pd.DataFrame(prices)\n",
    "                    new_df['timestamp_utc'] = pd.to_datetime(new_df['timestamp_utc'])\n",
    "                    df = pd.concat([df, new_df], ignore_index=True)\n",
    "                else:\n",
    "                    print(f\"No data returned for {date_str}\")\n",
    "            df.drop_duplicates(subset=['timestamp_utc'], inplace=True)\n",
    "            df.to_csv(csv_path, index=False)\n",
    "        except Exception as e:\n",
    "            print(f\"Error fetching data for {date_str}: {e}\")\n",
    "    \n",
    "    except Exception as e:\n",
    "        print(f\"An unexpected error occurred: {e}\")\n",
    "        return False"
   ]
  },
  {
   "cell_type": "code",
   "execution_count": 84,
   "metadata": {},
   "outputs": [],
   "source": [
    "def update_wind_total_prduction_csv(min_date, csv_path='wind_total_production.csv'):\n",
    "    \"\"\"\n",
    "    Fetches total wind production data from the Rebase API and appends it to a CSV file.\n",
    "    The CSV file is created if it does not exist.\n",
    "    :param min_date: The earliest date to fetch data for, in the format 'YYYY-MM-DD'\n",
    "    :param csv_path: The path to the CSV file to read/write\n",
    "    :return: None\n",
    "    \"\"\"\n",
    "    try:\n",
    "        min_date = datetime.strptime(min_date, '%Y-%m-%d').date()\n",
    "        today = datetime.today().date()\n",
    "        \n",
    "        # Initialize an empty DataFrame\n",
    "        if os.path.exists(csv_path):\n",
    "            try:\n",
    "                df = pd.read_csv(csv_path)\n",
    "                min_date = df['timestamp_utc'].max()\n",
    "                df['timestamp_utc'] = pd.to_datetime(df['timestamp_utc'])\n",
    "                print(f\"Loaded existing CSV with {len(df)} rows\")\n",
    "            except Exception as e:\n",
    "                print(f\"Error reading existing CSV: {e}\")\n",
    "                df = pd.DataFrame(columns=['timestamp_utc', 'production'])\n",
    "        else:\n",
    "            df = pd.DataFrame(columns=['timestamp_utc', 'production'])\n",
    "            print(\"Creating new CSV file\")\n",
    "        \n",
    "        # Generate dates to update\n",
    "        print(f\"min_date: {min_date}, today: {today}\")\n",
    "        dates_to_update = pd.date_range(start=min_date, end=today, freq='D')\n",
    "        try:\n",
    "            for date in dates_to_update:\n",
    "                date_str = date.strftime('%Y-%m-%d')\n",
    "                productions = rebase_api_client.get_wind_total_production(date_str)\n",
    "                if len(productions):\n",
    "                    print(f\"Fetched {len(productions)} productions for {date_str}\")\n",
    "                    new_df = pd.DataFrame(productions)\n",
    "                    new_df['timestamp_utc'] = pd.to_datetime(new_df['timestamp_utc'])\n",
    "                    df = pd.concat([df, new_df], ignore_index=True)\n",
    "                else:\n",
    "                    print(f\"No data returned for {date_str}\")\n",
    "            df.drop_duplicates(subset=['timestamp_utc'], inplace=True)\n",
    "            df.to_csv(csv_path, index=False)\n",
    "        except Exception as e:\n",
    "            print(f\"Error fetching data for {date_str}: {e}\")\n",
    "    \n",
    "    except Exception as e:\n",
    "        print(f\"An unexpected error occurred: {e}\")\n",
    "        return False"
   ]
  },
  {
   "cell_type": "code",
   "execution_count": 86,
   "metadata": {},
   "outputs": [],
   "source": [
    "def update_solar_total_prodcution_csv(min_date, csv_path='solar_total_production.csv'):\n",
    "    \"\"\"\n",
    "    Fetches total solar production data from the Rebase API and appends it to a CSV file.\n",
    "    The CSV file is created if it does not exist.\n",
    "    :param min_date: The earliest date to fetch data for, in the format 'YYYY-MM-DD'\n",
    "    :param csv_path: The path to the CSV file to read/write\n",
    "    :return: None\n",
    "    \"\"\"\n",
    "    try:\n",
    "        min_date = datetime.strptime(min_date, '%Y-%m-%d').date()\n",
    "        today = datetime.today().date()\n",
    "        \n",
    "        # Initialize an empty DataFrame\n",
    "        if os.path.exists(csv_path):\n",
    "            try:\n",
    "                df = pd.read_csv(csv_path)\n",
    "                min_date = df['timestamp_utc'].max()\n",
    "                df['timestamp_utc'] = pd.to_datetime(df['timestamp_utc'])\n",
    "                print(f\"Loaded existing CSV with {len(df)} rows\")\n",
    "            except Exception as e:\n",
    "                print(f\"Error reading existing CSV: {e}\")\n",
    "                df = pd.DataFrame(columns=['timestamp_utc', 'production'])\n",
    "        else:\n",
    "            df = pd.DataFrame(columns=['timestamp_utc', 'production'])\n",
    "            print(\"Creating new CSV file\")\n",
    "        \n",
    "        # Generate dates to update\n",
    "        print(f\"min_date: {min_date}, today: {today}\")\n",
    "        dates_to_update = pd.date_range(start=min_date, end=today, freq='D')\n",
    "        try:\n",
    "            for date in dates_to_update:\n",
    "                date_str = date.strftime('%Y-%m-%d')\n",
    "                productions = rebase_api_client.get_solar_total_production(date_str)\n",
    "                if len(productions):\n",
    "                    print(f\"Fetched {len(productions)} productions for {date_str}\")\n",
    "                    new_df = pd.DataFrame(productions)\n",
    "                    new_df['timestamp_utc'] = pd.to_datetime(new_df['timestamp_utc'])\n",
    "                    df = pd.concat([df, new_df], ignore_index=True)\n",
    "                else:\n",
    "                    print(f\"No data returned for {date_str}\")\n",
    "            df.drop_duplicates(subset=['timestamp_utc'], inplace=True)\n",
    "            df.to_csv(csv_path, index=False)\n",
    "        except Exception as e:\n",
    "            print(f\"Error fetching data for {date_str}: {e}\")\n",
    "    \n",
    "    except Exception as e:\n",
    "        print(f\"An unexpected error occurred: {e}\")\n",
    "        return False"
   ]
  },
  {
   "cell_type": "code",
   "execution_count": 94,
   "metadata": {},
   "outputs": [],
   "source": [
    "def update_solar_wind_forecast_csv(min_date, csv_path='solar_wind_forecast.csv'):\n",
    "    \"\"\"\n",
    "    Fetches solar and wind forecast data from the Rebase API and appends it to a CSV file.\n",
    "    The CSV file is created if it does not exist.\n",
    "    :param min_date: The earliest date to fetch data for, in the format 'YYYY-MM-DD'\n",
    "    :param csv_path: The path to the CSV file to read/write\n",
    "    :return: None\n",
    "    \"\"\"\n",
    "    try:\n",
    "        min_date = datetime.strptime(min_date, '%Y-%m-%d').date()\n",
    "        today = datetime.today().date()\n",
    "        \n",
    "        # Initialize an empty DataFrame\n",
    "        if os.path.exists(csv_path):\n",
    "            try:\n",
    "                df = pd.read_csv(csv_path)\n",
    "                min_date = df['timestamp_utc'].max()\n",
    "                df['timestamp_utc'] = pd.to_datetime(df['timestamp_utc'])\n",
    "                print(f\"Loaded existing CSV with {len(df)} rows\")\n",
    "            except Exception as e:\n",
    "                print(f\"Error reading existing CSV: {e}\")\n",
    "                df = pd.DataFrame(columns=['timestamp_utc', 'solar_forecast', 'wind_forecast'])\n",
    "        else:\n",
    "            df = pd.DataFrame(columns=['timestamp_utc', 'solar_forecast', 'wind_forecast'])\n",
    "            print(\"Creating new CSV file\")\n",
    "        \n",
    "        # Generate dates to update\n",
    "        print(f\"min_date: {min_date}, today: {today}\")\n",
    "        dates_to_update = pd.date_range(start=min_date, end=today, freq='D')\n",
    "        try:\n",
    "            for date in dates_to_update:\n",
    "                date_str = date.strftime('%Y-%m-%d')\n",
    "                forecasts = rebase_api_client.get_solar_wind_forecast(date_str)\n",
    "                if len(forecasts):\n",
    "                    print(f\"Fetched {len(forecasts)} forecasts for {date_str}\")\n",
    "                    new_df = pd.DataFrame(forecasts)\n",
    "                    new_df['timestamp_utc'] = pd.to_datetime(new_df['timestamp_utc'])\n",
    "                    df = pd.concat([df, new_df], ignore_index=True)\n",
    "                else:\n",
    "                    print(f\"No data returned for {date_str}\")\n",
    "            df.drop_duplicates(subset=['timestamp_utc'], inplace=True)\n",
    "            df.to_csv(csv_path, index=False)\n",
    "        except Exception as e:\n",
    "            print(f\"Error fetching data for {date_str}: {e}\")\n",
    "    \n",
    "    except Exception as e:\n",
    "        print(f\"An unexpected error occurred: {e}\")\n",
    "        return False"
   ]
  },
  {
   "cell_type": "code",
   "execution_count": 9,
   "metadata": {},
   "outputs": [
    {
     "ename": "NameError",
     "evalue": "name 'update_solar_wind_forecast_csv' is not defined",
     "output_type": "error",
     "traceback": [
      "\u001b[1;31m---------------------------------------------------------------------------\u001b[0m",
      "\u001b[1;31mNameError\u001b[0m                                 Traceback (most recent call last)",
      "Cell \u001b[1;32mIn[9], line 1\u001b[0m\n\u001b[1;32m----> 1\u001b[0m \u001b[43mupdate_solar_wind_forecast_csv\u001b[49m(\u001b[38;5;124m'\u001b[39m\u001b[38;5;124m2024-05-01\u001b[39m\u001b[38;5;124m'\u001b[39m, \u001b[38;5;124m'\u001b[39m\u001b[38;5;124msolar_wind_forecast.csv\u001b[39m\u001b[38;5;124m'\u001b[39m)\n",
      "\u001b[1;31mNameError\u001b[0m: name 'update_solar_wind_forecast_csv' is not defined"
     ]
    }
   ],
   "source": [
    "update_solar_wind_forecast_csv('2024-05-01', 'solar_wind_forecast.csv')"
   ]
  },
  {
   "cell_type": "code",
   "execution_count": 18,
   "metadata": {},
   "outputs": [],
   "source": [
    "def update_margin_forecast(csv_path='margin_forecast.csv'):\n",
    "    \"\"\"\n",
    "    Fetches solar and wind forecast data from the Rebase API and appends it to a CSV file.\n",
    "    The CSV file is created if it does not exist.\n",
    "    :param min_date: The earliest date to fetch data for, in the format 'YYYY-MM-DD'\n",
    "    :param csv_path: The path to the CSV file to read/write\n",
    "    :return: None\n",
    "    \"\"\"\n",
    "    try:\n",
    "        # Initialize an empty DataFrame\n",
    "        if os.path.exists(csv_path):\n",
    "            try:\n",
    "                df = pd.read_csv(csv_path)\n",
    "                print(f\"Loaded existing CSV with {len(df)} rows\")\n",
    "            except Exception as e:\n",
    "                print(f\"Error reading existing CSV: {e}\")\n",
    "                df = pd.DataFrame(columns=['forecast_date', 'publish_time_utc', 'margin'])\n",
    "        else:\n",
    "            df = pd.DataFrame(columns=['forecast_date', 'publish_time_utc', 'margin'])\n",
    "            print(\"Creating new CSV file\")\n",
    "        \n",
    "        # Generate dates to update\n",
    "        try:\n",
    "            forecasts = rebase_api_client.get_margin_forecast()\n",
    "            if len(forecasts):\n",
    "                print(f\"Fetched {len(forecasts)} forecasts\")\n",
    "                new_df = pd.DataFrame(forecasts)\n",
    "                # new_df['timestamp_utc'] = pd.to_datetime(new_df['timestamp_utc'])\n",
    "                df = pd.concat([df, new_df], ignore_index=True)\n",
    "            else:\n",
    "                print(f\"No data returned for\")\n",
    "            df.drop_duplicates(inplace=True)\n",
    "            df.to_csv(csv_path, index=False)\n",
    "        except Exception as e:\n",
    "            print(f\"Error fetching data for : {e}\")\n",
    "    \n",
    "    except Exception as e:\n",
    "        print(f\"An unexpected error occurred: {e}\")\n",
    "        return False"
   ]
  },
  {
   "cell_type": "code",
   "execution_count": 4,
   "metadata": {},
   "outputs": [],
   "source": [
    "def update_day_ahead_demand_forecast(csv_path='day_ahead_demand_forecast.csv'):\n",
    "    \"\"\"\n",
    "    Fetches solar and wind forecast data from the Rebase API and appends it to a CSV file.\n",
    "    The CSV file is created if it does not exist.\n",
    "    :param min_date: The earliest date to fetch data for, in the format 'YYYY-MM-DD'\n",
    "    :param csv_path: The path to the CSV file to read/write\n",
    "    :return: None\n",
    "    \"\"\"\n",
    "    try:\n",
    "        # Initialize an empty DataFrame\n",
    "        if os.path.exists(csv_path):\n",
    "            try:\n",
    "                df = pd.read_csv(csv_path)\n",
    "                print(f\"Loaded existing CSV with {len(df)} rows\")\n",
    "            except Exception as e:\n",
    "                print(f\"Error reading existing CSV: {e}\")\n",
    "                df = pd.DataFrame(columns=['timestamp_utc', 'settlement_date', 'settlement_period', 'boundary',\n",
    "                    'publish_time_utc', 'transmission_system_demand', 'national_demand'])\n",
    "        else:\n",
    "            df = pd.DataFrame(columns=['timestamp_utc', 'settlement_date', 'settlement_period', 'boundary',\n",
    "                'publish_time_utc', 'transmission_system_demand', 'national_demand'])\n",
    "            print(\"Creating new CSV file\")\n",
    "        \n",
    "        # Generate dates to update\n",
    "        try:\n",
    "            forecasts = rebase_api_client.get_day_ahead_demand_forecast()\n",
    "            if len(forecasts):\n",
    "                print(f\"Fetched {len(forecasts)} forecasts\")\n",
    "                new_df = pd.DataFrame(forecasts)\n",
    "                df = pd.concat([df, new_df], ignore_index=True)\n",
    "            else:\n",
    "                print(f\"No data returned for\")\n",
    "            df.drop_duplicates(inplace=True)\n",
    "            df.to_csv(csv_path, index=False)\n",
    "        except Exception as e:\n",
    "            print(f\"Error fetching data for : {e}\")\n",
    "    \n",
    "    except Exception as e:\n",
    "        print(f\"An unexpected error occurred: {e}\")\n",
    "        return False"
   ]
  },
  {
   "cell_type": "code",
   "execution_count": 19,
   "metadata": {},
   "outputs": [
    {
     "name": "stdout",
     "output_type": "stream",
     "text": [
      "Loaded existing CSV with 13 rows\n"
     ]
    },
    {
     "name": "stderr",
     "output_type": "stream",
     "text": [
      "c:\\Temp\\EnergyProject\\HEFTcom24\\Lib\\site-packages\\urllib3\\connectionpool.py:1099: InsecureRequestWarning: Unverified HTTPS request is being made to host 'srv01prox.corp.trumpf.com'. Adding certificate verification is strongly advised. See: https://urllib3.readthedocs.io/en/latest/advanced-usage.html#tls-warnings\n",
      "  warnings.warn(\n"
     ]
    },
    {
     "name": "stdout",
     "output_type": "stream",
     "text": [
      "<Response [200]>\n",
      "Fetched 13 forecasts\n"
     ]
    }
   ],
   "source": [
    "update_margin_forecast()"
   ]
  },
  {
   "cell_type": "code",
   "execution_count": 5,
   "metadata": {},
   "outputs": [
    {
     "name": "stdout",
     "output_type": "stream",
     "text": [
      "Creating new CSV file\n"
     ]
    },
    {
     "name": "stderr",
     "output_type": "stream",
     "text": [
      "c:\\Temp\\EnergyProject\\HEFTcom24\\Lib\\site-packages\\urllib3\\connectionpool.py:1099: InsecureRequestWarning: Unverified HTTPS request is being made to host 'srv01prox.corp.trumpf.com'. Adding certificate verification is strongly advised. See: https://urllib3.readthedocs.io/en/latest/advanced-usage.html#tls-warnings\n",
      "  warnings.warn(\n"
     ]
    },
    {
     "name": "stdout",
     "output_type": "stream",
     "text": [
      "<Response [200]>\n",
      "Fetched 79 forecasts\n"
     ]
    }
   ],
   "source": [
    "update_day_ahead_demand_forecast()"
   ]
  },
  {
   "cell_type": "code",
   "execution_count": 112,
   "metadata": {},
   "outputs": [
    {
     "name": "stderr",
     "output_type": "stream",
     "text": [
      "c:\\Temp\\EnergyProject\\HEFTcom24\\Lib\\site-packages\\urllib3\\connectionpool.py:1099: InsecureRequestWarning: Unverified HTTPS request is being made to host 'srv01prox.corp.trumpf.com'. Adding certificate verification is strongly advised. See: https://urllib3.readthedocs.io/en/latest/advanced-usage.html#tls-warnings\n",
      "  warnings.warn(\n"
     ]
    },
    {
     "data": {
      "text/plain": [
       "Index(['timestamp_utc', 'settlement_date', 'settlement_period', 'solar_mw',\n",
       "       'wind_offshore_mw', 'wind_onshore_mw'],\n",
       "      dtype='object')"
      ]
     },
     "execution_count": 112,
     "metadata": {},
     "output_type": "execute_result"
    }
   ],
   "source": [
    "rebase_api_client.get_solar_wind_forecast('2024-09-01').columns"
   ]
  },
  {
   "cell_type": "code",
   "execution_count": 20,
   "metadata": {},
   "outputs": [
    {
     "name": "stderr",
     "output_type": "stream",
     "text": [
      "c:\\Temp\\EnergyProject\\HEFTcom24\\Lib\\site-packages\\urllib3\\connectionpool.py:1099: InsecureRequestWarning: Unverified HTTPS request is being made to host 'srv01prox.corp.trumpf.com'. Adding certificate verification is strongly advised. See: https://urllib3.readthedocs.io/en/latest/advanced-usage.html#tls-warnings\n",
      "  warnings.warn(\n"
     ]
    },
    {
     "name": "stdout",
     "output_type": "stream",
     "text": [
      "<Response [200]>\n"
     ]
    }
   ],
   "source": [
    "df1 = pd.DataFrame(rebase_api_client.get_day_ahead_demand_forecast())"
   ]
  },
  {
   "cell_type": "code",
   "execution_count": 22,
   "metadata": {},
   "outputs": [
    {
     "data": {
      "text/html": [
       "<div>\n",
       "<style scoped>\n",
       "    .dataframe tbody tr th:only-of-type {\n",
       "        vertical-align: middle;\n",
       "    }\n",
       "\n",
       "    .dataframe tbody tr th {\n",
       "        vertical-align: top;\n",
       "    }\n",
       "\n",
       "    .dataframe thead th {\n",
       "        text-align: right;\n",
       "    }\n",
       "</style>\n",
       "<table border=\"1\" class=\"dataframe\">\n",
       "  <thead>\n",
       "    <tr style=\"text-align: right;\">\n",
       "      <th></th>\n",
       "      <th>timestamp_utc</th>\n",
       "      <th>settlement_date</th>\n",
       "      <th>settlement_period</th>\n",
       "      <th>boundary</th>\n",
       "      <th>publish_time_utc</th>\n",
       "      <th>transmission_system_demand</th>\n",
       "      <th>national_demand</th>\n",
       "    </tr>\n",
       "  </thead>\n",
       "  <tbody>\n",
       "    <tr>\n",
       "      <th>0</th>\n",
       "      <td>2024-10-02T12:30:00Z</td>\n",
       "      <td>2024-10-02</td>\n",
       "      <td>28</td>\n",
       "      <td>N</td>\n",
       "      <td>2024-10-02T12:15:00Z</td>\n",
       "      <td>29658.0</td>\n",
       "      <td>28132.0</td>\n",
       "    </tr>\n",
       "    <tr>\n",
       "      <th>1</th>\n",
       "      <td>2024-10-02T13:00:00Z</td>\n",
       "      <td>2024-10-02</td>\n",
       "      <td>29</td>\n",
       "      <td>N</td>\n",
       "      <td>2024-10-02T12:15:00Z</td>\n",
       "      <td>29689.0</td>\n",
       "      <td>28191.0</td>\n",
       "    </tr>\n",
       "    <tr>\n",
       "      <th>2</th>\n",
       "      <td>2024-10-02T13:30:00Z</td>\n",
       "      <td>2024-10-02</td>\n",
       "      <td>30</td>\n",
       "      <td>N</td>\n",
       "      <td>2024-10-02T12:15:00Z</td>\n",
       "      <td>29547.0</td>\n",
       "      <td>28049.0</td>\n",
       "    </tr>\n",
       "    <tr>\n",
       "      <th>3</th>\n",
       "      <td>2024-10-02T14:00:00Z</td>\n",
       "      <td>2024-10-02</td>\n",
       "      <td>31</td>\n",
       "      <td>N</td>\n",
       "      <td>2024-10-02T12:15:00Z</td>\n",
       "      <td>29443.0</td>\n",
       "      <td>27990.0</td>\n",
       "    </tr>\n",
       "    <tr>\n",
       "      <th>4</th>\n",
       "      <td>2024-10-02T14:30:00Z</td>\n",
       "      <td>2024-10-02</td>\n",
       "      <td>32</td>\n",
       "      <td>N</td>\n",
       "      <td>2024-10-02T12:15:00Z</td>\n",
       "      <td>30304.0</td>\n",
       "      <td>28824.0</td>\n",
       "    </tr>\n",
       "    <tr>\n",
       "      <th>...</th>\n",
       "      <td>...</td>\n",
       "      <td>...</td>\n",
       "      <td>...</td>\n",
       "      <td>...</td>\n",
       "      <td>...</td>\n",
       "      <td>...</td>\n",
       "      <td>...</td>\n",
       "    </tr>\n",
       "    <tr>\n",
       "      <th>74</th>\n",
       "      <td>2024-10-04T01:30:00Z</td>\n",
       "      <td>2024-10-04</td>\n",
       "      <td>6</td>\n",
       "      <td>N</td>\n",
       "      <td>2024-10-02T12:15:00Z</td>\n",
       "      <td>21471.0</td>\n",
       "      <td>20689.0</td>\n",
       "    </tr>\n",
       "    <tr>\n",
       "      <th>75</th>\n",
       "      <td>2024-10-04T02:00:00Z</td>\n",
       "      <td>2024-10-04</td>\n",
       "      <td>7</td>\n",
       "      <td>N</td>\n",
       "      <td>2024-10-02T12:15:00Z</td>\n",
       "      <td>21192.0</td>\n",
       "      <td>20410.0</td>\n",
       "    </tr>\n",
       "    <tr>\n",
       "      <th>76</th>\n",
       "      <td>2024-10-04T02:30:00Z</td>\n",
       "      <td>2024-10-04</td>\n",
       "      <td>8</td>\n",
       "      <td>N</td>\n",
       "      <td>2024-10-02T12:15:00Z</td>\n",
       "      <td>21043.0</td>\n",
       "      <td>20261.0</td>\n",
       "    </tr>\n",
       "    <tr>\n",
       "      <th>77</th>\n",
       "      <td>2024-10-04T03:00:00Z</td>\n",
       "      <td>2024-10-04</td>\n",
       "      <td>9</td>\n",
       "      <td>N</td>\n",
       "      <td>2024-10-02T12:15:00Z</td>\n",
       "      <td>20901.0</td>\n",
       "      <td>20120.0</td>\n",
       "    </tr>\n",
       "    <tr>\n",
       "      <th>78</th>\n",
       "      <td>2024-10-04T03:30:00Z</td>\n",
       "      <td>2024-10-04</td>\n",
       "      <td>10</td>\n",
       "      <td>N</td>\n",
       "      <td>2024-10-02T12:15:00Z</td>\n",
       "      <td>20931.0</td>\n",
       "      <td>20150.0</td>\n",
       "    </tr>\n",
       "  </tbody>\n",
       "</table>\n",
       "<p>79 rows × 7 columns</p>\n",
       "</div>"
      ],
      "text/plain": [
       "           timestamp_utc settlement_date  settlement_period boundary  \\\n",
       "0   2024-10-02T12:30:00Z      2024-10-02                 28        N   \n",
       "1   2024-10-02T13:00:00Z      2024-10-02                 29        N   \n",
       "2   2024-10-02T13:30:00Z      2024-10-02                 30        N   \n",
       "3   2024-10-02T14:00:00Z      2024-10-02                 31        N   \n",
       "4   2024-10-02T14:30:00Z      2024-10-02                 32        N   \n",
       "..                   ...             ...                ...      ...   \n",
       "74  2024-10-04T01:30:00Z      2024-10-04                  6        N   \n",
       "75  2024-10-04T02:00:00Z      2024-10-04                  7        N   \n",
       "76  2024-10-04T02:30:00Z      2024-10-04                  8        N   \n",
       "77  2024-10-04T03:00:00Z      2024-10-04                  9        N   \n",
       "78  2024-10-04T03:30:00Z      2024-10-04                 10        N   \n",
       "\n",
       "        publish_time_utc  transmission_system_demand  national_demand  \n",
       "0   2024-10-02T12:15:00Z                     29658.0          28132.0  \n",
       "1   2024-10-02T12:15:00Z                     29689.0          28191.0  \n",
       "2   2024-10-02T12:15:00Z                     29547.0          28049.0  \n",
       "3   2024-10-02T12:15:00Z                     29443.0          27990.0  \n",
       "4   2024-10-02T12:15:00Z                     30304.0          28824.0  \n",
       "..                   ...                         ...              ...  \n",
       "74  2024-10-02T12:15:00Z                     21471.0          20689.0  \n",
       "75  2024-10-02T12:15:00Z                     21192.0          20410.0  \n",
       "76  2024-10-02T12:15:00Z                     21043.0          20261.0  \n",
       "77  2024-10-02T12:15:00Z                     20901.0          20120.0  \n",
       "78  2024-10-02T12:15:00Z                     20931.0          20150.0  \n",
       "\n",
       "[79 rows x 7 columns]"
      ]
     },
     "execution_count": 22,
     "metadata": {},
     "output_type": "execute_result"
    }
   ],
   "source": [
    "df1"
   ]
  },
  {
   "cell_type": "code",
   "execution_count": 21,
   "metadata": {},
   "outputs": [
    {
     "data": {
      "text/plain": [
       "Index(['timestamp_utc', 'settlement_date', 'settlement_period', 'boundary',\n",
       "       'publish_time_utc', 'transmission_system_demand', 'national_demand'],\n",
       "      dtype='object')"
      ]
     },
     "execution_count": 21,
     "metadata": {},
     "output_type": "execute_result"
    }
   ],
   "source": [
    "df1.columns"
   ]
  },
  {
   "cell_type": "code",
   "execution_count": 10,
   "metadata": {},
   "outputs": [],
   "source": [
    "times = day_ahead_market_times()"
   ]
  },
  {
   "cell_type": "code",
   "execution_count": 14,
   "metadata": {},
   "outputs": [
    {
     "data": {
      "text/plain": [
       "DatetimeIndex(['2024-10-02 23:00:00+01:00', '2024-10-02 23:30:00+01:00',\n",
       "               '2024-10-03 00:00:00+01:00', '2024-10-03 00:30:00+01:00',\n",
       "               '2024-10-03 01:00:00+01:00', '2024-10-03 01:30:00+01:00',\n",
       "               '2024-10-03 02:00:00+01:00', '2024-10-03 02:30:00+01:00',\n",
       "               '2024-10-03 03:00:00+01:00', '2024-10-03 03:30:00+01:00',\n",
       "               '2024-10-03 04:00:00+01:00', '2024-10-03 04:30:00+01:00',\n",
       "               '2024-10-03 05:00:00+01:00', '2024-10-03 05:30:00+01:00',\n",
       "               '2024-10-03 06:00:00+01:00', '2024-10-03 06:30:00+01:00',\n",
       "               '2024-10-03 07:00:00+01:00', '2024-10-03 07:30:00+01:00',\n",
       "               '2024-10-03 08:00:00+01:00', '2024-10-03 08:30:00+01:00',\n",
       "               '2024-10-03 09:00:00+01:00', '2024-10-03 09:30:00+01:00',\n",
       "               '2024-10-03 10:00:00+01:00', '2024-10-03 10:30:00+01:00',\n",
       "               '2024-10-03 11:00:00+01:00', '2024-10-03 11:30:00+01:00',\n",
       "               '2024-10-03 12:00:00+01:00', '2024-10-03 12:30:00+01:00',\n",
       "               '2024-10-03 13:00:00+01:00', '2024-10-03 13:30:00+01:00',\n",
       "               '2024-10-03 14:00:00+01:00', '2024-10-03 14:30:00+01:00',\n",
       "               '2024-10-03 15:00:00+01:00', '2024-10-03 15:30:00+01:00',\n",
       "               '2024-10-03 16:00:00+01:00', '2024-10-03 16:30:00+01:00',\n",
       "               '2024-10-03 17:00:00+01:00', '2024-10-03 17:30:00+01:00',\n",
       "               '2024-10-03 18:00:00+01:00', '2024-10-03 18:30:00+01:00',\n",
       "               '2024-10-03 19:00:00+01:00', '2024-10-03 19:30:00+01:00',\n",
       "               '2024-10-03 20:00:00+01:00', '2024-10-03 20:30:00+01:00',\n",
       "               '2024-10-03 21:00:00+01:00', '2024-10-03 21:30:00+01:00',\n",
       "               '2024-10-03 22:00:00+01:00', '2024-10-03 22:30:00+01:00'],\n",
       "              dtype='datetime64[ns, Europe/London]', freq='30min')"
      ]
     },
     "execution_count": 14,
     "metadata": {},
     "output_type": "execute_result"
    }
   ],
   "source": [
    "times"
   ]
  },
  {
   "cell_type": "code",
   "execution_count": 26,
   "metadata": {},
   "outputs": [
    {
     "data": {
      "text/plain": [
       "['2024-10-02',\n",
       " '2024-10-02',\n",
       " '2024-10-03',\n",
       " '2024-10-03',\n",
       " '2024-10-03',\n",
       " '2024-10-03',\n",
       " '2024-10-03',\n",
       " '2024-10-03',\n",
       " '2024-10-03',\n",
       " '2024-10-03',\n",
       " '2024-10-03',\n",
       " '2024-10-03',\n",
       " '2024-10-03',\n",
       " '2024-10-03',\n",
       " '2024-10-03',\n",
       " '2024-10-03',\n",
       " '2024-10-03',\n",
       " '2024-10-03',\n",
       " '2024-10-03',\n",
       " '2024-10-03',\n",
       " '2024-10-03',\n",
       " '2024-10-03',\n",
       " '2024-10-03',\n",
       " '2024-10-03',\n",
       " '2024-10-03',\n",
       " '2024-10-03',\n",
       " '2024-10-03',\n",
       " '2024-10-03',\n",
       " '2024-10-03',\n",
       " '2024-10-03',\n",
       " '2024-10-03',\n",
       " '2024-10-03',\n",
       " '2024-10-03',\n",
       " '2024-10-03',\n",
       " '2024-10-03',\n",
       " '2024-10-03',\n",
       " '2024-10-03',\n",
       " '2024-10-03',\n",
       " '2024-10-03',\n",
       " '2024-10-03',\n",
       " '2024-10-03',\n",
       " '2024-10-03',\n",
       " '2024-10-03',\n",
       " '2024-10-03',\n",
       " '2024-10-03',\n",
       " '2024-10-03',\n",
       " '2024-10-03',\n",
       " '2024-10-03']"
      ]
     },
     "execution_count": 26,
     "metadata": {},
     "output_type": "execute_result"
    }
   ],
   "source": [
    "formatted_dates = [dt.strftime('%Y-%m-%d') for dt in times]\n",
    "formatted_dates"
   ]
  },
  {
   "cell_type": "code",
   "execution_count": 27,
   "metadata": {},
   "outputs": [
    {
     "name": "stderr",
     "output_type": "stream",
     "text": [
      "c:\\Temp\\EnergyProject\\HEFTcom24\\Lib\\site-packages\\urllib3\\connectionpool.py:1099: InsecureRequestWarning: Unverified HTTPS request is being made to host 'srv01prox.corp.trumpf.com'. Adding certificate verification is strongly advised. See: https://urllib3.readthedocs.io/en/latest/advanced-usage.html#tls-warnings\n",
      "  warnings.warn(\n"
     ]
    },
    {
     "name": "stdout",
     "output_type": "stream",
     "text": [
      "[]\n"
     ]
    },
    {
     "name": "stderr",
     "output_type": "stream",
     "text": [
      "c:\\Temp\\EnergyProject\\HEFTcom24\\Lib\\site-packages\\urllib3\\connectionpool.py:1099: InsecureRequestWarning: Unverified HTTPS request is being made to host 'srv01prox.corp.trumpf.com'. Adding certificate verification is strongly advised. See: https://urllib3.readthedocs.io/en/latest/advanced-usage.html#tls-warnings\n",
      "  warnings.warn(\n"
     ]
    },
    {
     "name": "stdout",
     "output_type": "stream",
     "text": [
      "[]\n"
     ]
    },
    {
     "name": "stderr",
     "output_type": "stream",
     "text": [
      "c:\\Temp\\EnergyProject\\HEFTcom24\\Lib\\site-packages\\urllib3\\connectionpool.py:1099: InsecureRequestWarning: Unverified HTTPS request is being made to host 'srv01prox.corp.trumpf.com'. Adding certificate verification is strongly advised. See: https://urllib3.readthedocs.io/en/latest/advanced-usage.html#tls-warnings\n",
      "  warnings.warn(\n"
     ]
    },
    {
     "name": "stdout",
     "output_type": "stream",
     "text": [
      "[]\n"
     ]
    },
    {
     "name": "stderr",
     "output_type": "stream",
     "text": [
      "c:\\Temp\\EnergyProject\\HEFTcom24\\Lib\\site-packages\\urllib3\\connectionpool.py:1099: InsecureRequestWarning: Unverified HTTPS request is being made to host 'srv01prox.corp.trumpf.com'. Adding certificate verification is strongly advised. See: https://urllib3.readthedocs.io/en/latest/advanced-usage.html#tls-warnings\n",
      "  warnings.warn(\n"
     ]
    },
    {
     "name": "stdout",
     "output_type": "stream",
     "text": [
      "[]\n"
     ]
    },
    {
     "name": "stderr",
     "output_type": "stream",
     "text": [
      "c:\\Temp\\EnergyProject\\HEFTcom24\\Lib\\site-packages\\urllib3\\connectionpool.py:1099: InsecureRequestWarning: Unverified HTTPS request is being made to host 'srv01prox.corp.trumpf.com'. Adding certificate verification is strongly advised. See: https://urllib3.readthedocs.io/en/latest/advanced-usage.html#tls-warnings\n",
      "  warnings.warn(\n"
     ]
    },
    {
     "name": "stdout",
     "output_type": "stream",
     "text": [
      "[]\n"
     ]
    },
    {
     "name": "stderr",
     "output_type": "stream",
     "text": [
      "c:\\Temp\\EnergyProject\\HEFTcom24\\Lib\\site-packages\\urllib3\\connectionpool.py:1099: InsecureRequestWarning: Unverified HTTPS request is being made to host 'srv01prox.corp.trumpf.com'. Adding certificate verification is strongly advised. See: https://urllib3.readthedocs.io/en/latest/advanced-usage.html#tls-warnings\n",
      "  warnings.warn(\n"
     ]
    },
    {
     "name": "stdout",
     "output_type": "stream",
     "text": [
      "[]\n"
     ]
    },
    {
     "name": "stderr",
     "output_type": "stream",
     "text": [
      "c:\\Temp\\EnergyProject\\HEFTcom24\\Lib\\site-packages\\urllib3\\connectionpool.py:1099: InsecureRequestWarning: Unverified HTTPS request is being made to host 'srv01prox.corp.trumpf.com'. Adding certificate verification is strongly advised. See: https://urllib3.readthedocs.io/en/latest/advanced-usage.html#tls-warnings\n",
      "  warnings.warn(\n"
     ]
    },
    {
     "name": "stdout",
     "output_type": "stream",
     "text": [
      "[]\n"
     ]
    },
    {
     "name": "stderr",
     "output_type": "stream",
     "text": [
      "c:\\Temp\\EnergyProject\\HEFTcom24\\Lib\\site-packages\\urllib3\\connectionpool.py:1099: InsecureRequestWarning: Unverified HTTPS request is being made to host 'srv01prox.corp.trumpf.com'. Adding certificate verification is strongly advised. See: https://urllib3.readthedocs.io/en/latest/advanced-usage.html#tls-warnings\n",
      "  warnings.warn(\n"
     ]
    },
    {
     "name": "stdout",
     "output_type": "stream",
     "text": [
      "[]\n"
     ]
    },
    {
     "name": "stderr",
     "output_type": "stream",
     "text": [
      "c:\\Temp\\EnergyProject\\HEFTcom24\\Lib\\site-packages\\urllib3\\connectionpool.py:1099: InsecureRequestWarning: Unverified HTTPS request is being made to host 'srv01prox.corp.trumpf.com'. Adding certificate verification is strongly advised. See: https://urllib3.readthedocs.io/en/latest/advanced-usage.html#tls-warnings\n",
      "  warnings.warn(\n"
     ]
    },
    {
     "name": "stdout",
     "output_type": "stream",
     "text": [
      "[]\n"
     ]
    },
    {
     "name": "stderr",
     "output_type": "stream",
     "text": [
      "c:\\Temp\\EnergyProject\\HEFTcom24\\Lib\\site-packages\\urllib3\\connectionpool.py:1099: InsecureRequestWarning: Unverified HTTPS request is being made to host 'srv01prox.corp.trumpf.com'. Adding certificate verification is strongly advised. See: https://urllib3.readthedocs.io/en/latest/advanced-usage.html#tls-warnings\n",
      "  warnings.warn(\n"
     ]
    },
    {
     "name": "stdout",
     "output_type": "stream",
     "text": [
      "[]\n"
     ]
    },
    {
     "name": "stderr",
     "output_type": "stream",
     "text": [
      "c:\\Temp\\EnergyProject\\HEFTcom24\\Lib\\site-packages\\urllib3\\connectionpool.py:1099: InsecureRequestWarning: Unverified HTTPS request is being made to host 'srv01prox.corp.trumpf.com'. Adding certificate verification is strongly advised. See: https://urllib3.readthedocs.io/en/latest/advanced-usage.html#tls-warnings\n",
      "  warnings.warn(\n"
     ]
    },
    {
     "name": "stdout",
     "output_type": "stream",
     "text": [
      "[]\n"
     ]
    },
    {
     "name": "stderr",
     "output_type": "stream",
     "text": [
      "c:\\Temp\\EnergyProject\\HEFTcom24\\Lib\\site-packages\\urllib3\\connectionpool.py:1099: InsecureRequestWarning: Unverified HTTPS request is being made to host 'srv01prox.corp.trumpf.com'. Adding certificate verification is strongly advised. See: https://urllib3.readthedocs.io/en/latest/advanced-usage.html#tls-warnings\n",
      "  warnings.warn(\n"
     ]
    },
    {
     "name": "stdout",
     "output_type": "stream",
     "text": [
      "[]\n"
     ]
    },
    {
     "name": "stderr",
     "output_type": "stream",
     "text": [
      "c:\\Temp\\EnergyProject\\HEFTcom24\\Lib\\site-packages\\urllib3\\connectionpool.py:1099: InsecureRequestWarning: Unverified HTTPS request is being made to host 'srv01prox.corp.trumpf.com'. Adding certificate verification is strongly advised. See: https://urllib3.readthedocs.io/en/latest/advanced-usage.html#tls-warnings\n",
      "  warnings.warn(\n"
     ]
    },
    {
     "name": "stdout",
     "output_type": "stream",
     "text": [
      "[]\n"
     ]
    },
    {
     "name": "stderr",
     "output_type": "stream",
     "text": [
      "c:\\Temp\\EnergyProject\\HEFTcom24\\Lib\\site-packages\\urllib3\\connectionpool.py:1099: InsecureRequestWarning: Unverified HTTPS request is being made to host 'srv01prox.corp.trumpf.com'. Adding certificate verification is strongly advised. See: https://urllib3.readthedocs.io/en/latest/advanced-usage.html#tls-warnings\n",
      "  warnings.warn(\n"
     ]
    },
    {
     "name": "stdout",
     "output_type": "stream",
     "text": [
      "[]\n"
     ]
    },
    {
     "name": "stderr",
     "output_type": "stream",
     "text": [
      "c:\\Temp\\EnergyProject\\HEFTcom24\\Lib\\site-packages\\urllib3\\connectionpool.py:1099: InsecureRequestWarning: Unverified HTTPS request is being made to host 'srv01prox.corp.trumpf.com'. Adding certificate verification is strongly advised. See: https://urllib3.readthedocs.io/en/latest/advanced-usage.html#tls-warnings\n",
      "  warnings.warn(\n"
     ]
    },
    {
     "name": "stdout",
     "output_type": "stream",
     "text": [
      "[]\n"
     ]
    },
    {
     "name": "stderr",
     "output_type": "stream",
     "text": [
      "c:\\Temp\\EnergyProject\\HEFTcom24\\Lib\\site-packages\\urllib3\\connectionpool.py:1099: InsecureRequestWarning: Unverified HTTPS request is being made to host 'srv01prox.corp.trumpf.com'. Adding certificate verification is strongly advised. See: https://urllib3.readthedocs.io/en/latest/advanced-usage.html#tls-warnings\n",
      "  warnings.warn(\n"
     ]
    },
    {
     "name": "stdout",
     "output_type": "stream",
     "text": [
      "[]\n"
     ]
    },
    {
     "name": "stderr",
     "output_type": "stream",
     "text": [
      "c:\\Temp\\EnergyProject\\HEFTcom24\\Lib\\site-packages\\urllib3\\connectionpool.py:1099: InsecureRequestWarning: Unverified HTTPS request is being made to host 'srv01prox.corp.trumpf.com'. Adding certificate verification is strongly advised. See: https://urllib3.readthedocs.io/en/latest/advanced-usage.html#tls-warnings\n",
      "  warnings.warn(\n"
     ]
    },
    {
     "name": "stdout",
     "output_type": "stream",
     "text": [
      "[]\n"
     ]
    },
    {
     "name": "stderr",
     "output_type": "stream",
     "text": [
      "c:\\Temp\\EnergyProject\\HEFTcom24\\Lib\\site-packages\\urllib3\\connectionpool.py:1099: InsecureRequestWarning: Unverified HTTPS request is being made to host 'srv01prox.corp.trumpf.com'. Adding certificate verification is strongly advised. See: https://urllib3.readthedocs.io/en/latest/advanced-usage.html#tls-warnings\n",
      "  warnings.warn(\n"
     ]
    },
    {
     "name": "stdout",
     "output_type": "stream",
     "text": [
      "[]\n"
     ]
    },
    {
     "name": "stderr",
     "output_type": "stream",
     "text": [
      "c:\\Temp\\EnergyProject\\HEFTcom24\\Lib\\site-packages\\urllib3\\connectionpool.py:1099: InsecureRequestWarning: Unverified HTTPS request is being made to host 'srv01prox.corp.trumpf.com'. Adding certificate verification is strongly advised. See: https://urllib3.readthedocs.io/en/latest/advanced-usage.html#tls-warnings\n",
      "  warnings.warn(\n"
     ]
    },
    {
     "name": "stdout",
     "output_type": "stream",
     "text": [
      "[]\n"
     ]
    },
    {
     "name": "stderr",
     "output_type": "stream",
     "text": [
      "c:\\Temp\\EnergyProject\\HEFTcom24\\Lib\\site-packages\\urllib3\\connectionpool.py:1099: InsecureRequestWarning: Unverified HTTPS request is being made to host 'srv01prox.corp.trumpf.com'. Adding certificate verification is strongly advised. See: https://urllib3.readthedocs.io/en/latest/advanced-usage.html#tls-warnings\n",
      "  warnings.warn(\n"
     ]
    },
    {
     "name": "stdout",
     "output_type": "stream",
     "text": [
      "[]\n"
     ]
    },
    {
     "name": "stderr",
     "output_type": "stream",
     "text": [
      "c:\\Temp\\EnergyProject\\HEFTcom24\\Lib\\site-packages\\urllib3\\connectionpool.py:1099: InsecureRequestWarning: Unverified HTTPS request is being made to host 'srv01prox.corp.trumpf.com'. Adding certificate verification is strongly advised. See: https://urllib3.readthedocs.io/en/latest/advanced-usage.html#tls-warnings\n",
      "  warnings.warn(\n"
     ]
    },
    {
     "name": "stdout",
     "output_type": "stream",
     "text": [
      "[]\n"
     ]
    },
    {
     "name": "stderr",
     "output_type": "stream",
     "text": [
      "c:\\Temp\\EnergyProject\\HEFTcom24\\Lib\\site-packages\\urllib3\\connectionpool.py:1099: InsecureRequestWarning: Unverified HTTPS request is being made to host 'srv01prox.corp.trumpf.com'. Adding certificate verification is strongly advised. See: https://urllib3.readthedocs.io/en/latest/advanced-usage.html#tls-warnings\n",
      "  warnings.warn(\n"
     ]
    },
    {
     "name": "stdout",
     "output_type": "stream",
     "text": [
      "[]\n"
     ]
    },
    {
     "name": "stderr",
     "output_type": "stream",
     "text": [
      "c:\\Temp\\EnergyProject\\HEFTcom24\\Lib\\site-packages\\urllib3\\connectionpool.py:1099: InsecureRequestWarning: Unverified HTTPS request is being made to host 'srv01prox.corp.trumpf.com'. Adding certificate verification is strongly advised. See: https://urllib3.readthedocs.io/en/latest/advanced-usage.html#tls-warnings\n",
      "  warnings.warn(\n"
     ]
    },
    {
     "name": "stdout",
     "output_type": "stream",
     "text": [
      "[]\n"
     ]
    },
    {
     "name": "stderr",
     "output_type": "stream",
     "text": [
      "c:\\Temp\\EnergyProject\\HEFTcom24\\Lib\\site-packages\\urllib3\\connectionpool.py:1099: InsecureRequestWarning: Unverified HTTPS request is being made to host 'srv01prox.corp.trumpf.com'. Adding certificate verification is strongly advised. See: https://urllib3.readthedocs.io/en/latest/advanced-usage.html#tls-warnings\n",
      "  warnings.warn(\n"
     ]
    },
    {
     "name": "stdout",
     "output_type": "stream",
     "text": [
      "[]\n"
     ]
    },
    {
     "name": "stderr",
     "output_type": "stream",
     "text": [
      "c:\\Temp\\EnergyProject\\HEFTcom24\\Lib\\site-packages\\urllib3\\connectionpool.py:1099: InsecureRequestWarning: Unverified HTTPS request is being made to host 'srv01prox.corp.trumpf.com'. Adding certificate verification is strongly advised. See: https://urllib3.readthedocs.io/en/latest/advanced-usage.html#tls-warnings\n",
      "  warnings.warn(\n"
     ]
    },
    {
     "ename": "KeyboardInterrupt",
     "evalue": "",
     "output_type": "error",
     "traceback": [
      "\u001b[1;31m---------------------------------------------------------------------------\u001b[0m",
      "\u001b[1;31mKeyboardInterrupt\u001b[0m                         Traceback (most recent call last)",
      "Cell \u001b[1;32mIn[27], line 2\u001b[0m\n\u001b[0;32m      1\u001b[0m \u001b[38;5;28;01mfor\u001b[39;00m i \u001b[38;5;129;01min\u001b[39;00m formatted_dates:\n\u001b[1;32m----> 2\u001b[0m     \u001b[43mrebase_api_client\u001b[49m\u001b[38;5;241;43m.\u001b[39;49m\u001b[43mget_day_ahead_price\u001b[49m\u001b[43m(\u001b[49m\u001b[43mi\u001b[49m\u001b[43m)\u001b[49m\n",
      "File \u001b[1;32m\\\\srvditz1\\home$\\hohensteinpa\\Desktop\\Test\\Energy_production_price_prediction\\comp_utils.py:51\u001b[0m, in \u001b[0;36mRebaseAPI.get_day_ahead_price\u001b[1;34m(self, day)\u001b[0m\n\u001b[0;32m     49\u001b[0m url \u001b[38;5;241m=\u001b[39m \u001b[38;5;124mf\u001b[39m\u001b[38;5;124m\"\u001b[39m\u001b[38;5;132;01m{\u001b[39;00m\u001b[38;5;28mself\u001b[39m\u001b[38;5;241m.\u001b[39mbase_url\u001b[38;5;132;01m}\u001b[39;00m\u001b[38;5;124m/challenges/data/day_ahead_price\u001b[39m\u001b[38;5;124m\"\u001b[39m\n\u001b[0;32m     50\u001b[0m params \u001b[38;5;241m=\u001b[39m {\u001b[38;5;124m'\u001b[39m\u001b[38;5;124mday\u001b[39m\u001b[38;5;124m'\u001b[39m: day}\n\u001b[1;32m---> 51\u001b[0m resp \u001b[38;5;241m=\u001b[39m \u001b[38;5;28;43mself\u001b[39;49m\u001b[38;5;241;43m.\u001b[39;49m\u001b[43msession\u001b[49m\u001b[38;5;241;43m.\u001b[39;49m\u001b[43mget\u001b[49m\u001b[43m(\u001b[49m\u001b[43murl\u001b[49m\u001b[43m,\u001b[49m\u001b[43m \u001b[49m\u001b[43mparams\u001b[49m\u001b[38;5;241;43m=\u001b[39;49m\u001b[43mparams\u001b[49m\u001b[43m,\u001b[49m\u001b[43mverify\u001b[49m\u001b[38;5;241;43m=\u001b[39;49m\u001b[38;5;28;43mself\u001b[39;49m\u001b[38;5;241;43m.\u001b[39;49m\u001b[43mssl_verify\u001b[49m\u001b[43m)\u001b[49m\n\u001b[0;32m     52\u001b[0m data \u001b[38;5;241m=\u001b[39m resp\u001b[38;5;241m.\u001b[39mjson()\n\u001b[0;32m     53\u001b[0m \u001b[38;5;28mprint\u001b[39m(resp\u001b[38;5;241m.\u001b[39mjson())\n",
      "File \u001b[1;32mc:\\Temp\\EnergyProject\\HEFTcom24\\Lib\\site-packages\\requests\\sessions.py:602\u001b[0m, in \u001b[0;36mSession.get\u001b[1;34m(self, url, **kwargs)\u001b[0m\n\u001b[0;32m    594\u001b[0m \u001b[38;5;250m\u001b[39m\u001b[38;5;124mr\u001b[39m\u001b[38;5;124;03m\"\"\"Sends a GET request. Returns :class:`Response` object.\u001b[39;00m\n\u001b[0;32m    595\u001b[0m \n\u001b[0;32m    596\u001b[0m \u001b[38;5;124;03m:param url: URL for the new :class:`Request` object.\u001b[39;00m\n\u001b[0;32m    597\u001b[0m \u001b[38;5;124;03m:param \\*\\*kwargs: Optional arguments that ``request`` takes.\u001b[39;00m\n\u001b[0;32m    598\u001b[0m \u001b[38;5;124;03m:rtype: requests.Response\u001b[39;00m\n\u001b[0;32m    599\u001b[0m \u001b[38;5;124;03m\"\"\"\u001b[39;00m\n\u001b[0;32m    601\u001b[0m kwargs\u001b[38;5;241m.\u001b[39msetdefault(\u001b[38;5;124m\"\u001b[39m\u001b[38;5;124mallow_redirects\u001b[39m\u001b[38;5;124m\"\u001b[39m, \u001b[38;5;28;01mTrue\u001b[39;00m)\n\u001b[1;32m--> 602\u001b[0m \u001b[38;5;28;01mreturn\u001b[39;00m \u001b[38;5;28;43mself\u001b[39;49m\u001b[38;5;241;43m.\u001b[39;49m\u001b[43mrequest\u001b[49m\u001b[43m(\u001b[49m\u001b[38;5;124;43m\"\u001b[39;49m\u001b[38;5;124;43mGET\u001b[39;49m\u001b[38;5;124;43m\"\u001b[39;49m\u001b[43m,\u001b[49m\u001b[43m \u001b[49m\u001b[43murl\u001b[49m\u001b[43m,\u001b[49m\u001b[43m \u001b[49m\u001b[38;5;241;43m*\u001b[39;49m\u001b[38;5;241;43m*\u001b[39;49m\u001b[43mkwargs\u001b[49m\u001b[43m)\u001b[49m\n",
      "File \u001b[1;32mc:\\Temp\\EnergyProject\\HEFTcom24\\Lib\\site-packages\\requests\\sessions.py:589\u001b[0m, in \u001b[0;36mSession.request\u001b[1;34m(self, method, url, params, data, headers, cookies, files, auth, timeout, allow_redirects, proxies, hooks, stream, verify, cert, json)\u001b[0m\n\u001b[0;32m    584\u001b[0m send_kwargs \u001b[38;5;241m=\u001b[39m {\n\u001b[0;32m    585\u001b[0m     \u001b[38;5;124m\"\u001b[39m\u001b[38;5;124mtimeout\u001b[39m\u001b[38;5;124m\"\u001b[39m: timeout,\n\u001b[0;32m    586\u001b[0m     \u001b[38;5;124m\"\u001b[39m\u001b[38;5;124mallow_redirects\u001b[39m\u001b[38;5;124m\"\u001b[39m: allow_redirects,\n\u001b[0;32m    587\u001b[0m }\n\u001b[0;32m    588\u001b[0m send_kwargs\u001b[38;5;241m.\u001b[39mupdate(settings)\n\u001b[1;32m--> 589\u001b[0m resp \u001b[38;5;241m=\u001b[39m \u001b[38;5;28;43mself\u001b[39;49m\u001b[38;5;241;43m.\u001b[39;49m\u001b[43msend\u001b[49m\u001b[43m(\u001b[49m\u001b[43mprep\u001b[49m\u001b[43m,\u001b[49m\u001b[43m \u001b[49m\u001b[38;5;241;43m*\u001b[39;49m\u001b[38;5;241;43m*\u001b[39;49m\u001b[43msend_kwargs\u001b[49m\u001b[43m)\u001b[49m\n\u001b[0;32m    591\u001b[0m \u001b[38;5;28;01mreturn\u001b[39;00m resp\n",
      "File \u001b[1;32mc:\\Temp\\EnergyProject\\HEFTcom24\\Lib\\site-packages\\requests\\sessions.py:703\u001b[0m, in \u001b[0;36mSession.send\u001b[1;34m(self, request, **kwargs)\u001b[0m\n\u001b[0;32m    700\u001b[0m start \u001b[38;5;241m=\u001b[39m preferred_clock()\n\u001b[0;32m    702\u001b[0m \u001b[38;5;66;03m# Send the request\u001b[39;00m\n\u001b[1;32m--> 703\u001b[0m r \u001b[38;5;241m=\u001b[39m \u001b[43madapter\u001b[49m\u001b[38;5;241;43m.\u001b[39;49m\u001b[43msend\u001b[49m\u001b[43m(\u001b[49m\u001b[43mrequest\u001b[49m\u001b[43m,\u001b[49m\u001b[43m \u001b[49m\u001b[38;5;241;43m*\u001b[39;49m\u001b[38;5;241;43m*\u001b[39;49m\u001b[43mkwargs\u001b[49m\u001b[43m)\u001b[49m\n\u001b[0;32m    705\u001b[0m \u001b[38;5;66;03m# Total elapsed time of the request (approximately)\u001b[39;00m\n\u001b[0;32m    706\u001b[0m elapsed \u001b[38;5;241m=\u001b[39m preferred_clock() \u001b[38;5;241m-\u001b[39m start\n",
      "File \u001b[1;32mc:\\Temp\\EnergyProject\\HEFTcom24\\Lib\\site-packages\\requests\\adapters.py:667\u001b[0m, in \u001b[0;36mHTTPAdapter.send\u001b[1;34m(self, request, stream, timeout, verify, cert, proxies)\u001b[0m\n\u001b[0;32m    664\u001b[0m     timeout \u001b[38;5;241m=\u001b[39m TimeoutSauce(connect\u001b[38;5;241m=\u001b[39mtimeout, read\u001b[38;5;241m=\u001b[39mtimeout)\n\u001b[0;32m    666\u001b[0m \u001b[38;5;28;01mtry\u001b[39;00m:\n\u001b[1;32m--> 667\u001b[0m     resp \u001b[38;5;241m=\u001b[39m \u001b[43mconn\u001b[49m\u001b[38;5;241;43m.\u001b[39;49m\u001b[43murlopen\u001b[49m\u001b[43m(\u001b[49m\n\u001b[0;32m    668\u001b[0m \u001b[43m        \u001b[49m\u001b[43mmethod\u001b[49m\u001b[38;5;241;43m=\u001b[39;49m\u001b[43mrequest\u001b[49m\u001b[38;5;241;43m.\u001b[39;49m\u001b[43mmethod\u001b[49m\u001b[43m,\u001b[49m\n\u001b[0;32m    669\u001b[0m \u001b[43m        \u001b[49m\u001b[43murl\u001b[49m\u001b[38;5;241;43m=\u001b[39;49m\u001b[43murl\u001b[49m\u001b[43m,\u001b[49m\n\u001b[0;32m    670\u001b[0m \u001b[43m        \u001b[49m\u001b[43mbody\u001b[49m\u001b[38;5;241;43m=\u001b[39;49m\u001b[43mrequest\u001b[49m\u001b[38;5;241;43m.\u001b[39;49m\u001b[43mbody\u001b[49m\u001b[43m,\u001b[49m\n\u001b[0;32m    671\u001b[0m \u001b[43m        \u001b[49m\u001b[43mheaders\u001b[49m\u001b[38;5;241;43m=\u001b[39;49m\u001b[43mrequest\u001b[49m\u001b[38;5;241;43m.\u001b[39;49m\u001b[43mheaders\u001b[49m\u001b[43m,\u001b[49m\n\u001b[0;32m    672\u001b[0m \u001b[43m        \u001b[49m\u001b[43mredirect\u001b[49m\u001b[38;5;241;43m=\u001b[39;49m\u001b[38;5;28;43;01mFalse\u001b[39;49;00m\u001b[43m,\u001b[49m\n\u001b[0;32m    673\u001b[0m \u001b[43m        \u001b[49m\u001b[43massert_same_host\u001b[49m\u001b[38;5;241;43m=\u001b[39;49m\u001b[38;5;28;43;01mFalse\u001b[39;49;00m\u001b[43m,\u001b[49m\n\u001b[0;32m    674\u001b[0m \u001b[43m        \u001b[49m\u001b[43mpreload_content\u001b[49m\u001b[38;5;241;43m=\u001b[39;49m\u001b[38;5;28;43;01mFalse\u001b[39;49;00m\u001b[43m,\u001b[49m\n\u001b[0;32m    675\u001b[0m \u001b[43m        \u001b[49m\u001b[43mdecode_content\u001b[49m\u001b[38;5;241;43m=\u001b[39;49m\u001b[38;5;28;43;01mFalse\u001b[39;49;00m\u001b[43m,\u001b[49m\n\u001b[0;32m    676\u001b[0m \u001b[43m        \u001b[49m\u001b[43mretries\u001b[49m\u001b[38;5;241;43m=\u001b[39;49m\u001b[38;5;28;43mself\u001b[39;49m\u001b[38;5;241;43m.\u001b[39;49m\u001b[43mmax_retries\u001b[49m\u001b[43m,\u001b[49m\n\u001b[0;32m    677\u001b[0m \u001b[43m        \u001b[49m\u001b[43mtimeout\u001b[49m\u001b[38;5;241;43m=\u001b[39;49m\u001b[43mtimeout\u001b[49m\u001b[43m,\u001b[49m\n\u001b[0;32m    678\u001b[0m \u001b[43m        \u001b[49m\u001b[43mchunked\u001b[49m\u001b[38;5;241;43m=\u001b[39;49m\u001b[43mchunked\u001b[49m\u001b[43m,\u001b[49m\n\u001b[0;32m    679\u001b[0m \u001b[43m    \u001b[49m\u001b[43m)\u001b[49m\n\u001b[0;32m    681\u001b[0m \u001b[38;5;28;01mexcept\u001b[39;00m (ProtocolError, \u001b[38;5;167;01mOSError\u001b[39;00m) \u001b[38;5;28;01mas\u001b[39;00m err:\n\u001b[0;32m    682\u001b[0m     \u001b[38;5;28;01mraise\u001b[39;00m \u001b[38;5;167;01mConnectionError\u001b[39;00m(err, request\u001b[38;5;241m=\u001b[39mrequest)\n",
      "File \u001b[1;32mc:\\Temp\\EnergyProject\\HEFTcom24\\Lib\\site-packages\\urllib3\\connectionpool.py:789\u001b[0m, in \u001b[0;36mHTTPConnectionPool.urlopen\u001b[1;34m(self, method, url, body, headers, retries, redirect, assert_same_host, timeout, pool_timeout, release_conn, chunked, body_pos, preload_content, decode_content, **response_kw)\u001b[0m\n\u001b[0;32m    786\u001b[0m response_conn \u001b[38;5;241m=\u001b[39m conn \u001b[38;5;28;01mif\u001b[39;00m \u001b[38;5;129;01mnot\u001b[39;00m release_conn \u001b[38;5;28;01melse\u001b[39;00m \u001b[38;5;28;01mNone\u001b[39;00m\n\u001b[0;32m    788\u001b[0m \u001b[38;5;66;03m# Make the request on the HTTPConnection object\u001b[39;00m\n\u001b[1;32m--> 789\u001b[0m response \u001b[38;5;241m=\u001b[39m \u001b[38;5;28;43mself\u001b[39;49m\u001b[38;5;241;43m.\u001b[39;49m\u001b[43m_make_request\u001b[49m\u001b[43m(\u001b[49m\n\u001b[0;32m    790\u001b[0m \u001b[43m    \u001b[49m\u001b[43mconn\u001b[49m\u001b[43m,\u001b[49m\n\u001b[0;32m    791\u001b[0m \u001b[43m    \u001b[49m\u001b[43mmethod\u001b[49m\u001b[43m,\u001b[49m\n\u001b[0;32m    792\u001b[0m \u001b[43m    \u001b[49m\u001b[43murl\u001b[49m\u001b[43m,\u001b[49m\n\u001b[0;32m    793\u001b[0m \u001b[43m    \u001b[49m\u001b[43mtimeout\u001b[49m\u001b[38;5;241;43m=\u001b[39;49m\u001b[43mtimeout_obj\u001b[49m\u001b[43m,\u001b[49m\n\u001b[0;32m    794\u001b[0m \u001b[43m    \u001b[49m\u001b[43mbody\u001b[49m\u001b[38;5;241;43m=\u001b[39;49m\u001b[43mbody\u001b[49m\u001b[43m,\u001b[49m\n\u001b[0;32m    795\u001b[0m \u001b[43m    \u001b[49m\u001b[43mheaders\u001b[49m\u001b[38;5;241;43m=\u001b[39;49m\u001b[43mheaders\u001b[49m\u001b[43m,\u001b[49m\n\u001b[0;32m    796\u001b[0m \u001b[43m    \u001b[49m\u001b[43mchunked\u001b[49m\u001b[38;5;241;43m=\u001b[39;49m\u001b[43mchunked\u001b[49m\u001b[43m,\u001b[49m\n\u001b[0;32m    797\u001b[0m \u001b[43m    \u001b[49m\u001b[43mretries\u001b[49m\u001b[38;5;241;43m=\u001b[39;49m\u001b[43mretries\u001b[49m\u001b[43m,\u001b[49m\n\u001b[0;32m    798\u001b[0m \u001b[43m    \u001b[49m\u001b[43mresponse_conn\u001b[49m\u001b[38;5;241;43m=\u001b[39;49m\u001b[43mresponse_conn\u001b[49m\u001b[43m,\u001b[49m\n\u001b[0;32m    799\u001b[0m \u001b[43m    \u001b[49m\u001b[43mpreload_content\u001b[49m\u001b[38;5;241;43m=\u001b[39;49m\u001b[43mpreload_content\u001b[49m\u001b[43m,\u001b[49m\n\u001b[0;32m    800\u001b[0m \u001b[43m    \u001b[49m\u001b[43mdecode_content\u001b[49m\u001b[38;5;241;43m=\u001b[39;49m\u001b[43mdecode_content\u001b[49m\u001b[43m,\u001b[49m\n\u001b[0;32m    801\u001b[0m \u001b[43m    \u001b[49m\u001b[38;5;241;43m*\u001b[39;49m\u001b[38;5;241;43m*\u001b[39;49m\u001b[43mresponse_kw\u001b[49m\u001b[43m,\u001b[49m\n\u001b[0;32m    802\u001b[0m \u001b[43m\u001b[49m\u001b[43m)\u001b[49m\n\u001b[0;32m    804\u001b[0m \u001b[38;5;66;03m# Everything went great!\u001b[39;00m\n\u001b[0;32m    805\u001b[0m clean_exit \u001b[38;5;241m=\u001b[39m \u001b[38;5;28;01mTrue\u001b[39;00m\n",
      "File \u001b[1;32mc:\\Temp\\EnergyProject\\HEFTcom24\\Lib\\site-packages\\urllib3\\connectionpool.py:536\u001b[0m, in \u001b[0;36mHTTPConnectionPool._make_request\u001b[1;34m(self, conn, method, url, body, headers, retries, timeout, chunked, response_conn, preload_content, decode_content, enforce_content_length)\u001b[0m\n\u001b[0;32m    534\u001b[0m \u001b[38;5;66;03m# Receive the response from the server\u001b[39;00m\n\u001b[0;32m    535\u001b[0m \u001b[38;5;28;01mtry\u001b[39;00m:\n\u001b[1;32m--> 536\u001b[0m     response \u001b[38;5;241m=\u001b[39m \u001b[43mconn\u001b[49m\u001b[38;5;241;43m.\u001b[39;49m\u001b[43mgetresponse\u001b[49m\u001b[43m(\u001b[49m\u001b[43m)\u001b[49m\n\u001b[0;32m    537\u001b[0m \u001b[38;5;28;01mexcept\u001b[39;00m (BaseSSLError, \u001b[38;5;167;01mOSError\u001b[39;00m) \u001b[38;5;28;01mas\u001b[39;00m e:\n\u001b[0;32m    538\u001b[0m     \u001b[38;5;28mself\u001b[39m\u001b[38;5;241m.\u001b[39m_raise_timeout(err\u001b[38;5;241m=\u001b[39me, url\u001b[38;5;241m=\u001b[39murl, timeout_value\u001b[38;5;241m=\u001b[39mread_timeout)\n",
      "File \u001b[1;32mc:\\Temp\\EnergyProject\\HEFTcom24\\Lib\\site-packages\\urllib3\\connection.py:507\u001b[0m, in \u001b[0;36mHTTPConnection.getresponse\u001b[1;34m(self)\u001b[0m\n\u001b[0;32m    504\u001b[0m \u001b[38;5;28;01mfrom\u001b[39;00m \u001b[38;5;21;01m.\u001b[39;00m\u001b[38;5;21;01mresponse\u001b[39;00m \u001b[38;5;28;01mimport\u001b[39;00m HTTPResponse\n\u001b[0;32m    506\u001b[0m \u001b[38;5;66;03m# Get the response from http.client.HTTPConnection\u001b[39;00m\n\u001b[1;32m--> 507\u001b[0m httplib_response \u001b[38;5;241m=\u001b[39m \u001b[38;5;28;43msuper\u001b[39;49m\u001b[43m(\u001b[49m\u001b[43m)\u001b[49m\u001b[38;5;241;43m.\u001b[39;49m\u001b[43mgetresponse\u001b[49m\u001b[43m(\u001b[49m\u001b[43m)\u001b[49m\n\u001b[0;32m    509\u001b[0m \u001b[38;5;28;01mtry\u001b[39;00m:\n\u001b[0;32m    510\u001b[0m     assert_header_parsing(httplib_response\u001b[38;5;241m.\u001b[39mmsg)\n",
      "File \u001b[1;32m~\\.pyenv\\pyenv-win\\versions\\3.11.3\\Lib\\http\\client.py:1375\u001b[0m, in \u001b[0;36mHTTPConnection.getresponse\u001b[1;34m(self)\u001b[0m\n\u001b[0;32m   1373\u001b[0m \u001b[38;5;28;01mtry\u001b[39;00m:\n\u001b[0;32m   1374\u001b[0m     \u001b[38;5;28;01mtry\u001b[39;00m:\n\u001b[1;32m-> 1375\u001b[0m         \u001b[43mresponse\u001b[49m\u001b[38;5;241;43m.\u001b[39;49m\u001b[43mbegin\u001b[49m\u001b[43m(\u001b[49m\u001b[43m)\u001b[49m\n\u001b[0;32m   1376\u001b[0m     \u001b[38;5;28;01mexcept\u001b[39;00m \u001b[38;5;167;01mConnectionError\u001b[39;00m:\n\u001b[0;32m   1377\u001b[0m         \u001b[38;5;28mself\u001b[39m\u001b[38;5;241m.\u001b[39mclose()\n",
      "File \u001b[1;32m~\\.pyenv\\pyenv-win\\versions\\3.11.3\\Lib\\http\\client.py:318\u001b[0m, in \u001b[0;36mHTTPResponse.begin\u001b[1;34m(self)\u001b[0m\n\u001b[0;32m    316\u001b[0m \u001b[38;5;66;03m# read until we get a non-100 response\u001b[39;00m\n\u001b[0;32m    317\u001b[0m \u001b[38;5;28;01mwhile\u001b[39;00m \u001b[38;5;28;01mTrue\u001b[39;00m:\n\u001b[1;32m--> 318\u001b[0m     version, status, reason \u001b[38;5;241m=\u001b[39m \u001b[38;5;28;43mself\u001b[39;49m\u001b[38;5;241;43m.\u001b[39;49m\u001b[43m_read_status\u001b[49m\u001b[43m(\u001b[49m\u001b[43m)\u001b[49m\n\u001b[0;32m    319\u001b[0m     \u001b[38;5;28;01mif\u001b[39;00m status \u001b[38;5;241m!=\u001b[39m CONTINUE:\n\u001b[0;32m    320\u001b[0m         \u001b[38;5;28;01mbreak\u001b[39;00m\n",
      "File \u001b[1;32m~\\.pyenv\\pyenv-win\\versions\\3.11.3\\Lib\\http\\client.py:279\u001b[0m, in \u001b[0;36mHTTPResponse._read_status\u001b[1;34m(self)\u001b[0m\n\u001b[0;32m    278\u001b[0m \u001b[38;5;28;01mdef\u001b[39;00m \u001b[38;5;21m_read_status\u001b[39m(\u001b[38;5;28mself\u001b[39m):\n\u001b[1;32m--> 279\u001b[0m     line \u001b[38;5;241m=\u001b[39m \u001b[38;5;28mstr\u001b[39m(\u001b[38;5;28mself\u001b[39m\u001b[38;5;241m.\u001b[39mfp\u001b[38;5;241m.\u001b[39mreadline(_MAXLINE \u001b[38;5;241m+\u001b[39m \u001b[38;5;241m1\u001b[39m), \u001b[38;5;124m\"\u001b[39m\u001b[38;5;124miso-8859-1\u001b[39m\u001b[38;5;124m\"\u001b[39m)\n\u001b[0;32m    280\u001b[0m     \u001b[38;5;28;01mif\u001b[39;00m \u001b[38;5;28mlen\u001b[39m(line) \u001b[38;5;241m>\u001b[39m _MAXLINE:\n\u001b[0;32m    281\u001b[0m         \u001b[38;5;28;01mraise\u001b[39;00m LineTooLong(\u001b[38;5;124m\"\u001b[39m\u001b[38;5;124mstatus line\u001b[39m\u001b[38;5;124m\"\u001b[39m)\n",
      "File \u001b[1;32m~\\.pyenv\\pyenv-win\\versions\\3.11.3\\Lib\\socket.py:706\u001b[0m, in \u001b[0;36mSocketIO.readinto\u001b[1;34m(self, b)\u001b[0m\n\u001b[0;32m    704\u001b[0m \u001b[38;5;28;01mwhile\u001b[39;00m \u001b[38;5;28;01mTrue\u001b[39;00m:\n\u001b[0;32m    705\u001b[0m     \u001b[38;5;28;01mtry\u001b[39;00m:\n\u001b[1;32m--> 706\u001b[0m         \u001b[38;5;28;01mreturn\u001b[39;00m \u001b[38;5;28;43mself\u001b[39;49m\u001b[38;5;241;43m.\u001b[39;49m\u001b[43m_sock\u001b[49m\u001b[38;5;241;43m.\u001b[39;49m\u001b[43mrecv_into\u001b[49m\u001b[43m(\u001b[49m\u001b[43mb\u001b[49m\u001b[43m)\u001b[49m\n\u001b[0;32m    707\u001b[0m     \u001b[38;5;28;01mexcept\u001b[39;00m timeout:\n\u001b[0;32m    708\u001b[0m         \u001b[38;5;28mself\u001b[39m\u001b[38;5;241m.\u001b[39m_timeout_occurred \u001b[38;5;241m=\u001b[39m \u001b[38;5;28;01mTrue\u001b[39;00m\n",
      "File \u001b[1;32m~\\.pyenv\\pyenv-win\\versions\\3.11.3\\Lib\\ssl.py:1278\u001b[0m, in \u001b[0;36mSSLSocket.recv_into\u001b[1;34m(self, buffer, nbytes, flags)\u001b[0m\n\u001b[0;32m   1274\u001b[0m     \u001b[38;5;28;01mif\u001b[39;00m flags \u001b[38;5;241m!=\u001b[39m \u001b[38;5;241m0\u001b[39m:\n\u001b[0;32m   1275\u001b[0m         \u001b[38;5;28;01mraise\u001b[39;00m \u001b[38;5;167;01mValueError\u001b[39;00m(\n\u001b[0;32m   1276\u001b[0m           \u001b[38;5;124m\"\u001b[39m\u001b[38;5;124mnon-zero flags not allowed in calls to recv_into() on \u001b[39m\u001b[38;5;132;01m%s\u001b[39;00m\u001b[38;5;124m\"\u001b[39m \u001b[38;5;241m%\u001b[39m\n\u001b[0;32m   1277\u001b[0m           \u001b[38;5;28mself\u001b[39m\u001b[38;5;241m.\u001b[39m\u001b[38;5;18m__class__\u001b[39m)\n\u001b[1;32m-> 1278\u001b[0m     \u001b[38;5;28;01mreturn\u001b[39;00m \u001b[38;5;28;43mself\u001b[39;49m\u001b[38;5;241;43m.\u001b[39;49m\u001b[43mread\u001b[49m\u001b[43m(\u001b[49m\u001b[43mnbytes\u001b[49m\u001b[43m,\u001b[49m\u001b[43m \u001b[49m\u001b[43mbuffer\u001b[49m\u001b[43m)\u001b[49m\n\u001b[0;32m   1279\u001b[0m \u001b[38;5;28;01melse\u001b[39;00m:\n\u001b[0;32m   1280\u001b[0m     \u001b[38;5;28;01mreturn\u001b[39;00m \u001b[38;5;28msuper\u001b[39m()\u001b[38;5;241m.\u001b[39mrecv_into(buffer, nbytes, flags)\n",
      "File \u001b[1;32m~\\.pyenv\\pyenv-win\\versions\\3.11.3\\Lib\\ssl.py:1134\u001b[0m, in \u001b[0;36mSSLSocket.read\u001b[1;34m(self, len, buffer)\u001b[0m\n\u001b[0;32m   1132\u001b[0m \u001b[38;5;28;01mtry\u001b[39;00m:\n\u001b[0;32m   1133\u001b[0m     \u001b[38;5;28;01mif\u001b[39;00m buffer \u001b[38;5;129;01mis\u001b[39;00m \u001b[38;5;129;01mnot\u001b[39;00m \u001b[38;5;28;01mNone\u001b[39;00m:\n\u001b[1;32m-> 1134\u001b[0m         \u001b[38;5;28;01mreturn\u001b[39;00m \u001b[38;5;28;43mself\u001b[39;49m\u001b[38;5;241;43m.\u001b[39;49m\u001b[43m_sslobj\u001b[49m\u001b[38;5;241;43m.\u001b[39;49m\u001b[43mread\u001b[49m\u001b[43m(\u001b[49m\u001b[38;5;28;43mlen\u001b[39;49m\u001b[43m,\u001b[49m\u001b[43m \u001b[49m\u001b[43mbuffer\u001b[49m\u001b[43m)\u001b[49m\n\u001b[0;32m   1135\u001b[0m     \u001b[38;5;28;01melse\u001b[39;00m:\n\u001b[0;32m   1136\u001b[0m         \u001b[38;5;28;01mreturn\u001b[39;00m \u001b[38;5;28mself\u001b[39m\u001b[38;5;241m.\u001b[39m_sslobj\u001b[38;5;241m.\u001b[39mread(\u001b[38;5;28mlen\u001b[39m)\n",
      "\u001b[1;31mKeyboardInterrupt\u001b[0m: "
     ]
    }
   ],
   "source": [
    "for i in formatted_dates:\n",
    "    rebase_api_client.get_day_ahead_price(i)"
   ]
  },
  {
   "cell_type": "code",
   "execution_count": 29,
   "metadata": {},
   "outputs": [
    {
     "name": "stderr",
     "output_type": "stream",
     "text": [
      "c:\\Temp\\EnergyProject\\HEFTcom24\\Lib\\site-packages\\urllib3\\connectionpool.py:1099: InsecureRequestWarning: Unverified HTTPS request is being made to host 'srv01prox.corp.trumpf.com'. Adding certificate verification is strongly advised. See: https://urllib3.readthedocs.io/en/latest/advanced-usage.html#tls-warnings\n",
      "  warnings.warn(\n"
     ]
    },
    {
     "name": "stdout",
     "output_type": "stream",
     "text": [
      "[{'timestamp_utc': '2023-09-28T22:00:00Z', 'settlement_date': '2023-09-28', 'settlement_period': 47, 'price': 65.96}, {'timestamp_utc': '2023-09-28T22:30:00Z', 'settlement_date': '2023-09-28', 'settlement_period': 48, 'price': 65.96}, {'timestamp_utc': '2023-09-28T23:00:00Z', 'settlement_date': '2023-09-29', 'settlement_period': 1, 'price': 47.99}, {'timestamp_utc': '2023-09-28T23:30:00Z', 'settlement_date': '2023-09-29', 'settlement_period': 2, 'price': 47.99}, {'timestamp_utc': '2023-09-29T00:00:00Z', 'settlement_date': '2023-09-29', 'settlement_period': 3, 'price': 26.51}, {'timestamp_utc': '2023-09-29T00:30:00Z', 'settlement_date': '2023-09-29', 'settlement_period': 4, 'price': 26.51}, {'timestamp_utc': '2023-09-29T01:00:00Z', 'settlement_date': '2023-09-29', 'settlement_period': 5, 'price': 25.95}, {'timestamp_utc': '2023-09-29T01:30:00Z', 'settlement_date': '2023-09-29', 'settlement_period': 6, 'price': 25.95}, {'timestamp_utc': '2023-09-29T02:00:00Z', 'settlement_date': '2023-09-29', 'settlement_period': 7, 'price': 38.2}, {'timestamp_utc': '2023-09-29T02:30:00Z', 'settlement_date': '2023-09-29', 'settlement_period': 8, 'price': 38.2}, {'timestamp_utc': '2023-09-29T03:00:00Z', 'settlement_date': '2023-09-29', 'settlement_period': 9, 'price': 60.49}, {'timestamp_utc': '2023-09-29T03:30:00Z', 'settlement_date': '2023-09-29', 'settlement_period': 10, 'price': 60.49}, {'timestamp_utc': '2023-09-29T04:00:00Z', 'settlement_date': '2023-09-29', 'settlement_period': 11, 'price': 91.36}, {'timestamp_utc': '2023-09-29T04:30:00Z', 'settlement_date': '2023-09-29', 'settlement_period': 12, 'price': 91.36}, {'timestamp_utc': '2023-09-29T05:00:00Z', 'settlement_date': '2023-09-29', 'settlement_period': 13, 'price': 119.61}, {'timestamp_utc': '2023-09-29T05:30:00Z', 'settlement_date': '2023-09-29', 'settlement_period': 14, 'price': 119.61}, {'timestamp_utc': '2023-09-29T06:00:00Z', 'settlement_date': '2023-09-29', 'settlement_period': 15, 'price': 103.0}, {'timestamp_utc': '2023-09-29T06:30:00Z', 'settlement_date': '2023-09-29', 'settlement_period': 16, 'price': 103.0}, {'timestamp_utc': '2023-09-29T07:00:00Z', 'settlement_date': '2023-09-29', 'settlement_period': 17, 'price': 88.06}, {'timestamp_utc': '2023-09-29T07:30:00Z', 'settlement_date': '2023-09-29', 'settlement_period': 18, 'price': 88.06}, {'timestamp_utc': '2023-09-29T08:00:00Z', 'settlement_date': '2023-09-29', 'settlement_period': 19, 'price': 76.56}, {'timestamp_utc': '2023-09-29T08:30:00Z', 'settlement_date': '2023-09-29', 'settlement_period': 20, 'price': 76.56}, {'timestamp_utc': '2023-09-29T09:00:00Z', 'settlement_date': '2023-09-29', 'settlement_period': 21, 'price': 73.82}, {'timestamp_utc': '2023-09-29T09:30:00Z', 'settlement_date': '2023-09-29', 'settlement_period': 22, 'price': 73.82}, {'timestamp_utc': '2023-09-29T10:00:00Z', 'settlement_date': '2023-09-29', 'settlement_period': 23, 'price': 68.31}, {'timestamp_utc': '2023-09-29T10:30:00Z', 'settlement_date': '2023-09-29', 'settlement_period': 24, 'price': 68.31}, {'timestamp_utc': '2023-09-29T11:00:00Z', 'settlement_date': '2023-09-29', 'settlement_period': 25, 'price': 64.27}, {'timestamp_utc': '2023-09-29T11:30:00Z', 'settlement_date': '2023-09-29', 'settlement_period': 26, 'price': 64.27}, {'timestamp_utc': '2023-09-29T12:00:00Z', 'settlement_date': '2023-09-29', 'settlement_period': 27, 'price': 70.11}, {'timestamp_utc': '2023-09-29T12:30:00Z', 'settlement_date': '2023-09-29', 'settlement_period': 28, 'price': 70.11}, {'timestamp_utc': '2023-09-29T13:00:00Z', 'settlement_date': '2023-09-29', 'settlement_period': 29, 'price': 79.82}, {'timestamp_utc': '2023-09-29T13:30:00Z', 'settlement_date': '2023-09-29', 'settlement_period': 30, 'price': 79.82}, {'timestamp_utc': '2023-09-29T14:00:00Z', 'settlement_date': '2023-09-29', 'settlement_period': 31, 'price': 86.73}, {'timestamp_utc': '2023-09-29T14:30:00Z', 'settlement_date': '2023-09-29', 'settlement_period': 32, 'price': 86.73}, {'timestamp_utc': '2023-09-29T15:00:00Z', 'settlement_date': '2023-09-29', 'settlement_period': 33, 'price': 96.32}, {'timestamp_utc': '2023-09-29T15:30:00Z', 'settlement_date': '2023-09-29', 'settlement_period': 34, 'price': 96.32}, {'timestamp_utc': '2023-09-29T16:00:00Z', 'settlement_date': '2023-09-29', 'settlement_period': 35, 'price': 114.27}, {'timestamp_utc': '2023-09-29T16:30:00Z', 'settlement_date': '2023-09-29', 'settlement_period': 36, 'price': 114.27}, {'timestamp_utc': '2023-09-29T17:00:00Z', 'settlement_date': '2023-09-29', 'settlement_period': 37, 'price': 119.82}, {'timestamp_utc': '2023-09-29T17:30:00Z', 'settlement_date': '2023-09-29', 'settlement_period': 38, 'price': 119.82}, {'timestamp_utc': '2023-09-29T18:00:00Z', 'settlement_date': '2023-09-29', 'settlement_period': 39, 'price': 103.85}, {'timestamp_utc': '2023-09-29T18:30:00Z', 'settlement_date': '2023-09-29', 'settlement_period': 40, 'price': 103.85}, {'timestamp_utc': '2023-09-29T19:00:00Z', 'settlement_date': '2023-09-29', 'settlement_period': 41, 'price': 94.31}, {'timestamp_utc': '2023-09-29T19:30:00Z', 'settlement_date': '2023-09-29', 'settlement_period': 42, 'price': 94.31}, {'timestamp_utc': '2023-09-29T20:00:00Z', 'settlement_date': '2023-09-29', 'settlement_period': 43, 'price': 87.72}, {'timestamp_utc': '2023-09-29T20:30:00Z', 'settlement_date': '2023-09-29', 'settlement_period': 44, 'price': 87.72}, {'timestamp_utc': '2023-09-29T21:00:00Z', 'settlement_date': '2023-09-29', 'settlement_period': 45, 'price': 81.68}, {'timestamp_utc': '2023-09-29T21:30:00Z', 'settlement_date': '2023-09-29', 'settlement_period': 46, 'price': 81.68}]\n"
     ]
    },
    {
     "data": {
      "text/plain": [
       "Index(['timestamp_utc', 'settlement_date', 'settlement_period', 'price'], dtype='object')"
      ]
     },
     "execution_count": 29,
     "metadata": {},
     "output_type": "execute_result"
    }
   ],
   "source": [
    "rebase_api_client.get_day_ahead_price(day=\"2023-09-29\").columns"
   ]
  },
  {
   "cell_type": "code",
   "execution_count": null,
   "metadata": {},
   "outputs": [],
   "source": [
    "rebase_api_client.get_hornsea_dwd()"
   ]
  },
  {
   "cell_type": "code",
   "execution_count": 6,
   "metadata": {},
   "outputs": [
    {
     "ename": "ConnectTimeout",
     "evalue": "HTTPSConnectionPool(host='api.rebase.energy', port=443): Max retries exceeded with url: /challenges/data/day_ahead_price?day=2024-09-30 (Caused by ConnectTimeoutError(<urllib3.connection.HTTPSConnection object at 0x000001961D7E5010>, 'Connection to api.rebase.energy timed out. (connect timeout=None)'))",
     "output_type": "error",
     "traceback": [
      "\u001b[1;31m---------------------------------------------------------------------------\u001b[0m",
      "\u001b[1;31mTimeoutError\u001b[0m                              Traceback (most recent call last)",
      "File \u001b[1;32mc:\\Temp\\EnergyProject\\HEFTcom24\\Lib\\site-packages\\urllib3\\connection.py:199\u001b[0m, in \u001b[0;36mHTTPConnection._new_conn\u001b[1;34m(self)\u001b[0m\n\u001b[0;32m    198\u001b[0m \u001b[38;5;28;01mtry\u001b[39;00m:\n\u001b[1;32m--> 199\u001b[0m     sock \u001b[38;5;241m=\u001b[39m \u001b[43mconnection\u001b[49m\u001b[38;5;241;43m.\u001b[39;49m\u001b[43mcreate_connection\u001b[49m\u001b[43m(\u001b[49m\n\u001b[0;32m    200\u001b[0m \u001b[43m        \u001b[49m\u001b[43m(\u001b[49m\u001b[38;5;28;43mself\u001b[39;49m\u001b[38;5;241;43m.\u001b[39;49m\u001b[43m_dns_host\u001b[49m\u001b[43m,\u001b[49m\u001b[43m \u001b[49m\u001b[38;5;28;43mself\u001b[39;49m\u001b[38;5;241;43m.\u001b[39;49m\u001b[43mport\u001b[49m\u001b[43m)\u001b[49m\u001b[43m,\u001b[49m\n\u001b[0;32m    201\u001b[0m \u001b[43m        \u001b[49m\u001b[38;5;28;43mself\u001b[39;49m\u001b[38;5;241;43m.\u001b[39;49m\u001b[43mtimeout\u001b[49m\u001b[43m,\u001b[49m\n\u001b[0;32m    202\u001b[0m \u001b[43m        \u001b[49m\u001b[43msource_address\u001b[49m\u001b[38;5;241;43m=\u001b[39;49m\u001b[38;5;28;43mself\u001b[39;49m\u001b[38;5;241;43m.\u001b[39;49m\u001b[43msource_address\u001b[49m\u001b[43m,\u001b[49m\n\u001b[0;32m    203\u001b[0m \u001b[43m        \u001b[49m\u001b[43msocket_options\u001b[49m\u001b[38;5;241;43m=\u001b[39;49m\u001b[38;5;28;43mself\u001b[39;49m\u001b[38;5;241;43m.\u001b[39;49m\u001b[43msocket_options\u001b[49m\u001b[43m,\u001b[49m\n\u001b[0;32m    204\u001b[0m \u001b[43m    \u001b[49m\u001b[43m)\u001b[49m\n\u001b[0;32m    205\u001b[0m \u001b[38;5;28;01mexcept\u001b[39;00m socket\u001b[38;5;241m.\u001b[39mgaierror \u001b[38;5;28;01mas\u001b[39;00m e:\n",
      "File \u001b[1;32mc:\\Temp\\EnergyProject\\HEFTcom24\\Lib\\site-packages\\urllib3\\util\\connection.py:85\u001b[0m, in \u001b[0;36mcreate_connection\u001b[1;34m(address, timeout, source_address, socket_options)\u001b[0m\n\u001b[0;32m     84\u001b[0m \u001b[38;5;28;01mtry\u001b[39;00m:\n\u001b[1;32m---> 85\u001b[0m     \u001b[38;5;28;01mraise\u001b[39;00m err\n\u001b[0;32m     86\u001b[0m \u001b[38;5;28;01mfinally\u001b[39;00m:\n\u001b[0;32m     87\u001b[0m     \u001b[38;5;66;03m# Break explicitly a reference cycle\u001b[39;00m\n",
      "File \u001b[1;32mc:\\Temp\\EnergyProject\\HEFTcom24\\Lib\\site-packages\\urllib3\\util\\connection.py:73\u001b[0m, in \u001b[0;36mcreate_connection\u001b[1;34m(address, timeout, source_address, socket_options)\u001b[0m\n\u001b[0;32m     72\u001b[0m     sock\u001b[38;5;241m.\u001b[39mbind(source_address)\n\u001b[1;32m---> 73\u001b[0m \u001b[43msock\u001b[49m\u001b[38;5;241;43m.\u001b[39;49m\u001b[43mconnect\u001b[49m\u001b[43m(\u001b[49m\u001b[43msa\u001b[49m\u001b[43m)\u001b[49m\n\u001b[0;32m     74\u001b[0m \u001b[38;5;66;03m# Break explicitly a reference cycle\u001b[39;00m\n",
      "\u001b[1;31mTimeoutError\u001b[0m: [WinError 10060] Ein Verbindungsversuch ist fehlgeschlagen, da die Gegenstelle nach einer bestimmten Zeitspanne nicht richtig reagiert hat, oder die hergestellte Verbindung war fehlerhaft, da der verbundene Host nicht reagiert hat",
      "\nThe above exception was the direct cause of the following exception:\n",
      "\u001b[1;31mConnectTimeoutError\u001b[0m                       Traceback (most recent call last)",
      "File \u001b[1;32mc:\\Temp\\EnergyProject\\HEFTcom24\\Lib\\site-packages\\urllib3\\connectionpool.py:789\u001b[0m, in \u001b[0;36mHTTPConnectionPool.urlopen\u001b[1;34m(self, method, url, body, headers, retries, redirect, assert_same_host, timeout, pool_timeout, release_conn, chunked, body_pos, preload_content, decode_content, **response_kw)\u001b[0m\n\u001b[0;32m    788\u001b[0m \u001b[38;5;66;03m# Make the request on the HTTPConnection object\u001b[39;00m\n\u001b[1;32m--> 789\u001b[0m response \u001b[38;5;241m=\u001b[39m \u001b[38;5;28;43mself\u001b[39;49m\u001b[38;5;241;43m.\u001b[39;49m\u001b[43m_make_request\u001b[49m\u001b[43m(\u001b[49m\n\u001b[0;32m    790\u001b[0m \u001b[43m    \u001b[49m\u001b[43mconn\u001b[49m\u001b[43m,\u001b[49m\n\u001b[0;32m    791\u001b[0m \u001b[43m    \u001b[49m\u001b[43mmethod\u001b[49m\u001b[43m,\u001b[49m\n\u001b[0;32m    792\u001b[0m \u001b[43m    \u001b[49m\u001b[43murl\u001b[49m\u001b[43m,\u001b[49m\n\u001b[0;32m    793\u001b[0m \u001b[43m    \u001b[49m\u001b[43mtimeout\u001b[49m\u001b[38;5;241;43m=\u001b[39;49m\u001b[43mtimeout_obj\u001b[49m\u001b[43m,\u001b[49m\n\u001b[0;32m    794\u001b[0m \u001b[43m    \u001b[49m\u001b[43mbody\u001b[49m\u001b[38;5;241;43m=\u001b[39;49m\u001b[43mbody\u001b[49m\u001b[43m,\u001b[49m\n\u001b[0;32m    795\u001b[0m \u001b[43m    \u001b[49m\u001b[43mheaders\u001b[49m\u001b[38;5;241;43m=\u001b[39;49m\u001b[43mheaders\u001b[49m\u001b[43m,\u001b[49m\n\u001b[0;32m    796\u001b[0m \u001b[43m    \u001b[49m\u001b[43mchunked\u001b[49m\u001b[38;5;241;43m=\u001b[39;49m\u001b[43mchunked\u001b[49m\u001b[43m,\u001b[49m\n\u001b[0;32m    797\u001b[0m \u001b[43m    \u001b[49m\u001b[43mretries\u001b[49m\u001b[38;5;241;43m=\u001b[39;49m\u001b[43mretries\u001b[49m\u001b[43m,\u001b[49m\n\u001b[0;32m    798\u001b[0m \u001b[43m    \u001b[49m\u001b[43mresponse_conn\u001b[49m\u001b[38;5;241;43m=\u001b[39;49m\u001b[43mresponse_conn\u001b[49m\u001b[43m,\u001b[49m\n\u001b[0;32m    799\u001b[0m \u001b[43m    \u001b[49m\u001b[43mpreload_content\u001b[49m\u001b[38;5;241;43m=\u001b[39;49m\u001b[43mpreload_content\u001b[49m\u001b[43m,\u001b[49m\n\u001b[0;32m    800\u001b[0m \u001b[43m    \u001b[49m\u001b[43mdecode_content\u001b[49m\u001b[38;5;241;43m=\u001b[39;49m\u001b[43mdecode_content\u001b[49m\u001b[43m,\u001b[49m\n\u001b[0;32m    801\u001b[0m \u001b[43m    \u001b[49m\u001b[38;5;241;43m*\u001b[39;49m\u001b[38;5;241;43m*\u001b[39;49m\u001b[43mresponse_kw\u001b[49m\u001b[43m,\u001b[49m\n\u001b[0;32m    802\u001b[0m \u001b[43m\u001b[49m\u001b[43m)\u001b[49m\n\u001b[0;32m    804\u001b[0m \u001b[38;5;66;03m# Everything went great!\u001b[39;00m\n",
      "File \u001b[1;32mc:\\Temp\\EnergyProject\\HEFTcom24\\Lib\\site-packages\\urllib3\\connectionpool.py:490\u001b[0m, in \u001b[0;36mHTTPConnectionPool._make_request\u001b[1;34m(self, conn, method, url, body, headers, retries, timeout, chunked, response_conn, preload_content, decode_content, enforce_content_length)\u001b[0m\n\u001b[0;32m    489\u001b[0m         new_e \u001b[38;5;241m=\u001b[39m _wrap_proxy_error(new_e, conn\u001b[38;5;241m.\u001b[39mproxy\u001b[38;5;241m.\u001b[39mscheme)\n\u001b[1;32m--> 490\u001b[0m     \u001b[38;5;28;01mraise\u001b[39;00m new_e\n\u001b[0;32m    492\u001b[0m \u001b[38;5;66;03m# conn.request() calls http.client.*.request, not the method in\u001b[39;00m\n\u001b[0;32m    493\u001b[0m \u001b[38;5;66;03m# urllib3.request. It also calls makefile (recv) on the socket.\u001b[39;00m\n",
      "File \u001b[1;32mc:\\Temp\\EnergyProject\\HEFTcom24\\Lib\\site-packages\\urllib3\\connectionpool.py:466\u001b[0m, in \u001b[0;36mHTTPConnectionPool._make_request\u001b[1;34m(self, conn, method, url, body, headers, retries, timeout, chunked, response_conn, preload_content, decode_content, enforce_content_length)\u001b[0m\n\u001b[0;32m    465\u001b[0m \u001b[38;5;28;01mtry\u001b[39;00m:\n\u001b[1;32m--> 466\u001b[0m     \u001b[38;5;28;43mself\u001b[39;49m\u001b[38;5;241;43m.\u001b[39;49m\u001b[43m_validate_conn\u001b[49m\u001b[43m(\u001b[49m\u001b[43mconn\u001b[49m\u001b[43m)\u001b[49m\n\u001b[0;32m    467\u001b[0m \u001b[38;5;28;01mexcept\u001b[39;00m (SocketTimeout, BaseSSLError) \u001b[38;5;28;01mas\u001b[39;00m e:\n",
      "File \u001b[1;32mc:\\Temp\\EnergyProject\\HEFTcom24\\Lib\\site-packages\\urllib3\\connectionpool.py:1095\u001b[0m, in \u001b[0;36mHTTPSConnectionPool._validate_conn\u001b[1;34m(self, conn)\u001b[0m\n\u001b[0;32m   1094\u001b[0m \u001b[38;5;28;01mif\u001b[39;00m conn\u001b[38;5;241m.\u001b[39mis_closed:\n\u001b[1;32m-> 1095\u001b[0m     \u001b[43mconn\u001b[49m\u001b[38;5;241;43m.\u001b[39;49m\u001b[43mconnect\u001b[49m\u001b[43m(\u001b[49m\u001b[43m)\u001b[49m\n\u001b[0;32m   1097\u001b[0m \u001b[38;5;66;03m# TODO revise this, see https://github.com/urllib3/urllib3/issues/2791\u001b[39;00m\n",
      "File \u001b[1;32mc:\\Temp\\EnergyProject\\HEFTcom24\\Lib\\site-packages\\urllib3\\connection.py:693\u001b[0m, in \u001b[0;36mHTTPSConnection.connect\u001b[1;34m(self)\u001b[0m\n\u001b[0;32m    692\u001b[0m sock: socket\u001b[38;5;241m.\u001b[39msocket \u001b[38;5;241m|\u001b[39m ssl\u001b[38;5;241m.\u001b[39mSSLSocket\n\u001b[1;32m--> 693\u001b[0m \u001b[38;5;28mself\u001b[39m\u001b[38;5;241m.\u001b[39msock \u001b[38;5;241m=\u001b[39m sock \u001b[38;5;241m=\u001b[39m \u001b[38;5;28;43mself\u001b[39;49m\u001b[38;5;241;43m.\u001b[39;49m\u001b[43m_new_conn\u001b[49m\u001b[43m(\u001b[49m\u001b[43m)\u001b[49m\n\u001b[0;32m    694\u001b[0m server_hostname: \u001b[38;5;28mstr\u001b[39m \u001b[38;5;241m=\u001b[39m \u001b[38;5;28mself\u001b[39m\u001b[38;5;241m.\u001b[39mhost\n",
      "File \u001b[1;32mc:\\Temp\\EnergyProject\\HEFTcom24\\Lib\\site-packages\\urllib3\\connection.py:208\u001b[0m, in \u001b[0;36mHTTPConnection._new_conn\u001b[1;34m(self)\u001b[0m\n\u001b[0;32m    207\u001b[0m \u001b[38;5;28;01mexcept\u001b[39;00m SocketTimeout \u001b[38;5;28;01mas\u001b[39;00m e:\n\u001b[1;32m--> 208\u001b[0m     \u001b[38;5;28;01mraise\u001b[39;00m ConnectTimeoutError(\n\u001b[0;32m    209\u001b[0m         \u001b[38;5;28mself\u001b[39m,\n\u001b[0;32m    210\u001b[0m         \u001b[38;5;124mf\u001b[39m\u001b[38;5;124m\"\u001b[39m\u001b[38;5;124mConnection to \u001b[39m\u001b[38;5;132;01m{\u001b[39;00m\u001b[38;5;28mself\u001b[39m\u001b[38;5;241m.\u001b[39mhost\u001b[38;5;132;01m}\u001b[39;00m\u001b[38;5;124m timed out. (connect timeout=\u001b[39m\u001b[38;5;132;01m{\u001b[39;00m\u001b[38;5;28mself\u001b[39m\u001b[38;5;241m.\u001b[39mtimeout\u001b[38;5;132;01m}\u001b[39;00m\u001b[38;5;124m)\u001b[39m\u001b[38;5;124m\"\u001b[39m,\n\u001b[0;32m    211\u001b[0m     ) \u001b[38;5;28;01mfrom\u001b[39;00m \u001b[38;5;21;01me\u001b[39;00m\n\u001b[0;32m    213\u001b[0m \u001b[38;5;28;01mexcept\u001b[39;00m \u001b[38;5;167;01mOSError\u001b[39;00m \u001b[38;5;28;01mas\u001b[39;00m e:\n",
      "\u001b[1;31mConnectTimeoutError\u001b[0m: (<urllib3.connection.HTTPSConnection object at 0x000001961D7E5010>, 'Connection to api.rebase.energy timed out. (connect timeout=None)')",
      "\nThe above exception was the direct cause of the following exception:\n",
      "\u001b[1;31mMaxRetryError\u001b[0m                             Traceback (most recent call last)",
      "File \u001b[1;32mc:\\Temp\\EnergyProject\\HEFTcom24\\Lib\\site-packages\\requests\\adapters.py:667\u001b[0m, in \u001b[0;36mHTTPAdapter.send\u001b[1;34m(self, request, stream, timeout, verify, cert, proxies)\u001b[0m\n\u001b[0;32m    666\u001b[0m \u001b[38;5;28;01mtry\u001b[39;00m:\n\u001b[1;32m--> 667\u001b[0m     resp \u001b[38;5;241m=\u001b[39m \u001b[43mconn\u001b[49m\u001b[38;5;241;43m.\u001b[39;49m\u001b[43murlopen\u001b[49m\u001b[43m(\u001b[49m\n\u001b[0;32m    668\u001b[0m \u001b[43m        \u001b[49m\u001b[43mmethod\u001b[49m\u001b[38;5;241;43m=\u001b[39;49m\u001b[43mrequest\u001b[49m\u001b[38;5;241;43m.\u001b[39;49m\u001b[43mmethod\u001b[49m\u001b[43m,\u001b[49m\n\u001b[0;32m    669\u001b[0m \u001b[43m        \u001b[49m\u001b[43murl\u001b[49m\u001b[38;5;241;43m=\u001b[39;49m\u001b[43murl\u001b[49m\u001b[43m,\u001b[49m\n\u001b[0;32m    670\u001b[0m \u001b[43m        \u001b[49m\u001b[43mbody\u001b[49m\u001b[38;5;241;43m=\u001b[39;49m\u001b[43mrequest\u001b[49m\u001b[38;5;241;43m.\u001b[39;49m\u001b[43mbody\u001b[49m\u001b[43m,\u001b[49m\n\u001b[0;32m    671\u001b[0m \u001b[43m        \u001b[49m\u001b[43mheaders\u001b[49m\u001b[38;5;241;43m=\u001b[39;49m\u001b[43mrequest\u001b[49m\u001b[38;5;241;43m.\u001b[39;49m\u001b[43mheaders\u001b[49m\u001b[43m,\u001b[49m\n\u001b[0;32m    672\u001b[0m \u001b[43m        \u001b[49m\u001b[43mredirect\u001b[49m\u001b[38;5;241;43m=\u001b[39;49m\u001b[38;5;28;43;01mFalse\u001b[39;49;00m\u001b[43m,\u001b[49m\n\u001b[0;32m    673\u001b[0m \u001b[43m        \u001b[49m\u001b[43massert_same_host\u001b[49m\u001b[38;5;241;43m=\u001b[39;49m\u001b[38;5;28;43;01mFalse\u001b[39;49;00m\u001b[43m,\u001b[49m\n\u001b[0;32m    674\u001b[0m \u001b[43m        \u001b[49m\u001b[43mpreload_content\u001b[49m\u001b[38;5;241;43m=\u001b[39;49m\u001b[38;5;28;43;01mFalse\u001b[39;49;00m\u001b[43m,\u001b[49m\n\u001b[0;32m    675\u001b[0m \u001b[43m        \u001b[49m\u001b[43mdecode_content\u001b[49m\u001b[38;5;241;43m=\u001b[39;49m\u001b[38;5;28;43;01mFalse\u001b[39;49;00m\u001b[43m,\u001b[49m\n\u001b[0;32m    676\u001b[0m \u001b[43m        \u001b[49m\u001b[43mretries\u001b[49m\u001b[38;5;241;43m=\u001b[39;49m\u001b[38;5;28;43mself\u001b[39;49m\u001b[38;5;241;43m.\u001b[39;49m\u001b[43mmax_retries\u001b[49m\u001b[43m,\u001b[49m\n\u001b[0;32m    677\u001b[0m \u001b[43m        \u001b[49m\u001b[43mtimeout\u001b[49m\u001b[38;5;241;43m=\u001b[39;49m\u001b[43mtimeout\u001b[49m\u001b[43m,\u001b[49m\n\u001b[0;32m    678\u001b[0m \u001b[43m        \u001b[49m\u001b[43mchunked\u001b[49m\u001b[38;5;241;43m=\u001b[39;49m\u001b[43mchunked\u001b[49m\u001b[43m,\u001b[49m\n\u001b[0;32m    679\u001b[0m \u001b[43m    \u001b[49m\u001b[43m)\u001b[49m\n\u001b[0;32m    681\u001b[0m \u001b[38;5;28;01mexcept\u001b[39;00m (ProtocolError, \u001b[38;5;167;01mOSError\u001b[39;00m) \u001b[38;5;28;01mas\u001b[39;00m err:\n",
      "File \u001b[1;32mc:\\Temp\\EnergyProject\\HEFTcom24\\Lib\\site-packages\\urllib3\\connectionpool.py:843\u001b[0m, in \u001b[0;36mHTTPConnectionPool.urlopen\u001b[1;34m(self, method, url, body, headers, retries, redirect, assert_same_host, timeout, pool_timeout, release_conn, chunked, body_pos, preload_content, decode_content, **response_kw)\u001b[0m\n\u001b[0;32m    841\u001b[0m     new_e \u001b[38;5;241m=\u001b[39m ProtocolError(\u001b[38;5;124m\"\u001b[39m\u001b[38;5;124mConnection aborted.\u001b[39m\u001b[38;5;124m\"\u001b[39m, new_e)\n\u001b[1;32m--> 843\u001b[0m retries \u001b[38;5;241m=\u001b[39m \u001b[43mretries\u001b[49m\u001b[38;5;241;43m.\u001b[39;49m\u001b[43mincrement\u001b[49m\u001b[43m(\u001b[49m\n\u001b[0;32m    844\u001b[0m \u001b[43m    \u001b[49m\u001b[43mmethod\u001b[49m\u001b[43m,\u001b[49m\u001b[43m \u001b[49m\u001b[43murl\u001b[49m\u001b[43m,\u001b[49m\u001b[43m \u001b[49m\u001b[43merror\u001b[49m\u001b[38;5;241;43m=\u001b[39;49m\u001b[43mnew_e\u001b[49m\u001b[43m,\u001b[49m\u001b[43m \u001b[49m\u001b[43m_pool\u001b[49m\u001b[38;5;241;43m=\u001b[39;49m\u001b[38;5;28;43mself\u001b[39;49m\u001b[43m,\u001b[49m\u001b[43m \u001b[49m\u001b[43m_stacktrace\u001b[49m\u001b[38;5;241;43m=\u001b[39;49m\u001b[43msys\u001b[49m\u001b[38;5;241;43m.\u001b[39;49m\u001b[43mexc_info\u001b[49m\u001b[43m(\u001b[49m\u001b[43m)\u001b[49m\u001b[43m[\u001b[49m\u001b[38;5;241;43m2\u001b[39;49m\u001b[43m]\u001b[49m\n\u001b[0;32m    845\u001b[0m \u001b[43m\u001b[49m\u001b[43m)\u001b[49m\n\u001b[0;32m    846\u001b[0m retries\u001b[38;5;241m.\u001b[39msleep()\n",
      "File \u001b[1;32mc:\\Temp\\EnergyProject\\HEFTcom24\\Lib\\site-packages\\urllib3\\util\\retry.py:519\u001b[0m, in \u001b[0;36mRetry.increment\u001b[1;34m(self, method, url, response, error, _pool, _stacktrace)\u001b[0m\n\u001b[0;32m    518\u001b[0m     reason \u001b[38;5;241m=\u001b[39m error \u001b[38;5;129;01mor\u001b[39;00m ResponseError(cause)\n\u001b[1;32m--> 519\u001b[0m     \u001b[38;5;28;01mraise\u001b[39;00m MaxRetryError(_pool, url, reason) \u001b[38;5;28;01mfrom\u001b[39;00m \u001b[38;5;21;01mreason\u001b[39;00m  \u001b[38;5;66;03m# type: ignore[arg-type]\u001b[39;00m\n\u001b[0;32m    521\u001b[0m log\u001b[38;5;241m.\u001b[39mdebug(\u001b[38;5;124m\"\u001b[39m\u001b[38;5;124mIncremented Retry for (url=\u001b[39m\u001b[38;5;124m'\u001b[39m\u001b[38;5;132;01m%s\u001b[39;00m\u001b[38;5;124m'\u001b[39m\u001b[38;5;124m): \u001b[39m\u001b[38;5;132;01m%r\u001b[39;00m\u001b[38;5;124m\"\u001b[39m, url, new_retry)\n",
      "\u001b[1;31mMaxRetryError\u001b[0m: HTTPSConnectionPool(host='api.rebase.energy', port=443): Max retries exceeded with url: /challenges/data/day_ahead_price?day=2024-09-30 (Caused by ConnectTimeoutError(<urllib3.connection.HTTPSConnection object at 0x000001961D7E5010>, 'Connection to api.rebase.energy timed out. (connect timeout=None)'))",
      "\nDuring handling of the above exception, another exception occurred:\n",
      "\u001b[1;31mConnectTimeout\u001b[0m                            Traceback (most recent call last)",
      "Cell \u001b[1;32mIn[6], line 1\u001b[0m\n\u001b[1;32m----> 1\u001b[0m \u001b[43mrebase_api_client\u001b[49m\u001b[38;5;241;43m.\u001b[39;49m\u001b[43mget_day_ahead_price\u001b[49m\u001b[43m(\u001b[49m\u001b[43mday\u001b[49m\u001b[38;5;241;43m=\u001b[39;49m\u001b[38;5;124;43m\"\u001b[39;49m\u001b[38;5;124;43m2024-09-30\u001b[39;49m\u001b[38;5;124;43m\"\u001b[39;49m\u001b[43m)\u001b[49m\n",
      "File \u001b[1;32m\\\\srvditz1\\home$\\hohensteinpa\\Desktop\\Test\\Energy_production_price_prediction\\comp_utils.py:46\u001b[0m, in \u001b[0;36mRebaseAPI.get_day_ahead_price\u001b[1;34m(self, day)\u001b[0m\n\u001b[0;32m     44\u001b[0m url \u001b[38;5;241m=\u001b[39m \u001b[38;5;124mf\u001b[39m\u001b[38;5;124m\"\u001b[39m\u001b[38;5;132;01m{\u001b[39;00m\u001b[38;5;28mself\u001b[39m\u001b[38;5;241m.\u001b[39mbase_url\u001b[38;5;132;01m}\u001b[39;00m\u001b[38;5;124m/challenges/data/day_ahead_price\u001b[39m\u001b[38;5;124m\"\u001b[39m\n\u001b[0;32m     45\u001b[0m params \u001b[38;5;241m=\u001b[39m {\u001b[38;5;124m'\u001b[39m\u001b[38;5;124mday\u001b[39m\u001b[38;5;124m'\u001b[39m: day}\n\u001b[1;32m---> 46\u001b[0m resp \u001b[38;5;241m=\u001b[39m \u001b[38;5;28;43mself\u001b[39;49m\u001b[38;5;241;43m.\u001b[39;49m\u001b[43msession\u001b[49m\u001b[38;5;241;43m.\u001b[39;49m\u001b[43mget\u001b[49m\u001b[43m(\u001b[49m\u001b[43murl\u001b[49m\u001b[43m,\u001b[49m\u001b[43m \u001b[49m\u001b[43mparams\u001b[49m\u001b[38;5;241;43m=\u001b[39;49m\u001b[43mparams\u001b[49m\u001b[43m)\u001b[49m\n\u001b[0;32m     47\u001b[0m data \u001b[38;5;241m=\u001b[39m resp\u001b[38;5;241m.\u001b[39mjson()\n\u001b[0;32m     48\u001b[0m \u001b[38;5;28mprint\u001b[39m(resp\u001b[38;5;241m.\u001b[39mjson())\n",
      "File \u001b[1;32mc:\\Temp\\EnergyProject\\HEFTcom24\\Lib\\site-packages\\requests\\sessions.py:602\u001b[0m, in \u001b[0;36mSession.get\u001b[1;34m(self, url, **kwargs)\u001b[0m\n\u001b[0;32m    594\u001b[0m \u001b[38;5;250m\u001b[39m\u001b[38;5;124mr\u001b[39m\u001b[38;5;124;03m\"\"\"Sends a GET request. Returns :class:`Response` object.\u001b[39;00m\n\u001b[0;32m    595\u001b[0m \n\u001b[0;32m    596\u001b[0m \u001b[38;5;124;03m:param url: URL for the new :class:`Request` object.\u001b[39;00m\n\u001b[0;32m    597\u001b[0m \u001b[38;5;124;03m:param \\*\\*kwargs: Optional arguments that ``request`` takes.\u001b[39;00m\n\u001b[0;32m    598\u001b[0m \u001b[38;5;124;03m:rtype: requests.Response\u001b[39;00m\n\u001b[0;32m    599\u001b[0m \u001b[38;5;124;03m\"\"\"\u001b[39;00m\n\u001b[0;32m    601\u001b[0m kwargs\u001b[38;5;241m.\u001b[39msetdefault(\u001b[38;5;124m\"\u001b[39m\u001b[38;5;124mallow_redirects\u001b[39m\u001b[38;5;124m\"\u001b[39m, \u001b[38;5;28;01mTrue\u001b[39;00m)\n\u001b[1;32m--> 602\u001b[0m \u001b[38;5;28;01mreturn\u001b[39;00m \u001b[38;5;28;43mself\u001b[39;49m\u001b[38;5;241;43m.\u001b[39;49m\u001b[43mrequest\u001b[49m\u001b[43m(\u001b[49m\u001b[38;5;124;43m\"\u001b[39;49m\u001b[38;5;124;43mGET\u001b[39;49m\u001b[38;5;124;43m\"\u001b[39;49m\u001b[43m,\u001b[49m\u001b[43m \u001b[49m\u001b[43murl\u001b[49m\u001b[43m,\u001b[49m\u001b[43m \u001b[49m\u001b[38;5;241;43m*\u001b[39;49m\u001b[38;5;241;43m*\u001b[39;49m\u001b[43mkwargs\u001b[49m\u001b[43m)\u001b[49m\n",
      "File \u001b[1;32mc:\\Temp\\EnergyProject\\HEFTcom24\\Lib\\site-packages\\requests\\sessions.py:589\u001b[0m, in \u001b[0;36mSession.request\u001b[1;34m(self, method, url, params, data, headers, cookies, files, auth, timeout, allow_redirects, proxies, hooks, stream, verify, cert, json)\u001b[0m\n\u001b[0;32m    584\u001b[0m send_kwargs \u001b[38;5;241m=\u001b[39m {\n\u001b[0;32m    585\u001b[0m     \u001b[38;5;124m\"\u001b[39m\u001b[38;5;124mtimeout\u001b[39m\u001b[38;5;124m\"\u001b[39m: timeout,\n\u001b[0;32m    586\u001b[0m     \u001b[38;5;124m\"\u001b[39m\u001b[38;5;124mallow_redirects\u001b[39m\u001b[38;5;124m\"\u001b[39m: allow_redirects,\n\u001b[0;32m    587\u001b[0m }\n\u001b[0;32m    588\u001b[0m send_kwargs\u001b[38;5;241m.\u001b[39mupdate(settings)\n\u001b[1;32m--> 589\u001b[0m resp \u001b[38;5;241m=\u001b[39m \u001b[38;5;28;43mself\u001b[39;49m\u001b[38;5;241;43m.\u001b[39;49m\u001b[43msend\u001b[49m\u001b[43m(\u001b[49m\u001b[43mprep\u001b[49m\u001b[43m,\u001b[49m\u001b[43m \u001b[49m\u001b[38;5;241;43m*\u001b[39;49m\u001b[38;5;241;43m*\u001b[39;49m\u001b[43msend_kwargs\u001b[49m\u001b[43m)\u001b[49m\n\u001b[0;32m    591\u001b[0m \u001b[38;5;28;01mreturn\u001b[39;00m resp\n",
      "File \u001b[1;32mc:\\Temp\\EnergyProject\\HEFTcom24\\Lib\\site-packages\\requests\\sessions.py:703\u001b[0m, in \u001b[0;36mSession.send\u001b[1;34m(self, request, **kwargs)\u001b[0m\n\u001b[0;32m    700\u001b[0m start \u001b[38;5;241m=\u001b[39m preferred_clock()\n\u001b[0;32m    702\u001b[0m \u001b[38;5;66;03m# Send the request\u001b[39;00m\n\u001b[1;32m--> 703\u001b[0m r \u001b[38;5;241m=\u001b[39m \u001b[43madapter\u001b[49m\u001b[38;5;241;43m.\u001b[39;49m\u001b[43msend\u001b[49m\u001b[43m(\u001b[49m\u001b[43mrequest\u001b[49m\u001b[43m,\u001b[49m\u001b[43m \u001b[49m\u001b[38;5;241;43m*\u001b[39;49m\u001b[38;5;241;43m*\u001b[39;49m\u001b[43mkwargs\u001b[49m\u001b[43m)\u001b[49m\n\u001b[0;32m    705\u001b[0m \u001b[38;5;66;03m# Total elapsed time of the request (approximately)\u001b[39;00m\n\u001b[0;32m    706\u001b[0m elapsed \u001b[38;5;241m=\u001b[39m preferred_clock() \u001b[38;5;241m-\u001b[39m start\n",
      "File \u001b[1;32mc:\\Temp\\EnergyProject\\HEFTcom24\\Lib\\site-packages\\requests\\adapters.py:688\u001b[0m, in \u001b[0;36mHTTPAdapter.send\u001b[1;34m(self, request, stream, timeout, verify, cert, proxies)\u001b[0m\n\u001b[0;32m    685\u001b[0m \u001b[38;5;28;01mif\u001b[39;00m \u001b[38;5;28misinstance\u001b[39m(e\u001b[38;5;241m.\u001b[39mreason, ConnectTimeoutError):\n\u001b[0;32m    686\u001b[0m     \u001b[38;5;66;03m# TODO: Remove this in 3.0.0: see #2811\u001b[39;00m\n\u001b[0;32m    687\u001b[0m     \u001b[38;5;28;01mif\u001b[39;00m \u001b[38;5;129;01mnot\u001b[39;00m \u001b[38;5;28misinstance\u001b[39m(e\u001b[38;5;241m.\u001b[39mreason, NewConnectionError):\n\u001b[1;32m--> 688\u001b[0m         \u001b[38;5;28;01mraise\u001b[39;00m ConnectTimeout(e, request\u001b[38;5;241m=\u001b[39mrequest)\n\u001b[0;32m    690\u001b[0m \u001b[38;5;28;01mif\u001b[39;00m \u001b[38;5;28misinstance\u001b[39m(e\u001b[38;5;241m.\u001b[39mreason, ResponseError):\n\u001b[0;32m    691\u001b[0m     \u001b[38;5;28;01mraise\u001b[39;00m RetryError(e, request\u001b[38;5;241m=\u001b[39mrequest)\n",
      "\u001b[1;31mConnectTimeout\u001b[0m: HTTPSConnectionPool(host='api.rebase.energy', port=443): Max retries exceeded with url: /challenges/data/day_ahead_price?day=2024-09-30 (Caused by ConnectTimeoutError(<urllib3.connection.HTTPSConnection object at 0x000001961D7E5010>, 'Connection to api.rebase.energy timed out. (connect timeout=None)'))"
     ]
    }
   ],
   "source": [
    "rebase_api_client.get_day_ahead_price(day=\"2024-09-30\")"
   ]
  },
  {
   "cell_type": "code",
   "execution_count": null,
   "metadata": {},
   "outputs": [],
   "source": [
    "rebase_api_client.get_day_ahead_price(day=\"2024-09-30\")"
   ]
  },
  {
   "cell_type": "code",
   "execution_count": null,
   "metadata": {},
   "outputs": [],
   "source": [
    "latest_dwd_Hornsea1 = comp_utils.weather_df_to_xr(rebase_api_client.get_hornsea_dwd())\n",
    "latest_dwd_solar = comp_utils.weather_df_to_xr(rebase_api_client.get_pes10_nwp(\"DWD_ICON-EU\"))"
   ]
  },
  {
   "cell_type": "code",
   "execution_count": null,
   "metadata": {},
   "outputs": [],
   "source": [
    "test_date = \"2023-05-05\"\n",
    "\n",
    "rebase_api_client.get_variable(day=test_date,variable=\"day_ahead_price\").head()"
   ]
  },
  {
   "cell_type": "code",
   "execution_count": 5,
   "metadata": {},
   "outputs": [
    {
     "ename": "ValueError",
     "evalue": "DataFrame constructor not properly called!",
     "output_type": "error",
     "traceback": [
      "\u001b[1;31m---------------------------------------------------------------------------\u001b[0m",
      "\u001b[1;31mValueError\u001b[0m                                Traceback (most recent call last)",
      "\u001b[1;32m~\\AppData\\Local\\Temp\\ipykernel_20980\\2103634283.py\u001b[0m in \u001b[0;36m?\u001b[1;34m()\u001b[0m\n\u001b[1;32m----> 1\u001b[1;33m \u001b[0mrebase_api_client\u001b[0m\u001b[1;33m.\u001b[0m\u001b[0mget_variable\u001b[0m\u001b[1;33m(\u001b[0m\u001b[0mday\u001b[0m\u001b[1;33m=\u001b[0m\u001b[0mtest_date\u001b[0m\u001b[1;33m,\u001b[0m\u001b[0mvariable\u001b[0m\u001b[1;33m=\u001b[0m\u001b[1;34m\"imbalance_price\"\u001b[0m\u001b[1;33m)\u001b[0m\u001b[1;33m.\u001b[0m\u001b[0mhead\u001b[0m\u001b[1;33m(\u001b[0m\u001b[1;33m)\u001b[0m\u001b[1;33m\u001b[0m\u001b[1;33m\u001b[0m\u001b[0m\n\u001b[0m\u001b[0;32m      2\u001b[0m \u001b[1;31m# rebase_api_client.get_variable(day=test_date,variable=\"wind_total_production\").head()\u001b[0m\u001b[1;33m\u001b[0m\u001b[1;33m\u001b[0m\u001b[0m\n\u001b[0;32m      3\u001b[0m \u001b[1;31m# rebase_api_client.get_variable(day=test_date,variable=\"solar_total_production\").head()\u001b[0m\u001b[1;33m\u001b[0m\u001b[1;33m\u001b[0m\u001b[0m\n",
      "\u001b[1;32md:\\Users\\paulh\\Desktop\\Domäneprojekt2\\Energy_production_price_prediction\\comp_utils.py\u001b[0m in \u001b[0;36m?\u001b[1;34m(self, day, variable)\u001b[0m\n\u001b[0;32m     36\u001b[0m     \u001b[0mparams\u001b[0m \u001b[1;33m=\u001b[0m \u001b[1;33m{\u001b[0m\u001b[1;34m'day'\u001b[0m\u001b[1;33m:\u001b[0m \u001b[0mday\u001b[0m\u001b[1;33m}\u001b[0m\u001b[1;33m\u001b[0m\u001b[1;33m\u001b[0m\u001b[0m\n\u001b[0;32m     37\u001b[0m     \u001b[0mresp\u001b[0m \u001b[1;33m=\u001b[0m \u001b[0mself\u001b[0m\u001b[1;33m.\u001b[0m\u001b[0msession\u001b[0m\u001b[1;33m.\u001b[0m\u001b[0mget\u001b[0m\u001b[1;33m(\u001b[0m\u001b[0murl\u001b[0m\u001b[1;33m,\u001b[0m \u001b[0mparams\u001b[0m\u001b[1;33m=\u001b[0m\u001b[0mparams\u001b[0m\u001b[1;33m)\u001b[0m\u001b[1;33m\u001b[0m\u001b[1;33m\u001b[0m\u001b[0m\n\u001b[0;32m     38\u001b[0m \u001b[1;33m\u001b[0m\u001b[0m\n\u001b[0;32m     39\u001b[0m     \u001b[0mdata\u001b[0m \u001b[1;33m=\u001b[0m \u001b[0mresp\u001b[0m\u001b[1;33m.\u001b[0m\u001b[0mjson\u001b[0m\u001b[1;33m(\u001b[0m\u001b[1;33m)\u001b[0m\u001b[1;33m\u001b[0m\u001b[1;33m\u001b[0m\u001b[0m\n\u001b[1;32m---> 40\u001b[1;33m     \u001b[0mdf\u001b[0m \u001b[1;33m=\u001b[0m \u001b[0mpd\u001b[0m\u001b[1;33m.\u001b[0m\u001b[0mDataFrame\u001b[0m\u001b[1;33m(\u001b[0m\u001b[0mdata\u001b[0m\u001b[1;33m)\u001b[0m\u001b[1;33m\u001b[0m\u001b[1;33m\u001b[0m\u001b[0m\n\u001b[0m\u001b[0;32m     41\u001b[0m     \u001b[1;32mreturn\u001b[0m \u001b[0mdf\u001b[0m\u001b[1;33m\u001b[0m\u001b[1;33m\u001b[0m\u001b[0m\n",
      "\u001b[1;32mc:\\Users\\paulh\\anaconda3\\envs\\HEFTcom24\\Lib\\site-packages\\pandas\\core\\frame.py\u001b[0m in \u001b[0;36m?\u001b[1;34m(self, data, index, columns, dtype, copy)\u001b[0m\n\u001b[0;32m    840\u001b[0m                 )\n\u001b[0;32m    841\u001b[0m         \u001b[1;31m# For data is scalar\u001b[0m\u001b[1;33m\u001b[0m\u001b[1;33m\u001b[0m\u001b[0m\n\u001b[0;32m    842\u001b[0m         \u001b[1;32melse\u001b[0m\u001b[1;33m:\u001b[0m\u001b[1;33m\u001b[0m\u001b[1;33m\u001b[0m\u001b[0m\n\u001b[0;32m    843\u001b[0m             \u001b[1;32mif\u001b[0m \u001b[0mindex\u001b[0m \u001b[1;32mis\u001b[0m \u001b[1;32mNone\u001b[0m \u001b[1;32mor\u001b[0m \u001b[0mcolumns\u001b[0m \u001b[1;32mis\u001b[0m \u001b[1;32mNone\u001b[0m\u001b[1;33m:\u001b[0m\u001b[1;33m\u001b[0m\u001b[1;33m\u001b[0m\u001b[0m\n\u001b[1;32m--> 844\u001b[1;33m                 \u001b[1;32mraise\u001b[0m \u001b[0mValueError\u001b[0m\u001b[1;33m(\u001b[0m\u001b[1;34m\"DataFrame constructor not properly called!\"\u001b[0m\u001b[1;33m)\u001b[0m\u001b[1;33m\u001b[0m\u001b[1;33m\u001b[0m\u001b[0m\n\u001b[0m\u001b[0;32m    845\u001b[0m \u001b[1;33m\u001b[0m\u001b[0m\n\u001b[0;32m    846\u001b[0m             \u001b[0mindex\u001b[0m \u001b[1;33m=\u001b[0m \u001b[0mensure_index\u001b[0m\u001b[1;33m(\u001b[0m\u001b[0mindex\u001b[0m\u001b[1;33m)\u001b[0m\u001b[1;33m\u001b[0m\u001b[1;33m\u001b[0m\u001b[0m\n\u001b[0;32m    847\u001b[0m             \u001b[0mcolumns\u001b[0m \u001b[1;33m=\u001b[0m \u001b[0mensure_index\u001b[0m\u001b[1;33m(\u001b[0m\u001b[0mcolumns\u001b[0m\u001b[1;33m)\u001b[0m\u001b[1;33m\u001b[0m\u001b[1;33m\u001b[0m\u001b[0m\n",
      "\u001b[1;31mValueError\u001b[0m: DataFrame constructor not properly called!"
     ]
    }
   ],
   "source": [
    "rebase_api_client.get_variable(day=test_date,variable=\"imbalance_price\").head()\n",
    "# rebase_api_client.get_variable(day=test_date,variable=\"wind_total_production\").head()\n",
    "# rebase_api_client.get_variable(day=test_date,variable=\"solar_total_production\").head()"
   ]
  },
  {
   "cell_type": "code",
   "execution_count": 4,
   "metadata": {},
   "outputs": [],
   "source": [
    "import requests\n",
    "API_key = open(\"team_key.txt\").read()\n",
    "url = \"https://api.rebase.energy/weather/v2/query\"\n",
    "headers = {\"Authorization\": API_key}\n",
    "params = {\n",
    "    'model': 'DWD_ICON-EU',\n",
    "    'start-date': '2024-09-30',\n",
    "    'end-date': '2024-10-03',\n",
    "    'reference-time-freq': '6H',\n",
    "    'latitude': '60.1, 61.2, 59.33', \n",
    "    'longitude': '17.2, 13.1, 18.05',\n",
    "    'variables': 'Temperature, WindSpeed',\n",
    "    'output-format': 'json'   \n",
    "}\n",
    "response = requests.get(url, headers=headers, params=params)\n"
   ]
  },
  {
   "cell_type": "code",
   "execution_count": 5,
   "metadata": {},
   "outputs": [
    {
     "data": {
      "text/plain": [
       "{'message': 'Unauthorized'}"
      ]
     },
     "execution_count": 5,
     "metadata": {},
     "output_type": "execute_result"
    }
   ],
   "source": [
    "response.json()"
   ]
  },
  {
   "cell_type": "code",
   "execution_count": 29,
   "metadata": {},
   "outputs": [],
   "source": [
    "import requests\n",
    "\n",
    "your_api_key = '' # insert your API key here\n",
    "url = \"https://api.rebase.energy/weather/v2/query\"\n",
    "headers = {\"Authorization\": API_key,\n",
    "           'Content-Type': 'application/json'}\n",
    "params = {\n",
    "    'model': 'DWD_ICON-EU',\n",
    "    'start-date': '2024-09-30',\n",
    "    'end-date': '2024-10-03',\n",
    "    'reference-time-freq': '6H',\n",
    "    'latitude': '60.1, 61.2, 59.33', \n",
    "    'longitude': '17.2, 13.1, 18.05',\n",
    "    'variables': 'Temperature, WindSpeed',\n",
    "    'output-format': 'json'\n",
    "}\n",
    "response = requests.post(url,\n",
    "                         headers=headers,\n",
    "                         json=params,)\n",
    "                        #  content_type='application/json')"
   ]
  },
  {
   "cell_type": "code",
   "execution_count": 31,
   "metadata": {},
   "outputs": [
    {
     "data": {
      "text/plain": [
       "{'message': 'Unauthorized'}"
      ]
     },
     "execution_count": 31,
     "metadata": {},
     "output_type": "execute_result"
    }
   ],
   "source": [
    "response.json()"
   ]
  },
  {
   "cell_type": "code",
   "execution_count": 32,
   "metadata": {},
   "outputs": [
    {
     "name": "stdout",
     "output_type": "stream",
     "text": [
      "Request failed with status code 401: {\"message\":\"Unauthorized\"}\n",
      "\n"
     ]
    }
   ],
   "source": [
    "if response.status_code == 200:\n",
    "    print(\"Request successful.\")\n",
    "    print(response.json())  # Print the JSON response\n",
    "else:\n",
    "    print(f\"Request failed with status code {response.status_code}: {response.text}\")"
   ]
  },
  {
   "cell_type": "code",
   "execution_count": 33,
   "metadata": {},
   "outputs": [
    {
     "data": {
      "text/plain": [
       "{'message': 'Unauthorized'}"
      ]
     },
     "execution_count": 33,
     "metadata": {},
     "output_type": "execute_result"
    }
   ],
   "source": [
    "response.json()"
   ]
  },
  {
   "cell_type": "code",
   "execution_count": 39,
   "metadata": {},
   "outputs": [],
   "source": [
    "import requests\n",
    "\n",
    "your_api_key = '' # insert your API key here\n",
    "url = \"https://api.rebase.energy/weather/v2/point/historical\"\n",
    "headers = {\"Authorization\": your_api_key}\n",
    "params = {\n",
    "    'model': 'DWD_ICON-EU',\n",
    "    'start-date': '2024-09-01',\n",
    "    'end-date': '2024-09-09',\n",
    "    'reference-time-freq': '6H',\n",
    "    'forecast-horizon': 'full',\n",
    "    'latitude': '60.1, 61.2, 59.33', \n",
    "    'longitude': '17.2, 13.1, 18.05',\n",
    "    'variables': 'Temperature, WindSpeed:10'\n",
    "}\n",
    "response = requests.get(url, headers=headers, params=params)"
   ]
  },
  {
   "cell_type": "code",
   "execution_count": 40,
   "metadata": {},
   "outputs": [
    {
     "data": {
      "text/plain": [
       "{'message': 'Unauthorized'}"
      ]
     },
     "execution_count": 40,
     "metadata": {},
     "output_type": "execute_result"
    }
   ],
   "source": [
    "response.json()"
   ]
  },
  {
   "cell_type": "code",
   "execution_count": 51,
   "metadata": {},
   "outputs": [],
   "source": [
    "import requests\n",
    "API_key = open(\"team_key.txt\").read()\n",
    "url = \"https://api.rebase.energy/challenges/data/day_ahead_price\"\n",
    "headers = {\"Authorization\": f\"Bearer {API_key}\"}  # Prefix the API key with 'Bearer '\n",
    "params = {\n",
    "    \"date\": \"2024-10-01\"\n",
    "}\n",
    "response = requests.get(url, headers=headers, params=params)"
   ]
  },
  {
   "cell_type": "code",
   "execution_count": 52,
   "metadata": {},
   "outputs": [
    {
     "data": {
      "text/plain": [
       "'Bearer token is invalid'"
      ]
     },
     "execution_count": 52,
     "metadata": {},
     "output_type": "execute_result"
    }
   ],
   "source": [
    "response.json()"
   ]
  },
  {
   "cell_type": "code",
   "execution_count": 53,
   "metadata": {},
   "outputs": [],
   "source": [
    "import requests\n",
    "API_key = open(\"team_key.txt\").read()\n",
    "url = \"https://api.rebase.energy/challenges/data/market_index\"\n",
    "headers = {\"Authorization\": f\"Bearer {API_key}\"}  # Prefix the API key with 'Bearer '\n",
    "params = {\n",
    "    \"date\": \"2024-10-01\"\n",
    "}\n",
    "response = requests.get(url, headers=headers, params=params)"
   ]
  },
  {
   "cell_type": "code",
   "execution_count": 54,
   "metadata": {},
   "outputs": [
    {
     "data": {
      "text/plain": [
       "'Bearer token is invalid'"
      ]
     },
     "execution_count": 54,
     "metadata": {},
     "output_type": "execute_result"
    }
   ],
   "source": [
    "response.json()"
   ]
  },
  {
   "cell_type": "code",
   "execution_count": 55,
   "metadata": {},
   "outputs": [],
   "source": [
    "import requests\n",
    "API_key = open(\"team_key.txt\").read()\n",
    "url = \"https://api.rebase.energy/challenges/data/imbalance_price\"\n",
    "headers = {\"Authorization\": f\"Bearer {API_key}\"}  # Prefix the API key with 'Bearer '\n",
    "params = {\n",
    "    \"date\": \"2024-10-01\"\n",
    "}\n",
    "response = requests.get(url, headers=headers, params=params)"
   ]
  },
  {
   "cell_type": "code",
   "execution_count": 56,
   "metadata": {},
   "outputs": [
    {
     "data": {
      "text/plain": [
       "'Bearer token is invalid'"
      ]
     },
     "execution_count": 56,
     "metadata": {},
     "output_type": "execute_result"
    }
   ],
   "source": [
    "response.json()"
   ]
  },
  {
   "cell_type": "code",
   "execution_count": null,
   "metadata": {},
   "outputs": [],
   "source": [
    "import requests\n",
    "API_key = open(\"team_key.txt\").read()\n",
    "url = \"https://api.rebase.energy/challenges/data/imbalance_price\"\n",
    "headers = {\"Authorization\": f\"Bearer {API_key}\"}  # Prefix the API key with 'Bearer '\n",
    "params = {\n",
    "    \"date\": \"2024-10-01\"\n",
    "}\n",
    "response = requests.get(url, headers=headers, params=params)"
   ]
  }
 ],
 "metadata": {
  "kernelspec": {
   "display_name": "HEFTcom24",
   "language": "python",
   "name": "python3"
  },
  "language_info": {
   "codemirror_mode": {
    "name": "ipython",
    "version": 3
   },
   "file_extension": ".py",
   "mimetype": "text/x-python",
   "name": "python",
   "nbconvert_exporter": "python",
   "pygments_lexer": "ipython3",
   "version": "3.11.3"
  }
 },
 "nbformat": 4,
 "nbformat_minor": 2
}
