{
 "cells": [
  {
   "cell_type": "code",
   "execution_count": 1,
   "metadata": {},
   "outputs": [],
   "source": [
    "import pandas as pd \n",
    "import xarray as xr\n",
    "import os"
   ]
  },
  {
   "cell_type": "markdown",
   "metadata": {},
   "source": [
    "## Load & Concat Energy data"
   ]
  },
  {
   "cell_type": "code",
   "execution_count": 2,
   "metadata": {},
   "outputs": [],
   "source": [
    "energy_data_20200920_20240118 = pd.read_csv(\"HEFTcom24/data/energy_data/Energy_Data_20200920_20240118.csv\")\n",
    "energy_data_20240119_20240519 = pd.read_csv(\"HEFTcom24/data/energy_data/energy_data_20240119_20240519.csv\")"
   ]
  },
  {
   "cell_type": "code",
   "execution_count": 3,
   "metadata": {},
   "outputs": [],
   "source": [
    "energy_data_old = energy_data_20200920_20240118.copy()\n",
    "energy_data_new = energy_data_20240119_20240519.copy()\n",
    "\n",
    "energy_data_old[\"dtm\"] = pd.to_datetime(energy_data_old[\"dtm\"])\n",
    "energy_data_old[\"Wind_MWh_credit\"] = 0.5 * energy_data_old[\"Wind_MW\"] - energy_data_old[\"boa_MWh\"]\n",
    "energy_data_old[\"Solar_MWh_credit\"] = 0.5 * energy_data_old[\"Solar_MW\"]\n",
    "\n",
    "energy_data_new[\"dtm\"] = pd.to_datetime(energy_data_new[\"dtm\"])\n",
    "energy_data_new[\"Wind_MWh_credit\"] = 0.5 * energy_data_new[\"Wind_MW\"] - energy_data_new[\"boa_MWh\"]\n",
    "energy_data_new[\"Solar_MWh_credit\"] = 0.5 * energy_data_new[\"Solar_MW\"]\n",
    "\n",
    "energy_data_merged = pd.concat([energy_data_old, energy_data_new], ignore_index=True)"
   ]
  },
  {
   "cell_type": "code",
   "execution_count": 4,
   "metadata": {},
   "outputs": [],
   "source": [
    "energy_data = energy_data_merged.copy()"
   ]
  },
  {
   "cell_type": "code",
   "execution_count": 5,
   "metadata": {},
   "outputs": [
    {
     "data": {
      "text/html": [
       "<div>\n",
       "<style scoped>\n",
       "    .dataframe tbody tr th:only-of-type {\n",
       "        vertical-align: middle;\n",
       "    }\n",
       "\n",
       "    .dataframe tbody tr th {\n",
       "        vertical-align: top;\n",
       "    }\n",
       "\n",
       "    .dataframe thead th {\n",
       "        text-align: right;\n",
       "    }\n",
       "</style>\n",
       "<table border=\"1\" class=\"dataframe\">\n",
       "  <thead>\n",
       "    <tr style=\"text-align: right;\">\n",
       "      <th></th>\n",
       "      <th>dtm</th>\n",
       "      <th>MIP</th>\n",
       "      <th>Solar_MW</th>\n",
       "      <th>Solar_capacity_mwp</th>\n",
       "      <th>Solar_installedcapacity_mwp</th>\n",
       "      <th>Wind_MW</th>\n",
       "      <th>SS_Price</th>\n",
       "      <th>boa_MWh</th>\n",
       "      <th>DA_Price</th>\n",
       "      <th>Wind_MWh_credit</th>\n",
       "      <th>Solar_MWh_credit</th>\n",
       "    </tr>\n",
       "  </thead>\n",
       "  <tbody>\n",
       "    <tr>\n",
       "      <th>0</th>\n",
       "      <td>2020-09-20 00:00:00+00:00</td>\n",
       "      <td>20.06</td>\n",
       "      <td>0.0</td>\n",
       "      <td>2130.537493</td>\n",
       "      <td>2228.208777</td>\n",
       "      <td>996.284</td>\n",
       "      <td>2.50</td>\n",
       "      <td>0.0</td>\n",
       "      <td>32.17</td>\n",
       "      <td>498.142</td>\n",
       "      <td>0.0</td>\n",
       "    </tr>\n",
       "    <tr>\n",
       "      <th>1</th>\n",
       "      <td>2020-09-20 00:30:00+00:00</td>\n",
       "      <td>19.77</td>\n",
       "      <td>0.0</td>\n",
       "      <td>2130.537493</td>\n",
       "      <td>2228.208777</td>\n",
       "      <td>957.576</td>\n",
       "      <td>15.00</td>\n",
       "      <td>0.0</td>\n",
       "      <td>32.17</td>\n",
       "      <td>478.788</td>\n",
       "      <td>0.0</td>\n",
       "    </tr>\n",
       "    <tr>\n",
       "      <th>2</th>\n",
       "      <td>2020-09-20 01:00:00+00:00</td>\n",
       "      <td>28.68</td>\n",
       "      <td>0.0</td>\n",
       "      <td>2130.537493</td>\n",
       "      <td>2228.208777</td>\n",
       "      <td>941.044</td>\n",
       "      <td>47.95</td>\n",
       "      <td>0.0</td>\n",
       "      <td>32.00</td>\n",
       "      <td>470.522</td>\n",
       "      <td>0.0</td>\n",
       "    </tr>\n",
       "    <tr>\n",
       "      <th>3</th>\n",
       "      <td>2020-09-20 01:30:00+00:00</td>\n",
       "      <td>28.97</td>\n",
       "      <td>0.0</td>\n",
       "      <td>2130.537493</td>\n",
       "      <td>2228.208777</td>\n",
       "      <td>964.366</td>\n",
       "      <td>29.13</td>\n",
       "      <td>0.0</td>\n",
       "      <td>32.00</td>\n",
       "      <td>482.183</td>\n",
       "      <td>0.0</td>\n",
       "    </tr>\n",
       "    <tr>\n",
       "      <th>4</th>\n",
       "      <td>2020-09-20 02:00:00+00:00</td>\n",
       "      <td>28.19</td>\n",
       "      <td>0.0</td>\n",
       "      <td>2130.537493</td>\n",
       "      <td>2228.208777</td>\n",
       "      <td>918.432</td>\n",
       "      <td>28.95</td>\n",
       "      <td>0.0</td>\n",
       "      <td>31.99</td>\n",
       "      <td>459.216</td>\n",
       "      <td>0.0</td>\n",
       "    </tr>\n",
       "  </tbody>\n",
       "</table>\n",
       "</div>"
      ],
      "text/plain": [
       "                        dtm    MIP  Solar_MW  Solar_capacity_mwp  \\\n",
       "0 2020-09-20 00:00:00+00:00  20.06       0.0         2130.537493   \n",
       "1 2020-09-20 00:30:00+00:00  19.77       0.0         2130.537493   \n",
       "2 2020-09-20 01:00:00+00:00  28.68       0.0         2130.537493   \n",
       "3 2020-09-20 01:30:00+00:00  28.97       0.0         2130.537493   \n",
       "4 2020-09-20 02:00:00+00:00  28.19       0.0         2130.537493   \n",
       "\n",
       "   Solar_installedcapacity_mwp  Wind_MW  SS_Price  boa_MWh  DA_Price  \\\n",
       "0                  2228.208777  996.284      2.50      0.0     32.17   \n",
       "1                  2228.208777  957.576     15.00      0.0     32.17   \n",
       "2                  2228.208777  941.044     47.95      0.0     32.00   \n",
       "3                  2228.208777  964.366     29.13      0.0     32.00   \n",
       "4                  2228.208777  918.432     28.95      0.0     31.99   \n",
       "\n",
       "   Wind_MWh_credit  Solar_MWh_credit  \n",
       "0          498.142               0.0  \n",
       "1          478.788               0.0  \n",
       "2          470.522               0.0  \n",
       "3          482.183               0.0  \n",
       "4          459.216               0.0  "
      ]
     },
     "execution_count": 5,
     "metadata": {},
     "output_type": "execute_result"
    }
   ],
   "source": [
    "energy_data.head()"
   ]
  },
  {
   "cell_type": "markdown",
   "metadata": {},
   "source": [
    "### Remove NaN rows"
   ]
  },
  {
   "cell_type": "code",
   "execution_count": 6,
   "metadata": {},
   "outputs": [
    {
     "name": "stdout",
     "output_type": "stream",
     "text": [
      "425\n",
      "75\n",
      "103\n",
      "103\n",
      "103\n",
      "75\n",
      "0\n",
      "0\n",
      "0\n",
      "0\n"
     ]
    }
   ],
   "source": [
    "print(energy_data[\"MIP\"].isna().sum())\n",
    "print(energy_data[\"Solar_MW\"].isna().sum())\n",
    "print(energy_data[\"Wind_MW\"].isna().sum())\n",
    "print(energy_data[\"boa_MWh\"].isna().sum())\n",
    "print(energy_data[\"Wind_MWh_credit\"].isna().sum())\n",
    "print(energy_data[\"Solar_MWh_credit\"].isna().sum())\n",
    "print(energy_data[\"Solar_capacity_mwp\"].isna().sum())\n",
    "print(energy_data[\"Solar_installedcapacity_mwp\"].isna().sum())\n",
    "print(energy_data[\"SS_Price\"].isna().sum())\n",
    "print(energy_data[\"DA_Price\"].isna().sum())"
   ]
  },
  {
   "cell_type": "code",
   "execution_count": 7,
   "metadata": {},
   "outputs": [],
   "source": [
    "energy_data = energy_data.dropna(subset= [\"MIP\", \"Solar_MW\", \"Wind_MW\", \"boa_MWh\", \"Wind_MWh_credit\", \"Solar_MWh_credit\", \"Solar_capacity_mwp\", \"Solar_installedcapacity_mwp\", \"SS_Price\", \"DA_Price\"])"
   ]
  },
  {
   "cell_type": "markdown",
   "metadata": {},
   "source": [
    "## Load weather forecasts"
   ]
  },
  {
   "cell_type": "code",
   "execution_count": 8,
   "metadata": {},
   "outputs": [],
   "source": [
    "def process_and_concat_files(directory):\n",
    "    \"\"\"\n",
    "    Processes and concatenates all netCDF files in a given directory.\n",
    "    \"\"\"\n",
    "    dfs = []\n",
    "\n",
    "    for file in os.listdir(directory):\n",
    "        if file.endswith(\".nc\"):\n",
    "            file_path = os.path.join(directory, file)\n",
    "            ds = xr.open_dataset(file_path)\n",
    "            df = ds.to_dataframe().reset_index()\n",
    "            \n",
    "            if \"ref_datetime\" in df.columns and \"valid_datetime\" in df.columns:\n",
    "                df.rename(columns={\"ref_datetime\": \"reference_time\", \"valid_datetime\": \"valid_time\"}, inplace=True)\n",
    "            elif \"reference_time\" not in df.columns or \"valid_time\" not in df.columns:\n",
    "                raise ValueError(\"Neither 'ref_datetime' and 'valid_datetime' nor 'reference_time' and 'valid_time' found in the dataset.\")\n",
    "            \n",
    "            df[\"reference_time\"] = df[\"reference_time\"].dt.tz_localize(\"UTC\")\n",
    "            df[\"valid_time\"] = df[\"reference_time\"] + pd.to_timedelta(df[\"valid_time\"], unit=\"hours\")\n",
    "            df[\"reference_time\"] = df[\"reference_time\"].dt.strftime(\"%Y-%m-%d %H:%M:%S\")\n",
    "            df[\"valid_time\"] = df[\"valid_time\"].dt.strftime(\"%Y-%m-%d %H:%M:%S\")\n",
    "            dfs.append(df)\n",
    "    \n",
    "    concatenated_df = pd.concat(dfs, ignore_index=True)\n",
    "    concatenated_df[\"reference_time\"] = pd.to_datetime(concatenated_df[\"reference_time\"])\n",
    "    concatenated_df[\"valid_time\"] = pd.to_datetime(concatenated_df[\"valid_time\"])\n",
    "    concatenated_df[\"reference_time\"] = concatenated_df[\"reference_time\"].dt.strftime(\"%Y-%m-%d %H:%M:%S\")\n",
    "    concatenated_df[\"valid_time\"] = concatenated_df[\"valid_time\"].dt.strftime(\"%Y-%m-%d %H:%M:%S\")\n",
    "    \n",
    "    return concatenated_df"
   ]
  },
  {
   "cell_type": "markdown",
   "metadata": {},
   "source": [
    "### Create forecast df"
   ]
  },
  {
   "cell_type": "code",
   "execution_count": 9,
   "metadata": {},
   "outputs": [],
   "source": [
    "base_dir = \"HEFTcom24/data\"\n",
    "\n",
    "dwd_pes10_df = process_and_concat_files(os.path.join(base_dir, \"dwd_pes10\"))\n",
    "dwd_hornsea_1_df = process_and_concat_files(os.path.join(base_dir, \"dwd_hornsea_1\"))\n",
    "\n",
    "ncep_pes10_df = process_and_concat_files(os.path.join(base_dir, \"ncep_pes10\"))\n",
    "ncep_hornsea_1_df = process_and_concat_files(os.path.join(base_dir, \"ncep_hornsea_1\"))"
   ]
  },
  {
   "cell_type": "markdown",
   "metadata": {},
   "source": [
    "### Hornsea 1: Remove NaN rows, aggregate features (mean over all stations) and combine forecasts in one df"
   ]
  },
  {
   "cell_type": "code",
   "execution_count": 32,
   "metadata": {},
   "outputs": [
    {
     "data": {
      "text/html": [
       "<div>\n",
       "<style scoped>\n",
       "    .dataframe tbody tr th:only-of-type {\n",
       "        vertical-align: middle;\n",
       "    }\n",
       "\n",
       "    .dataframe tbody tr th {\n",
       "        vertical-align: top;\n",
       "    }\n",
       "\n",
       "    .dataframe thead th {\n",
       "        text-align: right;\n",
       "    }\n",
       "</style>\n",
       "<table border=\"1\" class=\"dataframe\">\n",
       "  <thead>\n",
       "    <tr style=\"text-align: right;\">\n",
       "      <th></th>\n",
       "      <th>reference_time</th>\n",
       "      <th>valid_time</th>\n",
       "      <th>latitude</th>\n",
       "      <th>longitude</th>\n",
       "      <th>RelativeHumidity</th>\n",
       "      <th>Temperature</th>\n",
       "      <th>WindDirection</th>\n",
       "      <th>WindDirection:100</th>\n",
       "      <th>WindSpeed</th>\n",
       "      <th>WindSpeed:100</th>\n",
       "    </tr>\n",
       "  </thead>\n",
       "  <tbody>\n",
       "    <tr>\n",
       "      <th>0</th>\n",
       "      <td>2020-09-20 00:00:00</td>\n",
       "      <td>2020-09-20 00:00:00</td>\n",
       "      <td>53.77</td>\n",
       "      <td>1.702</td>\n",
       "      <td>86.991142</td>\n",
       "      <td>15.276886</td>\n",
       "      <td>59.552521</td>\n",
       "      <td>60.032074</td>\n",
       "      <td>10.064903</td>\n",
       "      <td>11.884751</td>\n",
       "    </tr>\n",
       "    <tr>\n",
       "      <th>1</th>\n",
       "      <td>2020-09-20 00:00:00</td>\n",
       "      <td>2020-09-20 00:00:00</td>\n",
       "      <td>53.77</td>\n",
       "      <td>1.767</td>\n",
       "      <td>87.532158</td>\n",
       "      <td>15.290558</td>\n",
       "      <td>59.626404</td>\n",
       "      <td>60.064697</td>\n",
       "      <td>10.121807</td>\n",
       "      <td>11.880851</td>\n",
       "    </tr>\n",
       "    <tr>\n",
       "      <th>2</th>\n",
       "      <td>2020-09-20 00:00:00</td>\n",
       "      <td>2020-09-20 00:00:00</td>\n",
       "      <td>53.77</td>\n",
       "      <td>1.832</td>\n",
       "      <td>87.661064</td>\n",
       "      <td>15.313019</td>\n",
       "      <td>59.638000</td>\n",
       "      <td>60.069794</td>\n",
       "      <td>10.165877</td>\n",
       "      <td>11.868978</td>\n",
       "    </tr>\n",
       "    <tr>\n",
       "      <th>3</th>\n",
       "      <td>2020-09-20 00:00:00</td>\n",
       "      <td>2020-09-20 00:00:00</td>\n",
       "      <td>53.77</td>\n",
       "      <td>1.897</td>\n",
       "      <td>87.342705</td>\n",
       "      <td>15.343292</td>\n",
       "      <td>59.621643</td>\n",
       "      <td>59.918152</td>\n",
       "      <td>10.187956</td>\n",
       "      <td>11.820547</td>\n",
       "    </tr>\n",
       "    <tr>\n",
       "      <th>4</th>\n",
       "      <td>2020-09-20 00:00:00</td>\n",
       "      <td>2020-09-20 00:00:00</td>\n",
       "      <td>53.77</td>\n",
       "      <td>1.962</td>\n",
       "      <td>87.473564</td>\n",
       "      <td>15.373566</td>\n",
       "      <td>59.688599</td>\n",
       "      <td>60.089600</td>\n",
       "      <td>10.216055</td>\n",
       "      <td>11.864362</td>\n",
       "    </tr>\n",
       "  </tbody>\n",
       "</table>\n",
       "</div>"
      ],
      "text/plain": [
       "        reference_time           valid_time  latitude  longitude  \\\n",
       "0  2020-09-20 00:00:00  2020-09-20 00:00:00     53.77      1.702   \n",
       "1  2020-09-20 00:00:00  2020-09-20 00:00:00     53.77      1.767   \n",
       "2  2020-09-20 00:00:00  2020-09-20 00:00:00     53.77      1.832   \n",
       "3  2020-09-20 00:00:00  2020-09-20 00:00:00     53.77      1.897   \n",
       "4  2020-09-20 00:00:00  2020-09-20 00:00:00     53.77      1.962   \n",
       "\n",
       "   RelativeHumidity  Temperature  WindDirection  WindDirection:100  WindSpeed  \\\n",
       "0         86.991142    15.276886      59.552521          60.032074  10.064903   \n",
       "1         87.532158    15.290558      59.626404          60.064697  10.121807   \n",
       "2         87.661064    15.313019      59.638000          60.069794  10.165877   \n",
       "3         87.342705    15.343292      59.621643          59.918152  10.187956   \n",
       "4         87.473564    15.373566      59.688599          60.089600  10.216055   \n",
       "\n",
       "   WindSpeed:100  \n",
       "0      11.884751  \n",
       "1      11.880851  \n",
       "2      11.868978  \n",
       "3      11.820547  \n",
       "4      11.864362  "
      ]
     },
     "execution_count": 32,
     "metadata": {},
     "output_type": "execute_result"
    }
   ],
   "source": [
    "dwd_hornsea_1_df.head()"
   ]
  },
  {
   "cell_type": "code",
   "execution_count": 33,
   "metadata": {},
   "outputs": [
    {
     "name": "stdout",
     "output_type": "stream",
     "text": [
      "13356\n",
      "13392\n",
      "13356\n",
      "12204\n",
      "13356\n",
      "12204\n",
      "3456\n",
      "3627\n",
      "5733\n",
      "5733\n",
      "5733\n",
      "5733\n"
     ]
    }
   ],
   "source": [
    "print(dwd_hornsea_1_df[\"RelativeHumidity\"].isna().sum())\n",
    "print(dwd_hornsea_1_df[\"Temperature\"].isna().sum())\n",
    "print(dwd_hornsea_1_df[\"WindDirection\"].isna().sum())\n",
    "print(dwd_hornsea_1_df[\"WindDirection:100\"].isna().sum())\n",
    "print(dwd_hornsea_1_df[\"WindSpeed\"].isna().sum())\n",
    "print(dwd_hornsea_1_df[\"WindSpeed:100\"].isna().sum())\n",
    "\n",
    "print(ncep_hornsea_1_df[\"RelativeHumidity\"].isna().sum())\n",
    "print(ncep_hornsea_1_df[\"Temperature\"].isna().sum())\n",
    "print(ncep_hornsea_1_df[\"WindDirection\"].isna().sum())\n",
    "print(ncep_hornsea_1_df[\"WindDirection:100\"].isna().sum())\n",
    "print(ncep_hornsea_1_df[\"WindSpeed\"].isna().sum())\n",
    "print(ncep_hornsea_1_df[\"WindSpeed:100\"].isna().sum())"
   ]
  },
  {
   "cell_type": "code",
   "execution_count": 51,
   "metadata": {},
   "outputs": [],
   "source": [
    "dwd_hornsea_1_df.dropna(subset=[\"RelativeHumidity\", \"Temperature\", \"WindDirection\", \"WindDirection:100\", \"WindSpeed\", \"WindSpeed:100\"], inplace=True)\n",
    "ncep_hornsea_1_df.dropna(subset=[\"RelativeHumidity\", \"Temperature\", \"WindDirection\", \"WindDirection:100\", \"WindSpeed\", \"WindSpeed:100\"], inplace=True)"
   ]
  },
  {
   "cell_type": "code",
   "execution_count": 52,
   "metadata": {},
   "outputs": [],
   "source": [
    "import numpy as np\n",
    "\n",
    "dwd_hornsea_1_df[\"WindSpeed^3\"] = dwd_hornsea_1_df[\"WindSpeed\"] ** 3\n",
    "dwd_hornsea_1_df[\"WindSpeed:100^3\"] = dwd_hornsea_1_df[\"WindSpeed:100\"] ** 3\n",
    "\n",
    "ncep_hornsea_1_df[\"WindSpeed^3\"] = ncep_hornsea_1_df[\"WindSpeed\"] ** 3\n",
    "ncep_hornsea_1_df[\"WindSpeed:100^3\"] = ncep_hornsea_1_df[\"WindSpeed:100\"] ** 3\n",
    "\n",
    "dwd_h1df_mean = dwd_hornsea_1_df.groupby([\"reference_time\", \"valid_time\"])[[\"RelativeHumidity\", \"Temperature\", \"WindDirection\", \"WindDirection:100\", \"WindSpeed^3\", \"WindSpeed:100^3\", \"WindSpeed\", \"WindSpeed:100\"]].mean().reset_index()\n",
    "ncep_h1df_mean = ncep_hornsea_1_df.groupby([\"reference_time\", \"valid_time\"])[[\"RelativeHumidity\", \"Temperature\", \"WindDirection\", \"WindDirection:100\", \"WindSpeed^3\", \"WindSpeed:100^3\", \"WindSpeed\", \"WindSpeed:100\"]].mean().reset_index()\n",
    "\n",
    "dwd_h1df_mean[\"WindSpeed^3\"] = np.cbrt(dwd_h1df_mean[\"WindSpeed^3\"])\n",
    "dwd_h1df_mean[\"WindSpeed^3:100\"] = np.cbrt(dwd_h1df_mean[\"WindSpeed:100^3\"])\n",
    "\n",
    "ncep_h1df_mean[\"WindSpeed^3\"] = np.cbrt(ncep_h1df_mean[\"WindSpeed^3\"])\n",
    "ncep_h1df_mean[\"WindSpeed^3:100\"] = np.cbrt(ncep_h1df_mean[\"WindSpeed:100^3\"])"
   ]
  },
  {
   "cell_type": "code",
   "execution_count": 53,
   "metadata": {},
   "outputs": [],
   "source": [
    "merged_h1_df = dwd_h1df_mean.merge(ncep_h1df_mean, on=[\"reference_time\", \"valid_time\"], suffixes=(\"_dwd\", \"_ncep\"), how= \"outer\")\n",
    "merged_h1_df[\"reference_time\"] = pd.to_datetime(merged_h1_df[\"reference_time\"], format=\"%Y-%m-%d %H:%M:%S\")\n",
    "merged_h1_df[\"valid_time\"] = pd.to_datetime(merged_h1_df[\"valid_time\"], format=\"%Y-%m-%d %H:%M:%S\")"
   ]
  },
  {
   "cell_type": "markdown",
   "metadata": {},
   "source": [
    "### Hornsea 1: Merge with energy data"
   ]
  },
  {
   "cell_type": "code",
   "execution_count": 54,
   "metadata": {},
   "outputs": [],
   "source": [
    "merged_h1_df = merged_h1_df.set_index(\"valid_time\").groupby(\"reference_time\").resample(\"30min\").interpolate(\"linear\")"
   ]
  },
  {
   "cell_type": "code",
   "execution_count": 55,
   "metadata": {},
   "outputs": [],
   "source": [
    "merged_h1_df = merged_h1_df.drop(columns=[\"reference_time\"], axis= 1).reset_index()"
   ]
  },
  {
   "cell_type": "code",
   "execution_count": 56,
   "metadata": {},
   "outputs": [],
   "source": [
    "merged_h1_df[\"valid_time\"] = pd.to_datetime(merged_h1_df[\"valid_time\"], format=\"%Y-%m-%d %H:%M:%S\", utc= True)"
   ]
  },
  {
   "cell_type": "code",
   "execution_count": 57,
   "metadata": {},
   "outputs": [],
   "source": [
    "merged_h1_energy_data = merged_h1_df.merge(energy_data, how= \"inner\", left_on= \"valid_time\", right_on= \"dtm\")"
   ]
  },
  {
   "cell_type": "code",
   "execution_count": 58,
   "metadata": {},
   "outputs": [],
   "source": [
    "merged_h1_energy_data = merged_h1_energy_data.groupby(\"valid_time\").tail(1).reset_index()\n",
    "merged_h1_energy_data[\"valid_time\"] = pd.to_datetime(merged_h1_energy_data[\"valid_time\"], format=\"%Y-%m-%d %H:%M:%S\", utc= True)"
   ]
  },
  {
   "cell_type": "code",
   "execution_count": 60,
   "metadata": {},
   "outputs": [],
   "source": [
    "merged_h1_energy_data = merged_h1_energy_data.drop(columns=[\"index\", \"Solar_MW\", \"Solar_MWh_credit\", \"Solar_capacity_mwp\", \"Solar_installedcapacity_mwp\"], axis= 1)"
   ]
  },
  {
   "cell_type": "code",
   "execution_count": 61,
   "metadata": {},
   "outputs": [],
   "source": [
    "merged_h1_energy_data.to_csv(\"HEFTcom24/data/wind2.csv\", index= False)"
   ]
  },
  {
   "cell_type": "markdown",
   "metadata": {},
   "source": [
    "###  Pes10: Remove NaN rows, aggregate features (mean over all stations) and combine forecasts in one df"
   ]
  },
  {
   "cell_type": "code",
   "execution_count": 10,
   "metadata": {},
   "outputs": [
    {
     "data": {
      "text/html": [
       "<div>\n",
       "<style scoped>\n",
       "    .dataframe tbody tr th:only-of-type {\n",
       "        vertical-align: middle;\n",
       "    }\n",
       "\n",
       "    .dataframe tbody tr th {\n",
       "        vertical-align: top;\n",
       "    }\n",
       "\n",
       "    .dataframe thead th {\n",
       "        text-align: right;\n",
       "    }\n",
       "</style>\n",
       "<table border=\"1\" class=\"dataframe\">\n",
       "  <thead>\n",
       "    <tr style=\"text-align: right;\">\n",
       "      <th></th>\n",
       "      <th>reference_time</th>\n",
       "      <th>valid_time</th>\n",
       "      <th>point</th>\n",
       "      <th>CloudCover</th>\n",
       "      <th>SolarDownwardRadiation</th>\n",
       "      <th>Temperature</th>\n",
       "      <th>latitude</th>\n",
       "      <th>longitude</th>\n",
       "    </tr>\n",
       "  </thead>\n",
       "  <tbody>\n",
       "    <tr>\n",
       "      <th>0</th>\n",
       "      <td>2024-01-08 00:00:00</td>\n",
       "      <td>2024-01-08 00:00:00</td>\n",
       "      <td>0</td>\n",
       "      <td>0.409668</td>\n",
       "      <td>0.0</td>\n",
       "      <td>0.316040</td>\n",
       "      <td>52.487256</td>\n",
       "      <td>0.401245</td>\n",
       "    </tr>\n",
       "    <tr>\n",
       "      <th>1</th>\n",
       "      <td>2024-01-08 00:00:00</td>\n",
       "      <td>2024-01-08 00:00:00</td>\n",
       "      <td>1</td>\n",
       "      <td>0.508945</td>\n",
       "      <td>0.0</td>\n",
       "      <td>1.136353</td>\n",
       "      <td>52.877668</td>\n",
       "      <td>0.790653</td>\n",
       "    </tr>\n",
       "    <tr>\n",
       "      <th>2</th>\n",
       "      <td>2024-01-08 00:00:00</td>\n",
       "      <td>2024-01-08 00:00:00</td>\n",
       "      <td>2</td>\n",
       "      <td>0.546328</td>\n",
       "      <td>0.0</td>\n",
       "      <td>0.637329</td>\n",
       "      <td>52.135428</td>\n",
       "      <td>-0.264034</td>\n",
       "    </tr>\n",
       "    <tr>\n",
       "      <th>3</th>\n",
       "      <td>2024-01-08 00:00:00</td>\n",
       "      <td>2024-01-08 00:00:00</td>\n",
       "      <td>3</td>\n",
       "      <td>0.302520</td>\n",
       "      <td>0.0</td>\n",
       "      <td>0.057251</td>\n",
       "      <td>52.488050</td>\n",
       "      <td>-0.126705</td>\n",
       "    </tr>\n",
       "    <tr>\n",
       "      <th>4</th>\n",
       "      <td>2024-01-08 00:00:00</td>\n",
       "      <td>2024-01-08 00:00:00</td>\n",
       "      <td>4</td>\n",
       "      <td>0.621309</td>\n",
       "      <td>0.0</td>\n",
       "      <td>1.159790</td>\n",
       "      <td>51.956370</td>\n",
       "      <td>0.658817</td>\n",
       "    </tr>\n",
       "  </tbody>\n",
       "</table>\n",
       "</div>"
      ],
      "text/plain": [
       "        reference_time           valid_time  point  CloudCover  \\\n",
       "0  2024-01-08 00:00:00  2024-01-08 00:00:00      0    0.409668   \n",
       "1  2024-01-08 00:00:00  2024-01-08 00:00:00      1    0.508945   \n",
       "2  2024-01-08 00:00:00  2024-01-08 00:00:00      2    0.546328   \n",
       "3  2024-01-08 00:00:00  2024-01-08 00:00:00      3    0.302520   \n",
       "4  2024-01-08 00:00:00  2024-01-08 00:00:00      4    0.621309   \n",
       "\n",
       "   SolarDownwardRadiation  Temperature   latitude  longitude  \n",
       "0                     0.0     0.316040  52.487256   0.401245  \n",
       "1                     0.0     1.136353  52.877668   0.790653  \n",
       "2                     0.0     0.637329  52.135428  -0.264034  \n",
       "3                     0.0     0.057251  52.488050  -0.126705  \n",
       "4                     0.0     1.159790  51.956370   0.658817  "
      ]
     },
     "execution_count": 10,
     "metadata": {},
     "output_type": "execute_result"
    }
   ],
   "source": [
    "dwd_pes10_df.head()"
   ]
  },
  {
   "cell_type": "code",
   "execution_count": 11,
   "metadata": {},
   "outputs": [
    {
     "name": "stdout",
     "output_type": "stream",
     "text": [
      "126920\n",
      "7440\n",
      "7440\n",
      "104180\n",
      "10173\n",
      "15313\n"
     ]
    }
   ],
   "source": [
    "print(dwd_pes10_df[\"SolarDownwardRadiation\"].isna().sum())\n",
    "print(dwd_pes10_df[\"Temperature\"].isna().sum())\n",
    "print(dwd_pes10_df[\"CloudCover\"].isna().sum())\n",
    "\n",
    "print(ncep_pes10_df[\"SolarDownwardRadiation\"].isna().sum())\n",
    "print(ncep_pes10_df[\"Temperature\"].isna().sum())\n",
    "print(ncep_pes10_df[\"CloudCover\"].isna().sum())"
   ]
  },
  {
   "cell_type": "code",
   "execution_count": 12,
   "metadata": {},
   "outputs": [],
   "source": [
    "dwd_pes10_df = dwd_pes10_df.dropna(subset= [\"Temperature\", \"SolarDownwardRadiation\", \"CloudCover\"])\n",
    "ncep_pes10_df = ncep_pes10_df.dropna(subset= [\"Temperature\", \"SolarDownwardRadiation\", \"CloudCover\"])"
   ]
  },
  {
   "cell_type": "code",
   "execution_count": 13,
   "metadata": {},
   "outputs": [],
   "source": [
    "pivot_dwd_pes10_df = dwd_pes10_df.pivot_table(\n",
    "    index=[\"valid_time\", \"reference_time\"],\n",
    "    columns=\"point\",\n",
    "    values=[\"Temperature\", \"CloudCover\", \"SolarDownwardRadiation\"]\n",
    ")\n",
    "pivot_dwd_pes10_df.columns = ['_Point'.join(map(str, col)).strip() for col in pivot_dwd_pes10_df.columns.values]\n",
    "pivot_dwd_pes10_df.reset_index(inplace=True)\n",
    "\n",
    "pivot_ncep_pes10_df = ncep_pes10_df.pivot_table(\n",
    "    index=[\"valid_time\", \"reference_time\"],\n",
    "    columns=\"point\",\n",
    "    values=[\"Temperature\", \"CloudCover\", \"SolarDownwardRadiation\"]\n",
    ")\n",
    "pivot_ncep_pes10_df.columns = ['_Point'.join(map(str, col)).strip() for col in pivot_ncep_pes10_df.columns.values]\n",
    "pivot_ncep_pes10_df.reset_index(inplace=True)\n"
   ]
  },
  {
   "cell_type": "code",
   "execution_count": 14,
   "metadata": {},
   "outputs": [],
   "source": [
    "pivot_dwd_pes10_df[\"reference_time\"] = pd.to_datetime(pivot_dwd_pes10_df[\"reference_time\"], format=\"%Y-%m-%d %H:%M:%S\")\n",
    "pivot_dwd_pes10_df[\"valid_time\"] = pd.to_datetime(pivot_dwd_pes10_df[\"valid_time\"], format=\"%Y-%m-%d %H:%M:%S\")\n",
    "\n",
    "pivot_ncep_pes10_df[\"reference_time\"] = pd.to_datetime(pivot_ncep_pes10_df[\"reference_time\"], format=\"%Y-%m-%d %H:%M:%S\")\n",
    "pivot_ncep_pes10_df[\"valid_time\"] = pd.to_datetime(pivot_ncep_pes10_df[\"valid_time\"], format=\"%Y-%m-%d %H:%M:%S\")"
   ]
  },
  {
   "cell_type": "code",
   "execution_count": 21,
   "metadata": {},
   "outputs": [],
   "source": [
    "merged_pes10_df = pivot_dwd_pes10_df.merge(pivot_ncep_pes10_df, on=[\"reference_time\", \"valid_time\"], suffixes=(\"_dwd\", \"_ncep\"), how= \"outer\")"
   ]
  },
  {
   "cell_type": "markdown",
   "metadata": {},
   "source": [
    "### Pes10: Merge with Energy data"
   ]
  },
  {
   "cell_type": "code",
   "execution_count": 22,
   "metadata": {},
   "outputs": [],
   "source": [
    "merged_pes10_df = merged_pes10_df.set_index(\"valid_time\").groupby(\"reference_time\").resample(\"30min\").interpolate(\"linear\")\n",
    "merged_pes10_df = merged_pes10_df.drop(columns=[\"reference_time\"], axis= 1).reset_index()\n",
    "merged_pes10_df[\"valid_time\"] = pd.to_datetime(merged_pes10_df[\"valid_time\"], format=\"%Y-%m-%d %H:%M:%S\", utc= True)"
   ]
  },
  {
   "cell_type": "code",
   "execution_count": 36,
   "metadata": {},
   "outputs": [],
   "source": [
    "solar = merged_pes10_df.merge(energy_data, how= \"inner\", left_on= \"valid_time\", right_on= \"dtm\")"
   ]
  },
  {
   "cell_type": "code",
   "execution_count": 37,
   "metadata": {},
   "outputs": [],
   "source": [
    "solar[\"reference_time\"] = pd.to_datetime(solar[\"reference_time\"], utc=True)\n",
    "solar[\"valid_time\"] = pd.to_datetime(solar[\"valid_time\"], utc=True)"
   ]
  },
  {
   "cell_type": "code",
   "execution_count": 39,
   "metadata": {},
   "outputs": [],
   "source": [
    "solar = solar.drop(columns= [\"dtm\", \"MIP\", \"Solar_MW\", \"SS_Price\", \"DA_Price\",\"Wind_MW\", \"Wind_MWh_credit\", \"boa_MWh\", \"date_diff\"], axis= 1)"
   ]
  },
  {
   "cell_type": "code",
   "execution_count": 41,
   "metadata": {},
   "outputs": [],
   "source": [
    "solar.to_csv(\"HEFTcom24/data/solar2.csv\")"
   ]
  }
 ],
 "metadata": {
  "kernelspec": {
   "display_name": "dp2venv",
   "language": "python",
   "name": "python3"
  },
  "language_info": {
   "codemirror_mode": {
    "name": "ipython",
    "version": 3
   },
   "file_extension": ".py",
   "mimetype": "text/x-python",
   "name": "python",
   "nbconvert_exporter": "python",
   "pygments_lexer": "ipython3",
   "version": "3.12.2"
  }
 },
 "nbformat": 4,
 "nbformat_minor": 2
}
