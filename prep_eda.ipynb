{
 "cells": [
  {
   "cell_type": "code",
   "execution_count": 1,
   "metadata": {},
   "outputs": [],
   "source": [
    "import pandas as pd \n",
    "import xarray as xr"
   ]
  },
  {
   "cell_type": "markdown",
   "metadata": {},
   "source": [
    "## Energy data"
   ]
  },
  {
   "cell_type": "code",
   "execution_count": 2,
   "metadata": {},
   "outputs": [],
   "source": [
    "energy_data_20200920_20240118 = pd.read_csv(\"HEFTcom24/data/energy_data/Energy_Data_20200920_20240118.csv\")\n",
    "energy_data_20240119_20240519 = pd.read_csv(\"HEFTcom24/data/energy_data/energy_data_20240119_20240519.csv\")"
   ]
  },
  {
   "cell_type": "code",
   "execution_count": 3,
   "metadata": {},
   "outputs": [],
   "source": [
    "energy_data_old = energy_data_20200920_20240118.copy()\n",
    "energy_data_new = energy_data_20240119_20240519.copy()\n",
    "\n",
    "energy_data_old[\"dtm\"] = pd.to_datetime(energy_data_old[\"dtm\"])\n",
    "energy_data_old[\"Wind_MWh_credit\"] = 0.5 * energy_data_old[\"Wind_MW\"] - energy_data_old[\"boa_MWh\"]\n",
    "energy_data_old[\"Solar_MWh_credit\"] = 0.5 * energy_data_old[\"Solar_MW\"]\n",
    "\n",
    "energy_data_new[\"dtm\"] = pd.to_datetime(energy_data_new[\"dtm\"])\n",
    "energy_data_new[\"Wind_MWh_credit\"] = 0.5 * energy_data_new[\"Wind_MW\"] - energy_data_new[\"boa_MWh\"]\n",
    "energy_data_new[\"Solar_MWh_credit\"] = 0.5 * energy_data_new[\"Solar_MW\"]\n",
    "\n",
    "energy_data_merged = pd.concat([energy_data_old, energy_data_new], ignore_index=True)"
   ]
  },
  {
   "cell_type": "code",
   "execution_count": 4,
   "metadata": {},
   "outputs": [],
   "source": [
    "energy_data = energy_data_merged.copy()"
   ]
  },
  {
   "cell_type": "code",
   "execution_count": 5,
   "metadata": {},
   "outputs": [
    {
     "data": {
      "text/html": [
       "<div>\n",
       "<style scoped>\n",
       "    .dataframe tbody tr th:only-of-type {\n",
       "        vertical-align: middle;\n",
       "    }\n",
       "\n",
       "    .dataframe tbody tr th {\n",
       "        vertical-align: top;\n",
       "    }\n",
       "\n",
       "    .dataframe thead th {\n",
       "        text-align: right;\n",
       "    }\n",
       "</style>\n",
       "<table border=\"1\" class=\"dataframe\">\n",
       "  <thead>\n",
       "    <tr style=\"text-align: right;\">\n",
       "      <th></th>\n",
       "      <th>dtm</th>\n",
       "      <th>MIP</th>\n",
       "      <th>Solar_MW</th>\n",
       "      <th>Solar_capacity_mwp</th>\n",
       "      <th>Solar_installedcapacity_mwp</th>\n",
       "      <th>Wind_MW</th>\n",
       "      <th>SS_Price</th>\n",
       "      <th>boa_MWh</th>\n",
       "      <th>DA_Price</th>\n",
       "      <th>Wind_MWh_credit</th>\n",
       "      <th>Solar_MWh_credit</th>\n",
       "    </tr>\n",
       "  </thead>\n",
       "  <tbody>\n",
       "    <tr>\n",
       "      <th>0</th>\n",
       "      <td>2020-09-20 00:00:00+00:00</td>\n",
       "      <td>20.06</td>\n",
       "      <td>0.0</td>\n",
       "      <td>2130.537493</td>\n",
       "      <td>2228.208777</td>\n",
       "      <td>996.284</td>\n",
       "      <td>2.50</td>\n",
       "      <td>0.0</td>\n",
       "      <td>32.17</td>\n",
       "      <td>498.142</td>\n",
       "      <td>0.0</td>\n",
       "    </tr>\n",
       "    <tr>\n",
       "      <th>1</th>\n",
       "      <td>2020-09-20 00:30:00+00:00</td>\n",
       "      <td>19.77</td>\n",
       "      <td>0.0</td>\n",
       "      <td>2130.537493</td>\n",
       "      <td>2228.208777</td>\n",
       "      <td>957.576</td>\n",
       "      <td>15.00</td>\n",
       "      <td>0.0</td>\n",
       "      <td>32.17</td>\n",
       "      <td>478.788</td>\n",
       "      <td>0.0</td>\n",
       "    </tr>\n",
       "    <tr>\n",
       "      <th>2</th>\n",
       "      <td>2020-09-20 01:00:00+00:00</td>\n",
       "      <td>28.68</td>\n",
       "      <td>0.0</td>\n",
       "      <td>2130.537493</td>\n",
       "      <td>2228.208777</td>\n",
       "      <td>941.044</td>\n",
       "      <td>47.95</td>\n",
       "      <td>0.0</td>\n",
       "      <td>32.00</td>\n",
       "      <td>470.522</td>\n",
       "      <td>0.0</td>\n",
       "    </tr>\n",
       "    <tr>\n",
       "      <th>3</th>\n",
       "      <td>2020-09-20 01:30:00+00:00</td>\n",
       "      <td>28.97</td>\n",
       "      <td>0.0</td>\n",
       "      <td>2130.537493</td>\n",
       "      <td>2228.208777</td>\n",
       "      <td>964.366</td>\n",
       "      <td>29.13</td>\n",
       "      <td>0.0</td>\n",
       "      <td>32.00</td>\n",
       "      <td>482.183</td>\n",
       "      <td>0.0</td>\n",
       "    </tr>\n",
       "    <tr>\n",
       "      <th>4</th>\n",
       "      <td>2020-09-20 02:00:00+00:00</td>\n",
       "      <td>28.19</td>\n",
       "      <td>0.0</td>\n",
       "      <td>2130.537493</td>\n",
       "      <td>2228.208777</td>\n",
       "      <td>918.432</td>\n",
       "      <td>28.95</td>\n",
       "      <td>0.0</td>\n",
       "      <td>31.99</td>\n",
       "      <td>459.216</td>\n",
       "      <td>0.0</td>\n",
       "    </tr>\n",
       "  </tbody>\n",
       "</table>\n",
       "</div>"
      ],
      "text/plain": [
       "                        dtm    MIP  Solar_MW  Solar_capacity_mwp  \\\n",
       "0 2020-09-20 00:00:00+00:00  20.06       0.0         2130.537493   \n",
       "1 2020-09-20 00:30:00+00:00  19.77       0.0         2130.537493   \n",
       "2 2020-09-20 01:00:00+00:00  28.68       0.0         2130.537493   \n",
       "3 2020-09-20 01:30:00+00:00  28.97       0.0         2130.537493   \n",
       "4 2020-09-20 02:00:00+00:00  28.19       0.0         2130.537493   \n",
       "\n",
       "   Solar_installedcapacity_mwp  Wind_MW  SS_Price  boa_MWh  DA_Price  \\\n",
       "0                  2228.208777  996.284      2.50      0.0     32.17   \n",
       "1                  2228.208777  957.576     15.00      0.0     32.17   \n",
       "2                  2228.208777  941.044     47.95      0.0     32.00   \n",
       "3                  2228.208777  964.366     29.13      0.0     32.00   \n",
       "4                  2228.208777  918.432     28.95      0.0     31.99   \n",
       "\n",
       "   Wind_MWh_credit  Solar_MWh_credit  \n",
       "0          498.142               0.0  \n",
       "1          478.788               0.0  \n",
       "2          470.522               0.0  \n",
       "3          482.183               0.0  \n",
       "4          459.216               0.0  "
      ]
     },
     "execution_count": 5,
     "metadata": {},
     "output_type": "execute_result"
    }
   ],
   "source": [
    "energy_data.head()"
   ]
  },
  {
   "cell_type": "code",
   "execution_count": 6,
   "metadata": {},
   "outputs": [
    {
     "name": "stdout",
     "output_type": "stream",
     "text": [
      "425\n",
      "75\n",
      "103\n",
      "103\n",
      "103\n",
      "75\n",
      "0\n",
      "0\n",
      "0\n",
      "0\n"
     ]
    }
   ],
   "source": [
    "print(energy_data[\"MIP\"].isna().sum())\n",
    "print(energy_data[\"Solar_MW\"].isna().sum())\n",
    "print(energy_data[\"Wind_MW\"].isna().sum())\n",
    "print(energy_data[\"boa_MWh\"].isna().sum())\n",
    "print(energy_data[\"Wind_MWh_credit\"].isna().sum())\n",
    "print(energy_data[\"Solar_MWh_credit\"].isna().sum())\n",
    "print(energy_data[\"Solar_capacity_mwp\"].isna().sum())\n",
    "print(energy_data[\"Solar_installedcapacity_mwp\"].isna().sum())\n",
    "print(energy_data[\"SS_Price\"].isna().sum())\n",
    "print(energy_data[\"DA_Price\"].isna().sum())"
   ]
  },
  {
   "cell_type": "code",
   "execution_count": 7,
   "metadata": {},
   "outputs": [],
   "source": [
    "energy_data = energy_data.dropna(subset= [\"MIP\", \"Solar_MW\", \"Wind_MW\", \"boa_MWh\", \"Wind_MWh_credit\", \"Solar_MWh_credit\", \"Solar_capacity_mwp\", \"Solar_installedcapacity_mwp\", \"SS_Price\", \"DA_Price\"])"
   ]
  },
  {
   "cell_type": "markdown",
   "metadata": {},
   "source": [
    "## Weather forecasts"
   ]
  },
  {
   "cell_type": "code",
   "execution_count": 8,
   "metadata": {},
   "outputs": [],
   "source": [
    "import os\n",
    "import pandas as pd\n",
    "import xarray as xr\n",
    "\n",
    "def process_and_concat_files(directory):\n",
    "    dfs = []\n",
    "\n",
    "    for file in os.listdir(directory):\n",
    "        if file.endswith(\".nc\"):\n",
    "            file_path = os.path.join(directory, file)\n",
    "            ds = xr.open_dataset(file_path)\n",
    "            df = ds.to_dataframe().reset_index()\n",
    "            \n",
    "            if \"ref_datetime\" in df.columns and \"valid_datetime\" in df.columns:\n",
    "                df.rename(columns={\"ref_datetime\": \"reference_time\", \"valid_datetime\": \"valid_time\"}, inplace=True)\n",
    "            elif \"reference_time\" not in df.columns or \"valid_time\" not in df.columns:\n",
    "                raise ValueError(\"Neither 'ref_datetime' and 'valid_datetime' nor 'reference_time' and 'valid_time' found in the dataset.\")\n",
    "            \n",
    "            df[\"reference_time\"] = df[\"reference_time\"].dt.tz_localize(\"UTC\")\n",
    "            df[\"valid_time\"] = df[\"reference_time\"] + pd.to_timedelta(df[\"valid_time\"], unit=\"hours\")\n",
    "            df[\"reference_time\"] = df[\"reference_time\"].dt.strftime(\"%Y-%m-%d %H:%M:%S\")\n",
    "            df[\"valid_time\"] = df[\"valid_time\"].dt.strftime(\"%Y-%m-%d %H:%M:%S\")\n",
    "            dfs.append(df)\n",
    "    \n",
    "    concatenated_df = pd.concat(dfs, ignore_index=True)\n",
    "    concatenated_df[\"reference_time\"] = pd.to_datetime(concatenated_df[\"reference_time\"])\n",
    "    concatenated_df[\"valid_time\"] = pd.to_datetime(concatenated_df[\"valid_time\"])\n",
    "    concatenated_df[\"reference_time\"] = concatenated_df[\"reference_time\"].dt.strftime(\"%Y-%m-%d %H:%M:%S\")\n",
    "    concatenated_df[\"valid_time\"] = concatenated_df[\"valid_time\"].dt.strftime(\"%Y-%m-%d %H:%M:%S\")\n",
    "    \n",
    "    return concatenated_df"
   ]
  },
  {
   "cell_type": "code",
   "execution_count": 49,
   "metadata": {},
   "outputs": [],
   "source": [
    "base_dir = \"HEFTcom24/data\"\n",
    "\n",
    "# dwd_demand_df = process_and_concat_files(os.path.join(base_dir, \"dwd_demand\"))\n",
    "# dwd_pes10_df = process_and_concat_files(os.path.join(base_dir, \"dwd_pes10\"))\n",
    "dwd_hornsea_1_df = process_and_concat_files(os.path.join(base_dir, \"dwd_hornsea_1\"))\n",
    "\n",
    "# ncep_demand_df = process_and_concat_files(os.path.join(base_dir, \"ncep_demand\"))\n",
    "# ncep_pes10_df = process_and_concat_files(os.path.join(base_dir, \"ncep_pes10\"))\n",
    "ncep_hornsea_1_df = process_and_concat_files(os.path.join(base_dir, \"ncep_hornsea_1\"))"
   ]
  },
  {
   "cell_type": "markdown",
   "metadata": {},
   "source": [
    "## HORNSEA_1"
   ]
  },
  {
   "cell_type": "code",
   "execution_count": 50,
   "metadata": {},
   "outputs": [
    {
     "data": {
      "text/html": [
       "<div>\n",
       "<style scoped>\n",
       "    .dataframe tbody tr th:only-of-type {\n",
       "        vertical-align: middle;\n",
       "    }\n",
       "\n",
       "    .dataframe tbody tr th {\n",
       "        vertical-align: top;\n",
       "    }\n",
       "\n",
       "    .dataframe thead th {\n",
       "        text-align: right;\n",
       "    }\n",
       "</style>\n",
       "<table border=\"1\" class=\"dataframe\">\n",
       "  <thead>\n",
       "    <tr style=\"text-align: right;\">\n",
       "      <th></th>\n",
       "      <th>reference_time</th>\n",
       "      <th>valid_time</th>\n",
       "      <th>latitude</th>\n",
       "      <th>longitude</th>\n",
       "      <th>RelativeHumidity</th>\n",
       "      <th>Temperature</th>\n",
       "      <th>WindDirection</th>\n",
       "      <th>WindDirection:100</th>\n",
       "      <th>WindSpeed</th>\n",
       "      <th>WindSpeed:100</th>\n",
       "    </tr>\n",
       "  </thead>\n",
       "  <tbody>\n",
       "    <tr>\n",
       "      <th>0</th>\n",
       "      <td>2024-01-08 00:00:00</td>\n",
       "      <td>2024-01-08 00:00:00</td>\n",
       "      <td>53.77</td>\n",
       "      <td>1.702</td>\n",
       "      <td>59.105434</td>\n",
       "      <td>4.916626</td>\n",
       "      <td>54.525970</td>\n",
       "      <td>54.250305</td>\n",
       "      <td>6.547671</td>\n",
       "      <td>6.854635</td>\n",
       "    </tr>\n",
       "    <tr>\n",
       "      <th>1</th>\n",
       "      <td>2024-01-08 00:00:00</td>\n",
       "      <td>2024-01-08 00:00:00</td>\n",
       "      <td>53.77</td>\n",
       "      <td>1.767</td>\n",
       "      <td>58.628872</td>\n",
       "      <td>4.860962</td>\n",
       "      <td>54.288940</td>\n",
       "      <td>54.106964</td>\n",
       "      <td>6.524992</td>\n",
       "      <td>6.817597</td>\n",
       "    </tr>\n",
       "    <tr>\n",
       "      <th>2</th>\n",
       "      <td>2024-01-08 00:00:00</td>\n",
       "      <td>2024-01-08 00:00:00</td>\n",
       "      <td>53.77</td>\n",
       "      <td>1.832</td>\n",
       "      <td>58.365200</td>\n",
       "      <td>4.823853</td>\n",
       "      <td>53.520721</td>\n",
       "      <td>53.448120</td>\n",
       "      <td>6.493145</td>\n",
       "      <td>6.795032</td>\n",
       "    </tr>\n",
       "    <tr>\n",
       "      <th>3</th>\n",
       "      <td>2024-01-08 00:00:00</td>\n",
       "      <td>2024-01-08 00:00:00</td>\n",
       "      <td>53.77</td>\n",
       "      <td>1.897</td>\n",
       "      <td>58.441372</td>\n",
       "      <td>4.814087</td>\n",
       "      <td>52.447235</td>\n",
       "      <td>52.500397</td>\n",
       "      <td>6.495604</td>\n",
       "      <td>6.822487</td>\n",
       "    </tr>\n",
       "    <tr>\n",
       "      <th>4</th>\n",
       "      <td>2024-01-08 00:00:00</td>\n",
       "      <td>2024-01-08 00:00:00</td>\n",
       "      <td>53.77</td>\n",
       "      <td>1.962</td>\n",
       "      <td>58.501919</td>\n",
       "      <td>4.804321</td>\n",
       "      <td>51.579865</td>\n",
       "      <td>51.684021</td>\n",
       "      <td>6.521748</td>\n",
       "      <td>6.856290</td>\n",
       "    </tr>\n",
       "  </tbody>\n",
       "</table>\n",
       "</div>"
      ],
      "text/plain": [
       "        reference_time           valid_time  latitude  longitude  \\\n",
       "0  2024-01-08 00:00:00  2024-01-08 00:00:00     53.77      1.702   \n",
       "1  2024-01-08 00:00:00  2024-01-08 00:00:00     53.77      1.767   \n",
       "2  2024-01-08 00:00:00  2024-01-08 00:00:00     53.77      1.832   \n",
       "3  2024-01-08 00:00:00  2024-01-08 00:00:00     53.77      1.897   \n",
       "4  2024-01-08 00:00:00  2024-01-08 00:00:00     53.77      1.962   \n",
       "\n",
       "   RelativeHumidity  Temperature  WindDirection  WindDirection:100  WindSpeed  \\\n",
       "0         59.105434     4.916626      54.525970          54.250305   6.547671   \n",
       "1         58.628872     4.860962      54.288940          54.106964   6.524992   \n",
       "2         58.365200     4.823853      53.520721          53.448120   6.493145   \n",
       "3         58.441372     4.814087      52.447235          52.500397   6.495604   \n",
       "4         58.501919     4.804321      51.579865          51.684021   6.521748   \n",
       "\n",
       "   WindSpeed:100  \n",
       "0       6.854635  \n",
       "1       6.817597  \n",
       "2       6.795032  \n",
       "3       6.822487  \n",
       "4       6.856290  "
      ]
     },
     "execution_count": 50,
     "metadata": {},
     "output_type": "execute_result"
    }
   ],
   "source": [
    "dwd_hornsea_1_df.head()"
   ]
  },
  {
   "cell_type": "code",
   "execution_count": 51,
   "metadata": {},
   "outputs": [
    {
     "name": "stdout",
     "output_type": "stream",
     "text": [
      "13356\n",
      "13392\n",
      "13356\n",
      "12204\n",
      "13356\n",
      "12204\n",
      "3456\n",
      "3627\n",
      "5733\n",
      "5733\n",
      "5733\n",
      "5733\n"
     ]
    }
   ],
   "source": [
    "print(dwd_hornsea_1_df[\"RelativeHumidity\"].isna().sum())\n",
    "print(dwd_hornsea_1_df[\"Temperature\"].isna().sum())\n",
    "print(dwd_hornsea_1_df[\"WindDirection\"].isna().sum())\n",
    "print(dwd_hornsea_1_df[\"WindDirection:100\"].isna().sum())\n",
    "print(dwd_hornsea_1_df[\"WindSpeed\"].isna().sum())\n",
    "print(dwd_hornsea_1_df[\"WindSpeed:100\"].isna().sum())\n",
    "\n",
    "print(ncep_hornsea_1_df[\"RelativeHumidity\"].isna().sum())\n",
    "print(ncep_hornsea_1_df[\"Temperature\"].isna().sum())\n",
    "print(ncep_hornsea_1_df[\"WindDirection\"].isna().sum())\n",
    "print(ncep_hornsea_1_df[\"WindDirection:100\"].isna().sum())\n",
    "print(ncep_hornsea_1_df[\"WindSpeed\"].isna().sum())\n",
    "print(ncep_hornsea_1_df[\"WindSpeed:100\"].isna().sum())"
   ]
  },
  {
   "cell_type": "code",
   "execution_count": 52,
   "metadata": {},
   "outputs": [],
   "source": [
    "dwd_hornsea_1_df.dropna(subset=[\"RelativeHumidity\", \"Temperature\", \"WindDirection\", \"WindDirection:100\", \"WindSpeed\", \"WindSpeed:100\"], inplace=True)\n",
    "ncep_hornsea_1_df.dropna(subset=[\"RelativeHumidity\", \"Temperature\", \"WindDirection\", \"WindDirection:100\", \"WindSpeed\", \"WindSpeed:100\"], inplace=True)"
   ]
  },
  {
   "cell_type": "code",
   "execution_count": 53,
   "metadata": {},
   "outputs": [],
   "source": [
    "import numpy as np\n",
    "\n",
    "dwd_hornsea_1_df[\"WindSpeed^3\"] = dwd_hornsea_1_df[\"WindSpeed\"] ** 3\n",
    "dwd_hornsea_1_df[\"WindSpeed:100^3\"] = dwd_hornsea_1_df[\"WindSpeed:100\"] ** 3\n",
    "\n",
    "ncep_hornsea_1_df[\"WindSpeed^3\"] = ncep_hornsea_1_df[\"WindSpeed\"] ** 3\n",
    "ncep_hornsea_1_df[\"WindSpeed:100^3\"] = ncep_hornsea_1_df[\"WindSpeed:100\"] ** 3\n",
    "\n",
    "dwd_h1df_mean = dwd_hornsea_1_df.groupby([\"reference_time\", \"valid_time\"])[[\"RelativeHumidity\", \"Temperature\", \"WindDirection\", \"WindDirection:100\", \"WindSpeed^3\", \"WindSpeed:100^3\"]].mean().reset_index()\n",
    "ncep_h1df_mean = ncep_hornsea_1_df.groupby([\"reference_time\", \"valid_time\"])[[\"RelativeHumidity\", \"Temperature\", \"WindDirection\", \"WindDirection:100\", \"WindSpeed^3\", \"WindSpeed:100^3\"]].mean().reset_index()\n",
    "\n",
    "dwd_h1df_mean[\"WindSpeed\"] = np.cbrt(dwd_h1df_mean[\"WindSpeed^3\"])\n",
    "dwd_h1df_mean[\"WindSpeed:100\"] = np.cbrt(dwd_h1df_mean[\"WindSpeed:100^3\"])\n",
    "\n",
    "ncep_h1df_mean[\"WindSpeed\"] = np.cbrt(ncep_h1df_mean[\"WindSpeed^3\"])\n",
    "ncep_h1df_mean[\"WindSpeed:100\"] = np.cbrt(ncep_h1df_mean[\"WindSpeed:100^3\"])\n",
    "\n",
    "dwd_h1df_mean = dwd_h1df_mean.drop(columns=[\"WindSpeed^3\", \"WindSpeed:100^3\"])\n",
    "ncep_h1df_mean = ncep_h1df_mean.drop(columns=[\"WindSpeed^3\", \"WindSpeed:100^3\"])"
   ]
  },
  {
   "cell_type": "code",
   "execution_count": 54,
   "metadata": {},
   "outputs": [],
   "source": [
    "merged_h1_df = dwd_h1df_mean.merge(ncep_h1df_mean, on=[\"reference_time\", \"valid_time\"], suffixes=(\"_dwd\", \"_ncep\"), how= \"outer\")\n",
    "merged_h1_df[\"reference_time\"] = pd.to_datetime(merged_h1_df[\"reference_time\"], format=\"%Y-%m-%d %H:%M:%S\")\n",
    "merged_h1_df[\"valid_time\"] = pd.to_datetime(merged_h1_df[\"valid_time\"], format=\"%Y-%m-%d %H:%M:%S\")"
   ]
  },
  {
   "cell_type": "code",
   "execution_count": 56,
   "metadata": {},
   "outputs": [],
   "source": [
    "merged_h1_df = merged_h1_df.set_index(\"valid_time\").groupby(\"reference_time\").resample(\"30min\").interpolate(\"linear\")"
   ]
  },
  {
   "cell_type": "code",
   "execution_count": 57,
   "metadata": {},
   "outputs": [],
   "source": [
    "merged_h1_df = merged_h1_df.drop(columns=[\"reference_time\"], axis= 1).reset_index()"
   ]
  },
  {
   "cell_type": "code",
   "execution_count": 58,
   "metadata": {},
   "outputs": [],
   "source": [
    "merged_h1_df[\"valid_time\"] = pd.to_datetime(merged_h1_df[\"valid_time\"], format=\"%Y-%m-%d %H:%M:%S\", utc= True)"
   ]
  },
  {
   "cell_type": "code",
   "execution_count": 59,
   "metadata": {},
   "outputs": [],
   "source": [
    "merged_h1_energy_data = merged_h1_df.merge(energy_data, how= \"inner\", left_on= \"valid_time\", right_on= \"dtm\")"
   ]
  },
  {
   "cell_type": "code",
   "execution_count": 60,
   "metadata": {},
   "outputs": [],
   "source": [
    "merged_h1_energy_data = merged_h1_energy_data.sort_values(by= \"valid_time\")\n",
    "merged_h1_energy_data = merged_h1_energy_data.groupby(\"valid_time\").tail(1).reset_index()\n",
    "merged_h1_energy_data[\"valid_time\"] = pd.to_datetime(merged_h1_energy_data[\"valid_time\"], format=\"%Y-%m-%d %H:%M:%S\", utc= True)"
   ]
  },
  {
   "cell_type": "code",
   "execution_count": 63,
   "metadata": {},
   "outputs": [],
   "source": [
    "merged_h1_energy_data = merged_h1_energy_data.drop(columns=[\"index\", \"Solar_MW\", \"Solar_MWh_credit\", \"Solar_capacity_mwp\", \"Solar_installedcapacity_mwp\"], axis= 1)"
   ]
  },
  {
   "cell_type": "code",
   "execution_count": 64,
   "metadata": {},
   "outputs": [],
   "source": [
    "merged_h1_energy_data.to_csv(\"HEFTcom24/data/wind1.csv\", index= False)"
   ]
  },
  {
   "cell_type": "markdown",
   "metadata": {},
   "source": [
    "## PES10"
   ]
  },
  {
   "cell_type": "code",
   "execution_count": 55,
   "metadata": {},
   "outputs": [],
   "source": [
    "test1 = dwd_pes10_df.drop_duplicates(subset=[\"longitude\", \"latitude\"])[[\"longitude\", \"latitude\"]]\n",
    "test1.to_clipboard(index=False)"
   ]
  },
  {
   "cell_type": "code",
   "execution_count": 29,
   "metadata": {},
   "outputs": [
    {
     "data": {
      "text/html": [
       "<div>\n",
       "<style scoped>\n",
       "    .dataframe tbody tr th:only-of-type {\n",
       "        vertical-align: middle;\n",
       "    }\n",
       "\n",
       "    .dataframe tbody tr th {\n",
       "        vertical-align: top;\n",
       "    }\n",
       "\n",
       "    .dataframe thead th {\n",
       "        text-align: right;\n",
       "    }\n",
       "</style>\n",
       "<table border=\"1\" class=\"dataframe\">\n",
       "  <thead>\n",
       "    <tr style=\"text-align: right;\">\n",
       "      <th></th>\n",
       "      <th>reference_time</th>\n",
       "      <th>valid_time</th>\n",
       "      <th>point</th>\n",
       "      <th>CloudCover</th>\n",
       "      <th>SolarDownwardRadiation</th>\n",
       "      <th>Temperature</th>\n",
       "      <th>latitude</th>\n",
       "      <th>longitude</th>\n",
       "    </tr>\n",
       "  </thead>\n",
       "  <tbody>\n",
       "    <tr>\n",
       "      <th>0</th>\n",
       "      <td>2024-01-08 00:00:00</td>\n",
       "      <td>2024-01-08 00:00:00</td>\n",
       "      <td>0</td>\n",
       "      <td>0.409668</td>\n",
       "      <td>0.0</td>\n",
       "      <td>0.316040</td>\n",
       "      <td>52.487256</td>\n",
       "      <td>0.401245</td>\n",
       "    </tr>\n",
       "    <tr>\n",
       "      <th>1</th>\n",
       "      <td>2024-01-08 00:00:00</td>\n",
       "      <td>2024-01-08 00:00:00</td>\n",
       "      <td>1</td>\n",
       "      <td>0.508945</td>\n",
       "      <td>0.0</td>\n",
       "      <td>1.136353</td>\n",
       "      <td>52.877668</td>\n",
       "      <td>0.790653</td>\n",
       "    </tr>\n",
       "    <tr>\n",
       "      <th>2</th>\n",
       "      <td>2024-01-08 00:00:00</td>\n",
       "      <td>2024-01-08 00:00:00</td>\n",
       "      <td>2</td>\n",
       "      <td>0.546328</td>\n",
       "      <td>0.0</td>\n",
       "      <td>0.637329</td>\n",
       "      <td>52.135428</td>\n",
       "      <td>-0.264034</td>\n",
       "    </tr>\n",
       "    <tr>\n",
       "      <th>3</th>\n",
       "      <td>2024-01-08 00:00:00</td>\n",
       "      <td>2024-01-08 00:00:00</td>\n",
       "      <td>3</td>\n",
       "      <td>0.302520</td>\n",
       "      <td>0.0</td>\n",
       "      <td>0.057251</td>\n",
       "      <td>52.488050</td>\n",
       "      <td>-0.126705</td>\n",
       "    </tr>\n",
       "    <tr>\n",
       "      <th>4</th>\n",
       "      <td>2024-01-08 00:00:00</td>\n",
       "      <td>2024-01-08 00:00:00</td>\n",
       "      <td>4</td>\n",
       "      <td>0.621309</td>\n",
       "      <td>0.0</td>\n",
       "      <td>1.159790</td>\n",
       "      <td>51.956370</td>\n",
       "      <td>0.658817</td>\n",
       "    </tr>\n",
       "  </tbody>\n",
       "</table>\n",
       "</div>"
      ],
      "text/plain": [
       "        reference_time           valid_time  point  CloudCover  \\\n",
       "0  2024-01-08 00:00:00  2024-01-08 00:00:00      0    0.409668   \n",
       "1  2024-01-08 00:00:00  2024-01-08 00:00:00      1    0.508945   \n",
       "2  2024-01-08 00:00:00  2024-01-08 00:00:00      2    0.546328   \n",
       "3  2024-01-08 00:00:00  2024-01-08 00:00:00      3    0.302520   \n",
       "4  2024-01-08 00:00:00  2024-01-08 00:00:00      4    0.621309   \n",
       "\n",
       "   SolarDownwardRadiation  Temperature   latitude  longitude  \n",
       "0                     0.0     0.316040  52.487256   0.401245  \n",
       "1                     0.0     1.136353  52.877668   0.790653  \n",
       "2                     0.0     0.637329  52.135428  -0.264034  \n",
       "3                     0.0     0.057251  52.488050  -0.126705  \n",
       "4                     0.0     1.159790  51.956370   0.658817  "
      ]
     },
     "execution_count": 29,
     "metadata": {},
     "output_type": "execute_result"
    }
   ],
   "source": [
    "dwd_pes10_df.head()"
   ]
  },
  {
   "cell_type": "code",
   "execution_count": 30,
   "metadata": {},
   "outputs": [
    {
     "name": "stdout",
     "output_type": "stream",
     "text": [
      "126920\n",
      "7440\n",
      "7440\n",
      "104180\n",
      "10173\n",
      "15313\n"
     ]
    }
   ],
   "source": [
    "print(dwd_pes10_df[\"SolarDownwardRadiation\"].isna().sum())\n",
    "print(dwd_pes10_df[\"Temperature\"].isna().sum())\n",
    "print(dwd_pes10_df[\"CloudCover\"].isna().sum())\n",
    "\n",
    "print(ncep_pes10_df[\"SolarDownwardRadiation\"].isna().sum())\n",
    "print(ncep_pes10_df[\"Temperature\"].isna().sum())\n",
    "print(ncep_pes10_df[\"CloudCover\"].isna().sum())"
   ]
  },
  {
   "cell_type": "code",
   "execution_count": 4,
   "metadata": {},
   "outputs": [],
   "source": [
    "dwd_pes10_df = dwd_pes10_df.dropna(subset= [\"Temperature\", \"SolarDownwardRadiation\", \"CloudCover\"])\n",
    "ncep_pes10_df = ncep_pes10_df.dropna(subset= [\"Temperature\", \"SolarDownwardRadiation\", \"CloudCover\"])"
   ]
  },
  {
   "cell_type": "code",
   "execution_count": 5,
   "metadata": {},
   "outputs": [],
   "source": [
    "pivot_dwd_pes10_df = dwd_pes10_df.pivot_table(\n",
    "    index=[\"valid_time\", \"reference_time\"],\n",
    "    columns=\"point\",\n",
    "    values=[\"Temperature\", \"CloudCover\", \"SolarDownwardRadiation\"]\n",
    ")\n",
    "pivot_dwd_pes10_df.columns = ['_Point'.join(map(str, col)).strip() for col in pivot_dwd_pes10_df.columns.values]\n",
    "pivot_dwd_pes10_df.reset_index(inplace=True)\n",
    "\n",
    "pivot_ncep_pes10_df = ncep_pes10_df.pivot_table(\n",
    "    index=[\"valid_time\", \"reference_time\"],\n",
    "    columns=\"point\",\n",
    "    values=[\"Temperature\", \"CloudCover\", \"SolarDownwardRadiation\"]\n",
    ")\n",
    "pivot_ncep_pes10_df.columns = ['_Point'.join(map(str, col)).strip() for col in pivot_ncep_pes10_df.columns.values]\n",
    "pivot_ncep_pes10_df.reset_index(inplace=True)\n"
   ]
  },
  {
   "cell_type": "code",
   "execution_count": 6,
   "metadata": {},
   "outputs": [],
   "source": [
    "# pivot_dwd_pes10_df[\"Mean_CloudCover\"] = pivot_dwd_pes10_df.filter(like=\"CloudCover\").mean(axis=1)\n",
    "# pivot_dwd_pes10_df[\"Mean_Temperature\"] = pivot_dwd_pes10_df.filter(like=\"Temperature\").mean(axis=1)\n",
    "# pivot_dwd_pes10_df[\"Mean_SolarDownwardRadiation\"] = pivot_dwd_pes10_df.filter(like=\"SolarDownwardRadiation\").mean(axis=1)\n",
    "\n",
    "# pivot_dwd_pes10_df[\"Std_CloudCover\"] = pivot_dwd_pes10_df.filter(like=\"CloudCover\").std(axis=1)\n",
    "# pivot_dwd_pes10_df[\"Std_Temperature\"] = pivot_dwd_pes10_df.filter(like=\"Temperature\").std(axis=1)\n",
    "# pivot_dwd_pes10_df[\"Std_SolarDownwardRadiation\"] = pivot_dwd_pes10_df.filter(like=\"SolarDownwardRadiation\").std(axis=1)\n",
    "\n",
    "pivot_dwd_pes10_df[\"reference_time\"] = pd.to_datetime(pivot_dwd_pes10_df[\"reference_time\"], format=\"%Y-%m-%d %H:%M:%S\")\n",
    "pivot_dwd_pes10_df[\"valid_time\"] = pd.to_datetime(pivot_dwd_pes10_df[\"valid_time\"], format=\"%Y-%m-%d %H:%M:%S\")\n",
    "\n",
    "\n",
    "# pivot_ncep_pes10_df[\"Mean_CloudCover\"] = pivot_ncep_pes10_df.filter(like=\"CloudCover\").mean(axis=1)\n",
    "# pivot_ncep_pes10_df[\"Mean_Temperature\"] = pivot_ncep_pes10_df.filter(like=\"Temperature\").mean(axis=1)\n",
    "# pivot_ncep_pes10_df[\"Mean_SolarDownwardRadiation\"] = pivot_ncep_pes10_df.filter(like=\"SolarDownwardRadiation\").mean(axis=1)\n",
    "\n",
    "# pivot_ncep_pes10_df[\"Std_CloudCover\"] = pivot_ncep_pes10_df.filter(like=\"CloudCover\").std(axis=1)\n",
    "# pivot_ncep_pes10_df[\"Std_Temperature\"] = pivot_ncep_pes10_df.filter(like=\"Temperature\").std(axis=1)\n",
    "# pivot_ncep_pes10_df[\"Std_SolarDownwardRadiation\"] = pivot_ncep_pes10_df.filter(like=\"SolarDownwardRadiation\").std(axis=1)\n",
    "\n",
    "pivot_ncep_pes10_df[\"reference_time\"] = pd.to_datetime(pivot_ncep_pes10_df[\"reference_time\"], format=\"%Y-%m-%d %H:%M:%S\")\n",
    "pivot_ncep_pes10_df[\"valid_time\"] = pd.to_datetime(pivot_ncep_pes10_df[\"valid_time\"], format=\"%Y-%m-%d %H:%M:%S\")"
   ]
  },
  {
   "cell_type": "code",
   "execution_count": 7,
   "metadata": {},
   "outputs": [],
   "source": [
    "merged_pes10_df = pivot_dwd_pes10_df.merge(pivot_ncep_pes10_df, on=[\"reference_time\", \"valid_time\"], suffixes=(\"_dwd\", \"_ncep\"), how= \"outer\")"
   ]
  },
  {
   "cell_type": "code",
   "execution_count": 9,
   "metadata": {},
   "outputs": [
    {
     "data": {
      "text/plain": [
       "array(['valid_time', 'reference_time', 'CloudCover_Point0_dwd',\n",
       "       'CloudCover_Point1_dwd', 'CloudCover_Point2_dwd',\n",
       "       'CloudCover_Point3_dwd', 'CloudCover_Point4_dwd',\n",
       "       'CloudCover_Point5_dwd', 'CloudCover_Point6_dwd',\n",
       "       'CloudCover_Point7_dwd', 'CloudCover_Point8_dwd',\n",
       "       'CloudCover_Point9_dwd', 'CloudCover_Point10_dwd',\n",
       "       'CloudCover_Point11_dwd', 'CloudCover_Point12_dwd',\n",
       "       'CloudCover_Point13_dwd', 'CloudCover_Point14_dwd',\n",
       "       'CloudCover_Point15_dwd', 'CloudCover_Point16_dwd',\n",
       "       'CloudCover_Point17_dwd', 'CloudCover_Point18_dwd',\n",
       "       'CloudCover_Point19_dwd', 'SolarDownwardRadiation_Point0_dwd',\n",
       "       'SolarDownwardRadiation_Point1_dwd',\n",
       "       'SolarDownwardRadiation_Point2_dwd',\n",
       "       'SolarDownwardRadiation_Point3_dwd',\n",
       "       'SolarDownwardRadiation_Point4_dwd',\n",
       "       'SolarDownwardRadiation_Point5_dwd',\n",
       "       'SolarDownwardRadiation_Point6_dwd',\n",
       "       'SolarDownwardRadiation_Point7_dwd',\n",
       "       'SolarDownwardRadiation_Point8_dwd',\n",
       "       'SolarDownwardRadiation_Point9_dwd',\n",
       "       'SolarDownwardRadiation_Point10_dwd',\n",
       "       'SolarDownwardRadiation_Point11_dwd',\n",
       "       'SolarDownwardRadiation_Point12_dwd',\n",
       "       'SolarDownwardRadiation_Point13_dwd',\n",
       "       'SolarDownwardRadiation_Point14_dwd',\n",
       "       'SolarDownwardRadiation_Point15_dwd',\n",
       "       'SolarDownwardRadiation_Point16_dwd',\n",
       "       'SolarDownwardRadiation_Point17_dwd',\n",
       "       'SolarDownwardRadiation_Point18_dwd',\n",
       "       'SolarDownwardRadiation_Point19_dwd', 'Temperature_Point0_dwd',\n",
       "       'Temperature_Point1_dwd', 'Temperature_Point2_dwd',\n",
       "       'Temperature_Point3_dwd', 'Temperature_Point4_dwd',\n",
       "       'Temperature_Point5_dwd', 'Temperature_Point6_dwd',\n",
       "       'Temperature_Point7_dwd', 'Temperature_Point8_dwd',\n",
       "       'Temperature_Point9_dwd', 'Temperature_Point10_dwd',\n",
       "       'Temperature_Point11_dwd', 'Temperature_Point12_dwd',\n",
       "       'Temperature_Point13_dwd', 'Temperature_Point14_dwd',\n",
       "       'Temperature_Point15_dwd', 'Temperature_Point16_dwd',\n",
       "       'Temperature_Point17_dwd', 'Temperature_Point18_dwd',\n",
       "       'Temperature_Point19_dwd', 'CloudCover_Point0_ncep',\n",
       "       'CloudCover_Point1_ncep', 'CloudCover_Point2_ncep',\n",
       "       'CloudCover_Point3_ncep', 'CloudCover_Point4_ncep',\n",
       "       'CloudCover_Point5_ncep', 'CloudCover_Point6_ncep',\n",
       "       'CloudCover_Point7_ncep', 'CloudCover_Point8_ncep',\n",
       "       'CloudCover_Point9_ncep', 'CloudCover_Point10_ncep',\n",
       "       'CloudCover_Point11_ncep', 'CloudCover_Point12_ncep',\n",
       "       'CloudCover_Point13_ncep', 'CloudCover_Point14_ncep',\n",
       "       'CloudCover_Point15_ncep', 'CloudCover_Point16_ncep',\n",
       "       'CloudCover_Point17_ncep', 'CloudCover_Point18_ncep',\n",
       "       'CloudCover_Point19_ncep', 'SolarDownwardRadiation_Point0_ncep',\n",
       "       'SolarDownwardRadiation_Point1_ncep',\n",
       "       'SolarDownwardRadiation_Point2_ncep',\n",
       "       'SolarDownwardRadiation_Point3_ncep',\n",
       "       'SolarDownwardRadiation_Point4_ncep',\n",
       "       'SolarDownwardRadiation_Point5_ncep',\n",
       "       'SolarDownwardRadiation_Point6_ncep',\n",
       "       'SolarDownwardRadiation_Point7_ncep',\n",
       "       'SolarDownwardRadiation_Point8_ncep',\n",
       "       'SolarDownwardRadiation_Point9_ncep',\n",
       "       'SolarDownwardRadiation_Point10_ncep',\n",
       "       'SolarDownwardRadiation_Point11_ncep',\n",
       "       'SolarDownwardRadiation_Point12_ncep',\n",
       "       'SolarDownwardRadiation_Point13_ncep',\n",
       "       'SolarDownwardRadiation_Point14_ncep',\n",
       "       'SolarDownwardRadiation_Point15_ncep',\n",
       "       'SolarDownwardRadiation_Point16_ncep',\n",
       "       'SolarDownwardRadiation_Point17_ncep',\n",
       "       'SolarDownwardRadiation_Point18_ncep',\n",
       "       'SolarDownwardRadiation_Point19_ncep', 'Temperature_Point0_ncep',\n",
       "       'Temperature_Point1_ncep', 'Temperature_Point2_ncep',\n",
       "       'Temperature_Point3_ncep', 'Temperature_Point4_ncep',\n",
       "       'Temperature_Point5_ncep', 'Temperature_Point6_ncep',\n",
       "       'Temperature_Point7_ncep', 'Temperature_Point8_ncep',\n",
       "       'Temperature_Point9_ncep', 'Temperature_Point10_ncep',\n",
       "       'Temperature_Point11_ncep', 'Temperature_Point12_ncep',\n",
       "       'Temperature_Point13_ncep', 'Temperature_Point14_ncep',\n",
       "       'Temperature_Point15_ncep', 'Temperature_Point16_ncep',\n",
       "       'Temperature_Point17_ncep', 'Temperature_Point18_ncep',\n",
       "       'Temperature_Point19_ncep'], dtype=object)"
      ]
     },
     "execution_count": 9,
     "metadata": {},
     "output_type": "execute_result"
    }
   ],
   "source": [
    "merged_pes10_df.columns.values"
   ]
  },
  {
   "cell_type": "markdown",
   "metadata": {},
   "source": [
    "## Demand"
   ]
  },
  {
   "cell_type": "code",
   "execution_count": 36,
   "metadata": {},
   "outputs": [
    {
     "data": {
      "text/html": [
       "<div>\n",
       "<style scoped>\n",
       "    .dataframe tbody tr th:only-of-type {\n",
       "        vertical-align: middle;\n",
       "    }\n",
       "\n",
       "    .dataframe tbody tr th {\n",
       "        vertical-align: top;\n",
       "    }\n",
       "\n",
       "    .dataframe thead th {\n",
       "        text-align: right;\n",
       "    }\n",
       "</style>\n",
       "<table border=\"1\" class=\"dataframe\">\n",
       "  <thead>\n",
       "    <tr style=\"text-align: right;\">\n",
       "      <th></th>\n",
       "      <th>reference_time</th>\n",
       "      <th>valid_time</th>\n",
       "      <th>point</th>\n",
       "      <th>RelativeHumidity</th>\n",
       "      <th>Temperature</th>\n",
       "      <th>TotalPrecipitation</th>\n",
       "      <th>WindDirection</th>\n",
       "      <th>WindSpeed</th>\n",
       "      <th>latitude</th>\n",
       "      <th>longitude</th>\n",
       "    </tr>\n",
       "  </thead>\n",
       "  <tbody>\n",
       "    <tr>\n",
       "      <th>0</th>\n",
       "      <td>2020-09-20 00:00:00</td>\n",
       "      <td>2020-09-20 00:00:00</td>\n",
       "      <td>0</td>\n",
       "      <td>74.300003</td>\n",
       "      <td>15.350006</td>\n",
       "      <td>0.0</td>\n",
       "      <td>38.035126</td>\n",
       "      <td>4.788564</td>\n",
       "      <td>51.479</td>\n",
       "      <td>-0.451</td>\n",
       "    </tr>\n",
       "    <tr>\n",
       "      <th>1</th>\n",
       "      <td>2020-09-20 00:00:00</td>\n",
       "      <td>2020-09-20 00:00:00</td>\n",
       "      <td>1</td>\n",
       "      <td>83.800003</td>\n",
       "      <td>12.750000</td>\n",
       "      <td>0.0</td>\n",
       "      <td>35.796936</td>\n",
       "      <td>5.266498</td>\n",
       "      <td>51.453</td>\n",
       "      <td>-2.600</td>\n",
       "    </tr>\n",
       "    <tr>\n",
       "      <th>2</th>\n",
       "      <td>2020-09-20 00:00:00</td>\n",
       "      <td>2020-09-20 00:00:00</td>\n",
       "      <td>2</td>\n",
       "      <td>88.599998</td>\n",
       "      <td>11.250000</td>\n",
       "      <td>0.0</td>\n",
       "      <td>40.649506</td>\n",
       "      <td>4.298924</td>\n",
       "      <td>52.449</td>\n",
       "      <td>-1.926</td>\n",
       "    </tr>\n",
       "    <tr>\n",
       "      <th>3</th>\n",
       "      <td>2020-09-20 00:00:00</td>\n",
       "      <td>2020-09-20 00:00:00</td>\n",
       "      <td>3</td>\n",
       "      <td>84.599998</td>\n",
       "      <td>10.350006</td>\n",
       "      <td>0.0</td>\n",
       "      <td>78.319733</td>\n",
       "      <td>1.144141</td>\n",
       "      <td>53.175</td>\n",
       "      <td>-2.986</td>\n",
       "    </tr>\n",
       "    <tr>\n",
       "      <th>4</th>\n",
       "      <td>2020-09-20 00:00:00</td>\n",
       "      <td>2020-09-20 00:00:00</td>\n",
       "      <td>4</td>\n",
       "      <td>87.000000</td>\n",
       "      <td>9.050018</td>\n",
       "      <td>0.0</td>\n",
       "      <td>65.584869</td>\n",
       "      <td>2.350657</td>\n",
       "      <td>55.860</td>\n",
       "      <td>-4.264</td>\n",
       "    </tr>\n",
       "  </tbody>\n",
       "</table>\n",
       "</div>"
      ],
      "text/plain": [
       "        reference_time           valid_time  point  RelativeHumidity  \\\n",
       "0  2020-09-20 00:00:00  2020-09-20 00:00:00      0         74.300003   \n",
       "1  2020-09-20 00:00:00  2020-09-20 00:00:00      1         83.800003   \n",
       "2  2020-09-20 00:00:00  2020-09-20 00:00:00      2         88.599998   \n",
       "3  2020-09-20 00:00:00  2020-09-20 00:00:00      3         84.599998   \n",
       "4  2020-09-20 00:00:00  2020-09-20 00:00:00      4         87.000000   \n",
       "\n",
       "   Temperature  TotalPrecipitation  WindDirection  WindSpeed  latitude  \\\n",
       "0    15.350006                 0.0      38.035126   4.788564    51.479   \n",
       "1    12.750000                 0.0      35.796936   5.266498    51.453   \n",
       "2    11.250000                 0.0      40.649506   4.298924    52.449   \n",
       "3    10.350006                 0.0      78.319733   1.144141    53.175   \n",
       "4     9.050018                 0.0      65.584869   2.350657    55.860   \n",
       "\n",
       "   longitude  \n",
       "0     -0.451  \n",
       "1     -2.600  \n",
       "2     -1.926  \n",
       "3     -2.986  \n",
       "4     -4.264  "
      ]
     },
     "execution_count": 36,
     "metadata": {},
     "output_type": "execute_result"
    }
   ],
   "source": [
    "ncep_demand_df.head()"
   ]
  },
  {
   "cell_type": "code",
   "execution_count": 58,
   "metadata": {},
   "outputs": [],
   "source": [
    "import folium\n",
    "\n",
    "map = ncep_demand_df.drop_duplicates([\"longitude\", \"latitude\"])[[\"longitude\", \"latitude\"]]\n",
    "\n",
    "m = folium.Map(location=[20, 0], zoom_start=2)\n",
    "\n",
    "# Füge Marker für jeden Punkt hinzu\n",
    "for idx, row in map.iterrows():\n",
    "    folium.Marker(\n",
    "        location=[row['latitude'], row['longitude']]\n",
    "    ).add_to(m)\n",
    "\n",
    "#m"
   ]
  },
  {
   "cell_type": "code",
   "execution_count": 37,
   "metadata": {},
   "outputs": [
    {
     "name": "stdout",
     "output_type": "stream",
     "text": [
      "4987\n",
      "3657\n",
      "5922\n",
      "5922\n",
      "5922\n",
      "1956\n",
      "2604\n",
      "2597\n",
      "2597\n",
      "2597\n",
      "2597\n",
      "76615\n"
     ]
    }
   ],
   "source": [
    "print(ncep_demand_df[\"RelativeHumidity\"].isna().sum())\n",
    "print(ncep_demand_df[\"Temperature\"].isna().sum())\n",
    "print(ncep_demand_df[\"WindDirection\"].isna().sum())\n",
    "print(ncep_demand_df[\"WindSpeed\"].isna().sum())\n",
    "print(ncep_demand_df[\"WindDirection\"].isna().sum())\n",
    "print(ncep_demand_df[\"TotalPrecipitation\"].isna().sum())\n",
    "\n",
    "\n",
    "print(dwd_demand_df[\"Temperature\"].isna().sum())\n",
    "print(dwd_demand_df[\"RelativeHumidity\"].isna().sum())\n",
    "print(dwd_demand_df[\"WindDirection\"].isna().sum())\n",
    "print(dwd_demand_df[\"WindSpeed\"].isna().sum())\n",
    "print(dwd_demand_df[\"WindDirection\"].isna().sum())\n",
    "print(dwd_demand_df[\"TotalPrecipitation\"].isna().sum())"
   ]
  },
  {
   "cell_type": "code",
   "execution_count": 38,
   "metadata": {},
   "outputs": [],
   "source": [
    "ncep_demand_df = ncep_demand_df.dropna(subset= [\"Temperature\", \"RelativeHumidity\", \"WindDirection\", \"WindSpeed\", \"TotalPrecipitation\"])\n",
    "dwd_demand_df = dwd_demand_df.dropna(subset= [\"Temperature\", \"RelativeHumidity\", \"WindSpeed\", \"WindDirection\", \"TotalPrecipitation\"])"
   ]
  },
  {
   "cell_type": "code",
   "execution_count": 39,
   "metadata": {},
   "outputs": [],
   "source": [
    "pivot_ncep_demand_df = ncep_demand_df.pivot_table(\n",
    "    index=[\"valid_time\", \"reference_time\"],\n",
    "    columns=\"point\",\n",
    "    values=[\"Temperature\", \"RelativeHumidity\", \"WindDirection\", \"WindSpeed\", \"TotalPrecipitation\"]\n",
    ")\n",
    "pivot_ncep_demand_df.columns = ['_Point'.join(map(str, col)).strip() for col in pivot_ncep_demand_df.columns.values]\n",
    "pivot_ncep_demand_df.reset_index(inplace=True)\n",
    "\n",
    "\n",
    "pivot_dwd_demand_df = dwd_demand_df.pivot_table(\n",
    "    index=[\"valid_time\", \"reference_time\"],\n",
    "    columns=\"point\",\n",
    "    values=[\"Temperature\", \"RelativeHumidity\", \"WindDirection\", \"WindSpeed\", \"TotalPrecipitation\"]\n",
    ")\n",
    "pivot_dwd_demand_df.columns = ['_Point'.join(map(str, col)).strip() for col in pivot_dwd_demand_df.columns.values]\n",
    "pivot_dwd_demand_df.reset_index(inplace=True)"
   ]
  },
  {
   "cell_type": "code",
   "execution_count": 40,
   "metadata": {},
   "outputs": [],
   "source": [
    "pivot_dwd_demand_df[\"reference_time\"] = pd.to_datetime(pivot_dwd_demand_df[\"reference_time\"], format=\"%Y-%m-%d %H:%M:%S\")\n",
    "pivot_dwd_demand_df[\"valid_time\"] = pd.to_datetime(pivot_dwd_demand_df[\"valid_time\"], format=\"%Y-%m-%d %H:%M:%S\")\n",
    "\n",
    "pivot_ncep_demand_df[\"reference_time\"] = pd.to_datetime(pivot_ncep_demand_df[\"reference_time\"], format=\"%Y-%m-%d %H:%M:%S\")\n",
    "pivot_ncep_demand_df[\"valid_time\"] = pd.to_datetime(pivot_ncep_demand_df[\"valid_time\"], format=\"%Y-%m-%d %H:%M:%S\")"
   ]
  },
  {
   "cell_type": "code",
   "execution_count": 41,
   "metadata": {},
   "outputs": [],
   "source": [
    "merged_demand_df = pivot_dwd_demand_df.merge(pivot_ncep_demand_df, on=[\"valid_time\", \"reference_time\"], suffixes=(\"_dwd\", \"_ncep\"), how=\"outer\")"
   ]
  },
  {
   "cell_type": "markdown",
   "metadata": {},
   "source": [
    "## Merger"
   ]
  },
  {
   "cell_type": "code",
   "execution_count": 42,
   "metadata": {},
   "outputs": [],
   "source": [
    "merged_weather_dwd_ncep_forecasts = merged_pes10_df.merge(merged_demand_df, on=[\"valid_time\", \"reference_time\"], how=\"outer\", suffixes=(\"_pes10\", \"_demand\"))\n",
    "merged_weather_dwd_ncep_forecasts = merged_weather_dwd_ncep_forecasts.merge(merged_h1_df, on=[\"valid_time\", \"reference_time\"], how=\"outer\")"
   ]
  },
  {
   "cell_type": "code",
   "execution_count": 43,
   "metadata": {},
   "outputs": [],
   "source": [
    "#merged_weather_dwd_ncep_forecasts_res = merged_weather_dwd_ncep_forecasts.set_index(\"valid_time\").groupby(\"reference_time\").resample(\"30min\").interpolate(\"linear\")"
   ]
  },
  {
   "cell_type": "code",
   "execution_count": 44,
   "metadata": {},
   "outputs": [],
   "source": [
    "#merged_weather_dwd_ncep_forecasts_res = merged_weather_dwd_ncep_forecasts_res.drop(columns= \"reference_time\",axis=1).reset_index()"
   ]
  },
  {
   "cell_type": "code",
   "execution_count": 45,
   "metadata": {},
   "outputs": [],
   "source": [
    "#merged_weather_dwd_ncep_forecasts_res[\"valid_time\"] = pd.to_datetime(merged_weather_dwd_ncep_forecasts_res[\"valid_time\"], format=\"%Y-%m-%d %H:%M:%S\", utc= True)"
   ]
  },
  {
   "cell_type": "code",
   "execution_count": 46,
   "metadata": {},
   "outputs": [],
   "source": [
    "import pickle \n",
    "\n",
    "#merged_weather_dwd_ncep_forecasts_res.to_pickle(\"merged_weather_dwd_ncep_forecasts_res_30min.pkl\")"
   ]
  },
  {
   "cell_type": "code",
   "execution_count": 47,
   "metadata": {},
   "outputs": [],
   "source": [
    "#merged_dataset = merged_weather_dwd_ncep_forecasts_res.merge(energy_data, how= \"inner\", left_on= \"valid_time\", right_on=\"dtm\")"
   ]
  },
  {
   "cell_type": "code",
   "execution_count": 48,
   "metadata": {},
   "outputs": [],
   "source": [
    "# import numpy as np\n",
    "\n",
    "# merged_dataset[\"valid_time\"] = pd.to_datetime(merged_dataset[\"valid_time\"], format= \"%Y-%m-%d %H:%M:%S\", utc=True)\n",
    "# merged_dataset[\"reference_time\"] = pd.to_datetime(merged_dataset[\"reference_time\"], format= \"%Y-%m-%d %H:%M:%S\", utc=True)\n",
    "\n",
    "# merged_dataset = merged_dataset[merged_dataset[\"valid_time\"] - merged_dataset[\"reference_time\"] < np.timedelta64(50, \"h\")]"
   ]
  },
  {
   "cell_type": "code",
   "execution_count": 49,
   "metadata": {},
   "outputs": [],
   "source": [
    "#merged_dataset.to_pickle(\"merged_dataset_prep_utc.pkl\")"
   ]
  },
  {
   "cell_type": "code",
   "execution_count": 50,
   "metadata": {},
   "outputs": [],
   "source": [
    "#merged_dataset.to_csv(\"merged_dataset_prep_utc.csv\")"
   ]
  }
 ],
 "metadata": {
  "kernelspec": {
   "display_name": "dp2venv",
   "language": "python",
   "name": "python3"
  },
  "language_info": {
   "codemirror_mode": {
    "name": "ipython",
    "version": 3
   },
   "file_extension": ".py",
   "mimetype": "text/x-python",
   "name": "python",
   "nbconvert_exporter": "python",
   "pygments_lexer": "ipython3",
   "version": "3.12.2"
  }
 },
 "nbformat": 4,
 "nbformat_minor": 2
}
