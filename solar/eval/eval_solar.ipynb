{
 "cells": [
  {
   "cell_type": "code",
   "execution_count": 2,
   "metadata": {
    "tags": [
     "parameters"
    ]
   },
   "outputs": [],
   "source": [
    "# Parameters\n",
    "BASE_PATH = \"base_path\"\n",
    "model_name = \"model_name\"\n",
    "iter = 1 "
   ]
  },
  {
   "cell_type": "code",
   "execution_count": 3,
   "metadata": {},
   "outputs": [],
   "source": [
    "import pandas as pd\n",
    "import joblib\n",
    "import glob\n",
    "import os \n",
    "import numpy as np\n",
    "import yaml\n",
    "import matplotlib.pyplot as plt\n",
    "from sklearn.model_selection import train_test_split\n",
    "from sklearn.metrics import mean_pinball_loss\n",
    "import plotly.graph_objects as go"
   ]
  },
  {
   "cell_type": "code",
   "execution_count": 4,
   "metadata": {},
   "outputs": [],
   "source": [
    "def create_pred(BASE_PATH, model_name, iter):\n",
    "    # Paths\n",
    "    TEST_DATA_PATH = os.path.join(BASE_PATH, \"solar/data/train_norm.csv\")\n",
    "    API_TEST_DATA_PATH = os.path.join(BASE_PATH, \"solar/data/test_norm.csv\")\n",
    "    MODEL_PATH = os.path.join(BASE_PATH, f\"solar/models/{model_name}/{iter}\")\n",
    "\n",
    "    # Load data\n",
    "    df_test = pd.read_csv(TEST_DATA_PATH)\n",
    "    df_api_test = pd.read_csv(API_TEST_DATA_PATH)\n",
    "\n",
    "    # Load configuration to check train_test_split settings\n",
    "    config_path = os.path.join(BASE_PATH, \"/Users/florian/Documents/github/DP2/Energy_production_price_prediction/solar/config/dataloader_config.yaml\") \n",
    "    with open(config_path, \"r\") as f:\n",
    "        config = yaml.safe_load(f)\n",
    "\n",
    "    train_test_split_enabled = config.get('train_test_split', {}).get('enabled', False)\n",
    "    ratio = config.get('train_test_split', {}).get('ratio', 0.2)\n",
    "    random_state = config.get('train_test_split', {}).get('random_state', 0)\n",
    "    shuffle = config.get('train_test_split', {}).get('shuffle', 0)\n",
    "    target = config.get('target_column')\n",
    "\n",
    "    # Split data only if enabled\n",
    "    if train_test_split_enabled:\n",
    "        X = df_test.drop(columns=[target])\n",
    "        y = df_test[target]\n",
    "\n",
    "        _, X_test, _, y_test = train_test_split(X, y, test_size=ratio, random_state= random_state, shuffle= shuffle)\n",
    "    else:\n",
    "        # Use all data if train_test_split is not enabled\n",
    "        X = df_test.drop(columns=[target])\n",
    "        y = df_test[target]\n",
    "        X_test, y_test = X, y  # Use the entire dataset as test data\n",
    "\n",
    "    X_test_api = df_api_test.drop(columns=[target])\n",
    "    y_test_api = df_api_test[target]\n",
    "\n",
    "    # Load models\n",
    "    model_paths = glob.glob(MODEL_PATH + f\"/{model_name}/models/i{iter}_models/*.pkl\")\n",
    "    models = {model_path: joblib.load(model_path) for model_path in model_paths}\n",
    "\n",
    "    # Predictions\n",
    "    test_predictions = {model_path: model.predict(X_test) for model_path, model in models.items()}\n",
    "    test_api_predictions = {model_path: model.predict(X_test_api) for model_path, model in models.items()}\n",
    "\n",
    "    # Alpha values\n",
    "    alpha_val = {\"q1\": 0.1, \"q2\": 0.2, \"q3\": 0.3, \"q4\": 0.4, \"q5\": 0.5, \"q6\": 0.6, \"q7\": 0.7, \"q8\": 0.8, \"q9\": 0.9}\n",
    "\n",
    "    # Mean pinball losses\n",
    "    test_mean_pinball_losses = {\n",
    "        model_path: mean_pinball_loss(y_test, test_predictions[model_path],\n",
    "                                      alpha=alpha_val[model_path.split(\"_\")[-1].split(\".\")[0]])\n",
    "        for model_path in model_paths\n",
    "    }\n",
    "\n",
    "    test_api_mean_pinball_losses = {\n",
    "        model_path: mean_pinball_loss(y_test_api, test_api_predictions[model_path],\n",
    "                                      alpha=alpha_val[model_path.split(\"_\")[-1].split(\".\")[0]])\n",
    "        for model_path in model_paths\n",
    "    }\n",
    "\n",
    "    # Plot results based on train_test_split enabled/disabled\n",
    "    if train_test_split_enabled:\n",
    "        plot_results(y_test, test_predictions, test_mean_pinball_losses, y_test_api, test_api_predictions, test_api_mean_pinball_losses, model_name, iter)\n",
    "    else:\n",
    "        # Only plot the API test results\n",
    "        plot_api_results(y_test_api, test_api_predictions, test_api_mean_pinball_losses, model_name, iter)\n",
    "\n",
    "    return y_test, test_predictions, test_mean_pinball_losses, y_test_api, test_api_predictions, test_api_mean_pinball_losses, model_paths\n",
    "\n",
    "def plot_results(y_test, test_predictions, test_mean_pinball_losses, y_test_api, test_api_predictions, test_api_mean_pinball_losses, model_name, iter):\n",
    "    # Plot for test api data\n",
    "    fig_test_api = go.Figure()\n",
    "    fig_test_api.add_trace(go.Scatter(y=y_test_api, name=\"True Test Api Values\", mode=\"lines\", line=dict(color=\"black\")))\n",
    "    for model_path, prediction in test_api_predictions.items():\n",
    "        fig_test_api.add_trace(go.Scatter(y=prediction, name=f\"Test Api Predictions {model_path.split('/')[-1]}, Loss: {test_api_mean_pinball_losses[model_path] * 2778.9489032132205}\", mode=\"lines\"))\n",
    "    fig_test_api.update_layout(title=f\"True Test Api Values vs Predictions of {model_name}, iteration {iter}\", xaxis_title=\"Time\", yaxis_title=\"Solar Production (MWh)\")\n",
    "    fig_test_api.show()\n",
    "\n",
    "    print(((sum([loss for loss in test_api_mean_pinball_losses.values()])/9)*2778.9489032132205).round(3))\n",
    "\n",
    "    # Plot for test data\n",
    "    fig_test = go.Figure()\n",
    "    fig_test.add_trace(go.Scatter(y=y_test, name=\"True Test Values\", mode=\"lines\", line=dict(color=\"black\")))\n",
    "    for model_path, prediction in test_predictions.items():\n",
    "        fig_test.add_trace(go.Scatter(y=prediction, name=f\"Test Predictions {model_path.split('/')[-1]}, Loss: {test_mean_pinball_losses[model_path] * 2281.8743117295026}\", mode=\"lines\"))\n",
    "    fig_test.update_layout(title=f\"True Test Values vs Predictions of {model_name}, iteration {iter}\", xaxis_title=\"Time\", yaxis_title=\"Solar Production (MWh)\")\n",
    "    fig_test.show()\n",
    "\n",
    "    print(((sum([loss for loss in test_mean_pinball_losses.values()])/9)*2281.8743117295026).round(3))\n",
    "\n",
    "def plot_api_results(y_test_api, test_api_predictions, test_api_mean_pinball_losses, model_name, iter):\n",
    "    # Plot for API test data only\n",
    "    fig_test_api = go.Figure()\n",
    "    fig_test_api.add_trace(go.Scatter(y=y_test_api, name=\"True Test Api Values\", mode=\"lines\", line=dict(color=\"black\")))\n",
    "    for model_path, prediction in test_api_predictions.items():\n",
    "        fig_test_api.add_trace(go.Scatter(y=prediction, name=f\"Test Api Predictions {model_path.split('/')[-1]}, Loss: {test_api_mean_pinball_losses[model_path] * 2778.9489032132205}\", mode=\"lines\"))\n",
    "    fig_test_api.update_layout(title=f\"True Test Api Values vs Predictions of {model_name}, iteration {iter}\", xaxis_title=\"Time\", yaxis_title=\"Solar Production (MWh)\")\n",
    "    fig_test_api.show()\n",
    "\n",
    "    print(((sum([loss for loss in test_api_mean_pinball_losses.values()])/9)*2778.9489032132205).round(3))"
   ]
  },
  {
   "cell_type": "code",
   "execution_count": 5,
   "metadata": {},
   "outputs": [
    {
     "ename": "FileNotFoundError",
     "evalue": "[Errno 2] No such file or directory: 'base_path/solar/data/train_norm.csv'",
     "output_type": "error",
     "traceback": [
      "\u001b[0;31m---------------------------------------------------------------------------\u001b[0m",
      "\u001b[0;31mFileNotFoundError\u001b[0m                         Traceback (most recent call last)",
      "Cell \u001b[0;32mIn[5], line 2\u001b[0m\n\u001b[1;32m      1\u001b[0m \u001b[38;5;66;03m# Load models and plot results\u001b[39;00m\n\u001b[0;32m----> 2\u001b[0m y_test, test_predictions, test_mean_pinball_losses, y_test_api, test_api_predictions, test_api_mean_pinball_losses, model_paths \u001b[38;5;241m=\u001b[39m \u001b[43mcreate_pred\u001b[49m\u001b[43m(\u001b[49m\u001b[43mBASE_PATH\u001b[49m\u001b[38;5;241;43m=\u001b[39;49m\u001b[43mBASE_PATH\u001b[49m\u001b[43m,\u001b[49m\u001b[43m \u001b[49m\u001b[43mmodel_name\u001b[49m\u001b[38;5;241;43m=\u001b[39;49m\u001b[43mmodel_name\u001b[49m\u001b[43m,\u001b[49m\u001b[43m \u001b[49m\u001b[38;5;28;43miter\u001b[39;49m\u001b[38;5;241;43m=\u001b[39;49m\u001b[38;5;28;43miter\u001b[39;49m\u001b[43m)\u001b[49m\n\u001b[1;32m      3\u001b[0m plot_results(y_test, test_predictions, test_mean_pinball_losses, y_test_api, test_api_predictions, test_api_mean_pinball_losses, model_name\u001b[38;5;241m=\u001b[39mmodel_name, \u001b[38;5;28miter\u001b[39m\u001b[38;5;241m=\u001b[39m\u001b[38;5;28miter\u001b[39m)\n",
      "Cell \u001b[0;32mIn[4], line 8\u001b[0m, in \u001b[0;36mcreate_pred\u001b[0;34m(BASE_PATH, model_name, iter)\u001b[0m\n\u001b[1;32m      5\u001b[0m MODEL_PATH \u001b[38;5;241m=\u001b[39m os\u001b[38;5;241m.\u001b[39mpath\u001b[38;5;241m.\u001b[39mjoin(BASE_PATH, \u001b[38;5;124mf\u001b[39m\u001b[38;5;124m\"\u001b[39m\u001b[38;5;124msolar/models/\u001b[39m\u001b[38;5;132;01m{\u001b[39;00mmodel_name\u001b[38;5;132;01m}\u001b[39;00m\u001b[38;5;124m/\u001b[39m\u001b[38;5;132;01m{\u001b[39;00m\u001b[38;5;28miter\u001b[39m\u001b[38;5;132;01m}\u001b[39;00m\u001b[38;5;124m\"\u001b[39m)\n\u001b[1;32m      7\u001b[0m \u001b[38;5;66;03m# Load data\u001b[39;00m\n\u001b[0;32m----> 8\u001b[0m df_test \u001b[38;5;241m=\u001b[39m \u001b[43mpd\u001b[49m\u001b[38;5;241;43m.\u001b[39;49m\u001b[43mread_csv\u001b[49m\u001b[43m(\u001b[49m\u001b[43mTEST_DATA_PATH\u001b[49m\u001b[43m)\u001b[49m\n\u001b[1;32m      9\u001b[0m df_api_test \u001b[38;5;241m=\u001b[39m pd\u001b[38;5;241m.\u001b[39mread_csv(API_TEST_DATA_PATH)\n\u001b[1;32m     11\u001b[0m \u001b[38;5;66;03m# Load configuration to check train_test_split settings\u001b[39;00m\n",
      "File \u001b[0;32m~/Documents/github/DP2/Energy_production_price_prediction/dp2venv/lib/python3.12/site-packages/pandas/io/parsers/readers.py:1026\u001b[0m, in \u001b[0;36mread_csv\u001b[0;34m(filepath_or_buffer, sep, delimiter, header, names, index_col, usecols, dtype, engine, converters, true_values, false_values, skipinitialspace, skiprows, skipfooter, nrows, na_values, keep_default_na, na_filter, verbose, skip_blank_lines, parse_dates, infer_datetime_format, keep_date_col, date_parser, date_format, dayfirst, cache_dates, iterator, chunksize, compression, thousands, decimal, lineterminator, quotechar, quoting, doublequote, escapechar, comment, encoding, encoding_errors, dialect, on_bad_lines, delim_whitespace, low_memory, memory_map, float_precision, storage_options, dtype_backend)\u001b[0m\n\u001b[1;32m   1013\u001b[0m kwds_defaults \u001b[38;5;241m=\u001b[39m _refine_defaults_read(\n\u001b[1;32m   1014\u001b[0m     dialect,\n\u001b[1;32m   1015\u001b[0m     delimiter,\n\u001b[0;32m   (...)\u001b[0m\n\u001b[1;32m   1022\u001b[0m     dtype_backend\u001b[38;5;241m=\u001b[39mdtype_backend,\n\u001b[1;32m   1023\u001b[0m )\n\u001b[1;32m   1024\u001b[0m kwds\u001b[38;5;241m.\u001b[39mupdate(kwds_defaults)\n\u001b[0;32m-> 1026\u001b[0m \u001b[38;5;28;01mreturn\u001b[39;00m \u001b[43m_read\u001b[49m\u001b[43m(\u001b[49m\u001b[43mfilepath_or_buffer\u001b[49m\u001b[43m,\u001b[49m\u001b[43m \u001b[49m\u001b[43mkwds\u001b[49m\u001b[43m)\u001b[49m\n",
      "File \u001b[0;32m~/Documents/github/DP2/Energy_production_price_prediction/dp2venv/lib/python3.12/site-packages/pandas/io/parsers/readers.py:620\u001b[0m, in \u001b[0;36m_read\u001b[0;34m(filepath_or_buffer, kwds)\u001b[0m\n\u001b[1;32m    617\u001b[0m _validate_names(kwds\u001b[38;5;241m.\u001b[39mget(\u001b[38;5;124m\"\u001b[39m\u001b[38;5;124mnames\u001b[39m\u001b[38;5;124m\"\u001b[39m, \u001b[38;5;28;01mNone\u001b[39;00m))\n\u001b[1;32m    619\u001b[0m \u001b[38;5;66;03m# Create the parser.\u001b[39;00m\n\u001b[0;32m--> 620\u001b[0m parser \u001b[38;5;241m=\u001b[39m \u001b[43mTextFileReader\u001b[49m\u001b[43m(\u001b[49m\u001b[43mfilepath_or_buffer\u001b[49m\u001b[43m,\u001b[49m\u001b[43m \u001b[49m\u001b[38;5;241;43m*\u001b[39;49m\u001b[38;5;241;43m*\u001b[39;49m\u001b[43mkwds\u001b[49m\u001b[43m)\u001b[49m\n\u001b[1;32m    622\u001b[0m \u001b[38;5;28;01mif\u001b[39;00m chunksize \u001b[38;5;129;01mor\u001b[39;00m iterator:\n\u001b[1;32m    623\u001b[0m     \u001b[38;5;28;01mreturn\u001b[39;00m parser\n",
      "File \u001b[0;32m~/Documents/github/DP2/Energy_production_price_prediction/dp2venv/lib/python3.12/site-packages/pandas/io/parsers/readers.py:1620\u001b[0m, in \u001b[0;36mTextFileReader.__init__\u001b[0;34m(self, f, engine, **kwds)\u001b[0m\n\u001b[1;32m   1617\u001b[0m     \u001b[38;5;28mself\u001b[39m\u001b[38;5;241m.\u001b[39moptions[\u001b[38;5;124m\"\u001b[39m\u001b[38;5;124mhas_index_names\u001b[39m\u001b[38;5;124m\"\u001b[39m] \u001b[38;5;241m=\u001b[39m kwds[\u001b[38;5;124m\"\u001b[39m\u001b[38;5;124mhas_index_names\u001b[39m\u001b[38;5;124m\"\u001b[39m]\n\u001b[1;32m   1619\u001b[0m \u001b[38;5;28mself\u001b[39m\u001b[38;5;241m.\u001b[39mhandles: IOHandles \u001b[38;5;241m|\u001b[39m \u001b[38;5;28;01mNone\u001b[39;00m \u001b[38;5;241m=\u001b[39m \u001b[38;5;28;01mNone\u001b[39;00m\n\u001b[0;32m-> 1620\u001b[0m \u001b[38;5;28mself\u001b[39m\u001b[38;5;241m.\u001b[39m_engine \u001b[38;5;241m=\u001b[39m \u001b[38;5;28;43mself\u001b[39;49m\u001b[38;5;241;43m.\u001b[39;49m\u001b[43m_make_engine\u001b[49m\u001b[43m(\u001b[49m\u001b[43mf\u001b[49m\u001b[43m,\u001b[49m\u001b[43m \u001b[49m\u001b[38;5;28;43mself\u001b[39;49m\u001b[38;5;241;43m.\u001b[39;49m\u001b[43mengine\u001b[49m\u001b[43m)\u001b[49m\n",
      "File \u001b[0;32m~/Documents/github/DP2/Energy_production_price_prediction/dp2venv/lib/python3.12/site-packages/pandas/io/parsers/readers.py:1880\u001b[0m, in \u001b[0;36mTextFileReader._make_engine\u001b[0;34m(self, f, engine)\u001b[0m\n\u001b[1;32m   1878\u001b[0m     \u001b[38;5;28;01mif\u001b[39;00m \u001b[38;5;124m\"\u001b[39m\u001b[38;5;124mb\u001b[39m\u001b[38;5;124m\"\u001b[39m \u001b[38;5;129;01mnot\u001b[39;00m \u001b[38;5;129;01min\u001b[39;00m mode:\n\u001b[1;32m   1879\u001b[0m         mode \u001b[38;5;241m+\u001b[39m\u001b[38;5;241m=\u001b[39m \u001b[38;5;124m\"\u001b[39m\u001b[38;5;124mb\u001b[39m\u001b[38;5;124m\"\u001b[39m\n\u001b[0;32m-> 1880\u001b[0m \u001b[38;5;28mself\u001b[39m\u001b[38;5;241m.\u001b[39mhandles \u001b[38;5;241m=\u001b[39m \u001b[43mget_handle\u001b[49m\u001b[43m(\u001b[49m\n\u001b[1;32m   1881\u001b[0m \u001b[43m    \u001b[49m\u001b[43mf\u001b[49m\u001b[43m,\u001b[49m\n\u001b[1;32m   1882\u001b[0m \u001b[43m    \u001b[49m\u001b[43mmode\u001b[49m\u001b[43m,\u001b[49m\n\u001b[1;32m   1883\u001b[0m \u001b[43m    \u001b[49m\u001b[43mencoding\u001b[49m\u001b[38;5;241;43m=\u001b[39;49m\u001b[38;5;28;43mself\u001b[39;49m\u001b[38;5;241;43m.\u001b[39;49m\u001b[43moptions\u001b[49m\u001b[38;5;241;43m.\u001b[39;49m\u001b[43mget\u001b[49m\u001b[43m(\u001b[49m\u001b[38;5;124;43m\"\u001b[39;49m\u001b[38;5;124;43mencoding\u001b[39;49m\u001b[38;5;124;43m\"\u001b[39;49m\u001b[43m,\u001b[49m\u001b[43m \u001b[49m\u001b[38;5;28;43;01mNone\u001b[39;49;00m\u001b[43m)\u001b[49m\u001b[43m,\u001b[49m\n\u001b[1;32m   1884\u001b[0m \u001b[43m    \u001b[49m\u001b[43mcompression\u001b[49m\u001b[38;5;241;43m=\u001b[39;49m\u001b[38;5;28;43mself\u001b[39;49m\u001b[38;5;241;43m.\u001b[39;49m\u001b[43moptions\u001b[49m\u001b[38;5;241;43m.\u001b[39;49m\u001b[43mget\u001b[49m\u001b[43m(\u001b[49m\u001b[38;5;124;43m\"\u001b[39;49m\u001b[38;5;124;43mcompression\u001b[39;49m\u001b[38;5;124;43m\"\u001b[39;49m\u001b[43m,\u001b[49m\u001b[43m \u001b[49m\u001b[38;5;28;43;01mNone\u001b[39;49;00m\u001b[43m)\u001b[49m\u001b[43m,\u001b[49m\n\u001b[1;32m   1885\u001b[0m \u001b[43m    \u001b[49m\u001b[43mmemory_map\u001b[49m\u001b[38;5;241;43m=\u001b[39;49m\u001b[38;5;28;43mself\u001b[39;49m\u001b[38;5;241;43m.\u001b[39;49m\u001b[43moptions\u001b[49m\u001b[38;5;241;43m.\u001b[39;49m\u001b[43mget\u001b[49m\u001b[43m(\u001b[49m\u001b[38;5;124;43m\"\u001b[39;49m\u001b[38;5;124;43mmemory_map\u001b[39;49m\u001b[38;5;124;43m\"\u001b[39;49m\u001b[43m,\u001b[49m\u001b[43m \u001b[49m\u001b[38;5;28;43;01mFalse\u001b[39;49;00m\u001b[43m)\u001b[49m\u001b[43m,\u001b[49m\n\u001b[1;32m   1886\u001b[0m \u001b[43m    \u001b[49m\u001b[43mis_text\u001b[49m\u001b[38;5;241;43m=\u001b[39;49m\u001b[43mis_text\u001b[49m\u001b[43m,\u001b[49m\n\u001b[1;32m   1887\u001b[0m \u001b[43m    \u001b[49m\u001b[43merrors\u001b[49m\u001b[38;5;241;43m=\u001b[39;49m\u001b[38;5;28;43mself\u001b[39;49m\u001b[38;5;241;43m.\u001b[39;49m\u001b[43moptions\u001b[49m\u001b[38;5;241;43m.\u001b[39;49m\u001b[43mget\u001b[49m\u001b[43m(\u001b[49m\u001b[38;5;124;43m\"\u001b[39;49m\u001b[38;5;124;43mencoding_errors\u001b[39;49m\u001b[38;5;124;43m\"\u001b[39;49m\u001b[43m,\u001b[49m\u001b[43m \u001b[49m\u001b[38;5;124;43m\"\u001b[39;49m\u001b[38;5;124;43mstrict\u001b[39;49m\u001b[38;5;124;43m\"\u001b[39;49m\u001b[43m)\u001b[49m\u001b[43m,\u001b[49m\n\u001b[1;32m   1888\u001b[0m \u001b[43m    \u001b[49m\u001b[43mstorage_options\u001b[49m\u001b[38;5;241;43m=\u001b[39;49m\u001b[38;5;28;43mself\u001b[39;49m\u001b[38;5;241;43m.\u001b[39;49m\u001b[43moptions\u001b[49m\u001b[38;5;241;43m.\u001b[39;49m\u001b[43mget\u001b[49m\u001b[43m(\u001b[49m\u001b[38;5;124;43m\"\u001b[39;49m\u001b[38;5;124;43mstorage_options\u001b[39;49m\u001b[38;5;124;43m\"\u001b[39;49m\u001b[43m,\u001b[49m\u001b[43m \u001b[49m\u001b[38;5;28;43;01mNone\u001b[39;49;00m\u001b[43m)\u001b[49m\u001b[43m,\u001b[49m\n\u001b[1;32m   1889\u001b[0m \u001b[43m\u001b[49m\u001b[43m)\u001b[49m\n\u001b[1;32m   1890\u001b[0m \u001b[38;5;28;01massert\u001b[39;00m \u001b[38;5;28mself\u001b[39m\u001b[38;5;241m.\u001b[39mhandles \u001b[38;5;129;01mis\u001b[39;00m \u001b[38;5;129;01mnot\u001b[39;00m \u001b[38;5;28;01mNone\u001b[39;00m\n\u001b[1;32m   1891\u001b[0m f \u001b[38;5;241m=\u001b[39m \u001b[38;5;28mself\u001b[39m\u001b[38;5;241m.\u001b[39mhandles\u001b[38;5;241m.\u001b[39mhandle\n",
      "File \u001b[0;32m~/Documents/github/DP2/Energy_production_price_prediction/dp2venv/lib/python3.12/site-packages/pandas/io/common.py:873\u001b[0m, in \u001b[0;36mget_handle\u001b[0;34m(path_or_buf, mode, encoding, compression, memory_map, is_text, errors, storage_options)\u001b[0m\n\u001b[1;32m    868\u001b[0m \u001b[38;5;28;01melif\u001b[39;00m \u001b[38;5;28misinstance\u001b[39m(handle, \u001b[38;5;28mstr\u001b[39m):\n\u001b[1;32m    869\u001b[0m     \u001b[38;5;66;03m# Check whether the filename is to be opened in binary mode.\u001b[39;00m\n\u001b[1;32m    870\u001b[0m     \u001b[38;5;66;03m# Binary mode does not support 'encoding' and 'newline'.\u001b[39;00m\n\u001b[1;32m    871\u001b[0m     \u001b[38;5;28;01mif\u001b[39;00m ioargs\u001b[38;5;241m.\u001b[39mencoding \u001b[38;5;129;01mand\u001b[39;00m \u001b[38;5;124m\"\u001b[39m\u001b[38;5;124mb\u001b[39m\u001b[38;5;124m\"\u001b[39m \u001b[38;5;129;01mnot\u001b[39;00m \u001b[38;5;129;01min\u001b[39;00m ioargs\u001b[38;5;241m.\u001b[39mmode:\n\u001b[1;32m    872\u001b[0m         \u001b[38;5;66;03m# Encoding\u001b[39;00m\n\u001b[0;32m--> 873\u001b[0m         handle \u001b[38;5;241m=\u001b[39m \u001b[38;5;28;43mopen\u001b[39;49m\u001b[43m(\u001b[49m\n\u001b[1;32m    874\u001b[0m \u001b[43m            \u001b[49m\u001b[43mhandle\u001b[49m\u001b[43m,\u001b[49m\n\u001b[1;32m    875\u001b[0m \u001b[43m            \u001b[49m\u001b[43mioargs\u001b[49m\u001b[38;5;241;43m.\u001b[39;49m\u001b[43mmode\u001b[49m\u001b[43m,\u001b[49m\n\u001b[1;32m    876\u001b[0m \u001b[43m            \u001b[49m\u001b[43mencoding\u001b[49m\u001b[38;5;241;43m=\u001b[39;49m\u001b[43mioargs\u001b[49m\u001b[38;5;241;43m.\u001b[39;49m\u001b[43mencoding\u001b[49m\u001b[43m,\u001b[49m\n\u001b[1;32m    877\u001b[0m \u001b[43m            \u001b[49m\u001b[43merrors\u001b[49m\u001b[38;5;241;43m=\u001b[39;49m\u001b[43merrors\u001b[49m\u001b[43m,\u001b[49m\n\u001b[1;32m    878\u001b[0m \u001b[43m            \u001b[49m\u001b[43mnewline\u001b[49m\u001b[38;5;241;43m=\u001b[39;49m\u001b[38;5;124;43m\"\u001b[39;49m\u001b[38;5;124;43m\"\u001b[39;49m\u001b[43m,\u001b[49m\n\u001b[1;32m    879\u001b[0m \u001b[43m        \u001b[49m\u001b[43m)\u001b[49m\n\u001b[1;32m    880\u001b[0m     \u001b[38;5;28;01melse\u001b[39;00m:\n\u001b[1;32m    881\u001b[0m         \u001b[38;5;66;03m# Binary mode\u001b[39;00m\n\u001b[1;32m    882\u001b[0m         handle \u001b[38;5;241m=\u001b[39m \u001b[38;5;28mopen\u001b[39m(handle, ioargs\u001b[38;5;241m.\u001b[39mmode)\n",
      "\u001b[0;31mFileNotFoundError\u001b[0m: [Errno 2] No such file or directory: 'base_path/solar/data/train_norm.csv'"
     ]
    }
   ],
   "source": [
    "# Load models and plot results\n",
    "y_test, test_predictions, test_mean_pinball_losses, y_test_api, test_api_predictions, test_api_mean_pinball_losses, model_paths = create_pred(BASE_PATH=BASE_PATH, model_name=model_name, iter=iter)\n",
    "plot_results(y_test, test_predictions, test_mean_pinball_losses, y_test_api, test_api_predictions, test_api_mean_pinball_losses, model_name=model_name, iter=iter)"
   ]
  },
  {
   "cell_type": "code",
   "execution_count": 51,
   "metadata": {},
   "outputs": [
    {
     "name": "stdout",
     "output_type": "stream",
     "text": [
      "Model at /Users/florian/Documents/github/DP2/Energy_production_price_prediction/Generation_forecast/Solar_forecast/models//hgbr_model/models/i5_models/hgbr_q7.pkl does not have feature_importances_ attribute\n",
      "Model at /Users/florian/Documents/github/DP2/Energy_production_price_prediction/Generation_forecast/Solar_forecast/models//hgbr_model/models/i5_models/hgbr_q6.pkl does not have feature_importances_ attribute\n",
      "Model at /Users/florian/Documents/github/DP2/Energy_production_price_prediction/Generation_forecast/Solar_forecast/models//hgbr_model/models/i5_models/hgbr_q4.pkl does not have feature_importances_ attribute\n",
      "Model at /Users/florian/Documents/github/DP2/Energy_production_price_prediction/Generation_forecast/Solar_forecast/models//hgbr_model/models/i5_models/hgbr_q5.pkl does not have feature_importances_ attribute\n",
      "Model at /Users/florian/Documents/github/DP2/Energy_production_price_prediction/Generation_forecast/Solar_forecast/models//hgbr_model/models/i5_models/hgbr_q1.pkl does not have feature_importances_ attribute\n",
      "Model at /Users/florian/Documents/github/DP2/Energy_production_price_prediction/Generation_forecast/Solar_forecast/models//hgbr_model/models/i5_models/hgbr_q2.pkl does not have feature_importances_ attribute\n",
      "Model at /Users/florian/Documents/github/DP2/Energy_production_price_prediction/Generation_forecast/Solar_forecast/models//hgbr_model/models/i5_models/hgbr_q3.pkl does not have feature_importances_ attribute\n",
      "Model at /Users/florian/Documents/github/DP2/Energy_production_price_prediction/Generation_forecast/Solar_forecast/models//hgbr_model/models/i5_models/hgbr_q8.pkl does not have feature_importances_ attribute\n",
      "Model at /Users/florian/Documents/github/DP2/Energy_production_price_prediction/Generation_forecast/Solar_forecast/models//hgbr_model/models/i5_models/hgbr_q9.pkl does not have feature_importances_ attribute\n",
      "No feature importances found for any model.\n"
     ]
    }
   ],
   "source": [
    "df = pd.read_csv(os.path.join(BASE_PATH, \"solar/data/test_norm.csv\"))\n",
    "feature_importances = []\n",
    "\n",
    "for model_path in model_paths:\n",
    "    model = joblib.load(model_path)\n",
    "    if hasattr(model, 'feature_importances_'):\n",
    "        feature_importances.append(model.feature_importances_)\n",
    "    else:\n",
    "        print(f\"Model at {model_path} does not have feature_importances_ attribute\")\n",
    "\n",
    "if feature_importances:\n",
    "    mean_feature_importances = np.mean(feature_importances, axis=0)\n",
    "    feature_names = df.drop(columns=[\"Target_Capacity_MWP_%\"]).columns  # Assuming the features are the columns of df except the target\n",
    "    feature_importance_df = pd.DataFrame({'Feature': feature_names, 'Importance': mean_feature_importances})\n",
    "    feature_importance_df = feature_importance_df.sort_values(by='Importance', ascending=False)\n",
    "    print(feature_importance_df)\n",
    "else:\n",
    "    print(\"No feature importances found for any model.\")\n"
   ]
  }
 ],
 "metadata": {
  "kernelspec": {
   "display_name": "dp2venv",
   "language": "python",
   "name": "python3"
  },
  "language_info": {
   "codemirror_mode": {
    "name": "ipython",
    "version": 3
   },
   "file_extension": ".py",
   "mimetype": "text/x-python",
   "name": "python",
   "nbconvert_exporter": "python",
   "pygments_lexer": "ipython3",
   "version": "3.12.2"
  }
 },
 "nbformat": 4,
 "nbformat_minor": 2
}
