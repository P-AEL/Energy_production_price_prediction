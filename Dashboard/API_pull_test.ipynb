{
 "cells": [
  {
   "cell_type": "code",
   "execution_count": 15,
   "metadata": {},
   "outputs": [],
   "source": [
    "from requests import Session\n",
    "import requests\n",
    "import pandas as pd\n",
    "import datetime\n",
    "import warnings\n",
    "import os\n",
    "import sys\n",
    "import os\n",
    "import comp_utils\n",
    "import json"
   ]
  },
  {
   "cell_type": "code",
   "execution_count": 16,
   "metadata": {},
   "outputs": [
    {
     "name": "stdout",
     "output_type": "stream",
     "text": [
      "['sub_20241003-102528.txt', 'sub_20241007-070704.txt', 'sub_20241007-081821.txt', 'sub_20241009-072128.txt', 'sub_20241010-062228.txt', 'sub_20241011-062231.txt', 'sub_20241012-063642.txt']\n"
     ]
    }
   ],
   "source": [
    "import os\n",
    "\n",
    "# Get the current working directory\n",
    "current_dir = os.getcwd()\n",
    "\n",
    "# Get the path to the 'logs' directory in the parent directory\n",
    "path = os.path.abspath(os.path.join(current_dir, '..', 'logs'))\n",
    "\n",
    "# List all files in the 'logs' directory\n",
    "files = os.listdir(path)\n",
    "\n",
    "# Filter the list to include only .txt files\n",
    "txt_files = [file for file in files if file.endswith('.txt')]\n",
    "\n",
    "# Optionally, print the list of .txt files\n",
    "print(txt_files)"
   ]
  },
  {
   "cell_type": "code",
   "execution_count": 17,
   "metadata": {},
   "outputs": [],
   "source": [
    "# read the txt files and store them in a list\n",
    "data = []\n",
    "for file in txt_files:\n",
    "    with open(os.path.join(path, file), 'r') as f:\n",
    "        try:\n",
    "            json_data = json.load(f)\n",
    "            data.append(json_data)\n",
    "        except json.JSONDecodeError:\n",
    "            print(f\"Failed to decode JSON from file: {file}\")"
   ]
  },
  {
   "cell_type": "code",
   "execution_count": 19,
   "metadata": {},
   "outputs": [
    {
     "data": {
      "text/plain": [
       "'2024-10-04'"
      ]
     },
     "execution_count": 19,
     "metadata": {},
     "output_type": "execute_result"
    }
   ],
   "source": [
    "data[0][\"prediction_date\"]"
   ]
  },
  {
   "cell_type": "code",
   "execution_count": 20,
   "metadata": {},
   "outputs": [],
   "source": [
    "date_name = []\n",
    "for i in range(len(data)):\n",
    "    date_name.append(data[i][\"prediction_date\"])"
   ]
  },
  {
   "cell_type": "code",
   "execution_count": 21,
   "metadata": {},
   "outputs": [
    {
     "data": {
      "text/plain": [
       "['2024-10-04',\n",
       " '2024-10-08',\n",
       " '2024-10-08',\n",
       " '2024-10-10',\n",
       " '2024-10-11',\n",
       " '2024-10-12',\n",
       " '2024-10-13']"
      ]
     },
     "execution_count": 21,
     "metadata": {},
     "output_type": "execute_result"
    }
   ],
   "source": [
    "date_name"
   ]
  },
  {
   "cell_type": "code",
   "execution_count": 33,
   "metadata": {},
   "outputs": [
    {
     "data": {
      "text/plain": [
       "'2024-10-07T22:00:00+00:00'"
      ]
     },
     "execution_count": 33,
     "metadata": {},
     "output_type": "execute_result"
    }
   ],
   "source": [
    "data[1][\"solution\"][\"submission\"][0][\"timestamp\"]"
   ]
  },
  {
   "cell_type": "code",
   "execution_count": 35,
   "metadata": {},
   "outputs": [],
   "source": [
    "submissions = []\n",
    "for i in range(len(data[1][\"solution\"][\"submission\"])):\n",
    "    submissions.append(data[1][\"solution\"][\"submission\"][i][\"timestamp\"])"
   ]
  },
  {
   "cell_type": "code",
   "execution_count": 36,
   "metadata": {},
   "outputs": [
    {
     "data": {
      "text/plain": [
       "['2024-10-07T22:00:00+00:00',\n",
       " '2024-10-07T22:30:00+00:00',\n",
       " '2024-10-07T23:00:00+00:00',\n",
       " '2024-10-07T23:30:00+00:00',\n",
       " '2024-10-08T00:00:00+00:00',\n",
       " '2024-10-08T00:30:00+00:00',\n",
       " '2024-10-08T01:00:00+00:00',\n",
       " '2024-10-08T01:30:00+00:00',\n",
       " '2024-10-08T02:00:00+00:00',\n",
       " '2024-10-08T02:30:00+00:00',\n",
       " '2024-10-08T03:00:00+00:00',\n",
       " '2024-10-08T03:30:00+00:00',\n",
       " '2024-10-08T04:00:00+00:00',\n",
       " '2024-10-08T04:30:00+00:00',\n",
       " '2024-10-08T05:00:00+00:00',\n",
       " '2024-10-08T05:30:00+00:00',\n",
       " '2024-10-08T06:00:00+00:00',\n",
       " '2024-10-08T06:30:00+00:00',\n",
       " '2024-10-08T07:00:00+00:00',\n",
       " '2024-10-08T07:30:00+00:00',\n",
       " '2024-10-08T08:00:00+00:00',\n",
       " '2024-10-08T08:30:00+00:00',\n",
       " '2024-10-08T09:00:00+00:00',\n",
       " '2024-10-08T09:30:00+00:00',\n",
       " '2024-10-08T10:00:00+00:00',\n",
       " '2024-10-08T10:30:00+00:00',\n",
       " '2024-10-08T11:00:00+00:00',\n",
       " '2024-10-08T11:30:00+00:00',\n",
       " '2024-10-08T12:00:00+00:00',\n",
       " '2024-10-08T12:30:00+00:00',\n",
       " '2024-10-08T13:00:00+00:00',\n",
       " '2024-10-08T13:30:00+00:00',\n",
       " '2024-10-08T14:00:00+00:00',\n",
       " '2024-10-08T14:30:00+00:00',\n",
       " '2024-10-08T15:00:00+00:00',\n",
       " '2024-10-08T15:30:00+00:00',\n",
       " '2024-10-08T16:00:00+00:00',\n",
       " '2024-10-08T16:30:00+00:00',\n",
       " '2024-10-08T17:00:00+00:00',\n",
       " '2024-10-08T17:30:00+00:00',\n",
       " '2024-10-08T18:00:00+00:00',\n",
       " '2024-10-08T18:30:00+00:00',\n",
       " '2024-10-08T19:00:00+00:00',\n",
       " '2024-10-08T19:30:00+00:00',\n",
       " '2024-10-08T20:00:00+00:00',\n",
       " '2024-10-08T20:30:00+00:00',\n",
       " '2024-10-08T21:00:00+00:00',\n",
       " '2024-10-08T21:30:00+00:00']"
      ]
     },
     "execution_count": 36,
     "metadata": {},
     "output_type": "execute_result"
    }
   ],
   "source": [
    "submissions"
   ]
  },
  {
   "cell_type": "code",
   "execution_count": 2,
   "metadata": {},
   "outputs": [],
   "source": [
    "api_key = open(\"team_key.txt\").read()\n",
    "api_key_stripped = api_key.strip()\n",
    "rebase_api_client = comp_utils.RebaseAPI(api_key=api_key_stripped)"
   ]
  },
  {
   "cell_type": "code",
   "execution_count": 3,
   "metadata": {},
   "outputs": [],
   "source": [
    "challenge_id = \"f4639a9b-afe5-4cf9-a42b-d596176143d5\"\n",
    "url = f\"https://api.rebase.energy/challenges/{challenge_id}/submissions\""
   ]
  },
  {
   "cell_type": "code",
   "execution_count": 4,
   "metadata": {},
   "outputs": [],
   "source": [
    "params = {\n",
    "    \"market_day\": \"2024-10-04\",  # Example date\n",
    "    \"submit_timestamp_start\": \"2024-10-04T00:00:00Z\",  # Example start datetime\n",
    "    \"submit_timestamp_end\": \"2024-10-04T23:59:59Z\",  # Example end datetime\n",
    "    \"page\": 1,\n",
    "    \"size\": 50\n",
    "}"
   ]
  },
  {
   "cell_type": "code",
   "execution_count": 5,
   "metadata": {},
   "outputs": [],
   "source": [
    "data = {\"items\": [{\"id\": \"f4639a9b-afe5-4cf9-a42b-d596176143d5\",\n",
    "                   \"submit_timestamp\": \"2024-10-03T08:25:29.401141\",\n",
    "                   \"solution\": \"file\"}],\n",
    "        \"total\": 0,\n",
    "        \"page\": 1,\n",
    "        \"size\": 50,\n",
    "        \"pages\": 0}"
   ]
  },
  {
   "cell_type": "code",
   "execution_count": 7,
   "metadata": {},
   "outputs": [
    {
     "name": "stdout",
     "output_type": "stream",
     "text": [
      "<Response [500]>\n",
      "Internal Server Error\n"
     ]
    },
    {
     "ename": "JSONDecodeError",
     "evalue": "Expecting value: line 1 column 1 (char 0)",
     "output_type": "error",
     "traceback": [
      "\u001b[1;31m---------------------------------------------------------------------------\u001b[0m",
      "\u001b[1;31mJSONDecodeError\u001b[0m                           Traceback (most recent call last)",
      "File \u001b[1;32mc:\\Users\\paulh\\anaconda3\\envs\\HEFTcom24\\Lib\\site-packages\\requests\\models.py:971\u001b[0m, in \u001b[0;36mResponse.json\u001b[1;34m(self, **kwargs)\u001b[0m\n\u001b[0;32m    970\u001b[0m \u001b[38;5;28;01mtry\u001b[39;00m:\n\u001b[1;32m--> 971\u001b[0m     \u001b[38;5;28;01mreturn\u001b[39;00m \u001b[43mcomplexjson\u001b[49m\u001b[38;5;241;43m.\u001b[39;49m\u001b[43mloads\u001b[49m\u001b[43m(\u001b[49m\u001b[38;5;28;43mself\u001b[39;49m\u001b[38;5;241;43m.\u001b[39;49m\u001b[43mtext\u001b[49m\u001b[43m,\u001b[49m\u001b[43m \u001b[49m\u001b[38;5;241;43m*\u001b[39;49m\u001b[38;5;241;43m*\u001b[39;49m\u001b[43mkwargs\u001b[49m\u001b[43m)\u001b[49m\n\u001b[0;32m    972\u001b[0m \u001b[38;5;28;01mexcept\u001b[39;00m JSONDecodeError \u001b[38;5;28;01mas\u001b[39;00m e:\n\u001b[0;32m    973\u001b[0m     \u001b[38;5;66;03m# Catch JSON-related errors and raise as requests.JSONDecodeError\u001b[39;00m\n\u001b[0;32m    974\u001b[0m     \u001b[38;5;66;03m# This aliases json.JSONDecodeError and simplejson.JSONDecodeError\u001b[39;00m\n",
      "File \u001b[1;32mc:\\Users\\paulh\\anaconda3\\envs\\HEFTcom24\\Lib\\json\\__init__.py:346\u001b[0m, in \u001b[0;36mloads\u001b[1;34m(s, cls, object_hook, parse_float, parse_int, parse_constant, object_pairs_hook, **kw)\u001b[0m\n\u001b[0;32m    343\u001b[0m \u001b[38;5;28;01mif\u001b[39;00m (\u001b[38;5;28mcls\u001b[39m \u001b[38;5;129;01mis\u001b[39;00m \u001b[38;5;28;01mNone\u001b[39;00m \u001b[38;5;129;01mand\u001b[39;00m object_hook \u001b[38;5;129;01mis\u001b[39;00m \u001b[38;5;28;01mNone\u001b[39;00m \u001b[38;5;129;01mand\u001b[39;00m\n\u001b[0;32m    344\u001b[0m         parse_int \u001b[38;5;129;01mis\u001b[39;00m \u001b[38;5;28;01mNone\u001b[39;00m \u001b[38;5;129;01mand\u001b[39;00m parse_float \u001b[38;5;129;01mis\u001b[39;00m \u001b[38;5;28;01mNone\u001b[39;00m \u001b[38;5;129;01mand\u001b[39;00m\n\u001b[0;32m    345\u001b[0m         parse_constant \u001b[38;5;129;01mis\u001b[39;00m \u001b[38;5;28;01mNone\u001b[39;00m \u001b[38;5;129;01mand\u001b[39;00m object_pairs_hook \u001b[38;5;129;01mis\u001b[39;00m \u001b[38;5;28;01mNone\u001b[39;00m \u001b[38;5;129;01mand\u001b[39;00m \u001b[38;5;129;01mnot\u001b[39;00m kw):\n\u001b[1;32m--> 346\u001b[0m     \u001b[38;5;28;01mreturn\u001b[39;00m \u001b[43m_default_decoder\u001b[49m\u001b[38;5;241;43m.\u001b[39;49m\u001b[43mdecode\u001b[49m\u001b[43m(\u001b[49m\u001b[43ms\u001b[49m\u001b[43m)\u001b[49m\n\u001b[0;32m    347\u001b[0m \u001b[38;5;28;01mif\u001b[39;00m \u001b[38;5;28mcls\u001b[39m \u001b[38;5;129;01mis\u001b[39;00m \u001b[38;5;28;01mNone\u001b[39;00m:\n",
      "File \u001b[1;32mc:\\Users\\paulh\\anaconda3\\envs\\HEFTcom24\\Lib\\json\\decoder.py:337\u001b[0m, in \u001b[0;36mJSONDecoder.decode\u001b[1;34m(self, s, _w)\u001b[0m\n\u001b[0;32m    333\u001b[0m \u001b[38;5;250m\u001b[39m\u001b[38;5;124;03m\"\"\"Return the Python representation of ``s`` (a ``str`` instance\u001b[39;00m\n\u001b[0;32m    334\u001b[0m \u001b[38;5;124;03mcontaining a JSON document).\u001b[39;00m\n\u001b[0;32m    335\u001b[0m \n\u001b[0;32m    336\u001b[0m \u001b[38;5;124;03m\"\"\"\u001b[39;00m\n\u001b[1;32m--> 337\u001b[0m obj, end \u001b[38;5;241m=\u001b[39m \u001b[38;5;28;43mself\u001b[39;49m\u001b[38;5;241;43m.\u001b[39;49m\u001b[43mraw_decode\u001b[49m\u001b[43m(\u001b[49m\u001b[43ms\u001b[49m\u001b[43m,\u001b[49m\u001b[43m \u001b[49m\u001b[43midx\u001b[49m\u001b[38;5;241;43m=\u001b[39;49m\u001b[43m_w\u001b[49m\u001b[43m(\u001b[49m\u001b[43ms\u001b[49m\u001b[43m,\u001b[49m\u001b[43m \u001b[49m\u001b[38;5;241;43m0\u001b[39;49m\u001b[43m)\u001b[49m\u001b[38;5;241;43m.\u001b[39;49m\u001b[43mend\u001b[49m\u001b[43m(\u001b[49m\u001b[43m)\u001b[49m\u001b[43m)\u001b[49m\n\u001b[0;32m    338\u001b[0m end \u001b[38;5;241m=\u001b[39m _w(s, end)\u001b[38;5;241m.\u001b[39mend()\n",
      "File \u001b[1;32mc:\\Users\\paulh\\anaconda3\\envs\\HEFTcom24\\Lib\\json\\decoder.py:355\u001b[0m, in \u001b[0;36mJSONDecoder.raw_decode\u001b[1;34m(self, s, idx)\u001b[0m\n\u001b[0;32m    354\u001b[0m \u001b[38;5;28;01mexcept\u001b[39;00m \u001b[38;5;167;01mStopIteration\u001b[39;00m \u001b[38;5;28;01mas\u001b[39;00m err:\n\u001b[1;32m--> 355\u001b[0m     \u001b[38;5;28;01mraise\u001b[39;00m JSONDecodeError(\u001b[38;5;124m\"\u001b[39m\u001b[38;5;124mExpecting value\u001b[39m\u001b[38;5;124m\"\u001b[39m, s, err\u001b[38;5;241m.\u001b[39mvalue) \u001b[38;5;28;01mfrom\u001b[39;00m \u001b[38;5;28;01mNone\u001b[39;00m\n\u001b[0;32m    356\u001b[0m \u001b[38;5;28;01mreturn\u001b[39;00m obj, end\n",
      "\u001b[1;31mJSONDecodeError\u001b[0m: Expecting value: line 1 column 1 (char 0)",
      "\nDuring handling of the above exception, another exception occurred:\n",
      "\u001b[1;31mJSONDecodeError\u001b[0m                           Traceback (most recent call last)",
      "Cell \u001b[1;32mIn[7], line 1\u001b[0m\n\u001b[1;32m----> 1\u001b[0m \u001b[43mrebase_api_client\u001b[49m\u001b[38;5;241;43m.\u001b[39;49m\u001b[43mget_submission_data\u001b[49m\u001b[43m(\u001b[49m\u001b[43mchallenge_id\u001b[49m\u001b[43m,\u001b[49m\u001b[43m \u001b[49m\u001b[43mdata\u001b[49m\u001b[43m)\u001b[49m\n",
      "File \u001b[1;32md:\\Users\\paulh\\Desktop\\Domäneprojekt2\\Energy_production_price_prediction\\Dashboard\\comp_utils.py:216\u001b[0m, in \u001b[0;36mRebaseAPI.get_submission_data\u001b[1;34m(self, id_submitted, data)\u001b[0m\n\u001b[0;32m    214\u001b[0m \u001b[38;5;28mprint\u001b[39m(resp)\n\u001b[0;32m    215\u001b[0m \u001b[38;5;28mprint\u001b[39m(resp\u001b[38;5;241m.\u001b[39mtext)\n\u001b[1;32m--> 216\u001b[0m \u001b[38;5;28;01mreturn\u001b[39;00m \u001b[43mresp\u001b[49m\u001b[38;5;241;43m.\u001b[39;49m\u001b[43mjson\u001b[49m\u001b[43m(\u001b[49m\u001b[43m)\u001b[49m\n",
      "File \u001b[1;32mc:\\Users\\paulh\\anaconda3\\envs\\HEFTcom24\\Lib\\site-packages\\requests\\models.py:975\u001b[0m, in \u001b[0;36mResponse.json\u001b[1;34m(self, **kwargs)\u001b[0m\n\u001b[0;32m    971\u001b[0m     \u001b[38;5;28;01mreturn\u001b[39;00m complexjson\u001b[38;5;241m.\u001b[39mloads(\u001b[38;5;28mself\u001b[39m\u001b[38;5;241m.\u001b[39mtext, \u001b[38;5;241m*\u001b[39m\u001b[38;5;241m*\u001b[39mkwargs)\n\u001b[0;32m    972\u001b[0m \u001b[38;5;28;01mexcept\u001b[39;00m JSONDecodeError \u001b[38;5;28;01mas\u001b[39;00m e:\n\u001b[0;32m    973\u001b[0m     \u001b[38;5;66;03m# Catch JSON-related errors and raise as requests.JSONDecodeError\u001b[39;00m\n\u001b[0;32m    974\u001b[0m     \u001b[38;5;66;03m# This aliases json.JSONDecodeError and simplejson.JSONDecodeError\u001b[39;00m\n\u001b[1;32m--> 975\u001b[0m     \u001b[38;5;28;01mraise\u001b[39;00m RequestsJSONDecodeError(e\u001b[38;5;241m.\u001b[39mmsg, e\u001b[38;5;241m.\u001b[39mdoc, e\u001b[38;5;241m.\u001b[39mpos)\n",
      "\u001b[1;31mJSONDecodeError\u001b[0m: Expecting value: line 1 column 1 (char 0)"
     ]
    }
   ],
   "source": [
    "rebase_api_client.get_submission_data(challenge_id, data)"
   ]
  }
 ],
 "metadata": {
  "kernelspec": {
   "display_name": "HEFTcom24",
   "language": "python",
   "name": "python3"
  },
  "language_info": {
   "codemirror_mode": {
    "name": "ipython",
    "version": 3
   },
   "file_extension": ".py",
   "mimetype": "text/x-python",
   "name": "python",
   "nbconvert_exporter": "python",
   "pygments_lexer": "ipython3",
   "version": "3.11.5"
  }
 },
 "nbformat": 4,
 "nbformat_minor": 2
}
